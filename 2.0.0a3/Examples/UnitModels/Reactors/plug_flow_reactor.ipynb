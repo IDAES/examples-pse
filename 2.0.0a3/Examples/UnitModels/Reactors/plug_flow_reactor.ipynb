{
 "cells": [
  {
   "cell_type": "markdown",
   "metadata": {},
   "source": [
    "\n",
    "# Flowsheet Plug Flow Reactor (PFR) Simulation and Optimization of Ethylene Glycol Production\n",
    "\n",
    "\n",
    "## Learning Outcomes\n",
    "\n",
    "\n",
    "- Call and implement the IDAES PFR unit model\n",
    "- Construct a steady-state flowsheet using the IDAES unit model library\n",
    "- Connecting unit models in a flowsheet using Arcs\n",
    "- Fomulate and solve an optimization problem\n",
    "    - Defining an objective function\n",
    "    - Setting variable bounds\n",
    "    - Adding additional constraints \n",
    "\n",
    "\n",
    "## Problem Statement\n",
    "\n",
    "Following the previous example implementing a [Continuous Stirred Tank Reactor (CSTR) unit model](http://localhost:8888/notebooks/GitHub/examples-pse/src/Examples/UnitModels/Reactors/cstr_testing.ipynb), we can alter the flowsheet to use a plug flow reactor (PFR). As before, this example is adapted from Fogler, H.S., Elements of Chemical Reaction Engineering 5th ed., 2016, Prentice Hall,  p. 157-160 with the following chemical reaction, property packages and flowsheet. Unlike a CSTR which assumes well-mixed liquid behavior, the concentration profiles will vary spatially in one dimension. In actuality, following start-up flow reactor exhibit dynamic behavior as they approach a steady-state equilibrium; we will assume our system has already achieved steady-state behavior. The state variables chosen for the property package are **molar flows of each component by phase in each stream, temperature of each stream and pressure of each stream**. The components considered are: **ethylene oxide, water, sulfuric acid and ethylene glycol** and the process occurs in liquid phase only. Therefore, every stream has 4 flow variables, 1 temperature and 1 pressure variable.\n",
    "\n",
    "Chemical reaction:\n",
    "\n",
    "**C<sub>2</sub>H<sub>4</sub>O</sub> + H<sub>2</sub>O</sub> + H<sub>2</sub>S</sub>O<sub>4</sub> → C<sub>2</sub>H<sub>6</sub>O<sub>2</sub> + H<sub>2</sub>S</sub>O<sub>4</sub>**\n",
    "\n",
    "Property Packages:\n",
    "\n",
    "- egprod_ideal.py\n",
    "- egprod_reaction.py\n",
    "\n",
    "Flowsheet:\n",
    "\n",
    "![](egprod_flowsheet.png)\n"
   ]
  },
  {
   "cell_type": "markdown",
   "metadata": {},
   "source": [
    "## Importing Required Pyomo and IDAES components\n",
    "\n",
    "\n",
    "To construct a flowsheet, we will need several components from the Pyomo and IDAES packages. Let us first import the following components from Pyomo:\n",
    "- Constraint (to write constraints)\n",
    "- Var (to declare variables)\n",
    "- ConcreteModel (to create the concrete model object)\n",
    "- Expression (to evaluate values as a function of variables defined in the model)\n",
    "- Objective (to define an objective function for optimization)\n",
    "- TransformationFactory (to apply certain transformations)\n",
    "- Arc (to connect two unit models)\n",
    "\n",
    "For further details on these components, please refer to the pyomo documentation: https://pyomo.readthedocs.io/en/latest/\n",
    "\n",
    "From idaes, we will be needing the `FlowsheetBlock` and the following unit models:\n",
    "- Mixer\n",
    "- Heater\n",
    "- PFR\n",
    "\n",
    "We will also be needing some utility tools to put together the flowsheet and calculate the degrees of freedom, tools for model expressions and calling variable values, and built-in functions to define property packages, add unit containers to objects and define our initialization scheme.\n"
   ]
  },
  {
   "cell_type": "code",
   "execution_count": 1,
   "metadata": {},
   "outputs": [],
   "source": [
    "from pyomo.environ import (Constraint,\n",
    "                           Var,\n",
    "                           ConcreteModel,\n",
    "                           Expression,\n",
    "                           Objective,\n",
    "                           TransformationFactory,\n",
    "                           value,\n",
    "                           units as pyunits)\n",
    "from pyomo.network import Arc\n",
    "\n",
    "from idaes.core import FlowsheetBlock\n",
    "from idaes.models.properties.modular_properties.base.generic_property import (\n",
    "        GenericParameterBlock)\n",
    "from idaes.models.properties.modular_properties.base.generic_reaction import (\n",
    "        GenericReactionParameterBlock)\n",
    "from idaes.models.unit_models import (Feed,\n",
    "                                      Mixer,\n",
    "                                      Heater,\n",
    "                                      PFR,\n",
    "                                      Product)\n",
    "\n",
    "from idaes.core.solvers import get_solver\n",
    "from idaes.core.util.model_statistics import degrees_of_freedom\n",
    "from idaes.core.util.initialization import propagate_state"
   ]
  },
  {
   "cell_type": "markdown",
   "metadata": {},
   "source": [
    "## Importing Required Thermophysical and Reaction Packages\n",
    "\n",
    "The final step is to import the thermophysical and reaction packages. We have created a custom thermophysical package that support ideal vapor and liquid behavior for this system, and in this case we will restrict it to ideal liquid behavior only.\n",
    "\n",
    "The reaction package here assumes Arrhenius kinetic behavior for the PFR, for which $k_0$ and $E_a$ are known *a priori* (if unknown, they may be obtained using one of the parameter estimation tools within IDAES).\n",
    "\n",
    "$ r = -kVC_{EO} $, $ k = k_0 e^{(-E_a/RT)}$, with the variables as follows:\n",
    "\n",
    "$r$ - reaction rate extent in moles of ethylene oxide consumed per second; note that the traditional reaction rate would be given by $rate = r/V$ in moles per $m^3$ per second  \n",
    "$k$ - reaction rate constant per second  \n",
    "$V$ - volume of PFR in $m^3$, note that this is *liquid volume* and not the *total volume* of the reactor itself  \n",
    "$C_{EO}$ - bulk concentration of ethylene oxide in moles per $m^3$ (the limiting reagent, since we assume excess catalyst and water)  \n",
    "$k_0$ - pre-exponential Arrhenius factor per second  \n",
    "$E_a$ - reaction activation energy in kJ per mole of ethylene oxide consumed  \n",
    "$R$ - gas constant in J/mol-K  \n",
    "$T$ - reactor temperature in K\n",
    "\n",
    "These calculations are contained within the property, reaction and unit model packages, and do not need to be entered into the flowsheet. More information on property estimation may be found in the IDAES documentation on [Parameter Estimation](https://idaes-pse.readthedocs.io/en/stable/how_to_guides/workflow/data_rec_parmest.html).\n",
    "\n",
    "Let us import the following modules from the same directory as this Jupyter notebook:\n",
    "- egprod_ideal as thermo_props\n",
    "- egprod_reaction as reaction_props"
   ]
  },
  {
   "cell_type": "code",
   "execution_count": 2,
   "metadata": {},
   "outputs": [],
   "source": [
    "import egprod_ideal as thermo_props\n",
    "import egprod_reaction as reaction_props"
   ]
  },
  {
   "cell_type": "markdown",
   "metadata": {},
   "source": [
    "## Constructing the Flowsheet\n",
    "\n",
    "We have now imported all the components, unit models, and property modules we need to construct a flowsheet. Let us create a ConcreteModel and add the flowsheet block. "
   ]
  },
  {
   "cell_type": "code",
   "execution_count": 3,
   "metadata": {},
   "outputs": [],
   "source": [
    "m = ConcreteModel()\n",
    "m.fs = FlowsheetBlock(default={\"dynamic\": False})"
   ]
  },
  {
   "cell_type": "markdown",
   "metadata": {},
   "source": [
    "We now need to add the property packages to the flowsheet. Unlike the basic [Flash unit model example](http://localhost:8888/notebooks/GitHub/examples-pse/src/Tutorials/Basics/flash_unit_solution_testing.ipynb), where we only had a thermophysical property package, for this flowsheet we will also need to add a reaction property package. We will use the [Modular Property Framework](https://idaes-pse.readthedocs.io/en/stable/explanations/components/property_package/index.html#generic-property-package-framework) and [Modular Reaction Framework](https://idaes-pse.readthedocs.io/en/stable/explanations/components/property_package/index.html#generic-reaction-package-framework). The get_prop method for the natural gas property module automatically returns the correct dictionary using a component list argument. The GenericParameterBlock and GenericReactionParameterBlock methods build states blocks from passed parameter data; the reaction block unpacks using **reaction_props.config_dict to allow for optional or empty keyword arguments:"
   ]
  },
  {
   "cell_type": "code",
   "execution_count": 4,
   "metadata": {
    "scrolled": true
   },
   "outputs": [],
   "source": [
    "m.fs.thermo_params = GenericParameterBlock(default=thermo_props.config_dict)\n",
    "m.fs.reaction_params = GenericReactionParameterBlock(default={\"property_package\": m.fs.thermo_params,\n",
    "                                                              **reaction_props.config_dict})"
   ]
  },
  {
   "cell_type": "markdown",
   "metadata": {},
   "source": [
    "## Adding Unit Models\n",
    "\n",
    "Let us start adding the unit models we have imported to the flowsheet. Here, we are adding a `Mixer`, a `Heater` and a `PFR`. Note that all unit models need to be given a property package argument. In addition to that, there are several arguments depending on the unit model, please refer to the documentation for more details on [IDAES Unit Models](https://idaes-pse.readthedocs.io/en/stable/reference_guides/model_libraries/index.html). For example, the `Mixer` is given a `list` consisting of names to the two inlets."
   ]
  },
  {
   "cell_type": "code",
   "execution_count": 5,
   "metadata": {
    "scrolled": true
   },
   "outputs": [],
   "source": [
    "m.fs.OXIDE = Feed(default={\"property_package\": m.fs.thermo_params})\n",
    "m.fs.ACID = Feed(default={\"property_package\": m.fs.thermo_params})\n",
    "m.fs.PROD = Product(default={\"property_package\": m.fs.thermo_params})\n",
    "m.fs.M101 = Mixer(default={\"property_package\": m.fs.thermo_params,\n",
    "                           \"inlet_list\": [\"reagent_feed\", \"catalyst_feed\"]})\n",
    "m.fs.H101 = Heater(default={\"property_package\": m.fs.thermo_params,\n",
    "                            \"has_pressure_change\": False,\n",
    "                            \"has_phase_equilibrium\": False})"
   ]
  },
  {
   "cell_type": "code",
   "execution_count": 6,
   "metadata": {
    "scrolled": false
   },
   "outputs": [],
   "source": [
    "m.fs.R101 = PFR(\n",
    "            default={\"property_package\": m.fs.thermo_params,\n",
    "                     \"reaction_package\": m.fs.reaction_params,\n",
    "                     \"has_equilibrium_reactions\": False,\n",
    "                     \"has_heat_of_reaction\": True,\n",
    "                     \"has_heat_transfer\": True,\n",
    "                     \"has_pressure_change\": False,\n",
    "                     \"transformation_method\": \"dae.finite_difference\",\n",
    "                     \"transformation_scheme\": \"BACKWARD\",\n",
    "                     \"finite_elements\": 20})"
   ]
  },
  {
   "cell_type": "markdown",
   "metadata": {},
   "source": [
    "## Connecting Unit Models Using Arcs\n",
    "\n",
    "We have now added all the unit models we need to the flowsheet. However, we have not yet specifed how the units are to be connected. To do this, we will be using the `Arc` which is a pyomo component that takes in two arguments: `source` and `destination`. Let us connect the outlet of the `Mixer` to the inlet of the `Heater`, and the outlet of the `Heater` to the inlet of the `PFR`. Additionally, we will connect the `Feed` and `Product` blocks to the flowsheet:"
   ]
  },
  {
   "cell_type": "code",
   "execution_count": 7,
   "metadata": {},
   "outputs": [],
   "source": [
    "m.fs.s01 = Arc(source=m.fs.OXIDE.outlet, destination=m.fs.M101.reagent_feed)\n",
    "m.fs.s02 = Arc(source=m.fs.ACID.outlet, destination=m.fs.M101.catalyst_feed)\n",
    "m.fs.s03 = Arc(source=m.fs.M101.outlet, destination=m.fs.H101.inlet)\n",
    "m.fs.s04 = Arc(source=m.fs.H101.outlet, destination=m.fs.R101.inlet)\n",
    "m.fs.s05 = Arc(source=m.fs.R101.outlet, destination=m.fs.PROD.inlet)"
   ]
  },
  {
   "cell_type": "markdown",
   "metadata": {},
   "source": [
    "We have now connected the unit model block using the arcs. However, we also need to link the state variables on connected ports. Pyomo provides a convenient method `TransformationFactory` to write these equality constraints for us between two ports:"
   ]
  },
  {
   "cell_type": "code",
   "execution_count": 8,
   "metadata": {},
   "outputs": [],
   "source": [
    "TransformationFactory(\"network.expand_arcs\").apply_to(m)"
   ]
  },
  {
   "cell_type": "markdown",
   "metadata": {},
   "source": [
    "## Adding Expressions to Compute Operating Costs\n",
    "\n",
    "In this section, we will add a few Expressions that allows us to evaluate the performance. `Expressions` provide a convenient way of calculating certain values that are a function of the variables defined in the model. For more details on `Expressions`, please refer to the [Pyomo Expression documentaiton]( https://pyomo.readthedocs.io/en/latest/pyomo_modeling_components/Expressions.html).\n",
    "\n",
    "For this flowsheet, we are interested in computing ethylene glycol production in millions of pounds per year, as well as the total costs due to cooling and heating utilities."
   ]
  },
  {
   "cell_type": "markdown",
   "metadata": {},
   "source": [
    "Let us first add an `Expression` to convert the product flow from mol/s to MM lb/year of ethylene glycol. We see that the molecular weight exists in the thermophysical property package, so we may use that value for our calculations."
   ]
  },
  {
   "cell_type": "code",
   "execution_count": 9,
   "metadata": {},
   "outputs": [],
   "source": [
    "m.fs.eg_prod = Expression(expr=pyunits.convert(m.fs.PROD.inlet.flow_mol_phase_comp[0, \"Liq\", \"ethylene_glycol\"]\n",
    "                                               *m.fs.thermo_params.ethylene_glycol.mw, # MW defined in properties as kg/mol\n",
    "                                               to_units=pyunits.Mlb/pyunits.yr)) # converting kg/s to MM lb/year"
   ]
  },
  {
   "cell_type": "markdown",
   "metadata": {},
   "source": [
    "Now, let us add expressions to compute the reactor cooling cost (\\\\$/s) assuming a cost of 2.12E-5 \\\\$/kW, and the heating utility cost (\\\\$/s) assuming 2.2E-4 \\\\$/kW. Note that the heat duty is in units of watt (J/s). The total operating cost will be the sum of the two, expressed in \\\\$/year assuming 8000 operating hours per year (~10\\% downtime, which is fairly common for small scale chemical plants):"
   ]
  },
  {
   "cell_type": "code",
   "execution_count": 10,
   "metadata": {
    "scrolled": true
   },
   "outputs": [],
   "source": [
    "m.fs.cooling_cost = Expression(expr=2.12e-8 * (-sum(m.fs.R101.heat_duty[0, x]\n",
    "                                                     for x in m.fs.R101.control_volume.length_domain)))  # the reaction is exothermic, so R101 duty is negative\n",
    "m.fs.heating_cost = Expression(expr=2.2e-7 * m.fs.H101.heat_duty[0])  # the stream must be heated to T_rxn, so H101 duty is positive\n",
    "m.fs.operating_cost = Expression(expr=(3600 * 8000 *(m.fs.heating_cost + m.fs.cooling_cost)))"
   ]
  },
  {
   "cell_type": "markdown",
   "metadata": {},
   "source": [
    "## Fixing Feed Conditions\n",
    "\n",
    "Let us first check how many degrees of freedom exist for this flowsheet using the `degrees_of_freedom` tool we imported earlier. We expect each stream to have 6 degrees of freedom, the mixer to have 0 (after both streams are accounted for), the heater to have 1 (just the duty, since the inlet is also the outlet of M101), and the reactor to have 2 unit specifications and 1 specification for each finite element. Therefore, we have 35 degrees of freedom to specify: temperature, pressure and flow of all four components on both streams; outlet heater temperature; a reactor property such as conversion or heat duty at each finite element; reactor volume and reactor length."
   ]
  },
  {
   "cell_type": "code",
   "execution_count": 11,
   "metadata": {
    "scrolled": true
   },
   "outputs": [
    {
     "name": "stdout",
     "output_type": "stream",
     "text": [
      "35\n"
     ]
    }
   ],
   "source": [
    "print(degrees_of_freedom(m))"
   ]
  },
  {
   "cell_type": "markdown",
   "metadata": {},
   "source": [
    "We will now be fixing the feed stream to the conditions shown in the flowsheet above. As mentioned in other tutorials, the IDAES framework expects a time index value for every referenced internal stream or unit variable, even in steady-state systems with a single time point $ t = 0 $ (`t = [0]` is the default when creating a `FlowsheetBlock` without passing a `time_set` argument). The non-present components in each stream are assigned a very small non-zero value to help with convergence and initializing. Based on stoichiometric ratios for the reaction, 80% conversion and 200 MM lb/year (46.4 mol/s) of ethylene glycol, we will initialize our simulation with the following calculated values:"
   ]
  },
  {
   "cell_type": "code",
   "execution_count": 13,
   "metadata": {},
   "outputs": [],
   "source": [
    "m.fs.OXIDE.outlet.flow_mol_phase_comp[0, \"Liq\", \"ethylene_oxide\"].fix(58.0*pyunits.mol/pyunits.s)\n",
    "m.fs.OXIDE.outlet.flow_mol_phase_comp[0, \"Liq\", \"water\"].fix(39.6*pyunits.mol/pyunits.s)  # calculated from 16.1 mol EO / cudm in stream\n",
    "m.fs.OXIDE.outlet.flow_mol_phase_comp[0, \"Liq\", \"sulfuric_acid\"].fix(1e-5*pyunits.mol/pyunits.s)\n",
    "m.fs.OXIDE.outlet.flow_mol_phase_comp[0, \"Liq\", \"ethylene_glycol\"].fix(1e-5*pyunits.mol/pyunits.s)\n",
    "m.fs.OXIDE.outlet.temperature.fix(298.15*pyunits.K)\n",
    "m.fs.OXIDE.outlet.pressure.fix(1e5*pyunits.Pa)\n",
    "\n",
    "m.fs.ACID.outlet.flow_mol_phase_comp[0, \"Liq\", \"ethylene_oxide\"].fix(1e-5*pyunits.mol/pyunits.s)\n",
    "m.fs.ACID.outlet.flow_mol_phase_comp[0, \"Liq\", \"water\"].fix(200*pyunits.mol/pyunits.s)\n",
    "m.fs.ACID.outlet.flow_mol_phase_comp[0, \"Liq\", \"sulfuric_acid\"].fix(0.334*pyunits.mol/pyunits.s)  # calculated from 0.9 wt% SA in stream\n",
    "m.fs.ACID.outlet.flow_mol_phase_comp[0, \"Liq\", \"ethylene_glycol\"].fix(1e-5*pyunits.mol/pyunits.s)\n",
    "m.fs.ACID.outlet.temperature.fix(298.15*pyunits.K)\n",
    "m.fs.ACID.outlet.pressure.fix(1e5*pyunits.Pa)"
   ]
  },
  {
   "cell_type": "markdown",
   "metadata": {},
   "source": [
    "## Fixing Unit Model Specifications\n",
    "\n",
    "Now that we have fixed our inlet feed conditions, we will now be fixing the operating conditions for the unit models in the flowsheet. Let us fix the outlet temperature of H101 to 328.15 K. "
   ]
  },
  {
   "cell_type": "code",
   "execution_count": 14,
   "metadata": {},
   "outputs": [],
   "source": [
    "m.fs.H101.outlet.temperature.fix(328.15*pyunits.K)"
   ]
  },
  {
   "cell_type": "markdown",
   "metadata": {},
   "source": [
    "For the `PFR`, we have to define the conversion in terms of ethylene oxide. Note that the `PFR` reaction volume variable (m.fs.R101.volume) does not need to be defined here since it is internally defined by the `PFR` model. We'll estimate 50% conversion for our initial flowsheet:"
   ]
  },
  {
   "cell_type": "code",
   "execution_count": 15,
   "metadata": {
    "scrolled": false
   },
   "outputs": [],
   "source": [
    "m.fs.R101.conversion = Var(bounds=(0,1), initialize=0.80, units=pyunits.dimensionless)  # fraction\n",
    "\n",
    "m.fs.R101.conv_constraint = Constraint(\n",
    "    expr=m.fs.R101.conversion*m.fs.R101.inlet.\n",
    "    flow_mol_phase_comp[0, \"Liq\", \"ethylene_oxide\"] ==\n",
    "    (m.fs.R101.inlet.flow_mol_phase_comp[0, \"Liq\", \"ethylene_oxide\"] -\n",
    "     m.fs.R101.outlet.flow_mol_phase_comp[0, \"Liq\", \"ethylene_oxide\"]))\n",
    "\n",
    "for x in m.fs.R101.control_volume.length_domain:\n",
    "    if x == 0:\n",
    "        continue\n",
    "    m.fs.R101.control_volume.properties[0, x].temperature.fix(328.15*pyunits.K) # equal inlet reactor temperature\n",
    "\n",
    "m.fs.R101.conversion.fix(0.5)\n",
    "\n",
    "m.fs.R101.length.fix(1*pyunits.m)"
   ]
  },
  {
   "cell_type": "markdown",
   "metadata": {},
   "source": [
    "As we did not place a specification on reactor duty, the solver may try positive values to increase the reaction temperature and rate. To prevent the optimization from diverging, we need to set an upper bound restricting heat flow to cooling only:"
   ]
  },
  {
   "cell_type": "code",
   "execution_count": 16,
   "metadata": {},
   "outputs": [],
   "source": [
    "m.fs.R101.heat_duty.setub(0*pyunits.J/pyunits.s)  # heat duty is only used for cooling"
   ]
  },
  {
   "cell_type": "markdown",
   "metadata": {},
   "source": [
    "For initialization, we solve a square problem (degrees of freedom = 0). Let's check the degrees of freedom below:"
   ]
  },
  {
   "cell_type": "code",
   "execution_count": 17,
   "metadata": {},
   "outputs": [
    {
     "name": "stdout",
     "output_type": "stream",
     "text": [
      "0\n"
     ]
    }
   ],
   "source": [
    "print(degrees_of_freedom(m))"
   ]
  },
  {
   "cell_type": "markdown",
   "metadata": {},
   "source": [
    "Finally, we need to initialize the each unit operation in sequence to solve the flowsheet. As in best practice, unit operations are initialized or solved, and outlet properties are propagated to connected inlet streams via arc definitions as follows:"
   ]
  },
  {
   "cell_type": "code",
   "execution_count": 19,
   "metadata": {},
   "outputs": [
    {
     "name": "stdout",
     "output_type": "stream",
     "text": [
      "2022-08-01 13:39:13 [INFO] idaes.init.fs.OXIDE.properties: Starting initialization\n",
      "2022-08-01 13:39:13 [INFO] idaes.init.fs.OXIDE.properties: Property initialization: optimal - Optimal Solution Found.\n",
      "2022-08-01 13:39:13 [INFO] idaes.init.fs.OXIDE.properties: Property package initialization: optimal - Optimal Solution Found.\n",
      "2022-08-01 13:39:13 [INFO] idaes.init.fs.OXIDE: Initialization Complete.\n",
      "2022-08-01 13:39:13 [INFO] idaes.init.fs.ACID.properties: Starting initialization\n",
      "2022-08-01 13:39:13 [INFO] idaes.init.fs.ACID.properties: Property initialization: optimal - Optimal Solution Found.\n",
      "2022-08-01 13:39:13 [INFO] idaes.init.fs.ACID.properties: Property package initialization: optimal - Optimal Solution Found.\n",
      "2022-08-01 13:39:13 [INFO] idaes.init.fs.ACID: Initialization Complete.\n",
      "2022-08-01 13:39:13 [INFO] idaes.init.fs.M101.reagent_feed_state: Starting initialization\n",
      "2022-08-01 13:39:13 [INFO] idaes.init.fs.M101.reagent_feed_state: Property initialization: optimal - Optimal Solution Found.\n",
      "2022-08-01 13:39:13 [INFO] idaes.init.fs.M101.catalyst_feed_state: Starting initialization\n",
      "2022-08-01 13:39:13 [INFO] idaes.init.fs.M101.catalyst_feed_state: Property initialization: optimal - Optimal Solution Found.\n",
      "2022-08-01 13:39:13 [INFO] idaes.init.fs.M101.mixed_state: Starting initialization\n",
      "2022-08-01 13:39:14 [INFO] idaes.init.fs.M101.mixed_state: Property initialization: optimal - Optimal Solution Found.\n",
      "2022-08-01 13:39:14 [INFO] idaes.init.fs.M101.mixed_state: Property package initialization: optimal - Optimal Solution Found.\n",
      "2022-08-01 13:39:14 [INFO] idaes.init.fs.M101: Initialization Complete: optimal - Optimal Solution Found\n",
      "2022-08-01 13:39:14 [INFO] idaes.init.fs.H101.control_volume.properties_in: Starting initialization\n",
      "2022-08-01 13:39:14 [INFO] idaes.init.fs.H101.control_volume.properties_in: Property initialization: optimal - Optimal Solution Found.\n",
      "2022-08-01 13:39:14 [INFO] idaes.init.fs.H101.control_volume.properties_out: Starting initialization\n",
      "2022-08-01 13:39:14 [INFO] idaes.init.fs.H101.control_volume.properties_out: Property initialization: optimal - Optimal Solution Found.\n",
      "2022-08-01 13:39:14 [INFO] idaes.init.fs.H101.control_volume: Initialization Complete\n",
      "2022-08-01 13:39:14 [INFO] idaes.init.fs.H101: Initialization Complete: optimal - Optimal Solution Found\n",
      "2022-08-01 13:39:14 [INFO] idaes.init.fs.R101.control_volume.properties: Starting initialization\n",
      "2022-08-01 13:39:15 [INFO] idaes.init.fs.R101.control_volume.properties: Property initialization: optimal - Optimal Solution Found.\n",
      "2022-08-01 13:39:15 [INFO] idaes.init.fs.R101.control_volume.reactions: Initialization Complete.\n",
      "2022-08-01 13:39:15 [INFO] idaes.init.fs.R101.control_volume: Initialization Complete\n",
      "2022-08-01 13:39:15 [INFO] idaes.init.fs.R101: Initialization Complete: optimal - Optimal Solution Found\n",
      "2022-08-01 13:39:15 [INFO] idaes.init.fs.PROD.properties: Starting initialization\n",
      "2022-08-01 13:39:15 [INFO] idaes.init.fs.PROD.properties: Property initialization: optimal - Optimal Solution Found.\n",
      "2022-08-01 13:39:15 [INFO] idaes.init.fs.PROD.properties: Property package initialization: optimal - Optimal Solution Found.\n",
      "2022-08-01 13:39:15 [INFO] idaes.init.fs.PROD: Initialization Complete.\n"
     ]
    }
   ],
   "source": [
    "# Initialize and solve each unit operation\n",
    "m.fs.OXIDE.initialize()\n",
    "propagate_state(arc=m.fs.s01)\n",
    "\n",
    "m.fs.ACID.initialize()\n",
    "propagate_state(arc=m.fs.s01)\n",
    "\n",
    "m.fs.M101.initialize()\n",
    "propagate_state(arc=m.fs.s03)\n",
    "\n",
    "m.fs.H101.initialize()\n",
    "propagate_state(arc=m.fs.s04)\n",
    "\n",
    "m.fs.R101.initialize()\n",
    "propagate_state(arc=m.fs.s05)\n",
    "\n",
    "m.fs.PROD.initialize()\n",
    "\n",
    "# set solver\n",
    "solver = get_solver()"
   ]
  },
  {
   "cell_type": "code",
   "execution_count": 20,
   "metadata": {
    "scrolled": true
   },
   "outputs": [
    {
     "name": "stdout",
     "output_type": "stream",
     "text": [
      "Ipopt 3.13.2: nlp_scaling_method=gradient-based\n",
      "tol=1e-06\n",
      "\n",
      "\n",
      "******************************************************************************\n",
      "This program contains Ipopt, a library for large-scale nonlinear optimization.\n",
      " Ipopt is released as open source code under the Eclipse Public License (EPL).\n",
      "         For more information visit http://projects.coin-or.org/Ipopt\n",
      "\n",
      "This version of Ipopt was compiled from source code available at\n",
      "    https://github.com/IDAES/Ipopt as part of the Institute for the Design of\n",
      "    Advanced Energy Systems Process Systems Engineering Framework (IDAES PSE\n",
      "    Framework) Copyright (c) 2018-2019. See https://github.com/IDAES/idaes-pse.\n",
      "\n",
      "This version of Ipopt was compiled using HSL, a collection of Fortran codes\n",
      "    for large-scale scientific computation.  All technical papers, sales and\n",
      "    publicity material resulting from use of the HSL codes within IPOPT must\n",
      "    contain the following acknowledgement:\n",
      "        HSL, a collection of Fortran codes for large-scale scientific\n",
      "        computation. See http://www.hsl.rl.ac.uk.\n",
      "******************************************************************************\n",
      "\n",
      "This is Ipopt version 3.13.2, running with linear solver ma27.\n",
      "\n",
      "Number of nonzeros in equality constraint Jacobian...:     1923\n",
      "Number of nonzeros in inequality constraint Jacobian.:        0\n",
      "Number of nonzeros in Lagrangian Hessian.............:     1038\n",
      "\n",
      "Total number of variables............................:      608\n",
      "                     variables with only lower bounds:        0\n",
      "                variables with lower and upper bounds:      257\n",
      "                     variables with only upper bounds:       20\n",
      "Total number of equality constraints.................:      608\n",
      "Total number of inequality constraints...............:        0\n",
      "        inequality constraints with only lower bounds:        0\n",
      "   inequality constraints with lower and upper bounds:        0\n",
      "        inequality constraints with only upper bounds:        0\n",
      "\n",
      "iter    objective    inf_pr   inf_du lg(mu)  ||d||  lg(rg) alpha_du alpha_pr  ls\n",
      "   0  0.0000000e+00 1.30e+06 1.00e+00  -1.0 0.00e+00    -  0.00e+00 0.00e+00   0\n",
      "   1  0.0000000e+00 1.67e+07 5.52e+03  -1.0 1.17e+08    -  2.85e-01 9.90e-01f  1\n",
      "   2  0.0000000e+00 2.61e+05 6.25e+03  -1.0 1.17e+06    -  8.25e-01 9.90e-01h  1\n",
      "   3  0.0000000e+00 2.59e+03 3.50e+01  -1.0 1.17e+04    -  9.90e-01 9.90e-01h  1\n",
      "   4  0.0000000e+00 1.97e+01 3.22e+03  -1.0 1.15e+02    -  9.90e-01 9.92e-01h  1\n",
      "   5  0.0000000e+00 4.15e-07 4.81e+03  -1.0 8.77e-01    -  9.91e-01 1.00e+00h  1\n",
      "Cannot recompute multipliers for feasibility problem.  Error in eq_mult_calculator\n",
      "\n",
      "Number of Iterations....: 5\n",
      "\n",
      "                                   (scaled)                 (unscaled)\n",
      "Objective...............:   0.0000000000000000e+00    0.0000000000000000e+00\n",
      "Dual infeasibility......:   1.6686898115290366e+06    1.6686898115290366e+06\n",
      "Constraint violation....:   4.1467137634754181e-07    4.1467137634754181e-07\n",
      "Complementarity.........:   0.0000000000000000e+00    0.0000000000000000e+00\n",
      "Overall NLP error.......:   4.1467137634754181e-07    1.6686898115290366e+06\n",
      "\n",
      "\n",
      "Number of objective function evaluations             = 6\n",
      "Number of objective gradient evaluations             = 6\n",
      "Number of equality constraint evaluations            = 6\n",
      "Number of inequality constraint evaluations          = 0\n",
      "Number of equality constraint Jacobian evaluations   = 6\n",
      "Number of inequality constraint Jacobian evaluations = 0\n",
      "Number of Lagrangian Hessian evaluations             = 5\n",
      "Total CPU secs in IPOPT (w/o function evaluations)   =      0.015\n",
      "Total CPU secs in NLP function evaluations           =      0.004\n",
      "\n",
      "EXIT: Optimal Solution Found.\n"
     ]
    }
   ],
   "source": [
    "# Solve the model\n",
    "results = solver.solve(m, tee=True)"
   ]
  },
  {
   "cell_type": "markdown",
   "metadata": {},
   "source": [
    "## Analyze the Results of the Square Problem\n",
    "\n",
    "\n",
    "What is the total operating cost? "
   ]
  },
  {
   "cell_type": "code",
   "execution_count": 22,
   "metadata": {},
   "outputs": [
    {
     "name": "stdout",
     "output_type": "stream",
     "text": [
      "operating cost = $43.176 million per year\n"
     ]
    }
   ],
   "source": [
    "print(f\"operating cost = ${value(m.fs.operating_cost)/1e6:0.3f} million per year\")"
   ]
  },
  {
   "cell_type": "markdown",
   "metadata": {},
   "source": [
    "For this operating cost, what conversion did we achieve of ethylene oxide to ethylene glycol? "
   ]
  },
  {
   "cell_type": "code",
   "execution_count": 24,
   "metadata": {},
   "outputs": [
    {
     "name": "stdout",
     "output_type": "stream",
     "text": [
      "\n",
      "====================================================================================\n",
      "Unit : fs.R101                                                             Time: 0.0\n",
      "------------------------------------------------------------------------------------\n",
      "    Unit Performance\n",
      "\n",
      "    Variables: \n",
      "\n",
      "    Key  : Value  : Units      : Fixed : Bounds\n",
      "    Area : 1.1490 : meter ** 2 : False : (None, None)\n",
      "\n",
      "------------------------------------------------------------------------------------\n",
      "    Stream Table\n",
      "                                                  Units         Inlet     Outlet  \n",
      "    Molar Flowrate ('Liq', 'ethylene_oxide')   mole / second     58.000     29.000\n",
      "    Molar Flowrate ('Liq', 'water')            mole / second     239.60     210.60\n",
      "    Molar Flowrate ('Liq', 'sulfuric_acid')    mole / second    0.33401    0.33401\n",
      "    Molar Flowrate ('Liq', 'ethylene_glycol')  mole / second 2.0000e-05     29.000\n",
      "    Temperature                                       kelvin     328.15     328.15\n",
      "    Pressure                                          pascal 1.0000e+05 1.0000e+05\n",
      "====================================================================================\n",
      "\n",
      "Conversion achieved = 50.0%\n",
      "\n",
      "Total heat duty required = -70.708 MJ\n",
      "\n",
      "Tube area required = 1.149 m^2\n",
      "\n",
      "Tube length required = 1.000 m\n",
      "\n",
      "Tube volume required = 1.149 m^3\n"
     ]
    }
   ],
   "source": [
    "m.fs.R101.report()\n",
    "\n",
    "print()\n",
    "print(f\"Conversion achieved = {value(m.fs.R101.conversion):.1%}\")\n",
    "print()\n",
    "print(f\"Total heat duty required = \"\n",
    "      f\"{value(sum(m.fs.R101.heat_duty[0, x] for x in m.fs.R101.control_volume.length_domain))/1e6:0.3f}\"\n",
    "      f\" MJ\")\n",
    "print()\n",
    "print(f\"Tube area required = {value(m.fs.R101.area):0.3f} m^2\")\n",
    "print()\n",
    "print(f\"Tube length required = {value(m.fs.R101.length):0.3f} m\")\n",
    "print()\n",
    "print(f\"Tube volume required = {value(m.fs.R101.volume):0.3f} m^3\")"
   ]
  },
  {
   "cell_type": "markdown",
   "metadata": {},
   "source": [
    "## Optimizing Ethylene Glycol Production\n",
    "\n",
    "Now that the flowsheet has been squared and solved, we can run a small optimization problem to minimize our production costs. Suppose we require at least 200 million pounds/year of ethylene glycol produced and 90% conversion of ethylene oxide, allowing for variable reactor volume (considering operating/non-capital costs only) and reactor temperature (heater outlet)."
   ]
  },
  {
   "cell_type": "markdown",
   "metadata": {},
   "source": [
    "Let us declare our objective function for this problem. "
   ]
  },
  {
   "cell_type": "code",
   "execution_count": 26,
   "metadata": {},
   "outputs": [],
   "source": [
    "m.fs.objective = Objective(expr=m.fs.operating_cost)"
   ]
  },
  {
   "cell_type": "markdown",
   "metadata": {},
   "source": [
    "Now, we need to add the design constraints and unfix the decision variables as we had solved a square problem (degrees of freedom = 0) until now, as well as set bounds for the design variables:"
   ]
  },
  {
   "cell_type": "code",
   "execution_count": 27,
   "metadata": {},
   "outputs": [],
   "source": [
    "m.fs.eg_prod_con = Constraint(expr=m.fs.eg_prod >= 200*pyunits.Mlb/pyunits.yr)  # MM lb/year\n",
    "m.fs.R101.conversion.fix(0.90)\n",
    "\n",
    "m.fs.R101.volume.setlb(0*pyunits.m**3)\n",
    "m.fs.R101.volume.setub(pyunits.convert(5000*pyunits.gal, to_units=pyunits.m**3))\n",
    "\n",
    "m.fs.R101.length.unfix()\n",
    "m.fs.R101.length.setlb(0*pyunits.m)\n",
    "m.fs.R101.length.setub(5*pyunits.m)\n",
    "\n",
    "m.fs.H101.outlet.temperature.unfix()\n",
    "m.fs.H101.outlet.temperature[0].setlb(328.15*pyunits.K)\n",
    "m.fs.H101.outlet.temperature[0].setub(470.45*pyunits.K)  # highest component boiling point (ethylene glycol)\n",
    "\n",
    "for x in m.fs.R101.control_volume.length_domain:\n",
    "    if x == 0:\n",
    "        continue\n",
    "    m.fs.R101.control_volume.properties[0, x].temperature.unfix()  # allow for temperature change in each finite element"
   ]
  },
  {
   "cell_type": "markdown",
   "metadata": {},
   "source": [
    "\n",
    "We have now defined the optimization problem and we are now ready to solve this problem. \n",
    "\n",
    "\n"
   ]
  },
  {
   "cell_type": "code",
   "execution_count": 29,
   "metadata": {
    "scrolled": true
   },
   "outputs": [
    {
     "name": "stdout",
     "output_type": "stream",
     "text": [
      "Ipopt 3.13.2: nlp_scaling_method=gradient-based\n",
      "tol=1e-06\n",
      "\n",
      "\n",
      "******************************************************************************\n",
      "This program contains Ipopt, a library for large-scale nonlinear optimization.\n",
      " Ipopt is released as open source code under the Eclipse Public License (EPL).\n",
      "         For more information visit http://projects.coin-or.org/Ipopt\n",
      "\n",
      "This version of Ipopt was compiled from source code available at\n",
      "    https://github.com/IDAES/Ipopt as part of the Institute for the Design of\n",
      "    Advanced Energy Systems Process Systems Engineering Framework (IDAES PSE\n",
      "    Framework) Copyright (c) 2018-2019. See https://github.com/IDAES/idaes-pse.\n",
      "\n",
      "This version of Ipopt was compiled using HSL, a collection of Fortran codes\n",
      "    for large-scale scientific computation.  All technical papers, sales and\n",
      "    publicity material resulting from use of the HSL codes within IPOPT must\n",
      "    contain the following acknowledgement:\n",
      "        HSL, a collection of Fortran codes for large-scale scientific\n",
      "        computation. See http://www.hsl.rl.ac.uk.\n",
      "******************************************************************************\n",
      "\n",
      "This is Ipopt version 3.13.2, running with linear solver ma27.\n",
      "\n",
      "Number of nonzeros in equality constraint Jacobian...:     2067\n",
      "Number of nonzeros in inequality constraint Jacobian.:        1\n",
      "Number of nonzeros in Lagrangian Hessian.............:     1389\n",
      "\n",
      "Total number of variables............................:      631\n",
      "                     variables with only lower bounds:        0\n",
      "                variables with lower and upper bounds:      280\n",
      "                     variables with only upper bounds:       21\n",
      "Total number of equality constraints.................:      608\n",
      "Total number of inequality constraints...............:        1\n",
      "        inequality constraints with only lower bounds:        1\n",
      "   inequality constraints with lower and upper bounds:        0\n",
      "        inequality constraints with only upper bounds:        0\n",
      "\n",
      "iter    objective    inf_pr   inf_du lg(mu)  ||d||  lg(rg) alpha_du alpha_pr  ls\n",
      "   0  4.3175798e+07 3.66e+06 6.34e+00  -1.0 0.00e+00    -  0.00e+00 0.00e+00   0\n",
      "   1  4.2997780e+07 3.63e+06 1.06e+01  -1.0 2.73e+06    -  7.82e-02 6.75e-03f  1\n",
      "   2  4.0730124e+07 3.33e+06 1.75e+01  -1.0 2.81e+06    -  1.39e-01 8.38e-02f  1\n",
      "   3  1.3966480e+07 2.54e+06 6.09e+01  -1.0 2.80e+06    -  4.51e-01 9.90e-01f  1\n",
      "   4  8.8581953e+06 2.10e+06 4.03e+02  -1.0 1.13e+06    -  8.37e-01 4.68e-01f  1\n",
      "   5  8.8351099e+06 2.09e+06 1.49e+03  -1.0 8.78e+05    -  5.28e-01 2.73e-03f  1\n",
      "   6  8.8353948e+06 2.09e+06 2.15e+04  -1.0 6.67e+05    -  9.32e-03 1.07e-04h  1\n",
      "   7  8.8810310e+06 2.08e+06 2.06e+04  -1.0 1.38e+06    -  6.96e-03 7.17e-03h  1\n",
      "   8  8.9281010e+06 2.06e+06 3.67e+04  -1.0 1.12e+06    -  1.28e-02 7.38e-03h  1\n",
      "   9  8.9376715e+06 2.06e+06 1.58e+06  -1.0 6.87e+05    -  5.10e-01 1.45e-03h  1\n",
      "iter    objective    inf_pr   inf_du lg(mu)  ||d||  lg(rg) alpha_du alpha_pr  ls\n",
      "  10  1.4123876e+07 4.44e+05 9.53e+06  -1.0 6.95e+05    -  1.76e-01 7.84e-01h  1\n",
      "  11  1.4231371e+07 4.11e+05 8.84e+06  -1.0 4.86e+05    -  8.93e-01 7.55e-02h  1\n",
      "  12  1.5542747e+07 5.73e+03 2.72e+06  -1.0 2.39e+06    -  1.86e-01 9.96e-01h  1\n",
      "  13  1.5546208e+07 1.34e+03 1.34e+06  -1.0 8.40e+05    -  8.89e-01 8.63e-01h  1\n",
      "  14  1.5545842e+07 2.74e+03 6.38e+05  -1.0 2.16e+06    -  7.32e-01 8.70e-01f  1\n",
      "  15  1.5545565e+07 2.08e+03 5.06e+05  -1.0 8.20e+02  -4.0 9.91e-01 2.40e-01f  1\n",
      "  16  1.5544345e+07 8.68e+00 2.21e+05  -1.0 8.77e+02  -4.5 1.00e+00 1.00e+00f  1\n",
      "  17  1.5542854e+07 6.76e+00 8.02e+04  -1.0 1.12e+03  -5.0 1.00e+00 1.00e+00f  1\n",
      "  18  1.5541120e+07 9.10e+00 1.75e+04  -1.0 1.33e+03  -5.4 1.00e+00 1.00e+00f  1\n",
      "  19  1.5539121e+07 1.23e+01 1.10e+04  -1.0 1.73e+03  -5.9 1.00e+00 1.00e+00f  1\n",
      "iter    objective    inf_pr   inf_du lg(mu)  ||d||  lg(rg) alpha_du alpha_pr  ls\n",
      "  20  1.5538942e+07 1.14e+01 1.03e+04  -1.0 4.96e+03  -6.4 1.00e+00 8.43e-02f  1\n",
      "  21  1.5538940e+07 1.14e+01 1.03e+04  -1.0 6.09e+03  -6.9 3.12e-01 8.54e-04f  1\n",
      "  22  1.5538939e+07 1.12e+01 9.65e+03  -1.0 1.47e+06  -7.3 1.30e-04 1.47e-02f  1\n",
      "  23  1.5538912e+07 2.70e+04 2.38e+04  -1.0 3.55e+06    -  1.02e-02 1.00e+00f  1\n",
      "  24  1.5538912e+07 7.20e+00 2.33e+02  -1.0 4.70e+03  -7.8 9.67e-01 1.00e+00h  1\n",
      "  25  1.5538912e+07 5.09e+03 8.82e+03  -1.0 4.75e+06    -  5.06e-02 4.04e-01h  1\n",
      "  26  1.5538912e+07 8.70e+04 7.18e+03  -1.0 5.74e+07    -  4.25e-02 1.89e-01h  2\n",
      "  27  1.5538912e+07 3.58e+05 4.06e+03  -1.0 4.79e+07    -  3.66e-01 4.46e-01h  1\n",
      "  28  1.5538912e+07 4.24e+05 3.72e+02  -1.0 2.23e+07    -  1.00e+00 1.00e+00h  1\n",
      "  29  1.5538912e+07 2.04e+05 8.46e+01  -1.0 1.87e+07    -  5.16e-01 1.00e+00f  1\n",
      "iter    objective    inf_pr   inf_du lg(mu)  ||d||  lg(rg) alpha_du alpha_pr  ls\n",
      "  30  1.5538912e+07 1.59e+05 3.47e+01  -1.0 1.59e+07    -  9.86e-01 1.00e+00h  1\n",
      "  31  1.5538912e+07 1.24e+05 2.08e+01  -1.0 9.46e+06    -  2.25e-01 2.38e-01H  1\n",
      "  32  1.5538912e+07 5.12e+04 8.85e+00  -1.0 8.55e+06    -  1.00e+00 1.00e+00f  1\n",
      "  33  1.5538912e+07 6.37e+03 2.36e+00  -1.0 2.94e+06    -  1.00e+00 1.00e+00h  1\n",
      "  34  1.5538912e+07 1.11e+03 4.70e-01  -1.0 1.25e+06    -  1.00e+00 1.00e+00h  1\n",
      "  35  1.5538912e+07 3.25e+00 3.62e-02  -1.7 6.61e+04    -  1.00e+00 1.00e+00h  1\n",
      "  36  1.5538912e+07 6.41e-03 5.57e-04  -3.8 3.02e+03    -  1.00e+00 1.00e+00h  1\n",
      "  37  1.5538912e+07 3.68e-05 2.04e-07  -7.0 2.29e+02    -  1.00e+00 1.00e+00h  1\n",
      "\n",
      "Number of Iterations....: 37\n",
      "\n",
      "                                   (scaled)                 (unscaled)\n",
      "Objective...............:   1.5538911764822502e+07    1.5538911764822502e+07\n",
      "Dual infeasibility......:   2.0445413228403764e-07    2.0445413228403764e-07\n",
      "Constraint violation....:   4.5960769057273865e-07    3.6820769309997559e-05\n",
      "Complementarity.........:   9.6557127578038318e-08    9.6557127578038318e-08\n",
      "Overall NLP error.......:   4.5960769057273865e-07    3.6820769309997559e-05\n",
      "\n",
      "\n",
      "Number of objective function evaluations             = 40\n",
      "Number of objective gradient evaluations             = 38\n",
      "Number of equality constraint evaluations            = 40\n",
      "Number of inequality constraint evaluations          = 40\n",
      "Number of equality constraint Jacobian evaluations   = 38\n",
      "Number of inequality constraint Jacobian evaluations = 38\n",
      "Number of Lagrangian Hessian evaluations             = 37\n",
      "Total CPU secs in IPOPT (w/o function evaluations)   =      0.147\n",
      "Total CPU secs in NLP function evaluations           =      0.034\n",
      "\n",
      "EXIT: Optimal Solution Found.\n"
     ]
    }
   ],
   "source": [
    "results = solver.solve(m, tee=True)"
   ]
  },
  {
   "cell_type": "code",
   "execution_count": 31,
   "metadata": {},
   "outputs": [
    {
     "name": "stdout",
     "output_type": "stream",
     "text": [
      "operating cost = $15.539 million per year\n",
      "\n",
      "Heater results\n",
      "\n",
      "====================================================================================\n",
      "Unit : fs.H101                                                             Time: 0.0\n",
      "------------------------------------------------------------------------------------\n",
      "    Unit Performance\n",
      "\n",
      "    Variables: \n",
      "\n",
      "    Key       : Value  : Units : Fixed : Bounds\n",
      "    Heat Duty : 699.26 :  watt : False : (None, None)\n",
      "\n",
      "------------------------------------------------------------------------------------\n",
      "    Stream Table\n",
      "                                                  Units         Inlet     Outlet  \n",
      "    Molar Flowrate ('Liq', 'ethylene_oxide')   mole / second     58.000     58.000\n",
      "    Molar Flowrate ('Liq', 'water')            mole / second     239.60     239.60\n",
      "    Molar Flowrate ('Liq', 'sulfuric_acid')    mole / second    0.33401    0.33401\n",
      "    Molar Flowrate ('Liq', 'ethylene_glycol')  mole / second 2.0000e-05 2.0000e-05\n",
      "    Temperature                                       kelvin     298.15     328.15\n",
      "    Pressure                                          pascal 1.0000e+05 1.0000e+05\n",
      "====================================================================================\n",
      "\n",
      "PFR reactor results\n",
      "\n",
      "====================================================================================\n",
      "Unit : fs.R101                                                             Time: 0.0\n",
      "------------------------------------------------------------------------------------\n",
      "    Unit Performance\n",
      "\n",
      "    Variables: \n",
      "\n",
      "    Key  : Value  : Units      : Fixed : Bounds\n",
      "    Area : 2.7874 : meter ** 2 : False : (None, None)\n",
      "\n",
      "------------------------------------------------------------------------------------\n",
      "    Stream Table\n",
      "                                                  Units         Inlet     Outlet  \n",
      "    Molar Flowrate ('Liq', 'ethylene_oxide')   mole / second     58.000     5.8000\n",
      "    Molar Flowrate ('Liq', 'water')            mole / second     239.60     187.40\n",
      "    Molar Flowrate ('Liq', 'sulfuric_acid')    mole / second    0.33401    0.33401\n",
      "    Molar Flowrate ('Liq', 'ethylene_glycol')  mole / second 2.0000e-05     52.200\n",
      "    Temperature                                       kelvin     328.15     450.00\n",
      "    Pressure                                          pascal 1.0000e+05 1.0000e+05\n",
      "====================================================================================\n"
     ]
    }
   ],
   "source": [
    "print(f\"operating cost = ${value(m.fs.operating_cost)/1e6:0.3f} million per year\")\n",
    "\n",
    "print()\n",
    "print('Heater results')\n",
    "\n",
    "m.fs.H101.report()\n",
    "\n",
    "print()\n",
    "print('PFR reactor results')\n",
    "\n",
    "m.fs.R101.report()"
   ]
  },
  {
   "cell_type": "markdown",
   "metadata": {},
   "source": [
    "Display optimal values for the decision variables and design variables:"
   ]
  },
  {
   "cell_type": "code",
   "execution_count": 33,
   "metadata": {},
   "outputs": [
    {
     "name": "stdout",
     "output_type": "stream",
     "text": [
      "Optimal Values\n",
      "\n",
      "H101 outlet temperature = 328.150 K\n",
      "\n",
      "Total heat duty required =  -25.443005245978195 MJ\n",
      "\n",
      "Tube area required = 2.787 m^2\n",
      "\n",
      "Tube length required = 5.000 m\n",
      "\n",
      "Assuming a 20% design factor for reactor volume,total CSTR volume required = 16.725 m^3 = 4418.148 gal\n",
      "\n",
      "Ethylene glycol produced = 225.415 MM lb/year\n",
      "\n",
      "Conversion achieved = 90.0%\n"
     ]
    }
   ],
   "source": [
    "print('Optimal Values')\n",
    "print()\n",
    "\n",
    "print(f\"H101 outlet temperature = {value(m.fs.H101.outlet.temperature[0]):0.3f} K\")\n",
    "\n",
    "print()\n",
    "print('Total heat duty required = ', value(sum(m.fs.R101.heat_duty[0, x]\n",
    "                                                     for x in m.fs.R101.control_volume.length_domain))/1e6, 'MJ')\n",
    "print()\n",
    "print(f\"Tube area required = {value(m.fs.R101.area):0.3f} m^2\")\n",
    "\n",
    "print()\n",
    "print(f\"Tube length required = {value(m.fs.R101.length):0.3f} m\")\n",
    "\n",
    "print()\n",
    "print(f\"Assuming a 20% design factor for reactor volume,\"\n",
    "      f\"total CSTR volume required = {value(1.2*m.fs.R101.volume):0.3f}\"\n",
    "      f\" m^3 = {value(pyunits.convert(1.2*m.fs.R101.volume, to_units=pyunits.gal)):0.3f} gal\")\n",
    "\n",
    "print()\n",
    "print(f\"Ethylene glycol produced = {value(m.fs.eg_prod):0.3f} MM lb/year\")\n",
    "\n",
    "print()\n",
    "print(f\"Conversion achieved = {value(m.fs.R101.conversion):.1%}\")"
   ]
  },
  {
   "cell_type": "code",
   "execution_count": null,
   "metadata": {},
   "outputs": [],
   "source": []
  }
 ],
 "metadata": {
  "celltoolbar": "Tags",
  "kernelspec": {
   "display_name": "Python 3 (ipykernel)",
   "language": "python",
   "name": "python3"
  },
  "language_info": {
   "codemirror_mode": {
    "name": "ipython",
    "version": 3
   },
   "file_extension": ".py",
   "mimetype": "text/x-python",
   "name": "python",
   "nbconvert_exporter": "python",
   "pygments_lexer": "ipython3",
   "version": "3.8.12"
  }
 },
 "nbformat": 4,
 "nbformat_minor": 4
}
