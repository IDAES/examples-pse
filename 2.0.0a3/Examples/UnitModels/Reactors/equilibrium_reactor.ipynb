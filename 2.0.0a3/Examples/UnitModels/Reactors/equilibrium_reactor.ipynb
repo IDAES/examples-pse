{
 "cells": [
  {
   "cell_type": "markdown",
   "metadata": {},
   "source": [
    "\n",
    "# Flowsheet Equilibrium Reactor Simulation and Optimization of Steam Methane Reforming\n",
    "\n",
    "\n",
    "## Learning Outcomes\n",
    "\n",
    "\n",
    "- Call and implement the IDAES EquilibriumReactor unit model\n",
    "- Construct a steady-state flowsheet using the IDAES unit model library\n",
    "- Connecting unit models in a flowsheet using Arcs\n",
    "- Fomulate and solve an optimization problem\n",
    "    - Defining an objective function\n",
    "    - Setting variable bounds\n",
    "    - Adding additional constraints \n",
    "\n",
    "\n",
    "## Problem Statement\n",
    "\n",
    "This example is adapted from S.Z. Abbas, V. Dupont, T. Mahmud, Kinetics study and modelling of steam methane reforming process over a NiO/Al2O3 catalyst in an adiabatic packed bed reactor. Int. J. Hydrogen Energy, 42 (2017), pp. 2889-2903\n",
    "\n",
    "Steam methane reforming (SMR) is one of the most common pathways for hydrogen production, taking advantage of chemical equilibria in natural gas systems. The process is typically done in two steps: methane reformation at a high temperature to partially oxidize methane, and water gas shift at a low temperature to complete the oxidation reaction:\n",
    "\n",
    "**CH<sub>4</sub> + H<sub>2</sub>O → CO + 3H<sub>2</sub>**  \n",
    "**CO + H<sub>2</sub>O → CO<sub>2</sub> + H<sub>2</sub>**\n",
    "\n",
    "This reaction is often carried out in two separate reactors to allow for different reaction temperatures and pressures; in this example, we will minimize operating cost for a single reactor.\n",
    "\n",
    "The flowsheet that we will be using for this module is shown below with the stream conditions. We will be processing natural gas and steam feeds of fixed composition to produce hydrogen. As shown in the flowsheet, the process consists of a mixer M101 for the two inlet streams, a compressor to compress the feed to the reaction pressure, a heater H101 to heat the feed to the reaction temperature, and a EquilibriumReactor unit R101. We will use thermodynamic properties from the Peng-Robinson equation of state for this flowsheet.\n",
    "\n",
    "The state variables chosen for the property package are **total molar flows of each stream, temperature of each stream and pressure of each stream, and mole fractions of each component in each stream**. The components considered are: **CH<sub>4</sub>, H<sub>2</sub>O, CO, CO<sub>2</sub>, and H<sub>2</sub>** and the process occurs in vapor phase only. Therefore, every stream has 1 flow variable, 5 mole fraction variables, 1 temperature and 1 pressure variable. \n",
    "\n",
    "![](msr_flowsheet.png)\n",
    "\n"
   ]
  },
  {
   "cell_type": "markdown",
   "metadata": {},
   "source": [
    "## Importing Required Pyomo and IDAES Components\n",
    "\n",
    "\n",
    "To construct a flowsheet, we will need several components from the Pyomo and IDAES packages. Let us first import the following components from Pyomo:\n",
    "- Constraint (to write constraints)\n",
    "- Var (to declare variables)\n",
    "- ConcreteModel (to create the concrete model object)\n",
    "- Expression (to evaluate values as a function of variables defined in the model)\n",
    "- Objective (to define an objective function for optimization)\n",
    "- TransformationFactory (to apply certain transformations)\n",
    "- Arc (to connect two unit models)\n",
    "\n",
    "For further details on these components, please refer to the pyomo documentation: https://pyomo.readthedocs.io/en/latest/\n",
    "\n",
    "From IDAES, we will be needing the `FlowsheetBlock` and the following unit models:\n",
    "- Feed\n",
    "- Mixer\n",
    "- Compressor\n",
    "- Heater\n",
    "- EquilibriumReactor\n",
    "- Product\n",
    "\n",
    "We will also be needing some utility tools to put together the flowsheet and calculate the degrees of freedom, tools for model expressions and calling variable values, and built-in functions to define property packages, add unit containers to objects and define our initialization scheme.\n"
   ]
  },
  {
   "cell_type": "code",
   "execution_count": 1,
   "metadata": {},
   "outputs": [],
   "source": [
    "from pyomo.environ import (Constraint,\n",
    "                           Var,\n",
    "                           ConcreteModel,\n",
    "                           Expression,\n",
    "                           Objective,\n",
    "                           TransformationFactory,\n",
    "                           value,\n",
    "                           units as pyunits)\n",
    "from pyomo.network import Arc\n",
    "\n",
    "from idaes.core import FlowsheetBlock\n",
    "from idaes.models.properties.modular_properties.base.generic_property import (\n",
    "        GenericParameterBlock)\n",
    "from idaes.models.properties.modular_properties.base.generic_reaction import (\n",
    "        GenericReactionParameterBlock)\n",
    "from idaes.models.unit_models import (Feed,\n",
    "                                      Mixer,\n",
    "                                      Compressor,\n",
    "                                      Heater,\n",
    "                                      EquilibriumReactor,\n",
    "                                      Product)\n",
    "\n",
    "from idaes.core.solvers import get_solver\n",
    "from idaes.core.util.model_statistics import degrees_of_freedom\n",
    "from idaes.core.util.initialization import propagate_state"
   ]
  },
  {
   "cell_type": "markdown",
   "metadata": {},
   "source": [
    "## Importing Required Thermophysical and Reaction Packages\n",
    "\n",
    "The final step is to import the thermophysical and reaction packages. We will import natural gas properties from an existing IDAES module, and reaction properties from a custom module to describe equilibrium behavior. These configuration dictionaries provide parameter data that we will pass to the Modular Property Framework.\n",
    "\n",
    "The reaction package here assumes all reactions reach chemical equilibrium at the given conditions.  \n",
    "\n",
    "${K_{eq}^{MSR}} = \\exp\\left(\\frac {-26830} {T} + 30.114\\right)$, ${K_{eq}^{WGS}} = \\exp\\left(\\frac {4400} {T} - 4.036\\right)$ with the reactor temperature $T$ in K.  \n",
    "The total reaction equilibrium constant is given by $K_{eq} = {K_{eq}^{MSR}}{K_{eq}^{WGS}}$.\n",
    "\n",
    "The correlations are taken from the following literature:  \n",
    "\n",
    "Int. J. Hydrogen Energy, 42 (2017), pp. 2889-2903\n",
    "\n",
    "### Determining $k_{eq}^{ref}$\n",
    "\n",
    "As part of the parameter dictionary, users may define equilibrium reactions using a constant coefficient or built-in correlations for van't Hoff and Gibbs formulations. Using the literature correlations above for $k_{eq}$, we can easily calculate the necessary parameters to use the van't Hoff equilibrium constant form:\n",
    "\n",
    "For an empirical correlation $ln(k_{eq}) = f(T)$ for a catalyst (reaction) temperature $T$, we obtain $k_{eq}^{ref} = \\exp\\left({f(T_{eq}^{ref})}\\right)$. From the paper, we obtain a reference catalyst temperature of 973.15 K and reaction energies for the two reaction steps; these values exist in the reaction property parameter module in this same directory.\n",
    "\n",
    "These calculations are contained within the property, reaction and unit model packages, and do not need to be entered into the flowsheet. More information on property estimation may be found in the IDAES documentation on [Parameter Estimation](https://idaes-pse.readthedocs.io/en/stable/how_to_guides/workflow/data_rec_parmest.html).\n",
    "\n",
    "Let us import the following modules:\n",
    "- natural_gas_PR as get_prop (method to get configuration dictionary)\n",
    "- msr_reaction as reaction_props (contains configuration dictionary)"
   ]
  },
  {
   "cell_type": "code",
   "execution_count": 2,
   "metadata": {},
   "outputs": [],
   "source": [
    "from idaes.models_extra.power_generation.properties.natural_gas_PR import get_prop\n",
    "import msr_reaction as reaction_props"
   ]
  },
  {
   "cell_type": "markdown",
   "metadata": {},
   "source": [
    "## Constructing the Flowsheet\n",
    "\n",
    "We have now imported all the components, unit models, and property modules we need to construct a flowsheet. Let us create a `ConcreteModel` and add the flowsheet block. "
   ]
  },
  {
   "cell_type": "code",
   "execution_count": 3,
   "metadata": {},
   "outputs": [],
   "source": [
    "m = ConcreteModel()\n",
    "m.fs = FlowsheetBlock(default={\"dynamic\": False})"
   ]
  },
  {
   "cell_type": "markdown",
   "metadata": {},
   "source": [
    "We now need to add the property packages to the flowsheet. Unlike the basic [Flash unit model example](http://localhost:8888/notebooks/GitHub/examples-pse/src/Tutorials/Basics/flash_unit_solution_testing.ipynb), where we only had a thermophysical property package, for this flowsheet we will also need to add a reaction property package. We will use the [Modular Property Framework](https://idaes-pse.readthedocs.io/en/stable/explanations/components/property_package/index.html#generic-property-package-framework) and [Modular Reaction Framework](https://idaes-pse.readthedocs.io/en/stable/explanations/components/property_package/index.html#generic-reaction-package-framework). The `get_prop` method for the natural gas property module automatically returns the correct dictionary using a component list argument. The `GenericParameterBlock` and `GenericReactionParameterBlock` methods build states blocks from passed parameter data; the reaction block unpacks using `**reaction_props.config_dict` to allow for optional or empty keyword arguments:"
   ]
  },
  {
   "cell_type": "code",
   "execution_count": 4,
   "metadata": {
    "scrolled": true
   },
   "outputs": [],
   "source": [
    "thermo_props_config_dict = get_prop(components=[\"CH4\", \"H2O\", \"H2\", \"CO\", \"CO2\"])\n",
    "m.fs.thermo_params = GenericParameterBlock(default=thermo_props_config_dict)\n",
    "m.fs.reaction_params = GenericReactionParameterBlock(default={\"property_package\": m.fs.thermo_params,\n",
    "                                                              **reaction_props.config_dict})"
   ]
  },
  {
   "cell_type": "markdown",
   "metadata": {},
   "source": [
    "## Adding Unit Models\n",
    "\n",
    "Let us start adding the unit models we have imported to the flowsheet. Here, we are adding a `Mixer`, a `Compressor`, a `Heater` and an `EquilibriumReactor`. Note that all unit models should be explicitly defined with a given property package. In addition to that, there are several arguments depending on the unit model, please refer to the documentation for more details on [IDAES Unit Models](https://idaes-pse.readthedocs.io/en/stable/reference_guides/model_libraries/index.html). For example, the `Mixer` is given a `list` consisting of names to the two inlets. Note that the `Compressor` is a `PressureChanger` assuming compression operation and with a fixed isentropic compressor efficiency as the default thermodynamic behavior."
   ]
  },
  {
   "cell_type": "code",
   "execution_count": 5,
   "metadata": {
    "scrolled": true
   },
   "outputs": [],
   "source": [
    "m.fs.CH4 = Feed(default={\"property_package\": m.fs.thermo_params})\n",
    "m.fs.H2O = Feed(default={\"property_package\": m.fs.thermo_params})\n",
    "m.fs.PROD = Product(default={\"property_package\": m.fs.thermo_params})\n",
    "m.fs.M101 = Mixer(default={\"property_package\": m.fs.thermo_params,\n",
    "                           \"inlet_list\": [\"methane_feed\", \"steam_feed\"]})\n",
    "m.fs.H101 = Heater(default={\"property_package\": m.fs.thermo_params,\n",
    "                            \"has_pressure_change\": False,\n",
    "                            \"has_phase_equilibrium\": False})\n",
    "m.fs.C101 = Compressor(default={\"property_package\": m.fs.thermo_params})"
   ]
  },
  {
   "cell_type": "code",
   "execution_count": 6,
   "metadata": {
    "scrolled": false
   },
   "outputs": [],
   "source": [
    "m.fs.R101 = EquilibriumReactor(\n",
    "            default={\"property_package\": m.fs.thermo_params,\n",
    "                     \"reaction_package\": m.fs.reaction_params,\n",
    "                     \"has_equilibrium_reactions\": True,\n",
    "                     \"has_rate_reactions\": False,\n",
    "                     \"has_heat_of_reaction\": True,\n",
    "                     \"has_heat_transfer\": True,\n",
    "                     \"has_pressure_change\": False,\n",
    "                     \"has_phase_equilibrium\": True})"
   ]
  },
  {
   "cell_type": "markdown",
   "metadata": {},
   "source": [
    "## Connecting Unit Models Using Arcs\n",
    "\n",
    "We have now added all the unit models we need to the flowsheet. However, we have not yet specifed how the units are to be connected. To do this, we will be using the `Arc` which is a Pyomo component that takes in two arguments: `source` and `destination`. Let us connect the outlet of the `Mixer` to the inlet of the `Compressor`, the outlet of the compressor `Compressor` to the inlet of the `Heater`, and the outlet of the `Heater` to the inlet of the `EquilibriumReactor`. Additionally, we will connect the `Feed` and `Product` blocks to the flowsheet:"
   ]
  },
  {
   "cell_type": "code",
   "execution_count": 7,
   "metadata": {},
   "outputs": [],
   "source": [
    "m.fs.s01 = Arc(source=m.fs.CH4.outlet, destination=m.fs.M101.methane_feed)\n",
    "m.fs.s02 = Arc(source=m.fs.H2O.outlet, destination=m.fs.M101.steam_feed)\n",
    "m.fs.s03 = Arc(source=m.fs.M101.outlet, destination=m.fs.C101.inlet)\n",
    "m.fs.s04 = Arc(source=m.fs.C101.outlet, destination=m.fs.H101.inlet)\n",
    "m.fs.s05 = Arc(source=m.fs.H101.outlet, destination=m.fs.R101.inlet)\n",
    "m.fs.s06 = Arc(source=m.fs.R101.outlet, destination=m.fs.PROD.inlet)"
   ]
  },
  {
   "cell_type": "markdown",
   "metadata": {},
   "source": [
    "We have now connected the unit model block using the arcs. However, we also need to link the state variables on connected ports. Pyomo provides a convenient method `TransformationFactory` to write these equality constraints for us between two ports:"
   ]
  },
  {
   "cell_type": "code",
   "execution_count": 8,
   "metadata": {},
   "outputs": [],
   "source": [
    "TransformationFactory(\"network.expand_arcs\").apply_to(m)"
   ]
  },
  {
   "cell_type": "markdown",
   "metadata": {},
   "source": [
    "## Adding Expressions to Compute Operating Costs\n",
    "\n",
    "In this section, we will add a few `Expressions` that allow us to evaluate the performance. `Expressions` provide a convenient way of calculating certain values that are a function of the variables defined in the model. For more details on `Expressions`, please refer to the [Pyomo Expression documentation](https://pyomo.readthedocs.io/en/latest/pyomo_modeling_components/Expressions.html).\n",
    "\n",
    "For this flowsheet, we are interested in computing hydrogen production in millions of pounds per year, as well as the total costs due to pressurizing, cooling, and heating utilities.\n",
    "\n",
    "Let us first add an `Expression` to convert the product flow from mol/s to MM lb/year of hydrogen. We see that the molecular weight exists in the thermophysical property package, so we may use that value for our calculations."
   ]
  },
  {
   "cell_type": "code",
   "execution_count": 9,
   "metadata": {},
   "outputs": [],
   "source": [
    "m.fs.hyd_prod = Expression(expr=pyunits.convert(m.fs.PROD.inlet.flow_mol[0]*m.fs.PROD.inlet.mole_frac_comp[0, \"H2\"]\n",
    "                                                *m.fs.thermo_params.H2.mw, # MW defined in properties as kg/mol\n",
    "                                                to_units=pyunits.Mlb/pyunits.yr)) # converting kg/s to MM lb/year"
   ]
  },
  {
   "cell_type": "markdown",
   "metadata": {},
   "source": [
    "Now, let us add expressions to compute the reactor cooling cost (\\\\$/s) assuming a cost of 2.12E-5 \\\\$/kW, the compression cost (\\\\$/s) assuming 1.2E-3 \\\\$/kW, and the heating utility cost (\\\\$/s) assuming 2.2E-4 \\\\$/kW. Note that the heat duty is in units of Watt (J/s). The total operating cost will be the sum of the costs, expressed in \\\\$/year assuming 8000 operating hours per year (~10\\% downtime, which is fairly common for small scale chemical plants):"
   ]
  },
  {
   "cell_type": "code",
   "execution_count": 10,
   "metadata": {},
   "outputs": [],
   "source": [
    "m.fs.cooling_cost = Expression(expr=2.12e-8 * (m.fs.R101.heat_duty[0]))  # the reaction is endothermic, so R101 duty is positive\n",
    "m.fs.heating_cost = Expression(expr=2.2e-7 * m.fs.H101.heat_duty[0])  # the stream must be heated to T_rxn, so H101 duty is positive\n",
    "m.fs.compression_cost = Expression(expr=1.2E-6 * m.fs.C101.work_isentropic[0]) # the stream must be pressurized, so the C101 work is positive\n",
    "m.fs.operating_cost = Expression(expr=(3600 * 8000 *(m.fs.heating_cost + m.fs.cooling_cost + m.fs.compression_cost)))"
   ]
  },
  {
   "cell_type": "markdown",
   "metadata": {},
   "source": [
    "## Fixing Feed Conditions\n",
    "\n",
    "Let us first check how many degrees of freedom exist for this flowsheet using the `degrees_of_freedom` tool we imported earlier. We expect each stream to have 8 degrees of freedom, the mixer to have 0 (after both streams are accounted for), the compressor to have 2 (the pressure change and efficiency), the heater to have 1 (just the duty, since the inlet is also the outlet of M101), and the reactor to have 1 (conversion). Therefore, we have 20 degrees of freedom to specify: temperature, pressure, flow and mole fractions of all five components on both streams; compressor pressure change and efficiency; outlet heater temperature; and reactor conversion.\n",
    "\n",
    "Although the model has eight degrees of freedom per stream, the mole fractions are not all independent and the physical system only has seven. Each `StateBlock` sets a flag `defined_state` based on any remaining degrees of freedom; if this flag is set to `False` a `Constraint` is written to ensure all mole fractions sum to one. However, a fully specified system with `defined_state` set to `True` will not create this constraint and it is the responsibility of the user to set physically meaningful values, i.e. that all mole fractions are nonnegative and sum to one. While not necessary in this example, the [Custom Thermophysical Property Package Example](http://localhost:8888/notebooks/GitHub/examples-pse/src/Examples/Advanced/CustomProperties/custom_physical_property_packages_testing.ipynb) demonstrates adding a check before writing an additional constraint that may overspecify the system."
   ]
  },
  {
   "cell_type": "code",
   "execution_count": 11,
   "metadata": {
    "scrolled": true
   },
   "outputs": [
    {
     "name": "stdout",
     "output_type": "stream",
     "text": [
      "20\n"
     ]
    }
   ],
   "source": [
    "print(degrees_of_freedom(m))"
   ]
  },
  {
   "cell_type": "markdown",
   "metadata": {},
   "source": [
    "We will now be fixing the feed stream to the conditions shown in the flowsheet above. As mentioned in other tutorials, the IDAES framework expects a time index value for every referenced internal stream or unit variable, even in steady-state systems with a single time point $ t = 0 $ (`t = [0]` is the default when creating a `FlowsheetBlock` without passing a `time_set` argument). The non-present components in each stream are assigned a very small non-zero value to help with convergence and initializing. Based on the literature source, we will initialize our simulation with the following values:"
   ]
  },
  {
   "cell_type": "code",
   "execution_count": 13,
   "metadata": {},
   "outputs": [],
   "source": [
    "m.fs.CH4.outlet.mole_frac_comp[0, \"CH4\"].fix(1)\n",
    "m.fs.CH4.outlet.mole_frac_comp[0, \"H2O\"].fix(1E-5)\n",
    "m.fs.CH4.outlet.mole_frac_comp[0, \"H2\"].fix(1E-5)\n",
    "m.fs.CH4.outlet.mole_frac_comp[0, \"CO\"].fix(1E-5)\n",
    "m.fs.CH4.outlet.mole_frac_comp[0, \"CO2\"].fix(1E-5)\n",
    "m.fs.CH4.outlet.flow_mol.fix(75*pyunits.mol/pyunits.s)\n",
    "m.fs.CH4.outlet.temperature.fix(298.15*pyunits.K)\n",
    "m.fs.CH4.outlet.pressure.fix(1e5*pyunits.Pa)\n",
    "\n",
    "m.fs.H2O.outlet.mole_frac_comp[0, \"CH4\"].fix(1E-5)\n",
    "m.fs.H2O.outlet.mole_frac_comp[0, \"H2O\"].fix(1)\n",
    "m.fs.H2O.outlet.mole_frac_comp[0, \"H2\"].fix(1E-5)\n",
    "m.fs.H2O.outlet.mole_frac_comp[0, \"CO\"].fix(1E-5)\n",
    "m.fs.H2O.outlet.mole_frac_comp[0, \"CO2\"].fix(1E-5)\n",
    "m.fs.H2O.outlet.flow_mol.fix(234*pyunits.mol/pyunits.s)\n",
    "m.fs.H2O.outlet.temperature.fix(373.15*pyunits.K)\n",
    "m.fs.H2O.outlet.pressure.fix(1e5*pyunits.Pa)"
   ]
  },
  {
   "cell_type": "markdown",
   "metadata": {},
   "source": [
    "## Fixing Unit Model Specifications\n",
    "\n",
    "Now that we have fixed our inlet feed conditions, we will now be fixing the operating conditions for the unit models in the flowsheet. For the initial problem, let us fix the compressor outlet pressure to 2 bar for now, the efficiency to 0.90 (a common assumption for compressor units), and the heater outlet temperature to 500 K. We will unfix these values later to optimize the flowsheet."
   ]
  },
  {
   "cell_type": "code",
   "execution_count": 14,
   "metadata": {},
   "outputs": [],
   "source": [
    "m.fs.C101.outlet.pressure.fix(pyunits.convert(2*pyunits.bar, to_units=pyunits.Pa))\n",
    "m.fs.C101.efficiency_isentropic.fix(0.90)\n",
    "m.fs.H101.outlet.temperature.fix(500*pyunits.K)"
   ]
  },
  {
   "cell_type": "markdown",
   "metadata": {},
   "source": [
    "The `EquilibriumReactor` unit model calculates the amount of product and reactant based on the calculated equilibrium constant; therefore, we will specify a desired conversion and let the solver determine the reactor duty and heat transfer. For convenience, we will define the reactor conversion as the amount of methane that is converted."
   ]
  },
  {
   "cell_type": "code",
   "execution_count": 15,
   "metadata": {},
   "outputs": [],
   "source": [
    "m.fs.R101.conversion = Var(initialize=0.80, bounds=(0, 1), units=pyunits.dimensionless)  # fraction\n",
    "\n",
    "m.fs.R101.conv_constraint = Constraint(\n",
    "    expr=m.fs.R101.conversion*m.fs.R101.inlet.flow_mol[0]*\n",
    "    m.fs.R101.inlet.mole_frac_comp[0, \"CH4\"] ==\n",
    "    (m.fs.R101.inlet.flow_mol[0]*m.fs.R101.inlet.mole_frac_comp[0, \"CH4\"] -\n",
    "     m.fs.R101.outlet.flow_mol[0]*m.fs.R101.outlet.mole_frac_comp[0, \"CH4\"]))\n",
    "\n",
    "m.fs.R101.conversion.fix(0.80)"
   ]
  },
  {
   "cell_type": "markdown",
   "metadata": {},
   "source": [
    "For initialization, we solve a square problem (degrees of freedom = 0). Let's check the degrees of freedom below:"
   ]
  },
  {
   "cell_type": "code",
   "execution_count": 16,
   "metadata": {},
   "outputs": [
    {
     "name": "stdout",
     "output_type": "stream",
     "text": [
      "0\n"
     ]
    }
   ],
   "source": [
    "print(degrees_of_freedom(m))"
   ]
  },
  {
   "cell_type": "markdown",
   "metadata": {},
   "source": [
    "Finally, we need to initialize each unit operation in sequence to solve the flowsheet. As in best practice, unit operations are initialized or solved, and outlet properties are propagated to connected inlet streams via arc definitions as follows:"
   ]
  },
  {
   "cell_type": "code",
   "execution_count": 18,
   "metadata": {},
   "outputs": [
    {
     "name": "stdout",
     "output_type": "stream",
     "text": [
      "2022-07-13 10:16:34 [INFO] idaes.init.fs.CH4.properties: Starting initialization\n",
      "2022-07-13 10:16:35 [INFO] idaes.init.fs.CH4.properties: Property initialization: optimal - Optimal Solution Found.\n",
      "2022-07-13 10:16:35 [INFO] idaes.init.fs.CH4.properties: Property package initialization: optimal - Optimal Solution Found.\n",
      "2022-07-13 10:16:35 [INFO] idaes.init.fs.CH4: Initialization Complete.\n",
      "2022-07-13 10:16:35 [INFO] idaes.init.fs.H2O.properties: Starting initialization\n",
      "2022-07-13 10:16:35 [INFO] idaes.init.fs.H2O.properties: Property initialization: optimal - Optimal Solution Found.\n",
      "2022-07-13 10:16:35 [INFO] idaes.init.fs.H2O.properties: Property package initialization: optimal - Optimal Solution Found.\n",
      "2022-07-13 10:16:35 [INFO] idaes.init.fs.H2O: Initialization Complete.\n",
      "2022-07-13 10:16:35 [INFO] idaes.init.fs.M101.methane_feed_state: Starting initialization\n",
      "2022-07-13 10:16:35 [INFO] idaes.init.fs.M101.methane_feed_state: Property initialization: optimal - Optimal Solution Found.\n",
      "2022-07-13 10:16:35 [INFO] idaes.init.fs.M101.steam_feed_state: Starting initialization\n",
      "2022-07-13 10:16:35 [INFO] idaes.init.fs.M101.steam_feed_state: Property initialization: optimal - Optimal Solution Found.\n",
      "2022-07-13 10:16:35 [INFO] idaes.init.fs.M101.mixed_state: Starting initialization\n",
      "2022-07-13 10:16:35 [INFO] idaes.init.fs.M101.mixed_state: Property initialization: optimal - Optimal Solution Found.\n",
      "2022-07-13 10:16:35 [INFO] idaes.init.fs.M101.mixed_state: Property package initialization: optimal - Optimal Solution Found.\n",
      "2022-07-13 10:16:37 [INFO] idaes.init.fs.M101: Initialization Complete: optimal - Optimal Solution Found\n",
      "2022-07-13 10:16:37 [INFO] idaes.init.fs.C101.control_volume.properties_in: Starting initialization\n",
      "2022-07-13 10:16:37 [INFO] idaes.init.fs.C101.control_volume.properties_in: Property initialization: optimal - Optimal Solution Found.\n",
      "2022-07-13 10:16:37 [INFO] idaes.init.fs.C101.control_volume.properties_out: Starting initialization\n",
      "2022-07-13 10:16:37 [INFO] idaes.init.fs.C101.control_volume.properties_out: Property initialization: optimal - Optimal Solution Found.\n",
      "2022-07-13 10:16:37 [INFO] idaes.init.fs.C101.control_volume.properties_out: Property package initialization: optimal - Optimal Solution Found.\n",
      "2022-07-13 10:16:37 [INFO] idaes.init.fs.C101.properties_isentropic: Starting initialization\n",
      "2022-07-13 10:16:37 [INFO] idaes.init.fs.C101.properties_isentropic: Property initialization: optimal - Optimal Solution Found.\n",
      "2022-07-13 10:16:37 [INFO] idaes.init.fs.C101.properties_isentropic: Property package initialization: optimal - Optimal Solution Found.\n",
      "2022-07-13 10:16:43 [INFO] idaes.init.fs.C101: Initialization Complete: optimal - Optimal Solution Found\n",
      "2022-07-13 10:16:43 [INFO] idaes.init.fs.H101.control_volume.properties_in: Starting initialization\n",
      "2022-07-13 10:16:43 [INFO] idaes.init.fs.H101.control_volume.properties_in: Property initialization: optimal - Optimal Solution Found.\n",
      "2022-07-13 10:16:43 [INFO] idaes.init.fs.H101.control_volume.properties_out: Starting initialization\n",
      "2022-07-13 10:16:43 [INFO] idaes.init.fs.H101.control_volume.properties_out: Property initialization: optimal - Optimal Solution Found.\n",
      "2022-07-13 10:16:43 [INFO] idaes.init.fs.H101.control_volume: Initialization Complete\n",
      "2022-07-13 10:16:44 [INFO] idaes.init.fs.H101: Initialization Complete: optimal - Optimal Solution Found\n",
      "2022-07-13 10:16:44 [INFO] idaes.init.fs.R101.control_volume.properties_in: Starting initialization\n",
      "2022-07-13 10:16:44 [INFO] idaes.init.fs.R101.control_volume.properties_in: Property initialization: optimal - Optimal Solution Found.\n",
      "2022-07-13 10:16:44 [INFO] idaes.init.fs.R101.control_volume.properties_out: Starting initialization\n",
      "2022-07-13 10:16:45 [INFO] idaes.init.fs.R101.control_volume.properties_out: Property initialization: optimal - Optimal Solution Found.\n",
      "2022-07-13 10:16:45 [INFO] idaes.init.fs.R101.control_volume.reactions: Initialization Complete.\n",
      "2022-07-13 10:16:45 [INFO] idaes.init.fs.R101.control_volume: Initialization Complete\n",
      "2022-07-13 10:16:46 [INFO] idaes.init.fs.R101: Initialization Complete: optimal - Optimal Solution Found\n",
      "2022-07-13 10:16:46 [INFO] idaes.init.fs.PROD.properties: Starting initialization\n",
      "2022-07-13 10:16:47 [INFO] idaes.init.fs.PROD.properties: Property initialization: optimal - Optimal Solution Found.\n",
      "2022-07-13 10:16:47 [INFO] idaes.init.fs.PROD.properties: Property package initialization: optimal - Optimal Solution Found.\n",
      "2022-07-13 10:16:47 [INFO] idaes.init.fs.PROD: Initialization Complete.\n"
     ]
    }
   ],
   "source": [
    "# Initialize and solve each unit operation\n",
    "m.fs.CH4.initialize()\n",
    "propagate_state(arc=m.fs.s01)\n",
    "\n",
    "m.fs.H2O.initialize()\n",
    "propagate_state(arc=m.fs.s02)\n",
    "\n",
    "m.fs.M101.initialize()\n",
    "propagate_state(arc=m.fs.s03)\n",
    "\n",
    "m.fs.C101.initialize()\n",
    "propagate_state(arc=m.fs.s04)\n",
    "\n",
    "m.fs.H101.initialize()\n",
    "propagate_state(arc=m.fs.s05)\n",
    "\n",
    "m.fs.R101.initialize()\n",
    "propagate_state(arc=m.fs.s06)\n",
    "\n",
    "m.fs.PROD.initialize()\n",
    "\n",
    "# set solver\n",
    "solver = get_solver()"
   ]
  },
  {
   "cell_type": "code",
   "execution_count": 19,
   "metadata": {
    "scrolled": true
   },
   "outputs": [
    {
     "name": "stdout",
     "output_type": "stream",
     "text": [
      "Ipopt 3.13.2: nlp_scaling_method=gradient-based\n",
      "tol=1e-06\n",
      "\n",
      "\n",
      "******************************************************************************\n",
      "This program contains Ipopt, a library for large-scale nonlinear optimization.\n",
      " Ipopt is released as open source code under the Eclipse Public License (EPL).\n",
      "         For more information visit http://projects.coin-or.org/Ipopt\n",
      "\n",
      "This version of Ipopt was compiled from source code available at\n",
      "    https://github.com/IDAES/Ipopt as part of the Institute for the Design of\n",
      "    Advanced Energy Systems Process Systems Engineering Framework (IDAES PSE\n",
      "    Framework) Copyright (c) 2018-2019. See https://github.com/IDAES/idaes-pse.\n",
      "\n",
      "This version of Ipopt was compiled using HSL, a collection of Fortran codes\n",
      "    for large-scale scientific computation.  All technical papers, sales and\n",
      "    publicity material resulting from use of the HSL codes within IPOPT must\n",
      "    contain the following acknowledgement:\n",
      "        HSL, a collection of Fortran codes for large-scale scientific\n",
      "        computation. See http://www.hsl.rl.ac.uk.\n",
      "******************************************************************************\n",
      "\n",
      "This is Ipopt version 3.13.2, running with linear solver ma27.\n",
      "\n",
      "Number of nonzeros in equality constraint Jacobian...:      562\n",
      "Number of nonzeros in inequality constraint Jacobian.:        0\n",
      "Number of nonzeros in Lagrangian Hessian.............:      457\n",
      "\n",
      "Total number of variables............................:      204\n",
      "                     variables with only lower bounds:       13\n",
      "                variables with lower and upper bounds:      174\n",
      "                     variables with only upper bounds:        0\n",
      "Total number of equality constraints.................:      204\n",
      "Total number of inequality constraints...............:        0\n",
      "        inequality constraints with only lower bounds:        0\n",
      "   inequality constraints with lower and upper bounds:        0\n",
      "        inequality constraints with only upper bounds:        0\n",
      "\n",
      "iter    objective    inf_pr   inf_du lg(mu)  ||d||  lg(rg) alpha_du alpha_pr  ls\n",
      "   0  0.0000000e+00 1.49e+06 1.00e+00  -1.0 0.00e+00    -  0.00e+00 0.00e+00   0\n",
      "   1  0.0000000e+00 1.35e+04 2.00e-01  -1.0 3.59e+00    -  9.90e-01 9.91e-01h  1\n",
      "   2  0.0000000e+00 3.59e-04 9.99e+00  -1.0 3.56e+00    -  9.90e-01 1.00e+00h  1\n",
      "   3  0.0000000e+00 1.37e-08 8.98e+01  -1.0 2.91e-04    -  9.90e-01 1.00e+00h  1\n",
      "\n",
      "Number of Iterations....: 3\n",
      "\n",
      "                                   (scaled)                 (unscaled)\n",
      "Objective...............:   0.0000000000000000e+00    0.0000000000000000e+00\n",
      "Dual infeasibility......:   0.0000000000000000e+00    0.0000000000000000e+00\n",
      "Constraint violation....:   7.2759576141834259e-12    1.3737007975578308e-08\n",
      "Complementarity.........:   0.0000000000000000e+00    0.0000000000000000e+00\n",
      "Overall NLP error.......:   7.2759576141834259e-12    1.3737007975578308e-08\n",
      "\n",
      "\n",
      "Number of objective function evaluations             = 4\n",
      "Number of objective gradient evaluations             = 4\n",
      "Number of equality constraint evaluations            = 4\n",
      "Number of inequality constraint evaluations          = 0\n",
      "Number of equality constraint Jacobian evaluations   = 4\n",
      "Number of inequality constraint Jacobian evaluations = 0\n",
      "Number of Lagrangian Hessian evaluations             = 3\n",
      "Total CPU secs in IPOPT (w/o function evaluations)   =      0.063\n",
      "Total CPU secs in NLP function evaluations           =      0.145\n",
      "\n",
      "EXIT: Optimal Solution Found.\n"
     ]
    }
   ],
   "source": [
    "# Solve the model\n",
    "results = solver.solve(m, tee=True)"
   ]
  },
  {
   "cell_type": "markdown",
   "metadata": {},
   "source": [
    "## Analyze the Results of the Square Problem\n",
    "\n",
    "\n",
    "What is the total operating cost? "
   ]
  },
  {
   "cell_type": "code",
   "execution_count": 21,
   "metadata": {},
   "outputs": [
    {
     "name": "stdout",
     "output_type": "stream",
     "text": [
      "operating cost = $45.933 million per year\n"
     ]
    }
   ],
   "source": [
    "print(f\"operating cost = ${value(m.fs.operating_cost)/1e6:0.3f} million per year\")"
   ]
  },
  {
   "cell_type": "markdown",
   "metadata": {},
   "source": [
    "For this operating cost, what conversion did we achieve of methane to hydrogen?"
   ]
  },
  {
   "cell_type": "code",
   "execution_count": 23,
   "metadata": {},
   "outputs": [
    {
     "name": "stdout",
     "output_type": "stream",
     "text": [
      "\n",
      "====================================================================================\n",
      "Unit : fs.R101                                                             Time: 0.0\n",
      "------------------------------------------------------------------------------------\n",
      "    Unit Performance\n",
      "\n",
      "    Variables: \n",
      "\n",
      "    Key       : Value      : Units : Fixed : Bounds\n",
      "    Heat Duty : 2.7605e+07 :  watt : False : (None, None)\n",
      "\n",
      "------------------------------------------------------------------------------------\n",
      "    Stream Table\n",
      "                                Units         Inlet     Outlet  \n",
      "    Total Molar Flowrate     mole / second     309.01     429.02\n",
      "    Total Mole Fraction CH4  dimensionless    0.24272   0.034965\n",
      "    Total Mole Fraction H2O  dimensionless    0.75725    0.31487\n",
      "    Total Mole Fraction H2   dimensionless 9.9996e-06    0.51029\n",
      "    Total Mole Fraction CO   dimensionless 9.9996e-06   0.049157\n",
      "    Total Mole Fraction CO2  dimensionless 9.9996e-06   0.090717\n",
      "    Temperature                     kelvin     500.00     868.56\n",
      "    Pressure                        pascal 2.0000e+05 2.0000e+05\n",
      "====================================================================================\n",
      "\n",
      "Conversion achieved = 80.0%\n"
     ]
    }
   ],
   "source": [
    "m.fs.R101.report()\n",
    "\n",
    "print()\n",
    "print(f\"Conversion achieved = {value(m.fs.R101.conversion):.1%}\")"
   ]
  },
  {
   "cell_type": "markdown",
   "metadata": {},
   "source": [
    "## Optimizing Hydrogen Production\n",
    "\n",
    "Now that the flowsheet has been squared and solved, we can run a small optimization problem to determine optimal conditions for producing hydrogen. Suppose we wish to find ideal conditions for the competing reactions. As mentioned earlier, the two reactions have competing equilibria - steam methane reformation occurs more readily at higher temperatures (500-700 C) while water gas shift occurs more readily at lower temperatures (300-400 C). We will allow for variable reactor temperature and pressure by freeing our heater and compressor specifications, and minimize cost to achieve 90% methane conversion. Since we assume an isentopic compressor, allowing compression will heat our feed stream and reduce or eliminate the required heater duty."
   ]
  },
  {
   "cell_type": "markdown",
   "metadata": {},
   "source": [
    "Let us declare our objective function for this problem. "
   ]
  },
  {
   "cell_type": "code",
   "execution_count": 25,
   "metadata": {},
   "outputs": [],
   "source": [
    "m.fs.objective = Objective(expr=m.fs.operating_cost)"
   ]
  },
  {
   "cell_type": "markdown",
   "metadata": {},
   "source": [
    "Now, we need to add the design constraints and unfix the decision variables as we had solved a square problem until now, as well as set bounds for the design variables (reactor outlet temperature is set by state variable bounds in property package):"
   ]
  },
  {
   "cell_type": "code",
   "execution_count": 26,
   "metadata": {},
   "outputs": [],
   "source": [
    "m.fs.R101.conversion.fix(0.90)\n",
    "\n",
    "m.fs.C101.outlet.pressure.unfix()\n",
    "m.fs.C101.outlet.pressure[0].setlb(pyunits.convert(2*pyunits.bar, to_units=pyunits.Pa))  # pressurize to at least 2 bar\n",
    "m.fs.C101.outlet.pressure[0].setub(pyunits.convert(10*pyunits.bar, to_units=pyunits.Pa))  # at most, pressurize to 10 bar\n",
    "\n",
    "m.fs.H101.outlet.temperature.unfix()\n",
    "m.fs.H101.heat_duty[0].setlb(0*pyunits.J/pyunits.s)  # outlet temperature is equal to or greater than inlet temperature\n",
    "m.fs.H101.outlet.temperature[0].setub(1000*pyunits.K)  # at most, heat to 1000 K"
   ]
  },
  {
   "cell_type": "markdown",
   "metadata": {},
   "source": [
    "\n",
    "We have now defined the optimization problem and we are now ready to solve this problem. \n",
    "\n",
    "\n"
   ]
  },
  {
   "cell_type": "code",
   "execution_count": 28,
   "metadata": {
    "scrolled": true
   },
   "outputs": [
    {
     "name": "stdout",
     "output_type": "stream",
     "text": [
      "Ipopt 3.13.2: nlp_scaling_method=gradient-based\n",
      "tol=1e-06\n",
      "\n",
      "\n",
      "******************************************************************************\n",
      "This program contains Ipopt, a library for large-scale nonlinear optimization.\n",
      " Ipopt is released as open source code under the Eclipse Public License (EPL).\n",
      "         For more information visit http://projects.coin-or.org/Ipopt\n",
      "\n",
      "This version of Ipopt was compiled from source code available at\n",
      "    https://github.com/IDAES/Ipopt as part of the Institute for the Design of\n",
      "    Advanced Energy Systems Process Systems Engineering Framework (IDAES PSE\n",
      "    Framework) Copyright (c) 2018-2019. See https://github.com/IDAES/idaes-pse.\n",
      "\n",
      "This version of Ipopt was compiled using HSL, a collection of Fortran codes\n",
      "    for large-scale scientific computation.  All technical papers, sales and\n",
      "    publicity material resulting from use of the HSL codes within IPOPT must\n",
      "    contain the following acknowledgement:\n",
      "        HSL, a collection of Fortran codes for large-scale scientific\n",
      "        computation. See http://www.hsl.rl.ac.uk.\n",
      "******************************************************************************\n",
      "\n",
      "This is Ipopt version 3.13.2, running with linear solver ma27.\n",
      "\n",
      "Number of nonzeros in equality constraint Jacobian...:      569\n",
      "Number of nonzeros in inequality constraint Jacobian.:        0\n",
      "Number of nonzeros in Lagrangian Hessian.............:      473\n",
      "\n",
      "Total number of variables............................:      206\n",
      "                     variables with only lower bounds:       14\n",
      "                variables with lower and upper bounds:      176\n",
      "                     variables with only upper bounds:        0\n",
      "Total number of equality constraints.................:      204\n",
      "Total number of inequality constraints...............:        0\n",
      "        inequality constraints with only lower bounds:        0\n",
      "   inequality constraints with lower and upper bounds:        0\n",
      "        inequality constraints with only upper bounds:        0\n",
      "\n",
      "iter    objective    inf_pr   inf_du lg(mu)  ||d||  lg(rg) alpha_du alpha_pr  ls\n",
      "   0  4.5933014e+07 1.49e+06 3.46e+01  -1.0 0.00e+00    -  0.00e+00 0.00e+00   0\n",
      "   1  4.5420427e+07 1.49e+06 1.33e+03  -1.0 1.08e+07    -  4.58e-01 5.96e-03f  1\n",
      "   2  4.2830345e+07 8.68e+05 6.47e+06  -1.0 5.32e+06    -  8.03e-01 4.18e-01f  1\n",
      "   3  4.3111576e+07 1.26e+05 1.06e+07  -1.0 2.54e+06    -  9.54e-01 8.85e-01h  1\n",
      "   4  4.3307552e+07 2.24e+03 3.12e+05  -1.0 3.51e+05    -  9.89e-01 9.86e-01h  1\n",
      "   5  4.3309118e+07 2.20e+01 3.08e+03  -1.0 2.69e+03    -  9.90e-01 9.90e-01h  1\n",
      "   6  4.3309131e+07 5.78e-06 3.84e+01  -1.0 2.31e+01    -  9.92e-01 1.00e+00h  1\n",
      "   7  4.3309131e+07 2.61e-08 9.40e-07  -2.5 1.97e-02    -  1.00e+00 1.00e+00f  1\n",
      "   8  4.3309131e+07 1.49e-08 1.71e-06  -3.8 5.56e-04    -  1.00e+00 1.00e+00f  1\n",
      "   9  4.3309131e+07 1.56e-08 1.08e-06  -5.7 3.08e-05    -  1.00e+00 1.00e+00f  1\n",
      "iter    objective    inf_pr   inf_du lg(mu)  ||d||  lg(rg) alpha_du alpha_pr  ls\n",
      "  10  4.3309131e+07 1.33e-08 1.37e-06  -7.0 3.71e-07    -  1.00e+00 1.00e+00h  1\n",
      "\n",
      "Number of Iterations....: 10\n",
      "\n",
      "                                   (scaled)                 (unscaled)\n",
      "Objective...............:   4.3309130854568675e+07    4.3309130854568675e+07\n",
      "Dual infeasibility......:   1.3747003002820967e-06    1.3747003002820967e-06\n",
      "Constraint violation....:   7.2759576141834259e-12    1.3328677461780227e-08\n",
      "Complementarity.........:   9.0909090913936446e-08    9.0909090913936446e-08\n",
      "Overall NLP error.......:   9.0909090913936446e-08    1.3747003002820967e-06\n",
      "\n",
      "\n",
      "Number of objective function evaluations             = 11\n",
      "Number of objective gradient evaluations             = 11\n",
      "Number of equality constraint evaluations            = 11\n",
      "Number of inequality constraint evaluations          = 0\n",
      "Number of equality constraint Jacobian evaluations   = 11\n",
      "Number of inequality constraint Jacobian evaluations = 0\n",
      "Number of Lagrangian Hessian evaluations             = 10\n",
      "Total CPU secs in IPOPT (w/o function evaluations)   =      0.057\n",
      "Total CPU secs in NLP function evaluations           =      0.294\n",
      "\n",
      "EXIT: Optimal Solution Found.\n"
     ]
    }
   ],
   "source": [
    "results = solver.solve(m, tee=True)"
   ]
  },
  {
   "cell_type": "code",
   "execution_count": 30,
   "metadata": {},
   "outputs": [
    {
     "name": "stdout",
     "output_type": "stream",
     "text": [
      "operating cost = $43.309 million per year\n",
      "\n",
      "Compressor results\n",
      "\n",
      "====================================================================================\n",
      "Unit : fs.C101                                                             Time: 0.0\n",
      "------------------------------------------------------------------------------------\n",
      "    Unit Performance\n",
      "\n",
      "    Variables: \n",
      "\n",
      "    Key                   : Value      : Units         : Fixed : Bounds\n",
      "    Isentropic Efficiency :    0.90000 : dimensionless :  True : (None, None)\n",
      "          Mechanical Work : 7.5471e+05 :          watt : False : (None, None)\n",
      "          Pressure Change : 1.0000e+05 :        pascal : False : (None, None)\n",
      "           Pressure Ratio :     2.0000 : dimensionless : False : (None, None)\n",
      "\n",
      "------------------------------------------------------------------------------------\n",
      "    Stream Table\n",
      "                                Units         Inlet     Outlet  \n",
      "    Total Molar Flowrate     mole / second     309.01     309.01\n",
      "    Total Mole Fraction CH4  dimensionless    0.24272    0.24272\n",
      "    Total Mole Fraction H2O  dimensionless    0.75725    0.75725\n",
      "    Total Mole Fraction H2   dimensionless 9.9996e-06 9.9996e-06\n",
      "    Total Mole Fraction CO   dimensionless 9.9996e-06 9.9996e-06\n",
      "    Total Mole Fraction CO2  dimensionless 9.9996e-06 9.9996e-06\n",
      "    Temperature                     kelvin     353.80     423.34\n",
      "    Pressure                        pascal 1.0000e+05 2.0000e+05\n",
      "====================================================================================\n",
      "\n",
      "Heater results\n",
      "\n",
      "====================================================================================\n",
      "Unit : fs.H101                                                             Time: 0.0\n",
      "------------------------------------------------------------------------------------\n",
      "    Unit Performance\n",
      "\n",
      "    Variables: \n",
      "\n",
      "    Key       : Value      : Units : Fixed : Bounds\n",
      "    Heat Duty : 5.8781e-09 :  watt : False : (0, None)\n",
      "\n",
      "------------------------------------------------------------------------------------\n",
      "    Stream Table\n",
      "                                Units         Inlet     Outlet  \n",
      "    Total Molar Flowrate     mole / second     309.01     309.01\n",
      "    Total Mole Fraction CH4  dimensionless    0.24272    0.24272\n",
      "    Total Mole Fraction H2O  dimensionless    0.75725    0.75725\n",
      "    Total Mole Fraction H2   dimensionless 9.9996e-06 9.9996e-06\n",
      "    Total Mole Fraction CO   dimensionless 9.9996e-06 9.9996e-06\n",
      "    Total Mole Fraction CO2  dimensionless 9.9996e-06 9.9996e-06\n",
      "    Temperature                     kelvin     423.34     423.34\n",
      "    Pressure                        pascal 2.0000e+05 2.0000e+05\n",
      "====================================================================================\n",
      "\n",
      "Equilibrium reactor results\n",
      "\n",
      "====================================================================================\n",
      "Unit : fs.R101                                                             Time: 0.0\n",
      "------------------------------------------------------------------------------------\n",
      "    Unit Performance\n",
      "\n",
      "    Variables: \n",
      "\n",
      "    Key       : Value      : Units : Fixed : Bounds\n",
      "    Heat Duty : 3.2486e+07 :  watt : False : (None, None)\n",
      "\n",
      "------------------------------------------------------------------------------------\n",
      "    Stream Table\n",
      "                                Units         Inlet     Outlet  \n",
      "    Total Molar Flowrate     mole / second     309.01     444.02\n",
      "    Total Mole Fraction CH4  dimensionless    0.24272   0.016892\n",
      "    Total Mole Fraction H2O  dimensionless    0.75725    0.29075\n",
      "    Total Mole Fraction H2   dimensionless 9.9996e-06    0.54032\n",
      "    Total Mole Fraction CO   dimensionless 9.9996e-06   0.067801\n",
      "    Total Mole Fraction CO2  dimensionless 9.9996e-06   0.084239\n",
      "    Temperature                     kelvin     423.34     910.04\n",
      "    Pressure                        pascal 2.0000e+05 2.0000e+05\n",
      "====================================================================================\n"
     ]
    }
   ],
   "source": [
    "print(f\"operating cost = ${value(m.fs.operating_cost)/1e6:0.3f} million per year\")\n",
    "\n",
    "print()\n",
    "print('Compressor results')\n",
    "\n",
    "m.fs.C101.report()\n",
    "\n",
    "print()\n",
    "print('Heater results')\n",
    "\n",
    "m.fs.H101.report()\n",
    "\n",
    "print()\n",
    "print('Equilibrium reactor results')\n",
    "\n",
    "m.fs.R101.report()"
   ]
  },
  {
   "cell_type": "markdown",
   "metadata": {},
   "source": [
    "Display optimal values for the decision variables and design variables:"
   ]
  },
  {
   "cell_type": "code",
   "execution_count": 32,
   "metadata": {},
   "outputs": [
    {
     "name": "stdout",
     "output_type": "stream",
     "text": [
      "Optimal Values\n",
      "\n",
      "C101 outlet pressure = 0.200 MPa\n",
      "\n",
      "C101 outlet temperature = 423.345 K\n",
      "\n",
      "H101 outlet temperature = 423.345 K\n",
      "\n",
      "R101 outlet temperature = 910.044 K\n",
      "\n",
      "Hydrogen produced = 33.648 MM lb/year\n",
      "\n",
      "Conversion achieved = 90.0%\n"
     ]
    }
   ],
   "source": [
    "print('Optimal Values')\n",
    "print()\n",
    "\n",
    "print(f\"C101 outlet pressure = {value(m.fs.C101.outlet.pressure[0])/1E6:0.3f} MPa\")\n",
    "print()\n",
    "\n",
    "print(f\"C101 outlet temperature = {value(m.fs.C101.outlet.temperature[0]):0.3f} K\")\n",
    "print()\n",
    "\n",
    "print(f\"H101 outlet temperature = {value(m.fs.H101.outlet.temperature[0]):0.3f} K\")\n",
    "\n",
    "print()\n",
    "print(f\"R101 outlet temperature = {value(m.fs.R101.outlet.temperature[0]):0.3f} K\")\n",
    "\n",
    "print()\n",
    "print(f\"Hydrogen produced = {value(m.fs.hyd_prod):0.3f} MM lb/year\")\n",
    "\n",
    "print()\n",
    "print(f\"Conversion achieved = {value(m.fs.R101.conversion):.1%}\")"
   ]
  },
  {
   "cell_type": "code",
   "execution_count": null,
   "metadata": {},
   "outputs": [],
   "source": []
  }
 ],
 "metadata": {
  "celltoolbar": "Tags",
  "kernelspec": {
   "display_name": "Python 3 (ipykernel)",
   "language": "python",
   "name": "python3"
  },
  "language_info": {
   "codemirror_mode": {
    "name": "ipython",
    "version": 3
   },
   "file_extension": ".py",
   "mimetype": "text/x-python",
   "name": "python",
   "nbconvert_exporter": "python",
   "pygments_lexer": "ipython3",
   "version": "3.8.12"
  }
 },
 "nbformat": 4,
 "nbformat_minor": 4
}
