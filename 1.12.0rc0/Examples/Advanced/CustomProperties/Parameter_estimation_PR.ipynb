{
 "cells": [
  {
   "cell_type": "markdown",
   "metadata": {},
   "source": [
    "# Using parameter estimation with generic property package"
   ]
  },
  {
   "cell_type": "markdown",
   "metadata": {},
   "source": [
    "## 1. Introduction\n",
    "\n",
    "This Jupyter Notebook estimates binary interaction parameters for a CO$_2$-Ionic liquid property package. A property package has been created for CO$_2$-[bmim][PF6]. We will utilize Pyomo's `parmest` tool in conjuction with IDAES models for parameter estimation. We demonstrate these tools by estimating the parameters associated with the Peng-Robinson property model for a benzene-toluene mixture. The Peng-Robinson EOS the binary interaction parameter (kappa_ij). When estimating parameters associated with the property package, IDAES provides the flexibility of doing the parameter estimation by just using the state block or by using a unit model with a specified property package. This module will demonstrate parameter estimation by using the flash unit model with the generic property package.\n",
    "\n",
    "### 1.1 Tutorial objectives\n",
    "\n",
    "* Utilize the Generic Property Package, which provides a flexible platform for users to build property packages by calling upon libraries of modular sub-models to build up complex property calculations with the least effort possible.\n",
    "* Set up a method to return an initialized model\n",
    "* Set up the parameter estimation problem using `parmest`"
   ]
  },
  {
   "cell_type": "markdown",
   "metadata": {},
   "source": [
    "## 2. Problem Statement\n",
    "\n",
    "### 2.1 Importing Pyomo and IDAES model and flowsheet components.\n",
    "\n",
    "In the next cell, we will be importing the necessary components from Pyomo and IDAES."
   ]
  },
  {
   "cell_type": "code",
   "execution_count": 1,
   "metadata": {},
   "outputs": [],
   "source": [
    "# Import objects from pyomo package\n",
    "from pyomo.environ import (ConcreteModel,\n",
    "                           SolverFactory,\n",
    "                           units as pyunits)\n",
    "\n",
    "# Import the main FlowsheetBlock from IDAES. The flowsheet block will contain the unit model\n",
    "from idaes.core import FlowsheetBlock\n",
    "\n",
    "# Import idaes logger to set output levels\n",
    "import idaes.logger as idaeslog\n",
    "\n",
    "# Import Flash unit model from idaes.generic_models.unit_models\n",
    "from idaes.generic_models.unit_models import Flash"
   ]
  },
  {
   "cell_type": "markdown",
   "metadata": {},
   "source": [
    "### 2.2 Import parmest "
   ]
  },
  {
   "cell_type": "code",
   "execution_count": 2,
   "metadata": {},
   "outputs": [],
   "source": [
    "import pyomo.contrib.parmest.parmest as parmest"
   ]
  },
  {
   "cell_type": "markdown",
   "metadata": {},
   "source": [
    "### 2.3 Import the generic parameter block"
   ]
  },
  {
   "cell_type": "code",
   "execution_count": 3,
   "metadata": {},
   "outputs": [],
   "source": [
    "from idaes.generic_models.properties.core.examples.CO2_bmimPF6_PR import configuration\n",
    "\n",
    "from idaes.generic_models.properties.core.generic.generic_property import GenericParameterBlock"
   ]
  },
  {
   "cell_type": "markdown",
   "metadata": {},
   "source": [
    "### 2.4 Import data\n",
    "\n",
    "In the next cell, we will be importing `pandas` and the `.csv` file with preassure and composition data. For this example, we load data from the csv file CO2_IL_298.csv. The dataset consists of ninteen data points which provide the mole fraction of [bmim][PF6] and carbon dioxide and the pressure at three different temperatures."
   ]
  },
  {
   "cell_type": "code",
   "execution_count": 4,
   "metadata": {},
   "outputs": [],
   "source": [
    "import pandas as pd\n",
    "\n",
    "# Load data from csv\n",
    "data = pd.read_csv('CO2_IL_298.csv')"
   ]
  },
  {
   "cell_type": "markdown",
   "metadata": {},
   "source": [
    "## 3.0 Setting up an initialized model\n",
    "\n",
    "We need to provide a method that returns an initialized model to the `parmest` tool in Pyomo.\n",
    "\n",
    "How we build the model will depend on the data we provided in the data dataframe from pir .csv file.\n",
    "\n",
    "In this case we have data on the liquid mixture, the temperature and the pressure. We will fix the temperature, mole franction in the liquid phase, and the mole fraction of the inlet. "
   ]
  },
  {
   "cell_type": "code",
   "execution_count": 5,
   "metadata": {},
   "outputs": [],
   "source": [
    "def PR_model(data):\n",
    "    \n",
    "    m = ConcreteModel()\n",
    "\n",
    "    m.fs = FlowsheetBlock(default={\"dynamic\": False})\n",
    "\n",
    "    m.fs.properties = GenericParameterBlock(default=configuration)\n",
    "\n",
    "    m.fs.state_block = m.fs.properties.build_state_block([1],\n",
    "        default={\"defined_state\": True})\n",
    "\n",
    "    m.fs.state_block[1].flow_mol.fix(1)\n",
    "    x = float(data[\"x_carbon_dioxide\"])+0.5\n",
    "    m.fs.state_block[1].temperature.fix(float(data[\"temperature\"]))\n",
    "    m.fs.state_block[1].pressure.fix(float(data[\"pressure\"]))\n",
    "    m.fs.state_block[1].mole_frac_comp[\"bmimPF6\"].fix(1-x)\n",
    "    m.fs.state_block[1].mole_frac_comp[\"carbon_dioxide\"].fix(x)\n",
    "    \n",
    "    # parameter - kappa_ij (set at 0.3, 0 if i=j)\n",
    "    m.fs.properties.PR_kappa['bmimPF6', 'bmimPF6'].fix(0)\n",
    "    m.fs.properties.PR_kappa['bmimPF6', 'carbon_dioxide'].fix(-0.047)\n",
    "    m.fs.properties.PR_kappa['carbon_dioxide', 'carbon_dioxide'].fix(0)\n",
    "    m.fs.properties.PR_kappa['carbon_dioxide', 'bmimPF6'].fix(0.002)\n",
    "\n",
    "    # Initialize the flash unit\n",
    "    m.fs.state_block.initialize(outlvl=idaeslog.INFO)\n",
    "\n",
    "    # Fix the state variables on the state block\n",
    "    m.fs.state_block[1].pressure.unfix()\n",
    "    m.fs.state_block[1].temperature.fix(float(data[\"temperature\"]))\n",
    "    m.fs.state_block[1].mole_frac_phase_comp['Liq', 'bmimPF6'].fix(float(data[\"x_bmimPF6\"]))\n",
    "    m.fs.state_block[1].mole_frac_phase_comp['Liq', 'carbon_dioxide'].fix(float(data[\"x_carbon_dioxide\"]))\n",
    "    m.fs.state_block[1].mole_frac_comp['bmimPF6'].fix(float(data[\"x_bmimPF6\"]))\n",
    "    m.fs.state_block[1].mole_frac_comp['carbon_dioxide'].unfix()\n",
    "    # Set bounds on variables to be estimated\n",
    "    m.fs.properties.PR_kappa['bmimPF6', 'carbon_dioxide'].setlb(-5)\n",
    "    m.fs.properties.PR_kappa['bmimPF6', 'carbon_dioxide'].setub(5)\n",
    "\n",
    "    m.fs.properties.PR_kappa['carbon_dioxide', 'bmimPF6'].setlb(-5)\n",
    "    m.fs.properties.PR_kappa['carbon_dioxide', 'bmimPF6'].setub(5)\n",
    "\n",
    "    # Return initialized flash model\n",
    "    return m"
   ]
  },
  {
   "cell_type": "markdown",
   "metadata": {},
   "source": [
    "### 3.1 Solving square problem"
   ]
  },
  {
   "cell_type": "code",
   "execution_count": 6,
   "metadata": {
    "scrolled": false
   },
   "outputs": [
    {
     "name": "stdout",
     "output_type": "stream",
     "text": [
      "2021-08-02 12:34:06 [INFO] idaes.init.fs.state_block: Starting initialization\n",
      "2021-08-02 12:34:06 [INFO] idaes.init.fs.state_block: Dew and bubble point initialization: optimal - Optimal Solution Found.\n",
      "2021-08-02 12:34:06 [INFO] idaes.init.fs.state_block: Equilibrium temperature initialization completed.\n",
      "2021-08-02 12:34:06 [INFO] idaes.init.fs.state_block: State variable initialization completed.\n",
      "2021-08-02 12:34:06 [INFO] idaes.init.fs.state_block: Phase equilibrium initialization: optimal - Optimal Solution Found.\n",
      "2021-08-02 12:34:07 [INFO] idaes.init.fs.state_block: Property initialization: optimal - Optimal Solution Found.\n",
      "2021-08-02 12:34:07 [INFO] idaes.init.fs.state_block: Property package initialization: optimal - Optimal Solution Found.\n"
     ]
    }
   ],
   "source": [
    "from idaes.core.util.model_statistics import degrees_of_freedom\n",
    "import pytest\n",
    "\n",
    "test_data = {\"temperature\": 298, \"pressure\": 812323, \"x_bmimPF6\":0.86, \"x_carbon_dioxide\":0.14}\n",
    "\n",
    "m = PR_model(test_data)\n",
    "\n",
    "# Check that degrees of freedom is 0\n",
    "assert degrees_of_freedom(m) == 0"
   ]
  },
  {
   "cell_type": "markdown",
   "metadata": {},
   "source": [
    "## 4.0 Parameter estimation using parmest \n",
    "\n",
    "### 4.1 List of variable names to be estimated\n",
    "\n",
    "Create a list of vars to estimate"
   ]
  },
  {
   "cell_type": "code",
   "execution_count": 7,
   "metadata": {},
   "outputs": [],
   "source": [
    "variable_name = [\"fs.properties.PR_kappa['bmimPF6', 'carbon_dioxide']\",\n",
    "                 \"fs.properties.PR_kappa['carbon_dioxide', 'bmimPF6']\"]"
   ]
  },
  {
   "cell_type": "markdown",
   "metadata": {},
   "source": [
    "### 4.2 Create method to return an expression that computes the sum of squared error\n",
    "\n",
    "We need to provide a method to return an expression to compute the sum of squared errors that will be used as the objective in solving the parameter estimation problem. For this problem, the error will be computed for the pressure."
   ]
  },
  {
   "cell_type": "code",
   "execution_count": 8,
   "metadata": {},
   "outputs": [],
   "source": [
    "def SSE(m, data):   \n",
    "    expr = ((float(data[\"pressure\"]) - m.fs.state_block[1].pressure)**2)\n",
    "    return expr*1e-7"
   ]
  },
  {
   "cell_type": "markdown",
   "metadata": {},
   "source": [
    "### 4.3 Run the parameter estimation\n",
    "\n",
    "We are now ready to set up the parameter estimation problem. We will create a parameter estimation object called pest. As shown below, we pass the method that returns an initialized model, data, variable_name, and the SSE expression to the Estimator method. tee=True will print the solver output after solving the parameter estimation problem."
   ]
  },
  {
   "cell_type": "code",
   "execution_count": 9,
   "metadata": {
    "scrolled": false
   },
   "outputs": [
    {
     "name": "stdout",
     "output_type": "stream",
     "text": [
      "2021-08-02 12:34:07 [INFO] idaes.init.fs.state_block: Starting initialization\n",
      "2021-08-02 12:34:07 [INFO] idaes.init.fs.state_block: Dew and bubble point initialization: optimal - Optimal Solution Found.\n",
      "2021-08-02 12:34:07 [INFO] idaes.init.fs.state_block: Equilibrium temperature initialization completed.\n",
      "2021-08-02 12:34:07 [INFO] idaes.init.fs.state_block: State variable initialization completed.\n",
      "2021-08-02 12:34:07 [INFO] idaes.init.fs.state_block: Phase equilibrium initialization: optimal - Optimal Solution Found.\n",
      "2021-08-02 12:34:08 [INFO] idaes.init.fs.state_block: Property initialization: optimal - Optimal Solution Found.\n",
      "2021-08-02 12:34:08 [INFO] idaes.init.fs.state_block: Property package initialization: optimal - Optimal Solution Found.\n",
      "2021-08-02 12:34:08 [INFO] idaes.init.fs.state_block: Starting initialization\n",
      "2021-08-02 12:34:08 [INFO] idaes.init.fs.state_block: Dew and bubble point initialization: optimal - Optimal Solution Found.\n",
      "2021-08-02 12:34:08 [INFO] idaes.init.fs.state_block: Equilibrium temperature initialization completed.\n",
      "2021-08-02 12:34:08 [INFO] idaes.init.fs.state_block: State variable initialization completed.\n",
      "2021-08-02 12:34:08 [INFO] idaes.init.fs.state_block: Phase equilibrium initialization: optimal - Optimal Solution Found.\n",
      "2021-08-02 12:34:08 [INFO] idaes.init.fs.state_block: Property initialization: optimal - Optimal Solution Found.\n",
      "2021-08-02 12:34:08 [INFO] idaes.init.fs.state_block: Property package initialization: optimal - Optimal Solution Found.\n",
      "2021-08-02 12:34:08 [INFO] idaes.init.fs.state_block: Starting initialization\n",
      "2021-08-02 12:34:09 [INFO] idaes.init.fs.state_block: Dew and bubble point initialization: optimal - Optimal Solution Found.\n",
      "2021-08-02 12:34:09 [INFO] idaes.init.fs.state_block: Equilibrium temperature initialization completed.\n",
      "2021-08-02 12:34:09 [INFO] idaes.init.fs.state_block: State variable initialization completed.\n",
      "2021-08-02 12:34:09 [INFO] idaes.init.fs.state_block: Phase equilibrium initialization: optimal - Optimal Solution Found.\n",
      "2021-08-02 12:34:09 [INFO] idaes.init.fs.state_block: Property initialization: optimal - Optimal Solution Found.\n",
      "2021-08-02 12:34:09 [INFO] idaes.init.fs.state_block: Property package initialization: optimal - Optimal Solution Found.\n",
      "2021-08-02 12:34:09 [INFO] idaes.init.fs.state_block: Starting initialization\n",
      "2021-08-02 12:34:09 [INFO] idaes.init.fs.state_block: Dew and bubble point initialization: optimal - Optimal Solution Found.\n",
      "2021-08-02 12:34:09 [INFO] idaes.init.fs.state_block: Equilibrium temperature initialization completed.\n",
      "2021-08-02 12:34:09 [INFO] idaes.init.fs.state_block: State variable initialization completed.\n",
      "2021-08-02 12:34:10 [INFO] idaes.init.fs.state_block: Phase equilibrium initialization: optimal - Optimal Solution Found.\n",
      "2021-08-02 12:34:10 [INFO] idaes.init.fs.state_block: Property initialization: optimal - Optimal Solution Found.\n",
      "2021-08-02 12:34:10 [INFO] idaes.init.fs.state_block: Property package initialization: optimal - Optimal Solution Found.\n",
      "2021-08-02 12:34:10 [INFO] idaes.init.fs.state_block: Starting initialization\n",
      "2021-08-02 12:34:10 [INFO] idaes.init.fs.state_block: Dew and bubble point initialization: optimal - Optimal Solution Found.\n",
      "2021-08-02 12:34:10 [INFO] idaes.init.fs.state_block: Equilibrium temperature initialization completed.\n",
      "2021-08-02 12:34:10 [INFO] idaes.init.fs.state_block: State variable initialization completed.\n",
      "2021-08-02 12:34:10 [INFO] idaes.init.fs.state_block: Phase equilibrium initialization: optimal - Optimal Solution Found.\n",
      "2021-08-02 12:34:11 [INFO] idaes.init.fs.state_block: Property initialization: optimal - Optimal Solution Found.\n",
      "2021-08-02 12:34:11 [INFO] idaes.init.fs.state_block: Property package initialization: optimal - Optimal Solution Found.\n",
      "2021-08-02 12:34:11 [INFO] idaes.init.fs.state_block: Starting initialization\n",
      "2021-08-02 12:34:11 [INFO] idaes.init.fs.state_block: Dew and bubble point initialization: optimal - Optimal Solution Found.\n",
      "2021-08-02 12:34:11 [INFO] idaes.init.fs.state_block: Equilibrium temperature initialization completed.\n",
      "2021-08-02 12:34:11 [INFO] idaes.init.fs.state_block: State variable initialization completed.\n",
      "2021-08-02 12:34:11 [INFO] idaes.init.fs.state_block: Phase equilibrium initialization: optimal - Optimal Solution Found.\n",
      "2021-08-02 12:34:11 [INFO] idaes.init.fs.state_block: Property initialization: optimal - Optimal Solution Found.\n",
      "2021-08-02 12:34:11 [INFO] idaes.init.fs.state_block: Property package initialization: optimal - Optimal Solution Found.\n",
      "2021-08-02 12:34:12 [INFO] idaes.init.fs.state_block: Starting initialization\n",
      "2021-08-02 12:34:12 [INFO] idaes.init.fs.state_block: Dew and bubble point initialization: optimal - Optimal Solution Found.\n",
      "2021-08-02 12:34:12 [INFO] idaes.init.fs.state_block: Equilibrium temperature initialization completed.\n",
      "2021-08-02 12:34:12 [INFO] idaes.init.fs.state_block: State variable initialization completed.\n",
      "2021-08-02 12:34:12 [INFO] idaes.init.fs.state_block: Phase equilibrium initialization: optimal - Optimal Solution Found.\n",
      "2021-08-02 12:34:12 [INFO] idaes.init.fs.state_block: Property initialization: optimal - Optimal Solution Found.\n",
      "2021-08-02 12:34:12 [INFO] idaes.init.fs.state_block: Property package initialization: optimal - Optimal Solution Found.\n",
      "2021-08-02 12:34:12 [INFO] idaes.init.fs.state_block: Starting initialization\n",
      "2021-08-02 12:34:12 [INFO] idaes.init.fs.state_block: Dew and bubble point initialization: optimal - Optimal Solution Found.\n",
      "2021-08-02 12:34:12 [INFO] idaes.init.fs.state_block: Equilibrium temperature initialization completed.\n",
      "2021-08-02 12:34:12 [INFO] idaes.init.fs.state_block: State variable initialization completed.\n",
      "2021-08-02 12:34:13 [INFO] idaes.init.fs.state_block: Phase equilibrium initialization: optimal - Optimal Solution Found.\n",
      "2021-08-02 12:34:13 [INFO] idaes.init.fs.state_block: Property initialization: optimal - Optimal Solution Found.\n",
      "2021-08-02 12:34:13 [INFO] idaes.init.fs.state_block: Property package initialization: optimal - Optimal Solution Found.\n",
      "2021-08-02 12:34:13 [INFO] idaes.init.fs.state_block: Starting initialization\n",
      "2021-08-02 12:34:13 [INFO] idaes.init.fs.state_block: Dew and bubble point initialization: optimal - Optimal Solution Found.\n",
      "2021-08-02 12:34:13 [INFO] idaes.init.fs.state_block: Equilibrium temperature initialization completed.\n",
      "2021-08-02 12:34:13 [INFO] idaes.init.fs.state_block: State variable initialization completed.\n",
      "2021-08-02 12:34:14 [INFO] idaes.init.fs.state_block: Phase equilibrium initialization: optimal - Optimal Solution Found.\n",
      "2021-08-02 12:34:14 [INFO] idaes.init.fs.state_block: Property initialization: optimal - Optimal Solution Found.\n",
      "2021-08-02 12:34:14 [INFO] idaes.init.fs.state_block: Property package initialization: optimal - Optimal Solution Found.\n",
      "2021-08-02 12:34:14 [INFO] idaes.init.fs.state_block: Starting initialization\n",
      "2021-08-02 12:34:14 [INFO] idaes.init.fs.state_block: Dew and bubble point initialization: optimal - Optimal Solution Found.\n",
      "2021-08-02 12:34:14 [INFO] idaes.init.fs.state_block: Equilibrium temperature initialization completed.\n",
      "2021-08-02 12:34:14 [INFO] idaes.init.fs.state_block: State variable initialization completed.\n",
      "2021-08-02 12:34:14 [INFO] idaes.init.fs.state_block: Phase equilibrium initialization: optimal - Optimal Solution Found.\n",
      "2021-08-02 12:34:15 [INFO] idaes.init.fs.state_block: Property initialization: optimal - Optimal Solution Found.\n",
      "2021-08-02 12:34:15 [INFO] idaes.init.fs.state_block: Property package initialization: optimal - Optimal Solution Found.\n",
      "2021-08-02 12:34:15 [INFO] idaes.init.fs.state_block: Starting initialization\n",
      "2021-08-02 12:34:15 [INFO] idaes.init.fs.state_block: Dew and bubble point initialization: optimal - Optimal Solution Found.\n",
      "2021-08-02 12:34:15 [INFO] idaes.init.fs.state_block: Equilibrium temperature initialization completed.\n",
      "2021-08-02 12:34:15 [INFO] idaes.init.fs.state_block: State variable initialization completed.\n",
      "2021-08-02 12:34:15 [INFO] idaes.init.fs.state_block: Phase equilibrium initialization: optimal - Optimal Solution Found.\n",
      "2021-08-02 12:34:15 [INFO] idaes.init.fs.state_block: Property initialization: optimal - Optimal Solution Found.\n"
     ]
    },
    {
     "name": "stdout",
     "output_type": "stream",
     "text": [
      "2021-08-02 12:34:15 [INFO] idaes.init.fs.state_block: Property package initialization: optimal - Optimal Solution Found.\n",
      "2021-08-02 12:34:15 [INFO] idaes.init.fs.state_block: Starting initialization\n",
      "2021-08-02 12:34:16 [INFO] idaes.init.fs.state_block: Dew and bubble point initialization: optimal - Optimal Solution Found.\n",
      "2021-08-02 12:34:16 [INFO] idaes.init.fs.state_block: Equilibrium temperature initialization completed.\n",
      "2021-08-02 12:34:16 [INFO] idaes.init.fs.state_block: State variable initialization completed.\n",
      "2021-08-02 12:34:16 [INFO] idaes.init.fs.state_block: Phase equilibrium initialization: optimal - Optimal Solution Found.\n",
      "2021-08-02 12:34:16 [INFO] idaes.init.fs.state_block: Property initialization: optimal - Optimal Solution Found.\n",
      "2021-08-02 12:34:16 [INFO] idaes.init.fs.state_block: Property package initialization: optimal - Optimal Solution Found.\n",
      "2021-08-02 12:34:16 [INFO] idaes.init.fs.state_block: Starting initialization\n",
      "2021-08-02 12:34:16 [INFO] idaes.init.fs.state_block: Dew and bubble point initialization: optimal - Optimal Solution Found.\n",
      "2021-08-02 12:34:16 [INFO] idaes.init.fs.state_block: Equilibrium temperature initialization completed.\n",
      "2021-08-02 12:34:16 [INFO] idaes.init.fs.state_block: State variable initialization completed.\n",
      "2021-08-02 12:34:17 [INFO] idaes.init.fs.state_block: Phase equilibrium initialization: optimal - Optimal Solution Found.\n",
      "2021-08-02 12:34:17 [INFO] idaes.init.fs.state_block: Property initialization: optimal - Optimal Solution Found.\n",
      "2021-08-02 12:34:17 [INFO] idaes.init.fs.state_block: Property package initialization: optimal - Optimal Solution Found.\n",
      "2021-08-02 12:34:17 [INFO] idaes.init.fs.state_block: Starting initialization\n",
      "2021-08-02 12:34:17 [INFO] idaes.init.fs.state_block: Dew and bubble point initialization: optimal - Optimal Solution Found.\n",
      "2021-08-02 12:34:17 [INFO] idaes.init.fs.state_block: Equilibrium temperature initialization completed.\n",
      "2021-08-02 12:34:17 [INFO] idaes.init.fs.state_block: State variable initialization completed.\n",
      "2021-08-02 12:34:18 [INFO] idaes.init.fs.state_block: Phase equilibrium initialization: optimal - Optimal Solution Found.\n",
      "2021-08-02 12:34:18 [INFO] idaes.init.fs.state_block: Property initialization: optimal - Optimal Solution Found.\n",
      "2021-08-02 12:34:18 [INFO] idaes.init.fs.state_block: Property package initialization: optimal - Optimal Solution Found.\n",
      "2021-08-02 12:34:18 [INFO] idaes.init.fs.state_block: Starting initialization\n",
      "2021-08-02 12:34:18 [INFO] idaes.init.fs.state_block: Dew and bubble point initialization: optimal - Optimal Solution Found.\n",
      "2021-08-02 12:34:18 [INFO] idaes.init.fs.state_block: Equilibrium temperature initialization completed.\n",
      "2021-08-02 12:34:18 [INFO] idaes.init.fs.state_block: State variable initialization completed.\n",
      "2021-08-02 12:34:18 [INFO] idaes.init.fs.state_block: Phase equilibrium initialization: optimal - Optimal Solution Found.\n",
      "2021-08-02 12:34:19 [INFO] idaes.init.fs.state_block: Property initialization: optimal - Optimal Solution Found.\n",
      "2021-08-02 12:34:19 [INFO] idaes.init.fs.state_block: Property package initialization: optimal - Optimal Solution Found.\n",
      "2021-08-02 12:34:19 [INFO] idaes.init.fs.state_block: Starting initialization\n",
      "2021-08-02 12:34:19 [INFO] idaes.init.fs.state_block: Dew and bubble point initialization: optimal - Optimal Solution Found.\n",
      "2021-08-02 12:34:19 [INFO] idaes.init.fs.state_block: Equilibrium temperature initialization completed.\n",
      "2021-08-02 12:34:19 [INFO] idaes.init.fs.state_block: State variable initialization completed.\n",
      "2021-08-02 12:34:19 [INFO] idaes.init.fs.state_block: Phase equilibrium initialization: optimal - Optimal Solution Found.\n",
      "2021-08-02 12:34:20 [INFO] idaes.init.fs.state_block: Property initialization: optimal - Optimal Solution Found.\n",
      "2021-08-02 12:34:20 [INFO] idaes.init.fs.state_block: Property package initialization: optimal - Optimal Solution Found.\n",
      "2021-08-02 12:34:20 [INFO] idaes.init.fs.state_block: Starting initialization\n",
      "2021-08-02 12:34:20 [INFO] idaes.init.fs.state_block: Dew and bubble point initialization: optimal - Optimal Solution Found.\n",
      "2021-08-02 12:34:20 [INFO] idaes.init.fs.state_block: Equilibrium temperature initialization completed.\n",
      "2021-08-02 12:34:20 [INFO] idaes.init.fs.state_block: State variable initialization completed.\n",
      "2021-08-02 12:34:20 [INFO] idaes.init.fs.state_block: Phase equilibrium initialization: optimal - Optimal Solution Found.\n",
      "2021-08-02 12:34:20 [INFO] idaes.init.fs.state_block: Property initialization: optimal - Optimal Solution Found.\n",
      "2021-08-02 12:34:20 [INFO] idaes.init.fs.state_block: Property package initialization: optimal - Optimal Solution Found.\n",
      "2021-08-02 12:34:20 [INFO] idaes.init.fs.state_block: Starting initialization\n",
      "2021-08-02 12:34:21 [INFO] idaes.init.fs.state_block: Dew and bubble point initialization: optimal - Optimal Solution Found.\n",
      "2021-08-02 12:34:21 [INFO] idaes.init.fs.state_block: Equilibrium temperature initialization completed.\n",
      "2021-08-02 12:34:21 [INFO] idaes.init.fs.state_block: State variable initialization completed.\n",
      "2021-08-02 12:34:21 [INFO] idaes.init.fs.state_block: Phase equilibrium initialization: optimal - Optimal Solution Found.\n",
      "2021-08-02 12:34:21 [INFO] idaes.init.fs.state_block: Property initialization: optimal - Optimal Solution Found.\n",
      "2021-08-02 12:34:21 [INFO] idaes.init.fs.state_block: Property package initialization: optimal - Optimal Solution Found.\n",
      "Ipopt 3.12.13: \n",
      "\n",
      "******************************************************************************\n",
      "This program contains Ipopt, a library for large-scale nonlinear optimization.\n",
      " Ipopt is released as open source code under the Eclipse Public License (EPL).\n",
      "         For more information visit http://projects.coin-or.org/Ipopt\n",
      "\n",
      "This version of Ipopt was compiled from source code available at\n",
      "    https://github.com/IDAES/Ipopt as part of the Institute for the Design of\n",
      "    Advanced Energy Systems Process Systems Engineering Framework (IDAES PSE\n",
      "    Framework) Copyright (c) 2018-2019. See https://github.com/IDAES/idaes-pse.\n",
      "\n",
      "This version of Ipopt was compiled using HSL, a collection of Fortran codes\n",
      "    for large-scale scientific computation.  All technical papers, sales and\n",
      "    publicity material resulting from use of the HSL codes within IPOPT must\n",
      "    contain the following acknowledgement:\n",
      "        HSL, a collection of Fortran codes for large-scale scientific\n",
      "        computation. See http://www.hsl.rl.ac.uk.\n",
      "******************************************************************************\n",
      "\n",
      "This is Ipopt version 3.12.13, running with linear solver ma27.\n",
      "\n",
      "Number of nonzeros in equality constraint Jacobian...:      608\n",
      "Number of nonzeros in inequality constraint Jacobian.:        0\n",
      "Number of nonzeros in Lagrangian Hessian.............:      612\n",
      "\n",
      "Total number of variables............................:      252\n",
      "                     variables with only lower bounds:      108\n",
      "                variables with lower and upper bounds:      108\n",
      "                     variables with only upper bounds:        0\n",
      "Total number of equality constraints.................:      250\n",
      "Total number of inequality constraints...............:        0\n",
      "        inequality constraints with only lower bounds:        0\n",
      "   inequality constraints with lower and upper bounds:        0\n",
      "        inequality constraints with only upper bounds:        0\n",
      "\n",
      "iter    objective    inf_pr   inf_du lg(mu)  ||d||  lg(rg) alpha_du alpha_pr  ls\n",
      "   0  0.0000000e+00 4.98e-01 4.66e-15  -1.0 0.00e+00    -  0.00e+00 0.00e+00   0\n",
      "   1  2.9825755e+01 1.39e+00 1.73e+03  -1.0 3.69e+04    -  3.97e-01 9.90e-01h  1\n",
      "   2  2.9800115e+01 1.60e+00 2.39e+03  -1.0 1.37e+03    -  9.37e-01 9.90e-01h  1\n",
      "   3  2.9653330e+01 3.23e-01 2.53e+04  -1.0 1.66e+03    -  7.35e-01 9.90e-01h  1\n",
      "   4  2.9386392e+01 2.02e-02 5.65e+04  -1.0 1.47e+03    -  9.89e-01 1.00e+00h  1\n",
      "   5  2.9283226e+01 2.13e-04 1.04e+05  -1.0 1.66e+03    -  9.89e-01 1.00e+00f  1\n",
      "   6  2.9283598e+01 2.79e-08 1.04e+03  -1.0 2.19e+01    -  9.90e-01 1.00e+00h  1\n",
      "   7  2.9282885e+01 3.35e-07 2.61e+04  -2.5 1.24e+02    -  9.97e-01 1.00e+00f  1\n",
      "   8  2.9282886e+01 1.49e-12 4.97e-08  -2.5 2.39e-01    -  1.00e+00 1.00e+00h  1\n",
      "   9  2.9282886e+01 2.85e-10 3.05e+00  -8.6 3.61e+00    -  1.00e+00 1.00e+00h  1\n",
      "iter    objective    inf_pr   inf_du lg(mu)  ||d||  lg(rg) alpha_du alpha_pr  ls\n",
      "  10  2.9282886e+01 1.49e-12 2.24e-12  -8.6 2.03e-04    -  1.00e+00 1.00e+00h  1\n",
      "\n",
      "Number of Iterations....: 10\n",
      "\n",
      "                                   (scaled)                 (unscaled)\n",
      "Objective...............:   2.9282885686260574e+01    2.9282885686260574e+01\n",
      "Dual infeasibility......:   2.2379287001856180e-12    2.2379287001856180e-12\n",
      "Constraint violation....:   1.4850343177386094e-12    1.4850343177386094e-12\n",
      "Complementarity.........:   2.5059037693883382e-09    2.5059037693883382e-09\n",
      "Overall NLP error.......:   2.5059037693883382e-09    2.5059037693883382e-09\n",
      "\n",
      "\n",
      "Number of objective function evaluations             = 11\n",
      "Number of objective gradient evaluations             = 11\n",
      "Number of equality constraint evaluations            = 11\n",
      "Number of inequality constraint evaluations          = 0\n",
      "Number of equality constraint Jacobian evaluations   = 11\n",
      "Number of inequality constraint Jacobian evaluations = 0\n",
      "Number of Lagrangian Hessian evaluations             = 10\n",
      "Total CPU secs in IPOPT (w/o function evaluations)   =      0.017\n",
      "Total CPU secs in NLP function evaluations           =      0.113\n",
      "\n",
      "EXIT: Optimal Solution Found.\n",
      "\b"
     ]
    }
   ],
   "source": [
    "pest = parmest.Estimator(PR_model, data, variable_name, SSE, tee=True)\n",
    "\n",
    "obj_value, parameters = pest.theta_est()"
   ]
  },
  {
   "cell_type": "markdown",
   "metadata": {},
   "source": [
    "## 5.0 Display results\n",
    "\n",
    "Let us display the results by running the next cell."
   ]
  },
  {
   "cell_type": "code",
   "execution_count": 10,
   "metadata": {},
   "outputs": [
    {
     "name": "stdout",
     "output_type": "stream",
     "text": [
      "The SSE at the optimal solution is 29.282886\n",
      "\n",
      "The values for the parameters are as follows:\n",
      "fs.properties.PR_kappa[bmimPF6,carbon_dioxide] = -0.4071425176654395\n",
      "fs.properties.PR_kappa[carbon_dioxide,bmimPF6] = 0.020593691531702756\n"
     ]
    }
   ],
   "source": [
    "print(\"The SSE at the optimal solution is %0.6f\" % obj_value)\n",
    "print()\n",
    "print(\"The values for the parameters are as follows:\")\n",
    "for k,v in parameters.items():\n",
    "    print(k, \"=\", v)"
   ]
  },
  {
   "cell_type": "markdown",
   "metadata": {},
   "source": [
    "Now we can use this parameters and include them in the configuration dictionary. We can also use `m.fs.properties = GenericParameterBlock(default=configuration)` to solve unit models."
   ]
  },
  {
   "cell_type": "code",
   "execution_count": null,
   "metadata": {},
   "outputs": [],
   "source": []
  }
 ],
 "metadata": {
  "kernelspec": {
   "display_name": "Python 3 (ipykernel)",
   "language": "python",
   "name": "python3"
  },
  "language_info": {
   "codemirror_mode": {
    "name": "ipython",
    "version": 3
   },
   "file_extension": ".py",
   "mimetype": "text/x-python",
   "name": "python",
   "nbconvert_exporter": "python",
   "pygments_lexer": "ipython3",
   "version": "3.9.6"
  }
 },
 "nbformat": 4,
 "nbformat_minor": 4
}
