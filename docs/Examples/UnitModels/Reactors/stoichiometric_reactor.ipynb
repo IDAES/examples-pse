{
 "cells": [
  {
   "cell_type": "markdown",
   "metadata": {},
   "source": [
    "\n",
    "# Flowsheet Stoichiometric Reactor Simulation and Optimization of Ethylene Glycol Production\n",
    "\n",
    "\n",
    "## Learning outcomes\n",
    "\n",
    "\n",
    "- Call and implement the IDAES StochiometricReactor unit model\n",
    "- Construct a steady-state flowsheet using the IDAES unit model library\n",
    "- Connecting unit models in a flowsheet using Arcs\n",
    "- Fomulate and solve an optimization problem\n",
    "    - Defining an objective function\n",
    "    - Setting variable bounds\n",
    "    - Adding additional constraints \n",
    "\n",
    "\n",
    "## Problem Statement\n",
    "\n",
    "Following the previous example implementing a CSTR unit model, we can alter the flowsheet to use a stochiometric (or yield) reactor. As before, this example is adapted from Fogler, H.S., Elements of Chemical Reaction Engineering 5th ed., 2016, Prentice Hall,  p. 157-160 with the following chemical reaction, property packages and flowsheet. Unlike the previous two reactors which apply performance equations to calculate reaction extent, this simplified reactor model neglects all geometric properties and allows the user to specify a yield per reaction. The state variables chosen for the property package are **molar flows of each component by phase in each stream, temperature of each stream and pressure of each stream**. The components considered are: **ethylene oxide, water, sulfuric acid and ethylene glycol** and the process occurs in liquid phase only. Therefore, every stream has 4 flow variables, 1 temperature and 1 pressure variable.\n",
    "\n",
    "Chemical reaction:\n",
    "\n",
    "**C<sub>2</sub>H<sub>4</sub>O</sub> + H<sub>2</sub>O</sub> + H<sub>2</sub>S</sub>O<sub>4</sub> → C<sub>2</sub>H<sub>6</sub>O<sub>2</sub> + H<sub>2</sub>S</sub>O<sub>4</sub>**\n",
    "\n",
    "Property Packages:\n",
    "\n",
    "- egprod_ideal.py\n",
    "- egprod_reaction.py\n",
    "\n",
    "Flowsheet:\n",
    "\n",
    "![](egprod_flowsheet.png)\n",
    "\n"
   ]
  },
  {
   "cell_type": "markdown",
   "metadata": {},
   "source": [
    "## Importing required Pyomo and IDAES components\n",
    "\n",
    "\n",
    "To construct a flowsheet, we will need several components from the pyomo and idaes package. Let us first import the following components from Pyomo:\n",
    "- Constraint (to write constraints)\n",
    "- Var (to declare variables)\n",
    "- ConcreteModel (to create the concrete model object)\n",
    "- Expression (to evaluate values as a function of variables defined in the model)\n",
    "- Objective (to define an objective function for optimization)\n",
    "- TransformationFactory (to apply certain transformations)\n",
    "- Arc (to connect two unit models)\n",
    "\n",
    "For further details on these components, please refer to the pyomo documentation: https://pyomo.readthedocs.io/en/latest/\n",
    "\n",
    "From idaes, we will be needing the FlowsheetBlock and the following unit models:\n",
    "- Mixer\n",
    "- Heater\n",
    "- StoichiometricReactor\n",
    "\n",
    "We will also be needing some utility tools to put together the flowsheet and calculate the degrees of freedom, tools for model expressions and calling variable values, and built-in functions to define property packages, add unit containers to objects and define our initialization scheme.\n"
   ]
  },
  {
   "cell_type": "code",
   "execution_count": 1,
   "metadata": {},
   "outputs": [],
   "source": [
    "from pyomo.environ import (Constraint,\n",
    "                           exp,\n",
    "                           Var,\n",
    "                           ConcreteModel,\n",
    "                           Expression,\n",
    "                           Objective,\n",
    "                           TransformationFactory,\n",
    "                           value,\n",
    "                           units as pyunits)\n",
    "from pyomo.network import Arc\n",
    "\n",
    "from idaes.core import FlowsheetBlock\n",
    "from idaes.generic_models.properties.core.generic.generic_property import (\n",
    "        GenericParameterBlock)\n",
    "from idaes.generic_models.properties.core.generic.generic_reaction import (\n",
    "        GenericReactionParameterBlock)\n",
    "from idaes.generic_models.unit_models import (Mixer,\n",
    "                                              Heater,\n",
    "                                              StoichiometricReactor)\n",
    "\n",
    "from idaes.core.util.constants import Constants\n",
    "from idaes.core.util import get_solver\n",
    "from idaes.core.util.model_statistics import degrees_of_freedom\n",
    "from idaes.core.util.initialization import propagate_state\n",
    "\n",
    "import idaes.logger as idaeslog"
   ]
  },
  {
   "cell_type": "markdown",
   "metadata": {},
   "source": [
    "## Importing required thermo and reaction package\n",
    "\n",
    "The final set of imports are to import the thermo and reaction package. We have created a custom thermo package that support ideal vapor and liquid behavior for this system, and in this case we will restrict it to ideal liquid behavior only.\n",
    "\n",
    "The reaction package here assumes Arrhenius kinetic behavior for the StoichiometricReactor, for which $k_0$ and $E_a$ are known *a priori* (if unknown, they may be obtained using one of the parameter estimation tools within IDAES).\n",
    "\n",
    "$ r = -kVC_{EO} $, $ k = k_0 e^{(-E_a/RT)}$, with the variables as follows:\n",
    "\n",
    "$r$ - reaction rate extent in moles of ethylene oxide consumed per second; note that the traditional reaction rate would be given by $rate = r/V$ in moles per $m^3$ per second  \n",
    "$k$ - reaction rate constant per second  \n",
    "$V$ - volume of StoichiometricReactor in $m^3$, note that this is *liquid volume* and not the *total volume* of the reactor itself  \n",
    "$C_{EO}$ - bulk concentration of ethylene oxide in moles per $m^3$ (the limiting reagent, since we assume excess catalyst and water)  \n",
    "$k_0$ - pre-exponential Arrhenius factor per second  \n",
    "$E_a$ - reaction activation energy in kJ per mole of ethylene oxide consumed  \n",
    "$R$ - gas constant in J/mol-K  \n",
    "$T$ - reactor temperature in K\n",
    "\n",
    "These calculations are contained within the property, reaction and unit model packages, and do not need to be entered into the flowsheet. More information on property estimation may be found below:\n",
    "\n",
    "ParamEst parameter estimation: https://idaes-pse.readthedocs.io/en/stable/user_guide/workflow/data_rec_parmest.html?highlight=paramest  \n",
    "HELMET thermodynamic estimation: https://idaes-pse.readthedocs.io/en/stable/user_guide/modeling_extensions/surrogate/helmet/index.html  \n",
    "RIPE reaction estimation: https://idaes-pse.readthedocs.io/en/stable/user_guide/modeling_extensions/surrogate/ripe/index.html  \n",
    "\n",
    "Let us import the following modules from the same directory as this Jupyter notebook:\n",
    "- egprod_ideal as thermo_props\n",
    "- egprod_reaction as reaction_props"
   ]
  },
  {
   "cell_type": "code",
   "execution_count": 2,
   "metadata": {},
   "outputs": [],
   "source": [
    "import egprod_ideal as thermo_props\n",
    "import egprod_reaction as reaction_props"
   ]
  },
  {
   "cell_type": "markdown",
   "metadata": {},
   "source": [
    "## Constructing the Flowsheet\n",
    "\n",
    "We have now imported all the components, unit models, and property modules we need to construct a flowsheet. Let us create a ConcreteModel and add the flowsheet block. "
   ]
  },
  {
   "cell_type": "code",
   "execution_count": 3,
   "metadata": {},
   "outputs": [],
   "source": [
    "m = ConcreteModel()\n",
    "m.fs = FlowsheetBlock(default={\"dynamic\": False})"
   ]
  },
  {
   "cell_type": "markdown",
   "metadata": {},
   "source": [
    "We now need to add the property packages to the flowsheet. Unlike Module 1, where we only had a thermo property package, for this flowsheet we will also need to add a reaction property package. We will use the Generic Property and Generic Reaction Frameworks; more information may be found on these methods at https://idaes-pse.readthedocs.io/en/1.8.0/user_guide/components/property_package/index.html."
   ]
  },
  {
   "cell_type": "code",
   "execution_count": 4,
   "metadata": {
    "scrolled": true
   },
   "outputs": [],
   "source": [
    "m.fs.thermo_params = GenericParameterBlock(default=thermo_props.config_dict)\n",
    "m.fs.reaction_params = GenericReactionParameterBlock(default={\"property_package\": m.fs.thermo_params,\n",
    "                                                              **reaction_props.config_dict})"
   ]
  },
  {
   "cell_type": "markdown",
   "metadata": {},
   "source": [
    "## Adding Unit Models\n",
    "\n",
    "Let us start adding the unit models we have imported to the flowsheet. Here, we are adding a Mixer (assigned a name M101), a Heater (assigned a name H101) and a StoichiometricReactor (assigned a name R101). Note that all unit models need to be given a property package argument. In addition to that, there are several arguments depending on the unit model, please refer to the documentation for more details (https://idaes-pse.readthedocs.io/en/latest/model_libraries/core_lib/unit_models/index.html). For example, the Mixer unit model here is given a `list` consisting of names to the two inlets."
   ]
  },
  {
   "cell_type": "code",
   "execution_count": 5,
   "metadata": {
    "scrolled": true
   },
   "outputs": [],
   "source": [
    "m.fs.M101 = Mixer(default={\"property_package\": m.fs.thermo_params,\n",
    "                           \"inlet_list\": [\"reagent_feed\", \"catalyst_feed\"]})\n",
    "m.fs.H101 = Heater(default={\"property_package\": m.fs.thermo_params,\n",
    "                            \"has_pressure_change\": False,\n",
    "                            \"has_phase_equilibrium\": False})"
   ]
  },
  {
   "cell_type": "code",
   "execution_count": 6,
   "metadata": {
    "scrolled": false
   },
   "outputs": [],
   "source": [
    "m.fs.R101 = StoichiometricReactor(\n",
    "            default={\"property_package\": m.fs.thermo_params,\n",
    "                     \"reaction_package\": m.fs.reaction_params,\n",
    "                     \"has_heat_of_reaction\": True,\n",
    "                     \"has_heat_transfer\": True,\n",
    "                     \"has_pressure_change\": False})"
   ]
  },
  {
   "cell_type": "markdown",
   "metadata": {},
   "source": [
    "## Connecting Unit Models using Arcs\n",
    "\n",
    "We have now added all the unit models we need to the flowsheet. However, we have not yet specifed how the units are to be connected. To do this, we will be using the `Arc` which is a pyomo component that takes in two arguments: `source` and `destination`. Let us connect the outlet of the mixer(M101) to the inlet of the heater(H101), and the outlet of the heater(H101) to the inlet of the reactor(R101)."
   ]
  },
  {
   "cell_type": "code",
   "execution_count": 7,
   "metadata": {},
   "outputs": [],
   "source": [
    "m.fs.s03 = Arc(source=m.fs.M101.outlet, destination=m.fs.H101.inlet)\n",
    "m.fs.s04 = Arc(source=m.fs.H101.outlet, destination=m.fs.R101.inlet)"
   ]
  },
  {
   "cell_type": "markdown",
   "metadata": {},
   "source": [
    "We have now connected the unit model block using the arcs. However, each of these arcs link to ports on the two unit models that are connected. In this case, the ports consist of the state variables that need to be linked between the unit models. Pyomo provides a convenient method to write these equality constraints for us between two ports and this is done as follows:"
   ]
  },
  {
   "cell_type": "code",
   "execution_count": 8,
   "metadata": {},
   "outputs": [],
   "source": [
    "TransformationFactory(\"network.expand_arcs\").apply_to(m)"
   ]
  },
  {
   "cell_type": "markdown",
   "metadata": {},
   "source": [
    "## Adding expressions to compute operating costs\n",
    "\n",
    "In this section, we will add a few Expressions that allows us to evaluate the performance. Expressions provide a convenient way of calculating certain values that are a function of the variables defined in the model. For more details on Expressions, please refer to: https://pyomo.readthedocs.io/en/latest/pyomo_modeling_components/Expressions.html\n",
    "\n",
    "For this flowsheet, we are interested in computing ethylene glycol production in millions of pounds per year, as well as the total costs due to cooling and heating utilities:"
   ]
  },
  {
   "cell_type": "markdown",
   "metadata": {},
   "source": [
    "Let us first add an Expression to convert the product flow from mol/s to MM lb/year of ethylene glycol. We see that our molecular weight exists in the thermo property package, so we may use that value for our calculations."
   ]
  },
  {
   "cell_type": "code",
   "execution_count": 9,
   "metadata": {},
   "outputs": [],
   "source": [
    "m.fs.eg_prod = Expression(expr=pyunits.convert(m.fs.R101.outlet.flow_mol_phase_comp[0, \"Liq\", \"ethylene_glycol\"]\n",
    "                                               *m.fs.thermo_params.ethylene_glycol.mw, # MW defined in properties as kg/mol\n",
    "                                               to_units=pyunits.Mlb/pyunits.yr)) # converting kg/s to MM lb/year"
   ]
  },
  {
   "cell_type": "markdown",
   "metadata": {},
   "source": [
    "Now, let us add expressions to compute the reactor cooling cost (\\\\$/s) assuming a cost of 0.212E-4 \\\\$/kW, and the heating utility cost (\\\\$/s) assuming 2.2E-4 \\\\$/kW. Note that the heat duty is in units of watt (J/s). The total operating cost will be the sum of the two, expressed in \\\\$/year assuming 8000 operating hours per year (~10\\% downtime, which is fairly common for small scale chemical plants):"
   ]
  },
  {
   "cell_type": "code",
   "execution_count": 10,
   "metadata": {},
   "outputs": [],
   "source": [
    "m.fs.cooling_cost = Expression(expr=0.212e-7 * (-m.fs.R101.heat_duty[0]))  # the reaction is exothermic, so R101 duty is negative\n",
    "m.fs.heating_cost = Expression(expr=2.2e-7 * m.fs.H101.heat_duty[0])  # the stream must be heated to T_rxn, so H101 duty is positive\n",
    "m.fs.operating_cost = Expression(expr=(3600 * 8000 *(m.fs.heating_cost + m.fs.cooling_cost)))"
   ]
  },
  {
   "cell_type": "markdown",
   "metadata": {},
   "source": [
    "## Fixing feed conditions\n",
    "\n",
    "Let us first check how many degrees of freedom exist for this flowsheet using the `degrees_of_freedom` tool we imported earlier. We expect each stream to have 6 degrees of freedom, the mixer to have 0 (after both streams are accounted for), the heater to have 1 (just the duty, since the inlet is also the outlet of M101), and the reactor to have 1 (duty or overall conversion, since the inlet is also the outlet of H101). In this case, the reactor has an extra degree of freedom since we have not yet defined the yield of the sole rate-kinetics reaction. Therefore, we have 15 degrees of freedom to specify: temperature, pressure and flow of all four components on both streams; outlet heater temperature; reactor conversion and duty."
   ]
  },
  {
   "cell_type": "code",
   "execution_count": 11,
   "metadata": {
    "scrolled": true
   },
   "outputs": [
    {
     "name": "stdout",
     "output_type": "stream",
     "text": [
      "15\n"
     ]
    }
   ],
   "source": [
    "print(degrees_of_freedom(m))"
   ]
  },
  {
   "cell_type": "markdown",
   "metadata": {},
   "source": [
    "We will now be fixing the feed stream to the conditions shown in the flowsheet above. As mentioned in other tutorials, the IDAES framework expects a time index value for every referenced internal stream or unit variable, even in steady-state systems with a single time point $ t = 0 $. The non-present components in each stream are assigned a very small non-zero value to help with convergence and initializing. Based on stoichiometric ratios for the reaction, 80% conversion and 200 MM lb/year (46.4 mol/s) of ethylene glycol, we will initialize our simulation with the following calculated values:"
   ]
  },
  {
   "cell_type": "code",
   "execution_count": 13,
   "metadata": {},
   "outputs": [],
   "source": [
    "m.fs.M101.reagent_feed.flow_mol_phase_comp[0, \"Liq\", \"ethylene_oxide\"].fix(58.0*pyunits.mol/pyunits.s)\n",
    "m.fs.M101.reagent_feed.flow_mol_phase_comp[0, \"Liq\", \"water\"].fix(39.6*pyunits.mol/pyunits.s)  # calculated from 16.1 mol EO / cudm in stream\n",
    "m.fs.M101.reagent_feed.flow_mol_phase_comp[0, \"Liq\", \"sulfuric_acid\"].fix(1e-5*pyunits.mol/pyunits.s)\n",
    "m.fs.M101.reagent_feed.flow_mol_phase_comp[0, \"Liq\", \"ethylene_glycol\"].fix(1e-5*pyunits.mol/pyunits.s)\n",
    "m.fs.M101.reagent_feed.temperature.fix(298.15*pyunits.K)\n",
    "m.fs.M101.reagent_feed.pressure.fix(1e5*pyunits.Pa)\n",
    "\n",
    "m.fs.M101.catalyst_feed.flow_mol_phase_comp[0, \"Liq\", \"ethylene_oxide\"].fix(1e-5*pyunits.mol/pyunits.s)\n",
    "m.fs.M101.catalyst_feed.flow_mol_phase_comp[0, \"Liq\", \"water\"].fix(200*pyunits.mol/pyunits.s)\n",
    "m.fs.M101.catalyst_feed.flow_mol_phase_comp[0, \"Liq\", \"sulfuric_acid\"].fix(0.334*pyunits.mol/pyunits.s)  # calculated from 0.9 wt% SA in stream\n",
    "m.fs.M101.catalyst_feed.flow_mol_phase_comp[0, \"Liq\", \"ethylene_glycol\"].fix(1e-5*pyunits.mol/pyunits.s)\n",
    "m.fs.M101.catalyst_feed.temperature.fix(298.15*pyunits.K)\n",
    "m.fs.M101.catalyst_feed.pressure.fix(1e5*pyunits.Pa)"
   ]
  },
  {
   "cell_type": "markdown",
   "metadata": {},
   "source": [
    "## Fixing unit model specifications\n",
    "\n",
    "Now that we have fixed our inlet feed conditions, we will now be fixing the operating conditions for the unit models in the flowsheet. Let us fix the outlet temperature of H101 to 328.15 K. "
   ]
  },
  {
   "cell_type": "code",
   "execution_count": 14,
   "metadata": {},
   "outputs": [],
   "source": [
    "m.fs.H101.outlet.temperature.fix(328.15*pyunits.K)"
   ]
  },
  {
   "cell_type": "markdown",
   "metadata": {},
   "source": [
    "Unlike the previous two examples, we will need to specify both initial conversion and heat duty values (these are the only two free variables to choose from). Since heat duty and the outlet reactor temperature are interdependent, we can choose to specify  this quantity instead. While the reaction kinetic parameters exist in the property package, we also do not need to add a rate constant expression since generation is explicitly defined through the conversion/yield. Note that our initial problem will solve with zero *temperature change* but will be infeasible with zero *heat duty*; this is due to the heat of reaction enforced by allowing heat transfer and mandating a non-zero conversion."
   ]
  },
  {
   "cell_type": "code",
   "execution_count": 15,
   "metadata": {},
   "outputs": [],
   "source": [
    "m.fs.R101.conversion = Var(initialize=0.80, bounds=(0, 1), units=pyunits.dimensionless)  # fraction\n",
    "\n",
    "m.fs.R101.conv_constraint = Constraint(\n",
    "    expr=m.fs.R101.conversion*m.fs.R101.inlet.\n",
    "    flow_mol_phase_comp[0, \"Liq\", \"ethylene_oxide\"] ==\n",
    "    (m.fs.R101.inlet.flow_mol_phase_comp[0, \"Liq\", \"ethylene_oxide\"] -\n",
    "     m.fs.R101.outlet.flow_mol_phase_comp[0, \"Liq\", \"ethylene_oxide\"]))\n",
    "\n",
    "m.fs.R101.conversion.fix(0.80)\n",
    "\n",
    "m.fs.R101.outlet.temperature.fix(328.15*pyunits.K)  # equal inlet reactor temperature"
   ]
  },
  {
   "cell_type": "code",
   "execution_count": 16,
   "metadata": {},
   "outputs": [
    {
     "name": "stdout",
     "output_type": "stream",
     "text": [
      "0\n"
     ]
    }
   ],
   "source": [
    "print(degrees_of_freedom(m))"
   ]
  },
  {
   "cell_type": "markdown",
   "metadata": {},
   "source": [
    "Finally, we need to initialize the each unit operation in sequence to solve the flowsheet. In best practice, unit operations are initialized or solved, and outlet properties are propagated to connected inlet streams via arc definitions as follows:"
   ]
  },
  {
   "cell_type": "code",
   "execution_count": 18,
   "metadata": {},
   "outputs": [
    {
     "name": "stdout",
     "output_type": "stream",
     "text": [
      "2021-11-30 12:09:27 [INFO] idaes.init.fs.M101.reagent_feed_state: Starting initialization\n",
      "2021-11-30 12:09:27 [INFO] idaes.init.fs.M101.reagent_feed_state: Property initialization: optimal - Optimal Solution Found.\n",
      "2021-11-30 12:09:27 [INFO] idaes.init.fs.M101.catalyst_feed_state: Starting initialization\n",
      "2021-11-30 12:09:28 [INFO] idaes.init.fs.M101.catalyst_feed_state: Property initialization: optimal - Optimal Solution Found.\n",
      "2021-11-30 12:09:28 [INFO] idaes.init.fs.M101.mixed_state: Starting initialization\n",
      "2021-11-30 12:09:28 [INFO] idaes.init.fs.M101.mixed_state: Property initialization: optimal - Optimal Solution Found.\n",
      "2021-11-30 12:09:28 [INFO] idaes.init.fs.M101.mixed_state: Property package initialization: optimal - Optimal Solution Found.\n",
      "2021-11-30 12:09:28 [INFO] idaes.init.fs.M101: Initialization Complete: optimal - Optimal Solution Found\n",
      "2021-11-30 12:09:28 [INFO] idaes.init.fs.H101.control_volume.properties_in: Starting initialization\n",
      "2021-11-30 12:09:28 [INFO] idaes.init.fs.H101.control_volume.properties_in: Property initialization: optimal - Optimal Solution Found.\n",
      "2021-11-30 12:09:28 [INFO] idaes.init.fs.H101.control_volume.properties_out: Starting initialization\n",
      "2021-11-30 12:09:28 [INFO] idaes.init.fs.H101.control_volume.properties_out: Property initialization: optimal - Optimal Solution Found.\n",
      "2021-11-30 12:09:28 [INFO] idaes.init.fs.H101.control_volume: Initialization Complete\n",
      "2021-11-30 12:09:28 [INFO] idaes.init.fs.H101: Initialization Complete: optimal - Optimal Solution Found\n",
      "2021-11-30 12:09:28 [INFO] idaes.init.fs.R101.control_volume.properties_in: Starting initialization\n",
      "2021-11-30 12:09:28 [INFO] idaes.init.fs.R101.control_volume.properties_in: Property initialization: optimal - Optimal Solution Found.\n",
      "2021-11-30 12:09:28 [INFO] idaes.init.fs.R101.control_volume.properties_out: Starting initialization\n",
      "2021-11-30 12:09:28 [INFO] idaes.init.fs.R101.control_volume.properties_out: Property initialization: optimal - Optimal Solution Found.\n",
      "2021-11-30 12:09:28 [INFO] idaes.init.fs.R101.control_volume.reactions: Initialization Complete.\n",
      "2021-11-30 12:09:28 [INFO] idaes.init.fs.R101.control_volume: Initialization Complete\n",
      "2021-11-30 12:09:28 [INFO] idaes.init.fs.R101: Initialization Complete: optimal - Optimal Solution Found\n"
     ]
    }
   ],
   "source": [
    "# Initialize and solve each unit operation\n",
    "m.fs.M101.initialize()\n",
    "propagate_state(arc=m.fs.s03)\n",
    "\n",
    "m.fs.H101.initialize()\n",
    "propagate_state(arc=m.fs.s04)\n",
    "\n",
    "m.fs.R101.initialize()\n",
    "\n",
    "# set solver\n",
    "solver = get_solver()"
   ]
  },
  {
   "cell_type": "code",
   "execution_count": 19,
   "metadata": {
    "scrolled": true
   },
   "outputs": [
    {
     "name": "stdout",
     "output_type": "stream",
     "text": [
      "Ipopt 3.13.2: nlp_scaling_method=gradient-based\n",
      "tol=1e-06\n",
      "\n",
      "\n",
      "******************************************************************************\n",
      "This program contains Ipopt, a library for large-scale nonlinear optimization.\n",
      " Ipopt is released as open source code under the Eclipse Public License (EPL).\n",
      "         For more information visit http://projects.coin-or.org/Ipopt\n",
      "\n",
      "This version of Ipopt was compiled from source code available at\n",
      "    https://github.com/IDAES/Ipopt as part of the Institute for the Design of\n",
      "    Advanced Energy Systems Process Systems Engineering Framework (IDAES PSE\n",
      "    Framework) Copyright (c) 2018-2019. See https://github.com/IDAES/idaes-pse.\n",
      "\n",
      "This version of Ipopt was compiled using HSL, a collection of Fortran codes\n",
      "    for large-scale scientific computation.  All technical papers, sales and\n",
      "    publicity material resulting from use of the HSL codes within IPOPT must\n",
      "    contain the following acknowledgement:\n",
      "        HSL, a collection of Fortran codes for large-scale scientific\n",
      "        computation. See http://www.hsl.rl.ac.uk.\n",
      "******************************************************************************\n",
      "\n",
      "This is Ipopt version 3.13.2, running with linear solver ma27.\n",
      "\n",
      "Number of nonzeros in equality constraint Jacobian...:      232\n",
      "Number of nonzeros in inequality constraint Jacobian.:        0\n",
      "Number of nonzeros in Lagrangian Hessian.............:      221\n",
      "\n",
      "Total number of variables............................:       65\n",
      "                     variables with only lower bounds:        0\n",
      "                variables with lower and upper bounds:       56\n",
      "                     variables with only upper bounds:        0\n",
      "Total number of equality constraints.................:       65\n",
      "Total number of inequality constraints...............:        0\n",
      "        inequality constraints with only lower bounds:        0\n",
      "   inequality constraints with lower and upper bounds:        0\n",
      "        inequality constraints with only upper bounds:        0\n",
      "\n",
      "iter    objective    inf_pr   inf_du lg(mu)  ||d||  lg(rg) alpha_du alpha_pr  ls\n",
      "   0  0.0000000e+00 1.76e+06 0.00e+00  -1.0 0.00e+00    -  0.00e+00 0.00e+00   0\n",
      "   1  0.0000000e+00 1.77e+04 6.74e-04  -1.0 1.00e-02    -  9.90e-01 9.90e-01h  1\n",
      "   2  0.0000000e+00 1.67e+02 5.83e-01  -1.0 1.00e-04    -  9.90e-01 9.91e-01h  1\n",
      "   3  0.0000000e+00 1.10e-06 8.89e+02  -1.0 9.43e-07    -  9.91e-01 1.00e+00h  1\n",
      "Cannot recompute multipliers for feasibility problem.  Error in eq_mult_calculator\n",
      "\n",
      "Number of Iterations....: 3\n",
      "\n",
      "                                   (scaled)                 (unscaled)\n",
      "Objective...............:   0.0000000000000000e+00    0.0000000000000000e+00\n",
      "Dual infeasibility......:   1.0094083379891624e+05    1.0094083379891624e+05\n",
      "Constraint violation....:   7.2759576141834259e-12    1.1026859283447266e-06\n",
      "Complementarity.........:   0.0000000000000000e+00    0.0000000000000000e+00\n",
      "Overall NLP error.......:   7.2759576141834259e-12    1.0094083379891624e+05\n",
      "\n",
      "\n",
      "Number of objective function evaluations             = 4\n",
      "Number of objective gradient evaluations             = 4\n",
      "Number of equality constraint evaluations            = 4\n",
      "Number of inequality constraint evaluations          = 0\n",
      "Number of equality constraint Jacobian evaluations   = 4\n",
      "Number of inequality constraint Jacobian evaluations = 0\n",
      "Number of Lagrangian Hessian evaluations             = 3\n",
      "Total CPU secs in IPOPT (w/o function evaluations)   =      0.002\n",
      "Total CPU secs in NLP function evaluations           =      0.000\n",
      "\n",
      "EXIT: Optimal Solution Found.\n"
     ]
    }
   ],
   "source": [
    "# Solve the model\n",
    "results = solver.solve(m, tee=True)"
   ]
  },
  {
   "cell_type": "markdown",
   "metadata": {},
   "source": [
    "## Analyze the results of the square problem\n",
    "\n",
    "\n",
    "What is the total operating cost? "
   ]
  },
  {
   "cell_type": "code",
   "execution_count": 21,
   "metadata": {},
   "outputs": [
    {
     "name": "stdout",
     "output_type": "stream",
     "text": [
      "operating cost = $ 3458139.885712622  per year\n"
     ]
    }
   ],
   "source": [
    "print('operating cost = $', value(m.fs.operating_cost), ' per year')"
   ]
  },
  {
   "cell_type": "markdown",
   "metadata": {},
   "source": [
    "For this operating cost, what conversion did we achieve of ethylene oxide to ethylene glycol? "
   ]
  },
  {
   "cell_type": "code",
   "execution_count": 23,
   "metadata": {},
   "outputs": [
    {
     "name": "stdout",
     "output_type": "stream",
     "text": [
      "\n",
      "====================================================================================\n",
      "Unit : fs.R101                                                             Time: 0.0\n",
      "------------------------------------------------------------------------------------\n",
      "    Unit Performance\n",
      "\n",
      "    Variables: \n",
      "\n",
      "    Key                  : Value       : Fixed : Bounds\n",
      "               Heat Duty : -5.6566e+06 : False : (None, None)\n",
      "    Reaction Extent [R1] :      46.400 : False : (None, None)\n",
      "\n",
      "------------------------------------------------------------------------------------\n",
      "    Stream Table\n",
      "                                                 Inlet     Outlet  \n",
      "    Molar Flowrate ('Liq', 'ethylene_oxide')      58.000     11.600\n",
      "    Molar Flowrate ('Liq', 'water')               239.60     193.20\n",
      "    Molar Flowrate ('Liq', 'sulfuric_acid')      0.33401    0.33401\n",
      "    Molar Flowrate ('Liq', 'ethylene_glycol') 2.0000e-05     46.400\n",
      "    Temperature                                   328.15     328.15\n",
      "    Pressure                                  1.0000e+05 1.0000e+05\n",
      "====================================================================================\n",
      "\n",
      "Conversion achieved =  80.0 %\n"
     ]
    }
   ],
   "source": [
    "m.fs.R101.report()\n",
    "\n",
    "print()\n",
    "print('Conversion achieved = ', value(m.fs.R101.conversion)*100, '%')"
   ]
  },
  {
   "cell_type": "markdown",
   "metadata": {},
   "source": [
    "## Optimizing Ethylene Glycol Production\n",
    "\n",
    "Now that the flowsheet has been squared and solved, we can run a small optimization problem to minimize our production costs. Suppose we require at least 200 million pounds/year of ethylene glycol produced and at least 90% conversion of ethylene oxide, allowing for variable reactor heat duty/outlet temperature and reactor temperature (heater outlet)."
   ]
  },
  {
   "cell_type": "markdown",
   "metadata": {},
   "source": [
    "Let us declare our objective function for this problem. "
   ]
  },
  {
   "cell_type": "code",
   "execution_count": 25,
   "metadata": {},
   "outputs": [],
   "source": [
    "m.fs.objective = Objective(expr=m.fs.operating_cost)"
   ]
  },
  {
   "cell_type": "markdown",
   "metadata": {},
   "source": [
    "Now, we need to add the design constraints and unfix the decision variables as we had solved a square problem (degrees of freedom = 0) until now, as well as set bounds for the design variables (reactor outlet temperature is set by state variable bounds in property package):"
   ]
  },
  {
   "cell_type": "code",
   "execution_count": 26,
   "metadata": {},
   "outputs": [],
   "source": [
    "m.fs.eg_prod_con = Constraint(expr=m.fs.eg_prod >= 200*pyunits.Mlb/pyunits.yr)  # MM lb/year\n",
    "\n",
    "m.fs.conversion_con = Constraint(expr=m.fs.R101.conversion >= 0.90*pyunits.dimensionless)  # fraction\n",
    "\n",
    "m.fs.R101.conversion.unfix()\n",
    "\n",
    "m.fs.H101.outlet.temperature.unfix()\n",
    "m.fs.H101.outlet.temperature[0].setlb(328.15*pyunits.K)\n",
    "m.fs.H101.outlet.temperature[0].setub(470.45*pyunits.K)  # highest component boiling point (ethylene glycol)\n",
    "\n",
    "m.fs.R101.outlet.temperature.unfix()"
   ]
  },
  {
   "cell_type": "markdown",
   "metadata": {},
   "source": [
    "\n",
    "We have now defined the optimization problem and we are now ready to solve this problem. \n",
    "\n",
    "\n"
   ]
  },
  {
   "cell_type": "code",
   "execution_count": 28,
   "metadata": {
    "scrolled": true
   },
   "outputs": [
    {
     "name": "stdout",
     "output_type": "stream",
     "text": [
      "Ipopt 3.13.2: nlp_scaling_method=gradient-based\n",
      "tol=1e-06\n",
      "\n",
      "\n",
      "******************************************************************************\n",
      "This program contains Ipopt, a library for large-scale nonlinear optimization.\n",
      " Ipopt is released as open source code under the Eclipse Public License (EPL).\n",
      "         For more information visit http://projects.coin-or.org/Ipopt\n",
      "\n",
      "This version of Ipopt was compiled from source code available at\n",
      "    https://github.com/IDAES/Ipopt as part of the Institute for the Design of\n",
      "    Advanced Energy Systems Process Systems Engineering Framework (IDAES PSE\n",
      "    Framework) Copyright (c) 2018-2019. See https://github.com/IDAES/idaes-pse.\n",
      "\n",
      "This version of Ipopt was compiled using HSL, a collection of Fortran codes\n",
      "    for large-scale scientific computation.  All technical papers, sales and\n",
      "    publicity material resulting from use of the HSL codes within IPOPT must\n",
      "    contain the following acknowledgement:\n",
      "        HSL, a collection of Fortran codes for large-scale scientific\n",
      "        computation. See http://www.hsl.rl.ac.uk.\n",
      "******************************************************************************\n",
      "\n",
      "This is Ipopt version 3.13.2, running with linear solver ma27.\n",
      "\n",
      "Number of nonzeros in equality constraint Jacobian...:      236\n",
      "Number of nonzeros in inequality constraint Jacobian.:        2\n",
      "Number of nonzeros in Lagrangian Hessian.............:      242\n",
      "\n",
      "Total number of variables............................:       68\n",
      "                     variables with only lower bounds:        0\n",
      "                variables with lower and upper bounds:       59\n",
      "                     variables with only upper bounds:        0\n",
      "Total number of equality constraints.................:       65\n",
      "Total number of inequality constraints...............:        2\n",
      "        inequality constraints with only lower bounds:        2\n",
      "   inequality constraints with lower and upper bounds:        0\n",
      "        inequality constraints with only upper bounds:        0\n",
      "\n",
      "iter    objective    inf_pr   inf_du lg(mu)  ||d||  lg(rg) alpha_du alpha_pr  ls\n",
      "   0  3.4581399e+06 1.76e+06 6.34e+00  -1.0 0.00e+00    -  0.00e+00 0.00e+00   0\n",
      "   1  3.4240101e+06 1.76e+06 2.48e+01  -1.0 9.58e+08    -  1.46e-03 5.83e-05f  1\n",
      "   2  3.4236530e+06 1.76e+06 1.56e+03  -1.0 3.49e+05    -  9.07e-02 1.48e-03f  1\n",
      "   3  3.4237931e+06 1.73e+06 1.90e+03  -1.0 1.56e+04    -  4.15e-02 1.78e-02h  1\n",
      "   4  3.4237959e+06 1.73e+06 2.80e+06  -1.0 2.65e+04    -  9.44e-01 1.81e-04h  1\n",
      "   5  3.4238022e+06 1.73e+06 1.32e+06  -1.0 6.76e+05    -  7.17e-06 1.54e-05h  1\n",
      "   6  3.4269127e+06 1.72e+06 3.06e+06  -1.0 7.60e+05    -  1.98e-05 6.70e-03h  1\n",
      "   7  3.8613024e+06 1.12e+05 3.91e+05  -1.0 7.55e+05    -  6.70e-03 9.42e-01h  1\n",
      "   8  3.8850641e+06 1.26e+04 2.25e+04  -1.0 4.38e+04    -  9.90e-01 8.88e-01h  1\n",
      "   9  3.8880240e+06 1.15e+02 2.06e+02  -1.0 4.89e+03    -  9.90e-01 9.91e-01h  1\n",
      "iter    objective    inf_pr   inf_du lg(mu)  ||d||  lg(rg) alpha_du alpha_pr  ls\n",
      "  10  3.8880508e+06 7.17e-05 1.49e-01  -3.8 4.39e+01    -  1.00e+00 1.00e+00h  1\n",
      "  11  3.8880508e+06 1.46e-08 4.13e-07  -7.0 5.17e-04    -  1.00e+00 1.00e+00f  1\n",
      "\n",
      "Number of Iterations....: 11\n",
      "\n",
      "                                   (scaled)                 (unscaled)\n",
      "Objective...............:   3.8880507982492442e+06    3.8880507982492442e+06\n",
      "Dual infeasibility......:   4.1300224027586061e-07    4.1300224027586061e-07\n",
      "Constraint violation....:   7.2759576141834259e-12    1.4627630662289448e-08\n",
      "Complementarity.........:   9.1066277388888538e-08    9.1066277388888538e-08\n",
      "Overall NLP error.......:   2.5311985076228633e-10    4.1300224027586061e-07\n",
      "\n",
      "\n",
      "Number of objective function evaluations             = 12\n",
      "Number of objective gradient evaluations             = 12\n",
      "Number of equality constraint evaluations            = 12\n",
      "Number of inequality constraint evaluations          = 12\n",
      "Number of equality constraint Jacobian evaluations   = 12\n",
      "Number of inequality constraint Jacobian evaluations = 12\n",
      "Number of Lagrangian Hessian evaluations             = 11\n",
      "Total CPU secs in IPOPT (w/o function evaluations)   =      0.006\n",
      "Total CPU secs in NLP function evaluations           =      0.001\n",
      "\n",
      "EXIT: Optimal Solution Found.\n"
     ]
    }
   ],
   "source": [
    "results = solver.solve(m, tee=True)"
   ]
  },
  {
   "cell_type": "code",
   "execution_count": 30,
   "metadata": {},
   "outputs": [
    {
     "name": "stdout",
     "output_type": "stream",
     "text": [
      "operating cost = $ 3888050.798249244 per year\n",
      "\n",
      "Heater results\n",
      "\n",
      "====================================================================================\n",
      "Unit : fs.H101                                                             Time: 0.0\n",
      "------------------------------------------------------------------------------------\n",
      "    Unit Performance\n",
      "\n",
      "    Variables: \n",
      "\n",
      "    Key       : Value  : Fixed : Bounds\n",
      "    Heat Duty : 699.26 : False : (None, None)\n",
      "\n",
      "------------------------------------------------------------------------------------\n",
      "    Stream Table\n",
      "                                                 Inlet     Outlet  \n",
      "    Molar Flowrate ('Liq', 'ethylene_oxide')      58.000     58.000\n",
      "    Molar Flowrate ('Liq', 'water')               239.60     239.60\n",
      "    Molar Flowrate ('Liq', 'sulfuric_acid')      0.33401    0.33401\n",
      "    Molar Flowrate ('Liq', 'ethylene_glycol') 2.0000e-05 2.0000e-05\n",
      "    Temperature                                   298.15     328.15\n",
      "    Pressure                                  1.0000e+05 1.0000e+05\n",
      "====================================================================================\n",
      "\n",
      "Stoichiometric reactor results\n",
      "\n",
      "====================================================================================\n",
      "Unit : fs.R101                                                             Time: 0.0\n",
      "------------------------------------------------------------------------------------\n",
      "    Unit Performance\n",
      "\n",
      "    Variables: \n",
      "\n",
      "    Key                  : Value       : Fixed : Bounds\n",
      "               Heat Duty : -6.3608e+06 : False : (None, None)\n",
      "    Reaction Extent [R1] :      52.200 : False : (None, None)\n",
      "\n",
      "------------------------------------------------------------------------------------\n",
      "    Stream Table\n",
      "                                                 Inlet     Outlet  \n",
      "    Molar Flowrate ('Liq', 'ethylene_oxide')      58.000     5.8000\n",
      "    Molar Flowrate ('Liq', 'water')               239.60     187.40\n",
      "    Molar Flowrate ('Liq', 'sulfuric_acid')      0.33401    0.33401\n",
      "    Molar Flowrate ('Liq', 'ethylene_glycol') 2.0000e-05     52.200\n",
      "    Temperature                                   328.15     450.00\n",
      "    Pressure                                  1.0000e+05 1.0000e+05\n",
      "====================================================================================\n"
     ]
    }
   ],
   "source": [
    "print('operating cost = $', value(m.fs.operating_cost), 'per year')\n",
    "\n",
    "print()\n",
    "print('Heater results')\n",
    "\n",
    "m.fs.H101.report()\n",
    "\n",
    "print()\n",
    "print('Stoichiometric reactor results')\n",
    "\n",
    "m.fs.R101.report()"
   ]
  },
  {
   "cell_type": "markdown",
   "metadata": {},
   "source": [
    "Display optimal values for the decision variables and design variables:"
   ]
  },
  {
   "cell_type": "code",
   "execution_count": 32,
   "metadata": {},
   "outputs": [
    {
     "name": "stdout",
     "output_type": "stream",
     "text": [
      "Optimal Values\n",
      "\n",
      "H101 outlet temperature =  328.15 K\n",
      "\n",
      "R101 outlet temperature =  450.0 K\n",
      "\n",
      "Ethylene glycol produced =  225.41546823488122 MM lb/year\n",
      "\n",
      "Conversion achieved =  89.9999990000021  %\n"
     ]
    }
   ],
   "source": [
    "print('Optimal Values')\n",
    "print()\n",
    "\n",
    "print('H101 outlet temperature = ', value(m.fs.H101.outlet.temperature[0]), 'K')\n",
    "\n",
    "print()\n",
    "print('R101 outlet temperature = ', value(m.fs.R101.outlet.temperature[0]), 'K')\n",
    "\n",
    "print()\n",
    "print('Ethylene glycol produced = ', value(m.fs.eg_prod), 'MM lb/year')\n",
    "\n",
    "print()\n",
    "print('Conversion achieved = ', value(m.fs.R101.conversion)*100, ' %')"
   ]
  },
  {
   "cell_type": "code",
   "execution_count": null,
   "metadata": {},
   "outputs": [],
   "source": []
  }
 ],
 "metadata": {
  "celltoolbar": "Tags",
  "kernelspec": {
   "display_name": "Python 3 (ipykernel)",
   "language": "python",
   "name": "python3"
  },
  "language_info": {
   "codemirror_mode": {
    "name": "ipython",
    "version": 3
   },
   "file_extension": ".py",
   "mimetype": "text/x-python",
   "name": "python",
   "nbconvert_exporter": "python",
   "pygments_lexer": "ipython3",
   "version": "3.8.5"
  }
 },
 "nbformat": 4,
 "nbformat_minor": 4
}
