{
 "cells": [
  {
   "cell_type": "markdown",
   "metadata": {},
   "source": [
    "Example from:\n",
    "\n",
    "Wilson, Zachary T., and Nikolaos V. Sahinidis. \"Automated learning of chemical reaction networks.\" Computers & Chemical Engineering 127 (2019): 88-98.\n",
    "https://doi.org/10.1016/j.compchemeng.2019.05.020\n",
    "\n",
    "Case 2: Dynamic Chemical Looping Combusion Reactor\n",
    "\n",
    "This is an example of a CLC reactor. The kinetic reaction rates encapsulate solid-gas reactions. The kinetic rate laws for this example are semi-physical or empirical to provide insights on the underlying physical mechanisms.\n",
    "\n",
    "The rate laws are often expressed in terms similar to\n",
    "\n",
    "$ \\frac{dX}{dT} = kA(X)g(F) $\n",
    "\n",
    "where $ A(X) $ is a mechanism-dependent activity term, and the function $ g(F) $ is a parametric function of processss conditions, typically in this case the partial pressure of methane used as a fuel.   \n"
   ]
  },
  {
   "cell_type": "code",
   "execution_count": null,
   "metadata": {},
   "outputs": [],
   "source": [
    "# Imports and data\n",
    "\n",
    "from idaes.surrogate import ripe\n",
    "import numpy as np\n",
    "from idaes.surrogate.ripe import mechs as mechs\n",
    "\n",
    "\n",
    "np.random.seed(20)\n",
    "\n",
    "# Import data from csv\n",
    "data = np.genfromtxt('clc.csv', delimiter=',')\n",
    "t = data[:,0]\n",
    "xdata = data[:,1]\n",
    "\n",
    "# Stoichiometry \n",
    "# One species\n",
    "stoich = [1]\n"
   ]
  },
  {
   "cell_type": "markdown",
   "metadata": {},
   "source": [
    "We are going to use empirical pre-defined functions from RIPE, defined in the idaes.surrogate.ripe.mechs. The mechanisms depend on only one species for these pre-defined rate forms.\n",
    "\n",
    "Rate Equation                           | $ A(x) $\n",
    ":---                                    |                  :--- \n",
    "Random Nucleation                       | $ 1-x $ \n",
    "Power law $n = 2/3, 1.5, 2, 3, 4 $      | $ nx^{(n-1/n)} $\n",
    "Avrami-Erofeev $ n = 0.5, 1.5, 2, 3, 4$ | $ n(1-x)(-log(1-x))^{(n-1/n)} $\n",
    "Prout Tompkins                          | $ x(x-1) $\n",
    "Jander                                  | $ 3(1-x)^{1/3} (1/(1+x)^{((-1/3)-1)}) $\n",
    "Antijander                              | $ 3/2(1-x)^{(2/3)}(1/(1+x)^{((-1/3)-1)}) $\n",
    "Valensi                                 | $ 1/(-log(1-x)) $\n",
    "Parabolic                               | $ 1/2x $\n",
    "Ginstling-Brountstein diffusion-3d      | $ (3/2)(1-x)^{(4/3)}/((1-x)^{(-1/3)}-1) $\n",
    "Zhuralev-Leshokin-Tempelman             | $ (3/2)/((1-x)^{(-1/3)}-1) $\n",
    "Grain model                             | $ (1-x)^{(2/3)} $\n",
    "\n",
    "\n",
    "\n"
   ]
  },
  {
   "cell_type": "code",
   "execution_count": null,
   "metadata": {},
   "outputs": [],
   "source": [
    "# User pre-defined clc rate forms found in RIPE\n",
    "# mechs = ripe.clcforms\n",
    "clc_mechs = [mechs.randomnuc, \n",
    "             mechs.powerlawp5, \n",
    "             mechs.powerlaw2, \n",
    "             mechs.powerlaw3, \n",
    "             mechs.powerlaw4, \n",
    "             mechs.avrami2, \n",
    "             mechs.avrami3, \n",
    "             mechs.avrami4, \n",
    "             mechs.avrami5, \n",
    "             mechs.ptompkins, \n",
    "             mechs.jander, \n",
    "             mechs.antijander, \n",
    "             mechs.valensi,\n",
    "             mechs.parabolic, \n",
    "             mechs.gb3d, \n",
    "             mechs.zlt, \n",
    "             mechs.grain]"
   ]
  },
  {
   "cell_type": "markdown",
   "metadata": {},
   "source": [
    "All that is left is to run the ripe modeler:"
   ]
  },
  {
   "cell_type": "code",
   "execution_count": null,
   "metadata": {},
   "outputs": [],
   "source": [
    "# Identify optimal kinetic mechanism\n",
    "results = ripe.ripemodel(xdata,\n",
    "                         stoichiometry=stoich, \n",
    "                         mechanisms=clc_mechs, \n",
    "                         time=t)\n"
   ]
  },
  {
   "cell_type": "code",
   "execution_count": null,
   "metadata": {},
   "outputs": [],
   "source": []
  }
 ],
 "metadata": {
  "kernelspec": {
   "display_name": "Python 3",
   "language": "python",
   "name": "python3"
  },
  "language_info": {
   "codemirror_mode": {
    "name": "ipython",
    "version": 3
   },
   "file_extension": ".py",
   "mimetype": "text/x-python",
   "name": "python",
   "nbconvert_exporter": "python",
   "pygments_lexer": "ipython3",
   "version": "3.7.6"
  }
 },
 "nbformat": 4,
 "nbformat_minor": 4
}
