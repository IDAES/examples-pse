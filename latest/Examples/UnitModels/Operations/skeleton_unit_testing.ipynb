{
 "cells": [
  {
   "cell_type": "markdown",
   "metadata": {},
   "source": [
    "# IDAES Skeleton Unit Model"
   ]
  },
  {
   "cell_type": "markdown",
   "metadata": {},
   "source": [
    "This notebook demonstrates usage of the IDAES Skeleton Unit Model, which provides a generic \"bare bones\" unit for user-defined models and custom variable and constraint sets. To allow maximum versatility, this unit may be defined as a surrogate model or a custom equation-oriented model. Users must add ports and variables that match connected models, and this is facilitated through a provided method to add port-variable sets.\n",
    "\n",
    "For users who wish to train surrogates with IDAES tools and insert obtained models into a flowsheet, see more detailed information on [IDAES Surrogate Tools](https://idaes-pse.readthedocs.io/en/stable/explanations/modeling_extensions/surrogate/index.html)."
   ]
  },
  {
   "cell_type": "markdown",
   "metadata": {},
   "source": [
    "# 1. Motivation\n",
    "\n",
    "In many cases, a specific application requires a unique unit operation that does not exist in the IDAES repository. Custom user models may source from external scripts, import surrogate equations or use first-principles calculations. However, IDAES flowsheets adhere to a standardized modeling hierarchy and simple Pyomo models do not always follow these conventions. Additionally, simple flowsheet submodels often require integration with other IDAES unit models which requires consistency between corresponding port variables, stream properties and physical unit sets, as well as proper usage of `ControlVolume` blocks.\n",
    "\n",
    "The IDAES `SkeletonUnitModel` allows custom creation of user models blocks that do not require `ControlVolume` blocks, and enabling connection with standard IDAES unit models that do contain `ControlVolume` blocks. To motivate the usefulness and versatility of this tool, we will consider a simple pervaporation unit. The custom model does not require rigourous thermodynamic calculations contained in adjacent unit models, and using a Skeleton model allows definition of only required variables and constraints. The new block does require state variable connections for the inlet and outlet streams. We will demonstrate this scenario below to highlight the usage and benefits of the Skeleton model."
   ]
  },
  {
   "cell_type": "markdown",
   "metadata": {},
   "source": [
    "# 2. Example - Pervaporation\n",
    "\n",
    "Pervaporation is a low-energy separation process, and is particularly advantageous over distillation for azeotropic solutions or aqueous mixtures of heavy alcohols. Ethylene glycol is more environmentally friendly than typical chloride- and bromide-based dessicants, and is a common choice for commericial recovery of water from flue gas via liquid spray columns. Due to ethylene glycol's high boiling point, diffusion-based water recovery is economically favorable compared to distillation-based processes. The following example and flux correlation are taken from the literature source below:\n",
    "\n",
    "Jennifer Runhong Du, Amit Chakma, X. Feng, Dehydration of ethylene glycol by pervaporation using poly(N,N-dimethylaminoethyl methacrylate)/polysulfone composite membranes, Separation and Purification Technology, Volume 64, Issue 1, 2008, Pages 63-70, ISSN 1383-5866, https://doi.org/10.1016/j.seppur.2008.08.004.\n",
    "\n",
    "The process is adapted from the literature, utilizing an inlet aqueous glycol feed circulated through a feed tank-membrane-feed tank recycle loop while permeate is continuously extracted by the membrane. To demonstrate the usefulness of the Skeleton model, we will model this system as a Mixer and custom Pervaporation unit per the diagram below and define the flux as an empirical custom mass balance term rather than requiring rigorous diffusion calculations. We will also circumvent the need for a vapor phase and VLE calculations by manually calculating the duty to condense and collect permeate vapor, and use correlations for steady-state fluxes to avoid a recycle requiring tear calculations.\n",
    "\n",
    "![](pervaporation_process.png)"
   ]
  },
  {
   "cell_type": "markdown",
   "metadata": {},
   "source": [
    "## 2.1 Pyomo and IDAES Imports\n",
    "We will begin with relevant imports. We will need basic Pyomo and IDAES components:"
   ]
  },
  {
   "cell_type": "code",
   "execution_count": null,
   "metadata": {},
   "outputs": [],
   "source": [
    "import pytest\n",
    "from pyomo.environ import (check_optimal_termination,\n",
    "                           ConcreteModel,\n",
    "                           Constraint,\n",
    "                           Expression,\n",
    "                           Objective,\n",
    "                           maximize,\n",
    "                           Var,\n",
    "                           Set,\n",
    "                           TransformationFactory,\n",
    "                           value,\n",
    "                           exp,\n",
    "                           units as pyunits)\n",
    "from pyomo.network import Arc\n",
    "from idaes.core import FlowsheetBlock\n",
    "from idaes.models.unit_models import Feed, SkeletonUnitModel, Mixer, Product\n",
    "from idaes.core.util.model_statistics import degrees_of_freedom\n",
    "from idaes.core.util.initialization import propagate_state\n",
    "from idaes.core.solvers import get_solver\n",
    "from pyomo.util.check_units import assert_units_consistent\n",
    "\n",
    "# import thermophysical properties\n",
    "import eg_h2o_ideal as thermo_props\n",
    "from idaes.models.properties.modular_properties import GenericParameterBlock\n",
    "from idaes.core.util.constants import Constants"
   ]
  },
  {
   "cell_type": "markdown",
   "metadata": {},
   "source": [
    "## 2.2 Build Flowsheet\n",
    "\n",
    "We will build a simple model manually defining state variables relations entering and exiting the pervaporation unit. As shown below, we may define our pre-separation mixer as usual:"
   ]
  },
  {
   "cell_type": "code",
   "execution_count": null,
   "metadata": {},
   "outputs": [],
   "source": [
    "# build the flowsheet\n",
    "m = ConcreteModel()\n",
    "m.fs = FlowsheetBlock(dynamic=False)\n",
    "\n",
    "m.fs.thermo_params = GenericParameterBlock(**thermo_props.config_dict)\n",
    "\n",
    "m.fs.WATER = Feed(property_package=m.fs.thermo_params)\n",
    "m.fs.GLYCOL = Feed(property_package=m.fs.thermo_params)\n",
    "\n",
    "m.fs.M101 = Mixer(property_package=m.fs.thermo_params,\n",
    "                  inlet_list=[\"water_feed\", \"glycol_feed\"])\n",
    "\n",
    "m.fs.RETENTATE = Product(property_package=m.fs.thermo_params)\n",
    "m.fs.PERMEATE = Product(property_package=m.fs.thermo_params)"
   ]
  },
  {
   "cell_type": "markdown",
   "metadata": {},
   "source": [
    "## 2.2 Defining Skeleton Model and Connections\n",
    "\n",
    "Now that our flowsheet exists, we can manually define variables, units, constraints and ports for our custom pervaporation unit model. By using a Skeleton model, we avoid rigorous mass and energy balances and phase equilibrium which impact model tractability. Instead, we define state variable relations as below - note that we include the fluxes as outlet flow terms. In this model, the variables specify an `FpcTP` system where molar flow of each component, temperature and pressure are selected as state variables:"
   ]
  },
  {
   "cell_type": "code",
   "execution_count": null,
   "metadata": {},
   "outputs": [],
   "source": [
    "# define Skeleton model for pervaporation unit\n",
    "m.fs.pervap = SkeletonUnitModel(dynamic=False)\n",
    "m.fs.pervap.comp_list = Set(initialize=[\"water\", \"ethylene_glycol\"])\n",
    "m.fs.pervap.phase_list = Set(initialize=[\"Liq\"])\n",
    "\n",
    "# input vars for skeleton\n",
    "# m.fs.time is a pre-initialized Set belonging to the FlowsheetBlock; for dynamic=False, time=[0]\n",
    "m.fs.pervap.flow_in = Var(m.fs.time, m.fs.pervap.phase_list, m.fs.pervap.comp_list,\n",
    "                                     initialize=1.0, units=pyunits.mol/pyunits.s)\n",
    "m.fs.pervap.temperature_in = Var(m.fs.time, initialize=298.15, units=pyunits.K)\n",
    "m.fs.pervap.pressure_in = Var(m.fs.time, initialize=101e3, units=pyunits.Pa)\n",
    "\n",
    "# output vars for skeleton\n",
    "m.fs.pervap.perm_flow = Var(m.fs.time, m.fs.pervap.phase_list, m.fs.pervap.comp_list,\n",
    "                                      initialize=1.0, units=pyunits.mol/pyunits.s)\n",
    "m.fs.pervap.ret_flow = Var(m.fs.time, m.fs.pervap.phase_list, m.fs.pervap.comp_list,\n",
    "                                      initialize=1.0, units=pyunits.mol/pyunits.s)\n",
    "m.fs.pervap.temperature_out = Var(m.fs.time, initialize=298.15, units=pyunits.K)\n",
    "m.fs.pervap.pressure_out = Var(m.fs.time, initialize=101e3, units=pyunits.Pa)\n",
    "m.fs.pervap.vacuum = Var(m.fs.time, initialize=1.3e3, units=pyunits.Pa)\n",
    "\n",
    "# dictionaries relating state properties to custom variables\n",
    "inlet_dict = {\"flow_mol_phase_comp\": m.fs.pervap.flow_in,\n",
    "              \"temperature\": m.fs.pervap.temperature_in,\n",
    "              \"pressure\": m.fs.pervap.pressure_in}\n",
    "retentate_dict = {\"flow_mol_phase_comp\": m.fs.pervap.ret_flow,\n",
    "                  \"temperature\": m.fs.pervap.temperature_out,\n",
    "                  \"pressure\": m.fs.pervap.pressure_out}\n",
    "permeate_dict = {\"flow_mol_phase_comp\": m.fs.pervap.perm_flow,\n",
    "                 \"temperature\": m.fs.pervap.temperature_out,\n",
    "                 \"pressure\": m.fs.pervap.vacuum}\n",
    "\n",
    "m.fs.pervap.add_ports(name=\"inlet\", member_dict=inlet_dict)\n",
    "m.fs.pervap.add_ports(name=\"retentate\", member_dict=retentate_dict)\n",
    "m.fs.pervap.add_ports(name=\"permeate\", member_dict=permeate_dict)\n",
    "\n",
    "# internal vars for skeleton\n",
    "energy_activation_dict = {(0, 'Liq', 'water'): 51e3, (0, 'Liq', 'ethylene_glycol'): 53e3}\n",
    "m.fs.pervap.energy_activation = Var(m.fs.time, m.fs.pervap.phase_list, m.fs.pervap.comp_list,\n",
    "                                    initialize=energy_activation_dict, units=pyunits.J/pyunits.mol)\n",
    "m.fs.pervap.energy_activation.fix()\n",
    "\n",
    "permeance_dict = {(0, 'Liq', 'water'): 5611320, (0, 'Liq', 'ethylene_glycol'): 22358.88}  # calculated from literature data\n",
    "m.fs.pervap.permeance = Var(m.fs.time, m.fs.pervap.phase_list, m.fs.pervap.comp_list,\n",
    "                            initialize=permeance_dict, units=pyunits.mol/pyunits.s/pyunits.m**2)\n",
    "m.fs.pervap.permeance.fix()\n",
    "\n",
    "m.fs.pervap.area = Var(m.fs.time, initialize=6, units = pyunits.m**2)\n",
    "m.fs.pervap.area.fix()\n",
    "\n",
    "latent_heat_dict = {(0, 'Liq', 'water'): 40.660e3, (0, 'Liq', 'ethylene_glycol'): 56.9e3}\n",
    "m.fs.pervap.latent_heat_of_vaporization = Var(m.fs.time, m.fs.pervap.phase_list, m.fs.pervap.comp_list,\n",
    "                                              initialize=latent_heat_dict, units=pyunits.J/pyunits.mol)\n",
    "m.fs.pervap.latent_heat_of_vaporization.fix()\n",
    "m.fs.pervap.heat_duty = Var(m.fs.time, initialize=1, units=pyunits.J/pyunits.s)  # we will calculate this later"
   ]
  },
  {
   "cell_type": "markdown",
   "metadata": {},
   "source": [
    "Let's define our surrogate equations for flux and permeance, and link them to the port variables. Users can use this structure to write custom relations between inlet and outlet streams; for example, here we define the outlet flow of the pervaporation unit as a sum of the inlet flow and calculated recovery fluxes. By defining model constraints in lieu of rigorous mass balances, we add the flux as a custom mass balance term via an empirical correlation and calculate only the condensation duty rather than implementing full energy balance calculations:"
   ]
  },
  {
   "cell_type": "code",
   "execution_count": null,
   "metadata": {},
   "outputs": [],
   "source": [
    "# Surrogate and first principles model equations\n",
    "\n",
    "# flux equation (gas constant is defined as J/mol-K)\n",
    "\n",
    "def rule_permeate_flux(pervap, t, p, i):\n",
    "    return pervap.permeate.flow_mol_phase_comp[t, p, i] / pervap.area[t] == (pervap.permeance[t, p, i] *\n",
    "                                                                             exp(-pervap.energy_activation[t, p, i] /\n",
    "                                                                                 (Constants.gas_constant *\n",
    "                                                                                  pervap.inlet.temperature[t]))\n",
    "                                                                            )\n",
    "m.fs.pervap.eq_permeate_flux = Constraint(m.fs.time, m.fs.pervap.phase_list, m.fs.pervap.comp_list, rule=rule_permeate_flux)\n",
    "\n",
    "# permeate condensation equation\n",
    "# heat duty based on condensing all of permeate product vapor\n",
    "# avoids the need for a Heater or HeatExchanger unit model\n",
    "\n",
    "def rule_duty(pervap, t):\n",
    "    return pervap.heat_duty[t] == sum(pervap.latent_heat_of_vaporization[t, p, i] * pervap.permeate.flow_mol_phase_comp[t, p, i]\n",
    "                                      for p in pervap.phase_list for i in pervap.comp_list)\n",
    "m.fs.pervap.eq_duty = Constraint(m.fs.time, rule=rule_duty) \n",
    "\n",
    "# flow equation adding total recovery as a custom mass balance term\n",
    "def rule_retentate_flow(pervap, t, p, i):\n",
    "    return pervap.retentate.flow_mol_phase_comp[t, p, i] == (pervap.inlet.flow_mol_phase_comp[t, p, i] -\n",
    "                                                            pervap.permeate.flow_mol_phase_comp[t, p, i])\n",
    "m.fs.pervap.eq_retentate_flow = Constraint(m.fs.time, m.fs.pervap.phase_list, m.fs.pervap.comp_list, rule=rule_retentate_flow)"
   ]
  },
  {
   "cell_type": "markdown",
   "metadata": {},
   "source": [
    "Finally, let's define the Arc connecting our two models (IDAES Mixer and custom Pervaporation) and build the flowsheet network:"
   ]
  },
  {
   "cell_type": "code",
   "execution_count": null,
   "metadata": {},
   "outputs": [],
   "source": [
    "m.fs.s01 = Arc(source=m.fs.WATER.outlet, destination=m.fs.M101.water_feed)\n",
    "m.fs.s02 = Arc(source=m.fs.GLYCOL.outlet, destination=m.fs.M101.glycol_feed)\n",
    "m.fs.s03 = Arc(source=m.fs.M101.outlet, destination=m.fs.pervap.inlet)\n",
    "m.fs.s04 = Arc(source=m.fs.pervap.permeate, destination=m.fs.PERMEATE.inlet)\n",
    "m.fs.s05 = Arc(source=m.fs.pervap.retentate, destination=m.fs.RETENTATE.inlet)\n",
    "TransformationFactory(\"network.expand_arcs\").apply_to(m)"
   ]
  },
  {
   "cell_type": "markdown",
   "metadata": {},
   "source": [
    "Let's see how many degrees of freedom the flowsheet has:"
   ]
  },
  {
   "cell_type": "code",
   "execution_count": null,
   "metadata": {},
   "outputs": [],
   "source": [
    "print(degrees_of_freedom(m))"
   ]
  },
  {
   "cell_type": "markdown",
   "metadata": {},
   "source": [
    "## 2.3 Inlet Specifications\n",
    "\n",
    "To obtain a square problem with zero degrees of freedom, we specify the inlet water flow, ethylene glycol flow, temperature and pressure for each feed stream, as well as the permeate stream pressure:"
   ]
  },
  {
   "cell_type": "code",
   "execution_count": null,
   "metadata": {},
   "outputs": [],
   "source": [
    "m.fs.WATER.outlet.flow_mol_phase_comp[0, \"Liq\", \"water\"].fix(0.34)  # mol/s\n",
    "m.fs.WATER.outlet.flow_mol_phase_comp[0, \"Liq\", \"ethylene_glycol\"].fix(1e-6)  # mol/s\n",
    "m.fs.WATER.outlet.temperature.fix(318.15)  # K\n",
    "m.fs.WATER.outlet.pressure.fix(101.325e3)  # Pa\n",
    "\n",
    "m.fs.GLYCOL.outlet.flow_mol_phase_comp[0, \"Liq\", \"water\"].fix(1e-6)  # mol/s\n",
    "m.fs.GLYCOL.outlet.flow_mol_phase_comp[0, \"Liq\", \"ethylene_glycol\"].fix(0.66)  # mol/s\n",
    "m.fs.GLYCOL.outlet.temperature.fix(318.15)  # K\n",
    "m.fs.GLYCOL.outlet.pressure.fix(101.325e3)  # Pa"
   ]
  },
  {
   "cell_type": "markdown",
   "metadata": {},
   "source": [
    "Additionally, we need to pass rules defining the temperature and pressure outlets of the pervaporation unit:"
   ]
  },
  {
   "cell_type": "code",
   "execution_count": null,
   "metadata": {},
   "outputs": [],
   "source": [
    "# Add a constraint to calculate the outlet temperature. \n",
    "# Here, assume outlet temperature is the same as inlet temperature for illustration\n",
    "# in reality, temperature change from latent heat loss through membrane is negligible\n",
    "\n",
    "def rule_temp_out(pervap, t):\n",
    "    return pervap.inlet.temperature[t] == pervap.retentate.temperature[t]\n",
    "m.fs.pervap.temperature_out_calculation = Constraint(m.fs.time, rule=rule_temp_out) \n",
    "\n",
    "# Add a constraint to calculate the retentate pressure\n",
    "# Here, assume the retentate pressure is the same as the inlet pressure for illustration\n",
    "# in reality, pressure change from mass loss through membrane is negligible\n",
    "\n",
    "def rule_pres_out(pervap, t):\n",
    "    return pervap.inlet.pressure[t] == pervap.retentate.pressure[t]\n",
    "m.fs.pervap.pressure_out_calculation = Constraint(m.fs.time, rule=rule_pres_out)\n",
    "\n",
    "# fix permeate vacuum pressure\n",
    "m.fs.PERMEATE.inlet.pressure.fix(1.3e3)\n",
    "\n",
    "assert degrees_of_freedom(m) == 0"
   ]
  },
  {
   "cell_type": "markdown",
   "metadata": {},
   "source": [
    "## 2.4 Custom Initialization\n",
    "In addition to allowing custom variable and constraint defintions, the Skeleton model enables implementation of a custom initialization scheme. Complex unit operations may present unique tractability issues, and users have precise control over piecewise unit model solving."
   ]
  },
  {
   "cell_type": "code",
   "execution_count": null,
   "metadata": {},
   "outputs": [],
   "source": [
    "# Add this to the imports\n",
    "from pyomo.util.calc_var_value import calculate_variable_from_constraint\n",
    "\n",
    "def my_initialize(unit, **kwargs):\n",
    "    # Callback for user provided initialization sequence\n",
    "    # Fix the inlet state\n",
    "    unit.inlet.flow_mol_phase_comp.fix()\n",
    "    unit.inlet.pressure.fix() \n",
    "    unit.inlet.temperature.fix()\n",
    "\n",
    "    # Calculate the values of the remaining variables\n",
    "    for t in m.fs.time: \n",
    "\n",
    "        calculate_variable_from_constraint(\n",
    "            unit.permeate.flow_mol_phase_comp[t, \"Liq\", \"water\"],\n",
    "            unit.eq_permeate_flux[t, \"Liq\", \"water\"])\n",
    "\n",
    "        calculate_variable_from_constraint(\n",
    "            unit.permeate.flow_mol_phase_comp[t, \"Liq\", \"ethylene_glycol\"],\n",
    "            unit.eq_permeate_flux[t, \"Liq\", \"ethylene_glycol\"])\n",
    "\n",
    "        calculate_variable_from_constraint(\n",
    "            unit.heat_duty[t],\n",
    "            unit.eq_duty[t])\n",
    "\n",
    "        calculate_variable_from_constraint(\n",
    "            unit.retentate.flow_mol_phase_comp[t, \"Liq\", \"water\"],\n",
    "            unit.eq_retentate_flow[t, \"Liq\", \"water\"])\n",
    "\n",
    "        calculate_variable_from_constraint(\n",
    "            unit.retentate.flow_mol_phase_comp[t, \"Liq\", \"ethylene_glycol\"],\n",
    "            unit.eq_retentate_flow[t, \"Liq\", \"ethylene_glycol\"])\n",
    "\n",
    "        calculate_variable_from_constraint(\n",
    "            unit.retentate.temperature[t],\n",
    "            unit.temperature_out_calculation[t])\n",
    "\n",
    "        calculate_variable_from_constraint(\n",
    "            unit.retentate.pressure[t],\n",
    "            unit.pressure_out_calculation[t])\n",
    "\n",
    "    assert degrees_of_freedom(unit) == 0\n",
    "    if degrees_of_freedom(unit) == 0:\n",
    "        res = solver.solve(unit, tee = True)\n",
    "    unit.inlet.flow_mol_phase_comp.unfix()\n",
    "    unit.inlet.temperature.unfix()\n",
    "    unit.inlet.pressure.unfix()\n",
    "    print('Custom initialization routine complete: ', res.solver.message)\n",
    "\n",
    "solver = get_solver()\n",
    "\n",
    "m.fs.WATER.initialize()\n",
    "propagate_state(m.fs.s01)\n",
    "\n",
    "m.fs.GLYCOL.initialize()\n",
    "propagate_state(m.fs.s02)\n",
    "\n",
    "m.fs.pervap.config.initializer = my_initialize\n",
    "my_initialize(m.fs.pervap)\n",
    "propagate_state(m.fs.s03)\n",
    "\n",
    "m.fs.PERMEATE.initialize()\n",
    "propagate_state(m.fs.s04)\n",
    "\n",
    "m.fs.RETENTATE.initialize()\n",
    "\n",
    "results = solver.solve(m, tee = True)"
   ]
  },
  {
   "cell_type": "markdown",
   "metadata": {},
   "source": [
    "Let's check the results:"
   ]
  },
  {
   "cell_type": "code",
   "execution_count": null,
   "metadata": {},
   "outputs": [],
   "source": [
    "# print results\n",
    "\n",
    "m.fs.WATER.report()\n",
    "m.fs.GLYCOL.report()\n",
    "m.fs.PERMEATE.report()\n",
    "m.fs.RETENTATE.report()"
   ]
  },
  {
   "cell_type": "code",
   "execution_count": null,
   "metadata": {},
   "outputs": [],
   "source": [
    "# separation factor for results analysis\n",
    "m.fs.inlet_water_frac = Expression(expr=(m.fs.pervap.inlet.flow_mol_phase_comp[0, \"Liq\", \"water\"] /\n",
    "                                         sum(m.fs.pervap.inlet.flow_mol_phase_comp[0, \"Liq\", i]\n",
    "                                             for i in m.fs.pervap.comp_list)\n",
    "                                        ))\n",
    "m.fs.permeate_water_frac = Expression(expr=(m.fs.pervap.permeate.flow_mol_phase_comp[0, \"Liq\", \"water\"] /\n",
    "                                            sum(m.fs.pervap.permeate.flow_mol_phase_comp[0, \"Liq\", i]\n",
    "                                                for i in m.fs.pervap.comp_list)\n",
    "                                           ))\n",
    "m.fs.separation_factor = Expression(expr=(m.fs.permeate_water_frac/(1-m.fs.permeate_water_frac)) /\n",
    "                                    (m.fs.inlet_water_frac/(1-m.fs.inlet_water_frac)))\n",
    "\n",
    "print(f\"Inlet water mole fraction: {value(m.fs.inlet_water_frac)}\")\n",
    "print(f\"Permeate water mole fraction: {value(m.fs.permeate_water_frac)}\")\n",
    "print(f\"Separation factor: {value(m.fs.separation_factor)}\")\n",
    "print(f\"Condensation duty: {value(m.fs.pervap.heat_duty[0]/1000)} kW\")\n",
    "print(f\"Duty per mole water recovered: {value(m.fs.pervap.heat_duty[0]/(1000*m.fs.PERMEATE.inlet.flow_mol_phase_comp[0, 'Liq', 'water']*3600))} kW-h / mol\")"
   ]
  },
  {
   "cell_type": "code",
   "execution_count": null,
   "metadata": {},
   "outputs": [],
   "source": [
    "# check results\n",
    "assert check_optimal_termination(results)\n",
    "assert_units_consistent(m)\n",
    "\n",
    "assert value(m.fs.PERMEATE.inlet.flow_mol_phase_comp[0, \"Liq\", \"water\"]) == pytest.approx(0.1426, rel=1e-3)\n",
    "assert value(m.fs.PERMEATE.inlet.flow_mol_phase_comp[0, \"Liq\", \"ethylene_glycol\"]) == pytest.approx(0.0002667, rel=1e-3)\n",
    "assert value(m.fs.RETENTATE.inlet.flow_mol_phase_comp[0, \"Liq\", \"water\"]) == pytest.approx(0.1974, rel=1e-3)\n",
    "assert value(m.fs.RETENTATE.inlet.flow_mol_phase_comp[0, \"Liq\", \"ethylene_glycol\"]) == pytest.approx(0.6597, rel=1e-3)\n",
    "assert value(m.fs.separation_factor) == pytest.approx(1038, rel=1e-3)\n",
    "assert value(m.fs.pervap.heat_duty[0]) == pytest.approx(5813, rel=1e-3)"
   ]
  },
  {
   "cell_type": "markdown",
   "metadata": {},
   "source": [
    "# 3. Optimization\n",
    "\n",
    "Suppose we wish to characterize the membrane behavior by calculating the maximum inlet water mole fraction allowing a separation factor of at least 100 (typical value for high-efficiency separation processes such as gas separation of CO2/N2). We need to fix total inlet flow to ensure physically-sound solutions. We can quickly modify and resolve the model, and check some key results:"
   ]
  },
  {
   "cell_type": "code",
   "execution_count": null,
   "metadata": {},
   "outputs": [],
   "source": [
    "# unfix inlet flows but fix total to prevent divergence during solve\n",
    "m.fs.WATER.outlet.flow_mol_phase_comp[0, \"Liq\", \"water\"].unfix()\n",
    "m.fs.GLYCOL.outlet.flow_mol_phase_comp[0, \"Liq\", \"ethylene_glycol\"].unfix()\n",
    "m.fs.total_flow = Constraint(expr=m.fs.WATER.outlet.flow_mol_phase_comp[0, \"Liq\", \"water\"] +\n",
    "                             m.fs.GLYCOL.outlet.flow_mol_phase_comp[0, \"Liq\", \"ethylene_glycol\"] ==\n",
    "                             1*pyunits.mol/pyunits.s)\n",
    "\n",
    "# set criteria for separation factor\n",
    "m.fs.sep_min = Constraint(expr=m.fs.separation_factor >= 100)\n",
    "\n",
    "# set objective - defaults to minimization\n",
    "m.fs.obj = Objective(expr=m.fs.inlet_water_frac, sense=maximize)\n",
    "\n",
    "results = solver.solve(m, tee = True)"
   ]
  },
  {
   "cell_type": "code",
   "execution_count": null,
   "metadata": {},
   "outputs": [],
   "source": [
    "# print results\n",
    "\n",
    "m.fs.WATER.report()\n",
    "m.fs.GLYCOL.report()\n",
    "m.fs.PERMEATE.report()\n",
    "m.fs.RETENTATE.report()"
   ]
  },
  {
   "cell_type": "code",
   "execution_count": null,
   "metadata": {},
   "outputs": [],
   "source": [
    "print(f\"Inlet water mole fraction: {value(m.fs.inlet_water_frac)}\")\n",
    "print(f\"Permeate water mole fraction: {value(m.fs.permeate_water_frac)}\")\n",
    "print(f\"Separation factor: {value(m.fs.separation_factor)}\")\n",
    "print(f\"Condensation duty: {value(m.fs.pervap.heat_duty[0]/1000)} kW\")\n",
    "print(f\"Duty per mole water recovered: {value(m.fs.pervap.heat_duty[0]/(1000*m.fs.PERMEATE.inlet.flow_mol_phase_comp[0, 'Liq', 'water']*3600))} kW-h / mol\")"
   ]
  },
  {
   "cell_type": "code",
   "execution_count": null,
   "metadata": {},
   "outputs": [],
   "source": [
    "# check results\n",
    "assert check_optimal_termination(results)\n",
    "assert_units_consistent(m)\n",
    "\n",
    "assert value(m.fs.PERMEATE.inlet.flow_mol_phase_comp[0, \"Liq\", \"water\"]) == pytest.approx(0.1426, rel=1e-3)\n",
    "assert value(m.fs.PERMEATE.inlet.flow_mol_phase_comp[0, \"Liq\", \"ethylene_glycol\"]) == pytest.approx(0.0002667, rel=1e-3)\n",
    "assert value(m.fs.RETENTATE.inlet.flow_mol_phase_comp[0, \"Liq\", \"water\"]) == pytest.approx(0.6998, rel=1e-3)\n",
    "assert value(m.fs.RETENTATE.inlet.flow_mol_phase_comp[0, \"Liq\", \"ethylene_glycol\"]) == pytest.approx(0.1573, rel=1e-3)\n",
    "assert value(m.fs.separation_factor) == pytest.approx(100.0, rel=1e-3)\n",
    "assert value(m.fs.pervap.heat_duty[0]) == pytest.approx(5813, rel=1e-3)"
   ]
  },
  {
   "cell_type": "markdown",
   "metadata": {},
   "source": [
    "# 4. Summary\n",
    "\n",
    "The IDAES Skeleton Unit Model is a powerful tool for implementing relatively simple first-princples, surrogate-based or empirical unit operations. More crucially, users can add their own custom models and integrate them into a larger IDAES flowsheet without adding control volumes or rigorous flow balance and equilibrium calculations when not required. The pervaporation example displays a case where all model equations are empirical correlations or simple manual calculations, with a small number of state variable and port connections, and the Skeleton model avoids complex calculations that impact model tractability. The example also demonstrates adding a custom initialization scheme to handle internally model degrees of freedom, a feature providing greater user control than with most IDAES unit models."
   ]
  },
  {
   "cell_type": "code",
   "execution_count": null,
   "metadata": {},
   "outputs": [],
   "source": []
  }
 ],
 "metadata": {
  "celltoolbar": "Tags",
  "kernelspec": {
   "display_name": "Python 3 (ipykernel)",
   "language": "python",
   "name": "python3"
  },
  "language_info": {
   "codemirror_mode": {
    "name": "ipython",
    "version": 3
   },
   "file_extension": ".py",
   "mimetype": "text/x-python",
   "name": "python",
   "nbconvert_exporter": "python",
   "pygments_lexer": "ipython3",
   "version": "3.9.12"
  }
 },
 "nbformat": 4,
 "nbformat_minor": 2
}
