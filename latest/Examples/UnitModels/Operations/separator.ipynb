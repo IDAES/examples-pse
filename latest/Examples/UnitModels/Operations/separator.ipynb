{
 "cells": [
  {
   "cell_type": "markdown",
   "metadata": {},
   "source": [
    "# Tutorial: Separator Unit Model with Modular Property Package\n",
    "\n",
    "![](splitter.svg)\n",
    "\n",
    "## Learning Outcomes\n",
    "\n",
    "- Demonstrate use of the separator unit model in IDAES\n",
    "- Demonstrate different separation options available\n",
    "\n",
    "\n",
    "## Problem Statement\n",
    "\n",
    "In this example, we will be separating a feed stream of liquid H2O and CO2 vapor. The inlet conditions are as follows:\n",
    "\n",
    "**Inlet:**\n",
    "\n",
    "Flow Rate = 100 mol/s\n",
    "\n",
    "Mole Fraction (H2O) = 0.9\n",
    "\n",
    "Mole Fraction (CO2) = 0.1\n",
    "\n",
    "Temperature = 298 K\n",
    "\n",
    "Pressure = 101325 Pa\n",
    "\n",
    "We will look at three cases in this tutorial:\n",
    "\n",
    "Case 1: Separate on a total flow split basis\n",
    "\n",
    "Case 2: Separate on a phase flow split basis\n",
    "\n",
    "Case 3: Separate on a component flow split basis\n",
    "\n",
    "\n",
    "For more details, please refer to the IDAES documentation: https://idaes-pse.readthedocs.io/en/stable"
   ]
  },
  {
   "cell_type": "markdown",
   "metadata": {},
   "source": [
    "## Importing necessary tools\n",
    "\n",
    "In the following cell, we will be importing the necessary components from Pyomo and IDAES."
   ]
  },
  {
   "cell_type": "code",
   "execution_count": null,
   "metadata": {},
   "outputs": [],
   "source": [
    "# Import objects from pyomo package \n",
    "from pyomo.environ import ConcreteModel, value\n",
    "\n",
    "# Import the solver\n",
    "from idaes.core.solvers import get_solver\n",
    "\n",
    "# Import the main FlowsheetBlock from IDAES. The flowsheet block will contain the unit model\n",
    "from idaes.core import FlowsheetBlock\n",
    "\n",
    "# Import the option to set the type of material balance \n",
    "from idaes.core import MaterialBalanceType\n",
    "\n",
    "# Import the separator unit model\n",
    "from idaes.models.unit_models import Separator\n",
    "\n",
    "# Import the option to set the basis for splitting\n",
    "from idaes.models.unit_models.separator import SplittingType\n",
    "\n",
    "# Import idaes logger to set output levels\n",
    "import idaes.logger as idaeslog\n",
    "\n",
    "# Import the modular property package to create a property block for the flowsheet\n",
    "from idaes.models.properties.modular_properties.base.generic_property import GenericParameterBlock\n",
    "\n",
    "# Import the BT_Ideal property package to create a configuration file for the GenericParameterBlock\n",
    "from idaes.models.properties.modular_properties.examples.CO2_H2O_Ideal_VLE import configuration\n",
    "\n",
    "# Import the degrees_of_freedom function from the idaes.core.util.model_statistics package\n",
    "# DOF = Number of Model Variables - Number of Model Constraints\n",
    "from idaes.core.util.model_statistics import degrees_of_freedom"
   ]
  },
  {
   "cell_type": "markdown",
   "metadata": {},
   "source": [
    "## Setting up the flowsheet\n",
    "\n",
    "In the following cell, we will create the `ConcreteModel` foundation, attach the steady state flowsheet, and declare the property parameter block that will used.\n",
    "\n",
    "More information on this general workflow can be found here: https://idaes-pse.readthedocs.io/en/stable/how_to_guides/workflow/general.html"
   ]
  },
  {
   "cell_type": "code",
   "execution_count": null,
   "metadata": {},
   "outputs": [],
   "source": [
    "m = ConcreteModel()\n",
    "\n",
    "m.fs = FlowsheetBlock(dynamic=False) # dynamic or ss flowsheet needs to be specified here\n",
    "\n",
    "m.fs.properties = GenericParameterBlock(**configuration)"
   ]
  },
  {
   "cell_type": "markdown",
   "metadata": {},
   "source": [
    "## Case 1:\n",
    "\n",
    "In the following cell, we will be creating the separator unit model that splits on a *total flow basis* and determining the initial degrees of freedom associated with this separator unit model."
   ]
  },
  {
   "cell_type": "code",
   "execution_count": null,
   "metadata": {},
   "outputs": [],
   "source": [
    "m.fs.sep_1 = Separator(\n",
    "    property_package=m.fs.properties,\n",
    "    split_basis=SplittingType.totalFlow,\n",
    "    outlet_list=[\"a1\", \"b1\", \"c1\"],  # creates three outlet streams\n",
    "    ideal_separation=False,\n",
    "    has_phase_equilibrium=False,\n",
    ")\n",
    "\n",
    "DOF_initial = degrees_of_freedom(m)\n",
    "print('The initial degrees of freedom are: {0}'.format(DOF_initial))"
   ]
  },
  {
   "cell_type": "markdown",
   "metadata": {},
   "source": [
    "### Fixing input specifications\n",
    "In the following cell, we will be specifying the inlet conditions for the separator block and re-evaluating the degrees of freedom to ensure the problem is square (i.e. DOF=0)."
   ]
  },
  {
   "cell_type": "code",
   "execution_count": null,
   "metadata": {},
   "outputs": [],
   "source": [
    "m.fs.sep_1.inlet.flow_mol.fix(10) # converting to mol/s as unit basis is mol/s\n",
    "m.fs.sep_1.inlet.mole_frac_comp[0, \"H2O\"].fix(0.9)\n",
    "m.fs.sep_1.inlet.mole_frac_comp[0, \"CO2\"].fix(0.1)\n",
    "m.fs.sep_1.inlet.pressure.fix(101325) # Pa\n",
    "m.fs.sep_1.inlet.temperature.fix(353) # K\n",
    "\n",
    "m.fs.sep_1.split_fraction[0, \"a1\"].fix(0.2)\n",
    "m.fs.sep_1.split_fraction[0, \"b1\"].fix(0.5)\n",
    "# Directly setting the split fraction of c1 will cause the DOF check to fail\n",
    "\n",
    "DOF_final = degrees_of_freedom(m)\n",
    "print('The final degrees of freedom is: {0}'.format(DOF_final))"
   ]
  },
  {
   "cell_type": "markdown",
   "metadata": {},
   "source": [
    "### Flowsheet Initialization\n",
    "\n",
    "IDAES includes pre-written initialization routines for all unit models. Failing to initialize or having a poor intialization of a flowsheet may result in the problem being unsolvable. The output from initialization can be set to 7 different levels depending on the details required by the user. In general, when a particular output level is set, any information at that level and above gets picked up by logger. The default level taken by the logger is INFO.\n",
    "\n",
    "More information on these levels can be found in the IDAES documentation: https://idaes-pse.readthedocs.io/en/stable/reference_guides/logging.html"
   ]
  },
  {
   "cell_type": "code",
   "execution_count": null,
   "metadata": {},
   "outputs": [],
   "source": [
    "m.fs.sep_1.initialize(outlvl=idaeslog.WARNING)"
   ]
  },
  {
   "cell_type": "markdown",
   "metadata": {},
   "source": [
    "### Obtaining Simulation Results\n",
    "\n",
    "In the following cell, the flowsheet will be solved using the IDAES `get_solver` tool. Setting `tee=True` will display the solver output."
   ]
  },
  {
   "cell_type": "code",
   "execution_count": null,
   "metadata": {},
   "outputs": [],
   "source": [
    "solver = get_solver()\n",
    "result = solver.solve(m, tee=True)"
   ]
  },
  {
   "cell_type": "markdown",
   "metadata": {},
   "source": [
    "### View Results\n",
    "As expected, the report below shows that the three outlet streams share the same composition as the inlet stream with the only difference being their molar flowrate, which was determined by their respective split fractions."
   ]
  },
  {
   "cell_type": "code",
   "execution_count": null,
   "metadata": {},
   "outputs": [],
   "source": [
    "m.fs.sep_1.report()"
   ]
  },
  {
   "cell_type": "markdown",
   "metadata": {},
   "source": [
    "## Case 2:\n",
    "\n",
    "In the following cell, we will be creating the separator unit model that splits on a *phase flow basis* and determining the initial degrees of freedom associated with this separator unit model."
   ]
  },
  {
   "cell_type": "code",
   "execution_count": null,
   "metadata": {},
   "outputs": [],
   "source": [
    "m.fs.sep_2 = Separator(\n",
    "    property_package=m.fs.properties,\n",
    "    split_basis=SplittingType.phaseFlow,\n",
    "    outlet_list=[\"a2\", \"b2\"],\n",
    "    ideal_separation=False,\n",
    "    has_phase_equilibrium=False,\n",
    ")\n",
    "\n",
    "DOF_initial = degrees_of_freedom(m)\n",
    "print('The initial degrees of freedom are: {0}'.format(DOF_initial))"
   ]
  },
  {
   "cell_type": "markdown",
   "metadata": {},
   "source": [
    "### Fixing input specifications\n",
    "In the following cell, we will be specifying the inlet conditions for the separator block and re-evaluating the degrees of freedom to ensure the problem is square (i.e. DOF=0)."
   ]
  },
  {
   "cell_type": "code",
   "execution_count": null,
   "metadata": {},
   "outputs": [],
   "source": [
    "m.fs.sep_2.inlet.flow_mol.fix(10) # converting to mol/s as unit basis is mol/s\n",
    "m.fs.sep_2.inlet.mole_frac_comp[0, \"H2O\"].fix(0.9)\n",
    "m.fs.sep_2.inlet.mole_frac_comp[0, \"CO2\"].fix(0.1)\n",
    "m.fs.sep_2.inlet.pressure.fix(101325) # Pa\n",
    "m.fs.sep_2.inlet.temperature.fix(353) # K\n",
    "\n",
    "m.fs.sep_2.split_fraction[0, \"a2\", \"Vap\"].fix(0.8)\n",
    "m.fs.sep_2.split_fraction[0, \"b2\", \"Liq\"].fix(0.8)\n",
    "\n",
    "DOF_final = degrees_of_freedom(m)\n",
    "print('The final degrees of freedom is: {0}'.format(DOF_final))"
   ]
  },
  {
   "cell_type": "markdown",
   "metadata": {},
   "source": [
    "### Flowsheet Initialization\n",
    "\n",
    "IDAES includes pre-written initialization routines for all unit models. Failing to initialize or having a poor intialization of a flowsheet may result in the problem being unsolvable. The output from initialization can be set to 7 different levels depending on the details required by the user. In general, when a particular output level is set, any information at that level and above gets picked up by logger. The default level taken by the logger is INFO.\n",
    "\n",
    "More information on these levels can be found in the IDAES documentation: https://idaes-pse.readthedocs.io/en/stable/reference_guides/logging.html"
   ]
  },
  {
   "cell_type": "code",
   "execution_count": null,
   "metadata": {},
   "outputs": [],
   "source": [
    "m.fs.sep_2.initialize(outlvl=idaeslog.WARNING)"
   ]
  },
  {
   "cell_type": "markdown",
   "metadata": {},
   "source": [
    "### Obtaining Simulation Results\n",
    "\n",
    "In the following cell, the flowsheet will be solved using the IDAES `get_solver` tool. Setting `tee=True` will display the solver output."
   ]
  },
  {
   "cell_type": "code",
   "execution_count": null,
   "metadata": {},
   "outputs": [],
   "source": [
    "solver = get_solver()\n",
    "result = solver.solve(m, tee=True)"
   ]
  },
  {
   "cell_type": "markdown",
   "metadata": {},
   "source": [
    "### View Results\n",
    "As expected, the report below shows that the outlet *a2* contains 80% of the gaseous CO2 and outlet *b2* contains 80% of the liquid H2O."
   ]
  },
  {
   "cell_type": "code",
   "execution_count": null,
   "metadata": {},
   "outputs": [],
   "source": [
    "m.fs.sep_2.report()"
   ]
  },
  {
   "cell_type": "markdown",
   "metadata": {},
   "source": [
    "## Case 3:\n",
    "\n",
    "In the following cell, we will be creating the separator unit model that splits on a *component flow basis* and determining the initial degrees of freedom associated with this separator unit model."
   ]
  },
  {
   "cell_type": "code",
   "execution_count": null,
   "metadata": {},
   "outputs": [],
   "source": [
    "m.fs.sep_3 = Separator(\n",
    "    property_package=m.fs.properties,\n",
    "    split_basis=SplittingType.componentFlow,\n",
    "    outlet_list=[\"a3\", \"b3\", \"c3\", \"d3\"],\n",
    "    ideal_separation=False,\n",
    "    has_phase_equilibrium=False,\n",
    ")\n",
    "\n",
    "DOF_initial = degrees_of_freedom(m)\n",
    "print('The initial degrees of freedom are: {0}'.format(DOF_initial))"
   ]
  },
  {
   "cell_type": "markdown",
   "metadata": {},
   "source": [
    "### Fixing input specifications\n",
    "In the following cell, we will be specifying the inlet conditions for the separator block and re-evaluating the degrees of freedom to ensure the problem is square (i.e. DOF=0)."
   ]
  },
  {
   "cell_type": "code",
   "execution_count": null,
   "metadata": {},
   "outputs": [],
   "source": [
    "m.fs.sep_3.inlet.flow_mol.fix(10) # converting to mol/s as unit basis is mol/s\n",
    "m.fs.sep_3.inlet.mole_frac_comp[0, \"H2O\"].fix(0.9)\n",
    "m.fs.sep_3.inlet.mole_frac_comp[0, \"CO2\"].fix(0.1)\n",
    "m.fs.sep_3.inlet.pressure.fix(101325) # Pa\n",
    "m.fs.sep_3.inlet.temperature.fix(353) # K\n",
    "\n",
    "m.fs.sep_3.split_fraction[0, \"a3\", \"H2O\"].fix(0.25)\n",
    "m.fs.sep_3.split_fraction[0, \"b3\", \"H2O\"].fix(0.5)\n",
    "m.fs.sep_3.split_fraction[0, \"c3\", \"H2O\"].fix(0.1)\n",
    "\n",
    "m.fs.sep_3.split_fraction[0, \"a3\", \"CO2\"].fix(0.1)\n",
    "m.fs.sep_3.split_fraction[0, \"b3\", \"CO2\"].fix(0.2)\n",
    "m.fs.sep_3.split_fraction[0, \"c3\", \"CO2\"].fix(0.3)\n",
    "\n",
    "DOF_final = degrees_of_freedom(m)\n",
    "print('The final degrees of freedom is: {0}'.format(DOF_final))"
   ]
  },
  {
   "cell_type": "markdown",
   "metadata": {},
   "source": [
    "### Flowsheet Initialization\n",
    "\n",
    "IDAES includes pre-written initialization routines for all unit models. Failing to initialize or having a poor intialization of a flowsheet may result in the problem being unsolvable. The output from initialization can be set to 7 different levels depending on the details required by the user. In general, when a particular output level is set, any information at that level and above gets picked up by logger. The default level taken by the logger is INFO.\n",
    "\n",
    "More information on these levels can be found in the IDAES documentation: https://idaes-pse.readthedocs.io/en/stable/reference_guides/logging.html"
   ]
  },
  {
   "cell_type": "code",
   "execution_count": null,
   "metadata": {},
   "outputs": [],
   "source": [
    "m.fs.sep_3.initialize(outlvl=idaeslog.WARNING)"
   ]
  },
  {
   "cell_type": "markdown",
   "metadata": {},
   "source": [
    "### Obtaining Simulation Results\n",
    "\n",
    "In the following cell, the flowsheet will be solved using the IDAES `get_solver` tool. Setting `tee=True` will display the solver output."
   ]
  },
  {
   "cell_type": "code",
   "execution_count": null,
   "metadata": {},
   "outputs": [],
   "source": [
    "solver = get_solver()\n",
    "result = solver.solve(m, tee=True)"
   ]
  },
  {
   "cell_type": "markdown",
   "metadata": {},
   "source": [
    "### View Results\n",
    "As expected, the report below shows that the component mole fractions in each of the outlet streams are equivalent to their respective split fractions as specified in the input specifications."
   ]
  },
  {
   "cell_type": "code",
   "execution_count": null,
   "metadata": {},
   "outputs": [],
   "source": [
    "m.fs.sep_3.report()"
   ]
  },
  {
   "cell_type": "code",
   "execution_count": null,
   "metadata": {},
   "outputs": [],
   "source": []
  }
 ],
 "metadata": {
  "celltoolbar": "Tags",
  "kernelspec": {
   "display_name": "Python 3 (ipykernel)",
   "language": "python",
   "name": "python3"
  },
  "language_info": {
   "codemirror_mode": {
    "name": "ipython",
    "version": 3
   },
   "file_extension": ".py",
   "mimetype": "text/x-python",
   "name": "python",
   "nbconvert_exporter": "python",
   "pygments_lexer": "ipython3",
   "version": "3.7.13"
  }
 },
 "nbformat": 4,
 "nbformat_minor": 2
}
