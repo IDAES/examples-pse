{
 "cells": [
  {
   "cell_type": "markdown",
   "metadata": {},
   "source": [
    "# PySMO Tutorial\n",
    "\n",
    "**Python-based Surrogate Modelling Objects** (PySMO) provides tools for generating different types of reduced order models. PySMO currently provides tools for sampling and surrogate model generation.\n",
    "\n",
    "## Installation\n",
    "\n",
    "**PySMO** is installed by default as part of IDAES. For instructions on installing IDAES, see the [online documentation](https://idaes-pse.readthedocs.io/en/stable/).\n"
   ]
  },
  {
   "cell_type": "markdown",
   "metadata": {},
   "source": [
    "## One-Shot Sampling with PySMO\n",
    "\n",
    "The PySMO package offers five common sampling methods for one-shot design:\n",
    "\n",
    "* Latin Hypercube Sampling (LHS)\n",
    "* Full-Factorial Sampling\n",
    "* Halton Sampling\n",
    "* Hammersley Sampling\n",
    "* Centroidal voronoi tessellation (CVT) sampling"
   ]
  },
  {
   "cell_type": "markdown",
   "metadata": {},
   "source": [
    "PySMO provides two modes for data sampling: creation and selection.\n",
    "- In creation mode, PySMO creates a specified number of sample points from the bounds provided by the user.\n",
    "- In selection mode, PySMO selects a specified number of data points from a user-supplied dataset or file."
   ]
  },
  {
   "cell_type": "markdown",
   "metadata": {},
   "source": [
    "### Generating samples: \n",
    "For demonstration purposes, let us consider a problem for which we need twenty-five (25) samples of temperature and pressure from within the ranges T = 273K - 373K, P = 1 MPa - 50 MPa. Let us generate these samples in PySMO."
   ]
  },
  {
   "cell_type": "markdown",
   "metadata": {},
   "source": [
    "#### Step 1: Import PySMO's sampling tool\n",
    "For this demonstration, we will attempt to generate the samples using the Hammersley sampling method."
   ]
  },
  {
   "cell_type": "code",
   "execution_count": 1,
   "metadata": {},
   "outputs": [],
   "source": [
    "from idaes.core.surrogate.pysmo.sampling import HammersleySampling"
   ]
  },
  {
   "cell_type": "markdown",
   "metadata": {},
   "source": [
    "#### Step 2: Specify sampling information and initialize class\n",
    "\n",
    "All the sampling tools (except full-factorial sampling) require the same keyword arguments:\n",
    "\n",
    "          -  data_input             : must be a list of lists containing the problem bounds (when creating points), \n",
    "                                      or an input dataset (when selecting points from a dataset)\n",
    "          -  number_of_samples      : number of samples to be created or selected.\n",
    "          -  sampling_type          : \"creation\" or \"selection\".\n",
    "\n",
    "For full factorial sampling, the user needs to enter a list of points in each dimension in place of the number of samples. Full-factorial sampling requires other inputs - details may be found in the [documentation](https://idaes-pse.readthedocs.io/en/latest/user_guide/modeling_extensions/surrogate/pysmo/pysmo_uniform.html)."
   ]
  },
  {
   "cell_type": "markdown",
   "metadata": {},
   "source": [
    "For our example, we will create the bounds and then initialize the class with the number of samples."
   ]
  },
  {
   "cell_type": "code",
   "execution_count": 2,
   "metadata": {},
   "outputs": [
    {
     "name": "stdout",
     "output_type": "stream",
     "text": [
      "Sampling type:  creation \n",
      "\n"
     ]
    }
   ],
   "source": [
    "bounds_info = [[273, 1],[373, 50]]\n",
    "init_data = HammersleySampling(data_input=bounds_info, number_of_samples=25, sampling_type=\"creation\")"
   ]
  },
  {
   "cell_type": "markdown",
   "metadata": {},
   "source": [
    "#### Step 3: Create the samples\n",
    "The samples are created by calling the ``sample_points`` method on the initialized class."
   ]
  },
  {
   "cell_type": "code",
   "execution_count": 3,
   "metadata": {},
   "outputs": [
    {
     "name": "stdout",
     "output_type": "stream",
     "text": [
      "[[273.        1.     ]\n",
      " [277.       25.5    ]\n",
      " [281.       13.25   ]\n",
      " [285.       37.75   ]\n",
      " [289.        7.125  ]\n",
      " [293.       31.625  ]\n",
      " [297.       19.375  ]\n",
      " [301.       43.875  ]\n",
      " [305.        4.0625 ]\n",
      " [309.       28.5625 ]\n",
      " [313.       16.3125 ]\n",
      " [317.       40.8125 ]\n",
      " [321.       10.1875 ]\n",
      " [325.       34.6875 ]\n",
      " [329.       22.4375 ]\n",
      " [333.       46.9375 ]\n",
      " [337.        2.53125]\n",
      " [341.       27.03125]\n",
      " [345.       14.78125]\n",
      " [349.       39.28125]\n",
      " [353.        8.65625]\n",
      " [357.       33.15625]\n",
      " [361.       20.90625]\n",
      " [365.       45.40625]\n",
      " [369.        5.59375]]\n"
     ]
    }
   ],
   "source": [
    "samples = init_data.sample_points()\n",
    "print(samples)"
   ]
  },
  {
   "cell_type": "markdown",
   "metadata": {},
   "source": [
    "Simple as that, the samples have been created!\n",
    "\n",
    "Now, let us visualize the samples in a 2-D plot."
   ]
  },
  {
   "cell_type": "markdown",
   "metadata": {},
   "source": [
    "#### Step 4: Visualize samples with matplotlib"
   ]
  },
  {
   "cell_type": "code",
   "execution_count": 4,
   "metadata": {},
   "outputs": [
    {
     "data": {
      "image/png": "[encoded data removed]",
      "text/plain": [
       "<Figure size 432x288 with 1 Axes>"
      ]
     },
     "metadata": {
      "needs_background": "light"
     },
     "output_type": "display_data"
    }
   ],
   "source": [
    "from matplotlib import pyplot as plt\n",
    "plt.plot(samples[:, 0], samples[:, 1], 'o')\n",
    "plt.xlabel(r'Temperature', fontsize=11)\n",
    "plt.xlabel(r'Pressure', fontsize=11)\n",
    "plt.xlim(272, 374)\n",
    "plt.ylim(0, 50)\n",
    "plt.show()"
   ]
  },
  {
   "cell_type": "markdown",
   "metadata": {},
   "source": [
    "## Generating surrogates with PySMO\n",
    "\n",
    "PySMO currently provides tools for generating three types of surrogates:\n",
    "\n",
    "- Polynomial surrogates\n",
    "- Radial basis function (RBF) surrogates, and\n",
    "- Kriging surrogates\n",
    "\n",
    "Details about thee various methods may be found in the [documentation](https://idaes-pse.readthedocs.io/en/latest/user_guide/modeling_extensions/surrogate/pysmo/index.html)."
   ]
  },
  {
   "cell_type": "markdown",
   "metadata": {},
   "source": [
    "### Generating polynomial models\n",
    "\n",
    "The ``PolynomialRegression`` class trains polynomial models from data.\n",
    "\n",
    "As an example, let us generate a surrogate for the Brainin function. \n",
    "\n",
    "The true Brainin function is given by the expression:\n",
    " \n",
    " \\begin{gather}\n",
    "\\hat{y}(x_{1},x_{2})=\\left(x_{2}-\\frac{5.1x_{1}^{2}}{4\\pi^{2}}+\\frac{5x_{1}}{\\pi}-6\\right)^{2}+10\\left[\\left(1-\\frac{1}{8\\pi}\\right)\\cos\\left(x_{1}\\right)+1\\right]+5x_{1}\\nonumber \\\\\n",
    "x_{1}\\in\\left[-5,10\\right];x_{2}\\in\\left[0,15\\right]\n",
    "\\end{gather}\n",
    "\n",
    "We have generated 30 points from the function and saved the information in a text file called \"brainin_30.txt\". We will use this data to train a simple polynomial model. The data is in XY format, with the outputs $y$ in the third column."
   ]
  },
  {
   "cell_type": "markdown",
   "metadata": {},
   "source": [
    "#### Step 1: Import and visualize the data"
   ]
  },
  {
   "cell_type": "code",
   "execution_count": 5,
   "metadata": {},
   "outputs": [
    {
     "name": "stdout",
     "output_type": "stream",
     "text": [
      "[[ 3.15107413e+00  4.17554078e+00  4.03815759e+00]\n",
      " [ 1.36776386e+00  1.26716420e+01  8.60127077e+01]\n",
      " [-4.92921716e+00  1.82353681e+00  2.41888089e+02]\n",
      " [ 5.06123627e+00  1.23877913e+01  1.37242426e+02]\n",
      " [-2.94940115e+00  8.62639994e+00  1.07587601e+01]\n",
      " [ 8.36982931e+00  3.13803183e+00  7.24964869e+00]\n",
      " [-2.22007671e+00  1.62565336e+00  7.71988248e+01]\n",
      " [-1.70453761e+00  1.46793568e+01  3.99820398e+01]\n",
      " [ 7.17524724e+00  2.57911519e+00  1.78453527e+01]\n",
      " [ 7.24337123e+00  4.11110621e+00  2.36937839e+01]\n",
      " [ 1.47556275e+00  1.41004473e+01  1.14292050e+02]\n",
      " [ 7.26474068e+00  5.04167925e+00  2.96703147e+01]\n",
      " [-2.36884319e+00  5.59248069e+00  2.71582680e+01]\n",
      " [-4.91467239e+00  3.78639530e+00  1.84993457e+02]\n",
      " [ 6.93493763e+00  2.28824569e-01  1.85302363e+01]\n",
      " [ 3.98265065e+00  9.05706809e+00  5.75698037e+01]\n",
      " [-3.42278472e+00  5.72915167e+00  5.30702398e+01]\n",
      " [-4.45285915e+00  1.33561735e+01  1.27882794e+01]\n",
      " [ 9.71381286e+00  8.99129832e-01  4.14567857e+00]\n",
      " [ 8.35818917e+00  8.65352249e+00  5.34055688e+01]\n",
      " [ 6.13719534e+00  9.45275905e+00  8.93001840e+01]\n",
      " [ 3.72763289e+00  3.06586980e-01  4.42072359e+00]\n",
      " [-1.84960133e+00  8.17027317e+00  8.83431235e+00]\n",
      " [ 6.53672757e+00  3.76042844e+00  2.62862798e+01]\n",
      " [-7.11564644e-01  1.27859263e+01  4.84986100e+01]\n",
      " [ 9.62509740e+00  1.32727994e+01  1.13457908e+02]\n",
      " [ 3.92617659e-01  8.98288419e+00  3.17439666e+01]\n",
      " [ 3.21934175e-01  5.10285323e+00  1.92673649e+01]\n",
      " [-2.32878516e+00  3.56541313e+00  5.02034858e+01]\n",
      " [-4.32706576e+00  7.58147144e+00  6.60457721e+01]] \n",
      "\n",
      "Dataset shape: (30, 3)\n"
     ]
    }
   ],
   "source": [
    "import numpy as np\n",
    "brainin_data = np.loadtxt('brainin_30.txt')\n",
    "print(brainin_data,'\\n\\nDataset shape:', brainin_data.shape)"
   ]
  },
  {
   "cell_type": "markdown",
   "metadata": {},
   "source": [
    "Let us visualize the data:"
   ]
  },
  {
   "cell_type": "code",
   "execution_count": 6,
   "metadata": {},
   "outputs": [
    {
     "data": {
      "text/plain": [
       "Text(0.5, 0, '$y$')"
      ]
     },
     "execution_count": 6,
     "metadata": {},
     "output_type": "execute_result"
    },
    {
     "data": {
      "image/png": "[encoded data removed]",
      "text/plain": [
       "<Figure size 432x288 with 1 Axes>"
      ]
     },
     "metadata": {
      "needs_background": "light"
     },
     "output_type": "display_data"
    }
   ],
   "source": [
    "from mpl_toolkits.mplot3d import Axes3D \n",
    "from matplotlib import pyplot as plt\n",
    "fig1 = plt.figure(figsize=(6, 4), tight_layout=True)\n",
    "ax = fig1.add_subplot(111, projection='3d')\n",
    "ax.scatter3D(brainin_data[:, 0], brainin_data[:, 1], brainin_data[:, 2], cmap=brainin_data[:, 2])\n",
    "ax.set_xlabel(r'$x_{1}$', fontsize=11)\n",
    "ax.set_ylabel(r'$x_{2}$', fontsize=11)\n",
    "ax.set_zlabel(r'$y$', fontsize=11)"
   ]
  },
  {
   "cell_type": "markdown",
   "metadata": {},
   "source": [
    "#### Step 2: Import the polynomial model tool"
   ]
  },
  {
   "cell_type": "code",
   "execution_count": 7,
   "metadata": {},
   "outputs": [],
   "source": [
    "from idaes.core.surrogate.pysmo.polynomial_regression import PolynomialRegression"
   ]
  },
  {
   "cell_type": "markdown",
   "metadata": {},
   "source": [
    "#### Step 3: Specify the regression settings and initialize the PolynomialRegression class\n",
    "    \n",
    "The PolynomialRegression class takes a keyword arguments:\n",
    "\n",
    "      -  original_data_input           : The dataset for regression training. training_data is expected to contain xy_data, \n",
    "                                         with the output values (y) in the last column.\n",
    "      -  regression_data_input         : same as above\n",
    "      -  maximum_polynomial_order      : maximum order of the polynomial to be generated  \n",
    "\n",
    "It also takes a number of optional arguments:\n",
    "\n",
    "      - multinomials                  : True/False option for specifying second-order bi-variate terms. default is False\n",
    "      - training_split                : The training/cross-validation split of training data. Must be between 0 and 1. \n",
    "                                        Default is 0.75\n",
    "      - fname                         : Filename for saving results (.pickle extension). \n",
    "      - overwrite                     : Option determining whether any existing file with the same name supplied in 'fname'  \n",
    "                                        should be overwritten."
   ]
  },
  {
   "cell_type": "markdown",
   "metadata": {},
   "source": [
    "For this example, let us consider a 4th order polynomial with interaction terms. We will split the data 80/20 betweeen training and cross-validation."
   ]
  },
  {
   "cell_type": "code",
   "execution_count": 8,
   "metadata": {
    "scrolled": true
   },
   "outputs": [
    {
     "name": "stdout",
     "output_type": "stream",
     "text": [
      "\n",
      "===========================Polynomial Regression===============================================\n",
      "\n",
      "No iterations will be run.\n",
      "Default parameter estimation method is used.\n",
      "Parameter estimation method:  pyomo \n",
      "\n"
     ]
    }
   ],
   "source": [
    "poly_class = PolynomialRegression(original_data_input=brainin_data, regression_data_input=brainin_data, \n",
    "                                  maximum_polynomial_order=4, multinomials=1, training_split=0.8, number_of_crossvalidations=10, overwrite=True)"
   ]
  },
  {
   "cell_type": "markdown",
   "metadata": {},
   "source": [
    "#### Step 4: Extract variable names\n",
    "Next, we extract Pyomo variable names from the dataset. This should be done always."
   ]
  },
  {
   "cell_type": "code",
   "execution_count": 9,
   "metadata": {},
   "outputs": [],
   "source": [
    "vars = poly_class.get_feature_vector()"
   ]
  },
  {
   "cell_type": "markdown",
   "metadata": {},
   "source": [
    "We can view the variables using Pyomo's pprint function:"
   ]
  },
  {
   "cell_type": "code",
   "execution_count": 10,
   "metadata": {},
   "outputs": [
    {
     "name": "stdout",
     "output_type": "stream",
     "text": [
      "IndexedParam : Size=2, Index={0, 1}, Domain=Any, Default=None, Mutable=True\n",
      "    Key : Value\n",
      "      0 :     0\n",
      "      1 :     0\n"
     ]
    }
   ],
   "source": [
    "vars.pprint()"
   ]
  },
  {
   "cell_type": "markdown",
   "metadata": {},
   "source": [
    "#### Step 5: Specify additional regression terms, if required.\n",
    "\n",
    "This is one of the unique features of PySMO -  it allows the user to specify additional regression features if they want.\n",
    "The additional features must be specified in terms of the Pyomo variables created when calling the ``get_feature_vector()`` \n",
    "\n",
    "For this example, let us create three additional features: $x_{1}^{2}x_{2}^{2}$, $exp(x_1)$ and $exp(x_2)$. We do this by calling the ``set_additional_terms`` function:"
   ]
  },
  {
   "cell_type": "code",
   "execution_count": 11,
   "metadata": {},
   "outputs": [],
   "source": [
    "from pyomo.environ import exp\n",
    "poly_class.set_additional_terms([vars[0] * vars[0] * vars[1] * vars[1], exp(vars[0]), exp(vars[1])])"
   ]
  },
  {
   "cell_type": "markdown",
   "metadata": {},
   "source": [
    "That's it - those features will now exist in the model. \n",
    "\n",
    "Note that ``set_additional_terms`` an optional call - the regression process works just fine without it."
   ]
  },
  {
   "cell_type": "markdown",
   "metadata": {},
   "source": [
    "#### Step 6: Train the surrogate and view results\n",
    "Next, we train the polynomial surrogate by calling ``training``:"
   ]
  },
  {
   "cell_type": "code",
   "execution_count": 12,
   "metadata": {},
   "outputs": [
    {
     "name": "stdout",
     "output_type": "stream",
     "text": [
      "No iterations will be run.\n",
      "\n",
      "Best surrogate model is of order 3  with a cross-val S.S. Error  of 19.737617\n",
      "\n",
      "------------------------------------------------------------\n",
      "The final coefficients of the regression terms are: \n",
      "\n",
      "k               | 57.607003\n",
      "(x_ 1 )^ 1      | -19.078561\n",
      "(x_ 2 )^ 1      | -17.191563\n",
      "(x_ 1 )^ 2      | 3.889924\n",
      "(x_ 2 )^ 2      | 1.163328\n",
      "(x_ 1 )^ 3      | -0.351928\n",
      "(x_ 2 )^ 3      | 0.018398\n",
      "x_ 1 .x_ 2      | 3.100135\n",
      "\n",
      "The coefficients of the extra terms in additional_regression_features are:\n",
      "\n",
      "Coeff. additional_regression_features[ 1 ]:  -0.017933\n",
      "Coeff. additional_regression_features[ 2 ]:  0.004746\n",
      "Coeff. additional_regression_features[ 3 ]:  -1.3e-05\n",
      "\n",
      "Regression model performance on training data:\n",
      "Order:  3  / MAE: 6.154513  / MSE: 65.995248  / R^2: 0.978531\n",
      "\n",
      "Results saved in  solution.pickle\n"
     ]
    },
    {
     "data": {
      "text/plain": [
       "\n",
       "========================================================================================================================\n",
       "Results of polynomial regression run:\n",
       "\n",
       "Polynomial order                   : 3\n",
       "Number of terms in polynomial model: 11\n",
       "\n",
       "Polynomial Expression:\n",
       "--------------------------\n",
       "\n",
       "57.607003491779835 -19.078560846548296*IndexedParam[0] -17.191563035021794*IndexedParam[1] + 3.889924174992821*IndexedParam[0]**2 + 1.163328031823527*IndexedParam[1]**2 -0.35192841345449044*IndexedParam[0]**3 + 0.018398180911042103*IndexedParam[1]**3 + 3.100134835666662*(IndexedParam[1]*IndexedParam[0]) -0.01793303721385847*(IndexedParam[0]*IndexedParam[0]*IndexedParam[1]*IndexedParam[1]) + 0.004745711043444484*exp(IndexedParam[0]) -1.2975320262439971e-05*exp(IndexedParam[1])\n",
       "--------------------------\n",
       "\n",
       "Model training errors:\n",
       "-----------------------\n",
       "Mean Squared Error (MSE)         : 65.99524781740061\n",
       "Root Mean Squared Error (RMSE)   : 8.123745922750206\n",
       "Mean Absolute error (MSE)        : 6.1545131992806805\n",
       "Goodness of fit (R2)             : 0.9785305338453555\n",
       "\n",
       "========================================================================================================================"
      ]
     },
     "execution_count": 12,
     "metadata": {},
     "output_type": "execute_result"
    }
   ],
   "source": [
    "poly_class.training()"
   ]
  },
  {
   "cell_type": "markdown",
   "metadata": {},
   "source": [
    "The polynomial model seems to fit well based on the $R^2$. It should be noted that the metrics are only an indication of how well of how well the model fit the training data - the user needs to verify the model's performance on a test data set if possible.\n",
    "\n",
    "We can view the parity and residual plots for the fit:"
   ]
  },
  {
   "cell_type": "code",
   "execution_count": 13,
   "metadata": {},
   "outputs": [
    {
     "data": {
      "image/png": "[encoded data removed]",
      "text/plain": [
       "<Figure size 1152x648 with 2 Axes>"
      ]
     },
     "metadata": {
      "needs_background": "light"
     },
     "output_type": "display_data"
    }
   ],
   "source": [
    "poly_class.parity_residual_plots()"
   ]
  },
  {
   "cell_type": "markdown",
   "metadata": {},
   "source": [
    "PySMO is also able to compute the confidence intervals on the regression coefficients obtained by calling ``confint_regression()``. This is left as an exercise for the user.\n",
    "\n",
    "#### Step 8 (Optional): Generate Pyomo expression \n",
    "\n",
    "If the user wishes, they can generate the Pyomo expression for the polynomial fit using PySMO's ``generate_expression``. To do this, the user must pass in a list of Pyomo variables corresponding to each variable in the input dataset. \n",
    "\n",
    "As a demonstration, let us create the variables $x_1$ and $x_2$ and generate the pyomo expression based on them:"
   ]
  },
  {
   "cell_type": "code",
   "execution_count": 14,
   "metadata": {},
   "outputs": [
    {
     "name": "stdout",
     "output_type": "stream",
     "text": [
      "57.607003491779835 - 19.078560846548296*x[1] - 17.191563035021794*x[2] + 3.889924174992821*x[1]**2 + 1.163328031823527*x[2]**2 - 0.35192841345449044*x[1]**3 + 0.018398180911042103*x[2]**3 + 3.100134835666662*(x[2]*x[1]) - 0.01793303721385847*(x[1]*x[1]*x[2]*x[2]) + 0.004745711043444484*exp(x[1]) - 1.2975320262439971e-05*exp(x[2])\n"
     ]
    }
   ],
   "source": [
    "from pyomo.environ import Var, ConcreteModel\n",
    "m = ConcreteModel()\n",
    "m.x = Var([1, 2])\n",
    "print(poly_class.generate_expression([m.x[1], m.x[2]]))"
   ]
  },
  {
   "cell_type": "markdown",
   "metadata": {},
   "source": [
    "#### Step 9 (Optional): Predict output at any unsampled point\n",
    "\n",
    "Based on the model we trained, we can predict the surrogate value at any previously unsampled point. \n",
    "\n",
    "Let us evaluate the surrogate at three points:\n",
    "\n",
    "- $x_{1}=5$, $x_{2}=8$ (true function value: 57.9908)\n",
    "- $x_{1}=-3$, $x_{2}=10$ (true function value: 4.2461)\n",
    "- $x_{1}=-2$, $x_{2}=3$. (true function value: 50.8899)\n",
    "\n",
    "We will pass the points in as an array."
   ]
  },
  {
   "cell_type": "code",
   "execution_count": 15,
   "metadata": {},
   "outputs": [
    {
     "name": "stdout",
     "output_type": "stream",
     "text": [
      "[[57.7897913 ]\n",
      " [12.74008178]\n",
      " [54.28524655]]\n"
     ]
    }
   ],
   "source": [
    "unsampled_points = np.array([ [5, 8], [-3, 10], [-2, 3]])\n",
    "ys = poly_class.predict_output(unsampled_points)\n",
    "print(ys)"
   ]
  },
  {
   "cell_type": "markdown",
   "metadata": {},
   "source": [
    "The model performs fairly well in predicting the value at two of our sampled points but is off on the value at [-3, 2]. For better model performance, additional training data is needed in this region. We will leave this to the user to try.\n",
    "\n",
    "Further information about using PySMO's polynomial regression tool can be found in the [documentation](https://idaes-pse.readthedocs.io/en/latest/user_guide/modeling_extensions/surrogate/pysmo/pysmo_polyregression.html)."
   ]
  },
  {
   "cell_type": "markdown",
   "metadata": {},
   "source": [
    "### Generating RBF models\n",
    "\n",
    "The ``RadialBasisFunction`` class trains RBF models from data. For details about RBF models, the user should consult the documentation.\n",
    "\n",
    "As an example, we will again consider the Brainin function. The same dataset loaded previously will be used."
   ]
  },
  {
   "cell_type": "markdown",
   "metadata": {},
   "source": [
    "#### Step 1: Import the data and the RBF tool"
   ]
  },
  {
   "cell_type": "code",
   "execution_count": 16,
   "metadata": {},
   "outputs": [],
   "source": [
    "import numpy as np\n",
    "brainin_data = np.loadtxt('brainin_30.txt')\n",
    "from idaes.core.surrogate.pysmo.radial_basis_function import RadialBasisFunctions"
   ]
  },
  {
   "cell_type": "markdown",
   "metadata": {},
   "source": [
    "#### Step 2: Specify the RBF settings and initialize the RadialBasisFunctions class\n",
    "    \n",
    "The RadialBasisFunctions class takes a number of keyword arguments:\n",
    "\n",
    "      -  XY_data                       : The dataset forRBF training. training_data is expected to contain xy_data, \n",
    "                                         with the output values (y) in the last column.\n",
    "\n",
    "\n",
    "It also takes a number of optional arguments:\n",
    "\n",
    "      -  regularization                : Boolean variable determining whether regularization is done. Default is True.\n",
    "      -  basis_function                : Basis function transformation to be applied to the training data. PySMO offers \n",
    "                                         six basis function types including the Gaussian and Spline transformations. User \n",
    "                                         should consult documentation for full list of options.   \n",
    "      -  fname                         : Filename for saving (.pickle extension)\n",
    "      - overwrite                      : Option determining whether any existing file with the same name supplied in 'fname'  \n",
    "                                         should be overwritten."
   ]
  },
  {
   "cell_type": "markdown",
   "metadata": {},
   "source": [
    "For this demonstration, we will train an RBF model with a Gaussian basis function:"
   ]
  },
  {
   "cell_type": "code",
   "execution_count": 17,
   "metadata": {},
   "outputs": [
    {
     "name": "stdout",
     "output_type": "stream",
     "text": [
      "Warning: solution.pickle already exists; previous file will be overwritten.\n",
      "\n",
      "Default parameter estimation method is used.\n",
      "\n",
      "Parameter estimation method:  algebraic\n",
      "Basis function:  gaussian\n",
      "Regularization done:  True\n"
     ]
    }
   ],
   "source": [
    "rbf_class = RadialBasisFunctions(XY_data=brainin_data, basis_function='gaussian', overwrite=True)"
   ]
  },
  {
   "cell_type": "markdown",
   "metadata": {},
   "source": [
    "#### Step 3: Extract variable names\n",
    "Next, we extract Pyomo variable names from the dataset."
   ]
  },
  {
   "cell_type": "code",
   "execution_count": 18,
   "metadata": {},
   "outputs": [],
   "source": [
    "vars = rbf_class.get_feature_vector()"
   ]
  },
  {
   "cell_type": "markdown",
   "metadata": {},
   "source": [
    "#### Step 4: Train the RBF surrogate\n",
    "Next, we train the RBF surrogate by calling ``training``:"
   ]
  },
  {
   "cell_type": "code",
   "execution_count": 19,
   "metadata": {},
   "outputs": [
    {
     "name": "stdout",
     "output_type": "stream",
     "text": [
      "===========================================================================================================\n",
      "0.001    |     1e-05    |     1.3301889998110337    |     4.3695662690079017e+18    |     970.2386158956026    |     2999999.799584439    |     6.661337702738999e-10\n",
      "0.001    |     2e-05    |     1.3231321486401084    |     4.3695662690079017e+18    |     970.2386158956026    |     1500000.3997435085    |     3.330669961484364e-10\n",
      "0.001    |     5e-05    |     1.3204882439258305    |     4.3695662690079017e+18    |     970.2386158956026    |     600000.759877815    |     1.3322693168178801e-10\n",
      "0.001    |     7.5e-05    |     1.320318494070023    |     4.3695662690079017e+18    |     970.2386158956026    |     400000.83991663984    |     8.881802846897099e-11\n",
      "0.001    |     0.0001    |     1.3203209127598932    |     4.3695662690079017e+18    |     970.2386158956026    |     300000.87993840914    |     6.661357686308581e-11\n",
      "0.001    |     0.0002    |     1.3204538291263925    |     4.3695662690079017e+18    |     970.2386158956026    |     150000.93996800235    |     3.330689945357842e-11\n",
      "0.001    |     0.0005    |     1.3206180157500884    |     4.3695662690079017e+18    |     970.2386158956026    |     60000.975986943726    |     1.332289300813721e-11\n",
      "0.001    |     0.00075    |     1.320663748844678    |     4.3695662690079017e+18    |     970.2386158956026    |     40000.9839912712    |     8.882002686954315e-12\n",
      "0.001    |     0.001    |     1.320687785183853    |     4.3695662690079017e+18    |     970.2386158956026    |     30000.987993460294    |     6.661557526368499e-12\n",
      "0.001    |     0.002    |     1.3207246211571682    |     4.3695662690079017e+18    |     970.2386158956026    |     15000.993996717278    |     3.3308897854838543e-12\n",
      "0.001    |     0.005    |     1.320744101068572    |     4.3695662690079017e+18    |     970.2386158956026    |     6000.997598684729    |     1.3324891409560123e-12\n",
      "0.001    |     0.0075    |     1.3207457685491821    |     4.3695662690079017e+18    |     970.2386158956026    |     4000.9983991224717    |     8.88400108838832e-13\n",
      "0.001    |     0.01    |     1.3207447379585524    |     4.3695662690079017e+18    |     970.2386158956026    |     3000.9987993419895    |     6.663555927803854e-13\n",
      "0.001    |     0.02    |     1.3207338807217228    |     4.3695662690079017e+18    |     970.2386158956026    |     1500.99939967096    |     3.332888186926475e-13\n",
      "0.001    |     0.05    |     1.3206922424549326    |     4.3695662690079017e+18    |     970.2386158956026    |     600.9997598683267    |     1.3344875424000129e-13\n",
      "0.001    |     0.075    |     1.320656954228702    |     4.3695662690079017e+18    |     970.2386158956026    |     400.9998399122128    |     8.903985102830809e-14\n",
      "0.001    |     0.1    |     1.3206222275255652    |     4.3695662690079017e+18    |     970.2386158956026    |     300.9998799341595    |     6.68353994224623e-14\n",
      "0.001    |     0.2    |     1.3204909253945512    |     4.3695662690079017e+18    |     970.2386158956026    |     150.9999399670778    |     3.3528722013693237e-14\n",
      "0.001    |     0.5    |     1.3201734897566484    |     4.3695662690079017e+18    |     970.2386158956026    |     60.999975986831245    |     1.354471556843234e-14\n",
      "0.001    |     0.75    |     1.3199938819612365    |     4.3695662690079017e+18    |     970.2386158956026    |     40.999983991220816    |     9.103825247263234e-15\n",
      "0.001    |     1    |     1.3198876280547225    |     4.3695662690079017e+18    |     970.2386158956026    |     30.999987993415584    |     6.883380086678677e-15\n",
      "0.002    |     1e-05    |     1.3623878222746977    |     3.483560927370697e+19    |     7735.059098503021    |     2999996.197802781    |     6.661329705177146e-10\n",
      "0.002    |     2e-05    |     1.3439946308774808    |     3.483560927370697e+19    |     7735.059098503021    |     1499998.598744184    |     3.330665962462529e-10\n",
      "0.002    |     5e-05    |     1.3272246485711905    |     3.483560927370697e+19    |     7735.059098503021    |     600000.039493034    |     1.3322677172423392e-10\n",
      "0.002    |     7.5e-05    |     1.3235440099205338    |     3.483560927370697e+19    |     7735.059098503021    |     400000.35965716554    |     8.881792182994575e-11\n",
      "0.002    |     0.0001    |     1.322003716884964    |     3.483560927370697e+19    |     7735.059098503021    |     300000.5197414914    |     6.661349688330352e-11\n",
      "0.002    |     0.0002    |     1.3204880868270465    |     3.483560927370697e+19    |     7735.059098503021    |     150000.7598691663    |     3.330685946360352e-11\n",
      "0.002    |     0.0005    |     1.3203538501481529    |     3.483560927370697e+19    |     7735.059098503021    |     60000.90394759015    |     1.3322877012187407e-11\n",
      "0.002    |     0.00075    |     1.3204389361295996    |     3.483560927370697e+19    |     7735.059098503021    |     40000.93596504929    |     8.881992022990846e-12\n",
      "0.002    |     0.001    |     1.320500039765383    |     3.483560927370697e+19    |     7735.059098503021    |     30000.951973774216    |     6.661549528391534e-12\n",
      "0.002    |     0.002    |     1.320615846455792    |     3.483560927370697e+19    |     7735.059098503021    |     15000.975986867104    |     3.330885786493788e-12\n",
      "0.002    |     0.005    |     1.3206969267656103    |     3.483560927370697e+19    |     7735.059098503021    |     6000.990394745487    |     1.3324875413601693e-12\n",
      "0.002    |     0.0075    |     1.3207137929011314    |     3.483560927370697e+19    |     7735.059098503021    |     4000.9935964961596    |     8.883990424415699e-13\n",
      "0.002    |     0.01    |     1.3207205715037698    |     3.483560927370697e+19    |     7735.059098503021    |     3000.9951973719417    |     6.663547929823691e-13\n",
      "0.002    |     0.02    |     1.3207216922930936    |     3.483560927370697e+19    |     7735.059098503021    |     1500.9975986859165    |     3.33288418793635e-13\n",
      "0.002    |     0.05    |     1.3206873938685024    |     3.483560927370697e+19    |     7735.059098503021    |     600.9990394743229    |     1.3344859428039932e-13\n",
      "0.002    |     0.075    |     1.3206537523643642    |     3.483560927370697e+19    |     7735.059098503021    |     400.9993596495445    |     8.903974438857365e-14\n",
      "0.002    |     0.1    |     1.3206198511578062    |     3.483560927370697e+19    |     7735.059098503021    |     300.99951973715946    |     6.683531944266174e-14\n",
      "0.002    |     0.2    |     1.3204897899439865    |     3.483560927370697e+19    |     7735.059098503021    |     150.99975986857856    |     3.3528682023793125e-14\n",
      "0.002    |     0.5    |     1.3201731005146327    |     3.483560927370697e+19    |     7735.059098503021    |     60.9999039474312    |     1.3544699572472219e-14\n",
      "0.002    |     0.75    |     1.319993658927679    |     3.483560927370697e+19    |     7735.059098503021    |     40.9999359649541    |     9.103814583289815e-15\n",
      "0.002    |     1    |     1.3198874884067835    |     3.483560927370697e+19    |     7735.059098503021    |     30.99995197371557    |     6.883372088698619e-15\n",
      "0.005    |     1e-05    |     1.3982813939971181    |     1.9934282471714103e+19    |     4426.299875895735    |     2999970.9840283394    |     6.6612737193513e-10\n",
      "0.005    |     2e-05    |     1.3887224316216629    |     1.9934282471714103e+19    |     4426.299875895735    |     1499985.9919956021    |     3.3306379698574465e-10\n",
      "0.005    |     5e-05    |     1.3683630926259283    |     1.9934282471714103e+19    |     4426.299875895735    |     599994.996772228    |     1.332256520152848e-10\n",
      "0.005    |     7.5e-05    |     1.3574022549699079    |     1.9934282471714103e+19    |     4426.299875895735    |     399996.9978452804    |     8.881717535775388e-11\n",
      "0.005    |     0.0001    |     1.3496565265209166    |     1.9934282471714103e+19    |     4426.299875895735    |     299997.99838596577    |     6.661293702991195e-11\n",
      "0.005    |     0.0002    |     1.3338899892286642    |     1.9934282471714103e+19    |     4426.299875895735    |     149999.4991913376    |     3.3306579536893114e-11\n",
      "0.005    |     0.0005    |     1.3231314606157023    |     1.9934282471714103e+19    |     4426.299875895735    |     60000.39967646648    |     1.3322765041504975e-11\n",
      "0.005    |     0.00075    |     1.3213658709058227    |     1.9934282471714103e+19    |     4426.299875895735    |     40000.5997841317    |     8.881917375831816e-12\n",
      "0.005    |     0.001    |     1.3207434325088534    |     1.9934282471714103e+19    |     4426.299875895735    |     30000.699838095854    |     6.661493543024445e-12\n"
     ]
    },
    {
     "name": "stdout",
     "output_type": "stream",
     "text": [
      "0.005    |     0.002    |     1.3203109441737004    |     1.9934282471714103e+19    |     4426.299875895735    |     15000.849919037842    |     3.3308577938124456e-12\n",
      "0.005    |     0.005    |     1.3204473592564083    |     1.9934282471714103e+19    |     4426.299875895735    |     6000.9399676131    |     1.332476344287481e-12\n",
      "0.005    |     0.0075    |     1.3205266147948915    |     1.9934282471714103e+19    |     4426.299875895735    |     4000.95997840823    |     8.883915777265173e-13\n",
      "0.005    |     0.01    |     1.320572251134834    |     1.9934282471714103e+19    |     4426.299875895735    |     3000.969983806045    |     6.663491944460909e-13\n",
      "0.005    |     0.02    |     1.3206416674457868    |     1.9934282471714103e+19    |     4426.299875895735    |     1500.9849919029177    |     3.332856195254847e-13\n",
      "0.005    |     0.05    |     1.320654306255278    |     1.9934282471714103e+19    |     4426.299875895735    |     600.9939967611572    |     1.334474745731467e-13\n",
      "0.005    |     0.075    |     1.3206317178276608    |     1.9934282471714103e+19    |     4426.299875895735    |     400.99599784076855    |     8.903899791707216e-14\n",
      "0.005    |     0.1    |     1.3206034290426671    |     1.9934282471714103e+19    |     4426.299875895735    |     300.9969983805783    |     6.68347595890358e-14\n",
      "0.005    |     0.2    |     1.3204818942961347    |     1.9934282471714103e+19    |     4426.299875895735    |     150.99849919028708    |     3.3528402096979954e-14\n",
      "0.005    |     0.5    |     1.3201703838941492    |     1.9934282471714103e+19    |     4426.299875895735    |     60.999399676114614    |     1.3544587601746952e-14\n",
      "0.005    |     0.75    |     1.3199921011576616    |     1.9934282471714103e+19    |     4426.299875895735    |     40.999599784076445    |     9.103739936139653e-15\n",
      "0.005    |     1    |     1.319886512750689    |     1.9934282471714103e+19    |     4426.299875895735    |     30.999699838057275    |     6.8833161033359846e-15\n",
      "0.0075    |     1e-05    |     1.404300593865086    |     4.476902839964602e+19    |     9940.721223876908    |     2999933.464626245    |     6.66119040954315e-10\n",
      "0.0075    |     2e-05    |     1.399403263323971    |     4.476902839964602e+19    |     9940.721223876908    |     1499967.2322744294    |     3.3305963149086835e-10\n",
      "0.0075    |     5e-05    |     1.3868056479479363    |     4.476902839964602e+19    |     9940.721223876908    |     599987.4928856954    |     1.3322398581776427e-10\n",
      "0.0075    |     7.5e-05    |     1.3783815287742538    |     4.476902839964602e+19    |     9940.721223876908    |     399991.99525579397    |     8.881606455974777e-11\n",
      "0.0075    |     0.0001    |     1.371401780803825    |     4.476902839964602e+19    |     9940.721223876908    |     299994.2464375851    |     6.661210393001606e-11\n",
      "0.0075    |     0.0002    |     1.3527834516573327    |     4.476902839964602e+19    |     9940.721223876908    |     149997.6232191766    |     3.330616298739577e-11\n",
      "0.0075    |     0.0005    |     1.3320471009304409    |     4.476902839964602e+19    |     9940.721223876908    |     59999.64928707206    |     1.3322598421588352e-11\n",
      "0.0075    |     0.00075    |     1.3264972569268694    |     4.476902839964602e+19    |     9940.721223876908    |     40000.09952470223    |     8.881806295924439e-12\n",
      "0.0075    |     0.001    |     1.3239147582317805    |     4.476902839964602e+19    |     9940.721223876908    |     30000.324643490643    |     6.661410233086561e-12\n",
      "0.0075    |     0.002    |     1.3209497744221443    |     4.476902839964602e+19    |     9940.721223876908    |     15000.66232173415    |     3.330816138843262e-12\n",
      "0.0075    |     0.005    |     1.3203066752601993    |     4.476902839964602e+19    |     9940.721223876908    |     6000.864928690339    |     1.3324596822995225e-12\n",
      "0.0075    |     0.0075    |     1.3203572891448443    |     4.476902839964602e+19    |     9940.721223876908    |     4000.909952460323    |     8.883804697346782e-13\n",
      "0.0075    |     0.01    |     1.3204149453606266    |     4.476902839964602e+19    |     9940.721223876908    |     3000.9324643451732    |     6.663408634522246e-13\n",
      "0.0075    |     0.02    |     1.3205391985944157    |     4.476902839964602e+19    |     9940.721223876908    |     1500.9662321724275    |     3.3328145402853947e-13\n",
      "0.0075    |     0.05    |     1.320607795359561    |     4.476902839964602e+19    |     9940.721223876908    |     600.9864928689666    |     1.3344580837436983e-13\n",
      "0.0075    |     0.075    |     1.320600144100871    |     4.476902839964602e+19    |     9940.721223876908    |     400.9909952459714    |     8.903788711788683e-14\n",
      "0.0075    |     0.1    |     1.3205796752193628    |     4.476902839964602e+19    |     9940.721223876908    |     300.99324643447653    |     6.683392648964593e-14\n",
      "0.0075    |     0.2    |     1.3204703143593977    |     4.476902839964602e+19    |     9940.721223876908    |     150.99662321723716    |     3.3527985547285235e-14\n",
      "0.0075    |     0.5    |     1.3201663674229875    |     4.476902839964602e+19    |     9940.721223876908    |     60.99864928689458    |     1.354442098186905e-14\n",
      "0.0075    |     0.75    |     1.3199897942613743    |     4.476902839964602e+19    |     9940.721223876908    |     40.999099524596346    |     9.103628856221035e-15\n",
      "0.0075    |     1    |     1.3198850669656144    |     4.476902839964602e+19    |     9940.721223876908    |     30.999324643447306    |     6.883232793397044e-15\n",
      "0.01    |     1e-05    |     1.406199206152479    |     9.239363359256476e+17    |     205.15507868649144    |     2999880.9390205876    |     6.661073779269583e-10\n",
      "0.01    |     2e-05    |     1.4035355143473756    |     9.239363359256476e+17    |     205.15507868649144    |     1499940.9693646585    |     3.330537999534441e-10\n",
      "0.01    |     5e-05    |     1.395627182517489    |     9.239363359256476e+17    |     205.15507868649144    |     599976.9877246027    |     1.3322165320341976e-10\n",
      "0.01    |     7.5e-05    |     1.389760075246489    |     9.239363359256476e+17    |     205.15507868649144    |     399984.991812652    |     8.881450948298219e-11\n",
      "0.01    |     0.0001    |     1.3845164268276913    |     9.239363359256476e+17    |     205.15507868649144    |     299988.99385934946    |     6.66109376233569e-11\n",
      "0.01    |     0.0002    |     1.368340200656421    |     9.239363359256476e+17    |     205.15507868649144    |     149994.99692935435    |     3.330557983390977e-11\n",
      "0.01    |     0.0005    |     1.3439837129675014    |     9.239363359256476e+17    |     205.15507868649144    |     59998.59877133409    |     1.3322365160236346e-11\n",
      "0.01    |     0.00075    |     1.3350937119916835    |     9.239363359256476e+17    |     205.15507868649144    |     39999.39918084892    |     8.88165078835022e-12\n",
      "0.01    |     0.001    |     1.3301839804870095    |     9.239363359256476e+17    |     205.15507868649144    |     29999.79938564024    |     6.661293602414684e-12\n",
      "0.01    |     0.002    |     1.3231293127500132    |     9.239363359256476e+17    |     205.15507868649144    |     15000.399692801087    |     3.3307578235055785e-12\n",
      "0.01    |     0.005    |     1.3204830758443697    |     9.239363359256476e+17    |     205.15507868649144    |     6000.759877119484    |     1.3324363561649753e-12\n",
      "0.01    |     0.0075    |     1.3203100371670113    |     9.239363359256476e+17    |     205.15507868649144    |     4000.839918079287    |     8.883649189782099e-13\n",
      "0.01    |     0.01    |     1.320308943205693    |     9.239363359256476e+17    |     205.15507868649144    |     3000.8799385589236    |     6.663292003847684e-13\n",
      "0.01    |     0.02    |     1.3204273423452149    |     9.239363359256476e+17    |     205.15507868649144    |     1500.9399692794327    |     3.3327562249484027e-13\n",
      "0.01    |     0.05    |     1.3205480387004718    |     9.239363359256476e+17    |     205.15507868649144    |     600.9759877117679    |     1.3344347576088996e-13\n",
      "0.01    |     0.075    |     1.320558347773711    |     9.239363359256476e+17    |     205.15507868649144    |     400.98399180783633    |     8.903633204223301e-14\n",
      "0.01    |     0.1    |     1.3205477786808837    |     9.239363359256476e+17    |     205.15507868649144    |     300.98799385587535    |     6.683276018290559e-14\n",
      "0.01    |     0.2    |     1.3204544411843477    |     9.239363359256476e+17    |     205.15507868649144    |     150.9939969279361    |     3.3527402393914964e-14\n",
      "0.01    |     0.5    |     1.32016079672088    |     9.239363359256476e+17    |     205.15507868649144    |     60.99759877117423    |     1.3544187720520958e-14\n",
      "0.01    |     0.75    |     1.3199865871021217    |     9.239363359256476e+17    |     205.15507868649144    |     40.998399180782755    |     9.103473348655634e-15\n",
      "0.01    |     1    |     1.319883055075942    |     9.239363359256476e+17    |     205.15507868649144    |     30.9987993855871    |     6.8831161627229905e-15\n",
      "0.02    |     1e-05    |     1.3991967821637084    |     2.2805894896548754e+18    |     506.3925922265956    |     2999520.8079788852    |     6.660274127720823e-10\n",
      "0.02    |     2e-05    |     1.4033527819979092    |     2.2805894896548754e+18    |     506.3925922265956    |     1499760.903894914    |     3.3301381738735405e-10\n",
      "0.02    |     5e-05    |     1.4040547659095617    |     2.2805894896548754e+18    |     506.3925922265956    |     599904.9615295489    |     1.3320566017539478e-10\n",
      "0.02    |     7.5e-05    |     1.4028711082093939    |     2.2805894896548754e+18    |     506.3925922265956    |     399936.97435088037    |     8.880384746465361e-11\n",
      "0.02    |     0.0001    |     1.4014091897443586    |     2.2805894896548754e+18    |     506.3925922265956    |     299952.98076225986    |     6.660294110944151e-11\n",
      "0.02    |     0.0002    |     1.395251376298443    |     2.2805894896548754e+18    |     506.3925922265956    |     149976.99038121718    |     3.330158157704259e-11\n",
      "0.02    |     0.0005    |     1.3796701173933232    |     2.2805894896548754e+18    |     506.3925922265956    |     59991.396152126916    |     1.3320765857500064e-11\n",
      "0.02    |     0.00075    |     1.369923208565287    |     2.2805894896548754e+18    |     506.3925922265956    |     39994.59743472263    |     8.880584586528657e-12\n",
      "0.02    |     0.001    |     1.3622921102964314    |     2.2805894896548754e+18    |     506.3925922265956    |     29996.198076032808    |     6.660493951045689e-12\n",
      "0.02    |     0.002    |     1.3439496124691086    |     2.2805894896548754e+18    |     506.3925922265956    |     14998.599038015233    |     3.330357997825047e-12\n",
      "0.02    |     0.005    |     1.3272089427378801    |     2.2805894896548754e+18    |     506.3925922265956    |     6000.0396152030125    |     1.3322764258922898e-12\n",
      "0.02    |     0.0075    |     1.323532461862649    |     2.2805894896548754e+18    |     506.3925922265956    |     4000.359743468358    |     8.882582987964311e-13\n",
      "0.02    |     0.01    |     1.3219923714905968    |     2.2805894896548754e+18    |     506.3925922265956    |     3000.5198076010656    |     6.662492352485096e-13\n",
      "0.02    |     0.02    |     1.3204676186157422    |     2.2805894896548754e+18    |     506.3925922265956    |     1500.7599038004887    |     3.332356399267075e-13\n",
      "0.02    |     0.05    |     1.3202928659769555    |     2.2805894896548754e+18    |     506.3925922265956    |     600.9039615201867    |     1.3342748273363608e-13\n",
      "0.02    |     0.075    |     1.3203431410941715    |     2.2805894896548754e+18    |     506.3925922265956    |     400.93597434679083    |     8.902567002406566e-14\n",
      "0.02    |     0.1    |     1.3203699372606268    |     2.2805894896548754e+18    |     506.3925922265956    |     300.95198076008955    |     6.682476366927971e-14\n",
      "0.02    |     0.2    |     1.3203560056794412    |     2.2805894896548754e+18    |     506.3925922265956    |     150.97599038004503    |     3.3523404137102427e-14\n",
      "0.02    |     0.5    |     1.320124227287808    |     2.2805894896548754e+18    |     506.3925922265956    |     60.99039615201786    |     1.3542588417795955e-14\n",
      "0.02    |     0.75    |     1.3199652973344647    |     2.2805894896548754e+18    |     506.3925922265956    |     40.99359743467855    |     9.102407146838975e-15\n",
      "0.02    |     1    |     1.3198696409051944    |     2.2805894896548754e+18    |     506.3925922265956    |     30.995198076008954    |     6.882316511360499e-15\n",
      "0.05    |     1e-05    |     1.1802626763419197    |     2.2576824961324777e+19    |     5013.0621789989455    |     2997002.1306371544    |     6.65468154056804e-10\n",
      "0.05    |     2e-05    |     1.2638668839617349    |     2.2576824961324777e+19    |     5013.0621789989455    |     1498501.5652559346    |     3.32734188036795e-10\n",
      "0.05    |     5e-05    |     1.3399914336662153    |     2.2576824961324777e+19    |     5013.0621789989455    |     599401.2260928653    |     1.3309380843936965e-10\n",
      "0.05    |     7.5e-05    |     1.3607917455532283    |     2.2576824961324777e+19    |     5013.0621789989455    |     399601.15072604193    |     8.872927964055187e-11\n",
      "0.05    |     0.0001    |     1.3717399149154015    |     2.2576824961324777e+19    |     5013.0621789989455    |     299701.11304284475    |     6.654701524119061e-11\n",
      "0.05    |     0.0002    |     1.3883571964180281    |     2.2576824961324777e+19    |     5013.0621789989455    |     149851.0565199867    |     3.3273618642578986e-11\n",
      "0.05    |     0.0005    |     1.3960809195487738    |     2.2576824961324777e+19    |     5013.0621789989455    |     59941.02260794166    |     1.3309580683782776e-11\n",
      "0.05    |     0.00075    |     1.3958259187900914    |     2.2576824961324777e+19    |     5013.0621789989455    |     39961.015071864924    |     8.873127804035469e-12\n",
      "0.05    |     0.001    |     1.3944270862078365    |     2.2576824961324777e+19    |     5013.0621789989455    |     29971.011303895106    |     6.654901364177036e-12\n",
      "0.05    |     0.002    |     1.3868038656182546    |     2.2576824961324777e+19    |     5013.0621789989455    |     14986.005651939311    |     3.3275617043891506e-12\n",
      "0.05    |     0.005    |     1.3676102367336427    |     2.2576824961324777e+19    |     5013.0621789989455    |     5995.002260776473    |     1.3311579085187815e-12\n",
      "0.05    |     0.0075    |     1.356910453232403    |     2.2576824961324777e+19    |     5013.0621789989455    |     3997.0015071831535    |     8.87512620547238e-13\n",
      "0.05    |     0.01    |     1.349296442539501    |     2.2576824961324777e+19    |     5013.0621789989455    |     2998.0011303872793    |     6.656899765616407e-13\n",
      "0.05    |     0.02    |     1.3337278030827011    |     2.2576824961324777e+19    |     5013.0621789989455    |     1499.500565193568    |     3.3295601058326697e-13\n",
      "0.05    |     0.05    |     1.3230623528240166    |     2.2576824961324777e+19    |     5013.0621789989455    |     600.4002260774105    |     1.333156309962581e-13\n",
      "0.05    |     0.075    |     1.3212917568278915    |     2.2576824961324777e+19    |     5013.0621789989455    |     400.60015071827445    |     8.895110219914725e-14\n",
      "0.05    |     0.1    |     1.32064951371728    |     2.2576824961324777e+19    |     5013.0621789989455    |     300.7001130387052    |     6.676883780059155e-14\n",
      "0.05    |     0.2    |     1.3201079927565516    |     2.2576824961324777e+19    |     5013.0621789989455    |     150.85005651935128    |     3.3495441202758e-14\n",
      "0.05    |     0.5    |     1.3199430633401976    |     2.2576824961324777e+19    |     5013.0621789989455    |     60.94002260774045    |     1.3531403244058205e-14\n",
      "0.05    |     0.75    |     1.3198490982380753    |     2.2576824961324777e+19    |     5013.0621789989455    |     40.960015071827    |     9.094950364347154e-15\n",
      "0.05    |     1    |     1.3197937467706282    |     2.2576824961324777e+19    |     5013.0621789989455    |     30.97001130387022    |     6.8767239244916165e-15\n"
     ]
    },
    {
     "name": "stdout",
     "output_type": "stream",
     "text": [
      "0.075    |     1e-05    |     1.0289125857069696    |     1.9895190925429663e+18    |     441.76198089450975    |     2993261.3409110294    |     6.64637531879959e-10\n",
      "0.075    |     2e-05    |     1.0683357422994377    |     1.9895190925429663e+18    |     441.76198089450975    |     1496631.1703707904    |     3.323188769434694e-10\n",
      "0.075    |     5e-05    |     1.1788194485832086    |     1.9895190925429663e+18    |     441.76198089450975    |     598653.0681399796    |     1.3292768400229962e-10\n",
      "0.075    |     7.5e-05    |     1.229861581347391    |     1.9895190925429663e+18    |     441.76198089450975    |     399102.37876074156    |     8.861853001656907e-11\n",
      "0.075    |     0.0001    |     1.2625315302901392    |     1.9895190925429663e+18    |     441.76198089450975    |     299327.0340676291    |     6.646395302292809e-11\n",
      "0.075    |     0.0002    |     1.3241269630069703    |     1.9895190925429663e+18    |     441.76198089450975    |     149664.01703291215    |     3.3232087533566134e-11\n",
      "0.075    |     0.0005    |     1.3699287056815606    |     1.9895190925429663e+18    |     441.76198089450975    |     59866.206813050325    |     1.3292968240163977e-11\n",
      "0.075    |     0.00075    |     1.38045671452399    |     1.9895190925429663e+18    |     441.76198089450975    |     39911.137875341075    |     8.862052841638563e-12\n",
      "0.075    |     0.001    |     1.3852806670848123    |     1.9895190925429663e+18    |     441.76198089450975    |     29933.603406505663    |     6.646595142380121e-12\n",
      "0.075    |     0.002    |     1.389766784950116    |     1.9895190925429663e+18    |     441.76198089450975    |     14967.30170324994    |     3.323408593491881e-12\n",
      "0.075    |     0.005    |     1.3829509021399762    |     1.9895190925429663e+18    |     441.76198089450975    |     5987.520681298906    |     1.32949666415947e-12\n",
      "0.075    |     0.0075    |     1.3758254841268773    |     1.9895190925429663e+18    |     441.76198089450975    |     3992.0137875322152    |     8.864051243078686e-13\n",
      "0.075    |     0.01    |     1.369497523861916    |     1.9895190925429663e+18    |     441.76198089450975    |     2994.260340648937    |     6.648593543820829e-13\n",
      "0.075    |     0.02    |     1.3518655278680636    |     1.9895190925429663e+18    |     441.76198089450975    |     1497.6301703244837    |     3.3254069949350734e-13\n",
      "0.075    |     0.05    |     1.3317271553627894    |     1.9895190925429663e+18    |     441.76198089450975    |     599.6520681297782    |     1.3314950656035455e-13\n",
      "0.075    |     0.075    |     1.3262949589526667    |     1.9895190925429663e+18    |     441.76198089450975    |     400.10137875318594    |     8.884035257521149e-14\n",
      "0.075    |     0.1    |     1.323755582677094    |     1.9895190925429663e+18    |     441.76198089450975    |     300.3260340648917    |     6.668577558264037e-14\n",
      "0.075    |     0.2    |     1.3207755491672835    |     1.9895190925429663e+18    |     441.76198089450975    |     150.66301703244363    |     3.345391009378221e-14\n",
      "0.075    |     0.5    |     1.3198839335916888    |     1.9895190925429663e+18    |     441.76198089450975    |     60.86520681297757    |     1.3514790800467928e-14\n",
      "0.075    |     0.75    |     1.3197723726186081    |     1.9895190925429663e+18    |     441.76198089450975    |     40.910137875318284    |     9.083875401953608e-15\n",
      "0.075    |     1    |     1.3197346497546039    |     1.9895190925429663e+18    |     441.76198089450975    |     30.932603406488745    |     6.868417702696471e-15\n",
      "0.1    |     1e-05    |     1.0798981068165316    |     2.325430885267201e+18    |     516.3493821996215    |     2988038.7413080544    |     6.634778818144348e-10\n",
      "0.1    |     2e-05    |     1.034411147287451    |     2.325430885267201e+18    |     516.3493821996215    |     1494019.8706036068    |     3.3173905191832427e-10\n",
      "0.1    |     5e-05    |     1.0485665416876744    |     2.325430885267201e+18    |     516.3493821996215    |     597608.5482328052    |     1.3269575399217475e-10\n",
      "0.1    |     7.5e-05    |     1.0859812540929077    |     2.325430885267201e+18    |     516.3493821996215    |     398406.03214922023    |     8.846391000832293e-11\n",
      "0.1    |     0.0001    |     1.119927128931655    |     2.325430885267201e+18    |     516.3493821996215    |     298804.7741128062    |     6.634798801759127e-11\n",
      "0.1    |     0.0002    |     1.2092033599793683    |     2.325430885267201e+18    |     516.3493821996215    |     149402.88705554395    |     3.317410503090733e-11\n",
      "0.1    |     0.0005    |     1.3058031834923158    |     2.325430885267201e+18    |     516.3493821996215    |     59761.754822146184    |     1.3269775239110034e-11\n",
      "0.1    |     0.00075    |     1.334757363394948    |     2.325430885267201e+18    |     516.3493821996215    |     39841.50321472806    |     8.846590840933656e-12\n",
      "0.1    |     0.001    |     1.3503821090955719    |     2.325430885267201e+18    |     516.3493821996215    |     29881.377411055473    |     6.634998641853567e-12\n",
      "0.1    |     0.002    |     1.3741948871332699    |     2.325430885267201e+18    |     516.3493821996215    |     14941.188705525641    |     3.317610343228781e-12\n",
      "0.1    |     0.005    |     1.3835828525725982    |     2.325430885267201e+18    |     516.3493821996215    |     5977.0754822084555    |     1.3271773640540675e-12\n",
      "0.1    |     0.0075    |     1.3817104633773472    |     2.325430885267201e+18    |     516.3493821996215    |     3985.05032147234    |     8.848589242376947e-13\n",
      "0.1    |     0.01    |     1.3784840301739265    |     2.325430885267201e+18    |     516.3493821996215    |     2989.037741104067    |     6.636997043294606e-13\n",
      "0.1    |     0.02    |     1.3653609610262434    |     2.325430885267201e+18    |     516.3493821996215    |     1495.0188705519922    |     3.3196087446718364e-13\n",
      "0.1    |     0.05    |     1.342872658496228    |     2.325430885267201e+18    |     516.3493821996215    |     598.6075482207953    |     1.329175765498281e-13\n",
      "0.1    |     0.075    |     1.3344025162997273    |     2.325430885267201e+18    |     516.3493821996215    |     399.4050321471938    |     8.868573256819308e-14\n",
      "0.1    |     0.1    |     1.3296947739898715    |     2.325430885267201e+18    |     516.3493821996215    |     299.80377411039217    |     6.656981057737536e-14\n",
      "0.1    |     0.2    |     1.3228751118106667    |     2.325430885267201e+18    |     516.3493821996215    |     150.4018870551958    |     3.339592759115013e-14\n",
      "0.1    |     0.5    |     1.3201305530113183    |     2.325430885267201e+18    |     516.3493821996215    |     60.76075482207832    |     1.3491597799415071e-14\n",
      "0.1    |     0.75    |     1.3198268366427481    |     2.325430885267201e+18    |     516.3493821996215    |     40.840503214718886    |     9.068413401251726e-15\n",
      "0.1    |     1    |     1.319745846785766    |     2.325430885267201e+18    |     516.3493821996215    |     30.880377411039163    |     6.856821202170052e-15\n",
      "0.2    |     1e-05    |     1.0348780714228958    |     4.762848008163547e+18    |     1057.5647042906471    |     2952676.8514732947    |     6.556259649566731e-10\n",
      "0.2    |     2e-05    |     1.0990542705314772    |     4.762848008163547e+18    |     1057.5647042906471    |     1476338.9256586698    |     3.278130934833245e-10\n",
      "0.2    |     5e-05    |     1.1186681575646773    |     4.762848008163547e+18    |     1057.5647042906471    |     590536.170251409    |     1.3112537061741515e-10\n",
      "0.2    |     7.5e-05    |     1.1064632913460593    |     4.762848008163547e+18    |     1057.5647042906471    |     393691.11350286624    |     8.741698776023959e-11\n",
      "0.2    |     0.0001    |     1.0918067697057556    |     4.762848008163547e+18    |     1057.5647042906471    |     295268.58512791607    |     6.55627963315011e-11\n",
      "0.2    |     0.0002    |     1.0475901909846148    |     4.762848008163547e+18    |     1057.5647042906471    |     147634.79256310043    |     3.2781509187862586e-11\n",
      "0.2    |     0.0005    |     1.0237060377514289    |     4.762848008163547e+18    |     1057.5647042906471    |     59054.51702522875    |     1.3112736901905453e-11\n",
      "0.2    |     0.00075    |     1.0428612641130481    |     4.762848008163547e+18    |     1057.5647042906471    |     39370.01135012192    |     8.74189861613182e-12\n",
      "0.2    |     0.001    |     1.067548236122346    |     4.762848008163547e+18    |     1057.5647042906471    |     29527.758512610308    |     6.556479473254286e-12\n",
      "0.2    |     0.002    |     1.1502519607987103    |     4.762848008163547e+18    |     1057.5647042906471    |     14764.379256294498    |     3.2783507589272394e-12\n",
      "0.2    |     0.005    |     1.2613461172689255    |     4.762848008163547e+18    |     1057.5647042906471    |     5906.351702517569    |     1.3114735303337996e-12\n",
      "0.2    |     0.0075    |     1.2986164432111706    |     4.762848008163547e+18    |     1057.5647042906471    |     3937.901135011599    |     8.743897017574828e-13\n",
      "0.2    |     0.01    |     1.3193653278045587    |     4.762848008163547e+18    |     1057.5647042906471    |     2953.675851258757    |     6.558477874693563e-13\n",
      "0.2    |     0.02    |     1.3511101649719974    |     4.762848008163547e+18    |     1057.5647042906471    |     1477.3379256293292    |     3.280349160371297e-13\n",
      "0.2    |     0.05    |     1.3613657406180093    |     4.762848008163547e+18    |     1057.5647042906471    |     591.5351702517354    |     1.3134719317780772e-13\n",
      "0.2    |     0.075    |     1.3577244256580765    |     4.762848008163547e+18    |     1057.5647042906471    |     394.690113501156    |     8.763881032017995e-14\n",
      "0.2    |     0.1    |     1.3532120690730105    |     4.762848008163547e+18    |     1057.5647042906471    |     296.26758512586673    |     6.578461889136616e-14\n",
      "0.2    |     0.2    |     1.3396807959929753    |     4.762848008163547e+18    |     1057.5647042906471    |     148.63379256293285    |     3.300333174814548e-14\n",
      "0.2    |     0.5    |     1.3258785979549312    |     4.762848008163547e+18    |     1057.5647042906471    |     60.05351702517307    |     1.3334559462213196e-14\n",
      "0.2    |     0.75    |     1.3227927985529948    |     4.762848008163547e+18    |     1057.5647042906471    |     40.36901135011532    |     8.963721176450461e-15\n",
      "0.2    |     1    |     1.3215357179523246    |     4.762848008163547e+18    |     1057.5647042906471    |     30.526758512586508    |     6.7783020335691074e-15\n",
      "0.5    |     1e-05    |     0.2409679449249421    |     977826807303154.2    |     0.2171211671127336    |     2725466.7390401317    |     6.051751853064794e-10\n",
      "0.5    |     2e-05    |     0.24490838803555012    |     977826807303154.2    |     0.2171211671127336    |     1362733.8714423398    |     3.0258770410237276e-10\n",
      "0.5    |     5e-05    |     0.26603719418885075    |     977826807303154.2    |     0.2171211671127336    |     545094.1490339369    |     1.2103521496918666e-10\n",
      "0.5    |     7.5e-05    |     0.30414351709234816    |     977826807303154.2    |     0.2171211671127336    |     363396.43275810627    |     8.069021734293941e-11\n",
      "0.5    |     0.0001    |     0.34664559598676287    |     977826807303154.2    |     0.2171211671127336    |     272547.57459409063    |     6.051771852402036e-11\n",
      "0.5    |     0.0002    |     0.4896510573094877    |     977826807303154.2    |     0.2171211671127336    |     136274.28731591537    |     3.025897028850263e-11\n",
      "0.5    |     0.0005    |     0.7000258094502193    |     977826807303154.2    |     0.2171211671127336    |     54510.31493092628    |     1.2103721343176561e-11\n",
      "0.5    |     0.00075    |     0.7803152404537508    |     977826807303154.2    |     0.2171211671127336    |     36340.543287964436    |     8.069221577137061e-12\n",
      "0.5    |     0.001    |     0.8291864833508465    |     977826807303154.2    |     0.2171211671127336    |     27255.657466227247    |     6.051971694060409e-12\n",
      "0.5    |     0.002    |     0.9148557625309871    |     977826807303154.2    |     0.2171211671127336    |     13628.32873330223    |     3.0260968693745462e-12\n",
      "0.5    |     0.005    |     0.9605054768523641    |     977826807303154.2    |     0.2171211671127336    |     5451.931493366528    |     1.2105719745229067e-12\n",
      "0.5    |     0.0075    |     0.9664986040888534    |     977826807303154.2    |     0.2171211671127336    |     3634.954328917646    |     8.07121997885051e-13\n",
      "0.5    |     0.01    |     0.9715770597539619    |     977826807303154.2    |     0.2171211671127336    |     2726.465746690815    |     6.053970095655925e-13\n",
      "0.5    |     0.02    |     1.0046221692212953    |     977826807303154.2    |     0.2171211671127336    |     1363.7328733473137    |     3.02809527085682e-13\n",
      "0.5    |     0.05    |     1.104779555422797    |     977826807303154.2    |     0.2171211671127336    |     546.0931493393787    |     1.2125703759732846e-13\n",
      "0.5    |     0.075    |     1.1581424516578147    |     977826807303154.2    |     0.2171211671127336    |     364.3954328929866    |     8.091203993320897e-14\n",
      "0.5    |     0.1    |     1.1943040342674944    |     977826807303154.2    |     0.2171211671127336    |     273.5465746697649    |     6.073954110114352e-14\n",
      "0.5    |     0.2    |     1.2650403625958069    |     977826807303154.2    |     0.2171211671127336    |     137.27328733490154    |     3.0480792853038516e-14\n",
      "0.5    |     0.5    |     1.3129959855689672    |     977826807303154.2    |     0.2171211671127336    |     55.50931493396515    |     1.2325543904171432e-14\n",
      "0.5    |     0.75    |     1.3205631535380167    |     977826807303154.2    |     0.2171211671127336    |     37.339543289310775    |     8.291044137756115e-15\n",
      "0.5    |     1    |     1.3228809465642861    |     977826807303154.2    |     0.2171211671127336    |     28.254657466983346    |     6.273794254548403e-15\n",
      "0.75    |     1e-05    |     0.2224499701908767    |     3532635629675.7275    |     0.0007844026827354361    |     2442727.9074297766    |     5.423945531445932e-10\n",
      "0.75    |     2e-05    |     0.2053060605544748    |     3532635629675.7275    |     0.0007844026827354361    |     1221364.87599624    |     2.7119748135989495e-10\n",
      "0.75    |     5e-05    |     0.2085533760823337    |     3532635629675.7275    |     0.0007844026827354361    |     488546.65174350236    |     1.0847914827383284e-10\n",
      "0.75    |     7.5e-05    |     0.21981047089524733    |     3532635629675.7275    |     0.0007844026827354361    |     325698.1161761096    |     7.23195095311512e-11\n",
      "0.75    |     0.0001    |     0.22929183435181774    |     3532635629675.7275    |     0.0007844026827354361    |     244273.84276199315    |     5.4239688909605987e-11\n",
      "0.75    |     0.0002    |     0.25206556710853495    |     3532635629675.7275    |     0.0007844026827354361    |     122137.42560389852    |     2.711995641477805e-11\n",
      "0.75    |     0.0005    |     0.2911465816898116    |     3532635629675.7275    |     0.0007844026827354361    |     48855.571254942355    |     1.0848116017690391e-11\n",
      "0.75    |     0.00075    |     0.32523987895144435    |     3532635629675.7275    |     0.0007844026827354361    |     32570.714320101124    |     7.232151393332914e-12\n",
      "0.75    |     0.001    |     0.3599082896642861    |     3532635629675.7275    |     0.0007844026827354361    |     24428.285796379972    |     5.424169068652945e-12\n",
      "0.75    |     0.002    |     0.4758051392903114    |     3532635629675.7275    |     0.0007844026827354361    |     12214.64294041555    |     2.7121955660048935e-12\n",
      "0.75    |     0.005    |     0.6515260879776189    |     3532635629675.7275    |     0.0007844026827354361    |     4886.457186300882    |     1.0850114554152595e-12\n",
      "0.75    |     0.0075    |     0.7197356993725837    |     3532635629675.7275    |     0.0007844026827354361    |     3257.971459035235    |     7.234149854785066e-13\n",
      "0.75    |     0.01    |     0.7617582568840147    |     3532635629675.7275    |     0.0007844026827354361    |     2443.7285948394715    |     5.426167503851324e-13\n",
      "0.75    |     0.02    |     0.8408992984214809    |     3532635629675.7275    |     0.0007844026827354361    |     1222.3642978420098    |     2.7141939758879237e-13\n",
      "0.75    |     0.05    |     0.921090676130885    |     3532635629675.7275    |     0.0007844026827354361    |     489.5457192381454    |     1.087009858209743e-13\n",
      "0.75    |     0.075    |     0.9624492708631209    |     3532635629675.7275    |     0.0007844026827354361    |     326.69714617377707    |     7.254133875229153e-14\n"
     ]
    },
    {
     "name": "stdout",
     "output_type": "stream",
     "text": [
      "0.75    |     0.1    |     0.9968207350967747    |     3532635629675.7275    |     0.0007844026827354361    |     245.2728596359628    |     5.4461515216700016e-14\n",
      "0.75    |     0.2    |     1.09219143539072    |     3532635629675.7275    |     0.0007844026827354361    |     123.13642982220426    |     2.734177991175019e-14\n",
      "0.75    |     0.5    |     1.211388707239522    |     3532635629675.7275    |     0.0007844026827354361    |     49.8545719298951    |     1.1069938727880113e-14\n",
      "0.75    |     0.75    |     1.2502765485666596    |     3532635629675.7275    |     0.0007844026827354361    |     33.56971462008021    |     7.453974020261758e-15\n",
      "0.75    |     1    |     1.2715113409155718    |     3532635629675.7275    |     0.0007844026827354361    |     25.42728596511646    |     5.645991666440078e-15\n",
      "1.0    |     1e-05    |     0.320179044669917    |     63914573885.28624    |     1.4191886307310106e-05    |     2130369.1132010035    |     4.730369680852061e-10\n",
      "1.0    |     2e-05    |     0.30074023142692624    |     63914573885.28624    |     1.4191886307310106e-05    |     1065202.808987094    |     2.365225368865729e-10\n",
      "1.0    |     5e-05    |     0.26987296046837544    |     63914573885.28624    |     1.4191886307310106e-05    |     426085.9842781897    |     9.461009404314374e-11\n",
      "1.0    |     7.5e-05    |     0.2559713871880792    |     63914573885.28624    |     1.4191886307310106e-05    |     284058.28740621416    |     6.307361020279382e-11\n",
      "1.0    |     0.0001    |     0.24652041427432864    |     63914573885.28624    |     1.4191886307310106e-05    |     213044.2022632696    |     4.730531572311616e-11\n",
      "1.0    |     0.0002    |     0.22985421062266084    |     63914573885.28624    |     1.4191886307310106e-05    |     106522.7786634919    |     2.3652808303851614e-11\n",
      "1.0    |     0.0005    |     0.23919407237622084    |     63914573885.28624    |     1.4191886307310106e-05    |     42609.75407313194    |     9.461266009121325e-12\n",
      "1.0    |     0.00075    |     0.25539979901782706    |     63914573885.28624    |     1.4191886307310106e-05    |     28406.842361021034    |     6.307586089220559e-12\n",
      "1.0    |     0.001    |     0.26957943340882967    |     63914573885.28624    |     1.4191886307310106e-05    |     21305.38413787031    |     4.730745603669442e-12\n",
      "1.0    |     0.002    |     0.3106387680744858    |     63914573885.28624    |     1.4191886307310106e-05    |     10653.193844259273    |     2.3654842183383257e-12\n",
      "1.0    |     0.005    |     0.39366095954965596    |     63914573885.28624    |     1.4191886307310106e-05    |     4261.8779637819725    |     9.46327008706665e-13\n",
      "1.0    |     0.0075    |     0.4469915900961434    |     63914573885.28624    |     1.4191886307310106e-05    |     2841.5853723108    |     6.309587013554995e-13\n",
      "1.0    |     0.01    |     0.4901673630039929    |     63914573885.28624    |     1.4191886307310106e-05    |     2131.439052904146    |     4.73274542423884e-13\n",
      "1.0    |     0.02    |     0.6017532446914206    |     63914573885.28624    |     1.4191886307310106e-05    |     1066.2195442053298    |     2.367482974564194e-13\n",
      "1.0    |     0.05    |     0.7405769938099285    |     63914573885.28624    |     1.4191886307310106e-05    |     427.087821942916    |     9.48325466916069e-14\n",
      "1.0    |     0.075    |     0.7971634633262168    |     63914573885.28624    |     1.4191886307310106e-05    |     285.058548593173    |     6.329571280287393e-14\n",
      "1.0    |     0.1    |     0.8372760302121769    |     63914573885.28624    |     1.4191886307310106e-05    |     214.04391168158892    |     4.7527295805946706e-14\n",
      "1.0    |     0.2    |     0.9403435142235634    |     63914573885.28624    |     1.4191886307310106e-05    |     107.52195601832733    |     2.3874670244856084e-14\n",
      "1.0    |     0.5    |     1.08887165393725    |     63914573885.28624    |     1.4191886307310106e-05    |     43.60878244993883    |     9.683094870358306e-15\n",
      "1.0    |     0.75    |     1.1499813978771305    |     63914573885.28624    |     1.4191886307310106e-05    |     29.40585497293815    |     6.529411449948819e-15\n",
      "1.0    |     1    |     1.1884279444711834    |     63914573885.28624    |     1.4191886307310106e-05    |     22.304391232070717    |     4.952569739218475e-15\n",
      "2.0    |     1e-05    |     0.37717527080077506    |     4995157.2011149125    |     1.109147707259986e-09    |     931785.0004892482    |     2.0689783230870522e-10\n",
      "2.0    |     2e-05    |     0.3655473904437469    |     4995157.2011149125    |     1.109147707259986e-09    |     513815.8738676403    |     1.140900427171499e-10\n",
      "2.0    |     5e-05    |     0.35566593701682064    |     4995157.2011149125    |     1.109147707259986e-09    |     219045.86744155994    |     4.8637953096521955e-11\n",
      "2.0    |     7.5e-05    |     0.3535036870211194    |     4995157.2011149125    |     1.109147707259986e-09    |     148197.1167436065    |     3.2906370238362844e-11\n",
      "2.0    |     0.0001    |     0.35281735349802834    |     4995157.2011149125    |     1.109147707259986e-09    |     111978.62460512047    |     2.4864249460492364e-11\n",
      "2.0    |     0.0002    |     0.35343475255300777    |     4995157.2011149125    |     1.109147707259986e-09    |     56624.483463982964    |     1.2573161059844066e-11\n",
      "2.0    |     0.0005    |     0.3550242415452819    |     4995157.2011149125    |     1.109147707259986e-09    |     22805.496043356332    |     5.063837359066421e-12\n",
      "2.0    |     0.00075    |     0.3537163573870293    |     4995157.2011149125    |     1.109147707259986e-09    |     15227.168148580933    |     3.3811105356786737e-12\n",
      "2.0    |     0.001    |     0.35159094176905853    |     4995157.2011149125    |     1.109147707259986e-09    |     11429.33503583957    |     2.5378221825888157e-12\n",
      "2.0    |     0.002    |     0.34374259802451634    |     4995157.2011149125    |     1.109147707259986e-09    |     5721.7116786094075    |     1.2704752091717636e-12\n",
      "2.0    |     0.005    |     0.3384378232843965    |     4995157.2011149125    |     1.109147707259986e-09    |     2290.858149957741    |     5.086726928466547e-13\n",
      "2.0    |     0.0075    |     0.34349118443995696    |     4995157.2011149125    |     1.109147707259986e-09    |     1527.8054038403643    |     3.392409472980616e-13\n",
      "2.0    |     0.01    |     0.3514509386543829    |     4995157.2011149125    |     1.109147707259986e-09    |     1146.1915618887506    |     2.545056525279922e-13\n",
      "2.0    |     0.02    |     0.38795453127123775    |     4995157.2011149125    |     1.109147707259986e-09    |     573.6614252411258    |     1.2737842452839616e-13\n",
      "2.0    |     0.05    |     0.4710748508056688    |     4995157.2011149125    |     1.109147707259986e-09    |     230.08032761773308    |     5.108809544690131e-14\n",
      "2.0    |     0.075    |     0.5172647100633153    |     4995157.2011149125    |     1.109147707259986e-09    |     153.72255305569723    |     3.4133263561319456e-14\n",
      "2.0    |     0.1    |     0.5526131904880438    |     4995157.2011149125    |     1.109147707259986e-09    |     115.54279030330163    |     2.565565322483235e-14\n",
      "2.0    |     0.2    |     0.6463104722195471    |     4995157.2011149125    |     1.109147707259986e-09    |     58.272051797845286    |     1.2938994719623517e-14\n",
      "2.0    |     0.5    |     0.7972439807925047    |     4995157.2011149125    |     1.109147707259986e-09    |     23.908978317115817    |     5.3088596445851216e-15\n",
      "2.0    |     0.75    |     0.8774340306364914    |     4995157.2011149125    |     1.109147707259986e-09    |     16.27267555945542    |     3.613259815672491e-15\n",
      "2.0    |     1    |     0.9386486865700188    |     4995157.2011149125    |     1.109147707259986e-09    |     12.454515425128458    |     2.7654579571053567e-15\n",
      "5.0    |     1e-05    |     0.7290963744458009    |     555.6368040064843    |     1.2337615462742687e-13    |     554.9108780960354    |     1.232149666954364e-13\n",
      "5.0    |     2e-05    |     0.729116226423653    |     555.6368040064843    |     1.2337615462742687e-13    |     554.1868499306454    |     1.2305420014749777e-13\n",
      "5.0    |     5e-05    |     0.7291757523892818    |     555.6368040064843    |     1.2337615462742687e-13    |     552.026077777772    |     1.2257441234848e-13\n",
      "5.0    |     7.5e-05    |     0.7292253230382071    |     555.6368040064843    |     1.2337615462742687e-13    |     550.2382870339212    |     1.22177443059073e-13\n",
      "5.0    |     0.0001    |     0.7292748625029506    |     555.6368040064843    |     1.2337615462742687e-13    |     548.462059660404    |     1.2178304135366335e-13\n",
      "5.0    |     0.0002    |     0.7294727088701933    |     555.6368040064843    |     1.2337615462742687e-13    |     541.4705687792623    |     1.202306185231233e-13\n",
      "5.0    |     0.0005    |     0.7300632679255019    |     555.6368040064843    |     1.2337615462742687e-13    |     521.5279990898943    |     1.1580247851525766e-13\n",
      "5.0    |     0.00075    |     0.7305520056062916    |     555.6368040064843    |     1.2337615462742687e-13    |     505.9998715152436    |     1.1235454156271887e-13\n",
      "5.0    |     0.001    |     0.731037681432382    |     555.6368040064843    |     1.2337615462742687e-13    |     491.37136147683805    |     1.0910635983059925e-13\n",
      "5.0    |     0.002    |     0.732950285889631    |     555.6368040064843    |     1.2337615462742687e-13    |     440.45228221099893    |     9.780005299186965e-14\n",
      "5.0    |     0.005    |     0.7384152522426063    |     555.6368040064843    |     1.2337615462742687e-13    |     336.0726653659446    |     7.462312220728342e-14\n"
     ]
    },
    {
     "name": "stdout",
     "output_type": "stream",
     "text": [
      "5.0    |     0.0075    |     0.7426859104004215    |     555.6368040064843    |     1.2337615462742687e-13    |     280.7085388287955    |     6.232981660332271e-14\n",
      "5.0    |     0.01    |     0.7467295294070292    |     555.6368040064843    |     1.2337615462742687e-13    |     241.04573230445013    |     5.3522904398406485e-14\n",
      "5.0    |     0.02    |     0.7610911745523715    |     555.6368040064843    |     1.2337615462742687e-13    |     154.1683480263642    |     3.423224992945877e-14\n",
      "5.0    |     0.05    |     0.7938460924485606    |     555.6368040064843    |     1.2337615462742687e-13    |     74.43525519938781    |     1.652794683324195e-14\n",
      "5.0    |     0.075    |     0.8150678569112062    |     555.6368040064843    |     1.2337615462742687e-13    |     52.21726682813801    |     1.1594562383118847e-14\n",
      "5.0    |     0.1    |     0.8333792535955521    |     555.6368040064843    |     1.2337615462742687e-13    |     40.32070591377205    |     8.952995214921889e-15\n",
      "5.0    |     0.2    |     0.8919888448352008    |     555.6368040064843    |     1.2337615462742687e-13    |     21.382869766048387    |     4.747950869365611e-15\n",
      "5.0    |     0.5    |     1.0120030229593937    |     555.6368040064843    |     1.2337615462742687e-13    |     9.336977975122124    |     2.073225585679711e-15\n",
      "5.0    |     0.75    |     1.082703837784837    |     555.6368040064843    |     1.2337615462742687e-13    |     6.585973686347974    |     1.462379925231788e-15\n",
      "5.0    |     1    |     1.1385693673981574    |     555.6368040064843    |     1.2337615462742687e-13    |     5.200055382874519    |     1.154644243078655e-15\n",
      "7.5    |     1e-05    |     1.1579727162941067    |     65.42062274366072    |     1.452629633106566e-14    |     65.40750197167772    |     1.4523382934434385e-14\n",
      "7.5    |     2e-05    |     1.1579776842823721    |     65.42062274366072    |     1.452629633106566e-14    |     65.39438654331285    |     1.4520470724324685e-14\n",
      "7.5    |     5e-05    |     1.157992587485609    |     65.42062274366072    |     1.452629633106566e-14    |     65.35507228730161    |     1.4511741205880748e-14\n",
      "7.5    |     7.5e-05    |     1.1580050059490279    |     65.42062274366072    |     1.452629633106566e-14    |     65.32234705876321    |     1.450447474543886e-14\n",
      "7.5    |     0.0001    |     1.1580174236191763    |     65.42062274366072    |     1.452629633106566e-14    |     65.28965509555185    |     1.4497215671383368e-14\n",
      "7.5    |     0.0002    |     1.1580670863672335    |     65.42062274366072    |     1.452629633106566e-14    |     65.15921888360953    |     1.4468253014234717e-14\n",
      "7.5    |     0.0005    |     1.1582159984650569    |     65.42062274366072    |     1.452629633106566e-14    |     64.77106671380955    |     1.4382065919040687e-14\n",
      "7.5    |     0.00075    |     1.1583400046414276    |     65.42062274366072    |     1.452629633106566e-14    |     64.45117618545747    |     1.431103595305349e-14\n",
      "7.5    |     0.001    |     1.1584639315271188    |     65.42062274366072    |     1.452629633106566e-14    |     64.13447892974592    |     1.424071503602818e-14\n",
      "7.5    |     0.002    |     1.1589588465897576    |     65.42062274366072    |     1.452629633106566e-14    |     62.89868505684152    |     1.3966313673750346e-14\n",
      "7.5    |     0.005    |     1.1604360020625988    |     65.42062274366072    |     1.452629633106566e-14    |     59.46547650580339    |     1.3203988237409844e-14\n",
      "7.5    |     0.0075    |     1.1616583144933832    |     65.42062274366072    |     1.452629633106566e-14    |     56.88254043457722    |     1.2630461217927818e-14\n",
      "7.5    |     0.01    |     1.1628728314959045    |     65.42062274366072    |     1.452629633106566e-14    |     54.5181705296583    |     1.2105465636493462e-14\n",
      "7.5    |     0.02    |     1.1676546346371226    |     65.42062274366072    |     1.452629633106566e-14    |     46.77181528449087    |     1.0385429246471316e-14\n",
      "7.5    |     0.05    |     1.1813220595206988    |     65.42062274366072    |     1.452629633106566e-14    |     32.91391372384854    |     7.308356969348515e-15\n",
      "7.5    |     0.075    |     1.1920256826753843    |     65.42062274366072    |     1.452629633106566e-14    |     26.48423006114892    |     5.88068040067145e-15\n",
      "7.5    |     0.1    |     1.20219020027986    |     65.42062274366072    |     1.452629633106566e-14    |     22.210881996573836    |     4.931806517965728e-15\n",
      "7.5    |     0.2    |     1.2385142386896435    |     65.42062274366072    |     1.452629633106566e-14    |     13.695471638717024    |     3.0410055892808926e-15\n",
      "7.5    |     0.5    |     1.3202321940460666    |     65.42062274366072    |     1.452629633106566e-14    |     6.759169742060499    |     1.5008371749970493e-15\n",
      "7.5    |     0.75    |     1.3692070811077148    |     65.42062274366072    |     1.452629633106566e-14    |     4.957375592564131    |     1.1007585049158954e-15\n",
      "7.5    |     1    |     1.4074503211973    |     65.42062274366072    |     1.452629633106566e-14    |     4.014324376831694    |     8.91359070294516e-16\n",
      "10.0    |     1e-05    |     1.457096888684143    |     19.17586490054361    |     4.25789734593698e-15    |     19.174489304841266    |     4.257591902332717e-15\n",
      "10.0    |     2e-05    |     1.4570993187331163    |     19.17586490054361    |     4.25789734593698e-15    |     19.173113917340388    |     4.257286504958466e-15\n",
      "10.0    |     5e-05    |     1.4571066086154156    |     19.17586490054361    |     4.25789734593698e-15    |     19.168989003573483    |     4.2563705901107435e-15\n",
      "10.0    |     7.5e-05    |     1.4571126832141403    |     19.17586490054361    |     4.25789734593698e-15    |     19.165553005574097    |     4.255607645292447e-15\n",
      "10.0    |     0.0001    |     1.457118757537252    |     19.17586490054361    |     4.25789734593698e-15    |     19.162118306915016    |     4.2548449889856545e-15\n",
      "10.0    |     0.0002    |     1.4571430520739161    |     19.17586490054361    |     4.25789734593698e-15    |     19.148392490952485    |     4.251797245602981e-15\n",
      "10.0    |     0.0005    |     1.4572159092372132    |     19.17586490054361    |     4.25789734593698e-15    |     19.10733923905196    |     4.242681592503841e-15\n",
      "10.0    |     0.00075    |     1.4572765932520455    |     19.17586490054361    |     4.25789734593698e-15    |     19.073269807537816    |     4.235116659043262e-15\n",
      "10.0    |     0.001    |     1.457337249749875    |     19.17586490054361    |     4.25789734593698e-15    |     19.039328340305314    |     4.2275801393610455e-15\n",
      "10.0    |     0.002    |     1.4575796008997433    |     19.17586490054361    |     4.25789734593698e-15    |     18.904827802739526    |     4.197715020635046e-15\n",
      "10.0    |     0.005    |     1.458304024876359    |     19.17586490054361    |     4.25789734593698e-15    |     18.51309687468338    |     4.110733281477903e-15\n",
      "10.0    |     0.0075    |     1.4589047145245593    |     19.17586490054361    |     4.25789734593698e-15    |     18.19951378363079    |     4.04110384791396e-15\n",
      "10.0    |     0.01    |     1.4595026976623584    |     19.17586490054361    |     4.25789734593698e-15    |     17.896962960525283    |     3.973924069927755e-15\n",
      "10.0    |     0.02    |     1.461867908452495    |     19.17586490054361    |     4.25789734593698e-15    |     16.786203891155214    |     3.727286011202583e-15\n",
      "10.0    |     0.05    |     1.4687164362187257    |     19.17586490054361    |     4.25789734593698e-15    |     14.185809264834248    |     3.1498824137519694e-15\n",
      "10.0    |     0.075    |     1.4741565641493999    |     19.17586490054361    |     4.25789734593698e-15    |     12.594249511471265    |     2.7964851571019056e-15\n",
      "10.0    |     0.1    |     1.4793710196810037    |     19.17586490054361    |     4.25789734593698e-15    |     11.345519722685243    |     2.5192114444927955e-15\n",
      "10.0    |     0.2    |     1.4982457886579081    |     19.17586490054361    |     4.25789734593698e-15    |     8.230533331790687    |     1.8275455219797647e-15\n",
      "10.0    |     0.5    |     1.541009865953393    |     19.17586490054361    |     4.25789734593698e-15    |     4.798974397071008    |     1.0655863740429724e-15\n",
      "10.0    |     0.75    |     1.566357435218295    |     19.17586490054361    |     4.25789734593698e-15    |     3.7223151344244303    |     8.265199934297374e-16\n",
      "10.0    |     1    |     1.5858716852811872    |     19.17586490054361    |     4.25789734593698e-15    |     3.1211613132222817    |     6.930370307017334e-16\n"
     ]
    },
    {
     "name": "stdout",
     "output_type": "stream",
     "text": [
      "20.0    |     1e-05    |     1.728648675651949    |     2.142916234875077    |     4.758229887602721e-16    |     2.1428984173511347    |     4.758190324752076e-16\n",
      "20.0    |     2e-05    |     1.728648764407431    |     2.142916234875077    |     4.758229887602721e-16    |     2.1428806003827177    |     4.758150763134944e-16\n",
      "20.0    |     5e-05    |     1.7286490306649476    |     2.142916234875077    |     4.758229887602721e-16    |     2.142827152810355    |     4.75803208568405e-16\n",
      "20.0    |     7.5e-05    |     1.7286492525359836    |     2.142916234875077    |     4.758229887602721e-16    |     2.142782616985268    |     4.757933196287186e-16\n",
      "20.0    |     0.0001    |     1.728649474397721    |     2.142916234875077    |     4.758229887602721e-16    |     2.1427380846311563    |     4.757834314597434e-16\n",
      "20.0    |     0.0002    |     1.7286503617517066    |     2.142916234875077    |     4.758229887602721e-16    |     2.1425599899163474    |     4.757438864891544e-16\n",
      "20.0    |     0.0005    |     1.728653022921501    |     2.142916234875077    |     4.758229887602721e-16    |     2.1420260386871077    |     4.756253254994087e-16\n",
      "20.0    |     0.00075    |     1.7286552395412742    |     2.142916234875077    |     4.758229887602721e-16    |     2.141581460408619    |     4.755266092912034e-16\n",
      "20.0    |     0.001    |     1.7286574552328244    |     2.142916234875077    |     4.758229887602721e-16    |     2.141137228134384    |     4.754279699113759e-16\n",
      "20.0    |     0.002    |     1.7286663087282643    |     2.142916234875077    |     4.758229887602721e-16    |     2.1393637510139203    |     4.75034178884819e-16\n",
      "20.0    |     0.005    |     1.7286927805265964    |     2.142916234875077    |     4.758229887602721e-16    |     2.134076240757685    |     4.738601157589362e-16\n",
      "20.0    |     0.0075    |     1.7287147392794124    |     2.142916234875077    |     4.758229887602721e-16    |     2.1297073264769613    |     4.728900219135215e-16\n",
      "20.0    |     0.01    |     1.7287366067447663    |     2.142916234875077    |     4.758229887602721e-16    |     2.1253719446187835    |     4.719273737616233e-16\n",
      "20.0    |     0.02    |     1.728823174869511    |     2.142916234875077    |     4.758229887602721e-16    |     2.10835813706988    |     4.681495495861565e-16\n",
      "20.0    |     0.05    |     1.7290745149199334    |     2.142916234875077    |     4.758229887602721e-16    |     2.060269448440304    |     4.574717157180394e-16\n",
      "20.0    |     0.075    |     1.7292748667352147    |     2.142916234875077    |     4.758229887602721e-16    |     2.023271926743744    |     4.492566156297215e-16\n",
      "20.0    |     0.1    |     1.7294674543189978    |     2.142916234875077    |     4.758229887602721e-16    |     1.988769361423232    |     4.4159550714422835e-16\n",
      "20.0    |     0.2    |     1.7301684663530894    |     2.142916234875077    |     4.758229887602721e-16    |     1.871261042321496    |     4.1550341885387885e-16\n",
      "20.0    |     0.5    |     1.7317725169771812    |     2.142916234875077    |     4.758229887602721e-16    |     1.6422723278704798    |     3.646577102213122e-16\n",
      "20.0    |     0.75    |     1.7327288355012878    |     2.142916234875077    |     4.758229887602721e-16    |     1.5268757896947267    |     3.390345314923608e-16\n",
      "20.0    |     1    |     1.7334658393718352    |     2.142916234875077    |     4.758229887602721e-16    |     1.446630124465455    |     3.212164144595808e-16\n",
      "50.0    |     1e-05    |     1.7391411403978452    |     1.001361075024962    |     2.223468242912223e-16    |     1.0013610614050856    |     2.2234682126700225e-16\n",
      "50.0    |     2e-05    |     1.739141140461825    |     1.001361075024962    |     2.223468242912223e-16    |     1.0013610477854813    |     2.223468182428426e-16\n",
      "50.0    |     5e-05    |     1.7391411406537571    |     1.001361075024962    |     2.223468242912223e-16    |     1.0013610069283048    |     2.2234680917072697e-16\n",
      "50.0    |     7.5e-05    |     1.7391411408136923    |     1.001361075024962    |     2.223468242912223e-16    |     1.0013609728825315    |     2.223468016110467e-16\n",
      "50.0    |     0.0001    |     1.739141140973618    |     1.001361075024962    |     2.223468242912223e-16    |     1.0013609388384612    |     2.2234679405174456e-16\n",
      "50.0    |     0.0002    |     1.7391411416132447    |     1.001361075024962    |     2.223468242912223e-16    |     1.0013608026792107    |     2.2234676381831757e-16\n",
      "50.0    |     0.0005    |     1.7391411435313555    |     1.001361075024962    |     2.223468242912223e-16    |     1.00136039436488    |     2.223466731543233e-16\n",
      "50.0    |     0.00075    |     1.7391411451289043    |     1.001361075024962    |     2.223468242912223e-16    |     1.0013600542900682    |     2.223465976425461e-16\n",
      "50.0    |     0.001    |     1.7391411467256543    |     1.001361075024962    |     2.223468242912223e-16    |     1.0013597143852402    |     2.2234652216851285e-16\n",
      "50.0    |     0.002    |     1.7391411531046927    |     1.001361075024962    |     2.223468242912223e-16    |     1.0013583564632107    |     2.223462206492523e-16\n",
      "50.0    |     0.005    |     1.7391411721656644    |     1.001361075024962    |     2.223468242912223e-16    |     1.0013542989220954    |     2.2234531969413837e-16\n",
      "50.0    |     0.0075    |     1.7391411879631304    |     1.001361075024962    |     2.223468242912223e-16    |     1.0013509361089248    |     2.2234457299961647e-16\n",
      "50.0    |     0.01    |     1.7391412036824192    |     1.001361075024962    |     2.223468242912223e-16    |     1.0013475899545612    |     2.223438300040928e-16\n",
      "50.0    |     0.02    |     1.7391412657893084    |     1.001361075024962    |     2.223468242912223e-16    |     1.001334369473718    |     2.2234089446764705e-16\n",
      "50.0    |     0.05    |     1.7391414450146105    |     1.001361075024962    |     2.223468242912223e-16    |     1.001296219922522    |     2.2233242356562365e-16\n",
      "50.0    |     0.075    |     1.73914158673034    |     1.001361075024962    |     2.223468242912223e-16    |     1.001266056190751    |     2.223257258717195e-16\n",
      "50.0    |     0.1    |     1.7391417220066692    |     1.001361075024962    |     2.223468242912223e-16    |     1.0012372643858902    |     2.223193328067841e-16\n",
      "50.0    |     0.2    |     1.7391422067646827    |     1.001361075024962    |     2.223468242912223e-16    |     1.0011341005544732    |     2.2229642583459456e-16\n",
      "50.0    |     0.5    |     1.7391432733304761    |     1.001361075024962    |     2.223468242912223e-16    |     1.0009071775605214    |     2.2224603880805413e-16\n",
      "50.0    |     0.75    |     1.739143882857248    |     1.001361075024962    |     2.223468242912223e-16    |     1.0007775303834385    |     2.222172513518391e-16\n",
      "50.0    |     1    |     1.7391443400312503    |     1.001361075024962    |     2.223468242912223e-16    |     1.000680306025596    |     2.221956632077129e-16\n",
      "75.0    |     1e-05    |     1.7391475402804042    |     1.0000001490213473    |     2.220446380144175e-16    |     1.0000001490198573    |     2.2204463801408666e-16\n",
      "75.0    |     2e-05    |     1.739147540280411    |     1.0000001490213473    |     2.220446380144175e-16    |     1.0000001490183668    |     2.220446380137557e-16\n",
      "75.0    |     5e-05    |     1.7391475402804302    |     1.0000001490213473    |     2.220446380144175e-16    |     1.0000001490138963    |     2.2204463801276305e-16\n",
      "75.0    |     7.5e-05    |     1.7391475402804475    |     1.0000001490213473    |     2.220446380144175e-16    |     1.0000001490101718    |     2.2204463801193603e-16\n",
      "75.0    |     0.0001    |     1.739147540280464    |     1.0000001490213473    |     2.220446380144175e-16    |     1.0000001490064463    |     2.220446380111088e-16\n",
      "75.0    |     0.0002    |     1.7391475402805296    |     1.0000001490213473    |     2.220446380144175e-16    |     1.0000001489915489    |     2.220446380078009e-16\n",
      "75.0    |     0.0005    |     1.7391475402807286    |     1.0000001490213473    |     2.220446380144175e-16    |     1.0000001489468737    |     2.2204463799788104e-16\n",
      "75.0    |     0.00075    |     1.7391475402808945    |     1.0000001490213473    |     2.220446380144175e-16    |     1.000000148909665    |     2.2204463798961905e-16\n",
      "75.0    |     0.001    |     1.7391475402810603    |     1.0000001490213473    |     2.220446380144175e-16    |     1.000000148872475    |     2.220446379813612e-16\n",
      "75.0    |     0.002    |     1.739147540281721    |     1.0000001490213473    |     2.220446380144175e-16    |     1.0000001487238992    |     2.2204463794837075e-16\n",
      "75.0    |     0.005    |     1.7391475402836958    |     1.0000001490213473    |     2.220446380144175e-16    |     1.0000001482799472    |     2.220446378497936e-16\n",
      "75.0    |     0.0075    |     1.7391475402853336    |     1.0000001490213473    |     2.220446380144175e-16    |     1.0000001479120069    |     2.2204463776809444e-16\n",
      "75.0    |     0.01    |     1.7391475402869623    |     1.0000001490213473    |     2.220446380144175e-16    |     1.0000001475458882    |     2.2204463768679976e-16\n",
      "75.0    |     0.02    |     1.7391475402933994    |     1.0000001490213473    |     2.220446380144175e-16    |     1.00000014609936    |     2.2204463736560597e-16\n",
      "75.0    |     0.05    |     1.7391475403119734    |     1.0000001490213473    |     2.220446380144175e-16    |     1.0000001419250921    |     2.220446364387323e-16\n",
      "75.0    |     0.075    |     1.7391475403266607    |     1.0000001490213473    |     2.220446380144175e-16    |     1.000000138624508    |     2.2204463570585544e-16\n",
      "75.0    |     0.1    |     1.7391475403406795    |     1.0000001490213473    |     2.220446380144175e-16    |     1.0000001354739512    |     2.2204463500629127e-16\n",
      "75.0    |     0.2    |     1.7391475403909142    |     1.0000001490213473    |     2.220446380144175e-16    |     1.0000001241844543    |     2.220446324995194e-16\n",
      "75.0    |     0.5    |     1.7391475405014307    |     1.0000001490213473    |     2.220446380144175e-16    |     1.0000000993475624    |     2.2204462698462155e-16\n",
      "75.0    |     0.75    |     1.739147540564583    |     1.0000001490213473    |     2.220446380144175e-16    |     1.000000085155053    |     2.220446238332514e-16\n",
      "75.0    |     1    |     1.7391475406119468    |     1.0000001490213473    |     2.220446380144175e-16    |     1.0000000745106707    |     2.2204462146972376e-16\n",
      "100.0    |     1e-05    |     1.739147540943495    |     1.000000000000426    |     2.220446049251259e-16    |     1.000000000000426    |     2.220446049251259e-16\n",
      "100.0    |     2e-05    |     1.7391475409434953    |     1.000000000000426    |     2.220446049251259e-16    |     1.000000000000426    |     2.220446049251259e-16\n",
      "100.0    |     5e-05    |     1.7391475409434953    |     1.000000000000426    |     2.220446049251259e-16    |     1.0000000000004259    |     2.2204460492512587e-16\n",
      "100.0    |     7.5e-05    |     1.7391475409434953    |     1.000000000000426    |     2.220446049251259e-16    |     1.0000000000004259    |     2.2204460492512587e-16\n",
      "100.0    |     0.0001    |     1.7391475409434949    |     1.000000000000426    |     2.220446049251259e-16    |     1.0000000000004259    |     2.2204460492512587e-16\n",
      "100.0    |     0.0002    |     1.7391475409434947    |     1.000000000000426    |     2.220446049251259e-16    |     1.0000000000004259    |     2.2204460492512587e-16\n",
      "100.0    |     0.0005    |     1.739147540943495    |     1.000000000000426    |     2.220446049251259e-16    |     1.0000000000004257    |     2.220446049251258e-16\n",
      "100.0    |     0.00075    |     1.739147540943495    |     1.000000000000426    |     2.220446049251259e-16    |     1.0000000000004259    |     2.2204460492512587e-16\n",
      "100.0    |     0.001    |     1.739147540943495    |     1.000000000000426    |     2.220446049251259e-16    |     1.0000000000004254    |     2.2204460492512577e-16\n",
      "100.0    |     0.002    |     1.739147540943495    |     1.000000000000426    |     2.220446049251259e-16    |     1.000000000000425    |     2.220446049251257e-16\n",
      "100.0    |     0.005    |     1.7391475409434953    |     1.000000000000426    |     2.220446049251259e-16    |     1.0000000000004237    |     2.220446049251254e-16\n",
      "100.0    |     0.0075    |     1.7391475409434953    |     1.000000000000426    |     2.220446049251259e-16    |     1.0000000000004228    |     2.220446049251252e-16\n",
      "100.0    |     0.01    |     1.739147540943495    |     1.000000000000426    |     2.220446049251259e-16    |     1.0000000000004219    |     2.22044604925125e-16\n",
      "100.0    |     0.02    |     1.7391475409434953    |     1.000000000000426    |     2.220446049251259e-16    |     1.0000000000004174    |     2.22044604925124e-16\n",
      "100.0    |     0.05    |     1.7391475409434953    |     1.000000000000426    |     2.220446049251259e-16    |     1.000000000000406    |     2.2204460492512144e-16\n"
     ]
    },
    {
     "name": "stdout",
     "output_type": "stream",
     "text": [
      "100.0    |     0.075    |     1.7391475409434953    |     1.000000000000426    |     2.220446049251259e-16    |     1.0000000000003963    |     2.220446049251193e-16\n",
      "100.0    |     0.1    |     1.7391475409434953    |     1.000000000000426    |     2.220446049251259e-16    |     1.0000000000003872    |     2.220446049251173e-16\n",
      "100.0    |     0.2    |     1.7391475409434953    |     1.000000000000426    |     2.220446049251259e-16    |     1.0000000000003548    |     2.220446049251101e-16\n",
      "100.0    |     0.5    |     1.7391475409434956    |     1.000000000000426    |     2.220446049251259e-16    |     1.000000000000284    |     2.2204460492509437e-16\n",
      "100.0    |     0.75    |     1.7391475409434958    |     1.000000000000426    |     2.220446049251259e-16    |     1.0000000000002431    |     2.220446049250853e-16\n",
      "100.0    |     1    |     1.7391475409434962    |     1.000000000000426    |     2.220446049251259e-16    |     1.000000000000213    |     2.220446049250786e-16\n",
      "200.0    |     1e-05    |     1.7391475409434969    |     1.0000000000000004    |     2.220446049250314e-16    |     1.0000000000000004    |     2.220446049250314e-16\n",
      "200.0    |     2e-05    |     1.739147540943497    |     1.0000000000000004    |     2.220446049250314e-16    |     1.0000000000000002    |     2.2204460492503136e-16\n",
      "200.0    |     5e-05    |     1.739147540943497    |     1.0000000000000004    |     2.220446049250314e-16    |     1.0000000000000004    |     2.220446049250314e-16\n",
      "200.0    |     7.5e-05    |     1.739147540943497    |     1.0000000000000004    |     2.220446049250314e-16    |     1.0000000000000004    |     2.220446049250314e-16\n",
      "200.0    |     0.0001    |     1.739147540943497    |     1.0000000000000004    |     2.220446049250314e-16    |     1.0    |     2.220446049250313e-16\n",
      "200.0    |     0.0002    |     1.739147540943497    |     1.0000000000000004    |     2.220446049250314e-16    |     1.0000000000000002    |     2.2204460492503136e-16\n",
      "200.0    |     0.0005    |     1.739147540943497    |     1.0000000000000004    |     2.220446049250314e-16    |     1.0000000000000004    |     2.220446049250314e-16\n",
      "200.0    |     0.00075    |     1.739147540943497    |     1.0000000000000004    |     2.220446049250314e-16    |     1.0000000000000002    |     2.2204460492503136e-16\n",
      "200.0    |     0.001    |     1.7391475409434967    |     1.0000000000000004    |     2.220446049250314e-16    |     1.0000000000000004    |     2.220446049250314e-16\n",
      "200.0    |     0.002    |     1.7391475409434973    |     1.0000000000000004    |     2.220446049250314e-16    |     1.0000000000000004    |     2.220446049250314e-16\n",
      "200.0    |     0.005    |     1.739147540943497    |     1.0000000000000004    |     2.220446049250314e-16    |     1.0000000000000002    |     2.2204460492503136e-16\n",
      "200.0    |     0.0075    |     1.739147540943497    |     1.0000000000000004    |     2.220446049250314e-16    |     1.0000000000000002    |     2.2204460492503136e-16\n",
      "200.0    |     0.01    |     1.7391475409434969    |     1.0000000000000004    |     2.220446049250314e-16    |     1.0000000000000004    |     2.220446049250314e-16\n",
      "200.0    |     0.02    |     1.739147540943497    |     1.0000000000000004    |     2.220446049250314e-16    |     1.0000000000000002    |     2.2204460492503136e-16\n",
      "200.0    |     0.05    |     1.739147540943497    |     1.0000000000000004    |     2.220446049250314e-16    |     1.0000000000000004    |     2.220446049250314e-16\n",
      "200.0    |     0.075    |     1.739147540943497    |     1.0000000000000004    |     2.220446049250314e-16    |     1.0000000000000007    |     2.2204460492503146e-16\n",
      "200.0    |     0.1    |     1.7391475409434973    |     1.0000000000000004    |     2.220446049250314e-16    |     1.0000000000000004    |     2.220446049250314e-16\n",
      "200.0    |     0.2    |     1.739147540943497    |     1.0000000000000004    |     2.220446049250314e-16    |     1.0000000000000004    |     2.220446049250314e-16\n",
      "200.0    |     0.5    |     1.739147540943497    |     1.0000000000000004    |     2.220446049250314e-16    |     1.0000000000000002    |     2.2204460492503136e-16\n",
      "200.0    |     0.75    |     1.739147540943497    |     1.0000000000000004    |     2.220446049250314e-16    |     1.0000000000000002    |     2.2204460492503136e-16\n",
      "200.0    |     1    |     1.739147540943497    |     1.0000000000000004    |     2.220446049250314e-16    |     1.0000000000000004    |     2.220446049250314e-16\n",
      "500.0    |     1e-05    |     1.739147540943497    |     1.0    |     2.220446049250313e-16    |     1.0    |     2.220446049250313e-16\n",
      "500.0    |     2e-05    |     1.739147540943497    |     1.0    |     2.220446049250313e-16    |     1.0    |     2.220446049250313e-16\n",
      "500.0    |     5e-05    |     1.739147540943497    |     1.0    |     2.220446049250313e-16    |     1.0    |     2.220446049250313e-16\n",
      "500.0    |     7.5e-05    |     1.739147540943497    |     1.0    |     2.220446049250313e-16    |     1.0    |     2.220446049250313e-16\n",
      "500.0    |     0.0001    |     1.739147540943497    |     1.0    |     2.220446049250313e-16    |     1.0    |     2.220446049250313e-16\n",
      "500.0    |     0.0002    |     1.739147540943497    |     1.0    |     2.220446049250313e-16    |     1.0    |     2.220446049250313e-16\n",
      "500.0    |     0.0005    |     1.739147540943497    |     1.0    |     2.220446049250313e-16    |     1.0    |     2.220446049250313e-16\n",
      "500.0    |     0.00075    |     1.739147540943497    |     1.0    |     2.220446049250313e-16    |     1.0    |     2.220446049250313e-16\n",
      "500.0    |     0.001    |     1.739147540943497    |     1.0    |     2.220446049250313e-16    |     1.0    |     2.220446049250313e-16\n",
      "500.0    |     0.002    |     1.739147540943497    |     1.0    |     2.220446049250313e-16    |     1.0    |     2.220446049250313e-16\n",
      "500.0    |     0.005    |     1.739147540943497    |     1.0    |     2.220446049250313e-16    |     1.0    |     2.220446049250313e-16\n",
      "500.0    |     0.0075    |     1.739147540943497    |     1.0    |     2.220446049250313e-16    |     1.0    |     2.220446049250313e-16\n",
      "500.0    |     0.01    |     1.739147540943497    |     1.0    |     2.220446049250313e-16    |     1.0    |     2.220446049250313e-16\n",
      "500.0    |     0.02    |     1.739147540943497    |     1.0    |     2.220446049250313e-16    |     1.0    |     2.220446049250313e-16\n",
      "500.0    |     0.05    |     1.739147540943497    |     1.0    |     2.220446049250313e-16    |     1.0    |     2.220446049250313e-16\n",
      "500.0    |     0.075    |     1.739147540943497    |     1.0    |     2.220446049250313e-16    |     1.0    |     2.220446049250313e-16\n",
      "500.0    |     0.1    |     1.739147540943497    |     1.0    |     2.220446049250313e-16    |     1.0    |     2.220446049250313e-16\n",
      "500.0    |     0.2    |     1.739147540943497    |     1.0    |     2.220446049250313e-16    |     1.0    |     2.220446049250313e-16\n",
      "500.0    |     0.5    |     1.739147540943497    |     1.0    |     2.220446049250313e-16    |     1.0    |     2.220446049250313e-16\n",
      "500.0    |     0.75    |     1.739147540943497    |     1.0    |     2.220446049250313e-16    |     1.0    |     2.220446049250313e-16\n",
      "500.0    |     1    |     1.739147540943497    |     1.0    |     2.220446049250313e-16    |     1.0    |     2.220446049250313e-16\n",
      "1000.0    |     1e-05    |     1.739147540943497    |     1.0    |     2.220446049250313e-16    |     1.0    |     2.220446049250313e-16\n",
      "1000.0    |     2e-05    |     1.739147540943497    |     1.0    |     2.220446049250313e-16    |     1.0    |     2.220446049250313e-16\n",
      "1000.0    |     5e-05    |     1.739147540943497    |     1.0    |     2.220446049250313e-16    |     1.0    |     2.220446049250313e-16\n",
      "1000.0    |     7.5e-05    |     1.739147540943497    |     1.0    |     2.220446049250313e-16    |     1.0    |     2.220446049250313e-16\n",
      "1000.0    |     0.0001    |     1.739147540943497    |     1.0    |     2.220446049250313e-16    |     1.0    |     2.220446049250313e-16\n",
      "1000.0    |     0.0002    |     1.739147540943497    |     1.0    |     2.220446049250313e-16    |     1.0    |     2.220446049250313e-16\n",
      "1000.0    |     0.0005    |     1.739147540943497    |     1.0    |     2.220446049250313e-16    |     1.0    |     2.220446049250313e-16\n",
      "1000.0    |     0.00075    |     1.739147540943497    |     1.0    |     2.220446049250313e-16    |     1.0    |     2.220446049250313e-16\n",
      "1000.0    |     0.001    |     1.739147540943497    |     1.0    |     2.220446049250313e-16    |     1.0    |     2.220446049250313e-16\n",
      "1000.0    |     0.002    |     1.739147540943497    |     1.0    |     2.220446049250313e-16    |     1.0    |     2.220446049250313e-16\n",
      "1000.0    |     0.005    |     1.739147540943497    |     1.0    |     2.220446049250313e-16    |     1.0    |     2.220446049250313e-16\n",
      "1000.0    |     0.0075    |     1.739147540943497    |     1.0    |     2.220446049250313e-16    |     1.0    |     2.220446049250313e-16\n",
      "1000.0    |     0.01    |     1.739147540943497    |     1.0    |     2.220446049250313e-16    |     1.0    |     2.220446049250313e-16\n",
      "1000.0    |     0.02    |     1.739147540943497    |     1.0    |     2.220446049250313e-16    |     1.0    |     2.220446049250313e-16\n",
      "1000.0    |     0.05    |     1.739147540943497    |     1.0    |     2.220446049250313e-16    |     1.0    |     2.220446049250313e-16\n",
      "1000.0    |     0.075    |     1.739147540943497    |     1.0    |     2.220446049250313e-16    |     1.0    |     2.220446049250313e-16\n",
      "1000.0    |     0.1    |     1.739147540943497    |     1.0    |     2.220446049250313e-16    |     1.0    |     2.220446049250313e-16\n",
      "1000.0    |     0.2    |     1.739147540943497    |     1.0    |     2.220446049250313e-16    |     1.0    |     2.220446049250313e-16\n",
      "1000.0    |     0.5    |     1.739147540943497    |     1.0    |     2.220446049250313e-16    |     1.0    |     2.220446049250313e-16\n",
      "1000.0    |     0.75    |     1.739147540943497    |     1.0    |     2.220446049250313e-16    |     1.0    |     2.220446049250313e-16\n",
      "1000.0    |     1    |     1.739147540943497    |     1.0    |     2.220446049250313e-16    |     1.0    |     2.220446049250313e-16\n",
      "\n",
      "Results saved in  solution.pickle\n"
     ]
    },
    {
     "data": {
      "text/plain": [
       "\n",
       "========================================================================================================================\n",
       "Results of radial basis function run:\n",
       "\n",
       "Basis function type               : gaussian\n",
       "Shape parameter                    : 0.75\n",
       "Regularization parameter           : 2e-05\n",
       "Number of terms in RBF model       : 31\n",
       "\n",
       "RBF Expression:\n",
       "--------------------------\n",
       "\n",
       "4.038157591240296 + 237.8499310618983*(-1551.524456966979*exp(- (0.75*(((IndexedParam[0] + 4.929217157135412)/14.643030012320084 -0.5518182560031254)**2 + ((IndexedParam[1] -0.22882456869508516)/14.45053220191546 -0.2731190901874679)**2)**0.5)**2) -334.71891272619996*exp(- (0.75*(((IndexedParam[0] + 4.929217157135412)/14.643030012320084 -0.4300326512391472)**2 + ((IndexedParam[1] -0.22882456869508516)/14.45053220191546 -0.8610629174234938)**2)**0.5)**2) + 235.58220305464602*exp(- (0.75*(((IndexedParam[0] + 4.929217157135412)/14.643030012320084)**2 + ((IndexedParam[1] -0.22882456869508516)/14.45053220191546 -0.11035664436222248)**2)**0.5)**2) + 27.886153316856507*exp(- (0.75*(((IndexedParam[0] + 4.929217157135412)/14.643030012320084 -0.6822668136056202)**2 + ((IndexedParam[1] -0.22882456869508516)/14.45053220191546 -0.8414199967160326)**2)**0.5)**2) -1415.982957805238*exp(- (0.75*(((IndexedParam[0] + 4.929217157135412)/14.643030012320084 -0.13520535030959882)**2 + ((IndexedParam[1] -0.22882456869508516)/14.45053220191546 -0.5811256814195772)**2)**0.5)**2) -990.5466782982572*exp(- (0.75*(((IndexedParam[0] + 4.929217157135412)/14.643030012320084 -0.908216841775921)**2 + ((IndexedParam[1] -0.22882456869508516)/14.45053220191546 -0.20132180755786522)**2)**0.5)**2) -343.10909375654956*exp(- (0.75*(((IndexedParam[0] + 4.929217157135412)/14.643030012320084 -0.18501228557936236)**2 + ((IndexedParam[1] -0.22882456869508516)/14.45053220191546 -0.09666279198240106)**2)**0.5)**2) -723.9922784973087*exp(- (0.75*(((IndexedParam[0] + 4.929217157135412)/14.643030012320084 -0.22021941796179972)**2 + ((IndexedParam[1] -0.22882456869508516)/14.45053220191546 -1.0)**2)**0.5)**2) -8.525226924802155*exp(- (0.75*(((IndexedParam[0] + 4.929217157135412)/14.643030012320084 -0.8266365897830592)**2 + ((IndexedParam[1] -0.22882456869508516)/14.45053220191546 -0.16264387978612238)**2)**0.5)**2) + 255.0738659048725*exp(- (0.75*(((IndexedParam[0] + 4.929217157135412)/14.643030012320084 -0.831288905218487)**2 + ((IndexedParam[1] -0.22882456869508516)/14.45053220191546 -0.26866011456766936)**2)**0.5)**2) + 528.0399010903257*exp(- (0.75*(((IndexedParam[0] + 4.929217157135412)/14.643030012320084 -0.43739443999592303)**2 + ((IndexedParam[1] -0.22882456869508516)/14.45053220191546 -0.9599385359524552)**2)**0.5)**2) + 432.7400229275736*exp(- (0.75*(((IndexedParam[0] + 4.929217157135412)/14.643030012320084 -0.8327482651149929)**2 + ((IndexedParam[1] -0.22882456869508516)/14.45053220191546 -0.3330572615505772)**2)**0.5)**2) -761.4482838943682*exp(- (0.75*(((IndexedParam[0] + 4.929217157135412)/14.643030012320084 -0.17485274298531528)**2 + ((IndexedParam[1] -0.22882456869508516)/14.45053220191546 -0.3711736045917253)**2)**0.5)**2) + 854.4206928093154*exp(- (0.75*(((IndexedParam[0] + 4.929217157135412)/14.643030012320084 -0.0009932894634358945)**2 + ((IndexedParam[1] -0.22882456869508516)/14.45053220191546 -0.2461895993357224)**2)**0.5)**2) + 158.4825871700853*exp(- (0.75*(((IndexedParam[0] + 4.929217157135412)/14.643030012320084 -0.8102253955808789)**2 + ((IndexedParam[1] -0.22882456869508516)/14.45053220191546)**2)**0.5)**2) -2542.5018400800545*exp(- (0.75*(((IndexedParam[0] + 4.929217157135412)/14.643030012320084 -0.6086081776493459)**2 + ((IndexedParam[1] -0.22882456869508516)/14.45053220191546 -0.6109286075828757)**2)**0.5)**2) -1366.5543839234924*exp(- (0.75*(((IndexedParam[0] + 4.929217157135412)/14.643030012320084 -0.1028770983224648)**2 + ((IndexedParam[1] -0.22882456869508516)/14.45053220191546 -0.38063145554753214)**2)**0.5)**2) + 342.1406582111317*exp(- (0.75*(((IndexedParam[0] + 4.929217157135412)/14.643030012320084 -0.0325313822086792)**2 + ((IndexedParam[1] -0.22882456869508516)/14.45053220191546 -0.9084335925839453)**2)**0.5)**2) + 107.60917336600087*exp(- (0.75*(((IndexedParam[0] + 4.929217157135412)/14.643030012320084 -1.0)**2 + ((IndexedParam[1] -0.22882456869508516)/14.45053220191546 -0.046386199083146756)**2)**0.5)**2) + 49.67120678541755*exp(- (0.75*(((IndexedParam[0] + 4.929217157135412)/14.643030012320084 -0.9074219145138307)**2 + ((IndexedParam[1] -0.22882456869508516)/14.45053220191546 -0.5830026053427076)**2)**0.5)**2) + 897.3018668301011*exp(- (0.75*(((IndexedParam[0] + 4.929217157135412)/14.643030012320084 -0.7557460774371298)**2 + ((IndexedParam[1] -0.22882456869508516)/14.45053220191546 -0.6383110566137417)**2)**0.5)**2) -8.627269386987393*exp(- (0.75*(((IndexedParam[0] + 4.929217157135412)/14.643030012320084 -0.5911925356865033)**2 + ((IndexedParam[1] -0.22882456869508516)/14.45053220191546 -0.005381283583344741)**2)**0.5)**2) -136.91234830613803*exp(- (0.75*(((IndexedParam[0] + 4.929217157135412)/14.643030012320084 -0.21031274399063923)**2 + ((IndexedParam[1] -0.22882456869508516)/14.45053220191546 -0.5495609776179707)**2)**0.5)**2) + 735.7407100913279*exp(- (0.75*(((IndexedParam[0] + 4.929217157135412)/14.643030012320084 -0.7830308832306688)**2 + ((IndexedParam[1] -0.22882456869508516)/14.45053220191546 -0.24439265066740792)**2)**0.5)**2) + 541.7309338017151*exp(- (0.75*(((IndexedParam[0] + 4.929217157135412)/14.643030012320084 -0.28803140536417743)**2 + ((IndexedParam[1] -0.22882456869508516)/14.45053220191546 -0.8689715765112118)**2)**0.5)**2) -45.92139976021236*exp(- (0.75*(((IndexedParam[0] + 4.929217157135412)/14.643030012320084 -0.993941455353761)**2 + ((IndexedParam[1] -0.22882456869508516)/14.45053220191546 -0.9026639746834018)**2)**0.5)**2) + 1712.678844564028*exp(- (0.75*(((IndexedParam[0] + 4.929217157135412)/14.643030012320084 -0.36343808704287006)**2 + ((IndexedParam[1] -0.22882456869508516)/14.45053220191546 -0.6057949629205177)**2)**0.5)**2) + 3266.916817044179*exp(- (0.75*(((IndexedParam[0] + 4.929217157135412)/14.643030012320084 -0.3586109792561233)**2 + ((IndexedParam[1] -0.22882456869508516)/14.45053220191546 -0.3372905989731323)**2)**0.5)**2) -827.2715689513266*exp(- (0.75*(((IndexedParam[0] + 4.929217157135412)/14.643030012320084 -0.17758838147122427)**2 + ((IndexedParam[1] -0.22882456869508516)/14.45053220191546 -0.23089727866378493)**2)**0.5)**2) + 919.0325530576333*exp(- (0.75*(((IndexedParam[0] + 4.929217157135412)/14.643030012320084 -0.04112204875223326)**2 + ((IndexedParam[1] -0.22882456869508516)/14.45053220191546 -0.5088149538788017)**2)**0.5)**2))\n",
       "--------------------------\n",
       "\n",
       "Model training errors:\n",
       "-----------------------\n",
       "Mean Squared Error (MSE)         : 0.0004443809827389306\n",
       "Root Mean Squared Error (RMSE)   : 0.021080345887554374\n",
       "Goodness of fit (R2)             : 0.9918215668807647\n",
       "\n",
       "========================================================================================================================"
      ]
     },
     "execution_count": 19,
     "metadata": {},
     "output_type": "execute_result"
    }
   ],
   "source": [
    "rbf_class.training()"
   ]
  },
  {
   "cell_type": "markdown",
   "metadata": {},
   "source": [
    "#### Step 5: View model metrics\n",
    "    \n",
    "We can view the Root Mean Square Error (RMSE) and $R^2$ values of the RBF fit based on the training data:"
   ]
  },
  {
   "cell_type": "code",
   "execution_count": 20,
   "metadata": {},
   "outputs": [
    {
     "name": "stdout",
     "output_type": "stream",
     "text": [
      "R2:  0.9918215668807647 \n",
      "RMSE:  0.021080345887554374\n"
     ]
    }
   ],
   "source": [
    "print('R2: ', rbf_class.R2, '\\nRMSE: ', rbf_class.rmse)"
   ]
  },
  {
   "cell_type": "markdown",
   "metadata": {},
   "source": [
    "#### Step 6 (Optional): Generate Pyomo expression output at any unsampled point\n",
    "\n",
    "\n",
    "Based on the model we trained, we can predict the surrogate value at any previously unsampled point. We do this by calling the function ``predict_output``.\n",
    "\n",
    "Let us again evaluate the RBF surrogate at the same set of points we considered for the polynomial model:\n",
    "\n",
    "- $x_{1}=5$, $x_{2}=8$   (true function value: 57.9908)\n",
    "- $x_{1}=-3$, $x_{2}=10$ (true function value: 4.2461)\n",
    "- $x_{1}=-2$, $x_{2}=3$  (true function value: 50.8899)"
   ]
  },
  {
   "cell_type": "code",
   "execution_count": 21,
   "metadata": {},
   "outputs": [
    {
     "name": "stdout",
     "output_type": "stream",
     "text": [
      "[[61.06401281]\n",
      " [12.7142377 ]\n",
      " [50.9750144 ]]\n"
     ]
    }
   ],
   "source": [
    "unsampled_points = np.array([ [5, 8], [-3, 10], [-2, 3]])\n",
    "ys = rbf_class.predict_output(unsampled_points)\n",
    "print(ys)"
   ]
  },
  {
   "cell_type": "markdown",
   "metadata": {},
   "source": [
    "The results from the RBF surrogate are similar to those obtained from the polynomial.\n",
    "\n",
    "\n",
    "For RBF models, the Pyomo expression is generated by calling ``generate_expression`` on the results object, while parity plots may be viewed with the ``parity_residual_plots`` method.\n",
    "\n",
    "Further information about using PySMO's RBF tool and features can be found in the [documentation](https://idaes-pse.readthedocs.io/en/latest/user_guide/modeling_extensions/surrogate/pysmo/pysmo_radialbasisfunctions.html)."
   ]
  },
  {
   "cell_type": "markdown",
   "metadata": {},
   "source": [
    "### Training Kriging models\n",
    "\n",
    "The ``KrigingModel`` class trains Kriging from data. For details about Kriging models, users should consult the documentation.\n",
    "\n",
    "As an example, we will again consider the Brainin function. The same dataset loaded previously will be used."
   ]
  },
  {
   "cell_type": "markdown",
   "metadata": {},
   "source": [
    "#### Step 1: Load the data and import the Kriging tool"
   ]
  },
  {
   "cell_type": "code",
   "execution_count": 22,
   "metadata": {},
   "outputs": [],
   "source": [
    "import numpy as np\n",
    "brainin_data = np.loadtxt('brainin_30.txt')\n",
    "from idaes.core.surrogate.pysmo.kriging import KrigingModel"
   ]
  },
  {
   "cell_type": "markdown",
   "metadata": {},
   "source": [
    "#### Step 2: Specify the Kriging settings and initialize the KrigingModel class\n",
    "    \n",
    "The KrigingModel class takes a number of keyword arguments:\n",
    "\n",
    "      -  XY_data                       : The dataset for Kriging training. training_data is expected to contain xy_data, \n",
    "                                         with the output values (y) in the last column.\n",
    "\n",
    "\n",
    "It also takes a number of optional arguments:\n",
    "\n",
    "      -  regularization                : Boolean variable determining whether regularization is done. Default is True.\n",
    "      -  numerical_gradients           : Boolean variable which determines whether numerical gradients are used when\n",
    "                                         solving the max. likelihood optimization problem. Default is True.\n",
    "      -  fname                         : Filename for saving (.pickle extension)\n",
    "      - overwrite                      : Option determining whether any existing file with the same name supplied in 'fname'  \n",
    "                                         should be overwritten."
   ]
  },
  {
   "cell_type": "markdown",
   "metadata": {},
   "source": [
    "\n",
    "For this demonstration, we will train a Kriging model with regularization:"
   ]
  },
  {
   "cell_type": "code",
   "execution_count": 23,
   "metadata": {},
   "outputs": [
    {
     "name": "stdout",
     "output_type": "stream",
     "text": [
      "Warning: solution.pickle already exists; previous file will be overwritten.\n",
      "\n"
     ]
    }
   ],
   "source": [
    "krg_class = KrigingModel(XY_data=brainin_data, overwrite=True)"
   ]
  },
  {
   "cell_type": "markdown",
   "metadata": {},
   "source": [
    "#### Step 3: Extract variable names (optional)\n",
    "Next, we extract Pyomo variable names from the dataset."
   ]
  },
  {
   "cell_type": "code",
   "execution_count": 24,
   "metadata": {},
   "outputs": [],
   "source": [
    "vars = krg_class.get_feature_vector()"
   ]
  },
  {
   "cell_type": "markdown",
   "metadata": {},
   "source": [
    "#### Step 4: Train the Kriging surrogate\n",
    "Next, we train the RBF surrogate by calling ``training``:"
   ]
  },
  {
   "cell_type": "code",
   "execution_count": 25,
   "metadata": {},
   "outputs": [
    {
     "name": "stdout",
     "output_type": "stream",
     "text": [
      "Optimizing kriging parameters using L-BFGS-B algorithm...\n",
      "\n",
      "Final results\n",
      "================\n",
      "Theta: [6.01350027 0.22758914] \n",
      "Mean: [[387.03138339]] \n",
      "Regularization parameter: 1.000000000001e-06\n",
      "\n",
      "Results saved in  solution.pickle\n"
     ]
    },
    {
     "data": {
      "text/plain": [
       "\n",
       "========================================================================================================================\n",
       "Results of Kriging run:\n",
       "\n",
       "Kriging mean                     : [[387.03138339]]\n",
       "Kriging variance                 : [[70599.65695499]]\n",
       "Kriging weights                  : [6.01350027 0.22758914]\n",
       "Regularization parameter         : 1.000000000001e-06\n",
       "Number of terms in Kriging model : 31\n",
       "\n",
       "Kriging Expression:\n",
       "--------------------\n",
       "\n",
       "387.0313833873752 + (3497.783920424059*exp(- (6.013500265657502*((IndexedParam[0] + 4.929217157135412)/14.643030012320084 -0.5518182560031254)**2 + 0.2275891392584317*((IndexedParam[1] -0.22882456869508516)/14.45053220191546 -0.2731190901874679)**2)) -142121.60135793686*exp(- (6.013500265657502*((IndexedParam[0] + 4.929217157135412)/14.643030012320084 -0.4300326512391472)**2 + 0.2275891392584317*((IndexedParam[1] -0.22882456869508516)/14.45053220191546 -0.8610629174234938)**2)) + 89996.02381470054*exp(- (6.013500265657502*((IndexedParam[0] + 4.929217157135412)/14.643030012320084)**2 + 0.2275891392584317*((IndexedParam[1] -0.22882456869508516)/14.45053220191546 -0.11035664436222248)**2)) -17409.736300878227*exp(- (6.013500265657502*((IndexedParam[0] + 4.929217157135412)/14.643030012320084 -0.6822668136056202)**2 + 0.2275891392584317*((IndexedParam[1] -0.22882456869508516)/14.45053220191546 -0.8414199967160326)**2)) + 71048.94170223176*exp(- (6.013500265657502*((IndexedParam[0] + 4.929217157135412)/14.643030012320084 -0.13520535030959882)**2 + 0.2275891392584317*((IndexedParam[1] -0.22882456869508516)/14.45053220191546 -0.5811256814195772)**2)) + 84471.72555511817*exp(- (6.013500265657502*((IndexedParam[0] + 4.929217157135412)/14.643030012320084 -0.908216841775921)**2 + 0.2275891392584317*((IndexedParam[1] -0.22882456869508516)/14.45053220191546 -0.20132180755786522)**2)) + 12255.092909887433*exp(- (6.013500265657502*((IndexedParam[0] + 4.929217157135412)/14.643030012320084 -0.18501228557936236)**2 + 0.2275891392584317*((IndexedParam[1] -0.22882456869508516)/14.45053220191546 -0.09666279198240106)**2)) + 10809.781172446907*exp(- (6.013500265657502*((IndexedParam[0] + 4.929217157135412)/14.643030012320084 -0.22021941796179972)**2 + 0.2275891392584317*((IndexedParam[1] -0.22882456869508516)/14.45053220191546 -1.0)**2)) -88708.03595393896*exp(- (6.013500265657502*((IndexedParam[0] + 4.929217157135412)/14.643030012320084 -0.8266365897830592)**2 + 0.2275891392584317*((IndexedParam[1] -0.22882456869508516)/14.45053220191546 -0.16264387978612238)**2)) -59813.573740288615*exp(- (6.013500265657502*((IndexedParam[0] + 4.929217157135412)/14.643030012320084 -0.831288905218487)**2 + 0.2275891392584317*((IndexedParam[1] -0.22882456869508516)/14.45053220191546 -0.26866011456766936)**2)) + 108324.19783976674*exp(- (6.013500265657502*((IndexedParam[0] + 4.929217157135412)/14.643030012320084 -0.43739443999592303)**2 + 0.2275891392584317*((IndexedParam[1] -0.22882456869508516)/14.45053220191546 -0.9599385359524552)**2)) -49614.32382303849*exp(- (6.013500265657502*((IndexedParam[0] + 4.929217157135412)/14.643030012320084 -0.8327482651149929)**2 + 0.2275891392584317*((IndexedParam[1] -0.22882456869508516)/14.45053220191546 -0.3330572615505772)**2)) + 142695.51004280895*exp(- (6.013500265657502*((IndexedParam[0] + 4.929217157135412)/14.643030012320084 -0.17485274298531528)**2 + 0.2275891392584317*((IndexedParam[1] -0.22882456869508516)/14.45053220191546 -0.3711736045917253)**2)) -121245.37187102437*exp(- (6.013500265657502*((IndexedParam[0] + 4.929217157135412)/14.643030012320084 -0.0009932894634358945)**2 + 0.2275891392584317*((IndexedParam[1] -0.22882456869508516)/14.45053220191546 -0.2461895993357224)**2)) + 18647.48501136899*exp(- (6.013500265657502*((IndexedParam[0] + 4.929217157135412)/14.643030012320084 -0.8102253955808789)**2 + 0.2275891392584317*((IndexedParam[1] -0.22882456869508516)/14.45053220191546)**2)) -20623.57442067936*exp(- (6.013500265657502*((IndexedParam[0] + 4.929217157135412)/14.643030012320084 -0.6086081776493459)**2 + 0.2275891392584317*((IndexedParam[1] -0.22882456869508516)/14.45053220191546 -0.6109286075828757)**2)) -147160.23278250173*exp(- (6.013500265657502*((IndexedParam[0] + 4.929217157135412)/14.643030012320084 -0.1028770983224648)**2 + 0.2275891392584317*((IndexedParam[1] -0.22882456869508516)/14.45053220191546 -0.38063145554753214)**2)) -20776.542126195505*exp(- (6.013500265657502*((IndexedParam[0] + 4.929217157135412)/14.643030012320084 -0.0325313822086792)**2 + 0.2275891392584317*((IndexedParam[1] -0.22882456869508516)/14.45053220191546 -0.9084335925839453)**2)) -12589.361412829254*exp(- (6.013500265657502*((IndexedParam[0] + 4.929217157135412)/14.643030012320084 -1.0)**2 + 0.2275891392584317*((IndexedParam[1] -0.22882456869508516)/14.45053220191546 -0.046386199083146756)**2)) -15666.141539169475*exp(- (6.013500265657502*((IndexedParam[0] + 4.929217157135412)/14.643030012320084 -0.9074219145138307)**2 + 0.2275891392584317*((IndexedParam[1] -0.22882456869508516)/14.45053220191546 -0.5830026053427076)**2)) + 51639.604298226535*exp(- (6.013500265657502*((IndexedParam[0] + 4.929217157135412)/14.643030012320084 -0.7557460774371298)**2 + 0.2275891392584317*((IndexedParam[1] -0.22882456869508516)/14.45053220191546 -0.6383110566137417)**2)) -7807.097509779036*exp(- (6.013500265657502*((IndexedParam[0] + 4.929217157135412)/14.643030012320084 -0.5911925356865033)**2 + 0.2275891392584317*((IndexedParam[1] -0.22882456869508516)/14.45053220191546 -0.005381283583344741)**2)) -105272.5135188587*exp(- (6.013500265657502*((IndexedParam[0] + 4.929217157135412)/14.643030012320084 -0.21031274399063923)**2 + 0.2275891392584317*((IndexedParam[1] -0.22882456869508516)/14.45053220191546 -0.5495609776179707)**2)) + 103920.42776611447*exp(- (6.013500265657502*((IndexedParam[0] + 4.929217157135412)/14.643030012320084 -0.7830308832306688)**2 + 0.2275891392584317*((IndexedParam[1] -0.22882456869508516)/14.45053220191546 -0.24439265066740792)**2)) -32913.690877411515*exp(- (6.013500265657502*((IndexedParam[0] + 4.929217157135412)/14.643030012320084 -0.28803140536417743)**2 + 0.2275891392584317*((IndexedParam[1] -0.22882456869508516)/14.45053220191546 -0.8689715765112118)**2)) + 2454.5694318248425*exp(- (6.013500265657502*((IndexedParam[0] + 4.929217157135412)/14.643030012320084 -0.993941455353761)**2 + 0.2275891392584317*((IndexedParam[1] -0.22882456869508516)/14.45053220191546 -0.9026639746834018)**2)) + 99588.90511316061*exp(- (6.013500265657502*((IndexedParam[0] + 4.929217157135412)/14.643030012320084 -0.36343808704287006)**2 + 0.2275891392584317*((IndexedParam[1] -0.22882456869508516)/14.45053220191546 -0.6057949629205177)**2)) -18640.48436602205*exp(- (6.013500265657502*((IndexedParam[0] + 4.929217157135412)/14.643030012320084 -0.3586109792561233)**2 + 0.2275891392584317*((IndexedParam[1] -0.22882456869508516)/14.45053220191546 -0.3372905989731323)**2)) -47526.740941023454*exp(- (6.013500265657502*((IndexedParam[0] + 4.929217157135412)/14.643030012320084 -0.17758838147122427)**2 + 0.2275891392584317*((IndexedParam[1] -0.22882456869508516)/14.45053220191546 -0.23089727866378493)**2)) + 108538.97396348417*exp(- (6.013500265657502*((IndexedParam[0] + 4.929217157135412)/14.643030012320084 -0.04112204875223326)**2 + 0.2275891392584317*((IndexedParam[1] -0.22882456869508516)/14.45053220191546 -0.5088149538788017)**2)))\n",
       "--------------------------\n",
       "\n",
       "Model training errors:\n",
       "-----------------------\n",
       "Mean Squared Error (MSE)         : 0.005834565837912916\n",
       "Root Mean Squared Error (RMSE)   : 0.07638432979291575\n",
       "Goodness of fit (R2)             : 0.9999981019085779\n",
       "\n",
       "========================================================================================================================"
      ]
     },
     "execution_count": 25,
     "metadata": {},
     "output_type": "execute_result"
    }
   ],
   "source": [
    "krg_class.training()"
   ]
  },
  {
   "cell_type": "markdown",
   "metadata": {},
   "source": [
    "The returned information correspond to the Kriging model parameters.\n",
    "\n",
    "As we can see, the optimization problem was solved using SciPy's L-BFGS algorithm which makes use of gradients. A different algorithm  (Basinhopping) is used when no numerical gradients are computed (when numerical_gradients is set to False). The user should try this."
   ]
  },
  {
   "cell_type": "markdown",
   "metadata": {},
   "source": [
    "#### Step 5: View model metrics\n",
    "    \n",
    "We can view the RMSE and $R^2$ values of the Kriging fit based on the training data:"
   ]
  },
  {
   "cell_type": "code",
   "execution_count": 26,
   "metadata": {},
   "outputs": [
    {
     "name": "stdout",
     "output_type": "stream",
     "text": [
      "R2:  0.9999981019085779 \n",
      "RMSE:  0.07638432979291575\n"
     ]
    }
   ],
   "source": [
    "print('R2: ', krg_class.training_R2, '\\nRMSE: ', krg_class.training_rmse)"
   ]
  },
  {
   "cell_type": "markdown",
   "metadata": {},
   "source": [
    "#### Step 6 (Optional): Generate Pyomo expression output at any unsampled point\n",
    "\n",
    "\n",
    "Again, based on the model we trained, we evaluate the surrogate at a set of  off-design points:\n",
    "\n",
    "- $x_{1}=5$, $x_{2}=8$   (true function value: 57.9908)\n",
    "- $x_{1}=-3$, $x_{2}=10$ (true function value: 4.2461)\n",
    "- $x_{1}=-2$, $x_{2}=3$  (true function value: 50.8899)\n",
    "\n",
    "We do this by calling the function ``predict_output``:"
   ]
  },
  {
   "cell_type": "code",
   "execution_count": 27,
   "metadata": {},
   "outputs": [
    {
     "name": "stdout",
     "output_type": "stream",
     "text": [
      "[[57.6315211 ]\n",
      " [ 4.44393208]\n",
      " [50.80257304]]\n"
     ]
    }
   ],
   "source": [
    "unsampled_points = np.array([ [5, 8], [-3, 10], [-2, 3]])\n",
    "ys = krg_class.predict_output(unsampled_points)\n",
    "print(ys)"
   ]
  },
  {
   "cell_type": "markdown",
   "metadata": {},
   "source": [
    "The Kriging model performs very well, predicting all three points fairly accurately. \n",
    "\n",
    "For Kriging models, the Pyomo expression is generated by calling ``generate_expression`` on the results object: "
   ]
  },
  {
   "cell_type": "code",
   "execution_count": 28,
   "metadata": {},
   "outputs": [
    {
     "name": "stdout",
     "output_type": "stream",
     "text": [
      "3497.783920424059*exp(- (6.013500265657502*((x[1] + 4.929217157135412)/14.643030012320084 - 0.5518182560031254)**2 + 0.2275891392584317*((x[2] - 0.22882456869508516)/14.45053220191546 - 0.2731190901874679)**2)) - 142121.60135793686*exp(- (6.013500265657502*((x[1] + 4.929217157135412)/14.643030012320084 - 0.4300326512391472)**2 + 0.2275891392584317*((x[2] - 0.22882456869508516)/14.45053220191546 - 0.8610629174234938)**2)) + 89996.02381470054*exp(- (6.013500265657502*((x[1] + 4.929217157135412)/14.643030012320084)**2 + 0.2275891392584317*((x[2] - 0.22882456869508516)/14.45053220191546 - 0.11035664436222248)**2)) - 17409.736300878227*exp(- (6.013500265657502*((x[1] + 4.929217157135412)/14.643030012320084 - 0.6822668136056202)**2 + 0.2275891392584317*((x[2] - 0.22882456869508516)/14.45053220191546 - 0.8414199967160326)**2)) + 71048.94170223176*exp(- (6.013500265657502*((x[1] + 4.929217157135412)/14.643030012320084 - 0.13520535030959882)**2 + 0.2275891392584317*((x[2] - 0.22882456869508516)/14.45053220191546 - 0.5811256814195772)**2)) + 84471.72555511817*exp(- (6.013500265657502*((x[1] + 4.929217157135412)/14.643030012320084 - 0.908216841775921)**2 + 0.2275891392584317*((x[2] - 0.22882456869508516)/14.45053220191546 - 0.20132180755786522)**2)) + 12255.092909887433*exp(- (6.013500265657502*((x[1] + 4.929217157135412)/14.643030012320084 - 0.18501228557936236)**2 + 0.2275891392584317*((x[2] - 0.22882456869508516)/14.45053220191546 - 0.09666279198240106)**2)) + 10809.781172446907*exp(- (6.013500265657502*((x[1] + 4.929217157135412)/14.643030012320084 - 0.22021941796179972)**2 + 0.2275891392584317*((x[2] - 0.22882456869508516)/14.45053220191546 - 1.0)**2)) - 88708.03595393896*exp(- (6.013500265657502*((x[1] + 4.929217157135412)/14.643030012320084 - 0.8266365897830592)**2 + 0.2275891392584317*((x[2] - 0.22882456869508516)/14.45053220191546 - 0.16264387978612238)**2)) - 59813.573740288615*exp(- (6.013500265657502*((x[1] + 4.929217157135412)/14.643030012320084 - 0.831288905218487)**2 + 0.2275891392584317*((x[2] - 0.22882456869508516)/14.45053220191546 - 0.26866011456766936)**2)) + 108324.19783976674*exp(- (6.013500265657502*((x[1] + 4.929217157135412)/14.643030012320084 - 0.43739443999592303)**2 + 0.2275891392584317*((x[2] - 0.22882456869508516)/14.45053220191546 - 0.9599385359524552)**2)) - 49614.32382303849*exp(- (6.013500265657502*((x[1] + 4.929217157135412)/14.643030012320084 - 0.8327482651149929)**2 + 0.2275891392584317*((x[2] - 0.22882456869508516)/14.45053220191546 - 0.3330572615505772)**2)) + 142695.51004280895*exp(- (6.013500265657502*((x[1] + 4.929217157135412)/14.643030012320084 - 0.17485274298531528)**2 + 0.2275891392584317*((x[2] - 0.22882456869508516)/14.45053220191546 - 0.3711736045917253)**2)) - 121245.37187102437*exp(- (6.013500265657502*((x[1] + 4.929217157135412)/14.643030012320084 - 0.0009932894634358945)**2 + 0.2275891392584317*((x[2] - 0.22882456869508516)/14.45053220191546 - 0.2461895993357224)**2)) + 18647.48501136899*exp(- (6.013500265657502*((x[1] + 4.929217157135412)/14.643030012320084 - 0.8102253955808789)**2 + 0.2275891392584317*((x[2] - 0.22882456869508516)/14.45053220191546)**2)) - 20623.57442067936*exp(- (6.013500265657502*((x[1] + 4.929217157135412)/14.643030012320084 - 0.6086081776493459)**2 + 0.2275891392584317*((x[2] - 0.22882456869508516)/14.45053220191546 - 0.6109286075828757)**2)) - 147160.23278250173*exp(- (6.013500265657502*((x[1] + 4.929217157135412)/14.643030012320084 - 0.1028770983224648)**2 + 0.2275891392584317*((x[2] - 0.22882456869508516)/14.45053220191546 - 0.38063145554753214)**2)) - 20776.542126195505*exp(- (6.013500265657502*((x[1] + 4.929217157135412)/14.643030012320084 - 0.0325313822086792)**2 + 0.2275891392584317*((x[2] - 0.22882456869508516)/14.45053220191546 - 0.9084335925839453)**2)) - 12589.361412829254*exp(- (6.013500265657502*((x[1] + 4.929217157135412)/14.643030012320084 - 1.0)**2 + 0.2275891392584317*((x[2] - 0.22882456869508516)/14.45053220191546 - 0.046386199083146756)**2)) - 15666.141539169475*exp(- (6.013500265657502*((x[1] + 4.929217157135412)/14.643030012320084 - 0.9074219145138307)**2 + 0.2275891392584317*((x[2] - 0.22882456869508516)/14.45053220191546 - 0.5830026053427076)**2)) + 51639.604298226535*exp(- (6.013500265657502*((x[1] + 4.929217157135412)/14.643030012320084 - 0.7557460774371298)**2 + 0.2275891392584317*((x[2] - 0.22882456869508516)/14.45053220191546 - 0.6383110566137417)**2)) - 7807.097509779036*exp(- (6.013500265657502*((x[1] + 4.929217157135412)/14.643030012320084 - 0.5911925356865033)**2 + 0.2275891392584317*((x[2] - 0.22882456869508516)/14.45053220191546 - 0.005381283583344741)**2)) - 105272.5135188587*exp(- (6.013500265657502*((x[1] + 4.929217157135412)/14.643030012320084 - 0.21031274399063923)**2 + 0.2275891392584317*((x[2] - 0.22882456869508516)/14.45053220191546 - 0.5495609776179707)**2)) + 103920.42776611447*exp(- (6.013500265657502*((x[1] + 4.929217157135412)/14.643030012320084 - 0.7830308832306688)**2 + 0.2275891392584317*((x[2] - 0.22882456869508516)/14.45053220191546 - 0.24439265066740792)**2)) - 32913.690877411515*exp(- (6.013500265657502*((x[1] + 4.929217157135412)/14.643030012320084 - 0.28803140536417743)**2 + 0.2275891392584317*((x[2] - 0.22882456869508516)/14.45053220191546 - 0.8689715765112118)**2)) + 2454.5694318248425*exp(- (6.013500265657502*((x[1] + 4.929217157135412)/14.643030012320084 - 0.993941455353761)**2 + 0.2275891392584317*((x[2] - 0.22882456869508516)/14.45053220191546 - 0.9026639746834018)**2)) + 99588.90511316061*exp(- (6.013500265657502*((x[1] + 4.929217157135412)/14.643030012320084 - 0.36343808704287006)**2 + 0.2275891392584317*((x[2] - 0.22882456869508516)/14.45053220191546 - 0.6057949629205177)**2)) - 18640.48436602205*exp(- (6.013500265657502*((x[1] + 4.929217157135412)/14.643030012320084 - 0.3586109792561233)**2 + 0.2275891392584317*((x[2] - 0.22882456869508516)/14.45053220191546 - 0.3372905989731323)**2)) - 47526.740941023454*exp(- (6.013500265657502*((x[1] + 4.929217157135412)/14.643030012320084 - 0.17758838147122427)**2 + 0.2275891392584317*((x[2] - 0.22882456869508516)/14.45053220191546 - 0.23089727866378493)**2)) + 108538.97396348417*exp(- (6.013500265657502*((x[1] + 4.929217157135412)/14.643030012320084 - 0.04112204875223326)**2 + 0.2275891392584317*((x[2] - 0.22882456869508516)/14.45053220191546 - 0.5088149538788017)**2)) + 387.0313833873752\n"
     ]
    }
   ],
   "source": [
    "print(krg_class.generate_expression([m.x[1], m.x[2]]))"
   ]
  },
  {
   "cell_type": "markdown",
   "metadata": {},
   "source": [
    "As we can see, expressing a Kriging model algebraically is pretty complicated!\n",
    "\n",
    "Parity plots for the Kriging model may be viewed with the ``parity_residual_plots`` method.\n",
    "\n",
    "Further information about using PySMO's Kriging tool and features can be found in the [documentation](https://idaes-pse.readthedocs.io/en/latest/user_guide/modeling_extensions/surrogate/pysmo/pysmo_kriging.html)."
   ]
  },
  {
   "cell_type": "markdown",
   "metadata": {},
   "source": [
    "## Summary\n",
    "\n",
    "PySMO allows IDAES users to sample design spaces and generate different types of surrogate models. Further information about PySMO's capabilities may be found in the documentation."
   ]
  }
 ],
 "metadata": {
  "kernelspec": {
   "display_name": "Python 3 (ipykernel)",
   "language": "python",
   "name": "python3"
  },
  "language_info": {
   "codemirror_mode": {
    "name": "ipython",
    "version": 3
   },
   "file_extension": ".py",
   "mimetype": "text/x-python",
   "name": "python",
   "nbconvert_exporter": "python",
   "pygments_lexer": "ipython3",
   "version": "3.9.12"
  }
 },
 "nbformat": 4,
 "nbformat_minor": 2
}
