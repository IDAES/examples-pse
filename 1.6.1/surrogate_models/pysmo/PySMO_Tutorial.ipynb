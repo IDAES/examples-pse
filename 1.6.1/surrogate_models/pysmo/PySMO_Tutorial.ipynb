{
 "cells": [
  {
   "cell_type": "markdown",
   "metadata": {},
   "source": [
    "# PySMO Tutorial\n",
    "\n",
    "**Python-based Surrogate Modelling Objects** (PySMO) provides tools for generating different types of reduced order models. PySMO currently provides tools for sampling and surrogate model generation.\n",
    "\n",
    "## Installation\n",
    "\n",
    "**PySMO** is installed by default as part of IDAES. For instructions on installing IDAES, see the [online documentation](https://idaes-pse.readthedocs.io/en/stable/).\n"
   ]
  },
  {
   "cell_type": "markdown",
   "metadata": {},
   "source": [
    "## One-Shot Sampling with PySMO\n",
    "\n",
    "The PySMO package offers five common sampling methods for one-shot design:\n",
    "\n",
    "* Latin Hypercube Sampling (LHS)\n",
    "* Full-Factorial Sampling\n",
    "* Halton Sampling\n",
    "* Hammersley Sampling\n",
    "* Centroidal voronoi tessellation (CVT) sampling"
   ]
  },
  {
   "cell_type": "markdown",
   "metadata": {},
   "source": [
    "PySMO provides two modes for data sampling: creation and selection.\n",
    "- In creation mode, PySMO creates a specified number of sample points from the bounds provided by the user.\n",
    "- In selection mode, PySMO selects a specified number of data points from a user-supplied dataset or file."
   ]
  },
  {
   "cell_type": "markdown",
   "metadata": {},
   "source": [
    "### Generating samples: \n",
    "For demonstration purposes, let us consider a problem for which we need twenty-five (25) samples of temperature and pressure from within the ranges T = 273K - 373K, P = 1 MPa - 50 MPa. Let us generate these samples in PySMO."
   ]
  },
  {
   "cell_type": "markdown",
   "metadata": {},
   "source": [
    "#### Step 1: Import PySMO's sampling tool\n",
    "For this demonstration, we will attempt to generate the samples using the Hammersley sampling method."
   ]
  },
  {
   "cell_type": "code",
   "execution_count": 1,
   "metadata": {},
   "outputs": [],
   "source": [
    "from idaes.surrogate.pysmo.sampling import HammersleySampling"
   ]
  },
  {
   "cell_type": "markdown",
   "metadata": {},
   "source": [
    "#### Step 2: Specify sampling information and initialize class\n",
    "\n",
    "All the sampling tools (except full-factorial sampling) require the same keyword arguments:\n",
    "\n",
    "          -  data_input             : must be a list of lists containing the problem bounds (when creating points), \n",
    "                                      or an input dataset (when selecting points from a dataset)\n",
    "          -  number_of_samples      : number of samples to be created or selected.\n",
    "          -  sampling_type          : \"creation\" or \"selection\".\n",
    "\n",
    "For full factorial sampling, the user needs to enter a list of points in each dimension in place of the number of samples. Full-factorial sampling requires other inputs - details may be found in the [documentation](https://idaes-pse.readthedocs.io/en/stable/surrogate/pysmo/index.html)."
   ]
  },
  {
   "cell_type": "markdown",
   "metadata": {},
   "source": [
    "For our example, we will create the bounds and then initialize the class with the number of samples."
   ]
  },
  {
   "cell_type": "code",
   "execution_count": 2,
   "metadata": {},
   "outputs": [
    {
     "name": "stdout",
     "output_type": "stream",
     "text": [
      "Sampling type:  creation \n",
      "\n"
     ]
    }
   ],
   "source": [
    "bounds_info = [[273, 1],[373, 50]]\n",
    "init_data = HammersleySampling(data_input=bounds_info, number_of_samples=25, sampling_type=\"creation\")"
   ]
  },
  {
   "cell_type": "markdown",
   "metadata": {},
   "source": [
    "#### Step 3: Create the samples\n",
    "The samples are created by calling the ``sample_points`` method on the initialized class."
   ]
  },
  {
   "cell_type": "code",
   "execution_count": 3,
   "metadata": {},
   "outputs": [
    {
     "name": "stdout",
     "output_type": "stream",
     "text": [
      "[[273.        1.     ]\n",
      " [277.       25.5    ]\n",
      " [281.       13.25   ]\n",
      " [285.       37.75   ]\n",
      " [289.        7.125  ]\n",
      " [293.       31.625  ]\n",
      " [297.       19.375  ]\n",
      " [301.       43.875  ]\n",
      " [305.        4.0625 ]\n",
      " [309.       28.5625 ]\n",
      " [313.       16.3125 ]\n",
      " [317.       40.8125 ]\n",
      " [321.       10.1875 ]\n",
      " [325.       34.6875 ]\n",
      " [329.       22.4375 ]\n",
      " [333.       46.9375 ]\n",
      " [337.        2.53125]\n",
      " [341.       27.03125]\n",
      " [345.       14.78125]\n",
      " [349.       39.28125]\n",
      " [353.        8.65625]\n",
      " [357.       33.15625]\n",
      " [361.       20.90625]\n",
      " [365.       45.40625]\n",
      " [369.        5.59375]]\n"
     ]
    }
   ],
   "source": [
    "samples = init_data.sample_points()\n",
    "print(samples)"
   ]
  },
  {
   "cell_type": "markdown",
   "metadata": {},
   "source": [
    "Simple as that, the samples have been created!\n",
    "\n",
    "Now, let us visualize the samples in a 2-D plot."
   ]
  },
  {
   "cell_type": "markdown",
   "metadata": {},
   "source": [
    "#### Step 4: Visualize samples with matplotlib"
   ]
  },
  {
   "cell_type": "code",
   "execution_count": 4,
   "metadata": {},
   "outputs": [
    {
     "data": {
      "image/png": "[encoded data removed]",
      "text/plain": [
       "<Figure size 432x288 with 1 Axes>"
      ]
     },
     "metadata": {
      "needs_background": "light"
     },
     "output_type": "display_data"
    }
   ],
   "source": [
    "from matplotlib import pyplot as plt\n",
    "plt.plot(samples[:, 0], samples[:, 1], 'o')\n",
    "plt.xlabel(r'Temperature', fontsize=11)\n",
    "plt.xlabel(r'Pressure', fontsize=11)\n",
    "plt.xlim(272, 374)\n",
    "plt.ylim(0, 50)\n",
    "plt.show()"
   ]
  },
  {
   "cell_type": "markdown",
   "metadata": {},
   "source": [
    "## Generating surrogates with PySMO\n",
    "\n",
    "PySMO currently provides tools for generating three types of surrogates:\n",
    "\n",
    "- Polynomial surrogates\n",
    "- Radial basis function (RBF) surrogates, and\n",
    "- Kriging surrogates\n",
    "\n",
    "Details about thee various methods may be found in the [documentation](https://idaes-pse.readthedocs.io/en/stable/surrogate/pysmo/index.html)."
   ]
  },
  {
   "cell_type": "markdown",
   "metadata": {},
   "source": [
    "### Generating polynomial models\n",
    "\n",
    "The ``PolynomialRegression`` class trains polynomial models from data.\n",
    "\n",
    "As an example, let us generate a surrogate for the Brainin function. \n",
    "\n",
    "The true Brainin function is given by the expression:\n",
    " \n",
    " \\begin{gather}\n",
    "\\hat{y}(x_{1},x_{2})=\\left(x_{2}-\\frac{5.1x_{1}^{2}}{4\\pi^{2}}+\\frac{5x_{1}}{\\pi}-6\\right)^{2}+10\\left[\\left(1-\\frac{1}{8\\pi}\\right)\\cos\\left(x_{1}\\right)+1\\right]+5x_{1}\\nonumber \\\\\n",
    "x_{1}\\in\\left[-5,10\\right];x_{2}\\in\\left[0,15\\right]\n",
    "\\end{gather}\n",
    "\n",
    "We have generated 30 points from the function and saved the information in a text file called \"brainin_30.txt\". We will use this data to train a simple polynomial model. The data is in XY format, with the outputs $y$ in the third column."
   ]
  },
  {
   "cell_type": "markdown",
   "metadata": {},
   "source": [
    "#### Step 1: Import and visualize the data"
   ]
  },
  {
   "cell_type": "code",
   "execution_count": 5,
   "metadata": {},
   "outputs": [
    {
     "name": "stdout",
     "output_type": "stream",
     "text": [
      "[[ 3.15107413e+00  4.17554078e+00  4.03815759e+00]\n",
      " [ 1.36776386e+00  1.26716420e+01  8.60127077e+01]\n",
      " [-4.92921716e+00  1.82353681e+00  2.41888089e+02]\n",
      " [ 5.06123627e+00  1.23877913e+01  1.37242426e+02]\n",
      " [-2.94940115e+00  8.62639994e+00  1.07587601e+01]\n",
      " [ 8.36982931e+00  3.13803183e+00  7.24964869e+00]\n",
      " [-2.22007671e+00  1.62565336e+00  7.71988248e+01]\n",
      " [-1.70453761e+00  1.46793568e+01  3.99820398e+01]\n",
      " [ 7.17524724e+00  2.57911519e+00  1.78453527e+01]\n",
      " [ 7.24337123e+00  4.11110621e+00  2.36937839e+01]\n",
      " [ 1.47556275e+00  1.41004473e+01  1.14292050e+02]\n",
      " [ 7.26474068e+00  5.04167925e+00  2.96703147e+01]\n",
      " [-2.36884319e+00  5.59248069e+00  2.71582680e+01]\n",
      " [-4.91467239e+00  3.78639530e+00  1.84993457e+02]\n",
      " [ 6.93493763e+00  2.28824569e-01  1.85302363e+01]\n",
      " [ 3.98265065e+00  9.05706809e+00  5.75698037e+01]\n",
      " [-3.42278472e+00  5.72915167e+00  5.30702398e+01]\n",
      " [-4.45285915e+00  1.33561735e+01  1.27882794e+01]\n",
      " [ 9.71381286e+00  8.99129832e-01  4.14567857e+00]\n",
      " [ 8.35818917e+00  8.65352249e+00  5.34055688e+01]\n",
      " [ 6.13719534e+00  9.45275905e+00  8.93001840e+01]\n",
      " [ 3.72763289e+00  3.06586980e-01  4.42072359e+00]\n",
      " [-1.84960133e+00  8.17027317e+00  8.83431235e+00]\n",
      " [ 6.53672757e+00  3.76042844e+00  2.62862798e+01]\n",
      " [-7.11564644e-01  1.27859263e+01  4.84986100e+01]\n",
      " [ 9.62509740e+00  1.32727994e+01  1.13457908e+02]\n",
      " [ 3.92617659e-01  8.98288419e+00  3.17439666e+01]\n",
      " [ 3.21934175e-01  5.10285323e+00  1.92673649e+01]\n",
      " [-2.32878516e+00  3.56541313e+00  5.02034858e+01]\n",
      " [-4.32706576e+00  7.58147144e+00  6.60457721e+01]] \n",
      "\n",
      "Dataset shape: (30, 3)\n"
     ]
    }
   ],
   "source": [
    "import numpy as np\n",
    "brainin_data = np.loadtxt('brainin_30.txt')\n",
    "print(brainin_data,'\\n\\nDataset shape:', brainin_data.shape)"
   ]
  },
  {
   "cell_type": "markdown",
   "metadata": {},
   "source": [
    "Let us visualize the data:"
   ]
  },
  {
   "cell_type": "code",
   "execution_count": 10,
   "metadata": {},
   "outputs": [
    {
     "data": {
      "text/plain": [
       "Text(0.5, 0, '$y$')"
      ]
     },
     "execution_count": 10,
     "metadata": {},
     "output_type": "execute_result"
    },
    {
     "data": {
      "image/png": "[encoded data removed]",
      "text/plain": [
       "<Figure size 432x288 with 1 Axes>"
      ]
     },
     "metadata": {
      "needs_background": "light"
     },
     "output_type": "display_data"
    }
   ],
   "source": [
    "from mpl_toolkits.mplot3d import Axes3D \n",
    "from matplotlib import pyplot as plt\n",
    "fig1 = plt.figure(figsize=(6, 4), tight_layout=True)\n",
    "ax = fig1.add_subplot(111, projection='3d')\n",
    "ax.scatter3D(brainin_data[:, 0], brainin_data[:, 1], brainin_data[:, 2], cmap=brainin_data[:, 2])\n",
    "ax.set_xlabel(r'$x_{1}$', fontsize=11)\n",
    "ax.set_ylabel(r'$x_{2}$', fontsize=11)\n",
    "ax.set_zlabel(r'$y$', fontsize=11)"
   ]
  },
  {
   "cell_type": "markdown",
   "metadata": {},
   "source": [
    "#### Step 2: Import the polynomial model tool"
   ]
  },
  {
   "cell_type": "code",
   "execution_count": 2,
   "metadata": {},
   "outputs": [],
   "source": [
    "from idaes.surrogate.pysmo.polynomial_regression import PolynomialRegression"
   ]
  },
  {
   "cell_type": "markdown",
   "metadata": {},
   "source": [
    "#### Step 3: Specify the regression settings and initialize the PolynomialRegression class\n",
    "    \n",
    "The PolynomialRegression class takes a keyword arguments:\n",
    "\n",
    "      -  original_data_input           : The dataset for regression training. training_data is expected to contain xy_data, \n",
    "                                         with the output values (y) in the last column.\n",
    "      -  regression_data_input         : same as above\n",
    "      -  maximum_polynomial_order      : maximum order of the polynomial to be generated  \n",
    "\n",
    "It also takes a number of optional arguments:\n",
    "\n",
    "      - multinomials                  : True/False option for specifying second-order bi-variate terms. default is False\n",
    "      - training_split                : The training/cross-validation split of training data. Must be between 0 and 1. \n",
    "                                        Default is 0.75\n",
    "      - fname                         : Filename for saving results (.pickle extension). \n",
    "      - overwrite                     : Option determining whether any existing file with the same name supplied in 'fname'  \n",
    "                                        should be overwritten."
   ]
  },
  {
   "cell_type": "markdown",
   "metadata": {},
   "source": [
    "For this example, let us consider a 4th order polynomial with interaction terms. We will split the data 80/20 betweeen training and cross-validation."
   ]
  },
  {
   "cell_type": "code",
   "execution_count": 15,
   "metadata": {
    "scrolled": true
   },
   "outputs": [
    {
     "name": "stdout",
     "output_type": "stream",
     "text": [
      "\n",
      "===========================Polynomial Regression===============================================\n",
      "\n",
      "No iterations will be run.\n",
      "Default parameter estimation method is used.\n",
      "Parameter estimation method:  pyomo \n",
      "\n"
     ]
    }
   ],
   "source": [
    "poly_class = PolynomialRegression(original_data_input=brainin_data, regression_data_input=brainin_data, \n",
    "                                  maximum_polynomial_order=4, multinomials=1, training_split=0.8, number_of_crossvalidations=10, overwrite=True)"
   ]
  },
  {
   "cell_type": "markdown",
   "metadata": {},
   "source": [
    "#### Step 4: Extract variable names\n",
    "Next, we extract Pyomo variable names from the dataset. This should be done always."
   ]
  },
  {
   "cell_type": "code",
   "execution_count": 16,
   "metadata": {},
   "outputs": [],
   "source": [
    "vars = poly_class.get_feature_vector()"
   ]
  },
  {
   "cell_type": "markdown",
   "metadata": {},
   "source": [
    "We can view the variables using Pyomo's pprint function:"
   ]
  },
  {
   "cell_type": "code",
   "execution_count": 17,
   "metadata": {},
   "outputs": [
    {
     "name": "stdout",
     "output_type": "stream",
     "text": [
      "IndexedParam : Size=2, Index=_unknown_, Domain=Any, Default=None, Mutable=True\n",
      "    Key : Value\n",
      "      0 :     0\n",
      "      1 :     0\n"
     ]
    }
   ],
   "source": [
    "vars.pprint()"
   ]
  },
  {
   "cell_type": "markdown",
   "metadata": {},
   "source": [
    "#### Step 5: Specify additional regression terms, if required.\n",
    "\n",
    "This is one of the unique features of PySMO -  it allows the user to specify additional regression features if they want.\n",
    "The additional features must be specified in terms of the Pyomo variables created when calling the ``get_feature_vector()`` \n",
    "\n",
    "For this example, let us create three additional features: $x_{1}^{2}x_{2}^{2}$, $exp(x_1)$ and $exp(x_2)$. We do this by calling the ``set_additional_terms`` function:"
   ]
  },
  {
   "cell_type": "code",
   "execution_count": 18,
   "metadata": {},
   "outputs": [],
   "source": [
    "from pyomo.environ import exp\n",
    "poly_class.set_additional_terms([vars[0] * vars[0] * vars[1] * vars[1], exp(vars[0]), exp(vars[1])])"
   ]
  },
  {
   "cell_type": "markdown",
   "metadata": {},
   "source": [
    "That's it - those features will now exist in the model. \n",
    "\n",
    "Note that ``set_additional_terms`` an optional call - the regression process works just fine without it."
   ]
  },
  {
   "cell_type": "markdown",
   "metadata": {},
   "source": [
    "#### Step 6: Train the surrogate and view results\n",
    "Next, we train the polynomial surrogate by calling ``poly_training``:"
   ]
  },
  {
   "cell_type": "code",
   "execution_count": 19,
   "metadata": {},
   "outputs": [
    {
     "name": "stdout",
     "output_type": "stream",
     "text": [
      "No iterations will be run.\n",
      "\n",
      "Best surrogate model is of order 3  with a cross-val S.S. Error  of 25.669029\n",
      "\n",
      "------------------------------------------------------------\n",
      "The final coefficients of the regression terms are: \n",
      "\n",
      "k               | 55.454707\n",
      "(x_ 1 )^ 1      | -19.411087\n",
      "(x_ 2 )^ 1      | -16.017238\n",
      "(x_ 1 )^ 2      | 3.985434\n",
      "(x_ 2 )^ 2      | 0.988744\n",
      "(x_ 1 )^ 3      | -0.357903\n",
      "(x_ 2 )^ 3      | 0.025988\n",
      "x_ 1 .x_ 2      | 3.122003\n",
      "\n",
      "The coefficients of the extra terms in additional_regression_features are:\n",
      "\n",
      "Coeff. additional_regression_features[ 1 ]:  -0.018173\n",
      "Coeff. additional_regression_features[ 2 ]:  0.004842\n",
      "Coeff. additional_regression_features[ 3 ]:  -1.5e-05\n",
      "\n",
      "Regression model performance on training data:\n",
      "Order:  3  / MAE: 6.264779  / MSE: 65.522603  / R^2: 0.978684\n"
     ]
    }
   ],
   "source": [
    "result = poly_class.poly_training()"
   ]
  },
  {
   "cell_type": "markdown",
   "metadata": {},
   "source": [
    "The polynomial model seems to fit well based on the $R^2$. It should be noted that the metrics are only an indication of how well of how well the model fit the training data - the user needs to verify the model's performance on a test data set if possible.\n",
    "\n",
    "We can view the parity and residual plots for the fit:"
   ]
  },
  {
   "cell_type": "code",
   "execution_count": 20,
   "metadata": {},
   "outputs": [
    {
     "ename": "AttributeError",
     "evalue": "'PolynomialRegression' object has no attribute 'parity_residual_plots'",
     "output_type": "error",
     "traceback": [
      "\u001b[1;31m---------------------------------------------------------------------------\u001b[0m",
      "\u001b[1;31mAttributeError\u001b[0m                            Traceback (most recent call last)",
      "\u001b[1;32m<ipython-input-20-3f4878fe9302>\u001b[0m in \u001b[0;36m<module>\u001b[1;34m\u001b[0m\n\u001b[1;32m----> 1\u001b[1;33m \u001b[0mpoly_class\u001b[0m\u001b[1;33m.\u001b[0m\u001b[0mparity_residual_plots\u001b[0m\u001b[1;33m(\u001b[0m\u001b[0mresult\u001b[0m\u001b[1;33m)\u001b[0m\u001b[1;33m\u001b[0m\u001b[1;33m\u001b[0m\u001b[0m\n\u001b[0m",
      "\u001b[1;31mAttributeError\u001b[0m: 'PolynomialRegression' object has no attribute 'parity_residual_plots'"
     ]
    }
   ],
   "source": [
    "poly_class.parity_residual_plots(result)"
   ]
  },
  {
   "cell_type": "markdown",
   "metadata": {},
   "source": [
    "PySMO is also able to compute the confidence intervals on the regression coefficients obtained by calling ``confint_regression()``. This is left as an exercise for the user.\n",
    "\n",
    "#### Step 8 (Optional): Generate Pyomo expression \n",
    "\n",
    "If the user wishes, they can generate the Pyomo expression for the polynomial fit using PySMO's ``generate_expression``.\n",
    "\n",
    "To do this, the user must pass in a list of Pyomo variables corresponding to each variable in the input dataset. The user should note that ``generate_expression`` should be called on the result object, not the class object.\n",
    "\n",
    "As a demonstration, let us create the variables $x_1$ and $x_2$ and generate the pyomo expression based on them:"
   ]
  },
  {
   "cell_type": "code",
   "execution_count": 21,
   "metadata": {},
   "outputs": [
    {
     "name": "stdout",
     "output_type": "stream",
     "text": [
      "55.45470669461334 - 19.411086603309496*x[1] - 16.01723829861928*x[2] + 3.9854335792630353*x[1]**2 + 0.988743548825875*x[2]**2 - 0.3579031329652693*x[1]**3 + 0.02598776234911286*x[2]**3 + 3.1220029562251406*(x[2]*x[1]) - 0.01817305879951843*(x[1]*x[1]*x[2]*x[2]) + 0.004842198641139758*exp(x[1]) - 1.5345760333851377e-05*exp(x[2])\n"
     ]
    }
   ],
   "source": [
    "from pyomo.environ import Var, ConcreteModel\n",
    "m = ConcreteModel()\n",
    "m.x = Var([1, 2])\n",
    "print(result.generate_expression([m.x[1], m.x[2]]))"
   ]
  },
  {
   "cell_type": "markdown",
   "metadata": {},
   "source": [
    "#### Step 9 (Optional): Predict output at any unsampled point\n",
    "\n",
    "Based on the model we trained, we can predict the surrogate value at any previously unsampled point. \n",
    "\n",
    "Let us evaluate the surrogate at three points:\n",
    "\n",
    "- $x_{1}=5$, $x_{2}=8$ (true function value: 57.9908)\n",
    "- $x_{1}=-3$, $x_{2}=10$ (true function value: 4.2461)\n",
    "- $x_{1}=-2$, $x_{2}=3$. (true function value: 50.8899)\n",
    "\n",
    "We will pass the points in as an array."
   ]
  },
  {
   "cell_type": "code",
   "execution_count": 22,
   "metadata": {},
   "outputs": [
    {
     "name": "stdout",
     "output_type": "stream",
     "text": [
      "[[58.2207617 ]\n",
      " [13.55637416]\n",
      " [55.24458515]]\n"
     ]
    }
   ],
   "source": [
    "unsampled_points = np.array([ [5, 8], [-3, 10], [-2, 3]])\n",
    "ys = poly_class.poly_predict_output(result, unsampled_points)\n",
    "print(ys)"
   ]
  },
  {
   "cell_type": "markdown",
   "metadata": {},
   "source": [
    "The model performs fairly well in predicting the value at two of our sampled points but is off on the value at [-3, 2]. For better model performance, additional training data is needed in this region. We will leave this to the user to try.\n",
    "\n",
    "Further information about using PySMO's polynomial regression tool can be found in the [documentation](https://idaes-pse.readthedocs.io/en/stable/surrogate/pysmo/pysmo_polyregression.html)."
   ]
  },
  {
   "cell_type": "markdown",
   "metadata": {},
   "source": [
    "### Generating RBF models\n",
    "\n",
    "The ``RadialBasisFunction`` class trains RBF models from data. For details about RBF models, the user should consult the documentation.\n",
    "\n",
    "As an example, we will again consider the Brainin function. The same dataset loaded previously will be used."
   ]
  },
  {
   "cell_type": "markdown",
   "metadata": {},
   "source": [
    "#### Step 1: Import the data and the RBF tool"
   ]
  },
  {
   "cell_type": "code",
   "execution_count": 23,
   "metadata": {},
   "outputs": [],
   "source": [
    "import numpy as np\n",
    "brainin_data = np.loadtxt('brainin_30.txt')\n",
    "from idaes.surrogate.pysmo.radial_basis_function import RadialBasisFunctions"
   ]
  },
  {
   "cell_type": "markdown",
   "metadata": {},
   "source": [
    "#### Step 2: Specify the RBF settings and initialize the RadialBasisFunctions class\n",
    "    \n",
    "The RadialBasisFunctions class takes a number of keyword arguments:\n",
    "\n",
    "      -  XY_data                       : The dataset forRBF training. training_data is expected to contain xy_data, \n",
    "                                         with the output values (y) in the last column.\n",
    "\n",
    "\n",
    "It also takes a number of optional arguments:\n",
    "\n",
    "      -  regularization                : Boolean variable determining whether regularization is done. Default is True.\n",
    "      -  basis_function                : Basis function transformation to be applied to the training data. PySMO offers \n",
    "                                         six basis function types including the Gaussian and Spline transformations. User \n",
    "                                         should consult documentation for full list of options.   \n",
    "      -  fname                         : Filename for saving (.pickle extension)\n",
    "      - overwrite                      : Option determining whether any existing file with the same name supplied in 'fname'  \n",
    "                                         should be overwritten."
   ]
  },
  {
   "cell_type": "markdown",
   "metadata": {},
   "source": [
    "For this demonstration, we will train an RBF model with a Gaussian basis function:"
   ]
  },
  {
   "cell_type": "code",
   "execution_count": 24,
   "metadata": {},
   "outputs": [
    {
     "name": "stdout",
     "output_type": "stream",
     "text": [
      "Default parameter estimation method is used.\n",
      "\n",
      "Parameter estimation method:  algebraic\n",
      "Basis function:  gaussian\n",
      "Regularization done:  True\n"
     ]
    }
   ],
   "source": [
    "rbf_class = RadialBasisFunctions(XY_data=brainin_data, basis_function='gaussian', overwrite=True)"
   ]
  },
  {
   "cell_type": "markdown",
   "metadata": {},
   "source": [
    "#### Step 3: Extract variable names\n",
    "Next, we extract Pyomo variable names from the dataset."
   ]
  },
  {
   "cell_type": "code",
   "execution_count": 25,
   "metadata": {},
   "outputs": [],
   "source": [
    "vars = rbf_class.get_feature_vector()"
   ]
  },
  {
   "cell_type": "markdown",
   "metadata": {},
   "source": [
    "#### Step 4: Train the RBF surrogate\n",
    "Next, we train the RBF surrogate by calling ``rbf_training``:"
   ]
  },
  {
   "cell_type": "code",
   "execution_count": 26,
   "metadata": {},
   "outputs": [
    {
     "name": "stdout",
     "output_type": "stream",
     "text": [
      "===========================================================================================================\n",
      "0.001    |     1e-05    |     1.330188999805128    |     7.936652569388682e+18    |     1762.2908841971446    |     2999999.7996930624    |     6.661337702980191e-10\n",
      "0.001    |     2e-05    |     1.32313214863582    |     7.936652569388682e+18    |     1762.2908841971446    |     1500000.3998815753    |     3.3306699617909336e-10\n",
      "0.001    |     5e-05    |     1.3204882439269001    |     7.936652569388682e+18    |     1762.2908841971446    |     600000.759883065    |     1.3322693168295374e-10\n",
      "0.001    |     7.5e-05    |     1.320318494068603    |     7.936652569388682e+18    |     1762.2908841971446    |     400000.839927288    |     8.881802847133535e-11\n",
      "0.001    |     0.0001    |     1.3203209127584747    |     7.936652569388682e+18    |     1762.2908841971446    |     300000.87994025816    |     6.661357686349637e-11\n",
      "0.001    |     0.0002    |     1.3204538291266945    |     7.936652569388682e+18    |     1762.2908841971446    |     150000.93996802683    |     3.3306899453583855e-11\n",
      "0.001    |     0.0005    |     1.320618015750075    |     7.936652569388682e+18    |     1762.2908841971446    |     60000.975986938625    |     1.3322893008136078e-11\n",
      "0.001    |     0.00075    |     1.3206637488446509    |     7.936652569388682e+18    |     1762.2908841971446    |     40000.983991322566    |     8.882002686965721e-12\n",
      "0.001    |     0.001    |     1.3206877851838001    |     7.936652569388682e+18    |     1762.2908841971446    |     30000.987993464507    |     6.661557526369434e-12\n",
      "0.001    |     0.002    |     1.3207246211571326    |     7.936652569388682e+18    |     1762.2908841971446    |     15000.993996724195    |     3.3308897854853903e-12\n",
      "0.001    |     0.005    |     1.3207441010685592    |     7.936652569388682e+18    |     1762.2908841971446    |     6000.997598686372    |     1.332489140956377e-12\n",
      "0.001    |     0.0075    |     1.3207457685491735    |     7.936652569388682e+18    |     1762.2908841971446    |     4000.9983991229733    |     8.884001088389433e-13\n",
      "0.001    |     0.01    |     1.3207447379585582    |     7.936652569388682e+18    |     1762.2908841971446    |     3000.998799341891    |     6.663555927803635e-13\n",
      "0.001    |     0.02    |     1.320733880721723    |     7.936652569388682e+18    |     1762.2908841971446    |     1500.9993996709732    |     3.332888186926504e-13\n",
      "0.001    |     0.05    |     1.3206922424549306    |     7.936652569388682e+18    |     1762.2908841971446    |     600.999759868342    |     1.334487542400047e-13\n",
      "0.001    |     0.075    |     1.3206569542287019    |     7.936652569388682e+18    |     1762.2908841971446    |     400.99983991221876    |     8.903985102830942e-14\n",
      "0.001    |     0.1    |     1.3206222275255641    |     7.936652569388682e+18    |     1762.2908841971446    |     300.99987993416397    |     6.68353994224633e-14\n",
      "0.001    |     0.2    |     1.3204909253945507    |     7.936652569388682e+18    |     1762.2908841971446    |     150.9999399670793    |     3.352872201369357e-14\n",
      "0.001    |     0.5    |     1.3201734897566473    |     7.936652569388682e+18    |     1762.2908841971446    |     60.999975986831274    |     1.3544715568432347e-14\n",
      "0.001    |     0.75    |     1.3199938819612358    |     7.936652569388682e+18    |     1762.2908841971446    |     40.99998399122079    |     9.103825247263228e-15\n",
      "0.001    |     1    |     1.319887628054724    |     7.936652569388682e+18    |     1762.2908841971446    |     30.99998799341559    |     6.883380086678679e-15\n",
      "0.002    |     1e-05    |     1.36238782227487    |     5.782310754494645e+18    |     1283.9309070355232    |     2999996.1976997475    |     6.661329704948366e-10\n",
      "0.002    |     2e-05    |     1.3439946308736956    |     5.782310754494645e+18    |     1283.9309070355232    |     1499998.5987345094    |     3.330665962441047e-10\n",
      "0.002    |     5e-05    |     1.327224648570179    |     5.782310754494645e+18    |     1283.9309070355232    |     600000.0394937922    |     1.3322677172440228e-10\n",
      "0.002    |     7.5e-05    |     1.3235440099210514    |     5.782310754494645e+18    |     1283.9309070355232    |     400000.3596555642    |     8.881792182959018e-11\n",
      "0.002    |     0.0001    |     1.3220037168857486    |     5.782310754494645e+18    |     1283.9309070355232    |     300000.5197412298    |     6.661349688324542e-11\n",
      "0.002    |     0.0002    |     1.3204880868278797    |     5.782310754494645e+18    |     1283.9309070355232    |     150000.7598691465    |     3.330685946359913e-11\n",
      "0.002    |     0.0005    |     1.3203538501482779    |     5.782310754494645e+18    |     1283.9309070355232    |     60000.90394755413    |     1.3322877012179408e-11\n",
      "0.002    |     0.00075    |     1.3204389361297213    |     5.782310754494645e+18    |     1283.9309070355232    |     40000.93596502761    |     8.881992022986031e-12\n",
      "0.002    |     0.001    |     1.3205000397653428    |     5.782310754494645e+18    |     1283.9309070355232    |     30000.95197376047    |     6.661549528388482e-12\n",
      "0.002    |     0.002    |     1.3206158464558277    |     5.782310754494645e+18    |     1283.9309070355232    |     15000.975986864496    |     3.3308857864932087e-12\n",
      "0.002    |     0.005    |     1.3206969267656419    |     5.782310754494645e+18    |     1283.9309070355232    |     6000.990394744542    |     1.3324875413599595e-12\n",
      "0.002    |     0.0075    |     1.3207137929011263    |     5.782310754494645e+18    |     1283.9309070355232    |     4000.993596495921    |     8.883990424415169e-13\n",
      "0.002    |     0.01    |     1.3207205715037744    |     5.782310754494645e+18    |     1283.9309070355232    |     3000.9951973718266    |     6.663547929823436e-13\n",
      "0.002    |     0.02    |     1.3207216922930984    |     5.782310754494645e+18    |     1283.9309070355232    |     1500.9975986858728    |     3.3328841879362533e-13\n",
      "0.002    |     0.05    |     1.3206873938685038    |     5.782310754494645e+18    |     1283.9309070355232    |     600.9990394743185    |     1.3344859428039834e-13\n",
      "0.002    |     0.075    |     1.320653752364362    |     5.782310754494645e+18    |     1283.9309070355232    |     400.9993596495437    |     8.903974438857347e-14\n",
      "0.002    |     0.1    |     1.3206198511578067    |     5.782310754494645e+18    |     1283.9309070355232    |     300.9995197371587    |     6.683531944266157e-14\n",
      "0.002    |     0.2    |     1.320489789943987    |     5.782310754494645e+18    |     1283.9309070355232    |     150.99975986857828    |     3.352868202379306e-14\n",
      "0.002    |     0.5    |     1.3201731005146327    |     5.782310754494645e+18    |     1283.9309070355232    |     60.99990394743119    |     1.3544699572472217e-14\n",
      "0.002    |     0.75    |     1.3199936589276797    |     5.782310754494645e+18    |     1283.9309070355232    |     40.99993596495412    |     9.10381458328982e-15\n",
      "0.002    |     1    |     1.319887488406783    |     5.782310754494645e+18    |     1283.9309070355232    |     30.99995197371558    |     6.88337208869862e-15\n",
      "0.005    |     1e-05    |     1.398281393986337    |     4.7359724845655835e+19    |     10515.97139271184    |     2999970.9840130205    |     6.661273719317286e-10\n",
      "0.005    |     2e-05    |     1.3887224316166267    |     4.7359724845655835e+19    |     10515.97139271184    |     1499985.9920165162    |     3.330637969903885e-10\n",
      "0.005    |     5e-05    |     1.3683630926256947    |     4.7359724845655835e+19    |     10515.97139271184    |     599994.9967708939    |     1.3322565201498858e-10\n",
      "0.005    |     7.5e-05    |     1.357402254972378    |     4.7359724845655835e+19    |     10515.97139271184    |     399996.9978457239    |     8.881717535785236e-11\n",
      "0.005    |     0.0001    |     1.3496565265219753    |     4.7359724845655835e+19    |     10515.97139271184    |     299997.99838642    |     6.661293703001281e-11\n",
      "0.005    |     0.0002    |     1.3338899892280778    |     4.7359724845655835e+19    |     10515.97139271184    |     149999.49919094826    |     3.330657953680666e-11\n",
      "0.005    |     0.0005    |     1.3231314606154707    |     4.7359724845655835e+19    |     10515.97139271184    |     60000.399676415    |     1.3322765041493545e-11\n"
     ]
    },
    {
     "name": "stdout",
     "output_type": "stream",
     "text": [
      "0.005    |     0.00075    |     1.3213658709059066    |     4.7359724845655835e+19    |     10515.97139271184    |     40000.599784124155    |     8.88191737583014e-12\n",
      "0.005    |     0.001    |     1.320743432508697    |     4.7359724845655835e+19    |     10515.97139271184    |     30000.699838091627    |     6.661493543023506e-12\n",
      "0.005    |     0.002    |     1.320310944173716    |     4.7359724845655835e+19    |     10515.97139271184    |     15000.849919034248    |     3.3308577938116475e-12\n",
      "0.005    |     0.005    |     1.320447359256413    |     4.7359724845655835e+19    |     10515.97139271184    |     6000.939967612918    |     1.3324763442874405e-12\n",
      "0.005    |     0.0075    |     1.3205266147948784    |     4.7359724845655835e+19    |     10515.97139271184    |     4000.95997840818    |     8.883915777265062e-13\n",
      "0.005    |     0.01    |     1.320572251134841    |     4.7359724845655835e+19    |     10515.97139271184    |     3000.969983805991    |     6.663491944460789e-13\n",
      "0.005    |     0.02    |     1.3206416674457822    |     4.7359724845655835e+19    |     10515.97139271184    |     1500.984991902906    |     3.3328561952548206e-13\n",
      "0.005    |     0.05    |     1.3206543062552782    |     4.7359724845655835e+19    |     10515.97139271184    |     600.9939967611567    |     1.334474745731466e-13\n",
      "0.005    |     0.075    |     1.3206317178276614    |     4.7359724845655835e+19    |     10515.97139271184    |     400.9959978407689    |     8.903899791707224e-14\n",
      "0.005    |     0.1    |     1.3206034290426683    |     4.7359724845655835e+19    |     10515.97139271184    |     300.9969983805781    |     6.683475958903575e-14\n",
      "0.005    |     0.2    |     1.320481894296134    |     4.7359724845655835e+19    |     10515.97139271184    |     150.99849919028694    |     3.352840209697992e-14\n",
      "0.005    |     0.5    |     1.32017038389415    |     4.7359724845655835e+19    |     10515.97139271184    |     60.99939967611459    |     1.3544587601746947e-14\n",
      "0.005    |     0.75    |     1.3199921011576619    |     4.7359724845655835e+19    |     10515.97139271184    |     40.999599784076366    |     9.103739936139636e-15\n",
      "0.005    |     1    |     1.3198865127506891    |     4.7359724845655835e+19    |     10515.97139271184    |     30.999699838057268    |     6.883316103335983e-15\n",
      "0.0075    |     1e-05    |     1.4043005938785855    |     1.7372731759995418e+18    |     385.75213601167263    |     2999933.4645628347    |     6.66119040940235e-10\n",
      "0.0075    |     2e-05    |     1.3994032633182243    |     1.7372731759995418e+18    |     385.75213601167263    |     1499967.232282145    |     3.3305963149258154e-10\n",
      "0.0075    |     5e-05    |     1.386805647947351    |     1.7372731759995418e+18    |     385.75213601167263    |     599987.4928880802    |     1.332239858182938e-10\n",
      "0.0075    |     7.5e-05    |     1.3783815287747156    |     1.7372731759995418e+18    |     385.75213601167263    |     399991.99525272916    |     8.881606455906725e-11\n",
      "0.0075    |     0.0001    |     1.3714017808044585    |     1.7372731759995418e+18    |     385.75213601167263    |     299994.2464363452    |     6.661210392974075e-11\n",
      "0.0075    |     0.0002    |     1.3527834516577373    |     1.7372731759995418e+18    |     385.75213601167263    |     149997.62321917995    |     3.3306162987396515e-11\n",
      "0.0075    |     0.0005    |     1.332047100930285    |     1.7372731759995418e+18    |     385.75213601167263    |     59999.64928707163    |     1.3322598421588257e-11\n",
      "0.0075    |     0.00075    |     1.3264972569267308    |     1.7372731759995418e+18    |     385.75213601167263    |     40000.099524681376    |     8.881806295919809e-12\n",
      "0.0075    |     0.001    |     1.3239147582316222    |     1.7372731759995418e+18    |     385.75213601167263    |     30000.324643486318    |     6.6614102330856e-12\n",
      "0.0075    |     0.002    |     1.3209497744222367    |     1.7372731759995418e+18    |     385.75213601167263    |     15000.662321733478    |     3.330816138843113e-12\n",
      "0.0075    |     0.005    |     1.3203066752602166    |     1.7372731759995418e+18    |     385.75213601167263    |     6000.864928690638    |     1.332459682299589e-12\n",
      "0.0075    |     0.0075    |     1.3203572891448443    |     1.7372731759995418e+18    |     385.75213601167263    |     4000.909952460051    |     8.883804697346178e-13\n",
      "0.0075    |     0.01    |     1.32041494536061    |     1.7372731759995418e+18    |     385.75213601167263    |     3000.932464345096    |     6.663408634522074e-13\n",
      "0.0075    |     0.02    |     1.3205391985944168    |     1.7372731759995418e+18    |     385.75213601167263    |     1500.9662321724334    |     3.332814540285408e-13\n",
      "0.0075    |     0.05    |     1.3206077953595605    |     1.7372731759995418e+18    |     385.75213601167263    |     600.9864928689655    |     1.3344580837436958e-13\n",
      "0.0075    |     0.075    |     1.3206001441008721    |     1.7372731759995418e+18    |     385.75213601167263    |     400.9909952459681    |     8.90378871178861e-14\n",
      "0.0075    |     0.1    |     1.3205796752193633    |     1.7372731759995418e+18    |     385.75213601167263    |     300.9932464344769    |     6.6833926489646e-14\n",
      "0.0075    |     0.2    |     1.3204703143593972    |     1.7372731759995418e+18    |     385.75213601167263    |     150.99662321723707    |     3.3527985547285216e-14\n",
      "0.0075    |     0.5    |     1.3201663674229882    |     1.7372731759995418e+18    |     385.75213601167263    |     60.998649286894484    |     1.3544420981869028e-14\n",
      "0.0075    |     0.75    |     1.3199897942613736    |     1.7372731759995418e+18    |     385.75213601167263    |     40.999099524596346    |     9.103628856221035e-15\n",
      "0.0075    |     1    |     1.319885066965614    |     1.7372731759995418e+18    |     385.75213601167263    |     30.9993246434473    |     6.8832327933970424e-15\n",
      "0.01    |     1e-05    |     1.4061992061475186    |     9.163716096485655e+18    |     2034.7537202893072    |     2999880.938949282    |     6.661073779111252e-10\n",
      "0.01    |     2e-05    |     1.4035355143447823    |     9.163716096485655e+18    |     2034.7537202893072    |     1499940.9693500071    |     3.3305379995019083e-10\n",
      "0.01    |     5e-05    |     1.395627182514854    |     9.163716096485655e+18    |     2034.7537202893072    |     599976.9877232183    |     1.3322165320311236e-10\n",
      "0.01    |     7.5e-05    |     1.3897600752444654    |     9.163716096485655e+18    |     2034.7537202893072    |     399984.99181388726    |     8.881450948325648e-11\n",
      "0.01    |     0.0001    |     1.3845164268283625    |     9.163716096485655e+18    |     2034.7537202893072    |     299988.99385892745    |     6.661093762326319e-11\n",
      "0.01    |     0.0002    |     1.3683402006562384    |     9.163716096485655e+18    |     2034.7537202893072    |     149994.9969292092    |     3.3305579833877544e-11\n",
      "0.01    |     0.0005    |     1.3439837129673045    |     9.163716096485655e+18    |     2034.7537202893072    |     59998.598771298515    |     1.3322365160228448e-11\n",
      "0.01    |     0.00075    |     1.3350937119916493    |     9.163716096485655e+18    |     2034.7537202893072    |     39999.39918084991    |     8.88165078835044e-12\n",
      "0.01    |     0.001    |     1.3301839804871178    |     9.163716096485655e+18    |     2034.7537202893072    |     29999.799385620332    |     6.6612936024102636e-12\n",
      "0.01    |     0.002    |     1.3231293127499948    |     9.163716096485655e+18    |     2034.7537202893072    |     15000.399692799234    |     3.330757823505167e-12\n",
      "0.01    |     0.005    |     1.3204830758443515    |     9.163716096485655e+18    |     2034.7537202893072    |     6000.759877119367    |     1.3324363561649493e-12\n",
      "0.01    |     0.0075    |     1.3203100371670244    |     9.163716096485655e+18    |     2034.7537202893072    |     4000.839918079025    |     8.883649189781518e-13\n",
      "0.01    |     0.01    |     1.3203089432056974    |     9.163716096485655e+18    |     2034.7537202893072    |     3000.8799385588486    |     6.663292003847518e-13\n",
      "0.01    |     0.02    |     1.3204273423452193    |     9.163716096485655e+18    |     2034.7537202893072    |     1500.939969279399    |     3.332756224948328e-13\n",
      "0.01    |     0.05    |     1.3205480387004704    |     9.163716096485655e+18    |     2034.7537202893072    |     600.97598771176    |     1.3344347576088822e-13\n",
      "0.01    |     0.075    |     1.3205583477737106    |     9.163716096485655e+18    |     2034.7537202893072    |     400.9839918078322    |     8.903633204223209e-14\n",
      "0.01    |     0.1    |     1.3205477786808828    |     9.163716096485655e+18    |     2034.7537202893072    |     300.98799385587387    |     6.683276018290526e-14\n",
      "0.01    |     0.2    |     1.3204544411843477    |     9.163716096485655e+18    |     2034.7537202893072    |     150.99399692793642    |     3.3527402393915034e-14\n",
      "0.01    |     0.5    |     1.3201607967208797    |     9.163716096485655e+18    |     2034.7537202893072    |     60.99759877117422    |     1.3544187720520954e-14\n",
      "0.01    |     0.75    |     1.3199865871021215    |     9.163716096485655e+18    |     2034.7537202893072    |     40.99839918078277    |     9.103473348655637e-15\n",
      "0.01    |     1    |     1.319883055075941    |     9.163716096485655e+18    |     2034.7537202893072    |     30.998799385587116    |     6.8831161627229944e-15\n",
      "0.02    |     1e-05    |     1.3991967821767188    |     4.5961727521085947e+18    |     1020.5553629091468    |     2999520.8077894053    |     6.660274127300093e-10\n",
      "0.02    |     2e-05    |     1.4033527820003346    |     4.5961727521085947e+18    |     1020.5553629091468    |     1499760.90389923    |     3.330138173883124e-10\n",
      "0.02    |     5e-05    |     1.404054765908879    |     4.5961727521085947e+18    |     1020.5553629091468    |     599904.9615306405    |     1.3320566017563717e-10\n",
      "0.02    |     7.5e-05    |     1.4028711082096539    |     4.5961727521085947e+18    |     1020.5553629091468    |     399936.97435060417    |     8.880384746459228e-11\n",
      "0.02    |     0.0001    |     1.4014091897442746    |     4.5961727521085947e+18    |     1020.5553629091468    |     299952.9807616733    |     6.660294110931126e-11\n",
      "0.02    |     0.0002    |     1.3952513762993448    |     4.5961727521085947e+18    |     1020.5553629091468    |     149976.9903813024    |     3.330158157706151e-11\n",
      "0.02    |     0.0005    |     1.3796701173934296    |     4.5961727521085947e+18    |     1020.5553629091468    |     59991.396152120724    |     1.332076585749869e-11\n",
      "0.02    |     0.00075    |     1.3699232085654702    |     4.5961727521085947e+18    |     1020.5553629091468    |     39994.597434712494    |     8.880584586526406e-12\n"
     ]
    },
    {
     "name": "stdout",
     "output_type": "stream",
     "text": [
      "0.02    |     0.001    |     1.362292110296465    |     4.5961727521085947e+18    |     1020.5553629091468    |     29996.198076027966    |     6.660493951044614e-12\n",
      "0.02    |     0.002    |     1.3439496124691026    |     4.5961727521085947e+18    |     1020.5553629091468    |     14998.599038011997    |     3.3303579978243284e-12\n",
      "0.02    |     0.005    |     1.327208942737865    |     4.5961727521085947e+18    |     1020.5553629091468    |     6000.039615202937    |     1.332276425892273e-12\n",
      "0.02    |     0.0075    |     1.3235324618626398    |     4.5961727521085947e+18    |     1020.5553629091468    |     4000.35974346843    |     8.882582987964472e-13\n",
      "0.02    |     0.01    |     1.3219923714906006    |     4.5961727521085947e+18    |     1020.5553629091468    |     3000.5198076010715    |     6.662492352485109e-13\n",
      "0.02    |     0.02    |     1.320467618615738    |     4.5961727521085947e+18    |     1020.5553629091468    |     1500.7599038004948    |     3.3323563992670887e-13\n",
      "0.02    |     0.05    |     1.3202928659769575    |     4.5961727521085947e+18    |     1020.5553629091468    |     600.9039615201895    |     1.3342748273363668e-13\n",
      "0.02    |     0.075    |     1.3203431410941724    |     4.5961727521085947e+18    |     1020.5553629091468    |     400.93597434679117    |     8.902567002406573e-14\n",
      "0.02    |     0.1    |     1.3203699372606281    |     4.5961727521085947e+18    |     1020.5553629091468    |     300.95198076008984    |     6.682476366927977e-14\n",
      "0.02    |     0.2    |     1.3203560056794417    |     4.5961727521085947e+18    |     1020.5553629091468    |     150.97599038004486    |     3.352340413710239e-14\n",
      "0.02    |     0.5    |     1.3201242272878078    |     4.5961727521085947e+18    |     1020.5553629091468    |     60.99039615201787    |     1.3542588417795958e-14\n",
      "0.02    |     0.75    |     1.3199652973344644    |     4.5961727521085947e+18    |     1020.5553629091468    |     40.993597434678584    |     9.102407146838983e-15\n",
      "0.02    |     1    |     1.319869640905194    |     4.5961727521085947e+18    |     1020.5553629091468    |     30.99519807600895    |     6.882316511360498e-15\n",
      "0.05    |     1e-05    |     1.1802626763383242    |     2.724792338413643e+19    |     6050.254382858096    |     2997002.130676031    |     6.654681540654364e-10\n",
      "0.05    |     2e-05    |     1.2638668839625165    |     2.724792338413643e+19    |     6050.254382858096    |     1498501.5652584452    |     3.327341880373525e-10\n",
      "0.05    |     5e-05    |     1.3399914336673338    |     2.724792338413643e+19    |     6050.254382858096    |     599401.2260877041    |     1.3309380843822362e-10\n",
      "0.05    |     7.5e-05    |     1.360791745552296    |     2.724792338413643e+19    |     6050.254382858096    |     399601.15072486154    |     8.872927964028977e-11\n",
      "0.05    |     0.0001    |     1.3717399149141847    |     2.724792338413643e+19    |     6050.254382858096    |     299701.1130410197    |     6.654701524078537e-11\n",
      "0.05    |     0.0002    |     1.3883571964182662    |     2.724792338413643e+19    |     6050.254382858096    |     149851.0565198782    |     3.3273618642554895e-11\n",
      "0.05    |     0.0005    |     1.3960809195486632    |     2.724792338413643e+19    |     6050.254382858096    |     59941.02260796604    |     1.330958068378819e-11\n",
      "0.05    |     0.00075    |     1.395825918790271    |     2.724792338413643e+19    |     6050.254382858096    |     39961.01507184791    |     8.873127804031691e-12\n",
      "0.05    |     0.001    |     1.3944270862078332    |     2.724792338413643e+19    |     6050.254382858096    |     29971.011303897183    |     6.6549013641774975e-12\n",
      "0.05    |     0.002    |     1.3868038656182442    |     2.724792338413643e+19    |     6050.254382858096    |     14986.005651941314    |     3.3275617043895953e-12\n",
      "0.05    |     0.005    |     1.3676102367336438    |     2.724792338413643e+19    |     6050.254382858096    |     5995.002260777155    |     1.331157908518933e-12\n",
      "0.05    |     0.0075    |     1.356910453232398    |     2.724792338413643e+19    |     6050.254382858096    |     3997.0015071830735    |     8.875126205472202e-13\n",
      "0.05    |     0.01    |     1.3492964425395    |     2.724792338413643e+19    |     6050.254382858096    |     2998.0011303872866    |     6.656899765616423e-13\n",
      "0.05    |     0.02    |     1.3337278030826987    |     2.724792338413643e+19    |     6050.254382858096    |     1499.5005651935262    |     3.329560105832577e-13\n",
      "0.05    |     0.05    |     1.323062352824019    |     2.724792338413643e+19    |     6050.254382858096    |     600.4002260774155    |     1.333156309962592e-13\n",
      "0.05    |     0.075    |     1.321291756827891    |     2.724792338413643e+19    |     6050.254382858096    |     400.6001507182742    |     8.89511021991472e-14\n",
      "0.05    |     0.1    |     1.3206495137172813    |     2.724792338413643e+19    |     6050.254382858096    |     300.70011303870496    |     6.67688378005915e-14\n",
      "0.05    |     0.2    |     1.3201079927565518    |     2.724792338413643e+19    |     6050.254382858096    |     150.85005651935134    |     3.349544120275801e-14\n",
      "0.05    |     0.5    |     1.319943063340197    |     2.724792338413643e+19    |     6050.254382858096    |     60.940022607740424    |     1.3531403244058199e-14\n",
      "0.05    |     0.75    |     1.3198490982380757    |     2.724792338413643e+19    |     6050.254382858096    |     40.96001507182699    |     9.094950364347151e-15\n",
      "0.05    |     1    |     1.3197937467706276    |     2.724792338413643e+19    |     6050.254382858096    |     30.970011303870223    |     6.876723924491617e-15\n",
      "0.075    |     1e-05    |     1.0289125857000938    |     2.5615961195901737e+18    |     568.7885983518934    |     2993261.340844151    |     6.64637531865109e-10\n",
      "0.075    |     2e-05    |     1.0683357423018156    |     2.5615961195901737e+18    |     568.7885983518934    |     1496631.1703568662    |     3.323188769403776e-10\n",
      "0.075    |     5e-05    |     1.1788194485854957    |     2.5615961195901737e+18    |     568.7885983518934    |     598653.0681396327    |     1.329276840022226e-10\n",
      "0.075    |     7.5e-05    |     1.2298615813463998    |     2.5615961195901737e+18    |     568.7885983518934    |     399102.3787595958    |     8.861853001631466e-11\n",
      "0.075    |     0.0001    |     1.2625315302907532    |     2.5615961195901737e+18    |     568.7885983518934    |     299327.0340661838    |     6.646395302260717e-11\n",
      "0.075    |     0.0002    |     1.3241269630070227    |     2.5615961195901737e+18    |     568.7885983518934    |     149664.01703276395    |     3.323208753353323e-11\n",
      "0.075    |     0.0005    |     1.369928705681468    |     2.5615961195901737e+18    |     568.7885983518934    |     59866.206813048666    |     1.3292968240163609e-11\n",
      "0.075    |     0.00075    |     1.380456714523776    |     2.5615961195901737e+18    |     568.7885983518934    |     39911.13787533628    |     8.862052841637498e-12\n",
      "0.075    |     0.001    |     1.3852806670848452    |     2.5615961195901737e+18    |     568.7885983518934    |     29933.60340651576    |     6.646595142382363e-12\n",
      "0.075    |     0.002    |     1.3897667849500066    |     2.5615961195901737e+18    |     568.7885983518934    |     14967.301703250429    |     3.3234085934919896e-12\n",
      "0.075    |     0.005    |     1.3829509021399746    |     2.5615961195901737e+18    |     568.7885983518934    |     5987.520681298483    |     1.329496664159376e-12\n",
      "0.075    |     0.0075    |     1.375825484126868    |     2.5615961195901737e+18    |     568.7885983518934    |     3992.0137875322407    |     8.864051243078743e-13\n",
      "0.075    |     0.01    |     1.3694975238619012    |     2.5615961195901737e+18    |     568.7885983518934    |     2994.2603406490575    |     6.648593543821096e-13\n",
      "0.075    |     0.02    |     1.351865527868068    |     2.5615961195901737e+18    |     568.7885983518934    |     1497.6301703244758    |     3.3254069949350557e-13\n",
      "0.075    |     0.05    |     1.3317271553627905    |     2.5615961195901737e+18    |     568.7885983518934    |     599.6520681297744    |     1.3314950656035372e-13\n",
      "0.075    |     0.075    |     1.3262949589526656    |     2.5615961195901737e+18    |     568.7885983518934    |     400.1013787531859    |     8.884035257521148e-14\n",
      "0.075    |     0.1    |     1.3237555826770926    |     2.5615961195901737e+18    |     568.7885983518934    |     300.3260340648899    |     6.668577558263997e-14\n",
      "0.075    |     0.2    |     1.3207755491672841    |     2.5615961195901737e+18    |     568.7885983518934    |     150.66301703244358    |     3.34539100937822e-14\n",
      "0.075    |     0.5    |     1.3198839335916892    |     2.5615961195901737e+18    |     568.7885983518934    |     60.865206812977554    |     1.3514790800467925e-14\n",
      "0.075    |     0.75    |     1.319772372618608    |     2.5615961195901737e+18    |     568.7885983518934    |     40.910137875318306    |     9.083875401953613e-15\n",
      "0.075    |     1    |     1.3197346497546036    |     2.5615961195901737e+18    |     568.7885983518934    |     30.932603406488766    |     6.868417702696476e-15\n",
      "0.1    |     1e-05    |     1.0798981068165285    |     1.4534785227497626e+18    |     322.73706435098916    |     2988038.741389834    |     6.634778818325935e-10\n",
      "0.1    |     2e-05    |     1.034411147288932    |     1.4534785227497626e+18    |     322.73706435098916    |     1494019.8706321612    |     3.317390519246646e-10\n",
      "0.1    |     5e-05    |     1.048566541687859    |     1.4534785227497626e+18    |     322.73706435098916    |     597608.548229823    |     1.3269575399151257e-10\n",
      "0.1    |     7.5e-05    |     1.08598125409431    |     1.4534785227497626e+18    |     322.73706435098916    |     398406.03214967286    |     8.846391000842343e-11\n",
      "0.1    |     0.0001    |     1.1199271289311237    |     1.4534785227497626e+18    |     322.73706435098916    |     298804.77411345055    |     6.634798801773435e-11\n",
      "0.1    |     0.0002    |     1.2092033599799081    |     1.4534785227497626e+18    |     322.73706435098916    |     149402.887055389    |     3.3174105030872925e-11\n",
      "0.1    |     0.0005    |     1.305803183492374    |     1.4534785227497626e+18    |     322.73706435098916    |     59761.75482211882    |     1.3269775239103958e-11\n",
      "0.1    |     0.00075    |     1.3347573633949734    |     1.4534785227497626e+18    |     322.73706435098916    |     39841.50321474291    |     8.846590840936954e-12\n",
      "0.1    |     0.001    |     1.350382109095719    |     1.4534785227497626e+18    |     322.73706435098916    |     29881.377411051646    |     6.634998641852718e-12\n"
     ]
    },
    {
     "name": "stdout",
     "output_type": "stream",
     "text": [
      "0.1    |     0.002    |     1.3741948871332808    |     1.4534785227497626e+18    |     322.73706435098916    |     14941.18870552736    |     3.3176103432291626e-12\n",
      "0.1    |     0.005    |     1.383582852572575    |     1.4534785227497626e+18    |     322.73706435098916    |     5977.075482208382    |     1.3271773640540511e-12\n",
      "0.1    |     0.0075    |     1.3817104633773327    |     1.4534785227497626e+18    |     322.73706435098916    |     3985.050321472297    |     8.848589242376852e-13\n",
      "0.1    |     0.01    |     1.3784840301739267    |     1.4534785227497626e+18    |     322.73706435098916    |     2989.037741104055    |     6.636997043294579e-13\n",
      "0.1    |     0.02    |     1.3653609610262396    |     1.4534785227497626e+18    |     322.73706435098916    |     1495.0188705519927    |     3.3196087446718374e-13\n",
      "0.1    |     0.05    |     1.3428726584962278    |     1.4534785227497626e+18    |     322.73706435098916    |     598.6075482207931    |     1.3291757654982763e-13\n",
      "0.1    |     0.075    |     1.3344025162997284    |     1.4534785227497626e+18    |     322.73706435098916    |     399.40503214719274    |     8.868573256819284e-14\n",
      "0.1    |     0.1    |     1.3296947739898706    |     1.4534785227497626e+18    |     322.73706435098916    |     299.80377411039194    |     6.656981057737531e-14\n",
      "0.1    |     0.2    |     1.3228751118106656    |     1.4534785227497626e+18    |     322.73706435098916    |     150.40188705519586    |     3.3395927591150145e-14\n",
      "0.1    |     0.5    |     1.3201305530113177    |     1.4534785227497626e+18    |     322.73706435098916    |     60.76075482207833    |     1.3491597799415074e-14\n",
      "0.1    |     0.75    |     1.3198268366427475    |     1.4534785227497626e+18    |     322.73706435098916    |     40.84050321471888    |     9.068413401251725e-15\n",
      "0.1    |     1    |     1.3197458467857655    |     1.4534785227497626e+18    |     322.73706435098916    |     30.880377411039156    |     6.8568212021700505e-15\n",
      "0.2    |     1e-05    |     1.0348780714308958    |     8.08788039718309e+17    |     179.58702074734245    |     2952676.851384138    |     6.556259649368764e-10\n",
      "0.2    |     2e-05    |     1.0990542705370963    |     8.08788039718309e+17    |     179.58702074734245    |     1476338.9256566735    |     3.2781309348288123e-10\n",
      "0.2    |     5e-05    |     1.1186681575675188    |     8.08788039718309e+17    |     179.58702074734245    |     590536.1702541352    |     1.3112537061802047e-10\n",
      "0.2    |     7.5e-05    |     1.1064632913469266    |     8.08788039718309e+17    |     179.58702074734245    |     393691.11350420944    |     8.741698776053784e-11\n",
      "0.2    |     0.0001    |     1.0918067697044118    |     8.08788039718309e+17    |     179.58702074734245    |     295268.58512772626    |     6.556279633145895e-11\n",
      "0.2    |     0.0002    |     1.04759019098411    |     8.08788039718309e+17    |     179.58702074734245    |     147634.7925633322    |     3.2781509187914046e-11\n",
      "0.2    |     0.0005    |     1.0237060377513405    |     8.08788039718309e+17    |     179.58702074734245    |     59054.51702519282    |     1.3112736901897475e-11\n",
      "0.2    |     0.00075    |     1.0428612641130615    |     8.08788039718309e+17    |     179.58702074734245    |     39370.011350120825    |     8.741898616131577e-12\n",
      "0.2    |     0.001    |     1.0675482361223985    |     8.08788039718309e+17    |     179.58702074734245    |     29527.758512602293    |     6.556479473252506e-12\n",
      "0.2    |     0.002    |     1.1502519607987352    |     8.08788039718309e+17    |     179.58702074734245    |     14764.379256294229    |     3.2783507589271796e-12\n",
      "0.2    |     0.005    |     1.2613461172689377    |     8.08788039718309e+17    |     179.58702074734245    |     5906.351702517788    |     1.3114735303338483e-12\n",
      "0.2    |     0.0075    |     1.298616443211168    |     8.08788039718309e+17    |     179.58702074734245    |     3937.9011350116148    |     8.743897017574864e-13\n",
      "0.2    |     0.01    |     1.3193653278045652    |     8.08788039718309e+17    |     179.58702074734245    |     2953.675851258671    |     6.558477874693372e-13\n",
      "0.2    |     0.02    |     1.3511101649720008    |     8.08788039718309e+17    |     179.58702074734245    |     1477.3379256293279    |     3.280349160371294e-13\n",
      "0.2    |     0.05    |     1.3613657406180084    |     8.08788039718309e+17    |     179.58702074734245    |     591.535170251738    |     1.313471931778083e-13\n",
      "0.2    |     0.075    |     1.3577244256580794    |     8.08788039718309e+17    |     179.58702074734245    |     394.6901135011537    |     8.763881032017944e-14\n",
      "0.2    |     0.1    |     1.35321206907301    |     8.08788039718309e+17    |     179.58702074734245    |     296.2675851258651    |     6.57846188913658e-14\n",
      "0.2    |     0.2    |     1.339680795992975    |     8.08788039718309e+17    |     179.58702074734245    |     148.63379256293305    |     3.3003331748145526e-14\n",
      "0.2    |     0.5    |     1.3258785979549308    |     8.08788039718309e+17    |     179.58702074734245    |     60.05351702517303    |     1.3334559462213187e-14\n",
      "0.2    |     0.75    |     1.3227927985529941    |     8.08788039718309e+17    |     179.58702074734245    |     40.36901135011532    |     8.963721176450461e-15\n",
      "0.2    |     1    |     1.3215357179523253    |     8.08788039718309e+17    |     179.58702074734245    |     30.5267585125865    |     6.778302033569106e-15\n",
      "0.5    |     1e-05    |     0.24096794492523357    |     980686829665468.6    |     0.21775621964825045    |     2725466.7390958373    |     6.051751853188486e-10\n",
      "0.5    |     2e-05    |     0.24490838803508028    |     980686829665468.6    |     0.21775621964825045    |     1362733.8714523804    |     3.025877041046022e-10\n",
      "0.5    |     5e-05    |     0.26603719418929805    |     980686829665468.6    |     0.21775621964825045    |     545094.1490353259    |     1.2103521496949507e-10\n",
      "0.5    |     7.5e-05    |     0.3041435170925007    |     980686829665468.6    |     0.21775621964825045    |     363396.432758199    |     8.069021734296e-11\n",
      "0.5    |     0.0001    |     0.3466455959864321    |     980686829665468.6    |     0.21775621964825045    |     272547.5745942649    |     6.051771852405905e-11\n",
      "0.5    |     0.0002    |     0.4896510573096587    |     980686829665468.6    |     0.21775621964825045    |     136274.2873159805    |     3.0258970288517096e-11\n",
      "0.5    |     0.0005    |     0.7000258094502751    |     980686829665468.6    |     0.21775621964825045    |     54510.31493093633    |     1.2103721343178792e-11\n",
      "0.5    |     0.00075    |     0.7803152404537734    |     980686829665468.6    |     0.21775621964825045    |     36340.54328796335    |     8.06922157713682e-12\n",
      "0.5    |     0.001    |     0.8291864833507749    |     980686829665468.6    |     0.21775621964825045    |     27255.6574662231    |     6.051971694059488e-12\n",
      "0.5    |     0.002    |     0.9148557625310504    |     980686829665468.6    |     0.21775621964825045    |     13628.328733300626    |     3.02609686937419e-12\n",
      "0.5    |     0.005    |     0.9605054768523525    |     980686829665468.6    |     0.21775621964825045    |     5451.931493366454    |     1.2105719745228901e-12\n",
      "0.5    |     0.0075    |     0.9664986040888474    |     980686829665468.6    |     0.21775621964825045    |     3634.9543289176654    |     8.071219978850553e-13\n",
      "0.5    |     0.01    |     0.9715770597539691    |     980686829665468.6    |     0.21775621964825045    |     2726.4657466907865    |     6.053970095655862e-13\n",
      "0.5    |     0.02    |     1.0046221692212989    |     980686829665468.6    |     0.21775621964825045    |     1363.7328733473057    |     3.0280952708568026e-13\n",
      "0.5    |     0.05    |     1.1047795554227993    |     980686829665468.6    |     0.21775621964825045    |     546.0931493393775    |     1.212570375973282e-13\n",
      "0.5    |     0.075    |     1.1581424516578147    |     980686829665468.6    |     0.21775621964825045    |     364.3954328929862    |     8.091203993320888e-14\n",
      "0.5    |     0.1    |     1.1943040342674949    |     980686829665468.6    |     0.21775621964825045    |     273.5465746697651    |     6.073954110114357e-14\n",
      "0.5    |     0.2    |     1.2650403625958069    |     980686829665468.6    |     0.21775621964825045    |     137.27328733490157    |     3.048079285303852e-14\n",
      "0.5    |     0.5    |     1.3129959855689672    |     980686829665468.6    |     0.21775621964825045    |     55.50931493396521    |     1.2325543904171445e-14\n",
      "0.5    |     0.75    |     1.320563153538016    |     980686829665468.6    |     0.21775621964825045    |     37.3395432893108    |     8.29104413775612e-15\n",
      "0.5    |     1    |     1.3228809465642857    |     980686829665468.6    |     0.21775621964825045    |     28.254657466983357    |     6.273794254548405e-15\n",
      "0.75    |     1e-05    |     0.22244997019193577    |     3532626613595.579    |     0.0007844006807634816    |     2442727.907440564    |     5.423945531469885e-10\n",
      "0.75    |     2e-05    |     0.2053060605527505    |     3532626613595.579    |     0.0007844006807634816    |     1221364.8760112252    |     2.7119748136322234e-10\n",
      "0.75    |     5e-05    |     0.2085533760822935    |     3532626613595.579    |     0.0007844006807634816    |     488546.6517436506    |     1.0847914827386576e-10\n",
      "0.75    |     7.5e-05    |     0.21981047089552083    |     3532626613595.579    |     0.0007844006807634816    |     325698.1161762295    |     7.231950953117783e-11\n",
      "0.75    |     0.0001    |     0.22929183435164596    |     3532626613595.579    |     0.0007844006807634816    |     244273.84276196136    |     5.423968890959893e-11\n",
      "0.75    |     0.0002    |     0.2520655671084921    |     3532626613595.579    |     0.0007844006807634816    |     122137.42560380485    |     2.711995641475725e-11\n",
      "0.75    |     0.0005    |     0.2911465816899128    |     3532626613595.579    |     0.0007844006807634816    |     48855.57125495271    |     1.084811601769269e-11\n",
      "0.75    |     0.00075    |     0.32523987895142703    |     3532626613595.579    |     0.0007844006807634816    |     32570.71432009656    |     7.2321513933319e-12\n",
      "0.75    |     0.001    |     0.35990828966432276    |     3532626613595.579    |     0.0007844006807634816    |     24428.285796379554    |     5.424169068652852e-12\n",
      "0.75    |     0.002    |     0.4758051392903305    |     3532626613595.579    |     0.0007844006807634816    |     12214.642940416237    |     2.712195566005046e-12\n"
     ]
    },
    {
     "name": "stdout",
     "output_type": "stream",
     "text": [
      "0.75    |     0.005    |     0.6515260879776217    |     3532626613595.579    |     0.0007844006807634816    |     4886.457186300838    |     1.0850114554152496e-12\n",
      "0.75    |     0.0075    |     0.7197356993725802    |     3532626613595.579    |     0.0007844006807634816    |     3257.9714590352396    |     7.234149854785076e-13\n",
      "0.75    |     0.01    |     0.7617582568840164    |     3532626613595.579    |     0.0007844006807634816    |     2443.728594839475    |     5.426167503851332e-13\n",
      "0.75    |     0.02    |     0.840899298421479    |     3532626613595.579    |     0.0007844006807634816    |     1222.364297841987    |     2.714193975887873e-13\n",
      "0.75    |     0.05    |     0.9210906761308854    |     3532626613595.579    |     0.0007844006807634816    |     489.54571923814433    |     1.0870098582097406e-13\n",
      "0.75    |     0.075    |     0.9624492708631207    |     3532626613595.579    |     0.0007844006807634816    |     326.69714617377684    |     7.254133875229148e-14\n",
      "0.75    |     0.1    |     0.9968207350967747    |     3532626613595.579    |     0.0007844006807634816    |     245.2728596359627    |     5.4461515216699997e-14\n",
      "0.75    |     0.2    |     1.092191435390719    |     3532626613595.579    |     0.0007844006807634816    |     123.13642982220419    |     2.7341779911750173e-14\n",
      "0.75    |     0.5    |     1.2113887072395229    |     3532626613595.579    |     0.0007844006807634816    |     49.85457192989514    |     1.1069938727880121e-14\n",
      "0.75    |     0.75    |     1.2502765485666587    |     3532626613595.579    |     0.0007844006807634816    |     33.56971462008021    |     7.453974020261758e-15\n",
      "0.75    |     1    |     1.2715113409155714    |     3532626613595.579    |     0.0007844006807634816    |     25.427285965116457    |     5.645991666440077e-15\n",
      "1.0    |     1e-05    |     0.32017904466184505    |     63914576255.30567    |     1.4191886833560135e-05    |     2130369.113157419    |     4.730369680755284e-10\n",
      "1.0    |     2e-05    |     0.3007402314291329    |     63914576255.30567    |     1.4191886833560135e-05    |     1065202.808990099    |     2.365225368872401e-10\n",
      "1.0    |     5e-05    |     0.2698729604705991    |     63914576255.30567    |     1.4191886833560135e-05    |     426085.98427822563    |     9.461009404315171e-11\n",
      "1.0    |     7.5e-05    |     0.2559713871873808    |     63914576255.30567    |     1.4191886833560135e-05    |     284058.28740671254    |     6.307361020290448e-11\n",
      "1.0    |     0.0001    |     0.2465204142746654    |     63914576255.30567    |     1.4191886833560135e-05    |     213044.20226336512    |     4.730531572313737e-11\n",
      "1.0    |     0.0002    |     0.2298542106227448    |     63914576255.30567    |     1.4191886833560135e-05    |     106522.77866349282    |     2.3652808303851818e-11\n",
      "1.0    |     0.0005    |     0.23919407237619486    |     63914576255.30567    |     1.4191886833560135e-05    |     42609.75407313399    |     9.46126600912178e-12\n",
      "1.0    |     0.00075    |     0.2553997990178014    |     63914576255.30567    |     1.4191886833560135e-05    |     28406.842361022354    |     6.307586089220852e-12\n",
      "1.0    |     0.001    |     0.2695794334088591    |     63914576255.30567    |     1.4191886833560135e-05    |     21305.384137872792    |     4.730745603669993e-12\n",
      "1.0    |     0.002    |     0.3106387680745036    |     63914576255.30567    |     1.4191886833560135e-05    |     10653.193844259387    |     2.365484218338351e-12\n",
      "1.0    |     0.005    |     0.39366095954964886    |     63914576255.30567    |     1.4191886833560135e-05    |     4261.877963782248    |     9.463270087067262e-13\n",
      "1.0    |     0.0075    |     0.446991590096146    |     63914576255.30567    |     1.4191886833560135e-05    |     2841.5853723107903    |     6.309587013554974e-13\n",
      "1.0    |     0.01    |     0.4901673630039925    |     63914576255.30567    |     1.4191886833560135e-05    |     2131.4390529041184    |     4.732745424238779e-13\n",
      "1.0    |     0.02    |     0.6017532446914193    |     63914576255.30567    |     1.4191886833560135e-05    |     1066.2195442053285    |     2.367482974564191e-13\n",
      "1.0    |     0.05    |     0.7405769938099299    |     63914576255.30567    |     1.4191886833560135e-05    |     427.0878219429178    |     9.48325466916073e-14\n",
      "1.0    |     0.075    |     0.7971634633262172    |     63914576255.30567    |     1.4191886833560135e-05    |     285.0585485931723    |     6.329571280287378e-14\n",
      "1.0    |     0.1    |     0.8372760302121776    |     63914576255.30567    |     1.4191886833560135e-05    |     214.0439116815892    |     4.752729580594677e-14\n",
      "1.0    |     0.2    |     0.9403435142235633    |     63914576255.30567    |     1.4191886833560135e-05    |     107.5219560183274    |     2.38746702448561e-14\n",
      "1.0    |     0.5    |     1.0888716539372498    |     63914576255.30567    |     1.4191886833560135e-05    |     43.60878244993883    |     9.683094870358306e-15\n",
      "1.0    |     0.75    |     1.149981397877131    |     63914576255.30567    |     1.4191886833560135e-05    |     29.40585497293815    |     6.529411449948819e-15\n",
      "1.0    |     1    |     1.1884279444711845    |     63914576255.30567    |     1.4191886833560135e-05    |     22.3043912320707    |     4.952569739218471e-15\n",
      "2.0    |     1e-05    |     0.37717527080267993    |     4995157.201103091    |     1.109147707257361e-09    |     931785.0004906042    |     2.0689783230900631e-10\n",
      "2.0    |     2e-05    |     0.36554739044387724    |     4995157.201103091    |     1.109147707257361e-09    |     513815.87386650965    |     1.1409004271689885e-10\n",
      "2.0    |     5e-05    |     0.35566593701725613    |     4995157.201103091    |     1.109147707257361e-09    |     219045.8674417109    |     4.8637953096555475e-11\n",
      "2.0    |     7.5e-05    |     0.35350368702121204    |     4995157.201103091    |     1.109147707257361e-09    |     148197.11674351306    |     3.29063702383421e-11\n",
      "2.0    |     0.0001    |     0.35281735349796645    |     4995157.201103091    |     1.109147707257361e-09    |     111978.62460516777    |     2.4864249460502868e-11\n",
      "2.0    |     0.0002    |     0.3534347525530857    |     4995157.201103091    |     1.109147707257361e-09    |     56624.48346399413    |     1.2573161059846545e-11\n",
      "2.0    |     0.0005    |     0.35502424154531387    |     4995157.201103091    |     1.109147707257361e-09    |     22805.49604335519    |     5.063837359066168e-12\n",
      "2.0    |     0.00075    |     0.3537163573870774    |     4995157.201103091    |     1.109147707257361e-09    |     15227.168148581879    |     3.3811105356788838e-12\n",
      "2.0    |     0.001    |     0.3515909417690525    |     4995157.201103091    |     1.109147707257361e-09    |     11429.335035838627    |     2.5378221825886065e-12\n",
      "2.0    |     0.002    |     0.3437425980245164    |     4995157.201103091    |     1.109147707257361e-09    |     5721.711678609156    |     1.2704752091717077e-12\n",
      "2.0    |     0.005    |     0.3384378232843961    |     4995157.201103091    |     1.109147707257361e-09    |     2290.858149957769    |     5.086726928466609e-13\n",
      "2.0    |     0.0075    |     0.34349118443995286    |     4995157.201103091    |     1.109147707257361e-09    |     1527.8054038403639    |     3.392409472980615e-13\n",
      "2.0    |     0.01    |     0.35145093865438165    |     4995157.201103091    |     1.109147707257361e-09    |     1146.1915618887435    |     2.5450565252799063e-13\n",
      "2.0    |     0.02    |     0.3879545312712365    |     4995157.201103091    |     1.109147707257361e-09    |     573.6614252411316    |     1.2737842452839745e-13\n",
      "2.0    |     0.05    |     0.47107485080566835    |     4995157.201103091    |     1.109147707257361e-09    |     230.08032761773362    |     5.108809544690143e-14\n",
      "2.0    |     0.075    |     0.5172647100633156    |     4995157.201103091    |     1.109147707257361e-09    |     153.7225530556974    |     3.4133263561319494e-14\n",
      "2.0    |     0.1    |     0.5526131904880448    |     4995157.201103091    |     1.109147707257361e-09    |     115.54279030330187    |     2.5655653224832402e-14\n",
      "2.0    |     0.2    |     0.6463104722195465    |     4995157.201103091    |     1.109147707257361e-09    |     58.272051797845286    |     1.2938994719623517e-14\n",
      "2.0    |     0.5    |     0.7972439807925055    |     4995157.201103091    |     1.109147707257361e-09    |     23.908978317115803    |     5.3088596445851184e-15\n",
      "2.0    |     0.75    |     0.8774340306364916    |     4995157.201103091    |     1.109147707257361e-09    |     16.272675559455408    |     3.613259815672489e-15\n",
      "2.0    |     1    |     0.9386486865700189    |     4995157.201103091    |     1.109147707257361e-09    |     12.454515425128456    |     2.7654579571053563e-15\n",
      "5.0    |     1e-05    |     0.7290963744458006    |     555.6368040064632    |     1.2337615462742217e-13    |     554.9108780960308    |     1.2321496669543538e-13\n",
      "5.0    |     2e-05    |     0.7291162264236533    |     555.6368040064632    |     1.2337615462742217e-13    |     554.1868499306456    |     1.2305420014749782e-13\n",
      "5.0    |     5e-05    |     0.7291757523892828    |     555.6368040064632    |     1.2337615462742217e-13    |     552.0260777777651    |     1.2257441234847845e-13\n",
      "5.0    |     7.5e-05    |     0.7292253230382062    |     555.6368040064632    |     1.2337615462742217e-13    |     550.2382870339176    |     1.221774430590722e-13\n",
      "5.0    |     0.0001    |     0.7292748625029507    |     555.6368040064632    |     1.2337615462742217e-13    |     548.4620596604103    |     1.2178304135366476e-13\n",
      "5.0    |     0.0002    |     0.7294727088701932    |     555.6368040064632    |     1.2337615462742217e-13    |     541.4705687792634    |     1.2023061852312354e-13\n",
      "5.0    |     0.0005    |     0.7300632679255015    |     555.6368040064632    |     1.2337615462742217e-13    |     521.5279990899012    |     1.158024785152592e-13\n",
      "5.0    |     0.00075    |     0.7305520056062913    |     555.6368040064632    |     1.2337615462742217e-13    |     505.99987151524897    |     1.1235454156272006e-13\n",
      "5.0    |     0.001    |     0.7310376814323818    |     555.6368040064632    |     1.2337615462742217e-13    |     491.37136147683947    |     1.0910635983059957e-13\n",
      "5.0    |     0.002    |     0.7329502858896305    |     555.6368040064632    |     1.2337615462742217e-13    |     440.4522822110076    |     9.780005299187158e-14\n",
      "5.0    |     0.005    |     0.7384152522426066    |     555.6368040064632    |     1.2337615462742217e-13    |     336.07266536594494    |     7.46231222072835e-14\n",
      "5.0    |     0.0075    |     0.742685910400422    |     555.6368040064632    |     1.2337615462742217e-13    |     280.70853882879675    |     6.232981660332298e-14\n",
      "5.0    |     0.01    |     0.7467295294070296    |     555.6368040064632    |     1.2337615462742217e-13    |     241.04573230445274    |     5.3522904398407065e-14\n"
     ]
    },
    {
     "name": "stdout",
     "output_type": "stream",
     "text": [
      "5.0    |     0.02    |     0.7610911745523714    |     555.6368040064632    |     1.2337615462742217e-13    |     154.16834802636316    |     3.423224992945854e-14\n",
      "5.0    |     0.05    |     0.7938460924485606    |     555.6368040064632    |     1.2337615462742217e-13    |     74.43525519938754    |     1.652794683324189e-14\n",
      "5.0    |     0.075    |     0.8150678569112059    |     555.6368040064632    |     1.2337615462742217e-13    |     52.21726682813808    |     1.1594562383118863e-14\n",
      "5.0    |     0.1    |     0.8333792535955519    |     555.6368040064632    |     1.2337615462742217e-13    |     40.3207059137721    |     8.9529952149219e-15\n",
      "5.0    |     0.2    |     0.8919888448352011    |     555.6368040064632    |     1.2337615462742217e-13    |     21.38286976604839    |     4.7479508693656115e-15\n",
      "5.0    |     0.5    |     1.0120030229593935    |     555.6368040064632    |     1.2337615462742217e-13    |     9.336977975122132    |     2.0732255856797125e-15\n",
      "5.0    |     0.75    |     1.082703837784837    |     555.6368040064632    |     1.2337615462742217e-13    |     6.585973686347975    |     1.4623799252317882e-15\n",
      "5.0    |     1    |     1.1385693673981578    |     555.6368040064632    |     1.2337615462742217e-13    |     5.200055382874522    |     1.1546442430786557e-15\n",
      "7.5    |     1e-05    |     1.1579727162941067    |     65.4206227436607    |     1.4526296331065658e-14    |     65.40750197167755    |     1.4523382934434347e-14\n",
      "7.5    |     2e-05    |     1.1579776842823724    |     65.4206227436607    |     1.4526296331065658e-14    |     65.39438654331293    |     1.4520470724324704e-14\n",
      "7.5    |     5e-05    |     1.1579925874856087    |     65.4206227436607    |     1.4526296331065658e-14    |     65.35507228730192    |     1.4511741205880818e-14\n",
      "7.5    |     7.5e-05    |     1.158005005949029    |     65.4206227436607    |     1.4526296331065658e-14    |     65.32234705876327    |     1.450447474543887e-14\n",
      "7.5    |     0.0001    |     1.1580174236191758    |     65.4206227436607    |     1.4526296331065658e-14    |     65.28965509555225    |     1.4497215671383456e-14\n",
      "7.5    |     0.0002    |     1.158067086367233    |     65.4206227436607    |     1.4526296331065658e-14    |     65.15921888360965    |     1.4468253014234745e-14\n",
      "7.5    |     0.0005    |     1.1582159984650573    |     65.4206227436607    |     1.4526296331065658e-14    |     64.77106671380932    |     1.4382065919040636e-14\n",
      "7.5    |     0.00075    |     1.1583400046414278    |     65.4206227436607    |     1.4526296331065658e-14    |     64.45117618545733    |     1.431103595305346e-14\n",
      "7.5    |     0.001    |     1.1584639315271188    |     65.4206227436607    |     1.4526296331065658e-14    |     64.13447892974602    |     1.42407150360282e-14\n",
      "7.5    |     0.002    |     1.1589588465897573    |     65.4206227436607    |     1.4526296331065658e-14    |     62.89868505684133    |     1.3966313673750304e-14\n",
      "7.5    |     0.005    |     1.1604360020625988    |     65.4206227436607    |     1.4526296331065658e-14    |     59.46547650580337    |     1.3203988237409841e-14\n",
      "7.5    |     0.0075    |     1.1616583144933827    |     65.4206227436607    |     1.4526296331065658e-14    |     56.882540434577145    |     1.26304612179278e-14\n",
      "7.5    |     0.01    |     1.1628728314959038    |     65.4206227436607    |     1.4526296331065658e-14    |     54.51817052965837    |     1.2105465636493478e-14\n",
      "7.5    |     0.02    |     1.1676546346371226    |     65.4206227436607    |     1.4526296331065658e-14    |     46.77181528449086    |     1.0385429246471314e-14\n",
      "7.5    |     0.05    |     1.181322059520699    |     65.4206227436607    |     1.4526296331065658e-14    |     32.91391372384849    |     7.308356969348503e-15\n",
      "7.5    |     0.075    |     1.1920256826753843    |     65.4206227436607    |     1.4526296331065658e-14    |     26.48423006114887    |     5.880680400671439e-15\n",
      "7.5    |     0.1    |     1.2021902002798601    |     65.4206227436607    |     1.4526296331065658e-14    |     22.210881996573832    |     4.931806517965727e-15\n",
      "7.5    |     0.2    |     1.2385142386896437    |     65.4206227436607    |     1.4526296331065658e-14    |     13.695471638717015    |     3.0410055892808907e-15\n",
      "7.5    |     0.5    |     1.320232194046067    |     65.4206227436607    |     1.4526296331065658e-14    |     6.7591697420605055    |     1.5008371749970507e-15\n",
      "7.5    |     0.75    |     1.3692070811077146    |     65.4206227436607    |     1.4526296331065658e-14    |     4.957375592564133    |     1.1007585049158958e-15\n",
      "7.5    |     1    |     1.4074503211973008    |     65.4206227436607    |     1.4526296331065658e-14    |     4.014324376831694    |     8.91359070294516e-16\n",
      "10.0    |     1e-05    |     1.4570968886841433    |     19.175864900543598    |     4.257897345936978e-15    |     19.174489304841288    |     4.257591902332722e-15\n",
      "10.0    |     2e-05    |     1.4570993187331154    |     19.175864900543598    |     4.257897345936978e-15    |     19.173113917340384    |     4.257286504958465e-15\n",
      "10.0    |     5e-05    |     1.4571066086154156    |     19.175864900543598    |     4.257897345936978e-15    |     19.168989003573486    |     4.256370590110744e-15\n",
      "10.0    |     7.5e-05    |     1.4571126832141403    |     19.175864900543598    |     4.257897345936978e-15    |     19.16555300557408    |     4.255607645292443e-15\n",
      "10.0    |     0.0001    |     1.4571187575372524    |     19.175864900543598    |     4.257897345936978e-15    |     19.16211830691502    |     4.254844988985655e-15\n",
      "10.0    |     0.0002    |     1.4571430520739161    |     19.175864900543598    |     4.257897345936978e-15    |     19.148392490952475    |     4.251797245602978e-15\n",
      "10.0    |     0.0005    |     1.4572159092372132    |     19.175864900543598    |     4.257897345936978e-15    |     19.107339239051974    |     4.242681592503844e-15\n",
      "10.0    |     0.00075    |     1.4572765932520462    |     19.175864900543598    |     4.257897345936978e-15    |     19.0732698075378    |     4.235116659043259e-15\n",
      "10.0    |     0.001    |     1.4573372497498747    |     19.175864900543598    |     4.257897345936978e-15    |     19.039328340305325    |     4.227580139361048e-15\n",
      "10.0    |     0.002    |     1.4575796008997444    |     19.175864900543598    |     4.257897345936978e-15    |     18.904827802739526    |     4.197715020635046e-15\n",
      "10.0    |     0.005    |     1.4583040248763595    |     19.175864900543598    |     4.257897345936978e-15    |     18.51309687468335    |     4.110733281477896e-15\n",
      "10.0    |     0.0075    |     1.4589047145245595    |     19.175864900543598    |     4.257897345936978e-15    |     18.19951378363079    |     4.04110384791396e-15\n",
      "10.0    |     0.01    |     1.4595026976623586    |     19.175864900543598    |     4.257897345936978e-15    |     17.896962960525276    |     3.9739240699277535e-15\n",
      "10.0    |     0.02    |     1.4618679084524946    |     19.175864900543598    |     4.257897345936978e-15    |     16.786203891155257    |     3.727286011202592e-15\n",
      "10.0    |     0.05    |     1.468716436218725    |     19.175864900543598    |     4.257897345936978e-15    |     14.185809264834266    |     3.1498824137519733e-15\n",
      "10.0    |     0.075    |     1.4741565641494    |     19.175864900543598    |     4.257897345936978e-15    |     12.594249511471265    |     2.7964851571019056e-15\n",
      "10.0    |     0.1    |     1.4793710196810033    |     19.175864900543598    |     4.257897345936978e-15    |     11.345519722685248    |     2.5192114444927967e-15\n",
      "10.0    |     0.2    |     1.4982457886579088    |     19.175864900543598    |     4.257897345936978e-15    |     8.230533331790681    |     1.8275455219797635e-15\n",
      "10.0    |     0.5    |     1.5410098659533928    |     19.175864900543598    |     4.257897345936978e-15    |     4.798974397071007    |     1.065586374042972e-15\n",
      "10.0    |     0.75    |     1.5663574352182954    |     19.175864900543598    |     4.257897345936978e-15    |     3.722315134424428    |     8.265199934297369e-16\n",
      "10.0    |     1    |     1.5858716852811883    |     19.175864900543598    |     4.257897345936978e-15    |     3.1211613132222835    |     6.930370307017338e-16\n",
      "20.0    |     1e-05    |     1.7286486756519497    |     2.142916234875076    |     4.758229887602718e-16    |     2.1428984173511347    |     4.758190324752076e-16\n",
      "20.0    |     2e-05    |     1.7286487644074318    |     2.142916234875076    |     4.758229887602718e-16    |     2.142880600382718    |     4.758150763134945e-16\n",
      "20.0    |     5e-05    |     1.7286490306649476    |     2.142916234875076    |     4.758229887602718e-16    |     2.142827152810354    |     4.758032085684048e-16\n",
      "20.0    |     7.5e-05    |     1.7286492525359831    |     2.142916234875076    |     4.758229887602718e-16    |     2.142782616985267    |     4.757933196287183e-16\n",
      "20.0    |     0.0001    |     1.7286494743977212    |     2.142916234875076    |     4.758229887602718e-16    |     2.1427380846311563    |     4.757834314597434e-16\n",
      "20.0    |     0.0002    |     1.7286503617517068    |     2.142916234875076    |     4.758229887602718e-16    |     2.1425599899163488    |     4.757438864891547e-16\n",
      "20.0    |     0.0005    |     1.7286530229215005    |     2.142916234875076    |     4.758229887602718e-16    |     2.1420260386871073    |     4.756253254994086e-16\n",
      "20.0    |     0.00075    |     1.7286552395412742    |     2.142916234875076    |     4.758229887602718e-16    |     2.1415814604086205    |     4.755266092912037e-16\n",
      "20.0    |     0.001    |     1.7286574552328229    |     2.142916234875076    |     4.758229887602718e-16    |     2.141137228134382    |     4.754279699113755e-16\n",
      "20.0    |     0.002    |     1.7286663087282652    |     2.142916234875076    |     4.758229887602718e-16    |     2.13936375101392    |     4.750341788848189e-16\n"
     ]
    },
    {
     "name": "stdout",
     "output_type": "stream",
     "text": [
      "20.0    |     0.005    |     1.7286927805265953    |     2.142916234875076    |     4.758229887602718e-16    |     2.1340762407576848    |     4.738601157589361e-16\n",
      "20.0    |     0.0075    |     1.7287147392794122    |     2.142916234875076    |     4.758229887602718e-16    |     2.1297073264769595    |     4.728900219135211e-16\n",
      "20.0    |     0.01    |     1.7287366067447665    |     2.142916234875076    |     4.758229887602718e-16    |     2.1253719446187813    |     4.719273737616228e-16\n",
      "20.0    |     0.02    |     1.7288231748695115    |     2.142916234875076    |     4.758229887602718e-16    |     2.1083581370698803    |     4.681495495861566e-16\n",
      "20.0    |     0.05    |     1.729074514919933    |     2.142916234875076    |     4.758229887602718e-16    |     2.060269448440304    |     4.574717157180394e-16\n",
      "20.0    |     0.075    |     1.7292748667352158    |     2.142916234875076    |     4.758229887602718e-16    |     2.0232719267437416    |     4.49256615629721e-16\n",
      "20.0    |     0.1    |     1.7294674543189974    |     2.142916234875076    |     4.758229887602718e-16    |     1.9887693614232314    |     4.415955071442282e-16\n",
      "20.0    |     0.2    |     1.730168466353089    |     2.142916234875076    |     4.758229887602718e-16    |     1.871261042321496    |     4.1550341885387885e-16\n",
      "20.0    |     0.5    |     1.731772516977181    |     2.142916234875076    |     4.758229887602718e-16    |     1.6422723278704796    |     3.6465771022131213e-16\n",
      "20.0    |     0.75    |     1.7327288355012878    |     2.142916234875076    |     4.758229887602718e-16    |     1.526875789694727    |     3.3903453149236083e-16\n",
      "20.0    |     1    |     1.7334658393718354    |     2.142916234875076    |     4.758229887602718e-16    |     1.446630124465455    |     3.212164144595808e-16\n",
      "50.0    |     1e-05    |     1.7391411403978456    |     1.0013610750249617    |     2.2234682429122227e-16    |     1.0013610614050856    |     2.2234682126700225e-16\n",
      "50.0    |     2e-05    |     1.7391411404618258    |     1.0013610750249617    |     2.2234682429122227e-16    |     1.0013610477854815    |     2.2234681824284264e-16\n",
      "50.0    |     5e-05    |     1.739141140653757    |     1.0013610750249617    |     2.2234682429122227e-16    |     1.0013610069283048    |     2.2234680917072697e-16\n",
      "50.0    |     7.5e-05    |     1.7391411408136919    |     1.0013610750249617    |     2.2234682429122227e-16    |     1.0013609728825315    |     2.223468016110467e-16\n",
      "50.0    |     0.0001    |     1.739141140973618    |     1.0013610750249617    |     2.2234682429122227e-16    |     1.0013609388384612    |     2.2234679405174456e-16\n",
      "50.0    |     0.0002    |     1.739141141613244    |     1.0013610750249617    |     2.2234682429122227e-16    |     1.0013608026792107    |     2.2234676381831757e-16\n",
      "50.0    |     0.0005    |     1.7391411435313566    |     1.0013610750249617    |     2.2234682429122227e-16    |     1.00136039436488    |     2.223466731543233e-16\n",
      "50.0    |     0.00075    |     1.7391411451289047    |     1.0013610750249617    |     2.2234682429122227e-16    |     1.0013600542900682    |     2.223465976425461e-16\n",
      "50.0    |     0.001    |     1.7391411467256548    |     1.0013610750249617    |     2.2234682429122227e-16    |     1.0013597143852402    |     2.2234652216851285e-16\n",
      "50.0    |     0.002    |     1.739141153104692    |     1.0013610750249617    |     2.2234682429122227e-16    |     1.0013583564632105    |     2.2234622064925224e-16\n",
      "50.0    |     0.005    |     1.7391411721656653    |     1.0013610750249617    |     2.2234682429122227e-16    |     1.0013542989220954    |     2.2234531969413837e-16\n",
      "50.0    |     0.0075    |     1.7391411879631307    |     1.0013610750249617    |     2.2234682429122227e-16    |     1.0013509361089248    |     2.2234457299961647e-16\n",
      "50.0    |     0.01    |     1.7391412036824188    |     1.0013610750249617    |     2.2234682429122227e-16    |     1.0013475899545612    |     2.223438300040928e-16\n",
      "50.0    |     0.02    |     1.7391412657893084    |     1.0013610750249617    |     2.2234682429122227e-16    |     1.0013343694737178    |     2.22340894467647e-16\n",
      "50.0    |     0.05    |     1.7391414450146114    |     1.0013610750249617    |     2.2234682429122227e-16    |     1.001296219922522    |     2.2233242356562365e-16\n",
      "50.0    |     0.075    |     1.739141586730339    |     1.0013610750249617    |     2.2234682429122227e-16    |     1.001266056190751    |     2.223257258717195e-16\n",
      "50.0    |     0.1    |     1.7391417220066685    |     1.0013610750249617    |     2.2234682429122227e-16    |     1.0012372643858902    |     2.223193328067841e-16\n",
      "50.0    |     0.2    |     1.7391422067646825    |     1.0013610750249617    |     2.2234682429122227e-16    |     1.0011341005544732    |     2.2229642583459456e-16\n",
      "50.0    |     0.5    |     1.7391432733304766    |     1.0013610750249617    |     2.2234682429122227e-16    |     1.0009071775605214    |     2.2224603880805413e-16\n",
      "50.0    |     0.75    |     1.7391438828572479    |     1.0013610750249617    |     2.2234682429122227e-16    |     1.0007775303834385    |     2.222172513518391e-16\n",
      "50.0    |     1    |     1.7391443400312507    |     1.0013610750249617    |     2.2234682429122227e-16    |     1.0006803060255958    |     2.2219566320771284e-16\n",
      "75.0    |     1e-05    |     1.7391475402804037    |     1.000000149021347    |     2.2204463801441744e-16    |     1.0000001490198573    |     2.2204463801408666e-16\n",
      "75.0    |     2e-05    |     1.7391475402804106    |     1.000000149021347    |     2.2204463801441744e-16    |     1.0000001490183668    |     2.220446380137557e-16\n",
      "75.0    |     5e-05    |     1.7391475402804306    |     1.000000149021347    |     2.2204463801441744e-16    |     1.0000001490138963    |     2.2204463801276305e-16\n",
      "75.0    |     7.5e-05    |     1.7391475402804475    |     1.000000149021347    |     2.2204463801441744e-16    |     1.0000001490101718    |     2.2204463801193603e-16\n",
      "75.0    |     0.0001    |     1.739147540280464    |     1.000000149021347    |     2.2204463801441744e-16    |     1.0000001490064463    |     2.220446380111088e-16\n",
      "75.0    |     0.0002    |     1.73914754028053    |     1.000000149021347    |     2.2204463801441744e-16    |     1.0000001489915489    |     2.220446380078009e-16\n",
      "75.0    |     0.0005    |     1.7391475402807293    |     1.000000149021347    |     2.2204463801441744e-16    |     1.0000001489468737    |     2.2204463799788104e-16\n",
      "75.0    |     0.00075    |     1.7391475402808942    |     1.000000149021347    |     2.2204463801441744e-16    |     1.000000148909665    |     2.2204463798961905e-16\n",
      "75.0    |     0.001    |     1.739147540281059    |     1.000000149021347    |     2.2204463801441744e-16    |     1.000000148872475    |     2.220446379813612e-16\n",
      "75.0    |     0.002    |     1.739147540281721    |     1.000000149021347    |     2.2204463801441744e-16    |     1.0000001487238994    |     2.220446379483708e-16\n",
      "75.0    |     0.005    |     1.739147540283696    |     1.000000149021347    |     2.2204463801441744e-16    |     1.0000001482799472    |     2.220446378497936e-16\n",
      "75.0    |     0.0075    |     1.7391475402853336    |     1.000000149021347    |     2.2204463801441744e-16    |     1.000000147912007    |     2.220446377680945e-16\n",
      "75.0    |     0.01    |     1.7391475402869627    |     1.000000149021347    |     2.2204463801441744e-16    |     1.0000001475458882    |     2.2204463768679976e-16\n",
      "75.0    |     0.02    |     1.7391475402933994    |     1.000000149021347    |     2.2204463801441744e-16    |     1.0000001460993597    |     2.220446373656059e-16\n",
      "75.0    |     0.05    |     1.7391475403119734    |     1.000000149021347    |     2.2204463801441744e-16    |     1.0000001419250921    |     2.220446364387323e-16\n",
      "75.0    |     0.075    |     1.7391475403266605    |     1.000000149021347    |     2.2204463801441744e-16    |     1.000000138624508    |     2.2204463570585544e-16\n",
      "75.0    |     0.1    |     1.7391475403406795    |     1.000000149021347    |     2.2204463801441744e-16    |     1.0000001354739512    |     2.2204463500629127e-16\n",
      "75.0    |     0.2    |     1.7391475403909142    |     1.000000149021347    |     2.2204463801441744e-16    |     1.0000001241844543    |     2.220446324995194e-16\n",
      "75.0    |     0.5    |     1.7391475405014305    |     1.000000149021347    |     2.2204463801441744e-16    |     1.0000000993475624    |     2.2204462698462155e-16\n",
      "75.0    |     0.75    |     1.7391475405645829    |     1.000000149021347    |     2.2204463801441744e-16    |     1.0000000851550528    |     2.2204462383325136e-16\n",
      "75.0    |     1    |     1.7391475406119472    |     1.000000149021347    |     2.2204463801441744e-16    |     1.0000000745106707    |     2.2204462146972376e-16\n",
      "100.0    |     1e-05    |     1.7391475409434953    |     1.000000000000426    |     2.220446049251259e-16    |     1.000000000000426    |     2.220446049251259e-16\n",
      "100.0    |     2e-05    |     1.7391475409434956    |     1.000000000000426    |     2.220446049251259e-16    |     1.000000000000426    |     2.220446049251259e-16\n",
      "100.0    |     5e-05    |     1.7391475409434949    |     1.000000000000426    |     2.220446049251259e-16    |     1.0000000000004259    |     2.2204460492512587e-16\n",
      "100.0    |     7.5e-05    |     1.7391475409434953    |     1.000000000000426    |     2.220446049251259e-16    |     1.0000000000004259    |     2.2204460492512587e-16\n",
      "100.0    |     0.0001    |     1.7391475409434953    |     1.000000000000426    |     2.220446049251259e-16    |     1.0000000000004259    |     2.2204460492512587e-16\n",
      "100.0    |     0.0002    |     1.7391475409434949    |     1.000000000000426    |     2.220446049251259e-16    |     1.0000000000004259    |     2.2204460492512587e-16\n",
      "100.0    |     0.0005    |     1.7391475409434953    |     1.000000000000426    |     2.220446049251259e-16    |     1.0000000000004257    |     2.220446049251258e-16\n",
      "100.0    |     0.00075    |     1.7391475409434953    |     1.000000000000426    |     2.220446049251259e-16    |     1.0000000000004259    |     2.2204460492512587e-16\n",
      "100.0    |     0.001    |     1.7391475409434956    |     1.000000000000426    |     2.220446049251259e-16    |     1.0000000000004254    |     2.2204460492512577e-16\n",
      "100.0    |     0.002    |     1.7391475409434953    |     1.000000000000426    |     2.220446049251259e-16    |     1.0000000000004252    |     2.2204460492512572e-16\n"
     ]
    },
    {
     "name": "stdout",
     "output_type": "stream",
     "text": [
      "100.0    |     0.005    |     1.7391475409434949    |     1.000000000000426    |     2.220446049251259e-16    |     1.0000000000004237    |     2.220446049251254e-16\n",
      "100.0    |     0.0075    |     1.739147540943495    |     1.000000000000426    |     2.220446049251259e-16    |     1.0000000000004228    |     2.220446049251252e-16\n",
      "100.0    |     0.01    |     1.7391475409434949    |     1.000000000000426    |     2.220446049251259e-16    |     1.0000000000004219    |     2.22044604925125e-16\n",
      "100.0    |     0.02    |     1.7391475409434953    |     1.000000000000426    |     2.220446049251259e-16    |     1.0000000000004174    |     2.22044604925124e-16\n",
      "100.0    |     0.05    |     1.7391475409434953    |     1.000000000000426    |     2.220446049251259e-16    |     1.000000000000406    |     2.2204460492512144e-16\n",
      "100.0    |     0.075    |     1.7391475409434956    |     1.000000000000426    |     2.220446049251259e-16    |     1.0000000000003963    |     2.220446049251193e-16\n",
      "100.0    |     0.1    |     1.7391475409434949    |     1.000000000000426    |     2.220446049251259e-16    |     1.0000000000003872    |     2.220446049251173e-16\n",
      "100.0    |     0.2    |     1.739147540943496    |     1.000000000000426    |     2.220446049251259e-16    |     1.0000000000003548    |     2.220446049251101e-16\n",
      "100.0    |     0.5    |     1.7391475409434953    |     1.000000000000426    |     2.220446049251259e-16    |     1.000000000000284    |     2.2204460492509437e-16\n",
      "100.0    |     0.75    |     1.7391475409434958    |     1.000000000000426    |     2.220446049251259e-16    |     1.0000000000002436    |     2.220446049250854e-16\n",
      "100.0    |     1    |     1.7391475409434958    |     1.000000000000426    |     2.220446049251259e-16    |     1.000000000000213    |     2.220446049250786e-16\n",
      "200.0    |     1e-05    |     1.739147540943497    |     1.0000000000000004    |     2.220446049250314e-16    |     1.0000000000000002    |     2.2204460492503136e-16\n",
      "200.0    |     2e-05    |     1.739147540943497    |     1.0000000000000004    |     2.220446049250314e-16    |     1.0000000000000002    |     2.2204460492503136e-16\n",
      "200.0    |     5e-05    |     1.7391475409434967    |     1.0000000000000004    |     2.220446049250314e-16    |     1.0000000000000004    |     2.220446049250314e-16\n",
      "200.0    |     7.5e-05    |     1.7391475409434973    |     1.0000000000000004    |     2.220446049250314e-16    |     1.0000000000000004    |     2.220446049250314e-16\n",
      "200.0    |     0.0001    |     1.739147540943497    |     1.0000000000000004    |     2.220446049250314e-16    |     1.0000000000000002    |     2.2204460492503136e-16\n",
      "200.0    |     0.0002    |     1.739147540943497    |     1.0000000000000004    |     2.220446049250314e-16    |     1.0000000000000004    |     2.220446049250314e-16\n",
      "200.0    |     0.0005    |     1.7391475409434973    |     1.0000000000000004    |     2.220446049250314e-16    |     1.0000000000000004    |     2.220446049250314e-16\n",
      "200.0    |     0.00075    |     1.7391475409434967    |     1.0000000000000004    |     2.220446049250314e-16    |     1.0000000000000004    |     2.220446049250314e-16\n",
      "200.0    |     0.001    |     1.739147540943497    |     1.0000000000000004    |     2.220446049250314e-16    |     1.0000000000000004    |     2.220446049250314e-16\n",
      "200.0    |     0.002    |     1.739147540943497    |     1.0000000000000004    |     2.220446049250314e-16    |     1.0000000000000004    |     2.220446049250314e-16\n",
      "200.0    |     0.005    |     1.7391475409434969    |     1.0000000000000004    |     2.220446049250314e-16    |     1.0000000000000004    |     2.220446049250314e-16\n",
      "200.0    |     0.0075    |     1.7391475409434973    |     1.0000000000000004    |     2.220446049250314e-16    |     1.0000000000000004    |     2.220446049250314e-16\n",
      "200.0    |     0.01    |     1.739147540943497    |     1.0000000000000004    |     2.220446049250314e-16    |     1.0000000000000004    |     2.220446049250314e-16\n",
      "200.0    |     0.02    |     1.739147540943497    |     1.0000000000000004    |     2.220446049250314e-16    |     1.0000000000000004    |     2.220446049250314e-16\n",
      "200.0    |     0.05    |     1.739147540943497    |     1.0000000000000004    |     2.220446049250314e-16    |     1.0000000000000004    |     2.220446049250314e-16\n",
      "200.0    |     0.075    |     1.739147540943497    |     1.0000000000000004    |     2.220446049250314e-16    |     1.0    |     2.220446049250313e-16\n",
      "200.0    |     0.1    |     1.739147540943497    |     1.0000000000000004    |     2.220446049250314e-16    |     1.0000000000000007    |     2.2204460492503146e-16\n",
      "200.0    |     0.2    |     1.7391475409434973    |     1.0000000000000004    |     2.220446049250314e-16    |     1.0000000000000004    |     2.220446049250314e-16\n",
      "200.0    |     0.5    |     1.739147540943497    |     1.0000000000000004    |     2.220446049250314e-16    |     1.0    |     2.220446049250313e-16\n",
      "200.0    |     0.75    |     1.739147540943497    |     1.0000000000000004    |     2.220446049250314e-16    |     1.0000000000000002    |     2.2204460492503136e-16\n",
      "200.0    |     1    |     1.7391475409434967    |     1.0000000000000004    |     2.220446049250314e-16    |     1.0000000000000004    |     2.220446049250314e-16\n",
      "500.0    |     1e-05    |     1.739147540943497    |     1.0    |     2.220446049250313e-16    |     1.0    |     2.220446049250313e-16\n",
      "500.0    |     2e-05    |     1.739147540943497    |     1.0    |     2.220446049250313e-16    |     1.0    |     2.220446049250313e-16\n",
      "500.0    |     5e-05    |     1.739147540943497    |     1.0    |     2.220446049250313e-16    |     1.0    |     2.220446049250313e-16\n",
      "500.0    |     7.5e-05    |     1.739147540943497    |     1.0    |     2.220446049250313e-16    |     1.0    |     2.220446049250313e-16\n",
      "500.0    |     0.0001    |     1.739147540943497    |     1.0    |     2.220446049250313e-16    |     1.0    |     2.220446049250313e-16\n",
      "500.0    |     0.0002    |     1.739147540943497    |     1.0    |     2.220446049250313e-16    |     1.0    |     2.220446049250313e-16\n",
      "500.0    |     0.0005    |     1.739147540943497    |     1.0    |     2.220446049250313e-16    |     1.0    |     2.220446049250313e-16\n",
      "500.0    |     0.00075    |     1.739147540943497    |     1.0    |     2.220446049250313e-16    |     1.0    |     2.220446049250313e-16\n",
      "500.0    |     0.001    |     1.739147540943497    |     1.0    |     2.220446049250313e-16    |     1.0    |     2.220446049250313e-16\n",
      "500.0    |     0.002    |     1.739147540943497    |     1.0    |     2.220446049250313e-16    |     1.0    |     2.220446049250313e-16\n",
      "500.0    |     0.005    |     1.739147540943497    |     1.0    |     2.220446049250313e-16    |     1.0    |     2.220446049250313e-16\n",
      "500.0    |     0.0075    |     1.739147540943497    |     1.0    |     2.220446049250313e-16    |     1.0    |     2.220446049250313e-16\n",
      "500.0    |     0.01    |     1.739147540943497    |     1.0    |     2.220446049250313e-16    |     1.0    |     2.220446049250313e-16\n",
      "500.0    |     0.02    |     1.739147540943497    |     1.0    |     2.220446049250313e-16    |     1.0    |     2.220446049250313e-16\n",
      "500.0    |     0.05    |     1.739147540943497    |     1.0    |     2.220446049250313e-16    |     1.0    |     2.220446049250313e-16\n",
      "500.0    |     0.075    |     1.739147540943497    |     1.0    |     2.220446049250313e-16    |     1.0    |     2.220446049250313e-16\n",
      "500.0    |     0.1    |     1.739147540943497    |     1.0    |     2.220446049250313e-16    |     1.0    |     2.220446049250313e-16\n",
      "500.0    |     0.2    |     1.739147540943497    |     1.0    |     2.220446049250313e-16    |     1.0    |     2.220446049250313e-16\n",
      "500.0    |     0.5    |     1.739147540943497    |     1.0    |     2.220446049250313e-16    |     1.0    |     2.220446049250313e-16\n",
      "500.0    |     0.75    |     1.739147540943497    |     1.0    |     2.220446049250313e-16    |     1.0    |     2.220446049250313e-16\n",
      "500.0    |     1    |     1.739147540943497    |     1.0    |     2.220446049250313e-16    |     1.0    |     2.220446049250313e-16\n",
      "1000.0    |     1e-05    |     1.739147540943497    |     1.0    |     2.220446049250313e-16    |     1.0    |     2.220446049250313e-16\n",
      "1000.0    |     2e-05    |     1.739147540943497    |     1.0    |     2.220446049250313e-16    |     1.0    |     2.220446049250313e-16\n",
      "1000.0    |     5e-05    |     1.739147540943497    |     1.0    |     2.220446049250313e-16    |     1.0    |     2.220446049250313e-16\n",
      "1000.0    |     7.5e-05    |     1.739147540943497    |     1.0    |     2.220446049250313e-16    |     1.0    |     2.220446049250313e-16\n",
      "1000.0    |     0.0001    |     1.739147540943497    |     1.0    |     2.220446049250313e-16    |     1.0    |     2.220446049250313e-16\n",
      "1000.0    |     0.0002    |     1.739147540943497    |     1.0    |     2.220446049250313e-16    |     1.0    |     2.220446049250313e-16\n",
      "1000.0    |     0.0005    |     1.739147540943497    |     1.0    |     2.220446049250313e-16    |     1.0    |     2.220446049250313e-16\n",
      "1000.0    |     0.00075    |     1.739147540943497    |     1.0    |     2.220446049250313e-16    |     1.0    |     2.220446049250313e-16\n",
      "1000.0    |     0.001    |     1.739147540943497    |     1.0    |     2.220446049250313e-16    |     1.0    |     2.220446049250313e-16\n",
      "1000.0    |     0.002    |     1.739147540943497    |     1.0    |     2.220446049250313e-16    |     1.0    |     2.220446049250313e-16\n"
     ]
    },
    {
     "name": "stdout",
     "output_type": "stream",
     "text": [
      "1000.0    |     0.005    |     1.739147540943497    |     1.0    |     2.220446049250313e-16    |     1.0    |     2.220446049250313e-16\n",
      "1000.0    |     0.0075    |     1.739147540943497    |     1.0    |     2.220446049250313e-16    |     1.0    |     2.220446049250313e-16\n",
      "1000.0    |     0.01    |     1.739147540943497    |     1.0    |     2.220446049250313e-16    |     1.0    |     2.220446049250313e-16\n",
      "1000.0    |     0.02    |     1.739147540943497    |     1.0    |     2.220446049250313e-16    |     1.0    |     2.220446049250313e-16\n",
      "1000.0    |     0.05    |     1.739147540943497    |     1.0    |     2.220446049250313e-16    |     1.0    |     2.220446049250313e-16\n",
      "1000.0    |     0.075    |     1.739147540943497    |     1.0    |     2.220446049250313e-16    |     1.0    |     2.220446049250313e-16\n",
      "1000.0    |     0.1    |     1.739147540943497    |     1.0    |     2.220446049250313e-16    |     1.0    |     2.220446049250313e-16\n",
      "1000.0    |     0.2    |     1.739147540943497    |     1.0    |     2.220446049250313e-16    |     1.0    |     2.220446049250313e-16\n",
      "1000.0    |     0.5    |     1.739147540943497    |     1.0    |     2.220446049250313e-16    |     1.0    |     2.220446049250313e-16\n",
      "1000.0    |     0.75    |     1.739147540943497    |     1.0    |     2.220446049250313e-16    |     1.0    |     2.220446049250313e-16\n",
      "1000.0    |     1    |     1.739147540943497    |     1.0    |     2.220446049250313e-16    |     1.0    |     2.220446049250313e-16\n"
     ]
    }
   ],
   "source": [
    "result = rbf_class.rbf_training()"
   ]
  },
  {
   "cell_type": "markdown",
   "metadata": {},
   "source": [
    "#### Step 5: View model metrics\n",
    "    \n",
    "We can view the Root Mean Square Error (RMSE) and $R^2$ values of the RBF fit based on the training data:"
   ]
  },
  {
   "cell_type": "code",
   "execution_count": 27,
   "metadata": {},
   "outputs": [
    {
     "name": "stdout",
     "output_type": "stream",
     "text": [
      "R2:  0.9918215668808764 \n",
      "RMSE:  0.02108034588741042\n"
     ]
    }
   ],
   "source": [
    "print('R2: ', result.R2, '\\nRMSE: ', result.rmse)"
   ]
  },
  {
   "cell_type": "markdown",
   "metadata": {},
   "source": [
    "#### Step 6 (Optional): Generate Pyomo expression output at any unsampled point\n",
    "\n",
    "\n",
    "Based on the model we trained, we can predict the surrogate value at any previously unsampled point. We do this by calling the function ``rbf_predict_output``.\n",
    "\n",
    "Let us again evaluate the RBF surrogate at the same set of points we considered for the polynomial model:\n",
    "\n",
    "- $x_{1}=5$, $x_{2}=8$   (true function value: 57.9908)\n",
    "- $x_{1}=-3$, $x_{2}=10$ (true function value: 4.2461)\n",
    "- $x_{1}=-2$, $x_{2}=3$  (true function value: 50.8899)"
   ]
  },
  {
   "cell_type": "code",
   "execution_count": 28,
   "metadata": {},
   "outputs": [
    {
     "name": "stdout",
     "output_type": "stream",
     "text": [
      "[[61.06401281]\n",
      " [12.7142377 ]\n",
      " [50.97501439]]\n"
     ]
    }
   ],
   "source": [
    "unsampled_points = np.array([ [5, 8], [-3, 10], [-2, 3]])\n",
    "ys = rbf_class.rbf_predict_output(result, unsampled_points)\n",
    "print(ys)"
   ]
  },
  {
   "cell_type": "markdown",
   "metadata": {},
   "source": [
    "The results from the RBF surrogate are slightly better than those obtained form the polynomial.\n",
    "\n",
    "\n",
    "For RBF models, the Pyomo expression is generated by calling ``rbf_generate_expression`` on the results object, while parity plots may be viewed with the ``parity_residual_plots`` method.\n",
    "\n",
    "Further information about using PySMO's RBF tool and features can be found in the [documentation](https://idaes-pse.readthedocs.io/en/stable/surrogate/pysmo/pysmo_radialbasisfunctions.html)."
   ]
  },
  {
   "cell_type": "markdown",
   "metadata": {},
   "source": [
    "### Training Kriging models\n",
    "\n",
    "The ``KrigingModel`` class trains Kriging from data. For details about Kriging models, users should consult the documentation.\n",
    "\n",
    "As an example, we will again consider the Brainin function. The same dataset loaded previously will be used."
   ]
  },
  {
   "cell_type": "markdown",
   "metadata": {},
   "source": [
    "#### Step 1: Load the data and import the Kriging tool"
   ]
  },
  {
   "cell_type": "code",
   "execution_count": 29,
   "metadata": {},
   "outputs": [],
   "source": [
    "import numpy as np\n",
    "brainin_data = np.loadtxt('brainin_30.txt')\n",
    "from idaes.surrogate.pysmo.kriging import KrigingModel"
   ]
  },
  {
   "cell_type": "markdown",
   "metadata": {},
   "source": [
    "#### Step 2: Specify the Kriging settings and initialize the KrigingModel class\n",
    "    \n",
    "The KrigingModel class takes a number of keyword arguments:\n",
    "\n",
    "      -  XY_data                       : The dataset for Kriging training. training_data is expected to contain xy_data, \n",
    "                                         with the output values (y) in the last column.\n",
    "\n",
    "\n",
    "It also takes a number of optional arguments:\n",
    "\n",
    "      -  regularization                : Boolean variable determining whether regularization is done. Default is True.\n",
    "      -  numerical_gradients           : Boolean variable which determines whether numerical gradients are used when\n",
    "                                         solving the max. likelihood optimization problem. Default is True.\n",
    "      -  fname                         : Filename for saving (.pickle extension)\n",
    "      - overwrite                      : Option determining whether any existing file with the same name supplied in 'fname'  \n",
    "                                         should be overwritten."
   ]
  },
  {
   "cell_type": "markdown",
   "metadata": {},
   "source": [
    "\n",
    "For this demonstration, we will train a Kriging model with regularization:"
   ]
  },
  {
   "cell_type": "code",
   "execution_count": 30,
   "metadata": {},
   "outputs": [],
   "source": [
    "krg_class = KrigingModel(XY_data=brainin_data, overwrite=True)"
   ]
  },
  {
   "cell_type": "markdown",
   "metadata": {},
   "source": [
    "#### Step 3: Extract variable names (optional)\n",
    "Next, we extract Pyomo variable names from the dataset."
   ]
  },
  {
   "cell_type": "code",
   "execution_count": 31,
   "metadata": {},
   "outputs": [],
   "source": [
    "vars = krg_class.get_feature_vector()"
   ]
  },
  {
   "cell_type": "markdown",
   "metadata": {},
   "source": [
    "#### Step 4: Train the Kriging surrogate\n",
    "Next, we train the RBF surrogate by calling ``kriging_training``:"
   ]
  },
  {
   "cell_type": "code",
   "execution_count": 32,
   "metadata": {},
   "outputs": [
    {
     "name": "stdout",
     "output_type": "stream",
     "text": [
      "Optimizing kriging parameters using L-BFGS-B algorithm...\n",
      "\n",
      "Final results\n",
      "================\n",
      "Theta: [6.13597417 0.62635978] \n",
      "Mean: [[254.82451253]] \n",
      "Regularization parameter: 1e-06\n"
     ]
    }
   ],
   "source": [
    "result = krg_class.kriging_training()"
   ]
  },
  {
   "cell_type": "markdown",
   "metadata": {},
   "source": [
    "The returned information correspond to the Kriging model parameters.\n",
    "\n",
    "As we can see, the optimization problem was solved using SciPy's L-BFGS algorithm which makes use of gradients. A different algorithm  (Basinhopping) is used when no numerical gradients are computed (when numerical_gradients is set to False). The user should try this."
   ]
  },
  {
   "cell_type": "markdown",
   "metadata": {},
   "source": [
    "#### Step 5: View model metrics\n",
    "    \n",
    "We can view the RMSE and $R^2$ values of the Kriging fit based on the training data:"
   ]
  },
  {
   "cell_type": "code",
   "execution_count": 33,
   "metadata": {},
   "outputs": [
    {
     "name": "stdout",
     "output_type": "stream",
     "text": [
      "R2:  0.9999990384747636 \n",
      "RMSE:  0.05436583376104543\n"
     ]
    }
   ],
   "source": [
    "print('R2: ', result.training_R2, '\\nRMSE: ', result.training_rmse)"
   ]
  },
  {
   "cell_type": "markdown",
   "metadata": {},
   "source": [
    "#### Step 6 (Optional): Generate Pyomo expression output at any unsampled point\n",
    "\n",
    "\n",
    "Again, based on the model we trained, we evaluate the surrogate at a set of  off-design points:\n",
    "\n",
    "- $x_{1}=5$, $x_{2}=8$   (true function value: 57.9908)\n",
    "- $x_{1}=-3$, $x_{2}=10$ (true function value: 4.2461)\n",
    "- $x_{1}=-2$, $x_{2}=3$  (true function value: 50.8899)\n",
    "\n",
    "We do this by calling the function ``kriging_predict_output``:"
   ]
  },
  {
   "cell_type": "code",
   "execution_count": 34,
   "metadata": {},
   "outputs": [
    {
     "name": "stdout",
     "output_type": "stream",
     "text": [
      "[[57.61495229]\n",
      " [ 4.57423363]\n",
      " [50.66442555]]\n"
     ]
    }
   ],
   "source": [
    "unsampled_points = np.array([ [5, 8], [-3, 10], [-2, 3]])\n",
    "ys = krg_class.kriging_predict_output(result, unsampled_points)\n",
    "print(ys)"
   ]
  },
  {
   "cell_type": "markdown",
   "metadata": {},
   "source": [
    "The Kriging model performs very well, predicting all three points fairly accurately. \n",
    "\n",
    "For RBF models, the Pyomo expression is generated by calling ``kriging_generate_expression`` on the results object: "
   ]
  },
  {
   "cell_type": "code",
   "execution_count": 35,
   "metadata": {},
   "outputs": [
    {
     "name": "stdout",
     "output_type": "stream",
     "text": [
      "-16860.84228630853*exp(- (6.13597417358878*((x[1] + 4.929217157135412)/14.643030012320084 - 0.5518182560031254)**2 + 0.6263597763589106*((x[2] - 0.22882456869508516)/14.45053220191546 - 0.2731190901874679)**2)) - 40920.411996132694*exp(- (6.13597417358878*((x[1] + 4.929217157135412)/14.643030012320084 - 0.4300326512391472)**2 + 0.6263597763589106*((x[2] - 0.22882456869508516)/14.45053220191546 - 0.8610629174234938)**2)) + 22454.766001837328*exp(- (6.13597417358878*((x[1] + 4.929217157135412)/14.643030012320084)**2 + 0.6263597763589106*((x[2] - 0.22882456869508516)/14.45053220191546 - 0.11035664436222248)**2)) + 4494.834172708914*exp(- (6.13597417358878*((x[1] + 4.929217157135412)/14.643030012320084 - 0.6822668136056202)**2 + 0.6263597763589106*((x[2] - 0.22882456869508516)/14.45053220191546 - 0.8414199967160326)**2)) + 52334.95613089483*exp(- (6.13597417358878*((x[1] + 4.929217157135412)/14.643030012320084 - 0.13520535030959882)**2 + 0.6263597763589106*((x[2] - 0.22882456869508516)/14.45053220191546 - 0.5811256814195772)**2)) + 33380.00650947692*exp(- (6.13597417358878*((x[1] + 4.929217157135412)/14.643030012320084 - 0.908216841775921)**2 + 0.6263597763589106*((x[2] - 0.22882456869508516)/14.45053220191546 - 0.20132180755786522)**2)) + 21104.278651665896*exp(- (6.13597417358878*((x[1] + 4.929217157135412)/14.643030012320084 - 0.18501228557936236)**2 + 0.6263597763589106*((x[2] - 0.22882456869508516)/14.45053220191546 - 0.09666279198240106)**2)) - 4156.3944474733435*exp(- (6.13597417358878*((x[1] + 4.929217157135412)/14.643030012320084 - 0.22021941796179972)**2 + 0.6263597763589106*((x[2] - 0.22882456869508516)/14.45053220191546 - 1.0)**2)) - 73722.04190163687*exp(- (6.13597417358878*((x[1] + 4.929217157135412)/14.643030012320084 - 0.8266365897830592)**2 + 0.6263597763589106*((x[2] - 0.22882456869508516)/14.45053220191546 - 0.16264387978612238)**2)) - 25410.43403415894*exp(- (6.13597417358878*((x[1] + 4.929217157135412)/14.643030012320084 - 0.831288905218487)**2 + 0.6263597763589106*((x[2] - 0.22882456869508516)/14.45053220191546 - 0.26866011456766936)**2)) + 18382.531598930247*exp(- (6.13597417358878*((x[1] + 4.929217157135412)/14.643030012320084 - 0.43739443999592303)**2 + 0.6263597763589106*((x[2] - 0.22882456869508516)/14.45053220191546 - 0.9599385359524552)**2)) + 3798.5115482541732*exp(- (6.13597417358878*((x[1] + 4.929217157135412)/14.643030012320084 - 0.8327482651149929)**2 + 0.6263597763589106*((x[2] - 0.22882456869508516)/14.45053220191546 - 0.3330572615505772)**2)) + 184033.73156479746*exp(- (6.13597417358878*((x[1] + 4.929217157135412)/14.643030012320084 - 0.17485274298531528)**2 + 0.6263597763589106*((x[2] - 0.22882456869508516)/14.45053220191546 - 0.3711736045917253)**2)) - 23628.13136090152*exp(- (6.13597417358878*((x[1] + 4.929217157135412)/14.643030012320084 - 0.0009932894634358945)**2 + 0.6263597763589106*((x[2] - 0.22882456869508516)/14.45053220191546 - 0.2461895993357224)**2)) + 12995.878321844153*exp(- (6.13597417358878*((x[1] + 4.929217157135412)/14.643030012320084 - 0.8102253955808789)**2 + 0.6263597763589106*((x[2] - 0.22882456869508516)/14.45053220191546)**2)) - 1216.3125639588106*exp(- (6.13597417358878*((x[1] + 4.929217157135412)/14.643030012320084 - 0.6086081776493459)**2 + 0.6263597763589106*((x[2] - 0.22882456869508516)/14.45053220191546 - 0.6109286075828757)**2)) - 59927.361003908794*exp(- (6.13597417358878*((x[1] + 4.929217157135412)/14.643030012320084 - 0.1028770983224648)**2 + 0.6263597763589106*((x[2] - 0.22882456869508516)/14.45053220191546 - 0.38063145554753214)**2)) - 4649.967597159557*exp(- (6.13597417358878*((x[1] + 4.929217157135412)/14.643030012320084 - 0.0325313822086792)**2 + 0.6263597763589106*((x[2] - 0.22882456869508516)/14.45053220191546 - 0.9084335925839453)**2)) - 3749.4355607659236*exp(- (6.13597417358878*((x[1] + 4.929217157135412)/14.643030012320084 - 1.0)**2 + 0.6263597763589106*((x[2] - 0.22882456869508516)/14.45053220191546 - 0.046386199083146756)**2)) - 7936.690963881381*exp(- (6.13597417358878*((x[1] + 4.929217157135412)/14.643030012320084 - 0.9074219145138307)**2 + 0.6263597763589106*((x[2] - 0.22882456869508516)/14.45053220191546 - 0.5830026053427076)**2)) - 2032.856182918651*exp(- (6.13597417358878*((x[1] + 4.929217157135412)/14.643030012320084 - 0.7557460774371298)**2 + 0.6263597763589106*((x[2] - 0.22882456869508516)/14.45053220191546 - 0.6383110566137417)**2)) + 808.4339634944918*exp(- (6.13597417358878*((x[1] + 4.929217157135412)/14.643030012320084 - 0.5911925356865033)**2 + 0.6263597763589106*((x[2] - 0.22882456869508516)/14.45053220191546 - 0.005381283583344741)**2)) - 141781.1548443921*exp(- (6.13597417358878*((x[1] + 4.929217157135412)/14.643030012320084 - 0.21031274399063923)**2 + 0.6263597763589106*((x[2] - 0.22882456869508516)/14.45053220191546 - 0.5495609776179707)**2)) + 67637.52224665275*exp(- (6.13597417358878*((x[1] + 4.929217157135412)/14.643030012320084 - 0.7830308832306688)**2 + 0.6263597763589106*((x[2] - 0.22882456869508516)/14.45053220191546 - 0.24439265066740792)**2)) + 22202.636560525745*exp(- (6.13597417358878*((x[1] + 4.929217157135412)/14.643030012320084 - 0.28803140536417743)**2 + 0.6263597763589106*((x[2] - 0.22882456869508516)/14.45053220191546 - 0.8689715765112118)**2)) + 1426.5278500480927*exp(- (6.13597417358878*((x[1] + 4.929217157135412)/14.643030012320084 - 0.993941455353761)**2 + 0.6263597763589106*((x[2] - 0.22882456869508516)/14.45053220191546 - 0.9026639746834018)**2)) + 37949.460483095376*exp(- (6.13597417358878*((x[1] + 4.929217157135412)/14.643030012320084 - 0.36343808704287006)**2 + 0.6263597763589106*((x[2] - 0.22882456869508516)/14.45053220191546 - 0.6057949629205177)**2)) + 8713.84178506257*exp(- (6.13597417358878*((x[1] + 4.929217157135412)/14.643030012320084 - 0.3586109792561233)**2 + 0.6263597763589106*((x[2] - 0.22882456869508516)/14.45053220191546 - 0.3372905989731323)**2)) - 101100.37373342365*exp(- (6.13597417358878*((x[1] + 4.929217157135412)/14.643030012320084 - 0.17758838147122427)**2 + 0.6263597763589106*((x[2] - 0.22882456869508516)/14.45053220191546 - 0.23089727866378493)**2)) + 15374.491087802686*exp(- (6.13597417358878*((x[1] + 4.929217157135412)/14.643030012320084 - 0.04112204875223326)**2 + 0.6263597763589106*((x[2] - 0.22882456869508516)/14.45053220191546 - 0.5088149538788017)**2)) + 254.82451252605608\n"
     ]
    }
   ],
   "source": [
    "print(result.kriging_generate_expression([m.x[1], m.x[2]]))"
   ]
  },
  {
   "cell_type": "markdown",
   "metadata": {},
   "source": [
    "As we can see, expressing a Kriging model algebraically is pretty complicated!\n",
    "\n",
    "Parity plots for the Kriging model may be viewed with the ``parity_residual_plots`` method.\n",
    "\n",
    "Further information about using PySMO's Krigng tool and features can be found in the [documentation](https://idaes-pse.readthedocs.io/en/stable/surrogate/pysmo/pysmo_kriging.html)."
   ]
  },
  {
   "cell_type": "markdown",
   "metadata": {},
   "source": [
    "## Summary\n",
    "\n",
    "PySMO allows IDAES users to sample design spaces and generate different types of surrogate models. Further information about PySMO's capabilities may be found in the documentation."
   ]
  }
 ],
 "metadata": {
  "kernelspec": {
   "display_name": "Python 3",
   "language": "python",
   "name": "python3"
  },
  "language_info": {
   "codemirror_mode": {
    "name": "ipython",
    "version": 3
   },
   "file_extension": ".py",
   "mimetype": "text/x-python",
   "name": "python",
   "nbconvert_exporter": "python",
   "pygments_lexer": "ipython3",
   "version": "3.8.3"
  }
 },
 "nbformat": 4,
 "nbformat_minor": 2
}
