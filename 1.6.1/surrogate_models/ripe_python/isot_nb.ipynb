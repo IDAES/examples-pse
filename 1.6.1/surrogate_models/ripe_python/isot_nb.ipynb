{
 "cells": [
  {
   "cell_type": "markdown",
   "metadata": {},
   "source": [
    "Example from:\n",
    "\n",
    "Wilson, Zachary T., and Nikolaos V. Sahinidis. \"Automated learning of chemical reaction networks.\" Computers & Chemical Engineering 127 (2019): 88-98.\n",
    "https://doi.org/10.1016/j.compchemeng.2019.05.020\n",
    "\n",
    "*Case 1: Isothermal CSTR*\n",
    "\n",
    "For isothermal CSTRs across a known range of feed concentrations, $C_s^l \\leq C_s^0 \\leq C_s^u$, s $\\in$ F. \n",
    "\n",
    "The simulated reaction networks id defined below, where $k_1^{true} = 1.5$, $k_2^{true} = 2.1$, and $k_3^{true} = 0.9$ with a residence time of $\\tau = 1$ is used for the reactor. \n",
    "\n",
    "\n",
    "$A + B \\rightarrow C \\quad  \\{{k_1^{true}}\\}$ \n",
    "\n",
    "$B + C \\rightarrow D \\quad  \\{{k_2^{true}}\\}$\n",
    "\n",
    "$A + D \\rightarrow E \\quad  \\{{k_3^{true}}\\}$\n",
    "\n",
    "Initial concentrations are specificed for species $F = {A,B}$ over the range $0 \\leq C_s^0 \\leq 10$, $s\\in F$."
   ]
  },
  {
   "cell_type": "code",
   "execution_count": null,
   "metadata": {},
   "outputs": [],
   "source": [
    "# Imports\n",
    "\n",
    "import pyomo.environ as pyo\n",
    "from idaes.surrogate import ripe\n",
    "import numpy as np\n",
    "import random\n",
    "import isotsim\n",
    "\n",
    "np.random.seed(20)\n",
    "\n",
    "# Setup the problem\n",
    "noise = 0.1\n",
    "ns = 5  # number of species\n",
    "lb_conc = [0,0,0,0,0]\n",
    "ub_conc = [10,10,0,0,0]\n",
    "\n",
    "# initial concentrations - only 2 data points\n",
    "cdata0 = [[1,1,0,0,0],[10,10,0,0,0]]\n",
    "cdata = isotsim.sim(cdata0)\n",
    "nd = len(cdata0) # number of data points\n",
    "\n",
    "# Expected variance based off the noise in the data\n",
    "sigma = np.multiply(noise**2,np.array(cdata))"
   ]
  },
  {
   "cell_type": "markdown",
   "metadata": {},
   "source": [
    "The postulated set reaction stoichiometries is defined as:\n",
    "\n",
    "$ A + B \\rightarrow C $\n",
    "\n",
    "$ B + C \\rightarrow D $\n",
    "\n",
    "$ A + D \\rightarrow E $\n",
    "\n",
    "$ A + 2B \\rightarrow D $\n",
    "\n",
    "$ 2A + 2B \\rightarrow E $\n",
    "\n",
    "$ A + B + C \\rightarrow E $\n",
    "\n",
    "$ 2A + B + D \\rightarrow C + E$\n",
    "\n",
    "$ C + D \\rightarrow E + A $\n",
    "\n",
    "$ 3A + 3B \\rightarrow C + E $\n",
    "\n",
    "$ 3A + 4B \\rightarrow D + E $\n",
    "\n",
    "$ 2A + 3B  \\rightarrow C + D $\n",
    "\n",
    "$ 4A + 5B \\rightarrow C + D + E $"
   ]
  },
  {
   "cell_type": "code",
   "execution_count": null,
   "metadata": {},
   "outputs": [],
   "source": [
    "# considered reaction stoichiometries\n",
    "#            A   B   C   D   E\n",
    "stoich = [[ -1, -1,  1,  0,  0],\n",
    "          [  0, -1, -1,  1,  0],\n",
    "          [ -1,  0,  0, -1,  1],\n",
    "          [ -1, -2,  0,  1,  0],\n",
    "          [ -2, -2,  0,  0,  1],\n",
    "          [ -1, -1, -1,  0,  1],\n",
    "          [ -2, -1,  1, -1,  1],\n",
    "          [  1,  0, -1, -1,  1],\n",
    "          [ -3, -3,  1,  0,  1],\n",
    "          [ -3, -4,  0,  1,  1],\n",
    "          [ -2, -3,  1,  1,  0],\n",
    "          [ -4, -5,  1,  1,  1]]"
   ]
  },
  {
   "cell_type": "markdown",
   "metadata": {},
   "source": [
    "We have the initial conditions and possible stoichiometries to consider, but we still need the kinetics reaction mechanisms. Reaction mechanisms require a stoichiometry and kinetic model. In this case, we will be using mass action kinetics for all the stoichiometries available, which is built into RIPE."
   ]
  },
  {
   "cell_type": "code",
   "execution_count": null,
   "metadata": {},
   "outputs": [],
   "source": [
    "# IRIPE internal mass action kinetics are specified\n",
    "rxn_mechs = [['all','massact']]"
   ]
  },
  {
   "cell_type": "markdown",
   "metadata": {},
   "source": [
    "Now we are ready to run the RIPE model builder:"
   ]
  },
  {
   "cell_type": "code",
   "execution_count": null,
   "metadata": {},
   "outputs": [],
   "source": [
    "results = ripe.ripemodel(cdata,\n",
    "                             stoich = stoich,\n",
    "                             mechanisms=rxn_mechs,\n",
    "                             x0=cdata0,\n",
    "                             hide_output=False,\n",
    "                             sigma=sigma,\n",
    "                             deltaterm=0,\n",
    "                             expand_output=True)"
   ]
  },
  {
   "cell_type": "markdown",
   "metadata": {},
   "source": [
    "Based on the number of data points, the best model chosen is only one reaction.\n",
    "\n",
    "$ 4A + 5B \\rightarrow C + D + E $\n",
    "\n",
    "So similar to how ALAMO iterates between developing a model and adding additional points with error maximization, RIPE provides methods to do the same."
   ]
  },
  {
   "cell_type": "code",
   "execution_count": null,
   "metadata": {},
   "outputs": [],
   "source": [
    "# Adaptive experimental design using error maximization sampling\n",
    "[new_points, err] = ripe.ems(results,\n",
    "                             isotsim.sim,\n",
    "                             lb_conc,\n",
    "                             ub_conc,\n",
    "                             5, #number of species\n",
    "                             x=cdata,\n",
    "                             x0=cdata0) \n",
    "print(\"New Point\", new_points)\n",
    "print(\"Error\", err)\n",
    "\n",
    "# Implement EMS as described in the RIPE publication\n",
    "new_res = isotsim.sim(new_points)[0]\n",
    "print(\"New Result\",new_res)"
   ]
  },
  {
   "cell_type": "markdown",
   "metadata": {},
   "source": [
    "Running ripe.ems gives us additional points maximizing the error that we can use to develop a new model until our error tolerance is achieved. A common loop in using RIPE follows:"
   ]
  },
  {
   "cell_type": "code",
   "execution_count": null,
   "metadata": {},
   "outputs": [],
   "source": [
    "ite = 0\n",
    "\n",
    "while any(err >  [2*noise*s for s in new_res] ):\n",
    "    print('Which concentrations violate error (True=violation) : ', err > [noise*s for s in new_res])\n",
    "    results = {}\n",
    "    ite+=1\n",
    "    \n",
    "    # Data updated explicitly \n",
    "    # so RBFopt subroutines produce consistent results\n",
    "    \n",
    "    new_cdata0 = np.zeros([nd+ite,ns])\n",
    "    new_cdata  = np.zeros([nd+ite,ns])\n",
    "    new_cdata0[:-1][:] = cdata0[:][:]\n",
    "    new_cdata[:-1][:] = cdata[:][:]\n",
    "    new_cdata0[-1][:] = new_points[:]\n",
    "    res = isotsim.sim(new_points)[0]\n",
    "    for j in range(len(res)):\n",
    "        new_cdata[-1][j] = res[j]\n",
    "\n",
    "    #Update weight parameters\n",
    "    sigma =  np.multiply(noise**2,np.array(new_cdata))\n",
    "\n",
    "    # Build updated RIPE model\n",
    "    results = ripe.ripemodel(new_cdata, \n",
    "                             stoich = stoich,\n",
    "                             mechanisms=rxn_mechs,\n",
    "                             x0=new_cdata0,\n",
    "                             sigma=sigma,\n",
    "                             expand_output=True)\n",
    "\n",
    "    # Another call to EMS\n",
    "    [new_points, err] = ripe.ems(results,\n",
    "                                 isotsim.sim,\n",
    "                                 lb_conc,\n",
    "                                 ub_conc,\n",
    "                                 5,\n",
    "                                 x=cdata,\n",
    "                                 x0=cdata0)\n",
    "\n",
    "    # Update results\n",
    "    new_res = isotsim.sim(new_points)[0]\n",
    "    cdata0 = new_cdata0\n",
    "    cdata = new_cdata"
   ]
  },
  {
   "cell_type": "markdown",
   "metadata": {},
   "source": [
    "The results can vary, but RIPE can identify the simulated system of:\n",
    "\n",
    "$A + B \\rightarrow C \\quad  \\{{k_1^{true}}\\}$ \n",
    "\n",
    "$B + C \\rightarrow D \\quad  \\{{k_2^{true}}\\}$\n",
    "\n",
    "$A + D \\rightarrow E \\quad  \\{{k_3^{true}}\\}$"
   ]
  },
  {
   "cell_type": "code",
   "execution_count": null,
   "metadata": {},
   "outputs": [],
   "source": [
    "# Final call to RIPE to get concise output\n",
    "results = ripe.ripemodel(cdata,\n",
    "                         stoich = stoich,\n",
    "                         mechanisms=rxn_mechs,\n",
    "                         x0=cdata0,\n",
    "                         sigma=sigma,\n",
    "                         expand_output=False)\n",
    "print(results)"
   ]
  },
  {
   "cell_type": "code",
   "execution_count": null,
   "metadata": {
    "collapsed": true
   },
   "outputs": [],
   "source": []
  }
 ],
 "metadata": {
  "kernelspec": {
   "display_name": "Python 3",
   "language": "python",
   "name": "python3"
  },
  "language_info": {
   "codemirror_mode": {
    "name": "ipython",
    "version": 3
   },
   "file_extension": ".py",
   "mimetype": "text/x-python",
   "name": "python",
   "nbconvert_exporter": "python",
   "pygments_lexer": "ipython3",
   "version": "3.7.6"
  }
 },
 "nbformat": 4,
 "nbformat_minor": 4
}
