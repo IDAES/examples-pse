{
 "cells": [
  {
   "cell_type": "markdown",
   "metadata": {},
   "source": [
    "# Air seaparation case study"
   ]
  },
  {
   "cell_type": "markdown",
   "metadata": {},
   "source": [
    "## 1. Introduction\n",
    "\n",
    "This Jupyter Notebook develops and validates property packages for air separation units (N2, O2, Ar mixture). Two different databases have been used for comparison and validation purposes, 1) The Properties of Gasses and Liquids, 4th Ed. (1987); 2) Dowling et al., 2015, a mix of the Properties of Gasses and Liquids 3rd Ed. and NIST webbook. To demonstrate the successful implementation of the property package for separation purposes, we will study a flash unit, representing a tray inside an air separation unit. Using the flash case study, we will perform three simulations in the 2-phase region, vapor region, and liquid region. These simulations will validate the parameter database with thermodynamically consistent phase equilibria calculations for a range of conditions. Additionally, a sensitivity study is performed over the influence of temperature in the vapor-liquid split.\n",
    "\n",
    "### 1.1 Tutorial objectives\n",
    "\n",
    "The goals of this tutorial are:\n",
    "\n",
    "* Utilize the mixer and flash unit models.\n",
    "* Utilize the Generic Property Package, which provides a flexible platform for users to build property packages by calling upon libraries of modular sub-models to build up complex property calculations with the least effort possible.\n",
    "* Demonstrate the manual initialization approach, including the use of the propagate_state method in idaes/core/util/initialization\n",
    "* Fix state variables for different conditions and initialize and solve the flowsheet for these conditions.\n",
    "* Demonstrate the sensitivity of the two-phase flash solution to parameter values and the importance of getting good values for these.\n",
    "* Create sensitivity analysis and create a plot from the results\n",
    "* Create two different flowsheet models in the same notebook with two different parameter blocks."
   ]
  },
  {
   "cell_type": "markdown",
   "metadata": {},
   "source": [
    "## 2. Problem Statement\n",
    "\n",
    "Figure 1 shows the process flowsheet that we will be using for this module. We will mix three streams of a mixture of nitrogen, oxygen, and nitrogen. The compositions of the streams were extracted from *A framework for efficient large scale equation-oriented flowsheet optimization*, Alexander W. Dowling and Lorenz T. Biegler, 2014\n",
    "\n",
    "![](Air_flash.png)\n",
    "\n",
    "The flash unit model, F101, represents the top tray of a low-pressure column. The stream LowP_1 is the feed of vapor stream from the low-pressure column, while the streams HighP_1 and HighP_2 are the recycle streams coming from the high-pressure column. We will utilize the Peng-Robinson equation of state for this flowsheet. The property package required for this module is available in the property example directory:\n",
    "\n",
    "* idaes\\generic_models\\properties\\core\\examples\\ASU_PR.py \n",
    "\n",
    "The state variables chosen for the property package are **component mole fractions (mole_frac_comp), molar flow (flow_mol), temperature (temperature), and pressure (pressure)**. The components considered are **nitrogen, oxygen, and argon**. \n",
    "\n",
    "In this example, we will simulate the following cases:\n",
    "\n",
    "* Case 1: Adiabatic flash unit calculation in the 2-phase region.\n",
    "* Case 2: Flash unit calculation in the vapor region.\n",
    "* Case 3: Flash unit calculation in the liquid region.\n",
    "* Sensitivity Analysis 1: Vapor-liquid split with respect to temperature\n",
    "* Sensitivity Analysis 2: Thermodynamic models and parameters."
   ]
  },
  {
   "cell_type": "markdown",
   "metadata": {},
   "source": [
    "## 2.1 Setting up the problem in IDAES\n",
    "\n",
    "In the next cell, we will be importing the necessary components from Pyomo and IDAES."
   ]
  },
  {
   "cell_type": "code",
   "execution_count": 1,
   "metadata": {
    "scrolled": false
   },
   "outputs": [],
   "source": [
    "# Import objects from pyomo package\n",
    "from pyomo.environ import (ConcreteModel,\n",
    "                           SolverFactory,\n",
    "                           TransformationFactory,\n",
    "                           value,\n",
    "                           units as pyunits)\n",
    "\n",
    "from pyomo.network import Arc\n",
    "\n",
    "from idaes.core.util.initialization import propagate_state\n",
    "\n",
    "# Import plotting functions\n",
    "import matplotlib.pyplot as plt\n",
    "\n",
    "# Import numpy library \n",
    "import numpy as np\n",
    "\n",
    "# Import the main FlowsheetBlock from IDAES. The flowsheet block will contain the unit model\n",
    "from idaes.core import FlowsheetBlock\n",
    "\n",
    "# Import idaes logger to set output levels\n",
    "import idaes.logger as idaeslog\n",
    "\n",
    "# Import the degrees_of_freedom function from the idaes.core.util.model_statistics package\n",
    "# DOF = Number of Model Variables - Number of Model Constraints\n",
    "from idaes.core.util.model_statistics import degrees_of_freedom\n",
    "\n",
    "# Import the Generic Parameter Block\n",
    "from idaes.generic_models.properties.core.generic.generic_property import (\n",
    "        GenericParameterBlock)\n",
    "\n",
    "# Add properties parameter blocks to the flowsheet with specifications\n",
    "from idaes.generic_models.properties.core.examples.ASU_PR import configuration as configuration_1\n",
    "\n",
    "# Import unit models from the model library\n",
    "from idaes.generic_models.unit_models import Mixer, Flash"
   ]
  },
  {
   "cell_type": "markdown",
   "metadata": {},
   "source": [
    "### 2.1 Building the flowsheet \n",
    "\n",
    "In the next cell, we will first create a model and attach a flowsheet to it. We then introduce the unit models and connect them through an arc and analyze the degrees of freedom of the flowsheet and how many variables we need to fix."
   ]
  },
  {
   "cell_type": "code",
   "execution_count": 2,
   "metadata": {},
   "outputs": [
    {
     "name": "stdout",
     "output_type": "stream",
     "text": [
      "The initial DOF is 20\n"
     ]
    }
   ],
   "source": [
    "# Create the ConcreteModel and the FlowsheetBlock, and attach the flowsheet block to it.\n",
    "m = ConcreteModel()\n",
    "\n",
    "m.fs = FlowsheetBlock(default={\"dynamic\": False}) \n",
    "\n",
    "# Add properties parameter blocks to the flowsheet with specifications\n",
    "m.fs.props = GenericParameterBlock(default=configuration_1)\n",
    "\n",
    "m.fs.M101 = Mixer(default={\"property_package\": m.fs.props,\n",
    "                           \"inlet_list\": [\"LowP_1\",\"HighP_1\",\"HighP_2\"]})\n",
    "\n",
    "m.fs.F101 = Flash(default={\"property_package\": m.fs.props,\n",
    "                           \"has_heat_transfer\": True,\n",
    "                           \"has_pressure_change\": True})\n",
    "\n",
    "# Create streams to define connectivity between unit models\n",
    "m.fs.s01 = Arc(source=m.fs.M101.outlet, destination=m.fs.F101.inlet)\n",
    "\n",
    "# Expand arcs\n",
    "TransformationFactory(\"network.expand_arcs\").apply_to(m)\n",
    "\n",
    "# Call the degrees_of_freedom function, get intitial DOF\n",
    "DOF_initial = degrees_of_freedom(m)\n",
    "print(\"The initial DOF is {0}\".format(DOF_initial))"
   ]
  },
  {
   "cell_type": "markdown",
   "metadata": {},
   "source": [
    "### 2.2 Create solver object "
   ]
  },
  {
   "cell_type": "code",
   "execution_count": 3,
   "metadata": {},
   "outputs": [],
   "source": [
    "# Solve the simulation using ipopt\n",
    "# Note: If the degrees of freedom = 0, we have a square problem\n",
    "solver = SolverFactory('ipopt')\n",
    "solver.options = {'tol': 1e-6}"
   ]
  },
  {
   "cell_type": "markdown",
   "metadata": {},
   "source": [
    "## 3 Case 1: Flash unit calculation in the 2-phase region.\n",
    "\n",
    "For this tutorial, we will solve a series of case studies by changing the temperature and heat duty to evaluate the temperature's importance and the difference in the vapor fraction of the flash column.\n",
    "\n",
    "## 3.1 Fix initial conditions\n",
    "\n",
    "The streams' compositions were extracted from *A framework for efficient large scale equation-oriented flowsheet optimization*, Alexander W. Dowling and Lorenz T. Biegler, 2014. The streams' temperature was fixed to match a 2-phase region with a heat duty of the Flash = 0."
   ]
  },
  {
   "cell_type": "code",
   "execution_count": 4,
   "metadata": {},
   "outputs": [
    {
     "name": "stdout",
     "output_type": "stream",
     "text": [
      "The final DOF is 0\n"
     ]
    }
   ],
   "source": [
    "m.fs.M101.LowP_1.mole_frac_comp[0, \"nitrogen\"].fix(0.9814)\n",
    "m.fs.M101.LowP_1.mole_frac_comp[0, \"argon\"].fix(0.0106)\n",
    "m.fs.M101.LowP_1.mole_frac_comp[0, \"oxygen\"].fix(0.0080)\n",
    "m.fs.M101.LowP_1.flow_mol[0].fix(1.4667)\n",
    "m.fs.M101.LowP_1.temperature.fix(77.430)\n",
    "m.fs.M101.LowP_1.pressure.fix(101000)\n",
    "\n",
    "m.fs.M101.HighP_1.mole_frac_comp[0, \"nitrogen\"].fix(0.9942)\n",
    "m.fs.M101.HighP_1.mole_frac_comp[0, \"argon\"].fix(0.0014)\n",
    "m.fs.M101.HighP_1.mole_frac_comp[0, \"oxygen\"].fix(0.0043)\n",
    "m.fs.M101.HighP_1.flow_mol[0].fix(0.0486)\n",
    "m.fs.M101.HighP_1.temperature.fix(84.0070)\n",
    "m.fs.M101.HighP_1.pressure.fix(204630)\n",
    "\n",
    "m.fs.M101.HighP_2.mole_frac_comp[0, \"nitrogen\"].fix(0.9832)\n",
    "m.fs.M101.HighP_2.mole_frac_comp[0, \"argon\"].fix(0.0032)\n",
    "m.fs.M101.HighP_2.mole_frac_comp[0, \"oxygen\"].fix(0.0135)\n",
    "m.fs.M101.HighP_2.flow_mol[0].fix(0.7134)\n",
    "m.fs.M101.HighP_2.temperature.fix(84.0070)\n",
    "m.fs.M101.HighP_2.pressure.fix(204630)\n",
    "\n",
    "# Fix unit models operating conditions\n",
    "# Fix F101 Flash outlet temperature\n",
    "m.fs.F101.deltaP.fix(0)\n",
    "m.fs.F101.heat_duty[0].fix(0)\n",
    "\n",
    "DOF_final = degrees_of_freedom(m)\n",
    "print(\"The final DOF is {0}\".format(DOF_final))"
   ]
  },
  {
   "cell_type": "code",
   "execution_count": 5,
   "metadata": {
    "tags": [
     "testing"
    ]
   },
   "outputs": [],
   "source": [
    "assert DOF_final == 0"
   ]
  },
  {
   "cell_type": "markdown",
   "metadata": {},
   "source": [
    "### 3.2 Flowsheet Initialization\n",
    "\n",
    "IDAES includes pre-written initialization routines for all unit models. We will initialize the units in order using the propagate_state method in idaes/core/util/initialization. This method propagates values between Ports along Arcs. We will propagate the values between the mixer M101 and the flash unit F101 along the stream S01."
   ]
  },
  {
   "cell_type": "code",
   "execution_count": 6,
   "metadata": {},
   "outputs": [],
   "source": [
    "m.fs.M101.initialize(outlvl=idaeslog.INFO_LOW) \n",
    "propagate_state(m.fs.s01)\n",
    "m.fs.F101.initialize(outlvl=idaeslog.INFO_LOW) "
   ]
  },
  {
   "cell_type": "markdown",
   "metadata": {},
   "source": [
    "### 3.3 Run Simulation"
   ]
  },
  {
   "cell_type": "code",
   "execution_count": 7,
   "metadata": {
    "scrolled": false
   },
   "outputs": [
    {
     "name": "stdout",
     "output_type": "stream",
     "text": [
      "Ipopt 3.13.2: tol=1e-06\n",
      "\n",
      "\n",
      "******************************************************************************\n",
      "This program contains Ipopt, a library for large-scale nonlinear optimization.\n",
      " Ipopt is released as open source code under the Eclipse Public License (EPL).\n",
      "         For more information visit http://projects.coin-or.org/Ipopt\n",
      "\n",
      "This version of Ipopt was compiled from source code available at\n",
      "    https://github.com/IDAES/Ipopt as part of the Institute for the Design of\n",
      "    Advanced Energy Systems Process Systems Engineering Framework (IDAES PSE\n",
      "    Framework) Copyright (c) 2018-2019. See https://github.com/IDAES/idaes-pse.\n",
      "\n",
      "This version of Ipopt was compiled using HSL, a collection of Fortran codes\n",
      "    for large-scale scientific computation.  All technical papers, sales and\n",
      "    publicity material resulting from use of the HSL codes within IPOPT must\n",
      "    contain the following acknowledgement:\n",
      "        HSL, a collection of Fortran codes for large-scale scientific\n",
      "        computation. See http://www.hsl.rl.ac.uk.\n",
      "******************************************************************************\n",
      "\n",
      "This is Ipopt version 3.13.2, running with linear solver ma27.\n",
      "\n",
      "Number of nonzeros in equality constraint Jacobian...:      744\n",
      "Number of nonzeros in inequality constraint Jacobian.:        0\n",
      "Number of nonzeros in Lagrangian Hessian.............:      443\n",
      "\n",
      "Total number of variables............................:      141\n",
      "                     variables with only lower bounds:       93\n",
      "                variables with lower and upper bounds:       33\n",
      "                     variables with only upper bounds:        0\n",
      "Total number of equality constraints.................:      141\n",
      "Total number of inequality constraints...............:        0\n",
      "        inequality constraints with only lower bounds:        0\n",
      "   inequality constraints with lower and upper bounds:        0\n",
      "        inequality constraints with only upper bounds:        0\n",
      "\n",
      "iter    objective    inf_pr   inf_du lg(mu)  ||d||  lg(rg) alpha_du alpha_pr  ls\n",
      "   0  0.0000000e+00 1.27e+02 1.00e+00  -1.0 0.00e+00    -  0.00e+00 0.00e+00   0\n",
      "   1  0.0000000e+00 1.18e+02 7.82e+04  -1.0 1.25e+01    -  7.98e-04 7.89e-02h  1\n",
      "   2  0.0000000e+00 1.18e+02 7.81e+04  -1.0 5.61e+00    -  2.61e-01 1.76e-03h  1\n",
      "   3  0.0000000e+00 1.18e+02 6.16e+06  -1.0 5.52e+00    -  5.46e-01 1.79e-05h  1\n",
      "   4r 0.0000000e+00 1.18e+02 1.00e+03   0.2 0.00e+00    -  0.00e+00 8.93e-08R  2\n",
      "   5r 0.0000000e+00 4.91e+01 9.95e+02   0.2 1.66e+03    -  6.66e-03 9.92e-04f  1\n",
      "   6r 0.0000000e+00 3.60e+00 9.48e+02   0.2 5.69e+01    -  1.63e-01 7.73e-03f  1\n",
      "   7r 0.0000000e+00 3.73e+00 6.84e+04   0.2 1.13e+00    -  4.54e-01 9.24e-02f  1\n",
      "   8r 0.0000000e+00 6.25e+00 1.69e+04   0.2 2.73e-01    -  9.33e-01 5.07e-01f  1\n",
      "   9r 0.0000000e+00 4.89e+00 3.32e+04   0.2 3.39e-01    -  2.97e-01 2.46e-01f  1\n",
      "iter    objective    inf_pr   inf_du lg(mu)  ||d||  lg(rg) alpha_du alpha_pr  ls\n",
      "  10r 0.0000000e+00 3.18e+00 1.87e+04   0.2 2.13e-01    -  5.07e-01 1.00e+00f  1\n",
      "  11r 0.0000000e+00 3.41e-01 1.34e+04   0.2 1.23e-01    -  6.94e-01 1.00e+00f  1\n",
      "  12r 0.0000000e+00 7.84e-02 2.52e+03   0.2 5.38e-02    -  9.90e-01 1.00e+00f  1\n",
      "  13r 0.0000000e+00 5.27e-03 1.60e+02   0.2 5.58e-03    -  1.00e+00 1.00e+00f  1\n",
      "  14r 0.0000000e+00 5.27e-03 1.14e-01   0.2 8.95e-05    -  1.00e+00 1.00e+00h  1\n",
      "  15r 0.0000000e+00 5.63e+00 1.01e+03  -1.9 4.75e-01    -  8.71e-01 4.95e-01f  1\n",
      "  16r 0.0000000e+00 3.58e+00 5.01e+02  -1.9 4.25e-01    -  7.42e-01 5.67e-01f  1\n",
      "  17r 0.0000000e+00 1.80e+00 2.38e+02  -1.9 1.56e-01    -  6.40e-01 5.43e-01f  1\n",
      "  18r 0.0000000e+00 3.94e-01 8.33e+01  -1.9 2.81e-01    -  6.76e-01 7.76e-01f  1\n",
      "  19r 0.0000000e+00 3.45e-01 1.32e+01  -1.9 4.45e-01    -  1.00e+00 1.00e+00f  1\n",
      "iter    objective    inf_pr   inf_du lg(mu)  ||d||  lg(rg) alpha_du alpha_pr  ls\n",
      "  20r 0.0000000e+00 3.31e-02 5.28e+00  -1.9 1.03e-01    -  1.00e+00 1.00e+00h  1\n",
      "  21r 0.0000000e+00 3.03e-03 6.18e-01  -1.9 2.98e-02    -  1.00e+00 1.00e+00h  1\n",
      "  22r 0.0000000e+00 2.59e-02 6.18e+00  -2.8 9.61e-02    -  1.00e+00 9.08e-01f  1\n",
      "  23r 0.0000000e+00 7.99e-03 2.81e+01  -2.8 4.01e-02    -  1.00e+00 8.40e-01f  1\n",
      "  24r 0.0000000e+00 2.45e-04 7.75e-01  -2.8 8.41e-03    -  1.00e+00 1.00e+00f  1\n",
      "  25r 0.0000000e+00 3.47e-06 1.50e-01  -2.8 6.06e-04    -  1.00e+00 1.00e+00h  1\n",
      "  26r 0.0000000e+00 3.21e-06 3.94e-03  -2.8 2.94e-04    -  1.00e+00 1.00e+00h  1\n",
      "  27r 0.0000000e+00 2.42e-04 1.01e+01  -4.2 9.74e-03    -  1.00e+00 8.71e-01f  1\n",
      "  28r 0.0000000e+00 8.03e-07 1.28e-02  -4.2 4.84e-04    -  1.00e+00 1.00e+00f  1\n",
      "\n",
      "Number of Iterations....: 28\n",
      "\n",
      "                                   (scaled)                 (unscaled)\n",
      "Objective...............:   0.0000000000000000e+00    0.0000000000000000e+00\n",
      "Dual infeasibility......:   0.0000000000000000e+00    0.0000000000000000e+00\n",
      "Constraint violation....:   6.5897113315824371e-08    8.0299469118472189e-07\n",
      "Complementarity.........:   0.0000000000000000e+00    0.0000000000000000e+00\n",
      "Overall NLP error.......:   6.5897113315824371e-08    8.0299469118472189e-07\n",
      "\n",
      "\n",
      "Number of objective function evaluations             = 31\n",
      "Number of objective gradient evaluations             = 6\n",
      "Number of equality constraint evaluations            = 31\n",
      "Number of inequality constraint evaluations          = 0\n",
      "Number of equality constraint Jacobian evaluations   = 30\n",
      "Number of inequality constraint Jacobian evaluations = 0\n",
      "Number of Lagrangian Hessian evaluations             = 28\n",
      "Total CPU secs in IPOPT (w/o function evaluations)   =      0.060\n",
      "Total CPU secs in NLP function evaluations           =      0.857\n",
      "\n",
      "EXIT: Optimal Solution Found.\n"
     ]
    }
   ],
   "source": [
    "result = solver.solve(m, tee=True)"
   ]
  },
  {
   "cell_type": "code",
   "execution_count": 8,
   "metadata": {
    "tags": [
     "testing"
    ]
   },
   "outputs": [],
   "source": [
    "from pyomo.opt import TerminationCondition, SolverStatus\n",
    "\n",
    "# Check if termination condition is optimal\n",
    "assert result.solver.termination_condition == TerminationCondition.optimal\n",
    "assert result.solver.status == SolverStatus.ok"
   ]
  },
  {
   "cell_type": "markdown",
   "metadata": {},
   "source": [
    "### 3.4 Results"
   ]
  },
  {
   "cell_type": "code",
   "execution_count": 9,
   "metadata": {
    "scrolled": false
   },
   "outputs": [
    {
     "name": "stdout",
     "output_type": "stream",
     "text": [
      "\n",
      "====================================================================================\n",
      "Unit : fs.F101                                                             Time: 0.0\n",
      "------------------------------------------------------------------------------------\n",
      "    Unit Performance\n",
      "\n",
      "    Variables: \n",
      "\n",
      "    Key             : Value  : Fixed : Bounds\n",
      "          Heat Duty : 0.0000 :  True : (None, None)\n",
      "    Pressure Change : 0.0000 :  True : (None, None)\n",
      "\n",
      "------------------------------------------------------------------------------------\n",
      "    Stream Table\n",
      "                               Inlet    Vapor Outlet  Liquid Outlet\n",
      "    flow_mol                    2.2286       1.6029       0.62575  \n",
      "    mole_frac_comp nitrogen    0.98229      0.98901       0.96508  \n",
      "    mole_frac_comp argon     0.0080309    0.0055854      0.014295  \n",
      "    mole_frac_comp oxygen    0.0096802    0.0054079      0.020624  \n",
      "    temperature                 77.431       77.431        77.431  \n",
      "    pressure                1.0100e+05   1.0100e+05    1.0100e+05  \n",
      "====================================================================================\n"
     ]
    }
   ],
   "source": [
    "# Display output report\n",
    "m.fs.F101.report()"
   ]
  },
  {
   "cell_type": "markdown",
   "metadata": {},
   "source": [
    "As we can see from the Flash report with a Heat Duty = 0, we have a liquid outlet of 0.658 and a vapor outlet of 1.603. This results in a vapor fraction of 0.72, which was expected."
   ]
  },
  {
   "cell_type": "code",
   "execution_count": 10,
   "metadata": {
    "tags": [
     "testing"
    ]
   },
   "outputs": [],
   "source": [
    "import pytest\n",
    "\n",
    "# Check results\n",
    "assert m.fs.F101.heat_duty[0].value == pytest.approx(0.0, abs=1e-1)\n",
    "\n",
    "assert m.fs.F101.liq_outlet.flow_mol[0].value == pytest.approx(0.63350, abs=1e-2)\n",
    "assert m.fs.F101.liq_outlet.mole_frac_comp[0, \"nitrogen\"].value == pytest.approx(0.96525, abs=1e-3)\n",
    "assert m.fs.F101.liq_outlet.mole_frac_comp[0, \"argon\"].value == pytest.approx(0.014242, abs=1e-3)\n",
    "assert m.fs.F101.liq_outlet.mole_frac_comp[0, \"oxygen\"].value == pytest.approx(0.020512, abs=1e-3)\n",
    "assert m.fs.F101.liq_outlet.temperature[0].value == pytest.approx(77.430, abs=1e-2)\n",
    "assert m.fs.F101.liq_outlet.pressure[0].value == pytest.approx(101000, abs=1)\n",
    "\n",
    "assert m.fs.F101.vap_outlet.flow_mol[0].value == pytest.approx(1.5951, abs=1e-2)\n",
    "assert m.fs.F101.vap_outlet.mole_frac_comp[0, \"nitrogen\"].value == pytest.approx(0.98906, abs=1e-3)\n",
    "assert m.fs.F101.vap_outlet.mole_frac_comp[0, \"argon\"].value == pytest.approx(0.0055642, abs=1e-3)\n",
    "assert m.fs.F101.vap_outlet.mole_frac_comp[0, \"oxygen\"].value == pytest.approx(0.0053782, abs=1e-3)\n",
    "assert m.fs.F101.vap_outlet.temperature[0].value == pytest.approx(77.430, abs=1e-2)\n",
    "assert m.fs.F101.vap_outlet.pressure[0].value == pytest.approx(101000, abs=1)"
   ]
  },
  {
   "cell_type": "markdown",
   "metadata": {},
   "source": [
    "## 4. Case 2: Flash unit calculation in the vapor region."
   ]
  },
  {
   "cell_type": "markdown",
   "metadata": {},
   "source": [
    "### 4.1 Fix initial conditions\n",
    "\n",
    "We unfix the heat duty and fix the flash outlet to a temperature where we estimate we will only obtain vapor as the outlet."
   ]
  },
  {
   "cell_type": "code",
   "execution_count": 11,
   "metadata": {},
   "outputs": [],
   "source": [
    "m.fs.F101.heat_duty[0].unfix()\n",
    "m.fs.F101.vap_outlet.temperature.fix(80)"
   ]
  },
  {
   "cell_type": "markdown",
   "metadata": {},
   "source": [
    "### 4.2 Flowsheet Initialization"
   ]
  },
  {
   "cell_type": "code",
   "execution_count": 12,
   "metadata": {},
   "outputs": [],
   "source": [
    "m.fs.M101.initialize(outlvl=idaeslog.INFO_LOW) \n",
    "propagate_state(m.fs.s01)\n",
    "m.fs.F101.initialize(outlvl=idaeslog.INFO_LOW) "
   ]
  },
  {
   "cell_type": "markdown",
   "metadata": {},
   "source": [
    "### 4.3 Run Simulation"
   ]
  },
  {
   "cell_type": "code",
   "execution_count": 13,
   "metadata": {},
   "outputs": [],
   "source": [
    "result = solver.solve(m, tee=False)"
   ]
  },
  {
   "cell_type": "markdown",
   "metadata": {},
   "source": [
    "### 4.4 Results"
   ]
  },
  {
   "cell_type": "code",
   "execution_count": 14,
   "metadata": {},
   "outputs": [
    {
     "name": "stdout",
     "output_type": "stream",
     "text": [
      "\n",
      "====================================================================================\n",
      "Unit : fs.F101                                                             Time: 0.0\n",
      "------------------------------------------------------------------------------------\n",
      "    Unit Performance\n",
      "\n",
      "    Variables: \n",
      "\n",
      "    Key             : Value  : Fixed : Bounds\n",
      "          Heat Duty : 3668.8 : False : (None, None)\n",
      "    Pressure Change : 0.0000 :  True : (None, None)\n",
      "\n",
      "------------------------------------------------------------------------------------\n",
      "    Stream Table\n",
      "                               Inlet    Vapor Outlet  Liquid Outlet\n",
      "    flow_mol                    2.2286       2.2286    5.2025e-06  \n",
      "    mole_frac_comp nitrogen    0.98229      0.98229       0.94329  \n",
      "    mole_frac_comp argon     0.0080311    0.0080310      0.020284  \n",
      "    mole_frac_comp oxygen    0.0096804    0.0096804      0.036423  \n",
      "    temperature                 77.431       80.000        80.000  \n",
      "    pressure                1.0100e+05   1.0100e+05    1.0100e+05  \n",
      "====================================================================================\n"
     ]
    }
   ],
   "source": [
    "# Display output report\n",
    "m.fs.F101.report()"
   ]
  },
  {
   "cell_type": "markdown",
   "metadata": {},
   "source": [
    "As expected the outlet of the flash is vapor phase only."
   ]
  },
  {
   "cell_type": "code",
   "execution_count": 15,
   "metadata": {
    "tags": [
     "testing"
    ]
   },
   "outputs": [],
   "source": [
    "#Check if termination condition is optimal\n",
    "assert result.solver.termination_condition == TerminationCondition.optimal\n",
    "assert result.solver.status == SolverStatus.ok"
   ]
  },
  {
   "cell_type": "code",
   "execution_count": 16,
   "metadata": {
    "tags": [
     "testing"
    ]
   },
   "outputs": [],
   "source": [
    "# Check results\n",
    "assert m.fs.F101.heat_duty[0].value == pytest.approx(3668.5, abs=1e1)\n",
    "\n",
    "assert m.fs.F101.liq_outlet.flow_mol[0].value == pytest.approx(0.0, abs=1e-2)\n",
    "\n",
    "assert m.fs.F101.vap_outlet.flow_mol[0].value == pytest.approx(2.2286, abs=1e-3)\n",
    "assert m.fs.F101.vap_outlet.mole_frac_comp[0, \"nitrogen\"].value == pytest.approx(0.98229, abs=1e-3)\n",
    "assert m.fs.F101.vap_outlet.mole_frac_comp[0, \"argon\"].value == pytest.approx(0.0080309, abs=1e-3)\n",
    "assert m.fs.F101.vap_outlet.mole_frac_comp[0, \"oxygen\"].value == pytest.approx(0.0096802, abs=1e-3)\n",
    "assert m.fs.F101.vap_outlet.temperature[0].value == pytest.approx(80.000, abs=1e-2)\n",
    "assert m.fs.F101.vap_outlet.pressure[0].value == pytest.approx(101000, abs=1)"
   ]
  },
  {
   "cell_type": "markdown",
   "metadata": {},
   "source": [
    "## 5 Case 3: Flash unit calculation in the liquid region."
   ]
  },
  {
   "cell_type": "markdown",
   "metadata": {},
   "source": [
    "### 5.1 Fix initial conditions\n",
    "\n",
    "We now fix the flash outlet to a temperature where we estimate we will only obtain liquid as the outlet"
   ]
  },
  {
   "cell_type": "code",
   "execution_count": 17,
   "metadata": {},
   "outputs": [],
   "source": [
    "m.fs.F101.vap_outlet.temperature.fix(68)"
   ]
  },
  {
   "cell_type": "markdown",
   "metadata": {},
   "source": [
    "### 5.2 Flowsheet Initialization"
   ]
  },
  {
   "cell_type": "code",
   "execution_count": 18,
   "metadata": {},
   "outputs": [],
   "source": [
    "m.fs.M101.initialize(outlvl=idaeslog.INFO_LOW) \n",
    "propagate_state(m.fs.s01)\n",
    "m.fs.F101.initialize(outlvl=idaeslog.INFO_LOW) "
   ]
  },
  {
   "cell_type": "markdown",
   "metadata": {},
   "source": [
    "### 5.3 Run Simulation"
   ]
  },
  {
   "cell_type": "code",
   "execution_count": 19,
   "metadata": {},
   "outputs": [],
   "source": [
    "result = solver.solve(m, tee=False)"
   ]
  },
  {
   "cell_type": "markdown",
   "metadata": {},
   "source": [
    "### 5.4 Results"
   ]
  },
  {
   "cell_type": "code",
   "execution_count": 20,
   "metadata": {},
   "outputs": [
    {
     "name": "stdout",
     "output_type": "stream",
     "text": [
      "\n",
      "====================================================================================\n",
      "Unit : fs.F101                                                             Time: 0.0\n",
      "------------------------------------------------------------------------------------\n",
      "    Unit Performance\n",
      "\n",
      "    Variables: \n",
      "\n",
      "    Key             : Value   : Fixed : Bounds\n",
      "          Heat Duty : -10025. : False : (None, None)\n",
      "    Pressure Change :  0.0000 :  True : (None, None)\n",
      "\n",
      "------------------------------------------------------------------------------------\n",
      "    Stream Table\n",
      "                               Inlet    Vapor Outlet  Liquid Outlet\n",
      "    flow_mol                    2.2286   0.00044690        2.2282  \n",
      "    mole_frac_comp nitrogen    0.98229      0.99438       0.98229  \n",
      "    mole_frac_comp argon     0.0080310    0.0031076     0.0080320  \n",
      "    mole_frac_comp oxygen    0.0096803    0.0025125     0.0096817  \n",
      "    temperature                 77.431       68.000        68.000  \n",
      "    pressure                1.0100e+05   1.0100e+05    1.0100e+05  \n",
      "====================================================================================\n"
     ]
    }
   ],
   "source": [
    "# Display output report\n",
    "m.fs.F101.report()"
   ]
  },
  {
   "cell_type": "markdown",
   "metadata": {},
   "source": [
    "As expected the outlet of the flash is liquid phase only."
   ]
  },
  {
   "cell_type": "code",
   "execution_count": 21,
   "metadata": {
    "tags": [
     "testing"
    ]
   },
   "outputs": [],
   "source": [
    "# Check if termination condition is optimal\n",
    "assert result.solver.termination_condition == TerminationCondition.optimal\n",
    "assert result.solver.status == SolverStatus.ok"
   ]
  },
  {
   "cell_type": "code",
   "execution_count": 22,
   "metadata": {
    "tags": [
     "testing"
    ]
   },
   "outputs": [],
   "source": [
    "# Check results\n",
    "assert m.fs.F101.heat_duty[0].value == pytest.approx(-10027., abs=1e1)\n",
    "\n",
    "assert m.fs.F101.liq_outlet.flow_mol[0].value == pytest.approx(2.2285, abs=1e-2)\n",
    "assert m.fs.F101.liq_outlet.mole_frac_comp[0, \"nitrogen\"].value == pytest.approx(0.98229, abs=1e-4)\n",
    "assert m.fs.F101.liq_outlet.mole_frac_comp[0, \"argon\"].value == pytest.approx( 0.00803, abs=1e-4)\n",
    "assert m.fs.F101.liq_outlet.mole_frac_comp[0, \"oxygen\"].value == pytest.approx(0.0096805, abs=1e-4)\n",
    "assert m.fs.F101.liq_outlet.temperature[0].value == pytest.approx(68.000, abs=1e-2)\n",
    "assert m.fs.F101.liq_outlet.pressure[0].value == pytest.approx(101000, abs=1)\n",
    "\n",
    "assert m.fs.F101.vap_outlet.flow_mol[0].value == pytest.approx(0.000, abs=1e-2)"
   ]
  },
  {
   "cell_type": "markdown",
   "metadata": {},
   "source": [
    "## 6 Sensitivity Analysis 1: Vapor-liquid split with respect to temperature"
   ]
  },
  {
   "cell_type": "markdown",
   "metadata": {},
   "source": [
    "The property example contains two dictionaries:\n",
    "* configuration 1: contains parameters obtained from The Properties of Gases and Liquids (1987) 4th edition and NIST.\n",
    "* configuration 2: contains parameters used in A framework for efficient large scale equation-oriented flowsheet optimization (2015) Dowling. The parameters are extracted from Properties of Gases and Liquids (1977) 3rd edition for Antoine's vapor equation and acentric factors and converted values from the Properties of Gases and Liquids (1977) 3rd edition"
   ]
  },
  {
   "cell_type": "markdown",
   "metadata": {},
   "source": [
    "## 6.1 Fix initial conditions\n",
    "\n",
    "We will first fix a temperature close to the temperature of the sensitivity analysis's start and initialize the model."
   ]
  },
  {
   "cell_type": "code",
   "execution_count": 23,
   "metadata": {},
   "outputs": [],
   "source": [
    "m.fs.F101.vap_outlet.temperature.fix(77.01)"
   ]
  },
  {
   "cell_type": "markdown",
   "metadata": {},
   "source": [
    "### 6.2 Flowsheet Initialization"
   ]
  },
  {
   "cell_type": "code",
   "execution_count": 24,
   "metadata": {},
   "outputs": [],
   "source": [
    "m.fs.M101.initialize(outlvl=idaeslog.INFO_LOW) \n",
    "propagate_state(m.fs.s01)\n",
    "m.fs.F101.initialize(outlvl=idaeslog.INFO_LOW) "
   ]
  },
  {
   "cell_type": "markdown",
   "metadata": {},
   "source": [
    "### 6.3 Run Simulation\n",
    "\n",
    "We will run a few cases with different parameter values and look at the effect on the vapour fraction as a function of T.. For the sensitivity analysis, we will create a vector of temperatures, solve the model, and store the vapor fraction. The user can make decisions on what values to store depending on the variable or variables to study."
   ]
  },
  {
   "cell_type": "code",
   "execution_count": 25,
   "metadata": {},
   "outputs": [
    {
     "name": "stdout",
     "output_type": "stream",
     "text": [
      "Case:  1  Optimal. Temp = 77.01  K\n",
      "Case:  2  Optimal. Temp = 77.06  K\n",
      "Case:  3  Optimal. Temp = 77.12  K\n",
      "Case:  4  Optimal. Temp = 77.18  K\n",
      "Case:  5  Optimal. Temp = 77.23  K\n",
      "Case:  6  Optimal. Temp = 77.28  K\n",
      "Case:  7  Optimal. Temp = 77.34  K\n",
      "Case:  8  Optimal. Temp = 77.40  K\n",
      "Case:  9  Optimal. Temp = 77.45  K\n",
      "Case:  10  Optimal. Temp = 77.50  K\n",
      "Case:  11  Optimal. Temp = 77.56  K\n",
      "Case:  12  Optimal. Temp = 77.62  K\n",
      "Case:  13  Optimal. Temp = 77.67  K\n",
      "Case:  14  Optimal. Temp = 77.72  K\n",
      "Case:  15  Optimal. Temp = 77.78  K\n",
      "Case:  16  Optimal. Temp = 77.84  K\n",
      "Case:  17  Optimal. Temp = 77.89  K\n",
      "Case:  18  Optimal. Temp = 77.94  K\n",
      "Case:  19  Optimal. Temp = 78.00  K\n"
     ]
    }
   ],
   "source": [
    "T = np.linspace(77.01, 78, 19)\n",
    "x1 = []\n",
    "T1 = []\n",
    "count = 1\n",
    "\n",
    "for i in range(len(T)):\n",
    "    m.fs.F101.vap_outlet.temperature[0].fix(T[i])\n",
    "    # solve the model\n",
    "    status = solver.solve(m, tee=False)\n",
    "    if status.solver.termination_condition == TerminationCondition.optimal:\n",
    "        print('Case: ',count,' Optimal. Temp = {:.2f}'.format(T[i]),' K')\n",
    "        x1.append(value(m.fs.F101.vap_outlet.flow_mol[0])/value(m.fs.F101.inlet.flow_mol[0])) \n",
    "        T1.append(T[i])\n",
    "    else:\n",
    "        print('Case: ',count,' Failed to solve. Temp = {:.2f}'.format(T[i]),' K')\n",
    "    count += 1"
   ]
  },
  {
   "cell_type": "markdown",
   "metadata": {},
   "source": [
    "### 6.4 Results"
   ]
  },
  {
   "cell_type": "code",
   "execution_count": 26,
   "metadata": {},
   "outputs": [
    {
     "data": {
      "image/png": "[encoded data removed]",
      "text/plain": [
       "<Figure size 1080x720 with 1 Axes>"
      ]
     },
     "metadata": {
      "needs_background": "light"
     },
     "output_type": "display_data"
    }
   ],
   "source": [
    "fig, ax = plt.subplots(figsize=(15,10))\n",
    "ax.plot(T1, x1,\"g\",label=\"configuration_1 parameter dictionary\",linewidth=1.2)\n",
    "ax.set_xlabel('Temperature (K)',fontsize=15, labelpad=10)\n",
    "ax.set_ylabel('Vapor fraction',fontsize=15, labelpad=10)\n",
    "ax.legend(fontsize=15)\n",
    "plt.title(\"Sensitivity Analysis 1: Temperature vs. Vapor fraction\",fontsize=24)\n",
    "ax.grid()\n",
    "plt.legend()\n",
    "plt.show()"
   ]
  },
  {
   "cell_type": "markdown",
   "metadata": {},
   "source": [
    "With the results obtained, we can now set the flash's temperature to get an outlet with a specific desired vapor-liquid split. We will use this data later after we have some other results to compare it to. "
   ]
  },
  {
   "cell_type": "markdown",
   "metadata": {},
   "source": [
    "## 7. Sensitivity Analysis 2: Thermodynamic models and parameters."
   ]
  },
  {
   "cell_type": "markdown",
   "metadata": {},
   "source": [
    "## 7.1 Building a second flowsheet \n",
    "\n",
    "Create a second model utilizing parameters and equations from *A framework for efficient large scale equation-oriented flowsheet optimization* (2015) Dowling. We need to import the parameter block dictionary **configuration_Dowling_2015** and create a flowsheet as we did in the example above. We will utilize the same flowsheet configuration."
   ]
  },
  {
   "cell_type": "code",
   "execution_count": 27,
   "metadata": {},
   "outputs": [],
   "source": [
    "from idaes.generic_models.properties.core.examples.ASU_PR import configuration_Dowling_2015 as configuration_2\n",
    "\n",
    "m1 = ConcreteModel()\n",
    "\n",
    "m1.fs = FlowsheetBlock(default={\"dynamic\": False}) \n",
    "\n",
    "m1.fs.props = GenericParameterBlock(default=configuration_2)\n",
    "\n",
    "m1.fs.M101 = Mixer(default={\"property_package\": m1.fs.props,\n",
    "                           \"inlet_list\": [\"LowP_1\",\"HighP_1\",\"HighP_2\"]})\n",
    "\n",
    "m1.fs.F101 = Flash(default={\"property_package\": m1.fs.props,\n",
    "                           \"has_heat_transfer\": True,\n",
    "                           \"has_pressure_change\": True})\n",
    "\n",
    "m1.fs.s01 = Arc(source=m1.fs.M101.outlet, destination=m1.fs.F101.inlet)\n",
    "\n",
    "TransformationFactory(\"network.expand_arcs\").apply_to(m1)"
   ]
  },
  {
   "cell_type": "markdown",
   "metadata": {},
   "source": [
    "## 7.2 Fix initial conditions\n",
    "\n",
    "The compositions of the streams were extracted from *A framework for efficient large scale equation-oriented flowsheet optimization*, Alexander W. Dowling and Lorenz T. Biegler, 2014. The temperature of the streams was fixed to match a 2-phase region with a heat duty of the Flash = 0."
   ]
  },
  {
   "cell_type": "code",
   "execution_count": 28,
   "metadata": {},
   "outputs": [
    {
     "name": "stdout",
     "output_type": "stream",
     "text": [
      "The final DOF is 0\n"
     ]
    }
   ],
   "source": [
    "m1.fs.M101.LowP_1.mole_frac_comp[0, \"nitrogen\"].fix(0.9814)\n",
    "m1.fs.M101.LowP_1.mole_frac_comp[0, \"argon\"].fix(0.0106)\n",
    "m1.fs.M101.LowP_1.mole_frac_comp[0, \"oxygen\"].fix(0.0080)\n",
    "m1.fs.M101.LowP_1.flow_mol[0].fix(1.4667)\n",
    "m1.fs.M101.LowP_1.temperature.fix(77.6601)\n",
    "m1.fs.M101.LowP_1.pressure.fix(101000)\n",
    "\n",
    "m1.fs.M101.HighP_1.mole_frac_comp[0, \"nitrogen\"].fix(0.9942)\n",
    "m1.fs.M101.HighP_1.mole_frac_comp[0, \"argon\"].fix(0.0014)\n",
    "m1.fs.M101.HighP_1.mole_frac_comp[0, \"oxygen\"].fix(0.0043)\n",
    "m1.fs.M101.HighP_1.flow_mol[0].fix(0.0486)\n",
    "m1.fs.M101.HighP_1.temperature.fix(84.0070)\n",
    "m1.fs.M101.HighP_1.pressure.fix(204630)\n",
    "\n",
    "m1.fs.M101.HighP_2.mole_frac_comp[0, \"nitrogen\"].fix(0.9832)\n",
    "m1.fs.M101.HighP_2.mole_frac_comp[0, \"argon\"].fix(0.0032)\n",
    "m1.fs.M101.HighP_2.mole_frac_comp[0, \"oxygen\"].fix(0.0135)\n",
    "m1.fs.M101.HighP_2.flow_mol[0].fix(0.7134)\n",
    "m1.fs.M101.HighP_2.temperature.fix(84.0070)\n",
    "m1.fs.M101.HighP_2.pressure.fix(204630)\n",
    "\n",
    "# Fix unit models operating conditions\n",
    "m1.fs.F101.deltaP.fix(0)\n",
    "m1.fs.F101.heat_duty[0].fix(0)\n",
    "DOF_final = degrees_of_freedom(m1)\n",
    "print(\"The final DOF is {0}\".format(DOF_final))"
   ]
  },
  {
   "cell_type": "markdown",
   "metadata": {},
   "source": [
    "### 7.3 Flowsheet Initialization\n",
    "\n",
    "The flowsheet is now complete, and we have a square problem (degrees of freedom = 0). We now initialize and solve adiabatic the model at the temperature stated in the paper.  "
   ]
  },
  {
   "cell_type": "code",
   "execution_count": 29,
   "metadata": {},
   "outputs": [],
   "source": [
    "m1.fs.M101.initialize(outlvl=idaeslog.INFO_LOW) \n",
    "propagate_state(m1.fs.s01)\n",
    "m1.fs.F101.initialize(outlvl=idaeslog.INFO_LOW) "
   ]
  },
  {
   "cell_type": "markdown",
   "metadata": {},
   "source": [
    "### 7.4 Run Simulation of adiabatic flash unit calculation in the 2-phase region."
   ]
  },
  {
   "cell_type": "code",
   "execution_count": 30,
   "metadata": {},
   "outputs": [],
   "source": [
    "result = solver.solve(m, tee=False)"
   ]
  },
  {
   "cell_type": "code",
   "execution_count": 31,
   "metadata": {
    "tags": [
     "testing"
    ]
   },
   "outputs": [],
   "source": [
    "# Check results\n",
    "assert m1.fs.F101.heat_duty[0].value == pytest.approx(0.0, abs=1e1)\n",
    "\n",
    "assert m1.fs.F101.liq_outlet.flow_mol[0].value == pytest.approx(0.61582, abs=1e-2)\n",
    "assert m1.fs.F101.liq_outlet.mole_frac_comp[0, \"nitrogen\"].value == pytest.approx(0.96535, abs=1e-3)\n",
    "assert m1.fs.F101.liq_outlet.mole_frac_comp[0, \"argon\"].value == pytest.approx(0.014167, abs=1e-3)\n",
    "assert m1.fs.F101.liq_outlet.mole_frac_comp[0, \"oxygen\"].value == pytest.approx(0.020480, abs=1e-3)\n",
    "assert m1.fs.F101.liq_outlet.temperature[0].value == pytest.approx(77.535, abs=1e-2)\n",
    "assert m1.fs.F101.liq_outlet.pressure[0].value == pytest.approx(101000, abs=1)\n",
    "\n",
    "assert m1.fs.F101.vap_outlet.flow_mol[0].value == pytest.approx(1.6128, abs=1e-2)\n",
    "assert m1.fs.F101.vap_outlet.mole_frac_comp[0, \"nitrogen\"].value == pytest.approx(0.98875, abs=1e-3)\n",
    "assert m1.fs.F101.vap_outlet.mole_frac_comp[0, \"argon\"].value == pytest.approx(0.0056891, abs=1e-3)\n",
    "assert m1.fs.F101.vap_outlet.mole_frac_comp[0, \"oxygen\"].value == pytest.approx(0.0055588, abs=1e-3)\n",
    "assert m1.fs.F101.vap_outlet.temperature[0].value == pytest.approx(77.535, abs=1e-2)\n",
    "assert m1.fs.F101.vap_outlet.pressure[0].value == pytest.approx(101000, abs=1)"
   ]
  },
  {
   "cell_type": "markdown",
   "metadata": {},
   "source": [
    "### 7.5 Results of adiabatic flash unit calculation in the 2-phase region."
   ]
  },
  {
   "cell_type": "code",
   "execution_count": 32,
   "metadata": {},
   "outputs": [
    {
     "name": "stdout",
     "output_type": "stream",
     "text": [
      "\n",
      "====================================================================================\n",
      "Unit : fs.F101                                                             Time: 0.0\n",
      "------------------------------------------------------------------------------------\n",
      "    Unit Performance\n",
      "\n",
      "    Variables: \n",
      "\n",
      "    Key             : Value  : Fixed : Bounds\n",
      "          Heat Duty : 0.0000 :  True : (None, None)\n",
      "    Pressure Change : 0.0000 :  True : (None, None)\n",
      "\n",
      "------------------------------------------------------------------------------------\n",
      "    Stream Table\n",
      "                               Inlet    Vapor Outlet  Liquid Outlet\n",
      "    flow_mol                    2.2286       1.6132       0.61538  \n",
      "    mole_frac_comp nitrogen    0.98229      0.98875       0.96535  \n",
      "    mole_frac_comp argon     0.0080309    0.0056897      0.014169  \n",
      "    mole_frac_comp oxygen    0.0096802    0.0055595      0.020483  \n",
      "    temperature                 77.535       77.535        77.535  \n",
      "    pressure                1.0100e+05   1.0100e+05    1.0100e+05  \n",
      "====================================================================================\n"
     ]
    }
   ],
   "source": [
    "# Display output report\n",
    "m1.fs.F101.report()"
   ]
  },
  {
   "cell_type": "markdown",
   "metadata": {},
   "source": [
    "As we can see from the Flash report with a Heat Duty = 0, we have a liquid outlet of 0.615 and a vapor outlet of 1.612. This results in a vapor fraction of 0.70. However, the temperature of our two models is different. We will create two python variables to store the vapor flow and temperature results, which we will use on the plot."
   ]
  },
  {
   "cell_type": "code",
   "execution_count": 33,
   "metadata": {},
   "outputs": [],
   "source": [
    "T_paper = m1.fs.F101.vap_outlet.temperature[0].value\n",
    "x_paper = m1.fs.F101.vap_outlet.flow_mol[0].value/m1.fs.F101.inlet.flow_mol[0].value"
   ]
  },
  {
   "cell_type": "markdown",
   "metadata": {},
   "source": [
    "### 7.6 Flowsheet Initialization for sensitivity analysis"
   ]
  },
  {
   "cell_type": "code",
   "execution_count": 34,
   "metadata": {},
   "outputs": [],
   "source": [
    "m1.fs.F101.heat_duty[0].unfix()\n",
    "m1.fs.F101.vap_outlet.temperature.fix(77.01)\n",
    "\n",
    "m1.fs.M101.initialize(outlvl=idaeslog.INFO_LOW) \n",
    "propagate_state(m1.fs.s01)\n",
    "m1.fs.F101.initialize(outlvl=idaeslog.INFO_LOW) "
   ]
  },
  {
   "cell_type": "markdown",
   "metadata": {},
   "source": [
    "### 7.7 Run Simulation"
   ]
  },
  {
   "cell_type": "code",
   "execution_count": 35,
   "metadata": {},
   "outputs": [
    {
     "name": "stdout",
     "output_type": "stream",
     "text": [
      "Case:  1  Optimal. Temp = 77.00  K\n",
      "Case:  2  Optimal. Temp = 77.06  K\n",
      "Case:  3  Optimal. Temp = 77.11  K\n",
      "Case:  4  Optimal. Temp = 77.17  K\n",
      "Case:  5  Optimal. Temp = 77.22  K\n",
      "Case:  6  Optimal. Temp = 77.28  K\n",
      "Case:  7  Optimal. Temp = 77.33  K\n",
      "Case:  8  Optimal. Temp = 77.39  K\n",
      "Case:  9  Optimal. Temp = 77.44  K\n",
      "Case:  10  Optimal. Temp = 77.50  K\n",
      "Case:  11  Optimal. Temp = 77.56  K\n",
      "Case:  12  Optimal. Temp = 77.61  K\n",
      "Case:  13  Optimal. Temp = 77.67  K\n",
      "Case:  14  Optimal. Temp = 77.72  K\n",
      "Case:  15  Optimal. Temp = 77.78  K\n",
      "Case:  16  Optimal. Temp = 77.83  K\n",
      "Case:  17  Optimal. Temp = 77.89  K\n",
      "Case:  18  Optimal. Temp = 77.94  K\n",
      "Case:  19  Optimal. Temp = 78.00  K\n"
     ]
    }
   ],
   "source": [
    "T = np.linspace(77, 78, 19)\n",
    "x2 = []\n",
    "T2 = []\n",
    "count = 1\n",
    "\n",
    "for i in range(len(T)):\n",
    "    m1.fs.F101.vap_outlet.temperature[0].fix(T[i])\n",
    "    # solve the model\n",
    "    status = solver.solve(m1, tee=False)\n",
    "   \n",
    "    if status.solver.termination_condition == TerminationCondition.optimal:\n",
    "        print('Case: ',count,' Optimal. Temp = {:.2f}'.format(T[i]),' K')\n",
    "        x2.append(value(m1.fs.F101.vap_outlet.flow_mol[0])/value(m1.fs.F101.inlet.flow_mol[0])) \n",
    "        T2.append(T[i])\n",
    "    else:\n",
    "        print('Case: ',count,' Failed to solve. Temp = {:.2f}'.format(T[i]),' K')\n",
    "    count += 1"
   ]
  },
  {
   "cell_type": "markdown",
   "metadata": {},
   "source": [
    "### 7.8 Results\n",
    "\n",
    "Now we will plot the results"
   ]
  },
  {
   "cell_type": "code",
   "execution_count": 36,
   "metadata": {},
   "outputs": [
    {
     "data": {
      "image/png": "[encoded data removed]",
      "text/plain": [
       "<Figure size 1080x720 with 1 Axes>"
      ]
     },
     "metadata": {
      "needs_background": "light"
     },
     "output_type": "display_data"
    }
   ],
   "source": [
    "fig, ax = plt.subplots(figsize=(15,10))\n",
    "ax.plot(T1, x1,\"g\",label=\"configuration_1 parameter dictionary\",linewidth=1.2)\n",
    "ax.plot(T2, x2,\"r\",label=\"configuration_2 parameter dictionary\",linewidth=1.2)\n",
    "plt.scatter(T_paper, x_paper,marker='x',label=\"A framework for efficient large scale equation-oriented flowsheet optimization\")\n",
    "ax.set_xlabel('Temperature (K)',fontsize=15, labelpad=10)\n",
    "ax.set_ylabel('Vapor fraction',fontsize=15, labelpad=10)\n",
    "ax.legend(fontsize=15)\n",
    "plt.title(\"Temperature vs. Vapor fraction\",fontsize=24)\n",
    "ax.grid()\n",
    "plt.legend()\n",
    "plt.show()"
   ]
  },
  {
   "cell_type": "markdown",
   "metadata": {},
   "source": [
    "From the plot, we can note the influence the thermodynamic equations and coefficients have. We can observe that a 0.2 K difference may account for a 0 to a 0.6 vapor fraction difference.\n",
    "\n",
    "More often than not, as users, we do not identify the thermodynamics and parameters used in equations used to solve problems. In this case, we may not have looked at the parameter values to realize what changed. We want to mention and note how significant the effect of the property package is. When creating parameter blocks, the parameter values are fitted to specific data ranges, and users should be check to see if the data used covers the range of interest. Users can (and often should) fit their parameters wherever possible, focusing on the range of interest conditions of an individual problem."
   ]
  },
  {
   "cell_type": "code",
   "execution_count": null,
   "metadata": {},
   "outputs": [],
   "source": []
  }
 ],
 "metadata": {
  "celltoolbar": "Tags",
  "kernelspec": {
   "display_name": "Python 3",
   "language": "python",
   "name": "python3"
  },
  "language_info": {
   "codemirror_mode": {
    "name": "ipython",
    "version": 3
   },
   "file_extension": ".py",
   "mimetype": "text/x-python",
   "name": "python",
   "nbconvert_exporter": "python",
   "pygments_lexer": "ipython3",
   "version": "3.8.5"
  }
 },
 "nbformat": 4,
 "nbformat_minor": 4
}
