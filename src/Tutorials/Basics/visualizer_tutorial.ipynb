{
 "cells": [
  {
   "cell_type": "markdown",
   "id": "mobile-bridge",
   "metadata": {},
   "source": [
    "# IDAES Visualizer Tutorial\n",
    "> Author: Dan Gunter \\\n",
    "> Created: 2022-07-05"
   ]
  },
  {
   "cell_type": "markdown",
   "id": "increased-cambridge",
   "metadata": {},
   "source": [
    "## Introduction\n",
    "The IDAES Visualizer is a Python tool that provides a web-based visualization of any\n",
    "existing IDAES model or flowsheet. The visualization shows a diagram of the\n",
    "flowsheet and the stream table. You can interact with the diagram and export\n",
    "it as an image for inclusion in presentations or publications.\n",
    "\n",
    "This tutorial will show the basic steps of running the Visualizer on an example\n",
    "flowsheet, interacting with the resulting GUI, saving your work, and exporting\n",
    "the diagram as an image. It will also show how the Visualizer can be updated\n",
    "to reflect changes in the model components and/or variable values. The tutorial\n",
    "will also show how to run the Visualizer from a Python script."
   ]
  },
  {
   "cell_type": "markdown",
   "source": [
    "## Setup\n",
    "Module imports and any additional housekeeping needed\n",
    "to initialize the code."
   ],
   "metadata": {
    "collapsed": false,
    "pycharm": {
     "name": "#%% md\n"
    }
   }
  },
  {
   "cell_type": "code",
   "execution_count": 1,
   "outputs": [
    {
     "name": "stdout",
     "output_type": "stream",
     "text": [
      "WARNING: DEPRECATED: The generic_models.unit_models package has been moved to\n",
      "    idaes.models.unit_models  (deprecated in 2.0.0.alpha0) (called from\n",
      "    <frozen importlib._bootstrap>:228)\n",
      "WARNING: DEPRECATED: The generic_models.unit_models.pressure_changer module\n",
      "    has been moved to idaes.models.unit_models.pressure_changer  (deprecated\n",
      "    in 2.0.0.alpha0) (called from <frozen importlib._bootstrap>:228)\n"
     ]
    }
   ],
   "source": [
    "import visualizer_tutorial as vistut\n",
    "from idaes.core.util.model_statistics import degrees_of_freedom\n",
    "from IPython.display import display, Markdown"
   ],
   "metadata": {
    "collapsed": false,
    "pycharm": {
     "name": "#%%\n"
    }
   }
  },
  {
   "cell_type": "markdown",
   "id": "aware-finance",
   "metadata": {},
   "source": [
    "## Example flowsheet"
   ]
  },
  {
   "cell_type": "code",
   "execution_count": 8,
   "outputs": [
    {
     "data": {
      "text/plain": "<IPython.core.display.Markdown object>",
      "text/markdown": "Create an IDAES flowsheet.\n\n    {description of the flowsheet created}\n    "
     },
     "metadata": {},
     "output_type": "display_data"
    },
    {
     "name": "stdout",
     "output_type": "stream",
     "text": [
      "DOF = 0\n"
     ]
    }
   ],
   "source": [
    "# use the pre-defined function to create the flowsheet\n",
    "flowsheet = vistut.create_flowsheet()\n",
    "\n",
    "# description of the flowsheet we created\n",
    "display(Markdown(vistut.create_flowsheet.__doc__))\n",
    "\n",
    "# initialize the flowsheet as a square problem (dof=0)\n",
    "vistut.initialize_flowsheet(flowsheet)\n",
    "\n",
    "# verify that there are zero degrees of freedom\n",
    "print(f\"DOF = {degrees_of_freedom(flowsheet)}\")"
   ],
   "metadata": {
    "collapsed": false,
    "pycharm": {
     "name": "#%%\n"
    }
   }
  },
  {
   "cell_type": "markdown",
   "id": "alpha-democrat",
   "metadata": {},
   "source": [
    "## Running the visualizer"
   ]
  },
  {
   "cell_type": "markdown",
   "id": "green-slovakia",
   "metadata": {},
   "source": [
    "## Interacting with the visualizer"
   ]
  },
  {
   "cell_type": "markdown",
   "id": "0c15bba9",
   "metadata": {},
   "source": [
    "## Saving and loading"
   ]
  },
  {
   "cell_type": "markdown",
   "id": "9c2c8984",
   "metadata": {},
   "source": [
    "## Exporting images"
   ]
  },
  {
   "cell_type": "markdown",
   "id": "2568c50f",
   "metadata": {},
   "source": [
    "## Updating when the flowsheet changes"
   ]
  },
  {
   "cell_type": "markdown",
   "id": "cbe96cb0",
   "metadata": {
    "pycharm": {
     "name": "#%% md\n"
    }
   },
   "source": [
    "## Running the visualizer from a script\n",
    "The Visualizer can be used from a Jupyter Notebook like this, or from a\n",
    "Python script. The code to run this same tutorial as a Python script\n",
    "is also in the file [visualizer_tutorial.py](file://visualizer_tutorial.py)\n",
    "in the same folder as this notebook.\n",
    "\n",
    "If you have installed the IDAES examples (using `idaes get-examples`),\n",
    "then you can do the following to import and run the module:\n",
    "```\n",
    "from idaes_examples.Tutorials.Basics import visualizer_tutorial\n",
    "visualizer_tutorial.main()\n",
    "```\n",
    "\n"
   ]
  }
 ],
 "metadata": {
  "kernelspec": {
   "name": "ipywidgets",
   "language": "python",
   "display_name": "ipywidgets"
  },
  "language_info": {
   "codemirror_mode": {
    "name": "ipython",
    "version": 3
   },
   "file_extension": ".py",
   "mimetype": "text/x-python",
   "name": "python",
   "nbconvert_exporter": "python",
   "pygments_lexer": "ipython3",
   "version": "3.9.0"
  }
 },
 "nbformat": 4,
 "nbformat_minor": 5
}