{
 "cells": [
  {
   "cell_type": "markdown",
   "id": "mobile-bridge",
   "metadata": {},
   "source": [
    "# IDAES Flowsheet Visualizer Tutorial\n",
    "> Author: Dan Gunter \\\n",
    "> Created: 2022-07-05"
   ]
  },
  {
   "cell_type": "markdown",
   "id": "increased-cambridge",
   "metadata": {},
   "source": [
    "## Introduction\n",
    "The IDAES Flowsheet Visualizer (FV) is a Python tool that provides a web-based visualization of any existing IDAES model or flowsheet. The visualization shows a diagram of the\n",
    "flowsheet and the stream table. You can interact with the diagram and export\n",
    "it as an image for inclusion in presentations or publications.\n",
    "\n",
    "This tutorial will show the basic steps of running the FV on an example\n",
    "flowsheet, interacting with the resulting GUI, saving your work, and exporting\n",
    "the diagram as an image. It will also show how the Visualizer can be updated\n",
    "to reflect changes in the model components and/or variable values. The tutorial\n",
    "will also show how to run the Visualizer from a Python script."
   ]
  },
  {
   "cell_type": "markdown",
   "id": "0b66bbee",
   "metadata": {
    "pycharm": {
     "name": "#%% md\n"
    }
   },
   "source": [
    "## Setup\n",
    "Module imports and any additional housekeeping needed\n",
    "to initialize the code."
   ]
  },
  {
   "cell_type": "code",
   "execution_count": 1,
   "id": "9ea6722e",
   "metadata": {
    "pycharm": {
     "name": "#%%\n"
    }
   },
   "outputs": [
    {
     "name": "stdout",
     "output_type": "stream",
     "text": [
      "WARNING: DEPRECATED: The generic_models.unit_models package has been moved to\n",
      "    idaes.models.unit_models  (deprecated in 2.0.0.alpha0) (called from\n",
      "    <frozen importlib._bootstrap>:228)\n",
      "WARNING: DEPRECATED: The generic_models.unit_models.pressure_changer module\n",
      "    has been moved to idaes.models.unit_models.pressure_changer  (deprecated\n",
      "    in 2.0.0.alpha0) (called from <frozen importlib._bootstrap>:228)\n"
     ]
    }
   ],
   "source": [
    "import visualizer_tutorial as vistut\n",
    "vistut.quiet()  # turn off default logging and most warnings\n",
    "from idaes.core.util.model_statistics import degrees_of_freedom\n",
    "from IPython.display import display, Markdown"
   ]
  },
  {
   "cell_type": "markdown",
   "id": "aware-finance",
   "metadata": {},
   "source": [
    "## Example flowsheet"
   ]
  },
  {
   "cell_type": "code",
   "execution_count": 2,
   "id": "04a8f5b7",
   "metadata": {
    "pycharm": {
     "name": "#%%\n"
    }
   },
   "outputs": [
    {
     "data": {
      "text/markdown": [
       "## Create an IDAES flowsheet for hydrodealkylation (HDA)\n",
       "\n",
       "### About HDA\n",
       "\n",
       "Hydrodealkylation (HDA) is a chemical reaction that often involves reacting\n",
       "an aromatic hydrocarbon in the presence of hydrogen gas to form a\n",
       "simpler aromatic hydrocarbon devoid of functional groups. In this\n",
       "example, toluene will be reacted with hydrogen gas at high temperatures\n",
       " to form benzene via the following reaction:\n",
       "\n",
       "**C<sub>6</sub>H<sub>5</sub>CH<sub>3</sub> + H<sub>2</sub> → C<sub>6</sub>H<sub>6</sub> + CH<sub>4</sub>**\n",
       "\n",
       "This reaction is often accompanied by an equilibrium side reaction\n",
       "which forms diphenyl, which we will not cover in this example.\n",
       "\n",
       "### References\n",
       "\n",
       "This example is based on the 1967 AIChE Student Contest problem as\n",
       "present by Douglas, J.M., Chemical  Design of Chemical Processes, 1988,\n",
       "McGraw-Hill.\n",
       "    "
      ],
      "text/plain": [
       "<IPython.core.display.Markdown object>"
      ]
     },
     "metadata": {},
     "output_type": "display_data"
    },
    {
     "name": "stdout",
     "output_type": "stream",
     "text": [
      "DOF = 0\n"
     ]
    }
   ],
   "source": [
    "\n",
    "\n",
    "# use the pre-defined function to create the flowsheet\n",
    "model = vistut.create_model()\n",
    "\n",
    "# description of the flowsheet we created\n",
    "display(Markdown(vistut.create_model.__doc__))\n",
    "\n",
    "vistut.quiet()\n",
    "\n",
    "# initialize the flowsheet as a square problem (dof=0)\n",
    "vistut.initialize_model(model)\n",
    "\n",
    "# verify that there are zero degrees of freedom\n",
    "print(f\"DOF = {degrees_of_freedom(model)}\")"
   ]
  },
  {
   "cell_type": "markdown",
   "id": "alpha-democrat",
   "metadata": {},
   "source": [
    "## Running the Flowsheet Visualizer\n",
    "In most cases, you will run the FV by calling the `visualize()` method attached to your flowsheet.\n",
    "This function takes a number of optional arguments, which we will look at briefly later, and one required argument:\n",
    "the **title** to give the visualization. Unless you give more information, this title also is used as the filename in which to save its current state.\n",
    "\n",
    "In the following, we start the FV with the title \"Hydrodealkylation\". This will pop up a new browser tab (and save the status in a file called _Hydrodealkylation.json_).\n",
    "\n",
    "<div class=\"alert alert-block alert-info\">\n",
    "After the visualizer starts, we recommend making its tab into its own browser window and viewing it side-by-side with this notebook window.\n",
    "</div>"
   ]
  },
  {
   "cell_type": "code",
   "execution_count": 3,
   "id": "33bfec9e",
   "metadata": {
    "pycharm": {
     "name": "#%%\n"
    }
   },
   "outputs": [
    {
     "name": "stdout",
     "output_type": "stream",
     "text": [
      "Started visualization server\n",
      "Loading saved flowsheet from 'Hydrodealkylation.json'\n",
      "Saving flowsheet to default file 'Hydrodealkylation.json' in current directory (C:\\Users\\DanGunter\\src\\idaes\\dangunter\\examples-pse\\src\\Tutorials\\Basics)\n",
      "Flowsheet visualization at: http://localhost:64903/app?id=Hydrodealkylation\n"
     ]
    }
   ],
   "source": [
    "model.fs.visualize(\"Hydrodealkylation\")"
   ]
  },
  {
   "cell_type": "markdown",
   "id": "green-slovakia",
   "metadata": {},
   "source": [
    "## Interacting with the visualizer\n",
    "The first things you need to learn about the FV are how to manipulate the overall layout and control the view.\n",
    "The UI should initially look something like the screenshot below:\n",
    "<img src=\"fv1.png\" alt=\"Screenshot of Flowsheet Visualizer\">&nbsp;</img>\n",
    "\n",
    "<div class=\"alert alert-block alert-info\">\n",
    "    As you can see, the FV has two main panels. We will call the top panel the <b>diagram</b> and the bottom panel the <b>stream table</b>.\n",
    "</div>"
   ]
  },
  {
   "cell_type": "markdown",
   "id": "e9328e86",
   "metadata": {},
   "source": [
    "### View controls\n",
    "Before looking at the two panels in detail, it helps to know some basic controls for making them easier to view.\n",
    "\n",
    "| Control | Description | Illustration |\n",
    "|:----|:---------------------|:----:|\n",
    "| Panel height | Change the height of the  panels by grabbing the small handle in the lower right corner with your mouse. | <img src=\"fv2.png\"  alt=\"Handle used to resize panels\" width=\"150px\">&nbsp;</img> |\n",
    "| Diagram size | Zoom in/out on the diagram with the magnifying glass \"+\" and \"-\" buttons in the upper-right corner of the top panel. The button labeled with two crossing arrows fits the diagram into the current panel height and width. | <img src=\"fv3.png\" width=\"150px\" alt=\"Handle used to resize panels\"></img> |"
   ]
  },
  {
   "cell_type": "markdown",
   "id": "0c15bba9",
   "metadata": {},
   "source": [
    "## Saving and loading"
   ]
  },
  {
   "cell_type": "markdown",
   "id": "9c2c8984",
   "metadata": {},
   "source": [
    "## Exporting images"
   ]
  },
  {
   "cell_type": "markdown",
   "id": "2568c50f",
   "metadata": {},
   "source": [
    "## Updating when the flowsheet changes\n",
    "Below is some IDAES modeling code that adds another Flash unit to the model, connecting the liquid outlet of the first flash unit to its inlet. There is a little more code that updates some of the output values of the model and sets initial values for this new unit, and then re-initializes the model.\n",
    "\n",
    "**After this code executes, the model will have a unit called \"F102\" connected to \"F101\".**"
   ]
  },
  {
   "cell_type": "code",
   "execution_count": 4,
   "id": "52ebe384",
   "metadata": {},
   "outputs": [],
   "source": [
    "# Add a second flash unit\n",
    "from idaes.generic_models.unit_models import Flash\n",
    "from pyomo.network import Arc\n",
    "from pyomo.environ import Expression, TransformationFactory\n",
    "m = model # alias\n",
    "m.fs.F102 = Flash(default={\"property_package\": m.fs.thermo_params,\n",
    "                           \"has_heat_transfer\": True,\n",
    "                           \"has_pressure_change\": True})\n",
    "# connect to 1st flash unit\n",
    "m.fs.s10 = Arc(source=m.fs.F101.liq_outlet, destination=m.fs.F102.inlet)\n",
    "# update expressions for purity and cost\n",
    "m.fs.purity = Expression(\n",
    "        expr=m.fs.F102.vap_outlet.flow_mol_phase_comp[0, \"Vap\", \"benzene\"] /\n",
    "             (m.fs.F102.vap_outlet.flow_mol_phase_comp[0, \"Vap\", \"benzene\"]\n",
    "              + m.fs.F102.vap_outlet.flow_mol_phase_comp[0, \"Vap\", \"toluene\"]))\n",
    "m.fs.heating_cost = Expression(expr=2.2e-7 * m.fs.H101.heat_duty[0] +\n",
    "                                1.9e-7 * m.fs.F102.heat_duty[0])\n",
    "# fix unit output and pressure drop\n",
    "m.fs.F102.vap_outlet.temperature.fix(375)\n",
    "m.fs.F102.deltaP.fix(-200000)\n",
    "\n",
    "# expand arcs\n",
    "TransformationFactory(\"network.expand_arcs\").apply_to(m)\n",
    "# re-initialize\n",
    "vistut.initialize_model(m)"
   ]
  },
  {
   "cell_type": "markdown",
   "id": "ecaeef12",
   "metadata": {},
   "source": [
    "<div class=\"alert alert-block alert-info\">Since the FV is connected to the current state of the model in memory, simply hitting \"Refresh\" in the FV window will show the new flash unit in the diagram, and the new stream (liquid) in the stream table. We can then interactively rearrange the unit to be in the position we want in the diagram.</div>"
   ]
  },
  {
   "cell_type": "code",
   "execution_count": 7,
   "id": "acd72694",
   "metadata": {},
   "outputs": [
    {
     "name": "stdout",
     "output_type": "stream",
     "text": [
      "Loading saved flowsheet from 'Hydrodealkylation.json'\n",
      "Saving flowsheet to default file 'Hydrodealkylation.json' in current directory (C:\\Users\\DanGunter\\src\\idaes\\dangunter\\examples-pse\\src\\Tutorials\\Basics)\n",
      "Flowsheet visualization at: http://localhost:64903/app?id=Hydrodealkylation\n"
     ]
    }
   ],
   "source": [
    "# XXX Should not need to re-run!!\n",
    "model.fs.visualize(\"Hydrodealkylation\")"
   ]
  },
  {
   "cell_type": "code",
   "execution_count": null,
   "id": "2e12b124",
   "metadata": {},
   "outputs": [],
   "source": [
    "# Solve the model\n",
    "# Create the solver object\n",
    "from pyomo.environ import SolverFactory\n",
    "solver = SolverFactory('ipopt')\n",
    "solver.options = {'tol': 1e-6, 'max_iter': 5000}\n",
    "\n",
    "# Solve the model\n",
    "results = solver.solve(model, tee=False)"
   ]
  },
  {
   "cell_type": "markdown",
   "id": "cbe96cb0",
   "metadata": {
    "pycharm": {
     "name": "#%% md\n"
    }
   },
   "source": [
    "## Running the visualizer from a script\n",
    "The Visualizer can be used from a Jupyter Notebook like this, or from a\n",
    "Python script. The code to run this same tutorial as a Python script\n",
    "is also in the file [visualizer_tutorial.py](file://visualizer_tutorial.py)\n",
    "in the same folder as this notebook.\n",
    "\n",
    "If you have installed the IDAES examples (using `idaes get-examples`),\n",
    "then you can do the following to import and run the module:\n",
    "```\n",
    "from idaes_examples.Tutorials.Basics import visualizer_tutorial\n",
    "visualizer_tutorial.main()\n",
    "```\n",
    "\n"
   ]
  },
  {
   "cell_type": "code",
   "execution_count": 5,
   "id": "3b40e541",
   "metadata": {},
   "outputs": [],
   "source": [
    "from pyomo.environ import TransformationFactory\n",
    "TransformationFactory??"
   ]
  },
  {
   "cell_type": "code",
   "execution_count": null,
   "id": "0f582b1d",
   "metadata": {},
   "outputs": [],
   "source": []
  }
 ],
 "metadata": {
  "kernelspec": {
   "display_name": "Python 3 (ipykernel)",
   "language": "python",
   "name": "python3"
  },
  "language_info": {
   "codemirror_mode": {
    "name": "ipython",
    "version": 3
   },
   "file_extension": ".py",
   "mimetype": "text/x-python",
   "name": "python",
   "nbconvert_exporter": "python",
   "pygments_lexer": "ipython3",
   "version": "3.9.0"
  }
 },
 "nbformat": 4,
 "nbformat_minor": 5
}
