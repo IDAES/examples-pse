{
 "cells": [
  {
   "cell_type": "markdown",
   "source": [
    "\n",
    "# HDA Flowsheet Simulation and Optimization\n",
    "\n",
    "\n",
    "## Note\n",
    "\n",
    "This tutorial will be similar to the HDA flowsheet tutorial in the Tutorials section, except that we use a distillation column instead of a second flash (F102) to produce benzene and toluene products.\n",
    "\n",
    "\n",
    "## Learning outcomes\n",
    "\n",
    "\n",
    "- Construct a steady-state flowsheet using the IDAES unit model library\n",
    "- Connecting unit models in a  flowsheet using Arcs\n",
    "- Using the SequentialDecomposition tool to initialize a flowsheet with recycle\n",
    "- Fomulate and solve an optimization problem\n",
    "    - Defining an objective function\n",
    "    - Setting variable bounds\n",
    "    - Adding additional constraints \n",
    "\n",
    "\n",
    "## Problem Statement\n",
    "\n",
    "Hydrodealkylation is a chemical reaction that often involves reacting\n",
    "an aromatic hydrocarbon in the presence of hydrogen gas to form a\n",
    "simpler aromatic hydrocarbon devoid of functional groups. In this\n",
    "example, toluene will be reacted with hydrogen gas at high temperatures\n",
    " to form benzene via the following reaction:\n",
    "\n",
    "**C<sub>6</sub>H<sub>5</sub>CH<sub>3</sub> + H<sub>2</sub> → C<sub>6</sub>H<sub>6</sub> + CH<sub>4</sub>**\n",
    "\n",
    "\n",
    "This reaction is often accompanied by an equilibrium side reaction\n",
    "which forms diphenyl, which we will neglect for this example.\n",
    "\n",
    "This example is based on the 1967 AIChE Student Contest problem as\n",
    "present by Douglas, J.M., Chemical  Design of Chemical Processes, 1988,\n",
    "McGraw-Hill.\n",
    "\n",
    "The flowsheet that we will be using for this module is shown below with the stream conditions. We will be processing toluene and hydrogen to produce at least 370 TPY of benzene. As shown in the flowsheet, we use a flash tank, F101, to separate out the non-condensibles, and a distillation column, D101, to further separate the benzene-toluene mixture to improve the benzene purity.  The non-condensibles separated out in F101 will be partially recycled back to M101 and the rest will be purged. We will assume ideal gas behavior for this flowsheet. The properties required for this module are defined in\n",
    "\n",
    "- `hda_ideal_VLE.py`\n",
    "- `idaes.generic_models.properties.activity_coeff_models.BTX_activity_coeff_VLE`\n",
    "- `hda_reaction_kinetic.py`\n",
    "\n",
    "We will be using two thermodynamic packages: one (first in the list above) containing all four components (i.e., toluene, hydrogen, benzene, and methane) and the other (second in the list above) containing benzene and toluene only. The latter is needed to simplify the VLE calculations in the distillation column model. \n",
    "\n",
    "![](HDA_flowsheet_distillation.png)\n",
    "\n",
    "\n"
   ],
   "metadata": {}
  },
  {
   "cell_type": "markdown",
   "source": [
    "## Translator block\n",
    "\n",
    "Benzene and toluene are separated by distillation, so the process involves phase equilibrium and two-phase flow conditions. However, the presence of hydrogen and methane complicates the calculations. This is because, hydrogen and methane are non-condensable under all conditions of interest; ergo, a vapor phase will always be present, and the mixture bubble point is extremely low. To simplify the phase equilibrium calculations, hydrogen and methane will be considered completely as non-condensable and insoluble in the liquid outlet from the flash F101.\n",
    "\n",
    "Since no hydrogen and methane will be present in the unit operations following the flash, a different component list can be used to simplify the property calculations. IDAES supports the definition of multiple property packages within a single flowsheet via `Translator` blocks. `Translator` blocks convert between different property calculations, component lists, and equations of state. "
   ],
   "metadata": {}
  },
  {
   "cell_type": "markdown",
   "source": [
    "## Importing required pyomo and idaes components\n",
    "\n",
    "\n",
    "To construct a flowsheet, we will need several components from the pyomo and idaes package. Let us first import the following components from Pyomo:\n",
    "- Constraint (to write constraints)\n",
    "- Var (to declare variables)\n",
    "- ConcreteModel (to create the concrete model object)\n",
    "- Expression (to evaluate values as a function of variables defined in the model)\n",
    "- Objective (to define an objective function for optimization)\n",
    "- SolverFactory (to solve the problem)\n",
    "- TransformationFactory (to apply certain transformations)\n",
    "- Arc (to connect two unit models)\n",
    "- SequentialDecomposition (to initialize the flowsheet in a sequential mode)\n",
    "\n",
    "For further details on these components, please refer to the pyomo documentation: https://pyomo.readthedocs.io/en/latest/\n"
   ],
   "metadata": {}
  },
  {
   "cell_type": "code",
   "execution_count": null,
   "source": [
    "from pyomo.environ import (Constraint,\n",
    "                           Var,\n",
    "                           ConcreteModel,\n",
    "                           Expression,\n",
    "                           Objective,\n",
    "                           TransformationFactory,\n",
    "                           value)"
   ],
   "outputs": [],
   "metadata": {}
  },
  {
   "cell_type": "markdown",
   "source": [
    "<div class=\"alert alert-block alert-info\">\n",
    "<b>Inline Exercise:</b>\n",
    "Import `Arc` and `SequentialDecomposition` tools from `pyomo.network`\n",
    "</div>"
   ],
   "metadata": {}
  },
  {
   "cell_type": "code",
   "execution_count": null,
   "source": [
    "# Todo: Import the above mentioned tools from pyomo.network\n"
   ],
   "outputs": [],
   "metadata": {
    "tags": [
     "exercise"
    ]
   }
  },
  {
   "cell_type": "code",
   "execution_count": null,
   "source": [
    "# Todo: Import the above mentioned tools from pyomo.network\n",
    "from pyomo.network import Arc, SequentialDecomposition"
   ],
   "outputs": [],
   "metadata": {
    "tags": [
     "solution"
    ]
   }
  },
  {
   "cell_type": "markdown",
   "source": [
    "From idaes, we will be needing the FlowsheetBlock and the following unit models:\n",
    "- Mixer\n",
    "- Heater\n",
    "- CSTR\n",
    "- Flash\n",
    "- Separator (splitter) \n",
    "- PressureChanger\n",
    "- Translator (to switch from one property package to another)\n",
    "- TrayColumn (distillation column)\n",
    "- CondenserType (Type of the overhead condenser: complete or partial)\n",
    "- TemperatureSpec (Temperature specification inside the condenser)"
   ],
   "metadata": {}
  },
  {
   "cell_type": "code",
   "execution_count": null,
   "source": [
    "from idaes.core import FlowsheetBlock"
   ],
   "outputs": [],
   "metadata": {}
  },
  {
   "cell_type": "code",
   "execution_count": null,
   "source": [
    "from idaes.generic_models.unit_models import (PressureChanger,\n",
    "                                              Mixer,\n",
    "                                              Separator as Splitter,\n",
    "                                              Heater,\n",
    "                                              CSTR,\n",
    "                                              Flash,\n",
    "                                              Translator)\n",
    "\n",
    "from idaes.generic_models.unit_models.distillation import TrayColumn\n",
    "from idaes.generic_models.unit_models.distillation.condenser \\\n",
    "    import CondenserType, TemperatureSpec "
   ],
   "outputs": [],
   "metadata": {}
  },
  {
   "cell_type": "markdown",
   "source": [
    "We will also be needing some utility tools to put together the flowsheet and calculate the degrees of freedom. "
   ],
   "metadata": {}
  },
  {
   "cell_type": "code",
   "execution_count": null,
   "source": [
    "# Utility tools to put together the flowsheet and calculate the degrees of freedom\n",
    "from idaes.generic_models.unit_models.pressure_changer import ThermodynamicAssumption\n",
    "from idaes.core.util.model_statistics import degrees_of_freedom\n",
    "from idaes.core.util.initialization import propagate_state\n",
    "from idaes.core.util.misc import get_solver\n",
    "\n",
    "# Import idaes logger to set output levels\n",
    "import idaes.logger as idaeslog"
   ],
   "outputs": [],
   "metadata": {}
  },
  {
   "cell_type": "markdown",
   "source": [
    "## Importing required thermo and reaction packages\n",
    "\n",
    "Finally, we import the thermophysical (`hda_ideal_VLE.py` and `BTXParameterBlock`) packages and reaction package (`hda_reaction_kinetic.py`) for the HDA process. We have created custom thermophysical packages that assume ideal gas behavior with support for VLE. The reaction package consists of the stochiometric coefficients for the reaction, heat of reaction, and kinetic information (Arrhenius constant and activation energy). "
   ],
   "metadata": {}
  },
  {
   "cell_type": "code",
   "execution_count": null,
   "source": [
    "import hda_reaction_kinetic as reaction_props\n",
    "from idaes.generic_models.properties.activity_coeff_models.\\\n",
    "    BTX_activity_coeff_VLE import BTXParameterBlock\n",
    "\n",
    "from hda_ideal_VLE import HDAParameterBlock"
   ],
   "outputs": [],
   "metadata": {}
  },
  {
   "cell_type": "markdown",
   "source": [
    "## Constructing the Flowsheet\n",
    "\n",
    "We have now imported all the components, unit models, and property modules we need to construct a flowsheet. Let us create a ConcreteModel and add the flowsheet block to it. "
   ],
   "metadata": {}
  },
  {
   "cell_type": "code",
   "execution_count": null,
   "source": [
    "# Create a Pyomo Concrete Model to contain the problem\n",
    "m = ConcreteModel()\n",
    "\n",
    "# Add a steady state flowsheet block to the model\n",
    "m.fs = FlowsheetBlock(default={\"dynamic\": False})"
   ],
   "outputs": [],
   "metadata": {}
  },
  {
   "cell_type": "markdown",
   "source": [
    "We will now add the thermophysical and reaction packages to the flowsheet."
   ],
   "metadata": {}
  },
  {
   "cell_type": "code",
   "execution_count": null,
   "source": [
    "# Property package for benzene, toluene, hydrogen, methane mixture\n",
    "m.fs.BTHM_params = HDAParameterBlock()\n",
    "\n",
    "# Property package for the benzene-toluene mixture\n",
    "m.fs.BT_params = BTXParameterBlock(default={\n",
    "        \"valid_phase\": ('Liq', 'Vap'),\n",
    "        \"activity_coeff_model\": \"Ideal\"\n",
    "})\n",
    "\n",
    "# Reaction package for the HDA reaction\n",
    "m.fs.reaction_params = reaction_props.HDAReactionParameterBlock(\n",
    "        default={\"property_package\": m.fs.BTHM_params})"
   ],
   "outputs": [],
   "metadata": {}
  },
  {
   "cell_type": "markdown",
   "source": [
    "## Adding Unit Models\n",
    "\n",
    "Let us start adding the unit models we have imported to the flowsheet. Here, we are adding the Mixer (assigned a name M101) and a Heater (assigned a name H101). Note that, all unit models need to be given a property package argument. In addition, the Mixer unit model needs a `list` consisting of the inlets (toluene feed, hydrogen feed and vapor recycle streams in this case). "
   ],
   "metadata": {}
  },
  {
   "cell_type": "code",
   "execution_count": null,
   "source": [
    "# Adding the mixer M101 to the flowsheet\n",
    "m.fs.M101 = Mixer(default={\"property_package\": m.fs.BTHM_params,\n",
    "                           \"inlet_list\": [\"toluene_feed\", \"hydrogen_feed\", \"vapor_recycle\"]})\n",
    "\n",
    "# Adding the heater H101 to the flowsheet\n",
    "m.fs.H101 = Heater(default={\"property_package\": m.fs.BTHM_params,\n",
    "                            \"has_phase_equilibrium\": True})"
   ],
   "outputs": [],
   "metadata": {}
  },
  {
   "cell_type": "markdown",
   "source": [
    "<div class=\"alert alert-block alert-info\">\n",
    "<b>Inline Exercise:</b>\n",
    "Let us now add the CSTR (assign the name R101) and pass the following arguments:\n",
    "      <ul>\n",
    "         <li>\"property_package\": m.fs.BTHM_params</li>\n",
    "         <li>\"reaction_package\": m.fs.reaction_params </li>\n",
    "         <li>\"has_heat_of_reaction\": True </li>\n",
    "         <li>\"has_heat_transfer\": True</li>\n",
    "      </ul>\n",
    "</div>"
   ],
   "metadata": {}
  },
  {
   "cell_type": "code",
   "execution_count": null,
   "source": [
    "# Todo: Add reactor with the specifications above\n"
   ],
   "outputs": [],
   "metadata": {
    "tags": [
     "exercise"
    ]
   }
  },
  {
   "cell_type": "code",
   "execution_count": null,
   "source": [
    "# Todo: Add reactor with the specifications above\n",
    "m.fs.R101 = CSTR(\n",
    "            default={\"property_package\": m.fs.BTHM_params,\n",
    "                     \"reaction_package\": m.fs.reaction_params,\n",
    "                     \"has_heat_of_reaction\": True,\n",
    "                     \"has_heat_transfer\": True})"
   ],
   "outputs": [],
   "metadata": {
    "tags": [
     "solution"
    ]
   }
  },
  {
   "cell_type": "markdown",
   "source": [
    "Let us now add the Flash (assign the name F101), Splitter (assign the name S101) and PressureChanger (assign the name C101)"
   ],
   "metadata": {}
  },
  {
   "cell_type": "code",
   "execution_count": null,
   "source": [
    "# Adding the flash tank F101 to the flowsheet\n",
    "m.fs.F101 = Flash(default={\"property_package\": m.fs.BTHM_params,\n",
    "                           \"has_heat_transfer\": True,\n",
    "                           \"has_pressure_change\": True})\n",
    "                           \n",
    "# Adding the splitter S101 to the flowsheet\n",
    "m.fs.S101 = Splitter(default={\"property_package\": m.fs.BTHM_params,\n",
    "                              \"outlet_list\": [\"purge\", \"recycle\"]})\n",
    "\n",
    "# Adding the compressor C101 to the flowsheet    \n",
    "m.fs.C101 = PressureChanger(default={\n",
    "            \"property_package\": m.fs.BTHM_params,\n",
    "            \"compressor\": True,\n",
    "            \"thermodynamic_assumption\": ThermodynamicAssumption.isothermal})                             "
   ],
   "outputs": [],
   "metadata": {}
  },
  {
   "cell_type": "markdown",
   "source": [
    "## Remark\n",
    "\n",
    "Currently, the `SequentialDecomposition()` tool, which we will later be using to initialize the flowsheet, does not support the distillation column model. Thus, we will first simulate the flowsheet without the distillation column. After it converges, we will then add the distillation column, initialize it, and simulate the entire flowsheet."
   ],
   "metadata": {}
  },
  {
   "cell_type": "markdown",
   "source": [
    "As mentioned above, we use the `m.fs.BTHM_params` package, which contains all the four species, for the reactor loop, and the simpler `m.fs.BT_params` for unit operations following the flash (i.e., heater H102 and the distillation column D101). We define a `Translator` block to link the source property package and the package it is to be translated to in the following manner:"
   ],
   "metadata": {}
  },
  {
   "cell_type": "code",
   "execution_count": null,
   "source": [
    "# Add translator block to convert between property packages       \n",
    "m.fs.translator = Translator(default={\n",
    "        \"inlet_property_package\": m.fs.BTHM_params,\n",
    "        \"outlet_property_package\": m.fs.BT_params\n",
    "}) "
   ],
   "outputs": [],
   "metadata": {}
  },
  {
   "cell_type": "markdown",
   "source": [
    "### Translator block constraints\n",
    "\n",
    "The `Translator` block needs to know how to translate between the two property packages. This must be custom coded for each application because of the generality of the IDAES framework.\n",
    "\n",
    "For this process, five constraints are required based on the state variables used in the outgoing process.\n",
    "\n",
    "- Since we assumed that only benzene and toluene are present in the liquid phase, the total molar flowrate must be the sum of molar flowrates of benzene and toluene, respectively.\n",
    "- Temperature of the inlet and outlet streams must be the same.\n",
    "- Pressure of the inlet and outgoing streams must be the same\n",
    "- The mole fraction of benzene in the outgoing stream is the ratio of the molar flowrate of liquid benzene in the inlet to the sum of molar flowrates of liquid benzene and toluene in the inlet.\n",
    "- The mole fraction of toluene in the outgoing stream is the ratio of the molar flowrate of liquid toluene in the inlet to the sum of molar flowrates of liquid benzene and toluene in the inlet."
   ],
   "metadata": {}
  },
  {
   "cell_type": "code",
   "execution_count": null,
   "source": [
    "# Add constraint: Total flow = benzene flow + toluene flow (molar)\n",
    "m.fs.translator.eq_total_flow = Constraint(\n",
    "    expr=m.fs.translator.outlet.flow_mol[0] ==\n",
    "    m.fs.translator.inlet.flow_mol_phase_comp[0, \"Liq\", \"benzene\"] +\n",
    "    m.fs.translator.inlet.flow_mol_phase_comp[0, \"Liq\", \"toluene\"])\n",
    "\n",
    "# Add constraint: Outlet temperature = Inlet temperature\n",
    "m.fs.translator.eq_temperature = Constraint(\n",
    "    expr=m.fs.translator.outlet.temperature[0] ==\n",
    "    m.fs.translator.inlet.temperature[0])"
   ],
   "outputs": [],
   "metadata": {}
  },
  {
   "cell_type": "markdown",
   "source": [
    "In the above, note that the variable flow_mol_phase_comp has the index - [time, phase, component]. As this is a steady-state flowsheet, the time index by default is 0. The valid phases are [\"Liq\", \"Vap\"]. Similarly the valid component list is [\"benzene\", \"toluene\", \"hydrogen\", \"methane\"]."
   ],
   "metadata": {}
  },
  {
   "cell_type": "markdown",
   "source": [
    "<div class=\"alert alert-block alert-info\">\n",
    "<b>Inline Exercise:</b>\n",
    "Add the constraint to ensure that the outlet pressure is the same as the inlet pressure\n",
    "</div>"
   ],
   "metadata": {}
  },
  {
   "cell_type": "code",
   "execution_count": null,
   "source": [
    "# Todo: Add constraint: Outlet pressure = Inlet pressure\n"
   ],
   "outputs": [],
   "metadata": {
    "tags": [
     "exercise"
    ]
   }
  },
  {
   "cell_type": "code",
   "execution_count": null,
   "source": [
    "# Todo: Add constraint: Outlet pressure = Inlet pressure\n",
    "m.fs.translator.eq_pressure = Constraint(\n",
    "    expr=m.fs.translator.outlet.pressure[0] ==\n",
    "    m.fs.translator.inlet.pressure[0])"
   ],
   "outputs": [],
   "metadata": {
    "tags": [
     "solution"
    ]
   }
  },
  {
   "cell_type": "code",
   "execution_count": null,
   "source": [
    "# Remaining constraints on the translator block\n",
    "\n",
    "# Add constraint: Benzene mole fraction definition\n",
    "m.fs.translator.eq_mole_frac_benzene = Constraint(\n",
    "    expr=m.fs.translator.outlet.mole_frac_comp[0, \"benzene\"] ==\n",
    "    m.fs.translator.inlet.flow_mol_phase_comp[0, \"Liq\", \"benzene\"] /\n",
    "    (m.fs.translator.inlet.flow_mol_phase_comp[0, \"Liq\", \"benzene\"] +\n",
    "    m.fs.translator.inlet.flow_mol_phase_comp[0, \"Liq\", \"toluene\"]))\n",
    "\n",
    "# Add constraint: Toluene mole fraction definition\n",
    "m.fs.translator.eq_mole_frac_toluene = Constraint(\n",
    "    expr=m.fs.translator.outlet.mole_frac_comp[0, \"toluene\"] ==\n",
    "    m.fs.translator.inlet.flow_mol_phase_comp[0, \"Liq\", \"toluene\"] /\n",
    "    (m.fs.translator.inlet.flow_mol_phase_comp[0, \"Liq\", \"benzene\"] +\n",
    "    m.fs.translator.inlet.flow_mol_phase_comp[0, \"Liq\", \"toluene\"]))"
   ],
   "outputs": [],
   "metadata": {}
  },
  {
   "cell_type": "markdown",
   "source": [
    "<div class=\"alert alert-block alert-info\">\n",
    "<b>Inline Exercise:</b>\n",
    "Finally, let us add the Heater H102 in the same way as H101 but pass the m.fs.BT_params thermodynamic package. We will add the distillation column after converging the flowsheet.\n",
    "</div>"
   ],
   "metadata": {}
  },
  {
   "cell_type": "code",
   "execution_count": null,
   "source": [
    "# Todo: Add the Heater H102 to the flowsheet\n",
    " "
   ],
   "outputs": [],
   "metadata": {
    "tags": [
     "exercise"
    ]
   }
  },
  {
   "cell_type": "code",
   "execution_count": null,
   "source": [
    "# Todo: Add the Heater H102 to the flowsheet\n",
    "m.fs.H102 = Heater(default={\"property_package\": m.fs.BT_params,\n",
    "                            \"has_pressure_change\": True,\n",
    "                            \"has_phase_equilibrium\": True})   "
   ],
   "outputs": [],
   "metadata": {
    "tags": [
     "solution"
    ]
   }
  },
  {
   "cell_type": "markdown",
   "source": [
    "## Connecting Unit Models using Arcs\n",
    "\n",
    "We have now added the initial set of unit models to the flowsheet. However, we have not yet specifed how the units are connected. To do this, we will be using the `Arc` which is a pyomo component that takes in two arguments: `source` and `destination`. Let us connect the outlet of the mixer (M101) to the inlet of the heater (H101). "
   ],
   "metadata": {}
  },
  {
   "cell_type": "code",
   "execution_count": null,
   "source": [
    "m.fs.s03 = Arc(source=m.fs.M101.outlet, destination=m.fs.H101.inlet)"
   ],
   "outputs": [],
   "metadata": {}
  },
  {
   "cell_type": "markdown",
   "source": [
    "\n",
    "![](HDA_flowsheet_distillation.png) \n",
    "\n",
    "<div class=\"alert alert-block alert-info\">\n",
    "<b>Inline Exercise:</b>\n",
    "Now, connect the H101 outlet to the R101 inlet using the cell above as a guide. \n",
    "</div>\n",
    "\n"
   ],
   "metadata": {}
  },
  {
   "cell_type": "code",
   "execution_count": null,
   "source": [
    "# Todo: Connect the H101 outlet to R101 inlet\n"
   ],
   "outputs": [],
   "metadata": {
    "tags": [
     "exercise"
    ]
   }
  },
  {
   "cell_type": "code",
   "execution_count": null,
   "source": [
    "# Todo: Connect the H101 outlet to R101 inlet\n",
    "m.fs.s04 = Arc(source=m.fs.H101.outlet, destination=m.fs.R101.inlet)"
   ],
   "outputs": [],
   "metadata": {
    "tags": [
     "solution"
    ]
   }
  },
  {
   "cell_type": "markdown",
   "source": [
    "We will now be connecting the rest of the units as shown below. Notice how the outlet names are different for the flash tank as it has a vapor and a liquid outlet. "
   ],
   "metadata": {}
  },
  {
   "cell_type": "code",
   "execution_count": null,
   "source": [
    "m.fs.s05 = Arc(source=m.fs.R101.outlet, destination=m.fs.F101.inlet)\n",
    "m.fs.s06 = Arc(source=m.fs.F101.vap_outlet, destination=m.fs.S101.inlet)\n",
    "m.fs.s08 = Arc(source=m.fs.S101.recycle, destination=m.fs.C101.inlet)\n",
    "m.fs.s09 = Arc(source=m.fs.C101.outlet,\n",
    "                   destination=m.fs.M101.vapor_recycle)\n",
    "m.fs.s10a = Arc(source=m.fs.F101.liq_outlet,\n",
    "                   destination=m.fs.translator.inlet)\n",
    "m.fs.s10b = Arc(source=m.fs.translator.outlet,\n",
    "                   destination=m.fs.H102.inlet)                   "
   ],
   "outputs": [],
   "metadata": {}
  },
  {
   "cell_type": "markdown",
   "source": [
    "We have now connected the unit model block using the arcs. However, each of these arcs link to ports on the two unit models that are connected. In this case, the ports consist of the state variables that need to be linked between the unit models. Pyomo provides a convenient method to write these equality constraints for us between two ports and this is done as follows:"
   ],
   "metadata": {}
  },
  {
   "cell_type": "code",
   "execution_count": null,
   "source": [
    "TransformationFactory(\"network.expand_arcs\").apply_to(m)"
   ],
   "outputs": [],
   "metadata": {}
  },
  {
   "cell_type": "markdown",
   "source": [
    "### Appending additional constraints to the model\n",
    "\n",
    "Now, we will see how we can add additional constraints to the model using `Constraint` from Pyomo.\n",
    "\n",
    "Consider the reactor R101. By default, the conversion of a component is not calculated when we simulate the flowsheet. If we are interested either in specifying or constraining the conversion value, we can add the following constraint to calculate the conversion:\n",
    "$$ \\text{Conversion of toluene} = \\frac{\\text{molar flow of toluene in the inlet} - \\text{molar flow of toluene in the outlet}}{\\text{molar flow of toluene in the inlet}} $$ \n",
    "\n",
    "We add the constraint to the model as shown below."
   ],
   "metadata": {}
  },
  {
   "cell_type": "code",
   "execution_count": null,
   "source": [
    "# Define the conversion variables using 'Var'\n",
    "m.fs.R101.conversion = Var(initialize=0.75, bounds=(0, 1))\n",
    "\n",
    "# Append the constraint to the model\n",
    "m.fs.R101.conv_constraint = Constraint(\n",
    "    expr=m.fs.R101.conversion*m.fs.R101.inlet.\n",
    "    flow_mol_phase_comp[0, \"Vap\", \"toluene\"] ==\n",
    "    (m.fs.R101.inlet.flow_mol_phase_comp[0, \"Vap\", \"toluene\"] -\n",
    "    m.fs.R101.outlet.flow_mol_phase_comp[0, \"Vap\", \"toluene\"]))"
   ],
   "outputs": [],
   "metadata": {}
  },
  {
   "cell_type": "markdown",
   "source": [
    "## Fixing feed conditions and Initializing the flowsheet\n",
    "\n",
    "Let us first check how many degrees of freedom exist for this flowsheet using the `degrees_of_freedom` tool we imported earlier. "
   ],
   "metadata": {}
  },
  {
   "cell_type": "code",
   "execution_count": null,
   "source": [
    "print(degrees_of_freedom(m))"
   ],
   "outputs": [],
   "metadata": {}
  },
  {
   "cell_type": "code",
   "execution_count": null,
   "source": [
    "# Check the degrees of freedom\n",
    "assert degrees_of_freedom(m) == 29"
   ],
   "outputs": [],
   "metadata": {
    "tags": [
     "testing",
     "remove_cell"
    ]
   }
  },
  {
   "cell_type": "markdown",
   "source": [
    "We will now be fixing the toluene feed stream to the conditions shown in the flowsheet above. Please note that though this is a pure toluene feed, the remaining components are still assigned a very small non-zero value to help with convergence and initializing. "
   ],
   "metadata": {}
  },
  {
   "cell_type": "code",
   "execution_count": null,
   "source": [
    "m.fs.M101.toluene_feed.flow_mol_phase_comp[0, \"Vap\", \"benzene\"].fix(1e-5)\n",
    "m.fs.M101.toluene_feed.flow_mol_phase_comp[0, \"Vap\", \"toluene\"].fix(1e-5)\n",
    "m.fs.M101.toluene_feed.flow_mol_phase_comp[0, \"Vap\", \"hydrogen\"].fix(1e-5)\n",
    "m.fs.M101.toluene_feed.flow_mol_phase_comp[0, \"Vap\", \"methane\"].fix(1e-5)\n",
    "m.fs.M101.toluene_feed.flow_mol_phase_comp[0, \"Liq\", \"benzene\"].fix(1e-5)\n",
    "m.fs.M101.toluene_feed.flow_mol_phase_comp[0, \"Liq\", \"toluene\"].fix(0.30)\n",
    "m.fs.M101.toluene_feed.flow_mol_phase_comp[0, \"Liq\", \"hydrogen\"].fix(1e-5)\n",
    "m.fs.M101.toluene_feed.flow_mol_phase_comp[0, \"Liq\", \"methane\"].fix(1e-5)\n",
    "m.fs.M101.toluene_feed.temperature.fix(303.2)\n",
    "m.fs.M101.toluene_feed.pressure.fix(350000)"
   ],
   "outputs": [],
   "metadata": {}
  },
  {
   "cell_type": "markdown",
   "source": [
    "Similarly, let us fix the hydrogen feed to the following conditions in the next cell:\n",
    "      <ul>\n",
    "         <li>F<sub>H2</sub> = 0.30 mol/s</li>\n",
    "         <li>F<sub>CH4</sub> = 0.02 mol/s</li>\n",
    "         <li>Remaining components = 1e-5 mol/s</li>\n",
    "         <li>T = 303.2 K</li>\n",
    "         <li>P = 350000 Pa</li>\n",
    "      </ul>"
   ],
   "metadata": {}
  },
  {
   "cell_type": "code",
   "execution_count": null,
   "source": [
    "m.fs.M101.hydrogen_feed.flow_mol_phase_comp[0, \"Vap\", \"benzene\"].fix(1e-5)\n",
    "m.fs.M101.hydrogen_feed.flow_mol_phase_comp[0, \"Vap\", \"toluene\"].fix(1e-5)\n",
    "m.fs.M101.hydrogen_feed.flow_mol_phase_comp[0, \"Vap\", \"hydrogen\"].fix(0.30)\n",
    "m.fs.M101.hydrogen_feed.flow_mol_phase_comp[0, \"Vap\", \"methane\"].fix(0.02)\n",
    "m.fs.M101.hydrogen_feed.flow_mol_phase_comp[0, \"Liq\", \"benzene\"].fix(1e-5)\n",
    "m.fs.M101.hydrogen_feed.flow_mol_phase_comp[0, \"Liq\", \"toluene\"].fix(1e-5)\n",
    "m.fs.M101.hydrogen_feed.flow_mol_phase_comp[0, \"Liq\", \"hydrogen\"].fix(1e-5)\n",
    "m.fs.M101.hydrogen_feed.flow_mol_phase_comp[0, \"Liq\", \"methane\"].fix(1e-5)\n",
    "m.fs.M101.hydrogen_feed.temperature.fix(303.2)\n",
    "m.fs.M101.hydrogen_feed.pressure.fix(350000)"
   ],
   "outputs": [],
   "metadata": {}
  },
  {
   "cell_type": "markdown",
   "source": [
    "### Fixing unit model specifications\n",
    "\n",
    "Now that we have fixed our inlet feed conditions, we will now be fixing the operating conditions for the unit models in the flowsheet. Let us set the H101 outlet temperature to 600 K. "
   ],
   "metadata": {}
  },
  {
   "cell_type": "code",
   "execution_count": null,
   "source": [
    "# Fix the temperature of the outlet from the heater H101\n",
    "m.fs.H101.outlet.temperature.fix(600)"
   ],
   "outputs": [],
   "metadata": {}
  },
  {
   "cell_type": "markdown",
   "source": [
    "<div class=\"alert alert-block alert-info\">\n",
    "<b>Inline Exercise:</b>\n",
    "Set the conditions for the reactor R101 to the following conditions:\n",
    "      <ul>\n",
    "         <li>`conversion` = 0.75 </li>\n",
    "         <li>`heat_duty` = 0</li>\n",
    "      </ul>\n",
    "\n",
    "Use Shift+Enter to run the cell once you have typed in your code. \n",
    "</div>"
   ],
   "metadata": {}
  },
  {
   "cell_type": "code",
   "execution_count": null,
   "source": [
    "# Todo: Fix the 'conversion' of the reactor R101\n",
    "\n",
    "\n",
    "# Todo: Fix the 'heat_duty' of the reactor R101\n"
   ],
   "outputs": [],
   "metadata": {
    "tags": [
     "exercise"
    ]
   }
  },
  {
   "cell_type": "code",
   "execution_count": null,
   "source": [
    "# Todo: Fix the 'conversion' of the reactor R101\n",
    "m.fs.R101.conversion.fix(0.75)\n",
    "\n",
    "# Todo: Fix the 'heat_duty' of the reactor R101\n",
    "m.fs.R101.heat_duty.fix(0)"
   ],
   "outputs": [],
   "metadata": {
    "tags": [
     "solution"
    ]
   }
  },
  {
   "cell_type": "markdown",
   "source": [
    "The Flash conditions for F101 can be set as follows. "
   ],
   "metadata": {}
  },
  {
   "cell_type": "code",
   "execution_count": null,
   "source": [
    "# Fix the temperature of the vapor outlet from F101\n",
    "m.fs.F101.vap_outlet.temperature.fix(325.0)\n",
    "\n",
    "# Fix the pressure drop in the flash F101\n",
    "m.fs.F101.deltaP.fix(0)"
   ],
   "outputs": [],
   "metadata": {}
  },
  {
   "cell_type": "markdown",
   "source": [
    "Let us fix the split fraction of the purge stream from the splitter S101 and the outlet pressure from the compressor C101"
   ],
   "metadata": {}
  },
  {
   "cell_type": "code",
   "execution_count": null,
   "source": [
    "# Fix the split fraction of the 'purge' stream from S101\n",
    "m.fs.S101.split_fraction[0, \"purge\"].fix(0.2)\n",
    "\n",
    "# Fix the pressure of the outlet from the compressor C101\n",
    "m.fs.C101.outlet.pressure.fix(350000)"
   ],
   "outputs": [],
   "metadata": {}
  },
  {
   "cell_type": "markdown",
   "source": [
    "Finally, let us fix the temperature of the outlet from H102 and the pressure drop in H102 as the following"
   ],
   "metadata": {}
  },
  {
   "cell_type": "code",
   "execution_count": null,
   "source": [
    "# Fix the temperature of the outlet from the heater H102\n",
    "m.fs.H102.outlet.temperature.fix(375)\n",
    "\n",
    "# Fix the pressure drop in the heater H102\n",
    "m.fs.H102.deltaP.fix(-200000)"
   ],
   "outputs": [],
   "metadata": {}
  },
  {
   "cell_type": "markdown",
   "source": [
    "<div class=\"alert alert-block alert-info\">\n",
    "<b>Inline Exercise:</b>\n",
    "We have now defined all the feed conditions and the inputs required for the unit models. The system should now have 0 degrees of freedom i.e. should be a square problem. Please check that the degrees of freedom is 0. \n",
    "\n",
    "Use Shift+Enter to run the cell once you have typed in your code. \n",
    "</div>"
   ],
   "metadata": {}
  },
  {
   "cell_type": "code",
   "execution_count": null,
   "source": [
    "# Todo: Check the degrees of freedom\n"
   ],
   "outputs": [],
   "metadata": {
    "tags": [
     "exercise"
    ]
   }
  },
  {
   "cell_type": "code",
   "execution_count": null,
   "source": [
    "# Todo: Check the degrees of freedom\n",
    "print(degrees_of_freedom(m))"
   ],
   "outputs": [],
   "metadata": {
    "tags": [
     "solution"
    ]
   }
  },
  {
   "cell_type": "code",
   "execution_count": null,
   "source": [
    "# Check the degrees of freedom\n",
    "assert degrees_of_freedom(m) == 0"
   ],
   "outputs": [],
   "metadata": {
    "tags": [
     "testing",
     "remove_cell"
    ]
   }
  },
  {
   "cell_type": "markdown",
   "source": [
    "### Initialization\n",
    "\n",
    "This subsection will demonstrate how to use the built-in sequential decomposition tool to initialize our flowsheet.\n",
    "\n",
    "Let us first create an object for the `SequentialDecomposition` and specify our options for this. "
   ],
   "metadata": {}
  },
  {
   "cell_type": "code",
   "execution_count": null,
   "source": [
    "seq = SequentialDecomposition()\n",
    "seq.options.select_tear_method = \"heuristic\"\n",
    "seq.options.tear_method = \"Wegstein\"\n",
    "seq.options.iterLim = 3\n",
    "\n",
    "# Using the SD tool\n",
    "G = seq.create_graph(m)\n",
    "heuristic_tear_set = seq.tear_set_arcs(G, method=\"heuristic\")\n",
    "order = seq.calculation_order(G)"
   ],
   "outputs": [],
   "metadata": {}
  },
  {
   "cell_type": "markdown",
   "source": [
    "Which is the tear stream? Display tear set and order"
   ],
   "metadata": {}
  },
  {
   "cell_type": "code",
   "execution_count": null,
   "source": [
    "for o in heuristic_tear_set:\n",
    "    print(o.name)"
   ],
   "outputs": [],
   "metadata": {}
  },
  {
   "cell_type": "markdown",
   "source": [
    "What sequence did the SD tool determine to solve this flowsheet with the least number of tears? "
   ],
   "metadata": {}
  },
  {
   "cell_type": "code",
   "execution_count": null,
   "source": [
    "for o in order:\n",
    "    print(o[0].name)"
   ],
   "outputs": [],
   "metadata": {}
  },
  {
   "cell_type": "markdown",
   "source": [
    "The SequentialDecomposition tool has determined that the tear stream is the mixer outlet (s03 in the Figure above). We will need to provide a reasonable guess for this.\n",
    "\n",
    "For the initial guess, we assume that the flowrate of the recycle stream (s09) is zero. Consequently, the flow rate of the stream s03 is simply the sum of the flowrates of the toluene feed and hydrogen feed streams. Further, since the temperature and the pressure of both the toluene and hydrogen feed streams are the same, we specify their values as the initial guess for the temperature and pressure of the stream s03."
   ],
   "metadata": {}
  },
  {
   "cell_type": "code",
   "execution_count": null,
   "source": [
    "tear_guesses = {\n",
    "        \"flow_mol_phase_comp\": {\n",
    "                (0, \"Vap\", \"benzene\"): 1e-5,\n",
    "                (0, \"Vap\", \"toluene\"): 1e-5,\n",
    "                (0, \"Vap\", \"hydrogen\"): 0.30,\n",
    "                (0, \"Vap\", \"methane\"): 0.02,\n",
    "                (0, \"Liq\", \"benzene\"): 1e-5,\n",
    "                (0, \"Liq\", \"toluene\"): 0.30,\n",
    "                (0, \"Liq\", \"hydrogen\"): 1e-5,\n",
    "                (0, \"Liq\", \"methane\"): 1e-5},\n",
    "        \"temperature\": {0: 303},\n",
    "        \"pressure\": {0: 350000}}\n",
    "\n",
    "# Pass the tear_guess to the SD tool\n",
    "seq.set_guesses_for(m.fs.H101.inlet, tear_guesses)"
   ],
   "outputs": [],
   "metadata": {}
  },
  {
   "cell_type": "markdown",
   "source": [
    "Next, we need to tell the tool how to initialize a particular unit. We will be writing a python function which takes in a \"unit\" and calls the initialize method on that unit."
   ],
   "metadata": {}
  },
  {
   "cell_type": "code",
   "execution_count": null,
   "source": [
    "def function(unit):\n",
    "        unit.initialize(outlvl=idaeslog.INFO)"
   ],
   "outputs": [],
   "metadata": {}
  },
  {
   "cell_type": "markdown",
   "source": [
    "We are now ready to initialize our flowsheet in a sequential mode. Note that we specifically set the iteration limit to be 3 as we are trying to use this tool only to get a good set of initial values such that IPOPT can then take over and solve this flowsheet for us. "
   ],
   "metadata": {}
  },
  {
   "cell_type": "code",
   "execution_count": null,
   "source": [
    "seq.run(m, function)"
   ],
   "outputs": [],
   "metadata": {}
  },
  {
   "cell_type": "markdown",
   "source": [
    "<div class=\"alert alert-block alert-info\">\n",
    "<b>Inline Exercise:</b>\n",
    "We have now initialized the flowsheet. Let us run the flowsheet in a simulation mode to look at the results. \n",
    "</div>"
   ],
   "metadata": {}
  },
  {
   "cell_type": "code",
   "execution_count": null,
   "source": [
    "# Create the solver object\n",
    "solver = get_solver()\n",
    "\n",
    "# Solve the model\n",
    "results = solver.solve(m, tee=True)"
   ],
   "outputs": [],
   "metadata": {}
  },
  {
   "cell_type": "code",
   "execution_count": null,
   "source": [
    "# Check solver solve status\n",
    "from pyomo.environ import TerminationCondition\n",
    "assert results.solver.termination_condition == TerminationCondition.optimal"
   ],
   "outputs": [],
   "metadata": {
    "tags": [
     "testing",
     "remove_cell"
    ]
   }
  },
  {
   "cell_type": "markdown",
   "source": [
    "### Add distillation column \n",
    "\n",
    "As mentioned earlier, the `SequentialDecomposition` tool currently does not support the distillation column model. Thus, we have not included the distillation column in the flowsheet. Now that we have a converged flowsheet, we will add the distillation column and simulate the entire flowsheet. \n",
    "\n",
    "In the following, we will\n",
    "- Add the distillation column \n",
    "- Connect it to the heater \n",
    "- Add the necessary equality constraints\n",
    "- Propogate the state variable information from the outlet of the heater to the inlet of the distillation column \n",
    "- Fix the degrees of freedom of the distillation block (reflux ratio, boilup ratio, and condenser pressure)\n",
    "- Initialize the distillation block.\n",
    "\n"
   ],
   "metadata": {}
  },
  {
   "cell_type": "code",
   "execution_count": null,
   "source": [
    "# Add distillation column to the flowsheet\n",
    "m.fs.D101 = TrayColumn(default={\n",
    "                        \"number_of_trays\": 10,\n",
    "                        \"feed_tray_location\": 5,\n",
    "                        \"condenser_type\":\n",
    "                            CondenserType.totalCondenser,\n",
    "                        \"condenser_temperature_spec\":\n",
    "                            TemperatureSpec.atBubblePoint,\n",
    "                        \"property_package\": m.fs.BT_params})\n",
    "\n",
    "# Connect the outlet from the heater H102 to the distillation column\n",
    "m.fs.s11 = Arc(source=m.fs.H102.outlet, \n",
    "               destination=m.fs.D101.feed)\n",
    "\n",
    "# Add the necessary equality constraints\n",
    "TransformationFactory(\"network.expand_arcs\").apply_to(m)\n",
    "\n",
    "# Propagate the state\n",
    "propagate_state(m.fs.s11)\n",
    "\n",
    "# Fix the reflux ratio, boilup ratio, and the condenser pressure\n",
    "m.fs.D101.condenser.reflux_ratio.fix(0.5)\n",
    "m.fs.D101.reboiler.boilup_ratio.fix(0.5)\n",
    "m.fs.D101.condenser.condenser_pressure.fix(150000)\n",
    "\n",
    "# Initialize the distillation column\n",
    "m.fs.D101.initialize(outlvl=idaeslog.INFO)                        "
   ],
   "outputs": [],
   "metadata": {}
  },
  {
   "cell_type": "markdown",
   "source": [
    "## Adding expressions to compute capital and operating costs\n",
    "\n",
    "In this section, we will add a few Expressions that allow us to evaluate the performance. Expressions provide a convenient way of calculating certain values that are a function of the variables defined in the model. For more details on Expressions, please refer to: https://pyomo.readthedocs.io/en/latest/pyomo_modeling_components/Expressions.html"
   ],
   "metadata": {}
  },
  {
   "cell_type": "code",
   "execution_count": null,
   "source": [
    "# Expression to compute the total cooling cost\n",
    "m.fs.cooling_cost = Expression(expr=0.25e-7 * (-m.fs.F101.heat_duty[0]) +\n",
    "                                0.2e-7 * (-m.fs.D101.condenser.heat_duty[0]))\n",
    "\n",
    "# Expression to compute the total heating cost\n",
    "m.fs.heating_cost = Expression(expr=2.2e-7 * m.fs.H101.heat_duty[0] +\n",
    "                                1.2e-7 * m.fs.H102.heat_duty[0] +\n",
    "                                1.9e-7 * m.fs.D101.reboiler.heat_duty[0])\n",
    "\n",
    "# Expression to compute the total operating cost\n",
    "m.fs.operating_cost = Expression(expr=(3600 * 24 * 365 *\n",
    "                                (m.fs.heating_cost + m.fs.cooling_cost)))\n",
    "\n",
    "# Expression to compute the total capital cost\n",
    "m.fs.capital_cost = Expression(expr=1e5*m.fs.R101.volume[0])    "
   ],
   "outputs": [],
   "metadata": {}
  },
  {
   "cell_type": "markdown",
   "source": [
    "### Solve the entire flowsheet"
   ],
   "metadata": {}
  },
  {
   "cell_type": "code",
   "execution_count": null,
   "source": [
    "# Check that the degrees of freedom is zero\n",
    "assert degrees_of_freedom(m) == 0"
   ],
   "outputs": [],
   "metadata": {
    "tags": [
     "testing",
     "remove_cell"
    ]
   }
  },
  {
   "cell_type": "code",
   "execution_count": null,
   "source": [
    "solver.solve(m, tee=True)"
   ],
   "outputs": [],
   "metadata": {}
  },
  {
   "cell_type": "code",
   "execution_count": null,
   "source": [
    "# Check solver solve status\n",
    "from pyomo.environ import TerminationCondition\n",
    "assert results.solver.termination_condition == TerminationCondition.optimal"
   ],
   "outputs": [],
   "metadata": {
    "tags": [
     "testing",
     "remove_cell"
    ]
   }
  },
  {
   "cell_type": "markdown",
   "source": [
    "## Analyze the Results of the Square Problem\n",
    "\n",
    "How much is the total cost (operating cost + capital cost), operating cost, capital cost, benzene purity in the distillate from the distilation column, and conversion of toluene in the reactor?"
   ],
   "metadata": {}
  },
  {
   "cell_type": "code",
   "execution_count": null,
   "source": [
    "print('total cost = $', value(m.fs.capital_cost) + value(m.fs.operating_cost))\n",
    "print('operating cost = $', value(m.fs.operating_cost))\n",
    "print('capital cost = $', value(m.fs.capital_cost))\n",
    "print()\n",
    "print('Distillate flowrate = ', value(m.fs.D101.condenser.distillate.flow_mol[0]()), 'mol/s')\n",
    "print('Benzene purity = ', 100 * value(m.fs.D101.\\\n",
    "    condenser.distillate.mole_frac_comp[0, \"benzene\"]), '%')\n",
    "print('Residue flowrate = ', value(m.fs.D101.reboiler.bottoms.flow_mol[0]()), 'mol/s')\n",
    "print('Toluene purity = ', 100 * value(m.fs.D101.\\\n",
    "    reboiler.bottoms.mole_frac_comp[0, \"toluene\"]), '%')\n",
    "print()\n",
    "print('Conversion = ', 100 * value(m.fs.R101.conversion), '%')\n",
    "print()\n",
    "print('Overhead benzene loss in F101 = ', \\\n",
    "    100 * value(m.fs.F101.vap_outlet.flow_mol_phase_comp[0, \"Vap\", \"benzene\"]) / \\\n",
    "        value(m.fs.R101.outlet.flow_mol_phase_comp[0, \"Vap\", \"benzene\"]), '%' )"
   ],
   "outputs": [],
   "metadata": {}
  },
  {
   "cell_type": "code",
   "execution_count": null,
   "source": [
    "import pytest\n",
    "assert value(m.fs.operating_cost) == pytest.approx(427593.007, abs=100)\n",
    "assert value(m.fs.capital_cost) == pytest.approx(14704.740, abs=100)"
   ],
   "outputs": [],
   "metadata": {
    "tags": [
     "testing",
     "remove_cell"
    ]
   }
  },
  {
   "cell_type": "markdown",
   "source": [
    "Get the state of the streams entering and leaving the reactor R101"
   ],
   "metadata": {}
  },
  {
   "cell_type": "code",
   "execution_count": null,
   "source": [
    "m.fs.R101.report()"
   ],
   "outputs": [],
   "metadata": {}
  },
  {
   "cell_type": "markdown",
   "source": [
    "Get the state of the streams entering and leaving the reactor R101"
   ],
   "metadata": {}
  },
  {
   "cell_type": "code",
   "execution_count": null,
   "source": [
    "m.fs.F101.report()"
   ],
   "outputs": [],
   "metadata": {}
  },
  {
   "cell_type": "markdown",
   "source": [
    "Next, let's look at how much benzene we are loosing with the light gases out of F101. IDAES has tools for creating stream tables based on the `Arcs` and/or `Ports` in a flowsheet. Let us create and print a simple stream table showing the stream leaving the reactor and the vapor stream from F101.\n",
    "\n",
    "<div class=\"alert alert-block alert-info\">\n",
    "<b>Inline Exercise:</b>\n",
    "How much benzene are we loosing in the F101 vapor outlet stream?\n",
    "</div>"
   ],
   "metadata": {}
  },
  {
   "cell_type": "code",
   "execution_count": null,
   "source": [
    "from idaes.core.util.tables import create_stream_table_dataframe, stream_table_dataframe_to_string\n",
    "\n",
    "st = create_stream_table_dataframe({\"Reactor\": m.fs.s05, \"Light Gases\": m.fs.s06})\n",
    "print(stream_table_dataframe_to_string(st))"
   ],
   "outputs": [],
   "metadata": {}
  },
  {
   "cell_type": "markdown",
   "source": [
    "<div class=\"alert alert-block alert-info\">\n",
    "<b>Inline Exercise:</b>\n",
    "You can querry additional variables here if you like. \n",
    "\n",
    "Use Shift+Enter to run the cell once you have typed in your code. \n",
    "</div>"
   ],
   "metadata": {}
  },
  {
   "cell_type": "markdown",
   "source": [
    "# Optimization\n",
    "\n",
    "\n",
    "We saw from the results above that the total operating cost for the base case was $442,297 per year. We are producing 0.162 mol/s of benzene at a purity of 89.5%. However, we are losing around 43.3% of benzene in F101 vapor outlet stream. \n",
    "\n",
    "Let us try to minimize this cost such that:\n",
    "- we are producing at least 0.18 mol/s of benzene as distillate i.e. our product stream\n",
    "- purity of benzene i.e. the mole fraction of benzene in the distillate is at least 99%\n",
    "- restricting the benzene loss in F101 vapor outlet to less than 20%\n",
    "\n",
    "For this problem, our decision variables are as follows:\n",
    "- H101 outlet temperature\n",
    "- R101 outlet temperature\n",
    "- F101 outlet temperature\n",
    "- H102 outlet temperature\n",
    "- Condenser pressure\n",
    "- reflux ratio\n",
    "- boilup ratio\n"
   ],
   "metadata": {}
  },
  {
   "cell_type": "markdown",
   "source": [
    "Let us declare our objective function for this problem. "
   ],
   "metadata": {}
  },
  {
   "cell_type": "code",
   "execution_count": null,
   "source": [
    "m.fs.objective = Objective(expr=m.fs.operating_cost + m.fs.capital_cost)"
   ],
   "outputs": [],
   "metadata": {}
  },
  {
   "cell_type": "markdown",
   "source": [
    "Now, we need to unfix the decision variables as we had solved a square problem (degrees of freedom = 0) until now. "
   ],
   "metadata": {}
  },
  {
   "cell_type": "code",
   "execution_count": null,
   "source": [
    "m.fs.H101.outlet.temperature.unfix()\n",
    "m.fs.R101.conversion.unfix()  \n",
    "m.fs.F101.vap_outlet.temperature.unfix()\n",
    "m.fs.D101.condenser.condenser_pressure.unfix()\n",
    "m.fs.D101.condenser.reflux_ratio.unfix()\n",
    "m.fs.D101.reboiler.boilup_ratio.unfix()"
   ],
   "outputs": [],
   "metadata": {}
  },
  {
   "cell_type": "markdown",
   "source": [
    "<div class=\"alert alert-block alert-info\">\n",
    "<b>Inline Exercise:</b>\n",
    "Let us now unfix the remaining variable: the temperature of the outlet from H102\n",
    "\n",
    "Use Shift+Enter to run the cell once you have typed in your code. \n",
    "</div>\n",
    "\n"
   ],
   "metadata": {}
  },
  {
   "cell_type": "code",
   "execution_count": null,
   "source": [
    "# Todo: Unfix the temperature of the outlet from H102\n"
   ],
   "outputs": [],
   "metadata": {
    "tags": [
     "exercise"
    ]
   }
  },
  {
   "cell_type": "code",
   "execution_count": null,
   "source": [
    "# Todo: Unfix the temperature of the outlet from H102\n",
    "m.fs.H102.outlet.temperature.unfix()"
   ],
   "outputs": [],
   "metadata": {
    "tags": [
     "solution"
    ]
   }
  },
  {
   "cell_type": "markdown",
   "source": [
    "Next, we need to set bounds on these decision variables to values shown below:\n",
    "\n",
    " - H101 outlet temperature [500, 600] K\n",
    " - R101 outlet temperature [600, 900] K\n",
    " - F101 outlet temperature [298, 450] K\n",
    " - H102 outlet temperature [350, 400] K\n",
    " - D101 condenser pressure [101325, 150000] Pa\n",
    " - D101 reflux ratio [0.1, 5]\n",
    " - D101 boilup ratio [0.1, 5]"
   ],
   "metadata": {}
  },
  {
   "cell_type": "code",
   "execution_count": null,
   "source": [
    "# Set bounds on the temperature of the outlet from H101\n",
    "m.fs.H101.outlet.temperature[0].setlb(500)\n",
    "m.fs.H101.outlet.temperature[0].setub(600)\n",
    "\n",
    "# Set bounds on the temperature of the outlet from R101\n",
    "m.fs.R101.outlet.temperature[0].setlb(600)\n",
    "m.fs.R101.outlet.temperature[0].setub(900)\n",
    "\n",
    "# Set bounds on the volume of the reactor R101\n",
    "m.fs.R101.volume[0].setlb(0)\n",
    "\n",
    "# Set bounds on the temperature of the vapor outlet from F101\n",
    "m.fs.F101.vap_outlet.temperature[0].setlb(298)\n",
    "m.fs.F101.vap_outlet.temperature[0].setub(450.0)\n",
    "\n",
    "# Set bounds on the temperature of the outlet from H102\n",
    "m.fs.H102.outlet.temperature[0].setlb(350)\n",
    "m.fs.H102.outlet.temperature[0].setub(400)\n",
    "\n",
    "# Set bounds on the pressure inside the condenser \n",
    "m.fs.D101.condenser.condenser_pressure.setlb(101325)\n",
    "m.fs.D101.condenser.condenser_pressure.setub(150000)\n",
    "\n"
   ],
   "outputs": [],
   "metadata": {}
  },
  {
   "cell_type": "markdown",
   "source": [
    "<div class=\"alert alert-block alert-info\">\n",
    "<b>Inline Exercise:</b>\n",
    "Now, set the bounds for the D101 reflux ratio and boilup ratio.\n",
    "\n",
    "Use Shift+Enter to run the cell once you have typed in your code. \n",
    "</div>"
   ],
   "metadata": {}
  },
  {
   "cell_type": "code",
   "execution_count": null,
   "source": [
    "# Todo: Set bounds on the reflux ratio\n",
    "\n",
    "\n",
    "\n",
    "# Todo: Set bounds on the boilup ratio\n",
    "\n"
   ],
   "outputs": [],
   "metadata": {
    "tags": [
     "exercise"
    ]
   }
  },
  {
   "cell_type": "code",
   "execution_count": null,
   "source": [
    "# Todo: Set bounds on the reflux ratio\n",
    "m.fs.D101.condenser.reflux_ratio.setlb(0.1)\n",
    "m.fs.D101.condenser.reflux_ratio.setub(5)\n",
    "\n",
    "# Todo: Set bounds on the boilup ratio\n",
    "m.fs.D101.reboiler.boilup_ratio.setlb(0.1)\n",
    "m.fs.D101.reboiler.boilup_ratio.setub(5)"
   ],
   "outputs": [],
   "metadata": {
    "tags": [
     "solution"
    ]
   }
  },
  {
   "cell_type": "markdown",
   "source": [
    "Now, the only things left to define are our constraints on overhead loss in F101, distillate flowrate and its purity. Let us first look at defining a constraint for the overhead loss in F101 where we are restricting the benzene leaving the vapor stream to less than 20 % of the benzene available in the reactor outlet. "
   ],
   "metadata": {}
  },
  {
   "cell_type": "code",
   "execution_count": null,
   "source": [
    "# Ensure that the overhead loss of benzene from F101 <= 20% \n",
    "m.fs.overhead_loss = Constraint(\n",
    "    expr=m.fs.F101.vap_outlet.flow_mol_phase_comp[0, \"Vap\", \"benzene\"] <=\n",
    "    0.20 * m.fs.R101.outlet.flow_mol_phase_comp[0, \"Vap\", \"benzene\"])"
   ],
   "outputs": [],
   "metadata": {}
  },
  {
   "cell_type": "markdown",
   "source": [
    "<div class=\"alert alert-block alert-info\">\n",
    "<b>Inline Exercise:</b>\n",
    "Now, add the constraint such that we are producing at least 0.18 mol/s of benzene in the product stream which is the distillate of D101. Let us name this constraint as m.fs.product_flow. \n",
    "\n",
    "Use Shift+Enter to run the cell once you have typed in your code. \n",
    "</div>"
   ],
   "metadata": {}
  },
  {
   "cell_type": "code",
   "execution_count": null,
   "source": [
    "# Todo: Add minimum product flow constraint\n"
   ],
   "outputs": [],
   "metadata": {
    "tags": [
     "exercise"
    ]
   }
  },
  {
   "cell_type": "code",
   "execution_count": null,
   "source": [
    "# Todo: Add minimum product flow constraint\n",
    "m.fs.product_flow = Constraint(\n",
    "    expr=m.fs.D101.condenser.distillate.flow_mol[0] >= 0.18)"
   ],
   "outputs": [],
   "metadata": {
    "tags": [
     "solution"
    ]
   }
  },
  {
   "cell_type": "markdown",
   "source": [
    "Let us add the final constraint on product purity or the mole fraction of benzene in the distillate such that it is at least greater than 99%. "
   ],
   "metadata": {}
  },
  {
   "cell_type": "code",
   "execution_count": null,
   "source": [
    "m.fs.product_purity = Constraint(\n",
    "    expr=m.fs.D101.condenser.\n",
    "    distillate.mole_frac_comp[0, \"benzene\"] >= 0.99)"
   ],
   "outputs": [],
   "metadata": {}
  },
  {
   "cell_type": "markdown",
   "source": [
    "\n",
    "We have now defined the optimization problem and we are now ready to solve this problem. \n",
    "\n",
    "\n"
   ],
   "metadata": {}
  },
  {
   "cell_type": "code",
   "execution_count": null,
   "source": [
    "results = solver.solve(m, tee=True)"
   ],
   "outputs": [],
   "metadata": {}
  },
  {
   "cell_type": "code",
   "execution_count": null,
   "source": [
    "# Check solver solve status\n",
    "from pyomo.environ import TerminationCondition\n",
    "assert results.solver.termination_condition == TerminationCondition.optimal"
   ],
   "outputs": [],
   "metadata": {
    "tags": [
     "testing",
     "remove_cell"
    ]
   }
  },
  {
   "cell_type": "markdown",
   "source": [
    "## Optimization Results\n",
    "\n",
    "Display the results and product specifications"
   ],
   "metadata": {}
  },
  {
   "cell_type": "code",
   "execution_count": null,
   "source": [
    "print('total cost = $', value(m.fs.capital_cost) + value(m.fs.operating_cost))\n",
    "print('operating cost = $', value(m.fs.operating_cost))\n",
    "print('capital cost = $', value(m.fs.capital_cost))\n",
    "print()\n",
    "print('Distillate flowrate = ', value(m.fs.D101.condenser.distillate.flow_mol[0]()), 'mol/s')\n",
    "print('Benzene purity = ', 100 * value(m.fs.D101.\\\n",
    "    condenser.distillate.mole_frac_comp[0, \"benzene\"]), '%')\n",
    "print('Residue flowrate = ', value(m.fs.D101.reboiler.bottoms.flow_mol[0]()), 'mol/s')\n",
    "print('Toluene purity = ', 100 * value(m.fs.D101.\\\n",
    "    reboiler.bottoms.mole_frac_comp[0, \"toluene\"]), '%')\n",
    "print()\n",
    "print('Conversion = ', 100 * value(m.fs.R101.conversion), '%')\n",
    "print()\n",
    "print('Overhead benzene loss in F101 = ', \\\n",
    "    100 * value(m.fs.F101.vap_outlet.flow_mol_phase_comp[0, \"Vap\", \"benzene\"]) / \\\n",
    "        value(m.fs.R101.outlet.flow_mol_phase_comp[0, \"Vap\", \"benzene\"]), '%' )"
   ],
   "outputs": [],
   "metadata": {}
  },
  {
   "cell_type": "code",
   "execution_count": null,
   "source": [
    "import pytest\n",
    "assert value(m.fs.operating_cost) == pytest.approx(408342.352, abs=100)\n",
    "assert value(m.fs.capital_cost) == pytest.approx(29926.759, abs=100)"
   ],
   "outputs": [],
   "metadata": {
    "tags": [
     "testing",
     "remove_cell"
    ]
   }
  },
  {
   "cell_type": "markdown",
   "source": [
    "Display optimal values for the decision variables"
   ],
   "metadata": {}
  },
  {
   "cell_type": "code",
   "execution_count": null,
   "source": [
    "print('Optimal Values')\n",
    "print()\n",
    "\n",
    "print('H101 outlet temperature = ', value(m.fs.H101.outlet.temperature[0]), 'K')\n",
    "\n",
    "print()\n",
    "print('R101 outlet temperature = ', value(m.fs.R101.outlet.temperature[0]), 'K')\n",
    "\n",
    "print()\n",
    "print('F101 outlet temperature = ', value(m.fs.F101.vap_outlet.temperature[0]), 'K')\n",
    "\n",
    "print()\n",
    "print('H102 outlet temperature = ', value(m.fs.H102.outlet.temperature[0]), 'K')"
   ],
   "outputs": [],
   "metadata": {}
  },
  {
   "cell_type": "markdown",
   "source": [
    "### Key Takeaways\n",
    "\n",
    "Observe that the optimization was able to reduce the yearly operating cost from \\\\$427,593 to \\\\$408,342 (~4.5%). However, the amortized capital cost more than doubled from \\\\$14,704 to \\\\$29,927 due to the need to increase the conversion in the reactor (from 75% to 93%) to meet the production and purity constraints. \n",
    "\n",
    "Further, observe that the product flow rate and product purity are at their minimum values (0.18 mol/s and 99%, respectively). This is expected as increasing recovery would require more energy and cost to purify the product.\n",
    "\n",
    "\n",
    "Finally, observe that the operating temperature of the flash (F101) is almost at its lower bound. This helps in minimizing the amount of benzene in the vapor stream leaving the flash."
   ],
   "metadata": {}
  },
  {
   "cell_type": "code",
   "execution_count": null,
   "source": [],
   "outputs": [],
   "metadata": {}
  }
 ],
 "metadata": {
  "celltoolbar": "Tags",
  "kernelspec": {
   "display_name": "Python 3",
   "language": "python",
   "name": "python3"
  },
  "language_info": {
   "codemirror_mode": {
    "name": "ipython",
    "version": 3
   },
   "file_extension": ".py",
   "mimetype": "text/x-python",
   "name": "python",
   "nbconvert_exporter": "python",
   "pygments_lexer": "ipython3",
   "version": "3.7.7"
  }
 },
 "nbformat": 4,
 "nbformat_minor": 4
}