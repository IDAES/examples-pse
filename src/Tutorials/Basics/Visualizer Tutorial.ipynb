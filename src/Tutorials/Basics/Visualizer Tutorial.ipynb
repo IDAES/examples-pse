{
 "cells": [
  {
   "cell_type": "markdown",
   "id": "mobile-bridge",
   "metadata": {},
   "source": [
    "# IDAES Visualizer Tutorial\n",
    "> Author: Dan Gunter \\\n",
    "> Created: 2022-07-05"
   ]
  },
  {
   "cell_type": "markdown",
   "id": "increased-cambridge",
   "metadata": {},
   "source": [
    "## Introduction"
   ]
  },
  {
   "cell_type": "markdown",
   "id": "aware-finance",
   "metadata": {},
   "source": [
    "## Example flowsheet"
   ]
  },
  {
   "cell_type": "markdown",
   "id": "alpha-democrat",
   "metadata": {},
   "source": [
    "## Running the visualizer"
   ]
  },
  {
   "cell_type": "markdown",
   "id": "green-slovakia",
   "metadata": {},
   "source": [
    "## Interacting with the visualizer"
   ]
  },
  {
   "cell_type": "markdown",
   "id": "0c15bba9",
   "metadata": {},
   "source": [
    "## Saving and loading"
   ]
  },
  {
   "cell_type": "markdown",
   "id": "9c2c8984",
   "metadata": {},
   "source": [
    "## Exporting images"
   ]
  },
  {
   "cell_type": "markdown",
   "id": "2568c50f",
   "metadata": {},
   "source": [
    "## Updating when the flowsheet changes"
   ]
  },
  {
   "cell_type": "code",
   "execution_count": null,
   "id": "cbe96cb0",
   "metadata": {},
   "outputs": [],
   "source": []
  }
 ],
 "metadata": {
  "kernelspec": {
   "display_name": "Python 3 (ipykernel)",
   "language": "python",
   "name": "python3"
  },
  "language_info": {
   "codemirror_mode": {
    "name": "ipython",
    "version": 3
   },
   "file_extension": ".py",
   "mimetype": "text/x-python",
   "name": "python",
   "nbconvert_exporter": "python",
   "pygments_lexer": "ipython3",
   "version": "3.9.0"
  }
 },
 "nbformat": 4,
 "nbformat_minor": 5
}
