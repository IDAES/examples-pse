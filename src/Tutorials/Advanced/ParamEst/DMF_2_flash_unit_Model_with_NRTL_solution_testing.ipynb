{
 "cells": [
  {
   "cell_type": "markdown",
   "metadata": {},
   "source": [
    "# Using stored parameters in DMF to simulate Flash with NRTL\n",
    "\n",
    "\n",
    "\n",
    "### Note\n",
    ">  This notebook requires the estimated NRTL parameters from the\n",
    ">  [Parameter Estimation with DMF](../ParamEst/parameter_estimation_NRTL_using_state_block_solution.ipynb)\n",
    ">  Jupyter notebook. If you have not already, please run that notebook first.\n",
    "\n",
    "In this notebook, we will revisit the [Flash Unit Model](../../Basics/flash_unit_solution.ipynb) example but instead of using the ideal property package for the benzene-toluene system, we will be using the NRTL property package and we will also use the `binary interaction parameters` that were estimated in [Parameter Estimation with DMF](DMF_1_for_parameter_estimation_NRTL_using_unit_model_solution.ipynb). For the sake of brevity, this notebook will not demonstrate setting up the Flash Unit Model step by step. It is encouraged to first complete the stand alone Flash Unit Model notebook. \n",
    "\n",
    "## Key links to documentation\n",
    "* Main IDAES online documentation page: https://idaes-pse.readthedocs.io/en/stable/index.html\n",
    "\n"
   ]
  },
  {
   "cell_type": "code",
   "execution_count": null,
   "metadata": {},
   "outputs": [],
   "source": [
    "from pyomo.environ import ConcreteModel, SolverFactory, Constraint, value\n",
    "from idaes.core import FlowsheetBlock\n",
    "\n",
    "# Import idaes logger to set output levels\n",
    "import idaes.logger as idaeslog"
   ]
  },
  {
   "cell_type": "markdown",
   "metadata": {},
   "source": [
    "## Setup Data Management Framework (DMF)\n",
    "We next connect to the DMF \"workspace\" where we stored the estimated parameters when we ran the\n",
    "[Parameter Estimation with DMF](DMF_1_for_parameter_estimation_NRTL_using_unit_model_solution.ipynb)\n",
    "Jupyter notebook."
   ]
  },
  {
   "cell_type": "code",
   "execution_count": null,
   "metadata": {},
   "outputs": [],
   "source": [
    "from idaes.core.dmf import DMF, magics\n",
    "from pathlib import Path\n",
    "idaes_home = Path(\"~/.idaes\").expanduser()\n",
    "if not idaes_home.exists():\n",
    "    idaes_home.mkdir()\n",
    "wspath = idaes_home / \"workshop_workspace\"\n",
    "_dmf = DMF(wspath, create=True)"
   ]
  },
  {
   "cell_type": "markdown",
   "metadata": {},
   "source": [
    "### Setup DMF \"magics\"\n",
    "Initialize the Jupyter Notebook \"magic\" commands to enable things like `%dmf list`.\n",
    "These commands all start with `%dmf`"
   ]
  },
  {
   "cell_type": "code",
   "execution_count": null,
   "metadata": {},
   "outputs": [],
   "source": [
    "%dmf init ~/.idaes/workshop_workspace\n",
    "%dmf list"
   ]
  },
  {
   "cell_type": "code",
   "execution_count": null,
   "metadata": {},
   "outputs": [],
   "source": [
    "m = ConcreteModel()\n",
    "m.fs = FlowsheetBlock(dynamic=False)"
   ]
  },
  {
   "cell_type": "markdown",
   "metadata": {},
   "source": [
    "## Define Properties\n",
    "\n",
    "We need to define the property package for our flowsheet. In this example, we will be using the NRTL property package that is available as part of the IDAES framework. This property package supports ideal gas - ideal liquid, ideal gas - NRTL, and ideal gas - Wilson models for VLE. More details on this property package can be found at: https://idaes-pse.readthedocs.io/en/latest/technical_specs/model_libraries/generic/property_models/activity_coefficient.html\n"
   ]
  },
  {
   "cell_type": "code",
   "execution_count": null,
   "metadata": {},
   "outputs": [],
   "source": [
    "from idaes.models.properties.activity_coeff_models.BTX_activity_coeff_VLE \\\n",
    "    import BTXParameterBlock\n",
    "\n",
    "m.fs.properties = BTXParameterBlock(\n",
    "    valid_phase=('Liq', 'Vap'),\n",
    "    activity_coeff_model='NRTL'\n",
    ")"
   ]
  },
  {
   "cell_type": "markdown",
   "metadata": {},
   "source": [
    "## Select estimated NRTL parameter split to use"
   ]
  },
  {
   "cell_type": "code",
   "execution_count": null,
   "metadata": {},
   "outputs": [],
   "source": [
    "# Select estimated NRTL parameter split to use\n",
    "from ipywidgets import widgets\n",
    "w = widgets.Dropdown(options=[\"1\", \"2\"], value=\"1\", description=\"Choose estimated parameter split\",\n",
    "                    style={\"description_width\": \"initial\"})\n",
    "display(w)\n",
    "use_split = w.value"
   ]
  },
  {
   "cell_type": "markdown",
   "metadata": {},
   "source": [
    "In the following cell, we create a method to fix the binary interaction parameters from the DMF. "
   ]
  },
  {
   "cell_type": "code",
   "execution_count": null,
   "metadata": {},
   "outputs": [],
   "source": [
    "def NRTL_model(model, data):\n",
    "    props = model.fs.properties\n",
    "    # Fix NRTL specific variables\n",
    "    # alpha values (set at 0.3)\n",
    "    props.alpha[\"benzene\", \"benzene\"].fix(0)\n",
    "    props.alpha[\"benzene\", \"toluene\"].fix(0.3)\n",
    "    props.alpha[\"toluene\", \"toluene\"].fix(0)\n",
    "    props.alpha[\"toluene\", \"benzene\"].fix(0.3)\n",
    "\n",
    "    # initial tau values\n",
    "    tau = data[\"parameters\"][\"tau\"]\n",
    "    props.tau[\"benzene\", \"benzene\"].fix(0)\n",
    "    props.tau[\"benzene\", \"toluene\"].fix(tau[\"benzene,toluene\"])\n",
    "    props.tau[\"toluene\", \"toluene\"].fix(0)\n",
    "    props.tau[\"toluene\", \"benzene\"].fix(tau[\"toluene,benzene\"])\n",
    "\n",
    "    # Set bounds on variables to be estimated\n",
    "    props.tau[\"benzene\", \"toluene\"].setlb(-5)\n",
    "    props.tau[\"benzene\", \"toluene\"].setub(5)\n",
    "\n",
    "    props.tau[\"toluene\", \"benzene\"].setlb(-5)\n",
    "    props.tau[\"toluene\", \"benzene\"].setub(5)\n",
    "\n",
    "# Find & load NRTL parameters for the chosen split in the DMF\n",
    "records = _dmf.find_one(name=f\"BT NRTL est param{use_split}\")\n",
    "if records:\n",
    "    # Create NRTL model with parameters\n",
    "    NRTL_model(m, records.data)\n",
    "else:\n",
    "    print(\"No data found in DMF: Abort\")\n",
    "    exit(0)"
   ]
  },
  {
   "cell_type": "markdown",
   "metadata": {},
   "source": [
    "## Adding Flash Unit\n",
    "\n",
    "Now that we have the flowsheet and the properties defined, we can create the flash unit and add it to the flowsheet. \n"
   ]
  },
  {
   "cell_type": "code",
   "execution_count": null,
   "metadata": {},
   "outputs": [],
   "source": [
    "from idaes.models.unit_models import Flash\n",
    "m.fs.flash = Flash(property_package=m.fs.properties)"
   ]
  },
  {
   "cell_type": "code",
   "execution_count": null,
   "metadata": {},
   "outputs": [],
   "source": [
    "# Display the values fixed for the binary interaction parameters from the DMF\n",
    "m.fs.properties.tau.display()"
   ]
  },
  {
   "cell_type": "markdown",
   "metadata": {},
   "source": [
    "## Set Operating Conditions\n"
   ]
  },
  {
   "cell_type": "code",
   "execution_count": null,
   "metadata": {},
   "outputs": [],
   "source": [
    "\n",
    "from idaes.core.util.model_statistics import degrees_of_freedom\n",
    "print(\"Degrees of Freedom =\", degrees_of_freedom(m))"
   ]
  },
  {
   "cell_type": "code",
   "execution_count": null,
   "metadata": {},
   "outputs": [],
   "source": [
    "# Inlet specifications given above\n",
    "m.fs.flash.inlet.flow_mol.fix(1)\n",
    "m.fs.flash.inlet.temperature.fix(368)\n",
    "m.fs.flash.inlet.pressure.fix(101325)\n",
    "m.fs.flash.inlet.mole_frac_comp[0, \"benzene\"].fix()\n",
    "m.fs.flash.inlet.mole_frac_comp[0, \"toluene\"].fix(0.5)\n",
    "\n",
    "\n",
    "m.fs.flash.heat_duty.fix(0)\n",
    "m.fs.flash.deltaP.fix(0)"
   ]
  },
  {
   "cell_type": "code",
   "execution_count": null,
   "metadata": {},
   "outputs": [],
   "source": [
    "\n",
    "print(\"Degrees of Freedom =\", degrees_of_freedom(m))"
   ]
  },
  {
   "cell_type": "markdown",
   "metadata": {},
   "source": [
    "## Initializing the Model\n"
   ]
  },
  {
   "cell_type": "code",
   "execution_count": null,
   "metadata": {},
   "outputs": [],
   "source": [
    "m.fs.flash.initialize(outlvl=idaeslog.INFO)"
   ]
  },
  {
   "cell_type": "code",
   "execution_count": null,
   "metadata": {},
   "outputs": [],
   "source": [
    "solver = SolverFactory('ipopt')\n",
    "status = solver.solve(m, tee=True)"
   ]
  },
  {
   "cell_type": "code",
   "execution_count": null,
   "metadata": {
    "tags": [
     "testing",
     "remove_cell"
    ]
   },
   "outputs": [],
   "source": [
    "# For testing purposes\n",
    "from pyomo.environ import TerminationCondition\n",
    "assert status.solver.termination_condition == TerminationCondition.optimal"
   ]
  },
  {
   "cell_type": "markdown",
   "metadata": {},
   "source": [
    "## Viewing the Results\n"
   ]
  },
  {
   "cell_type": "code",
   "execution_count": null,
   "metadata": {},
   "outputs": [],
   "source": [
    "# Print the pressure of the flash vapor outlet\n",
    "print('Pressure =', value(m.fs.flash.vap_outlet.pressure[0]))\n",
    "\n",
    "print()\n",
    "print('Output from display:')\n",
    "# Call display on vap_outlet and liq_outlet of the flash\n",
    "m.fs.flash.vap_outlet.display()\n",
    "m.fs.flash.liq_outlet.display()"
   ]
  },
  {
   "cell_type": "code",
   "execution_count": null,
   "metadata": {},
   "outputs": [],
   "source": [
    "m.fs.flash.report()"
   ]
  }
 ],
 "metadata": {
  "celltoolbar": "Tags",
  "kernelspec": {
   "display_name": "Python 3 (ipykernel)",
   "language": "python",
   "name": "python3"
  },
  "language_info": {
   "codemirror_mode": {
    "name": "ipython",
    "version": 3
   },
   "file_extension": ".py",
   "mimetype": "text/x-python",
   "name": "python",
   "nbconvert_exporter": "python",
   "pygments_lexer": "ipython3",
   "version": "3.9.12"
  }
 },
 "nbformat": 4,
 "nbformat_minor": 4
}
