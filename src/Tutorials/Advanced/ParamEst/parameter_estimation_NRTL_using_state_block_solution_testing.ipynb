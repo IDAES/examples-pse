{
 "cells": [
  {
   "cell_type": "markdown",
   "metadata": {},
   "source": [
    "## Parameter Estimation Using the NRTL State Block\n",
    "\n",
    "In this module, we use Pyomo's `parmest` tool in conjunction with IDAES models for parameter estimation. We demonstrate these tools by estimating the parameters associated with the NRTL property model for a benzene-toluene mixture. The NRTL model has 2 sets of parameters: the non-randomness parameter (`alpha_ij`) and the binary interaction parameter (`tau_ij`), where `i` and `j` are the pure component species. In this example, we only estimate the binary interaction parameter (`tau_ij`) for a given dataset. When estimating parameters associated with the property package, IDAES provides the flexibility of doing the parameter estimation by just using the state block or by using a unit model with a specified property package. This module will demonstrate parameter estimation by using only the state block. \n",
    "\n",
    "We will complete the following tasks:\n",
    "* Set up a method to return an initialized model\n",
    "* Set up the parameter estimation problem using `parmest`\n",
    "* Analyze the results\n",
    "* Demonstrate advanced features using `parmest`\n",
    "\n",
    "## Key links to documentation:\n",
    "* NRTL Model - https://idaes-pse.readthedocs.io/en/latest/technical_specs/model_libraries/generic/property_models/activity_coefficient.html\n",
    "* parmest - https://pyomo.readthedocs.io/en/stable/contributed_packages/parmest/index.html\n",
    "\n"
   ]
  },
  {
   "cell_type": "markdown",
   "metadata": {},
   "source": [
    "<div class=\"alert alert-block alert-info\">\n",
    "<b>Inline Exercise:</b>\n",
    "import `ConcreteModel` from Pyomo and `FlowsheetBlock` from IDAES. \n",
    "</div>"
   ]
  },
  {
   "cell_type": "code",
   "execution_count": null,
   "metadata": {
    "tags": [
     "exercise"
    ]
   },
   "outputs": [],
   "source": [
    "# Todo: import ConcreteModel from pyomo.environ\n",
    "\n",
    "# Todo: import FlowsheetBlock from idaes.core\n"
   ]
  },
  {
   "cell_type": "code",
   "execution_count": null,
   "metadata": {
    "tags": [
     "solution"
    ]
   },
   "outputs": [],
   "source": [
    "# Todo: import ConcreteModel from pyomo.environ\n",
    "from pyomo.environ import ConcreteModel, value\n",
    "\n",
    "# Todo: import FlowsheetBlock from idaes.core\n",
    "from idaes.core import FlowsheetBlock"
   ]
  },
  {
   "cell_type": "markdown",
   "metadata": {},
   "source": [
    "In the next cell, we import the parameter block used in this module and the idaes logger. "
   ]
  },
  {
   "cell_type": "code",
   "execution_count": null,
   "metadata": {},
   "outputs": [],
   "source": [
    "from idaes.models.properties.activity_coeff_models.\\\n",
    "    BTX_activity_coeff_VLE import BTXParameterBlock\n",
    "import idaes.logger as idaeslog"
   ]
  },
  {
   "cell_type": "markdown",
   "metadata": {},
   "source": [
    "In the next cell, we import `parmest` from Pyomo and the `pandas` package. We need `pandas` as `parmest` uses `pandas.dataframe` for handling the input data and the results."
   ]
  },
  {
   "cell_type": "code",
   "execution_count": null,
   "metadata": {},
   "outputs": [],
   "source": [
    "import pyomo.contrib.parmest.parmest as parmest\n",
    "import pandas as pd"
   ]
  },
  {
   "cell_type": "markdown",
   "metadata": {},
   "source": [
    "## Setting up an initialized model\n",
    "\n",
    "We need to provide a method that returns an initialized model to the `parmest` tool in Pyomo."
   ]
  },
  {
   "cell_type": "markdown",
   "metadata": {},
   "source": [
    "<div class=\"alert alert-block alert-info\">\n",
    "<b>Inline Exercise:</b>\n",
    "Using what you have learned from previous modules, fill in the missing code below to return an initialized IDAES model. \n",
    "</div>"
   ]
  },
  {
   "cell_type": "code",
   "execution_count": null,
   "metadata": {
    "tags": [
     "exercise"
    ]
   },
   "outputs": [],
   "source": [
    "def NRTL_model(data):\n",
    "    \n",
    "    #Todo: Create a ConcreteModel object\n",
    "    \n",
    "    #Todo: Create FlowsheetBlock object\n",
    "    \n",
    "\n",
    "    #Todo: Create a properties parameter object with the following options:\n",
    "    # \"valid_phase\": ('Liq', 'Vap')\n",
    "    # \"activity_coeff_model\": 'NRTL'\n",
    "    \n",
    "    \n",
    "    \n",
    "    m.fs.state_block = m.fs.properties.build_state_block(\n",
    "        defined_state=True)\n",
    "\n",
    "    \n",
    "    # Fix the state variables on the state block\n",
    "    # hint: state variables exist on the state block i.e. on m.fs.state_block\n",
    "    m.fs.state_block.flow_mol.fix(1)\n",
    "    m.fs.state_block.temperature.fix(368)\n",
    "    m.fs.state_block.pressure.fix(101325)\n",
    "    m.fs.state_block.mole_frac_comp[\"benzene\"].fix(0.5)\n",
    "    m.fs.state_block.mole_frac_comp[\"toluene\"].fix(0.5)\n",
    "   \n",
    "\n",
    "    # Fix NRTL specific parameters. \n",
    "    \n",
    "    # non-randomness parameter - alpha_ij (set at 0.3, 0 if i=j)\n",
    "    m.fs.properties.\\\n",
    "        alpha[\"benzene\", \"benzene\"].fix(0)\n",
    "    m.fs.properties.\\\n",
    "        alpha[\"benzene\", \"toluene\"].fix(0.3)\n",
    "    m.fs.properties.\\\n",
    "        alpha[\"toluene\", \"toluene\"].fix(0)\n",
    "    m.fs.properties.\\\n",
    "        alpha[\"toluene\", \"benzene\"].fix(0.3)\n",
    "\n",
    "    # binary interaction parameter - tau_ij (0 if i=j, else to be estimated later but fixing to initialize)\n",
    "    m.fs.properties.\\\n",
    "        tau[\"benzene\", \"benzene\"].fix(0)\n",
    "    m.fs.properties.\\\n",
    "        tau[\"benzene\", \"toluene\"].fix(-0.9)\n",
    "    m.fs.properties.\\\n",
    "        tau[\"toluene\", \"toluene\"].fix(0)\n",
    "    m.fs.properties.\\\n",
    "        tau[\"toluene\", \"benzene\"].fix(1.4)\n",
    "\n",
    "    # Initialize the flash unit\n",
    "    m.fs.state_block.initialize(outlvl=idaeslog.INFO)\n",
    "\n",
    "    # Fix at actual temperature\n",
    "    m.fs.state_block.temperature.fix(float(data[\"temperature\"]))\n",
    "\n",
    "    # Set bounds on variables to be estimated\n",
    "    m.fs.properties.\\\n",
    "        tau[\"benzene\", \"toluene\"].setlb(-5)\n",
    "    m.fs.properties.\\\n",
    "        tau[\"benzene\", \"toluene\"].setub(5)\n",
    "\n",
    "    m.fs.properties.\\\n",
    "        tau[\"toluene\", \"benzene\"].setlb(-5)\n",
    "    m.fs.properties.\\\n",
    "        tau[\"toluene\", \"benzene\"].setub(5)\n",
    "\n",
    "    # Return initialized flash model\n",
    "    return m\n"
   ]
  },
  {
   "cell_type": "code",
   "execution_count": null,
   "metadata": {
    "tags": [
     "solution"
    ]
   },
   "outputs": [],
   "source": [
    "def NRTL_model(data):\n",
    "    \n",
    "    #Todo: Create a ConcreteModel object\n",
    "    m = ConcreteModel()\n",
    "    \n",
    "    #Todo: Create FlowsheetBlock object\n",
    "    m.fs = FlowsheetBlock(dynamic=False)\n",
    "    \n",
    "\n",
    "    #Todo: Create a properties parameter object with the following options:\n",
    "    # \"valid_phase\": ('Liq', 'Vap')\n",
    "    # \"activity_coeff_model\": 'NRTL'\n",
    "    m.fs.properties = BTXParameterBlock(valid_phase=('Liq', 'Vap'),\n",
    "                                        activity_coeff_model='NRTL')\n",
    "    m.fs.state_block = m.fs.properties.build_state_block(\n",
    "        defined_state=True)\n",
    "\n",
    "    \n",
    "    # Fix the state variables on the state block\n",
    "    # hint: state variables exist on the state block i.e. on m.fs.state_block\n",
    "    \n",
    "    m.fs.state_block.flow_mol.fix(1)\n",
    "    m.fs.state_block.temperature.fix(368)\n",
    "    m.fs.state_block.pressure.fix(101325)\n",
    "    m.fs.state_block.mole_frac_comp[\"benzene\"].fix(0.5)\n",
    "    m.fs.state_block.mole_frac_comp[\"toluene\"].fix(0.5)\n",
    "\n",
    "    # Fix NRTL specific parameters. \n",
    "    \n",
    "    # non-randomness parameter - alpha_ij (set at 0.3, 0 if i=j)\n",
    "    m.fs.properties.\\\n",
    "        alpha[\"benzene\", \"benzene\"].fix(0)\n",
    "    m.fs.properties.\\\n",
    "        alpha[\"benzene\", \"toluene\"].fix(0.3)\n",
    "    m.fs.properties.\\\n",
    "        alpha[\"toluene\", \"toluene\"].fix(0)\n",
    "    m.fs.properties.\\\n",
    "        alpha[\"toluene\", \"benzene\"].fix(0.3)\n",
    "\n",
    "    # binary interaction parameter - tau_ij (0 if i=j, else to be estimated later but fixing to initialize)\n",
    "    m.fs.properties.\\\n",
    "        tau[\"benzene\", \"benzene\"].fix(0)\n",
    "    m.fs.properties.\\\n",
    "        tau[\"benzene\", \"toluene\"].fix(-0.9)\n",
    "    m.fs.properties.\\\n",
    "        tau[\"toluene\", \"toluene\"].fix(0)\n",
    "    m.fs.properties.\\\n",
    "        tau[\"toluene\", \"benzene\"].fix(1.4)\n",
    "\n",
    "    # Initialize the flash unit\n",
    "    m.fs.state_block.initialize(outlvl=idaeslog.INFO_LOW)\n",
    "\n",
    "    # Fix at actual temperature\n",
    "    m.fs.state_block.temperature.fix(float(data[\"temperature\"]))\n",
    "\n",
    "    # Set bounds on variables to be estimated\n",
    "    m.fs.properties.\\\n",
    "        tau[\"benzene\", \"toluene\"].setlb(-5)\n",
    "    m.fs.properties.\\\n",
    "        tau[\"benzene\", \"toluene\"].setub(5)\n",
    "\n",
    "    m.fs.properties.\\\n",
    "        tau[\"toluene\", \"benzene\"].setlb(-5)\n",
    "    m.fs.properties.\\\n",
    "        tau[\"toluene\", \"benzene\"].setub(5)\n",
    "\n",
    "    # Return initialized flash model\n",
    "    return m\n"
   ]
  },
  {
   "cell_type": "code",
   "execution_count": null,
   "metadata": {
    "tags": [
     "testing",
     "remove_cell"
    ]
   },
   "outputs": [],
   "source": [
    "from idaes.core.util.model_statistics import degrees_of_freedom\n",
    "import pytest\n",
    "\n",
    "# Testing the initialized model\n",
    "test_data = {\"temperature\": 368}\n",
    "\n",
    "m = NRTL_model(test_data)\n",
    "\n",
    "# Check that degrees of freedom is 0\n",
    "assert degrees_of_freedom(m) == 0\n",
    "\n",
    "# Check for output values\n",
    "assert value(m.fs.state_block.mole_frac_phase_comp['Liq', 'benzene']) == pytest.approx(0.389, abs=1e-2)\n",
    "assert value(m.fs.state_block.mole_frac_phase_comp['Vap', 'benzene']) == pytest.approx(0.610, abs=1e-2)\n",
    "\n",
    "assert value(m.fs.state_block.mole_frac_phase_comp['Liq', 'toluene']) == pytest.approx(0.610, abs=1e-2)\n",
    "assert value(m.fs.state_block.mole_frac_phase_comp['Vap', 'toluene']) == pytest.approx(0.394, abs=1e-2)"
   ]
  },
  {
   "cell_type": "markdown",
   "metadata": {},
   "source": [
    "## Parameter estimation using parmest"
   ]
  },
  {
   "cell_type": "markdown",
   "metadata": {},
   "source": [
    "In addition to providing a method to return an initialized model, the `parmest` tool needs the following:\n",
    "\n",
    "* List of variable names to be estimated\n",
    "* Dataset\n",
    "* Expression to compute the sum of squared errors\n"
   ]
  },
  {
   "cell_type": "markdown",
   "metadata": {},
   "source": [
    "In this example, we only estimate the binary interaction parameter (`tau_ij`). Given that this variable is usually indexed as `tau_ij = Var(component_list, component_list)`, there are 2*2=4 degrees of freedom. However, when i=j, the binary interaction parameter is 0. Therefore, in this problem, we estimate the binary interaction parameter for the following variables only:\n",
    "\n",
    "* fs.properties.tau['benzene', 'toluene']\n",
    "* fs.properties.tau['toluene', 'benzene']\n",
    "\n",
    "<div class=\"alert alert-block alert-info\">\n",
    "<b>Inline Exercise:</b>\n",
    "Create a list called `variable_name` with the above-mentioned variables declared as strings.\n",
    "</div>"
   ]
  },
  {
   "cell_type": "code",
   "execution_count": null,
   "metadata": {
    "tags": [
     "exercise"
    ]
   },
   "outputs": [],
   "source": [
    "# Todo: Create a list of vars to estimate\n"
   ]
  },
  {
   "cell_type": "code",
   "execution_count": null,
   "metadata": {
    "tags": [
     "solution"
    ]
   },
   "outputs": [],
   "source": [
    "# Todo: Create a list of vars to estimate\n",
    "variable_name = [\"fs.properties.tau['benzene', 'toluene']\",\n",
    "                 \"fs.properties.tau['toluene', 'benzene']\"]\n"
   ]
  },
  {
   "cell_type": "markdown",
   "metadata": {},
   "source": [
    "Pyomo's `parmest` tool supports the following data formats:\n",
    "- pandas dataframe\n",
    "- list of dictionaries\n",
    "- list of json file names.\n",
    "\n",
    "Please see the documentation for more details. \n",
    "\n",
    "For this example, we load data from the csv file `BT_NRTL_dataset.csv`. The dataset consists of fifty data points which provide the mole fraction of benzene in the vapor and liquid phase as a function of temperature. "
   ]
  },
  {
   "cell_type": "code",
   "execution_count": null,
   "metadata": {},
   "outputs": [],
   "source": [
    "# Load data from csv\n",
    "data = pd.read_csv('BT_NRTL_dataset.csv')\n",
    "\n",
    "# Display the dataset\n",
    "display(data)"
   ]
  },
  {
   "cell_type": "markdown",
   "metadata": {},
   "source": [
    "We need to provide a method to return an expression to compute the sum of squared errors that will be used as the objective in solving the parameter estimation problem. For this problem, the error will be computed for the mole fraction of benzene in the vapor and liquid phase between the model prediction and data. \n",
    "\n",
    "<div class=\"alert alert-block alert-info\">\n",
    "<b>Inline Exercise:</b>\n",
    "Complete the following cell by adding an expression to compute the sum of square errors. \n",
    "</div>"
   ]
  },
  {
   "cell_type": "code",
   "execution_count": null,
   "metadata": {
    "tags": [
     "exercise"
    ]
   },
   "outputs": [],
   "source": [
    "# Create method to return an expression that computes the sum of squared error\n",
    "def SSE(m, data):\n",
    "     # Todo: Add expression for computing the sum of squared errors in mole fraction of benzene in the liquid\n",
    "    # and vapor phase. For example, the squared error for the vapor phase is:\n",
    "    # (float(data[\"vap_benzene\"]) - m.fs.state_block.mole_frac_phase_comp[\"Vap\", \"benzene\"])**2\n",
    "    \n",
    "    return expr*1E4"
   ]
  },
  {
   "cell_type": "code",
   "execution_count": null,
   "metadata": {
    "tags": [
     "solution"
    ]
   },
   "outputs": [],
   "source": [
    "# Create method to return an expression that computes the sum of squared error\n",
    "def SSE(m, data):\n",
    "     # Todo: Add expression for computing the sum of squared errors in mole fraction of benzene in the liquid\n",
    "    # and vapor phase. For example, the squared error for the vapor phase is:\n",
    "    # (float(data[\"vap_benzene\"]) - m.fs.state_block.mole_frac_phase_comp[\"Vap\", \"benzene\"])**2\n",
    "    expr = ((float(data[\"vap_benzene\"]) -\n",
    "             m.fs.state_block.mole_frac_phase_comp[\"Vap\", \"benzene\"])**2 +\n",
    "            (float(data[\"liq_benzene\"]) -\n",
    "             m.fs.state_block.mole_frac_phase_comp[\"Liq\", \"benzene\"])**2)\n",
    "    return expr*1E4"
   ]
  },
  {
   "cell_type": "markdown",
   "metadata": {},
   "source": [
    "<div class=\"alert alert-block alert-warning\">\n",
    "<b>Note:</b>\n",
    "Notice that we have scaled the expression up by a factor of 10000 as the SSE computed here will be an extremely small number given that we are using the difference in mole fraction in our expression. This will help in using a well-scaled objective to improve solve robustness when using IPOPT. \n",
    "</div>\n"
   ]
  },
  {
   "cell_type": "markdown",
   "metadata": {},
   "source": [
    "We are now ready to set up the parameter estimation problem. We will create a parameter estimation object called `pest`. As shown below, we pass the method that returns an initialized model, data, variable_name, and the SSE expression to the Estimator method. `tee=True` will print the solver output after solving the parameter estimation problem.  "
   ]
  },
  {
   "cell_type": "code",
   "execution_count": null,
   "metadata": {},
   "outputs": [],
   "source": [
    "import logging; idaeslog.getIdaesLogger(\"core.property_meta\").setLevel(logging.ERROR)\n",
    "# Initialize a parameter estimation object\n",
    "pest = parmest.Estimator(NRTL_model, data, variable_name, SSE, tee=True)\n",
    "\n",
    "# Run parameter estimation using all data\n",
    "obj_value, parameters = pest.theta_est()"
   ]
  },
  {
   "cell_type": "code",
   "execution_count": null,
   "metadata": {
    "tags": [
     "testing",
     "remove_cell"
    ]
   },
   "outputs": [],
   "source": [
    "# Check for values of the parameter estimation problem\n",
    "assert obj_value == pytest.approx(5.07496, 1e-3)\n",
    "assert parameters[\"fs.properties.tau[benzene,toluene]\"] == pytest.approx(-0.89876, 1e-3) \n",
    "assert parameters[\"fs.properties.tau[toluene,benzene]\"] == pytest.approx(1.41048, 1e-3)"
   ]
  },
  {
   "cell_type": "markdown",
   "metadata": {},
   "source": [
    "You will notice that the resulting parameter estimation problem will have 1102 variables and 1100 constraints. Let us display the results by running the next cell. "
   ]
  },
  {
   "cell_type": "code",
   "execution_count": null,
   "metadata": {},
   "outputs": [],
   "source": [
    "print(\"The SSE at the optimal solution is %0.6f\" % (obj_value*1e-4))\n",
    "print()\n",
    "print(\"The values for the parameters are as follows:\")\n",
    "for k,v in parameters.items():\n",
    "    print(k, \"=\", v)"
   ]
  },
  {
   "cell_type": "markdown",
   "metadata": {},
   "source": [
    "Using the data that was provided, we have estimated the binary interaction parameters in the NRTL model for a benzene-toluene mixture. Although the dataset that was provided was temperature dependent, in this example we have estimated a single value that fits best for all temperatures."
   ]
  },
  {
   "cell_type": "markdown",
   "metadata": {},
   "source": [
    "### Advanced options for parmest: bootstrapping\n",
    "\n"
   ]
  },
  {
   "cell_type": "markdown",
   "metadata": {},
   "source": [
    "Pyomo's `parmest` tool allows for bootstrapping where the parameter estimation is repeated over `n` samples with resampling from the original data set. Parameter estimation with bootstrap resampling can be used to identify confidence regions around each parameter estimate.  This analysis can be slow given the increased number of model instances that need to be solved. Please refer to https://pyomo.readthedocs.io/en/stable/contributed_packages/parmest/driver.html for more details. \n",
    "\n",
    "For the example above, the bootstrapping can be run by uncommenting the code in the following cell:"
   ]
  },
  {
   "cell_type": "code",
   "execution_count": null,
   "metadata": {},
   "outputs": [],
   "source": [
    "# Run parameter estimation using bootstrap resample of the data (10 samples),\n",
    "# plot results along with confidence regions\n",
    "\n",
    "# Uncomment the following code:\n",
    "# bootstrap_theta = pest.theta_est_bootstrap(4)\n",
    "# display(bootstrap_theta)"
   ]
  }
 ],
 "metadata": {
  "celltoolbar": "Tags",
  "kernelspec": {
   "display_name": "Python 3 (ipykernel)",
   "language": "python",
   "name": "python3"
  },
  "language_info": {
   "codemirror_mode": {
    "name": "ipython",
    "version": 3
   },
   "file_extension": ".py",
   "mimetype": "text/x-python",
   "name": "python",
   "nbconvert_exporter": "python",
   "pygments_lexer": "ipython3",
   "version": "3.9.12"
  }
 },
 "nbformat": 4,
 "nbformat_minor": 2
}
