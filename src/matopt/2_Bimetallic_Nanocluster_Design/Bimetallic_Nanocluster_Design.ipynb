{
 "cells": [
  {
   "cell_type": "markdown",
   "metadata": {},
   "source": [
    "# Bimetallic Nanocluster Cohesive Energy Minimization - via Labeling\n",
    "\n",
    "This notebook serves as an example application of the MatOpt framework. We consider an example optimization problem of identifying the global energy minimum bimetallic nanocluster configuration.\n",
    "\n",
    "This is a continuation of the example given in ***Monometallic_Nanocluster_Design.ipynb***. In this example, we will show how a very similar model can be used to optimize a bimetallic cluster by \"labelling\" the sites of a pre-defined monometallic cluster. \n",
    "\n",
    "The model for cohesive energy is based on:\n",
    "\n",
    "Yan, Z., Taylor, M. G., Mascareno, A., & Mpourmpakis, G. (2018). Size-, Shape-, and Composition-Dependent Model for Metal Nanoparticle Stability Prediction. *Nano Letters*, 18(4), 2696-2704."
   ]
  },
  {
   "cell_type": "markdown",
   "metadata": {},
   "source": [
    "## Importing Packages\n",
    "\n",
    "We start by importing several standard Python modules for convienience."
   ]
  },
  {
   "cell_type": "code",
   "execution_count": 18,
   "metadata": {},
   "outputs": [],
   "source": [
    "import numpy as np\n",
    "from math import sqrt"
   ]
  },
  {
   "cell_type": "markdown",
   "metadata": {},
   "source": [
    "Then, we import the MatOpt package in its entirety. "
   ]
  },
  {
   "cell_type": "code",
   "execution_count": 19,
   "metadata": {},
   "outputs": [],
   "source": [
    "from idaes.apps.matopt import *"
   ]
  },
  {
   "cell_type": "markdown",
   "metadata": {},
   "source": [
    "## Setting Up a Material System\n",
    "\n",
    "We first identify the optimal metal-independent nanocluster shape, using the code that wsas demonstrated in **Monometallic_Nanocluster_Design.ipynb**."
   ]
  },
  {
   "cell_type": "code",
   "execution_count": 20,
   "metadata": {},
   "outputs": [],
   "source": [
    "Lat = FCCLattice(IAD=1.0)\n",
    "Canv = Canvas()\n",
    "Canv.addLocation(np.array([0,0,0],dtype=float))\n",
    "Canv.addShells(1,Lat.getNeighbors)\n",
    "Atoms = [Atom('Cu')]\n",
    "N = 6\n",
    "m = MatOptModel(Canv,Atoms)\n",
    "Vals = [sqrt(CN) for CN in range(0,13)]\n",
    "BPs = [CN for CN in range(0,13)]\n",
    "m.addSitesDescriptor('CNRi',bounds=(0,sqrt(12)),integer=False,\n",
    "                     rules=PiecewiseLinear(values=Vals,\n",
    "                                           breakpoints=BPs,\n",
    "                                           input_desc=m.Ci))\n",
    "m.addGlobalDescriptor('Ecoh',rules=EqualTo(SumSites(desc=m.CNRi,\n",
    "                                                    coefs=(1/(N*sqrt(12))))))\n",
    "m.addGlobalDescriptor('Size',bounds=(N,N),\n",
    "                      rules=EqualTo(SumSites(desc=m.Yi)))"
   ]
  },
  {
   "cell_type": "code",
   "execution_count": 17,
   "metadata": {},
   "outputs": [
    {
     "name": "stdout",
     "output_type": "stream",
     "text": [
      "WARNING: Could not locate the 'cplex' executable, which is required for solver\n",
      "    cplex\n"
     ]
    }
   ],
   "source": [
    "# This step requires the CPLEX solver\n",
    "try:\n",
    "    D = m.maximize(m.Ecoh,tilim=100)\n",
    "except Exception as err:\n",
    "    D = None  # rest of this notebook won't do much"
   ]
  },
  {
   "cell_type": "markdown",
   "metadata": {},
   "source": [
    "We take the locations from the optimal monometallic problem to initialize a ***Canvas*** object for the bimetallic case. "
   ]
  },
  {
   "cell_type": "code",
   "execution_count": 6,
   "metadata": {},
   "outputs": [],
   "source": [
    "Canv = Canvas()\n",
    "if D:  # may be None if CPLEX was not found\n",
    "    for i in range(len(D)):\n",
    "        if(D.Contents[i] is not None):\n",
    "            Canv.addLocation(D.Canvas.Points[i])\n",
    "Canv.setNeighborsFromFunc(Lat.getNeighbors)"
   ]
  },
  {
   "cell_type": "markdown",
   "metadata": {},
   "source": [
    "Additionally, we create a few data structures for holding bimetallic material information. First, we make a list of multiple ***Atom*** objects that will be the building blocks of the model. Next, we specify a dictionary with the bounds to impose on composition."
   ]
  },
  {
   "cell_type": "code",
   "execution_count": 7,
   "metadata": {},
   "outputs": [],
   "source": [
    "Atoms = [Atom('Cu'),Atom('Ag')]\n",
    "CompBounds = {Atom('Cu'):(3,3),\n",
    "              Atom('Ag'):(3,3)}"
   ]
  },
  {
   "cell_type": "markdown",
   "metadata": {},
   "source": [
    "## Specifying an Optimization Model\n",
    "\n",
    "We start by creating a ***MatOptModel*** object that will hold the information about the problem variables and constraints. At a minimum, ever model requires a Canvas object to be defined. Additionally, the list of building blocks and conformations that are present in the model should be defined. "
   ]
  },
  {
   "cell_type": "code",
   "execution_count": 8,
   "metadata": {},
   "outputs": [],
   "source": [
    "m = MatOptModel(Canv,Atoms)"
   ]
  },
  {
   "cell_type": "markdown",
   "metadata": {},
   "source": [
    "By default, several basic variables are pre-defined. See the first example, ***Monometallic_Nanocluster_Design.ipynb*** for a description of basic variables, expressions, and constraint rules."
   ]
  },
  {
   "cell_type": "markdown",
   "metadata": {},
   "source": [
    "To start, we inidcate that the choice to place an atom is fixed so that each canvas site is required to have an atom. This simplifies the problem significantly and results in a model that will seek to find the optimal labeling of metals on the nanocluster. "
   ]
  },
  {
   "cell_type": "code",
   "execution_count": 9,
   "metadata": {},
   "outputs": [],
   "source": [
    "m.Yi.rules.append(FixedTo(1.0))"
   ]
  },
  {
   "cell_type": "markdown",
   "metadata": {},
   "source": [
    "Next, we define a descriptor for the energy of bonds as a function of properties at each site.\n",
    "Since the locations of the atoms are fixed, the only decision is how to label each site as either Atom A or Atom B. \n",
    "This allows us to simplify the model and compute coefficients that rely on coordination number.\n",
    "In the block below, we implement the bimetallic model for bond energy defined in Yan et al., 2018."
   ]
  },
  {
   "cell_type": "code",
   "execution_count": 10,
   "metadata": {},
   "outputs": [],
   "source": [
    "GklCoefs = {(Atom('Cu'),Atom('Cu')):3.520,\n",
    "            (Atom('Cu'),Atom('Ag')):2.112,\n",
    "            (Atom('Ag'),Atom('Ag')):2.580,\n",
    "            (Atom('Ag'),Atom('Cu')):3.612}\n",
    "BEijCoefs = {}\n",
    "for i in range(len(Canv)):\n",
    "    CNi = sum(1 for _ in Canv.NeighborhoodIndexes[i] if _ is not None)\n",
    "    for j in Canv.NeighborhoodIndexes[i]:\n",
    "        if(j is not None):\n",
    "            CNj = sum(1 for _ in Canv.NeighborhoodIndexes[j] if _ is not None)\n",
    "            for k in Atoms:\n",
    "                for l in Atoms:\n",
    "                    BEijCoefs[i,j,k,l] = GklCoefs[k,l]*1/sqrt(CNi) + GklCoefs[l,k]*1/sqrt(CNj)\n",
    "m.addBondsDescriptor('BEij',\n",
    "                     rules=EqualTo(SumBondTypes(m.Xijkl,coefs=BEijCoefs)),\n",
    "                     symmetric_bonds=True)"
   ]
  },
  {
   "cell_type": "markdown",
   "metadata": {},
   "source": [
    "Next, we define the cohesive energy as a sum of contributions from all BEij bond descriptors."
   ]
  },
  {
   "cell_type": "code",
   "execution_count": 11,
   "metadata": {},
   "outputs": [],
   "source": [
    "m.addGlobalDescriptor('Ecoh',rules=EqualTo(SumBonds(desc=m.BEij,\n",
    "                                                    coefs=1/(N*sqrt(12)))))"
   ]
  },
  {
   "cell_type": "markdown",
   "metadata": {},
   "source": [
    "Finally, we add constraints on the size and composition of the resulting designs."
   ]
  },
  {
   "cell_type": "code",
   "execution_count": 12,
   "metadata": {},
   "outputs": [],
   "source": [
    "m.addGlobalTypesDescriptor('Composition',bounds=CompBounds,\n",
    "                           rules=EqualTo(SumSites(desc=m.Yik)))"
   ]
  },
  {
   "cell_type": "markdown",
   "metadata": {},
   "source": [
    "## Solving the Model\n",
    "\n",
    "Once the model is fully specified, we can optimize in light of a global descriptor. In this example, we choose to maximize the cohesive energy defined previously. Additionally, we can specify basic optimization parameters such as the time limit and memory limit\\* for the optimizer. \n"
   ]
  },
  {
   "cell_type": "code",
   "execution_count": 13,
   "metadata": {},
   "outputs": [
    {
     "name": "stdout",
     "output_type": "stream",
     "text": [
      "WARNING: DEPRECATED: SetProduct.set_tuple is deprecated.  Use\n",
      "    SetProduct.subsets() to get the operator arguments.  (deprecated in TBD)\n",
      "    (called from c:\\users\\dkgun\\src\\idaes\\dangunter\\idaes-\n",
      "    dev\\idaes\\apps\\matopt/..\\matopt\\opt\\pyomo_modeling.py:284)\n",
      "WARNING: Could not locate the 'cplex' executable, which is required for solver\n",
      "    cplex\n",
      "MaOpt can not find usable solver (CPLEX or NEOS-CPLEX)\n"
     ]
    }
   ],
   "source": [
    "D = None\n",
    "try:\n",
    "    D = m.maximize(m.Ecoh,tilim=360,trelim=4096)\n",
    "except:\n",
    "    print('MaOpt can not find usable solver (CPLEX or NEOS-CPLEX)')"
   ]
  },
  {
   "cell_type": "markdown",
   "metadata": {},
   "source": [
    "## Processing Solutions\n",
    "\n",
    "If a design was identified (optimal or otherwise), then a ***Design*** object is returned from the optimization method. The optimal design can be plotted via any of the supported parsers. "
   ]
  },
  {
   "cell_type": "code",
   "execution_count": 14,
   "metadata": {},
   "outputs": [],
   "source": [
    "if D is not None:\n",
    "    D.toPDB('result.pdb')"
   ]
  }
 ],
 "metadata": {
  "kernelspec": {
   "display_name": "Python 3",
   "language": "python",
   "name": "python3"
  },
  "language_info": {
   "codemirror_mode": {
    "name": "ipython",
    "version": 3
   },
   "file_extension": ".py",
   "mimetype": "text/x-python",
   "name": "python",
   "nbconvert_exporter": "python",
   "pygments_lexer": "ipython3",
   "version": "3.8.3"
  }
 },
 "nbformat": 4,
 "nbformat_minor": 2
}
