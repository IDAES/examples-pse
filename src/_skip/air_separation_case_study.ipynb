{
 "cells": [
  {
   "cell_type": "markdown",
   "metadata": {},
   "source": [
    "# Air separation case study"
   ]
  },
  {
   "cell_type": "markdown",
   "metadata": {},
   "source": [
    "## 1. Introduction\n",
    "\n",
    "This Jupyter Notebook develops and validates property packages for air separation units (N2, O2, Ar mixture). Two different databases have been used for comparison and validation purposes, 1) The Properties of Gasses and Liquids, 4th Ed. (1987); 2) Dowling et al., 2015, a mix of the Properties of Gasses and Liquids 3rd Ed. and NIST webbook. To demonstrate the successful implementation of the property package for separation purposes, we will study a flash unit, representing a tray inside an air separation unit. Using the flash case study, we will perform three simulations in the 2-phase region, vapor region, and liquid region. These simulations will validate the parameter database with thermodynamically consistent phase equilibria calculations for a range of conditions. Additionally, a sensitivity study is performed over the influence of temperature in the vapor-liquid split.\n",
    "\n",
    "### 1.1 Tutorial objectives\n",
    "\n",
    "The goals of this tutorial are:\n",
    "\n",
    "* Utilize the mixer and flash unit models.\n",
    "* Utilize the Modular Property Package, which provides a flexible platform for users to build property packages by calling upon libraries of modular sub-models to build up complex property calculations with the least effort possible.\n",
    "* Demonstrate the manual initialization approach, including the use of the propagate_state method in idaes/core/util/initialization\n",
    "* Fix state variables for different conditions and initialize and solve the flowsheet for these conditions.\n",
    "* Demonstrate the sensitivity of the two-phase flash solution to parameter values and the importance of getting good values for these.\n",
    "* Create sensitivity analysis and create a plot from the results\n",
    "* Create two different flowsheet models in the same notebook with two different parameter blocks."
   ]
  },
  {
   "cell_type": "markdown",
   "metadata": {},
   "source": [
    "## 2. Problem Statement\n",
    "\n",
    "Figure 1 shows the process flowsheet that we will be using for this module. We will mix three streams of a mixture of nitrogen, oxygen, and nitrogen. The compositions of the streams were extracted from *A framework for efficient large scale equation-oriented flowsheet optimization*, Alexander W. Dowling and Lorenz T. Biegler, 2014\n",
    "\n",
    "![](Air_flash.png)\n",
    "\n",
    "The flash unit model, F101, represents the top tray of a low-pressure column. The stream LowP_1 is the feed of vapor stream from the low-pressure column, while the streams HighP_1 and HighP_2 are the recycle streams coming from the high-pressure column. We will utilize the Peng-Robinson equation of state for this flowsheet. The property package required for this module is available in the property example directory:\n",
    "\n",
    "* idaes\\models\\properties\\modular_properties\\examples\\ASU_PR.py \n",
    "\n",
    "The state variables chosen for the property package are **component mole fractions (mole_frac_comp), molar flow (flow_mol), temperature (temperature), and pressure (pressure)**. The components considered are **nitrogen, oxygen, and argon**. \n",
    "\n",
    "In this example, we will simulate the following cases:\n",
    "\n",
    "* Case 1: Adiabatic flash unit calculation in the 2-phase region.\n",
    "* Case 2: Flash unit calculation in the vapor region.\n",
    "* Case 3: Flash unit calculation in the liquid region.\n",
    "* Sensitivity Analysis 1: Vapor-liquid split with respect to temperature\n",
    "* Sensitivity Analysis 2: Thermodynamic models and parameters."
   ]
  },
  {
   "cell_type": "markdown",
   "metadata": {},
   "source": [
    "## 2.1 Setting up the problem in IDAES\n",
    "\n",
    "In the next cell, we will be importing the necessary components from Pyomo and IDAES."
   ]
  },
  {
   "cell_type": "code",
   "execution_count": null,
   "metadata": {
    "scrolled": false
   },
   "outputs": [],
   "source": [
    "# Import objects from pyomo package\n",
    "from pyomo.environ import (ConcreteModel,\n",
    "                           SolverFactory,\n",
    "                           TransformationFactory,\n",
    "                           value,\n",
    "                           units as pyunits)\n",
    "\n",
    "from pyomo.network import Arc\n",
    "\n",
    "from idaes.core.util.initialization import propagate_state\n",
    "\n",
    "# Import plotting functions\n",
    "import matplotlib.pyplot as plt\n",
    "\n",
    "# Import numpy library \n",
    "import numpy as np\n",
    "\n",
    "# Import the main FlowsheetBlock from IDAES. The flowsheet block will contain the unit model\n",
    "from idaes.core import FlowsheetBlock\n",
    "\n",
    "# Import idaes logger to set output levels\n",
    "import idaes.logger as idaeslog\n",
    "\n",
    "# Import the degrees_of_freedom function from the idaes.core.util.model_statistics package\n",
    "# DOF = Number of Model Variables - Number of Model Constraints\n",
    "from idaes.core.util.model_statistics import degrees_of_freedom\n",
    "\n",
    "# Import scaling module\n",
    "import idaes.core.util.scaling as iscale\n",
    "idaeslog.getLogger(\"idaes.core.util.scaling\").setLevel(idaeslog.ERROR)\n",
    "\n",
    "# Import the Modular Parameter Block\n",
    "from idaes.models.properties.modular_properties import GenericParameterBlock\n",
    "\n",
    "# Add properties parameter blocks to the flowsheet with specifications\n",
    "from idaes.models.properties.modular_properties.examples.ASU_PR import configuration as configuration_1\n",
    "\n",
    "# Import unit models from the model library\n",
    "from idaes.models.unit_models import Mixer, Flash"
   ]
  },
  {
   "cell_type": "markdown",
   "metadata": {},
   "source": [
    "### 2.1 Building the flowsheet \n",
    "\n",
    "In the next cell, we will first create a model and attach a flowsheet to it. We then introduce the unit models and connect them through an arc and analyze the degrees of freedom of the flowsheet and how many variables we need to fix."
   ]
  },
  {
   "cell_type": "code",
   "execution_count": null,
   "metadata": {},
   "outputs": [],
   "source": [
    "# Create the ConcreteModel and the FlowsheetBlock, and attach the flowsheet block to it.\n",
    "m = ConcreteModel()\n",
    "m.fs = FlowsheetBlock(dynamic=False) \n",
    "\n",
    "# Add properties parameter blocks to the flowsheet with specifications\n",
    "m.fs.props = GenericParameterBlock(**configuration_1)\n",
    "\n",
    "m.fs.M101 = Mixer(property_package=m.fs.props,\n",
    "                  inlet_list=[\"LowP_1\",\"HighP_1\",\"HighP_2\"])\n",
    "\n",
    "m.fs.F101 = Flash(property_package=m.fs.props,\n",
    "                  has_heat_transfer=True,\n",
    "                  has_pressure_change=True)\n",
    "\n",
    "# Create streams to define connectivity between unit models\n",
    "m.fs.s01 = Arc(source=m.fs.M101.outlet, destination=m.fs.F101.inlet)\n",
    "\n",
    "# Expand arcs\n",
    "TransformationFactory(\"network.expand_arcs\").apply_to(m)\n",
    "\n",
    "# Apply scaling factors\n",
    "iscale.calculate_scaling_factors(m)\n",
    "\n",
    "# Call the degrees_of_freedom function, get intitial DOF\n",
    "DOF_initial = degrees_of_freedom(m)\n",
    "print(f'The initial DOF is {DOF_initial}')"
   ]
  },
  {
   "cell_type": "markdown",
   "metadata": {},
   "source": [
    "### 2.2 Create solver object "
   ]
  },
  {
   "cell_type": "code",
   "execution_count": null,
   "metadata": {},
   "outputs": [],
   "source": [
    "# Solve the simulation using ipopt\n",
    "# Note: If the degrees of freedom = 0, we have a square problem\n",
    "ipopt = SolverFactory('ipopt')\n",
    "ipopt.options['bound_push'] = 1e-06\n",
    "ipopt.options['mu_init'] = 1e-06\n",
    "ipopt.options['tol'] = 1e-06"
   ]
  },
  {
   "cell_type": "markdown",
   "metadata": {},
   "source": [
    "## 3 Case 1: Flash unit calculation in the 2-phase region.\n",
    "\n",
    "For this tutorial, we will solve a series of case studies by changing the temperature and heat duty to evaluate the temperature's importance and the difference in the vapor fraction of the flash column.\n",
    "\n",
    "## 3.1 Fix initial conditions\n",
    "\n",
    "The streams' compositions were extracted from *A framework for efficient large scale equation-oriented flowsheet optimization*, Alexander W. Dowling and Lorenz T. Biegler, 2014. The streams' temperature was fixed to match a 2-phase region with a heat duty of the Flash = 0."
   ]
  },
  {
   "cell_type": "code",
   "execution_count": null,
   "metadata": {},
   "outputs": [],
   "source": [
    "m.fs.M101.LowP_1.mole_frac_comp[0, \"nitrogen\"].fix(0.9814)\n",
    "m.fs.M101.LowP_1.mole_frac_comp[0, \"argon\"].fix(0.0106)\n",
    "m.fs.M101.LowP_1.mole_frac_comp[0, \"oxygen\"].fix(0.0080)\n",
    "m.fs.M101.LowP_1.flow_mol[0].fix(1.4667)\n",
    "m.fs.M101.LowP_1.temperature.fix(77.430)\n",
    "m.fs.M101.LowP_1.pressure.fix(101000)\n",
    "\n",
    "m.fs.M101.HighP_1.mole_frac_comp[0, \"nitrogen\"].fix(0.9942)\n",
    "m.fs.M101.HighP_1.mole_frac_comp[0, \"argon\"].fix(0.0014)\n",
    "m.fs.M101.HighP_1.mole_frac_comp[0, \"oxygen\"].fix(0.0043)\n",
    "m.fs.M101.HighP_1.flow_mol[0].fix(0.0486)\n",
    "m.fs.M101.HighP_1.temperature.fix(84.0070)\n",
    "m.fs.M101.HighP_1.pressure.fix(204630)\n",
    "\n",
    "m.fs.M101.HighP_2.mole_frac_comp[0, \"nitrogen\"].fix(0.9832)\n",
    "m.fs.M101.HighP_2.mole_frac_comp[0, \"argon\"].fix(0.0032)\n",
    "m.fs.M101.HighP_2.mole_frac_comp[0, \"oxygen\"].fix(0.0135)\n",
    "m.fs.M101.HighP_2.flow_mol[0].fix(0.7134)\n",
    "m.fs.M101.HighP_2.temperature.fix(84.0070)\n",
    "m.fs.M101.HighP_2.pressure.fix(204630)\n",
    "\n",
    "# Fix unit models operating conditions\n",
    "# Fix F101 Flash outlet temperature\n",
    "m.fs.F101.deltaP.fix(0)\n",
    "m.fs.F101.heat_duty[0].fix(0)\n",
    "\n",
    "DOF_final = degrees_of_freedom(m)\n",
    "print(f'The final DOF is {DOF_final}')"
   ]
  },
  {
   "cell_type": "code",
   "execution_count": null,
   "metadata": {
    "tags": [
     "testing"
    ]
   },
   "outputs": [],
   "source": [
    "assert DOF_final == 0"
   ]
  },
  {
   "cell_type": "markdown",
   "metadata": {},
   "source": [
    "### 3.2 Flowsheet Initialization\n",
    "\n",
    "IDAES includes pre-written initialization routines for all unit models. We will initialize the units in order using the propagate_state method in idaes/core/util/initialization. This method propagates values between Ports along Arcs. We will propagate the values between the mixer M101 and the flash unit F101 along the stream S01."
   ]
  },
  {
   "cell_type": "code",
   "execution_count": null,
   "metadata": {},
   "outputs": [],
   "source": [
    "m.fs.M101.initialize(outlvl=idaeslog.INFO_LOW)\n",
    "propagate_state(m.fs.s01)\n",
    "m.fs.F101.initialize(outlvl=idaeslog.INFO_LOW)"
   ]
  },
  {
   "cell_type": "markdown",
   "metadata": {},
   "source": [
    "### 3.3 Run Simulation"
   ]
  },
  {
   "cell_type": "code",
   "execution_count": null,
   "metadata": {
    "scrolled": false
   },
   "outputs": [],
   "source": [
    "result = ipopt.solve(m, tee=True)"
   ]
  },
  {
   "cell_type": "code",
   "execution_count": null,
   "metadata": {
    "tags": [
     "testing"
    ]
   },
   "outputs": [],
   "source": [
    "from pyomo.opt import TerminationCondition, SolverStatus\n",
    "\n",
    "# Check if termination condition is optimal\n",
    "assert result.solver.termination_condition == TerminationCondition.optimal\n",
    "assert result.solver.status == SolverStatus.ok"
   ]
  },
  {
   "cell_type": "markdown",
   "metadata": {},
   "source": [
    "### 3.4 Results"
   ]
  },
  {
   "cell_type": "code",
   "execution_count": null,
   "metadata": {
    "scrolled": false
   },
   "outputs": [],
   "source": [
    "# Display output report\n",
    "m.fs.F101.report()"
   ]
  },
  {
   "cell_type": "markdown",
   "metadata": {},
   "source": [
    "As we can see from the Flash report with a Heat Duty = 0, we have a liquid outlet of 0.626 and a vapor outlet of 1.603. This results in a vapor fraction of 0.72, which was expected."
   ]
  },
  {
   "cell_type": "code",
   "execution_count": null,
   "metadata": {
    "tags": [
     "testing"
    ]
   },
   "outputs": [],
   "source": [
    "import pytest\n",
    "\n",
    "# Check results\n",
    "assert value(m.fs.F101.heat_duty[0]) == pytest.approx(0.0, abs=1e-1)\n",
    "\n",
    "assert value(m.fs.F101.liq_outlet.flow_mol[0]) == pytest.approx(0.63350, abs=1e-2)\n",
    "assert value(m.fs.F101.liq_outlet.mole_frac_comp[0, \"nitrogen\"]) == pytest.approx(0.96525, abs=1e-3)\n",
    "assert value(m.fs.F101.liq_outlet.mole_frac_comp[0, \"argon\"]) == pytest.approx(0.014242, abs=1e-3)\n",
    "assert value(m.fs.F101.liq_outlet.mole_frac_comp[0, \"oxygen\"]) == pytest.approx(0.020512, abs=1e-3)\n",
    "assert value(m.fs.F101.liq_outlet.temperature[0]) == pytest.approx(77.430, abs=1e-2)\n",
    "assert value(m.fs.F101.liq_outlet.pressure[0]) == pytest.approx(101000, abs=1)\n",
    "\n",
    "assert value(m.fs.F101.vap_outlet.flow_mol[0]) == pytest.approx(1.5951, abs=1e-2)\n",
    "assert value(m.fs.F101.vap_outlet.mole_frac_comp[0, \"nitrogen\"]) == pytest.approx(0.98906, abs=1e-3)\n",
    "assert value(m.fs.F101.vap_outlet.mole_frac_comp[0, \"argon\"]) == pytest.approx(0.0055642, abs=1e-3)\n",
    "assert value(m.fs.F101.vap_outlet.mole_frac_comp[0, \"oxygen\"]) == pytest.approx(0.0053782, abs=1e-3)\n",
    "assert value(m.fs.F101.vap_outlet.temperature[0]) == pytest.approx(77.430, abs=1e-2)\n",
    "assert value(m.fs.F101.vap_outlet.pressure[0]) == pytest.approx(101000, abs=1)"
   ]
  },
  {
   "cell_type": "markdown",
   "metadata": {},
   "source": [
    "## 4. Case 2: Flash unit calculation in the vapor region."
   ]
  },
  {
   "cell_type": "markdown",
   "metadata": {},
   "source": [
    "### 4.1 Fix initial conditions\n",
    "\n",
    "We unfix the heat duty and fix the flash outlet to a temperature where we estimate we will only obtain vapor as the outlet."
   ]
  },
  {
   "cell_type": "code",
   "execution_count": null,
   "metadata": {},
   "outputs": [],
   "source": [
    "m.fs.F101.heat_duty[0].unfix()\n",
    "m.fs.F101.vap_outlet.temperature.fix(80)"
   ]
  },
  {
   "cell_type": "markdown",
   "metadata": {},
   "source": [
    "### 4.2 Flowsheet Initialization"
   ]
  },
  {
   "cell_type": "code",
   "execution_count": null,
   "metadata": {},
   "outputs": [],
   "source": [
    "m.fs.M101.initialize(outlvl=idaeslog.INFO_LOW) \n",
    "propagate_state(m.fs.s01)\n",
    "m.fs.F101.initialize(outlvl=idaeslog.INFO_LOW) "
   ]
  },
  {
   "cell_type": "markdown",
   "metadata": {},
   "source": [
    "### 4.3 Run Simulation"
   ]
  },
  {
   "cell_type": "code",
   "execution_count": null,
   "metadata": {},
   "outputs": [],
   "source": [
    "result = ipopt.solve(m, tee=False)"
   ]
  },
  {
   "cell_type": "markdown",
   "metadata": {},
   "source": [
    "### 4.4 Results"
   ]
  },
  {
   "cell_type": "code",
   "execution_count": null,
   "metadata": {},
   "outputs": [],
   "source": [
    "# Display output report\n",
    "m.fs.F101.report()"
   ]
  },
  {
   "cell_type": "markdown",
   "metadata": {},
   "source": [
    "As expected the outlet of the flash is vapor phase only."
   ]
  },
  {
   "cell_type": "code",
   "execution_count": null,
   "metadata": {
    "tags": [
     "testing"
    ]
   },
   "outputs": [],
   "source": [
    "#Check if termination condition is optimal\n",
    "assert result.solver.termination_condition == TerminationCondition.optimal\n",
    "assert result.solver.status == SolverStatus.ok"
   ]
  },
  {
   "cell_type": "code",
   "execution_count": null,
   "metadata": {
    "tags": [
     "testing"
    ]
   },
   "outputs": [],
   "source": [
    "# Check results\n",
    "assert value(m.fs.F101.heat_duty[0]) == pytest.approx(3668.5, abs=1e1)\n",
    "\n",
    "assert value(m.fs.F101.liq_outlet.flow_mol[0]) == pytest.approx(0.0, abs=1e-2)\n",
    "\n",
    "assert value(m.fs.F101.vap_outlet.flow_mol[0]) == pytest.approx(2.2286, abs=1e-3)\n",
    "assert value(m.fs.F101.vap_outlet.mole_frac_comp[0, \"nitrogen\"]) == pytest.approx(0.98229, abs=1e-3)\n",
    "assert value(m.fs.F101.vap_outlet.mole_frac_comp[0, \"argon\"]) == pytest.approx(0.0080309, abs=1e-3)\n",
    "assert value(m.fs.F101.vap_outlet.mole_frac_comp[0, \"oxygen\"]) == pytest.approx(0.0096802, abs=1e-3)\n",
    "assert value(m.fs.F101.vap_outlet.temperature[0]) == pytest.approx(80.000, abs=1e-2)\n",
    "assert value(m.fs.F101.vap_outlet.pressure[0]) == pytest.approx(101000, abs=1)"
   ]
  },
  {
   "cell_type": "markdown",
   "metadata": {},
   "source": [
    "## 5 Case 3: Flash unit calculation in the liquid region."
   ]
  },
  {
   "cell_type": "markdown",
   "metadata": {},
   "source": [
    "### 5.1 Fix initial conditions\n",
    "\n",
    "We now fix the flash outlet to a temperature where we estimate we will only obtain liquid as the outlet"
   ]
  },
  {
   "cell_type": "code",
   "execution_count": null,
   "metadata": {},
   "outputs": [],
   "source": [
    "m.fs.F101.vap_outlet.temperature.fix(74.001)"
   ]
  },
  {
   "cell_type": "markdown",
   "metadata": {},
   "source": [
    "### 5.2 Flowsheet Initialization"
   ]
  },
  {
   "cell_type": "code",
   "execution_count": null,
   "metadata": {},
   "outputs": [],
   "source": [
    "m.fs.M101.initialize(outlvl=idaeslog.INFO_LOW) \n",
    "propagate_state(m.fs.s01)\n",
    "m.fs.F101.initialize(outlvl=idaeslog.INFO_LOW)"
   ]
  },
  {
   "cell_type": "markdown",
   "metadata": {},
   "source": [
    "### 5.3 Run Simulation"
   ]
  },
  {
   "cell_type": "code",
   "execution_count": null,
   "metadata": {},
   "outputs": [],
   "source": [
    "result = ipopt.solve(m, tee=False)"
   ]
  },
  {
   "cell_type": "markdown",
   "metadata": {},
   "source": [
    "### 5.4 Results"
   ]
  },
  {
   "cell_type": "code",
   "execution_count": null,
   "metadata": {},
   "outputs": [],
   "source": [
    "# Display output report\n",
    "m.fs.F101.report()"
   ]
  },
  {
   "cell_type": "markdown",
   "metadata": {},
   "source": [
    "As expected the outlet of the flash is liquid phase only."
   ]
  },
  {
   "cell_type": "code",
   "execution_count": null,
   "metadata": {
    "tags": [
     "testing"
    ]
   },
   "outputs": [],
   "source": [
    "# Check if termination condition is optimal\n",
    "assert result.solver.termination_condition == TerminationCondition.optimal\n",
    "assert result.solver.status == SolverStatus.ok"
   ]
  },
  {
   "cell_type": "code",
   "execution_count": null,
   "metadata": {
    "tags": [
     "testing"
    ]
   },
   "outputs": [],
   "source": [
    "#### Check results\n",
    "assert value(m.fs.F101.heat_duty[0]) == pytest.approx(-9307., abs=1e1)\n",
    "\n",
    "assert value(m.fs.F101.liq_outlet.flow_mol[0]) == pytest.approx(2.2285, abs=1e-2)\n",
    "assert value(m.fs.F101.liq_outlet.mole_frac_comp[0, \"nitrogen\"]) == pytest.approx(0.98229, abs=1e-4)\n",
    "assert value(m.fs.F101.liq_outlet.mole_frac_comp[0, \"argon\"]) == pytest.approx( 0.00803, abs=1e-4)\n",
    "assert value(m.fs.F101.liq_outlet.mole_frac_comp[0, \"oxygen\"]) == pytest.approx(0.0096805, abs=1e-4)\n",
    "assert value(m.fs.F101.liq_outlet.temperature[0]) == pytest.approx(74.000, abs=1e-2)\n",
    "assert value(m.fs.F101.liq_outlet.pressure[0]) == pytest.approx(101000, abs=1)\n",
    "\n",
    "assert value(m.fs.F101.vap_outlet.flow_mol[0]) == pytest.approx(0.000, abs=1e-2)"
   ]
  },
  {
   "cell_type": "markdown",
   "metadata": {},
   "source": [
    "## 6 Sensitivity Analysis 1: Vapor-liquid split with respect to temperature"
   ]
  },
  {
   "cell_type": "markdown",
   "metadata": {},
   "source": [
    "The property example contains two dictionaries:\n",
    "* configuration 1: contains parameters obtained from The Properties of Gases and Liquids (1987) 4th edition and NIST.\n",
    "* configuration 2: contains parameters used in A framework for efficient large scale equation-oriented flowsheet optimization (2015) Dowling. The parameters are extracted from Properties of Gases and Liquids (1977) 3rd edition for Antoine's vapor equation and acentric factors and converted values from the Properties of Gases and Liquids (1977) 3rd edition"
   ]
  },
  {
   "cell_type": "markdown",
   "metadata": {},
   "source": [
    "## 6.1 Fix initial conditions\n",
    "\n",
    "We will first fix a temperature close to the temperature of the sensitivity analysis's start and initialize the model."
   ]
  },
  {
   "cell_type": "code",
   "execution_count": null,
   "metadata": {},
   "outputs": [],
   "source": [
    "m.fs.F101.vap_outlet.temperature.fix(77.01)"
   ]
  },
  {
   "cell_type": "markdown",
   "metadata": {},
   "source": [
    "### 6.2 Flowsheet Initialization"
   ]
  },
  {
   "cell_type": "code",
   "execution_count": null,
   "metadata": {},
   "outputs": [],
   "source": [
    "m.fs.M101.initialize(outlvl=idaeslog.INFO_LOW) \n",
    "propagate_state(m.fs.s01)\n",
    "m.fs.F101.initialize(outlvl=idaeslog.INFO_LOW) "
   ]
  },
  {
   "cell_type": "markdown",
   "metadata": {},
   "source": [
    "### 6.3 Run Simulation\n",
    "\n",
    "We will run a few cases with different parameter values and look at the effect on the vapour fraction as a function of T.. For the sensitivity analysis, we will create a vector of temperatures, solve the model, and store the vapor fraction. The user can make decisions on what values to store depending on the variable or variables to study."
   ]
  },
  {
   "cell_type": "code",
   "execution_count": null,
   "metadata": {},
   "outputs": [],
   "source": [
    "T = np.linspace(77.01, 78, 19)\n",
    "x1 = []\n",
    "\n",
    "for i, t in enumerate(T):\n",
    "    m.fs.F101.vap_outlet.temperature[0].fix(t)\n",
    "    # solve the model\n",
    "    result = ipopt.solve(m, tee=False)\n",
    "    if result.solver.termination_condition == TerminationCondition.optimal:\n",
    "        print('Case: ', i + 1, ' Optimal. Temp = {:.2f}'.format(t), ' K')\n",
    "        x1.append(value(m.fs.F101.vap_outlet.flow_mol[0]) / value(m.fs.F101.inlet.flow_mol[0])) \n",
    "    else:\n",
    "        print('Case: ', i + 1, ' Failed to solve. Temp = {:.2f}'.format(t), ' K')"
   ]
  },
  {
   "cell_type": "markdown",
   "metadata": {},
   "source": [
    "### 6.4 Results"
   ]
  },
  {
   "cell_type": "code",
   "execution_count": null,
   "metadata": {},
   "outputs": [],
   "source": [
    "fig, ax = plt.subplots(figsize=(15,10))\n",
    "ax.plot(T, x1, 'b', label='configuration_1 parameter dictionary', linewidth=2)\n",
    "\n",
    "ax.set_xlabel('Temperature (K)',fontsize=15, labelpad=10)\n",
    "ax.set_ylabel('Vapor fraction',fontsize=15, labelpad=10)\n",
    "plt.rc('xtick', labelsize=18) \n",
    "plt.rc('ytick', labelsize=18)\n",
    "ax.legend(fontsize=16, loc='best')\n",
    "\n",
    "plt.title('Sensitivity Analysis 1: Temperature vs. Vapor fraction', fontsize=22)\n",
    "\n",
    "ax.grid()\n",
    "plt.show()"
   ]
  },
  {
   "cell_type": "markdown",
   "metadata": {},
   "source": [
    "With the results obtained, we can now set the flash's temperature to get an outlet with a specific desired vapor-liquid split. We will use this data later after we have some other results to compare it to. "
   ]
  },
  {
   "cell_type": "markdown",
   "metadata": {},
   "source": [
    "## 7. Sensitivity Analysis 2: Thermodynamic models and parameters."
   ]
  },
  {
   "cell_type": "markdown",
   "metadata": {},
   "source": [
    "## 7.1 Building a second flowsheet \n",
    "\n",
    "Create a second model utilizing parameters and equations from *A framework for efficient large scale equation-oriented flowsheet optimization* (2015) Dowling. We need to import the parameter block dictionary **configuration_Dowling_2015** and create a flowsheet as we did in the example above. We will utilize the same flowsheet configuration."
   ]
  },
  {
   "cell_type": "code",
   "execution_count": null,
   "metadata": {},
   "outputs": [],
   "source": [
    "from idaes.models.properties.modular_properties.examples.ASU_PR import configuration_Dowling_2015 as configuration_2\n",
    "\n",
    "m1 = ConcreteModel()\n",
    "m1.fs = FlowsheetBlock(default={\"dynamic\": False}) \n",
    "m1.fs.props = GenericParameterBlock(default=configuration_2)\n",
    "\n",
    "m1.fs.M101 = Mixer(default={\"property_package\": m1.fs.props,\n",
    "                           \"inlet_list\": [\"LowP_1\",\"HighP_1\",\"HighP_2\"]})\n",
    "m1.fs.F101 = Flash(default={\"property_package\": m1.fs.props,\n",
    "                           \"has_heat_transfer\": True,\n",
    "                           \"has_pressure_change\": True})\n",
    "m1.fs.s01 = Arc(source=m1.fs.M101.outlet, destination=m1.fs.F101.inlet)\n",
    "\n",
    "TransformationFactory(\"network.expand_arcs\").apply_to(m1)\n",
    "\n",
    "iscale.calculate_scaling_factors(m1)"
   ]
  },
  {
   "cell_type": "markdown",
   "metadata": {},
   "source": [
    "## 7.2 Fix initial conditions\n",
    "\n",
    "The compositions of the streams were extracted from *A framework for efficient large scale equation-oriented flowsheet optimization*, Alexander W. Dowling and Lorenz T. Biegler, 2014. The temperature of the streams was fixed to match a 2-phase region with a heat duty of the Flash = 0."
   ]
  },
  {
   "cell_type": "code",
   "execution_count": null,
   "metadata": {},
   "outputs": [],
   "source": [
    "m1.fs.M101.LowP_1.mole_frac_comp[0, \"nitrogen\"].fix(0.9814)\n",
    "m1.fs.M101.LowP_1.mole_frac_comp[0, \"argon\"].fix(0.0106)\n",
    "m1.fs.M101.LowP_1.mole_frac_comp[0, \"oxygen\"].fix(0.0080)\n",
    "m1.fs.M101.LowP_1.flow_mol[0].fix(1.4667)\n",
    "m1.fs.M101.LowP_1.temperature.fix(77.6601)\n",
    "m1.fs.M101.LowP_1.pressure.fix(101000)\n",
    "\n",
    "m1.fs.M101.HighP_1.mole_frac_comp[0, \"nitrogen\"].fix(0.9942)\n",
    "m1.fs.M101.HighP_1.mole_frac_comp[0, \"argon\"].fix(0.0014)\n",
    "m1.fs.M101.HighP_1.mole_frac_comp[0, \"oxygen\"].fix(0.0043)\n",
    "m1.fs.M101.HighP_1.flow_mol[0].fix(0.0486)\n",
    "m1.fs.M101.HighP_1.temperature.fix(84.0070)\n",
    "m1.fs.M101.HighP_1.pressure.fix(204630)\n",
    "\n",
    "m1.fs.M101.HighP_2.mole_frac_comp[0, \"nitrogen\"].fix(0.9832)\n",
    "m1.fs.M101.HighP_2.mole_frac_comp[0, \"argon\"].fix(0.0032)\n",
    "m1.fs.M101.HighP_2.mole_frac_comp[0, \"oxygen\"].fix(0.0135)\n",
    "m1.fs.M101.HighP_2.flow_mol[0].fix(0.7134)\n",
    "m1.fs.M101.HighP_2.temperature.fix(84.0070)\n",
    "m1.fs.M101.HighP_2.pressure.fix(204630)\n",
    "\n",
    "# Fix unit models operating conditions\n",
    "m1.fs.F101.deltaP.fix(0)\n",
    "m1.fs.F101.heat_duty[0].fix(0)\n",
    "DOF_final = degrees_of_freedom(m1)\n",
    "print(f'The final DOF is {DOF_final}')"
   ]
  },
  {
   "cell_type": "markdown",
   "metadata": {},
   "source": [
    "### 7.3 Flowsheet Initialization\n",
    "\n",
    "The flowsheet is now complete, and we have a square problem (degrees of freedom = 0). We now initialize and solve adiabatic the model at the temperature stated in the paper.  "
   ]
  },
  {
   "cell_type": "code",
   "execution_count": null,
   "metadata": {},
   "outputs": [],
   "source": [
    "m1.fs.M101.initialize(outlvl=idaeslog.INFO_LOW)\n",
    "propagate_state(m1.fs.s01)\n",
    "m1.fs.F101.initialize(outlvl=idaeslog.INFO_LOW)"
   ]
  },
  {
   "cell_type": "markdown",
   "metadata": {},
   "source": [
    "### 7.4 Run Simulation of adiabatic flash unit calculation in the 2-phase region."
   ]
  },
  {
   "cell_type": "code",
   "execution_count": null,
   "metadata": {},
   "outputs": [],
   "source": [
    "result = ipopt.solve(m1, tee=False)"
   ]
  },
  {
   "cell_type": "code",
   "execution_count": null,
   "metadata": {
    "tags": [
     "testing"
    ]
   },
   "outputs": [],
   "source": [
    "# Check results\n",
    "assert value(m1.fs.F101.heat_duty[0]) == pytest.approx(0.0, abs=1e1)\n",
    "\n",
    "assert value(m1.fs.F101.liq_outlet.flow_mol[0]) == pytest.approx(0.61582, abs=1e-2)\n",
    "assert value(m1.fs.F101.liq_outlet.mole_frac_comp[0, \"nitrogen\"]) == pytest.approx(0.96535, abs=1e-3)\n",
    "assert value(m1.fs.F101.liq_outlet.mole_frac_comp[0, \"argon\"]) == pytest.approx(0.014167, abs=1e-3)\n",
    "assert value(m1.fs.F101.liq_outlet.mole_frac_comp[0, \"oxygen\"]) == pytest.approx(0.020480, abs=1e-3)\n",
    "assert value(m1.fs.F101.liq_outlet.temperature[0]) == pytest.approx(77.535, abs=1e-2)\n",
    "assert value(m1.fs.F101.liq_outlet.pressure[0]) == pytest.approx(101000, abs=1)\n",
    "\n",
    "assert value(m1.fs.F101.vap_outlet.flow_mol[0]) == pytest.approx(1.6128, abs=1e-2)\n",
    "assert value(m1.fs.F101.vap_outlet.mole_frac_comp[0, \"nitrogen\"]) == pytest.approx(0.98875, abs=1e-3)\n",
    "assert value(m1.fs.F101.vap_outlet.mole_frac_comp[0, \"argon\"]) == pytest.approx(0.0056891, abs=1e-3)\n",
    "assert value(m1.fs.F101.vap_outlet.mole_frac_comp[0, \"oxygen\"]) == pytest.approx(0.0055588, abs=1e-3)\n",
    "assert value(m1.fs.F101.vap_outlet.temperature[0]) == pytest.approx(77.535, abs=1e-2)\n",
    "assert value(m1.fs.F101.vap_outlet.pressure[0]) == pytest.approx(101000, abs=1)"
   ]
  },
  {
   "cell_type": "markdown",
   "metadata": {},
   "source": [
    "### 7.5 Results of adiabatic flash unit calculation in the 2-phase region."
   ]
  },
  {
   "cell_type": "code",
   "execution_count": null,
   "metadata": {},
   "outputs": [],
   "source": [
    "# Display output report\n",
    "m1.fs.F101.report()"
   ]
  },
  {
   "cell_type": "markdown",
   "metadata": {},
   "source": [
    "As we can see from the Flash report with a Heat Duty = 0, we have a liquid outlet of 0.615 and a vapor outlet of 1.613. This results in a vapor fraction of 0.724. However, the temperature of our two models is different. We will create two python variables to store the vapor flow and temperature results, which we will use on the plot."
   ]
  },
  {
   "cell_type": "code",
   "execution_count": null,
   "metadata": {},
   "outputs": [],
   "source": [
    "T_paper = value(m1.fs.F101.vap_outlet.temperature[0])\n",
    "x_paper = value(m1.fs.F101.vap_outlet.flow_mol[0] / m1.fs.F101.inlet.flow_mol[0])"
   ]
  },
  {
   "cell_type": "markdown",
   "metadata": {},
   "source": [
    "### 7.6 Flowsheet Initialization for sensitivity analysis"
   ]
  },
  {
   "cell_type": "code",
   "execution_count": null,
   "metadata": {},
   "outputs": [],
   "source": [
    "m1.fs.F101.heat_duty[0].unfix()\n",
    "m1.fs.F101.vap_outlet.temperature.fix(77.01)\n",
    "\n",
    "m1.fs.M101.initialize(outlvl=idaeslog.INFO_LOW) \n",
    "propagate_state(m1.fs.s01)\n",
    "m1.fs.F101.initialize(outlvl=idaeslog.INFO_LOW) "
   ]
  },
  {
   "cell_type": "markdown",
   "metadata": {},
   "source": [
    "### 7.7 Run Simulation"
   ]
  },
  {
   "cell_type": "code",
   "execution_count": null,
   "metadata": {},
   "outputs": [],
   "source": [
    "T = np.linspace(77.01, 78, 19)\n",
    "x2 = []\n",
    "\n",
    "for i, t in enumerate(T):\n",
    "    m1.fs.F101.vap_outlet.temperature[0].fix(t)\n",
    "    # solve the model\n",
    "    result = ipopt.solve(m1, tee=False)\n",
    "    if result.solver.termination_condition == TerminationCondition.optimal:\n",
    "        print('Case: ', i + 1, ' Optimal. Temp = {:.2f}'.format(t, ' K'))\n",
    "        x2.append(value(m1.fs.F101.vap_outlet.flow_mol[0] / m1.fs.F101.inlet.flow_mol[0]))\n",
    "    else:\n",
    "        print('Case: ', i + 1,' Failed to solve. Temp = {:.2f}'.format(t, ' K'))"
   ]
  },
  {
   "cell_type": "markdown",
   "metadata": {},
   "source": [
    "### 7.8 Results\n",
    "\n",
    "Now we will plot the results"
   ]
  },
  {
   "cell_type": "code",
   "execution_count": null,
   "metadata": {},
   "outputs": [],
   "source": [
    "fig, ax = plt.subplots(figsize=(15, 10))\n",
    "\n",
    "ax.plot(T, x1, 'blue', label='configuration_1 parameter dictionary', linewidth=2)\n",
    "ax.plot(T, x2, 'orange', label='configuration_2 parameter dictionary', linewidth=2)\n",
    "plt.scatter(T_paper, x_paper, marker='x', s=60, c='k',\n",
    "            label=\"A framework for efficient large scale equation-oriented flowsheet optimization\")\n",
    "\n",
    "ax.set_xlabel('Temperature (K)', fontsize=15, labelpad=10)\n",
    "ax.set_ylabel('Vapor fraction', fontsize=15, labelpad=10)\n",
    "plt.rc('xtick', labelsize=18) \n",
    "plt.rc('ytick', labelsize=18)\n",
    "ax.legend(fontsize=12, loc='best')\n",
    "\n",
    "plt.title(\"Temperature vs. Vapor fraction\", fontsize=22)\n",
    "\n",
    "ax.grid()\n",
    "plt.show()"
   ]
  },
  {
   "cell_type": "markdown",
   "metadata": {},
   "source": [
    "From the plot, we can note the influence the thermodynamic equations and coefficients have. We can observe that a 0.2 K difference may account for a 0 to a 0.6 vapor fraction difference.\n",
    "\n",
    "More often than not, as users, we do not identify the thermodynamics and parameters used in equations used to solve problems. In this case, we may not have looked at the parameter values to realize what changed. We want to mention and note how significant the effect of the property package is. When creating parameter blocks, the parameter values are fitted to specific data ranges, and users should be check to see if the data used covers the range of interest. Users can (and often should) fit their parameters wherever possible, focusing on the range of interest conditions of an individual problem."
   ]
  }
 ],
 "metadata": {
  "celltoolbar": "Tags",
  "kernelspec": {
   "display_name": "Python 3 (ipykernel)",
   "language": "python",
   "name": "python3"
  },
  "language_info": {
   "codemirror_mode": {
    "name": "ipython",
    "version": 3
   },
   "file_extension": ".py",
   "mimetype": "text/x-python",
   "name": "python",
   "nbconvert_exporter": "python",
   "pygments_lexer": "ipython3",
   "version": "3.9.12"
  }
 },
 "nbformat": 4,
 "nbformat_minor": 4
}
