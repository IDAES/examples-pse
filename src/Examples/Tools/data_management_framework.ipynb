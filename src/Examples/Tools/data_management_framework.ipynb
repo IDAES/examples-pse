{
 "cells": [
  {
   "cell_type": "markdown",
   "metadata": {},
   "source": [
    "# Data Management Framework Tutorial\n",
    "<br/> <br/>\n",
    "This tutorial will introduce you to the use of the IDAES Data Management Framework (DMF).\n",
    "The purpose of the DMF is to give IDAES users an easy and consistent way to manage the data they use and create, with a particular focus on (a) the ability to annotate all data items with a combination of pre-defined and user-defined metadata, and (b) the ability to link between data items to record relationships between them.\n",
    "\n",
    "In this tutorial, you will learn:\n",
    "* Basic DMF terms and concepts\n",
    "* How to create a new DMF instance\n",
    "* How to add your data to the DMF\n",
    "* How to set up *relations* to show dependencies and provenance of resources\n",
    "* How to find, load, and remove data from the DMF\n",
    "\n",
    "## Conventions\n",
    "The typographic conventions used in this tutorial are as follows.\n",
    "\n",
    "Names of files will be in \"double quotes\", new terms will be in *italics*, and keywords and source code snippets will be in `fixed-width type`.\n",
    "\n",
    "Sections that offer additional detail that may be skipped are set off in blocks like this:\n",
    "<div class=\"alert alert-block alert-info\">\n",
    "    &#9998; <b>Details:</b>\n",
    "    Detailed information goes here...\n",
    "</div>\n",
    "   "
   ]
  },
  {
   "cell_type": "markdown",
   "metadata": {},
   "source": [
    "## Basic concepts\n",
    "This section describes the DMF conceptually, introducing standard terms used in this context. The terms are summarized at the end of the section.\n",
    "\n",
    "### Workspaces\n",
    "The DMF is designed to support multiple users, or multiple different projects for the same user. Different users or projects are isolated from each other through the concept of a DMF *workspace*. Each DMF instance is initialized with a given workspace, and all its DMF operations are confined to that workspace. \n",
    "\n",
    "For the default (and only, at this time) storage engine, the a directory in the filesystem is used for each workspace.\n",
    "As long as file permissions allow it, multiple users can\n",
    "share the same workspace, but note that there is no authentication required to modify DMF contents, so users must\n",
    "take care to coordinate their actions.\n",
    "\n",
    "<div class=\"alert alert-block alert-info\">\n",
    "    &#9998; <b>Details:</b>\n",
    "    There is a global configuration stored in the user's home directory in a file called \".dmf\".<br/>\n",
    "    This file records, among other things, the 'current' workspace. This avoids having to specify the workspace\n",
    "    with every command from the command-line interface.\n",
    "</div>\n",
    "\n",
    "### Resources and relations\n",
    "The DMF is designed to store *resources*, which can be any sort of digital data, and to allow users to add structured metadata to describe the author, date, and origin of those resources. Users can explicitly register the *relations*, or named connections, between resources in the DMF, and use these to navigate between resources.\n",
    "\n",
    "### Files\n",
    "Usually, but not always, each resource will be associated with one or more files, such as a data file, an image, or\n",
    "a spreadsheet. These files are by default copied into the DMF's workspace at the time the resource is added. \n",
    "After this, the file may be changed or deleted without affecting the DMF.\n",
    "There is an option to instead refer to the location of the file (in the filesystem). This has the advantage of efficiency -- no data is copied -- and will also, for better or worse, let the file's contents change even as the resource ID stays the same. In this case, it is\n",
    "considered the user's problem to protect the file from being moved or deleted.\n",
    "\n",
    "### Terms\n",
    "- *resource*: Digital data, with attached metadata, that is managed by the DMF\n",
    "- *relation*: Connection between two resources, which has a named type. Connections are directional in their sense -- resource A \"derived from\" resource B -- but can be navigated in both the \"in\" and \"out\" direction.\n",
    "- *JSON*: Short for JavaScript Object Notation, this is a standard way to format structured data. See https://json.org for more information."
   ]
  },
  {
   "cell_type": "markdown",
   "metadata": {},
   "source": [
    "## Initialization\n",
    "Physically, the default (and currently only) storage engine of the DMF is a simple directory on the disk. This directory corresponds t *workspace*. \n",
    "\n",
    "<div class=\"alert alert-block alert-info\">\n",
    "    &#9998; <b>Details:</b>\n",
    "In the workspace directory, there are two files and a sub-directory:\n",
    "<ul>\n",
    "<li> \"config.yaml\": Workspace configuration information.\n",
    "<li> \"resourcedb.json\": Metadata for all resources (JSON format)\n",
    "<li> \"files/\": Data files associated with resources\n",
    "    </ul>\n",
    "</div>"
   ]
  },
  {
   "cell_type": "code",
   "execution_count": null,
   "metadata": {},
   "outputs": [],
   "source": [
    "from idaes.core.dmf import DMF  # import main class\n",
    "import shutil, os\n",
    "\n",
    "workspace_dir = \"my_workspace\"\n",
    "# clean slate: remove anything from previous runs\n",
    "if os.path.exists(workspace_dir):\n",
    "    shutil.rmtree(workspace_dir)\n",
    "# create our workspace\n",
    "dmf = DMF(workspace_dir, create=True)  # create means 'create the directory'"
   ]
  },
  {
   "cell_type": "markdown",
   "metadata": {},
   "source": [
    "### IDAES model setup\n",
    "In this example, we will work with the Flash unit model introduced in the 'Flash_Unit' tutorial.\n",
    "We will use the DMF to store, and connect, the inputs, model, and results.\n",
    "The following block of code creates the Flash unit model and its containing flowsheet block.\n",
    "Refer to the tutorial for details.\n",
    "Note that we add the level of indirection to make this a Python string, so we can save the code easily as a *resource*."
   ]
  },
  {
   "cell_type": "code",
   "execution_count": null,
   "metadata": {},
   "outputs": [],
   "source": [
    "model_setup = \"\"\"\n",
    "from pyomo.environ import ConcreteModel, SolverFactory, Constraint, value\n",
    "from idaes.core import FlowsheetBlock\n",
    "from idaes.models.properties.activity_coeff_models.BTX_activity_coeff_VLE \\\n",
    "    import BTXParameterBlock\n",
    "from idaes.models.unit_models import Flash\n",
    "m = ConcreteModel()\n",
    "m.fs = FlowsheetBlock(dynamic=False)\n",
    "m.fs.properties = BTXParameterBlock(valid_phase=('Liq', 'Vap'),\n",
    "                                    activity_coeff_model=\"Ideal\",\n",
    "                                    state_vars=\"FTPz\")\n",
    "m.fs.flash = Flash(property_package=m.fs.properties)\n",
    "\"\"\"\n",
    "exec(model_setup)"
   ]
  },
  {
   "cell_type": "markdown",
   "metadata": {},
   "source": [
    "## Adding resources\n",
    "Using the Python API, the user adds resources to the DMF by either creating an instance of the `Resource` class, and adding it, or implicitly creating and adding a resource in one step by importing a file. One resource can also refer to multiple files. There is standard metadata that describes who, what, when, and how a resource was created. In addition, arbitrary structured data can be added in a \"data\" section of each resource.\n",
    "\n",
    "When adding, the basic workflow is:\n",
    "0. Initialize DMF\n",
    "1. Create/add resources\n",
    "2. Create relations between these resources (more detail later)\n",
    "3. Update the DMF to save all the relations\n",
    "\n",
    "We have already initialized the DMF. So, now we create and add some resources. First, the Flash code:"
   ]
  },
  {
   "cell_type": "code",
   "execution_count": null,
   "metadata": {},
   "outputs": [],
   "source": [
    "from idaes.core.dmf.resource import Resource, ResourceTypes\n",
    "\n",
    "# Add the Flash code block as a resource\n",
    "flash_code = Resource(type_=ResourceTypes.code, value={\n",
    "    \"codes\": [{\n",
    "        \"type\": \"block\",\n",
    "        \"language\": \"python\",\n",
    "        \"desc\": \"Create Flash unit model and containing flowsheet\",\n",
    "        \"inline\": model_setup\n",
    "    }],\n",
    "    \"name\": \"flash_code\"\n",
    "})\n",
    "dmf.add(flash_code)"
   ]
  },
  {
   "cell_type": "markdown",
   "metadata": {},
   "source": [
    "Now we put the values that will be fed to the Flash unit model inlet into another resource."
   ]
  },
  {
   "cell_type": "code",
   "execution_count": null,
   "metadata": {},
   "outputs": [],
   "source": [
    "# Put inlet values into a dict\n",
    "inlet_values = {\n",
    "    \"flow_mol\": 1,\n",
    "    \"temperature\": 368,\n",
    "    \"pressure\": 101325,\n",
    "    \"mole_frac_comp\": {\n",
    "        \"benzene\": 0.5,\n",
    "        \"toluene\": 0.5\n",
    "    }\n",
    "}\n",
    "# Save the inlet values as another resource\n",
    "inlet_params = Resource(type_=ResourceTypes.data, value={\"data\": {\"unit\": \"Flash\", \"inlet_values\": inlet_values}})\n",
    "dmf.add(inlet_params)"
   ]
  },
  {
   "cell_type": "markdown",
   "metadata": {},
   "source": [
    "### Create a relation\n",
    "Once created, resources are connected to each other, where needed, by creating *relations* between them. The DMF defines\n",
    "a few types of possible relations:\n",
    "\n",
    "* *derived*: object is derived from subject\n",
    "* *contains*: subject contains the object\n",
    "* *uses*: subject uses the object\n",
    "* *version*: object is a (new) version of the subject\n",
    "\n",
    "The terms *subject* and *object*, above, describe the direction of the relation with respect to the two resources.\n",
    "To take a simple example, imagine I have resources that represent a shoebox and a pair of shoes. To\n",
    "represent the relationship of the shoebox containing the shoes, then the shoebox is the subject and the shoes are the\n",
    "object of the relation \"contains\".\n",
    "\n",
    "Relations, unlike resources, are not added directly to the DMF. Instead they are created with a method that also \n",
    "requires both resources to be provided, and then you call `update()` to save them.\n",
    "The relation is represented in both the subject\n",
    "and object of the relation. For example, given the shoes resource from the example above, one can find that they are\n",
    "the object of the \"contains\" relation with a shoebox resource.\n",
    "\n",
    "We can connect the two resources we just created with the relation \"uses\", in the sense of the Flash unit model using the inlet values. The Flash unit code is the subject, and the inlet values are the object, of this relation."
   ]
  },
  {
   "cell_type": "code",
   "execution_count": null,
   "metadata": {},
   "outputs": [],
   "source": [
    "from idaes.core.dmf.resource import create_relation, Predicates\n",
    "\n",
    "create_relation(flash_code, Predicates.uses, inlet_params)\n",
    "dmf.update()  # sync to DMF storage"
   ]
  },
  {
   "cell_type": "markdown",
   "metadata": {},
   "source": [
    "Now, we finish constructing the Flash unit with the parameter values, then solve the model.\n",
    "\n",
    "For good measure, we save the status of the solution in another resource, and connect that to the flash model\n",
    "with the *derived* relation."
   ]
  },
  {
   "cell_type": "code",
   "execution_count": null,
   "metadata": {},
   "outputs": [],
   "source": [
    "import idaes.logger as idaeslog\n",
    "\n",
    "# Set inlet values using dict created above\n",
    "for key, value in inlet_values.items():\n",
    "    if key == \"mole_frac_comp\":\n",
    "        for chem, frac in value.items():\n",
    "            m.fs.flash.inlet.mole_frac_comp[0, chem].fix(frac) \n",
    "    else:\n",
    "        getattr(m.fs.flash.inlet, key).fix(value)\n",
    "\n",
    "# Finish Flash unit setup\n",
    "m.fs.flash.heat_duty.fix(0)\n",
    "m.fs.flash.deltaP.fix(0)\n",
    "m.fs.flash.initialize(outlvl=idaeslog.WARNING)  # quiet\n",
    "\n",
    "# Solve the model\n",
    "solver = SolverFactory('ipopt')\n",
    "status = solver.solve(m, tee=False)  # also, quiet\n",
    "print(status)\n",
    "\n",
    "# Save the result in the DMF\n",
    "result_rsrc = Resource(type_=ResourceTypes.data, value={\"data\":{\"status\": str(status), \"solver\": \"ipopt\"}})\n",
    "dmf.add(result_rsrc)\n",
    "create_relation(flash_code, Predicates.derived, result_rsrc)\n",
    "dmf.update()"
   ]
  },
  {
   "cell_type": "markdown",
   "metadata": {},
   "source": [
    "## Searching for resources\n",
    "To retrieve and use previously added items from the DMF, you need to first locate them.\n",
    "There are four primary ways to do locate a resource:\n",
    "* Find by resource ID: Of course, this is fast, but you first need to know the identifier.\n",
    "* Find by query: You can search by any of the fields in the resource.\n",
    "* Find by name: A special case of find by query, you can search on the 'name' you gave the resource.\n",
    "* Find by relations: Given one resource, you can search for other resources to which it is related."
   ]
  },
  {
   "cell_type": "markdown",
   "metadata": {},
   "source": [
    "### Finding resources by ID\n",
    "We first show how to retrieve a resource by its ID. The method is a generator because\n",
    "an ID prefix is allowed, so you need to look at the first (and only) result explicitly."
   ]
  },
  {
   "cell_type": "code",
   "execution_count": null,
   "metadata": {},
   "outputs": [],
   "source": [
    "# use id from resource above\n",
    "rsrc = list(dmf.find_by_id(flash_code.id))[0]\n",
    "print(rsrc.v[\"codes\"][0][\"inline\"])"
   ]
  },
  {
   "cell_type": "markdown",
   "metadata": {},
   "source": [
    "### Finding resources by query\n",
    "The query syntax that is supported is a filter that is in the style of the filters\n",
    "used by the MongoDB database engine. To simplify the common case, a `name` parameter\n",
    "is also provided to find resources by name. For the purposes of this tutorial, we will\n",
    "show the use of both methods.\n",
    "\n",
    "First, let's find the Flash inlet parameters by looking for the value of \"unit\" in the \"data\" section.\n",
    "Note that this type of search requires that you know something about the structure of the\n",
    "metadata inside a resource.\n",
    "<div class=\"alert alert-block alert-info\">\n",
    "    &#9998; <b>Details:</b>\n",
    "A full description of possible fields (i.e., a schema) for a resource is in\n",
    "    <span style=\"font-family:monospace\">idaes.core.dmf.resource.RESOURCE_SCHEMA</span>. The syntax for this description is a standard called <a href=\"https://json-schema.org\">JSON Schema</a>.\n",
    "    </div>\n",
    "    \n",
    "For the purposes of understanding this query, you need to know 3 things:\n",
    "1. The query itself is contained in a Python dict given to the `filter_dict` parameter of the `find_one()` method.\n",
    "2. You can search for nested fields, such as the \"unit\" field in the \"data\" section, by using dots between the\n",
    "   field names.\n",
    "3. By putting a tilde (\"~\") before the value, the value will be treated like a regular expression. Here,\n",
    "   we use this to find anything with the word \"flash\" in it, without worrying about upper and lower case.\n",
    "\n",
    "<div class=\"alert alert-block alert-info\">\n",
    "    &#9998; <b>Details:</b> By default, resources in which <em>any</em> item of the\n",
    "    provided list matches an item in the resource, will match. To ask for <em>all</em> of the provided\n",
    "    list items to match, add \"!\" after the key, e.g. \"datafiles!\".\n",
    " </div>"
   ]
  },
  {
   "cell_type": "code",
   "execution_count": null,
   "metadata": {},
   "outputs": [],
   "source": [
    "import re\n",
    "\n",
    "rsrc = dmf.find_one(filter_dict={\"type\": \"data\", \"data.unit\": \"~.*flash.*\"}, re_flags=re.IGNORECASE)\n",
    "display(rsrc.v)"
   ]
  },
  {
   "cell_type": "markdown",
   "metadata": {},
   "source": [
    "### Findin resources by name\n",
    "Finding by name is relatively simple, you just pass the `name` parameter to the `find()` or\n",
    "`find_one()` method. Note that the name must match exactly what was placed there.\n",
    "\n",
    "<div class=\"alert alert-block alert-info\">\n",
    "    &#9998; <b>Details:</b> Searching by name is really just a special case of searching\n",
    "    by 'alias'. Each resource has a list of string aliases (names) and tags that are associated\n",
    "    with it. The first alias is designated as the name of the resource.\n",
    " </div>"
   ]
  },
  {
   "cell_type": "code",
   "execution_count": null,
   "metadata": {},
   "outputs": [],
   "source": [
    "# Find the Flash code resource by its name\n",
    "rsrc = list(dmf.find(name=\"flash_code\"))[0]\n",
    "print(\"Result metadata:\")\n",
    "display(rsrc.v)"
   ]
  },
  {
   "cell_type": "markdown",
   "metadata": {},
   "source": [
    "### Finding resources by relations\n",
    "Finally, you can also find a resource by navigating to it from an existing resource.\n",
    "For example, we can find all the resources that are connected to our Flash unit model.\n",
    "This will discover:\n",
    "* Flash code &#9472; uses &rarr; Flash inlet parameters\n",
    "* Flash code &#9472; derived &rarr; Status of solve"
   ]
  },
  {
   "cell_type": "code",
   "execution_count": null,
   "metadata": {},
   "outputs": [],
   "source": [
    "for depth, triple, meta in dmf.find_related(rsrc,  # <-- this was the flash code we found above \n",
    "                                            outgoing=True,  # <-- look at outgoing edges\n",
    "                                            meta=[\"type\", \"data\"]): # <-- extract this metadata\n",
    "    if meta[\"type\"] == ResourceTypes.data:\n",
    "        data = meta[\"data\"]\n",
    "        if \"status\" in data:\n",
    "            print(f\"{triple.predicate} --> Status:\")\n",
    "            print(data[\"status\"])\n",
    "        elif \"inlet_values\" in data:\n",
    "            print(f\"{triple.predicate} --> inlet values:\")\n",
    "            display(data[\"inlet_values\"])"
   ]
  },
  {
   "cell_type": "markdown",
   "metadata": {},
   "source": [
    "## Working with files\n",
    "A resource provides a relatively simple way to access any related files, with the `get_datafiles()` method.\n",
    "In the simplest case, this returns a list of `pathlib.Path` objects that can be used however the user desires.\n",
    "If you pass in a \"mode\", then the method will attempt to open files in that mode and return a Python file object\n",
    "instead.\n",
    "\n",
    "To illustrate this, let's create a resource for this notebook itself, as a file.\n",
    "Then, we can find a special code block in the notebook, showing that we can actually read the resulting file."
   ]
  },
  {
   "cell_type": "code",
   "execution_count": null,
   "metadata": {},
   "outputs": [],
   "source": [
    "# Add a new resource for the notebook file\n",
    "notebook = dmf.new(file=\"data_management_framework.ipynb\")\n",
    "\n",
    "# Special:Start\n",
    "for fp in notebook.get_datafiles(mode=\"r\"):\n",
    "    text = fp.read()\n",
    "    start, end = text.find(\"Special:Start\"), text.rfind(\"Special:End\")\n",
    "    block = text[start:end]\n",
    "    print(block[block.find(\"for\"):])\n",
    "# Special:End"
   ]
  },
  {
   "cell_type": "markdown",
   "metadata": {},
   "source": [
    "## Removing resources\n",
    "Resources can be removed using either their unique identifier (found in the \".id\" attribute), or *en masse* using\n",
    "a search expression, as you would give to the `find()` method. The latter is not recommended unless you know what\n",
    "you are doing. "
   ]
  },
  {
   "cell_type": "code",
   "execution_count": null,
   "metadata": {},
   "outputs": [],
   "source": [
    "# uncomment and run this to remove the notebook resource\n",
    "# dmf.remove(notebook.id)"
   ]
  },
  {
   "cell_type": "markdown",
   "metadata": {},
   "source": [
    "## Jupyter \"magics\"\n",
    "To make working with the DMF in Jupyter Notebooks a little easier, a few Jupyter \"magics\" have been defined.\n",
    "Magics are special keywords that are prefixed with a '%', that call underlying Python code.\n",
    "There are a number of built-in magics that you can see [here](https://ipython.readthedocs.io/en/stable/interactive/magics.html).\n",
    "\n",
    "The magics defined for the DMF are:\n",
    "* `%dmf workspaces`: List all possible workspaces (does not require %dmf init)\n",
    "* `%dmf init`: Call this to set the DMF workspace used by all other magics\n",
    "* `%dmf status`: Show information about current DMF status\n",
    "* `%dmf list`: List contents of current workspace\n",
    "* `%dmf help`: Show help on an object or method for IDAES\n",
    "\n",
    "Below are some examples of using these magics."
   ]
  },
  {
   "cell_type": "code",
   "execution_count": null,
   "metadata": {},
   "outputs": [],
   "source": [
    "# Need to import this to register the magics with your Jupyter Notebook\n",
    "from idaes.core.dmf import magics"
   ]
  },
  {
   "cell_type": "code",
   "execution_count": null,
   "metadata": {},
   "outputs": [],
   "source": [
    "%dmf workspaces"
   ]
  },
  {
   "cell_type": "code",
   "execution_count": null,
   "metadata": {},
   "outputs": [],
   "source": [
    "%dmf init my_workspace"
   ]
  },
  {
   "cell_type": "code",
   "execution_count": null,
   "metadata": {},
   "outputs": [],
   "source": [
    "%dmf status"
   ]
  },
  {
   "cell_type": "code",
   "execution_count": null,
   "metadata": {},
   "outputs": [],
   "source": [
    "%dmf list"
   ]
  },
  {
   "cell_type": "markdown",
   "metadata": {},
   "source": [
    "# Thank you!\n",
    "That's the end of the tutorial. Thanks for your interest.\n",
    "\n",
    "For more information on the DMF APIs and command-line interfaces, see the [DMF section of the IDAES documentation](https://idaes-pse.readthedocs.io/en/stable/user_guide/components/dmf/index.html)."
   ]
  },
  {
   "cell_type": "code",
   "execution_count": null,
   "metadata": {},
   "outputs": [],
   "source": []
  }
 ],
 "metadata": {
  "kernelspec": {
   "display_name": "Python 3 (ipykernel)",
   "language": "python",
   "name": "python3"
  },
  "language_info": {
   "codemirror_mode": {
    "name": "ipython",
    "version": 3
   },
   "file_extension": ".py",
   "mimetype": "text/x-python",
   "name": "python",
   "nbconvert_exporter": "python",
   "pygments_lexer": "ipython3",
   "version": "3.9.12"
  }
 },
 "nbformat": 4,
 "nbformat_minor": 4
}
