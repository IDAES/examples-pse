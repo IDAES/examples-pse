{
 "cells": [
  {
   "cell_type": "markdown",
   "metadata": {},
   "source": [
    "# Degeneracy Hunter Examples\n",
    "<br/> <br/>\n",
    "This notebook shows how to use the following Degeneracy Hunter features through several motivating examples:\n",
    "* Add features here\n",
    "\n",
    "## Conventions\n",
    "The typographic conventions used in this tutorial are as follows.\n",
    "\n",
    "Names of files will be in \"double quotes\", new terms will be in *italics*, and keywords and source code snippets will be in `fixed-width type`.\n",
    "\n",
    "Sections that offer additional detail that may be skipped are set off in blocks like this:\n",
    "<div class=\"alert alert-block alert-info\">\n",
    "    &#9998; <b>Details:</b>\n",
    "    Detailed information goes here...\n",
    "</div>\n",
    "   "
   ]
  },
  {
   "cell_type": "markdown",
   "metadata": {},
   "source": [
    "##  Setup\n",
    "\n",
    "We start by importing Pyomo and Degeneracy Hunter."
   ]
  },
  {
   "cell_type": "code",
   "execution_count": 1,
   "metadata": {},
   "outputs": [
    {
     "name": "stdout",
     "output_type": "stream",
     "text": [
      "WARNING: DEPRECATED: The pyomo.core.kernel.component_set module is deprecated.\n",
      "    Import ComponentSet from pyomo.common.collections.  (deprecated in 5.7.1)\n",
      "    (called from /anaconda3/envs/idaes-pse/lib/python3.7/site-\n",
      "    packages/pyomo/core/kernel/component_set.py:16)\n"
     ]
    }
   ],
   "source": [
    "from pyomo.environ import *\n",
    "\n",
    "from idaes.core.util.model_diagnostics import DegeneracyHunter"
   ]
  },
  {
   "cell_type": "markdown",
   "metadata": {},
   "source": [
    "## Example 1: Linear Program with Equality Constraints\n"
   ]
  },
  {
   "cell_type": "markdown",
   "metadata": {},
   "source": [
    "### Define"
   ]
  },
  {
   "cell_type": "markdown",
   "metadata": {},
   "source": [
    "We start by defining a simple optimization problem."
   ]
  },
  {
   "cell_type": "code",
   "execution_count": 2,
   "metadata": {},
   "outputs": [
    {
     "name": "stdout",
     "output_type": "stream",
     "text": [
      "1 Set Declarations\n",
      "    I : Size=1, Index=None, Ordered=Insertion\n",
      "        Key  : Dimen : Domain : Size : Members\n",
      "        None :     1 :    Any :    5 : {0, 1, 2, 3, 4}\n",
      "\n",
      "2 Var Declarations\n",
      "    x : Size=5, Index=I\n",
      "        Key : Lower : Value : Upper : Fixed : Stale : Domain\n",
      "          0 :   -10 :   1.0 :    10 : False : False :  Reals\n",
      "          1 :   -10 :   1.0 :    10 : False : False :  Reals\n",
      "          2 :   -10 :   1.0 :    10 : False : False :  Reals\n",
      "          3 :   -10 :   1.0 :    10 : False : False :  Reals\n",
      "          4 :   -10 :   1.0 :    10 : False : False :  Reals\n",
      "    z : Size=1, Index=None\n",
      "        Key  : Lower : Value : Upper : Fixed : Stale : Domain\n",
      "        None :  -100 :   5.0 :   100 : False : False :  Reals\n",
      "\n",
      "1 Objective Declarations\n",
      "    obj : Size=1, Index=None, Active=True\n",
      "        Key  : Active : Sense    : Expression\n",
      "        None :   True : minimize : x[0]**2 + x[1]**2 + x[2]**2 + x[3]**2 + x[4]**2\n",
      "\n",
      "3 Constraint Declarations\n",
      "    con1 : Size=1, Index=None, Active=True\n",
      "        Key  : Lower : Body               : Upper : Active\n",
      "        None :  10.0 : x[0] + x[1] - x[3] :  +Inf :   True\n",
      "    con2 : Size=1, Index=None, Active=True\n",
      "        Key  : Lower : Body             : Upper : Active\n",
      "        None :   0.0 : x[0]*x[3] + x[1] :  +Inf :   True\n",
      "    con3 : Size=1, Index=None, Active=True\n",
      "        Key  : Lower : Body                         : Upper : Active\n",
      "        None :   0.0 : x[4]*x[3] + x[0]*x[3] - x[4] :   0.0 :   True\n",
      "\n",
      "7 Declarations: I x z con1 con2 con3 obj\n"
     ]
    }
   ],
   "source": [
    "m = ConcreteModel()\n",
    "\n",
    "m.I = Set(initialize=[i for i in range(5)])\n",
    "\n",
    "m.x = Var(m.I,bounds=(-10,10),initialize=1.0)\n",
    "m.z = Var(bounds=(-100,100), initialize=5.0)\n",
    "\n",
    "m.con1 = Constraint(expr=m.x[0] + m.x[1] - m.x[3] >= 10)\n",
    "m.con2 = Constraint(expr=m.x[0]*m.x[3] + m.x[1] >= 0)\n",
    "m.con3 = Constraint(expr=m.x[4]*m.x[3] + m.x[0]*m.x[3] - m.x[4] == 0)\n",
    "\n",
    "m.obj = Objective(expr=sum(m.x[i]**2 for i in m.I))\n",
    "\n",
    "m.pprint()"
   ]
  },
  {
   "cell_type": "markdown",
   "metadata": {},
   "source": [
    "### Evaluate the initial point"
   ]
  },
  {
   "cell_type": "code",
   "execution_count": 3,
   "metadata": {},
   "outputs": [
    {
     "name": "stdout",
     "output_type": "stream",
     "text": [
      "Ipopt 3.13.2: max_iter=0\n",
      "\n",
      "\n",
      "******************************************************************************\n",
      "This program contains Ipopt, a library for large-scale nonlinear optimization.\n",
      " Ipopt is released as open source code under the Eclipse Public License (EPL).\n",
      "         For more information visit http://projects.coin-or.org/Ipopt\n",
      "******************************************************************************\n",
      "\n",
      "This is Ipopt version 3.13.2, running with linear solver ma27.\n",
      "\n",
      "Number of nonzeros in equality constraint Jacobian...:        3\n",
      "Number of nonzeros in inequality constraint Jacobian.:        6\n",
      "Number of nonzeros in Lagrangian Hessian.............:        7\n",
      "\n",
      "Total number of variables............................:        5\n",
      "                     variables with only lower bounds:        0\n",
      "                variables with lower and upper bounds:        5\n",
      "                     variables with only upper bounds:        0\n",
      "Total number of equality constraints.................:        1\n",
      "Total number of inequality constraints...............:        2\n",
      "        inequality constraints with only lower bounds:        2\n",
      "   inequality constraints with lower and upper bounds:        0\n",
      "        inequality constraints with only upper bounds:        0\n",
      "\n",
      "iter    objective    inf_pr   inf_du lg(mu)  ||d||  lg(rg) alpha_du alpha_pr  ls\n",
      "   0  5.0000000e+00 9.00e+00 2.00e+00  -1.0 0.00e+00    -  0.00e+00 0.00e+00   0\n",
      "\n",
      "Number of Iterations....: 0\n",
      "\n",
      "                                   (scaled)                 (unscaled)\n",
      "Objective...............:   5.0000000000000000e+00    5.0000000000000000e+00\n",
      "Dual infeasibility......:   2.0000000000000000e+00    2.0000000000000000e+00\n",
      "Constraint violation....:   8.9999999000000006e+00    8.9999999000000006e+00\n",
      "Complementarity.........:   1.1000000099999999e+01    1.1000000099999999e+01\n",
      "Overall NLP error.......:   1.1000000099999999e+01    1.1000000099999999e+01\n",
      "\n",
      "\n",
      "Number of objective function evaluations             = 1\n",
      "Number of objective gradient evaluations             = 1\n",
      "Number of equality constraint evaluations            = 1\n",
      "Number of inequality constraint evaluations          = 1\n",
      "Number of equality constraint Jacobian evaluations   = 1\n",
      "Number of inequality constraint Jacobian evaluations = 1\n",
      "Number of Lagrangian Hessian evaluations             = 0\n",
      "Total CPU secs in IPOPT (w/o function evaluations)   =      0.000\n",
      "Total CPU secs in NLP function evaluations           =      0.000\n",
      "\n",
      "EXIT: Maximum Number of Iterations Exceeded.\n",
      "WARNING: Loading a SolverResults object with a warning status into\n",
      "    model.name=\"unknown\";\n",
      "      - termination condition: maxIterations\n",
      "      - message from solver: Ipopt 3.13.2\\x3a Maximum Number of Iterations\n",
      "          Exceeded.\n"
     ]
    }
   ],
   "source": [
    "# Specify Ipopt as the solver\n",
    "opt = SolverFactory('ipopt')\n",
    "\n",
    "# Specifying an iteration limit of 0 allows us to inspect the initial point\n",
    "opt.options['max_iter'] = 0\n",
    "\n",
    "# \"Solving\" the model with an iteration limit of 0 load the initial point and applies\n",
    "# any preprocessors (e.g., enforces bounds)\n",
    "opt.solve(m, tee=True)\n",
    "\n",
    "# Create Degeneracy Hunter object\n",
    "dh = DegeneracyHunter(m)"
   ]
  },
  {
   "cell_type": "markdown",
   "metadata": {},
   "source": [
    "### Identify the constraint residuals larger than 0.1"
   ]
  },
  {
   "cell_type": "code",
   "execution_count": 4,
   "metadata": {},
   "outputs": [
    {
     "name": "stdout",
     "output_type": "stream",
     "text": [
      " \n",
      "All constraints with residuals larger than 0.1 :\n",
      "\n",
      "count = 0 \t|residual| = 9.0\n",
      "con1 : Size=1, Index=None, Active=True\n",
      "    Key  : Lower : Body               : Upper : Active\n",
      "    None :  10.0 : x[0] + x[1] - x[3] :  +Inf :   True\n",
      "variable\tlower\tvalue\tupper\n",
      "x[0] \t\t -10 \t 1.0 \t 10\n",
      "x[1] \t\t -10 \t 1.0 \t 10\n",
      "x[3] \t\t -10 \t 1.0 \t 10\n",
      "\n",
      "count = 1 \t|residual| = 1.0\n",
      "con3 : Size=1, Index=None, Active=True\n",
      "    Key  : Lower : Body                         : Upper : Active\n",
      "    None :   0.0 : x[4]*x[3] + x[0]*x[3] - x[4] :   0.0 :   True\n",
      "variable\tlower\tvalue\tupper\n",
      "x[4] \t\t -10 \t 1.0 \t 10\n",
      "x[3] \t\t -10 \t 1.0 \t 10\n",
      "x[0] \t\t -10 \t 1.0 \t 10\n"
     ]
    },
    {
     "data": {
      "text/plain": [
       "<pyomo.common.collections.component_set.ComponentSet at 0x1482d2b90>"
      ]
     },
     "execution_count": 4,
     "metadata": {},
     "output_type": "execute_result"
    }
   ],
   "source": [
    "dh.check_residuals(tol=0.1)"
   ]
  },
  {
   "cell_type": "markdown",
   "metadata": {},
   "source": [
    "### Identify all variables within 1 of their bounds"
   ]
  },
  {
   "cell_type": "code",
   "execution_count": 5,
   "metadata": {},
   "outputs": [
    {
     "name": "stdout",
     "output_type": "stream",
     "text": [
      " \n",
      "No variables within 1.0 of their bounds.\n"
     ]
    },
    {
     "data": {
      "text/plain": [
       "<pyomo.common.collections.component_set.ComponentSet at 0x1483758d0>"
      ]
     },
     "execution_count": 5,
     "metadata": {},
     "output_type": "execute_result"
    }
   ],
   "source": [
    "dh.check_variable_bounds(tol=1.0)"
   ]
  },
  {
   "cell_type": "markdown",
   "metadata": {},
   "source": [
    "### Solve the optimization problem"
   ]
  },
  {
   "cell_type": "code",
   "execution_count": 6,
   "metadata": {},
   "outputs": [
    {
     "name": "stdout",
     "output_type": "stream",
     "text": [
      "Ipopt 3.13.2: max_iter=50\n",
      "\n",
      "\n",
      "******************************************************************************\n",
      "This program contains Ipopt, a library for large-scale nonlinear optimization.\n",
      " Ipopt is released as open source code under the Eclipse Public License (EPL).\n",
      "         For more information visit http://projects.coin-or.org/Ipopt\n",
      "******************************************************************************\n",
      "\n",
      "This is Ipopt version 3.13.2, running with linear solver ma27.\n",
      "\n",
      "Number of nonzeros in equality constraint Jacobian...:        3\n",
      "Number of nonzeros in inequality constraint Jacobian.:        6\n",
      "Number of nonzeros in Lagrangian Hessian.............:        7\n",
      "\n",
      "Total number of variables............................:        5\n",
      "                     variables with only lower bounds:        0\n",
      "                variables with lower and upper bounds:        5\n",
      "                     variables with only upper bounds:        0\n",
      "Total number of equality constraints.................:        1\n",
      "Total number of inequality constraints...............:        2\n",
      "        inequality constraints with only lower bounds:        2\n",
      "   inequality constraints with lower and upper bounds:        0\n",
      "        inequality constraints with only upper bounds:        0\n",
      "\n",
      "iter    objective    inf_pr   inf_du lg(mu)  ||d||  lg(rg) alpha_du alpha_pr  ls\n",
      "   0  5.0000000e+00 9.00e+00 2.00e+00  -1.0 0.00e+00    -  0.00e+00 0.00e+00   0\n",
      "   1  5.5940309e+00 8.19e+00 2.58e+00  -1.0 4.12e+00    -  3.29e-01 9.99e-02h  1\n",
      "   2  4.3446689e+01 2.13e+00 2.10e+00  -1.0 3.67e+00    -  7.64e-01 1.00e+00h  1\n",
      "   3  5.0854561e+01 6.80e-01 1.02e+00  -1.0 1.02e+00   0.0 9.34e-01 1.00e+00h  1\n",
      "   4  4.9204340e+01 4.73e-01 1.26e+00  -1.0 1.78e+00    -  1.00e+00 1.00e+00f  1\n",
      "   5  4.8955163e+01 9.44e-01 1.57e+00  -1.0 4.62e+00  -0.5 1.00e+00 3.51e-01f  2\n",
      "   6  4.5850988e+01 8.92e-01 1.56e+00  -1.0 2.14e+00  -0.1 1.00e+00 7.67e-01f  1\n",
      "   7  4.5704084e+01 1.19e+00 1.75e+00  -1.0 4.73e+00    -  1.00e+00 2.50e-01f  3\n",
      "   8  4.5331671e+01 1.31e+00 3.01e+00  -1.0 1.56e+01    -  7.20e-01 5.98e-02f  4\n",
      "   9  4.1480725e+01 7.76e-03 1.98e-01  -1.0 4.94e-01    -  1.00e+00 1.00e+00f  1\n",
      "iter    objective    inf_pr   inf_du lg(mu)  ||d||  lg(rg) alpha_du alpha_pr  ls\n",
      "  10  4.1177584e+01 1.30e-03 8.56e-03  -2.5 1.48e-01    -  1.00e+00 1.00e+00f  1\n",
      "  11  4.1157407e+01 7.91e-06 1.09e-05  -3.8 9.88e-03    -  1.00e+00 1.00e+00h  1\n",
      "  12  4.1157067e+01 2.59e-10 1.57e-09  -5.7 1.30e-04    -  1.00e+00 1.00e+00h  1\n",
      "  13  4.1157063e+01 2.24e-14 1.63e-13  -8.6 1.52e-06    -  1.00e+00 1.00e+00h  1\n",
      "\n",
      "Number of Iterations....: 13\n",
      "\n",
      "                                   (scaled)                 (unscaled)\n",
      "Objective...............:   4.1157063321491172e+01    4.1157063321491172e+01\n",
      "Dual infeasibility......:   1.6278818285040336e-13    1.6278818285040336e-13\n",
      "Constraint violation....:   2.2426505097428162e-14    2.2426505097428162e-14\n",
      "Complementarity.........:   2.5065697306197698e-09    2.5065697306197698e-09\n",
      "Overall NLP error.......:   2.5065697306197698e-09    2.5065697306197698e-09\n",
      "\n",
      "\n",
      "Number of objective function evaluations             = 24\n",
      "Number of objective gradient evaluations             = 14\n",
      "Number of equality constraint evaluations            = 24\n",
      "Number of inequality constraint evaluations          = 24\n",
      "Number of equality constraint Jacobian evaluations   = 14\n",
      "Number of inequality constraint Jacobian evaluations = 14\n",
      "Number of Lagrangian Hessian evaluations             = 13\n",
      "Total CPU secs in IPOPT (w/o function evaluations)   =      0.004\n",
      "Total CPU secs in NLP function evaluations           =      0.000\n",
      "\n",
      "EXIT: Optimal Solution Found.\n"
     ]
    },
    {
     "data": {
      "text/plain": [
       "{'Problem': [{'Lower bound': -inf, 'Upper bound': inf, 'Number of objectives': 1, 'Number of constraints': 3, 'Number of variables': 5, 'Sense': 'unknown'}], 'Solver': [{'Status': 'ok', 'Message': 'Ipopt 3.13.2\\\\x3a Optimal Solution Found', 'Termination condition': 'optimal', 'Id': 0, 'Error rc': 0, 'Time': 0.036622047424316406}], 'Solution': [OrderedDict([('number of solutions', 0), ('number of solutions displayed', 0)])]}"
      ]
     },
     "execution_count": 6,
     "metadata": {},
     "output_type": "execute_result"
    }
   ],
   "source": [
    "opt.options['max_iter'] = 50\n",
    "opt.solve(m, tee=True)"
   ]
  },
  {
   "cell_type": "markdown",
   "metadata": {},
   "source": [
    "### Check if any constraint residuals are large than 1E-14"
   ]
  },
  {
   "cell_type": "code",
   "execution_count": 7,
   "metadata": {},
   "outputs": [
    {
     "name": "stdout",
     "output_type": "stream",
     "text": [
      " \n",
      "All constraints with residuals larger than 1e-14 :\n",
      "\n",
      "count = 0 \t|residual| = 9.97185747309004e-08\n",
      "con1 : Size=1, Index=None, Active=True\n",
      "    Key  : Lower : Body               : Upper : Active\n",
      "    None :  10.0 : x[0] + x[1] - x[3] :  +Inf :   True\n",
      "variable\tlower\tvalue\tupper\n",
      "x[0] \t\t -10 \t 1.4516741106008322 \t 10\n",
      "x[1] \t\t -10 \t 5.061595738300216 \t 10\n",
      "x[3] \t\t -10 \t -3.4867300513803765 \t 10\n",
      "\n",
      "count = 1 \t|residual| = 7.942586144338293e-09\n",
      "con2 : Size=1, Index=None, Active=True\n",
      "    Key  : Lower : Body             : Upper : Active\n",
      "    None :   0.0 : x[0]*x[3] + x[1] :  +Inf :   True\n",
      "variable\tlower\tvalue\tupper\n",
      "x[1] \t\t -10 \t 5.061595738300216 \t 10\n",
      "x[0] \t\t -10 \t 1.4516741106008322 \t 10\n",
      "x[3] \t\t -10 \t -3.4867300513803765 \t 10\n",
      "\n",
      "count = 2 \t|residual| = 2.2426505097428162e-14\n",
      "con3 : Size=1, Index=None, Active=True\n",
      "    Key  : Lower : Body                         : Upper : Active\n",
      "    None :   0.0 : x[4]*x[3] + x[0]*x[3] - x[4] :   0.0 :   True\n",
      "variable\tlower\tvalue\tupper\n",
      "x[4] \t\t -10 \t -1.128125759356881 \t 10\n",
      "x[3] \t\t -10 \t -3.4867300513803765 \t 10\n",
      "x[0] \t\t -10 \t 1.4516741106008322 \t 10\n"
     ]
    },
    {
     "data": {
      "text/plain": [
       "<pyomo.common.collections.component_set.ComponentSet at 0x148375c50>"
      ]
     },
     "execution_count": 7,
     "metadata": {},
     "output_type": "execute_result"
    }
   ],
   "source": [
    "dh.check_residuals(tol=1E-14)"
   ]
  },
  {
   "cell_type": "markdown",
   "metadata": {},
   "source": [
    "### Identify all variables within 10$^{-5}$ of their bounds"
   ]
  },
  {
   "cell_type": "code",
   "execution_count": 8,
   "metadata": {},
   "outputs": [
    {
     "name": "stdout",
     "output_type": "stream",
     "text": [
      " \n",
      "No variables within 1e-05 of their bounds.\n"
     ]
    },
    {
     "data": {
      "text/plain": [
       "<pyomo.common.collections.component_set.ComponentSet at 0x1482478d0>"
      ]
     },
     "execution_count": 8,
     "metadata": {},
     "output_type": "execute_result"
    }
   ],
   "source": [
    "dh.check_variable_bounds(tol=1E-5)"
   ]
  },
  {
   "cell_type": "markdown",
   "metadata": {},
   "source": [
    "### Check the rank of the constraint Jacobian at the solution"
   ]
  },
  {
   "cell_type": "code",
   "execution_count": 9,
   "metadata": {},
   "outputs": [
    {
     "name": "stdout",
     "output_type": "stream",
     "text": [
      "\n",
      "Checking rank of Jacobian of equality constraints...\n"
     ]
    },
    {
     "ename": "ValueError",
     "evalue": "k must be between 1 and min(A.shape), k=0",
     "output_type": "error",
     "traceback": [
      "\u001b[0;31m---------------------------------------------------------------------------\u001b[0m",
      "\u001b[0;31mValueError\u001b[0m                                Traceback (most recent call last)",
      "\u001b[0;32m<ipython-input-9-e3052bd05d7a>\u001b[0m in \u001b[0;36m<module>\u001b[0;34m\u001b[0m\n\u001b[0;32m----> 1\u001b[0;31m \u001b[0mdh\u001b[0m\u001b[0;34m.\u001b[0m\u001b[0mcheck_rank_equality_constraints\u001b[0m\u001b[0;34m(\u001b[0m\u001b[0;34m)\u001b[0m\u001b[0;34m\u001b[0m\u001b[0;34m\u001b[0m\u001b[0m\n\u001b[0m",
      "\u001b[0;32m~/DowlingLab/IDAES/idaes-pse/idaes/core/util/model_diagnostics.py\u001b[0m in \u001b[0;36mcheck_rank_equality_constraints\u001b[0;34m(self)\u001b[0m\n\u001b[1;32m    233\u001b[0m \u001b[0;34m\u001b[0m\u001b[0m\n\u001b[1;32m    234\u001b[0m         \u001b[0;32mif\u001b[0m \u001b[0mself\u001b[0m\u001b[0;34m.\u001b[0m\u001b[0ms\u001b[0m \u001b[0;32mis\u001b[0m \u001b[0;32mNone\u001b[0m\u001b[0;34m:\u001b[0m\u001b[0;34m\u001b[0m\u001b[0;34m\u001b[0m\u001b[0m\n\u001b[0;32m--> 235\u001b[0;31m             \u001b[0mself\u001b[0m\u001b[0;34m.\u001b[0m\u001b[0msvd_analysis\u001b[0m\u001b[0;34m(\u001b[0m\u001b[0;34m)\u001b[0m\u001b[0;34m\u001b[0m\u001b[0;34m\u001b[0m\u001b[0m\n\u001b[0m\u001b[1;32m    236\u001b[0m \u001b[0;34m\u001b[0m\u001b[0m\n\u001b[1;32m    237\u001b[0m         \u001b[0mn\u001b[0m \u001b[0;34m=\u001b[0m \u001b[0mlen\u001b[0m\u001b[0;34m(\u001b[0m\u001b[0mself\u001b[0m\u001b[0;34m.\u001b[0m\u001b[0ms\u001b[0m\u001b[0;34m)\u001b[0m\u001b[0;34m\u001b[0m\u001b[0;34m\u001b[0m\u001b[0m\n",
      "\u001b[0;32m~/DowlingLab/IDAES/idaes-pse/idaes/core/util/model_diagnostics.py\u001b[0m in \u001b[0;36msvd_analysis\u001b[0;34m(self, n_smallest_sv)\u001b[0m\n\u001b[1;32m    496\u001b[0m         \u001b[0;31m# (U or V may be smaller in economy mode)\u001b[0m\u001b[0;34m\u001b[0m\u001b[0;34m\u001b[0m\u001b[0;34m\u001b[0m\u001b[0m\n\u001b[1;32m    497\u001b[0m         \u001b[0;31m# Thus we really only care about U\u001b[0m\u001b[0;34m\u001b[0m\u001b[0;34m\u001b[0m\u001b[0;34m\u001b[0m\u001b[0m\n\u001b[0;32m--> 498\u001b[0;31m         \u001b[0mu\u001b[0m\u001b[0;34m,\u001b[0m \u001b[0ms\u001b[0m\u001b[0;34m,\u001b[0m \u001b[0mv\u001b[0m \u001b[0;34m=\u001b[0m \u001b[0msvds\u001b[0m\u001b[0;34m(\u001b[0m\u001b[0mself\u001b[0m\u001b[0;34m.\u001b[0m\u001b[0mjac_eq\u001b[0m\u001b[0;34m,\u001b[0m \u001b[0mk\u001b[0m \u001b[0;34m=\u001b[0m \u001b[0mn_sv\u001b[0m\u001b[0;34m,\u001b[0m \u001b[0mwhich\u001b[0m\u001b[0;34m=\u001b[0m\u001b[0;34m'SM'\u001b[0m\u001b[0;34m)\u001b[0m\u001b[0;34m\u001b[0m\u001b[0;34m\u001b[0m\u001b[0m\n\u001b[0m\u001b[1;32m    499\u001b[0m \u001b[0;34m\u001b[0m\u001b[0m\n\u001b[1;32m    500\u001b[0m         \u001b[0;31m# Save results\u001b[0m\u001b[0;34m\u001b[0m\u001b[0;34m\u001b[0m\u001b[0;34m\u001b[0m\u001b[0m\n",
      "\u001b[0;32m/anaconda3/envs/idaes-pse/lib/python3.7/site-packages/scipy/sparse/linalg/eigen/arpack/arpack.py\u001b[0m in \u001b[0;36msvds\u001b[0;34m(A, k, ncv, tol, which, v0, maxiter, return_singular_vectors, solver)\u001b[0m\n\u001b[1;32m   1815\u001b[0m \u001b[0;34m\u001b[0m\u001b[0m\n\u001b[1;32m   1816\u001b[0m     \u001b[0;32mif\u001b[0m \u001b[0mk\u001b[0m \u001b[0;34m<=\u001b[0m \u001b[0;36m0\u001b[0m \u001b[0;32mor\u001b[0m \u001b[0mk\u001b[0m \u001b[0;34m>=\u001b[0m \u001b[0mmin\u001b[0m\u001b[0;34m(\u001b[0m\u001b[0mn\u001b[0m\u001b[0;34m,\u001b[0m \u001b[0mm\u001b[0m\u001b[0;34m)\u001b[0m\u001b[0;34m:\u001b[0m\u001b[0;34m\u001b[0m\u001b[0;34m\u001b[0m\u001b[0m\n\u001b[0;32m-> 1817\u001b[0;31m         \u001b[0;32mraise\u001b[0m \u001b[0mValueError\u001b[0m\u001b[0;34m(\u001b[0m\u001b[0;34m\"k must be between 1 and min(A.shape), k=%d\"\u001b[0m \u001b[0;34m%\u001b[0m \u001b[0mk\u001b[0m\u001b[0;34m)\u001b[0m\u001b[0;34m\u001b[0m\u001b[0;34m\u001b[0m\u001b[0m\n\u001b[0m\u001b[1;32m   1818\u001b[0m \u001b[0;34m\u001b[0m\u001b[0m\n\u001b[1;32m   1819\u001b[0m     \u001b[0;32mif\u001b[0m \u001b[0misinstance\u001b[0m\u001b[0;34m(\u001b[0m\u001b[0mA\u001b[0m\u001b[0;34m,\u001b[0m \u001b[0mLinearOperator\u001b[0m\u001b[0;34m)\u001b[0m\u001b[0;34m:\u001b[0m\u001b[0;34m\u001b[0m\u001b[0;34m\u001b[0m\u001b[0m\n",
      "\u001b[0;31mValueError\u001b[0m: k must be between 1 and min(A.shape), k=0"
     ]
    }
   ],
   "source": [
    "dh.check_rank_equality_constraints()"
   ]
  },
  {
   "cell_type": "markdown",
   "metadata": {},
   "source": [
    "## Example 2: Redundant Linear Constraints"
   ]
  },
  {
   "cell_type": "markdown",
   "metadata": {},
   "source": [
    "### Define"
   ]
  },
  {
   "cell_type": "code",
   "execution_count": 10,
   "metadata": {},
   "outputs": [
    {
     "name": "stdout",
     "output_type": "stream",
     "text": [
      "1 Set Declarations\n",
      "    I : Size=1, Index=None, Ordered=Insertion\n",
      "        Key  : Dimen : Domain : Size : Members\n",
      "        None :     1 :    Any :    3 : {1, 2, 3}\n",
      "\n",
      "1 Var Declarations\n",
      "    x : Size=3, Index=I\n",
      "        Key : Lower : Value : Upper : Fixed : Stale : Domain\n",
      "          1 :     0 :   1.0 :     5 : False : False :  Reals\n",
      "          2 :     0 :   1.0 :     5 : False : False :  Reals\n",
      "          3 :     0 :   1.0 :     5 : False : False :  Reals\n",
      "\n",
      "1 Objective Declarations\n",
      "    obj : Size=1, Index=None, Active=True\n",
      "        Key  : Active : Sense    : Expression\n",
      "        None :   True : minimize : x[1] + x[2] + x[3]\n",
      "\n",
      "5 Constraint Declarations\n",
      "    con1 : Size=1, Index=None, Active=True\n",
      "        Key  : Lower : Body        : Upper : Active\n",
      "        None :   1.0 : x[1] + x[2] :  +Inf :   True\n",
      "    con2 : Size=1, Index=None, Active=True\n",
      "        Key  : Lower : Body               : Upper : Active\n",
      "        None :   1.0 : x[1] + x[2] + x[3] :   1.0 :   True\n",
      "    con3 : Size=1, Index=None, Active=True\n",
      "        Key  : Lower : Body          : Upper : Active\n",
      "        None :  -Inf : x[2] - 2*x[3] :   1.0 :   True\n",
      "    con4 : Size=1, Index=None, Active=True\n",
      "        Key  : Lower : Body        : Upper : Active\n",
      "        None :   1.0 : x[1] + x[3] :  +Inf :   True\n",
      "    con5 : Size=1, Index=None, Active=True\n",
      "        Key  : Lower : Body               : Upper : Active\n",
      "        None :   1.0 : x[1] + x[2] + x[3] :   1.0 :   True\n",
      "\n",
      "8 Declarations: I x con1 con2 con3 con4 con5 obj\n"
     ]
    }
   ],
   "source": [
    "m = ConcreteModel()\n",
    "\n",
    "m.I = Set(initialize=[i for i in range(1,4)])\n",
    "\n",
    "m.x = Var(m.I,bounds=(0,5),initialize=1.0)\n",
    "\n",
    "m.con1 = Constraint(expr=m.x[1] + m.x[2] >= 1)\n",
    "m.con2 = Constraint(expr=m.x[1] + m.x[2] + m.x[3] == 1)\n",
    "m.con3 = Constraint(expr=m.x[2] - 2*m.x[3] <= 1)\n",
    "m.con4 = Constraint(expr=m.x[1] + m.x[3] >= 1)\n",
    "m.con5 = Constraint(expr=m.x[1] + m.x[2] + m.x[3] == 1)\n",
    "\n",
    "m.obj = Objective(expr=sum(m.x[i] for i in m.I))\n",
    "\n",
    "m.pprint()"
   ]
  },
  {
   "cell_type": "markdown",
   "metadata": {},
   "source": [
    "### Evaluate the initial point"
   ]
  },
  {
   "cell_type": "code",
   "execution_count": 11,
   "metadata": {},
   "outputs": [
    {
     "name": "stdout",
     "output_type": "stream",
     "text": [
      "Ipopt 3.13.2: max_iter=0\n",
      "\n",
      "\n",
      "******************************************************************************\n",
      "This program contains Ipopt, a library for large-scale nonlinear optimization.\n",
      " Ipopt is released as open source code under the Eclipse Public License (EPL).\n",
      "         For more information visit http://projects.coin-or.org/Ipopt\n",
      "******************************************************************************\n",
      "\n",
      "This is Ipopt version 3.13.2, running with linear solver ma27.\n",
      "\n",
      "Number of nonzeros in equality constraint Jacobian...:        6\n",
      "Number of nonzeros in inequality constraint Jacobian.:        6\n",
      "Number of nonzeros in Lagrangian Hessian.............:        0\n",
      "\n",
      "Total number of variables............................:        3\n",
      "                     variables with only lower bounds:        0\n",
      "                variables with lower and upper bounds:        3\n",
      "                     variables with only upper bounds:        0\n",
      "Total number of equality constraints.................:        2\n",
      "Total number of inequality constraints...............:        3\n",
      "        inequality constraints with only lower bounds:        2\n",
      "   inequality constraints with lower and upper bounds:        0\n",
      "        inequality constraints with only upper bounds:        1\n",
      "\n",
      "iter    objective    inf_pr   inf_du lg(mu)  ||d||  lg(rg) alpha_du alpha_pr  ls\n",
      "   0  3.0000000e+00 2.00e+00 1.00e+00  -1.0 0.00e+00    -  0.00e+00 0.00e+00   0\n",
      "\n",
      "Number of Iterations....: 0\n",
      "\n",
      "                                   (scaled)                 (unscaled)\n",
      "Objective...............:   3.0000000000000000e+00    3.0000000000000000e+00\n",
      "Dual infeasibility......:   1.0000000000000000e+00    1.0000000000000000e+00\n",
      "Constraint violation....:   2.0000000000000000e+00    2.0000000000000000e+00\n",
      "Complementarity.........:   4.0000000499999997e+00    4.0000000499999997e+00\n",
      "Overall NLP error.......:   4.0000000499999997e+00    4.0000000499999997e+00\n",
      "\n",
      "\n",
      "Number of objective function evaluations             = 1\n",
      "Number of objective gradient evaluations             = 1\n",
      "Number of equality constraint evaluations            = 1\n",
      "Number of inequality constraint evaluations          = 1\n",
      "Number of equality constraint Jacobian evaluations   = 1\n",
      "Number of inequality constraint Jacobian evaluations = 1\n",
      "Number of Lagrangian Hessian evaluations             = 0\n",
      "Total CPU secs in IPOPT (w/o function evaluations)   =      0.000\n",
      "Total CPU secs in NLP function evaluations           =      0.000\n",
      "\n",
      "EXIT: Maximum Number of Iterations Exceeded.\n",
      "WARNING: Loading a SolverResults object with a warning status into\n",
      "    model.name=\"unknown\";\n",
      "      - termination condition: maxIterations\n",
      "      - message from solver: Ipopt 3.13.2\\x3a Maximum Number of Iterations\n",
      "          Exceeded.\n"
     ]
    }
   ],
   "source": [
    "# Specifying an iteration limit of 0 allows us to inspect the initial point\n",
    "opt.options['max_iter'] = 0\n",
    "\n",
    "# \"Solving\" the model with an iteration limit of 0 load the initial point and applies\n",
    "# any preprocessors (e.g., enforces bounds)\n",
    "opt.solve(m, tee=True)\n",
    "\n",
    "# Create Degeneracy Hunter object\n",
    "dh = DegeneracyHunter(m)"
   ]
  },
  {
   "cell_type": "markdown",
   "metadata": {},
   "source": [
    "### Identify constraints with residuals greater than 1"
   ]
  },
  {
   "cell_type": "code",
   "execution_count": 12,
   "metadata": {},
   "outputs": [
    {
     "name": "stdout",
     "output_type": "stream",
     "text": [
      " \n",
      "All constraints with residuals larger than 0.1 :\n",
      "\n",
      "count = 0 \t|residual| = 2.0\n",
      "con2 : Size=1, Index=None, Active=True\n",
      "    Key  : Lower : Body               : Upper : Active\n",
      "    None :   1.0 : x[1] + x[2] + x[3] :   1.0 :   True\n",
      "variable\tlower\tvalue\tupper\n",
      "x[1] \t\t 0 \t 1.0 \t 5\n",
      "x[2] \t\t 0 \t 1.0 \t 5\n",
      "x[3] \t\t 0 \t 1.0 \t 5\n",
      "\n",
      "count = 1 \t|residual| = 2.0\n",
      "con5 : Size=1, Index=None, Active=True\n",
      "    Key  : Lower : Body               : Upper : Active\n",
      "    None :   1.0 : x[1] + x[2] + x[3] :   1.0 :   True\n",
      "variable\tlower\tvalue\tupper\n",
      "x[1] \t\t 0 \t 1.0 \t 5\n",
      "x[2] \t\t 0 \t 1.0 \t 5\n",
      "x[3] \t\t 0 \t 1.0 \t 5\n"
     ]
    },
    {
     "data": {
      "text/plain": [
       "<pyomo.common.collections.component_set.ComponentSet at 0x1483b4b90>"
      ]
     },
     "execution_count": 12,
     "metadata": {},
     "output_type": "execute_result"
    }
   ],
   "source": [
    "dh.check_residuals(tol=0.1)"
   ]
  },
  {
   "cell_type": "markdown",
   "metadata": {},
   "source": [
    "### Solve the optimization problem and extract the solution"
   ]
  },
  {
   "cell_type": "code",
   "execution_count": 13,
   "metadata": {},
   "outputs": [
    {
     "name": "stdout",
     "output_type": "stream",
     "text": [
      "Ipopt 3.13.2: max_iter=50\n",
      "\n",
      "\n",
      "******************************************************************************\n",
      "This program contains Ipopt, a library for large-scale nonlinear optimization.\n",
      " Ipopt is released as open source code under the Eclipse Public License (EPL).\n",
      "         For more information visit http://projects.coin-or.org/Ipopt\n",
      "******************************************************************************\n",
      "\n",
      "This is Ipopt version 3.13.2, running with linear solver ma27.\n",
      "\n",
      "Number of nonzeros in equality constraint Jacobian...:        6\n",
      "Number of nonzeros in inequality constraint Jacobian.:        6\n",
      "Number of nonzeros in Lagrangian Hessian.............:        0\n",
      "\n",
      "Total number of variables............................:        3\n",
      "                     variables with only lower bounds:        0\n",
      "                variables with lower and upper bounds:        3\n",
      "                     variables with only upper bounds:        0\n",
      "Total number of equality constraints.................:        2\n",
      "Total number of inequality constraints...............:        3\n",
      "        inequality constraints with only lower bounds:        2\n",
      "   inequality constraints with lower and upper bounds:        0\n",
      "        inequality constraints with only upper bounds:        1\n",
      "\n",
      "iter    objective    inf_pr   inf_du lg(mu)  ||d||  lg(rg) alpha_du alpha_pr  ls\n",
      "   0  3.0000000e+00 2.00e+00 1.00e+00  -1.0 0.00e+00    -  0.00e+00 0.00e+00   0\n",
      "   1  1.3934810e+00 3.93e-01 2.17e-01  -1.0 1.23e+00    -  7.90e-01 8.03e-01h  1\n",
      "   2  1.0184419e+00 1.84e-02 1.26e-02  -1.7 7.02e-01    -  9.41e-01 9.53e-01h  1\n",
      "   3  1.0011246e+00 1.12e-03 3.82e-02  -2.5 1.50e-02    -  1.00e+00 9.39e-01h  1\n",
      "   4  1.0006914e+00 6.91e-04 3.12e+00  -2.5 3.17e-03    -  1.00e+00 3.85e-01h  1\n",
      "   5  1.0002664e+00 2.66e-04 4.35e+00  -2.5 1.12e-03    -  1.00e+00 6.15e-01h  1\n",
      "   6  1.0001115e+00 1.12e-04 1.07e+01  -2.5 4.99e-04    -  1.00e+00 5.82e-01h  1\n",
      "   7  1.0000788e+00 7.88e-05 4.33e+01  -2.5 1.88e-04    -  1.00e+00 2.94e-01f  2\n",
      "   8  1.0000153e+00 1.53e-05 2.19e+01  -2.5 6.85e-05    -  1.00e+00 8.08e-01h  1\n",
      "   9  1.0000118e+00 1.18e-05 2.78e+02  -2.5 3.47e-05    -  1.00e+00 2.45e-01f  2\n",
      "iter    objective    inf_pr   inf_du lg(mu)  ||d||  lg(rg) alpha_du alpha_pr  ls\n",
      "  10  1.0000014e+00 1.44e-06 2.83e-08  -2.5 7.79e-06    -  1.00e+00 1.00e+00h  1\n",
      "  11  1.0000000e+00 1.39e-09 1.84e-11  -5.7 2.56e-06    -  1.00e+00 1.00e+00h  1\n",
      "  12  1.0000000e+00 1.39e-09 1.24e+02  -8.6 1.16e-08    -  1.00e+00 9.54e-07h 21\n",
      "  13  9.9999999e-01 9.82e-09 1.14e-13  -8.6 1.33e-08    -  1.00e+00 1.00e+00s 22\n",
      "  14  9.9999999e-01 9.96e-09 6.46e-14  -8.6 2.29e-10    -  1.00e+00 1.00e+00s 22\n",
      "  15  9.9999999e-01 9.96e-09 1.82e+02  -9.0 4.00e-11    -  1.00e+00 9.54e-07h 21\n",
      "  16  9.9999999e-01 1.00e-08 1.52e-13  -9.0 5.89e-11    -  1.00e+00 1.00e+00s 22\n",
      "\n",
      "Number of Iterations....: 16\n",
      "\n",
      "                                   (scaled)                 (unscaled)\n",
      "Objective...............:   9.9999999000238915e-01    9.9999999000238915e-01\n",
      "Dual infeasibility......:   1.5188693260016487e-13    1.5188693260016487e-13\n",
      "Constraint violation....:   9.9976108502985994e-09    9.9976108502985994e-09\n",
      "Complementarity.........:   9.2217032157601989e-10    9.2217032157601989e-10\n",
      "Overall NLP error.......:   9.9976108502985994e-09    9.9976108502985994e-09\n",
      "\n",
      "\n",
      "Number of objective function evaluations             = 111\n",
      "Number of objective gradient evaluations             = 17\n",
      "Number of equality constraint evaluations            = 111\n",
      "Number of inequality constraint evaluations          = 111\n",
      "Number of equality constraint Jacobian evaluations   = 17\n",
      "Number of inequality constraint Jacobian evaluations = 17\n",
      "Number of Lagrangian Hessian evaluations             = 16\n",
      "Total CPU secs in IPOPT (w/o function evaluations)   =      0.006\n",
      "Total CPU secs in NLP function evaluations           =      0.000\n",
      "\n",
      "EXIT: Optimal Solution Found.\n",
      "x[ 1 ]= 1.0000000099975996\n",
      "x[ 2 ]= 0.0\n",
      "x[ 3 ]= 0.0\n"
     ]
    }
   ],
   "source": [
    "opt.options['max_iter'] = 50\n",
    "opt.solve(m, tee=True)\n",
    "\n",
    "for i in m.I:\n",
    "    print(\"x[\",i,\"]=\",m.x[i]())"
   ]
  },
  {
   "cell_type": "markdown",
   "metadata": {},
   "source": [
    "### Check the rank of the Jacobian of the equality constraints"
   ]
  },
  {
   "cell_type": "code",
   "execution_count": 14,
   "metadata": {},
   "outputs": [
    {
     "name": "stdout",
     "output_type": "stream",
     "text": [
      "\n",
      "Checking rank of Jacobian of equality constraints...\n",
      "Smallest singular value(s):\n",
      "0.000E+00\n"
     ]
    }
   ],
   "source": [
    "dh.check_rank_equality_constraints()"
   ]
  },
  {
   "cell_type": "markdown",
   "metadata": {},
   "source": [
    "### Identify candidate degenerate constraints"
   ]
  },
  {
   "cell_type": "code",
   "execution_count": 15,
   "metadata": {},
   "outputs": [
    {
     "name": "stdout",
     "output_type": "stream",
     "text": [
      "*** Searching for a Single Degenerate Set ***\n",
      "Building MILP model...\n",
      "Solving MILP model...\n",
      "Using license file /Users/adowling/gurobi.lic\n",
      "Academic license - for non-commercial use only\n",
      "Read LP format model from file /var/folders/xy/24xvnyss36v3d8mw68tygxdw0000gp/T/tmpb69f7vyh.pyomo.lp\n",
      "Reading time = 0.00 seconds\n",
      "x9: 17 rows, 9 columns, 35 nonzeros\n",
      "Changed value of parameter NumericFocus to 3\n",
      "   Prev: 0  Min: 0  Max: 3  Default: 0\n",
      "Gurobi Optimizer version 9.0.2 build v9.0.2rc0 (mac64)\n",
      "Optimize a model with 17 rows, 9 columns and 35 nonzeros\n",
      "Model fingerprint: 0x5add6450\n",
      "Variable types: 5 continuous, 4 integer (4 binary)\n",
      "Coefficient statistics:\n",
      "  Matrix range     [2e-05, 1e+05]\n",
      "  Objective range  [1e+00, 1e+00]\n",
      "  Bounds range     [1e+00, 1e+05]\n",
      "  RHS range        [1e-05, 1e+00]\n",
      "Presolve removed 10 rows and 3 columns\n",
      "Presolve time: 0.01s\n",
      "Presolved: 7 rows, 6 columns, 16 nonzeros\n",
      "Variable types: 2 continuous, 4 integer (4 binary)\n",
      "Found heuristic solution: objective 0.0000200\n",
      "\n",
      "Root relaxation: objective 0.000000e+00, 4 iterations, 0.00 seconds\n",
      "\n",
      "    Nodes    |    Current Node    |     Objective Bounds      |     Work\n",
      " Expl Unexpl |  Obj  Depth IntInf | Incumbent    BestBd   Gap | It/Node Time\n",
      "\n",
      "     0     0    0.00000    0    2    0.00002    0.00000   100%     -    0s\n",
      "H    0     0                       0.0000200    0.00000   100%     -    0s\n",
      "     0     1    0.00000    0    2    0.00002    0.00000   100%     -    0s\n",
      "\n",
      "Explored 2 nodes (8 simplex iterations) in 0.03 seconds\n",
      "Thread count was 6 (of 6 available processors)\n",
      "\n",
      "Solution count 2: 2e-05 2.00001e-05 \n",
      "\n",
      "Optimal solution found (tolerance 1.00e-04)\n",
      "Best objective 2.000000000000e-05, best bound 2.000000000000e-05, gap 0.0000%\n"
     ]
    }
   ],
   "source": [
    "ds = dh.find_candidate_equations(verbose=True,tee=True)"
   ]
  },
  {
   "cell_type": "markdown",
   "metadata": {},
   "source": [
    "### Find irreducible degenerate sets (IDS)"
   ]
  },
  {
   "cell_type": "code",
   "execution_count": 16,
   "metadata": {},
   "outputs": [
    {
     "name": "stdout",
     "output_type": "stream",
     "text": [
      "*** Searching for Irreducible Degenerate Sets ***\n",
      "Building MILP model...\n",
      "Solving MILP 1 of 2 ...\n",
      "Solving MILP 2 of 2 ...\n",
      "\n",
      "Irreducible Degenerate Set 0\n",
      "nu\tConstraint Name\n",
      "1.0 \t con2\n",
      "-1.0 \t con5\n",
      "\n",
      "Irreducible Degenerate Set 1\n",
      "nu\tConstraint Name\n",
      "-1.0 \t con2\n",
      "1.0 \t con5\n"
     ]
    }
   ],
   "source": [
    "ids = dh.find_irreducible_degenerate_sets(verbose=True)"
   ]
  },
  {
   "cell_type": "code",
   "execution_count": null,
   "metadata": {},
   "outputs": [],
   "source": []
  }
 ],
 "metadata": {
  "kernelspec": {
   "display_name": "Python 3",
   "language": "python",
   "name": "python3"
  },
  "language_info": {
   "codemirror_mode": {
    "name": "ipython",
    "version": 3
   },
   "file_extension": ".py",
   "mimetype": "text/x-python",
   "name": "python",
   "nbconvert_exporter": "python",
   "pygments_lexer": "ipython3",
   "version": "3.7.9"
  }
 },
 "nbformat": 4,
 "nbformat_minor": 4
}
