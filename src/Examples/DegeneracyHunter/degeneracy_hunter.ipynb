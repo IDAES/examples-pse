{
 "cells": [
  {
   "cell_type": "markdown",
   "metadata": {},
   "source": [
    "# Degeneracy Hunter Examples\n",
    "<br/> <br/>\n",
    "This notebook shows how to use the following Degeneracy Hunter features through several motivating examples:\n",
    "* Add features here\n",
    "\n",
    "## Conventions\n",
    "The typographic conventions used in this tutorial are as follows.\n",
    "\n",
    "Names of files will be in \"double quotes\", new terms will be in *italics*, and keywords and source code snippets will be in `fixed-width type`.\n",
    "\n",
    "Sections that offer additional detail that may be skipped are set off in blocks like this:\n",
    "<div class=\"alert alert-block alert-info\">\n",
    "    &#9998; <b>Details:</b>\n",
    "    Detailed information goes here...\n",
    "</div>\n",
    "   "
   ]
  },
  {
   "cell_type": "markdown",
   "metadata": {},
   "source": [
    "## Example 1: Linear Program with Equality Constraints\n"
   ]
  },
  {
   "cell_type": "code",
   "execution_count": null,
   "metadata": {},
   "outputs": [],
   "source": []
  }
 ],
 "metadata": {
  "kernelspec": {
   "display_name": "Python 3",
   "language": "python",
   "name": "python3"
  },
  "language_info": {
   "codemirror_mode": {
    "name": "ipython",
    "version": 3
   },
   "file_extension": ".py",
   "mimetype": "text/x-python",
   "name": "python",
   "nbconvert_exporter": "python",
   "pygments_lexer": "ipython3",
   "version": "3.7.9"
  }
 },
 "nbformat": 4,
 "nbformat_minor": 4
}
