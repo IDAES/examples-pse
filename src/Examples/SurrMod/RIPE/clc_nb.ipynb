{
 "cells": [
  {
   "cell_type": "markdown",
   "metadata": {},
   "source": [
    "Example from:\n",
    "\n",
    "Wilson, Zachary T., and Nikolaos V. Sahinidis. \"Automated learning of chemical reaction networks.\" Computers & Chemical Engineering 127 (2019): 88-98.\n",
    "https://doi.org/10.1016/j.compchemeng.2019.05.020\n",
    "\n",
    "Case 2: Dynamic Chemical Looping Combusion Reactor\n",
    "\n",
    "This is an example of a CLC reactor. The kinetic reaction rates encapsulate solid-gas reactions. The kinetic rate laws for this example are semi-physical or empirical to provide insights on the underlying physical mechanisms.\n",
    "\n",
    "The rate laws are often expressed in terms similar to\n",
    "\n",
    "$ \\frac{dX}{dT} = kA(X)g(F) $\n",
    "\n",
    "where $ A(X) $ is a mechanism-dependent activity term, and the function $ g(F) $ is a parametric function of processss conditions, typically in this case the partial pressure of methane used as a fuel.   \n"
   ]
  },
  {
   "cell_type": "code",
   "execution_count": 1,
   "metadata": {},
   "outputs": [],
   "source": [
    "# Imports and data\n",
    "\n",
    "from idaes.surrogate import ripe\n",
    "import numpy as np\n",
    "from idaes.surrogate.ripe import mechs as mechs\n",
    "\n",
    "\n",
    "np.random.seed(20)\n",
    "\n",
    "# Import data from csv\n",
    "data = np.genfromtxt('clc.csv', delimiter=',')\n",
    "t = data[:,0]\n",
    "xdata = data[:,1]\n",
    "\n",
    "# Stoichiometry \n",
    "# One species\n",
    "stoich = [1]\n"
   ]
  },
  {
   "cell_type": "markdown",
   "metadata": {},
   "source": [
    "We are going to use empirical pre-defined functions from RIPE, defined in the idaes.surrogate.ripe.mechs. The mechanisms depend on only one species for these pre-defined rate forms.\n",
    "\n",
    "Rate Equation                           | $ A(x) $\n",
    ":---                                    |                  :--- \n",
    "Random Nucleation                       | $ 1-x $ \n",
    "Power law $n = 2/3, 1.5, 2, 3, 4 $      | $ nx^{(n-1/n)} $\n",
    "Avrami-Erofeev $ n = 0.5, 1.5, 2, 3, 4$ | $ n(1-x)(-log(1-x))^{(n-1/n)} $\n",
    "Prout Tompkins                          | $ x(x-1) $\n",
    "Jander                                  | $ 3(1-x)^{1/3} (1/(1+x)^{((-1/3)-1)}) $\n",
    "Antijander                              | $ 3/2(1-x)^{(2/3)}(1/(1+x)^{((-1/3)-1)}) $\n",
    "Valensi                                 | $ 1/(-log(1-x)) $\n",
    "Parabolic                               | $ 1/2x $\n",
    "Ginstling-Brountstein diffusion-3d      | $ (3/2)(1-x)^{(4/3)}/((1-x)^{(-1/3)}-1) $\n",
    "Zhuralev-Leshokin-Tempelman             | $ (3/2)/((1-x)^{(-1/3)}-1) $\n",
    "Grain model                             | $ (1-x)^{(2/3)} $\n",
    "\n",
    "\n",
    "\n"
   ]
  },
  {
   "cell_type": "code",
   "execution_count": 2,
   "metadata": {},
   "outputs": [],
   "source": [
    "# User pre-defined clc rate forms found in RIPE\n",
    "# mechs = ripe.clcforms\n",
    "clc_mechs = [mechs.randomnuc, \n",
    "             mechs.powerlawp5, \n",
    "             mechs.powerlaw2, \n",
    "             mechs.powerlaw3, \n",
    "             mechs.powerlaw4, \n",
    "             mechs.avrami2, \n",
    "             mechs.avrami3, \n",
    "             mechs.avrami4, \n",
    "             mechs.avrami5, \n",
    "             mechs.ptompkins, \n",
    "             mechs.jander, \n",
    "             mechs.antijander, \n",
    "             mechs.valensi,\n",
    "             mechs.parabolic, \n",
    "             mechs.gb3d, \n",
    "             mechs.zlt, \n",
    "             mechs.grain]"
   ]
  },
  {
   "cell_type": "markdown",
   "metadata": {},
   "source": [
    "All that is left is to run the ripe modeler:"
   ]
  },
  {
   "cell_type": "code",
   "execution_count": 3,
   "metadata": {},
   "outputs": [
    {
     "ename": "FileNotFoundError",
     "evalue": "[Errno 2] No such file or directory: 'temptrace.trc'",
     "output_type": "error",
     "traceback": [
      "\u001b[1;31m---------------------------------------------------------------------------\u001b[0m",
      "\u001b[1;31mFileNotFoundError\u001b[0m                         Traceback (most recent call last)",
      "\u001b[1;32m<ipython-input-3-149d9d277c65>\u001b[0m in \u001b[0;36m<module>\u001b[1;34m\u001b[0m\n\u001b[0;32m      1\u001b[0m \u001b[1;31m# Identify optimal kinetic mechanism\u001b[0m\u001b[1;33m\u001b[0m\u001b[1;33m\u001b[0m\u001b[1;33m\u001b[0m\u001b[0m\n\u001b[1;32m----> 2\u001b[1;33m results = ripe.ripemodel(xdata,\n\u001b[0m\u001b[0;32m      3\u001b[0m                          \u001b[0mstoichiometry\u001b[0m\u001b[1;33m=\u001b[0m\u001b[0mstoich\u001b[0m\u001b[1;33m,\u001b[0m\u001b[1;33m\u001b[0m\u001b[1;33m\u001b[0m\u001b[0m\n\u001b[0;32m      4\u001b[0m                          \u001b[0mmechanisms\u001b[0m\u001b[1;33m=\u001b[0m\u001b[0mclc_mechs\u001b[0m\u001b[1;33m,\u001b[0m\u001b[1;33m\u001b[0m\u001b[1;33m\u001b[0m\u001b[0m\n\u001b[0;32m      5\u001b[0m                          time=t)\n",
      "\u001b[1;32mc:\\users\\dkgun\\src\\idaes\\dangunter\\idaes-pse\\idaes\\surrogate\\ripe\\main.py\u001b[0m in \u001b[0;36mripemodel\u001b[1;34m(data, **kwargs)\u001b[0m\n\u001b[0;32m     62\u001b[0m \u001b[1;33m\u001b[0m\u001b[0m\n\u001b[0;32m     63\u001b[0m     \u001b[1;31m# Need to calculate target values\u001b[0m\u001b[1;33m\u001b[0m\u001b[1;33m\u001b[0m\u001b[1;33m\u001b[0m\u001b[0m\n\u001b[1;32m---> 64\u001b[1;33m     targets, s_targets, savetargets, sharedata = ripe.targets.gentargets(\n\u001b[0m\u001b[0;32m     65\u001b[0m         \u001b[0mdata\u001b[0m\u001b[1;33m,\u001b[0m \u001b[0mkwargs\u001b[0m\u001b[1;33m,\u001b[0m \u001b[0mfdata\u001b[0m\u001b[1;33m,\u001b[0m \u001b[0mpc\u001b[0m\u001b[1;33m,\u001b[0m \u001b[0msharedata\u001b[0m\u001b[1;33m\u001b[0m\u001b[1;33m\u001b[0m\u001b[0m\n\u001b[0;32m     66\u001b[0m     )\n",
      "\u001b[1;32mc:\\users\\dkgun\\src\\idaes\\dangunter\\idaes-pse\\idaes\\surrogate\\ripe\\targets.py\u001b[0m in \u001b[0;36mgentargets\u001b[1;34m(data, kwargs, fdata, pc, sd)\u001b[0m\n\u001b[0;32m    162\u001b[0m     \u001b[1;31m# Sharedata is passed to track pw-alamo progress\u001b[0m\u001b[1;33m\u001b[0m\u001b[1;33m\u001b[0m\u001b[1;33m\u001b[0m\u001b[0m\n\u001b[0;32m    163\u001b[0m     \u001b[1;32mif\u001b[0m \u001b[1;34m\"t\"\u001b[0m \u001b[1;32min\u001b[0m \u001b[0mkwargs\u001b[0m\u001b[1;33m.\u001b[0m\u001b[0mkeys\u001b[0m\u001b[1;33m(\u001b[0m\u001b[1;33m)\u001b[0m\u001b[1;33m:\u001b[0m\u001b[1;33m\u001b[0m\u001b[1;33m\u001b[0m\u001b[0m\n\u001b[1;32m--> 164\u001b[1;33m         \u001b[0mtargets\u001b[0m\u001b[1;33m,\u001b[0m \u001b[0msd\u001b[0m \u001b[1;33m=\u001b[0m \u001b[0mdynamictargets\u001b[0m\u001b[1;33m(\u001b[0m\u001b[0mdata\u001b[0m\u001b[1;33m,\u001b[0m \u001b[0mfdata\u001b[0m\u001b[1;33m,\u001b[0m \u001b[0mpc\u001b[0m\u001b[1;33m,\u001b[0m \u001b[0msd\u001b[0m\u001b[1;33m)\u001b[0m\u001b[1;33m\u001b[0m\u001b[1;33m\u001b[0m\u001b[0m\n\u001b[0m\u001b[0;32m    165\u001b[0m     \u001b[1;32melse\u001b[0m\u001b[1;33m:\u001b[0m\u001b[1;33m\u001b[0m\u001b[1;33m\u001b[0m\u001b[0m\n\u001b[0;32m    166\u001b[0m         \u001b[0mtargets\u001b[0m \u001b[1;33m=\u001b[0m \u001b[0msstargets\u001b[0m\u001b[1;33m(\u001b[0m\u001b[0mfdata\u001b[0m\u001b[1;33m,\u001b[0m \u001b[0mpc\u001b[0m\u001b[1;33m)\u001b[0m\u001b[1;33m\u001b[0m\u001b[1;33m\u001b[0m\u001b[0m\n",
      "\u001b[1;32mc:\\users\\dkgun\\src\\idaes\\dangunter\\idaes-pse\\idaes\\surrogate\\ripe\\targets.py\u001b[0m in \u001b[0;36mdynamictargets\u001b[1;34m(data, fdata, pc, sharedata)\u001b[0m\n\u001b[0;32m    202\u001b[0m \u001b[1;33m\u001b[0m\u001b[0m\n\u001b[0;32m    203\u001b[0m     \u001b[1;32mwhile\u001b[0m \u001b[0mtempn\u001b[0m \u001b[1;33m>=\u001b[0m \u001b[0mntimedata\u001b[0m\u001b[1;33m:\u001b[0m\u001b[1;33m\u001b[0m\u001b[1;33m\u001b[0m\u001b[0m\n\u001b[1;32m--> 204\u001b[1;33m         [prof, r2, sharedata] = doalamo(\n\u001b[0m\u001b[0;32m    205\u001b[0m             \u001b[0mdata\u001b[0m\u001b[1;33m[\u001b[0m\u001b[0mtempn\u001b[0m \u001b[1;33m-\u001b[0m \u001b[0mntimedata\u001b[0m \u001b[1;33m:\u001b[0m \u001b[0mtempn\u001b[0m\u001b[1;33m,\u001b[0m \u001b[1;33m:\u001b[0m\u001b[1;33m,\u001b[0m \u001b[1;33m:\u001b[0m\u001b[1;33m]\u001b[0m\u001b[1;33m,\u001b[0m\u001b[1;33m\u001b[0m\u001b[1;33m\u001b[0m\u001b[0m\n\u001b[0;32m    206\u001b[0m             \u001b[0mpc\u001b[0m\u001b[1;33m[\u001b[0m\u001b[1;34m\"t\"\u001b[0m\u001b[1;33m]\u001b[0m\u001b[1;33m[\u001b[0m\u001b[0mtempn\u001b[0m \u001b[1;33m-\u001b[0m \u001b[0mntimedata\u001b[0m \u001b[1;33m:\u001b[0m \u001b[0mtempn\u001b[0m\u001b[1;33m]\u001b[0m\u001b[1;33m,\u001b[0m\u001b[1;33m\u001b[0m\u001b[1;33m\u001b[0m\u001b[0m\n",
      "\u001b[1;32mc:\\users\\dkgun\\src\\idaes\\dangunter\\idaes-pse\\idaes\\surrogate\\ripe\\targets.py\u001b[0m in \u001b[0;36mdoalamo\u001b[1;34m(data, time, xlo, xup, rpc, rspec, sharedata)\u001b[0m\n\u001b[0;32m     86\u001b[0m         \u001b[0mos\u001b[0m\u001b[1;33m.\u001b[0m\u001b[0msystem\u001b[0m\u001b[1;33m(\u001b[0m\u001b[0msharedata\u001b[0m\u001b[1;33m[\u001b[0m\u001b[1;34m\"alamo_path\"\u001b[0m\u001b[1;33m]\u001b[0m \u001b[1;33m+\u001b[0m \u001b[1;34m\" temp.alm > tmpscratch\"\u001b[0m\u001b[1;33m)\u001b[0m\u001b[1;33m\u001b[0m\u001b[1;33m\u001b[0m\u001b[0m\n\u001b[0;32m     87\u001b[0m \u001b[1;33m\u001b[0m\u001b[0m\n\u001b[1;32m---> 88\u001b[1;33m     \u001b[0mf\u001b[0m \u001b[1;33m=\u001b[0m \u001b[0mopen\u001b[0m\u001b[1;33m(\u001b[0m\u001b[1;34m\"temptrace.trc\"\u001b[0m\u001b[1;33m)\u001b[0m\u001b[1;33m\u001b[0m\u001b[1;33m\u001b[0m\u001b[0m\n\u001b[0m\u001b[0;32m     89\u001b[0m     \u001b[0mlf\u001b[0m \u001b[1;33m=\u001b[0m \u001b[0mf\u001b[0m\u001b[1;33m.\u001b[0m\u001b[0mread\u001b[0m\u001b[1;33m(\u001b[0m\u001b[1;33m)\u001b[0m\u001b[1;33m\u001b[0m\u001b[1;33m\u001b[0m\u001b[0m\n\u001b[0;32m     90\u001b[0m     \u001b[0mf\u001b[0m\u001b[1;33m.\u001b[0m\u001b[0mclose\u001b[0m\u001b[1;33m(\u001b[0m\u001b[1;33m)\u001b[0m\u001b[1;33m\u001b[0m\u001b[1;33m\u001b[0m\u001b[0m\n",
      "\u001b[1;31mFileNotFoundError\u001b[0m: [Errno 2] No such file or directory: 'temptrace.trc'"
     ]
    }
   ],
   "source": [
    "# Identify optimal kinetic mechanism\n",
    "results = ripe.ripemodel(xdata,\n",
    "                         stoichiometry=stoich, \n",
    "                         mechanisms=clc_mechs, \n",
    "                         time=t)\n"
   ]
  },
  {
   "cell_type": "code",
   "execution_count": null,
   "metadata": {},
   "outputs": [],
   "source": []
  }
 ],
 "metadata": {
  "kernelspec": {
   "display_name": "Python 3",
   "language": "python",
   "name": "python3"
  },
  "language_info": {
   "codemirror_mode": {
    "name": "ipython",
    "version": 3
   },
   "file_extension": ".py",
   "mimetype": "text/x-python",
   "name": "python",
   "nbconvert_exporter": "python",
   "pygments_lexer": "ipython3",
   "version": "3.8.3"
  }
 },
 "nbformat": 4,
 "nbformat_minor": 4
}
