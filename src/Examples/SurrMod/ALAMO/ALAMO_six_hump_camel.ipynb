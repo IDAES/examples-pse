{
 "cells": [
  {
   "cell_type": "code",
   "execution_count": null,
   "metadata": {},
   "outputs": [],
   "source": [
    "from idaes.surrogate import alamopy\n",
    "import examples\n",
    "import pyomo.environ as pyo\n",
    "from pyutilib.common import ApplicationError\n",
    "import camel6"
   ]
  },
  {
   "cell_type": "code",
   "execution_count": null,
   "metadata": {},
   "outputs": [],
   "source": [
    "alamo_ran = camel6.main()"
   ]
  },
  {
   "cell_type": "code",
   "execution_count": null,
   "metadata": {},
   "outputs": [],
   "source": [
    "hasBaron = False\n",
    "try:\n",
    "    solver_opt = pyo.SolverFactory('baron')\n",
    "    hasBaron = solver_opt.available()\n",
    "except ApplicationError as err:\n",
    "    print(\"Partial test completed. %s\"%err)\n",
    "\n",
    "\n",
    "if alamo_ran and hasBaron:\n",
    "    model = pyo.ConcreteModel()\n",
    "    opt = pyo.SolverFactory('baron')\n",
    "    model.x1 = pyo.Var()\n",
    "    model.x2 = pyo.Var()\n",
    "    def pyomo_model(model):\n",
    "        import z1\n",
    "        return z1.f(model.x1,model.x2)\n",
    "    model.obj = pyo.Objective(rule = pyomo_model)\n",
    "    results = opt.solve(model)\n",
    "    model.solutions.store_to(results)\n",
    "    print(results)"
   ]
  },
  {
   "cell_type": "code",
   "execution_count": null,
   "metadata": {},
   "outputs": [],
   "source": []
  }
 ],
 "metadata": {
  "kernelspec": {
   "display_name": "Python 3",
   "language": "python",
   "name": "python3"
  },
  "language_info": {
   "codemirror_mode": {
    "name": "ipython",
    "version": 3
   },
   "file_extension": ".py",
   "mimetype": "text/x-python",
   "name": "python",
   "nbconvert_exporter": "python",
   "pygments_lexer": "ipython3",
   "version": "3.7.7"
  }
 },
 "nbformat": 4,
 "nbformat_minor": 2
}
