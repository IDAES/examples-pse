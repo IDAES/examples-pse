{
 "cells": [
  {
   "cell_type": "markdown",
   "metadata": {},
   "source": [
    "# Perovskite Design\n",
    "\n",
    "This notebook serves as an example application of the MatOpt framework on bulk nanostructured materials. \n",
    "We consider the problem of how to optimally place dopant in a perovskite lattice. \n",
    "\n",
    "For more information, see:\n",
    "Hanselman, Christopher L., et al. \"A framework for optimizing oxygen vacancy formation in doped perovskites.\" *Computers & Chemical Engineering* 126 (2019): 168-177. DOI: [10.1016/j.compchemeng.2019.03.033](https://doi.org/10.1016/j.compchemeng.2019.03.033)"
   ]
  },
  {
   "cell_type": "markdown",
   "metadata": {},
   "source": [
    "## Importing Packages\n",
    "\n",
    "We start by importing MatOpt."
   ]
  },
  {
   "cell_type": "code",
   "execution_count": 1,
   "metadata": {},
   "outputs": [],
   "source": [
    "import numpy as np\n",
    "from idaes.apps.matopt import *"
   ]
  },
  {
   "cell_type": "markdown",
   "metadata": {},
   "source": [
    "## Representing Materials\n",
    "\n",
    "First, we construct a ***Lattice*** object to hold information about the sites in our material. For this application, we use the ***PerovskiteLattice*** class with lattice constants *A*, *B*, and *C*. "
   ]
  },
  {
   "cell_type": "code",
   "execution_count": 2,
   "metadata": {},
   "outputs": [],
   "source": [
    "A = 4.0\n",
    "B = 4.0\n",
    "C = 4.0\n",
    "Lat = PerovskiteLattice(A,B,C)"
   ]
  },
  {
   "cell_type": "markdown",
   "metadata": {},
   "source": [
    "Next, we construct ***Shape*** and ***Tiling*** objects to help define the material locations of interest. In this case, we use ***RectPrism*** and ***CubicTiling***, respectively. \n",
    "\n",
    "Note that we shift the shape slightly to avoid ambiguity about which sites on the border of the cell should be included. "
   ]
  },
  {
   "cell_type": "code",
   "execution_count": 3,
   "metadata": {},
   "outputs": [],
   "source": [
    "nUnitCellsOnEdge = 2\n",
    "S = RectPrism(nUnitCellsOnEdge*A,\n",
    "              nUnitCellsOnEdge*B,\n",
    "              nUnitCellsOnEdge*C)\n",
    "S.shift(np.array([-0.01,-0.01,-0.01]))\n",
    "T = CubicTiling(S)"
   ]
  },
  {
   "cell_type": "markdown",
   "metadata": {},
   "source": [
    "Next, we construct the ***Canvas*** object which will hold all the information about the sites and information about neighbors. We also define a list of ***Atom*** objects that serve as the building blocks of our material."
   ]
  },
  {
   "cell_type": "code",
   "execution_count": 4,
   "metadata": {},
   "outputs": [],
   "source": [
    "Canv = Canvas.fromLatticeAndTilingScan(Lat,T)\n",
    "Atoms = [Atom('Ba'),Atom('Fe'),Atom('In'),Atom('O')]"
   ]
  },
  {
   "cell_type": "markdown",
   "metadata": {},
   "source": [
    "Finally, we load a list of conformations from file that represent a set of dopant configurations that we would like to indicate in the design. "
   ]
  },
  {
   "cell_type": "code",
   "execution_count": 5,
   "metadata": {},
   "outputs": [],
   "source": [
    "from tempfile import TemporaryDirectory\n",
    "from zipfile import ZipFile\n",
    "iDesiredConfs = [394,395,396,397,398,399,400,401,68,69,\n",
    "                 70,71,162,163,164,165,166,167,168,169]\n",
    "with TemporaryDirectory() as ConfDir:\n",
    "    ZipFile('./confs.zip').extractall(ConfDir)\n",
    "    ConfDesigns = loadFromPDBs([str(i) + '.pdb' for i in iDesiredConfs], folder=ConfDir + '/confs/')\n",
    "Confs = [Conf.Contents for Conf in ConfDesigns]"
   ]
  },
  {
   "cell_type": "markdown",
   "metadata": {},
   "source": [
    "## Building the Model\n",
    "\n",
    "To begin specifying the model, we first define several pieces of information that will help specify the design problem."
   ]
  },
  {
   "cell_type": "code",
   "execution_count": 6,
   "metadata": {},
   "outputs": [],
   "source": [
    "Sites = [i for i in range(len(Canv))]\n",
    "ASites = [i for i in Sites if Lat.isASite(Canv.Points[i])]\n",
    "BSites = [i for i in Sites if Lat.isBSite(Canv.Points[i])]\n",
    "OSites = [i for i in Sites if Lat.isOSite(Canv.Points[i])]\n",
    "pctLocalLB,pctLocalUB = 0,1\n",
    "pctGlobalLB,pctGlobalUB = 0.0,0.3\n",
    "LocalBounds = {(i,Atom('In')):(round(pctLocalLB*len(Canv.NeighborhoodIndexes[i])),\n",
    "                               round(pctLocalUB*len(Canv.NeighborhoodIndexes[i]))) for i in OSites}\n",
    "GlobalLB = round(pctGlobalLB*len(BSites))\n",
    "GlobalUB = round(pctGlobalUB*len(BSites))"
   ]
  },
  {
   "cell_type": "markdown",
   "metadata": {},
   "source": [
    "Next, we initialize a ***MatOptModel*** object that will hold all the information about material descriptors and desired functionalities. "
   ]
  },
  {
   "cell_type": "code",
   "execution_count": 7,
   "metadata": {},
   "outputs": [],
   "source": [
    "m = MatOptModel(Canv,Atoms,Confs)"
   ]
  },
  {
   "cell_type": "markdown",
   "metadata": {},
   "source": [
    "By default, several basic variables are pre-defined. See the first example, ***Monometallic_Nanocluster_Design.ipynb*** for a description of basic variables, expressions, and constraint rules."
   ]
  },
  {
   "cell_type": "markdown",
   "metadata": {},
   "source": [
    "For this system, we introduce several rules about the allowed placement of atoms in the design. First, we require that all A-sites in the material are occupied by Ba. Next, we require that all O-sites are occupied by O. Thirdly, we forbid Ba and O from being placed in B-sites. And finally, we require that some atom be placed in each B-site. These four rules  effectively limit the scope of the optimization to focus on the labeling of B-sites as either Fe or In. "
   ]
  },
  {
   "cell_type": "code",
   "execution_count": 8,
   "metadata": {},
   "outputs": [],
   "source": [
    "m.Yik.rules.append(FixedTo(1,sites=ASites,site_types=[Atom('Ba')]))\n",
    "m.Yik.rules.append(FixedTo(1,sites=OSites,site_types=[Atom('O')]))\n",
    "m.Yik.rules.append(FixedTo(0,sites=BSites,site_types=[Atom('Ba'),Atom('O')]))\n",
    "m.Yi.rules.append(FixedTo(1,sites=BSites))"
   ]
  },
  {
   "cell_type": "markdown",
   "metadata": {},
   "source": [
    "To specify additional constraints to the model, we create several descriptors for the activity, local dopant concentration, and the global dopant concentration. \n",
    "\n",
    "Notice that in each case, we specify a subset of locations or atoms of interest. This is because, for example, our material activity depends on oxygen sites only and it would be nonsensical to try to interpret one of the conformations on a different type of site. Similarly, the dopant budgets are written only over In atoms and not on Ba, Fe, or O. "
   ]
  },
  {
   "cell_type": "code",
   "execution_count": 9,
   "metadata": {},
   "outputs": [],
   "source": [
    "m.addGlobalDescriptor('Activity',\n",
    "                      rules=EqualTo(SumSitesAndConfs(m.Zic,coefs=1/len(OSites),sites_to_sum=OSites)))\n",
    "m.addGlobalTypesDescriptor('GlobalIndiumConc',bounds=(GlobalLB,GlobalUB),\n",
    "                           rules=EqualTo(SumSites(m.Yik,\n",
    "                                                  site_types=[Atom('In')],\n",
    "                                                  sites_to_sum=BSites)))\n",
    "m.addSitesTypesDescriptor('LocalIndiumConc',bounds=LocalBounds,\n",
    "                          rules=EqualTo(SumNeighborSites(m.Yik,\n",
    "                                                         sites=OSites,\n",
    "                                                         site_types=[Atom('In')])))"
   ]
  },
  {
   "cell_type": "markdown",
   "metadata": {},
   "source": [
    "## Solving the Model\n",
    "\n",
    "Given a fully formed model, we can optimize by maximizing or minimizing one of the global descriptors."
   ]
  },
  {
   "cell_type": "code",
   "execution_count": 10,
   "metadata": {},
   "outputs": [
    {
     "name": "stdout",
     "output_type": "stream",
     "text": [
      "\n",
      "Welcome to IBM(R) ILOG(R) CPLEX(R) Interactive Optimizer Community Edition 12.9.0.0\n",
      "  with Simplex, Mixed Integer & Barrier Optimizers\n",
      "5725-A06 5725-A29 5724-Y48 5724-Y49 5724-Y54 5724-Y55 5655-Y21\n",
      "Copyright IBM Corp. 1988, 2019.  All Rights Reserved.\n",
      "\n",
      "Type 'help' for a list of available commands.\n",
      "Type 'help' followed by a command name for more\n",
      "information on commands.\n",
      "\n",
      "CPLEX> Logfile 'cplex.log' closed.\n",
      "Logfile 'C:\\Users\\xiang\\AppData\\Local\\Temp\\tmp39wgxmsc.cplex.log' open.\n",
      "CPLEX> New value for absolute mixed integer optimality gap tolerance: 0\n",
      "CPLEX> New value for mixed integer optimality gap tolerance: 0\n",
      "CPLEX> New value for time limit in seconds: 360\n",
      "CPLEX> Problem 'C:\\Users\\xiang\\AppData\\Local\\Temp\\tmp0xe9qpu7.pyomo.lp' read.\n",
      "Read time = 0.00 sec. (0.01 ticks)\n",
      "CPLEX> Problem name         : C:\\Users\\xiang\\AppData\\Local\\Temp\\tmp0xe9qpu7.pyomo.lp\n",
      "Objective sense      : Maximize\n",
      "Variables            :     108  [Nneg: 1,  Fix: 1,  Box: 3,  Free: 1,\n",
      "                                 Binary: 102]\n",
      "Objective nonzeros   :       1\n",
      "Linear constraints   :      95  [Less: 88,  Equal: 7]\n",
      "  Nonzeros           :     606\n",
      "  RHS nonzeros       :      80\n",
      "\n",
      "Variables            : Min LB: 0.0000000        Max UB: 10.00000       \n",
      "Objective nonzeros   : Min   : 1.000000         Max   : 1.000000       \n",
      "Linear constraints   :\n",
      "  Nonzeros           : Min   : 0.3333333        Max   : 10.00000       \n",
      "  RHS nonzeros       : Min   : 1.000000         Max   : 9.000000       \n",
      "CPLEX> CPXPARAM_TimeLimit                               360\n",
      "CPXPARAM_MIP_Tolerances_AbsMIPGap                0\n",
      "CPXPARAM_MIP_Tolerances_MIPGap                   0\n",
      "Found incumbent of value 0.000000 after 0.00 sec. (0.01 ticks)\n",
      "Tried aggregator 1 time.\n",
      "MIP Presolve eliminated 95 rows and 108 columns.\n",
      "All rows and columns eliminated.\n",
      "Presolve time = 0.00 sec. (0.12 ticks)\n",
      "\n",
      "Root node processing (before b&c):\n",
      "  Real time             =    0.00 sec. (0.14 ticks)\n",
      "Parallel b&c, 8 threads:\n",
      "  Real time             =    0.00 sec. (0.00 ticks)\n",
      "  Sync time (average)   =    0.00 sec.\n",
      "  Wait time (average)   =    0.00 sec.\n",
      "                          ------------\n",
      "Total (root+branch&cut) =    0.00 sec. (0.14 ticks)\n",
      "\n",
      "Solution pool: 2 solutions saved.\n",
      "\n",
      "MIP - Integer optimal solution:  Objective =  1.0000000000e+00\n",
      "Solution time =    0.00 sec.  Iterations = 0  Nodes = 0\n",
      "Deterministic time = 0.14 ticks  (139.41 ticks/sec)\n",
      "\n",
      "CPLEX> Incumbent solution written to file 'C:\\Users\\xiang\\AppData\\Local\\Temp\\tmpa5_uiy47.cplex.sol'.\n",
      "CPLEX> The solver exited normally.\n",
      "A feasible and provably optimal solution is available.\n",
      "The Design has objective: 0.9999999999999998\n"
     ]
    }
   ],
   "source": [
    "D = None\n",
    "try:\n",
    "    D = m.maximize(m.Activity,tilim=360)\n",
    "except:\n",
    "    print('MaOpt can not find usable solver (CPLEX or NEOS-CPLEX)')"
   ]
  },
  {
   "cell_type": "markdown",
   "metadata": {},
   "source": [
    "## Processing Solutions\n",
    "\n",
    "If the optimizer was successful in finding an optimal (or just feasible) solution, we can plot the resulting design to any of several standard file formats. However, it is often useful to modify the design to highlight key features. Here, we label all O-sites that constitute one of the desired conformations by replacing the atom with an S."
   ]
  },
  {
   "cell_type": "code",
   "execution_count": 11,
   "metadata": {},
   "outputs": [],
   "source": [
    "if(D is not None):\n",
    "    for i,c in m.Zic.keys():\n",
    "        if(m.Zic.values[i,c] > 0.5):\n",
    "            D.setContent(i,Atom('S'))\n",
    "    D.toCFG('result.cfg',BBox=S)"
   ]
  }
 ],
 "metadata": {
  "kernelspec": {
   "display_name": "Python 3",
   "language": "python",
   "name": "python3"
  },
  "language_info": {
   "codemirror_mode": {
    "name": "ipython",
    "version": 3
   },
   "file_extension": ".py",
   "mimetype": "text/x-python",
   "name": "python",
   "nbconvert_exporter": "python",
   "pygments_lexer": "ipython3",
   "version": "3.7.6"
  }
 },
 "nbformat": 4,
 "nbformat_minor": 2
}
