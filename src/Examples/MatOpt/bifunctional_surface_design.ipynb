{
 "cells": [
  {
   "cell_type": "markdown",
   "metadata": {},
   "source": [
    "# Bifunctional Catalyst Design\n",
    "This notebook serves as an example application of the MatOpt framework.\n",
    "We consider an example optimization problem of designing a nanostructured bifunctional catalyst. This example is a simplified representation of the system presented in [1].\n",
    "\n",
    "[1] Nunez, M., & Vlachos, D. G. (2019). Ind. Eng. Chem. Res., 58, 6146-6154. \n",
    "\n"
   ]
  },
  {
   "cell_type": "markdown",
   "metadata": {},
   "source": [
    "## Importing Packages\n",
    "We start by importing several standard Python modules for convienience. "
   ]
  },
  {
   "cell_type": "code",
   "execution_count": 1,
   "metadata": {},
   "outputs": [],
   "source": [
    "from copy import deepcopy\n",
    "import numpy as np"
   ]
  },
  {
   "cell_type": "markdown",
   "metadata": {},
   "source": [
    "Finally, we import the MatOpt package in its entirety. "
   ]
  },
  {
   "cell_type": "code",
   "execution_count": 2,
   "metadata": {},
   "outputs": [],
   "source": [
    "from idaes.apps.matopt import *"
   ]
  },
  {
   "cell_type": "markdown",
   "metadata": {},
   "source": [
    "## Representing Materials\n",
    "To begin, we define a **Lattice** object. In this example, **FCCLattice** is a child class of Lattice. This object will serve to define neighbor connections and helps us generically create other objects."
   ]
  },
  {
   "cell_type": "code",
   "execution_count": 3,
   "metadata": {},
   "outputs": [],
   "source": [
    "IAD = 2.828 # Angstrom\n",
    "Lat = FCCLattice.alignedWith111(IAD)"
   ]
  },
  {
   "cell_type": "markdown",
   "metadata": {},
   "source": [
    "Next, we define a **Shape** object that we will use to specify a design space. Additionally, in this example our design space is periodic, so we will define a **Tiling** object to hold information about the periodicity. In this example, **Parallelepiped** and **PlanarTiling** are the appropriate child classes for these objects, respectively.\n",
    "\n",
    "Note that we shift the shape of our design space slightly, in order to avoid confusion about which lattice sites that lie perfectly on the shape facet should be included."
   ]
  },
  {
   "cell_type": "code",
   "execution_count": 4,
   "metadata": {},
   "outputs": [],
   "source": [
    "nUnitCellsOnEdge = 8\n",
    "nLayers = 4\n",
    "a = nUnitCellsOnEdge*IAD\n",
    "b = a\n",
    "c = nLayers*Lat.FCC111LayerSpacing\n",
    "alpha = np.pi/2\n",
    "beta = np.pi/2\n",
    "gamma = np.pi/3\n",
    "S = Parallelepiped.fromEdgesAndAngles(a,b,c,alpha,beta,gamma)\n",
    "S.shift(np.array([-0.01*a,-0.01*b,-0.01*c]))\n",
    "T = PlanarTiling(S)"
   ]
  },
  {
   "cell_type": "markdown",
   "metadata": {},
   "source": [
    "Given the parameters for a design space, we can construct a **Canvas** object to hold information about points and nearest neighbors. In this example, the object is efficiently constructed from a scan over lattice sites. In general, the Canvas can be constructed and manipulated via user-defined algorithms."
   ]
  },
  {
   "cell_type": "code",
   "execution_count": 5,
   "metadata": {},
   "outputs": [],
   "source": [
    "Canv = Canvas.fromLatticeAndTilingScan(Lat,T)"
   ]
  },
  {
   "cell_type": "markdown",
   "metadata": {},
   "source": [
    "The Canvas object hold information about the design space and the lattice sites, but it does not specify any material building block information. To represent material configurations, use a **Design** object. \n",
    "\n",
    "Initially, the Design is empty. There are several ways to place **Atom** (i.e., building block) objects in a Design. In this example, we are initialize the Design to hold all Pt atoms. \n",
    "\n",
    "To debug our work so far, we can create material structure files to load and plot with standard visualization tools such as AtomEye. Here, we create PDB (protein data bank format, www.rcsb.org) and CFG (AtomEye configuration, li.mit.edu/A/Graphics/A/) files for the undoped design. "
   ]
  },
  {
   "cell_type": "code",
   "execution_count": 6,
   "metadata": {},
   "outputs": [],
   "source": [
    "D = Design(Canv,Atom('Pt'))\n",
    "D.toPDB('canvas.pdb')\n",
    "D.toCFG('canvas.cfg',BBox=S)"
   ]
  },
  {
   "cell_type": "markdown",
   "metadata": {},
   "source": [
    "## Representing Conformations\n",
    "In this material system, we would like to model the presence of facet and edge sites on a patchy bimetallic catalyst surface. To do this generically, we will create a list of conformations. This list will later be used by MatOpt modeling methods to create common descriptor formulations.\n",
    "\n",
    "To begin, we create another Canvas object with one shell of neighbors around a lattice location. Then, we create a list of Designs and set their contents to match our intended conformations. To debug our work, we also output conformations to file for plotting. "
   ]
  },
  {
   "cell_type": "code",
   "execution_count": 7,
   "metadata": {},
   "outputs": [],
   "source": [
    "MotifCanvas = Canvas()\n",
    "MotifCanvas.addLocation(np.array([0,0,0],dtype=float),NNeighbors=12)\n",
    "MotifCanvas.addShell(Lat.getNeighbors)\n",
    "Confs = [[None]*len(MotifCanvas.NeighborhoodIndexes[0]) for _ in range(7)]\n",
    "iToSetNi = [[3,4,5,6,7,8],\n",
    "            [3,4,5,6],\n",
    "            [4,5,6,7],\n",
    "            [5,6,7,8],\n",
    "            [6,7,8,3],\n",
    "            [7,8,3,4],\n",
    "            [8,3,4,5]]\n",
    "iToSetPt = [[9,10,11],\n",
    "            [9,10,11],\n",
    "            [9,10,11],\n",
    "            [9,10,11],\n",
    "            [9,10,11],\n",
    "            [9,10,11],\n",
    "            [9,10,11]]\n",
    "for iConf,Conf in enumerate(Confs):\n",
    "    for i in iToSetNi[iConf]:\n",
    "        Conf[i] = Atom('Ni')\n",
    "    for i in iToSetPt[iConf]:\n",
    "        Conf[i] = Atom('Pt')\n"
   ]
  },
  {
   "cell_type": "markdown",
   "metadata": {},
   "source": [
    "## Building the Model\n",
    "\n",
    "To begin, we define several sets and constants that will be used in creating the model. "
   ]
  },
  {
   "cell_type": "code",
   "execution_count": 8,
   "metadata": {},
   "outputs": [],
   "source": [
    "TypeAConfs = [0]\n",
    "TypeBConfs = [1,2,3,4,5,6]\n",
    "LocsToFixPt = [i for i in range(len(Canv)) if Canv.Points[i][2] < Lat.FCC111LayerSpacing*2.5]\n",
    "LocsToExcludePt = [i for i in range(len(Canv)) if i not in LocsToFixPt]\n",
    "CanvTwoBotLayers = [i for i in range(len(Canv)) if Canv.Points[i][2] < Lat.FCC111LayerSpacing*1.5]\n",
    "CanvMinusTwoBotLayers = [i for i in range(len(Canv)) if i not in CanvTwoBotLayers]\n",
    "OneLocToFix = [min(LocsToExcludePt)]\n",
    "TileSizeSquared = nUnitCellsOnEdge**2\n",
    "CatNorm = TileSizeSquared*6.0\n",
    "UndefectedSurfE = 0.129758\n",
    "maxSurfE = 999\n",
    "CatWeight = 1.0\n",
    "Atoms = [Atom('Ni'),Atom('Pt')]"
   ]
  },
  {
   "cell_type": "markdown",
   "metadata": {},
   "source": [
    "Next, we create a ***MatOptModel*** object."
   ]
  },
  {
   "cell_type": "code",
   "execution_count": 9,
   "metadata": {},
   "outputs": [],
   "source": [
    "m = MatOptModel(Canv,Atoms,Confs)"
   ]
  },
  {
   "cell_type": "markdown",
   "metadata": {},
   "source": [
    "By default, several basic variables are pre-defined. See the first example, ***Monometallic_Nanocluster_Design.ipynb*** for a description of basic variables, expressions, and constraint rules."
   ]
  },
  {
   "cell_type": "markdown",
   "metadata": {},
   "source": [
    "First, we fix the composition of atoms in the appropriate layers. Effectively, we are designing the defects in a single layer of Ni on top of an undefected Pt surface. "
   ]
  },
  {
   "cell_type": "code",
   "execution_count": 10,
   "metadata": {},
   "outputs": [],
   "source": [
    "m.Yik.rules.append(FixedTo(1,sites=LocsToFixPt,site_types=[Atom('Pt')]))\n",
    "m.Yik.rules.append(FixedTo(0,sites=LocsToExcludePt,site_types=[Atom('Pt')]))"
   ]
  },
  {
   "cell_type": "markdown",
   "metadata": {},
   "source": [
    "Next, we define indicators for the presence of groups of conformations (corresponding to facet and edge sites) in the design.\n",
    "We arbitrarily fix one site to be a facet-type site, breaking symmetry and improving the tractability of the resulting optimization models. "
   ]
  },
  {
   "cell_type": "code",
   "execution_count": 11,
   "metadata": {},
   "outputs": [],
   "source": [
    "m.Zic.rules.append(FixedTo(1,sites=OneLocToFix,confs=TypeAConfs))\n",
    "m.Zic.rules.append(Implies(concs=(m.Yik,EqualTo(1,site_types=[Atom('Ni')]))))\n",
    "SumAConfsExpr = SumConfs(m.Zic,confs_to_sum=TypeAConfs)\n",
    "SumBConfsExpr = SumConfs(m.Zic,confs_to_sum=TypeBConfs)\n",
    "m.addBondsDescriptor('SiteCombinations',binary=True,\n",
    "                     rules=ImpliesSiteCombination(Canv,\n",
    "                                                  (SumAConfsExpr,GreaterThan(1)),\n",
    "                                                  (SumBConfsExpr,GreaterThan(1))))"
   ]
  },
  {
   "cell_type": "markdown",
   "metadata": {},
   "source": [
    "Next, we define activity as a normalized sum of contributions from site combinations. \n",
    "Additionally, we introduce a model for the surface energy of sites as a piecewise linear function of coordination number. "
   ]
  },
  {
   "cell_type": "code",
   "execution_count": 12,
   "metadata": {},
   "outputs": [],
   "source": [
    "m.addGlobalDescriptor('Activity',\n",
    "                      rules=EqualTo(SumBonds(m.SiteCombinations,coefs=1/CatNorm)))\n",
    "\n",
    "EiVals = [0, -0.04293*3+0.41492, -0.04293*10+0.41492, 0.05179*11-0.62148, 0]\n",
    "EiBPs = [0, 3, 10, 11, 12]\n",
    "m.addSitesDescriptor('Ei',\n",
    "                     rules=PiecewiseLinear(values=EiVals,\n",
    "                                           breakpoints=EiBPs,\n",
    "                                          input_desc=m.Ci),\n",
    "                     sites=CanvMinusTwoBotLayers)\n",
    "m.addGlobalDescriptor('Esurf',\n",
    "                      rules=EqualTo(SumSites(m.Ei,coefs=1/TileSizeSquared,offset=0.101208)))\n",
    "m.addGlobalDescriptor('Stability',\n",
    "                      rules=EqualTo(LinearExpr(m.Esurf,1/UndefectedSurfE)))"
   ]
  },
  {
   "cell_type": "markdown",
   "metadata": {},
   "source": [
    "Finally, we introduce a single descriptor for the weighted combination of acitivity and stability. \n",
    "By changing the parameter weighting the catalytic portion of the objective function, we can optimize for a range of designs optimizing stability and activity. "
   ]
  },
  {
   "cell_type": "code",
   "execution_count": 13,
   "metadata": {},
   "outputs": [],
   "source": [
    "m.addGlobalDescriptor('ActAndStab',\n",
    "                      rules=EqualTo(LinearExpr(descs=[m.Stability,m.Activity],\n",
    "                                               coefs=[-(1-CatWeight),CatWeight])))"
   ]
  },
  {
   "cell_type": "markdown",
   "metadata": {},
   "source": [
    "## Solving the Model\n",
    "\n",
    "Given a fully formed Pyomo model, we have several capabilities to optimize and visualize the solution. \n",
    "In this example, we simply call the maximize method to optimize the balance of activity and stability"
   ]
  },
  {
   "cell_type": "code",
   "execution_count": 14,
   "metadata": {
    "scrolled": true
   },
   "outputs": [
    {
     "name": "stdout",
     "output_type": "stream",
     "text": [
      "WARNING: Element (0, 1) already exists in set SiteCombinations_index; no\n",
      "    action taken.\n",
      "WARNING: Element (0, 1) already exists in set SiteCombinations_index; no\n",
      "    action taken.\n",
      "WARNING: Element (0, 0) already exists in set SiteCombinations_index; no\n",
      "    action taken.\n",
      "WARNING: Element (0, 0) already exists in set SiteCombinations_index; no\n",
      "    action taken.\n",
      "WARNING: Element (0, 0) already exists in set SiteCombinations_index; no\n",
      "    action taken.\n",
      "WARNING: Element (0, 0) already exists in set SiteCombinations_index; no\n",
      "    action taken.\n",
      "WARNING: Element (0, 0) already exists in set SiteCombinations_index; no\n",
      "    action taken.\n",
      "WARNING: Element (0, 2) already exists in set SiteCombinations_index; no\n",
      "    action taken.\n",
      "WARNING: Element (0, 2) already exists in set SiteCombinations_index; no\n",
      "    action taken.\n",
      "WARNING: Element (1, 1) already exists in set SiteCombinations_index; no\n",
      "    action taken.\n",
      "WARNING: Element (1, 1) already exists in set SiteCombinations_index; no\n",
      "    action taken.\n",
      "WARNING: Element (1, 1) already exists in set SiteCombinations_index; no\n",
      "    action taken.\n",
      "WARNING: Element (1, 1) already exists in set SiteCombinations_index; no\n",
      "    action taken.\n",
      "WARNING: Element (1, 1) already exists in set SiteCombinations_index; no\n",
      "    action taken.\n",
      "WARNING: Element (1, 0) already exists in set SiteCombinations_index; no\n",
      "    action taken.\n",
      "WARNING: Element (1, 0) already exists in set SiteCombinations_index; no\n",
      "    action taken.\n",
      "WARNING: Element (2, 0) already exists in set SiteCombinations_index; no\n",
      "    action taken.\n",
      "WARNING: Element (2, 0) already exists in set SiteCombinations_index; no\n",
      "    action taken.\n",
      "WARNING: Element (2, 2) already exists in set SiteCombinations_index; no\n",
      "    action taken.\n",
      "WARNING: Element (2, 2) already exists in set SiteCombinations_index; no\n",
      "    action taken.\n",
      "WARNING: Element (2, 2) already exists in set SiteCombinations_index; no\n",
      "    action taken.\n",
      "WARNING: Element (2, 2) already exists in set SiteCombinations_index; no\n",
      "    action taken.\n",
      "WARNING: Element (2, 2) already exists in set SiteCombinations_index; no\n",
      "    action taken.\n",
      "WARNING: Element (2, 3) already exists in set SiteCombinations_index; no\n",
      "    action taken.\n",
      "WARNING: Element (2, 3) already exists in set SiteCombinations_index; no\n",
      "    action taken.\n",
      "WARNING: Element (3, 2) already exists in set SiteCombinations_index; no\n",
      "    action taken.\n",
      "WARNING: Element (3, 2) already exists in set SiteCombinations_index; no\n",
      "    action taken.\n",
      "WARNING: Element (3, 3) already exists in set SiteCombinations_index; no\n",
      "    action taken.\n",
      "WARNING: Element (3, 3) already exists in set SiteCombinations_index; no\n",
      "    action taken.\n",
      "WARNING: Element (3, 3) already exists in set SiteCombinations_index; no\n",
      "    action taken.\n",
      "WARNING: Element (3, 3) already exists in set SiteCombinations_index; no\n",
      "    action taken.\n",
      "WARNING: Element (3, 3) already exists in set SiteCombinations_index; no\n",
      "    action taken.\n",
      "\n",
      "Welcome to IBM(R) ILOG(R) CPLEX(R) Interactive Optimizer Community Edition 12.9.0.0\n",
      "  with Simplex, Mixed Integer & Barrier Optimizers\n",
      "5725-A06 5725-A29 5724-Y48 5724-Y49 5724-Y54 5724-Y55 5655-Y21\n",
      "Copyright IBM Corp. 1988, 2019.  All Rights Reserved.\n",
      "\n",
      "Type 'help' for a list of available commands.\n",
      "Type 'help' followed by a command name for more\n",
      "information on commands.\n",
      "\n",
      "CPLEX> Logfile 'cplex.log' closed.\n",
      "Logfile 'C:\\Users\\xiang\\AppData\\Local\\Temp\\tmp5iwbotqw.cplex.log' open.\n",
      "CPLEX> New value for absolute mixed integer optimality gap tolerance: 0\n",
      "CPLEX> New value for mixed integer optimality gap tolerance: 0\n",
      "CPLEX> New value for time limit in seconds: 360\n",
      "CPLEX> Problem 'C:\\Users\\xiang\\AppData\\Local\\Temp\\tmpb19_rh10.pyomo.lp' read.\n",
      "Read time = 0.00 sec. (0.01 ticks)\n",
      "CPLEX> Problem name         : C:\\Users\\xiang\\AppData\\Local\\Temp\\tmpb19_rh10.pyomo.lp\n",
      "Objective sense      : Maximize\n",
      "Variables            :      63  [Nneg: 1,  Free: 14,  Binary: 44,\n",
      "                                 General Integer: 4]\n",
      "Objective nonzeros   :       1\n",
      "Linear constraints   :     237  [Less: 210,  Greater: 2,  Equal: 25]\n",
      "  Nonzeros           :     360\n",
      "  RHS nonzeros       :      96\n",
      "\n",
      "Variables            : Min LB: 0.0000000        Max UB: 12.00000       \n",
      "Objective nonzeros   : Min   : 1.000000         Max   : 1.000000       \n",
      "Linear constraints   :\n",
      "  Nonzeros           : Min   : 0.03741000       Max   : 12.00000       \n",
      "  RHS nonzeros       : Min   : 0.1012080        Max   : 12.00000       \n",
      "CPLEX> CPXPARAM_TimeLimit                               360\n",
      "CPXPARAM_MIP_Tolerances_AbsMIPGap                0\n",
      "CPXPARAM_MIP_Tolerances_MIPGap                   0\n",
      "Tried aggregator 2 times.\n",
      "MIP Presolve eliminated 228 rows and 55 columns.\n",
      "MIP Presolve modified 1 coefficients.\n",
      "Aggregator did 2 substitutions.\n",
      "Reduced MIP has 7 rows, 6 columns, and 20 nonzeros.\n",
      "Reduced MIP has 3 binaries, 0 generals, 0 SOSs, and 0 indicators.\n",
      "Presolve time = 0.00 sec. (0.15 ticks)\n",
      "Found incumbent of value 0.000000 after 0.00 sec. (0.18 ticks)\n",
      "\n",
      "Root node processing (before b&c):\n",
      "  Real time             =    0.00 sec. (0.18 ticks)\n",
      "Parallel b&c, 8 threads:\n",
      "  Real time             =    0.00 sec. (0.00 ticks)\n",
      "  Sync time (average)   =    0.00 sec.\n",
      "  Wait time (average)   =    0.00 sec.\n",
      "                          ------------\n",
      "Total (root+branch&cut) =    0.00 sec. (0.18 ticks)\n",
      "\n",
      "Solution pool: 1 solution saved.\n",
      "\n",
      "MIP - Integer optimal solution:  Objective =  0.0000000000e+00\n",
      "Solution time =    0.00 sec.  Iterations = 0  Nodes = 0 (1)\n",
      "Deterministic time = 0.18 ticks  (179.50 ticks/sec)\n",
      "\n",
      "CPLEX> Incumbent solution written to file 'C:\\Users\\xiang\\AppData\\Local\\Temp\\tmpprl1ants.cplex.sol'.\n",
      "CPLEX> The solver exited normally.\n",
      "A feasible and provably optimal solution is available.\n",
      "The Design has objective: 0.0\n"
     ]
    }
   ],
   "source": [
    "D = None\n",
    "try:\n",
    "    D = m.maximize(m.ActAndStab,tilim=360)\n",
    "except:\n",
    "    print('MaOpt can not find usable solver (CPLEX or NEOS-CPLEX)')"
   ]
  },
  {
   "cell_type": "markdown",
   "metadata": {},
   "source": [
    "## Processing Solutions\n",
    "Once the model is solved, we can interpret the solutions as labelings of a Design object.\n",
    "To accompolish this, we use the ***setDesignFromModel*** function. \n",
    "Then, we can write the Design object to PDB or CFG files for plotting."
   ]
  },
  {
   "cell_type": "code",
   "execution_count": 15,
   "metadata": {},
   "outputs": [],
   "source": [
    "if(D is not None):\n",
    "        D.toCFG('result.cfg',BBox=S)\n",
    "        PeriodicD = T.replicateDesign(D,4)\n",
    "        PeriodicS = deepcopy(S)\n",
    "        PeriodicS.scale(np.array([4,4,1]))\n",
    "        PeriodicD.toCFG('periodic_result.cfg',BBox=PeriodicS)"
   ]
  }
 ],
 "metadata": {
  "kernelspec": {
   "display_name": "Python 3",
   "language": "python",
   "name": "python3"
  },
  "language_info": {
   "codemirror_mode": {
    "name": "ipython",
    "version": 3
   },
   "file_extension": ".py",
   "mimetype": "text/x-python",
   "name": "python",
   "nbconvert_exporter": "python",
   "pygments_lexer": "ipython3",
   "version": "3.7.3"
  }
 },
 "nbformat": 4,
 "nbformat_minor": 2
}