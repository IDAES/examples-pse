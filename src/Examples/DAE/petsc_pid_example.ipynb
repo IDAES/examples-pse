{
 "cells": [
  {
   "cell_type": "markdown",
   "id": "5b2afef3-35bb-4424-8138-d9357d7c5195",
   "metadata": {},
   "source": [
    "# PETSc Time-stepping Solver -- PID Control and Steam Example\n",
    "\n",
    "This example provides an overview of the PETSc time-stepping solver utilities in IDAES, which can be used to solve systems of differential algebraic equations (DAEs). PETSc is a solver suite developed primarily by Argonne National Lab (https://petsc.org/release/). IDAES provides a wrapper for PETSc (https://github.com/IDAES/idaes-ext/tree/main/petsc) that uses the AMPL solver interface (https://ampl.com/resources/learn-more/hooking-your-solver-to-ampl/) and utilities functions that allow Pyomo and Pyomo.DAE (https://pyomo.readthedocs.io/en/stable/modeling_extensions/dae.html) problems to be solved using PETSc.\n",
    "\n",
    "This demonstration uses the IDAES PID controller model and a flowsheet aranged like so:\n",
    "\n",
    "```\n",
    "             \n",
    "->--|><|------[]------|><|-->-\n",
    "   valve_1   tank   valve_2   \n",
    "```\n",
    "\n",
    "where the tank pressure is controlled by the opening of valve_1. "
   ]
  },
  {
   "cell_type": "markdown",
   "id": "a6d59fd5-b7b5-4e06-9615-99f0538aa627",
   "metadata": {},
   "source": [
    "## Prerequisites\n",
    "\n",
    "The PETSc solver is an extra download for IDAES.  The solver is available for Linux, but can be run in the Windows environment via the WSL (Windows Subsystem for Linux).  The WSL method of running the solver works smoothly in the normal Windows workflow.  PETSc installation details for Linux and Windows are available along with the documentation (https://idaes-pse.readthedocs.io/en/latest/technical_specs/core/solvers.html).\n",
    "\n",
    "You may want to review the \"PETSc Time-stepping Solver -- Chemical Akzo Nobel Example\" notebook first."
   ]
  },
  {
   "cell_type": "markdown",
   "id": "be323115-6144-4a3f-b246-9476e2e8c3bf",
   "metadata": {},
   "source": [
    "## Imports"
   ]
  },
  {
   "cell_type": "code",
   "execution_count": 1,
   "id": "470b725b-a7fe-4974-ba3e-de6bde4adc17",
   "metadata": {},
   "outputs": [],
   "source": [
    "import numpy as np\n",
    "import matplotlib.pyplot as plt\n",
    "\n",
    "import pyomo.environ as pyo\n",
    "import idaes.core.solvers.petsc as petsc # petsc utilities module\n",
    "import pid\n",
    "from idaes.core.util.math import smooth_max, smooth_min"
   ]
  },
  {
   "cell_type": "markdown",
   "id": "dc39a221-e5d4-44ef-b279-fac77538d5ff",
   "metadata": {},
   "source": [
    "## Model Set Up"
   ]
  },
  {
   "cell_type": "code",
   "execution_count": 2,
   "id": "05e801a9-bc57-4566-9036-0ad6ce76fc17",
   "metadata": {},
   "outputs": [],
   "source": [
    "# to see the model code uncomment the line below\n",
    "#??pid"
   ]
  },
  {
   "cell_type": "code",
   "execution_count": 3,
   "id": "c15552d1-b386-4c28-a1c5-02fb9139332d",
   "metadata": {},
   "outputs": [
    {
     "name": "stdout",
     "output_type": "stream",
     "text": [
      "2022-01-16 19:35:27 [INFO] idaes.init.fs.valve_1: Initialization Complete: optimal - Optimal Solution Found\n",
      "2022-01-16 19:35:27 [INFO] idaes.init.fs.tank.control_volume: Initialization Complete\n",
      "2022-01-16 19:35:27 [INFO] idaes.init.fs.tank: Initialization Complete: optimal - Optimal Solution Found\n",
      "2022-01-16 19:35:27 [INFO] idaes.init.fs.valve_2: Initialization Complete: optimal - Optimal Solution Found\n"
     ]
    }
   ],
   "source": [
    "m = pid.create_model(\n",
    "    time_set=[0, 12],\n",
    "    nfe=1,\n",
    "    calc_integ=True,\n",
    ")"
   ]
  },
  {
   "cell_type": "markdown",
   "id": "52933202-3dbc-452f-b032-9730fb0bfb49",
   "metadata": {},
   "source": [
    "## Solve"
   ]
  },
  {
   "cell_type": "code",
   "execution_count": 4,
   "id": "8916ff38-f545-4cd9-97ce-574c418aab0d",
   "metadata": {},
   "outputs": [
    {
     "name": "stdout",
     "output_type": "stream",
     "text": [
      "2022-01-16 19:35:29 [INFO] idaes.solve.petsc-dae: Called fg_read, err: 0 (0 is good)\n",
      "2022-01-16 19:35:29 [INFO] idaes.solve.petsc-dae: ---------------------------------------------------\n",
      "2022-01-16 19:35:29 [INFO] idaes.solve.petsc-dae: DAE: 0\n",
      "2022-01-16 19:35:29 [INFO] idaes.solve.petsc-dae: Reading nl file: /mnt/c/Users/EslickJ/AppData/Local/Temp/tmprm2jskyh.pyomo.nl\n",
      "2022-01-16 19:35:29 [INFO] idaes.solve.petsc-dae: Number of constraints: 28\n",
      "2022-01-16 19:35:29 [INFO] idaes.solve.petsc-dae: Number of nonlinear constraints: 14\n",
      "2022-01-16 19:35:29 [INFO] idaes.solve.petsc-dae: Number of linear constraints: 14\n",
      "2022-01-16 19:35:29 [INFO] idaes.solve.petsc-dae: Number of inequalities: 0\n",
      "2022-01-16 19:35:29 [INFO] idaes.solve.petsc-dae: Number of variables: 28\n",
      "2022-01-16 19:35:29 [INFO] idaes.solve.petsc-dae: Number of integers: 0\n",
      "2022-01-16 19:35:29 [INFO] idaes.solve.petsc-dae: Number of binary: 0\n",
      "2022-01-16 19:35:29 [INFO] idaes.solve.petsc-dae: Number of objectives: 0 (Ignoring)\n",
      "2022-01-16 19:35:29 [INFO] idaes.solve.petsc-dae: Number of non-zeros in Jacobian: 83\n",
      "2022-01-16 19:35:29 [INFO] idaes.solve.petsc-dae: Number of degrees of freedom: 0\n",
      "2022-01-16 19:35:29 [INFO] idaes.solve.petsc-dae: ---------------------------------------------------\n",
      "2022-01-16 19:35:29 [INFO] idaes.solve.petsc-dae: 0 SNES Function norm 5.904233477544e+05\n",
      "2022-01-16 19:35:29 [INFO] idaes.solve.petsc-dae: 1 SNES Function norm 4.315325976358e+05\n",
      "2022-01-16 19:35:29 [INFO] idaes.solve.petsc-dae: 2 SNES Function norm 7.639793381334e+04\n",
      "2022-01-16 19:35:29 [INFO] idaes.solve.petsc-dae: 3 SNES Function norm 5.928557930246e+03\n",
      "2022-01-16 19:35:29 [INFO] idaes.solve.petsc-dae: 4 SNES Function norm 5.008361736230e+01\n",
      "2022-01-16 19:35:29 [INFO] idaes.solve.petsc-dae: 5 SNES Function norm 3.698195225878e-03\n",
      "2022-01-16 19:35:29 [INFO] idaes.solve.petsc-dae: 6 SNES Function norm 4.115904156200e-11\n",
      "2022-01-16 19:35:29 [INFO] idaes.solve.petsc-dae: SNESConvergedReason = SNES_CONVERGED_FNORM_ABS, in 6 iterations\n",
      "2022-01-16 19:35:29 [INFO] idaes.solve.petsc-dae: SNES_CONVERGED_FNORM_ABS\n",
      "2022-01-16 19:35:31 [INFO] idaes.solve.petsc-dae: Called fg_read, err: 0 (0 is good)\n",
      "2022-01-16 19:35:31 [INFO] idaes.solve.petsc-dae: ---------------------------------------------------\n",
      "2022-01-16 19:35:31 [INFO] idaes.solve.petsc-dae: DAE: 1\n",
      "2022-01-16 19:35:31 [INFO] idaes.solve.petsc-dae: Reading nl file: /mnt/c/Users/EslickJ/AppData/Local/Temp/tmp_nm0z0tb.pyomo.nl\n",
      "2022-01-16 19:35:31 [INFO] idaes.solve.petsc-dae: Number of constraints: 29\n",
      "2022-01-16 19:35:31 [INFO] idaes.solve.petsc-dae: Number of nonlinear constraints: 15\n",
      "2022-01-16 19:35:31 [INFO] idaes.solve.petsc-dae: Number of linear constraints: 14\n",
      "2022-01-16 19:35:31 [INFO] idaes.solve.petsc-dae: Number of inequalities: 0\n",
      "2022-01-16 19:35:31 [INFO] idaes.solve.petsc-dae: Number of variables: 34\n",
      "2022-01-16 19:35:31 [INFO] idaes.solve.petsc-dae: Number of integers: 0\n",
      "2022-01-16 19:35:31 [INFO] idaes.solve.petsc-dae: Number of binary: 0\n",
      "2022-01-16 19:35:31 [INFO] idaes.solve.petsc-dae: Number of objectives: 0 (Ignoring)\n",
      "2022-01-16 19:35:31 [INFO] idaes.solve.petsc-dae: Number of non-zeros in Jacobian: 91\n",
      "2022-01-16 19:35:31 [INFO] idaes.solve.petsc-dae: Explicit time variable: 0\n",
      "2022-01-16 19:35:31 [INFO] idaes.solve.petsc-dae: Number of derivatives: 5\n",
      "2022-01-16 19:35:31 [INFO] idaes.solve.petsc-dae: Number of differential vars: 5\n",
      "2022-01-16 19:35:31 [INFO] idaes.solve.petsc-dae: Number of algebraic vars: 24\n",
      "2022-01-16 19:35:31 [INFO] idaes.solve.petsc-dae: Number of state vars: 29\n",
      "2022-01-16 19:35:31 [INFO] idaes.solve.petsc-dae: Number of degrees of freedom: 0\n",
      "2022-01-16 19:35:31 [INFO] idaes.solve.petsc-dae: ---------------------------------------------------\n",
      "2022-01-16 19:35:31 [INFO] idaes.solve.petsc-dae: 0 TS dt 0.1 time 0.\n",
      "2022-01-16 19:35:31 [INFO] idaes.solve.petsc-dae: 1 TS dt 0.1 time 0.1\n",
      "2022-01-16 19:35:31 [INFO] idaes.solve.petsc-dae: 2 TS dt 0.0283969 time 0.117913\n",
      "2022-01-16 19:35:31 [INFO] idaes.solve.petsc-dae: 3 TS dt 0.016625 time 0.132528\n",
      "2022-01-16 19:35:31 [INFO] idaes.solve.petsc-dae: 4 TS dt 0.0158745 time 0.149153\n",
      "2022-01-16 19:35:31 [INFO] idaes.solve.petsc-dae: 5 TS dt 0.0172739 time 0.165027\n",
      "2022-01-16 19:35:31 [INFO] idaes.solve.petsc-dae: 6 TS dt 0.0174024 time 0.182301\n",
      "2022-01-16 19:35:31 [INFO] idaes.solve.petsc-dae: 7 TS dt 0.0184955 time 0.199703\n",
      "2022-01-16 19:35:31 [INFO] idaes.solve.petsc-dae: 8 TS dt 0.019007 time 0.218199\n",
      "2022-01-16 19:35:31 [INFO] idaes.solve.petsc-dae: 9 TS dt 0.0199726 time 0.237206\n",
      "2022-01-16 19:35:31 [INFO] idaes.solve.petsc-dae: 10 TS dt 0.0206586 time 0.257179\n",
      "2022-01-16 19:35:31 [INFO] idaes.solve.petsc-dae: 11 TS dt 0.0215502 time 0.277837\n",
      "2022-01-16 19:35:32 [INFO] idaes.solve.petsc-dae: 12 TS dt 0.0222775 time 0.299387\n",
      "2022-01-16 19:35:32 [INFO] idaes.solve.petsc-dae: 13 TS dt 0.0230664 time 0.321665\n",
      "2022-01-16 19:35:32 [INFO] idaes.solve.petsc-dae: 14 TS dt 0.023719 time 0.344731\n",
      "2022-01-16 19:35:32 [INFO] idaes.solve.petsc-dae: 15 TS dt 0.0243423 time 0.36845\n",
      "2022-01-16 19:35:32 [INFO] idaes.solve.petsc-dae: 16 TS dt 0.0248331 time 0.392793\n",
      "2022-01-16 19:35:32 [INFO] idaes.solve.petsc-dae: 17 TS dt 0.0252521 time 0.417626\n",
      "2022-01-16 19:35:32 [INFO] idaes.solve.petsc-dae: 18 TS dt 0.0255567 time 0.442878\n",
      "2022-01-16 19:35:32 [INFO] idaes.solve.petsc-dae: 19 TS dt 0.0257915 time 0.468435\n",
      "2022-01-16 19:35:32 [INFO] idaes.solve.petsc-dae: 20 TS dt 0.0259479 time 0.494226\n",
      "2022-01-16 19:35:32 [INFO] idaes.solve.petsc-dae: 21 TS dt 0.0260597 time 0.520174\n",
      "2022-01-16 19:35:32 [INFO] idaes.solve.petsc-dae: 22 TS dt 0.0261313 time 0.546234\n",
      "2022-01-16 19:35:32 [INFO] idaes.solve.petsc-dae: 23 TS dt 0.0261854 time 0.572365\n",
      "2022-01-16 19:35:32 [INFO] idaes.solve.petsc-dae: 24 TS dt 0.026228 time 0.598551\n",
      "2022-01-16 19:35:32 [INFO] idaes.solve.petsc-dae: 25 TS dt 0.0262727 time 0.624779\n",
      "2022-01-16 19:35:32 [INFO] idaes.solve.petsc-dae: 26 TS dt 0.0263238 time 0.651051\n",
      "2022-01-16 19:35:32 [INFO] idaes.solve.petsc-dae: 27 TS dt 0.0263888 time 0.677375\n",
      "2022-01-16 19:35:32 [INFO] idaes.solve.petsc-dae: 28 TS dt 0.0264705 time 0.703764\n",
      "2022-01-16 19:35:32 [INFO] idaes.solve.petsc-dae: 29 TS dt 0.0265728 time 0.730234\n",
      "2022-01-16 19:35:32 [INFO] idaes.solve.petsc-dae: 30 TS dt 0.0266975 time 0.756807\n",
      "2022-01-16 19:35:32 [INFO] idaes.solve.petsc-dae: 31 TS dt 0.0268471 time 0.783505\n",
      "2022-01-16 19:35:32 [INFO] idaes.solve.petsc-dae: 32 TS dt 0.0270228 time 0.810352\n",
      "2022-01-16 19:35:32 [INFO] idaes.solve.petsc-dae: 33 TS dt 0.0272263 time 0.837374\n",
      "2022-01-16 19:35:32 [INFO] idaes.solve.petsc-dae: 34 TS dt 0.0274591 time 0.864601\n",
      "2022-01-16 19:35:32 [INFO] idaes.solve.petsc-dae: 35 TS dt 0.0277226 time 0.89206\n",
      "2022-01-16 19:35:32 [INFO] idaes.solve.petsc-dae: 36 TS dt 0.0280186 time 0.919782\n",
      "2022-01-16 19:35:32 [INFO] idaes.solve.petsc-dae: 37 TS dt 0.0283487 time 0.947801\n",
      "2022-01-16 19:35:32 [INFO] idaes.solve.petsc-dae: 38 TS dt 0.0287152 time 0.97615\n",
      "2022-01-16 19:35:32 [INFO] idaes.solve.petsc-dae: 39 TS dt 0.0291202 time 1.00486\n",
      "2022-01-16 19:35:32 [INFO] idaes.solve.petsc-dae: 40 TS dt 0.0295665 time 1.03399\n",
      "2022-01-16 19:35:32 [INFO] idaes.solve.petsc-dae: 41 TS dt 0.0300571 time 1.06355\n",
      "2022-01-16 19:35:32 [INFO] idaes.solve.petsc-dae: 42 TS dt 0.0305957 time 1.09361\n",
      "2022-01-16 19:35:32 [INFO] idaes.solve.petsc-dae: 43 TS dt 0.0311862 time 1.1242\n",
      "2022-01-16 19:35:32 [INFO] idaes.solve.petsc-dae: 44 TS dt 0.0318336 time 1.15539\n",
      "2022-01-16 19:35:33 [INFO] idaes.solve.petsc-dae: 45 TS dt 0.0325434 time 1.18722\n",
      "2022-01-16 19:35:33 [INFO] idaes.solve.petsc-dae: 46 TS dt 0.033322 time 1.21977\n",
      "2022-01-16 19:35:33 [INFO] idaes.solve.petsc-dae: 47 TS dt 0.0341772 time 1.25309\n",
      "2022-01-16 19:35:33 [INFO] idaes.solve.petsc-dae: 48 TS dt 0.0351179 time 1.28727\n",
      "2022-01-16 19:35:33 [INFO] idaes.solve.petsc-dae: 49 TS dt 0.0361548 time 1.32238\n",
      "2022-01-16 19:35:33 [INFO] idaes.solve.petsc-dae: 50 TS dt 0.0373005 time 1.35854\n",
      "2022-01-16 19:35:33 [INFO] idaes.solve.petsc-dae: 51 TS dt 0.0385702 time 1.39584\n",
      "2022-01-16 19:35:33 [INFO] idaes.solve.petsc-dae: 52 TS dt 0.0399821 time 1.43441\n",
      "2022-01-16 19:35:33 [INFO] idaes.solve.petsc-dae: 53 TS dt 0.0415586 time 1.47439\n",
      "2022-01-16 19:35:33 [INFO] idaes.solve.petsc-dae: 54 TS dt 0.0433269 time 1.51595\n",
      "2022-01-16 19:35:33 [INFO] idaes.solve.petsc-dae: 55 TS dt 0.0453206 time 1.55928\n",
      "2022-01-16 19:35:33 [INFO] idaes.solve.petsc-dae: 56 TS dt 0.0475818 time 1.6046\n",
      "2022-01-16 19:35:33 [INFO] idaes.solve.petsc-dae: 57 TS dt 0.0501633 time 1.65218\n",
      "2022-01-16 19:35:33 [INFO] idaes.solve.petsc-dae: 58 TS dt 0.0531324 time 1.70234\n",
      "2022-01-16 19:35:33 [INFO] idaes.solve.petsc-dae: 59 TS dt 0.0565752 time 1.75548\n",
      "2022-01-16 19:35:33 [INFO] idaes.solve.petsc-dae: 60 TS dt 0.0606026 time 1.81205\n",
      "2022-01-16 19:35:33 [INFO] idaes.solve.petsc-dae: 61 TS dt 0.0653575 time 1.87265\n",
      "2022-01-16 19:35:33 [INFO] idaes.solve.petsc-dae: 62 TS dt 0.071022 time 1.93801\n",
      "2022-01-16 19:35:33 [INFO] idaes.solve.petsc-dae: 63 TS dt 0.0778195 time 2.00903\n",
      "2022-01-16 19:35:33 [INFO] idaes.solve.petsc-dae: 64 TS dt 0.0859987 time 2.08685\n",
      "2022-01-16 19:35:33 [INFO] idaes.solve.petsc-dae: 65 TS dt 0.0957685 time 2.17285\n",
      "2022-01-16 19:35:33 [INFO] idaes.solve.petsc-dae: 66 TS dt 0.107136 time 2.26862\n",
      "2022-01-16 19:35:33 [INFO] idaes.solve.petsc-dae: 67 TS dt 0.119655 time 2.37576\n",
      "2022-01-16 19:35:33 [INFO] idaes.solve.petsc-dae: 68 TS dt 0.132391 time 2.49541\n",
      "2022-01-16 19:35:33 [INFO] idaes.solve.petsc-dae: 69 TS dt 0.144569 time 2.6278\n",
      "2022-01-16 19:35:33 [INFO] idaes.solve.petsc-dae: 70 TS dt 0.156404 time 2.77237\n",
      "2022-01-16 19:35:33 [INFO] idaes.solve.petsc-dae: 71 TS dt 0.169045 time 2.92877\n",
      "2022-01-16 19:35:33 [INFO] idaes.solve.petsc-dae: 72 TS dt 0.184083 time 3.09782\n",
      "2022-01-16 19:35:33 [INFO] idaes.solve.petsc-dae: 73 TS dt 0.203409 time 3.2819\n",
      "2022-01-16 19:35:33 [INFO] idaes.solve.petsc-dae: 74 TS dt 0.229503 time 3.48531\n",
      "2022-01-16 19:35:33 [INFO] idaes.solve.petsc-dae: 75 TS dt 0.266175 time 3.71481\n",
      "2022-01-16 19:35:33 [INFO] idaes.solve.petsc-dae: 76 TS dt 0.320082 time 3.98099\n",
      "2022-01-16 19:35:33 [INFO] idaes.solve.petsc-dae: 77 TS dt 0.404173 time 4.30107\n",
      "2022-01-16 19:35:33 [INFO] idaes.solve.petsc-dae: 78 TS dt 0.546707 time 4.70524\n",
      "2022-01-16 19:35:34 [INFO] idaes.solve.petsc-dae: 79 TS dt 0.81886 time 5.25195\n",
      "2022-01-16 19:35:34 [INFO] idaes.solve.petsc-dae: 80 TS dt 1.43818 time 6.07081\n",
      "2022-01-16 19:35:34 [INFO] idaes.solve.petsc-dae: 81 TS dt 2.2455 time 7.509\n",
      "2022-01-16 19:35:34 [INFO] idaes.solve.petsc-dae: 82 TS dt 2.2455 time 9.7545\n",
      "2022-01-16 19:35:34 [INFO] idaes.solve.petsc-dae: 83 TS dt 22.455 time 12.\n",
      "2022-01-16 19:35:34 [INFO] idaes.solve.petsc-dae: TSConvergedReason = TS_CONVERGED_TIME\n",
      "2022-01-16 19:35:34 [INFO] idaes.solve.petsc-dae: TS_CONVERGED_TIME\n"
     ]
    }
   ],
   "source": [
    "res = petsc.petsc_dae_by_time_element(\n",
    "    m,\n",
    "    time=m.fs.time,\n",
    "    ts_options={\n",
    "        \"--ts_type\":\"beuler\",\n",
    "        \"--ts_dt\":0.1,\n",
    "        \"--ts_monitor\":\"\", # set initial step to 0.1\n",
    "        \"--ts_save_trajectory\":1,\n",
    "        \"--ts_trajectory_type\":\"visualization\",\n",
    "    },\n",
    "    vars_stub=\"pid_tj\",\n",
    "    trajectory_save_prefix=\"pid_tj\",\n",
    ")"
   ]
  },
  {
   "cell_type": "markdown",
   "id": "19a77e2b-d7bc-4e61-8231-ba1504d2c671",
   "metadata": {},
   "source": [
    "## Read and Plot Trajectory\n",
    "\n",
    "At the initial conditions the valve is fully open.  At t=0, the controller is activated and the controller adjusts the opening of valve 1 to keep the tank pressure at the setpoint of 300 kPa."
   ]
  },
  {
   "cell_type": "code",
   "execution_count": 5,
   "id": "81b52fc4-8900-40fa-a7e4-98cf0a8e56a1",
   "metadata": {},
   "outputs": [],
   "source": [
    "tj = petsc.PetscTrajectory(json=\"pid_tj_1.json.gz\")"
   ]
  },
  {
   "cell_type": "code",
   "execution_count": 6,
   "id": "65c97bdb-f3e0-4613-8711-be547f42fe79",
   "metadata": {},
   "outputs": [
    {
     "data": {
      "image/png": "[encoded data removed]",
      "text/plain": [
       "<Figure size 432x288 with 1 Axes>"
      ]
     },
     "metadata": {
      "needs_background": "light"
     },
     "output_type": "display_data"
    }
   ],
   "source": [
    "a = plt.plot(tj.vecs[\"_time\"], tj.vecs[str(m.fs.valve_1.valve_opening[12])])\n",
    "a = plt.ylabel(\"valve 1 fraction open\")\n",
    "a = plt.xlabel(\"time (s)\")"
   ]
  },
  {
   "cell_type": "code",
   "execution_count": 7,
   "id": "3466a08e-4d16-4b22-9ab7-6439c721d40b",
   "metadata": {},
   "outputs": [
    {
     "data": {
      "image/png": "[encoded data removed]",
      "text/plain": [
       "<Figure size 432x288 with 1 Axes>"
      ]
     },
     "metadata": {
      "needs_background": "light"
     },
     "output_type": "display_data"
    }
   ],
   "source": [
    "a = plt.plot(tj.vecs[\"_time\"], tj.vecs[str(m.fs.tank.control_volume.properties_out[12].pressure)])\n",
    "a = plt.ylabel(\"tank pressure (Pa)\")\n",
    "a = plt.xlabel(\"time (s)\")"
   ]
  },
  {
   "cell_type": "markdown",
   "id": "e0933779-f4b3-4933-83dc-0ec70645af45",
   "metadata": {},
   "source": [
    "## Model a ramp in inlet perssure\n",
    "\n",
    "Next we show how to add an explicit time variable and ramp the inlet pressure from 500 kPa to 600 kPa between 10 and 12 seconds."
   ]
  },
  {
   "cell_type": "code",
   "execution_count": 8,
   "id": "faba65e5-4b4d-46dc-ba74-10ff0424cd3d",
   "metadata": {},
   "outputs": [
    {
     "name": "stdout",
     "output_type": "stream",
     "text": [
      "pressure : Pressure\n",
      "    Size=1, Index=None, Units=Pa\n",
      "    Key  : Lower : Value    : Upper        : Fixed : Stale : Domain\n",
      "    None :   0.1 : 500000.0 : 1000000000.0 :  True :  True : PositiveReals\n"
     ]
    }
   ],
   "source": [
    "# First, with the model we have, verify that the inlet pressure is fixed at 500 kPa.\n",
    "m.fs.valve_1.control_volume.properties_in[0].pressure.display()"
   ]
  },
  {
   "cell_type": "code",
   "execution_count": 9,
   "id": "a4a63238-a4c6-4da3-af4c-56c0877363e7",
   "metadata": {},
   "outputs": [
    {
     "name": "stdout",
     "output_type": "stream",
     "text": [
      "2022-01-16 19:35:35 [INFO] idaes.init.fs.valve_1: Initialization Complete: optimal - Optimal Solution Found\n",
      "2022-01-16 19:35:35 [INFO] idaes.init.fs.tank.control_volume: Initialization Complete\n",
      "2022-01-16 19:35:35 [INFO] idaes.init.fs.tank: Initialization Complete: optimal - Optimal Solution Found\n",
      "2022-01-16 19:35:36 [INFO] idaes.init.fs.valve_2: Initialization Complete: optimal - Optimal Solution Found\n"
     ]
    }
   ],
   "source": [
    "# Create a new copy of the model that runs to 24 seconds, and add a constraint.\n",
    "\n",
    "m = pid.create_model(\n",
    "    time_set=[0, 24],\n",
    "    nfe=1,\n",
    "    calc_integ=True,\n",
    ")\n",
    "# time_var will be an explicit time variable we can use in constraints.\n",
    "m.fs.time_var = pyo.Var(m.fs.time)\n",
    "\n",
    "# We'll add a constraint to calculate the inlet pressure based on time,\n",
    "# so we need to unfix pressure.\n",
    "m.fs.valve_1.control_volume.properties_in[0].pressure.unfix()\n",
    "m.fs.valve_1.control_volume.properties_in[24].pressure.unfix()\n",
    "\n",
    "# The solver will directly set the time varaible for the DAE solve, but\n",
    "# solving the initial conditions is just a system of nonlinear equations,\n",
    "# so we need to fix the initial time.\n",
    "m.fs.time_var[0].fix(m.fs.time.first())\n",
    "\n",
    "# We could break up the time domain and solve this in pieces, but creative use\n",
    "# of min and max will let us create the ramping function we want.\n",
    "# From 10s to 12s ramp inlet pressure from 500,000 Pa to 600,000 Pa\n",
    "@m.fs.Constraint(m.fs.time)\n",
    "def inlet_pressure_eqn(b, t):\n",
    "    return b.valve_1.control_volume.properties_in[t].pressure == \\\n",
    "        smooth_min(600000, smooth_max(500000, 50000*(b.time_var[t] - 10) + 500000))"
   ]
  },
  {
   "cell_type": "code",
   "execution_count": 10,
   "id": "78d0a0c1-fcbc-465a-a8b9-c2a7b5f1e98d",
   "metadata": {},
   "outputs": [
    {
     "name": "stdout",
     "output_type": "stream",
     "text": [
      "2022-01-16 19:35:38 [INFO] idaes.solve.petsc-dae: Called fg_read, err: 0 (0 is good)\n",
      "2022-01-16 19:35:38 [INFO] idaes.solve.petsc-dae: ---------------------------------------------------\n",
      "2022-01-16 19:35:38 [INFO] idaes.solve.petsc-dae: DAE: 0\n",
      "2022-01-16 19:35:38 [INFO] idaes.solve.petsc-dae: Reading nl file: /mnt/c/Users/EslickJ/AppData/Local/Temp/tmpvczowdek.pyomo.nl\n",
      "2022-01-16 19:35:38 [INFO] idaes.solve.petsc-dae: Number of constraints: 29\n",
      "2022-01-16 19:35:38 [INFO] idaes.solve.petsc-dae: Number of nonlinear constraints: 15\n",
      "2022-01-16 19:35:38 [INFO] idaes.solve.petsc-dae: Number of linear constraints: 14\n",
      "2022-01-16 19:35:38 [INFO] idaes.solve.petsc-dae: Number of inequalities: 0\n",
      "2022-01-16 19:35:38 [INFO] idaes.solve.petsc-dae: Number of variables: 29\n",
      "2022-01-16 19:35:38 [INFO] idaes.solve.petsc-dae: Number of integers: 0\n",
      "2022-01-16 19:35:38 [INFO] idaes.solve.petsc-dae: Number of binary: 0\n",
      "2022-01-16 19:35:38 [INFO] idaes.solve.petsc-dae: Number of objectives: 0 (Ignoring)\n",
      "2022-01-16 19:35:38 [INFO] idaes.solve.petsc-dae: Number of non-zeros in Jacobian: 89\n",
      "2022-01-16 19:35:38 [INFO] idaes.solve.petsc-dae: Number of degrees of freedom: 0\n",
      "2022-01-16 19:35:38 [INFO] idaes.solve.petsc-dae: ---------------------------------------------------\n",
      "2022-01-16 19:35:38 [INFO] idaes.solve.petsc-dae: 0 SNES Function norm 5.904233477544e+05\n",
      "2022-01-16 19:35:38 [INFO] idaes.solve.petsc-dae: 1 SNES Function norm 4.315325976358e+05\n",
      "2022-01-16 19:35:38 [INFO] idaes.solve.petsc-dae: 2 SNES Function norm 7.639793381334e+04\n",
      "2022-01-16 19:35:38 [INFO] idaes.solve.petsc-dae: 3 SNES Function norm 5.928557930246e+03\n",
      "2022-01-16 19:35:38 [INFO] idaes.solve.petsc-dae: 4 SNES Function norm 5.008361736230e+01\n",
      "2022-01-16 19:35:38 [INFO] idaes.solve.petsc-dae: 5 SNES Function norm 3.698195225878e-03\n",
      "2022-01-16 19:35:38 [INFO] idaes.solve.petsc-dae: 6 SNES Function norm 7.128953984505e-11\n",
      "2022-01-16 19:35:38 [INFO] idaes.solve.petsc-dae: SNESConvergedReason = SNES_CONVERGED_FNORM_ABS, in 6 iterations\n",
      "2022-01-16 19:35:38 [INFO] idaes.solve.petsc-dae: SNES_CONVERGED_FNORM_ABS\n",
      "2022-01-16 19:35:40 [INFO] idaes.solve.petsc-dae: Called fg_read, err: 0 (0 is good)\n",
      "2022-01-16 19:35:40 [INFO] idaes.solve.petsc-dae: ---------------------------------------------------\n",
      "2022-01-16 19:35:40 [INFO] idaes.solve.petsc-dae: DAE: 1\n",
      "2022-01-16 19:35:40 [INFO] idaes.solve.petsc-dae: Reading nl file: /mnt/c/Users/EslickJ/AppData/Local/Temp/tmpw_9sr2ag.pyomo.nl\n",
      "2022-01-16 19:35:40 [INFO] idaes.solve.petsc-dae: Number of constraints: 30\n",
      "2022-01-16 19:35:40 [INFO] idaes.solve.petsc-dae: Number of nonlinear constraints: 17\n",
      "2022-01-16 19:35:40 [INFO] idaes.solve.petsc-dae: Number of linear constraints: 13\n",
      "2022-01-16 19:35:40 [INFO] idaes.solve.petsc-dae: Number of inequalities: 0\n",
      "2022-01-16 19:35:40 [INFO] idaes.solve.petsc-dae: Number of variables: 36\n",
      "2022-01-16 19:35:40 [INFO] idaes.solve.petsc-dae: Number of integers: 0\n",
      "2022-01-16 19:35:40 [INFO] idaes.solve.petsc-dae: Number of binary: 0\n",
      "2022-01-16 19:35:40 [INFO] idaes.solve.petsc-dae: Number of objectives: 0 (Ignoring)\n",
      "2022-01-16 19:35:40 [INFO] idaes.solve.petsc-dae: Number of non-zeros in Jacobian: 98\n",
      "2022-01-16 19:35:40 [INFO] idaes.solve.petsc-dae: Explicit time variable: 1\n",
      "2022-01-16 19:35:40 [INFO] idaes.solve.petsc-dae: Number of derivatives: 5\n",
      "2022-01-16 19:35:40 [INFO] idaes.solve.petsc-dae: Number of differential vars: 5\n",
      "2022-01-16 19:35:40 [INFO] idaes.solve.petsc-dae: Number of algebraic vars: 25\n",
      "2022-01-16 19:35:40 [INFO] idaes.solve.petsc-dae: Number of state vars: 30\n",
      "2022-01-16 19:35:40 [INFO] idaes.solve.petsc-dae: Number of degrees of freedom: 0\n",
      "2022-01-16 19:35:40 [INFO] idaes.solve.petsc-dae: ---------------------------------------------------\n",
      "2022-01-16 19:35:40 [INFO] idaes.solve.petsc-dae: 0 TS dt 0.1 time 0.\n",
      "2022-01-16 19:35:40 [INFO] idaes.solve.petsc-dae: 1 TS dt 0.1 time 0.1\n",
      "2022-01-16 19:35:40 [INFO] idaes.solve.petsc-dae: 2 TS dt 0.0285383 time 0.118065\n",
      "2022-01-16 19:35:40 [INFO] idaes.solve.petsc-dae: 3 TS dt 0.0167721 time 0.132825\n",
      "2022-01-16 19:35:40 [INFO] idaes.solve.petsc-dae: 4 TS dt 0.0160308 time 0.149597\n",
      "2022-01-16 19:35:40 [INFO] idaes.solve.petsc-dae: 5 TS dt 0.0174411 time 0.165628\n",
      "2022-01-16 19:35:40 [INFO] idaes.solve.petsc-dae: 6 TS dt 0.0175822 time 0.183069\n",
      "2022-01-16 19:35:40 [INFO] idaes.solve.petsc-dae: 7 TS dt 0.0186891 time 0.200651\n",
      "2022-01-16 19:35:40 [INFO] idaes.solve.petsc-dae: 8 TS dt 0.0192145 time 0.21934\n",
      "2022-01-16 19:35:40 [INFO] idaes.solve.petsc-dae: 9 TS dt 0.0201946 time 0.238555\n",
      "2022-01-16 19:35:40 [INFO] idaes.solve.petsc-dae: 10 TS dt 0.0208941 time 0.258749\n",
      "2022-01-16 19:35:40 [INFO] idaes.solve.petsc-dae: 11 TS dt 0.0217985 time 0.279643\n",
      "2022-01-16 19:35:40 [INFO] idaes.solve.petsc-dae: 12 TS dt 0.0225359 time 0.301442\n",
      "2022-01-16 19:35:41 [INFO] idaes.solve.petsc-dae: 13 TS dt 0.0233324 time 0.323978\n",
      "2022-01-16 19:35:41 [INFO] idaes.solve.petsc-dae: 14 TS dt 0.0239886 time 0.34731\n",
      "2022-01-16 19:35:41 [INFO] idaes.solve.petsc-dae: 15 TS dt 0.0246121 time 0.371299\n",
      "2022-01-16 19:35:41 [INFO] idaes.solve.petsc-dae: 16 TS dt 0.0250998 time 0.395911\n",
      "2022-01-16 19:35:41 [INFO] idaes.solve.petsc-dae: 17 TS dt 0.0255135 time 0.421011\n",
      "2022-01-16 19:35:41 [INFO] idaes.solve.petsc-dae: 18 TS dt 0.0258117 time 0.446524\n",
      "2022-01-16 19:35:41 [INFO] idaes.solve.petsc-dae: 19 TS dt 0.0260399 time 0.472336\n",
      "2022-01-16 19:35:41 [INFO] idaes.solve.petsc-dae: 20 TS dt 0.0261905 time 0.498376\n",
      "2022-01-16 19:35:41 [INFO] idaes.solve.petsc-dae: 21 TS dt 0.0262979 time 0.524566\n",
      "2022-01-16 19:35:41 [INFO] idaes.solve.petsc-dae: 22 TS dt 0.0263666 time 0.550864\n",
      "2022-01-16 19:35:41 [INFO] idaes.solve.petsc-dae: 23 TS dt 0.0264195 time 0.577231\n",
      "2022-01-16 19:35:41 [INFO] idaes.solve.petsc-dae: 24 TS dt 0.0264627 time 0.60365\n",
      "2022-01-16 19:35:41 [INFO] idaes.solve.petsc-dae: 25 TS dt 0.0265093 time 0.630113\n",
      "2022-01-16 19:35:41 [INFO] idaes.solve.petsc-dae: 26 TS dt 0.0265638 time 0.656622\n",
      "2022-01-16 19:35:41 [INFO] idaes.solve.petsc-dae: 27 TS dt 0.0266334 time 0.683186\n",
      "2022-01-16 19:35:41 [INFO] idaes.solve.petsc-dae: 28 TS dt 0.0267209 time 0.70982\n",
      "2022-01-16 19:35:41 [INFO] idaes.solve.petsc-dae: 29 TS dt 0.0268301 time 0.73654\n",
      "2022-01-16 19:35:41 [INFO] idaes.solve.petsc-dae: 30 TS dt 0.0269628 time 0.763371\n",
      "2022-01-16 19:35:41 [INFO] idaes.solve.petsc-dae: 31 TS dt 0.0271213 time 0.790333\n",
      "2022-01-16 19:35:41 [INFO] idaes.solve.petsc-dae: 32 TS dt 0.0273071 time 0.817455\n",
      "2022-01-16 19:35:41 [INFO] idaes.solve.petsc-dae: 33 TS dt 0.0275218 time 0.844762\n",
      "2022-01-16 19:35:41 [INFO] idaes.solve.petsc-dae: 34 TS dt 0.0277669 time 0.872284\n",
      "2022-01-16 19:35:41 [INFO] idaes.solve.petsc-dae: 35 TS dt 0.028044 time 0.90005\n",
      "2022-01-16 19:35:41 [INFO] idaes.solve.petsc-dae: 36 TS dt 0.0283548 time 0.928094\n",
      "2022-01-16 19:35:41 [INFO] idaes.solve.petsc-dae: 37 TS dt 0.0287012 time 0.956449\n",
      "2022-01-16 19:35:41 [INFO] idaes.solve.petsc-dae: 38 TS dt 0.0290856 time 0.98515\n",
      "2022-01-16 19:35:41 [INFO] idaes.solve.petsc-dae: 39 TS dt 0.0295103 time 1.01424\n",
      "2022-01-16 19:35:41 [INFO] idaes.solve.petsc-dae: 40 TS dt 0.0299783 time 1.04375\n",
      "2022-01-16 19:35:41 [INFO] idaes.solve.petsc-dae: 41 TS dt 0.0304929 time 1.07372\n",
      "2022-01-16 19:35:41 [INFO] idaes.solve.petsc-dae: 42 TS dt 0.0310579 time 1.10422\n",
      "2022-01-16 19:35:41 [INFO] idaes.solve.petsc-dae: 43 TS dt 0.0316779 time 1.13528\n",
      "2022-01-16 19:35:41 [INFO] idaes.solve.petsc-dae: 44 TS dt 0.0323581 time 1.16695\n",
      "2022-01-16 19:35:42 [INFO] idaes.solve.petsc-dae: 45 TS dt 0.0331044 time 1.19931\n",
      "2022-01-16 19:35:42 [INFO] idaes.solve.petsc-dae: 46 TS dt 0.0339241 time 1.23242\n",
      "2022-01-16 19:35:42 [INFO] idaes.solve.petsc-dae: 47 TS dt 0.0348255 time 1.26634\n",
      "2022-01-16 19:35:42 [INFO] idaes.solve.petsc-dae: 48 TS dt 0.0358185 time 1.30117\n",
      "2022-01-16 19:35:42 [INFO] idaes.solve.petsc-dae: 49 TS dt 0.0369149 time 1.33698\n",
      "2022-01-16 19:35:42 [INFO] idaes.solve.petsc-dae: 50 TS dt 0.0381287 time 1.3739\n",
      "2022-01-16 19:35:42 [INFO] idaes.solve.petsc-dae: 51 TS dt 0.0394767 time 1.41203\n",
      "2022-01-16 19:35:42 [INFO] idaes.solve.petsc-dae: 52 TS dt 0.0409795 time 1.4515\n",
      "2022-01-16 19:35:42 [INFO] idaes.solve.petsc-dae: 53 TS dt 0.042662 time 1.49248\n",
      "2022-01-16 19:35:42 [INFO] idaes.solve.petsc-dae: 54 TS dt 0.0445549 time 1.53515\n",
      "2022-01-16 19:35:42 [INFO] idaes.solve.petsc-dae: 55 TS dt 0.0466966 time 1.5797\n",
      "2022-01-16 19:35:42 [INFO] idaes.solve.petsc-dae: 56 TS dt 0.0491349 time 1.6264\n",
      "2022-01-16 19:35:42 [INFO] idaes.solve.petsc-dae: 57 TS dt 0.0519306 time 1.67553\n",
      "2022-01-16 19:35:42 [INFO] idaes.solve.petsc-dae: 58 TS dt 0.0551614 time 1.72746\n",
      "2022-01-16 19:35:42 [INFO] idaes.solve.petsc-dae: 59 TS dt 0.0589272 time 1.78262\n",
      "2022-01-16 19:35:42 [INFO] idaes.solve.petsc-dae: 60 TS dt 0.0633572 time 1.84155\n",
      "2022-01-16 19:35:42 [INFO] idaes.solve.petsc-dae: 61 TS dt 0.0686173 time 1.90491\n",
      "2022-01-16 19:35:42 [INFO] idaes.solve.petsc-dae: 62 TS dt 0.0749167 time 1.97353\n",
      "2022-01-16 19:35:42 [INFO] idaes.solve.petsc-dae: 63 TS dt 0.0825027 time 2.04844\n",
      "2022-01-16 19:35:42 [INFO] idaes.solve.petsc-dae: 64 TS dt 0.0916248 time 2.13095\n",
      "2022-01-16 19:35:42 [INFO] idaes.solve.petsc-dae: 65 TS dt 0.102421 time 2.22257\n",
      "2022-01-16 19:35:42 [INFO] idaes.solve.petsc-dae: 66 TS dt 0.114687 time 2.32499\n",
      "2022-01-16 19:35:42 [INFO] idaes.solve.petsc-dae: 67 TS dt 0.12767 time 2.43968\n",
      "2022-01-16 19:35:42 [INFO] idaes.solve.petsc-dae: 68 TS dt 0.140371 time 2.56735\n",
      "2022-01-16 19:35:42 [INFO] idaes.solve.petsc-dae: 69 TS dt 0.152482 time 2.70772\n",
      "2022-01-16 19:35:42 [INFO] idaes.solve.petsc-dae: 70 TS dt 0.164817 time 2.8602\n",
      "2022-01-16 19:35:42 [INFO] idaes.solve.petsc-dae: 71 TS dt 0.178856 time 3.02502\n",
      "2022-01-16 19:35:42 [INFO] idaes.solve.petsc-dae: 72 TS dt 0.196403 time 3.20387\n",
      "2022-01-16 19:35:42 [INFO] idaes.solve.petsc-dae: 73 TS dt 0.219691 time 3.40028\n",
      "2022-01-16 19:35:42 [INFO] idaes.solve.petsc-dae: 74 TS dt 0.251946 time 3.61997\n",
      "2022-01-16 19:35:42 [INFO] idaes.solve.petsc-dae: 75 TS dt 0.298542 time 3.87191\n",
      "2022-01-16 19:35:42 [INFO] idaes.solve.petsc-dae: 76 TS dt 0.369524 time 4.17046\n",
      "2022-01-16 19:35:42 [INFO] idaes.solve.petsc-dae: 77 TS dt 0.485852 time 4.53998\n",
      "2022-01-16 19:35:42 [INFO] idaes.solve.petsc-dae: 78 TS dt 0.697376 time 5.02583\n",
      "2022-01-16 19:35:43 [INFO] idaes.solve.petsc-dae: 79 TS dt 1.14493 time 5.72321\n",
      "2022-01-16 19:35:43 [INFO] idaes.solve.petsc-dae: 80 TS dt 2.33406 time 6.86813\n",
      "2022-01-16 19:35:43 [INFO] idaes.solve.petsc-dae: 81 TS dt 6.84079 time 9.20219\n",
      "2022-01-16 19:35:43 [INFO] idaes.solve.petsc-dae: 82 TS dt 6.84079 time 9.88627\n",
      "2022-01-16 19:35:43 [INFO] idaes.solve.petsc-dae: 83 TS dt 0.684079 time 9.95468\n",
      "2022-01-16 19:35:43 [INFO] idaes.solve.petsc-dae: 84 TS dt 0.114475 time 9.96612\n",
      "2022-01-16 19:35:43 [INFO] idaes.solve.petsc-dae: 85 TS dt 0.157141 time 9.98184\n",
      "2022-01-16 19:35:43 [INFO] idaes.solve.petsc-dae: 86 TS dt 0.168373 time 9.99868\n",
      "2022-01-16 19:35:43 [INFO] idaes.solve.petsc-dae: 87 TS dt 0.00625846 time 10.002\n",
      "2022-01-16 19:35:43 [INFO] idaes.solve.petsc-dae: 88 TS dt 0.00507659 time 10.0073\n",
      "2022-01-16 19:35:43 [INFO] idaes.solve.petsc-dae: 89 TS dt 0.0263784 time 10.0124\n",
      "2022-01-16 19:35:43 [INFO] idaes.solve.petsc-dae: 90 TS dt 0.0214531 time 10.0337\n",
      "2022-01-16 19:35:43 [INFO] idaes.solve.petsc-dae: 91 TS dt 0.0284313 time 10.0551\n",
      "2022-01-16 19:35:43 [INFO] idaes.solve.petsc-dae: 92 TS dt 0.0283301 time 10.0836\n",
      "2022-01-16 19:35:43 [INFO] idaes.solve.petsc-dae: 93 TS dt 0.0320737 time 10.1119\n",
      "2022-01-16 19:35:43 [INFO] idaes.solve.petsc-dae: 94 TS dt 0.0331647 time 10.144\n",
      "2022-01-16 19:35:43 [INFO] idaes.solve.petsc-dae: 95 TS dt 0.0360913 time 10.1771\n",
      "2022-01-16 19:35:43 [INFO] idaes.solve.petsc-dae: 96 TS dt 0.0379948 time 10.2132\n",
      "2022-01-16 19:35:43 [INFO] idaes.solve.petsc-dae: 97 TS dt 0.0406362 time 10.2512\n",
      "2022-01-16 19:35:43 [INFO] idaes.solve.petsc-dae: 98 TS dt 0.0427144 time 10.2919\n",
      "2022-01-16 19:35:44 [INFO] idaes.solve.petsc-dae: 99 TS dt 0.0448435 time 10.3346\n",
      "2022-01-16 19:35:44 [INFO] idaes.solve.petsc-dae: 100 TS dt 0.046461 time 10.3794\n",
      "2022-01-16 19:35:44 [INFO] idaes.solve.petsc-dae: 101 TS dt 0.0478551 time 10.4259\n",
      "2022-01-16 19:35:44 [INFO] idaes.solve.petsc-dae: 102 TS dt 0.0489142 time 10.4737\n",
      "2022-01-16 19:35:44 [INFO] idaes.solve.petsc-dae: 103 TS dt 0.0498602 time 10.5226\n",
      "2022-01-16 19:35:44 [INFO] idaes.solve.petsc-dae: 104 TS dt 0.0507381 time 10.5725\n",
      "2022-01-16 19:35:44 [INFO] idaes.solve.petsc-dae: 105 TS dt 0.0516846 time 10.6232\n",
      "2022-01-16 19:35:44 [INFO] idaes.solve.petsc-dae: 106 TS dt 0.0527509 time 10.6749\n",
      "2022-01-16 19:35:44 [INFO] idaes.solve.petsc-dae: 107 TS dt 0.0540122 time 10.7277\n",
      "2022-01-16 19:35:44 [INFO] idaes.solve.petsc-dae: 108 TS dt 0.0555123 time 10.7817\n",
      "2022-01-16 19:35:44 [INFO] idaes.solve.petsc-dae: 109 TS dt 0.0573081 time 10.8372\n",
      "2022-01-16 19:35:44 [INFO] idaes.solve.petsc-dae: 110 TS dt 0.0594539 time 10.8945\n",
      "2022-01-16 19:35:44 [INFO] idaes.solve.petsc-dae: 111 TS dt 0.062021 time 10.954\n",
      "2022-01-16 19:35:44 [INFO] idaes.solve.petsc-dae: 112 TS dt 0.0650952 time 11.016\n",
      "2022-01-16 19:35:44 [INFO] idaes.solve.petsc-dae: 113 TS dt 0.0687883 time 11.0811\n",
      "2022-01-16 19:35:44 [INFO] idaes.solve.petsc-dae: 114 TS dt 0.0732394 time 11.1499\n",
      "2022-01-16 19:35:44 [INFO] idaes.solve.petsc-dae: 115 TS dt 0.0786126 time 11.2231\n",
      "2022-01-16 19:35:44 [INFO] idaes.solve.petsc-dae: 116 TS dt 0.0850682 time 11.3017\n",
      "2022-01-16 19:35:44 [INFO] idaes.solve.petsc-dae: 117 TS dt 0.0926599 time 11.3868\n",
      "2022-01-16 19:35:44 [INFO] idaes.solve.petsc-dae: 118 TS dt 0.101096 time 11.4795\n",
      "2022-01-16 19:35:44 [INFO] idaes.solve.petsc-dae: 119 TS dt 0.1094 time 11.5805\n",
      "2022-01-16 19:35:44 [INFO] idaes.solve.petsc-dae: 120 TS dt 0.116069 time 11.6899\n",
      "2022-01-16 19:35:44 [INFO] idaes.solve.petsc-dae: 121 TS dt 0.120278 time 11.806\n",
      "2022-01-16 19:35:44 [INFO] idaes.solve.petsc-dae: 122 TS dt 0.122551 time 11.9263\n",
      "2022-01-16 19:35:45 [INFO] idaes.solve.petsc-dae: 123 TS dt 0.165418 time 11.9602\n",
      "2022-01-16 19:35:45 [INFO] idaes.solve.petsc-dae: 124 TS dt 0.138091 time 11.9829\n",
      "2022-01-16 19:35:45 [INFO] idaes.solve.petsc-dae: 125 TS dt 0.0275124 time 12.0017\n",
      "2022-01-16 19:35:45 [INFO] idaes.solve.petsc-dae: 126 TS dt 0.00633465 time 12.0053\n",
      "2022-01-16 19:35:45 [INFO] idaes.solve.petsc-dae: 127 TS dt 0.0269645 time 12.0116\n",
      "2022-01-16 19:35:45 [INFO] idaes.solve.petsc-dae: 128 TS dt 0.0251546 time 12.0386\n",
      "2022-01-16 19:35:45 [INFO] idaes.solve.petsc-dae: 129 TS dt 0.0340688 time 12.0638\n",
      "2022-01-16 19:35:45 [INFO] idaes.solve.petsc-dae: 130 TS dt 0.0330245 time 12.0978\n",
      "2022-01-16 19:35:45 [INFO] idaes.solve.petsc-dae: 131 TS dt 0.0375976 time 12.1309\n",
      "2022-01-16 19:35:45 [INFO] idaes.solve.petsc-dae: 132 TS dt 0.0381123 time 12.1685\n",
      "2022-01-16 19:35:45 [INFO] idaes.solve.petsc-dae: 133 TS dt 0.0410916 time 12.2066\n",
      "2022-01-16 19:35:45 [INFO] idaes.solve.petsc-dae: 134 TS dt 0.0422593 time 12.2477\n",
      "2022-01-16 19:35:45 [INFO] idaes.solve.petsc-dae: 135 TS dt 0.044362 time 12.2899\n",
      "2022-01-16 19:35:45 [INFO] idaes.solve.petsc-dae: 136 TS dt 0.0455877 time 12.3343\n",
      "2022-01-16 19:35:45 [INFO] idaes.solve.petsc-dae: 137 TS dt 0.0471524 time 12.3799\n",
      "2022-01-16 19:35:45 [INFO] idaes.solve.petsc-dae: 138 TS dt 0.0483535 time 12.427\n",
      "2022-01-16 19:35:45 [INFO] idaes.solve.petsc-dae: 139 TS dt 0.0497653 time 12.4754\n",
      "2022-01-16 19:35:45 [INFO] idaes.solve.petsc-dae: 140 TS dt 0.0511453 time 12.5251\n",
      "2022-01-16 19:35:45 [INFO] idaes.solve.petsc-dae: 141 TS dt 0.0527788 time 12.5763\n",
      "2022-01-16 19:35:45 [INFO] idaes.solve.petsc-dae: 142 TS dt 0.0546067 time 12.6291\n",
      "2022-01-16 19:35:45 [INFO] idaes.solve.petsc-dae: 143 TS dt 0.056795 time 12.6837\n",
      "2022-01-16 19:35:45 [INFO] idaes.solve.petsc-dae: 144 TS dt 0.0593768 time 12.7405\n",
      "2022-01-16 19:35:45 [INFO] idaes.solve.petsc-dae: 145 TS dt 0.0624979 time 12.7998\n",
      "2022-01-16 19:35:45 [INFO] idaes.solve.petsc-dae: 146 TS dt 0.0662764 time 12.8623\n",
      "2022-01-16 19:35:45 [INFO] idaes.solve.petsc-dae: 147 TS dt 0.0709207 time 12.9286\n",
      "2022-01-16 19:35:45 [INFO] idaes.solve.petsc-dae: 148 TS dt 0.0766919 time 12.9995\n",
      "2022-01-16 19:35:45 [INFO] idaes.solve.petsc-dae: 149 TS dt 0.0839883 time 13.0762\n",
      "2022-01-16 19:35:45 [INFO] idaes.solve.petsc-dae: 150 TS dt 0.0933816 time 13.1602\n",
      "2022-01-16 19:35:45 [INFO] idaes.solve.petsc-dae: 151 TS dt 0.10572 time 13.2536\n",
      "2022-01-16 19:35:45 [INFO] idaes.solve.petsc-dae: 152 TS dt 0.122168 time 13.3593\n",
      "2022-01-16 19:35:46 [INFO] idaes.solve.petsc-dae: 153 TS dt 0.143966 time 13.4815\n",
      "2022-01-16 19:35:46 [INFO] idaes.solve.petsc-dae: 154 TS dt 0.171146 time 13.6255\n",
      "2022-01-16 19:35:46 [INFO] idaes.solve.petsc-dae: 155 TS dt 0.20087 time 13.7966\n",
      "2022-01-16 19:35:46 [INFO] idaes.solve.petsc-dae: 156 TS dt 0.231498 time 13.9975\n",
      "2022-01-16 19:35:46 [INFO] idaes.solve.petsc-dae: 157 TS dt 0.268692 time 14.229\n",
      "2022-01-16 19:35:46 [INFO] idaes.solve.petsc-dae: 158 TS dt 0.323398 time 14.4977\n",
      "2022-01-16 19:35:46 [INFO] idaes.solve.petsc-dae: 159 TS dt 0.415639 time 14.8211\n",
      "2022-01-16 19:35:46 [INFO] idaes.solve.petsc-dae: 160 TS dt 0.591875 time 15.2367\n",
      "2022-01-16 19:35:46 [INFO] idaes.solve.petsc-dae: 161 TS dt 0.991269 time 15.8286\n",
      "2022-01-16 19:35:46 [INFO] idaes.solve.petsc-dae: 162 TS dt 2.16148 time 16.8198\n",
      "2022-01-16 19:35:46 [INFO] idaes.solve.petsc-dae: 163 TS dt 5.01868 time 18.9813\n",
      "2022-01-16 19:35:46 [INFO] idaes.solve.petsc-dae: 164 TS dt 21.6031 time 24.\n",
      "2022-01-16 19:35:46 [INFO] idaes.solve.petsc-dae: TSConvergedReason = TS_CONVERGED_TIME\n",
      "2022-01-16 19:35:46 [INFO] idaes.solve.petsc-dae: TS_CONVERGED_TIME\n"
     ]
    }
   ],
   "source": [
    "# Solve the new problem.  Notice the new argument specifying the explicit time variable. \n",
    "res = petsc.petsc_dae_by_time_element(\n",
    "    m,\n",
    "    time=m.fs.time,\n",
    "    timevar=m.fs.time_var,\n",
    "    ts_options={\n",
    "        \"--ts_type\":\"beuler\",\n",
    "        \"--ts_dt\":0.1,\n",
    "        \"--ts_monitor\":\"\", # set initial step to 0.1\n",
    "        \"--ts_save_trajectory\":1,\n",
    "        \"--ts_trajectory_type\":\"visualization\",\n",
    "    },\n",
    "    vars_stub=\"pid_tj2\",\n",
    "    trajectory_save_prefix=\"pid_tj2\",\n",
    ")"
   ]
  },
  {
   "cell_type": "code",
   "execution_count": 11,
   "id": "459a1c97-eae3-4adf-83a2-c1e775211f4d",
   "metadata": {},
   "outputs": [],
   "source": [
    "tj = petsc.PetscTrajectory(json=\"pid_tj2_1.json.gz\")"
   ]
  },
  {
   "cell_type": "code",
   "execution_count": 12,
   "id": "bd0fd89a-93da-460e-9a5e-d5568dd4cbce",
   "metadata": {},
   "outputs": [
    {
     "data": {
      "image/png": "[encoded data removed]",
      "text/plain": [
       "<Figure size 432x288 with 1 Axes>"
      ]
     },
     "metadata": {
      "needs_background": "light"
     },
     "output_type": "display_data"
    }
   ],
   "source": [
    "a = plt.plot(tj.vecs[\"_time\"], tj.vecs[str(m.fs.valve_1.control_volume.properties_in[24].pressure)])\n",
    "a = plt.ylabel(\"inlet pressure (Pa)\")\n",
    "a = plt.xlabel(\"time (s)\")"
   ]
  },
  {
   "cell_type": "code",
   "execution_count": 13,
   "id": "3f6429ec-1c35-4626-98c4-2577126d5778",
   "metadata": {},
   "outputs": [
    {
     "data": {
      "image/png": "[encoded data removed]",
      "text/plain": [
       "<Figure size 432x288 with 1 Axes>"
      ]
     },
     "metadata": {
      "needs_background": "light"
     },
     "output_type": "display_data"
    }
   ],
   "source": [
    "a = plt.plot(tj.vecs[\"_time\"], tj.vecs[str(m.fs.valve_1.valve_opening[24])])\n",
    "a = plt.ylabel(\"valve 1 fraction open\")\n",
    "a = plt.xlabel(\"time (s)\")"
   ]
  },
  {
   "cell_type": "code",
   "execution_count": 14,
   "id": "a581d1a7-1062-4b65-83b0-784f3d59e450",
   "metadata": {},
   "outputs": [
    {
     "data": {
      "image/png": "[encoded data removed]",
      "text/plain": [
       "<Figure size 432x288 with 1 Axes>"
      ]
     },
     "metadata": {
      "needs_background": "light"
     },
     "output_type": "display_data"
    }
   ],
   "source": [
    "a = plt.plot(tj.vecs[\"_time\"], tj.vecs[str(m.fs.tank.control_volume.properties_out[24].pressure)])\n",
    "a = plt.ylabel(\"tank pressure (Pa)\")\n",
    "a = plt.xlabel(\"time (s)\")"
   ]
  },
  {
   "cell_type": "code",
   "execution_count": null,
   "id": "e2fc8180-9ad7-4cf5-9aad-78b882730347",
   "metadata": {},
   "outputs": [],
   "source": []
  }
 ],
 "metadata": {
  "kernelspec": {
   "display_name": "Python 3",
   "language": "python",
   "name": "python3"
  },
  "language_info": {
   "codemirror_mode": {
    "name": "ipython",
    "version": 3
   },
   "file_extension": ".py",
   "mimetype": "text/x-python",
   "name": "python",
   "nbconvert_exporter": "python",
   "pygments_lexer": "ipython3",
   "version": "3.9.4"
  }
 },
 "nbformat": 4,
 "nbformat_minor": 5
}
