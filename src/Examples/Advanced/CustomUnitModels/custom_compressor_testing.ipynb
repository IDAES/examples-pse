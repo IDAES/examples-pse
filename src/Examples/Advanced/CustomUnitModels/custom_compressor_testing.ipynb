{
 "cells": [
  {
   "cell_type": "markdown",
   "metadata": {},
   "source": [
    "# Custom Compressor Unit Model"
   ]
  },
  {
   "cell_type": "markdown",
   "metadata": {},
   "source": [
    "To demonstrate creation of a new unit model, we will create a constant-heat-capacity ideal-gas isentropic compressor. This will be a simple textbook model. We will utilize the mass and energy balances provided by IDAES control volumes, but we will write our own isentropic constraint based off of equations 7.18 and 7.23 from \"Introduction to Chemical Engineering Thermodynamics\" by J.M. Smith, H.C. Van Ness, and M.M. Abbott. \n",
    "\n",
    "The outlet temperature of an ideal gas undergoing isentropic compression is given by \n",
    "\\begin{align}\n",
    "& t_{out} = t_{in} + \\frac{1}{\\eta} \\left(t_{in} \\left(\\frac{p_{out}}{p_{in}}\\right)^{\\frac{\\gamma - 1}{\\gamma}} - t_{in}\\right)\n",
    "\\end{align}\n",
    "where $p$ is pressure, $t$ is temperature, and $\\gamma$ is the ratio of constant pressure heat capacity to constant volume heat capacity."
   ]
  },
  {
   "cell_type": "markdown",
   "metadata": {},
   "source": [
    "We will begin with relevant imports. We will need\n",
    "\n",
    "- Pyomo for writing our energy balance constraints\n",
    "- ConfigBlocks for specifying options for our compressor\n",
    "- ControlVolume0DBlocks for creating the appropriate state blocks for the inlet and outlet and for defining mas balances\n",
    "- IdealParameterBlock which provides a simple ideal-gas property package.\n",
    "- A few other helpful functions and enums from IDAES"
   ]
  },
  {
   "cell_type": "code",
   "execution_count": 1,
   "metadata": {},
   "outputs": [],
   "source": [
    "import pyomo.environ as pe\n",
    "from pyomo.common.config import ConfigBlock, ConfigValue, In\n",
    "from idaes.core import (ControlVolume0DBlock,\n",
    "                        declare_process_block_class,\n",
    "                        EnergyBalanceType,\n",
    "                        MomentumBalanceType,\n",
    "                        MaterialBalanceType,\n",
    "                        UnitModelBlockData,\n",
    "                        useDefault,\n",
    "                        FlowsheetBlock)\n",
    "from idaes.core.util.config import is_physical_parameter_block\n",
    "from methanol_param_VLE import PhysicalParameterBlock\n",
    "from idaes.core.util.misc import add_object_reference"
   ]
  },
  {
   "cell_type": "markdown",
   "metadata": {},
   "source": [
    "Now, we can write a function to create a control volume for our compressor. The control volume will define the inlet and outlet streams along with the appropriate state variables (specified by the property package). We will also use the control volume to create mass and energy balance constraints. \n",
    "\n",
    "Our function will take the compressor unit model object, the name of the control volume, and configuration options as arguments. Our compressor will only support steady-state models, so we will first ensure that ``dynamic`` and ``has_holdup`` are both ``False``.\n",
    "\n",
    "Next, we will create a 0D control volume. We are using a 0D control volume because our model does not depend on space. We then\n",
    "\n",
    "1. Attach the control volume to the compressor\n",
    "2. Create the appropriate state blocks with the control volume (for the inlet and outlet streams)\n",
    "3. Use the control volume to add mass balance constraints\n",
    "4. Use the control volume to add energy balance constraints"
   ]
  },
  {
   "cell_type": "code",
   "execution_count": 2,
   "metadata": {},
   "outputs": [],
   "source": [
    "def make_control_volume(unit, name, config):\n",
    "    if config.dynamic is not False:\n",
    "        raise ValueError('IdealGasIsentropcCompressor does not support dynamics')\n",
    "    if config.has_holdup is not False:\n",
    "        raise ValueError('IdealGasIsentropcCompressor does not support holdup')\n",
    "\n",
    "    control_volume = ControlVolume0DBlock(default={\"property_package\": config.property_package,\n",
    "                                                   \"property_package_args\": config.property_package_args})\n",
    "\n",
    "    setattr(unit, name, control_volume)\n",
    "\n",
    "    control_volume.add_state_blocks(has_phase_equilibrium=config.has_phase_equilibrium)\n",
    "    control_volume.add_material_balances(balance_type=config.material_balance_type,\n",
    "                                         has_phase_equilibrium=config.has_phase_equilibrium)\n",
    "    control_volume.add_total_enthalpy_balances(has_heat_of_reaction=False, \n",
    "                                               has_heat_transfer=False, \n",
    "                                               has_work_transfer=True)"
   ]
  },
  {
   "cell_type": "markdown",
   "metadata": {},
   "source": [
    "Next, we will write a function to add constraints to specify that the compressor is isentropic. \n",
    "1. Create a ``pressure_ratio`` variable to represent $p_{out}/p_{in}$. The lower bound is $1$, because we only want to allow compression (and not expansion).\n",
    "2. Create a ``ConstraintList`` to hold the constraints.\n",
    "3. Add the ``ConstraintList`` to the compressor\n",
    "4. Create the local variables ``inlet`` and ``outlet`` to reference the inlet and outlet state blocks.\n",
    "5. Add a constraint relating the inlet pressure, outlet pressure, and pressure ratio variables:\n",
    "\\begin{align}\n",
    "p_{in} p_{ratio} = p_{out}\n",
    "\\end{align}\n",
    "6. Add a constraint relating the inlet and outlet temperatures:\n",
    "\\begin{align}\n",
    "& t_{out} = t_{in} + \\frac{1}{\\eta} \\left(t_{in} p_{ratio}^{\\frac{\\gamma - 1}{\\gamma}} - t_{in}\\right)\n",
    "\\end{align}"
   ]
  },
  {
   "cell_type": "code",
   "execution_count": 3,
   "metadata": {},
   "outputs": [],
   "source": [
    "def add_isentropic(unit, name, config):\n",
    "    unit.pressure_ratio = pe.Var(initialize=1.0, bounds=(1, None))\n",
    "    cons = pe.ConstraintList()\n",
    "    setattr(unit, name, cons)\n",
    "    inlet = unit.control_volume.properties_in[0.0]\n",
    "    outlet = unit.control_volume.properties_out[0.0]\n",
    "    gamma = inlet._params.gamma\n",
    "    cons.add(inlet.pressure * unit.pressure_ratio == outlet.pressure)\n",
    "    cons.add(outlet.temperature ==\n",
    "             (inlet.temperature +\n",
    "              1/config.compressor_efficiency *\n",
    "              (inlet.temperature * unit.pressure_ratio**((gamma - 1) / gamma) -\n",
    "               inlet.temperature)))"
   ]
  },
  {
   "cell_type": "markdown",
   "metadata": {},
   "source": [
    "We also need a function to specify configuration options for the compressor. "
   ]
  },
  {
   "cell_type": "code",
   "execution_count": 4,
   "metadata": {},
   "outputs": [],
   "source": [
    "def make_compressor_config_block(config):\n",
    "    config.declare(\"material_balance_type\", ConfigValue(default=MaterialBalanceType.componentPhase, domain=In(MaterialBalanceType)))\n",
    "    config.declare(\"energy_balance_type\", ConfigValue(default=EnergyBalanceType.enthalpyTotal, domain=In([EnergyBalanceType.enthalpyTotal])))\n",
    "    config.declare(\"momentum_balance_type\", ConfigValue(default=MomentumBalanceType.none, domain=In([MomentumBalanceType.none])))\n",
    "    config.declare(\"has_phase_equilibrium\", ConfigValue(default=False, domain=In([False])))\n",
    "    config.declare(\"has_pressure_change\", ConfigValue(default=False, domain=In([False])))\n",
    "    config.declare(\"property_package\", ConfigValue(default=useDefault, domain=is_physical_parameter_block))\n",
    "    config.declare(\"property_package_args\", ConfigBlock(implicit=True))\n",
    "    config.declare(\"compressor_efficiency\", ConfigValue(default=0.75, domain=float))"
   ]
  },
  {
   "cell_type": "markdown",
   "metadata": {},
   "source": [
    "Finally, we can define the ideal-gas isentropic compressor. To do so, we create a class called ``IdealGasIsentropicCompressorData`` and use the ``declare_process_block_class`` decorator. For now, just consider the decorator to be boiler-plate. We then need to define the config block and write the ``build`` method. The ``build`` method should alwasy call ``super``. Next, we simply call the functions we wrote to build the control volume, energy balance, and electricity requirement performance equation. Finally, we need to call ``self.add_inlet_port()`` and ``self.add_outlet_port()``. These methods need to be called in order to create the ports which are used for connecting the unit to other units."
   ]
  },
  {
   "cell_type": "code",
   "execution_count": 5,
   "metadata": {},
   "outputs": [],
   "source": [
    "@declare_process_block_class(\"IdealGasIsentropicCompressor\")\n",
    "class IdealGasIsentropicCompressorData(UnitModelBlockData):\n",
    "    CONFIG = UnitModelBlockData.CONFIG()\n",
    "    make_compressor_config_block(CONFIG)\n",
    "\n",
    "    def build(self):\n",
    "        super(IdealGasIsentropicCompressorData, self).build()\n",
    "\n",
    "        make_control_volume(self, \"control_volume\", self.config)\n",
    "        add_isentropic(self, \"isentropic\", self.config)\n",
    "\n",
    "        self.add_inlet_port()\n",
    "        self.add_outlet_port()\n",
    "        \n",
    "        add_object_reference(self, 'work', self.control_volume.work[0.0])"
   ]
  },
  {
   "cell_type": "markdown",
   "metadata": {},
   "source": [
    "The compressor model is complete and can now be used like other IDAES unit models:"
   ]
  },
  {
   "cell_type": "code",
   "execution_count": 6,
   "metadata": {
    "scrolled": false
   },
   "outputs": [
    {
     "name": "stdout",
     "output_type": "stream",
     "text": [
      "optimal\n",
      "outlet : Size=1\n",
      "    Key  : Name           : Value\n",
      "    None :       flow_mol : {0.0: 1.0}\n",
      "         : mole_frac_comp : {(0.0, 'CH3OH'): 0.25, (0.0, 'CH4'): 0.25, (0.0, 'CO'): 0.25, (0.0, 'H2'): 0.25}\n",
      "         :       pressure : {0.0: 0.56}\n",
      "         :    temperature : {0.0: 4.314094393272423}\n",
      "work:  526302.31  MJ\n"
     ]
    }
   ],
   "source": [
    "m = pe.ConcreteModel()\n",
    "m.fs = FlowsheetBlock(default={\"dynamic\": False})\n",
    "m.fs.properties = props = PhysicalParameterBlock(default={'Cp': 0.038056, 'valid_phase': 'Vap'})\n",
    "\n",
    "m.fs.compressor = IdealGasIsentropicCompressor(default={\"property_package\": props, \n",
    "                                                      \"has_phase_equilibrium\": False})\n",
    "m.fs.compressor.inlet.flow_mol.fix(1)\n",
    "m.fs.compressor.inlet.mole_frac_comp[0, 'CH3OH'].fix(0.25)\n",
    "m.fs.compressor.inlet.mole_frac_comp[0, 'CH4'].fix(0.25)\n",
    "m.fs.compressor.inlet.mole_frac_comp[0, 'H2'].fix(0.25)\n",
    "m.fs.compressor.inlet.mole_frac_comp[0, 'CO'].fix(0.25)\n",
    "m.fs.compressor.inlet.pressure.fix(0.14)\n",
    "m.fs.compressor.inlet.temperature.fix(2.9315)\n",
    "m.fs.compressor.outlet.pressure.fix(0.56)\n",
    "\n",
    "opt = pe.SolverFactory('ipopt')\n",
    "opt.options['linear_solver'] = 'ma27'\n",
    "res = opt.solve(m, tee=False)\n",
    "print(res.solver.termination_condition)\n",
    "m.fs.compressor.outlet.display()\n",
    "print('work: ', round(m.fs.compressor.work.value, 2), ' MJ')"
   ]
  },
  {
   "cell_type": "code",
   "execution_count": 7,
   "metadata": {
    "tags": [
     "testing",
     "remove_cell"
    ]
   },
   "outputs": [
    {
     "ename": "AssertionError",
     "evalue": "",
     "output_type": "error",
     "traceback": [
      "\u001b[1;31m---------------------------------------------------------------------------\u001b[0m",
      "\u001b[1;31mAssertionError\u001b[0m                            Traceback (most recent call last)",
      "\u001b[1;32m~\\AppData\\Local\\Temp/ipykernel_95224/2798638407.py\u001b[0m in \u001b[0;36m<module>\u001b[1;34m\u001b[0m\n\u001b[0;32m      3\u001b[0m \u001b[1;33m\u001b[0m\u001b[0m\n\u001b[0;32m      4\u001b[0m \u001b[1;32massert\u001b[0m \u001b[0mres\u001b[0m\u001b[1;33m.\u001b[0m\u001b[0msolver\u001b[0m\u001b[1;33m.\u001b[0m\u001b[0mtermination_condition\u001b[0m \u001b[1;33m==\u001b[0m \u001b[0mTerminationCondition\u001b[0m\u001b[1;33m.\u001b[0m\u001b[0moptimal\u001b[0m\u001b[1;33m\u001b[0m\u001b[1;33m\u001b[0m\u001b[0m\n\u001b[1;32m----> 5\u001b[1;33m \u001b[1;32massert\u001b[0m \u001b[0mvalue\u001b[0m\u001b[1;33m(\u001b[0m\u001b[0mm\u001b[0m\u001b[1;33m.\u001b[0m\u001b[0mfs\u001b[0m\u001b[1;33m.\u001b[0m\u001b[0mcompressor\u001b[0m\u001b[1;33m.\u001b[0m\u001b[0mwork\u001b[0m\u001b[1;33m)\u001b[0m \u001b[1;33m==\u001b[0m \u001b[0mpytest\u001b[0m\u001b[1;33m.\u001b[0m\u001b[0mapprox\u001b[0m\u001b[1;33m(\u001b[0m\u001b[1;36m5.2616\u001b[0m\u001b[1;33m,\u001b[0m \u001b[0mabs\u001b[0m\u001b[1;33m=\u001b[0m\u001b[1;36m1e-2\u001b[0m\u001b[1;33m)\u001b[0m\u001b[1;33m\u001b[0m\u001b[1;33m\u001b[0m\u001b[0m\n\u001b[0m",
      "\u001b[1;31mAssertionError\u001b[0m: "
     ]
    }
   ],
   "source": [
    "import pytest\n",
    "from pyomo.environ import TerminationCondition, value\n",
    "\n",
    "assert res.solver.termination_condition == TerminationCondition.optimal\n",
    "assert value(m.fs.compressor.work) == pytest.approx(5.2616, abs=1e-2)"
   ]
  },
  {
   "cell_type": "code",
   "execution_count": 8,
   "metadata": {
    "scrolled": false
   },
   "outputs": [
    {
     "name": "stdout",
     "output_type": "stream",
     "text": [
      "Units problem with expression fs.properties.Cp*fs.compressor.control_volume.properties_in[0.0].flow_mol_phase[Liq]*fs.compressor.control_volume.properties_in[0.0].temperature*100 + fs.properties.Cp*fs.compressor.control_volume.properties_in[0.0].flow_mol_phase[Vap]*fs.compressor.control_volume.properties_in[0.0].temperature*100 - (fs.properties.Cp*fs.compressor.control_volume.properties_out[0.0].flow_mol_phase[Liq]*fs.compressor.control_volume.properties_out[0.0].temperature*100 + fs.properties.Cp*fs.compressor.control_volume.properties_out[0.0].flow_mol_phase[Vap]*fs.compressor.control_volume.properties_out[0.0].temperature*100) + fs.compressor.control_volume.work[0.0]\n",
      "Error in units when checking fs.compressor.control_volume.enthalpy_balances[0.0]\n",
      "Error in units when checking fs.compressor.control_volume\n",
      "Error in units when checking fs.compressor\n",
      "Error in units when checking fs\n",
      "Error in units when checking unknown\n"
     ]
    },
    {
     "ename": "InconsistentUnitsError",
     "evalue": "Error in units found in expression: fs.properties.Cp*fs.compressor.control_volume.properties_in[0.0].flow_mol_phase[Liq]*fs.compressor.control_volume.properties_in[0.0].temperature*100 + fs.properties.Cp*fs.compressor.control_volume.properties_in[0.0].flow_mol_phase[Vap]*fs.compressor.control_volume.properties_in[0.0].temperature*100 - (fs.properties.Cp*fs.compressor.control_volume.properties_out[0.0].flow_mol_phase[Liq]*fs.compressor.control_volume.properties_out[0.0].temperature*100 + fs.properties.Cp*fs.compressor.control_volume.properties_out[0.0].flow_mol_phase[Vap]*fs.compressor.control_volume.properties_out[0.0].temperature*100) + fs.compressor.control_volume.work[0.0]: dimensionless not compatible with kilogram * meter ** 2 / second ** 3.",
     "output_type": "error",
     "traceback": [
      "\u001b[1;31m---------------------------------------------------------------------------\u001b[0m",
      "\u001b[1;31mInconsistentUnitsError\u001b[0m                    Traceback (most recent call last)",
      "\u001b[1;32m~\\AppData\\Local\\Temp/ipykernel_95224/3721218494.py\u001b[0m in \u001b[0;36m<module>\u001b[1;34m\u001b[0m\n\u001b[0;32m      1\u001b[0m \u001b[1;32mfrom\u001b[0m \u001b[0mpyomo\u001b[0m\u001b[1;33m.\u001b[0m\u001b[0mutil\u001b[0m\u001b[1;33m.\u001b[0m\u001b[0mcheck_units\u001b[0m \u001b[1;32mimport\u001b[0m \u001b[0massert_units_consistent\u001b[0m\u001b[1;33m\u001b[0m\u001b[1;33m\u001b[0m\u001b[0m\n\u001b[0;32m      2\u001b[0m \u001b[1;33m\u001b[0m\u001b[0m\n\u001b[1;32m----> 3\u001b[1;33m \u001b[0massert_units_consistent\u001b[0m\u001b[1;33m(\u001b[0m\u001b[0mm\u001b[0m\u001b[1;33m)\u001b[0m\u001b[1;33m\u001b[0m\u001b[1;33m\u001b[0m\u001b[0m\n\u001b[0m",
      "\u001b[1;32mc:\\users\\bpaul\\miniconda3\\lib\\site-packages\\pyomo\\util\\check_units.py\u001b[0m in \u001b[0;36massert_units_consistent\u001b[1;34m(obj)\u001b[0m\n\u001b[0;32m    234\u001b[0m     \u001b[1;32melse\u001b[0m\u001b[1;33m:\u001b[0m\u001b[1;33m\u001b[0m\u001b[1;33m\u001b[0m\u001b[0m\n\u001b[0;32m    235\u001b[0m         \u001b[1;32mtry\u001b[0m\u001b[1;33m:\u001b[0m\u001b[1;33m\u001b[0m\u001b[1;33m\u001b[0m\u001b[0m\n\u001b[1;32m--> 236\u001b[1;33m             \u001b[0mhandler\u001b[0m\u001b[1;33m(\u001b[0m\u001b[0mobj\u001b[0m\u001b[1;33m)\u001b[0m\u001b[1;33m\u001b[0m\u001b[1;33m\u001b[0m\u001b[0m\n\u001b[0m\u001b[0;32m    237\u001b[0m         \u001b[1;32mexcept\u001b[0m \u001b[0mUnitsError\u001b[0m\u001b[1;33m:\u001b[0m\u001b[1;33m\u001b[0m\u001b[1;33m\u001b[0m\u001b[0m\n\u001b[0;32m    238\u001b[0m                 \u001b[0mprint\u001b[0m\u001b[1;33m(\u001b[0m\u001b[1;34m'Error in units when checking {}'\u001b[0m\u001b[1;33m.\u001b[0m\u001b[0mformat\u001b[0m\u001b[1;33m(\u001b[0m\u001b[0mobj\u001b[0m\u001b[1;33m)\u001b[0m\u001b[1;33m)\u001b[0m\u001b[1;33m\u001b[0m\u001b[1;33m\u001b[0m\u001b[0m\n",
      "\u001b[1;32mc:\\users\\bpaul\\miniconda3\\lib\\site-packages\\pyomo\\util\\check_units.py\u001b[0m in \u001b[0;36m_assert_units_consistent_block\u001b[1;34m(obj)\u001b[0m\n\u001b[0;32m    162\u001b[0m     \u001b[1;31m# check all the component objects\u001b[0m\u001b[1;33m\u001b[0m\u001b[1;33m\u001b[0m\u001b[1;33m\u001b[0m\u001b[0m\n\u001b[0;32m    163\u001b[0m     \u001b[1;32mfor\u001b[0m \u001b[0mcomponent\u001b[0m \u001b[1;32min\u001b[0m \u001b[0mobj\u001b[0m\u001b[1;33m.\u001b[0m\u001b[0mcomponent_objects\u001b[0m\u001b[1;33m(\u001b[0m\u001b[0mdescend_into\u001b[0m\u001b[1;33m=\u001b[0m\u001b[1;32mFalse\u001b[0m\u001b[1;33m,\u001b[0m \u001b[0mactive\u001b[0m\u001b[1;33m=\u001b[0m\u001b[1;32mTrue\u001b[0m\u001b[1;33m)\u001b[0m\u001b[1;33m:\u001b[0m\u001b[1;33m\u001b[0m\u001b[1;33m\u001b[0m\u001b[0m\n\u001b[1;32m--> 164\u001b[1;33m         \u001b[0massert_units_consistent\u001b[0m\u001b[1;33m(\u001b[0m\u001b[0mcomponent\u001b[0m\u001b[1;33m)\u001b[0m\u001b[1;33m\u001b[0m\u001b[1;33m\u001b[0m\u001b[0m\n\u001b[0m\u001b[0;32m    165\u001b[0m \u001b[1;33m\u001b[0m\u001b[0m\n\u001b[0;32m    166\u001b[0m _component_data_handlers = {\n",
      "\u001b[1;32mc:\\users\\bpaul\\miniconda3\\lib\\site-packages\\pyomo\\util\\check_units.py\u001b[0m in \u001b[0;36massert_units_consistent\u001b[1;34m(obj)\u001b[0m\n\u001b[0;32m    234\u001b[0m     \u001b[1;32melse\u001b[0m\u001b[1;33m:\u001b[0m\u001b[1;33m\u001b[0m\u001b[1;33m\u001b[0m\u001b[0m\n\u001b[0;32m    235\u001b[0m         \u001b[1;32mtry\u001b[0m\u001b[1;33m:\u001b[0m\u001b[1;33m\u001b[0m\u001b[1;33m\u001b[0m\u001b[0m\n\u001b[1;32m--> 236\u001b[1;33m             \u001b[0mhandler\u001b[0m\u001b[1;33m(\u001b[0m\u001b[0mobj\u001b[0m\u001b[1;33m)\u001b[0m\u001b[1;33m\u001b[0m\u001b[1;33m\u001b[0m\u001b[0m\n\u001b[0m\u001b[0;32m    237\u001b[0m         \u001b[1;32mexcept\u001b[0m \u001b[0mUnitsError\u001b[0m\u001b[1;33m:\u001b[0m\u001b[1;33m\u001b[0m\u001b[1;33m\u001b[0m\u001b[0m\n\u001b[0;32m    238\u001b[0m                 \u001b[0mprint\u001b[0m\u001b[1;33m(\u001b[0m\u001b[1;34m'Error in units when checking {}'\u001b[0m\u001b[1;33m.\u001b[0m\u001b[0mformat\u001b[0m\u001b[1;33m(\u001b[0m\u001b[0mobj\u001b[0m\u001b[1;33m)\u001b[0m\u001b[1;33m)\u001b[0m\u001b[1;33m\u001b[0m\u001b[1;33m\u001b[0m\u001b[0m\n",
      "\u001b[1;32mc:\\users\\bpaul\\miniconda3\\lib\\site-packages\\pyomo\\util\\check_units.py\u001b[0m in \u001b[0;36m_assert_units_consistent_block\u001b[1;34m(obj)\u001b[0m\n\u001b[0;32m    162\u001b[0m     \u001b[1;31m# check all the component objects\u001b[0m\u001b[1;33m\u001b[0m\u001b[1;33m\u001b[0m\u001b[1;33m\u001b[0m\u001b[0m\n\u001b[0;32m    163\u001b[0m     \u001b[1;32mfor\u001b[0m \u001b[0mcomponent\u001b[0m \u001b[1;32min\u001b[0m \u001b[0mobj\u001b[0m\u001b[1;33m.\u001b[0m\u001b[0mcomponent_objects\u001b[0m\u001b[1;33m(\u001b[0m\u001b[0mdescend_into\u001b[0m\u001b[1;33m=\u001b[0m\u001b[1;32mFalse\u001b[0m\u001b[1;33m,\u001b[0m \u001b[0mactive\u001b[0m\u001b[1;33m=\u001b[0m\u001b[1;32mTrue\u001b[0m\u001b[1;33m)\u001b[0m\u001b[1;33m:\u001b[0m\u001b[1;33m\u001b[0m\u001b[1;33m\u001b[0m\u001b[0m\n\u001b[1;32m--> 164\u001b[1;33m         \u001b[0massert_units_consistent\u001b[0m\u001b[1;33m(\u001b[0m\u001b[0mcomponent\u001b[0m\u001b[1;33m)\u001b[0m\u001b[1;33m\u001b[0m\u001b[1;33m\u001b[0m\u001b[0m\n\u001b[0m\u001b[0;32m    165\u001b[0m \u001b[1;33m\u001b[0m\u001b[0m\n\u001b[0;32m    166\u001b[0m _component_data_handlers = {\n",
      "\u001b[1;32mc:\\users\\bpaul\\miniconda3\\lib\\site-packages\\pyomo\\util\\check_units.py\u001b[0m in \u001b[0;36massert_units_consistent\u001b[1;34m(obj)\u001b[0m\n\u001b[0;32m    234\u001b[0m     \u001b[1;32melse\u001b[0m\u001b[1;33m:\u001b[0m\u001b[1;33m\u001b[0m\u001b[1;33m\u001b[0m\u001b[0m\n\u001b[0;32m    235\u001b[0m         \u001b[1;32mtry\u001b[0m\u001b[1;33m:\u001b[0m\u001b[1;33m\u001b[0m\u001b[1;33m\u001b[0m\u001b[0m\n\u001b[1;32m--> 236\u001b[1;33m             \u001b[0mhandler\u001b[0m\u001b[1;33m(\u001b[0m\u001b[0mobj\u001b[0m\u001b[1;33m)\u001b[0m\u001b[1;33m\u001b[0m\u001b[1;33m\u001b[0m\u001b[0m\n\u001b[0m\u001b[0;32m    237\u001b[0m         \u001b[1;32mexcept\u001b[0m \u001b[0mUnitsError\u001b[0m\u001b[1;33m:\u001b[0m\u001b[1;33m\u001b[0m\u001b[1;33m\u001b[0m\u001b[0m\n\u001b[0;32m    238\u001b[0m                 \u001b[0mprint\u001b[0m\u001b[1;33m(\u001b[0m\u001b[1;34m'Error in units when checking {}'\u001b[0m\u001b[1;33m.\u001b[0m\u001b[0mformat\u001b[0m\u001b[1;33m(\u001b[0m\u001b[0mobj\u001b[0m\u001b[1;33m)\u001b[0m\u001b[1;33m)\u001b[0m\u001b[1;33m\u001b[0m\u001b[1;33m\u001b[0m\u001b[0m\n",
      "\u001b[1;32mc:\\users\\bpaul\\miniconda3\\lib\\site-packages\\pyomo\\util\\check_units.py\u001b[0m in \u001b[0;36m_assert_units_consistent_block\u001b[1;34m(obj)\u001b[0m\n\u001b[0;32m    162\u001b[0m     \u001b[1;31m# check all the component objects\u001b[0m\u001b[1;33m\u001b[0m\u001b[1;33m\u001b[0m\u001b[1;33m\u001b[0m\u001b[0m\n\u001b[0;32m    163\u001b[0m     \u001b[1;32mfor\u001b[0m \u001b[0mcomponent\u001b[0m \u001b[1;32min\u001b[0m \u001b[0mobj\u001b[0m\u001b[1;33m.\u001b[0m\u001b[0mcomponent_objects\u001b[0m\u001b[1;33m(\u001b[0m\u001b[0mdescend_into\u001b[0m\u001b[1;33m=\u001b[0m\u001b[1;32mFalse\u001b[0m\u001b[1;33m,\u001b[0m \u001b[0mactive\u001b[0m\u001b[1;33m=\u001b[0m\u001b[1;32mTrue\u001b[0m\u001b[1;33m)\u001b[0m\u001b[1;33m:\u001b[0m\u001b[1;33m\u001b[0m\u001b[1;33m\u001b[0m\u001b[0m\n\u001b[1;32m--> 164\u001b[1;33m         \u001b[0massert_units_consistent\u001b[0m\u001b[1;33m(\u001b[0m\u001b[0mcomponent\u001b[0m\u001b[1;33m)\u001b[0m\u001b[1;33m\u001b[0m\u001b[1;33m\u001b[0m\u001b[0m\n\u001b[0m\u001b[0;32m    165\u001b[0m \u001b[1;33m\u001b[0m\u001b[0m\n\u001b[0;32m    166\u001b[0m _component_data_handlers = {\n",
      "\u001b[1;32mc:\\users\\bpaul\\miniconda3\\lib\\site-packages\\pyomo\\util\\check_units.py\u001b[0m in \u001b[0;36massert_units_consistent\u001b[1;34m(obj)\u001b[0m\n\u001b[0;32m    234\u001b[0m     \u001b[1;32melse\u001b[0m\u001b[1;33m:\u001b[0m\u001b[1;33m\u001b[0m\u001b[1;33m\u001b[0m\u001b[0m\n\u001b[0;32m    235\u001b[0m         \u001b[1;32mtry\u001b[0m\u001b[1;33m:\u001b[0m\u001b[1;33m\u001b[0m\u001b[1;33m\u001b[0m\u001b[0m\n\u001b[1;32m--> 236\u001b[1;33m             \u001b[0mhandler\u001b[0m\u001b[1;33m(\u001b[0m\u001b[0mobj\u001b[0m\u001b[1;33m)\u001b[0m\u001b[1;33m\u001b[0m\u001b[1;33m\u001b[0m\u001b[0m\n\u001b[0m\u001b[0;32m    237\u001b[0m         \u001b[1;32mexcept\u001b[0m \u001b[0mUnitsError\u001b[0m\u001b[1;33m:\u001b[0m\u001b[1;33m\u001b[0m\u001b[1;33m\u001b[0m\u001b[0m\n\u001b[0;32m    238\u001b[0m                 \u001b[0mprint\u001b[0m\u001b[1;33m(\u001b[0m\u001b[1;34m'Error in units when checking {}'\u001b[0m\u001b[1;33m.\u001b[0m\u001b[0mformat\u001b[0m\u001b[1;33m(\u001b[0m\u001b[0mobj\u001b[0m\u001b[1;33m)\u001b[0m\u001b[1;33m)\u001b[0m\u001b[1;33m\u001b[0m\u001b[1;33m\u001b[0m\u001b[0m\n",
      "\u001b[1;32mc:\\users\\bpaul\\miniconda3\\lib\\site-packages\\pyomo\\util\\check_units.py\u001b[0m in \u001b[0;36m_assert_units_consistent_block\u001b[1;34m(obj)\u001b[0m\n\u001b[0;32m    162\u001b[0m     \u001b[1;31m# check all the component objects\u001b[0m\u001b[1;33m\u001b[0m\u001b[1;33m\u001b[0m\u001b[1;33m\u001b[0m\u001b[0m\n\u001b[0;32m    163\u001b[0m     \u001b[1;32mfor\u001b[0m \u001b[0mcomponent\u001b[0m \u001b[1;32min\u001b[0m \u001b[0mobj\u001b[0m\u001b[1;33m.\u001b[0m\u001b[0mcomponent_objects\u001b[0m\u001b[1;33m(\u001b[0m\u001b[0mdescend_into\u001b[0m\u001b[1;33m=\u001b[0m\u001b[1;32mFalse\u001b[0m\u001b[1;33m,\u001b[0m \u001b[0mactive\u001b[0m\u001b[1;33m=\u001b[0m\u001b[1;32mTrue\u001b[0m\u001b[1;33m)\u001b[0m\u001b[1;33m:\u001b[0m\u001b[1;33m\u001b[0m\u001b[1;33m\u001b[0m\u001b[0m\n\u001b[1;32m--> 164\u001b[1;33m         \u001b[0massert_units_consistent\u001b[0m\u001b[1;33m(\u001b[0m\u001b[0mcomponent\u001b[0m\u001b[1;33m)\u001b[0m\u001b[1;33m\u001b[0m\u001b[1;33m\u001b[0m\u001b[0m\n\u001b[0m\u001b[0;32m    165\u001b[0m \u001b[1;33m\u001b[0m\u001b[0m\n\u001b[0;32m    166\u001b[0m _component_data_handlers = {\n",
      "\u001b[1;32mc:\\users\\bpaul\\miniconda3\\lib\\site-packages\\pyomo\\util\\check_units.py\u001b[0m in \u001b[0;36massert_units_consistent\u001b[1;34m(obj)\u001b[0m\n\u001b[0;32m    228\u001b[0m         \u001b[1;32mfor\u001b[0m \u001b[0mcdata\u001b[0m \u001b[1;32min\u001b[0m \u001b[0mobj\u001b[0m\u001b[1;33m.\u001b[0m\u001b[0mvalues\u001b[0m\u001b[1;33m(\u001b[0m\u001b[1;33m)\u001b[0m\u001b[1;33m:\u001b[0m\u001b[1;33m\u001b[0m\u001b[1;33m\u001b[0m\u001b[0m\n\u001b[0;32m    229\u001b[0m             \u001b[1;32mtry\u001b[0m\u001b[1;33m:\u001b[0m\u001b[1;33m\u001b[0m\u001b[1;33m\u001b[0m\u001b[0m\n\u001b[1;32m--> 230\u001b[1;33m                 \u001b[0mhandler\u001b[0m\u001b[1;33m(\u001b[0m\u001b[0mcdata\u001b[0m\u001b[1;33m)\u001b[0m\u001b[1;33m\u001b[0m\u001b[1;33m\u001b[0m\u001b[0m\n\u001b[0m\u001b[0;32m    231\u001b[0m             \u001b[1;32mexcept\u001b[0m \u001b[0mUnitsError\u001b[0m\u001b[1;33m:\u001b[0m\u001b[1;33m\u001b[0m\u001b[1;33m\u001b[0m\u001b[0m\n\u001b[0;32m    232\u001b[0m                 \u001b[0mprint\u001b[0m\u001b[1;33m(\u001b[0m\u001b[1;34m'Error in units when checking {}'\u001b[0m\u001b[1;33m.\u001b[0m\u001b[0mformat\u001b[0m\u001b[1;33m(\u001b[0m\u001b[0mcdata\u001b[0m\u001b[1;33m)\u001b[0m\u001b[1;33m)\u001b[0m\u001b[1;33m\u001b[0m\u001b[1;33m\u001b[0m\u001b[0m\n",
      "\u001b[1;32mc:\\users\\bpaul\\miniconda3\\lib\\site-packages\\pyomo\\util\\check_units.py\u001b[0m in \u001b[0;36m_assert_units_consistent_constraint_data\u001b[1;34m(condata)\u001b[0m\n\u001b[0;32m     95\u001b[0m \u001b[1;33m\u001b[0m\u001b[0m\n\u001b[0;32m     96\u001b[0m     \u001b[1;32mif\u001b[0m \u001b[0mlen\u001b[0m\u001b[1;33m(\u001b[0m\u001b[0margs\u001b[0m\u001b[1;33m)\u001b[0m \u001b[1;33m==\u001b[0m \u001b[1;36m1\u001b[0m\u001b[1;33m:\u001b[0m\u001b[1;33m\u001b[0m\u001b[1;33m\u001b[0m\u001b[0m\n\u001b[1;32m---> 97\u001b[1;33m         \u001b[0massert_units_consistent\u001b[0m\u001b[1;33m(\u001b[0m\u001b[1;33m*\u001b[0m\u001b[0margs\u001b[0m\u001b[1;33m)\u001b[0m\u001b[1;33m\u001b[0m\u001b[1;33m\u001b[0m\u001b[0m\n\u001b[0m\u001b[0;32m     98\u001b[0m     \u001b[1;32melse\u001b[0m\u001b[1;33m:\u001b[0m\u001b[1;33m\u001b[0m\u001b[1;33m\u001b[0m\u001b[0m\n\u001b[0;32m     99\u001b[0m         \u001b[0massert_units_equivalent\u001b[0m\u001b[1;33m(\u001b[0m\u001b[1;33m*\u001b[0m\u001b[0margs\u001b[0m\u001b[1;33m)\u001b[0m\u001b[1;33m\u001b[0m\u001b[1;33m\u001b[0m\u001b[0m\n",
      "\u001b[1;32mc:\\users\\bpaul\\miniconda3\\lib\\site-packages\\pyomo\\util\\check_units.py\u001b[0m in \u001b[0;36massert_units_consistent\u001b[1;34m(obj)\u001b[0m\n\u001b[0;32m    209\u001b[0m     \u001b[1;32melif\u001b[0m \u001b[0mobj\u001b[0m\u001b[1;33m.\u001b[0m\u001b[0mis_expression_type\u001b[0m\u001b[1;33m(\u001b[0m\u001b[1;33m)\u001b[0m \u001b[1;32mor\u001b[0m \u001b[0mobjtype\u001b[0m \u001b[1;32mis\u001b[0m \u001b[0mIndexTemplate\u001b[0m\u001b[1;33m:\u001b[0m\u001b[1;33m\u001b[0m\u001b[1;33m\u001b[0m\u001b[0m\n\u001b[0;32m    210\u001b[0m         \u001b[1;32mtry\u001b[0m\u001b[1;33m:\u001b[0m\u001b[1;33m\u001b[0m\u001b[1;33m\u001b[0m\u001b[0m\n\u001b[1;32m--> 211\u001b[1;33m             \u001b[0m_assert_units_consistent_expression\u001b[0m\u001b[1;33m(\u001b[0m\u001b[0mobj\u001b[0m\u001b[1;33m)\u001b[0m\u001b[1;33m\u001b[0m\u001b[1;33m\u001b[0m\u001b[0m\n\u001b[0m\u001b[0;32m    212\u001b[0m         \u001b[1;32mexcept\u001b[0m \u001b[0mUnitsError\u001b[0m\u001b[1;33m:\u001b[0m\u001b[1;33m\u001b[0m\u001b[1;33m\u001b[0m\u001b[0m\n\u001b[0;32m    213\u001b[0m             \u001b[0mprint\u001b[0m\u001b[1;33m(\u001b[0m\u001b[1;34m'Units problem with expression {}'\u001b[0m\u001b[1;33m.\u001b[0m\u001b[0mformat\u001b[0m\u001b[1;33m(\u001b[0m\u001b[0mobj\u001b[0m\u001b[1;33m)\u001b[0m\u001b[1;33m)\u001b[0m\u001b[1;33m\u001b[0m\u001b[1;33m\u001b[0m\u001b[0m\n",
      "\u001b[1;32mc:\\users\\bpaul\\miniconda3\\lib\\site-packages\\pyomo\\util\\check_units.py\u001b[0m in \u001b[0;36m_assert_units_consistent_expression\u001b[1;34m(expr)\u001b[0m\n\u001b[0;32m    136\u001b[0m     \u001b[1;31m# this will raise an exception if the units are not consistent\u001b[0m\u001b[1;33m\u001b[0m\u001b[1;33m\u001b[0m\u001b[1;33m\u001b[0m\u001b[0m\n\u001b[0;32m    137\u001b[0m     \u001b[1;31m# in the expression\u001b[0m\u001b[1;33m\u001b[0m\u001b[1;33m\u001b[0m\u001b[1;33m\u001b[0m\u001b[0m\n\u001b[1;32m--> 138\u001b[1;33m     \u001b[0mpint_unit\u001b[0m \u001b[1;33m=\u001b[0m \u001b[0munits\u001b[0m\u001b[1;33m.\u001b[0m\u001b[0m_get_pint_units\u001b[0m\u001b[1;33m(\u001b[0m\u001b[0mexpr\u001b[0m\u001b[1;33m)\u001b[0m\u001b[1;33m\u001b[0m\u001b[1;33m\u001b[0m\u001b[0m\n\u001b[0m\u001b[0;32m    139\u001b[0m     \u001b[1;31m# pyomo_unit = units.get_units(expr)\u001b[0m\u001b[1;33m\u001b[0m\u001b[1;33m\u001b[0m\u001b[1;33m\u001b[0m\u001b[0m\n\u001b[0;32m    140\u001b[0m \u001b[1;33m\u001b[0m\u001b[0m\n",
      "\u001b[1;32mc:\\users\\bpaul\\miniconda3\\lib\\site-packages\\pyomo\\core\\base\\units_container.py\u001b[0m in \u001b[0;36m_get_pint_units\u001b[1;34m(self, expr)\u001b[0m\n\u001b[0;32m   1214\u001b[0m             \u001b[1;32mreturn\u001b[0m \u001b[0mself\u001b[0m\u001b[1;33m.\u001b[0m\u001b[0m_pint_dimensionless\u001b[0m\u001b[1;33m\u001b[0m\u001b[1;33m\u001b[0m\u001b[0m\n\u001b[0;32m   1215\u001b[0m \u001b[1;33m\u001b[0m\u001b[0m\n\u001b[1;32m-> 1216\u001b[1;33m         \u001b[0mpint_units\u001b[0m \u001b[1;33m=\u001b[0m \u001b[0mPintUnitExtractionVisitor\u001b[0m\u001b[1;33m(\u001b[0m\u001b[0mself\u001b[0m\u001b[1;33m)\u001b[0m\u001b[1;33m.\u001b[0m\u001b[0mwalk_expression\u001b[0m\u001b[1;33m(\u001b[0m\u001b[0mexpr\u001b[0m\u001b[1;33m=\u001b[0m\u001b[0mexpr\u001b[0m\u001b[1;33m)\u001b[0m\u001b[1;33m\u001b[0m\u001b[1;33m\u001b[0m\u001b[0m\n\u001b[0m\u001b[0;32m   1217\u001b[0m         \u001b[1;32mif\u001b[0m \u001b[0mhasattr\u001b[0m\u001b[1;33m(\u001b[0m\u001b[0mpint_units\u001b[0m\u001b[1;33m,\u001b[0m \u001b[1;34m'units'\u001b[0m\u001b[1;33m)\u001b[0m\u001b[1;33m:\u001b[0m\u001b[1;33m\u001b[0m\u001b[1;33m\u001b[0m\u001b[0m\n\u001b[0;32m   1218\u001b[0m             \u001b[1;31m# likely, we got a quantity object and not a units object\u001b[0m\u001b[1;33m\u001b[0m\u001b[1;33m\u001b[0m\u001b[1;33m\u001b[0m\u001b[0m\n",
      "\u001b[1;32mc:\\users\\bpaul\\miniconda3\\lib\\site-packages\\pyomo\\core\\expr\\visitor.py\u001b[0m in \u001b[0;36mwalk_expression\u001b[1;34m(self, expr)\u001b[0m\n\u001b[0;32m    307\u001b[0m                         \u001b[0mptr\u001b[0m\u001b[1;33m[\u001b[0m\u001b[1;36m2\u001b[0m\u001b[1;33m]\u001b[0m\u001b[1;33m.\u001b[0m\u001b[0m__exit__\u001b[0m\u001b[1;33m(\u001b[0m\u001b[1;32mNone\u001b[0m\u001b[1;33m,\u001b[0m \u001b[1;32mNone\u001b[0m\u001b[1;33m,\u001b[0m \u001b[1;32mNone\u001b[0m\u001b[1;33m)\u001b[0m\u001b[1;33m\u001b[0m\u001b[1;33m\u001b[0m\u001b[0m\n\u001b[0;32m    308\u001b[0m                     \u001b[1;32mif\u001b[0m \u001b[0mself\u001b[0m\u001b[1;33m.\u001b[0m\u001b[0mexitNode\u001b[0m \u001b[1;32mis\u001b[0m \u001b[1;32mnot\u001b[0m \u001b[1;32mNone\u001b[0m\u001b[1;33m:\u001b[0m\u001b[1;33m\u001b[0m\u001b[1;33m\u001b[0m\u001b[0m\n\u001b[1;32m--> 309\u001b[1;33m                         \u001b[0mnode_result\u001b[0m \u001b[1;33m=\u001b[0m \u001b[0mself\u001b[0m\u001b[1;33m.\u001b[0m\u001b[0mexitNode\u001b[0m\u001b[1;33m(\u001b[0m\u001b[0mnode\u001b[0m\u001b[1;33m,\u001b[0m \u001b[0mdata\u001b[0m\u001b[1;33m)\u001b[0m\u001b[1;33m\u001b[0m\u001b[1;33m\u001b[0m\u001b[0m\n\u001b[0m\u001b[0;32m    310\u001b[0m                     \u001b[1;32melse\u001b[0m\u001b[1;33m:\u001b[0m\u001b[1;33m\u001b[0m\u001b[1;33m\u001b[0m\u001b[0m\n\u001b[0;32m    311\u001b[0m                         \u001b[0mnode_result\u001b[0m \u001b[1;33m=\u001b[0m \u001b[0mdata\u001b[0m\u001b[1;33m\u001b[0m\u001b[1;33m\u001b[0m\u001b[0m\n",
      "\u001b[1;32mc:\\users\\bpaul\\miniconda3\\lib\\site-packages\\pyomo\\core\\base\\units_container.py\u001b[0m in \u001b[0;36mexitNode\u001b[1;34m(self, node, data)\u001b[0m\n\u001b[0;32m    965\u001b[0m         \u001b[0mnode_func\u001b[0m \u001b[1;33m=\u001b[0m \u001b[0mself\u001b[0m\u001b[1;33m.\u001b[0m\u001b[0mnode_type_method_map\u001b[0m\u001b[1;33m.\u001b[0m\u001b[0mget\u001b[0m\u001b[1;33m(\u001b[0m\u001b[0mnodetype\u001b[0m\u001b[1;33m,\u001b[0m \u001b[1;32mNone\u001b[0m\u001b[1;33m)\u001b[0m\u001b[1;33m\u001b[0m\u001b[1;33m\u001b[0m\u001b[0m\n\u001b[0;32m    966\u001b[0m         \u001b[1;32mif\u001b[0m \u001b[0mnode_func\u001b[0m \u001b[1;32mis\u001b[0m \u001b[1;32mnot\u001b[0m \u001b[1;32mNone\u001b[0m\u001b[1;33m:\u001b[0m\u001b[1;33m\u001b[0m\u001b[1;33m\u001b[0m\u001b[0m\n\u001b[1;32m--> 967\u001b[1;33m             \u001b[1;32mreturn\u001b[0m \u001b[0mnode_func\u001b[0m\u001b[1;33m(\u001b[0m\u001b[0mself\u001b[0m\u001b[1;33m,\u001b[0m \u001b[0mnode\u001b[0m\u001b[1;33m,\u001b[0m \u001b[0mdata\u001b[0m\u001b[1;33m)\u001b[0m\u001b[1;33m\u001b[0m\u001b[1;33m\u001b[0m\u001b[0m\n\u001b[0m\u001b[0;32m    968\u001b[0m \u001b[1;33m\u001b[0m\u001b[0m\n\u001b[0;32m    969\u001b[0m         \u001b[1;32melif\u001b[0m \u001b[1;32mnot\u001b[0m \u001b[0mnode\u001b[0m\u001b[1;33m.\u001b[0m\u001b[0mis_expression_type\u001b[0m\u001b[1;33m(\u001b[0m\u001b[1;33m)\u001b[0m\u001b[1;33m:\u001b[0m\u001b[1;33m\u001b[0m\u001b[1;33m\u001b[0m\u001b[0m\n",
      "\u001b[1;32mc:\\users\\bpaul\\miniconda3\\lib\\site-packages\\pyomo\\core\\base\\units_container.py\u001b[0m in \u001b[0;36m_get_unit_for_equivalent_children\u001b[1;34m(self, node, child_units)\u001b[0m\n\u001b[0;32m    494\u001b[0m         \u001b[1;32mfor\u001b[0m \u001b[0mpint_unit_i\u001b[0m \u001b[1;32min\u001b[0m \u001b[0mchild_units\u001b[0m\u001b[1;33m:\u001b[0m\u001b[1;33m\u001b[0m\u001b[1;33m\u001b[0m\u001b[0m\n\u001b[0;32m    495\u001b[0m             \u001b[1;32mif\u001b[0m \u001b[1;32mnot\u001b[0m \u001b[0mself\u001b[0m\u001b[1;33m.\u001b[0m\u001b[0m_equivalent_pint_units\u001b[0m\u001b[1;33m(\u001b[0m\u001b[0mpint_unit_0\u001b[0m\u001b[1;33m,\u001b[0m \u001b[0mpint_unit_i\u001b[0m\u001b[1;33m)\u001b[0m\u001b[1;33m:\u001b[0m\u001b[1;33m\u001b[0m\u001b[1;33m\u001b[0m\u001b[0m\n\u001b[1;32m--> 496\u001b[1;33m                 raise InconsistentUnitsError(\n\u001b[0m\u001b[0;32m    497\u001b[0m                     \u001b[0mpint_unit_0\u001b[0m\u001b[1;33m,\u001b[0m \u001b[0mpint_unit_i\u001b[0m\u001b[1;33m,\u001b[0m\u001b[1;33m\u001b[0m\u001b[1;33m\u001b[0m\u001b[0m\n\u001b[0;32m    498\u001b[0m                     'Error in units found in expression: %s' % (node,))\n",
      "\u001b[1;31mInconsistentUnitsError\u001b[0m: Error in units found in expression: fs.properties.Cp*fs.compressor.control_volume.properties_in[0.0].flow_mol_phase[Liq]*fs.compressor.control_volume.properties_in[0.0].temperature*100 + fs.properties.Cp*fs.compressor.control_volume.properties_in[0.0].flow_mol_phase[Vap]*fs.compressor.control_volume.properties_in[0.0].temperature*100 - (fs.properties.Cp*fs.compressor.control_volume.properties_out[0.0].flow_mol_phase[Liq]*fs.compressor.control_volume.properties_out[0.0].temperature*100 + fs.properties.Cp*fs.compressor.control_volume.properties_out[0.0].flow_mol_phase[Vap]*fs.compressor.control_volume.properties_out[0.0].temperature*100) + fs.compressor.control_volume.work[0.0]: dimensionless not compatible with kilogram * meter ** 2 / second ** 3."
     ]
    }
   ],
   "source": [
    "from pyomo.util.check_units import assert_units_consistent\n",
    "\n",
    "assert_units_consistent(m)"
   ]
  },
  {
   "cell_type": "code",
   "execution_count": 9,
   "metadata": {},
   "outputs": [
    {
     "name": "stdout",
     "output_type": "stream",
     "text": [
      "enthalpy_balances : Energy balances\n",
      "    Size=1, Index=fs._time, Active=True\n",
      "    Key : Lower : Body                                                                                                                                                                                                                                                                                                                                                                                                                                                                                                                                                                                                                                                                     : Upper : Active\n",
      "    0.0 :   0.0 : fs.properties.Cp*fs.compressor.control_volume.properties_in[0.0].flow_mol_phase[Liq]*fs.compressor.control_volume.properties_in[0.0].temperature*100 + fs.properties.Cp*fs.compressor.control_volume.properties_in[0.0].flow_mol_phase[Vap]*fs.compressor.control_volume.properties_in[0.0].temperature*100 - (fs.properties.Cp*fs.compressor.control_volume.properties_out[0.0].flow_mol_phase[Liq]*fs.compressor.control_volume.properties_out[0.0].temperature*100 + fs.properties.Cp*fs.compressor.control_volume.properties_out[0.0].flow_mol_phase[Vap]*fs.compressor.control_volume.properties_out[0.0].temperature*100) + fs.compressor.control_volume.work[0.0] :   0.0 :   True\n"
     ]
    }
   ],
   "source": [
    "m.fs.compressor.control_volume.enthalpy_balances.pprint()\n"
   ]
  },
  {
   "cell_type": "code",
   "execution_count": null,
   "metadata": {},
   "outputs": [],
   "source": []
  }
 ],
 "metadata": {
  "celltoolbar": "Tags",
  "kernelspec": {
   "display_name": "Python 3 (ipykernel)",
   "language": "python",
   "name": "python3"
  },
  "language_info": {
   "codemirror_mode": {
    "name": "ipython",
    "version": 3
   },
   "file_extension": ".py",
   "mimetype": "text/x-python",
   "name": "python",
   "nbconvert_exporter": "python",
   "pygments_lexer": "ipython3",
   "version": "3.8.5"
  }
 },
 "nbformat": 4,
 "nbformat_minor": 2
}
