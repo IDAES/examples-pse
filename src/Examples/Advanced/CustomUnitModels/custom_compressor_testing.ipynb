{
 "cells": [
  {
   "cell_type": "markdown",
   "metadata": {},
   "source": [
    "# Custom Compressor Unit Model"
   ]
  },
  {
   "cell_type": "markdown",
   "metadata": {},
   "source": [
    "To demonstrate creation of a new unit model, we will create a constant-heat-capacity ideal-gas isentropic compressor. This will be a simple textbook model. We will utilize the mass and energy balances provided by IDAES control volumes, but we will write our own isentropic constraint based off of equations 7.18 and 7.23 from \"Introduction to Chemical Engineering Thermodynamics\" by J.M. Smith, H.C. Van Ness, and M.M. Abbott. \n",
    "\n",
    "The outlet temperature of an ideal gas undergoing isentropic compression is given by \n",
    "\\begin{align}\n",
    "& t_{out} = t_{in} + \\frac{1}{\\eta} \\left(t_{in} \\left(\\frac{p_{out}}{p_{in}}\\right)^{\\frac{\\gamma - 1}{\\gamma}} - t_{in}\\right)\n",
    "\\end{align}\n",
    "where $p$ is pressure, $t$ is temperature, and $\\gamma$ is the ratio of constant pressure heat capacity to constant volume heat capacity."
   ]
  },
  {
   "cell_type": "markdown",
   "metadata": {},
   "source": [
    "We will begin with relevant imports. We will need\n",
    "\n",
    "- Pyomo for writing our energy balance constraints\n",
    "- ConfigBlocks for specifying options for our compressor\n",
    "- ControlVolume0DBlocks for creating the appropriate state blocks for the inlet and outlet and for defining mas balances\n",
    "- IdealParameterBlock which provides a simple ideal-gas property package.\n",
    "- A few other helpful functions and enums from IDAES"
   ]
  },
  {
   "cell_type": "code",
   "execution_count": 1,
   "metadata": {},
   "outputs": [],
   "source": [
    "import pyomo.environ as pe\n",
    "from pyomo.common.config import ConfigBlock, ConfigValue, In\n",
    "from idaes.core import (ControlVolume0DBlock,\n",
    "                        declare_process_block_class,\n",
    "                        EnergyBalanceType,\n",
    "                        MomentumBalanceType,\n",
    "                        MaterialBalanceType,\n",
    "                        UnitModelBlockData,\n",
    "                        useDefault,\n",
    "                        FlowsheetBlock)\n",
    "from idaes.core.util.config import is_physical_parameter_block\n",
    "from methanol_param_VLE import PhysicalParameterBlock\n",
    "from idaes.core.util.misc import add_object_reference"
   ]
  },
  {
   "cell_type": "markdown",
   "metadata": {},
   "source": [
    "Now, we can write a function to create a control volume for our compressor. The control volume will define the inlet and outlet streams along with the appropriate state variables (specified by the property package). We will also use the control volume to create mass and energy balance constraints. \n",
    "\n",
    "Our function will take the compressor unit model object, the name of the control volume, and configuration options as arguments. Our compressor will only support steady-state models, so we will first ensure that ``dynamic`` and ``has_holdup`` are both ``False``.\n",
    "\n",
    "Next, we will create a 0D control volume. We are using a 0D control volume because our model does not depend on space. We then\n",
    "\n",
    "1. Attach the control volume to the compressor\n",
    "2. Create the appropriate state blocks with the control volume (for the inlet and outlet streams)\n",
    "3. Use the control volume to add mass balance constraints\n",
    "4. Use the control volume to add energy balance constraints"
   ]
  },
  {
   "cell_type": "code",
   "execution_count": 2,
   "metadata": {},
   "outputs": [],
   "source": [
    "def make_control_volume(unit, name, config):\n",
    "    if config.dynamic is not False:\n",
    "        raise ValueError('IdealGasIsentropcCompressor does not support dynamics')\n",
    "    if config.has_holdup is not False:\n",
    "        raise ValueError('IdealGasIsentropcCompressor does not support holdup')\n",
    "\n",
    "    control_volume = ControlVolume0DBlock(default={\"property_package\": config.property_package,\n",
    "                                                   \"property_package_args\": config.property_package_args})\n",
    "\n",
    "    setattr(unit, name, control_volume)\n",
    "\n",
    "    control_volume.add_state_blocks(has_phase_equilibrium=config.has_phase_equilibrium)\n",
    "    control_volume.add_material_balances(balance_type=config.material_balance_type,\n",
    "                                         has_phase_equilibrium=config.has_phase_equilibrium)\n",
    "    control_volume.add_total_enthalpy_balances(has_heat_of_reaction=False, \n",
    "                                               has_heat_transfer=False, \n",
    "                                               has_work_transfer=True)"
   ]
  },
  {
   "cell_type": "markdown",
   "metadata": {},
   "source": [
    "Next, we will write a function to add constraints to specify that the compressor is isentropic. \n",
    "1. Create a ``pressure_ratio`` variable to represent $p_{out}/p_{in}$. The lower bound is $1$, because we only want to allow compression (and not expansion).\n",
    "2. Create a ``ConstraintList`` to hold the constraints.\n",
    "3. Add the ``ConstraintList`` to the compressor\n",
    "4. Create the local variables ``inlet`` and ``outlet`` to reference the inlet and outlet state blocks.\n",
    "5. Add a constraint relating the inlet pressure, outlet pressure, and pressure ratio variables:\n",
    "\\begin{align}\n",
    "p_{in} p_{ratio} = p_{out}\n",
    "\\end{align}\n",
    "6. Add a constraint relating the inlet and outlet temperatures:\n",
    "\\begin{align}\n",
    "& t_{out} = t_{in} + \\frac{1}{\\eta} \\left(t_{in} p_{ratio}^{\\frac{\\gamma - 1}{\\gamma}} - t_{in}\\right)\n",
    "\\end{align}"
   ]
  },
  {
   "cell_type": "code",
   "execution_count": 3,
   "metadata": {},
   "outputs": [],
   "source": [
    "def add_isentropic(unit, name, config):\n",
    "    unit.pressure_ratio = pe.Var(initialize=1.0, bounds=(1, None))\n",
    "    cons = pe.ConstraintList()\n",
    "    setattr(unit, name, cons)\n",
    "    inlet = unit.control_volume.properties_in[0.0]\n",
    "    outlet = unit.control_volume.properties_out[0.0]\n",
    "    gamma = inlet.params.gamma\n",
    "    cons.add(inlet.pressure * unit.pressure_ratio == outlet.pressure)\n",
    "    cons.add(outlet.temperature ==\n",
    "             (inlet.temperature +\n",
    "              1/config.compressor_efficiency *\n",
    "              (inlet.temperature * unit.pressure_ratio**((gamma - 1) / gamma) -\n",
    "               inlet.temperature)))"
   ]
  },
  {
   "cell_type": "markdown",
   "metadata": {},
   "source": [
    "We also need a function to specify configuration options for the compressor. "
   ]
  },
  {
   "cell_type": "code",
   "execution_count": 4,
   "metadata": {},
   "outputs": [],
   "source": [
    "def make_compressor_config_block(config):\n",
    "    config.declare(\"material_balance_type\", ConfigValue(default=MaterialBalanceType.componentPhase, domain=In(MaterialBalanceType)))\n",
    "    config.declare(\"energy_balance_type\", ConfigValue(default=EnergyBalanceType.enthalpyTotal, domain=In([EnergyBalanceType.enthalpyTotal])))\n",
    "    config.declare(\"momentum_balance_type\", ConfigValue(default=MomentumBalanceType.none, domain=In([MomentumBalanceType.none])))\n",
    "    config.declare(\"has_phase_equilibrium\", ConfigValue(default=False, domain=In([False])))\n",
    "    config.declare(\"has_pressure_change\", ConfigValue(default=False, domain=In([False])))\n",
    "    config.declare(\"property_package\", ConfigValue(default=useDefault, domain=is_physical_parameter_block))\n",
    "    config.declare(\"property_package_args\", ConfigBlock(implicit=True))\n",
    "    config.declare(\"compressor_efficiency\", ConfigValue(default=0.75, domain=float))"
   ]
  },
  {
   "cell_type": "markdown",
   "metadata": {},
   "source": [
    "Finally, we can define the ideal-gas isentropic compressor. To do so, we create a class called ``IdealGasIsentropicCompressorData`` and use the ``declare_process_block_class`` decorator. For now, just consider the decorator to be boiler-plate. We then need to define the config block and write the ``build`` method. The ``build`` method should alwasy call ``super``. Next, we simply call the functions we wrote to build the control volume, energy balance, and electricity requirement performance equation. Finally, we need to call ``self.add_inlet_port()`` and ``self.add_outlet_port()``. These methods need to be called in order to create the ports which are used for connecting the unit to other units."
   ]
  },
  {
   "cell_type": "code",
   "execution_count": 5,
   "metadata": {},
   "outputs": [],
   "source": [
    "@declare_process_block_class(\"IdealGasIsentropicCompressor\")\n",
    "class IdealGasIsentropicCompressorData(UnitModelBlockData):\n",
    "    CONFIG = UnitModelBlockData.CONFIG()\n",
    "    make_compressor_config_block(CONFIG)\n",
    "\n",
    "    def build(self):\n",
    "        super(IdealGasIsentropicCompressorData, self).build()\n",
    "\n",
    "        make_control_volume(self, \"control_volume\", self.config)\n",
    "        add_isentropic(self, \"isentropic\", self.config)\n",
    "\n",
    "        self.add_inlet_port()\n",
    "        self.add_outlet_port()\n",
    "        \n",
    "        add_object_reference(self, 'work', self.control_volume.work[0.0])"
   ]
  },
  {
   "cell_type": "markdown",
   "metadata": {},
   "source": [
    "The compressor model is complete and can now be used like other IDAES unit models. Note that the input temperature is in hectoKelvin,the input pressure is in MPa and energy units are in MJ. This is to simplify user input and is accounted for in the property package files; the standard unit definitions may be found in the metadata section at the end of the main parameter property package."
   ]
  },
  {
   "cell_type": "code",
   "execution_count": 6,
   "metadata": {
    "scrolled": false
   },
   "outputs": [
    {
     "name": "stdout",
     "output_type": "stream",
     "text": [
      "Ipopt 3.13.2: linear_solver=ma27\n",
      "\n",
      "\n",
      "******************************************************************************\n",
      "This program contains Ipopt, a library for large-scale nonlinear optimization.\n",
      " Ipopt is released as open source code under the Eclipse Public License (EPL).\n",
      "         For more information visit http://projects.coin-or.org/Ipopt\n",
      "\n",
      "This version of Ipopt was compiled from source code available at\n",
      "    https://github.com/IDAES/Ipopt as part of the Institute for the Design of\n",
      "    Advanced Energy Systems Process Systems Engineering Framework (IDAES PSE\n",
      "    Framework) Copyright (c) 2018-2019. See https://github.com/IDAES/idaes-pse.\n",
      "\n",
      "This version of Ipopt was compiled using HSL, a collection of Fortran codes\n",
      "    for large-scale scientific computation.  All technical papers, sales and\n",
      "    publicity material resulting from use of the HSL codes within IPOPT must\n",
      "    contain the following acknowledgement:\n",
      "        HSL, a collection of Fortran codes for large-scale scientific\n",
      "        computation. See http://www.hsl.rl.ac.uk.\n",
      "******************************************************************************\n",
      "\n",
      "This is Ipopt version 3.13.2, running with linear solver ma27.\n",
      "\n",
      "Number of nonzeros in equality constraint Jacobian...:       54\n",
      "Number of nonzeros in inequality constraint Jacobian.:        0\n",
      "Number of nonzeros in Lagrangian Hessian.............:       14\n",
      "\n",
      "Total number of variables............................:       18\n",
      "                     variables with only lower bounds:        5\n",
      "                variables with lower and upper bounds:       12\n",
      "                     variables with only upper bounds:        0\n",
      "Total number of equality constraints.................:       18\n",
      "Total number of inequality constraints...............:        0\n",
      "        inequality constraints with only lower bounds:        0\n",
      "   inequality constraints with lower and upper bounds:        0\n",
      "        inequality constraints with only upper bounds:        0\n",
      "\n",
      "iter    objective    inf_pr   inf_du lg(mu)  ||d||  lg(rg) alpha_du alpha_pr  ls\n",
      "   0  0.0000000e+00 5.00e-01 1.00e+00  -1.0 0.00e+00    -  0.00e+00 0.00e+00   0\n",
      "   1  0.0000000e+00 4.71e+00 2.89e+02  -1.0 4.97e+00    -  3.41e-03 1.00e+00f  1\n",
      "   2  0.0000000e+00 5.33e-15 1.00e-06  -1.0 1.16e+00    -  1.00e+00 1.00e+00h  1\n",
      "\n",
      "Number of Iterations....: 2\n",
      "\n",
      "                                   (scaled)                 (unscaled)\n",
      "Objective...............:   0.0000000000000000e+00    0.0000000000000000e+00\n",
      "Dual infeasibility......:   0.0000000000000000e+00    0.0000000000000000e+00\n",
      "Constraint violation....:   5.3290705182007514e-15    5.3290705182007514e-15\n",
      "Complementarity.........:   0.0000000000000000e+00    0.0000000000000000e+00\n",
      "Overall NLP error.......:   5.3290705182007514e-15    5.3290705182007514e-15\n",
      "\n",
      "\n",
      "Number of objective function evaluations             = 3\n",
      "Number of objective gradient evaluations             = 3\n",
      "Number of equality constraint evaluations            = 3\n",
      "Number of inequality constraint evaluations          = 0\n",
      "Number of equality constraint Jacobian evaluations   = 3\n",
      "Number of inequality constraint Jacobian evaluations = 0\n",
      "Number of Lagrangian Hessian evaluations             = 2\n",
      "Total CPU secs in IPOPT (w/o function evaluations)   =      0.000\n",
      "Total CPU secs in NLP function evaluations           =      0.000\n",
      "\n",
      "EXIT: Optimal Solution Found.\n",
      "optimal\n",
      "outlet : Size=1\n",
      "    Key  : Name           : Value\n",
      "    None :       flow_mol : {0.0: 1.0}\n",
      "         : mole_frac_comp : {(0.0, 'CH3OH'): 0.25, (0.0, 'CH4'): 0.25, (0.0, 'CO'): 0.25, (0.0, 'H2'): 0.25}\n",
      "         :       pressure : {0.0: 0.56}\n",
      "         :    temperature : {0.0: 4.314183563052119}\n",
      "work:  5.26  MJ\n"
     ]
    }
   ],
   "source": [
    "m = pe.ConcreteModel()\n",
    "m.fs = FlowsheetBlock(default={\"dynamic\": False})\n",
    "m.fs.properties = props = PhysicalParameterBlock(default={'Cp': 0.038056, 'valid_phase': 'Vap'}) # MJ/kmol-K\n",
    "\n",
    "m.fs.compressor = IdealGasIsentropicCompressor(default={\"property_package\": props, \n",
    "                                                      \"has_phase_equilibrium\": False})\n",
    "m.fs.compressor.inlet.flow_mol.fix(1) # kmol\n",
    "m.fs.compressor.inlet.mole_frac_comp[0, 'CH3OH'].fix(0.25)\n",
    "m.fs.compressor.inlet.mole_frac_comp[0, 'CH4'].fix(0.25)\n",
    "m.fs.compressor.inlet.mole_frac_comp[0, 'H2'].fix(0.25)\n",
    "m.fs.compressor.inlet.mole_frac_comp[0, 'CO'].fix(0.25)\n",
    "m.fs.compressor.inlet.pressure.fix(0.14) # MPa\n",
    "m.fs.compressor.inlet.temperature.fix(2.9315) # hK [100K]\n",
    "m.fs.compressor.outlet.pressure.fix(0.56) # MPa\n",
    "\n",
    "opt = pe.SolverFactory('ipopt')\n",
    "opt.options['linear_solver'] = 'ma27'\n",
    "res = opt.solve(m, tee=True)\n",
    "print(res.solver.termination_condition)\n",
    "m.fs.compressor.outlet.display()\n",
    "print('work: ', round(m.fs.compressor.work.value, 2), ' MJ') # MJ"
   ]
  },
  {
   "cell_type": "code",
   "execution_count": 7,
   "metadata": {
    "tags": [
     "testing"
    ]
   },
   "outputs": [],
   "source": [
    "from pyomo.util.check_units import assert_units_consistent\n",
    "\n",
    "assert_units_consistent(m)\n"
   ]
  },
  {
   "cell_type": "code",
   "execution_count": 8,
   "metadata": {
    "tags": [
     "testing",
     "remove_cell"
    ]
   },
   "outputs": [],
   "source": [
    "import pytest\n",
    "from pyomo.environ import TerminationCondition, value\n",
    "\n",
    "assert res.solver.termination_condition == TerminationCondition.optimal\n",
    "assert value(m.fs.compressor.work) == pytest.approx(5.2616, abs=1e-2)"
   ]
  },
  {
   "cell_type": "code",
   "execution_count": null,
   "metadata": {},
   "outputs": [],
   "source": []
  }
 ],
 "metadata": {
  "celltoolbar": "Tags",
  "kernelspec": {
   "display_name": "Python 3 (ipykernel)",
   "language": "python",
   "name": "python3"
  },
  "language_info": {
   "codemirror_mode": {
    "name": "ipython",
    "version": 3
   },
   "file_extension": ".py",
   "mimetype": "text/x-python",
   "name": "python",
   "nbconvert_exporter": "python",
   "pygments_lexer": "ipython3",
   "version": "3.8.5"
  }
 },
 "nbformat": 4,
 "nbformat_minor": 2
}
