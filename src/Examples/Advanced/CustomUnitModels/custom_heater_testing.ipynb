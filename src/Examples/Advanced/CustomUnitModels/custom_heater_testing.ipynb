{
 "cells": [
  {
   "cell_type": "markdown",
   "metadata": {},
   "source": [
    "# Custom Heater Unit Model"
   ]
  },
  {
   "cell_type": "code",
   "execution_count": 1,
   "metadata": {},
   "outputs": [],
   "source": [
    "import pyomo.environ as pe\n",
    "from pyomo.common.config import ConfigBlock, ConfigValue, In\n",
    "from idaes.core import (ControlVolume0DBlock,\n",
    "                        declare_process_block_class,\n",
    "                        EnergyBalanceType,\n",
    "                        MomentumBalanceType,\n",
    "                        MaterialBalanceType,\n",
    "                        UnitModelBlockData,\n",
    "                        useDefault,\n",
    "                        FlowsheetBlock)\n",
    "from idaes.core.util.config import is_physical_parameter_block\n",
    "from idaes.core.util.misc import add_object_reference\n",
    "from methanol_param_VLE_updated import PhysicalParameterBlock"
   ]
  },
  {
   "cell_type": "code",
   "execution_count": 2,
   "metadata": {},
   "outputs": [],
   "source": [
    "def make_control_volume(unit, name, config):\n",
    "    if config.dynamic is not False:\n",
    "        raise ValueError('IdealGasIsentropcCompressor does not support dynamics')\n",
    "    if config.has_holdup is not False:\n",
    "        raise ValueError('IdealGasIsentropcCompressor does not support holdup')\n",
    "\n",
    "    control_volume = ControlVolume0DBlock(default={\"property_package\": config.property_package,\n",
    "                                                   \"property_package_args\": config.property_package_args})\n",
    "\n",
    "    setattr(unit, name, control_volume)\n",
    "\n",
    "    control_volume.add_state_blocks(has_phase_equilibrium=config.has_phase_equilibrium)\n",
    "    control_volume.add_material_balances(balance_type=config.material_balance_type,\n",
    "                                         has_phase_equilibrium=config.has_phase_equilibrium)\n",
    "    control_volume.add_total_enthalpy_balances(has_heat_of_reaction=False, \n",
    "                                               has_heat_transfer=True, \n",
    "                                               has_work_transfer=False)\n",
    "    control_volume.add_total_pressure_balances(has_pressure_change=False)"
   ]
  },
  {
   "cell_type": "code",
   "execution_count": 3,
   "metadata": {},
   "outputs": [],
   "source": [
    "def make_config_block(config):\n",
    "    config.declare(\"material_balance_type\",\n",
    "        ConfigValue(default=MaterialBalanceType.componentPhase, domain=In(MaterialBalanceType)))\n",
    "    config.declare(\"energy_balance_type\",\n",
    "        ConfigValue(default=EnergyBalanceType.enthalpyTotal, domain=In([EnergyBalanceType.enthalpyTotal])))\n",
    "    config.declare(\"momentum_balance_type\",\n",
    "        ConfigValue(default=MomentumBalanceType.pressureTotal, domain=In([MomentumBalanceType.pressureTotal])))\n",
    "    config.declare(\"has_phase_equilibrium\",\n",
    "        ConfigValue(default=False, domain=In([False])))\n",
    "    config.declare(\"has_pressure_change\",\n",
    "        ConfigValue(default=False, domain=In([False])))\n",
    "    config.declare(\"property_package\",\n",
    "        ConfigValue(default=useDefault, domain=is_physical_parameter_block))\n",
    "    config.declare(\"property_package_args\",\n",
    "        ConfigBlock(implicit=True))"
   ]
  },
  {
   "cell_type": "code",
   "execution_count": 4,
   "metadata": {},
   "outputs": [],
   "source": [
    "@declare_process_block_class(\"Heater\")\n",
    "class HeaterData(UnitModelBlockData):\n",
    "    CONFIG = UnitModelBlockData.CONFIG()\n",
    "    make_config_block(CONFIG)\n",
    "\n",
    "    def build(self):\n",
    "        super(HeaterData, self).build()\n",
    "\n",
    "        make_control_volume(self, \"control_volume\", self.config)\n",
    "\n",
    "        self.add_inlet_port()\n",
    "        self.add_outlet_port()\n",
    "        \n",
    "        add_object_reference(self, 'heat', self.control_volume.heat[0.0])"
   ]
  },
  {
   "cell_type": "code",
   "execution_count": 5,
   "metadata": {},
   "outputs": [
    {
     "name": "stdout",
     "output_type": "stream",
     "text": [
      "Ipopt 3.13.2: \n",
      "\n",
      "******************************************************************************\n",
      "This program contains Ipopt, a library for large-scale nonlinear optimization.\n",
      " Ipopt is released as open source code under the Eclipse Public License (EPL).\n",
      "         For more information visit http://projects.coin-or.org/Ipopt\n",
      "\n",
      "This version of Ipopt was compiled from source code available at\n",
      "    https://github.com/IDAES/Ipopt as part of the Institute for the Design of\n",
      "    Advanced Energy Systems Process Systems Engineering Framework (IDAES PSE\n",
      "    Framework) Copyright (c) 2018-2019. See https://github.com/IDAES/idaes-pse.\n",
      "\n",
      "This version of Ipopt was compiled using HSL, a collection of Fortran codes\n",
      "    for large-scale scientific computation.  All technical papers, sales and\n",
      "    publicity material resulting from use of the HSL codes within IPOPT must\n",
      "    contain the following acknowledgement:\n",
      "        HSL, a collection of Fortran codes for large-scale scientific\n",
      "        computation. See http://www.hsl.rl.ac.uk.\n",
      "******************************************************************************\n",
      "\n",
      "This is Ipopt version 3.13.2, running with linear solver ma27.\n",
      "\n",
      "Number of nonzeros in equality constraint Jacobian...:       69\n",
      "Number of nonzeros in inequality constraint Jacobian.:        0\n",
      "Number of nonzeros in Lagrangian Hessian.............:       22\n",
      "\n",
      "Total number of variables............................:       27\n",
      "                     variables with only lower bounds:        7\n",
      "                variables with lower and upper bounds:       20\n",
      "                     variables with only upper bounds:        0\n",
      "Total number of equality constraints.................:       21\n",
      "Total number of inequality constraints...............:        0\n",
      "        inequality constraints with only lower bounds:        0\n",
      "   inequality constraints with lower and upper bounds:        0\n",
      "        inequality constraints with only upper bounds:        0\n",
      "\n",
      "iter    objective    inf_pr   inf_du lg(mu)  ||d||  lg(rg) alpha_du alpha_pr  ls\n",
      "   0  0.0000000e+00 5.00e+00 1.15e+00  -1.0 0.00e+00    -  0.00e+00 0.00e+00   0\n",
      "   1  0.0000000e+00 1.76e+00 1.06e+00  -1.0 6.87e-01    -  5.50e-01 1.00e+00h  1\n",
      "   2  0.0000000e+00 9.72e-03 3.32e-01  -1.0 1.36e-01    -  1.00e+00 1.00e+00h  1\n",
      "   3  0.0000000e+00 1.49e+00 3.89e-01  -1.7 1.32e+01  -2.0 4.47e-02 8.49e-02f  2\n",
      "   4  0.0000000e+00 1.51e+00 3.61e-01  -1.7 5.59e+00  -1.6 3.31e-01 7.59e-02h  3\n",
      "   5  0.0000000e+00 1.74e-02 6.77e-02  -1.7 1.50e-01  -0.2 1.00e+00 1.00e+00h  1\n",
      "   6  0.0000000e+00 3.69e-04 2.56e-03  -2.5 2.05e-02  -0.7 1.00e+00 1.00e+00h  1\n",
      "   7  0.0000000e+00 5.82e-03 8.11e-05  -3.8 6.74e-02    -  9.99e-01 1.00e+00h  1\n",
      "   8  0.0000000e+00 1.13e-06 1.20e-04  -3.8 1.91e-03  -1.2 1.00e+00 1.00e+00h  1\n",
      "   9  0.0000000e+00 7.65e-05 7.28e-07  -5.7 1.68e-02    -  1.00e+00 1.00e+00h  1\n",
      "iter    objective    inf_pr   inf_du lg(mu)  ||d||  lg(rg) alpha_du alpha_pr  ls\n",
      "  10  0.0000000e+00 1.31e+03 1.27e-04  -5.7 1.07e+02    -  8.69e-02 1.00e+00H  1\n",
      "  11  0.0000000e+00 3.14e+02 3.23e-05  -5.7 2.10e+01    -  1.00e+00 1.00e+00h  1\n",
      "  12  0.0000000e+00 8.13e+01 8.79e-06  -5.7 1.19e+01    -  1.00e+00 1.00e+00h  1\n",
      "  13  0.0000000e+00 4.50e+01 5.76e-06  -5.7 7.00e+00    -  1.00e+00 5.00e-01h  2\n",
      "  14  0.0000000e+00 2.22e+01 3.97e-06  -5.7 7.81e+00    -  1.00e+00 5.00e-01h  2\n",
      "  15  0.0000000e+00 1.21e+01 1.98e-06  -5.7 5.29e+00    -  1.00e+00 1.00e+00h  1\n",
      "  16  0.0000000e+00 1.86e+01 2.94e-06  -5.7 2.87e+00    -  7.77e-01 1.00e+00h  1\n",
      "  17  0.0000000e+00 2.96e+01 7.80e-06  -5.7 8.87e+00    -  5.81e-01 1.00e+00h  1\n",
      "  18  0.0000000e+00 7.52e-01 1.43e-02  -5.7 6.56e-01  -1.7 1.00e+00 1.00e+00h  1\n",
      "  19  0.0000000e+00 5.55e-04 8.99e-05  -5.7 1.50e-02  -2.2 1.00e+00 1.00e+00h  1\n",
      "iter    objective    inf_pr   inf_du lg(mu)  ||d||  lg(rg) alpha_du alpha_pr  ls\n",
      "  20  0.0000000e+00 3.81e-08 3.16e-07  -5.7 1.35e-04  -2.6 1.00e+00 1.00e+00h  1\n",
      "  21  0.0000000e+00 1.87e-05 2.70e-09  -8.6 1.67e-02    -  1.00e+00 1.00e+00h  1\n",
      "  22  0.0000000e+00 1.29e+03 2.22e-07  -8.6 3.34e+02    -  6.92e-02 1.00e+00h  1\n",
      "  23  0.0000000e+00 1.30e-01 1.19e-03  -8.6 1.52e+00  -3.1 1.00e+00 1.00e+00h  1\n",
      "  24  0.0000000e+00 3.67e-09 3.99e-08  -8.6 1.54e-04  -3.6 1.00e+00 1.00e+00h  1\n",
      "  25  0.0000000e+00 5.12e-13 2.38e-10  -8.6 2.75e-06  -4.1 1.00e+00 1.00e+00h  1\n",
      "\n",
      "Number of Iterations....: 25\n",
      "\n",
      "                                   (scaled)                 (unscaled)\n",
      "Objective...............:   0.0000000000000000e+00    0.0000000000000000e+00\n",
      "Dual infeasibility......:   2.3842218194090184e-10    2.3842218194090184e-10\n",
      "Constraint violation....:   5.1159076974727213e-13    5.1159076974727213e-13\n",
      "Complementarity.........:   2.5059035596800618e-09    2.5059035596800618e-09\n",
      "Overall NLP error.......:   2.5059035596800618e-09    2.5059035596800618e-09\n",
      "\n",
      "\n",
      "Number of objective function evaluations             = 36\n",
      "Number of objective gradient evaluations             = 26\n",
      "Number of equality constraint evaluations            = 36\n",
      "Number of inequality constraint evaluations          = 0\n",
      "Number of equality constraint Jacobian evaluations   = 26\n",
      "Number of inequality constraint Jacobian evaluations = 0\n",
      "Number of Lagrangian Hessian evaluations             = 25\n",
      "Total CPU secs in IPOPT (w/o function evaluations)   =      0.018\n",
      "Total CPU secs in NLP function evaluations           =      0.001\n",
      "\n",
      "EXIT: Optimal Solution Found.\n",
      "optimal\n",
      "outlet : Size=1\n",
      "    Key  : Name           : Value\n",
      "    None :       flow_mol : {0.0: 1.0}\n",
      "         : mole_frac_comp : {(0.0, 'CH3OH'): 0.25, (0.0, 'CH4'): 0.25, (0.0, 'CO'): 0.25, (0.0, 'H2'): 0.25}\n",
      "         :       pressure : {0.0: 0.1}\n",
      "         :    temperature : {0.0: 4.695084042720036}\n"
     ]
    }
   ],
   "source": [
    "m = pe.ConcreteModel()\n",
    "m.fs = fs = FlowsheetBlock(default={\"dynamic\": False})\n",
    "fs.properties = props = PhysicalParameterBlock(default={'Cp': 0.038056, 'valid_phase': 'Vap'})\n",
    "\n",
    "fs.heater = Heater(default={\"property_package\": props, 'has_phase_equilibrium': False})\n",
    "fs.heater.inlet.flow_mol.fix(1)\n",
    "fs.heater.inlet.mole_frac_comp[0, 'CH3OH'].fix(0.25)\n",
    "fs.heater.inlet.mole_frac_comp[0, 'CH4'].fix(0.25)\n",
    "fs.heater.inlet.mole_frac_comp[0, 'H2'].fix(0.25)\n",
    "fs.heater.inlet.mole_frac_comp[0, 'CO'].fix(0.25)\n",
    "fs.heater.inlet.pressure.fix(0.1)\n",
    "fs.heater.inlet.temperature.fix(3)\n",
    "fs.heater.heat.fix(5)\n",
    "\n",
    "opt = pe.SolverFactory('ipopt')\n",
    "res = opt.solve(m, tee=True)\n",
    "print(res.solver.termination_condition)\n",
    "fs.heater.outlet.display()"
   ]
  },
  {
   "cell_type": "code",
   "execution_count": 6,
   "metadata": {},
   "outputs": [
    {
     "ename": "AssertionError",
     "evalue": "",
     "output_type": "error",
     "traceback": [
      "\u001b[1;31m---------------------------------------------------------------------------\u001b[0m",
      "\u001b[1;31mAssertionError\u001b[0m                            Traceback (most recent call last)",
      "\u001b[1;32m~\\AppData\\Local\\Temp/ipykernel_77276/3071505382.py\u001b[0m in \u001b[0;36m<module>\u001b[1;34m\u001b[0m\n\u001b[0;32m      4\u001b[0m \u001b[1;33m\u001b[0m\u001b[0m\n\u001b[0;32m      5\u001b[0m \u001b[1;32massert\u001b[0m \u001b[0mres\u001b[0m\u001b[1;33m.\u001b[0m\u001b[0msolver\u001b[0m\u001b[1;33m.\u001b[0m\u001b[0mtermination_condition\u001b[0m \u001b[1;33m==\u001b[0m \u001b[0mTerminationCondition\u001b[0m\u001b[1;33m.\u001b[0m\u001b[0moptimal\u001b[0m\u001b[1;33m\u001b[0m\u001b[1;33m\u001b[0m\u001b[0m\n\u001b[1;32m----> 6\u001b[1;33m \u001b[1;32massert\u001b[0m \u001b[0mvalue\u001b[0m\u001b[1;33m(\u001b[0m\u001b[0mfs\u001b[0m\u001b[1;33m.\u001b[0m\u001b[0mheater\u001b[0m\u001b[1;33m.\u001b[0m\u001b[0moutlet\u001b[0m\u001b[1;33m.\u001b[0m\u001b[0mtemperature\u001b[0m\u001b[1;33m[\u001b[0m\u001b[1;36m0\u001b[0m\u001b[1;33m]\u001b[0m\u001b[1;33m)\u001b[0m \u001b[1;33m==\u001b[0m \u001b[0mpytest\u001b[0m\u001b[1;33m.\u001b[0m\u001b[0mapprox\u001b[0m\u001b[1;33m(\u001b[0m\u001b[1;36m4.3138\u001b[0m\u001b[1;33m,\u001b[0m \u001b[0mabs\u001b[0m\u001b[1;33m=\u001b[0m\u001b[1;36m1e-3\u001b[0m\u001b[1;33m)\u001b[0m\u001b[1;33m\u001b[0m\u001b[1;33m\u001b[0m\u001b[0m\n\u001b[0m",
      "\u001b[1;31mAssertionError\u001b[0m: "
     ]
    }
   ],
   "source": [
    "# For testing purposes\n",
    "from pyomo.environ import TerminationCondition, value\n",
    "import pytest\n",
    "\n",
    "assert res.solver.termination_condition == TerminationCondition.optimal\n",
    "assert value(fs.heater.outlet.temperature[0]) == pytest.approx(4.3138, abs=1e-3)"
   ]
  },
  {
   "cell_type": "code",
   "execution_count": 7,
   "metadata": {
    "tags": [
     "remove_cell",
     "testing"
    ]
   },
   "outputs": [],
   "source": [
    "assert True  # need one testing tag to activate notebook renaming"
   ]
  }
 ],
 "metadata": {
  "celltoolbar": "Tags",
  "kernelspec": {
   "display_name": "Python 3 (ipykernel)",
   "language": "python",
   "name": "python3"
  },
  "language_info": {
   "codemirror_mode": {
    "name": "ipython",
    "version": 3
   },
   "file_extension": ".py",
   "mimetype": "text/x-python",
   "name": "python",
   "nbconvert_exporter": "python",
   "pygments_lexer": "ipython3",
   "version": "3.8.5"
  }
 },
 "nbformat": 4,
 "nbformat_minor": 4
}
