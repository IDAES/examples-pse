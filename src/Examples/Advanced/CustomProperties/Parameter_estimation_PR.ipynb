{
 "cells": [
  {
   "cell_type": "markdown",
   "metadata": {},
   "source": [
    "# Using Parameter Estimation with Modular Property Packages"
   ]
  },
  {
   "cell_type": "markdown",
   "metadata": {},
   "source": [
    "## 1. Introduction\n",
    "\n",
    "This Jupyter Notebook estimates binary interaction parameters for a CO$_2$-Ionic liquid property package. A property package has been created for CO$_2$-[bmim][PF6]. We will utilize Pyomo's `parmest` tool in conjuction with IDAES models for parameter estimation. We demonstrate these tools by estimating the parameters associated with the Peng-Robinson property model for a benzene-toluene mixture. The Peng-Robinson EOS the binary interaction parameter (kappa_ij). When estimating parameters associated with the property package, IDAES provides the flexibility of doing the parameter estimation by just using the state block or by using a unit model with a specified property package. This module will demonstrate parameter estimation by using the flash unit model with a Modular Property Package.\n",
    "\n",
    "### 1.1 Tutorial objectives\n",
    "\n",
    "* Utilize the Modular Property Package framework, which provides a flexible platform for users to build property packages by calling upon libraries of modular sub-models to build up complex property calculations with the least effort possible.\n",
    "* Set up a method to return an initialized model\n",
    "* Set up the parameter estimation problem using `parmest`"
   ]
  },
  {
   "cell_type": "markdown",
   "metadata": {},
   "source": [
    "## 2. Problem Statement\n",
    "\n",
    "### 2.1 Importing Pyomo and IDAES model and flowsheet components.\n",
    "\n",
    "In the next cell, we will be importing the necessary components from Pyomo and IDAES."
   ]
  },
  {
   "cell_type": "code",
   "execution_count": 1,
   "metadata": {},
   "outputs": [],
   "source": [
    "# Import objects from pyomo package\n",
    "from pyomo.environ import (ConcreteModel,\n",
    "                           SolverFactory,\n",
    "                           units as pyunits)\n",
    "\n",
    "# Import the main FlowsheetBlock from IDAES. The flowsheet block will contain the unit model\n",
    "from idaes.core import FlowsheetBlock\n",
    "\n",
    "# Import idaes logger to set output levels\n",
    "import idaes.logger as idaeslog\n",
    "\n",
    "# Import Flash unit model from idaes.models.unit_models\n",
    "from idaes.models.unit_models import Flash"
   ]
  },
  {
   "cell_type": "markdown",
   "metadata": {},
   "source": [
    "### 2.2 Import parmest "
   ]
  },
  {
   "cell_type": "code",
   "execution_count": 2,
   "metadata": {},
   "outputs": [],
   "source": [
    "import pyomo.contrib.parmest.parmest as parmest"
   ]
  },
  {
   "cell_type": "markdown",
   "metadata": {},
   "source": [
    "### 2.3 Import the Modular Property framework"
   ]
  },
  {
   "cell_type": "code",
   "execution_count": 3,
   "metadata": {},
   "outputs": [],
   "source": [
    "from idaes.models.properties.modular_properties.examples.CO2_bmimPF6_PR import configuration\n",
    "\n",
    "from idaes.models.properties.modular_properties import GenericParameterBlock"
   ]
  },
  {
   "cell_type": "markdown",
   "metadata": {},
   "source": [
    "### 2.4 Import data\n",
    "\n",
    "In the next cell, we will be importing `pandas` and the `.csv` file with preassure and composition data. For this example, we load data from the csv file CO2_IL_298.csv. The dataset consists of ninteen data points which provide the mole fraction of [bmim][PF6] and carbon dioxide and the pressure at three different temperatures."
   ]
  },
  {
   "cell_type": "code",
   "execution_count": 4,
   "metadata": {},
   "outputs": [],
   "source": [
    "import pandas as pd\n",
    "\n",
    "# Load data from csv\n",
    "data = pd.read_csv('CO2_IL_298.csv')"
   ]
  },
  {
   "cell_type": "markdown",
   "metadata": {},
   "source": [
    "## 3.0 Setting up an initialized model\n",
    "\n",
    "We need to provide a method that returns an initialized model to the `parmest` tool in Pyomo.\n",
    "\n",
    "How we build the model will depend on the data we provided in the data dataframe from pir .csv file.\n",
    "\n",
    "In this case we have data on the liquid mixture, the temperature and the pressure. We will fix the temperature, mole franction in the liquid phase, and the mole fraction of the inlet. "
   ]
  },
  {
   "cell_type": "code",
   "execution_count": 5,
   "metadata": {},
   "outputs": [],
   "source": [
    "def PR_model(data):\n",
    "    \n",
    "    m = ConcreteModel()\n",
    "\n",
    "    m.fs = FlowsheetBlock(dynamic=False)\n",
    "\n",
    "    m.fs.properties = GenericParameterBlock(**configuration)\n",
    "\n",
    "    m.fs.state_block = m.fs.properties.build_state_block([1], defined_state=True)\n",
    "\n",
    "    m.fs.state_block[1].flow_mol.fix(1)\n",
    "    x = float(data[\"x_carbon_dioxide\"])+0.5\n",
    "    m.fs.state_block[1].temperature.fix(float(data[\"temperature\"]))\n",
    "    m.fs.state_block[1].pressure.fix(float(data[\"pressure\"]))\n",
    "    m.fs.state_block[1].mole_frac_comp[\"bmimPF6\"].fix(1-x)\n",
    "    m.fs.state_block[1].mole_frac_comp[\"carbon_dioxide\"].fix(x)\n",
    "    \n",
    "    # parameter - kappa_ij (set at 0.3, 0 if i=j)\n",
    "    m.fs.properties.PR_kappa['bmimPF6', 'bmimPF6'].fix(0)\n",
    "    m.fs.properties.PR_kappa['bmimPF6', 'carbon_dioxide'].fix(-0.047)\n",
    "    m.fs.properties.PR_kappa['carbon_dioxide', 'carbon_dioxide'].fix(0)\n",
    "    m.fs.properties.PR_kappa['carbon_dioxide', 'bmimPF6'].fix(0.002)\n",
    "\n",
    "    # Initialize the flash unit\n",
    "    m.fs.state_block.initialize(outlvl=idaeslog.INFO)\n",
    "\n",
    "    # Fix the state variables on the state block\n",
    "    m.fs.state_block[1].pressure.unfix()\n",
    "    m.fs.state_block[1].temperature.fix(float(data[\"temperature\"]))\n",
    "    m.fs.state_block[1].mole_frac_phase_comp['Liq', 'bmimPF6'].fix(float(data[\"x_bmimPF6\"]))\n",
    "    m.fs.state_block[1].mole_frac_phase_comp['Liq', 'carbon_dioxide'].fix(float(data[\"x_carbon_dioxide\"]))\n",
    "    m.fs.state_block[1].mole_frac_comp['bmimPF6'].fix(float(data[\"x_bmimPF6\"]))\n",
    "    m.fs.state_block[1].mole_frac_comp['carbon_dioxide'].unfix()\n",
    "    # Set bounds on variables to be estimated\n",
    "    m.fs.properties.PR_kappa['bmimPF6', 'carbon_dioxide'].setlb(-5)\n",
    "    m.fs.properties.PR_kappa['bmimPF6', 'carbon_dioxide'].setub(5)\n",
    "\n",
    "    m.fs.properties.PR_kappa['carbon_dioxide', 'bmimPF6'].setlb(-5)\n",
    "    m.fs.properties.PR_kappa['carbon_dioxide', 'bmimPF6'].setub(5)\n",
    "\n",
    "    # Return initialized flash model\n",
    "    return m"
   ]
  },
  {
   "cell_type": "markdown",
   "metadata": {},
   "source": [
    "### 3.1 Solving square problem"
   ]
  },
  {
   "cell_type": "code",
   "execution_count": 6,
   "metadata": {
    "scrolled": false
   },
   "outputs": [
    {
     "name": "stdout",
     "output_type": "stream",
     "text": [
      "2022-08-25 12:01:00 [INFO] idaes.init.fs.state_block: Starting initialization\n",
      "WARNING (W1002): Setting Var\n",
      "    'fs.state_block[1].log_mole_frac_tbub[Vap,Liq,carbon_dioxide]' to a\n",
      "    numeric value `1.3789905650578088e-06` outside the bounds (None, 0).\n",
      "    See also https://pyomo.readthedocs.io/en/latest/errors.html#w1002\n",
      "2022-08-25 12:01:01 [INFO] idaes.init.fs.state_block: Dew and bubble point initialization: optimal - Optimal Solution Found.\n",
      "2022-08-25 12:01:01 [INFO] idaes.init.fs.state_block: Equilibrium temperature initialization completed.\n",
      "2022-08-25 12:01:01 [INFO] idaes.init.fs.state_block: State variable initialization completed.\n",
      "2022-08-25 12:01:01 [INFO] idaes.init.fs.state_block: Phase equilibrium initialization: optimal - Optimal Solution Found.\n",
      "2022-08-25 12:01:01 [INFO] idaes.init.fs.state_block: Property initialization: optimal - Optimal Solution Found.\n",
      "2022-08-25 12:01:01 [INFO] idaes.init.fs.state_block: Property package initialization: optimal - Optimal Solution Found.\n"
     ]
    }
   ],
   "source": [
    "from idaes.core.util.model_statistics import degrees_of_freedom\n",
    "import pytest\n",
    "\n",
    "test_data = {\"temperature\": 298, \"pressure\": 812323, \"x_bmimPF6\":0.86, \"x_carbon_dioxide\":0.14}\n",
    "\n",
    "m = PR_model(test_data)\n",
    "\n",
    "# Check that degrees of freedom is 0\n",
    "assert degrees_of_freedom(m) == 0"
   ]
  },
  {
   "cell_type": "markdown",
   "metadata": {},
   "source": [
    "## 4.0 Parameter estimation using parmest \n",
    "\n",
    "### 4.1 List of variable names to be estimated\n",
    "\n",
    "Create a list of vars to estimate"
   ]
  },
  {
   "cell_type": "code",
   "execution_count": 7,
   "metadata": {},
   "outputs": [],
   "source": [
    "variable_name = [\"fs.properties.PR_kappa['bmimPF6', 'carbon_dioxide']\",\n",
    "                 \"fs.properties.PR_kappa['carbon_dioxide', 'bmimPF6']\"]"
   ]
  },
  {
   "cell_type": "markdown",
   "metadata": {},
   "source": [
    "### 4.2 Create method to return an expression that computes the sum of squared error\n",
    "\n",
    "We need to provide a method to return an expression to compute the sum of squared errors that will be used as the objective in solving the parameter estimation problem. For this problem, the error will be computed for the pressure."
   ]
  },
  {
   "cell_type": "code",
   "execution_count": 8,
   "metadata": {},
   "outputs": [],
   "source": [
    "def SSE(m, data):   \n",
    "    expr = ((float(data[\"pressure\"]) - m.fs.state_block[1].pressure)**2)\n",
    "    return expr*1e-7"
   ]
  },
  {
   "cell_type": "markdown",
   "metadata": {},
   "source": [
    "### 4.3 Run the parameter estimation\n",
    "\n",
    "We are now ready to set up the parameter estimation problem. We will create a parameter estimation object called pest. As shown below, we pass the method that returns an initialized model, data, variable_name, and the SSE expression to the Estimator method. tee=True will print the solver output after solving the parameter estimation problem."
   ]
  },
  {
   "cell_type": "code",
   "execution_count": 9,
   "metadata": {
    "scrolled": false
   },
   "outputs": [
    {
     "name": "stdout",
     "output_type": "stream",
     "text": [
      "2022-08-25 12:01:01 [INFO] idaes.init.fs.state_block: Starting initialization\n",
      "WARNING (W1002): Setting Var\n",
      "    'fs.state_block[1].log_mole_frac_tbub[Vap,Liq,carbon_dioxide]' to a\n",
      "    numeric value `4.301303339264284e-06` outside the bounds (None, 0).\n",
      "    See also https://pyomo.readthedocs.io/en/latest/errors.html#w1002\n",
      "2022-08-25 12:01:02 [INFO] idaes.init.fs.state_block: Dew and bubble point initialization: optimal - Optimal Solution Found.\n",
      "2022-08-25 12:01:02 [INFO] idaes.init.fs.state_block: Equilibrium temperature initialization completed.\n",
      "2022-08-25 12:01:02 [INFO] idaes.init.fs.state_block: State variable initialization completed.\n",
      "2022-08-25 12:01:02 [INFO] idaes.init.fs.state_block: Phase equilibrium initialization: optimal - Optimal Solution Found.\n",
      "2022-08-25 12:01:02 [INFO] idaes.init.fs.state_block: Property initialization: optimal - Optimal Solution Found.\n",
      "2022-08-25 12:01:02 [INFO] idaes.init.fs.state_block: Property package initialization: optimal - Optimal Solution Found.\n",
      "2022-08-25 12:01:02 [INFO] idaes.init.fs.state_block: Starting initialization\n",
      "WARNING (W1002): Setting Var\n",
      "    'fs.state_block[1].log_mole_frac_tbub[Vap,Liq,carbon_dioxide]' to a\n",
      "    numeric value `4.814447495739171e-09` outside the bounds (None, 0).\n",
      "    See also https://pyomo.readthedocs.io/en/latest/errors.html#w1002\n",
      "2022-08-25 12:01:02 [INFO] idaes.init.fs.state_block: Dew and bubble point initialization: optimal - Optimal Solution Found.\n",
      "2022-08-25 12:01:02 [INFO] idaes.init.fs.state_block: Equilibrium temperature initialization completed.\n",
      "2022-08-25 12:01:02 [INFO] idaes.init.fs.state_block: State variable initialization completed.\n",
      "2022-08-25 12:01:02 [INFO] idaes.init.fs.state_block: Phase equilibrium initialization: optimal - Optimal Solution Found.\n",
      "2022-08-25 12:01:03 [INFO] idaes.init.fs.state_block: Property initialization: optimal - Optimal Solution Found.\n",
      "2022-08-25 12:01:03 [INFO] idaes.init.fs.state_block: Property package initialization: optimal - Optimal Solution Found.\n",
      "2022-08-25 12:01:03 [INFO] idaes.init.fs.state_block: Starting initialization\n",
      "WARNING (W1002): Setting Var\n",
      "    'fs.state_block[1].log_mole_frac_tbub[Vap,Liq,carbon_dioxide]' to a\n",
      "    numeric value `6.357548229111755e-06` outside the bounds (None, 0).\n",
      "    See also https://pyomo.readthedocs.io/en/latest/errors.html#w1002\n",
      "2022-08-25 12:01:03 [INFO] idaes.init.fs.state_block: Dew and bubble point initialization: optimal - Optimal Solution Found.\n",
      "2022-08-25 12:01:03 [INFO] idaes.init.fs.state_block: Equilibrium temperature initialization completed.\n",
      "2022-08-25 12:01:03 [INFO] idaes.init.fs.state_block: State variable initialization completed.\n",
      "2022-08-25 12:01:03 [INFO] idaes.init.fs.state_block: Phase equilibrium initialization: optimal - Optimal Solution Found.\n",
      "2022-08-25 12:01:03 [INFO] idaes.init.fs.state_block: Property initialization: optimal - Optimal Solution Found.\n",
      "2022-08-25 12:01:03 [INFO] idaes.init.fs.state_block: Property package initialization: optimal - Optimal Solution Found.\n",
      "2022-08-25 12:01:04 [INFO] idaes.init.fs.state_block: Starting initialization\n",
      "WARNING (W1002): Setting Var\n",
      "    'fs.state_block[1].log_mole_frac_tbub[Vap,Liq,carbon_dioxide]' to a\n",
      "    numeric value `6.169320987299437e-07` outside the bounds (None, 0).\n",
      "    See also https://pyomo.readthedocs.io/en/latest/errors.html#w1002\n",
      "2022-08-25 12:01:04 [INFO] idaes.init.fs.state_block: Dew and bubble point initialization: optimal - Optimal Solution Found.\n",
      "2022-08-25 12:01:04 [INFO] idaes.init.fs.state_block: Equilibrium temperature initialization completed.\n",
      "2022-08-25 12:01:04 [INFO] idaes.init.fs.state_block: State variable initialization completed.\n",
      "2022-08-25 12:01:04 [INFO] idaes.init.fs.state_block: Phase equilibrium initialization: optimal - Optimal Solution Found.\n",
      "2022-08-25 12:01:04 [INFO] idaes.init.fs.state_block: Property initialization: optimal - Optimal Solution Found.\n",
      "2022-08-25 12:01:04 [INFO] idaes.init.fs.state_block: Property package initialization: optimal - Optimal Solution Found.\n",
      "2022-08-25 12:01:04 [INFO] idaes.init.fs.state_block: Starting initialization\n",
      "WARNING (W1002): Setting Var\n",
      "    'fs.state_block[1].log_mole_frac_tbub[Vap,Liq,carbon_dioxide]' to a\n",
      "    numeric value `7.629131479751715e-08` outside the bounds (None, 0).\n",
      "    See also https://pyomo.readthedocs.io/en/latest/errors.html#w1002\n",
      "2022-08-25 12:01:05 [INFO] idaes.init.fs.state_block: Dew and bubble point initialization: optimal - Optimal Solution Found.\n",
      "2022-08-25 12:01:05 [INFO] idaes.init.fs.state_block: Equilibrium temperature initialization completed.\n",
      "2022-08-25 12:01:05 [INFO] idaes.init.fs.state_block: State variable initialization completed.\n",
      "2022-08-25 12:01:05 [INFO] idaes.init.fs.state_block: Phase equilibrium initialization: optimal - Optimal Solution Found.\n",
      "2022-08-25 12:01:05 [INFO] idaes.init.fs.state_block: Property initialization: optimal - Optimal Solution Found.\n",
      "2022-08-25 12:01:05 [INFO] idaes.init.fs.state_block: Property package initialization: optimal - Optimal Solution Found.\n",
      "2022-08-25 12:01:05 [INFO] idaes.init.fs.state_block: Starting initialization\n",
      "WARNING (W1002): Setting Var\n",
      "    'fs.state_block[1].log_mole_frac_tbub[Vap,Liq,carbon_dioxide]' to a\n",
      "    numeric value `1.3059472085065408e-08` outside the bounds (None, 0).\n",
      "    See also https://pyomo.readthedocs.io/en/latest/errors.html#w1002\n",
      "2022-08-25 12:01:05 [INFO] idaes.init.fs.state_block: Dew and bubble point initialization: optimal - Optimal Solution Found.\n",
      "2022-08-25 12:01:05 [INFO] idaes.init.fs.state_block: Equilibrium temperature initialization completed.\n",
      "2022-08-25 12:01:05 [INFO] idaes.init.fs.state_block: State variable initialization completed.\n",
      "2022-08-25 12:01:06 [INFO] idaes.init.fs.state_block: Phase equilibrium initialization: optimal - Optimal Solution Found.\n",
      "2022-08-25 12:01:06 [INFO] idaes.init.fs.state_block: Property initialization: optimal - Optimal Solution Found.\n",
      "2022-08-25 12:01:06 [INFO] idaes.init.fs.state_block: Property package initialization: optimal - Optimal Solution Found.\n",
      "2022-08-25 12:01:06 [INFO] idaes.init.fs.state_block: Starting initialization\n",
      "WARNING (W1002): Setting Var\n",
      "    'fs.state_block[1].log_mole_frac_tbub[Vap,Liq,carbon_dioxide]' to a\n",
      "    numeric value `4.761445527533956e-06` outside the bounds (None, 0).\n",
      "    See also https://pyomo.readthedocs.io/en/latest/errors.html#w1002\n",
      "2022-08-25 12:01:06 [INFO] idaes.init.fs.state_block: Dew and bubble point initialization: optimal - Optimal Solution Found.\n",
      "2022-08-25 12:01:06 [INFO] idaes.init.fs.state_block: Equilibrium temperature initialization completed.\n",
      "2022-08-25 12:01:06 [INFO] idaes.init.fs.state_block: State variable initialization completed.\n",
      "2022-08-25 12:01:06 [INFO] idaes.init.fs.state_block: Phase equilibrium initialization: optimal - Optimal Solution Found.\n",
      "2022-08-25 12:01:07 [INFO] idaes.init.fs.state_block: Property initialization: optimal - Optimal Solution Found.\n",
      "2022-08-25 12:01:07 [INFO] idaes.init.fs.state_block: Property package initialization: optimal - Optimal Solution Found.\n",
      "2022-08-25 12:01:07 [INFO] idaes.init.fs.state_block: Starting initialization\n",
      "WARNING (W1002): Setting Var\n",
      "    'fs.state_block[1].log_mole_frac_tbub[Vap,Liq,carbon_dioxide]' to a\n",
      "    numeric value `7.219204097329158e-09` outside the bounds (None, 0).\n",
      "    See also https://pyomo.readthedocs.io/en/latest/errors.html#w1002\n",
      "2022-08-25 12:01:07 [INFO] idaes.init.fs.state_block: Dew and bubble point initialization: optimal - Optimal Solution Found.\n",
      "2022-08-25 12:01:07 [INFO] idaes.init.fs.state_block: Equilibrium temperature initialization completed.\n",
      "2022-08-25 12:01:07 [INFO] idaes.init.fs.state_block: State variable initialization completed.\n",
      "2022-08-25 12:01:07 [INFO] idaes.init.fs.state_block: Phase equilibrium initialization: optimal - Optimal Solution Found.\n",
      "2022-08-25 12:01:08 [INFO] idaes.init.fs.state_block: Property initialization: optimal - Optimal Solution Found.\n",
      "2022-08-25 12:01:08 [INFO] idaes.init.fs.state_block: Property package initialization: optimal - Optimal Solution Found.\n",
      "2022-08-25 12:01:08 [INFO] idaes.init.fs.state_block: Starting initialization\n",
      "WARNING (W1002): Setting Var\n",
      "    'fs.state_block[1].log_mole_frac_tbub[Vap,Liq,carbon_dioxide]' to a\n",
      "    numeric value `1.03769179356835e-05` outside the bounds (None, 0).\n",
      "    See also https://pyomo.readthedocs.io/en/latest/errors.html#w1002\n"
     ]
    },
    {
     "name": "stdout",
     "output_type": "stream",
     "text": [
      "2022-08-25 12:01:08 [INFO] idaes.init.fs.state_block: Dew and bubble point initialization: optimal - Optimal Solution Found.\n",
      "2022-08-25 12:01:08 [INFO] idaes.init.fs.state_block: Equilibrium temperature initialization completed.\n",
      "2022-08-25 12:01:08 [INFO] idaes.init.fs.state_block: State variable initialization completed.\n",
      "2022-08-25 12:01:08 [INFO] idaes.init.fs.state_block: Phase equilibrium initialization: optimal - Optimal Solution Found.\n",
      "2022-08-25 12:01:08 [INFO] idaes.init.fs.state_block: Property initialization: optimal - Optimal Solution Found.\n",
      "2022-08-25 12:01:08 [INFO] idaes.init.fs.state_block: Property package initialization: optimal - Optimal Solution Found.\n",
      "2022-08-25 12:01:08 [INFO] idaes.init.fs.state_block: Starting initialization\n",
      "WARNING (W1002): Setting Var\n",
      "    'fs.state_block[1].log_mole_frac_tbub[Vap,Liq,carbon_dioxide]' to a\n",
      "    numeric value `1.269889598521249e-06` outside the bounds (None, 0).\n",
      "    See also https://pyomo.readthedocs.io/en/latest/errors.html#w1002\n",
      "2022-08-25 12:01:09 [INFO] idaes.init.fs.state_block: Dew and bubble point initialization: optimal - Optimal Solution Found.\n",
      "2022-08-25 12:01:09 [INFO] idaes.init.fs.state_block: Equilibrium temperature initialization completed.\n",
      "2022-08-25 12:01:09 [INFO] idaes.init.fs.state_block: State variable initialization completed.\n",
      "2022-08-25 12:01:09 [INFO] idaes.init.fs.state_block: Phase equilibrium initialization: optimal - Optimal Solution Found.\n",
      "2022-08-25 12:01:09 [INFO] idaes.init.fs.state_block: Property initialization: optimal - Optimal Solution Found.\n",
      "2022-08-25 12:01:09 [INFO] idaes.init.fs.state_block: Property package initialization: optimal - Optimal Solution Found.\n",
      "2022-08-25 12:01:09 [INFO] idaes.init.fs.state_block: Starting initialization\n",
      "WARNING (W1002): Setting Var\n",
      "    'fs.state_block[1].log_mole_frac_tbub[Vap,Liq,carbon_dioxide]' to a\n",
      "    numeric value `2.021447098567687e-07` outside the bounds (None, 0).\n",
      "    See also https://pyomo.readthedocs.io/en/latest/errors.html#w1002\n",
      "2022-08-25 12:01:09 [INFO] idaes.init.fs.state_block: Dew and bubble point initialization: optimal - Optimal Solution Found.\n",
      "2022-08-25 12:01:09 [INFO] idaes.init.fs.state_block: Equilibrium temperature initialization completed.\n",
      "2022-08-25 12:01:09 [INFO] idaes.init.fs.state_block: State variable initialization completed.\n",
      "2022-08-25 12:01:09 [INFO] idaes.init.fs.state_block: Phase equilibrium initialization: optimal - Optimal Solution Found.\n",
      "2022-08-25 12:01:10 [INFO] idaes.init.fs.state_block: Property initialization: optimal - Optimal Solution Found.\n",
      "2022-08-25 12:01:10 [INFO] idaes.init.fs.state_block: Property package initialization: optimal - Optimal Solution Found.\n",
      "2022-08-25 12:01:10 [INFO] idaes.init.fs.state_block: Starting initialization\n",
      "WARNING (W1002): Setting Var\n",
      "    'fs.state_block[1].log_mole_frac_tbub[Vap,Liq,carbon_dioxide]' to a\n",
      "    numeric value `4.096574706592338e-08` outside the bounds (None, 0).\n",
      "    See also https://pyomo.readthedocs.io/en/latest/errors.html#w1002\n",
      "2022-08-25 12:01:10 [INFO] idaes.init.fs.state_block: Dew and bubble point initialization: optimal - Optimal Solution Found.\n",
      "2022-08-25 12:01:10 [INFO] idaes.init.fs.state_block: Equilibrium temperature initialization completed.\n",
      "2022-08-25 12:01:10 [INFO] idaes.init.fs.state_block: State variable initialization completed.\n",
      "2022-08-25 12:01:10 [INFO] idaes.init.fs.state_block: Phase equilibrium initialization: optimal - Optimal Solution Found.\n",
      "2022-08-25 12:01:10 [INFO] idaes.init.fs.state_block: Property initialization: optimal - Optimal Solution Found.\n",
      "2022-08-25 12:01:10 [INFO] idaes.init.fs.state_block: Property package initialization: optimal - Optimal Solution Found.\n",
      "2022-08-25 12:01:11 [INFO] idaes.init.fs.state_block: Starting initialization\n",
      "WARNING (W1002): Setting Var\n",
      "    'fs.state_block[1].log_mole_frac_tbub[Vap,Liq,carbon_dioxide]' to a\n",
      "    numeric value `6.21086636630859e-06` outside the bounds (None, 0).\n",
      "    See also https://pyomo.readthedocs.io/en/latest/errors.html#w1002\n",
      "2022-08-25 12:01:11 [INFO] idaes.init.fs.state_block: Dew and bubble point initialization: optimal - Optimal Solution Found.\n",
      "2022-08-25 12:01:11 [INFO] idaes.init.fs.state_block: Equilibrium temperature initialization completed.\n",
      "2022-08-25 12:01:11 [INFO] idaes.init.fs.state_block: State variable initialization completed.\n",
      "2022-08-25 12:01:11 [INFO] idaes.init.fs.state_block: Phase equilibrium initialization: optimal - Optimal Solution Found.\n",
      "2022-08-25 12:01:11 [INFO] idaes.init.fs.state_block: Property initialization: optimal - Optimal Solution Found.\n",
      "2022-08-25 12:01:11 [INFO] idaes.init.fs.state_block: Property package initialization: optimal - Optimal Solution Found.\n",
      "2022-08-25 12:01:11 [INFO] idaes.init.fs.state_block: Starting initialization\n",
      "WARNING (W1002): Setting Var\n",
      "    'fs.state_block[1].log_mole_frac_tbub[Vap,Liq,carbon_dioxide]' to a\n",
      "    numeric value `1.1919675619879674e-08` outside the bounds (None, 0).\n",
      "    See also https://pyomo.readthedocs.io/en/latest/errors.html#w1002\n",
      "2022-08-25 12:01:12 [INFO] idaes.init.fs.state_block: Dew and bubble point initialization: optimal - Optimal Solution Found.\n",
      "2022-08-25 12:01:12 [INFO] idaes.init.fs.state_block: Equilibrium temperature initialization completed.\n",
      "2022-08-25 12:01:12 [INFO] idaes.init.fs.state_block: State variable initialization completed.\n",
      "2022-08-25 12:01:12 [INFO] idaes.init.fs.state_block: Phase equilibrium initialization: optimal - Optimal Solution Found.\n",
      "2022-08-25 12:01:12 [INFO] idaes.init.fs.state_block: Property initialization: optimal - Optimal Solution Found.\n",
      "2022-08-25 12:01:12 [INFO] idaes.init.fs.state_block: Property package initialization: optimal - Optimal Solution Found.\n",
      "2022-08-25 12:01:12 [INFO] idaes.init.fs.state_block: Starting initialization\n",
      "WARNING (W1002): Setting Var\n",
      "    'fs.state_block[1].log_mole_frac_tbub[Vap,Liq,carbon_dioxide]' to a\n",
      "    numeric value `1.0197309662820167e-10` outside the bounds (None, 0).\n",
      "    See also https://pyomo.readthedocs.io/en/latest/errors.html#w1002\n",
      "2022-08-25 12:01:12 [INFO] idaes.init.fs.state_block: Dew and bubble point initialization: optimal - Optimal Solution Found.\n",
      "2022-08-25 12:01:12 [INFO] idaes.init.fs.state_block: Equilibrium temperature initialization completed.\n",
      "2022-08-25 12:01:12 [INFO] idaes.init.fs.state_block: State variable initialization completed.\n",
      "2022-08-25 12:01:13 [INFO] idaes.init.fs.state_block: Phase equilibrium initialization: optimal - Optimal Solution Found.\n",
      "2022-08-25 12:01:13 [INFO] idaes.init.fs.state_block: Property initialization: optimal - Optimal Solution Found.\n",
      "2022-08-25 12:01:13 [INFO] idaes.init.fs.state_block: Property package initialization: optimal - Optimal Solution Found.\n",
      "2022-08-25 12:01:13 [INFO] idaes.init.fs.state_block: Starting initialization\n",
      "WARNING (W1002): Setting Var\n",
      "    'fs.state_block[1].log_mole_frac_tbub[Vap,Liq,carbon_dioxide]' to a\n",
      "    numeric value `2.385494860297472e-06` outside the bounds (None, 0).\n",
      "    See also https://pyomo.readthedocs.io/en/latest/errors.html#w1002\n",
      "2022-08-25 12:01:13 [INFO] idaes.init.fs.state_block: Dew and bubble point initialization: optimal - Optimal Solution Found.\n",
      "2022-08-25 12:01:13 [INFO] idaes.init.fs.state_block: Equilibrium temperature initialization completed.\n",
      "2022-08-25 12:01:13 [INFO] idaes.init.fs.state_block: State variable initialization completed.\n",
      "2022-08-25 12:01:13 [INFO] idaes.init.fs.state_block: Phase equilibrium initialization: optimal - Optimal Solution Found.\n",
      "2022-08-25 12:01:13 [INFO] idaes.init.fs.state_block: Property initialization: optimal - Optimal Solution Found.\n",
      "2022-08-25 12:01:13 [INFO] idaes.init.fs.state_block: Property package initialization: optimal - Optimal Solution Found.\n",
      "2022-08-25 12:01:14 [INFO] idaes.init.fs.state_block: Starting initialization\n",
      "WARNING (W1002): Setting Var\n",
      "    'fs.state_block[1].log_mole_frac_tbub[Vap,Liq,carbon_dioxide]' to a\n",
      "    numeric value `4.578395178499122e-07` outside the bounds (None, 0).\n",
      "    See also https://pyomo.readthedocs.io/en/latest/errors.html#w1002\n",
      "2022-08-25 12:01:14 [INFO] idaes.init.fs.state_block: Dew and bubble point initialization: optimal - Optimal Solution Found.\n",
      "2022-08-25 12:01:14 [INFO] idaes.init.fs.state_block: Equilibrium temperature initialization completed.\n"
     ]
    },
    {
     "name": "stdout",
     "output_type": "stream",
     "text": [
      "2022-08-25 12:01:14 [INFO] idaes.init.fs.state_block: State variable initialization completed.\n",
      "2022-08-25 12:01:14 [INFO] idaes.init.fs.state_block: Phase equilibrium initialization: optimal - Optimal Solution Found.\n",
      "2022-08-25 12:01:14 [INFO] idaes.init.fs.state_block: Property initialization: optimal - Optimal Solution Found.\n",
      "2022-08-25 12:01:14 [INFO] idaes.init.fs.state_block: Property package initialization: optimal - Optimal Solution Found.\n",
      "2022-08-25 12:01:14 [INFO] idaes.init.fs.state_block: Starting initialization\n",
      "WARNING (W1002): Setting Var\n",
      "    'fs.state_block[1].log_mole_frac_tbub[Vap,Liq,carbon_dioxide]' to a\n",
      "    numeric value `1.0835202436687703e-07` outside the bounds (None, 0).\n",
      "    See also https://pyomo.readthedocs.io/en/latest/errors.html#w1002\n",
      "2022-08-25 12:01:14 [INFO] idaes.init.fs.state_block: Dew and bubble point initialization: optimal - Optimal Solution Found.\n",
      "2022-08-25 12:01:14 [INFO] idaes.init.fs.state_block: Equilibrium temperature initialization completed.\n",
      "2022-08-25 12:01:14 [INFO] idaes.init.fs.state_block: State variable initialization completed.\n",
      "2022-08-25 12:01:15 [INFO] idaes.init.fs.state_block: Phase equilibrium initialization: optimal - Optimal Solution Found.\n",
      "2022-08-25 12:01:15 [INFO] idaes.init.fs.state_block: Property initialization: optimal - Optimal Solution Found.\n",
      "2022-08-25 12:01:15 [INFO] idaes.init.fs.state_block: Property package initialization: optimal - Optimal Solution Found.\n",
      "Ipopt 3.13.2: \n",
      "\n",
      "******************************************************************************\n",
      "This program contains Ipopt, a library for large-scale nonlinear optimization.\n",
      " Ipopt is released as open source code under the Eclipse Public License (EPL).\n",
      "         For more information visit http://projects.coin-or.org/Ipopt\n",
      "\n",
      "This version of Ipopt was compiled from source code available at\n",
      "    https://github.com/IDAES/Ipopt as part of the Institute for the Design of\n",
      "    Advanced Energy Systems Process Systems Engineering Framework (IDAES PSE\n",
      "    Framework) Copyright (c) 2018-2019. See https://github.com/IDAES/idaes-pse.\n",
      "\n",
      "This version of Ipopt was compiled using HSL, a collection of Fortran codes\n",
      "    for large-scale scientific computation.  All technical papers, sales and\n",
      "    publicity material resulting from use of the HSL codes within IPOPT must\n",
      "    contain the following acknowledgement:\n",
      "        HSL, a collection of Fortran codes for large-scale scientific\n",
      "        computation. See http://www.hsl.rl.ac.uk.\n",
      "******************************************************************************\n",
      "\n",
      "This is Ipopt version 3.13.2, running with linear solver ma27.\n",
      "\n",
      "Number of nonzeros in equality constraint Jacobian...:      842\n",
      "Number of nonzeros in inequality constraint Jacobian.:        0\n",
      "Number of nonzeros in Lagrangian Hessian.............:      720\n",
      "\n",
      "Total number of variables............................:      360\n",
      "                     variables with only lower bounds:       72\n",
      "                variables with lower and upper bounds:      234\n",
      "                     variables with only upper bounds:       18\n",
      "Total number of equality constraints.................:      358\n",
      "Total number of inequality constraints...............:        0\n",
      "        inequality constraints with only lower bounds:        0\n",
      "   inequality constraints with lower and upper bounds:        0\n",
      "        inequality constraints with only upper bounds:        0\n",
      "\n",
      "iter    objective    inf_pr   inf_du lg(mu)  ||d||  lg(rg) alpha_du alpha_pr  ls\n",
      "   0  0.0000000e+00 5.00e-01 7.70e-14  -1.0 0.00e+00    -  0.00e+00 0.00e+00   0\n",
      "   1  1.1422488e+01 2.60e-01 2.37e+03  -1.0 3.35e+04    -  3.39e-01 6.89e-01h  1\n",
      "   2  2.8748813e+01 1.27e-01 1.10e+03  -1.0 1.36e+04    -  8.22e-02 9.88e-01h  1\n",
      "   3  2.9813930e+01 1.87e-01 5.94e+02  -1.0 5.01e+02    -  8.73e-01 9.90e-01h  1\n",
      "   4  2.9709737e+01 4.27e-02 1.57e+03  -1.0 5.49e+02    -  9.85e-01 9.90e-01h  1\n",
      "   5  2.9285216e+01 8.02e-03 9.53e+04  -1.0 2.77e+03    -  9.87e-01 1.00e+00h  1\n",
      "   6  2.9283589e+01 1.44e-04 9.56e+04  -1.0 3.48e+02    -  9.90e-01 1.00e+00h  1\n",
      "   7  2.9283603e+01 7.59e-08 9.12e+02  -1.0 5.97e-01    -  9.90e-01 1.00e+00h  1\n",
      "   8  2.9282891e+01 3.35e-07 1.47e+04  -2.5 1.24e+02    -  9.98e-01 1.00e+00f  1\n",
      "   9  2.9282892e+01 2.72e-12 4.97e-08  -2.5 2.39e-01    -  1.00e+00 1.00e+00h  1\n",
      "iter    objective    inf_pr   inf_du lg(mu)  ||d||  lg(rg) alpha_du alpha_pr  ls\n",
      "  10  2.9282891e+01 2.84e-10 3.05e+00  -8.6 3.61e+00    -  1.00e+00 1.00e+00h  1\n",
      "  11  2.9282891e+01 2.31e-12 4.13e-12  -8.6 2.03e-04    -  1.00e+00 1.00e+00h  1\n",
      "\n",
      "Number of Iterations....: 11\n",
      "\n",
      "                                   (scaled)                 (unscaled)\n",
      "Objective...............:   2.9282891309653440e+01    2.9282891309653440e+01\n",
      "Dual infeasibility......:   4.1285327027493019e-12    4.1285327027493019e-12\n",
      "Constraint violation....:   2.3114754986499298e-12    2.3114754986499298e-12\n",
      "Complementarity.........:   2.5059037693618312e-09    2.5059037693618312e-09\n",
      "Overall NLP error.......:   2.5059037693618312e-09    2.5059037693618312e-09\n",
      "\n",
      "\n",
      "Number of objective function evaluations             = 12\n",
      "Number of objective gradient evaluations             = 12\n",
      "Number of equality constraint evaluations            = 12\n",
      "Number of inequality constraint evaluations          = 0\n",
      "Number of equality constraint Jacobian evaluations   = 12\n",
      "Number of inequality constraint Jacobian evaluations = 0\n",
      "Number of Lagrangian Hessian evaluations             = 11\n",
      "Total CPU secs in IPOPT (w/o function evaluations)   =      0.021\n",
      "Total CPU secs in NLP function evaluations           =      0.155\n",
      "\n",
      "EXIT: Optimal Solution Found.\n"
     ]
    }
   ],
   "source": [
    "pest = parmest.Estimator(PR_model, data, variable_name, SSE, tee=True)\n",
    "\n",
    "obj_value, parameters = pest.theta_est()"
   ]
  },
  {
   "cell_type": "markdown",
   "metadata": {},
   "source": [
    "## 5.0 Display results\n",
    "\n",
    "Let us display the results by running the next cell."
   ]
  },
  {
   "cell_type": "code",
   "execution_count": 10,
   "metadata": {},
   "outputs": [
    {
     "name": "stdout",
     "output_type": "stream",
     "text": [
      "The SSE at the optimal solution is 29.282891\n",
      "\n",
      "The values for the parameters are as follows:\n",
      "fs.properties.PR_kappa[bmimPF6,carbon_dioxide] = -0.40714284003013756\n",
      "fs.properties.PR_kappa[carbon_dioxide,bmimPF6] = 0.020593684002508987\n"
     ]
    }
   ],
   "source": [
    "print(\"The SSE at the optimal solution is %0.6f\" % obj_value)\n",
    "print()\n",
    "print(\"The values for the parameters are as follows:\")\n",
    "for k,v in parameters.items():\n",
    "    print(k, \"=\", v)"
   ]
  },
  {
   "cell_type": "markdown",
   "metadata": {},
   "source": [
    "Now we can use this parameters and include them in the configuration dictionary. We can also use `m.fs.properties = GenericParameterBlock(**configuration)` to solve unit models."
   ]
  },
  {
   "cell_type": "code",
   "execution_count": null,
   "metadata": {},
   "outputs": [],
   "source": []
  }
 ],
 "metadata": {
  "kernelspec": {
   "display_name": "Python 3 (ipykernel)",
   "language": "python",
   "name": "python3"
  },
  "language_info": {
   "codemirror_mode": {
    "name": "ipython",
    "version": 3
   },
   "file_extension": ".py",
   "mimetype": "text/x-python",
   "name": "python",
   "nbconvert_exporter": "python",
   "pygments_lexer": "ipython3",
   "version": "3.9.12"
  }
 },
 "nbformat": 4,
 "nbformat_minor": 4
}
