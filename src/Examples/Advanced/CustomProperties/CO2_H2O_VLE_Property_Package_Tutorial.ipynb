{
 "cells": [
  {
   "cell_type": "markdown",
   "metadata": {},
   "source": [
    "# Custom property package for CO2, H2O VLE system "
   ]
  },
  {
   "cell_type": "markdown",
   "metadata": {},
   "source": [
    "The CO2, H2O mixture is commonly observed as a part of carbon capture systems with water rich solvents, as well as carbon storage systems. In order to simulate and optimize these systems, it is important to understand the thermodynamic properties and equilibrium behavior of this mixture. \n",
    "\n",
    "The aim of this tutorial is as follows:\n",
    "1. Develop a property package for CO2, H2O system phase equilibrium, using the generic property package framework in IDAES, in a stepwise manner.\n",
    "2. Implement the property package for simulating a flash unit model, and study the VLE behavior \n",
    "\n",
    "The assumptions while building this property package is as follows:\n",
    "1. The vapor and liquid phases show ideal behavior\n",
    "2. CO2 is a non condensable, and its concentration is negligible in liquid phase\n",
    "3. The package would be applicable to systems at a pressure close to 1 atm \n",
    "\n",
    "Reference Temperature: 298.15 K\n",
    "\n",
    "Reference Pressure: 101325 Pa"
   ]
  },
  {
   "cell_type": "markdown",
   "metadata": {},
   "source": [
    "## Part 1: Property Package Development "
   ]
  },
  {
   "cell_type": "markdown",
   "metadata": {},
   "source": [
    "### Step 1: Import the required Python and Pyomo packages\n",
    "\n",
    "1. 'logging' is a python package required to set up the logger\n",
    "2. 'units' is a Pyomo package required for specifying the units of physical quantities"
   ]
  },
  {
   "cell_type": "code",
   "execution_count": 1,
   "metadata": {},
   "outputs": [],
   "source": [
    "import logging\n",
    "from pyomo.environ import units as pyunits"
   ]
  },
  {
   "cell_type": "markdown",
   "metadata": {},
   "source": [
    "### Step 2: Import IDAES core packages \n",
    "\n",
    "IDAES cores required for building the property package need to be imported. They are as follows:\n",
    "\n",
    "1. 'LiquidPhase', 'VaporPhase', 'PhaseType', are packages that are required to declare phase types for components\n",
    "\n",
    "2. 'Component' is the package required to declare different system constituents as components in the system\n",
    "\n",
    "3. 'FTPx' is the package required to specify the system state definition being molar flow rate, temperature, pressure, and mole fractions. \n",
    "\n",
    "4. 'Ideal' is the package required to apply ideal equation of state for phases that show ideal behavior.\n",
    "\n",
    "5. 'smooth_VLE' is the package required to apply smooting function for phase equilibrium formulations, to ensure continuous behavior. \n",
    "\n",
    "6. 'IdealBubbleDew' is the package required to apply ideal VLE equations to calculate bubble and dew points for the system\n",
    "\n",
    "7. 'fugacity' is the package required to apply fugacity based VLE correlations for the system\n",
    "\n",
    "8. 'Perrys' is the package required to access thermodynamic property corelations from Perry's Chemical Engineer's Handbook (7th Edition), and apply it to the system\n",
    "\n",
    "9. 'NIST' is the package required to access thermodynamic property corelations from the NIST Web-book, and apply it to the system"
   ]
  },
  {
   "cell_type": "code",
   "execution_count": 2,
   "metadata": {},
   "outputs": [],
   "source": [
    "from idaes.core import LiquidPhase, VaporPhase, Component\n",
    "from idaes.core.phases import PhaseType as PT\n",
    "from idaes.generic_models.properties.core.state_definitions import FTPx\n",
    "from idaes.generic_models.properties.core.eos.ideal import Ideal\n",
    "from idaes.generic_models.properties.core.phase_equil import smooth_VLE\n",
    "from idaes.generic_models.properties.core.phase_equil.bubble_dew import \\\n",
    "        IdealBubbleDew\n",
    "from idaes.generic_models.properties.core.phase_equil.forms import fugacity\n",
    "import idaes.generic_models.properties.core.pure.Perrys as Perrys\n",
    "import idaes.generic_models.properties.core.pure.NIST as NIST"
   ]
  },
  {
   "cell_type": "markdown",
   "metadata": {},
   "source": [
    "### Step 3: Set up the logger"
   ]
  },
  {
   "cell_type": "code",
   "execution_count": 3,
   "metadata": {},
   "outputs": [],
   "source": [
    "_log = logging.getLogger(__name__)"
   ]
  },
  {
   "cell_type": "markdown",
   "metadata": {},
   "source": [
    "### Step 4: Set up the configuration dictionary "
   ]
  },
  {
   "cell_type": "markdown",
   "metadata": {},
   "source": [
    "A nested dictionary needs to be created in order to specify the components involved in the system, their thermophysical and thermodynamic property corelations, corresponding parameters, and valid phases. Along with this, it is also meant to provide system level details, like the combination of state variables for state definition, valid bounds for each of them, reference state, and phases in equilibrium. \n",
    "\n",
    "The configuration dictionary has two main types of keys:\n",
    "1. System specific\n",
    "2. Component specific\n",
    "\n",
    "The outermost keys are system specific. Their corresponding values are either specified through a number, methods imported from idaes core, or another dictionary containing system/component specific keys. "
   ]
  },
  {
   "cell_type": "markdown",
   "metadata": {},
   "source": [
    "#### Outermost Keys"
   ]
  },
  {
   "cell_type": "markdown",
   "metadata": {},
   "source": [
    "1. \"components\" \n",
    "2. \"phases\" \n",
    "3. \"base_units\" \n",
    "4. \"state_definition\" \n",
    "5. \"state_bounds\" \n",
    "6. \"pressure_ref\" \n",
    "7. \"temperature_ref\" \n",
    "8. \"phases_in_equilibrium\" \n",
    "9. \"phase_equilibrium_state\" \n",
    "10. \"bubble_dew_method\""
   ]
  },
  {
   "cell_type": "markdown",
   "metadata": {},
   "source": [
    "#### Key 1 - \"components\" - value: contains another dictionary to specify component details"
   ]
  },
  {
   "cell_type": "markdown",
   "metadata": {},
   "source": [
    "This key contains a nested dictionary as its value, which further contains the system components as keys, along with their property calculation methods, parameter data, and phase equilibrium method (if applicable) as values. \n",
    "\n",
    "In this system, we have H2O and CO2 as components. The syntax for specifying their data is shown here:\n",
    "\"components\": {\n",
    "\"H2O\": Property details dictionary,\n",
    "\"CO2\": Property details dictionary\n",
    "}\n",
    "\n",
    "The property details dictionary generally contains the following keys:\n",
    "1. \"type\" - meant to specify each component as a Component object in the IDAES property package\n",
    "2. \"valid_phase_types\" - meant to specify the valid phases for the component, via PhaseType objects\n",
    "3. \"dens_mol_liq_comp\" - meant to specify the module to access the method for calculating molar density of the component in liquid phase\n",
    "4. \"enth_mol_liq_comp\" - meant to specify the module to access the method for calculating molar enthalpy of the component in liquid phase\n",
    "5. \"enth_mol_ig_comp\" - meant to specify the module to access the method for calculating molar enthalpy of the component in vapor phase\n",
    "6. \"pressure_sat_comp\" - meant to specify the module to access the method for calculating saturation pressure of the component\n",
    "7. \"phase_equilibrium_form\" - meant to specify the method for constructing phase equilibrium equations, corresponding to each pair of phases, within a dictionary\n",
    "8. \"parameter_data\" - meant to specify parameters associated with the component, along with those required in the property calculation methods, within a dictionary. These include molecular weight, critical pressure, critical temperature, coefficients in density method, specific heat capacity methods (for each valid phase), reference molar enthalpy of formation (each phase), and coefficients in saturation pressure method"
   ]
  },
  {
   "cell_type": "markdown",
   "metadata": {},
   "source": [
    "#### Key 2 - \"phases\" - value: contains a dictionary of the phases present in the system, along with the equation of state required to define their behavior"
   ]
  },
  {
   "cell_type": "markdown",
   "metadata": {},
   "source": [
    "This key contains a nested dictionary as value, with the valid phase names for the system, their corresponding phase types, and the class containing the required equation of state."
   ]
  },
  {
   "cell_type": "markdown",
   "metadata": {},
   "source": [
    "#### Key 3 - \"base_units\" - value: contains a dictionary of units applicable for different physical quantities and time"
   ]
  },
  {
   "cell_type": "markdown",
   "metadata": {},
   "source": [
    "This key contains a dictionary as value, with the basic physical quantities like length, mass, amount, temperature, time, and their units of measurement to be considered"
   ]
  },
  {
   "cell_type": "markdown",
   "metadata": {},
   "source": [
    "#### Key 4 - \"state_definition\""
   ]
  },
  {
   "cell_type": "markdown",
   "metadata": {},
   "source": [
    "This key contains the particular state definition method as value, from idaes core library, according to the desired state variable combinations to be specified for it"
   ]
  },
  {
   "cell_type": "markdown",
   "metadata": {},
   "source": [
    "#### Key 5 - \"state_bounds\""
   ]
  },
  {
   "cell_type": "markdown",
   "metadata": {},
   "source": [
    "This key contains a dictionary as value, containing the state variable bounds within which the system would operate, and the property package would be valid, along with the initial points. The state variable keys in the dictionary need to be specified according to the state definition "
   ]
  },
  {
   "cell_type": "markdown",
   "metadata": {},
   "source": [
    "#### Key 6 - \"pressure_ref\""
   ]
  },
  {
   "cell_type": "markdown",
   "metadata": {},
   "source": [
    "This key contains a tuple as value, containing the systems's reference pressure, with the appropriate units"
   ]
  },
  {
   "cell_type": "markdown",
   "metadata": {},
   "source": [
    "#### Key 7 - \"temperature_ref\""
   ]
  },
  {
   "cell_type": "markdown",
   "metadata": {},
   "source": [
    "This key contains a tuple as value, containing the systems's reference temperature, with the appropriate units"
   ]
  },
  {
   "cell_type": "markdown",
   "metadata": {},
   "source": [
    "#### Key 8 - \"phases_in_equilibrium\""
   ]
  },
  {
   "cell_type": "markdown",
   "metadata": {},
   "source": [
    "This key contains a list of tuples as value, each tuple containing names of phases in equilibrium for the system"
   ]
  },
  {
   "cell_type": "markdown",
   "metadata": {},
   "source": [
    "#### Key 9 - \"phase_equilibrium_state\""
   ]
  },
  {
   "cell_type": "markdown",
   "metadata": {},
   "source": [
    "This key contains a dictionary as value, with the method required from idaes core library to obtain a smooth formulation for phase equilibrium equations"
   ]
  },
  {
   "cell_type": "markdown",
   "metadata": {},
   "source": [
    "#### Key 10 - \"bubble_dew_method\""
   ]
  },
  {
   "cell_type": "markdown",
   "metadata": {},
   "source": [
    "This key contains the method required from idaes core library to calculate bubble and dew points for the system, as a value"
   ]
  },
  {
   "cell_type": "markdown",
   "metadata": {},
   "source": [
    "#### Configuration Dictionary \n",
    "Data Sources:\n",
    "\n",
    "[1] NIST Webbook, https://webbook.nist.gov/\n",
    "\n",
    "[2] Perry's Chemical Engineers' Handbook 7th Ed."
   ]
  },
  {
   "cell_type": "code",
   "execution_count": 4,
   "metadata": {},
   "outputs": [],
   "source": [
    "configuration = {\n",
    "    # Specifying components\n",
    "    \"components\": {\n",
    "        'H2O': {\"type\": Component,\n",
    "                \"dens_mol_liq_comp\": Perrys,\n",
    "                \"enth_mol_liq_comp\": Perrys,\n",
    "                \"enth_mol_ig_comp\": NIST,\n",
    "                \"pressure_sat_comp\": NIST,\n",
    "                \"phase_equilibrium_form\": {(\"Vap\", \"Liq\"): fugacity},\n",
    "                \"parameter_data\": {\n",
    "                    \"mw\": (18.0153E-3, pyunits.kg/pyunits.mol),  # [1]\n",
    "                    \"pressure_crit\": (220.64E5, pyunits.Pa),  # [1]\n",
    "                    \"temperature_crit\": (647, pyunits.K),  # [1]\n",
    "                    \"include_enthalpy_of_formation\": True,\n",
    "                    \"dens_mol_liq_comp_coeff\": {\n",
    "                        '1': (5.459, pyunits.kmol*pyunits.m**-3),  # [2] pg. 2-98, temperature range 273.16 K - 333.15 K\n",
    "                        '2': (0.30542, None),\n",
    "                        '3': (647.13, pyunits.K),\n",
    "                        '4': (0.081, None)},\n",
    "                    \"cp_mol_ig_comp_coeff\": {\n",
    "                        'A': (30.09200, pyunits.J/pyunits.mol/pyunits.K),  # [1] temperature range 500 K- 1700 K\n",
    "                        'B': (6.832514, pyunits.J*pyunits.mol**-1*pyunits.K**-1*pyunits.kiloK**-1),\n",
    "                        'C': (6.793435, pyunits.J*pyunits.mol**-1*pyunits.K**-1*pyunits.kiloK**-2),\n",
    "                        'D': (-2.534480, pyunits.J*pyunits.mol**-1*pyunits.K**-1*pyunits.kiloK**-3),\n",
    "                        'E': (0.082139, pyunits.J*pyunits.mol**-1*pyunits.K**-1*pyunits.kiloK**2),\n",
    "                        'F': (-250.8810, pyunits.kJ/pyunits.mol),\n",
    "                        'G': (223.3967, pyunits.J/pyunits.mol/pyunits.K),\n",
    "                        'H': (0, pyunits.kJ/pyunits.mol)},\n",
    "                    \"cp_mol_liq_comp_coeff\": {\n",
    "                        '1': (2.7637E5, pyunits.J/pyunits.kmol/pyunits.K),  # [2] pg 2-174, temperature range 273.16 K - 533.15 K\n",
    "                        '2': (-2.0901E3, pyunits.J/pyunits.kmol/pyunits.K**2),\n",
    "                        '3': (8.125, pyunits.J/pyunits.kmol/pyunits.K**3),\n",
    "                        '4': (-1.4116E-2, pyunits.J/pyunits.kmol/pyunits.K**4),\n",
    "                        '5': (9.3701E-6, pyunits.J/pyunits.kmol/pyunits.K**5)},\n",
    "                    \"enth_mol_form_liq_comp_ref\": (\n",
    "                        -285.83E3, pyunits.J/pyunits.mol),  # [1]\n",
    "                    \"enth_mol_form_vap_comp_ref\": (\n",
    "                        -241.83E3, pyunits.J/pyunits.mol),  # [1]\n",
    "                    \"pressure_sat_comp_coeff\": {\n",
    "                        'A': (4.6543, None),  # [1], temperature range 255.9 K - 373 K\n",
    "                        'B': (1435.264, pyunits.K),\n",
    "                        'C': (-64.848, pyunits.K)}}},\n",
    "        'CO2': {\"type\": Component,\n",
    "                \"valid_phase_types\": PT.vaporPhase,\n",
    "                \"enth_mol_ig_comp\": NIST,\n",
    "                \"parameter_data\": {\n",
    "                   \"mw\": (44.0095E-3, pyunits.kg/pyunits.mol),  # [1]\n",
    "                   \"pressure_crit\": (73.825E5, pyunits.Pa),  # [1]\n",
    "                   \"temperature_crit\": (304.23, pyunits.K),  # [1]\n",
    "                   \"include_enthalpy_of_formation\": True,\n",
    "                   \"cp_mol_ig_comp_coeff\": {                 # [1], temperature range 298 K - 1200 K\n",
    "                       'A': (24.99735, pyunits.J/pyunits.mol/pyunits.K),\n",
    "                       'B': (55.18696, pyunits.J*pyunits.mol**-1*pyunits.K**-1*pyunits.kiloK**-1),\n",
    "                       'C': (-33.69137, pyunits.J*pyunits.mol**-1*pyunits.K**-1*pyunits.kiloK**-2),\n",
    "                       'D': (7.948387, pyunits.J*pyunits.mol**-1*pyunits.K**-1*pyunits.kiloK**-3),\n",
    "                       'E': (-0.136638, pyunits.J*pyunits.mol**-1*pyunits.K**-1*pyunits.kiloK**2),\n",
    "                       'F': (-403.6075, pyunits.kJ/pyunits.mol),\n",
    "                       'G': (228.2431, pyunits.J/pyunits.mol/pyunits.K),\n",
    "                       'H': (0, pyunits.kJ/pyunits.mol)},\n",
    "                   \"enth_mol_form_vap_comp_ref\": (-393.52E3, pyunits.J/pyunits.mol)# [1]\n",
    "                         }}},\n",
    "\n",
    "    # Specifying phases\n",
    "    \"phases\":  {'Liq': {\"type\": LiquidPhase,\n",
    "                        \"equation_of_state\": Ideal},\n",
    "                'Vap': {\"type\": VaporPhase,\n",
    "                        \"equation_of_state\": Ideal}},\n",
    "\n",
    "    # Set base units of measurement\n",
    "    \"base_units\": {\"time\": pyunits.s,\n",
    "                   \"length\": pyunits.m,\n",
    "                   \"mass\": pyunits.kg,\n",
    "                   \"amount\": pyunits.mol,\n",
    "                   \"temperature\": pyunits.K},\n",
    "\n",
    "    # Specifying state definition\n",
    "    \"state_definition\": FTPx,\n",
    "    \n",
    "    # Specifying state bounds (lower bound, value, upper bound)\n",
    "    \"state_bounds\": {\"flow_mol\": (0, 10, 20, pyunits.mol/pyunits.s),\n",
    "                     \"temperature\": (273.15, 323.15, 1000, pyunits.K),\n",
    "                     \"pressure\": (5E4, 108900, 1e7, pyunits.Pa)\n",
    "                    },\n",
    "    \n",
    "    # Specifying reference pressure and temperature\n",
    "    \"pressure_ref\": (101325, pyunits.Pa),\n",
    "    \"temperature_ref\": (298.15, pyunits.K),\n",
    "\n",
    "    # Defining phase equilibria\n",
    "    \"phases_in_equilibrium\": [(\"Vap\", \"Liq\")],\n",
    "    \"phase_equilibrium_state\": {(\"Vap\", \"Liq\"): smooth_VLE},\n",
    "    \"bubble_dew_method\": IdealBubbleDew}"
   ]
  },
  {
   "cell_type": "markdown",
   "metadata": {},
   "source": [
    "#### Points to be noted\n",
    "\n",
    "Under \"parameter_data\" for each component, ensure the following:\n",
    "\n",
    "1. The values taken from data sources are vaild in the systems temperature range\n",
    "\n",
    "2. The units corresponding to each of these values are specified correctly, aligning the data sources"
   ]
  },
  {
   "cell_type": "markdown",
   "metadata": {},
   "source": [
    "## Part 2: Property Package Implementation"
   ]
  },
  {
   "cell_type": "markdown",
   "metadata": {},
   "source": [
    "The CO2-H2O property package would be used to simulate a flash unit. \n",
    "\n",
    "Consider an inlet stream entering the unit with the following conditions:\n",
    "\n",
    "Mole flowrate = 9.8943 mol/s\n",
    "\n",
    "Mole fraction (CO2) = 0.13806\n",
    "\n",
    "Mole fraction (H2O) = 0.86194\n",
    "\n",
    "Pressure = 183430 Pa\n",
    "\n",
    "Temperature = 396.79058 K\n",
    "\n",
    "\n",
    "The flash conditions are as follows:\n",
    "\n",
    "Pressure drop = 0\n",
    "\n",
    "Vapor stream outlet temperature = 313.15 K"
   ]
  },
  {
   "cell_type": "markdown",
   "metadata": {},
   "source": [
    "### Step 1: Import necessary flowsheet building components"
   ]
  },
  {
   "cell_type": "code",
   "execution_count": 5,
   "metadata": {},
   "outputs": [],
   "source": [
    "# Import objects from pyomo package \n",
    "from pyomo.environ import ConcreteModel,SolverFactory,TransformationFactory,TerminationCondition,SolverStatus,value\n",
    "from idaes.core import FlowsheetBlock\n",
    "\n",
    "# Import Pyomo libraries\n",
    "from pyomo.environ import Reference\n",
    "from pyomo.common.config import ConfigBlock, ConfigValue, In\n",
    "\n",
    "# Import IDAES cores\n",
    "from idaes.core import (ControlVolume0DBlock,\n",
    "                        declare_process_block_class,\n",
    "                        EnergyBalanceType,\n",
    "                        MomentumBalanceType,\n",
    "                        MaterialBalanceType,\n",
    "                        UnitModelBlockData,\n",
    "                        useDefault)\n",
    "\n",
    "# Import the main FlowsheetBlock from IDAES. The flowsheet block will contain the unit model\n",
    "import idaes\n",
    "from idaes.core.flowsheet_model import FlowsheetBlock\n",
    "\n",
    "#Import the flash unit model\n",
    "from idaes.generic_models.unit_models import Flash\n",
    "\n",
    "# Import the generic parameter block, which is the foundation for building the property package\n",
    "from idaes.generic_models.properties.core.generic.generic_property import (\n",
    "        GenericParameterBlock)\n",
    "\n",
    "# Import the default solver\n",
    "from idaes.core.util.testing import get_default_solver"
   ]
  },
  {
   "cell_type": "markdown",
   "metadata": {},
   "source": [
    "### Step 2: Build property package within flowsheet"
   ]
  },
  {
   "cell_type": "code",
   "execution_count": 6,
   "metadata": {},
   "outputs": [],
   "source": [
    "# Build a concrete model\n",
    "m = ConcreteModel()\n",
    "\n",
    "# Create a flowsheet block \n",
    "m.fs = FlowsheetBlock(default={\"dynamic\": False})\n",
    "\n",
    "# Build the property package into the flowsheet by Loading the previously created configuration dictionary into the generic parameter block\n",
    "# This is done by using the configuration dictionary as the argument for calling the GenericParameterBlock class\n",
    "m.fs.properties = GenericParameterBlock(default=configuration)"
   ]
  },
  {
   "cell_type": "markdown",
   "metadata": {},
   "source": [
    "### Step 3: Add the flash simulation conditions"
   ]
  },
  {
   "cell_type": "code",
   "execution_count": 7,
   "metadata": {},
   "outputs": [],
   "source": [
    "# Build a flash unit model in the flowsheet\n",
    "m.fs.flash = Flash(default={\"property_package\": m.fs.properties})\n",
    "\n",
    "# Specify the inlet stream mole flowrate\n",
    "m.fs.flash.inlet.flow_mol.fix(9.8943) # mol/s\n",
    "\n",
    "# Specify the inlet stream mole fractions for CO2 and H2O\n",
    "m.fs.flash.inlet.mole_frac_comp[0, 'CO2'].fix(0.13806)\n",
    "m.fs.flash.inlet.mole_frac_comp[0, 'H2O'].fix(0.86194)\n",
    "\n",
    "# Specify the inlet stream pressure and temperature\n",
    "m.fs.flash.inlet.pressure.fix(183430) # Pa\n",
    "m.fs.flash.inlet.temperature.fix(396.79058) # K\n",
    "\n",
    "# Specify the flash conditions\n",
    "# Pressure drop\n",
    "m.fs.flash.deltaP.fix(0)\n",
    "# Vapor stream outlet temperature\n",
    "m.fs.flash.vap_outlet.temperature.fix(313.15)"
   ]
  },
  {
   "cell_type": "markdown",
   "metadata": {},
   "source": [
    "### Step 4: Solve the flash simulation"
   ]
  },
  {
   "cell_type": "code",
   "execution_count": 8,
   "metadata": {},
   "outputs": [
    {
     "name": "stdout",
     "output_type": "stream",
     "text": [
      "2021-01-08 15:42:28 [INFO] idaes.init.fs.flash.control_volume.properties_in: Starting initialization\n",
      "2021-01-08 15:42:28 [INFO] idaes.init.fs.flash.control_volume.properties_in: Dew and bubble point initialization: optimal - Optimal Solution Found.\n",
      "2021-01-08 15:42:28 [INFO] idaes.init.fs.flash.control_volume.properties_in: Equilibrium temperature initialization completed.\n",
      "2021-01-08 15:42:28 [INFO] idaes.init.fs.flash.control_volume.properties_in: Phase equilibrium initialization: optimal - Optimal Solution Found.\n",
      "2021-01-08 15:42:28 [INFO] idaes.init.fs.flash.control_volume.properties_in: Property initialization: optimal - Optimal Solution Found.\n",
      "2021-01-08 15:42:28 [INFO] idaes.init.fs.flash.control_volume.properties_out: Starting initialization\n",
      "2021-01-08 15:42:29 [INFO] idaes.init.fs.flash.control_volume.properties_out: Dew and bubble point initialization: optimal - Optimal Solution Found.\n",
      "2021-01-08 15:42:29 [INFO] idaes.init.fs.flash.control_volume.properties_out: Equilibrium temperature initialization completed.\n",
      "2021-01-08 15:42:29 [INFO] idaes.init.fs.flash.control_volume.properties_out: Phase equilibrium initialization: optimal - Optimal Solution Found.\n",
      "2021-01-08 15:42:29 [INFO] idaes.init.fs.flash.control_volume.properties_out: Property initialization: optimal - Optimal Solution Found.\n",
      "2021-01-08 15:42:29 [INFO] idaes.init.fs.flash.control_volume: Initialization Complete\n",
      "2021-01-08 15:42:29 [INFO] idaes.init.fs.flash: Initialization Complete: optimal - Optimal Solution Found\n",
      "vap_outlet : Size=1\n",
      "    Key  : Name           : Value\n",
      "    None :       flow_mol : {0.0: 1.4240903568108876}\n",
      "         : mole_frac_comp : {(0.0, 'CO2'): 0.9592137545675404, (0.0, 'H2O'): 0.04078624543245964}\n",
      "         :       pressure : {0.0: 183430.0}\n",
      "         :    temperature : {0.0: 313.15}\n",
      "liq_outlet : Size=1\n",
      "    Key  : Name           : Value\n",
      "    None :       flow_mol : {0.0: 8.470209643189111}\n",
      "         : mole_frac_comp : {(0.0, 'CO2'): 1e-08, (0.0, 'H2O'): 1.0}\n",
      "         :       pressure : {0.0: 183430.0}\n",
      "         :    temperature : {0.0: 313.15}\n",
      "heat_duty : Size=1, Index=fs.time\n",
      "    Key : Lower : Value               : Upper : Fixed : Stale : Domain\n",
      "    0.0 :  None : -319450.91866917524 :  None : False : False :  Reals\n"
     ]
    }
   ],
   "source": [
    "# Get default solver for testing\n",
    "solver = get_default_solver()\n",
    "\n",
    "#Initialize the model\n",
    "initial = m.fs.flash.initialize(outlvl=0)\n",
    "\n",
    "m.fs.flash.vap_outlet.display()\n",
    "m.fs.flash.liq_outlet.display()\n",
    "m.fs.flash.heat_duty.display()"
   ]
  },
  {
   "cell_type": "markdown",
   "metadata": {},
   "source": [
    "### Step 5: Study VLE behavior"
   ]
  },
  {
   "cell_type": "code",
   "execution_count": 9,
   "metadata": {},
   "outputs": [
    {
     "data": {
      "image/png": "[encoded data removed]",
      "text/plain": [
       "<Figure size 432x288 with 1 Axes>"
      ]
     },
     "metadata": {
      "needs_background": "light"
     },
     "output_type": "display_data"
    },
    {
     "data": {
      "image/png": "[encoded data removed]",
      "text/plain": [
       "<Figure size 432x288 with 1 Axes>"
      ]
     },
     "metadata": {
      "needs_background": "light"
     },
     "output_type": "display_data"
    }
   ],
   "source": [
    "# Solve the model for a range of flash outlet temperatures - 313 K - 396 K\n",
    "import numpy as np\n",
    "temp_range = list(np.linspace(313,396))\n",
    "\n",
    "# List of vapor fraction values\n",
    "vapor_frac = []\n",
    "\n",
    "# List of heat duty values\n",
    "heat_duty = []\n",
    "\n",
    "# Simulate the flash model in the range of flash outlet temperatures\n",
    "for t in temp_range:\n",
    "    m.fs.flash.vap_outlet.temperature.fix(t)\n",
    "    res = solver.solve(m)\n",
    "    if res.solver.termination_condition == \"optimal\":\n",
    "        frac = value(m.fs.flash.vap_outlet.flow_mol[0])/value(m.fs.flash.inlet.flow_mol[0])\n",
    "        hduty = value(m.fs.flash.heat_duty[0])\n",
    "        vapor_frac.append(frac)\n",
    "        heat_duty.append(hduty)\n",
    "\n",
    "# Plot the vapor fraction values as a function of flash outlet temperature\n",
    "import matplotlib.pyplot as plt\n",
    "plt.plot(temp_range,vapor_frac)\n",
    "plt.xlim(313,396)\n",
    "plt.xlabel(\"Flash Outlet Temperature (K)\")\n",
    "plt.ylabel(\"Vapor Fraction\")\n",
    "plt.grid()\n",
    "plt.show()\n",
    "\n",
    "# Plot the heat duty values as a function of flash outlet temperature\n",
    "plt.plot(temp_range,heat_duty)\n",
    "plt.xlim(313,396)\n",
    "plt.xlabel(\"Flash Outlet Temperature (K)\")\n",
    "plt.ylabel(\"Heat Duty (W)\")\n",
    "plt.grid()\n",
    "plt.show()"
   ]
  }
 ],
 "metadata": {
  "kernelspec": {
   "display_name": "Python 3",
   "language": "python",
   "name": "python3"
  },
  "language_info": {
   "codemirror_mode": {
    "name": "ipython",
    "version": 3
   },
   "file_extension": ".py",
   "mimetype": "text/x-python",
   "name": "python",
   "nbconvert_exporter": "python",
   "pygments_lexer": "ipython3",
   "version": "3.7.4"
  }
 },
 "nbformat": 4,
 "nbformat_minor": 4
}
