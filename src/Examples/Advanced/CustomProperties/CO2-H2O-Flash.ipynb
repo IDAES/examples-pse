{
 "cells": [
  {
   "cell_type": "markdown",
   "metadata": {},
   "source": [
    "# Custom property package for CO2, H2O VLE system "
   ]
  },
  {
   "cell_type": "markdown",
   "metadata": {},
   "source": [
    "The CO2, H2O mixture is commonly observed as a part of carbon capture systems with water rich solvents, as well as carbon storage systems. In order to simulate and optimize these systems, it is important to understand the thermodynamic properties and equilibrium behavior of this mixture. \n",
    "\n",
    "The aim of this tutorial is as follows:\n",
    "1. Develop a property package for CO2, H2O system phase equilibrium, using the generic property package framework in IDAES, in a stepwise manner.\n",
    "2. Implement the property package for simulating a flash unit model, and study the VLE behavior \n",
    "\n",
    "The assumptions while building this property package is as follows:\n",
    "1. The vapor and liquid phases show ideal behavior\n",
    "2. CO2 is a non condensable, and its concentration is negligible in liquid phase\n",
    "3. The package would be applicable to systems at a pressure close to 1 atm \n",
    "\n",
    "Reference Temperature: 298.15 K\n",
    "\n",
    "Reference Pressure: 101325 Pa"
   ]
  },
  {
   "cell_type": "markdown",
   "metadata": {},
   "source": [
    "## Part 1: Property Package Development "
   ]
  },
  {
   "cell_type": "markdown",
   "metadata": {},
   "source": [
    "### Step 1: Import the required Python and Pyomo packages\n",
    "\n",
    "1. 'logging' is a python package required to set up the logger\n",
    "2. 'units' is a Pyomo package required for specifying the units of physical quantities"
   ]
  },
  {
   "cell_type": "code",
   "execution_count": 1,
   "metadata": {},
   "outputs": [],
   "source": [
    "import logging\n",
    "from pyomo.environ import units as pyunits"
   ]
  },
  {
   "cell_type": "markdown",
   "metadata": {},
   "source": [
    "### Step 2: Import IDAES core packages \n",
    "\n",
    "IDAES cores required for building the property package need to be imported. They are as follows:\n",
    "\n",
    "1. 'LiquidPhase', 'VaporPhase', 'PhaseType', are packages that are required to declare phase types for components\n",
    "\n",
    "2. 'Component' is the package required to declare different system constituents as components in the system\n",
    "\n",
    "3. 'FTPx' is the package required to specify the system state definition being molar flow rate, temperature, pressure, and mole fractions. \n",
    "\n",
    "4. 'Ideal' is the package required to apply ideal equation of state for phases that show ideal behavior.\n",
    "\n",
    "5. 'smooth_VLE' is the package required to apply smooting function for phase equilibrium formulations, to ensure continuous behavior. \n",
    "\n",
    "6. 'IdealBubbleDew' is the package required to apply ideal VLE equations to calculate bubble and dew points for the system\n",
    "\n",
    "7. 'fugacity' is the package required to apply fugacity based VLE correlations for the system\n",
    "\n",
    "8. 'Perrys' is the package required to access thermodynamic property corelations from Perry's Chemical Engineer's Handbook (7th Edition), and apply it to the system\n",
    "\n",
    "9. 'NIST' is the package required to access thermodynamic property corelations from the NIST Web-book, and apply it to the system"
   ]
  },
  {
   "cell_type": "code",
   "execution_count": 2,
   "metadata": {},
   "outputs": [],
   "source": [
    "from idaes.core import LiquidPhase, VaporPhase, Component\n",
    "from idaes.core.phases import PhaseType as PT\n",
    "from idaes.generic_models.properties.core.state_definitions import FTPx\n",
    "from idaes.generic_models.properties.core.eos.ideal import Ideal\n",
    "from idaes.generic_models.properties.core.phase_equil import smooth_VLE\n",
    "from idaes.generic_models.properties.core.phase_equil.bubble_dew import \\\n",
    "        IdealBubbleDew\n",
    "from idaes.generic_models.properties.core.phase_equil.forms import fugacity\n",
    "import idaes.generic_models.properties.core.pure.Perrys as Perrys\n",
    "import idaes.generic_models.properties.core.pure.NIST as NIST"
   ]
  },
  {
   "cell_type": "markdown",
   "metadata": {},
   "source": [
    "### Step 3: Set up the logger"
   ]
  },
  {
   "cell_type": "code",
   "execution_count": 3,
   "metadata": {},
   "outputs": [],
   "source": [
    "_log = logging.getLogger(__name__)"
   ]
  },
  {
   "cell_type": "markdown",
   "metadata": {},
   "source": [
    "### Step 4: Set up the configuration dictionary "
   ]
  },
  {
   "cell_type": "markdown",
   "metadata": {},
   "source": [
    "A nested dictionary needs to be created in order to specify the components involved in the system, their thermophysical and thermodynamic property corelations, corresponding parameters, and valid phases. Along with this, it is also meant to provide system level details, like the combination of state variables for state definition, valid bounds for each of them, reference state, and phases in equilibrium. \n",
    "\n",
    "The configuration dictionary has two main types of keys:\n",
    "1. System specific\n",
    "2. Component specific\n",
    "\n",
    "The outermost keys are system specific. Theor corresponding values are either specified through a number, methods imported from idaes core, or another dictionary containing system/component specific keys. "
   ]
  },
  {
   "cell_type": "markdown",
   "metadata": {},
   "source": [
    "#### Outermost Keys"
   ]
  },
  {
   "cell_type": "markdown",
   "metadata": {},
   "source": [
    "1. \"components\" - value: contains another dictionary to specify component details\n",
    "2. \"phases\" - value: contains a dictionary of the phases present in the system, along with the equation of states required to define their behavior \n",
    "3. \"base_units\" - value: contains a dictionary of units applicable for different physical quantities and time\n",
    "4. \"state_definition\" - value: contains the particular state definition method from idaes core library, according to the desired state variable combinations to be specified for it.\n",
    "5. \"state_bounds\" - value: contains a dictionary of the state variable bounds within which the system would operate, and the property package would be valid.\n",
    "6. \"pressure_ref\" - value: contains a tuple with the systems's reference pressure value, with the appropriate units\n",
    "7. \"temperature_ref\" - value: contains a tuple with the systems's reference temperature value, with the appropriate units\n",
    "8. \"phases_in_equilibrium\" - value: contains a list of phases in equilibrium for the system\n",
    "9. \"phase_equilibrium_state\" - value: contains a dictionary of the method required from idaes core library to obtain a smooth formulation for phase equilibrium equations\n",
    "10. \"bubble_dew_method\" - value: contains the method required from idaes core library to calculate bubble and dew points for the system."
   ]
  },
  {
   "cell_type": "code",
   "execution_count": null,
   "metadata": {},
   "outputs": [],
   "source": []
  }
 ],
 "metadata": {
  "kernelspec": {
   "display_name": "Python 3",
   "language": "python",
   "name": "python3"
  },
  "language_info": {
   "codemirror_mode": {
    "name": "ipython",
    "version": 3
   },
   "file_extension": ".py",
   "mimetype": "text/x-python",
   "name": "python",
   "nbconvert_exporter": "python",
   "pygments_lexer": "ipython3",
   "version": "3.7.4"
  }
 },
 "nbformat": 4,
 "nbformat_minor": 4
}
