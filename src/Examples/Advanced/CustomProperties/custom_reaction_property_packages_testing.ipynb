{
 "cells": [
  {
   "cell_type": "markdown",
   "metadata": {},
   "source": [
    "# Reaction Property Packages in IDAES\n",
    "\n",
    "<div class=\"alert alert-block alert-info\">\n",
    "<b>Note:</b>\n",
    "Reaction property packages are closely related to, and dependent on, thermophysical property packages and it is advised the readers start with understanding these.\n",
    "</div>\n",
    "\n",
    "Similar to thermophysical property packages, reaction property packages in IDAES are used to define the set of parameters, variables and constraints associated with a specific set of chemical reactions that a user wishes to model. One of the features of the IDAES Integrated Platform is the ability for modelers to create their own property “packages” to calculate these properties, allowing them to customize the level of complexity and rigor to suit each application. This tutorial will introduce you to the basics of creating property packages for calculating reaction properties within the IDAES Core Modeling Framework.\n",
    "\n",
    "## Relationship with Thermophysical Property Packages\n",
    "\n",
    "Reaction properties depend on the state of the system, such as the temperature, pressure and composition of the material. All of these properties are defined in the thermophysical property package, thus reaction property packages are closely tied to thermophysical property packages; indeed, a given reaction package is often tied to a single specific thermophysical property package. Reaction packages need to be used with a thermophysical property package which defines the expected set of components and the expected forms and units for the state variables.\n",
    "\n",
    "As such, developers of reaction packages should have a specific thermophysical property package in mind when developing a reaction property package, and to tailor the reaction package to the thermophysical property package.\n",
    "\n",
    "## Types of Reactions\n",
    "\n",
    "Within the IDAES Core Modeling Framework, chemical reactions are divided into two categories:\n",
    "\n",
    "1. Equilibrium based reactions, where extent of reaction is determined by satisfying a constraint relating the concentration of species within the system, and\n",
    "2. Rate based reactions, where extent of reaction depends on some characteristic of the reactor unit. Despite the name, this category is also used to represent stoichiometric and yield based reactions.\n",
    "\n",
    "## Steps in Creating a Reaction Property Package\n",
    "\n",
    "Creating a new property package can be broken down into the following steps, which will be demonstrated in the next part of this tutorial.\n",
    "\n",
    "1. Defining the **units of measurement** for the property package.\n",
    "2. Defining the **properties supported** by the property package and the associated metadata.\n",
    "3. Defining the **equilibrium reactions** of interest.\n",
    "4. Defining the **equilibrium reactions** of interest.\n",
    "5. Defining the **parameters** related to the reactions of interest.\n",
    "6. Creating **variables and constraints** to describe the reactions of interest.\n",
    "7. Creating an **initialization routine** for the reaction property package.\n",
    "8. Defining **interface methods** used to couple the property package with unit models."
   ]
  },
  {
   "cell_type": "markdown",
   "metadata": {},
   "source": [
    "# Tutorial Example\n",
    "\n",
    "For this tutorial, we will be building a upon the property package from the thermophysical property example. In that example, we constructed a thermophysical property package that could be used to model a process for the hydrodealkylation of toluene to form benzene. This process involves five key chemical species:\n",
    "\n",
    "* toluene\n",
    "* benzene\n",
    "* hydrogen\n",
    "* methane\n",
    "* diphenyl\n",
    "\n",
    "In this tutorial, we will write a reaction property package to define the reactions associated with the HDA process:\n",
    "\n",
    "$$\n",
    "\\text{Toluene} + \\text{Hydrogen} \\rightarrow \\text{Benzene} + \\text{Methane}\n",
    "$$\n",
    "$$\n",
    "2 \\text{Benzene} \\rightleftharpoons \\text{Hydrogen} + \\text{Diphenyl}\n",
    "$$\n",
    "\n",
    "## A Note on this Tutorial\n",
    "\n",
    "The `build` methods in the reaction property package classes are generally written as a single, long method. However, to break the code into manageable pieces for discussion, in this tutorial we will create a number of smaller sub-methods that will then be called as part of the `build` method. This is done entirely for presentation purposes, and model developers should not feel compelled to write their models this way.\n",
    "    \n",
    "An example of how the example in this tutorial would be written without sub-methods can be found in the same folder with the name `reaction_property_example.py`."
   ]
  },
  {
   "cell_type": "markdown",
   "metadata": {},
   "source": [
    "## Components of a Reaction Property Package\n",
    "\n",
    "Similar to thermophysical property packages, reaction property packages consist of three parts, which are written as Python `classes`. These components are:\n",
    "\n",
    "* The `Reaction Parameter Block` class, which contains all the global parameters associated with the reaction property package,\n",
    "* The `Reaction Block Data` class, which contains the instructions on how to calculate all the properties at a given state, and,\n",
    "* The `Reaction Block` class, which is used to construct indexed sets of `Reaction Block Data` objects and contains methods for acting on all multiple `Reaction Block Data` objects at once (such as initialization).\n",
    "\n",
    "It is not necessary to understand the reason for the distinction between the `Reaction Block` and `Reaction Block Data` classes. Suffice to say that this is due to the need to replicate the underlying component structure of Pyomo, and that the `Reaction Block` represents the indexed `Block` representing a set of states across a given indexing set (most often time), and the `Reaction Block Data` represents the individual elements of the indexed `Block`.\n",
    "\n",
    "## Importing Libraries\n",
    "\n",
    "Before we begin writing the actual `classes` however, we need to import all the necessary components from the Pyomo and IDAES modeling libraries. To begin with, we are going to need a number of components from the Pyomo modeling environment to construct the variables, constraints and parameters that will make up the property package, and we will also make use of the Pyomo units of measurement tools to define the units of our properties. We will also make use of a number of components and supporting methods from the IDAES modeling framework and libraries.\n",
    "\n",
    "Rather than describe the purpose of all of these here, we shall just import all of them here and discuss their use as they arise in the example."
   ]
  },
  {
   "cell_type": "code",
   "execution_count": 1,
   "metadata": {},
   "outputs": [],
   "source": [
    "# Import Pyomo libraries\n",
    "from pyomo.environ import (Constraint,\n",
    "                           exp,\n",
    "                           Param,\n",
    "                           Set,\n",
    "                           units as pyunits,\n",
    "                           Var)\n",
    "\n",
    "# Import IDAES cores\n",
    "from idaes.core import (declare_process_block_class,\n",
    "                        MaterialFlowBasis,\n",
    "                        ReactionParameterBlock,\n",
    "                        ReactionBlockDataBase,\n",
    "                        ReactionBlockBase)\n",
    "from idaes.core.util.constants import Constants as const\n",
    "import idaes.logger as idaeslog"
   ]
  },
  {
   "cell_type": "markdown",
   "metadata": {},
   "source": [
    "# The Reaction Parameter Block\n",
    "\n",
    "We will begin by constructing the `Reaction Parameter Block` for our example. This serves as the central point of reference for all aspects of the reaction property package, and needs to define a number of things about the package. These are summarized below:\n",
    "\n",
    "* Units of measurement\n",
    "* What reaction properties are supported and how they are implemented\n",
    "* All the global parameters necessary for calculating properties\n",
    "* A reference to the associated `Reaction Block` class, so that construction of the `Reaction Block` components can be automated from the `Reaction Parameter Block`\n",
    "\n",
    "## Step 1: Define Units of Measurement and Property Metadata\n",
    "\n",
    "The first step is to define the units of measurement for the property package, which will in turn be inherited by any unit model using this property package. The IDAES Core Modeling Framework requires that the units of measurement defined for a reaction property package be identical to those used in the thermophysical property package it is associated with (this is to avoid any chance of confusion regarding units when setting up the balance equations).\n",
    "\n",
    "In order to set the base units, we use the same approach as for thermophysical property packages; we create a dictionary which has each of the base quantities as a key, and provide a Pyomo recognized unit as the value as shown in the cell below.\n",
    "\n",
    "Much like thermophysical property packages, we also need to define metadata regarding the reaction properties supported by our package. For this example, we have three supported properties:\n",
    "\n",
    "* a rate constant (`k_rxn`),\n",
    "* an equilibrium constant (`k_eq`), and\n",
    "* a reaction rate term (`rate_reaction`).\n",
    "\n",
    "The cell below shows how to define the units of measurement and properties metadata for this example."
   ]
  },
  {
   "cell_type": "code",
   "execution_count": 2,
   "metadata": {},
   "outputs": [],
   "source": [
    "units_metadata = {'time': pyunits.s,\n",
    "                  'length': pyunits.m,\n",
    "                  'mass': pyunits.kg,\n",
    "                  'amount': pyunits.mol,\n",
    "                  'temperature': pyunits.K}\n",
    "\n",
    "properties_metadata = {'k_rxn': {'method': None},\n",
    "                       'k_eq': {'method': None},\n",
    "                       'reaction_rate': {'method': None}}"
   ]
  },
  {
   "cell_type": "markdown",
   "metadata": {},
   "source": [
    "Next, we need to define the rate-based reactions of interest and the associated stoichiometry. For this, we need to define two things:\n",
    "\n",
    "* a `Set` of names for the rate-based reaction, and\n",
    "* a `dict` containing the stoichiometric coefficients for all the rate-based reactions.\n",
    "\n",
    "In this example, we have only one rate-based reaction, which is the conversion of toluene to benzene; we will call this reaction `R1`. Thus, we create a Pyomo `Set` component and initialize it with the list of rate-based reactions (`[“R1”]`) as shown in the following cell.\n",
    "\n",
    "Next, we create a `dict` object for the stoichiometric coefficients. This `dict` needs to provide coefficients for all combinations of reaction, phase and component present in the system, even for those components which do not take part in a reaction. This is required as `ControlVolumes` create generation terms for all reaction-phase-component combinations, and need a stoichiometric coefficient for each of these. In this `dict`, the keys need to have the form of a tuple with three parts:\n",
    "\n",
    "1. the reaction name,\n",
    "2. the phase name, and\n",
    "3. the component name,\n",
    "\n",
    "whilst the value is the stoichiometric coefficient for that key combination. See the example in the cell below; in this example we have 1 reaction (`R1`), 1 phase (`Vap`, as defined in the thermophysical property package) and 5 components (`benzene`, `toluene`, `hydrogen`, `methane` and `diphenyl`), thus the resulting dict has `1x1x5` entries."
   ]
  },
  {
   "cell_type": "code",
   "execution_count": 3,
   "metadata": {},
   "outputs": [],
   "source": [
    "def define_kinetic_reactions(self):\n",
    "    # Rate Reaction Index\n",
    "    self.rate_reaction_idx = Set(initialize=[\"R1\"])\n",
    "\n",
    "    # Rate Reaction Stoichiometry\n",
    "    self.rate_reaction_stoichiometry = {(\"R1\", \"Vap\", \"benzene\"): 1,\n",
    "                                        (\"R1\", \"Vap\", \"toluene\"): -1,\n",
    "                                        (\"R1\", \"Vap\", \"hydrogen\"): -1,\n",
    "                                        (\"R1\", \"Vap\", \"methane\"): 1,\n",
    "                                        (\"R1\", \"Vap\", \"diphenyl\"): 0}"
   ]
  },
  {
   "cell_type": "markdown",
   "metadata": {},
   "source": [
    "Next, we need to do the same thing for the equilibrium-based reactions. The format is the same as for rate-based reactions, as shown in the cell below."
   ]
  },
  {
   "cell_type": "code",
   "execution_count": 4,
   "metadata": {},
   "outputs": [],
   "source": [
    "def define_equilibrium_reactions(self):\n",
    "    # Equilibrium Reaction Index\n",
    "    self.equilibrium_reaction_idx = Set(initialize=[\"E1\"])\n",
    "\n",
    "    # Equilibrium Reaction Stoichiometry\n",
    "    self.equilibrium_reaction_stoichiometry = {\n",
    "        (\"E1\", \"Vap\", \"benzene\"): -2,\n",
    "        (\"E1\", \"Vap\", \"toluene\"): 0,\n",
    "        (\"E1\", \"Vap\", \"hydrogen\"): 1,\n",
    "        (\"E1\", \"Vap\", \"methane\"): 0,\n",
    "        (\"E1\", \"Vap\", \"diphenyl\"): 1}"
   ]
  },
  {
   "cell_type": "markdown",
   "metadata": {},
   "source": [
    "Finally, we need to define any global parameters related to the reactions of interest. For this example, we will assume that the rate-based reactions follow the Arrhenius equation, thus we need to declare a pre-exponential factor ($A=1.25\\times10^{-9} \\text{ mol}/\\text{m}^3/\\text{s}/\\text{Pa}^2$) and an activation energy parameter ($E_a=3800 \\text{ J}/\\text{mol}$). We will not declare any parameters for the equilibrium-based reactions at this point; this will be done in the individual `ReactionBlocks`."
   ]
  },
  {
   "cell_type": "code",
   "execution_count": 5,
   "metadata": {},
   "outputs": [],
   "source": [
    "def define_parameters(self):\n",
    "    # Arrhenius Constant\n",
    "    self.arrhenius = Param(default=1.25e-9,\n",
    "                           doc=\"Arrhenius constant\",\n",
    "                           units=pyunits.mol/pyunits.m**3/pyunits.s/pyunits.Pa**2)\n",
    "\n",
    "    # Activation Energy\n",
    "    self.energy_activation = Param(default=3800,\n",
    "                                   doc=\"Activation energy\",\n",
    "                                   units=pyunits.J/pyunits.mol)"
   ]
  },
  {
   "cell_type": "markdown",
   "metadata": {},
   "source": [
    "## Declaring the Reaction Parameter Block\n",
    "\n",
    "Now that the various parts of the Reaction Parameter Block have been declared, we can assemble the actual `class` that will assemble these components in a flowsheet. The steps for declaring a new `ReactionParameterBlock` class which are:\n",
    "\n",
    "1. Declaring the new class and inheriting from the `ReactionParameterBlock` base class\n",
    "3. Writing the `build` method for our `class`\n",
    "4. Creating a `define_metadata` method for the class.\n",
    "\n",
    "Each of these steps are shown in the code example below.\n",
    "\n",
    "First, we need to declare our new class and give it a unique name. In this example, we will call our new class `HDAReactionParameterBlock`. The first two lines of the example below show how we declare our new class using the `declare_process_block_decorator` and inheriting from the `ReactionParameterBlock` base class from the IDAES Core model libraries. Inheriting from the `ReactionParameterBlock` brings us access to all the necessary features required by the IDAES modeling framework, whilst the `declare_process_block_class` decorator performs some boilerplate operations to replicate the expected object structure of Pyomo. Further details on these components can be found in the IDAES documentation.\n",
    "\n",
    "Next, we need to declare the `build` method that will be used to construct our Reaction Parameter Block. The first step in any `build` method is to call `super().build()`, which will trigger the `build` method of the base class that the current class inherits from – this is important since this is how we automate construction of any underlying components required by the modeling framework and ensure that everything integrates smoothly. Next, a `ReactionParameterBlock` needs to contain a pointer to the related `ReactionBlock` (which we will look at next) – this is used to allow us to build instances of the `ReactionBlock` by only knowing the `ReactionParameterBlock` we wish to use. To do this, we create an attribute named `_reaction_block_class` attached to our class with a pointer to the `ReactionBlock` class; in this case `self._reaction_block_class = HDAReactionBlock`, where `HDAReactionBlock` is the name of the yet to be declared `ReactionBlock`. Finally, the `build` method needs to construct the actual parameters required for the property package, which we do here by calling the sub-methods written previously.\n",
    "\n",
    "The final step in creating the `ReactionParameterBlock` class is to declare a `classmethod` named `define_metadata` which takes two arguments; a class (`cls`) and an instance of that class (`obj`). This method in turn needs to call two pre-defined methods (inherited from the underlying base classes):\n",
    "\n",
    "* `obj.add_properties()` is used to set the metadata regarding the supported reaction properties, and here we pass the `properties_metadata` dict we created earlier as an argument.\n",
    "* `obj.add_default_units()` sets the default units metadata for the reaction property package, and here we pass the `units_metadata` `dict ` we created earlier as an argument."
   ]
  },
  {
   "cell_type": "code",
   "execution_count": 6,
   "metadata": {},
   "outputs": [],
   "source": [
    "@declare_process_block_class(\"HDAReactionParameterBlock\")\n",
    "class HDAReactionParameterData(ReactionParameterBlock):\n",
    "    \"\"\"\n",
    "    Reaction Parameter Block Class\n",
    "    \"\"\"\n",
    "\n",
    "    def build(self):\n",
    "        '''\n",
    "        Callable method for Block construction.\n",
    "        '''\n",
    "        super(HDAReactionParameterData, self).build()\n",
    "\n",
    "        self._reaction_block_class = HDAReactionBlock\n",
    "        \n",
    "        define_kinetic_reactions(self)\n",
    "        define_equilibrium_reactions(self)\n",
    "        define_parameters(self)\n",
    "\n",
    "    @classmethod\n",
    "    def define_metadata(cls, obj):\n",
    "        obj.add_properties(properties_metadata)\n",
    "        obj.add_default_units(units_metadata)"
   ]
  },
  {
   "cell_type": "markdown",
   "metadata": {},
   "source": [
    "# Reaction Block\n",
    "\n",
    "After the Reaction Parameter Block class has been created, the next step is to write the code necessary to create the Reaction Blocks that will be used through out the flowsheet. Similar to State Blocks for thermophysical properties, Reaction Blocks also require two Python `classes` to construct (for a discussion on why, see the related example for creating custom thermophysical property packages).\n",
    "\n",
    "For this example, we will begin by describing the content of the `ReactionBlockData` objects, as this is where we create the variables and constraints that describe how to calculate the thermophysical properties of the material. After that, we will discuss how to create the class that contains methods to be applied to the `IndexedReactionBlock` as a whole.\n",
    "\n",
    "## State Variables\n",
    "\n",
    "Like thermophysical property calculations, reaction properties also depend on the material state variables such as temperature and pressure. However, the state variables are declared as a part of the State Block, and it does not make sense to duplicate them here. Due to this, Reaction Blocks are always associated with a State Block representing the material at the same point in space and time, and the Reaction Block contains a pointer to the equivalent State Block. This allows the Reaction Block to access the state variables, and any other thermophysical property the State Block supports, in order to perform reaction property calculations. The State Block can be accessed using the `state_ref` property of the Reaction Block.\n",
    "\n",
    "\n",
    "## Step 1. Define Property Variables\n",
    "\n",
    "The first thing we need to do when creating our Reaction Block is create Pyomo components to represent the properties of interest. In this example, we have three properties we need to define:\n",
    "\n",
    "1. the rate constant for the rate-based reaction: `k_rxn`,\n",
    "2. a variable for the rate of reaction at the current state, `rate_reaction`, and\n",
    "3. the equilibrium constant for the equilibrium-based reaction, `k_eq`.\n",
    "\n",
    "The declaration of these is shown in the cell below. Note that for this example we are assuming the equilibrium constant does not vary, and have thus declared it as a Pyomo `Param`."
   ]
  },
  {
   "cell_type": "code",
   "execution_count": 7,
   "metadata": {},
   "outputs": [],
   "source": [
    "def define_variables_and_parameters(self):\n",
    "    self.k_rxn = Var(initialize=7e-10,\n",
    "                    doc=\"Rate constant\",\n",
    "                    units=pyunits.mol/pyunits.m**3/pyunits.s/pyunits.Pa**2)\n",
    "\n",
    "    self.reaction_rate = Var(self.params.rate_reaction_idx,\n",
    "                             initialize=0,\n",
    "                             doc=\"Rate of reaction\",\n",
    "                             units=pyunits.mol/pyunits.m**3/pyunits.s)\n",
    "\n",
    "    self.k_eq = Param(initialize=10000,\n",
    "                      doc=\"Equlibrium constant\",\n",
    "                      units=pyunits.Pa)"
   ]
  },
  {
   "cell_type": "markdown",
   "metadata": {},
   "source": [
    "## Step 2. Define Constraints for the Rate-Based Reactions\n",
    "\n",
    "Next, we need to define the `Constraints` which describe the rate-based reaction. First, we use the Arrhenius equation to calculate the rate constant, $k_{rxn} = A \\times e^{-E_a/(RT)}$. For this calculation, $A$ and $E_a$ come from the associated Reaction Parameter Block (`self.params`), $T$ comes from the associated State Block (`self.state_ref.temperature`) and the gas constant $R$ can be found in the IDAES `Constants` class.\n",
    "\n",
    "After the rate constant, we need to declare the form of the rate expression as well. In this case, we are dealing with a gas phase reaction so $r = k_{rxn} \\times x_{toluene} \\times x_{hydrogen} \\times P^2$, where $P$ is the system pressure. $x_{toluene}$, $x_{hydrogen}$ and $P$ are all state variables, and can be accessed from the associated State Block.\n",
    "\n",
    "The cell below shows how we declare these two constraints."
   ]
  },
  {
   "cell_type": "code",
   "execution_count": 8,
   "metadata": {},
   "outputs": [],
   "source": [
    "def define_rate_expression(self):\n",
    "    self.arrhenius_equation = Constraint(\n",
    "            expr=self.k_rxn == self.params.arrhenius * exp(\n",
    "                -self.params.energy_activation /\n",
    "                (const.gas_constant*self.state_ref.temperature)))\n",
    "\n",
    "    def rate_rule(b, r):\n",
    "        return b.reaction_rate[r] == (\n",
    "                    b.k_rxn *\n",
    "                    b.state_ref.mole_frac_comp[\"toluene\"] *\n",
    "                    b.state_ref.mole_frac_comp[\"hydrogen\"] *\n",
    "                    b.state_ref.pressure**2)\n",
    "    self.rate_expression = Constraint(self.params.rate_reaction_idx,\n",
    "                                      rule=rate_rule)"
   ]
  },
  {
   "cell_type": "markdown",
   "metadata": {},
   "source": [
    "## Step 3. Define Constraints for the Equilibrium-Based Reactions\n",
    "\n",
    "Similar to those for the rate-based reactions, we also need to define constraints for the equilibrium-based reactions in the system. In this case, the constraint will take the form of an equality that will force the compositions in the system to satisfy the given equilibrium constant. For this example, we have the following equilibrium constraint:\n",
    "\n",
    "$$\n",
    "k_{eq} = \\frac{x_{diphenyl} \\times x_{hydrogen} \\times P^2}{x_{benzene} \\times P}\n",
    "$$\n",
    "\n",
    "Note that $P$ appears in both the numerator and denominator to make it clear that this is a ratio of partial pressures, and because we will rearrange this constraint when creating the actual Pyomo component in order to avoid potential singularities. This is shown in the cell below."
   ]
  },
  {
   "cell_type": "code",
   "execution_count": 9,
   "metadata": {},
   "outputs": [],
   "source": [
    "def define_equilibrium_expression(self):\n",
    "    self.equilibrium_constraint = Constraint(\n",
    "        expr=self.k_eq *\n",
    "        self.state_ref.mole_frac_comp[\"benzene\"] *\n",
    "        self.state_ref.pressure ==\n",
    "        self.state_ref.mole_frac_comp[\"diphenyl\"] *\n",
    "        self.state_ref.mole_frac_comp[\"hydrogen\"] *\n",
    "        self.state_ref.pressure**2)"
   ]
  },
  {
   "cell_type": "markdown",
   "metadata": {},
   "source": [
    "# Creating the Reaction Block class\n",
    "\n",
    "These are all the variables and constraints that need to be declared for this example. All that remains is to declare the `_ReactionBlock` and `ReactionBlock` classes to complete our reaction property package. This process is much the same as for the thermophysical property package example, and will only be covered briefly here.\n",
    "\n",
    "## The `_ReactionBlock` class\n",
    "\n",
    "For this example, the `_ReactionBlock` class is very simple, and contains only a placeholder `initialize` method. As all the state variables are held separately in the associated State Block and the constraints within the reaction package are fairly simple, it is sufficient to not initialize the reaction properties before solving. However, a placeholder method still needs to be created, as the IDAES framework assumes all components will have an `initialize` method; however, this method need only consist of a `pass` statement.\n",
    "\n",
    "<div class=\"alert alert-block alert-info\">\n",
    "<b>Note:</b>\n",
    "In more complex reaction systems, it is likely that a proper initialization routine would need to be implemented. Developers of these should be aware that equilibrium constraints will need to be deactivated during initialization, as the state variables (i.e. compositions) will be fixed in the State Block. Thus, trying to solve for the system with equilibrium constraints present will result in an over-specified problem.\n",
    "</div>\n",
    "\n",
    "## The `ReactionBlock` class\n",
    "\n",
    "Once the `_ReactionBlock` class has been declared, the overall `ReactionBlock` class can be declared as shown below. Once again, we define a `build` method which calls the sub-methods we created earlier in order to construct an instance of the Reaction Block. The `ReactionBlock` class also needs to define a `get_reaction_rate_basis` method, which should return an instance of the `MaterialFlowBasis` `Enum`; this is used by the IDAES framework to determine if conversion between mass and mole basis is required."
   ]
  },
  {
   "cell_type": "code",
   "execution_count": 10,
   "metadata": {},
   "outputs": [],
   "source": [
    "class _HDAReactionBlock(ReactionBlockBase):\n",
    "    def initialize(blk, outlvl=idaeslog.NOTSET, **kwargs):\n",
    "        init_log = idaeslog.getInitLogger(blk.name, outlvl, tag=\"properties\")\n",
    "        init_log.info('Initialization Complete.')\n",
    "\n",
    "@declare_process_block_class(\"HDAReactionBlock\",\n",
    "                             block_class=_HDAReactionBlock)\n",
    "class HDAReactionBlockData(ReactionBlockDataBase):\n",
    "    def build(self):\n",
    "\n",
    "        super(HDAReactionBlockData, self).build()\n",
    "        \n",
    "        define_variables_and_parameters(self)\n",
    "        define_rate_expression(self)\n",
    "        define_equilibrium_expression(self)\n",
    "    \n",
    "    def get_reaction_rate_basis(b):\n",
    "        return MaterialFlowBasis.molar"
   ]
  },
  {
   "cell_type": "markdown",
   "metadata": {},
   "source": [
    "# Demonstration\n",
    "\n",
    "In order to demonstrate our new Reaction Property package in practice, we will now use it to build and solve a CSTR. First, we will need to import some more components from Pyomo and IDAES to use when building the flowsheet."
   ]
  },
  {
   "cell_type": "code",
   "execution_count": 11,
   "metadata": {},
   "outputs": [],
   "source": [
    "from pyomo.environ import ConcreteModel\n",
    "from pyomo.util.check_units import assert_units_consistent\n",
    "\n",
    "from idaes.core import FlowsheetBlock\n",
    "from idaes.core.solvers import get_solver\n",
    "from idaes.models.unit_models import CSTR\n",
    "\n",
    "from thermophysical_property_example import HDAParameterBlock\n",
    "\n",
    "from idaes.core.util.model_statistics import degrees_of_freedom"
   ]
  },
  {
   "cell_type": "markdown",
   "metadata": {},
   "source": [
    "Next, we can construct a Pyomo `ConcreteModel` and IDAES `FlowsheetBlock` as usual. We then attach an instance of the associated thermophysical property package (imported as `HDAParameterBlock`) and our new reaction property package to the flowsheet, and then construct a CSTR using these property packages."
   ]
  },
  {
   "cell_type": "code",
   "execution_count": 12,
   "metadata": {},
   "outputs": [],
   "source": [
    "m = ConcreteModel()\n",
    "\n",
    "m.fs = FlowsheetBlock(dynamic=False)\n",
    "\n",
    "m.fs.thermo_params = HDAParameterBlock()\n",
    "m.fs.reaction_params = HDAReactionParameterBlock(\n",
    "    property_package=m.fs.thermo_params)\n",
    "\n",
    "m.fs.reactor = CSTR(\n",
    "    property_package=m.fs.thermo_params,\n",
    "    reaction_package=m.fs.reaction_params,\n",
    "    has_equilibrium_reactions=True)"
   ]
  },
  {
   "cell_type": "markdown",
   "metadata": {},
   "source": [
    "If all went well, we should see no errors when constructing the flowsheet above. To be sure, let us print the degrees of freedom in our flowsheet model as shown below; we should see 9 degrees of freedom."
   ]
  },
  {
   "cell_type": "code",
   "execution_count": 13,
   "metadata": {},
   "outputs": [
    {
     "name": "stdout",
     "output_type": "stream",
     "text": [
      "Degrees of Freedom:  9\n"
     ]
    }
   ],
   "source": [
    "print(\"Degrees of Freedom: \", degrees_of_freedom(m))"
   ]
  },
  {
   "cell_type": "code",
   "execution_count": 14,
   "metadata": {
    "tags": [
     "testing",
     "remove_cell"
    ]
   },
   "outputs": [],
   "source": [
    "assert degrees_of_freedom(m) == 9"
   ]
  },
  {
   "cell_type": "markdown",
   "metadata": {},
   "source": [
    "The 9 degrees of freedom are the flowrate, temperature, pressure and mole fractions (5) of the inlet stream, as well as the reactor volume. We will fix them to some default values as shown below. Once we are done, we will also print the degrees of freedom again to ensure we have fixed enough variables."
   ]
  },
  {
   "cell_type": "code",
   "execution_count": 15,
   "metadata": {},
   "outputs": [
    {
     "name": "stdout",
     "output_type": "stream",
     "text": [
      "Degrees of Freedom:  0\n"
     ]
    }
   ],
   "source": [
    "m.fs.reactor.inlet.flow_mol.fix(100)\n",
    "m.fs.reactor.inlet.temperature.fix(500)\n",
    "m.fs.reactor.inlet.pressure.fix(350000)\n",
    "m.fs.reactor.inlet.mole_frac_comp[0, \"benzene\"].fix(0.1)\n",
    "m.fs.reactor.inlet.mole_frac_comp[0, \"toluene\"].fix(0.4)\n",
    "m.fs.reactor.inlet.mole_frac_comp[0, \"hydrogen\"].fix(0.4)\n",
    "m.fs.reactor.inlet.mole_frac_comp[0, \"methane\"].fix(0.1)\n",
    "m.fs.reactor.inlet.mole_frac_comp[0, \"diphenyl\"].fix(0.0)\n",
    "\n",
    "m.fs.reactor.volume.fix(1)\n",
    "\n",
    "print(\"Degrees of Freedom: \", degrees_of_freedom(m))"
   ]
  },
  {
   "cell_type": "code",
   "execution_count": 16,
   "metadata": {
    "tags": [
     "testing",
     "remove_cell"
    ]
   },
   "outputs": [],
   "source": [
    "assert degrees_of_freedom(m) == 0"
   ]
  },
  {
   "cell_type": "markdown",
   "metadata": {},
   "source": [
    "Now that we have defined our example problem, we can initialize and solve the flowsheet. This is done in the cell below, which should result in an optimal solution."
   ]
  },
  {
   "cell_type": "code",
   "execution_count": 17,
   "metadata": {},
   "outputs": [
    {
     "name": "stdout",
     "output_type": "stream",
     "text": [
      "2022-08-25 11:48:09 [INFO] idaes.init.fs.reactor.control_volume.properties_in: Properties Initialized optimal - Optimal Solution Found.\n",
      "2022-08-25 11:48:09 [INFO] idaes.init.fs.reactor.control_volume.properties_out: Properties Initialized optimal - Optimal Solution Found.\n",
      "2022-08-25 11:48:09 [INFO] idaes.init.fs.reactor.control_volume.reactions: Initialization Complete.\n",
      "2022-08-25 11:48:09 [INFO] idaes.init.fs.reactor.control_volume: Initialization Complete\n",
      "2022-08-25 11:48:09 [INFO] idaes.init.fs.reactor: Initialization Complete: optimal - Optimal Solution Found\n",
      "Ipopt 3.13.2: nlp_scaling_method=gradient-based\n",
      "tol=1e-06\n",
      "\n",
      "\n",
      "******************************************************************************\n",
      "This program contains Ipopt, a library for large-scale nonlinear optimization.\n",
      " Ipopt is released as open source code under the Eclipse Public License (EPL).\n",
      "         For more information visit http://projects.coin-or.org/Ipopt\n",
      "\n",
      "This version of Ipopt was compiled from source code available at\n",
      "    https://github.com/IDAES/Ipopt as part of the Institute for the Design of\n",
      "    Advanced Energy Systems Process Systems Engineering Framework (IDAES PSE\n",
      "    Framework) Copyright (c) 2018-2019. See https://github.com/IDAES/idaes-pse.\n",
      "\n",
      "This version of Ipopt was compiled using HSL, a collection of Fortran codes\n",
      "    for large-scale scientific computation.  All technical papers, sales and\n",
      "    publicity material resulting from use of the HSL codes within IPOPT must\n",
      "    contain the following acknowledgement:\n",
      "        HSL, a collection of Fortran codes for large-scale scientific\n",
      "        computation. See http://www.hsl.rl.ac.uk.\n",
      "******************************************************************************\n",
      "\n",
      "This is Ipopt version 3.13.2, running with linear solver ma27.\n",
      "\n",
      "Number of nonzeros in equality constraint Jacobian...:       67\n",
      "Number of nonzeros in inequality constraint Jacobian.:        0\n",
      "Number of nonzeros in Lagrangian Hessian.............:       23\n",
      "\n",
      "Total number of variables............................:       24\n",
      "                     variables with only lower bounds:        5\n",
      "                variables with lower and upper bounds:        3\n",
      "                     variables with only upper bounds:        0\n",
      "Total number of equality constraints.................:       24\n",
      "Total number of inequality constraints...............:        0\n",
      "        inequality constraints with only lower bounds:        0\n",
      "   inequality constraints with lower and upper bounds:        0\n",
      "        inequality constraints with only upper bounds:        0\n",
      "\n",
      "iter    objective    inf_pr   inf_du lg(mu)  ||d||  lg(rg) alpha_du alpha_pr  ls\n",
      "   0  0.0000000e+00 1.30e-08 1.00e+00  -1.0 0.00e+00    -  0.00e+00 0.00e+00   0\n",
      "\n",
      "Number of Iterations....: 0\n",
      "\n",
      "                                   (scaled)                 (unscaled)\n",
      "Objective...............:   0.0000000000000000e+00    0.0000000000000000e+00\n",
      "Dual infeasibility......:   0.0000000000000000e+00    0.0000000000000000e+00\n",
      "Constraint violation....:   8.8593591389494380e-12    1.3038516044616699e-08\n",
      "Complementarity.........:   0.0000000000000000e+00    0.0000000000000000e+00\n",
      "Overall NLP error.......:   8.8593591389494380e-12    1.3038516044616699e-08\n",
      "\n",
      "\n",
      "Number of objective function evaluations             = 1\n",
      "Number of objective gradient evaluations             = 1\n",
      "Number of equality constraint evaluations            = 1\n",
      "Number of inequality constraint evaluations          = 0\n",
      "Number of equality constraint Jacobian evaluations   = 1\n",
      "Number of inequality constraint Jacobian evaluations = 0\n",
      "Number of Lagrangian Hessian evaluations             = 0\n",
      "Total CPU secs in IPOPT (w/o function evaluations)   =      0.000\n",
      "Total CPU secs in NLP function evaluations           =      0.000\n",
      "\n",
      "EXIT: Optimal Solution Found.\n"
     ]
    }
   ],
   "source": [
    "m.fs.reactor.initialize(state_args={\n",
    "    \"flow_mol\": 100,\n",
    "    \"mole_frac_comp\": {\n",
    "        \"benzene\": 0.15,\n",
    "        \"toluene\": 0.35,\n",
    "        \"hydrogen\": 0.35,\n",
    "        \"methane\": 0.15,\n",
    "        \"diphenyl\": 0.01},\n",
    "    \"temperature\": 600,\n",
    "    \"pressure\": 350000})\n",
    "\n",
    "solver = get_solver()\n",
    "results = solver.solve(m, tee=True)"
   ]
  },
  {
   "cell_type": "code",
   "execution_count": 18,
   "metadata": {
    "tags": [
     "testing",
     "remove_cell"
    ]
   },
   "outputs": [],
   "source": [
    "from pyomo.environ import TerminationCondition, SolverStatus\n",
    "assert results.solver.termination_condition == TerminationCondition.optimal\n",
    "assert results.solver.status == SolverStatus.ok"
   ]
  },
  {
   "cell_type": "markdown",
   "metadata": {},
   "source": [
    "Now that our model has solved, let us use the `report()` method for the CSRT to have a look at what happened in the reactor. We should see that the outlet mole fraction of benzene is now around 0.160 and the mole fraction of diphenyl is 0.014; thus, our reactor has successfully generated benzene from toluene. In the process, the reaction has also generated a lot of heat, which has raised the temperature of the gas from 500 K to 790.2 K."
   ]
  },
  {
   "cell_type": "code",
   "execution_count": 19,
   "metadata": {},
   "outputs": [
    {
     "name": "stdout",
     "output_type": "stream",
     "text": [
      "\n",
      "====================================================================================\n",
      "Unit : fs.reactor                                                          Time: 0.0\n",
      "------------------------------------------------------------------------------------\n",
      "    Unit Performance\n",
      "\n",
      "    Variables: \n",
      "\n",
      "    Key    : Value  : Units      : Fixed : Bounds\n",
      "    Volume : 1.0000 : meter ** 3 :  True : (None, None)\n",
      "\n",
      "------------------------------------------------------------------------------------\n",
      "    Stream Table\n",
      "                                Units         Inlet     Outlet  \n",
      "    flow_mol                 mole / second     100.00     100.00\n",
      "    mole_frac_comp benzene   dimensionless    0.10000    0.15963\n",
      "    mole_frac_comp toluene   dimensionless    0.40000    0.31243\n",
      "    mole_frac_comp methane   dimensionless    0.10000    0.18757\n",
      "    mole_frac_comp hydrogen  dimensionless    0.40000    0.32640\n",
      "    mole_frac_comp diphenyl  dimensionless     0.0000   0.013973\n",
      "    temperature                     kelvin     500.00     790.21\n",
      "    pressure                        pascal 3.5000e+05 3.5000e+05\n",
      "====================================================================================\n"
     ]
    }
   ],
   "source": [
    "m.fs.reactor.report()"
   ]
  },
  {
   "cell_type": "code",
   "execution_count": 20,
   "metadata": {
    "tags": [
     "testing",
     "remove_cell"
    ]
   },
   "outputs": [],
   "source": [
    "import pytest\n",
    "from pyomo.environ import value\n",
    "assert value(m.fs.reactor.outlet.flow_mol[0]) == pytest.approx(100, abs=1e-3)\n",
    "assert value(m.fs.reactor.outlet.temperature[0]) == pytest.approx(790.212, abs=1e-3)\n",
    "assert value(m.fs.reactor.outlet.mole_frac_comp[0, \"benzene\"]) == pytest.approx(0.159626, abs=1e-6)"
   ]
  },
  {
   "cell_type": "markdown",
   "metadata": {},
   "source": [
    "Finally, as a quick check of model consistency, let us assert that the units of measurement in our model are consistent (the units of the rate constant and pre-exponential factor are rather complex)."
   ]
  },
  {
   "cell_type": "code",
   "execution_count": 21,
   "metadata": {},
   "outputs": [],
   "source": [
    "assert_units_consistent(m)"
   ]
  },
  {
   "cell_type": "markdown",
   "metadata": {},
   "source": [
    "# Concluding Remarks\n",
    "\n",
    "The above example has hopefully introduced you to the basic requirements for creating your own custom reaction property packages. However, it is probably clear that it requires a significant amount of effort to write your own property packages, thus users are encouraged to look into the IDAES Modular Reactions Framework if they are not already familiar with this.\n",
    "\n",
    "The  IDAES Modular Reactions Framework is designed to automatically generate user-defined reaction property packages for common reaction forms based on a single configuration file. Users provide a list of reactions of interest (both rate- and equilibrium-based), and select from a library of common reaction forms, and the Modular Reaction Framework then does the hard work of assembling the necessary code to construct the desired model."
   ]
  }
 ],
 "metadata": {
  "celltoolbar": "Tags",
  "kernelspec": {
   "display_name": "Python 3 (ipykernel)",
   "language": "python",
   "name": "python3"
  },
  "language_info": {
   "codemirror_mode": {
    "name": "ipython",
    "version": 3
   },
   "file_extension": ".py",
   "mimetype": "text/x-python",
   "name": "python",
   "nbconvert_exporter": "python",
   "pygments_lexer": "ipython3",
   "version": "3.9.12"
  }
 },
 "nbformat": 4,
 "nbformat_minor": 4
}
