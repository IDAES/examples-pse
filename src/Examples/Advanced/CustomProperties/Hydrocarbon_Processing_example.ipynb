{
 "cells": [
  {
   "cell_type": "markdown",
   "metadata": {},
   "source": [
    "# Hydrocarbon Processing with cubic equation of state case study"
   ]
  },
  {
   "cell_type": "markdown",
   "metadata": {},
   "source": [
    "## 1. Introduction\n",
    "\n",
    "This Jupyter Notebook solves and optimizes a simple hydrocarbon processing unit. A property package has been created for hydrocarbon processing which includes methane, ethane, propane, n-butane, i-butane, ethylene, propene, butene, pentene, hexene, heptene and octene. Additionally, a sensitivity study is performed over the influence of temperature in the Gibbs reactor.\n",
    "\n",
    "### 1.1 Tutorial objectives\n",
    "\n",
    "The goals of this tutorial are:\n",
    "\n",
    "* Utilize the heat exchanger, gibbs reactor and flash unit models.\n",
    "* Utilize the Generic Property Package, which provides a flexible platform for users to build property packages by calling upon libraries of modular sub-models to build up complex property calculations with the least effort possible.\n",
    "* Demonstrate the use of arcs as streams connecting unit models\n",
    "* Save a json file to avoid initialization if it has been done before.\n",
    "* Demonstrate the sequential initialization approach, including the use of the propagate_state method in idaes/core/util/initialization.\n",
    "* Fix state variables for different conditions and initialize and solve the flowsheet for these conditions.\n",
    "* Solve problem in order to:\n",
    "    * Solve square problem\n",
    "    * Minimize operating costs\n",
    "* Create sensitivity analysis and create a plot from the results"
   ]
  },
  {
   "cell_type": "markdown",
   "metadata": {},
   "source": [
    "## 2. Problem Statement\n",
    "\n",
    "The flowsheet that we will be using for this module is shown below. We will be processing ethylene, propene and butene to produce pentene, hexene, heptene and octene. As shown in the flowsheet, there is a Gibbs reactor, R101, one flash tanks, F101 to separate out the non-condensibles. We will assume ideal gas for this flowsheet.\n",
    "\n",
    "![](HC_processing.png)\n",
    "\n",
    "The property package required for this module is available in the property example directory:\n",
    "\n",
    "- HC_PR.py (for VLE calcullations)\n",
    "- HC_PR_vap.py (for equipment that work only in vapor phase)\n",
    "\n",
    "The state variables chosen for the property package are **flows of component by phase, temperature and pressure**. The components considered are: **methane, ethane, propane, n-butane, i-butane, ethylene, propene, butene, pentene, hexene, heptene and octene**. Therefore, every stream has 8 flow variables, 1 temperature and 1 pressure variable. \n",
    "\n",
    "In this example, we will simulate the following cases:\n",
    "\n",
    "* Case 1: Solve square problem.\n",
    "* Case 2: Minimize operating costs.\n",
    "* Sensitivity Analysis 1: Temperature in the Gibbs reactor."
   ]
  },
  {
   "cell_type": "markdown",
   "metadata": {},
   "source": [
    "## 2.1 Setting up the problem in IDAES\n",
    "\n",
    "In the next cell, we will be importing the necessary components from Pyomo and IDAES."
   ]
  },
  {
   "cell_type": "code",
   "execution_count": 1,
   "metadata": {
    "scrolled": false
   },
   "outputs": [],
   "source": [
    "# Import objects from pyomo package\n",
    "from pyomo.environ import (Constraint,\n",
    "                           Var,\n",
    "                           ConcreteModel,\n",
    "                           Expression,\n",
    "                           Param,\n",
    "                           Objective,\n",
    "                           SolverFactory,\n",
    "                           TransformationFactory,\n",
    "                           value)\n",
    "\n",
    "from pyomo.network import Arc, SequentialDecomposition\n",
    "\n",
    "from idaes.core.util.initialization import propagate_state\n",
    "\n",
    "# Import plotting functions\n",
    "import matplotlib.pyplot as plt\n",
    "\n",
    "# Import numpy library \n",
    "import numpy as np\n",
    "\n",
    "# Import the main FlowsheetBlock from IDAES. The flowsheet block will contain the unit model\n",
    "from idaes.core import FlowsheetBlock\n",
    "\n",
    "# Import idaes logger to set output levels\n",
    "import idaes.logger as idaeslog\n",
    "\n",
    "# Import the degrees_of_freedom function from the idaes.core.util.model_statistics package\n",
    "# DOF = Number of Model Variables - Number of Model Constraints\n",
    "from idaes.core.util.model_statistics import degrees_of_freedom\n",
    "\n",
    "# Import the scaling tools - this will help increase model efficiency and reduce model run time\n",
    "from idaes.core.util import scaling as iscale\n",
    "\n",
    "# Import the Generic Parameter Block\n",
    "from idaes.generic_models.properties.core.generic.generic_property import (\n",
    "        GenericParameterBlock)\n",
    "\n",
    "# Import unit models from the model library\n",
    "from idaes.generic_models.unit_models import (Flash, GibbsReactor, Heater)"
   ]
  },
  {
   "cell_type": "markdown",
   "metadata": {},
   "source": [
    "For this specific problem we will need two different property packages as we will utilize an vapor-only property package for the Gibbs reactor and a VLE package for the flash column"
   ]
  },
  {
   "cell_type": "code",
   "execution_count": 2,
   "metadata": {},
   "outputs": [],
   "source": [
    "# Import the HC_PR property package to create a VLE property block for the flowsheet\n",
    "from idaes.generic_models.properties.core.examples.HC_PR import configuration\n",
    "\n",
    "# Import the HC_PR_vap property package to create a vapor property block for the flowsheet\n",
    "from idaes.generic_models.properties.core.examples.HC_PR_vap import configuration_vap"
   ]
  },
  {
   "cell_type": "markdown",
   "metadata": {},
   "source": [
    "### 2.1 Building the flowsheet \n",
    "\n",
    "In the next cell, we will first create a model and attach a flowsheet to it. We then introduce the unit models and connect them through an arc and analyze the degrees of freedom of the flowsheet and how many variables we need to fix."
   ]
  },
  {
   "cell_type": "code",
   "execution_count": 3,
   "metadata": {
    "scrolled": false
   },
   "outputs": [
    {
     "name": "stdout",
     "output_type": "stream",
     "text": [
      "2022-02-18 06:00:32 [WARNING] idaes.generic_models.properties.core.pure.Perrys: DEPRECATED - fs.VLE_props.ethane dens_mol_liq_comp_coeff index 'eqn_type' should be specified, defaulting to equation form 1.\n",
      "2022-02-18 06:00:32 [WARNING] idaes.generic_models.properties.core.pure.Perrys: DEPRECATED - fs.VLE_props.propane dens_mol_liq_comp_coeff index 'eqn_type' should be specified, defaulting to equation form 1.\n",
      "2022-02-18 06:00:32 [WARNING] idaes.generic_models.properties.core.pure.Perrys: DEPRECATED - fs.VLE_props.nbutane dens_mol_liq_comp_coeff index 'eqn_type' should be specified, defaulting to equation form 1.\n",
      "2022-02-18 06:00:32 [WARNING] idaes.generic_models.properties.core.pure.Perrys: DEPRECATED - fs.VLE_props.ibutane dens_mol_liq_comp_coeff index 'eqn_type' should be specified, defaulting to equation form 1.\n",
      "2022-02-18 06:00:32 [WARNING] idaes.generic_models.properties.core.pure.Perrys: DEPRECATED - fs.VLE_props.ethylene dens_mol_liq_comp_coeff index 'eqn_type' should be specified, defaulting to equation form 1.\n",
      "2022-02-18 06:00:32 [WARNING] idaes.generic_models.properties.core.pure.Perrys: DEPRECATED - fs.VLE_props.propene dens_mol_liq_comp_coeff index 'eqn_type' should be specified, defaulting to equation form 1.\n",
      "2022-02-18 06:00:32 [WARNING] idaes.generic_models.properties.core.pure.Perrys: DEPRECATED - fs.VLE_props.butene dens_mol_liq_comp_coeff index 'eqn_type' should be specified, defaulting to equation form 1.\n",
      "2022-02-18 06:00:32 [WARNING] idaes.generic_models.properties.core.pure.Perrys: DEPRECATED - fs.VLE_props.pentene dens_mol_liq_comp_coeff index 'eqn_type' should be specified, defaulting to equation form 1.\n",
      "2022-02-18 06:00:32 [WARNING] idaes.generic_models.properties.core.pure.Perrys: DEPRECATED - fs.VLE_props.hexene dens_mol_liq_comp_coeff index 'eqn_type' should be specified, defaulting to equation form 1.\n",
      "2022-02-18 06:00:32 [WARNING] idaes.generic_models.properties.core.pure.Perrys: DEPRECATED - fs.VLE_props.heptene dens_mol_liq_comp_coeff index 'eqn_type' should be specified, defaulting to equation form 1.\n",
      "2022-02-18 06:00:32 [WARNING] idaes.generic_models.properties.core.pure.Perrys: DEPRECATED - fs.VLE_props.octene dens_mol_liq_comp_coeff index 'eqn_type' should be specified, defaulting to equation form 1.\n",
      "2022-02-18 06:00:32 [WARNING] idaes.generic_models.properties.core.pure.Perrys: DEPRECATED - fs.Vap_props.ethane dens_mol_liq_comp_coeff index 'eqn_type' should be specified, defaulting to equation form 1.\n",
      "2022-02-18 06:00:32 [WARNING] idaes.generic_models.properties.core.pure.Perrys: DEPRECATED - fs.Vap_props.propane dens_mol_liq_comp_coeff index 'eqn_type' should be specified, defaulting to equation form 1.\n",
      "2022-02-18 06:00:32 [WARNING] idaes.generic_models.properties.core.pure.Perrys: DEPRECATED - fs.Vap_props.nbutane dens_mol_liq_comp_coeff index 'eqn_type' should be specified, defaulting to equation form 1.\n",
      "2022-02-18 06:00:32 [WARNING] idaes.generic_models.properties.core.pure.Perrys: DEPRECATED - fs.Vap_props.ibutane dens_mol_liq_comp_coeff index 'eqn_type' should be specified, defaulting to equation form 1.\n",
      "2022-02-18 06:00:32 [WARNING] idaes.generic_models.properties.core.pure.Perrys: DEPRECATED - fs.Vap_props.ethylene dens_mol_liq_comp_coeff index 'eqn_type' should be specified, defaulting to equation form 1.\n",
      "2022-02-18 06:00:32 [WARNING] idaes.generic_models.properties.core.pure.Perrys: DEPRECATED - fs.Vap_props.propene dens_mol_liq_comp_coeff index 'eqn_type' should be specified, defaulting to equation form 1.\n",
      "2022-02-18 06:00:32 [WARNING] idaes.generic_models.properties.core.pure.Perrys: DEPRECATED - fs.Vap_props.butene dens_mol_liq_comp_coeff index 'eqn_type' should be specified, defaulting to equation form 1.\n",
      "2022-02-18 06:00:32 [WARNING] idaes.generic_models.properties.core.pure.Perrys: DEPRECATED - fs.Vap_props.pentene dens_mol_liq_comp_coeff index 'eqn_type' should be specified, defaulting to equation form 1.\n",
      "2022-02-18 06:00:32 [WARNING] idaes.generic_models.properties.core.pure.Perrys: DEPRECATED - fs.Vap_props.hexene dens_mol_liq_comp_coeff index 'eqn_type' should be specified, defaulting to equation form 1.\n",
      "2022-02-18 06:00:32 [WARNING] idaes.generic_models.properties.core.pure.Perrys: DEPRECATED - fs.Vap_props.heptene dens_mol_liq_comp_coeff index 'eqn_type' should be specified, defaulting to equation form 1.\n",
      "2022-02-18 06:00:32 [WARNING] idaes.generic_models.properties.core.pure.Perrys: DEPRECATED - fs.Vap_props.octene dens_mol_liq_comp_coeff index 'eqn_type' should be specified, defaulting to equation form 1.\n",
      "The initial DOF is 21\n"
     ]
    }
   ],
   "source": [
    "# Create the ConcreteModel and the FlowsheetBlock, and attach the flowsheet block to it.\n",
    "m = ConcreteModel()\n",
    "\n",
    "m.fs = FlowsheetBlock(default={\"dynamic\": False}) \n",
    "\n",
    "# Add properties parameter blocks to the flowsheet with specifications\n",
    "m.fs.VLE_props = GenericParameterBlock(default=configuration)\n",
    "m.fs.Vap_props = GenericParameterBlock(default=configuration_vap)\n",
    "\n",
    "# Create an instance of the units, attaching them to the flowsheet\n",
    "# Specify the property package to be used with with each unit.\n",
    "m.fs.H101 = Heater(default={\"property_package\": m.fs.Vap_props,\n",
    "                            \"has_pressure_change\": False,\n",
    "                            \"has_phase_equilibrium\": True})\n",
    "m.fs.R101 = GibbsReactor(\n",
    "            default={\"property_package\": m.fs.Vap_props,\n",
    "                     \"inert_species\":[\"hydrogen\",\"methane\",\"ethane\",\"propane\",\"nbutane\"],\n",
    "                     \"has_heat_transfer\": True})\n",
    "\n",
    "m.fs.H102 = Heater(default={\"property_package\": m.fs.VLE_props,\n",
    "                            \"has_pressure_change\": False,\n",
    "                            \"has_phase_equilibrium\": True})\n",
    "\n",
    "m.fs.F101 = Flash(default={\"property_package\": m.fs.VLE_props,\n",
    "                               \"has_heat_transfer\": True,\n",
    "                               \"has_pressure_change\": True})\n",
    "\n",
    "# Create streams to define connectivity between unit models\n",
    "m.fs.s01 = Arc(source=m.fs.H101.outlet, destination=m.fs.R101.inlet)\n",
    "m.fs.s02 = Arc(source=m.fs.R101.outlet, destination=m.fs.H102.inlet)\n",
    "m.fs.s03 = Arc(source=m.fs.H102.outlet, destination=m.fs.F101.inlet)\n",
    "\n",
    "# Expand arcs\n",
    "TransformationFactory(\"network.expand_arcs\").apply_to(m)\n",
    "\n",
    "# Call the degrees_of_freedom function, get intitial DOF\n",
    "DOF_initial = degrees_of_freedom(m)\n",
    "print(\"The initial DOF is {0}\".format(DOF_initial))"
   ]
  },
  {
   "cell_type": "markdown",
   "metadata": {},
   "source": [
    "### 2.2 Create solver object "
   ]
  },
  {
   "cell_type": "code",
   "execution_count": 4,
   "metadata": {},
   "outputs": [],
   "source": [
    "solver = SolverFactory('ipopt')"
   ]
  },
  {
   "cell_type": "markdown",
   "metadata": {},
   "source": [
    "## 3 Case 1:Square problem.\n",
    "\n",
    "For this tutorial, we will solve a series of case studies by changing the goal of the solution. For the first case we will solve a square problem where all equipment and stream conditions are fixed.\n",
    "\n",
    "## 3.1 Fix initial conditions\n",
    "\n",
    "The conditions were extracted from *Valorization of Shale Gas Condensate to Liquid Hydrocarbons through Catalytic Dehydrogenation and Oligomerization*, Taufik Ridha, Yiru Li, Emre Gençer, Jeffrey J. Siirola, Jeffrey T. Miller, Fabio H. Ribeiro and Rakesh Agrawal, 2018. "
   ]
  },
  {
   "cell_type": "code",
   "execution_count": 5,
   "metadata": {},
   "outputs": [
    {
     "name": "stdout",
     "output_type": "stream",
     "text": [
      "The final DOF is 0\n"
     ]
    }
   ],
   "source": [
    "def fix_inputs(m):\n",
    "    # Fix Heater H101 inlet conditions\n",
    "    m.fs.H101.inlet.mole_frac_comp[0, \"hydrogen\"].fix(0.05)\n",
    "    m.fs.H101.inlet.mole_frac_comp[0, \"methane\"].fix(0.25)\n",
    "    m.fs.H101.inlet.mole_frac_comp[0, \"ethane\"].fix(0.2)\n",
    "    m.fs.H101.inlet.mole_frac_comp[0, \"propane\"].fix(0.025)\n",
    "    m.fs.H101.inlet.mole_frac_comp[0, \"nbutane\"].fix(0.05)\n",
    "    m.fs.H101.inlet.mole_frac_comp[0, \"ibutane\"].fix(0.05)\n",
    "    m.fs.H101.inlet.mole_frac_comp[0, \"ethylene\"].fix(0.13)\n",
    "    m.fs.H101.inlet.mole_frac_comp[0, \"propene\"].fix(0.13)\n",
    "    m.fs.H101.inlet.mole_frac_comp[0, \"butene\"].fix(0.115)\n",
    "    m.fs.H101.inlet.mole_frac_comp[0, \"pentene\"].fix(1e-6)\n",
    "    m.fs.H101.inlet.mole_frac_comp[0, \"hexene\"].fix(1e-6)\n",
    "    m.fs.H101.inlet.mole_frac_comp[0, \"heptene\"].fix(1e-6)\n",
    "    m.fs.H101.inlet.mole_frac_comp[0, \"octene\"].fix(1e-6)\n",
    "    m.fs.H101.inlet.flow_mol[0].fix(100)\n",
    "    m.fs.H101.inlet.temperature.fix(1073)\n",
    "    m.fs.H101.inlet.pressure.fix(550000)\n",
    "\n",
    "    # Fix unit models operating conditions\n",
    "    # Fix H101 Heater outlet temperature\n",
    "    m.fs.H101.outlet.temperature.fix(573)\n",
    "\n",
    "    # Fix R101 Reactor outlet temperature\n",
    "    m.fs.R101.outlet.temperature[0].fix(573)\n",
    "\n",
    "    # Fix H102 Heater outlet temperature\n",
    "    m.fs.H102.outlet.temperature.fix(300)\n",
    "\n",
    "    # Fix F101 Flash outlet conditions\n",
    "    m.fs.F101.vap_outlet.temperature.fix(300.0)\n",
    "    m.fs.F101.deltaP.fix(0)\n",
    "\n",
    "# fix inputs\n",
    "fix_inputs(m)\n",
    "DOF_final = degrees_of_freedom(m)\n",
    "print(\"The final DOF is {0}\".format(DOF_final))"
   ]
  },
  {
   "cell_type": "code",
   "execution_count": 6,
   "metadata": {},
   "outputs": [],
   "source": [
    "# Set scaling for model components\n",
    "def set_scaling_factors(m):\n",
    "    for unit in ['H101', 'R101', 'H102', 'F101']:\n",
    "        if unit == 'F101':\n",
    "            stream_list = ['inlet', 'vap_outlet', 'liq_outlet']\n",
    "        else:\n",
    "            stream_list = ['inlet', 'outlet']\n",
    "        for stream in stream_list:\n",
    "            block = getattr( getattr(m.fs, unit), stream )\n",
    "            iscale.set_scaling_factor( getattr(block, 'flow_mol')[0], 1e2)\n",
    "            iscale.set_scaling_factor( getattr(block, 'temperature')[0], 1e2)\n",
    "            iscale.set_scaling_factor( getattr(block, 'pressure')[0], 1e6)\n",
    "            for comp in [\"hydrogen\", \"methane\", \"ethane\", \"propane\", \"nbutane\", \"ibutane\", \"ethylene\",\n",
    "                         \"propene\", \"butene\", \"pentene\", \"hexene\", \"heptene\", \"octene\"]:\n",
    "                iscale.set_scaling_factor( getattr(block, 'mole_frac_comp')[0, comp], 1e2)\n",
    "    iscale.calculate_scaling_factors(m)\n"
   ]
  },
  {
   "cell_type": "code",
   "execution_count": 7,
   "metadata": {
    "tags": [
     "testing"
    ]
   },
   "outputs": [],
   "source": [
    "assert DOF_final == 0"
   ]
  },
  {
   "cell_type": "markdown",
   "metadata": {},
   "source": [
    "### 3.2 Flowsheet Initialization\n",
    "\n",
    "IDAES includes pre-written initialization routines for all unit models. The output from initialization can be set to 7 different levels depending on the details required by the user. In general, when a particular output level is set, any information at that level and above gets picked up by logger. The default level taken by the logger is INFO. More information on these levels can be found in the IDAES documentation: https://idaes-pse.readthedocs.io/en/latest/logging.html"
   ]
  },
  {
   "cell_type": "markdown",
   "metadata": {},
   "source": [
    "### 3.3 Saving a json file \n",
    "\n",
    "In the next cell we will save a json file to avoid initialization if it has been done before."
   ]
  },
  {
   "cell_type": "code",
   "execution_count": 8,
   "metadata": {},
   "outputs": [],
   "source": [
    "# Import python path\n",
    "import os\n",
    "\n",
    "# Import idaes model serializer to store initialized model\n",
    "from idaes.core.util import model_serializer as ms "
   ]
  },
  {
   "cell_type": "code",
   "execution_count": 9,
   "metadata": {
    "scrolled": true
   },
   "outputs": [
    {
     "name": "stdout",
     "output_type": "stream",
     "text": [
      "2022-02-18 06:02:18 [WARNING] idaes.core.util.scaling: Missing scaling factor for fs.H101.control_volume.properties_in[0.0].enth_mol_phase[Vap], for _enthalpy_flow_term\n",
      "2022-02-18 06:02:18 [WARNING] idaes.core.util.scaling: Missing scaling factor for fs.H101.control_volume.properties_out[0.0].enth_mol_phase[Vap], for _enthalpy_flow_term\n",
      "2022-02-18 06:02:18 [WARNING] idaes.core.util.scaling: Missing scaling factor for fs.H101.control_volume.heat\n",
      "2022-02-18 06:02:18 [WARNING] idaes.core.util.scaling: Missing scaling factor for fs.R101.control_volume.properties_in[0.0].enth_mol_phase[Vap], for _enthalpy_flow_term\n",
      "2022-02-18 06:02:18 [WARNING] idaes.core.util.scaling: Missing scaling factor for fs.R101.control_volume.properties_out[0.0].enth_mol_phase[Vap], for _enthalpy_flow_term\n",
      "2022-02-18 06:02:18 [WARNING] idaes.core.util.scaling: Missing scaling factor for fs.R101.control_volume.properties_out[0.0]._material_density_term[Vap,hydrogen]\n",
      "2022-02-18 06:02:18 [WARNING] idaes.core.util.scaling: Missing scaling factor for fs.R101.control_volume.properties_out[0.0]._material_density_term[Vap,methane]\n",
      "2022-02-18 06:02:18 [WARNING] idaes.core.util.scaling: Missing scaling factor for fs.R101.control_volume.properties_out[0.0]._material_density_term[Vap,ethane]\n",
      "2022-02-18 06:02:18 [WARNING] idaes.core.util.scaling: Missing scaling factor for fs.R101.control_volume.properties_out[0.0]._material_density_term[Vap,propane]\n",
      "2022-02-18 06:02:18 [WARNING] idaes.core.util.scaling: Missing scaling factor for fs.R101.control_volume.properties_out[0.0]._material_density_term[Vap,nbutane]\n",
      "2022-02-18 06:02:18 [WARNING] idaes.core.util.scaling: Missing scaling factor for fs.R101.control_volume.properties_out[0.0]._material_density_term[Vap,ibutane]\n",
      "2022-02-18 06:02:18 [WARNING] idaes.core.util.scaling: Missing scaling factor for fs.R101.control_volume.properties_out[0.0]._material_density_term[Vap,ethylene]\n",
      "2022-02-18 06:02:18 [WARNING] idaes.core.util.scaling: Missing scaling factor for fs.R101.control_volume.properties_out[0.0]._material_density_term[Vap,propene]\n",
      "2022-02-18 06:02:18 [WARNING] idaes.core.util.scaling: Missing scaling factor for fs.R101.control_volume.properties_out[0.0]._material_density_term[Vap,butene]\n",
      "2022-02-18 06:02:18 [WARNING] idaes.core.util.scaling: Missing scaling factor for fs.R101.control_volume.properties_out[0.0]._material_density_term[Vap,pentene]\n",
      "2022-02-18 06:02:18 [WARNING] idaes.core.util.scaling: Missing scaling factor for fs.R101.control_volume.properties_out[0.0]._material_density_term[Vap,hexene]\n",
      "2022-02-18 06:02:18 [WARNING] idaes.core.util.scaling: Missing scaling factor for fs.R101.control_volume.properties_out[0.0]._material_density_term[Vap,heptene]\n",
      "2022-02-18 06:02:18 [WARNING] idaes.core.util.scaling: Missing scaling factor for fs.R101.control_volume.properties_out[0.0]._material_density_term[Vap,octene]\n",
      "2022-02-18 06:02:18 [WARNING] idaes.core.util.scaling: Missing scaling factor for fs.R101.control_volume.properties_out[0.0]._material_density_term[Vap,hydrogen]\n",
      "2022-02-18 06:02:18 [WARNING] idaes.core.util.scaling: Missing scaling factor for fs.R101.control_volume.properties_out[0.0]._material_density_term[Vap,methane]\n",
      "2022-02-18 06:02:18 [WARNING] idaes.core.util.scaling: Missing scaling factor for fs.R101.control_volume.properties_out[0.0]._material_density_term[Vap,ethane]\n",
      "2022-02-18 06:02:18 [WARNING] idaes.core.util.scaling: Missing scaling factor for fs.R101.control_volume.properties_out[0.0]._material_density_term[Vap,propane]\n",
      "2022-02-18 06:02:18 [WARNING] idaes.core.util.scaling: Missing scaling factor for fs.R101.control_volume.properties_out[0.0]._material_density_term[Vap,nbutane]\n",
      "2022-02-18 06:02:18 [WARNING] idaes.core.util.scaling: Missing scaling factor for fs.R101.control_volume.properties_out[0.0]._material_density_term[Vap,ibutane]\n",
      "2022-02-18 06:02:18 [WARNING] idaes.core.util.scaling: Missing scaling factor for fs.R101.control_volume.properties_out[0.0]._material_density_term[Vap,ethylene]\n",
      "2022-02-18 06:02:18 [WARNING] idaes.core.util.scaling: Missing scaling factor for fs.R101.control_volume.properties_out[0.0]._material_density_term[Vap,propene]\n",
      "2022-02-18 06:02:18 [WARNING] idaes.core.util.scaling: Missing scaling factor for fs.R101.control_volume.properties_out[0.0]._material_density_term[Vap,butene]\n",
      "2022-02-18 06:02:18 [WARNING] idaes.core.util.scaling: Missing scaling factor for fs.R101.control_volume.properties_out[0.0]._material_density_term[Vap,pentene]\n",
      "2022-02-18 06:02:18 [WARNING] idaes.core.util.scaling: Missing scaling factor for fs.R101.control_volume.properties_out[0.0]._material_density_term[Vap,hexene]\n",
      "2022-02-18 06:02:18 [WARNING] idaes.core.util.scaling: Missing scaling factor for fs.R101.control_volume.properties_out[0.0]._material_density_term[Vap,heptene]\n",
      "2022-02-18 06:02:18 [WARNING] idaes.core.util.scaling: Missing scaling factor for fs.R101.control_volume.properties_out[0.0]._material_density_term[Vap,octene]\n",
      "2022-02-18 06:02:18 [WARNING] idaes.core.util.scaling: Missing scaling factor for fs.R101.control_volume.heat\n",
      "2022-02-18 06:02:18 [WARNING] idaes.core.util.scaling: Missing scaling factor for fs.H102.control_volume.properties_in[0.0].enth_mol_phase[Liq], for _enthalpy_flow_term\n",
      "2022-02-18 06:02:18 [WARNING] idaes.core.util.scaling: Missing scaling factor for fs.H102.control_volume.properties_in[0.0].enth_mol_phase[Vap], for _enthalpy_flow_term\n",
      "2022-02-18 06:02:18 [WARNING] idaes.core.util.scaling: Missing scaling factor for fs.H102.control_volume.properties_in[0.0].mole_frac_comp\n",
      "2022-02-18 06:02:18 [WARNING] idaes.core.util.scaling: Missing scaling factor for fs.H102.control_volume.properties_out[0.0].enth_mol_phase[Liq], for _enthalpy_flow_term\n",
      "2022-02-18 06:02:18 [WARNING] idaes.core.util.scaling: Missing scaling factor for fs.H102.control_volume.properties_out[0.0].enth_mol_phase[Vap], for _enthalpy_flow_term\n",
      "2022-02-18 06:02:18 [WARNING] idaes.core.util.scaling: Missing scaling factor for fs.H102.control_volume.properties_out[0.0].mole_frac_comp\n",
      "2022-02-18 06:02:18 [WARNING] idaes.core.util.scaling: Missing scaling factor for fs.H102.control_volume.heat\n",
      "2022-02-18 06:02:18 [WARNING] idaes.core.util.scaling: Missing scaling factor for fs.F101.control_volume.properties_in[0.0].enth_mol_phase[Liq], for _enthalpy_flow_term\n",
      "2022-02-18 06:02:18 [WARNING] idaes.core.util.scaling: Missing scaling factor for fs.F101.control_volume.properties_in[0.0].enth_mol_phase[Vap], for _enthalpy_flow_term\n",
      "2022-02-18 06:02:18 [WARNING] idaes.core.util.scaling: Missing scaling factor for fs.F101.control_volume.properties_in[0.0].mole_frac_comp\n",
      "2022-02-18 06:02:18 [WARNING] idaes.core.util.scaling: Missing scaling factor for fs.F101.control_volume.properties_out[0.0].enth_mol_phase[Liq], for _enthalpy_flow_term\n",
      "2022-02-18 06:02:18 [WARNING] idaes.core.util.scaling: Missing scaling factor for fs.F101.control_volume.properties_out[0.0].enth_mol_phase[Vap], for _enthalpy_flow_term\n",
      "2022-02-18 06:02:18 [WARNING] idaes.core.util.scaling: Missing scaling factor for fs.F101.control_volume.properties_out[0.0].mole_frac_comp\n",
      "2022-02-18 06:02:18 [WARNING] idaes.core.util.scaling: Missing scaling factor for fs.F101.control_volume.heat\n"
     ]
    }
   ],
   "source": [
    "set_scaling_factors(m)\n",
    "if not os.path.exists(\"HI_init.json.gz\"):\n",
    "    try:\n",
    "        print('DOF = ', degrees_of_freedom(m))\n",
    "        m.fs.H101.initialize(outlvl=idaeslog.INFO_LOW)\n",
    "        print('DOF = ', degrees_of_freedom(m))\n",
    "        propagate_state(m.fs.s01)\n",
    "        print('DOF = ', degrees_of_freedom(m))\n",
    "        m.fs.R101.initialize(outlvl=idaeslog.INFO_LOW)\n",
    "        print('DOF = ', degrees_of_freedom(m))\n",
    "        propagate_state(m.fs.s02)\n",
    "        print('DOF = ', degrees_of_freedom(m))\n",
    "        m.fs.H102.initialize(outlvl=idaeslog.INFO_LOW)\n",
    "        print('DOF = ', degrees_of_freedom(m))\n",
    "        propagate_state(m.fs.s03)\n",
    "        print('DOF = ', degrees_of_freedom(m))\n",
    "        m.fs.F101.initialize(outlvl=idaeslog.INFO_LOW)\n",
    "        print('DOF = ', degrees_of_freedom(m))\n",
    "    except:\n",
    "        print('Initializing did not converge, starting solve')\n",
    "    \n",
    "    # Solve the simulation using ipopt\n",
    "    # Note: If the degrees of freedom = 0, we have a square problem\n",
    "    print('DOF before pre-solve = ', degrees_of_freedom(m))\n",
    "    solve_status = solver.solve(m, tee=True)\n",
    "\n",
    "    ms.to_json(m, fname=\"HI_init.json.gz\")\n",
    "else:\n",
    "    ms.from_json(m, fname=\"HI_init.json.gz\")"
   ]
  },
  {
   "cell_type": "markdown",
   "metadata": {},
   "source": [
    "### 3.3 Run Simulation"
   ]
  },
  {
   "cell_type": "code",
   "execution_count": 10,
   "metadata": {
    "scrolled": false
   },
   "outputs": [
    {
     "name": "stdout",
     "output_type": "stream",
     "text": [
      "DOF before solve =  0\n",
      "Ipopt 3.13.2: \n",
      "\n",
      "******************************************************************************\n",
      "This program contains Ipopt, a library for large-scale nonlinear optimization.\n",
      " Ipopt is released as open source code under the Eclipse Public License (EPL).\n",
      "         For more information visit http://projects.coin-or.org/Ipopt\n",
      "\n",
      "This version of Ipopt was compiled from source code available at\n",
      "    https://github.com/IDAES/Ipopt as part of the Institute for the Design of\n",
      "    Advanced Energy Systems Process Systems Engineering Framework (IDAES PSE\n",
      "    Framework) Copyright (c) 2018-2019. See https://github.com/IDAES/idaes-pse.\n",
      "\n",
      "This version of Ipopt was compiled using HSL, a collection of Fortran codes\n",
      "    for large-scale scientific computation.  All technical papers, sales and\n",
      "    publicity material resulting from use of the HSL codes within IPOPT must\n",
      "    contain the following acknowledgement:\n",
      "        HSL, a collection of Fortran codes for large-scale scientific\n",
      "        computation. See http://www.hsl.rl.ac.uk.\n",
      "******************************************************************************\n",
      "\n",
      "This is Ipopt version 3.13.2, running with linear solver ma27.\n",
      "\n",
      "Number of nonzeros in equality constraint Jacobian...:     4334\n",
      "Number of nonzeros in inequality constraint Jacobian.:        0\n",
      "Number of nonzeros in Lagrangian Hessian.............:     2692\n",
      "\n",
      "Total number of variables............................:      551\n",
      "                     variables with only lower bounds:       64\n",
      "                variables with lower and upper bounds:      433\n",
      "                     variables with only upper bounds:       44\n",
      "Total number of equality constraints.................:      551\n",
      "Total number of inequality constraints...............:        0\n",
      "        inequality constraints with only lower bounds:        0\n",
      "   inequality constraints with lower and upper bounds:        0\n",
      "        inequality constraints with only upper bounds:        0\n",
      "\n",
      "iter    objective    inf_pr   inf_du lg(mu)  ||d||  lg(rg) alpha_du alpha_pr  ls\n",
      "   0  0.0000000e+00 5.59e+03 1.00e+00  -1.0 0.00e+00    -  0.00e+00 0.00e+00   0\n",
      "   1  0.0000000e+00 5.60e+01 6.70e-01  -1.0 1.50e+02    -  9.90e-01 9.90e-01h  1\n",
      "   2  0.0000000e+00 5.56e-01 6.28e-01  -1.0 1.48e+02    -  9.90e-01 9.90e-01h  1\n",
      "   3  0.0000000e+00 2.71e-05 9.84e+02  -1.0 1.46e+00    -  9.90e-01 1.00e+00h  1\n",
      "   4  0.0000000e+00 1.16e-10 2.99e-03  -1.0 7.05e-05    -  1.00e+00 1.00e+00h  1\n",
      "\n",
      "Number of Iterations....: 4\n",
      "\n",
      "                                   (scaled)                 (unscaled)\n",
      "Objective...............:   0.0000000000000000e+00    0.0000000000000000e+00\n",
      "Dual infeasibility......:   0.0000000000000000e+00    0.0000000000000000e+00\n",
      "Constraint violation....:   1.0913936421275139e-11    1.1641532182693481e-10\n",
      "Complementarity.........:   0.0000000000000000e+00    0.0000000000000000e+00\n",
      "Overall NLP error.......:   1.0913936421275139e-11    1.1641532182693481e-10\n",
      "\n",
      "\n",
      "Number of objective function evaluations             = 5\n",
      "Number of objective gradient evaluations             = 5\n",
      "Number of equality constraint evaluations            = 5\n",
      "Number of inequality constraint evaluations          = 0\n",
      "Number of equality constraint Jacobian evaluations   = 5\n",
      "Number of inequality constraint Jacobian evaluations = 0\n",
      "Number of Lagrangian Hessian evaluations             = 4\n",
      "Total CPU secs in IPOPT (w/o function evaluations)   =     11.936\n",
      "Total CPU secs in NLP function evaluations           =     41.322\n",
      "\n",
      "EXIT: Optimal Solution Found.\n"
     ]
    }
   ],
   "source": [
    "print('DOF before solve = ', degrees_of_freedom(m))\n",
    "result = solver.solve(m, tee=True)"
   ]
  },
  {
   "cell_type": "code",
   "execution_count": 11,
   "metadata": {
    "tags": [
     "testing"
    ]
   },
   "outputs": [],
   "source": [
    "from pyomo.opt import TerminationCondition, SolverStatus\n",
    "\n",
    "# Check if termination condition is optimal\n",
    "assert result.solver.termination_condition == TerminationCondition.optimal\n",
    "assert result.solver.status == SolverStatus.ok"
   ]
  },
  {
   "cell_type": "markdown",
   "metadata": {},
   "source": [
    "### 3.4 Results"
   ]
  },
  {
   "cell_type": "code",
   "execution_count": 12,
   "metadata": {
    "scrolled": false
   },
   "outputs": [
    {
     "name": "stdout",
     "output_type": "stream",
     "text": [
      "\n",
      "====================================================================================\n",
      "Unit : fs.H101                                                             Time: 0.0\n",
      "------------------------------------------------------------------------------------\n",
      "    Unit Performance\n",
      "\n",
      "    Variables: \n",
      "\n",
      "    Key       : Value       : Fixed : Bounds\n",
      "    Heat Duty : -6.0523e+06 : False : (None, None)\n",
      "\n",
      "------------------------------------------------------------------------------------\n",
      "    Stream Table\n",
      "                                    Inlet     Outlet  \n",
      "    Total Molar Flowrate             100.00     100.00\n",
      "    Total Mole Fraction hydrogen   0.050000   0.050000\n",
      "    Total Mole Fraction methane     0.25000    0.25000\n",
      "    Total Mole Fraction ethane      0.20000    0.20000\n",
      "    Total Mole Fraction propane    0.025000   0.025000\n",
      "    Total Mole Fraction nbutane    0.050000   0.050000\n",
      "    Total Mole Fraction ibutane    0.050000   0.050000\n",
      "    Total Mole Fraction ethylene    0.13000    0.13000\n",
      "    Total Mole Fraction propene     0.13000    0.13000\n",
      "    Total Mole Fraction butene      0.11500    0.11500\n",
      "    Total Mole Fraction pentene  1.0000e-06 1.0000e-06\n",
      "    Total Mole Fraction hexene   1.0000e-06 1.0000e-06\n",
      "    Total Mole Fraction heptene  1.0000e-06 1.0000e-06\n",
      "    Total Mole Fraction octene   1.0000e-06 1.0000e-06\n",
      "    Temperature                      1073.0     573.00\n",
      "    Pressure                     5.5000e+05 5.5000e+05\n",
      "====================================================================================\n",
      "\n",
      "====================================================================================\n",
      "Unit : fs.R101                                                             Time: 0.0\n",
      "------------------------------------------------------------------------------------\n",
      "    Unit Performance\n",
      "\n",
      "    Variables: \n",
      "\n",
      "    Key       : Value       : Fixed : Bounds\n",
      "    Heat Duty : -1.1646e+06 : False : (None, None)\n",
      "\n",
      "------------------------------------------------------------------------------------\n",
      "    Stream Table\n",
      "                                    Inlet     Outlet  \n",
      "    Total Molar Flowrate             100.00     87.515\n",
      "    Total Mole Fraction hydrogen   0.050000   0.057133\n",
      "    Total Mole Fraction methane     0.25000    0.28567\n",
      "    Total Mole Fraction ethane      0.20000    0.22853\n",
      "    Total Mole Fraction propane    0.025000   0.028567\n",
      "    Total Mole Fraction nbutane    0.050000   0.057133\n",
      "    Total Mole Fraction ibutane    0.050000   0.057133\n",
      "    Total Mole Fraction ethylene    0.13000  0.0054778\n",
      "    Total Mole Fraction propene     0.13000   0.099967\n",
      "    Total Mole Fraction butene      0.11500   0.047606\n",
      "    Total Mole Fraction pentene  1.0000e-06   0.064164\n",
      "    Total Mole Fraction hexene   1.0000e-06   0.039586\n",
      "    Total Mole Fraction heptene  1.0000e-06   0.023508\n",
      "    Total Mole Fraction octene   1.0000e-06  0.0055267\n",
      "    Temperature                      573.00     573.00\n",
      "    Pressure                     5.5000e+05 5.5000e+05\n",
      "====================================================================================\n",
      "\n",
      "====================================================================================\n",
      "Unit : fs.H102                                                             Time: 0.0\n",
      "------------------------------------------------------------------------------------\n",
      "    Unit Performance\n",
      "\n",
      "    Variables: \n",
      "\n",
      "    Key       : Value       : Fixed : Bounds\n",
      "    Heat Duty : -2.3797e+06 : False : (None, None)\n",
      "\n",
      "------------------------------------------------------------------------------------\n",
      "    Stream Table\n",
      "                                    Inlet     Outlet  \n",
      "    Total Molar Flowrate             87.515     87.515\n",
      "    Total Mole Fraction hydrogen   0.057133   0.057133\n",
      "    Total Mole Fraction methane     0.28567    0.28567\n",
      "    Total Mole Fraction ethane      0.22853    0.22853\n",
      "    Total Mole Fraction propane    0.028567   0.028567\n",
      "    Total Mole Fraction nbutane    0.057133   0.057133\n",
      "    Total Mole Fraction ibutane    0.057133   0.057133\n",
      "    Total Mole Fraction ethylene  0.0054778  0.0054778\n",
      "    Total Mole Fraction propene    0.099967   0.099967\n",
      "    Total Mole Fraction butene     0.047606   0.047606\n",
      "    Total Mole Fraction pentene    0.064164   0.064164\n",
      "    Total Mole Fraction hexene     0.039586   0.039586\n",
      "    Total Mole Fraction heptene    0.023508   0.023508\n",
      "    Total Mole Fraction octene    0.0055267  0.0055267\n",
      "    Temperature                      573.00     300.00\n",
      "    Pressure                     5.5000e+05 5.5000e+05\n",
      "====================================================================================\n",
      "\n",
      "====================================================================================\n",
      "Unit : fs.F101                                                             Time: 0.0\n",
      "------------------------------------------------------------------------------------\n",
      "    Unit Performance\n",
      "\n",
      "    Variables: \n",
      "\n",
      "    Key             : Value      : Fixed : Bounds\n",
      "          Heat Duty : 1.3777e-09 : False : (None, None)\n",
      "    Pressure Change :     0.0000 :  True : (None, None)\n",
      "\n",
      "------------------------------------------------------------------------------------\n",
      "    Stream Table\n",
      "                               Inlet    Vapor Outlet  Liquid Outlet\n",
      "    flow_mol                    87.515       76.463        11.052  \n",
      "    mole_frac_comp hydrogen   0.057133     0.065391    1.0000e-08  \n",
      "    mole_frac_comp methane     0.28567      0.32696    1.0000e-08  \n",
      "    mole_frac_comp ethane      0.22853      0.25523      0.043864  \n",
      "    mole_frac_comp propane    0.028567     0.030152      0.017595  \n",
      "    mole_frac_comp nbutane    0.057133     0.050736       0.10139  \n",
      "    mole_frac_comp ibutane    0.057133     0.054254      0.077055  \n",
      "    mole_frac_comp ethylene  0.0054778    0.0061656    0.00071921  \n",
      "    mole_frac_comp propene    0.099967      0.10665      0.053741  \n",
      "    mole_frac_comp butene     0.047606     0.043906      0.073201  \n",
      "    mole_frac_comp pentene    0.064164     0.044309       0.20152  \n",
      "    mole_frac_comp hexene     0.039586     0.013294       0.22148  \n",
      "    mole_frac_comp heptene    0.023508    0.0026874       0.16756  \n",
      "    mole_frac_comp octene    0.0055267   0.00027267      0.041876  \n",
      "    temperature                 300.00       300.00        300.00  \n",
      "    pressure                5.5000e+05   5.5000e+05    5.5000e+05  \n",
      "====================================================================================\n"
     ]
    }
   ],
   "source": [
    "# Display output report\n",
    "m.fs.H101.report()\n",
    "m.fs.R101.report()\n",
    "m.fs.H102.report()\n",
    "m.fs.F101.report()"
   ]
  },
  {
   "cell_type": "markdown",
   "metadata": {},
   "source": [
    "We have successfully transformed our light gas into a mixture of light and heavy alkanes and alkenes, as we can see from solving the square problem. Our target was to produce liquid hydrocarbons that are easily transportable compared to the gas that requires piping. The liquid stream also contains now heavier alkenes like octene and heptene.\n",
    "\n",
    "We now have a liquid product stream of 10.99 mols/second with a high composition (~60%) C5-C8 composition."
   ]
  },
  {
   "cell_type": "markdown",
   "metadata": {},
   "source": [
    "## 4. Case 2: Minimize operating costs.\n",
    "\n",
    "### 4.0 Create purity and flow parameters\n",
    "\n",
    "For this example we will show the optimization capabilities of our flowsheet. We will introduce two new parameters one for octene mol fraction and one for the liquid flow from the Flash column. And we will include an objective function to minimize the operating costs. "
   ]
  },
  {
   "cell_type": "code",
   "execution_count": 13,
   "metadata": {},
   "outputs": [],
   "source": [
    "m.fs.Pur = Param(mutable=True,default=0.040)\n",
    "m.fs.Liq = Param(mutable=True,default=10)"
   ]
  },
  {
   "cell_type": "markdown",
   "metadata": {},
   "source": [
    "### 4.1 Create constraints\n",
    "\n",
    "We will create constraints to set the inlet and outlet reactor temperature. And expressions to calculate costs."
   ]
  },
  {
   "cell_type": "code",
   "execution_count": 14,
   "metadata": {},
   "outputs": [],
   "source": [
    "# Set constraint over the inlet and outlet of the temperature of the reactor\n",
    "m.fs.reactorT = Constraint(expr=m.fs.H101.outlet.temperature[0] == \n",
    "                    m.fs.R101.outlet.temperature[0])\n",
    "\n",
    "# Set constraint over the purity of the octene after the flash\n",
    "m.fs.purity = Expression(\n",
    "        expr=m.fs.F101.liq_outlet.mole_frac_comp[0, \"octene\"])\n",
    "m.fs.product_purity = Constraint(expr=m.fs.purity >= m.fs.Pur)\n",
    "\n",
    "# Set constraint over the minimum amount of liquid in the flas outlet\n",
    "m.fs.liquid = Constraint(expr=m.fs.F101.liq_outlet.flow_mol[0]>= m.fs.Liq)\n",
    "\n",
    "# Set expressions to calculate \n",
    "m.fs.cooling_cost = Expression(expr=0.212e-7 * ((-m.fs.H101.heat_duty[0]) +\n",
    "                                  (-(m.fs.R101.heat_duty[0])) +\n",
    "                                    (-m.fs.H102.heat_duty[0])))\n",
    "\n",
    "m.fs.heating_cost = Expression(expr=2.2e-7 * ((m.fs.F101.heat_duty[0]**2)**1/2))\n",
    "\n",
    "m.fs.operating_cost = Expression(expr=(3600 * (m.fs.heating_cost +\n",
    "                                            m.fs.cooling_cost)))\n",
    "\n",
    "m.fs.objective = Objective(expr=m.fs.operating_cost)"
   ]
  },
  {
   "cell_type": "markdown",
   "metadata": {},
   "source": [
    "### 4.2 Unfix operation conditions\n",
    "\n",
    "In the next cell we will unfix some conditions we want want the problem to solve. To minimize cost we will unfix the Reactors temperature and heat duty while unfixing the flash colum outlet temperature and pressure drop."
   ]
  },
  {
   "cell_type": "code",
   "execution_count": 15,
   "metadata": {},
   "outputs": [],
   "source": [
    "# Unfix operation condition\n",
    "m.fs.H101.outlet.temperature.unfix()\n",
    "m.fs.R101.heat_duty.unfix()\n",
    "m.fs.R101.outlet.temperature.unfix()\n",
    "m.fs.F101.vap_outlet.temperature.unfix()\n",
    "m.fs.F101.deltaP.unfix()\n",
    "\n",
    "# Set bounds on unit model operating conditions\n",
    "m.fs.H101.outlet.temperature[0].setlb(350)\n",
    "m.fs.H101.outlet.temperature[0].setub(800)\n",
    "\n",
    "m.fs.R101.outlet.temperature[0].setlb(350)\n",
    "m.fs.R101.outlet.temperature[0].setub(800)\n",
    "\n",
    "m.fs.F101.vap_outlet.temperature[0].setlb(298.0)\n",
    "m.fs.F101.vap_outlet.temperature[0].setub(450.0)\n",
    "m.fs.F101.vap_outlet.pressure[0].setlb(105000)\n",
    "m.fs.F101.vap_outlet.pressure[0].setub(550000)"
   ]
  },
  {
   "cell_type": "markdown",
   "metadata": {},
   "source": [
    "### 4.3 Run Simulation"
   ]
  },
  {
   "cell_type": "code",
   "execution_count": 16,
   "metadata": {},
   "outputs": [
    {
     "name": "stdout",
     "output_type": "stream",
     "text": [
      "Ipopt 3.13.2: \n",
      "\n",
      "******************************************************************************\n",
      "This program contains Ipopt, a library for large-scale nonlinear optimization.\n",
      " Ipopt is released as open source code under the Eclipse Public License (EPL).\n",
      "         For more information visit http://projects.coin-or.org/Ipopt\n",
      "\n",
      "This version of Ipopt was compiled from source code available at\n",
      "    https://github.com/IDAES/Ipopt as part of the Institute for the Design of\n",
      "    Advanced Energy Systems Process Systems Engineering Framework (IDAES PSE\n",
      "    Framework) Copyright (c) 2018-2019. See https://github.com/IDAES/idaes-pse.\n",
      "\n",
      "This version of Ipopt was compiled using HSL, a collection of Fortran codes\n",
      "    for large-scale scientific computation.  All technical papers, sales and\n",
      "    publicity material resulting from use of the HSL codes within IPOPT must\n",
      "    contain the following acknowledgement:\n",
      "        HSL, a collection of Fortran codes for large-scale scientific\n",
      "        computation. See http://www.hsl.rl.ac.uk.\n",
      "******************************************************************************\n",
      "\n",
      "This is Ipopt version 3.13.2, running with linear solver ma27.\n",
      "\n",
      "Number of nonzeros in equality constraint Jacobian...:     4351\n",
      "Number of nonzeros in inequality constraint Jacobian.:        2\n",
      "Number of nonzeros in Lagrangian Hessian.............:     2762\n",
      "\n",
      "Total number of variables............................:      555\n",
      "                     variables with only lower bounds:       64\n",
      "                variables with lower and upper bounds:      436\n",
      "                     variables with only upper bounds:       44\n",
      "Total number of equality constraints.................:      552\n",
      "Total number of inequality constraints...............:        2\n",
      "        inequality constraints with only lower bounds:        2\n",
      "   inequality constraints with lower and upper bounds:        0\n",
      "        inequality constraints with only upper bounds:        0\n",
      "\n",
      "iter    objective    inf_pr   inf_du lg(mu)  ||d||  lg(rg) alpha_du alpha_pr  ls\n",
      "   0  7.3241871e+02 4.45e+09 1.00e+00  -1.0 0.00e+00    -  0.00e+00 0.00e+00   0\n",
      "   1  7.2629454e+02 1.39e+09 2.33e+01  -1.0 1.26e+05    -  9.39e-01 6.87e-01h  1\n",
      "   2  7.2630449e+02 1.28e+09 1.03e+03  -1.0 8.14e+03    -  9.90e-01 7.75e-02h  1\n",
      "   3  7.2845191e+02 3.21e+07 7.74e+03  -1.0 3.54e+04    -  7.66e-02 9.75e-01h  1\n",
      "   4  7.2859098e+02 3.36e+05 2.71e+02  -1.0 1.85e+03    -  9.02e-01 9.90e-01h  1\n",
      "   5  7.2737588e+02 2.57e+05 3.61e+04  -1.0 8.67e+04    -  1.16e-01 2.35e-01h  1\n",
      "   6  7.2817583e+02 1.64e+00 8.99e+04  -1.0 1.23e+04    -  9.66e-01 1.00e+00h  1\n",
      "   7  7.2746709e+02 1.28e+00 2.47e+06  -1.0 1.20e+04    -  9.96e-01 1.00e+00f  1\n",
      "   8  7.2749299e+02 1.76e-03 1.17e+04  -1.0 7.02e+02    -  1.00e+00 1.00e+00h  1\n",
      "   9  7.2749310e+02 3.14e-08 3.29e-02  -1.0 2.05e+00    -  1.00e+00 1.00e+00h  1\n",
      "iter    objective    inf_pr   inf_du lg(mu)  ||d||  lg(rg) alpha_du alpha_pr  ls\n",
      "  10  7.2730329e+02 9.20e-02 6.01e+05  -5.7 2.49e+03    -  9.93e-01 1.00e+00f  1\n",
      "  11  7.2729827e+02 1.10e-04 3.24e+02  -5.7 7.50e+01    -  1.00e+00 9.99e-01h  1\n",
      "  12  7.2729827e+02 8.73e-11 1.82e-06  -5.7 3.45e-02    -  1.00e+00 1.00e+00h  1\n",
      "  13  7.2729827e+02 2.04e-10 2.15e-04  -8.6 4.84e-02    -  1.00e+00 1.00e+00h  1\n",
      "  14  7.2729827e+02 1.46e-10 1.61e-12  -8.6 2.48e-08    -  1.00e+00 1.00e+00h  1\n",
      "\n",
      "Number of Iterations....: 14\n",
      "\n",
      "                                   (scaled)                 (unscaled)\n",
      "Objective...............:   7.2729826694188193e+02    7.2729826694188193e+02\n",
      "Dual infeasibility......:   1.6112360539908258e-12    1.6112360539908258e-12\n",
      "Constraint violation....:   7.2759576141834259e-12    1.4551915228366852e-10\n",
      "Complementarity.........:   2.5059062295062890e-09    2.5059062295062890e-09\n",
      "Overall NLP error.......:   2.5059062295062890e-09    2.5059062295062890e-09\n",
      "\n",
      "\n",
      "Number of objective function evaluations             = 15\n",
      "Number of objective gradient evaluations             = 15\n",
      "Number of equality constraint evaluations            = 15\n",
      "Number of inequality constraint evaluations          = 15\n",
      "Number of equality constraint Jacobian evaluations   = 15\n",
      "Number of inequality constraint Jacobian evaluations = 15\n",
      "Number of Lagrangian Hessian evaluations             = 14\n",
      "Total CPU secs in IPOPT (w/o function evaluations)   =     12.739\n",
      "Total CPU secs in NLP function evaluations           =    157.728\n",
      "\n",
      "EXIT: Optimal Solution Found.\n"
     ]
    }
   ],
   "source": [
    "results = solver.solve(m, tee=True)"
   ]
  },
  {
   "cell_type": "markdown",
   "metadata": {},
   "source": [
    "### 4.4 Results"
   ]
  },
  {
   "cell_type": "code",
   "execution_count": 17,
   "metadata": {},
   "outputs": [
    {
     "name": "stdout",
     "output_type": "stream",
     "text": [
      "operating cost = $ 727.2982669418819\n",
      "\n",
      "Product flow rate and purity in F102\n",
      "\n",
      "====================================================================================\n",
      "Unit : fs.F101                                                             Time: 0.0\n",
      "------------------------------------------------------------------------------------\n",
      "    Unit Performance\n",
      "\n",
      "    Variables: \n",
      "\n",
      "    Key             : Value     : Fixed : Bounds\n",
      "          Heat Duty : -0.010425 : False : (None, None)\n",
      "    Pressure Change :   -28120. : False : (None, None)\n",
      "\n",
      "------------------------------------------------------------------------------------\n",
      "    Stream Table\n",
      "                               Inlet    Vapor Outlet  Liquid Outlet\n",
      "    flow_mol                    88.045       78.045        10.000  \n",
      "    mole_frac_comp hydrogen   0.056789     0.064065    1.0000e-08  \n",
      "    mole_frac_comp methane     0.28394      0.32033    1.0000e-08  \n",
      "    mole_frac_comp ethane      0.22716      0.25093      0.041633  \n",
      "    mole_frac_comp propane    0.028394     0.029860      0.016958  \n",
      "    mole_frac_comp nbutane    0.056789     0.051199       0.10042  \n",
      "    mole_frac_comp ibutane    0.056789     0.054377      0.075610  \n",
      "    mole_frac_comp ethylene  0.0063739    0.0070886    0.00079627  \n",
      "    mole_frac_comp propene     0.10782      0.11445      0.056084  \n",
      "    mole_frac_comp butene     0.049285     0.045972      0.075139  \n",
      "    mole_frac_comp pentene    0.063324     0.045347       0.20362  \n",
      "    mole_frac_comp hexene     0.037351     0.013482       0.22364  \n",
      "    mole_frac_comp heptene    0.021215    0.0026515       0.16609  \n",
      "    mole_frac_comp octene    0.0047714   0.00025758      0.040000  \n",
      "    temperature                 300.00       299.03        299.03  \n",
      "    pressure                5.5000e+05   5.2188e+05    5.2188e+05  \n",
      "====================================================================================\n",
      "\n",
      "octene purity =  0.03999999000283396\n"
     ]
    }
   ],
   "source": [
    "print('operating cost = $', value(m.fs.operating_cost))\n",
    "\n",
    "print()\n",
    "print('Product flow rate and purity in F102')\n",
    "\n",
    "m.fs.F101.report()\n",
    "\n",
    "print()\n",
    "print('octene purity = ', value(m.fs.purity))"
   ]
  },
  {
   "cell_type": "markdown",
   "metadata": {},
   "source": [
    "As we can see from the Flash report we optimized the reactor conditions however we are limited by the octene purity and the amount of the liquid flow at the end of the flash column."
   ]
  },
  {
   "cell_type": "markdown",
   "metadata": {},
   "source": [
    "## 5. Sensitivity Analysis\n",
    "\n",
    "### 5.0 Building sensitivity analysis"
   ]
  },
  {
   "cell_type": "markdown",
   "metadata": {},
   "source": [
    "To create a sensitivity analysis, we will create two arrays, one for the liquid mole fraction of octene and another for the liquid mole flow of the liquid phase. We will also require to store several variable values. \n",
    "\n",
    "This sensitivity analysis will require solving the optimization program at different points. However, this requires computational time. To solve the study, switch the `running_time` option to True. You can increase the number of points calculated by changing `N_points`."
   ]
  },
  {
   "cell_type": "code",
   "execution_count": 18,
   "metadata": {},
   "outputs": [],
   "source": [
    "Running_time = False\n",
    "N_points = 3"
   ]
  },
  {
   "cell_type": "code",
   "execution_count": 19,
   "metadata": {},
   "outputs": [],
   "source": [
    "if Running_time == True:\n",
    "    purity = np.linspace(0.010, 0.030, N_points)\n",
    "    liq = np.linspace(5, 9, N_points)\n",
    "\n",
    "    vap_flow = np.zeros((len(purity),len(liq))) \n",
    "    vap_T = np.zeros((len(purity),len(liq))) \n",
    "    vap_P = np.zeros((len(purity),len(liq))) \n",
    "    reactor_temp = np.zeros((len(purity),len(liq))) \n",
    "    cost = np.zeros((len(purity),len(liq))) \n",
    "\n",
    "    for j in range(len(purity)):\n",
    "        m.fs.Pur = purity[j]\n",
    "\n",
    "        for k in range(len(liq)):       \n",
    "            m.fs.Liq = liq[k]\n",
    "            # solve the model\n",
    "            print(\"solving for octene purity of \", purity[j], \"and liquid flow mol of \", liq[k])\n",
    "\n",
    "            status = solver.solve(m)\n",
    "            print(\"solved for octene purity of \", purity[j], \"and liquid flow mol of \", liq[k])\n",
    "            vap_flow[j,k]= (value(m.fs.F101.vap_outlet.flow_mol[0]))\n",
    "            vap_T[j,k]= (value(m.fs.F101.vap_outlet.temperature[0]))\n",
    "            vap_P[j,k]= (value(m.fs.F101.vap_outlet.pressure[0]))\n",
    "            cost[j,k]= (value(m.fs.operating_cost))\n",
    "            reactor_temp[j,k]= (value(m.fs.R101.outlet.temperature[0]))\n",
    "else:\n",
    "    pass"
   ]
  },
  {
   "cell_type": "markdown",
   "metadata": {},
   "source": [
    "### 5.1 Plot reactor temperature results"
   ]
  },
  {
   "cell_type": "code",
   "execution_count": 20,
   "metadata": {},
   "outputs": [],
   "source": [
    "if Running_time == True:\n",
    "    fig, ax = plt.subplots()\n",
    "\n",
    "    CS = ax.contour(purity, liq, reactor_temp)\n",
    "\n",
    "    ax.clabel(CS, inline=1, fontsize=10)\n",
    "\n",
    "    plt.grid()\n",
    "    plt.title(\"Reactor temperature\",fontsize=24)\n",
    "    plt.xlabel(\"Purity\")\n",
    "    plt.ylabel(\"Liquid Flow\")\n",
    "    plt.savefig(\"Sa1.png\")\n",
    "    plt.show()\n",
    "\n",
    "else:\n",
    "    pass"
   ]
  },
  {
   "cell_type": "markdown",
   "metadata": {},
   "source": [
    "### 5.2 Plot cost results"
   ]
  },
  {
   "cell_type": "code",
   "execution_count": 21,
   "metadata": {},
   "outputs": [],
   "source": [
    "if Running_time == True:\n",
    "    fig, ax = plt.subplots()\n",
    "\n",
    "    CS = ax.contour(purity, liq, cost)\n",
    "\n",
    "    ax.clabel(CS, inline=1, fontsize=10)\n",
    "\n",
    "    plt.grid()\n",
    "    plt.title(\"Cost\",fontsize=24)\n",
    "    plt.xlabel(\"Purity\")\n",
    "    plt.ylabel(\"Liquid Flow\")\n",
    "\n",
    "    plt.show()\n",
    "\n",
    "else:\n",
    "    pass"
   ]
  },
  {
   "cell_type": "markdown",
   "metadata": {},
   "source": [
    "From the plots we can see that to increase the liquid flow and purity you require to increase the reactor temperature which will increase the cost of the process.\n",
    "\n",
    "We have added the resulting plots for solving this analysis. However to run them and print them change the running time to True\n",
    "\n",
    "Plots examples:\n",
    "\n",
    "![](Sa1.png)\n",
    "\n",
    "![](Sa2.png)"
   ]
  },
  {
   "cell_type": "code",
   "execution_count": null,
   "metadata": {},
   "outputs": [],
   "source": []
  }
 ],
 "metadata": {
  "celltoolbar": "Tags",
  "kernelspec": {
   "display_name": "Python 3 (ipykernel)",
   "language": "python",
   "name": "python3"
  },
  "language_info": {
   "codemirror_mode": {
    "name": "ipython",
    "version": 3
   },
   "file_extension": ".py",
   "mimetype": "text/x-python",
   "name": "python",
   "nbconvert_exporter": "python",
   "pygments_lexer": "ipython3",
   "version": "3.8.5"
  }
 },
 "nbformat": 4,
 "nbformat_minor": 4
}
