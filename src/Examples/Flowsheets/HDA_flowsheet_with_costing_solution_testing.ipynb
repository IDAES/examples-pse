{
 "cells": [
  {
   "cell_type": "markdown",
   "metadata": {},
   "source": [
    "\n",
    "# HDA Flowsheet Costing\n",
    "\n",
    "\n",
    "## Note\n",
    "\n",
    "This tutorial will demonstrate adding rigorous process costing to the two HDA examples, the basic [HDA with Flash](../../Tutorials/Basics/HDA_flowsheet_solution_testing.ipynb) and a comparison with the [HDA with Distillation](HDA_flowsheet_with_distillation_solution_testing.ipynb).\n",
    "\n",
    "\n",
    "## Learning outcomes\n",
    "\n",
    "\n",
    "- Import external pre-built steady-state flowsheets using the IDAES unit model library\n",
    "- Define and add costing blocks using the IDAES Generic Costing Framework\n",
    "- Fomulate and solve a process economics optimization problem\n",
    "    - Defining an objective function\n",
    "    - Setting variable bounds\n",
    "    - Adding additional constraints \n",
    "\n",
    "\n",
    "## Problem Statement\n",
    "\n",
    "Hydrodealkylation is a chemical reaction that often involves reacting\n",
    "an aromatic hydrocarbon in the presence of hydrogen gas to form a\n",
    "simpler aromatic hydrocarbon devoid of functional groups. In this\n",
    "example, toluene will be reacted with hydrogen gas at high temperatures\n",
    " to form benzene via the following reaction:\n",
    "\n",
    "**C<sub>6</sub>H<sub>5</sub>CH<sub>3</sub> + H<sub>2</sub> → C<sub>6</sub>H<sub>6</sub> + CH<sub>4</sub>**\n",
    "\n",
    "\n",
    "This reaction is often accompanied by an equilibrium side reaction\n",
    "which forms diphenyl, which we will neglect for this example.\n",
    "\n",
    "This example is based on the 1967 AIChE Student Contest problem as\n",
    "present by Douglas, J.M., Chemical  Design of Chemical Processes, 1988,\n",
    "McGraw-Hill.\n",
    "\n",
    "Users may refer to the prior examples linked at the top of this notebook for detailed process descriptions of the two HDA configurations. As before, the properties required for this module are defined in\n",
    "\n",
    "- `hda_ideal_VLE.py`\n",
    "- `idaes.models.properties.activity_coeff_models.BTX_activity_coeff_VLE`\n",
    "- `hda_reaction_kinetic.py`\n",
    "\n",
    "Additionally, we will be importing externally-defined flowsheets for the two HDA configurations from\n",
    "\n",
    "- `hda_flowsheets.py`"
   ]
  },
  {
   "cell_type": "markdown",
   "metadata": {},
   "source": [
    "## Import and run HDA Flowsheets\n",
    "First, we will generate solved flowsheets for each HDA model. The external scripts build and set inputs for the flowsheets, initialize unit models and streams, and solve the flowsheets before returning the model objects. Note that the HDA flowsheets contain all unit models and stream connections, and no costing equations:"
   ]
  },
  {
   "cell_type": "code",
   "execution_count": null,
   "metadata": {},
   "outputs": [],
   "source": [
    "# source file for external flowsheets\n",
    "from hda_flowsheets import hda_with_flash, hda_with_distillation"
   ]
  },
  {
   "cell_type": "code",
   "execution_count": null,
   "metadata": {
    "scrolled": false
   },
   "outputs": [],
   "source": [
    "# alias 'm' for hda model with second flash unit\n",
    "m = hda_with_flash(tee=False)"
   ]
  },
  {
   "cell_type": "code",
   "execution_count": null,
   "metadata": {
    "scrolled": false
   },
   "outputs": [],
   "source": [
    "# alias 'n' for hda model with distillation column\n",
    "n = hda_with_distillation(tee=False)"
   ]
  },
  {
   "cell_type": "markdown",
   "metadata": {},
   "source": [
    "## IDAES Generic Costing Framework\n",
    "IDAES provides a rigorous costing package for process economics calculations, based on methods from the following source:\n",
    "\n",
    "*Process and Product Design Principles: Synthesis, Analysis, and Evaluation*. Seider, Seader, Lewin, Windagdo, 3rd Ed. John Wiley and Sons Chapter 22. Cost Accounting and Capital Cost Estimation 22.2 Cost Indexes and Capital Investment.\n",
    "\n",
    "Currently, IDAES supports calculation of capital costing for a wide array of unit operations:\n",
    "\n",
    "- Pressure Changers (Compressor, Turbine, Pump, generic PressureChanger)\n",
    "- Temperature Changers (Heater, HeatExchanger, HeatExchangerNTU)\n",
    "- Vertical and Horizontal Vessels (Flash, CSTR, PFR, StoichiometricReactor)\n",
    "\n",
    "The framework includes factors for vessel shell thickness and dimensions, material properties for equipment shells and tubes, and tray types for distillation columns. The framework does not yet support heat exchangers requiring both shell and tube area (HX1D).\n",
    "\n",
    "For capital costs calculations, IDAES supports the following options:\n",
    "- Heat exchanger type:\n",
    "    - floating head, fixed head, \"U tube\", Kettle evaporator\n",
    "- Heat exchanger material:\n",
    "    - pure Carbon Steel, Stainless Steel, Cr Mo Steel, Monel or Titanium; Carbon Steel alloy with Brass, Stainless Steel, Monel, Titanium or Cr Mo Steel; \n",
    "- Heat exchanger tube lengths:\n",
    "    - 8, 12, 16 or 20 feet\n",
    "- Vessel materials\n",
    "    - Carbon Steel, Low Alloy Steel, Stainless Steel 304, Stainless Stell 316, Carpenter 20CB3, Nickel 200, Money 400, Inconel 600, Incoloy 825, Titanium\n",
    "- Column tray type:\n",
    "    - Sieve, Valve, Bubble Cap\n",
    "- Column tray material:\n",
    "    - Carbon Steel, Stainless Stell 303, Stainless Stell 316, Carpenter 20CB3, Monel\n",
    "- Heater material:\n",
    "    - Carbon Steel, Cr Mo Steel, Stainless Steel\n",
    "- Heater source:\n",
    "    - Fuel, Reformer, Pyrolysis, Hot Water, Salts, Dowtherm A, Steam Boiler\n",
    "- Compressor type:\n",
    "    - Centrifugal, Reciprocating, Screw\n",
    "- Compressor drive type:\n",
    "    - Electric Motor, Steam Turbine, Gas Turbine\n",
    "- Compressor material:\n",
    "    - Carbon Steel, Stainless Steel, Nickel Alloy\n",
    "- Pump Material:\n",
    "    - Cast Iron, Ductile Iron, Cast Steel, Bronze, Stainless Steel, Hastelloy C, Monel, Nickel, Titanium, Ni Al Bronze, Carbon Steel\n",
    "- Pump type:\n",
    "    - Centrigual, External Gear, Reciprocating\n",
    "- Pump motor type:\n",
    "    - Open, Enclosed, Explosion Proof\n",
    "- Fan type:\n",
    "    - Centrifugal Backward, Centrifugal Straight, Vane Axial, Tube Axial\n",
    "- Fan material:\n",
    "    - Carbon Steel, Fiberglass, Stainless Steel, Nickel Alloy\n",
    "- Blower type:\n",
    "    - Centrifugal, Rotary\n",
    "- Blower material:\n",
    "    - Carbon Steel, Aluminum, Fiberglass, Stainless Steel, Nickel Alloy\n",
    "\n",
    "\n",
    "The framework contains the following flowsheet costing methods and default options under the \"SSLWCosting\" class:\n",
    "- build_global_params() sets base currency and period, and other optional parameters\n",
    "- build_process_costs() grants access to aggregate capital, fixed, variable and flow costs for process wide costing\n",
    "- initialize_build() allows for optional initialization of costing blocks when required; aggregate costs are already initialized elsewhere\n",
    "- cost_heat_exchanger(blk,hx_type=HXType.Utube, material_type=HXMaterial.StainlessSteelStainlessSteel, tube_length=HXTubeLength.TwelveFoot, integer=True)\n",
    "- def cost_vessel( blk, vertical=False, material_type=VesselMaterial.CarbonSteel, shell_thickness=1.25 * pyo.units.inch, weight_limit=1, aspect_ratio_range=1, include_platforms_ladders=True, vessel_diameter=None, vessel_length=None, number_of_units=1, number_of_trays=None, tray_material=TrayMaterial.CarbonSteel, tray_type=TrayType.Sieve)\n",
    "- def cost_vertical_vessel(blk, material_type=VesselMaterial.CarbonSteel, shell_thickness=1.25 * pyo.units.inch, weight_limit=1, aspect_ratio_range=1, include_platforms_ladders=True, vessel_diameter=None, vessel_length=None, number_of_units=1, number_of_trays=None, tray_material=TrayMaterial.CarbonSteel, tray_type=TrayType.Sieve)\n",
    "- def cost_horizontal_vessel(blk, material_type=VesselMaterial.CarbonSteel, shell_thickness=1.25 * pyo.units.inch, include_platforms_ladders=True, vessel_diameter=None, vessel_length=None, number_of_units=1)\n",
    "- def cost_fired_heater(blk, heat_source=HeaterSource.Fuel, material_type=HeaterMaterial.CarbonSteel, integer=True)\n",
    "- def cost_compressor(blk, compressor_type=CompressorType.Centrifugal, drive_type=CompressorDriveType.ElectricMotor, material_type=CompressorMaterial.StainlessSteel, integer=True)\n",
    "- def cost_fan(blk, fan_type=FanType.CentrifugalBackward, fan_head_factor=1.45, material_type=FanMaterial.StainlessSteel, integer=True)\n",
    "- def cost_blower(blk, blower_type=BlowerType.Centrifugal, material_type=BlowerMaterial.StainlessSteel, integer=True)\n",
    "- def cost_turbine(blk, integer=True)\n",
    "- def cost_pump(blk, pump_type=PumpType.Centrifugal, material_type=PumpMaterial.StainlessSteel, pump_type_factor=1.4, motor_type=PumpMotorType.Open, integer=True)\n",
    "- def cost_pressure_changer(blk, mover_type=\"compressor\", **kwargs)\n",
    "\n",
    "As a convenience for users, common unit models are mapped with appropriate costing methods. Therefore, for quick costing with defaults, users may import the `unit_mapping` dictionary and pass the unit model type as below:\n",
    "\n",
    "*unit_mapping = {  \n",
    "        CSTR: cost_vertical_vessel,  \n",
    "        Compressor: cost_compressor,  \n",
    "        Flash: cost_vertical_vessel,  \n",
    "        Heater: cost_fired_heater,  \n",
    "        HeatExchanger: cost_heat_exchanger,  \n",
    "        HeatExchangerNTU: cost_heat_exchanger,  \n",
    "        PFR: cost_horizontal_vessel,  \n",
    "        PressureChanger: cost_pressure_changer,  \n",
    "        Pump: cost_pump,  \n",
    "        StoichiometricReactor: cost_horizontal_vessel,  \n",
    "        Turbine: cost_turbine,  \n",
    "    }*\n",
    "\n",
    "*costing_blk = unit_mapping[type(blk)]*\n",
    "\n",
    "The mapping is inheritance aware, e.g. pumps will try costing with cost_pump() and fall back to cost_pressure_changer."
   ]
  },
  {
   "cell_type": "markdown",
   "metadata": {},
   "source": [
    "## Add Operating Cost Equations\n",
    "Before adding capital costing blocks, we will add operating cost equations taken from the prior examples. The examples assume constant cooling and heating coefficients over an annual cost basis. The IDAES Generic Costing Framework does not currently support variable cost calculations."
   ]
  },
  {
   "cell_type": "code",
   "execution_count": null,
   "metadata": {},
   "outputs": [],
   "source": [
    "# required imports\n",
    "from pyomo.environ import Expression\n",
    "\n",
    "# operating costs for HDA with second flash (model m)\n",
    "m.fs.cooling_cost = Expression(expr=0.212e-7 * (-m.fs.F101.heat_duty[0]) +\n",
    "                                   0.212e-7 * (-m.fs.R101.heat_duty[0]))\n",
    "m.fs.heating_cost = Expression(expr=2.2e-7 * m.fs.H101.heat_duty[0] +\n",
    "                                   1.9e-7 * m.fs.F102.heat_duty[0])\n",
    "m.fs.operating_cost = Expression(expr=(3600 * 24 * 365 *\n",
    "                                           (m.fs.heating_cost +\n",
    "                                            m.fs.cooling_cost)))\n",
    "\n",
    "# operating costs for HDA with distillation (model n)\n",
    "n.fs.cooling_cost = Expression(expr=0.25e-7 * (-n.fs.F101.heat_duty[0]) +\n",
    "                                0.2e-7 * (-n.fs.D101.condenser.heat_duty[0]))\n",
    "\n",
    "n.fs.heating_cost = Expression(expr=2.2e-7 * n.fs.H101.heat_duty[0] +\n",
    "                                1.2e-7 * n.fs.H102.heat_duty[0] +\n",
    "                                1.9e-7 * n.fs.D101.reboiler.heat_duty[0])\n",
    "\n",
    "n.fs.operating_cost = Expression(expr=(3600 * 24 * 365 *\n",
    "                                (n.fs.heating_cost + n.fs.cooling_cost)))   "
   ]
  },
  {
   "cell_type": "markdown",
   "metadata": {},
   "source": [
    "## Add Capital Costing\n",
    "Below, we will add add rigorous capital costing blocks to the imported flowsheets and evaluate the economic impact of replacing the second Flash with a Distillation column. First, let's import the relevant costing methods:"
   ]
  },
  {
   "cell_type": "code",
   "execution_count": null,
   "metadata": {},
   "outputs": [],
   "source": [
    "# Import costing methods - classes, heaters, vessels, compressors, columns\n",
    "from idaes.models.costing.SSLW import (\n",
    "    SSLWCosting,\n",
    "    SSLWCostingData,\n",
    "    VesselMaterial,\n",
    "    TrayType,\n",
    "    TrayMaterial,\n",
    "    HeaterMaterial,\n",
    "    HeaterSource,\n",
    "    CompressorDriveType,\n",
    "    CompressorMaterial,\n",
    "    CompressorType,\n",
    ")\n",
    "from idaes.core import UnitModelCostingBlock"
   ]
  },
  {
   "cell_type": "markdown",
   "metadata": {},
   "source": [
    "Next, we will build the main costing block for each flowsheet, calling the main costing class to define the blocks:"
   ]
  },
  {
   "cell_type": "code",
   "execution_count": null,
   "metadata": {},
   "outputs": [],
   "source": [
    "# costing block for HDA with second flash (model m)\n",
    "m.fs.costing = SSLWCosting()\n",
    "\n",
    "# costing block for HDA with distillation (model n)\n",
    "n.fs.costing = SSLWCosting()"
   ]
  },
  {
   "cell_type": "markdown",
   "metadata": {},
   "source": [
    "Finally, we will build the relevant costing blocks for the equipment we wish to cost. Note how the costing block, methods and flags are passed as arguments in the costing block call itself. Each unit model will have a single costing block, but each flowsheet model (m and n) will also have a single costing block for flowsheet-level properties.\n",
    "\n",
    "Users should note that IDAES costing methods support a wide array of heating sources (e.g. fired, steam boiler, hot water) and do not support direct capital costing of coolers. If users wish to cost Heater units acting as coolers, it is necessary to cost a \"dummy\" [0D shell and tube exchanger](https://idaes-pse.readthedocs.io/en/stable/reference_guides/model_libraries/generic/unit_models/heat_exchanger.html) with appropriate aliased hot stream properties and proper cooling water properties. This is not demonstrated here, as the HDA examples take advantage of Flash and Condenser operations to recover liquid product.\n",
    "\n",
    "Capital costing is independent of unit model connections, and building cost equations may be done piecewise in this fashion. Default options are passed explicitly to demonstrate proper syntax and usage. Now that all required properties are defined, let's cost our models connecting costing blocks, methods and unit models in each flowsheet."
   ]
  },
  {
   "cell_type": "markdown",
   "metadata": {},
   "source": [
    "### Flexibility of Costing Block Definitions\n",
    "IDAES supports many ways to define batches of costing blocks, and several are shown in the example. Users may employ whichever method fits their modeling needs for explicit or concise code. In the code below, note how the unit model itself is never passed to the costing method; when the full model is executed, the costing block will automatically connect its parent block with child equation blocks.\n",
    "\n",
    "To demonstrate proper usage, the Compressor costing blocks are defined below. For this example, the compressors assume isothermal thermodynamics and are too simple for the costing module. As shown below, attempting to cost the compressors throws a `ValueError` warning:"
   ]
  },
  {
   "cell_type": "code",
   "execution_count": null,
   "metadata": {},
   "outputs": [],
   "source": [
    "# costing for compressors - m.fs.C101, n.fs.C101\n",
    "\n",
    "try:\n",
    "    m.fs.C101.costing = UnitModelCostingBlock(\n",
    "        default={\n",
    "            \"flowsheet_costing_block\": m.fs.costing,\n",
    "            \"costing_method\": SSLWCostingData.cost_compressor,\n",
    "            \"costing_method_arguments\": {\n",
    "                \"compressor_type\": CompressorType.Centrifugal,\n",
    "                \"drive_type\": CompressorDriveType.ElectricMotor,\n",
    "                \"material_type\": CompressorMaterial.StainlessSteel,\n",
    "            },\n",
    "        }\n",
    "    )\n",
    "except:\n",
    "    delattr(m.fs.C101, \"costing\")"
   ]
  },
  {
   "cell_type": "code",
   "execution_count": null,
   "metadata": {},
   "outputs": [],
   "source": [
    "try:\n",
    "    n.fs.C101.costing = UnitModelCostingBlock(\n",
    "        default={\n",
    "            \"flowsheet_costing_block\": n.fs.costing,\n",
    "            \"costing_method\": SSLWCostingData.cost_compressor,\n",
    "            \"costing_method_arguments\": {\n",
    "                \"compressor_type\": CompressorType.Centrifugal,\n",
    "                \"drive_type\": CompressorDriveType.ElectricMotor,\n",
    "                \"material_type\": CompressorMaterial.StainlessSteel,\n",
    "            },\n",
    "        }\n",
    "    )\n",
    "except:\n",
    "    delattr(n.fs.C101, \"costing\")"
   ]
  },
  {
   "cell_type": "markdown",
   "metadata": {},
   "source": [
    "To demonstrate the flexibility of the framework, let's define all Heater costing blocks sequentially using a loop:"
   ]
  },
  {
   "cell_type": "code",
   "execution_count": null,
   "metadata": {},
   "outputs": [],
   "source": [
    "# costing for heaters - m.fs.H101, n.fs.H101, n.fs.H102\n",
    "\n",
    "# loop over units\n",
    "for unit in [m.fs.H101, n.fs.H101, n.fs.H102]:\n",
    "    unit.costing = UnitModelCostingBlock(\n",
    "        default={\n",
    "            \"flowsheet_costing_block\": unit.parent_block().costing,\n",
    "            \"costing_method\": SSLWCostingData.cost_fired_heater,\n",
    "            \"costing_method_arguments\": {\n",
    "                \"material_type\": HeaterMaterial.CarbonSteel,\n",
    "                \"heat_source\": HeaterSource.Fuel,\n",
    "            }\n",
    "        }\n",
    "    )"
   ]
  },
  {
   "cell_type": "markdown",
   "metadata": {},
   "source": [
    "The costing module provides a `unit_mapping` dictionary linking generic unit model classes with recommended costing methods. In this example, CSTR, StoichiometricReactor and Flash vessels utilize different vessel costing methods with similar arguments. The diameter and length attributes need to exist, and we add them if they don't exist already. The `unit_mapping` method provides an opportunity to automatically select the correct vessel orientation (vertical or horizontal) based on the unit type:"
   ]
  },
  {
   "cell_type": "code",
   "execution_count": null,
   "metadata": {},
   "outputs": [],
   "source": [
    "import math\n",
    "from pyomo.environ import Var, Constraint, units as pyunits, Param, value\n",
    "from idaes.models.unit_models import CSTR, StoichiometricReactor, Flash\n",
    "# map unit models to unit classes\n",
    "# will pass to unit_mapping which calls costing methods based on unit class\n",
    "unit_class_mapping = {m.fs.R101: StoichiometricReactor,\n",
    "                      m.fs.F101: Flash,\n",
    "                      m.fs.F102: Flash,\n",
    "                      n.fs.R101: CSTR,\n",
    "                      n.fs.F101: Flash}\n",
    "\n",
    "# costing for vessels - m.fs.R101, m.fs.F101, m.fs.F102, n.fs.R101, n.fs.F101\n",
    "\n",
    "# loop over units\n",
    "for unit in [m.fs.R101, m.fs.F101, m.fs.F102, n.fs.R101, n.fs.F101]:\n",
    "    # get correct unit class for unit model\n",
    "    unit_class = unit_class_mapping[unit]\n",
    "    \n",
    "    # add dimension variables and constraint if they don't exist\n",
    "    if not hasattr(unit, \"diameter\"):\n",
    "        unit.diameter = Var(initialize=1, units=pyunits.m)\n",
    "    if not hasattr(unit, \"length\"):\n",
    "        unit.length = Var(initialize=1, units=pyunits.m)\n",
    "    if hasattr(unit, \"volume\"):  # if volume exists, set diameter from volume\n",
    "        unit.volume_eq = Constraint(expr=unit.volume[0] == unit.length * unit.diameter**2 * 0.25 * math.pi)\n",
    "    else:  # fix diameter directly\n",
    "        unit.diameter.fix(0.2214 * pyunits.m)\n",
    "    # either way, fix L/D to calculate L from D\n",
    "    unit.L_over_D = Constraint(expr=unit.length == 3 * unit.diameter)\n",
    "        \n",
    "    # define vessel costing\n",
    "    unit.costing = UnitModelCostingBlock(\n",
    "        default={\n",
    "            \"flowsheet_costing_block\": unit.parent_block().costing,\n",
    "            \"costing_method\": SSLWCostingData.unit_mapping[unit_class],\n",
    "            \"costing_method_arguments\": {\n",
    "                \"material_type\": VesselMaterial.CarbonSteel,\n",
    "                \"shell_thickness\": 1.25 * pyunits.inch\n",
    "                \n",
    "            }\n",
    "        }\n",
    "    )"
   ]
  },
  {
   "cell_type": "markdown",
   "metadata": {},
   "source": [
    "Finally, we will define costing for the distillation column:"
   ]
  },
  {
   "cell_type": "code",
   "execution_count": null,
   "metadata": {},
   "outputs": [],
   "source": [
    "# costing for column - n.fs.D101\n",
    "\n",
    "# define column dimensions - same volume as m.fs.F102 with L/D of 5\n",
    "n.fs.D101.diameter = Param(initialize=0.1715, units=pyunits.m)\n",
    "n.fs.D101.length = Param(initialize=0.8575, units=pyunits.m)\n",
    "\n",
    "n.fs.D101.costing = UnitModelCostingBlock(\n",
    "        default={\n",
    "            \"flowsheet_costing_block\": n.fs.costing,\n",
    "            \"costing_method\": SSLWCostingData.cost_vertical_vessel,\n",
    "            \"costing_method_arguments\": {\n",
    "                \"material_type\": VesselMaterial.CarbonSteel,\n",
    "                \"shell_thickness\": 1.25 * pyunits.inch,\n",
    "                \"include_platforms_ladders\": True,\n",
    "                \"number_of_trays\": n.fs.D101.config.number_of_trays,\n",
    "                \"tray_material\": TrayMaterial.CarbonSteel,\n",
    "                \"tray_type\": TrayType.Sieve\n",
    "                \n",
    "            }\n",
    "        }\n",
    "    )"
   ]
  },
  {
   "cell_type": "markdown",
   "metadata": {},
   "source": [
    "## Solve Flowsheet Costing Blocks\n",
    "Now, we may solve the full flowsheet for all costing blocks:"
   ]
  },
  {
   "cell_type": "code",
   "execution_count": null,
   "metadata": {},
   "outputs": [],
   "source": [
    "# define solver\n",
    "from idaes.core.solvers import get_solver\n",
    "solver = get_solver()\n",
    "solver.options = {\"halt_on_ampl_error\": 'yes'}\n",
    "\n",
    "# Check that the degrees of freedom is zero\n",
    "from idaes.core.util.model_statistics import degrees_of_freedom\n",
    "assert degrees_of_freedom(m) == 0\n",
    "assert degrees_of_freedom(n) == 0"
   ]
  },
  {
   "cell_type": "code",
   "execution_count": null,
   "metadata": {
    "scrolled": false
   },
   "outputs": [],
   "source": [
    "results_m = solver.solve(m, tee=True, symbolic_solver_labels=True)"
   ]
  },
  {
   "cell_type": "code",
   "execution_count": null,
   "metadata": {},
   "outputs": [],
   "source": [
    "# Check solver solve status and physical units consistency for model m\n",
    "from pyomo.environ import TerminationCondition\n",
    "from pyomo.util.check_units import assert_units_consistent\n",
    "assert results_m.solver.termination_condition == TerminationCondition.optimal\n",
    "assert_units_consistent(m)"
   ]
  },
  {
   "cell_type": "code",
   "execution_count": null,
   "metadata": {
    "scrolled": true
   },
   "outputs": [],
   "source": [
    "results_n = solver.solve(n, tee=True, symbolic_solver_labels=True)"
   ]
  },
  {
   "cell_type": "code",
   "execution_count": null,
   "metadata": {},
   "outputs": [],
   "source": [
    "# Check solver solve status and physical units consistency for model n\n",
    "assert results_n.solver.termination_condition == TerminationCondition.optimal\n",
    "assert_units_consistent(n)"
   ]
  },
  {
   "cell_type": "markdown",
   "metadata": {},
   "source": [
    "## Results Comparison and Visualization\n",
    "For the two flowsheets above, let's sum the total operating and capital costs of each scenario. We will display overall process economics results and compare the two flowsheets:"
   ]
  },
  {
   "cell_type": "code",
   "execution_count": null,
   "metadata": {},
   "outputs": [],
   "source": [
    "# imports and data gathering\n",
    "from matplotlib import pyplot as plt\n",
    "plt.style.use('dark_background')  # if using browser in dark mode, uncomment this line\n",
    "import numpy as np\n",
    "import pandas as pd\n",
    "\n",
    "# automatically get units that we costed - this will exclude C101 for both flowsheets\n",
    "\n",
    "two_flash_unitlist = [getattr(m.fs, unit) for unit in dir(m.fs)\n",
    "                      if hasattr(getattr(m.fs, unit), \"costing\")]\n",
    "distillation_unitlist = [getattr(n.fs, unit) for unit in dir(n.fs)\n",
    "                       if hasattr(getattr(n.fs, unit), \"costing\")]"
   ]
  },
  {
   "cell_type": "code",
   "execution_count": null,
   "metadata": {},
   "outputs": [],
   "source": [
    "# compare equipment purchase costs (actual capital costs)\n",
    "\n",
    "two_flash_capcost = {unit.name: value(unit.costing.capital_cost/1e3)\n",
    "                     for unit in two_flash_unitlist}\n",
    "distillation_capcost = {unit.name: value(unit.costing.capital_cost/1e3)\n",
    "                      for unit in distillation_unitlist}\n",
    "\n",
    "two_flash_capdf = pd.DataFrame(list(two_flash_capcost.items()),\n",
    "                            columns=['Equipment','Two Flash']).set_index('Equipment')\n",
    "distillation_capdf = pd.DataFrame(list(distillation_capcost.items()),\n",
    "                             columns=['Equipment','Distillation']).set_index('Equipment')\n",
    "\n",
    "# add dataframes, merge same indices, replace NaNs with 0s, and transpose\n",
    "capcosts = two_flash_capdf.add(distillation_capdf, fill_value=0).fillna(0).transpose()\n",
    "\n",
    "# sort according to an easier order to view\n",
    "capcosts = capcosts[['fs.H101', 'fs.R101', 'fs.F101', 'fs.F102', 'fs.D101', 'fs.H102']]\n",
    "\n",
    "print('Costs in $1000:')\n",
    "display(capcosts)  # view dataframe before plotting\n",
    "\n",
    "capplot = capcosts.plot(kind='bar', stacked=True, title='HDA Capital Costs', ylabel='$1000')"
   ]
  },
  {
   "cell_type": "code",
   "execution_count": null,
   "metadata": {},
   "outputs": [],
   "source": [
    "# compare operating costs (per year)\n",
    "\n",
    "two_flash_opcost = {'cooling': value(3600 * 24 * 365 * m.fs.cooling_cost/1e3),\n",
    "                    'heating': value(3600 * 24 * 365 * m.fs.heating_cost/1e3)}\n",
    "distillation_opcost = {'cooling': value(3600 * 24 * 365 * n.fs.cooling_cost/1e3),\n",
    "                     'heating': value(3600 * 24 * 365 * n.fs.heating_cost/1e3)}\n",
    "\n",
    "two_flash_opdf = pd.DataFrame(list(two_flash_opcost.items()),\n",
    "                            columns=['Utilities','Two Flash']).set_index('Utilities')\n",
    "distillation_opdf = pd.DataFrame(list(distillation_opcost.items()),\n",
    "                             columns=['Utilities','Distillation']).set_index('Utilities')\n",
    "\n",
    "# add dataframes, merge same indices, replace NaNs with 0s, and transpose\n",
    "opcosts = two_flash_opdf.add(distillation_opdf, fill_value=0).fillna(0).transpose()\n",
    "\n",
    "print('Costs in $1000:')\n",
    "display(opcosts)  # view dataframe before plotting\n",
    "\n",
    "opplot = opcosts.plot(kind='bar', stacked=True, title='HDA Operating Costs', ylabel='$1000/year')"
   ]
  },
  {
   "cell_type": "code",
   "execution_count": null,
   "metadata": {},
   "outputs": [],
   "source": [
    "# compare total costs (capital costs and operating costs)\n",
    "\n",
    "two_flash_totcost = {'capital': sum(two_flash_capcost[idx] for idx in two_flash_capcost),\n",
    "                    'operating': value(m.fs.operating_cost)/1e3}\n",
    "distillation_totcost = {'capital': sum(distillation_capcost[idx] for idx in distillation_capcost),\n",
    "                     'operating': value(n.fs.operating_cost)/1e3}\n",
    "\n",
    "two_flash_totdf = pd.DataFrame(list(two_flash_totcost.items()),\n",
    "                            columns=['Costs','Two Flash']).set_index('Costs')\n",
    "distillation_totdf = pd.DataFrame(list(distillation_totcost.items()),\n",
    "                             columns=['Costs','Distillation']).set_index('Costs')\n",
    "\n",
    "# add dataframes, merge same indices, replace NaNs with 0s, and transpose\n",
    "totcosts = two_flash_totdf.add(distillation_totdf, fill_value=0).fillna(0).transpose()\n",
    "\n",
    "print('Costs in $1000:')\n",
    "display(totcosts)  # view dataframe before plotting\n",
    "\n",
    "totplot = totcosts.plot(kind='bar', stacked=True, title='HDA Total Plant Cost (TPC)', ylabel='$1000/year')"
   ]
  },
  {
   "cell_type": "markdown",
   "metadata": {},
   "source": [
    "Finally, let's compare the total cost on a production basis. This will account for the greater efficiency provided by the distillation column relative to the less-expensive second flash unit:"
   ]
  },
  {
   "cell_type": "code",
   "execution_count": null,
   "metadata": {},
   "outputs": [],
   "source": [
    "two_flash_cost = value(1e3*sum(two_flash_totcost[idx] for idx in two_flash_totcost))\n",
    "two_flash_prod = value(m.fs.F102.vap_outlet.flow_mol_phase_comp[0, \"Vap\", \"benzene\"] * 365 * 24 * 3600)\n",
    "distillation_cost = value(1e3*sum(distillation_totcost[idx] for idx in distillation_totcost))\n",
    "distillation_prod = value(n.fs.D101.condenser.distillate.flow_mol[0] * 365 * 24 * 3600)\n",
    "\n",
    "print(f\"Two flash case over one year: ${two_flash_cost/1e3:0.0f}K / {two_flash_prod/1e3:0.0f} kmol benzene = ${two_flash_cost/(two_flash_prod/1e3):0.2f} per kmol benzene produced\")\n",
    "print(f\"Distillation case over one year: ${distillation_cost/1e3:0.0f}K / {distillation_prod/1e3:0.0f} kmol benzene = ${distillation_cost/(distillation_prod/1e3):0.2f} per kmol benzene produced\")"
   ]
  },
  {
   "cell_type": "markdown",
   "metadata": {},
   "source": [
    "# Summary\n",
    "In this example, IDAES Generic Costing Framework methods were applied to two HDA flowsheets for capital cost estimation. The costing blocks calls showcased multiple methods to define unit costing, demonstrating the flexibility and best practice of the costing framework. In the basic examples, the two-flash HDA did not include costing and the distillation HDA estimated a reactor capital cost comprising 3.3% of the total plant cost (TPC). With more rigorous costing, IDAES obtained total capital costs of 8.5% TPC (two flash HDA) and 9.6% (distillation HDA) and better modeled the impact of equipment cost on process economics. As printed above, the IDAES Generic Costing Framework confirmed that replacing the second flash drum with a distillation column results in increased equipment costs, increased production and decreased cost per unit product."
   ]
  },
  {
   "cell_type": "code",
   "execution_count": null,
   "metadata": {},
   "outputs": [],
   "source": []
  }
 ],
 "metadata": {
  "celltoolbar": "Tags",
  "kernelspec": {
   "display_name": "Python 3 (ipykernel)",
   "language": "python",
   "name": "python3"
  },
  "language_info": {
   "codemirror_mode": {
    "name": "ipython",
    "version": 3
   },
   "file_extension": ".py",
   "mimetype": "text/x-python",
   "name": "python",
   "nbconvert_exporter": "python",
   "pygments_lexer": "ipython3",
   "version": "3.8.12"
  }
 },
 "nbformat": 4,
 "nbformat_minor": 4
}
