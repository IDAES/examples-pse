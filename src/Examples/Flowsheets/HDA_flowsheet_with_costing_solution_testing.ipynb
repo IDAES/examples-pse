{
 "cells": [
  {
   "cell_type": "markdown",
   "metadata": {},
   "source": [
    "\n",
    "# HDA Flowsheet Costing\n",
    "\n",
    "\n",
    "## Note\n",
    "\n",
    "This tutorial will demonstrate adding rigorous process costing to the two HDA examples, the basic [HDA with Flash](../../Tutorials/Basics/HDA_flowsheet_solution_testing.ipynb) and a comparison with the [HDA with Distillation](HDA_flowsheet_with_distillation_solution_testing.ipynb).\n",
    "\n",
    "\n",
    "## Learning outcomes\n",
    "\n",
    "\n",
    "- Import external pre-built steady-state flowsheets using the IDAES unit model library\n",
    "- Define and add costing blocks using the IDAES Generic Costing Framework\n",
    "- Fomulate and solve a process economics optimization problem\n",
    "    - Defining an objective function\n",
    "    - Setting variable bounds\n",
    "    - Adding additional constraints \n",
    "\n",
    "\n",
    "## Problem Statement\n",
    "\n",
    "Hydrodealkylation is a chemical reaction that often involves reacting\n",
    "an aromatic hydrocarbon in the presence of hydrogen gas to form a\n",
    "simpler aromatic hydrocarbon devoid of functional groups. In this\n",
    "example, toluene will be reacted with hydrogen gas at high temperatures\n",
    " to form benzene via the following reaction:\n",
    "\n",
    "**C<sub>6</sub>H<sub>5</sub>CH<sub>3</sub> + H<sub>2</sub> → C<sub>6</sub>H<sub>6</sub> + CH<sub>4</sub>**\n",
    "\n",
    "\n",
    "This reaction is often accompanied by an equilibrium side reaction\n",
    "which forms diphenyl, which we will neglect for this example.\n",
    "\n",
    "This example is based on the 1967 AIChE Student Contest problem as\n",
    "present by Douglas, J.M., Chemical  Design of Chemical Processes, 1988,\n",
    "McGraw-Hill.\n",
    "\n",
    "Users may refer to the prior examples linked at the top of this notebook for detailed process descriptions of the two HDA configurations. As before, the properties required for this module are defined in\n",
    "\n",
    "- `hda_ideal_VLE.py`\n",
    "- `idaes.models.properties.activity_coeff_models.BTX_activity_coeff_VLE`\n",
    "- `hda_reaction_kinetic.py`\n",
    "\n",
    "Additionally, we will be importing externally-defined flowsheets for the two HDA configurations from\n",
    "\n",
    "- `hda_flowsheets.py`"
   ]
  },
  {
   "cell_type": "markdown",
   "metadata": {},
   "source": [
    "## Import and run HDA Flowsheets\n",
    "First, we will generate solved flowsheets for each HDA model. The external scripts build and set inputs for the flowsheets, initialize unit models and streams, and solve the flowsheets before returning the model objects. Note that the HDA flowsheets contain all unit models and stream connections, and no costing equations:"
   ]
  },
  {
   "cell_type": "code",
   "execution_count": 1,
   "metadata": {},
   "outputs": [],
   "source": [
    "# source file for external flowsheets\n",
    "from hda_flowsheets import hda_with_flash, hda_with_distillation"
   ]
  },
  {
   "cell_type": "code",
   "execution_count": 2,
   "metadata": {
    "scrolled": false
   },
   "outputs": [
    {
     "name": "stdout",
     "output_type": "stream",
     "text": [
      "Building flowsheet...\n",
      "\n",
      "Setting inputs...\n",
      "\n",
      "Initializing flowsheet...\n",
      "\n",
      "Limiting Wegstein tear to 5 iterations to obtain initial solution, if not converged IPOPT will pick up and continue.\n",
      "\n",
      "WARNING: Wegstein failed to converge in 5 iterations\n",
      "Solving flowsheet...\n",
      "\n",
      "Units problem with expression 1000.0*fs.M101.toluene_feed_state[0.0].enth_mol_phase_comp[Liq,benzene] - (0.216*(fs.M101.toluene_feed_state[0.0].temperature**3 - fs.thermo_params.temperature_ref**3) - 85.0*(fs.M101.toluene_feed_state[0.0].temperature**2 - fs.thermo_params.temperature_ref**2) + 129000.0*(fs.M101.toluene_feed_state[0.0].temperature - fs.thermo_params.temperature_ref))\n",
      "Error in units when checking fs.M101.toluene_feed_state[0.0].eq_enth_mol_phase_comp[Liq,benzene]\n",
      "Error in units when checking fs.M101.toluene_feed_state[0.0]\n",
      "Error in units when checking fs.M101\n",
      "Error in units when checking fs\n",
      "Error in units when checking unknown\n"
     ]
    },
    {
     "ename": "InconsistentUnitsError",
     "evalue": "Error in units found in expression: 0.216*(fs.M101.toluene_feed_state[0.0].temperature**3 - fs.thermo_params.temperature_ref**3) - 85.0*(fs.M101.toluene_feed_state[0.0].temperature**2 - fs.thermo_params.temperature_ref**2) + 129000.0*(fs.M101.toluene_feed_state[0.0].temperature - fs.thermo_params.temperature_ref): kelvin ** 3 not compatible with kelvin ** 2.",
     "output_type": "error",
     "traceback": [
      "\u001b[1;31m---------------------------------------------------------------------------\u001b[0m",
      "\u001b[1;31mInconsistentUnitsError\u001b[0m                    Traceback (most recent call last)",
      "\u001b[1;32m~\\AppData\\Local\\Temp\\ipykernel_70096\\767530184.py\u001b[0m in \u001b[0;36m<cell line: 2>\u001b[1;34m()\u001b[0m\n\u001b[0;32m      1\u001b[0m \u001b[1;31m# alias 'm' for hda model with second flash unit\u001b[0m\u001b[1;33m\u001b[0m\u001b[1;33m\u001b[0m\u001b[1;33m\u001b[0m\u001b[0m\n\u001b[1;32m----> 2\u001b[1;33m \u001b[0mm\u001b[0m \u001b[1;33m=\u001b[0m \u001b[0mhda_with_flash\u001b[0m\u001b[1;33m(\u001b[0m\u001b[0mtee\u001b[0m\u001b[1;33m=\u001b[0m\u001b[1;32mFalse\u001b[0m\u001b[1;33m)\u001b[0m\u001b[1;33m\u001b[0m\u001b[1;33m\u001b[0m\u001b[0m\n\u001b[0m",
      "\u001b[1;32m~\\GitHub\\examples-pse\\src\\Examples\\Flowsheets\\hda_flowsheets.py\u001b[0m in \u001b[0;36mhda_with_flash\u001b[1;34m(tee)\u001b[0m\n\u001b[0;32m    211\u001b[0m     \u001b[1;32mfrom\u001b[0m \u001b[0mpyomo\u001b[0m\u001b[1;33m.\u001b[0m\u001b[0menviron\u001b[0m \u001b[1;32mimport\u001b[0m \u001b[0mTerminationCondition\u001b[0m\u001b[1;33m\u001b[0m\u001b[1;33m\u001b[0m\u001b[0m\n\u001b[0;32m    212\u001b[0m     \u001b[1;32massert\u001b[0m \u001b[0mresults\u001b[0m\u001b[1;33m.\u001b[0m\u001b[0msolver\u001b[0m\u001b[1;33m.\u001b[0m\u001b[0mtermination_condition\u001b[0m \u001b[1;33m==\u001b[0m \u001b[0mTerminationCondition\u001b[0m\u001b[1;33m.\u001b[0m\u001b[0moptimal\u001b[0m\u001b[1;33m\u001b[0m\u001b[1;33m\u001b[0m\u001b[0m\n\u001b[1;32m--> 213\u001b[1;33m     \u001b[0massert_units_consistent\u001b[0m\u001b[1;33m(\u001b[0m\u001b[0mm\u001b[0m\u001b[1;33m)\u001b[0m\u001b[1;33m\u001b[0m\u001b[1;33m\u001b[0m\u001b[0m\n\u001b[0m\u001b[0;32m    214\u001b[0m \u001b[1;33m\u001b[0m\u001b[0m\n\u001b[0;32m    215\u001b[0m     \u001b[0mprint\u001b[0m\u001b[1;33m(\u001b[0m\u001b[1;34m'Complete.'\u001b[0m\u001b[1;33m)\u001b[0m\u001b[1;33m\u001b[0m\u001b[1;33m\u001b[0m\u001b[0m\n",
      "\u001b[1;32m~\\AppData\\Roaming\\Python\\Python38\\site-packages\\pyomo\\util\\check_units.py\u001b[0m in \u001b[0;36massert_units_consistent\u001b[1;34m(obj)\u001b[0m\n\u001b[0;32m    242\u001b[0m     \u001b[1;32melse\u001b[0m\u001b[1;33m:\u001b[0m\u001b[1;33m\u001b[0m\u001b[1;33m\u001b[0m\u001b[0m\n\u001b[0;32m    243\u001b[0m         \u001b[1;32mtry\u001b[0m\u001b[1;33m:\u001b[0m\u001b[1;33m\u001b[0m\u001b[1;33m\u001b[0m\u001b[0m\n\u001b[1;32m--> 244\u001b[1;33m             \u001b[0mhandler\u001b[0m\u001b[1;33m(\u001b[0m\u001b[0mobj\u001b[0m\u001b[1;33m)\u001b[0m\u001b[1;33m\u001b[0m\u001b[1;33m\u001b[0m\u001b[0m\n\u001b[0m\u001b[0;32m    245\u001b[0m         \u001b[1;32mexcept\u001b[0m \u001b[0mUnitsError\u001b[0m\u001b[1;33m:\u001b[0m\u001b[1;33m\u001b[0m\u001b[1;33m\u001b[0m\u001b[0m\n\u001b[0;32m    246\u001b[0m                 \u001b[0mprint\u001b[0m\u001b[1;33m(\u001b[0m\u001b[1;34m'Error in units when checking {}'\u001b[0m\u001b[1;33m.\u001b[0m\u001b[0mformat\u001b[0m\u001b[1;33m(\u001b[0m\u001b[0mobj\u001b[0m\u001b[1;33m)\u001b[0m\u001b[1;33m)\u001b[0m\u001b[1;33m\u001b[0m\u001b[1;33m\u001b[0m\u001b[0m\n",
      "\u001b[1;32m~\\AppData\\Roaming\\Python\\Python38\\site-packages\\pyomo\\util\\check_units.py\u001b[0m in \u001b[0;36m_assert_units_consistent_block\u001b[1;34m(obj)\u001b[0m\n\u001b[0;32m    163\u001b[0m     \u001b[1;31m# check all the component objects\u001b[0m\u001b[1;33m\u001b[0m\u001b[1;33m\u001b[0m\u001b[1;33m\u001b[0m\u001b[0m\n\u001b[0;32m    164\u001b[0m     \u001b[1;32mfor\u001b[0m \u001b[0mcomponent\u001b[0m \u001b[1;32min\u001b[0m \u001b[0mobj\u001b[0m\u001b[1;33m.\u001b[0m\u001b[0mcomponent_objects\u001b[0m\u001b[1;33m(\u001b[0m\u001b[0mdescend_into\u001b[0m\u001b[1;33m=\u001b[0m\u001b[1;32mFalse\u001b[0m\u001b[1;33m,\u001b[0m \u001b[0mactive\u001b[0m\u001b[1;33m=\u001b[0m\u001b[1;32mTrue\u001b[0m\u001b[1;33m)\u001b[0m\u001b[1;33m:\u001b[0m\u001b[1;33m\u001b[0m\u001b[1;33m\u001b[0m\u001b[0m\n\u001b[1;32m--> 165\u001b[1;33m         \u001b[0massert_units_consistent\u001b[0m\u001b[1;33m(\u001b[0m\u001b[0mcomponent\u001b[0m\u001b[1;33m)\u001b[0m\u001b[1;33m\u001b[0m\u001b[1;33m\u001b[0m\u001b[0m\n\u001b[0m\u001b[0;32m    166\u001b[0m \u001b[1;33m\u001b[0m\u001b[0m\n\u001b[0;32m    167\u001b[0m _component_data_handlers = {\n",
      "\u001b[1;32m~\\AppData\\Roaming\\Python\\Python38\\site-packages\\pyomo\\util\\check_units.py\u001b[0m in \u001b[0;36massert_units_consistent\u001b[1;34m(obj)\u001b[0m\n\u001b[0;32m    242\u001b[0m     \u001b[1;32melse\u001b[0m\u001b[1;33m:\u001b[0m\u001b[1;33m\u001b[0m\u001b[1;33m\u001b[0m\u001b[0m\n\u001b[0;32m    243\u001b[0m         \u001b[1;32mtry\u001b[0m\u001b[1;33m:\u001b[0m\u001b[1;33m\u001b[0m\u001b[1;33m\u001b[0m\u001b[0m\n\u001b[1;32m--> 244\u001b[1;33m             \u001b[0mhandler\u001b[0m\u001b[1;33m(\u001b[0m\u001b[0mobj\u001b[0m\u001b[1;33m)\u001b[0m\u001b[1;33m\u001b[0m\u001b[1;33m\u001b[0m\u001b[0m\n\u001b[0m\u001b[0;32m    245\u001b[0m         \u001b[1;32mexcept\u001b[0m \u001b[0mUnitsError\u001b[0m\u001b[1;33m:\u001b[0m\u001b[1;33m\u001b[0m\u001b[1;33m\u001b[0m\u001b[0m\n\u001b[0;32m    246\u001b[0m                 \u001b[0mprint\u001b[0m\u001b[1;33m(\u001b[0m\u001b[1;34m'Error in units when checking {}'\u001b[0m\u001b[1;33m.\u001b[0m\u001b[0mformat\u001b[0m\u001b[1;33m(\u001b[0m\u001b[0mobj\u001b[0m\u001b[1;33m)\u001b[0m\u001b[1;33m)\u001b[0m\u001b[1;33m\u001b[0m\u001b[1;33m\u001b[0m\u001b[0m\n",
      "\u001b[1;32m~\\AppData\\Roaming\\Python\\Python38\\site-packages\\pyomo\\util\\check_units.py\u001b[0m in \u001b[0;36m_assert_units_consistent_block\u001b[1;34m(obj)\u001b[0m\n\u001b[0;32m    163\u001b[0m     \u001b[1;31m# check all the component objects\u001b[0m\u001b[1;33m\u001b[0m\u001b[1;33m\u001b[0m\u001b[1;33m\u001b[0m\u001b[0m\n\u001b[0;32m    164\u001b[0m     \u001b[1;32mfor\u001b[0m \u001b[0mcomponent\u001b[0m \u001b[1;32min\u001b[0m \u001b[0mobj\u001b[0m\u001b[1;33m.\u001b[0m\u001b[0mcomponent_objects\u001b[0m\u001b[1;33m(\u001b[0m\u001b[0mdescend_into\u001b[0m\u001b[1;33m=\u001b[0m\u001b[1;32mFalse\u001b[0m\u001b[1;33m,\u001b[0m \u001b[0mactive\u001b[0m\u001b[1;33m=\u001b[0m\u001b[1;32mTrue\u001b[0m\u001b[1;33m)\u001b[0m\u001b[1;33m:\u001b[0m\u001b[1;33m\u001b[0m\u001b[1;33m\u001b[0m\u001b[0m\n\u001b[1;32m--> 165\u001b[1;33m         \u001b[0massert_units_consistent\u001b[0m\u001b[1;33m(\u001b[0m\u001b[0mcomponent\u001b[0m\u001b[1;33m)\u001b[0m\u001b[1;33m\u001b[0m\u001b[1;33m\u001b[0m\u001b[0m\n\u001b[0m\u001b[0;32m    166\u001b[0m \u001b[1;33m\u001b[0m\u001b[0m\n\u001b[0;32m    167\u001b[0m _component_data_handlers = {\n",
      "\u001b[1;32m~\\AppData\\Roaming\\Python\\Python38\\site-packages\\pyomo\\util\\check_units.py\u001b[0m in \u001b[0;36massert_units_consistent\u001b[1;34m(obj)\u001b[0m\n\u001b[0;32m    242\u001b[0m     \u001b[1;32melse\u001b[0m\u001b[1;33m:\u001b[0m\u001b[1;33m\u001b[0m\u001b[1;33m\u001b[0m\u001b[0m\n\u001b[0;32m    243\u001b[0m         \u001b[1;32mtry\u001b[0m\u001b[1;33m:\u001b[0m\u001b[1;33m\u001b[0m\u001b[1;33m\u001b[0m\u001b[0m\n\u001b[1;32m--> 244\u001b[1;33m             \u001b[0mhandler\u001b[0m\u001b[1;33m(\u001b[0m\u001b[0mobj\u001b[0m\u001b[1;33m)\u001b[0m\u001b[1;33m\u001b[0m\u001b[1;33m\u001b[0m\u001b[0m\n\u001b[0m\u001b[0;32m    245\u001b[0m         \u001b[1;32mexcept\u001b[0m \u001b[0mUnitsError\u001b[0m\u001b[1;33m:\u001b[0m\u001b[1;33m\u001b[0m\u001b[1;33m\u001b[0m\u001b[0m\n\u001b[0;32m    246\u001b[0m                 \u001b[0mprint\u001b[0m\u001b[1;33m(\u001b[0m\u001b[1;34m'Error in units when checking {}'\u001b[0m\u001b[1;33m.\u001b[0m\u001b[0mformat\u001b[0m\u001b[1;33m(\u001b[0m\u001b[0mobj\u001b[0m\u001b[1;33m)\u001b[0m\u001b[1;33m)\u001b[0m\u001b[1;33m\u001b[0m\u001b[1;33m\u001b[0m\u001b[0m\n",
      "\u001b[1;32m~\\AppData\\Roaming\\Python\\Python38\\site-packages\\pyomo\\util\\check_units.py\u001b[0m in \u001b[0;36m_assert_units_consistent_block\u001b[1;34m(obj)\u001b[0m\n\u001b[0;32m    163\u001b[0m     \u001b[1;31m# check all the component objects\u001b[0m\u001b[1;33m\u001b[0m\u001b[1;33m\u001b[0m\u001b[1;33m\u001b[0m\u001b[0m\n\u001b[0;32m    164\u001b[0m     \u001b[1;32mfor\u001b[0m \u001b[0mcomponent\u001b[0m \u001b[1;32min\u001b[0m \u001b[0mobj\u001b[0m\u001b[1;33m.\u001b[0m\u001b[0mcomponent_objects\u001b[0m\u001b[1;33m(\u001b[0m\u001b[0mdescend_into\u001b[0m\u001b[1;33m=\u001b[0m\u001b[1;32mFalse\u001b[0m\u001b[1;33m,\u001b[0m \u001b[0mactive\u001b[0m\u001b[1;33m=\u001b[0m\u001b[1;32mTrue\u001b[0m\u001b[1;33m)\u001b[0m\u001b[1;33m:\u001b[0m\u001b[1;33m\u001b[0m\u001b[1;33m\u001b[0m\u001b[0m\n\u001b[1;32m--> 165\u001b[1;33m         \u001b[0massert_units_consistent\u001b[0m\u001b[1;33m(\u001b[0m\u001b[0mcomponent\u001b[0m\u001b[1;33m)\u001b[0m\u001b[1;33m\u001b[0m\u001b[1;33m\u001b[0m\u001b[0m\n\u001b[0m\u001b[0;32m    166\u001b[0m \u001b[1;33m\u001b[0m\u001b[0m\n\u001b[0;32m    167\u001b[0m _component_data_handlers = {\n",
      "\u001b[1;32m~\\AppData\\Roaming\\Python\\Python38\\site-packages\\pyomo\\util\\check_units.py\u001b[0m in \u001b[0;36massert_units_consistent\u001b[1;34m(obj)\u001b[0m\n\u001b[0;32m    236\u001b[0m         \u001b[1;32mfor\u001b[0m \u001b[0mcdata\u001b[0m \u001b[1;32min\u001b[0m \u001b[0mobj\u001b[0m\u001b[1;33m.\u001b[0m\u001b[0mvalues\u001b[0m\u001b[1;33m(\u001b[0m\u001b[1;33m)\u001b[0m\u001b[1;33m:\u001b[0m\u001b[1;33m\u001b[0m\u001b[1;33m\u001b[0m\u001b[0m\n\u001b[0;32m    237\u001b[0m             \u001b[1;32mtry\u001b[0m\u001b[1;33m:\u001b[0m\u001b[1;33m\u001b[0m\u001b[1;33m\u001b[0m\u001b[0m\n\u001b[1;32m--> 238\u001b[1;33m                 \u001b[0mhandler\u001b[0m\u001b[1;33m(\u001b[0m\u001b[0mcdata\u001b[0m\u001b[1;33m)\u001b[0m\u001b[1;33m\u001b[0m\u001b[1;33m\u001b[0m\u001b[0m\n\u001b[0m\u001b[0;32m    239\u001b[0m             \u001b[1;32mexcept\u001b[0m \u001b[0mUnitsError\u001b[0m\u001b[1;33m:\u001b[0m\u001b[1;33m\u001b[0m\u001b[1;33m\u001b[0m\u001b[0m\n\u001b[0;32m    240\u001b[0m                 \u001b[0mprint\u001b[0m\u001b[1;33m(\u001b[0m\u001b[1;34m'Error in units when checking {}'\u001b[0m\u001b[1;33m.\u001b[0m\u001b[0mformat\u001b[0m\u001b[1;33m(\u001b[0m\u001b[0mcdata\u001b[0m\u001b[1;33m)\u001b[0m\u001b[1;33m)\u001b[0m\u001b[1;33m\u001b[0m\u001b[1;33m\u001b[0m\u001b[0m\n",
      "\u001b[1;32m~\\AppData\\Roaming\\Python\\Python38\\site-packages\\pyomo\\util\\check_units.py\u001b[0m in \u001b[0;36m_assert_units_consistent_block\u001b[1;34m(obj)\u001b[0m\n\u001b[0;32m    163\u001b[0m     \u001b[1;31m# check all the component objects\u001b[0m\u001b[1;33m\u001b[0m\u001b[1;33m\u001b[0m\u001b[1;33m\u001b[0m\u001b[0m\n\u001b[0;32m    164\u001b[0m     \u001b[1;32mfor\u001b[0m \u001b[0mcomponent\u001b[0m \u001b[1;32min\u001b[0m \u001b[0mobj\u001b[0m\u001b[1;33m.\u001b[0m\u001b[0mcomponent_objects\u001b[0m\u001b[1;33m(\u001b[0m\u001b[0mdescend_into\u001b[0m\u001b[1;33m=\u001b[0m\u001b[1;32mFalse\u001b[0m\u001b[1;33m,\u001b[0m \u001b[0mactive\u001b[0m\u001b[1;33m=\u001b[0m\u001b[1;32mTrue\u001b[0m\u001b[1;33m)\u001b[0m\u001b[1;33m:\u001b[0m\u001b[1;33m\u001b[0m\u001b[1;33m\u001b[0m\u001b[0m\n\u001b[1;32m--> 165\u001b[1;33m         \u001b[0massert_units_consistent\u001b[0m\u001b[1;33m(\u001b[0m\u001b[0mcomponent\u001b[0m\u001b[1;33m)\u001b[0m\u001b[1;33m\u001b[0m\u001b[1;33m\u001b[0m\u001b[0m\n\u001b[0m\u001b[0;32m    166\u001b[0m \u001b[1;33m\u001b[0m\u001b[0m\n\u001b[0;32m    167\u001b[0m _component_data_handlers = {\n",
      "\u001b[1;32m~\\AppData\\Roaming\\Python\\Python38\\site-packages\\pyomo\\util\\check_units.py\u001b[0m in \u001b[0;36massert_units_consistent\u001b[1;34m(obj)\u001b[0m\n\u001b[0;32m    236\u001b[0m         \u001b[1;32mfor\u001b[0m \u001b[0mcdata\u001b[0m \u001b[1;32min\u001b[0m \u001b[0mobj\u001b[0m\u001b[1;33m.\u001b[0m\u001b[0mvalues\u001b[0m\u001b[1;33m(\u001b[0m\u001b[1;33m)\u001b[0m\u001b[1;33m:\u001b[0m\u001b[1;33m\u001b[0m\u001b[1;33m\u001b[0m\u001b[0m\n\u001b[0;32m    237\u001b[0m             \u001b[1;32mtry\u001b[0m\u001b[1;33m:\u001b[0m\u001b[1;33m\u001b[0m\u001b[1;33m\u001b[0m\u001b[0m\n\u001b[1;32m--> 238\u001b[1;33m                 \u001b[0mhandler\u001b[0m\u001b[1;33m(\u001b[0m\u001b[0mcdata\u001b[0m\u001b[1;33m)\u001b[0m\u001b[1;33m\u001b[0m\u001b[1;33m\u001b[0m\u001b[0m\n\u001b[0m\u001b[0;32m    239\u001b[0m             \u001b[1;32mexcept\u001b[0m \u001b[0mUnitsError\u001b[0m\u001b[1;33m:\u001b[0m\u001b[1;33m\u001b[0m\u001b[1;33m\u001b[0m\u001b[0m\n\u001b[0;32m    240\u001b[0m                 \u001b[0mprint\u001b[0m\u001b[1;33m(\u001b[0m\u001b[1;34m'Error in units when checking {}'\u001b[0m\u001b[1;33m.\u001b[0m\u001b[0mformat\u001b[0m\u001b[1;33m(\u001b[0m\u001b[0mcdata\u001b[0m\u001b[1;33m)\u001b[0m\u001b[1;33m)\u001b[0m\u001b[1;33m\u001b[0m\u001b[1;33m\u001b[0m\u001b[0m\n",
      "\u001b[1;32m~\\AppData\\Roaming\\Python\\Python38\\site-packages\\pyomo\\util\\check_units.py\u001b[0m in \u001b[0;36m_assert_units_consistent_constraint_data\u001b[1;34m(condata)\u001b[0m\n\u001b[0;32m     96\u001b[0m \u001b[1;33m\u001b[0m\u001b[0m\n\u001b[0;32m     97\u001b[0m     \u001b[1;32mif\u001b[0m \u001b[0mlen\u001b[0m\u001b[1;33m(\u001b[0m\u001b[0margs\u001b[0m\u001b[1;33m)\u001b[0m \u001b[1;33m==\u001b[0m \u001b[1;36m1\u001b[0m\u001b[1;33m:\u001b[0m\u001b[1;33m\u001b[0m\u001b[1;33m\u001b[0m\u001b[0m\n\u001b[1;32m---> 98\u001b[1;33m         \u001b[0massert_units_consistent\u001b[0m\u001b[1;33m(\u001b[0m\u001b[1;33m*\u001b[0m\u001b[0margs\u001b[0m\u001b[1;33m)\u001b[0m\u001b[1;33m\u001b[0m\u001b[1;33m\u001b[0m\u001b[0m\n\u001b[0m\u001b[0;32m     99\u001b[0m     \u001b[1;32melse\u001b[0m\u001b[1;33m:\u001b[0m\u001b[1;33m\u001b[0m\u001b[1;33m\u001b[0m\u001b[0m\n\u001b[0;32m    100\u001b[0m         \u001b[0massert_units_equivalent\u001b[0m\u001b[1;33m(\u001b[0m\u001b[1;33m*\u001b[0m\u001b[0margs\u001b[0m\u001b[1;33m)\u001b[0m\u001b[1;33m\u001b[0m\u001b[1;33m\u001b[0m\u001b[0m\n",
      "\u001b[1;32m~\\AppData\\Roaming\\Python\\Python38\\site-packages\\pyomo\\util\\check_units.py\u001b[0m in \u001b[0;36massert_units_consistent\u001b[1;34m(obj)\u001b[0m\n\u001b[0;32m    217\u001b[0m     \u001b[1;32melif\u001b[0m \u001b[0mobj\u001b[0m\u001b[1;33m.\u001b[0m\u001b[0mis_expression_type\u001b[0m\u001b[1;33m(\u001b[0m\u001b[1;33m)\u001b[0m \u001b[1;32mor\u001b[0m \u001b[0mobjtype\u001b[0m \u001b[1;32mis\u001b[0m \u001b[0mIndexTemplate\u001b[0m\u001b[1;33m:\u001b[0m\u001b[1;33m\u001b[0m\u001b[1;33m\u001b[0m\u001b[0m\n\u001b[0;32m    218\u001b[0m         \u001b[1;32mtry\u001b[0m\u001b[1;33m:\u001b[0m\u001b[1;33m\u001b[0m\u001b[1;33m\u001b[0m\u001b[0m\n\u001b[1;32m--> 219\u001b[1;33m             \u001b[0m_assert_units_consistent_expression\u001b[0m\u001b[1;33m(\u001b[0m\u001b[0mobj\u001b[0m\u001b[1;33m)\u001b[0m\u001b[1;33m\u001b[0m\u001b[1;33m\u001b[0m\u001b[0m\n\u001b[0m\u001b[0;32m    220\u001b[0m         \u001b[1;32mexcept\u001b[0m \u001b[0mUnitsError\u001b[0m\u001b[1;33m:\u001b[0m\u001b[1;33m\u001b[0m\u001b[1;33m\u001b[0m\u001b[0m\n\u001b[0;32m    221\u001b[0m             \u001b[0mprint\u001b[0m\u001b[1;33m(\u001b[0m\u001b[1;34m'Units problem with expression {}'\u001b[0m\u001b[1;33m.\u001b[0m\u001b[0mformat\u001b[0m\u001b[1;33m(\u001b[0m\u001b[0mobj\u001b[0m\u001b[1;33m)\u001b[0m\u001b[1;33m)\u001b[0m\u001b[1;33m\u001b[0m\u001b[1;33m\u001b[0m\u001b[0m\n",
      "\u001b[1;32m~\\AppData\\Roaming\\Python\\Python38\\site-packages\\pyomo\\util\\check_units.py\u001b[0m in \u001b[0;36m_assert_units_consistent_expression\u001b[1;34m(expr)\u001b[0m\n\u001b[0;32m    137\u001b[0m     \u001b[1;31m# this will raise an exception if the units are not consistent\u001b[0m\u001b[1;33m\u001b[0m\u001b[1;33m\u001b[0m\u001b[1;33m\u001b[0m\u001b[0m\n\u001b[0;32m    138\u001b[0m     \u001b[1;31m# in the expression\u001b[0m\u001b[1;33m\u001b[0m\u001b[1;33m\u001b[0m\u001b[1;33m\u001b[0m\u001b[0m\n\u001b[1;32m--> 139\u001b[1;33m     \u001b[0mpint_unit\u001b[0m \u001b[1;33m=\u001b[0m \u001b[0munits\u001b[0m\u001b[1;33m.\u001b[0m\u001b[0m_get_pint_units\u001b[0m\u001b[1;33m(\u001b[0m\u001b[0mexpr\u001b[0m\u001b[1;33m)\u001b[0m\u001b[1;33m\u001b[0m\u001b[1;33m\u001b[0m\u001b[0m\n\u001b[0m\u001b[0;32m    140\u001b[0m     \u001b[1;31m# pyomo_unit = units.get_units(expr)\u001b[0m\u001b[1;33m\u001b[0m\u001b[1;33m\u001b[0m\u001b[1;33m\u001b[0m\u001b[0m\n\u001b[0;32m    141\u001b[0m \u001b[1;33m\u001b[0m\u001b[0m\n",
      "\u001b[1;32m~\\AppData\\Roaming\\Python\\Python38\\site-packages\\pyomo\\core\\base\\units_container.py\u001b[0m in \u001b[0;36m_get_pint_units\u001b[1;34m(self, expr)\u001b[0m\n\u001b[0;32m   1127\u001b[0m             \u001b[1;32mreturn\u001b[0m \u001b[0mself\u001b[0m\u001b[1;33m.\u001b[0m\u001b[0m_pint_dimensionless\u001b[0m\u001b[1;33m\u001b[0m\u001b[1;33m\u001b[0m\u001b[0m\n\u001b[0;32m   1128\u001b[0m \u001b[1;33m\u001b[0m\u001b[0m\n\u001b[1;32m-> 1129\u001b[1;33m         \u001b[0mpint_units\u001b[0m \u001b[1;33m=\u001b[0m \u001b[0mPintUnitExtractionVisitor\u001b[0m\u001b[1;33m(\u001b[0m\u001b[0mself\u001b[0m\u001b[1;33m)\u001b[0m\u001b[1;33m.\u001b[0m\u001b[0mwalk_expression\u001b[0m\u001b[1;33m(\u001b[0m\u001b[0mexpr\u001b[0m\u001b[1;33m=\u001b[0m\u001b[0mexpr\u001b[0m\u001b[1;33m)\u001b[0m\u001b[1;33m\u001b[0m\u001b[1;33m\u001b[0m\u001b[0m\n\u001b[0m\u001b[0;32m   1130\u001b[0m         \u001b[1;32mif\u001b[0m \u001b[0mhasattr\u001b[0m\u001b[1;33m(\u001b[0m\u001b[0mpint_units\u001b[0m\u001b[1;33m,\u001b[0m \u001b[1;34m'units'\u001b[0m\u001b[1;33m)\u001b[0m\u001b[1;33m:\u001b[0m\u001b[1;33m\u001b[0m\u001b[1;33m\u001b[0m\u001b[0m\n\u001b[0;32m   1131\u001b[0m             \u001b[1;31m# likely, we got a quantity object and not a units object\u001b[0m\u001b[1;33m\u001b[0m\u001b[1;33m\u001b[0m\u001b[1;33m\u001b[0m\u001b[0m\n",
      "\u001b[1;32m~\\AppData\\Roaming\\Python\\Python38\\site-packages\\pyomo\\core\\expr\\visitor.py\u001b[0m in \u001b[0;36mwalk_expression\u001b[1;34m(self, expr)\u001b[0m\n\u001b[0;32m    311\u001b[0m                         \u001b[0mptr\u001b[0m\u001b[1;33m[\u001b[0m\u001b[1;36m2\u001b[0m\u001b[1;33m]\u001b[0m\u001b[1;33m.\u001b[0m\u001b[0m__exit__\u001b[0m\u001b[1;33m(\u001b[0m\u001b[1;32mNone\u001b[0m\u001b[1;33m,\u001b[0m \u001b[1;32mNone\u001b[0m\u001b[1;33m,\u001b[0m \u001b[1;32mNone\u001b[0m\u001b[1;33m)\u001b[0m\u001b[1;33m\u001b[0m\u001b[1;33m\u001b[0m\u001b[0m\n\u001b[0;32m    312\u001b[0m                     \u001b[1;32mif\u001b[0m \u001b[0mself\u001b[0m\u001b[1;33m.\u001b[0m\u001b[0mexitNode\u001b[0m \u001b[1;32mis\u001b[0m \u001b[1;32mnot\u001b[0m \u001b[1;32mNone\u001b[0m\u001b[1;33m:\u001b[0m\u001b[1;33m\u001b[0m\u001b[1;33m\u001b[0m\u001b[0m\n\u001b[1;32m--> 313\u001b[1;33m                         \u001b[0mnode_result\u001b[0m \u001b[1;33m=\u001b[0m \u001b[0mself\u001b[0m\u001b[1;33m.\u001b[0m\u001b[0mexitNode\u001b[0m\u001b[1;33m(\u001b[0m\u001b[0mnode\u001b[0m\u001b[1;33m,\u001b[0m \u001b[0mdata\u001b[0m\u001b[1;33m)\u001b[0m\u001b[1;33m\u001b[0m\u001b[1;33m\u001b[0m\u001b[0m\n\u001b[0m\u001b[0;32m    314\u001b[0m                     \u001b[1;32melse\u001b[0m\u001b[1;33m:\u001b[0m\u001b[1;33m\u001b[0m\u001b[1;33m\u001b[0m\u001b[0m\n\u001b[0;32m    315\u001b[0m                         \u001b[0mnode_result\u001b[0m \u001b[1;33m=\u001b[0m \u001b[0mdata\u001b[0m\u001b[1;33m\u001b[0m\u001b[1;33m\u001b[0m\u001b[0m\n",
      "\u001b[1;32m~\\AppData\\Roaming\\Python\\Python38\\site-packages\\pyomo\\core\\base\\units_container.py\u001b[0m in \u001b[0;36mexitNode\u001b[1;34m(self, node, data)\u001b[0m\n\u001b[0;32m    855\u001b[0m         \u001b[0mnode_func\u001b[0m \u001b[1;33m=\u001b[0m \u001b[0mself\u001b[0m\u001b[1;33m.\u001b[0m\u001b[0mnode_type_method_map\u001b[0m\u001b[1;33m.\u001b[0m\u001b[0mget\u001b[0m\u001b[1;33m(\u001b[0m\u001b[0mnodetype\u001b[0m\u001b[1;33m,\u001b[0m \u001b[1;32mNone\u001b[0m\u001b[1;33m)\u001b[0m\u001b[1;33m\u001b[0m\u001b[1;33m\u001b[0m\u001b[0m\n\u001b[0;32m    856\u001b[0m         \u001b[1;32mif\u001b[0m \u001b[0mnode_func\u001b[0m \u001b[1;32mis\u001b[0m \u001b[1;32mnot\u001b[0m \u001b[1;32mNone\u001b[0m\u001b[1;33m:\u001b[0m\u001b[1;33m\u001b[0m\u001b[1;33m\u001b[0m\u001b[0m\n\u001b[1;32m--> 857\u001b[1;33m             \u001b[1;32mreturn\u001b[0m \u001b[0mnode_func\u001b[0m\u001b[1;33m(\u001b[0m\u001b[0mself\u001b[0m\u001b[1;33m,\u001b[0m \u001b[0mnode\u001b[0m\u001b[1;33m,\u001b[0m \u001b[0mdata\u001b[0m\u001b[1;33m)\u001b[0m\u001b[1;33m\u001b[0m\u001b[1;33m\u001b[0m\u001b[0m\n\u001b[0m\u001b[0;32m    858\u001b[0m \u001b[1;33m\u001b[0m\u001b[0m\n\u001b[0;32m    859\u001b[0m         \u001b[1;32melif\u001b[0m \u001b[1;32mnot\u001b[0m \u001b[0mnode\u001b[0m\u001b[1;33m.\u001b[0m\u001b[0mis_expression_type\u001b[0m\u001b[1;33m(\u001b[0m\u001b[1;33m)\u001b[0m\u001b[1;33m:\u001b[0m\u001b[1;33m\u001b[0m\u001b[1;33m\u001b[0m\u001b[0m\n",
      "\u001b[1;32m~\\AppData\\Roaming\\Python\\Python38\\site-packages\\pyomo\\core\\base\\units_container.py\u001b[0m in \u001b[0;36m_get_unit_for_equivalent_children\u001b[1;34m(self, node, child_units)\u001b[0m\n\u001b[0;32m    453\u001b[0m         \u001b[1;32mfor\u001b[0m \u001b[0mpint_unit_i\u001b[0m \u001b[1;32min\u001b[0m \u001b[0mchild_units\u001b[0m\u001b[1;33m:\u001b[0m\u001b[1;33m\u001b[0m\u001b[1;33m\u001b[0m\u001b[0m\n\u001b[0;32m    454\u001b[0m             \u001b[1;32mif\u001b[0m \u001b[1;32mnot\u001b[0m \u001b[0mself\u001b[0m\u001b[1;33m.\u001b[0m\u001b[0m_equivalent_pint_units\u001b[0m\u001b[1;33m(\u001b[0m\u001b[0mpint_unit_0\u001b[0m\u001b[1;33m,\u001b[0m \u001b[0mpint_unit_i\u001b[0m\u001b[1;33m)\u001b[0m\u001b[1;33m:\u001b[0m\u001b[1;33m\u001b[0m\u001b[1;33m\u001b[0m\u001b[0m\n\u001b[1;32m--> 455\u001b[1;33m                 raise InconsistentUnitsError(\n\u001b[0m\u001b[0;32m    456\u001b[0m                     \u001b[0mpint_unit_0\u001b[0m\u001b[1;33m,\u001b[0m \u001b[0mpint_unit_i\u001b[0m\u001b[1;33m,\u001b[0m\u001b[1;33m\u001b[0m\u001b[1;33m\u001b[0m\u001b[0m\n\u001b[0;32m    457\u001b[0m                     'Error in units found in expression: %s' % (node,))\n",
      "\u001b[1;31mInconsistentUnitsError\u001b[0m: Error in units found in expression: 0.216*(fs.M101.toluene_feed_state[0.0].temperature**3 - fs.thermo_params.temperature_ref**3) - 85.0*(fs.M101.toluene_feed_state[0.0].temperature**2 - fs.thermo_params.temperature_ref**2) + 129000.0*(fs.M101.toluene_feed_state[0.0].temperature - fs.thermo_params.temperature_ref): kelvin ** 3 not compatible with kelvin ** 2."
     ]
    }
   ],
   "source": [
    "# alias 'm' for hda model with second flash unit\n",
    "m = hda_with_flash(tee=False)"
   ]
  },
  {
   "cell_type": "code",
   "execution_count": null,
   "metadata": {
    "scrolled": false
   },
   "outputs": [],
   "source": [
    "# alias 'n' for hda model with distillation column\n",
    "n = hda_with_distillation(tee=False)"
   ]
  },
  {
   "cell_type": "markdown",
   "metadata": {},
   "source": [
    "## IDAES Generic Costing Framework\n",
    "IDAES provides a rigorous costing package for process economics calculations, based on methods from the following source:\n",
    "\n",
    "*Process and Product Design Principles: Synthesis, Analysis, and Evaluation*. Seider, Seader, Lewin, Windagdo, 3rd Ed. John Wiley and Sons Chapter 22. Cost Accounting and Capital Cost Estimation 22.2 Cost Indexes and Capital Investment.\n",
    "\n",
    "Currently, IDAES supports calculation of capital costing for a wide array of unit operations:\n",
    "\n",
    "- Pressure Changers (Compressor, Turbine, Pump, generic PressureChanger)\n",
    "- Temperature Changers (Heater, HeatExchanger, HeatExchangerNTU)\n",
    "- Vertical and Horizontal Vessels (Flash, CSTR, PFR, StoichiometricReactor)\n",
    "\n",
    "The framework includes factors for vessel shell thickness and dimensions, material properties for equipment shells and tubes, and tray types for distillation columns. The framework does not yet support heat exchangers requiring both shell and tube area (HX1D).\n",
    "\n",
    "For capital costs calculations, IDAES supports the following options:\n",
    "- Heat exchanger type:\n",
    "    - floating head, fixed head, \"U tube\", Kettle evaporator\n",
    "- Heat exchanger material:\n",
    "    - pure Carbon Steel, Stainless Steel, Cr Mo Steel, Monel or Titanium; Carbon Steel alloy with Brass, Stainless Steel, Monel, Titanium or Cr Mo Steel; \n",
    "- Heat exchanger tube lengths:\n",
    "    - 8, 12, 16 or 20 feet\n",
    "- Vessel materials\n",
    "    - Carbon Steel, Low Alloy Steel, Stainless Steel 304, Stainless Stell 316, Carpenter 20CB3, Nickel 200, Money 400, Inconel 600, Incoloy 825, Titanium\n",
    "- Column tray type:\n",
    "    - Sieve, Valve, Bubble Cap\n",
    "- Column tray material:\n",
    "    - Carbon Steel, Stainless Stell 303, Stainless Stell 316, Carpenter 20CB3, Monel\n",
    "- Heater material:\n",
    "    - Carbon Steel, Cr Mo Steel, Stainless Steel\n",
    "- Heater source:\n",
    "    - Fuel, Reformer, Pyrolysis, Hot Water, Salts, Dowtherm A, Steam Boiler\n",
    "- Compressor type:\n",
    "    - Centrifugal, Reciprocating, Screw\n",
    "- Compressor drive type:\n",
    "    - Electric Motor, Steam Turbine, Gas Turbine\n",
    "- Compressor material:\n",
    "    - Carbon Steel, Stainless Steel, Nickel Alloy\n",
    "- Pump Material:\n",
    "    - Cast Iron, Ductile Iron, Cast Steel, Bronze, Stainless Steel, Hastelloy C, Monel, Nickel, Titanium, Ni Al Bronze, Carbon Steel\n",
    "- Pump type:\n",
    "    - Centrigual, External Gear, Reciprocating\n",
    "- Pump motor type:\n",
    "    - Open, Enclosed, Explosion Proof\n",
    "- Fan type:\n",
    "    - Centrifugal Backward, Centrifugal Straight, Vane Axial, Tube Axial\n",
    "- Fan material:\n",
    "    - Carbon Steel, Fiberglass, Stainless Steel, Nickel Alloy\n",
    "- Blower type:\n",
    "    - Centrifugal, Rotary\n",
    "- Blower material:\n",
    "    - Carbon Steel, Aluminum, Fiberglass, Stainless Steel, Nickel Alloy\n",
    "\n",
    "\n",
    "The framework contains the following flowsheet costing methods and default options under the \"SSLWCosting\" class:\n",
    "- build_global_params() sets base currency and period, and other optional parameters\n",
    "- build_process_costs() grants access to aggregate capital, fixed, variable and flow costs for process wide costing\n",
    "- initialize_build() allows for optional initialization of costing blocks when required; aggregate costs are already initialized elsewhere\n",
    "- cost_heat_exchanger(blk,hx_type=HXType.Utube, material_type=HXMaterial.StainlessSteelStainlessSteel, tube_length=HXTubeLength.TwelveFoot, integer=True)\n",
    "- def cost_vessel( blk, vertical=False, material_type=VesselMaterial.CarbonSteel, shell_thickness=1.25 * pyo.units.inch, weight_limit=1, aspect_ratio_range=1, include_platforms_ladders=True, vessel_diameter=None, vessel_length=None, number_of_units=1, number_of_trays=None, tray_material=TrayMaterial.CarbonSteel, tray_type=TrayType.Sieve)\n",
    "- def cost_vertical_vessel(blk, material_type=VesselMaterial.CarbonSteel, shell_thickness=1.25 * pyo.units.inch, weight_limit=1, aspect_ratio_range=1, include_platforms_ladders=True, vessel_diameter=None, vessel_length=None, number_of_units=1, number_of_trays=None, tray_material=TrayMaterial.CarbonSteel, tray_type=TrayType.Sieve)\n",
    "- def cost_horizontal_vessel(blk, material_type=VesselMaterial.CarbonSteel, shell_thickness=1.25 * pyo.units.inch, include_platforms_ladders=True, vessel_diameter=None, vessel_length=None, number_of_units=1)\n",
    "- def cost_fired_heater(blk, heat_source=HeaterSource.Fuel, material_type=HeaterMaterial.CarbonSteel, integer=True)\n",
    "- def cost_compressor(blk, compressor_type=CompressorType.Centrifugal, drive_type=CompressorDriveType.ElectricMotor, material_type=CompressorMaterial.StainlessSteel, integer=True)\n",
    "- def cost_fan(blk, fan_type=FanType.CentrifugalBackward, fan_head_factor=1.45, material_type=FanMaterial.StainlessSteel, integer=True)\n",
    "- def cost_blower(blk, blower_type=BlowerType.Centrifugal, material_type=BlowerMaterial.StainlessSteel, integer=True)\n",
    "- def cost_turbine(blk, integer=True)\n",
    "- def cost_pump(blk, pump_type=PumpType.Centrifugal, material_type=PumpMaterial.StainlessSteel, pump_type_factor=1.4, motor_type=PumpMotorType.Open, integer=True)\n",
    "- def cost_pressure_changer(blk, mover_type=\"compressor\", **kwargs)\n",
    "\n",
    "As a convenience for users, common unit models are mapped with appropriate costing methods. Therefore, for quick costing with defaults, users may import the `unit_mapping` dictionary and pass the unit model type as below:\n",
    "\n",
    "*unit_mapping = {  \n",
    "        CSTR: cost_vertical_vessel,  \n",
    "        Compressor: cost_compressor,  \n",
    "        Flash: cost_vertical_vessel,  \n",
    "        Heater: cost_fired_heater,  \n",
    "        HeatExchanger: cost_heat_exchanger,  \n",
    "        HeatExchangerNTU: cost_heat_exchanger,  \n",
    "        PFR: cost_horizontal_vessel,  \n",
    "        PressureChanger: cost_pressure_changer,  \n",
    "        Pump: cost_pump,  \n",
    "        StoichiometricReactor: cost_horizontal_vessel,  \n",
    "        Turbine: cost_turbine,  \n",
    "    }*\n",
    "\n",
    "*costing_blk = unit_mapping[type(blk)]*\n",
    "\n",
    "The mapping is inheritance aware, e.g. pumps will try costing with cost_pump() and fall back to cost_pressure_changer."
   ]
  },
  {
   "cell_type": "markdown",
   "metadata": {},
   "source": [
    "## Add Operating Cost Equations\n",
    "Before adding capital costing blocks, we will add operating cost equations taken from the prior examples. The examples assume constant cooling and heating coefficients over an annual cost basis. The IDAES Generic Costing Framework does not currently support variable cost calculations."
   ]
  },
  {
   "cell_type": "code",
   "execution_count": null,
   "metadata": {},
   "outputs": [],
   "source": [
    "# required imports\n",
    "from pyomo.environ import Expression\n",
    "\n",
    "# operating costs for HDA with second flash (model m)\n",
    "m.fs.cooling_cost = Expression(expr=0.212e-7 * (-m.fs.F101.heat_duty[0]) +\n",
    "                                   0.212e-7 * (-m.fs.R101.heat_duty[0]))\n",
    "m.fs.heating_cost = Expression(expr=2.2e-7 * m.fs.H101.heat_duty[0] +\n",
    "                                   1.9e-7 * m.fs.F102.heat_duty[0])\n",
    "m.fs.operating_cost = Expression(expr=(3600 * 24 * 365 *\n",
    "                                           (m.fs.heating_cost +\n",
    "                                            m.fs.cooling_cost)))\n",
    "\n",
    "# operating costs for HDA with distillation (model n)\n",
    "n.fs.cooling_cost = Expression(expr=0.25e-7 * (-n.fs.F101.heat_duty[0]) +\n",
    "                                0.2e-7 * (-n.fs.D101.condenser.heat_duty[0]))\n",
    "\n",
    "n.fs.heating_cost = Expression(expr=2.2e-7 * n.fs.H101.heat_duty[0] +\n",
    "                                1.2e-7 * n.fs.H102.heat_duty[0] +\n",
    "                                1.9e-7 * n.fs.D101.reboiler.heat_duty[0])\n",
    "\n",
    "n.fs.operating_cost = Expression(expr=(3600 * 24 * 365 *\n",
    "                                (n.fs.heating_cost + n.fs.cooling_cost)))   "
   ]
  },
  {
   "cell_type": "markdown",
   "metadata": {},
   "source": [
    "## Add Capital Costing\n",
    "Below, we will add add rigorous capital costing blocks to the imported flowsheets and evaluate the economic impact of replacing the second Flash with a Distillation column. First, let's import the relevant costing methods:"
   ]
  },
  {
   "cell_type": "code",
   "execution_count": null,
   "metadata": {},
   "outputs": [],
   "source": [
    "# Import costing methods - classes, heaters, vessels, compressors, columns\n",
    "from idaes.models.costing.SSLW import (\n",
    "    SSLWCosting,\n",
    "    SSLWCostingData,\n",
    "    VesselMaterial,\n",
    "    TrayType,\n",
    "    TrayMaterial,\n",
    "    HeaterMaterial,\n",
    "    HeaterSource,\n",
    "    CompressorDriveType,\n",
    "    CompressorMaterial,\n",
    "    CompressorType,\n",
    ")\n",
    "from idaes.core import UnitModelCostingBlock"
   ]
  },
  {
   "cell_type": "markdown",
   "metadata": {},
   "source": [
    "Next, we will build the main costing block for each flowsheet, calling the main costing class to define the blocks:"
   ]
  },
  {
   "cell_type": "code",
   "execution_count": null,
   "metadata": {},
   "outputs": [],
   "source": [
    "# costing block for HDA with second flash (model m)\n",
    "m.fs.costing = SSLWCosting()\n",
    "\n",
    "# costing block for HDA with distillation (model n)\n",
    "n.fs.costing = SSLWCosting()"
   ]
  },
  {
   "cell_type": "markdown",
   "metadata": {},
   "source": [
    "Finally, we will build the relevant costing blocks for the equipment we wish to cost. Note how the costing block, methods and flags are passed as arguments in the costing block call itself. Each unit model will have a single costing block, but each flowsheet model (m and n) will also have a single costing block for flowsheet-level properties.\n",
    "\n",
    "Users should note that IDAES costing methods support a wide array of heating sources (e.g. fired, steam boiler, hot water) and do not support direct capital costing of coolers. If users wish to cost Heater units acting as coolers, it is necessary to cost a \"dummy\" [0D shell and tube exchanger](https://idaes-pse.readthedocs.io/en/stable/reference_guides/model_libraries/generic/unit_models/heat_exchanger.html) with appropriate aliased hot stream properties and proper cooling water properties. This is not demonstrated here, as the HDA examples take advantage of Flash and Condenser operations to recover liquid product.\n",
    "\n",
    "Capital costing is independent of unit model connections, and building cost equations may be done piecewise in this fashion. Default options are passed explicitly to demonstrate proper syntax and usage. Now that all required properties are defined, let's cost our models connecting costing blocks, methods and unit models in each flowsheet."
   ]
  },
  {
   "cell_type": "markdown",
   "metadata": {},
   "source": [
    "### Flexibility of Costing Block Definitions\n",
    "IDAES supports many ways to define batches of costing blocks, and several are shown in the example. Users may employ whichever method fits their modeling needs for explicit or concise code. In the code below, note how the unit model itself is never passed to the costing method; when the full model is executed, the costing block will automatically connect its parent block with child equation blocks.\n",
    "\n",
    "To demonstrate proper usage, we will define the Compressor costing blocks one at a time below:"
   ]
  },
  {
   "cell_type": "code",
   "execution_count": null,
   "metadata": {},
   "outputs": [],
   "source": [
    "# costing for compressors - m.fs.C101, n.fs.C101\n",
    "\n",
    "m.fs.C101.costing = UnitModelCostingBlock(\n",
    "    default={\n",
    "        \"flowsheet_costing_block\": m.fs.costing,\n",
    "        \"costing_method\": SSLWCostingData.cost_compressor,\n",
    "        \"costing_method_arguments\": {\n",
    "            \"compressor_type\": CompressorType.Centrifugal,\n",
    "            \"drive_type\": CompressorDriveType.ElectricMotor,\n",
    "            \"material_type\": CompressorMaterial.StainlessSteel,\n",
    "        },\n",
    "    }\n",
    ")\n",
    "\n",
    "n.fs.C101.costing = UnitModelCostingBlock(\n",
    "    default={\n",
    "        \"flowsheet_costing_block\": n.fs.costing,\n",
    "        \"costing_method\": SSLWCostingData.cost_compressor,\n",
    "        \"costing_method_arguments\": {\n",
    "            \"compressor_type\": CompressorType.Centrifugal,\n",
    "            \"drive_type\": CompressorDriveType.ElectricMotor,\n",
    "            \"material_type\": CompressorMaterial.StainlessSteel,\n",
    "        },\n",
    "    }\n",
    ")\n",
    "\n"
   ]
  },
  {
   "cell_type": "markdown",
   "metadata": {},
   "source": [
    "To demonstrate the flexibility of the framework, let's define all Heater costing blocks sequentially using a loop:"
   ]
  },
  {
   "cell_type": "code",
   "execution_count": null,
   "metadata": {},
   "outputs": [],
   "source": [
    "print(m.fs.M101.toluene_feed.flow_mol_phase_comp[0, \"Vap\", \"benzene\"].get_units())"
   ]
  },
  {
   "cell_type": "code",
   "execution_count": null,
   "metadata": {},
   "outputs": [],
   "source": [
    "# costing for heaters - m.fs.H101, m.fs.H102, n.fs.H101, n.fs.H102\n",
    "\n",
    "for model in [m, n]:  # need this since we have more than one model\n",
    "    for unit in ['H101', 'H102']:\n",
    "        getattr(model.fs, unit).costing = UnitModelCostingBlock(\n",
    "            default={\n",
    "                \"flowsheet_costing_block\": model.fs.costing,\n",
    "                \"costing_method\": SSLWCostingData.cost_fired_heater,\n",
    "                \"costing_method_arguments\": {\n",
    "                    \"material_type\": HeaterMaterial.CarbonSteel,\n",
    "                    \"heat_source\": HeaterSource.Fuel,\n",
    "                }\n",
    "            }\n",
    "        )"
   ]
  },
  {
   "cell_type": "markdown",
   "metadata": {},
   "source": [
    "The costing module provides a `unit_mapping` dictionary linking generic unit model classes with recommended costing methods. In this example, CSTR, StoichiometricReactor and Flash vessels utilize different vessel costing methods with similar arguments. The diameter and length attributes need to exist, and we add them if they don't exist already. The `unit_mapping` method provides an opportunity to automatically select the correct vessel orientation (vertical or horizontal) based on the unit type:"
   ]
  },
  {
   "cell_type": "code",
   "execution_count": null,
   "metadata": {},
   "outputs": [],
   "source": [
    "from pyomo.environ import Var, Constraint, units as pyunits \n",
    "from idaes.models.unit_models import CSTR, StoichiometricReactor, Flash\n",
    "# map unit models to unit classes\n",
    "# will pass to unit_mapping which calls costing methods based on unit class\n",
    "unit_class_mapping = {m.fs.R101: StoichiometricReactor,\n",
    "                      m.fs.F101: Flash,\n",
    "                      m.fs.F102: Flash,\n",
    "                      n.fs.R101: CSTR,\n",
    "                      n.fs.F101: Flash}\n",
    "\n",
    "# costing for vessels - m.fs.R101, m.fs.F101, m.fs.F102, n.fs.R101, n.fs.F101\n",
    "\n",
    "# instead of looping over models and unit names, we can loop over just units\n",
    "for unit in [m.fs.R101, m.fs.F101, m.fs.F102, n.fs.R101, n.fs.F101]:\n",
    "    # get correct unit class for unit model\n",
    "    unit_class = unit_class_mapping[unit]\n",
    "    \n",
    "    # add dimension variables and constraint if they don't exist\n",
    "    if not hasattr(unit, \"diameter\"):\n",
    "        unit.diameter = Var(initialize=1, units=pyunits.m)\n",
    "    if not hasattr(unit, \"length\"):\n",
    "        unit.length = Var(initialize=1, units=pyunits.m)\n",
    "    if hasattr(unit, \"volume\"):  # if volume exists, set diameter from volume\n",
    "        unit.volume_eq = Constraint(expr=unit.volume[0] == unit.length * unit.diameter)\n",
    "    else:  # fix diameter directly\n",
    "        unit.diameter.fix(0.2214 * pyunits.m)\n",
    "    # either way, fix L/D to calculate L from D\n",
    "    unit.L_over_D = Constraint(expr=unit.length == 3 * unit.diameter)\n",
    "        \n",
    "    # define vessel costing\n",
    "    unit.costing = UnitModelCostingBlock(\n",
    "        default={\n",
    "            \"flowsheet_costing_block\": unit.parent_block().costing,\n",
    "            \"costing_method\": SSLWCostingData.unit_mapping[unit_class],\n",
    "            \"costing_method_arguments\": {\n",
    "                \"material_type\": VesselMaterial.CarbonSteel,\n",
    "                \"shell_thickness\": 1.25 * pyunits.inch\n",
    "                \n",
    "            }\n",
    "        }\n",
    "    )"
   ]
  },
  {
   "cell_type": "markdown",
   "metadata": {},
   "source": [
    "Finally, we will define costing for the distillation column:"
   ]
  },
  {
   "cell_type": "code",
   "execution_count": null,
   "metadata": {},
   "outputs": [],
   "source": [
    "# costing for column - n.fs.D101\n",
    "\n",
    "# define column dimensions\n",
    "n.fs.D101.diameter = Var(initialize=1, units=pyunits.m)\n",
    "n.fs.D101.length = Var(initialize=1, units=pyunits.m)\n",
    "n.fs.D101.diameter.fix(0.2214 * pyunits.m)\n",
    "n.fs.D101.L_over_D = Constraint(expr=unit.length == 5 * unit.diameter)\n",
    "\n",
    "n.fs.D101.costing = UnitModelCostingBlock(\n",
    "        default={\n",
    "            \"flowsheet_costing_block\": n.fs.costing,\n",
    "            \"costing_method\": SSLWCostingData.cost_vertical_vessel,\n",
    "            \"costing_method_arguments\": {\n",
    "                \"material_type\": VesselMaterial.CarbonSteel,\n",
    "                \"shell_thickness\": 1.25 * pyunits.inch,\n",
    "                \"include_platforms_ladders\": True,\n",
    "                \"number_of_trays\": n.fs.D101.config.number_of_trays,\n",
    "                \"tray_material\": TrayMaterial.CarbonSteel,\n",
    "                \"tray_type\": TrayType.Sieve\n",
    "                \n",
    "            }\n",
    "        }\n",
    "    )"
   ]
  },
  {
   "cell_type": "markdown",
   "metadata": {},
   "source": [
    "## Resolve and Compare Results\n",
    "Solving the two flowsheets for all operating and capital costing, we obtain the following economic process results:"
   ]
  },
  {
   "cell_type": "code",
   "execution_count": null,
   "metadata": {},
   "outputs": [],
   "source": [
    "# define solver\n",
    "from idaes.core.solvers import get_solver\n",
    "solver = get_solver()\n",
    "\n",
    "# Check that the degrees of freedom is zero\n",
    "from idaes.core.util.model_statistics import degrees_of_freedom\n",
    "assert degrees_of_freedom(m) == 0\n",
    "assert degrees_of_freedom(n) == 0"
   ]
  },
  {
   "cell_type": "code",
   "execution_count": null,
   "metadata": {},
   "outputs": [],
   "source": [
    "results_m = solver.solve(m, tee=True)"
   ]
  },
  {
   "cell_type": "code",
   "execution_count": null,
   "metadata": {},
   "outputs": [],
   "source": [
    "results_n = solver.solve(n, tee=True)"
   ]
  },
  {
   "cell_type": "code",
   "execution_count": null,
   "metadata": {},
   "outputs": [],
   "source": [
    "# Check solver solve status and physical units consistency\n",
    "from pyomo.environ import TerminationCondition\n",
    "from pyomo.util.check_units import assert_units_consistent\n",
    "assert results_m.solver.termination_condition == TerminationCondition.optimal\n",
    "assert_units_consistent(m)\n",
    "assert results_n.solver.termination_condition == TerminationCondition.optimal\n",
    "assert_units_consistent(n)"
   ]
  },
  {
   "cell_type": "code",
   "execution_count": null,
   "metadata": {},
   "outputs": [],
   "source": []
  }
 ],
 "metadata": {
  "celltoolbar": "Tags",
  "kernelspec": {
   "display_name": "Python 3 (ipykernel)",
   "language": "python",
   "name": "python3"
  },
  "language_info": {
   "codemirror_mode": {
    "name": "ipython",
    "version": 3
   },
   "file_extension": ".py",
   "mimetype": "text/x-python",
   "name": "python",
   "nbconvert_exporter": "python",
   "pygments_lexer": "ipython3",
   "version": "3.8.12"
  }
 },
 "nbformat": 4,
 "nbformat_minor": 4
}
