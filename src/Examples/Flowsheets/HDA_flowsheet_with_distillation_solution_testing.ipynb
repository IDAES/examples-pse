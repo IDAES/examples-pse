{
 "cells": [
  {
   "cell_type": "markdown",
   "metadata": {},
   "source": [
    "\n",
    "# HDA Flowsheet Simulation and Optimization\n",
    "\n",
    "\n",
    "## Note\n",
    "\n",
    "This tutorial will be similar to the HDA flowsheet tutorial in the Tutorials section, except that we use a distillation column instead of a second flash (F102) to produce benzene and toluene products.\n",
    "\n",
    "\n",
    "## Learning outcomes\n",
    "\n",
    "\n",
    "- Construct a steady-state flowsheet using the IDAES unit model library\n",
    "- Connecting unit models in a  flowsheet using Arcs\n",
    "- Using the SequentialDecomposition tool to initialize a flowsheet with recycle\n",
    "- Fomulate and solve an optimization problem\n",
    "    - Defining an objective function\n",
    "    - Setting variable bounds\n",
    "    - Adding additional constraints \n",
    "\n",
    "\n",
    "## Problem Statement\n",
    "\n",
    "Hydrodealkylation is a chemical reaction that often involves reacting\n",
    "an aromatic hydrocarbon in the presence of hydrogen gas to form a\n",
    "simpler aromatic hydrocarbon devoid of functional groups. In this\n",
    "example, toluene will be reacted with hydrogen gas at high temperatures\n",
    " to form benzene via the following reaction:\n",
    "\n",
    "**C<sub>6</sub>H<sub>5</sub>CH<sub>3</sub> + H<sub>2</sub> → C<sub>6</sub>H<sub>6</sub> + CH<sub>4</sub>**\n",
    "\n",
    "\n",
    "This reaction is often accompanied by an equilibrium side reaction\n",
    "which forms diphenyl, which we will neglect for this example.\n",
    "\n",
    "This example is based on the 1967 AIChE Student Contest problem as\n",
    "present by Douglas, J.M., Chemical  Design of Chemical Processes, 1988,\n",
    "McGraw-Hill.\n",
    "\n",
    "The flowsheet that we will be using for this module is shown below with the stream conditions. We will be processing toluene and hydrogen to produce at least 370 TPY of benzene. As shown in the flowsheet, we use a flash tank, F101, to separate out the non-condensibles, and a distillation column, D101, to further separate the benzene-toluene mixture to improve the benzene purity.  The non-condensibles separated out in F101 will be partially recycled back to M101 and the rest will be purged. We will assume ideal gas behavior for this flowsheet. The properties required for this module are defined in\n",
    "\n",
    "- `hda_ideal_VLE.py`\n",
    "- `idaes.models.properties.activity_coeff_models.BTX_activity_coeff_VLE`\n",
    "- `hda_reaction.py`\n",
    "\n",
    "We will be using two thermodynamic packages: one (first in the list above) containing all four components (i.e., toluene, hydrogen, benzene, and methane) and the other (second in the list above) containing benzene and toluene only. The latter is needed to simplify the VLE calculations in the distillation column model. \n",
    "\n",
    "![](HDA_flowsheet_distillation.png)\n",
    "\n",
    "\n"
   ]
  },
  {
   "cell_type": "markdown",
   "metadata": {},
   "source": [
    "## Translator block\n",
    "\n",
    "Benzene and toluene are separated by distillation, so the process involves phase equilibrium and two-phase flow conditions. However, the presence of hydrogen and methane complicates the calculations. This is because, hydrogen and methane are non-condensable under all conditions of interest; ergo, a vapor phase will always be present, and the mixture bubble point is extremely low. To simplify the phase equilibrium calculations, hydrogen and methane will be considered completely as non-condensable and insoluble in the liquid outlet from the flash F101.\n",
    "\n",
    "Since no hydrogen and methane will be present in the unit operations following the flash, a different component list can be used to simplify the property calculations. IDAES supports the definition of multiple property packages within a single flowsheet via `Translator` blocks. `Translator` blocks convert between different property calculations, component lists, and equations of state. "
   ]
  },
  {
   "cell_type": "markdown",
   "metadata": {},
   "source": [
    "## Importing required pyomo and idaes components\n",
    "\n",
    "\n",
    "To construct a flowsheet, we will need several components from the pyomo and idaes package. Let us first import the following components from Pyomo:\n",
    "- Constraint (to write constraints)\n",
    "- Var (to declare variables)\n",
    "- ConcreteModel (to create the concrete model object)\n",
    "- Expression (to evaluate values as a function of variables defined in the model)\n",
    "- Objective (to define an objective function for optimization)\n",
    "- SolverFactory (to solve the problem)\n",
    "- TransformationFactory (to apply certain transformations)\n",
    "- Arc (to connect two unit models)\n",
    "- SequentialDecomposition (to initialize the flowsheet in a sequential mode)\n",
    "\n",
    "For further details on these components, please refer to the pyomo documentation: https://pyomo.readthedocs.io/en/latest/\n"
   ]
  },
  {
   "cell_type": "code",
   "execution_count": 1,
   "metadata": {},
   "outputs": [],
   "source": [
    "from pyomo.environ import (Constraint,\n",
    "                           Var,\n",
    "                           ConcreteModel,\n",
    "                           Expression,\n",
    "                           Objective,\n",
    "                           TransformationFactory,\n",
    "                           value)"
   ]
  },
  {
   "cell_type": "markdown",
   "metadata": {},
   "source": [
    "<div class=\"alert alert-block alert-info\">\n",
    "<b>Inline Exercise:</b>\n",
    "Import `Arc` and `SequentialDecomposition` tools from `pyomo.network`\n",
    "</div>"
   ]
  },
  {
   "cell_type": "code",
   "execution_count": 2,
   "metadata": {
    "tags": [
     "exercise"
    ]
   },
   "outputs": [],
   "source": [
    "# Todo: Import the above mentioned tools from pyomo.network\n"
   ]
  },
  {
   "cell_type": "code",
   "execution_count": 3,
   "metadata": {
    "tags": [
     "solution"
    ]
   },
   "outputs": [],
   "source": [
    "# Todo: Import the above mentioned tools from pyomo.network\n",
    "from pyomo.network import Arc, SequentialDecomposition"
   ]
  },
  {
   "cell_type": "markdown",
   "metadata": {},
   "source": [
    "From idaes, we will be needing the FlowsheetBlock and the following unit models:\n",
    "- Mixer\n",
    "- Heater\n",
    "- CSTR\n",
    "- Flash\n",
    "- Separator (splitter) \n",
    "- PressureChanger\n",
    "- Translator (to switch from one property package to another)\n",
    "- TrayColumn (distillation column)\n",
    "- CondenserType (Type of the overhead condenser: complete or partial)\n",
    "- TemperatureSpec (Temperature specification inside the condenser)"
   ]
  },
  {
   "cell_type": "code",
   "execution_count": 4,
   "metadata": {},
   "outputs": [],
   "source": [
    "from idaes.core import FlowsheetBlock"
   ]
  },
  {
   "cell_type": "code",
   "execution_count": 5,
   "metadata": {},
   "outputs": [],
   "source": [
    "from idaes.models.unit_models import (PressureChanger,\n",
    "                                      Mixer,\n",
    "                                      Separator as Splitter,\n",
    "                                      Heater,\n",
    "                                      CSTR,\n",
    "                                      Flash,\n",
    "                                      Translator)\n",
    "\n",
    "from idaes.models_extra.column_models.tray_column import TrayColumn\n",
    "from idaes.models_extra.column_models.condenser \\\n",
    "    import CondenserType, TemperatureSpec "
   ]
  },
  {
   "cell_type": "markdown",
   "metadata": {},
   "source": [
    "We will also be needing some utility tools to put together the flowsheet and calculate the degrees of freedom. "
   ]
  },
  {
   "cell_type": "code",
   "execution_count": 6,
   "metadata": {},
   "outputs": [],
   "source": [
    "# Utility tools to put together the flowsheet and calculate the degrees of freedom\n",
    "from idaes.models.unit_models.pressure_changer import ThermodynamicAssumption\n",
    "from idaes.core.util.model_statistics import degrees_of_freedom\n",
    "from idaes.core.util.initialization import propagate_state\n",
    "from idaes.core.solvers import get_solver\n",
    "import idaes.core.util.scaling as iscale\n",
    "\n",
    "# Import idaes logger to set output levels\n",
    "import idaes.logger as idaeslog"
   ]
  },
  {
   "cell_type": "markdown",
   "metadata": {},
   "source": [
    "## Importing required thermo and reaction packages\n",
    "\n",
    "Finally, we import the thermophysical (`hda_ideal_VLE.py` and `BTXParameterBlock`) packages and reaction package (`hda_reaction.py`) for the HDA process. We have created custom thermophysical packages that assume ideal gas behavior with support for VLE. The reaction package consists of the stochiometric coefficients for the reaction, heat of reaction, and kinetic information (Arrhenius constant and activation energy). "
   ]
  },
  {
   "cell_type": "code",
   "execution_count": 7,
   "metadata": {},
   "outputs": [],
   "source": [
    "import hda_reaction as reaction_props\n",
    "from idaes.models.properties.activity_coeff_models.\\\n",
    "    BTX_activity_coeff_VLE import BTXParameterBlock\n",
    "\n",
    "from hda_ideal_VLE import HDAParameterBlock"
   ]
  },
  {
   "cell_type": "markdown",
   "metadata": {},
   "source": [
    "## Constructing the Flowsheet\n",
    "\n",
    "We have now imported all the components, unit models, and property modules we need to construct a flowsheet. Let us create a ConcreteModel and add the flowsheet block to it. "
   ]
  },
  {
   "cell_type": "code",
   "execution_count": 8,
   "metadata": {},
   "outputs": [],
   "source": [
    "# Create a Pyomo Concrete Model to contain the problem\n",
    "m = ConcreteModel()\n",
    "\n",
    "# Add a steady state flowsheet block to the model\n",
    "m.fs = FlowsheetBlock(default={\"dynamic\": False})"
   ]
  },
  {
   "cell_type": "markdown",
   "metadata": {},
   "source": [
    "We will now add the thermophysical and reaction packages to the flowsheet."
   ]
  },
  {
   "cell_type": "code",
   "execution_count": 9,
   "metadata": {},
   "outputs": [],
   "source": [
    "# Property package for benzene, toluene, hydrogen, methane mixture\n",
    "m.fs.BTHM_params = HDAParameterBlock()\n",
    "\n",
    "# Property package for the benzene-toluene mixture\n",
    "m.fs.BT_params = BTXParameterBlock(default={\n",
    "        \"valid_phase\": ('Liq', 'Vap'),\n",
    "        \"activity_coeff_model\": \"Ideal\"\n",
    "})\n",
    "\n",
    "# Reaction package for the HDA reaction\n",
    "m.fs.reaction_params = reaction_props.HDAReactionParameterBlock(\n",
    "        default={\"property_package\": m.fs.BTHM_params})"
   ]
  },
  {
   "cell_type": "markdown",
   "metadata": {},
   "source": [
    "## Adding Unit Models\n",
    "\n",
    "Let us start adding the unit models we have imported to the flowsheet. Here, we are adding the Mixer (assigned a name M101) and a Heater (assigned a name H101). Note that, all unit models need to be given a property package argument. In addition, the Mixer unit model needs a `list` consisting of the inlets (toluene feed, hydrogen feed and vapor recycle streams in this case). "
   ]
  },
  {
   "cell_type": "code",
   "execution_count": 10,
   "metadata": {},
   "outputs": [],
   "source": [
    "# Adding the mixer M101 to the flowsheet\n",
    "m.fs.M101 = Mixer(default={\"property_package\": m.fs.BTHM_params,\n",
    "                           \"inlet_list\": [\"toluene_feed\", \"hydrogen_feed\", \"vapor_recycle\"]})\n",
    "\n",
    "# Adding the heater H101 to the flowsheet\n",
    "m.fs.H101 = Heater(default={\"property_package\": m.fs.BTHM_params,\n",
    "                            \"has_phase_equilibrium\": True})"
   ]
  },
  {
   "cell_type": "markdown",
   "metadata": {},
   "source": [
    "<div class=\"alert alert-block alert-info\">\n",
    "<b>Inline Exercise:</b>\n",
    "Let us now add the CSTR (assign the name R101) and pass the following arguments:\n",
    "      <ul>\n",
    "         <li>\"property_package\": m.fs.BTHM_params</li>\n",
    "         <li>\"reaction_package\": m.fs.reaction_params </li>\n",
    "         <li>\"has_heat_of_reaction\": True </li>\n",
    "         <li>\"has_heat_transfer\": True</li>\n",
    "      </ul>\n",
    "</div>"
   ]
  },
  {
   "cell_type": "code",
   "execution_count": 11,
   "metadata": {
    "tags": [
     "exercise"
    ]
   },
   "outputs": [],
   "source": [
    "# Todo: Add reactor with the specifications above\n"
   ]
  },
  {
   "cell_type": "code",
   "execution_count": 12,
   "metadata": {
    "tags": [
     "solution"
    ]
   },
   "outputs": [],
   "source": [
    "# Todo: Add reactor with the specifications above\n",
    "m.fs.R101 = CSTR(\n",
    "            default={\"property_package\": m.fs.BTHM_params,\n",
    "                     \"reaction_package\": m.fs.reaction_params,\n",
    "                     \"has_heat_of_reaction\": True,\n",
    "                     \"has_heat_transfer\": True})"
   ]
  },
  {
   "cell_type": "markdown",
   "metadata": {},
   "source": [
    "Let us now add the Flash (assign the name F101), Splitter (assign the name S101) and PressureChanger (assign the name C101)"
   ]
  },
  {
   "cell_type": "code",
   "execution_count": 13,
   "metadata": {},
   "outputs": [],
   "source": [
    "# Adding the flash tank F101 to the flowsheet\n",
    "m.fs.F101 = Flash(default={\"property_package\": m.fs.BTHM_params,\n",
    "                           \"has_heat_transfer\": True,\n",
    "                           \"has_pressure_change\": True})\n",
    "                           \n",
    "# Adding the splitter S101 to the flowsheet\n",
    "m.fs.S101 = Splitter(default={\"property_package\": m.fs.BTHM_params,\n",
    "                              \"outlet_list\": [\"purge\", \"recycle\"]})\n",
    "\n",
    "# Adding the compressor C101 to the flowsheet    \n",
    "m.fs.C101 = PressureChanger(default={\n",
    "            \"property_package\": m.fs.BTHM_params,\n",
    "            \"compressor\": True,\n",
    "            \"thermodynamic_assumption\": ThermodynamicAssumption.isothermal})                             "
   ]
  },
  {
   "cell_type": "markdown",
   "metadata": {},
   "source": [
    "## Remark\n",
    "\n",
    "Currently, the `SequentialDecomposition()` tool, which we will later be using to initialize the flowsheet, does not support the distillation column model. Thus, we will first simulate the flowsheet without the distillation column. After it converges, we will then add the distillation column, initialize it, and simulate the entire flowsheet."
   ]
  },
  {
   "cell_type": "markdown",
   "metadata": {},
   "source": [
    "As mentioned above, we use the `m.fs.BTHM_params` package, which contains all the four species, for the reactor loop, and the simpler `m.fs.BT_params` for unit operations following the flash (i.e., heater H102 and the distillation column D101). We define a `Translator` block to link the source property package and the package it is to be translated to in the following manner:"
   ]
  },
  {
   "cell_type": "code",
   "execution_count": 14,
   "metadata": {},
   "outputs": [],
   "source": [
    "# Add translator block to convert between property packages       \n",
    "m.fs.translator = Translator(default={\n",
    "        \"inlet_property_package\": m.fs.BTHM_params,\n",
    "        \"outlet_property_package\": m.fs.BT_params\n",
    "}) "
   ]
  },
  {
   "cell_type": "markdown",
   "metadata": {},
   "source": [
    "### Translator block constraints\n",
    "\n",
    "The `Translator` block needs to know how to translate between the two property packages. This must be custom coded for each application because of the generality of the IDAES framework.\n",
    "\n",
    "For this process, five constraints are required based on the state variables used in the outgoing process.\n",
    "\n",
    "- Since we assumed that only benzene and toluene are present in the liquid phase, the total molar flowrate must be the sum of molar flowrates of benzene and toluene, respectively.\n",
    "- Temperature of the inlet and outlet streams must be the same.\n",
    "- Pressure of the inlet and outgoing streams must be the same\n",
    "- The mole fraction of benzene in the outgoing stream is the ratio of the molar flowrate of liquid benzene in the inlet to the sum of molar flowrates of liquid benzene and toluene in the inlet.\n",
    "- The mole fraction of toluene in the outgoing stream is the ratio of the molar flowrate of liquid toluene in the inlet to the sum of molar flowrates of liquid benzene and toluene in the inlet."
   ]
  },
  {
   "cell_type": "code",
   "execution_count": 15,
   "metadata": {},
   "outputs": [],
   "source": [
    "# Add constraint: Total flow = benzene flow + toluene flow (molar)\n",
    "m.fs.translator.eq_total_flow = Constraint(\n",
    "    expr=m.fs.translator.outlet.flow_mol[0] ==\n",
    "    m.fs.translator.inlet.flow_mol_phase_comp[0, \"Liq\", \"benzene\"] +\n",
    "    m.fs.translator.inlet.flow_mol_phase_comp[0, \"Liq\", \"toluene\"])\n",
    "\n",
    "# Add constraint: Outlet temperature = Inlet temperature\n",
    "m.fs.translator.eq_temperature = Constraint(\n",
    "    expr=m.fs.translator.outlet.temperature[0] ==\n",
    "    m.fs.translator.inlet.temperature[0])"
   ]
  },
  {
   "cell_type": "markdown",
   "metadata": {},
   "source": [
    "In the above, note that the variable flow_mol_phase_comp has the index - [time, phase, component]. As this is a steady-state flowsheet, the time index by default is 0. The valid phases are [\"Liq\", \"Vap\"]. Similarly the valid component list is [\"benzene\", \"toluene\", \"hydrogen\", \"methane\"]."
   ]
  },
  {
   "cell_type": "markdown",
   "metadata": {},
   "source": [
    "<div class=\"alert alert-block alert-info\">\n",
    "<b>Inline Exercise:</b>\n",
    "Add the constraint to ensure that the outlet pressure is the same as the inlet pressure\n",
    "</div>"
   ]
  },
  {
   "cell_type": "code",
   "execution_count": 16,
   "metadata": {
    "tags": [
     "exercise"
    ]
   },
   "outputs": [],
   "source": [
    "# Todo: Add constraint: Outlet pressure = Inlet pressure\n"
   ]
  },
  {
   "cell_type": "code",
   "execution_count": 17,
   "metadata": {
    "tags": [
     "solution"
    ]
   },
   "outputs": [],
   "source": [
    "# Todo: Add constraint: Outlet pressure = Inlet pressure\n",
    "m.fs.translator.eq_pressure = Constraint(\n",
    "    expr=m.fs.translator.outlet.pressure[0] ==\n",
    "    m.fs.translator.inlet.pressure[0])"
   ]
  },
  {
   "cell_type": "code",
   "execution_count": 18,
   "metadata": {},
   "outputs": [],
   "source": [
    "# Remaining constraints on the translator block\n",
    "\n",
    "# Add constraint: Benzene mole fraction definition\n",
    "m.fs.translator.eq_mole_frac_benzene = Constraint(\n",
    "    expr=m.fs.translator.outlet.mole_frac_comp[0, \"benzene\"] ==\n",
    "    m.fs.translator.inlet.flow_mol_phase_comp[0, \"Liq\", \"benzene\"] /\n",
    "    (m.fs.translator.inlet.flow_mol_phase_comp[0, \"Liq\", \"benzene\"] +\n",
    "    m.fs.translator.inlet.flow_mol_phase_comp[0, \"Liq\", \"toluene\"]))\n",
    "\n",
    "# Add constraint: Toluene mole fraction definition\n",
    "m.fs.translator.eq_mole_frac_toluene = Constraint(\n",
    "    expr=m.fs.translator.outlet.mole_frac_comp[0, \"toluene\"] ==\n",
    "    m.fs.translator.inlet.flow_mol_phase_comp[0, \"Liq\", \"toluene\"] /\n",
    "    (m.fs.translator.inlet.flow_mol_phase_comp[0, \"Liq\", \"benzene\"] +\n",
    "    m.fs.translator.inlet.flow_mol_phase_comp[0, \"Liq\", \"toluene\"]))"
   ]
  },
  {
   "cell_type": "markdown",
   "metadata": {},
   "source": [
    "<div class=\"alert alert-block alert-info\">\n",
    "<b>Inline Exercise:</b>\n",
    "Finally, let us add the Heater H102 in the same way as H101 but pass the m.fs.BT_params thermodynamic package. We will add the distillation column after converging the flowsheet.\n",
    "</div>"
   ]
  },
  {
   "cell_type": "code",
   "execution_count": 19,
   "metadata": {
    "tags": [
     "exercise"
    ]
   },
   "outputs": [],
   "source": [
    "# Todo: Add the Heater H102 to the flowsheet\n",
    " "
   ]
  },
  {
   "cell_type": "code",
   "execution_count": 20,
   "metadata": {
    "tags": [
     "solution"
    ]
   },
   "outputs": [],
   "source": [
    "# Todo: Add the Heater H102 to the flowsheet\n",
    "m.fs.H102 = Heater(default={\"property_package\": m.fs.BT_params,\n",
    "                            \"has_pressure_change\": True,\n",
    "                            \"has_phase_equilibrium\": True})   "
   ]
  },
  {
   "cell_type": "markdown",
   "metadata": {},
   "source": [
    "## Connecting Unit Models using Arcs\n",
    "\n",
    "We have now added the initial set of unit models to the flowsheet. However, we have not yet specifed how the units are connected. To do this, we will be using the `Arc` which is a pyomo component that takes in two arguments: `source` and `destination`. Let us connect the outlet of the mixer (M101) to the inlet of the heater (H101). "
   ]
  },
  {
   "cell_type": "code",
   "execution_count": 21,
   "metadata": {},
   "outputs": [],
   "source": [
    "m.fs.s03 = Arc(source=m.fs.M101.outlet, destination=m.fs.H101.inlet)"
   ]
  },
  {
   "cell_type": "markdown",
   "metadata": {},
   "source": [
    "\n",
    "![](HDA_flowsheet_distillation.png) \n",
    "\n",
    "<div class=\"alert alert-block alert-info\">\n",
    "<b>Inline Exercise:</b>\n",
    "Now, connect the H101 outlet to the R101 inlet using the cell above as a guide. \n",
    "</div>\n",
    "\n"
   ]
  },
  {
   "cell_type": "code",
   "execution_count": 22,
   "metadata": {
    "tags": [
     "exercise"
    ]
   },
   "outputs": [],
   "source": [
    "# Todo: Connect the H101 outlet to R101 inlet\n"
   ]
  },
  {
   "cell_type": "code",
   "execution_count": 23,
   "metadata": {
    "tags": [
     "solution"
    ]
   },
   "outputs": [],
   "source": [
    "# Todo: Connect the H101 outlet to R101 inlet\n",
    "m.fs.s04 = Arc(source=m.fs.H101.outlet, destination=m.fs.R101.inlet)"
   ]
  },
  {
   "cell_type": "markdown",
   "metadata": {},
   "source": [
    "We will now be connecting the rest of the units as shown below. Notice how the outlet names are different for the flash tank as it has a vapor and a liquid outlet. "
   ]
  },
  {
   "cell_type": "code",
   "execution_count": 24,
   "metadata": {},
   "outputs": [],
   "source": [
    "m.fs.s05 = Arc(source=m.fs.R101.outlet, destination=m.fs.F101.inlet)\n",
    "m.fs.s06 = Arc(source=m.fs.F101.vap_outlet, destination=m.fs.S101.inlet)\n",
    "m.fs.s08 = Arc(source=m.fs.S101.recycle, destination=m.fs.C101.inlet)\n",
    "m.fs.s09 = Arc(source=m.fs.C101.outlet,\n",
    "                   destination=m.fs.M101.vapor_recycle)\n",
    "m.fs.s10a = Arc(source=m.fs.F101.liq_outlet,\n",
    "                   destination=m.fs.translator.inlet)\n",
    "m.fs.s10b = Arc(source=m.fs.translator.outlet,\n",
    "                   destination=m.fs.H102.inlet)                   "
   ]
  },
  {
   "cell_type": "markdown",
   "metadata": {},
   "source": [
    "We have now connected the unit model block using the arcs. However, each of these arcs link to ports on the two unit models that are connected. In this case, the ports consist of the state variables that need to be linked between the unit models. Pyomo provides a convenient method to write these equality constraints for us between two ports and this is done as follows:"
   ]
  },
  {
   "cell_type": "code",
   "execution_count": 25,
   "metadata": {},
   "outputs": [],
   "source": [
    "TransformationFactory(\"network.expand_arcs\").apply_to(m)"
   ]
  },
  {
   "cell_type": "markdown",
   "metadata": {},
   "source": [
    "### Appending additional constraints to the model\n",
    "\n",
    "Now, we will see how we can add additional constraints to the model using `Constraint` from Pyomo.\n",
    "\n",
    "Consider the reactor R101. By default, the conversion of a component is not calculated when we simulate the flowsheet. If we are interested either in specifying or constraining the conversion value, we can add the following constraint to calculate the conversion:\n",
    "$$ \\text{Conversion of toluene} = \\frac{\\text{molar flow of toluene in the inlet} - \\text{molar flow of toluene in the outlet}}{\\text{molar flow of toluene in the inlet}} $$ \n",
    "\n",
    "We add the constraint to the model as shown below."
   ]
  },
  {
   "cell_type": "code",
   "execution_count": 26,
   "metadata": {},
   "outputs": [],
   "source": [
    "# Define the conversion variables using 'Var'\n",
    "m.fs.R101.conversion = Var(initialize=0.75, bounds=(0, 1))\n",
    "\n",
    "# Append the constraint to the model\n",
    "m.fs.R101.conv_constraint = Constraint(\n",
    "    expr=m.fs.R101.conversion*m.fs.R101.inlet.\n",
    "    flow_mol_phase_comp[0, \"Vap\", \"toluene\"] ==\n",
    "    (m.fs.R101.inlet.flow_mol_phase_comp[0, \"Vap\", \"toluene\"] -\n",
    "    m.fs.R101.outlet.flow_mol_phase_comp[0, \"Vap\", \"toluene\"]))"
   ]
  },
  {
   "cell_type": "markdown",
   "metadata": {},
   "source": [
    "## Fixing feed conditions and Initializing the flowsheet\n",
    "\n",
    "Let us first check how many degrees of freedom exist for this flowsheet using the `degrees_of_freedom` tool we imported earlier. "
   ]
  },
  {
   "cell_type": "code",
   "execution_count": 27,
   "metadata": {},
   "outputs": [
    {
     "name": "stdout",
     "output_type": "stream",
     "text": [
      "29\n"
     ]
    }
   ],
   "source": [
    "print(degrees_of_freedom(m))"
   ]
  },
  {
   "cell_type": "code",
   "execution_count": 28,
   "metadata": {
    "tags": [
     "testing",
     "remove_cell"
    ]
   },
   "outputs": [],
   "source": [
    "# Check the degrees of freedom\n",
    "assert degrees_of_freedom(m) == 29"
   ]
  },
  {
   "cell_type": "markdown",
   "metadata": {},
   "source": [
    "We will now be fixing the toluene feed stream to the conditions shown in the flowsheet above. Please note that though this is a pure toluene feed, the remaining components are still assigned a very small non-zero value to help with convergence and initializing. "
   ]
  },
  {
   "cell_type": "code",
   "execution_count": 29,
   "metadata": {},
   "outputs": [],
   "source": [
    "m.fs.M101.toluene_feed.flow_mol_phase_comp[0, \"Vap\", \"benzene\"].fix(1e-5)\n",
    "m.fs.M101.toluene_feed.flow_mol_phase_comp[0, \"Vap\", \"toluene\"].fix(1e-5)\n",
    "m.fs.M101.toluene_feed.flow_mol_phase_comp[0, \"Vap\", \"hydrogen\"].fix(1e-5)\n",
    "m.fs.M101.toluene_feed.flow_mol_phase_comp[0, \"Vap\", \"methane\"].fix(1e-5)\n",
    "m.fs.M101.toluene_feed.flow_mol_phase_comp[0, \"Liq\", \"benzene\"].fix(1e-5)\n",
    "m.fs.M101.toluene_feed.flow_mol_phase_comp[0, \"Liq\", \"toluene\"].fix(0.30)\n",
    "m.fs.M101.toluene_feed.flow_mol_phase_comp[0, \"Liq\", \"hydrogen\"].fix(1e-5)\n",
    "m.fs.M101.toluene_feed.flow_mol_phase_comp[0, \"Liq\", \"methane\"].fix(1e-5)\n",
    "m.fs.M101.toluene_feed.temperature.fix(303.2)\n",
    "m.fs.M101.toluene_feed.pressure.fix(350000)"
   ]
  },
  {
   "cell_type": "markdown",
   "metadata": {},
   "source": [
    "Similarly, let us fix the hydrogen feed to the following conditions in the next cell:\n",
    "      <ul>\n",
    "         <li>F<sub>H2</sub> = 0.30 mol/s</li>\n",
    "         <li>F<sub>CH4</sub> = 0.02 mol/s</li>\n",
    "         <li>Remaining components = 1e-5 mol/s</li>\n",
    "         <li>T = 303.2 K</li>\n",
    "         <li>P = 350000 Pa</li>\n",
    "      </ul>"
   ]
  },
  {
   "cell_type": "code",
   "execution_count": 30,
   "metadata": {},
   "outputs": [],
   "source": [
    "m.fs.M101.hydrogen_feed.flow_mol_phase_comp[0, \"Vap\", \"benzene\"].fix(1e-5)\n",
    "m.fs.M101.hydrogen_feed.flow_mol_phase_comp[0, \"Vap\", \"toluene\"].fix(1e-5)\n",
    "m.fs.M101.hydrogen_feed.flow_mol_phase_comp[0, \"Vap\", \"hydrogen\"].fix(0.30)\n",
    "m.fs.M101.hydrogen_feed.flow_mol_phase_comp[0, \"Vap\", \"methane\"].fix(0.02)\n",
    "m.fs.M101.hydrogen_feed.flow_mol_phase_comp[0, \"Liq\", \"benzene\"].fix(1e-5)\n",
    "m.fs.M101.hydrogen_feed.flow_mol_phase_comp[0, \"Liq\", \"toluene\"].fix(1e-5)\n",
    "m.fs.M101.hydrogen_feed.flow_mol_phase_comp[0, \"Liq\", \"hydrogen\"].fix(1e-5)\n",
    "m.fs.M101.hydrogen_feed.flow_mol_phase_comp[0, \"Liq\", \"methane\"].fix(1e-5)\n",
    "m.fs.M101.hydrogen_feed.temperature.fix(303.2)\n",
    "m.fs.M101.hydrogen_feed.pressure.fix(350000)"
   ]
  },
  {
   "cell_type": "markdown",
   "metadata": {},
   "source": [
    "### Fixing unit model specifications\n",
    "\n",
    "Now that we have fixed our inlet feed conditions, we will now be fixing the operating conditions for the unit models in the flowsheet. Let us set the H101 outlet temperature to 600 K. "
   ]
  },
  {
   "cell_type": "code",
   "execution_count": 31,
   "metadata": {},
   "outputs": [],
   "source": [
    "# Fix the temperature of the outlet from the heater H101\n",
    "m.fs.H101.outlet.temperature.fix(600)"
   ]
  },
  {
   "cell_type": "markdown",
   "metadata": {},
   "source": [
    "<div class=\"alert alert-block alert-info\">\n",
    "<b>Inline Exercise:</b>\n",
    "Set the conditions for the reactor R101 to the following conditions:\n",
    "      <ul>\n",
    "         <li>`conversion` = 0.75 </li>\n",
    "         <li>`heat_duty` = 0</li>\n",
    "      </ul>\n",
    "\n",
    "Use Shift+Enter to run the cell once you have typed in your code. \n",
    "</div>"
   ]
  },
  {
   "cell_type": "code",
   "execution_count": 32,
   "metadata": {
    "tags": [
     "exercise"
    ]
   },
   "outputs": [],
   "source": [
    "# Todo: Fix the 'conversion' of the reactor R101\n",
    "\n",
    "\n",
    "# Todo: Fix the 'heat_duty' of the reactor R101\n"
   ]
  },
  {
   "cell_type": "code",
   "execution_count": 33,
   "metadata": {
    "tags": [
     "solution"
    ]
   },
   "outputs": [],
   "source": [
    "# Todo: Fix the 'conversion' of the reactor R101\n",
    "m.fs.R101.conversion.fix(0.75)\n",
    "\n",
    "# Todo: Fix the 'heat_duty' of the reactor R101\n",
    "m.fs.R101.heat_duty.fix(0)"
   ]
  },
  {
   "cell_type": "markdown",
   "metadata": {},
   "source": [
    "The Flash conditions for F101 can be set as follows. "
   ]
  },
  {
   "cell_type": "code",
   "execution_count": 34,
   "metadata": {},
   "outputs": [],
   "source": [
    "# Fix the temperature of the vapor outlet from F101\n",
    "m.fs.F101.vap_outlet.temperature.fix(325.0)\n",
    "\n",
    "# Fix the pressure drop in the flash F101\n",
    "m.fs.F101.deltaP.fix(0)"
   ]
  },
  {
   "cell_type": "markdown",
   "metadata": {},
   "source": [
    "Let us fix the split fraction of the purge stream from the splitter S101 and the outlet pressure from the compressor C101"
   ]
  },
  {
   "cell_type": "code",
   "execution_count": 35,
   "metadata": {},
   "outputs": [],
   "source": [
    "# Fix the split fraction of the 'purge' stream from S101\n",
    "m.fs.S101.split_fraction[0, \"purge\"].fix(0.2)\n",
    "\n",
    "# Fix the pressure of the outlet from the compressor C101\n",
    "m.fs.C101.outlet.pressure.fix(350000)"
   ]
  },
  {
   "cell_type": "markdown",
   "metadata": {},
   "source": [
    "Finally, let us fix the temperature of the outlet from H102 and the pressure drop in H102 as the following"
   ]
  },
  {
   "cell_type": "code",
   "execution_count": 36,
   "metadata": {},
   "outputs": [],
   "source": [
    "# Fix the temperature of the outlet from the heater H102\n",
    "m.fs.H102.outlet.temperature.fix(375)\n",
    "\n",
    "# Fix the pressure drop in the heater H102\n",
    "m.fs.H102.deltaP.fix(-200000)"
   ]
  },
  {
   "cell_type": "markdown",
   "metadata": {},
   "source": [
    "To avoid convergence issues associated with poorly scaled variables and/or constraints, we scale the variables and constraints corresponding to the heaters H101 and H102, flash F101 and the reactor R101. Scaling factors for the flow rates, temperature, pressure, etc. have been defined in the property package: `hda_ideal_VLE.py` file. Here, we set scaling factors only for the heat duty of the heater, the reaction extent, heat duty and volume of the reactor."
   ]
  },
  {
   "cell_type": "code",
   "execution_count": 37,
   "metadata": {},
   "outputs": [
    {
     "name": "stdout",
     "output_type": "stream",
     "text": [
      "2022-07-21 10:56:23 [WARNING] idaes.core.util.scaling: Missing scaling factor for fs.H102.control_volume.properties_in[0.0].pressure\n",
      "2022-07-21 10:56:23 [WARNING] idaes.core.util.scaling: Trying to get scaling factor for unnamed expr \n",
      "2022-07-21 10:56:23 [WARNING] idaes.core.util.scaling: Trying to get scaling factor for unnamed expr \n",
      "2022-07-21 10:56:23 [WARNING] idaes.core.util.scaling: Trying to get scaling factor for unnamed expr \n",
      "2022-07-21 10:56:23 [WARNING] idaes.core.util.scaling: Trying to get scaling factor for unnamed expr \n",
      "2022-07-21 10:56:23 [WARNING] idaes.core.util.scaling: Trying to get scaling factor for unnamed expr \n",
      "2022-07-21 10:56:23 [WARNING] idaes.core.util.scaling: Trying to get scaling factor for unnamed expr \n",
      "2022-07-21 10:56:23 [WARNING] idaes.core.util.scaling: Missing scaling factor for fs.H102.control_volume.properties_in[0.0].pressure\n"
     ]
    }
   ],
   "source": [
    "# Set scaling factors for heat duty, reaction extent and volume\n",
    "iscale.set_scaling_factor(m.fs.H101.control_volume.heat, 1e-2)\n",
    "iscale.set_scaling_factor(m.fs.R101.control_volume.heat, 1e-2)\n",
    "iscale.set_scaling_factor(m.fs.R101.control_volume.rate_reaction_extent, 1)\n",
    "iscale.set_scaling_factor(m.fs.R101.control_volume.volume, 1)\n",
    "iscale.set_scaling_factor(m.fs.F101.control_volume.heat, 1e-2)\n",
    "iscale.set_scaling_factor(m.fs.H102.control_volume.heat, 1e-2)\n",
    "\n",
    "# Set the scaling factors for the remaining variables and all constraints\n",
    "iscale.calculate_scaling_factors(m.fs.H101)\n",
    "iscale.calculate_scaling_factors(m.fs.R101)\n",
    "iscale.calculate_scaling_factors(m.fs.F101)\n",
    "iscale.calculate_scaling_factors(m.fs.H102)"
   ]
  },
  {
   "cell_type": "markdown",
   "metadata": {},
   "source": [
    "<div class=\"alert alert-block alert-info\">\n",
    "<b>Inline Exercise:</b>\n",
    "We have now defined all the feed conditions and the inputs required for the unit models. The system should now have 0 degrees of freedom i.e. should be a square problem. Please check that the degrees of freedom is 0. \n",
    "\n",
    "Use Shift+Enter to run the cell once you have typed in your code. \n",
    "</div>"
   ]
  },
  {
   "cell_type": "code",
   "execution_count": 38,
   "metadata": {
    "tags": [
     "exercise"
    ]
   },
   "outputs": [],
   "source": [
    "# Todo: Check the degrees of freedom\n"
   ]
  },
  {
   "cell_type": "code",
   "execution_count": 39,
   "metadata": {
    "tags": [
     "solution"
    ]
   },
   "outputs": [
    {
     "name": "stdout",
     "output_type": "stream",
     "text": [
      "0\n"
     ]
    }
   ],
   "source": [
    "# Todo: Check the degrees of freedom\n",
    "print(degrees_of_freedom(m))"
   ]
  },
  {
   "cell_type": "code",
   "execution_count": 40,
   "metadata": {
    "tags": [
     "testing",
     "remove_cell"
    ]
   },
   "outputs": [],
   "source": [
    "# Check the degrees of freedom\n",
    "assert degrees_of_freedom(m) == 0"
   ]
  },
  {
   "cell_type": "markdown",
   "metadata": {},
   "source": [
    "### Initialization\n",
    "\n",
    "This subsection will demonstrate how to use the built-in sequential decomposition tool to initialize our flowsheet.\n",
    "\n",
    "Let us first create an object for the `SequentialDecomposition` and specify our options for this. "
   ]
  },
  {
   "cell_type": "code",
   "execution_count": 41,
   "metadata": {},
   "outputs": [],
   "source": [
    "seq = SequentialDecomposition()\n",
    "seq.options.select_tear_method = \"heuristic\"\n",
    "seq.options.tear_method = \"Wegstein\"\n",
    "seq.options.iterLim = 3\n",
    "\n",
    "# Using the SD tool\n",
    "G = seq.create_graph(m)\n",
    "heuristic_tear_set = seq.tear_set_arcs(G, method=\"heuristic\")\n",
    "order = seq.calculation_order(G)"
   ]
  },
  {
   "cell_type": "markdown",
   "metadata": {},
   "source": [
    "Which is the tear stream? Display tear set and order"
   ]
  },
  {
   "cell_type": "code",
   "execution_count": 42,
   "metadata": {},
   "outputs": [
    {
     "name": "stdout",
     "output_type": "stream",
     "text": [
      "fs.s03\n"
     ]
    }
   ],
   "source": [
    "for o in heuristic_tear_set:\n",
    "    print(o.name)"
   ]
  },
  {
   "cell_type": "markdown",
   "metadata": {},
   "source": [
    "What sequence did the SD tool determine to solve this flowsheet with the least number of tears? "
   ]
  },
  {
   "cell_type": "code",
   "execution_count": 43,
   "metadata": {},
   "outputs": [
    {
     "name": "stdout",
     "output_type": "stream",
     "text": [
      "fs.H101\n",
      "fs.R101\n",
      "fs.F101\n",
      "fs.S101\n",
      "fs.C101\n",
      "fs.M101\n"
     ]
    }
   ],
   "source": [
    "for o in order:\n",
    "    print(o[0].name)"
   ]
  },
  {
   "cell_type": "markdown",
   "metadata": {},
   "source": [
    "The SequentialDecomposition tool has determined that the tear stream is the mixer outlet (s03 in the Figure above). We will need to provide a reasonable guess for this.\n",
    "\n",
    "For the initial guess, we assume that the flowrate of the recycle stream (s09) is zero. Consequently, the flow rate of the stream s03 is simply the sum of the flowrates of the toluene feed and hydrogen feed streams. Further, since the temperature and the pressure of both the toluene and hydrogen feed streams are the same, we specify their values as the initial guess for the temperature and pressure of the stream s03."
   ]
  },
  {
   "cell_type": "code",
   "execution_count": 44,
   "metadata": {},
   "outputs": [],
   "source": [
    "tear_guesses = {\n",
    "        \"flow_mol_phase_comp\": {\n",
    "                (0, \"Vap\", \"benzene\"): 1e-5,\n",
    "                (0, \"Vap\", \"toluene\"): 1e-5,\n",
    "                (0, \"Vap\", \"hydrogen\"): 0.30,\n",
    "                (0, \"Vap\", \"methane\"): 0.02,\n",
    "                (0, \"Liq\", \"benzene\"): 1e-5,\n",
    "                (0, \"Liq\", \"toluene\"): 0.30,\n",
    "                (0, \"Liq\", \"hydrogen\"): 1e-5,\n",
    "                (0, \"Liq\", \"methane\"): 1e-5},\n",
    "        \"temperature\": {0: 303},\n",
    "        \"pressure\": {0: 350000}}\n",
    "\n",
    "# Pass the tear_guess to the SD tool\n",
    "seq.set_guesses_for(m.fs.H101.inlet, tear_guesses)"
   ]
  },
  {
   "cell_type": "markdown",
   "metadata": {},
   "source": [
    "Next, we need to tell the tool how to initialize a particular unit. We will be writing a python function which takes in a \"unit\" and calls the initialize method on that unit."
   ]
  },
  {
   "cell_type": "code",
   "execution_count": 45,
   "metadata": {},
   "outputs": [],
   "source": [
    "def function(unit):\n",
    "        unit.initialize(outlvl=idaeslog.INFO)"
   ]
  },
  {
   "cell_type": "markdown",
   "metadata": {},
   "source": [
    "We are now ready to initialize our flowsheet in a sequential mode. Note that we specifically set the iteration limit to be 3 as we are trying to use this tool only to get a good set of initial values such that IPOPT can then take over and solve this flowsheet for us. "
   ]
  },
  {
   "cell_type": "code",
   "execution_count": 46,
   "metadata": {
    "scrolled": false
   },
   "outputs": [
    {
     "name": "stdout",
     "output_type": "stream",
     "text": [
      "2022-07-21 10:56:25 [INFO] idaes.init.fs.H101.control_volume: Initialization Complete\n",
      "2022-07-21 10:56:25 [INFO] idaes.init.fs.H101: Initialization Complete: optimal - Optimal Solution Found\n",
      "2022-07-21 10:56:25 [INFO] idaes.init.fs.R101.control_volume: Initialization Complete\n",
      "2022-07-21 10:56:26 [INFO] idaes.init.fs.R101: Initialization Complete: optimal - Optimal Solution Found\n",
      "2022-07-21 10:56:26 [INFO] idaes.init.fs.F101.control_volume: Initialization Complete\n",
      "2022-07-21 10:56:26 [INFO] idaes.init.fs.F101: Initialization Complete: optimal - Optimal Solution Found\n",
      "2022-07-21 10:56:26 [INFO] idaes.init.fs.S101.purge_state: Initialization Complete\n",
      "2022-07-21 10:56:26 [INFO] idaes.init.fs.S101.recycle_state: Initialization Complete\n",
      "2022-07-21 10:56:27 [INFO] idaes.init.fs.S101: Initialization Step 2 Complete: optimal - Optimal Solution Found\n",
      "2022-07-21 10:56:27 [INFO] idaes.init.fs.translator.properties_out: Initialization Step 1 optimal - Optimal Solution Found.\n",
      "2022-07-21 10:56:27 [INFO] idaes.init.fs.translator.properties_out: Initialization Step 2 optimal - Optimal Solution Found.\n",
      "2022-07-21 10:56:27 [INFO] idaes.init.fs.translator.properties_out: Initialization Step 3 optimal - Optimal Solution Found.\n",
      "2022-07-21 10:56:28 [INFO] idaes.init.fs.translator.properties_out: Initialization Step 4 optimal - Optimal Solution Found.\n",
      "2022-07-21 10:56:28 [INFO] idaes.init.fs.translator.properties_out: Initialization Step 5 optimal - Optimal Solution Found.\n",
      "2022-07-21 10:56:28 [INFO] idaes.init.fs.translator.properties_out: State Released.\n",
      "2022-07-21 10:56:28 [INFO] idaes.init.fs.translator.properties_out: Initialization Complete: optimal - Optimal Solution Found\n",
      "2022-07-21 10:56:28 [INFO] idaes.init.fs.translator: Initialization Complete optimal - Optimal Solution Found.\n",
      "2022-07-21 10:56:29 [INFO] idaes.init.fs.C101.control_volume: Initialization Complete\n",
      "2022-07-21 10:56:29 [INFO] idaes.init.fs.C101: Initialization Complete: optimal - Optimal Solution Found\n",
      "2022-07-21 10:56:29 [INFO] idaes.init.fs.H102.control_volume.properties_in: Initialization Step 1 optimal - Optimal Solution Found.\n",
      "2022-07-21 10:56:29 [INFO] idaes.init.fs.H102.control_volume.properties_in: Initialization Step 2 optimal - Optimal Solution Found.\n",
      "2022-07-21 10:56:29 [INFO] idaes.init.fs.H102.control_volume.properties_in: Initialization Step 3 optimal - Optimal Solution Found.\n",
      "2022-07-21 10:56:30 [INFO] idaes.init.fs.H102.control_volume.properties_in: Initialization Step 4 optimal - Optimal Solution Found.\n",
      "2022-07-21 10:56:30 [INFO] idaes.init.fs.H102.control_volume.properties_in: Initialization Step 5 optimal - Optimal Solution Found.\n",
      "2022-07-21 10:56:30 [INFO] idaes.init.fs.H102.control_volume.properties_out: Initialization Step 1 optimal - Optimal Solution Found.\n",
      "2022-07-21 10:56:30 [INFO] idaes.init.fs.H102.control_volume.properties_out: Initialization Step 2 optimal - Optimal Solution Found.\n",
      "2022-07-21 10:56:31 [INFO] idaes.init.fs.H102.control_volume.properties_out: Initialization Step 3 optimal - Optimal Solution Found.\n",
      "2022-07-21 10:56:31 [INFO] idaes.init.fs.H102.control_volume.properties_out: Initialization Step 4 optimal - Optimal Solution Found.\n",
      "2022-07-21 10:56:31 [INFO] idaes.init.fs.H102.control_volume.properties_out: Initialization Step 5 optimal - Optimal Solution Found.\n",
      "2022-07-21 10:56:31 [INFO] idaes.init.fs.H102.control_volume.properties_out: State Released.\n",
      "2022-07-21 10:56:31 [INFO] idaes.init.fs.H102.control_volume: Initialization Complete\n",
      "2022-07-21 10:56:31 [INFO] idaes.init.fs.H102.control_volume.properties_in: State Released.\n",
      "2022-07-21 10:56:31 [INFO] idaes.init.fs.H102: Initialization Complete: optimal - Optimal Solution Found\n",
      "2022-07-21 10:56:32 [INFO] idaes.init.fs.M101.mixed_state: Initialization Complete\n",
      "2022-07-21 10:56:33 [INFO] idaes.init.fs.M101: Initialization Complete: optimal - Optimal Solution Found\n",
      "2022-07-21 10:56:33 [INFO] idaes.init.fs.H101.control_volume: Initialization Complete\n",
      "2022-07-21 10:56:33 [INFO] idaes.init.fs.H101: Initialization Complete: optimal - Optimal Solution Found\n",
      "2022-07-21 10:56:34 [INFO] idaes.init.fs.R101.control_volume: Initialization Complete\n",
      "2022-07-21 10:56:34 [INFO] idaes.init.fs.R101: Initialization Complete: optimal - Optimal Solution Found\n",
      "2022-07-21 10:56:34 [INFO] idaes.init.fs.F101.control_volume: Initialization Complete\n",
      "2022-07-21 10:56:35 [INFO] idaes.init.fs.F101: Initialization Complete: optimal - Optimal Solution Found\n",
      "2022-07-21 10:56:35 [INFO] idaes.init.fs.S101.purge_state: Initialization Complete\n",
      "2022-07-21 10:56:35 [INFO] idaes.init.fs.S101.recycle_state: Initialization Complete\n",
      "2022-07-21 10:56:35 [INFO] idaes.init.fs.S101: Initialization Step 2 Complete: optimal - Optimal Solution Found\n",
      "2022-07-21 10:56:35 [INFO] idaes.init.fs.C101.control_volume: Initialization Complete\n",
      "2022-07-21 10:56:36 [INFO] idaes.init.fs.C101: Initialization Complete: optimal - Optimal Solution Found\n",
      "2022-07-21 10:56:37 [INFO] idaes.init.fs.M101.mixed_state: Initialization Complete\n",
      "2022-07-21 10:56:37 [INFO] idaes.init.fs.M101: Initialization Complete: optimal - Optimal Solution Found\n",
      "2022-07-21 10:56:37 [INFO] idaes.init.fs.H101.control_volume: Initialization Complete\n",
      "2022-07-21 10:56:37 [INFO] idaes.init.fs.H101: Initialization Complete: optimal - Optimal Solution Found\n",
      "2022-07-21 10:56:38 [INFO] idaes.init.fs.R101.control_volume: Initialization Complete\n",
      "2022-07-21 10:56:38 [INFO] idaes.init.fs.R101: Initialization Complete: optimal - Optimal Solution Found\n",
      "2022-07-21 10:56:39 [INFO] idaes.init.fs.F101.control_volume: Initialization Complete\n",
      "2022-07-21 10:56:39 [INFO] idaes.init.fs.F101: Initialization Complete: optimal - Optimal Solution Found\n",
      "2022-07-21 10:56:39 [INFO] idaes.init.fs.S101.purge_state: Initialization Complete\n",
      "2022-07-21 10:56:39 [INFO] idaes.init.fs.S101.recycle_state: Initialization Complete\n",
      "2022-07-21 10:56:39 [INFO] idaes.init.fs.S101: Initialization Step 2 Complete: optimal - Optimal Solution Found\n",
      "2022-07-21 10:56:40 [INFO] idaes.init.fs.C101.control_volume: Initialization Complete\n",
      "2022-07-21 10:56:40 [INFO] idaes.init.fs.C101: Initialization Complete: optimal - Optimal Solution Found\n",
      "2022-07-21 10:56:41 [INFO] idaes.init.fs.M101.mixed_state: Initialization Complete\n",
      "2022-07-21 10:56:41 [INFO] idaes.init.fs.M101: Initialization Complete: optimal - Optimal Solution Found\n",
      "2022-07-21 10:56:42 [INFO] idaes.init.fs.H101.control_volume: Initialization Complete\n",
      "2022-07-21 10:56:42 [INFO] idaes.init.fs.H101: Initialization Complete: optimal - Optimal Solution Found\n",
      "2022-07-21 10:56:42 [INFO] idaes.init.fs.R101.control_volume: Initialization Complete\n",
      "2022-07-21 10:56:43 [INFO] idaes.init.fs.R101: Initialization Complete: optimal - Optimal Solution Found\n",
      "2022-07-21 10:56:43 [INFO] idaes.init.fs.F101.control_volume: Initialization Complete\n",
      "2022-07-21 10:56:43 [INFO] idaes.init.fs.F101: Initialization Complete: optimal - Optimal Solution Found\n",
      "2022-07-21 10:56:43 [INFO] idaes.init.fs.S101.purge_state: Initialization Complete\n",
      "2022-07-21 10:56:43 [INFO] idaes.init.fs.S101.recycle_state: Initialization Complete\n",
      "2022-07-21 10:56:44 [INFO] idaes.init.fs.S101: Initialization Step 2 Complete: optimal - Optimal Solution Found\n",
      "2022-07-21 10:56:44 [INFO] idaes.init.fs.C101.control_volume: Initialization Complete\n",
      "2022-07-21 10:56:44 [INFO] idaes.init.fs.C101: Initialization Complete: optimal - Optimal Solution Found\n",
      "2022-07-21 10:56:45 [INFO] idaes.init.fs.M101.mixed_state: Initialization Complete\n",
      "2022-07-21 10:56:46 [INFO] idaes.init.fs.M101: Initialization Complete: optimal - Optimal Solution Found\n",
      "2022-07-21 10:56:46 [INFO] idaes.init.fs.H101.control_volume: Initialization Complete\n",
      "2022-07-21 10:56:46 [INFO] idaes.init.fs.H101: Initialization Complete: optimal - Optimal Solution Found\n",
      "2022-07-21 10:56:47 [INFO] idaes.init.fs.R101.control_volume: Initialization Complete\n",
      "2022-07-21 10:56:47 [INFO] idaes.init.fs.R101: Initialization Complete: optimal - Optimal Solution Found\n",
      "2022-07-21 10:56:47 [INFO] idaes.init.fs.F101.control_volume: Initialization Complete\n",
      "2022-07-21 10:56:48 [INFO] idaes.init.fs.F101: Initialization Complete: optimal - Optimal Solution Found\n",
      "2022-07-21 10:56:48 [INFO] idaes.init.fs.S101.purge_state: Initialization Complete\n"
     ]
    },
    {
     "name": "stdout",
     "output_type": "stream",
     "text": [
      "2022-07-21 10:56:48 [INFO] idaes.init.fs.S101.recycle_state: Initialization Complete\n",
      "2022-07-21 10:56:48 [INFO] idaes.init.fs.S101: Initialization Step 2 Complete: optimal - Optimal Solution Found\n",
      "2022-07-21 10:56:48 [INFO] idaes.init.fs.C101.control_volume: Initialization Complete\n",
      "2022-07-21 10:56:49 [INFO] idaes.init.fs.C101: Initialization Complete: optimal - Optimal Solution Found\n",
      "2022-07-21 10:56:50 [INFO] idaes.init.fs.M101.mixed_state: Initialization Complete\n",
      "2022-07-21 10:56:50 [INFO] idaes.init.fs.M101: Initialization Complete: optimal - Optimal Solution Found\n",
      "WARNING: Wegstein failed to converge in 3 iterations\n",
      "2022-07-21 10:56:50 [INFO] idaes.init.fs.translator.properties_out: Initialization Step 1 optimal - Optimal Solution Found.\n",
      "2022-07-21 10:56:50 [INFO] idaes.init.fs.translator.properties_out: Initialization Step 2 optimal - Optimal Solution Found.\n",
      "2022-07-21 10:56:50 [INFO] idaes.init.fs.translator.properties_out: Initialization Step 3 optimal - Optimal Solution Found.\n",
      "2022-07-21 10:56:51 [INFO] idaes.init.fs.translator.properties_out: Initialization Step 4 optimal - Optimal Solution Found.\n",
      "2022-07-21 10:56:51 [INFO] idaes.init.fs.translator.properties_out: Initialization Step 5 optimal - Optimal Solution Found.\n",
      "2022-07-21 10:56:51 [INFO] idaes.init.fs.translator.properties_out: State Released.\n",
      "2022-07-21 10:56:51 [INFO] idaes.init.fs.translator.properties_out: Initialization Complete: optimal - Optimal Solution Found\n",
      "2022-07-21 10:56:51 [INFO] idaes.init.fs.translator: Initialization Complete optimal - Optimal Solution Found.\n",
      "2022-07-21 10:56:51 [INFO] idaes.init.fs.H102.control_volume.properties_in: Initialization Step 1 optimal - Optimal Solution Found.\n",
      "2022-07-21 10:56:52 [INFO] idaes.init.fs.H102.control_volume.properties_in: Initialization Step 2 optimal - Optimal Solution Found.\n",
      "2022-07-21 10:56:52 [INFO] idaes.init.fs.H102.control_volume.properties_in: Initialization Step 3 optimal - Optimal Solution Found.\n",
      "2022-07-21 10:56:52 [INFO] idaes.init.fs.H102.control_volume.properties_in: Initialization Step 4 optimal - Optimal Solution Found.\n",
      "2022-07-21 10:56:52 [INFO] idaes.init.fs.H102.control_volume.properties_in: Initialization Step 5 optimal - Optimal Solution Found.\n",
      "2022-07-21 10:56:53 [INFO] idaes.init.fs.H102.control_volume.properties_out: Initialization Step 1 optimal - Optimal Solution Found.\n",
      "2022-07-21 10:56:53 [INFO] idaes.init.fs.H102.control_volume.properties_out: Initialization Step 2 optimal - Optimal Solution Found.\n",
      "2022-07-21 10:56:53 [INFO] idaes.init.fs.H102.control_volume.properties_out: Initialization Step 3 optimal - Optimal Solution Found.\n",
      "2022-07-21 10:56:53 [INFO] idaes.init.fs.H102.control_volume.properties_out: Initialization Step 4 optimal - Optimal Solution Found.\n",
      "2022-07-21 10:56:53 [INFO] idaes.init.fs.H102.control_volume.properties_out: Initialization Step 5 optimal - Optimal Solution Found.\n",
      "2022-07-21 10:56:53 [INFO] idaes.init.fs.H102.control_volume.properties_out: State Released.\n",
      "2022-07-21 10:56:53 [INFO] idaes.init.fs.H102.control_volume: Initialization Complete\n",
      "2022-07-21 10:56:54 [INFO] idaes.init.fs.H102.control_volume.properties_in: State Released.\n",
      "2022-07-21 10:56:54 [INFO] idaes.init.fs.H102: Initialization Complete: optimal - Optimal Solution Found\n"
     ]
    }
   ],
   "source": [
    "seq.run(m, function)"
   ]
  },
  {
   "cell_type": "markdown",
   "metadata": {},
   "source": [
    "<div class=\"alert alert-block alert-info\">\n",
    "<b>Inline Exercise:</b>\n",
    "We have now initialized the flowsheet. Let us run the flowsheet in a simulation mode to look at the results. \n",
    "</div>"
   ]
  },
  {
   "cell_type": "code",
   "execution_count": 47,
   "metadata": {},
   "outputs": [
    {
     "name": "stdout",
     "output_type": "stream",
     "text": [
      "Ipopt 3.13.2: nlp_scaling_method=gradient-based\n",
      "tol=1e-06\n",
      "\n",
      "\n",
      "******************************************************************************\n",
      "This program contains Ipopt, a library for large-scale nonlinear optimization.\n",
      " Ipopt is released as open source code under the Eclipse Public License (EPL).\n",
      "         For more information visit http://projects.coin-or.org/Ipopt\n",
      "\n",
      "This version of Ipopt was compiled from source code available at\n",
      "    https://github.com/IDAES/Ipopt as part of the Institute for the Design of\n",
      "    Advanced Energy Systems Process Systems Engineering Framework (IDAES PSE\n",
      "    Framework) Copyright (c) 2018-2019. See https://github.com/IDAES/idaes-pse.\n",
      "\n",
      "This version of Ipopt was compiled using HSL, a collection of Fortran codes\n",
      "    for large-scale scientific computation.  All technical papers, sales and\n",
      "    publicity material resulting from use of the HSL codes within IPOPT must\n",
      "    contain the following acknowledgement:\n",
      "        HSL, a collection of Fortran codes for large-scale scientific\n",
      "        computation. See http://www.hsl.rl.ac.uk.\n",
      "******************************************************************************\n",
      "\n",
      "This is Ipopt version 3.13.2, running with linear solver ma27.\n",
      "\n",
      "Number of nonzeros in equality constraint Jacobian...:     1097\n",
      "Number of nonzeros in inequality constraint Jacobian.:        0\n",
      "Number of nonzeros in Lagrangian Hessian.............:      832\n",
      "\n",
      "Total number of variables............................:      363\n",
      "                     variables with only lower bounds:        8\n",
      "                variables with lower and upper bounds:      155\n",
      "                     variables with only upper bounds:        0\n",
      "Total number of equality constraints.................:      363\n",
      "Total number of inequality constraints...............:        0\n",
      "        inequality constraints with only lower bounds:        0\n",
      "   inequality constraints with lower and upper bounds:        0\n",
      "        inequality constraints with only upper bounds:        0\n",
      "\n",
      "iter    objective    inf_pr   inf_du lg(mu)  ||d||  lg(rg) alpha_du alpha_pr  ls\n",
      "   0  0.0000000e+00 3.82e+04 1.00e+00  -1.0 0.00e+00    -  0.00e+00 0.00e+00   0\n",
      "   1  0.0000000e+00 8.69e+03 1.44e+03  -1.0 2.00e+04    -  9.71e-01 4.67e-01H  1\n",
      "   2  0.0000000e+00 1.29e+03 1.56e+03  -1.0 1.60e+04    -  9.79e-01 4.90e-01h  1\n",
      "   3  0.0000000e+00 1.18e+03 1.55e+05  -1.0 1.40e+04    -  9.90e-01 4.99e-01h  1\n",
      "   4  0.0000000e+00 5.46e+02 2.32e+09  -1.0 8.43e+03    -  1.00e+00 9.82e-01h  1\n",
      "   5  0.0000000e+00 5.46e+03 3.66e+10  -1.0 5.97e+02    -  1.00e+00 9.90e-01h  1\n",
      "   6  0.0000000e+00 1.21e+03 8.01e+09  -1.0 5.75e+00    -  1.00e+00 1.00e+00h  1\n",
      "   7  0.0000000e+00 6.42e+00 3.87e+07  -1.0 1.53e-03    -  1.00e+00 1.00e+00f  1\n",
      "   8  0.0000000e+00 1.95e-04 9.32e+02  -1.0 7.33e-06    -  1.00e+00 1.00e+00h  1\n",
      "   9  0.0000000e+00 5.22e-08 6.93e-01  -3.8 3.45e-08    -  1.00e+00 1.00e+00h  1\n",
      "Cannot recompute multipliers for feasibility problem.  Error in eq_mult_calculator\n",
      "\n",
      "Number of Iterations....: 9\n",
      "\n",
      "                                   (scaled)                 (unscaled)\n",
      "Objective...............:   0.0000000000000000e+00    0.0000000000000000e+00\n",
      "Dual infeasibility......:   1.5042487498412640e+04    1.5042487498412640e+04\n",
      "Constraint violation....:   2.9103830456733704e-11    5.2154064178466797e-08\n",
      "Complementarity.........:   0.0000000000000000e+00    0.0000000000000000e+00\n",
      "Overall NLP error.......:   2.9103830456733704e-11    1.5042487498412640e+04\n",
      "\n",
      "\n",
      "Number of objective function evaluations             = 11\n",
      "Number of objective gradient evaluations             = 10\n",
      "Number of equality constraint evaluations            = 11\n",
      "Number of inequality constraint evaluations          = 0\n",
      "Number of equality constraint Jacobian evaluations   = 10\n",
      "Number of inequality constraint Jacobian evaluations = 0\n",
      "Number of Lagrangian Hessian evaluations             = 9\n",
      "Total CPU secs in IPOPT (w/o function evaluations)   =      0.021\n",
      "Total CPU secs in NLP function evaluations           =      0.001\n",
      "\n",
      "EXIT: Optimal Solution Found.\n"
     ]
    }
   ],
   "source": [
    "# Create the solver object\n",
    "solver = get_solver()\n",
    "\n",
    "# Solve the model\n",
    "results = solver.solve(m, tee=True)"
   ]
  },
  {
   "cell_type": "code",
   "execution_count": 48,
   "metadata": {
    "tags": [
     "testing",
     "remove_cell"
    ]
   },
   "outputs": [],
   "source": [
    "# Check solver solve status\n",
    "from pyomo.environ import TerminationCondition\n",
    "assert results.solver.termination_condition == TerminationCondition.optimal"
   ]
  },
  {
   "cell_type": "markdown",
   "metadata": {},
   "source": [
    "### Add distillation column \n",
    "\n",
    "As mentioned earlier, the `SequentialDecomposition` tool currently does not support the distillation column model. Thus, we have not included the distillation column in the flowsheet. Now that we have a converged flowsheet, we will add the distillation column and simulate the entire flowsheet. \n",
    "\n",
    "In the following, we will\n",
    "- Add the distillation column \n",
    "- Connect it to the heater \n",
    "- Add the necessary equality constraints\n",
    "- Propogate the state variable information from the outlet of the heater to the inlet of the distillation column \n",
    "- Fix the degrees of freedom of the distillation block (reflux ratio, boilup ratio, and condenser pressure)\n",
    "- Scale the control volume heat variables to help convergence\n",
    "- Initialize the distillation block.\n",
    "\n"
   ]
  },
  {
   "cell_type": "code",
   "execution_count": 49,
   "metadata": {},
   "outputs": [
    {
     "name": "stdout",
     "output_type": "stream",
     "text": [
      "2022-07-21 10:56:54 [WARNING] idaes.core.base.unit_model: DEPRECATION: <class 'idaes.core.base.process_block._ScalarTrayColumn'> has overloaded the initialize method. In v2.0, IDAES Will be moving to having a centralized initialize method which calls unit-specific initialize_build methods instead. Model developers should update their models to implement the initialize_build method instead of overloading initialize.\n",
      "2022-07-21 10:56:54 [WARNING] idaes.core.base.unit_model: DEPRECATION: <class 'idaes.models_extra.column_models.tray.TrayData'> has overloaded the initialize method. In v2.0, IDAES Will be moving to having a centralized initialize method which calls unit-specific initialize_build methods instead. Model developers should update their models to implement the initialize_build method instead of overloading initialize.\n",
      "WARNING: Implicitly replacing the Component attribute _temperature_ref\n",
      "    (type=<class 'pyomo.core.base.var.IndexedVar'>) on block\n",
      "    fs.D101.rectification_section[1] with a new Component (type=<class\n",
      "    'pyomo.core.base.var.IndexedVar'>). This is usually indicative of a\n",
      "    modelling error. To avoid this warning, use block.del_component() and\n",
      "    block.add_component().\n",
      "WARNING: Implicitly replacing the Component attribute _pressure_ref\n",
      "    (type=<class 'pyomo.core.base.var.IndexedVar'>) on block\n",
      "    fs.D101.rectification_section[1] with a new Component (type=<class\n",
      "    'pyomo.core.base.var.IndexedVar'>). This is usually indicative of a\n",
      "    modelling error. To avoid this warning, use block.del_component() and\n",
      "    block.add_component().\n",
      "2022-07-21 10:56:54 [WARNING] idaes.core.base.unit_model: DEPRECATION: <class 'idaes.models_extra.column_models.tray.TrayData'> has overloaded the initialize method. In v2.0, IDAES Will be moving to having a centralized initialize method which calls unit-specific initialize_build methods instead. Model developers should update their models to implement the initialize_build method instead of overloading initialize.\n",
      "WARNING: Implicitly replacing the Component attribute _temperature_ref\n",
      "    (type=<class 'pyomo.core.base.var.IndexedVar'>) on block\n",
      "    fs.D101.rectification_section[2] with a new Component (type=<class\n",
      "    'pyomo.core.base.var.IndexedVar'>). This is usually indicative of a\n",
      "    modelling error. To avoid this warning, use block.del_component() and\n",
      "    block.add_component().\n",
      "WARNING: Implicitly replacing the Component attribute _pressure_ref\n",
      "    (type=<class 'pyomo.core.base.var.IndexedVar'>) on block\n",
      "    fs.D101.rectification_section[2] with a new Component (type=<class\n",
      "    'pyomo.core.base.var.IndexedVar'>). This is usually indicative of a\n",
      "    modelling error. To avoid this warning, use block.del_component() and\n",
      "    block.add_component().\n",
      "2022-07-21 10:56:54 [WARNING] idaes.core.base.unit_model: DEPRECATION: <class 'idaes.models_extra.column_models.tray.TrayData'> has overloaded the initialize method. In v2.0, IDAES Will be moving to having a centralized initialize method which calls unit-specific initialize_build methods instead. Model developers should update their models to implement the initialize_build method instead of overloading initialize.\n",
      "WARNING: Implicitly replacing the Component attribute _temperature_ref\n",
      "    (type=<class 'pyomo.core.base.var.IndexedVar'>) on block\n",
      "    fs.D101.rectification_section[3] with a new Component (type=<class\n",
      "    'pyomo.core.base.var.IndexedVar'>). This is usually indicative of a\n",
      "    modelling error. To avoid this warning, use block.del_component() and\n",
      "    block.add_component().\n",
      "WARNING: Implicitly replacing the Component attribute _pressure_ref\n",
      "    (type=<class 'pyomo.core.base.var.IndexedVar'>) on block\n",
      "    fs.D101.rectification_section[3] with a new Component (type=<class\n",
      "    'pyomo.core.base.var.IndexedVar'>). This is usually indicative of a\n",
      "    modelling error. To avoid this warning, use block.del_component() and\n",
      "    block.add_component().\n",
      "2022-07-21 10:56:54 [WARNING] idaes.core.base.unit_model: DEPRECATION: <class 'idaes.models_extra.column_models.tray.TrayData'> has overloaded the initialize method. In v2.0, IDAES Will be moving to having a centralized initialize method which calls unit-specific initialize_build methods instead. Model developers should update their models to implement the initialize_build method instead of overloading initialize.\n",
      "WARNING: Implicitly replacing the Component attribute _temperature_ref\n",
      "    (type=<class 'pyomo.core.base.var.IndexedVar'>) on block\n",
      "    fs.D101.rectification_section[4] with a new Component (type=<class\n",
      "    'pyomo.core.base.var.IndexedVar'>). This is usually indicative of a\n",
      "    modelling error. To avoid this warning, use block.del_component() and\n",
      "    block.add_component().\n",
      "WARNING: Implicitly replacing the Component attribute _pressure_ref\n",
      "    (type=<class 'pyomo.core.base.var.IndexedVar'>) on block\n",
      "    fs.D101.rectification_section[4] with a new Component (type=<class\n",
      "    'pyomo.core.base.var.IndexedVar'>). This is usually indicative of a\n",
      "    modelling error. To avoid this warning, use block.del_component() and\n",
      "    block.add_component().\n",
      "2022-07-21 10:56:54 [WARNING] idaes.core.base.unit_model: DEPRECATION: <class 'idaes.core.base.process_block._ScalarTray'> has overloaded the initialize method. In v2.0, IDAES Will be moving to having a centralized initialize method which calls unit-specific initialize_build methods instead. Model developers should update their models to implement the initialize_build method instead of overloading initialize.\n",
      "WARNING: Implicitly replacing the Component attribute _temperature_ref\n",
      "    (type=<class 'pyomo.core.base.var.IndexedVar'>) on block fs.D101.feed_tray\n",
      "    with a new Component (type=<class 'pyomo.core.base.var.IndexedVar'>). This\n",
      "    is usually indicative of a modelling error. To avoid this warning, use\n",
      "    block.del_component() and block.add_component().\n",
      "WARNING: Implicitly replacing the Component attribute _pressure_ref\n",
      "    (type=<class 'pyomo.core.base.var.IndexedVar'>) on block fs.D101.feed_tray\n",
      "    with a new Component (type=<class 'pyomo.core.base.var.IndexedVar'>). This\n",
      "    is usually indicative of a modelling error. To avoid this warning, use\n",
      "    block.del_component() and block.add_component().\n",
      "2022-07-21 10:56:54 [WARNING] idaes.core.base.unit_model: DEPRECATION: <class 'idaes.models_extra.column_models.tray.TrayData'> has overloaded the initialize method. In v2.0, IDAES Will be moving to having a centralized initialize method which calls unit-specific initialize_build methods instead. Model developers should update their models to implement the initialize_build method instead of overloading initialize.\n",
      "WARNING: Implicitly replacing the Component attribute _temperature_ref\n",
      "    (type=<class 'pyomo.core.base.var.IndexedVar'>) on block\n",
      "    fs.D101.stripping_section[6] with a new Component (type=<class\n",
      "    'pyomo.core.base.var.IndexedVar'>). This is usually indicative of a\n",
      "    modelling error. To avoid this warning, use block.del_component() and\n",
      "    block.add_component().\n",
      "WARNING: Implicitly replacing the Component attribute _pressure_ref\n",
      "    (type=<class 'pyomo.core.base.var.IndexedVar'>) on block\n",
      "    fs.D101.stripping_section[6] with a new Component (type=<class\n",
      "    'pyomo.core.base.var.IndexedVar'>). This is usually indicative of a\n",
      "    modelling error. To avoid this warning, use block.del_component() and\n",
      "    block.add_component().\n",
      "2022-07-21 10:56:54 [WARNING] idaes.core.base.unit_model: DEPRECATION: <class 'idaes.models_extra.column_models.tray.TrayData'> has overloaded the initialize method. In v2.0, IDAES Will be moving to having a centralized initialize method which calls unit-specific initialize_build methods instead. Model developers should update their models to implement the initialize_build method instead of overloading initialize.\n",
      "WARNING: Implicitly replacing the Component attribute _temperature_ref\n",
      "    (type=<class 'pyomo.core.base.var.IndexedVar'>) on block\n",
      "    fs.D101.stripping_section[7] with a new Component (type=<class\n",
      "    'pyomo.core.base.var.IndexedVar'>). This is usually indicative of a\n",
      "    modelling error. To avoid this warning, use block.del_component() and\n",
      "    block.add_component().\n",
      "WARNING: Implicitly replacing the Component attribute _pressure_ref\n",
      "    (type=<class 'pyomo.core.base.var.IndexedVar'>) on block\n",
      "    fs.D101.stripping_section[7] with a new Component (type=<class\n",
      "    'pyomo.core.base.var.IndexedVar'>). This is usually indicative of a\n",
      "    modelling error. To avoid this warning, use block.del_component() and\n",
      "    block.add_component().\n"
     ]
    },
    {
     "name": "stdout",
     "output_type": "stream",
     "text": [
      "2022-07-21 10:56:54 [WARNING] idaes.core.base.unit_model: DEPRECATION: <class 'idaes.models_extra.column_models.tray.TrayData'> has overloaded the initialize method. In v2.0, IDAES Will be moving to having a centralized initialize method which calls unit-specific initialize_build methods instead. Model developers should update their models to implement the initialize_build method instead of overloading initialize.\n",
      "WARNING: Implicitly replacing the Component attribute _temperature_ref\n",
      "    (type=<class 'pyomo.core.base.var.IndexedVar'>) on block\n",
      "    fs.D101.stripping_section[8] with a new Component (type=<class\n",
      "    'pyomo.core.base.var.IndexedVar'>). This is usually indicative of a\n",
      "    modelling error. To avoid this warning, use block.del_component() and\n",
      "    block.add_component().\n",
      "WARNING: Implicitly replacing the Component attribute _pressure_ref\n",
      "    (type=<class 'pyomo.core.base.var.IndexedVar'>) on block\n",
      "    fs.D101.stripping_section[8] with a new Component (type=<class\n",
      "    'pyomo.core.base.var.IndexedVar'>). This is usually indicative of a\n",
      "    modelling error. To avoid this warning, use block.del_component() and\n",
      "    block.add_component().\n",
      "2022-07-21 10:56:54 [WARNING] idaes.core.base.unit_model: DEPRECATION: <class 'idaes.models_extra.column_models.tray.TrayData'> has overloaded the initialize method. In v2.0, IDAES Will be moving to having a centralized initialize method which calls unit-specific initialize_build methods instead. Model developers should update their models to implement the initialize_build method instead of overloading initialize.\n",
      "WARNING: Implicitly replacing the Component attribute _temperature_ref\n",
      "    (type=<class 'pyomo.core.base.var.IndexedVar'>) on block\n",
      "    fs.D101.stripping_section[9] with a new Component (type=<class\n",
      "    'pyomo.core.base.var.IndexedVar'>). This is usually indicative of a\n",
      "    modelling error. To avoid this warning, use block.del_component() and\n",
      "    block.add_component().\n",
      "WARNING: Implicitly replacing the Component attribute _pressure_ref\n",
      "    (type=<class 'pyomo.core.base.var.IndexedVar'>) on block\n",
      "    fs.D101.stripping_section[9] with a new Component (type=<class\n",
      "    'pyomo.core.base.var.IndexedVar'>). This is usually indicative of a\n",
      "    modelling error. To avoid this warning, use block.del_component() and\n",
      "    block.add_component().\n",
      "2022-07-21 10:56:54 [WARNING] idaes.core.base.unit_model: DEPRECATION: <class 'idaes.models_extra.column_models.tray.TrayData'> has overloaded the initialize method. In v2.0, IDAES Will be moving to having a centralized initialize method which calls unit-specific initialize_build methods instead. Model developers should update their models to implement the initialize_build method instead of overloading initialize.\n",
      "WARNING: Implicitly replacing the Component attribute _temperature_ref\n",
      "    (type=<class 'pyomo.core.base.var.IndexedVar'>) on block\n",
      "    fs.D101.stripping_section[10] with a new Component (type=<class\n",
      "    'pyomo.core.base.var.IndexedVar'>). This is usually indicative of a\n",
      "    modelling error. To avoid this warning, use block.del_component() and\n",
      "    block.add_component().\n",
      "WARNING: Implicitly replacing the Component attribute _pressure_ref\n",
      "    (type=<class 'pyomo.core.base.var.IndexedVar'>) on block\n",
      "    fs.D101.stripping_section[10] with a new Component (type=<class\n",
      "    'pyomo.core.base.var.IndexedVar'>). This is usually indicative of a\n",
      "    modelling error. To avoid this warning, use block.del_component() and\n",
      "    block.add_component().\n",
      "2022-07-21 10:56:54 [WARNING] idaes.core.base.unit_model: DEPRECATION: <class 'idaes.core.base.process_block._ScalarCondenser'> has overloaded the initialize method. In v2.0, IDAES Will be moving to having a centralized initialize method which calls unit-specific initialize_build methods instead. Model developers should update their models to implement the initialize_build method instead of overloading initialize.\n",
      "2022-07-21 10:56:54 [WARNING] idaes.core.base.unit_model: DEPRECATION: <class 'idaes.core.base.process_block._ScalarReboiler'> has overloaded the initialize method. In v2.0, IDAES Will be moving to having a centralized initialize method which calls unit-specific initialize_build methods instead. Model developers should update their models to implement the initialize_build method instead of overloading initialize.\n",
      "2022-07-21 10:56:55 [WARNING] idaes.core.util.scaling: Trying to get scaling factor for unnamed expr \n",
      "2022-07-21 10:56:55 [WARNING] idaes.core.util.scaling: Trying to get scaling factor for unnamed expr \n",
      "2022-07-21 10:56:55 [WARNING] idaes.core.util.scaling: Trying to get scaling factor for unnamed expr \n",
      "2022-07-21 10:56:55 [WARNING] idaes.core.util.scaling: Trying to get scaling factor for unnamed expr \n",
      "2022-07-21 10:56:55 [WARNING] idaes.core.util.scaling: Trying to get scaling factor for unnamed expr \n",
      "2022-07-21 10:56:55 [WARNING] idaes.core.util.scaling: Trying to get scaling factor for unnamed expr \n",
      "2022-07-21 10:56:55 [WARNING] idaes.core.util.scaling: Trying to get scaling factor for unnamed expr \n",
      "2022-07-21 10:56:55 [WARNING] idaes.core.util.scaling: Trying to get scaling factor for unnamed expr \n",
      "2022-07-21 10:56:55 [WARNING] idaes.core.util.scaling: Trying to get scaling factor for unnamed expr \n",
      "2022-07-21 10:56:55 [WARNING] idaes.core.util.scaling: Trying to get scaling factor for unnamed expr \n",
      "2022-07-21 10:56:55 [WARNING] idaes.core.util.scaling: Trying to get scaling factor for unnamed expr \n",
      "2022-07-21 10:56:55 [WARNING] idaes.core.util.scaling: Trying to get scaling factor for unnamed expr \n",
      "2022-07-21 10:56:55 [WARNING] idaes.core.util.scaling: Missing scaling factor for fs.D101.reboiler.control_volume.properties_in[0.0].pressure\n",
      "2022-07-21 10:56:55 [WARNING] idaes.core.util.scaling: Missing scaling factor for fs.D101.rectification_section[1].e_flow_liq_out[0.0]\n",
      "2022-07-21 10:56:55 [WARNING] idaes.core.util.scaling: Missing scaling factor for fs.D101.rectification_section[2].properties_in_liq[0.0].flow_mol\n",
      "2022-07-21 10:56:55 [WARNING] idaes.core.util.scaling: Missing scaling factor for fs.D101.rectification_section[1].e_mole_frac_liq_out[0.0,benzene]\n",
      "2022-07-21 10:56:55 [WARNING] idaes.core.util.scaling: Missing scaling factor for fs.D101.rectification_section[2].properties_in_liq[0.0].mole_frac_comp[benzene]\n",
      "2022-07-21 10:56:55 [WARNING] idaes.core.util.scaling: Missing scaling factor for fs.D101.rectification_section[1].e_mole_frac_liq_out[0.0,toluene]\n",
      "2022-07-21 10:56:55 [WARNING] idaes.core.util.scaling: Missing scaling factor for fs.D101.rectification_section[2].properties_in_liq[0.0].mole_frac_comp[toluene]\n",
      "2022-07-21 10:56:55 [WARNING] idaes.core.util.scaling: Missing scaling factor for fs.D101.rectification_section[1].properties_out[0.0].temperature\n",
      "2022-07-21 10:56:55 [WARNING] idaes.core.util.scaling: Missing scaling factor for fs.D101.rectification_section[2].properties_in_liq[0.0].temperature\n",
      "2022-07-21 10:56:55 [WARNING] idaes.core.util.scaling: Missing scaling factor for fs.D101.rectification_section[1].properties_out[0.0].pressure\n",
      "2022-07-21 10:56:55 [WARNING] idaes.core.util.scaling: Missing scaling factor for fs.D101.rectification_section[2].properties_in_liq[0.0].pressure\n",
      "2022-07-21 10:56:55 [WARNING] idaes.core.util.scaling: Missing scaling factor for fs.D101.rectification_section[2].e_flow_liq_out[0.0]\n",
      "2022-07-21 10:56:55 [WARNING] idaes.core.util.scaling: Missing scaling factor for fs.D101.rectification_section[3].properties_in_liq[0.0].flow_mol\n",
      "2022-07-21 10:56:55 [WARNING] idaes.core.util.scaling: Missing scaling factor for fs.D101.rectification_section[2].e_mole_frac_liq_out[0.0,benzene]\n",
      "2022-07-21 10:56:55 [WARNING] idaes.core.util.scaling: Missing scaling factor for fs.D101.rectification_section[3].properties_in_liq[0.0].mole_frac_comp[benzene]\n",
      "2022-07-21 10:56:55 [WARNING] idaes.core.util.scaling: Missing scaling factor for fs.D101.rectification_section[2].e_mole_frac_liq_out[0.0,toluene]\n",
      "2022-07-21 10:56:55 [WARNING] idaes.core.util.scaling: Missing scaling factor for fs.D101.rectification_section[3].properties_in_liq[0.0].mole_frac_comp[toluene]\n",
      "2022-07-21 10:56:55 [WARNING] idaes.core.util.scaling: Missing scaling factor for fs.D101.rectification_section[2].properties_out[0.0].temperature\n"
     ]
    },
    {
     "name": "stdout",
     "output_type": "stream",
     "text": [
      "2022-07-21 10:56:55 [WARNING] idaes.core.util.scaling: Missing scaling factor for fs.D101.rectification_section[3].properties_in_liq[0.0].temperature\n",
      "2022-07-21 10:56:55 [WARNING] idaes.core.util.scaling: Missing scaling factor for fs.D101.rectification_section[2].properties_out[0.0].pressure\n",
      "2022-07-21 10:56:55 [WARNING] idaes.core.util.scaling: Missing scaling factor for fs.D101.rectification_section[3].properties_in_liq[0.0].pressure\n",
      "2022-07-21 10:56:55 [WARNING] idaes.core.util.scaling: Missing scaling factor for fs.D101.rectification_section[3].e_flow_liq_out[0.0]\n",
      "2022-07-21 10:56:55 [WARNING] idaes.core.util.scaling: Missing scaling factor for fs.D101.rectification_section[4].properties_in_liq[0.0].flow_mol\n",
      "2022-07-21 10:56:55 [WARNING] idaes.core.util.scaling: Missing scaling factor for fs.D101.rectification_section[3].e_mole_frac_liq_out[0.0,benzene]\n",
      "2022-07-21 10:56:55 [WARNING] idaes.core.util.scaling: Missing scaling factor for fs.D101.rectification_section[4].properties_in_liq[0.0].mole_frac_comp[benzene]\n",
      "2022-07-21 10:56:55 [WARNING] idaes.core.util.scaling: Missing scaling factor for fs.D101.rectification_section[3].e_mole_frac_liq_out[0.0,toluene]\n",
      "2022-07-21 10:56:55 [WARNING] idaes.core.util.scaling: Missing scaling factor for fs.D101.rectification_section[4].properties_in_liq[0.0].mole_frac_comp[toluene]\n",
      "2022-07-21 10:56:55 [WARNING] idaes.core.util.scaling: Missing scaling factor for fs.D101.rectification_section[3].properties_out[0.0].temperature\n",
      "2022-07-21 10:56:55 [WARNING] idaes.core.util.scaling: Missing scaling factor for fs.D101.rectification_section[4].properties_in_liq[0.0].temperature\n",
      "2022-07-21 10:56:55 [WARNING] idaes.core.util.scaling: Missing scaling factor for fs.D101.rectification_section[3].properties_out[0.0].pressure\n",
      "2022-07-21 10:56:55 [WARNING] idaes.core.util.scaling: Missing scaling factor for fs.D101.rectification_section[4].properties_in_liq[0.0].pressure\n",
      "2022-07-21 10:56:55 [WARNING] idaes.core.util.scaling: Missing scaling factor for fs.D101.rectification_section[2].e_flow_vap_out[0.0]\n",
      "2022-07-21 10:56:55 [WARNING] idaes.core.util.scaling: Missing scaling factor for fs.D101.rectification_section[1].properties_in_vap[0.0].flow_mol\n",
      "2022-07-21 10:56:55 [WARNING] idaes.core.util.scaling: Missing scaling factor for fs.D101.rectification_section[2].e_mole_frac_vap_out[0.0,benzene]\n",
      "2022-07-21 10:56:55 [WARNING] idaes.core.util.scaling: Missing scaling factor for fs.D101.rectification_section[1].properties_in_vap[0.0].mole_frac_comp[benzene]\n",
      "2022-07-21 10:56:55 [WARNING] idaes.core.util.scaling: Missing scaling factor for fs.D101.rectification_section[2].e_mole_frac_vap_out[0.0,toluene]\n",
      "2022-07-21 10:56:55 [WARNING] idaes.core.util.scaling: Missing scaling factor for fs.D101.rectification_section[1].properties_in_vap[0.0].mole_frac_comp[toluene]\n",
      "2022-07-21 10:56:55 [WARNING] idaes.core.util.scaling: Missing scaling factor for fs.D101.rectification_section[2].properties_out[0.0].temperature\n",
      "2022-07-21 10:56:55 [WARNING] idaes.core.util.scaling: Missing scaling factor for fs.D101.rectification_section[1].properties_in_vap[0.0].temperature\n",
      "2022-07-21 10:56:55 [WARNING] idaes.core.util.scaling: Missing scaling factor for fs.D101.rectification_section[2].properties_out[0.0].pressure\n",
      "2022-07-21 10:56:55 [WARNING] idaes.core.util.scaling: Missing scaling factor for fs.D101.rectification_section[1].properties_in_vap[0.0].pressure\n",
      "2022-07-21 10:56:55 [WARNING] idaes.core.util.scaling: Missing scaling factor for fs.D101.rectification_section[3].e_flow_vap_out[0.0]\n",
      "2022-07-21 10:56:55 [WARNING] idaes.core.util.scaling: Missing scaling factor for fs.D101.rectification_section[2].properties_in_vap[0.0].flow_mol\n",
      "2022-07-21 10:56:55 [WARNING] idaes.core.util.scaling: Missing scaling factor for fs.D101.rectification_section[3].e_mole_frac_vap_out[0.0,benzene]\n",
      "2022-07-21 10:56:55 [WARNING] idaes.core.util.scaling: Missing scaling factor for fs.D101.rectification_section[2].properties_in_vap[0.0].mole_frac_comp[benzene]\n",
      "2022-07-21 10:56:55 [WARNING] idaes.core.util.scaling: Missing scaling factor for fs.D101.rectification_section[3].e_mole_frac_vap_out[0.0,toluene]\n",
      "2022-07-21 10:56:55 [WARNING] idaes.core.util.scaling: Missing scaling factor for fs.D101.rectification_section[2].properties_in_vap[0.0].mole_frac_comp[toluene]\n",
      "2022-07-21 10:56:55 [WARNING] idaes.core.util.scaling: Missing scaling factor for fs.D101.rectification_section[3].properties_out[0.0].temperature\n",
      "2022-07-21 10:56:55 [WARNING] idaes.core.util.scaling: Missing scaling factor for fs.D101.rectification_section[2].properties_in_vap[0.0].temperature\n",
      "2022-07-21 10:56:55 [WARNING] idaes.core.util.scaling: Missing scaling factor for fs.D101.rectification_section[3].properties_out[0.0].pressure\n",
      "2022-07-21 10:56:55 [WARNING] idaes.core.util.scaling: Missing scaling factor for fs.D101.rectification_section[2].properties_in_vap[0.0].pressure\n",
      "2022-07-21 10:56:55 [WARNING] idaes.core.util.scaling: Missing scaling factor for fs.D101.rectification_section[4].e_flow_vap_out[0.0]\n",
      "2022-07-21 10:56:55 [WARNING] idaes.core.util.scaling: Missing scaling factor for fs.D101.rectification_section[3].properties_in_vap[0.0].flow_mol\n",
      "2022-07-21 10:56:55 [WARNING] idaes.core.util.scaling: Missing scaling factor for fs.D101.rectification_section[4].e_mole_frac_vap_out[0.0,benzene]\n",
      "2022-07-21 10:56:55 [WARNING] idaes.core.util.scaling: Missing scaling factor for fs.D101.rectification_section[3].properties_in_vap[0.0].mole_frac_comp[benzene]\n",
      "2022-07-21 10:56:55 [WARNING] idaes.core.util.scaling: Missing scaling factor for fs.D101.rectification_section[4].e_mole_frac_vap_out[0.0,toluene]\n",
      "2022-07-21 10:56:55 [WARNING] idaes.core.util.scaling: Missing scaling factor for fs.D101.rectification_section[3].properties_in_vap[0.0].mole_frac_comp[toluene]\n",
      "2022-07-21 10:56:55 [WARNING] idaes.core.util.scaling: Missing scaling factor for fs.D101.rectification_section[4].properties_out[0.0].temperature\n",
      "2022-07-21 10:56:55 [WARNING] idaes.core.util.scaling: Missing scaling factor for fs.D101.rectification_section[3].properties_in_vap[0.0].temperature\n",
      "2022-07-21 10:56:55 [WARNING] idaes.core.util.scaling: Missing scaling factor for fs.D101.rectification_section[4].properties_out[0.0].pressure\n",
      "2022-07-21 10:56:55 [WARNING] idaes.core.util.scaling: Missing scaling factor for fs.D101.rectification_section[3].properties_in_vap[0.0].pressure\n",
      "2022-07-21 10:56:55 [WARNING] idaes.core.util.scaling: Missing scaling factor for fs.D101.stripping_section[6].e_flow_liq_out[0.0]\n",
      "2022-07-21 10:56:55 [WARNING] idaes.core.util.scaling: Missing scaling factor for fs.D101.stripping_section[7].properties_in_liq[0.0].flow_mol\n",
      "2022-07-21 10:56:55 [WARNING] idaes.core.util.scaling: Missing scaling factor for fs.D101.stripping_section[6].e_mole_frac_liq_out[0.0,benzene]\n",
      "2022-07-21 10:56:55 [WARNING] idaes.core.util.scaling: Missing scaling factor for fs.D101.stripping_section[7].properties_in_liq[0.0].mole_frac_comp[benzene]\n",
      "2022-07-21 10:56:55 [WARNING] idaes.core.util.scaling: Missing scaling factor for fs.D101.stripping_section[6].e_mole_frac_liq_out[0.0,toluene]\n",
      "2022-07-21 10:56:55 [WARNING] idaes.core.util.scaling: Missing scaling factor for fs.D101.stripping_section[7].properties_in_liq[0.0].mole_frac_comp[toluene]\n",
      "2022-07-21 10:56:55 [WARNING] idaes.core.util.scaling: Missing scaling factor for fs.D101.stripping_section[6].properties_out[0.0].temperature\n",
      "2022-07-21 10:56:55 [WARNING] idaes.core.util.scaling: Missing scaling factor for fs.D101.stripping_section[7].properties_in_liq[0.0].temperature\n",
      "2022-07-21 10:56:55 [WARNING] idaes.core.util.scaling: Missing scaling factor for fs.D101.stripping_section[6].properties_out[0.0].pressure\n",
      "2022-07-21 10:56:55 [WARNING] idaes.core.util.scaling: Missing scaling factor for fs.D101.stripping_section[7].properties_in_liq[0.0].pressure\n",
      "2022-07-21 10:56:55 [WARNING] idaes.core.util.scaling: Missing scaling factor for fs.D101.stripping_section[7].e_flow_liq_out[0.0]\n",
      "2022-07-21 10:56:55 [WARNING] idaes.core.util.scaling: Missing scaling factor for fs.D101.stripping_section[8].properties_in_liq[0.0].flow_mol\n",
      "2022-07-21 10:56:55 [WARNING] idaes.core.util.scaling: Missing scaling factor for fs.D101.stripping_section[7].e_mole_frac_liq_out[0.0,benzene]\n"
     ]
    },
    {
     "name": "stdout",
     "output_type": "stream",
     "text": [
      "2022-07-21 10:56:55 [WARNING] idaes.core.util.scaling: Missing scaling factor for fs.D101.stripping_section[8].properties_in_liq[0.0].mole_frac_comp[benzene]\n",
      "2022-07-21 10:56:55 [WARNING] idaes.core.util.scaling: Missing scaling factor for fs.D101.stripping_section[7].e_mole_frac_liq_out[0.0,toluene]\n",
      "2022-07-21 10:56:55 [WARNING] idaes.core.util.scaling: Missing scaling factor for fs.D101.stripping_section[8].properties_in_liq[0.0].mole_frac_comp[toluene]\n",
      "2022-07-21 10:56:55 [WARNING] idaes.core.util.scaling: Missing scaling factor for fs.D101.stripping_section[7].properties_out[0.0].temperature\n",
      "2022-07-21 10:56:55 [WARNING] idaes.core.util.scaling: Missing scaling factor for fs.D101.stripping_section[8].properties_in_liq[0.0].temperature\n",
      "2022-07-21 10:56:55 [WARNING] idaes.core.util.scaling: Missing scaling factor for fs.D101.stripping_section[7].properties_out[0.0].pressure\n",
      "2022-07-21 10:56:55 [WARNING] idaes.core.util.scaling: Missing scaling factor for fs.D101.stripping_section[8].properties_in_liq[0.0].pressure\n",
      "2022-07-21 10:56:55 [WARNING] idaes.core.util.scaling: Missing scaling factor for fs.D101.stripping_section[8].e_flow_liq_out[0.0]\n",
      "2022-07-21 10:56:55 [WARNING] idaes.core.util.scaling: Missing scaling factor for fs.D101.stripping_section[9].properties_in_liq[0.0].flow_mol\n",
      "2022-07-21 10:56:55 [WARNING] idaes.core.util.scaling: Missing scaling factor for fs.D101.stripping_section[8].e_mole_frac_liq_out[0.0,benzene]\n",
      "2022-07-21 10:56:55 [WARNING] idaes.core.util.scaling: Missing scaling factor for fs.D101.stripping_section[9].properties_in_liq[0.0].mole_frac_comp[benzene]\n",
      "2022-07-21 10:56:55 [WARNING] idaes.core.util.scaling: Missing scaling factor for fs.D101.stripping_section[8].e_mole_frac_liq_out[0.0,toluene]\n",
      "2022-07-21 10:56:55 [WARNING] idaes.core.util.scaling: Missing scaling factor for fs.D101.stripping_section[9].properties_in_liq[0.0].mole_frac_comp[toluene]\n",
      "2022-07-21 10:56:55 [WARNING] idaes.core.util.scaling: Missing scaling factor for fs.D101.stripping_section[8].properties_out[0.0].temperature\n",
      "2022-07-21 10:56:55 [WARNING] idaes.core.util.scaling: Missing scaling factor for fs.D101.stripping_section[9].properties_in_liq[0.0].temperature\n",
      "2022-07-21 10:56:55 [WARNING] idaes.core.util.scaling: Missing scaling factor for fs.D101.stripping_section[8].properties_out[0.0].pressure\n",
      "2022-07-21 10:56:55 [WARNING] idaes.core.util.scaling: Missing scaling factor for fs.D101.stripping_section[9].properties_in_liq[0.0].pressure\n",
      "2022-07-21 10:56:55 [WARNING] idaes.core.util.scaling: Missing scaling factor for fs.D101.stripping_section[9].e_flow_liq_out[0.0]\n",
      "2022-07-21 10:56:55 [WARNING] idaes.core.util.scaling: Missing scaling factor for fs.D101.stripping_section[10].properties_in_liq[0.0].flow_mol\n",
      "2022-07-21 10:56:55 [WARNING] idaes.core.util.scaling: Missing scaling factor for fs.D101.stripping_section[9].e_mole_frac_liq_out[0.0,benzene]\n",
      "2022-07-21 10:56:55 [WARNING] idaes.core.util.scaling: Missing scaling factor for fs.D101.stripping_section[10].properties_in_liq[0.0].mole_frac_comp[benzene]\n",
      "2022-07-21 10:56:55 [WARNING] idaes.core.util.scaling: Missing scaling factor for fs.D101.stripping_section[9].e_mole_frac_liq_out[0.0,toluene]\n",
      "2022-07-21 10:56:55 [WARNING] idaes.core.util.scaling: Missing scaling factor for fs.D101.stripping_section[10].properties_in_liq[0.0].mole_frac_comp[toluene]\n",
      "2022-07-21 10:56:55 [WARNING] idaes.core.util.scaling: Missing scaling factor for fs.D101.stripping_section[9].properties_out[0.0].temperature\n",
      "2022-07-21 10:56:55 [WARNING] idaes.core.util.scaling: Missing scaling factor for fs.D101.stripping_section[10].properties_in_liq[0.0].temperature\n",
      "2022-07-21 10:56:55 [WARNING] idaes.core.util.scaling: Missing scaling factor for fs.D101.stripping_section[9].properties_out[0.0].pressure\n",
      "2022-07-21 10:56:55 [WARNING] idaes.core.util.scaling: Missing scaling factor for fs.D101.stripping_section[10].properties_in_liq[0.0].pressure\n",
      "2022-07-21 10:56:55 [WARNING] idaes.core.util.scaling: Missing scaling factor for fs.D101.stripping_section[7].e_flow_vap_out[0.0]\n",
      "2022-07-21 10:56:55 [WARNING] idaes.core.util.scaling: Missing scaling factor for fs.D101.stripping_section[6].properties_in_vap[0.0].flow_mol\n",
      "2022-07-21 10:56:55 [WARNING] idaes.core.util.scaling: Missing scaling factor for fs.D101.stripping_section[7].e_mole_frac_vap_out[0.0,benzene]\n",
      "2022-07-21 10:56:55 [WARNING] idaes.core.util.scaling: Missing scaling factor for fs.D101.stripping_section[6].properties_in_vap[0.0].mole_frac_comp[benzene]\n",
      "2022-07-21 10:56:55 [WARNING] idaes.core.util.scaling: Missing scaling factor for fs.D101.stripping_section[7].e_mole_frac_vap_out[0.0,toluene]\n",
      "2022-07-21 10:56:55 [WARNING] idaes.core.util.scaling: Missing scaling factor for fs.D101.stripping_section[6].properties_in_vap[0.0].mole_frac_comp[toluene]\n",
      "2022-07-21 10:56:55 [WARNING] idaes.core.util.scaling: Missing scaling factor for fs.D101.stripping_section[7].properties_out[0.0].temperature\n",
      "2022-07-21 10:56:55 [WARNING] idaes.core.util.scaling: Missing scaling factor for fs.D101.stripping_section[6].properties_in_vap[0.0].temperature\n",
      "2022-07-21 10:56:55 [WARNING] idaes.core.util.scaling: Missing scaling factor for fs.D101.stripping_section[7].properties_out[0.0].pressure\n",
      "2022-07-21 10:56:55 [WARNING] idaes.core.util.scaling: Missing scaling factor for fs.D101.stripping_section[6].properties_in_vap[0.0].pressure\n",
      "2022-07-21 10:56:55 [WARNING] idaes.core.util.scaling: Missing scaling factor for fs.D101.stripping_section[8].e_flow_vap_out[0.0]\n",
      "2022-07-21 10:56:55 [WARNING] idaes.core.util.scaling: Missing scaling factor for fs.D101.stripping_section[7].properties_in_vap[0.0].flow_mol\n",
      "2022-07-21 10:56:55 [WARNING] idaes.core.util.scaling: Missing scaling factor for fs.D101.stripping_section[8].e_mole_frac_vap_out[0.0,benzene]\n",
      "2022-07-21 10:56:55 [WARNING] idaes.core.util.scaling: Missing scaling factor for fs.D101.stripping_section[7].properties_in_vap[0.0].mole_frac_comp[benzene]\n",
      "2022-07-21 10:56:55 [WARNING] idaes.core.util.scaling: Missing scaling factor for fs.D101.stripping_section[8].e_mole_frac_vap_out[0.0,toluene]\n",
      "2022-07-21 10:56:55 [WARNING] idaes.core.util.scaling: Missing scaling factor for fs.D101.stripping_section[7].properties_in_vap[0.0].mole_frac_comp[toluene]\n",
      "2022-07-21 10:56:55 [WARNING] idaes.core.util.scaling: Missing scaling factor for fs.D101.stripping_section[8].properties_out[0.0].temperature\n",
      "2022-07-21 10:56:55 [WARNING] idaes.core.util.scaling: Missing scaling factor for fs.D101.stripping_section[7].properties_in_vap[0.0].temperature\n",
      "2022-07-21 10:56:55 [WARNING] idaes.core.util.scaling: Missing scaling factor for fs.D101.stripping_section[8].properties_out[0.0].pressure\n",
      "2022-07-21 10:56:55 [WARNING] idaes.core.util.scaling: Missing scaling factor for fs.D101.stripping_section[7].properties_in_vap[0.0].pressure\n",
      "2022-07-21 10:56:55 [WARNING] idaes.core.util.scaling: Missing scaling factor for fs.D101.stripping_section[9].e_flow_vap_out[0.0]\n",
      "2022-07-21 10:56:55 [WARNING] idaes.core.util.scaling: Missing scaling factor for fs.D101.stripping_section[8].properties_in_vap[0.0].flow_mol\n",
      "2022-07-21 10:56:55 [WARNING] idaes.core.util.scaling: Missing scaling factor for fs.D101.stripping_section[9].e_mole_frac_vap_out[0.0,benzene]\n",
      "2022-07-21 10:56:55 [WARNING] idaes.core.util.scaling: Missing scaling factor for fs.D101.stripping_section[8].properties_in_vap[0.0].mole_frac_comp[benzene]\n",
      "2022-07-21 10:56:55 [WARNING] idaes.core.util.scaling: Missing scaling factor for fs.D101.stripping_section[9].e_mole_frac_vap_out[0.0,toluene]\n",
      "2022-07-21 10:56:55 [WARNING] idaes.core.util.scaling: Missing scaling factor for fs.D101.stripping_section[8].properties_in_vap[0.0].mole_frac_comp[toluene]\n",
      "2022-07-21 10:56:55 [WARNING] idaes.core.util.scaling: Missing scaling factor for fs.D101.stripping_section[9].properties_out[0.0].temperature\n",
      "2022-07-21 10:56:55 [WARNING] idaes.core.util.scaling: Missing scaling factor for fs.D101.stripping_section[8].properties_in_vap[0.0].temperature\n",
      "2022-07-21 10:56:55 [WARNING] idaes.core.util.scaling: Missing scaling factor for fs.D101.stripping_section[9].properties_out[0.0].pressure\n",
      "2022-07-21 10:56:55 [WARNING] idaes.core.util.scaling: Missing scaling factor for fs.D101.stripping_section[8].properties_in_vap[0.0].pressure\n"
     ]
    },
    {
     "name": "stdout",
     "output_type": "stream",
     "text": [
      "2022-07-21 10:56:55 [WARNING] idaes.core.util.scaling: Missing scaling factor for fs.D101.stripping_section[10].e_flow_vap_out[0.0]\n",
      "2022-07-21 10:56:55 [WARNING] idaes.core.util.scaling: Missing scaling factor for fs.D101.stripping_section[9].properties_in_vap[0.0].flow_mol\n",
      "2022-07-21 10:56:55 [WARNING] idaes.core.util.scaling: Missing scaling factor for fs.D101.stripping_section[10].e_mole_frac_vap_out[0.0,benzene]\n",
      "2022-07-21 10:56:55 [WARNING] idaes.core.util.scaling: Missing scaling factor for fs.D101.stripping_section[9].properties_in_vap[0.0].mole_frac_comp[benzene]\n",
      "2022-07-21 10:56:55 [WARNING] idaes.core.util.scaling: Missing scaling factor for fs.D101.stripping_section[10].e_mole_frac_vap_out[0.0,toluene]\n",
      "2022-07-21 10:56:55 [WARNING] idaes.core.util.scaling: Missing scaling factor for fs.D101.stripping_section[9].properties_in_vap[0.0].mole_frac_comp[toluene]\n",
      "2022-07-21 10:56:55 [WARNING] idaes.core.util.scaling: Missing scaling factor for fs.D101.stripping_section[10].properties_out[0.0].temperature\n",
      "2022-07-21 10:56:55 [WARNING] idaes.core.util.scaling: Missing scaling factor for fs.D101.stripping_section[9].properties_in_vap[0.0].temperature\n",
      "2022-07-21 10:56:55 [WARNING] idaes.core.util.scaling: Missing scaling factor for fs.D101.stripping_section[10].properties_out[0.0].pressure\n",
      "2022-07-21 10:56:55 [WARNING] idaes.core.util.scaling: Missing scaling factor for fs.D101.stripping_section[9].properties_in_vap[0.0].pressure\n",
      "2022-07-21 10:56:55 [WARNING] idaes.core.util.scaling: Missing scaling factor for fs.D101.rectification_section[4].e_flow_liq_out[0.0]\n",
      "2022-07-21 10:56:55 [WARNING] idaes.core.util.scaling: Missing scaling factor for fs.D101.feed_tray.properties_in_liq[0.0].flow_mol\n",
      "2022-07-21 10:56:55 [WARNING] idaes.core.util.scaling: Missing scaling factor for fs.D101.rectification_section[4].e_mole_frac_liq_out[0.0,benzene]\n",
      "2022-07-21 10:56:55 [WARNING] idaes.core.util.scaling: Missing scaling factor for fs.D101.feed_tray.properties_in_liq[0.0].mole_frac_comp[benzene]\n",
      "2022-07-21 10:56:55 [WARNING] idaes.core.util.scaling: Missing scaling factor for fs.D101.rectification_section[4].e_mole_frac_liq_out[0.0,toluene]\n",
      "2022-07-21 10:56:55 [WARNING] idaes.core.util.scaling: Missing scaling factor for fs.D101.feed_tray.properties_in_liq[0.0].mole_frac_comp[toluene]\n",
      "2022-07-21 10:56:55 [WARNING] idaes.core.util.scaling: Missing scaling factor for fs.D101.rectification_section[4].properties_out[0.0].temperature\n",
      "2022-07-21 10:56:55 [WARNING] idaes.core.util.scaling: Missing scaling factor for fs.D101.feed_tray.properties_in_liq[0.0].temperature\n",
      "2022-07-21 10:56:55 [WARNING] idaes.core.util.scaling: Missing scaling factor for fs.D101.rectification_section[4].properties_out[0.0].pressure\n",
      "2022-07-21 10:56:55 [WARNING] idaes.core.util.scaling: Missing scaling factor for fs.D101.feed_tray.properties_in_liq[0.0].pressure\n",
      "2022-07-21 10:56:55 [WARNING] idaes.core.util.scaling: Missing scaling factor for fs.D101.feed_tray.e_flow_liq_out[0.0]\n",
      "2022-07-21 10:56:55 [WARNING] idaes.core.util.scaling: Missing scaling factor for fs.D101.stripping_section[6].properties_in_liq[0.0].flow_mol\n",
      "2022-07-21 10:56:55 [WARNING] idaes.core.util.scaling: Missing scaling factor for fs.D101.feed_tray.e_mole_frac_liq_out[0.0,benzene]\n",
      "2022-07-21 10:56:55 [WARNING] idaes.core.util.scaling: Missing scaling factor for fs.D101.stripping_section[6].properties_in_liq[0.0].mole_frac_comp[benzene]\n",
      "2022-07-21 10:56:55 [WARNING] idaes.core.util.scaling: Missing scaling factor for fs.D101.feed_tray.e_mole_frac_liq_out[0.0,toluene]\n",
      "2022-07-21 10:56:55 [WARNING] idaes.core.util.scaling: Missing scaling factor for fs.D101.stripping_section[6].properties_in_liq[0.0].mole_frac_comp[toluene]\n",
      "2022-07-21 10:56:55 [WARNING] idaes.core.util.scaling: Missing scaling factor for fs.D101.feed_tray.properties_out[0.0].temperature\n",
      "2022-07-21 10:56:55 [WARNING] idaes.core.util.scaling: Missing scaling factor for fs.D101.stripping_section[6].properties_in_liq[0.0].temperature\n",
      "2022-07-21 10:56:55 [WARNING] idaes.core.util.scaling: Missing scaling factor for fs.D101.feed_tray.properties_out[0.0].pressure\n",
      "2022-07-21 10:56:55 [WARNING] idaes.core.util.scaling: Missing scaling factor for fs.D101.stripping_section[6].properties_in_liq[0.0].pressure\n",
      "2022-07-21 10:56:55 [WARNING] idaes.core.util.scaling: Missing scaling factor for fs.D101.stripping_section[6].e_flow_vap_out[0.0]\n",
      "2022-07-21 10:56:55 [WARNING] idaes.core.util.scaling: Missing scaling factor for fs.D101.feed_tray.properties_in_vap[0.0].flow_mol\n",
      "2022-07-21 10:56:55 [WARNING] idaes.core.util.scaling: Missing scaling factor for fs.D101.stripping_section[6].e_mole_frac_vap_out[0.0,benzene]\n",
      "2022-07-21 10:56:55 [WARNING] idaes.core.util.scaling: Missing scaling factor for fs.D101.feed_tray.properties_in_vap[0.0].mole_frac_comp[benzene]\n",
      "2022-07-21 10:56:55 [WARNING] idaes.core.util.scaling: Missing scaling factor for fs.D101.stripping_section[6].e_mole_frac_vap_out[0.0,toluene]\n",
      "2022-07-21 10:56:55 [WARNING] idaes.core.util.scaling: Missing scaling factor for fs.D101.feed_tray.properties_in_vap[0.0].mole_frac_comp[toluene]\n",
      "2022-07-21 10:56:55 [WARNING] idaes.core.util.scaling: Missing scaling factor for fs.D101.stripping_section[6].properties_out[0.0].temperature\n",
      "2022-07-21 10:56:55 [WARNING] idaes.core.util.scaling: Missing scaling factor for fs.D101.feed_tray.properties_in_vap[0.0].temperature\n",
      "2022-07-21 10:56:55 [WARNING] idaes.core.util.scaling: Missing scaling factor for fs.D101.stripping_section[6].properties_out[0.0].pressure\n",
      "2022-07-21 10:56:55 [WARNING] idaes.core.util.scaling: Missing scaling factor for fs.D101.feed_tray.properties_in_vap[0.0].pressure\n",
      "2022-07-21 10:56:55 [WARNING] idaes.core.util.scaling: Missing scaling factor for fs.D101.feed_tray.e_flow_vap_out[0.0]\n",
      "2022-07-21 10:56:55 [WARNING] idaes.core.util.scaling: Missing scaling factor for fs.D101.rectification_section[4].properties_in_vap[0.0].flow_mol\n",
      "2022-07-21 10:56:55 [WARNING] idaes.core.util.scaling: Missing scaling factor for fs.D101.feed_tray.e_mole_frac_vap_out[0.0,benzene]\n",
      "2022-07-21 10:56:55 [WARNING] idaes.core.util.scaling: Missing scaling factor for fs.D101.rectification_section[4].properties_in_vap[0.0].mole_frac_comp[benzene]\n",
      "2022-07-21 10:56:55 [WARNING] idaes.core.util.scaling: Missing scaling factor for fs.D101.feed_tray.e_mole_frac_vap_out[0.0,toluene]\n",
      "2022-07-21 10:56:55 [WARNING] idaes.core.util.scaling: Missing scaling factor for fs.D101.rectification_section[4].properties_in_vap[0.0].mole_frac_comp[toluene]\n",
      "2022-07-21 10:56:55 [WARNING] idaes.core.util.scaling: Missing scaling factor for fs.D101.feed_tray.properties_out[0.0].temperature\n",
      "2022-07-21 10:56:55 [WARNING] idaes.core.util.scaling: Missing scaling factor for fs.D101.rectification_section[4].properties_in_vap[0.0].temperature\n",
      "2022-07-21 10:56:55 [WARNING] idaes.core.util.scaling: Missing scaling factor for fs.D101.feed_tray.properties_out[0.0].pressure\n",
      "2022-07-21 10:56:55 [WARNING] idaes.core.util.scaling: Missing scaling factor for fs.D101.rectification_section[4].properties_in_vap[0.0].pressure\n",
      "2022-07-21 10:56:55 [WARNING] idaes.core.util.scaling: Missing scaling factor for fs.D101.rectification_section[1].e_flow_vap_out[0.0]\n",
      "2022-07-21 10:56:55 [WARNING] idaes.core.util.scaling: Missing scaling factor for fs.D101.condenser.control_volume.properties_in[0.0].flow_mol\n",
      "2022-07-21 10:56:55 [WARNING] idaes.core.util.scaling: Missing scaling factor for fs.D101.rectification_section[1].e_mole_frac_vap_out[0.0,benzene]\n",
      "2022-07-21 10:56:55 [WARNING] idaes.core.util.scaling: Missing scaling factor for fs.D101.condenser.control_volume.properties_in[0.0].mole_frac_comp[benzene]\n",
      "2022-07-21 10:56:55 [WARNING] idaes.core.util.scaling: Missing scaling factor for fs.D101.rectification_section[1].e_mole_frac_vap_out[0.0,toluene]\n",
      "2022-07-21 10:56:55 [WARNING] idaes.core.util.scaling: Missing scaling factor for fs.D101.condenser.control_volume.properties_in[0.0].mole_frac_comp[toluene]\n",
      "2022-07-21 10:56:55 [WARNING] idaes.core.util.scaling: Missing scaling factor for fs.D101.rectification_section[1].properties_out[0.0].temperature\n",
      "2022-07-21 10:56:55 [WARNING] idaes.core.util.scaling: Missing scaling factor for fs.D101.condenser.control_volume.properties_in[0.0].temperature\n"
     ]
    },
    {
     "name": "stdout",
     "output_type": "stream",
     "text": [
      "2022-07-21 10:56:55 [WARNING] idaes.core.util.scaling: Missing scaling factor for fs.D101.rectification_section[1].properties_out[0.0].pressure\n",
      "2022-07-21 10:56:55 [WARNING] idaes.core.util.scaling: Missing scaling factor for fs.D101.condenser.control_volume.properties_in[0.0].pressure\n",
      "2022-07-21 10:56:55 [WARNING] idaes.core.util.scaling: Missing scaling factor for fs.D101.condenser.e_reflux_flow[0.0]\n",
      "2022-07-21 10:56:55 [WARNING] idaes.core.util.scaling: Missing scaling factor for fs.D101.rectification_section[1].properties_in_liq[0.0].flow_mol\n",
      "2022-07-21 10:56:55 [WARNING] idaes.core.util.scaling: Missing scaling factor for fs.D101.condenser.control_volume.properties_out[0.0].mole_frac_comp[benzene]\n",
      "2022-07-21 10:56:55 [WARNING] idaes.core.util.scaling: Missing scaling factor for fs.D101.rectification_section[1].properties_in_liq[0.0].mole_frac_comp[benzene]\n",
      "2022-07-21 10:56:55 [WARNING] idaes.core.util.scaling: Missing scaling factor for fs.D101.condenser.control_volume.properties_out[0.0].mole_frac_comp[toluene]\n",
      "2022-07-21 10:56:55 [WARNING] idaes.core.util.scaling: Missing scaling factor for fs.D101.rectification_section[1].properties_in_liq[0.0].mole_frac_comp[toluene]\n",
      "2022-07-21 10:56:55 [WARNING] idaes.core.util.scaling: Missing scaling factor for fs.D101.condenser.control_volume.properties_out[0.0].temperature\n",
      "2022-07-21 10:56:55 [WARNING] idaes.core.util.scaling: Missing scaling factor for fs.D101.rectification_section[1].properties_in_liq[0.0].temperature\n",
      "2022-07-21 10:56:55 [WARNING] idaes.core.util.scaling: Missing scaling factor for fs.D101.condenser.control_volume.properties_out[0.0].pressure\n",
      "2022-07-21 10:56:55 [WARNING] idaes.core.util.scaling: Missing scaling factor for fs.D101.rectification_section[1].properties_in_liq[0.0].pressure\n",
      "2022-07-21 10:56:55 [WARNING] idaes.core.util.scaling: Missing scaling factor for fs.D101.stripping_section[10].e_flow_liq_out[0.0]\n",
      "2022-07-21 10:56:55 [WARNING] idaes.core.util.scaling: Missing scaling factor for fs.D101.reboiler.control_volume.properties_in[0.0].flow_mol\n",
      "2022-07-21 10:56:55 [WARNING] idaes.core.util.scaling: Missing scaling factor for fs.D101.stripping_section[10].e_mole_frac_liq_out[0.0,benzene]\n",
      "2022-07-21 10:56:55 [WARNING] idaes.core.util.scaling: Missing scaling factor for fs.D101.reboiler.control_volume.properties_in[0.0].mole_frac_comp[benzene]\n",
      "2022-07-21 10:56:55 [WARNING] idaes.core.util.scaling: Missing scaling factor for fs.D101.stripping_section[10].e_mole_frac_liq_out[0.0,toluene]\n",
      "2022-07-21 10:56:55 [WARNING] idaes.core.util.scaling: Missing scaling factor for fs.D101.reboiler.control_volume.properties_in[0.0].mole_frac_comp[toluene]\n",
      "2022-07-21 10:56:55 [WARNING] idaes.core.util.scaling: Missing scaling factor for fs.D101.stripping_section[10].properties_out[0.0].temperature\n",
      "2022-07-21 10:56:55 [WARNING] idaes.core.util.scaling: Missing scaling factor for fs.D101.reboiler.control_volume.properties_in[0.0].temperature\n",
      "2022-07-21 10:56:55 [WARNING] idaes.core.util.scaling: Missing scaling factor for fs.D101.stripping_section[10].properties_out[0.0].pressure\n",
      "2022-07-21 10:56:55 [WARNING] idaes.core.util.scaling: Missing scaling factor for fs.D101.reboiler.control_volume.properties_in[0.0].pressure\n",
      "2022-07-21 10:56:55 [WARNING] idaes.core.util.scaling: Missing scaling factor for fs.D101.reboiler.e_vap_flow[0.0]\n",
      "2022-07-21 10:56:55 [WARNING] idaes.core.util.scaling: Missing scaling factor for fs.D101.stripping_section[10].properties_in_vap[0.0].flow_mol\n",
      "2022-07-21 10:56:55 [WARNING] idaes.core.util.scaling: Missing scaling factor for fs.D101.reboiler.e_vap_frac[0.0,benzene]\n",
      "2022-07-21 10:56:55 [WARNING] idaes.core.util.scaling: Missing scaling factor for fs.D101.stripping_section[10].properties_in_vap[0.0].mole_frac_comp[benzene]\n",
      "2022-07-21 10:56:55 [WARNING] idaes.core.util.scaling: Missing scaling factor for fs.D101.reboiler.e_vap_frac[0.0,toluene]\n",
      "2022-07-21 10:56:55 [WARNING] idaes.core.util.scaling: Missing scaling factor for fs.D101.stripping_section[10].properties_in_vap[0.0].mole_frac_comp[toluene]\n",
      "2022-07-21 10:56:55 [WARNING] idaes.core.util.scaling: Missing scaling factor for fs.D101.reboiler.control_volume.properties_out[0.0].temperature\n",
      "2022-07-21 10:56:55 [WARNING] idaes.core.util.scaling: Missing scaling factor for fs.D101.stripping_section[10].properties_in_vap[0.0].temperature\n",
      "2022-07-21 10:56:55 [WARNING] idaes.core.util.scaling: Missing scaling factor for fs.D101.reboiler.control_volume.properties_out[0.0].pressure\n",
      "2022-07-21 10:56:55 [WARNING] idaes.core.util.scaling: Missing scaling factor for fs.D101.stripping_section[10].properties_in_vap[0.0].pressure\n",
      "2022-07-21 10:56:55 [INFO] idaes.init.fs.D101: Begin initialization.\n",
      "2022-07-21 10:56:55 [INFO] idaes.init.fs.D101.feed_tray: Begin initialization.\n",
      "2022-07-21 10:56:55 [INFO] idaes.init.fs.D101.feed_tray.properties_in_feed: Initialization Step 1 optimal - Optimal Solution Found.\n",
      "2022-07-21 10:56:55 [INFO] idaes.init.fs.D101.feed_tray.properties_in_feed: Initialization Step 2 optimal - Optimal Solution Found.\n",
      "2022-07-21 10:56:56 [INFO] idaes.init.fs.D101.feed_tray.properties_in_feed: Initialization Step 3 optimal - Optimal Solution Found.\n",
      "2022-07-21 10:56:56 [INFO] idaes.init.fs.D101.feed_tray.properties_in_feed: Initialization Step 4 optimal - Optimal Solution Found.\n",
      "2022-07-21 10:56:56 [INFO] idaes.init.fs.D101.feed_tray.properties_in_feed: Initialization Step 5 optimal - Optimal Solution Found.\n",
      "2022-07-21 10:56:56 [INFO] idaes.init.fs.D101.feed_tray.properties_in_liq: Initialization Step 1 optimal - Optimal Solution Found.\n",
      "2022-07-21 10:56:57 [INFO] idaes.init.fs.D101.feed_tray.properties_in_liq: Initialization Step 2 optimal - Optimal Solution Found.\n",
      "2022-07-21 10:56:57 [INFO] idaes.init.fs.D101.feed_tray.properties_in_liq: Initialization Step 3 optimal - Optimal Solution Found.\n",
      "2022-07-21 10:56:57 [INFO] idaes.init.fs.D101.feed_tray.properties_in_liq: Initialization Step 4 optimal - Optimal Solution Found.\n",
      "2022-07-21 10:56:57 [INFO] idaes.init.fs.D101.feed_tray.properties_in_liq: Initialization Step 5 optimal - Optimal Solution Found.\n",
      "2022-07-21 10:56:58 [INFO] idaes.init.fs.D101.feed_tray.properties_in_vap: Initialization Step 1 optimal - Optimal Solution Found.\n",
      "2022-07-21 10:56:58 [INFO] idaes.init.fs.D101.feed_tray.properties_in_vap: Initialization Step 2 optimal - Optimal Solution Found.\n",
      "2022-07-21 10:56:58 [INFO] idaes.init.fs.D101.feed_tray.properties_in_vap: Initialization Step 3 optimal - Optimal Solution Found.\n",
      "2022-07-21 10:56:58 [INFO] idaes.init.fs.D101.feed_tray.properties_in_vap: Initialization Step 4 optimal - Optimal Solution Found.\n",
      "2022-07-21 10:56:58 [INFO] idaes.init.fs.D101.feed_tray.properties_in_vap: Initialization Step 5 optimal - Optimal Solution Found.\n",
      "2022-07-21 10:56:59 [INFO] idaes.init.fs.D101.feed_tray.properties_out: Initialization Step 1 optimal - Optimal Solution Found.\n",
      "2022-07-21 10:56:59 [INFO] idaes.init.fs.D101.feed_tray.properties_out: Initialization Step 2 optimal - Optimal Solution Found.\n",
      "2022-07-21 10:56:59 [INFO] idaes.init.fs.D101.feed_tray.properties_out: Initialization Step 3 optimal - Optimal Solution Found.\n",
      "2022-07-21 10:56:59 [INFO] idaes.init.fs.D101.feed_tray.properties_out: Initialization Step 4 optimal - Optimal Solution Found.\n",
      "2022-07-21 10:57:00 [INFO] idaes.init.fs.D101.feed_tray.properties_out: Initialization Step 5 optimal - Optimal Solution Found.\n",
      "2022-07-21 10:57:00 [INFO] idaes.init.fs.D101.feed_tray.properties_out: State Released.\n",
      "2022-07-21 10:57:00 [INFO] idaes.init.fs.D101.feed_tray.properties_out: Initialization Complete: optimal - Optimal Solution Found\n",
      "2022-07-21 10:57:00 [INFO] idaes.init.fs.D101.feed_tray: Mass balance solve optimal - Optimal Solution Found.\n",
      "2022-07-21 10:57:00 [INFO] idaes.init.fs.D101.feed_tray: Mass and energy balance solve optimal - Optimal Solution Found.\n",
      "2022-07-21 10:57:00 [INFO] idaes.init.fs.D101.feed_tray: Mass, energy and pressure balance solve optimal - Optimal Solution Found.\n",
      "2022-07-21 10:57:00 [INFO] idaes.init.fs.D101.feed_tray: Initialization complete, status optimal - Optimal Solution Found.\n",
      "2022-07-21 10:57:00 [INFO] idaes.init.fs.D101.feed_tray.properties_in_liq: State Released.\n",
      "2022-07-21 10:57:00 [INFO] idaes.init.fs.D101.feed_tray.properties_in_vap: State Released.\n"
     ]
    },
    {
     "name": "stdout",
     "output_type": "stream",
     "text": [
      "2022-07-21 10:57:01 [INFO] idaes.init.fs.D101.condenser.control_volume.properties_in: Initialization Step 1 optimal - Optimal Solution Found.\n",
      "2022-07-21 10:57:01 [INFO] idaes.init.fs.D101.condenser.control_volume.properties_in: Initialization Step 2 optimal - Optimal Solution Found.\n",
      "2022-07-21 10:57:01 [INFO] idaes.init.fs.D101.condenser.control_volume.properties_in: Initialization Step 3 optimal - Optimal Solution Found.\n",
      "2022-07-21 10:57:01 [INFO] idaes.init.fs.D101.condenser.control_volume.properties_in: Initialization Step 4 optimal - Optimal Solution Found.\n",
      "2022-07-21 10:57:02 [INFO] idaes.init.fs.D101.condenser.control_volume.properties_in: Initialization Step 5 optimal - Optimal Solution Found.\n",
      "2022-07-21 10:57:02 [INFO] idaes.init.fs.D101.condenser.control_volume.properties_out: Initialization Step 1 optimal - Optimal Solution Found.\n",
      "2022-07-21 10:57:02 [INFO] idaes.init.fs.D101.condenser.control_volume.properties_out: Initialization Step 2 optimal - Optimal Solution Found.\n",
      "2022-07-21 10:57:02 [INFO] idaes.init.fs.D101.condenser.control_volume.properties_out: Initialization Step 3 optimal - Optimal Solution Found.\n",
      "2022-07-21 10:57:03 [INFO] idaes.init.fs.D101.condenser.control_volume.properties_out: Initialization Step 4 optimal - Optimal Solution Found.\n",
      "2022-07-21 10:57:03 [INFO] idaes.init.fs.D101.condenser.control_volume.properties_out: Initialization Step 5 optimal - Optimal Solution Found.\n",
      "2022-07-21 10:57:03 [INFO] idaes.init.fs.D101.condenser.control_volume.properties_out: State Released.\n",
      "2022-07-21 10:57:03 [INFO] idaes.init.fs.D101.condenser.control_volume: Initialization Complete\n",
      "2022-07-21 10:57:03 [INFO] idaes.init.fs.D101.condenser: Initialization Complete, optimal - Optimal Solution Found.\n",
      "2022-07-21 10:57:03 [INFO] idaes.init.fs.D101.condenser.control_volume.properties_in: State Released.\n",
      "2022-07-21 10:57:03 [INFO] idaes.init.fs.D101.reboiler.control_volume.properties_in: Initialization Step 1 optimal - Optimal Solution Found.\n",
      "2022-07-21 10:57:03 [INFO] idaes.init.fs.D101.reboiler.control_volume.properties_in: Initialization Step 2 optimal - Optimal Solution Found.\n",
      "2022-07-21 10:57:04 [INFO] idaes.init.fs.D101.reboiler.control_volume.properties_in: Initialization Step 3 optimal - Optimal Solution Found.\n",
      "2022-07-21 10:57:04 [INFO] idaes.init.fs.D101.reboiler.control_volume.properties_in: Initialization Step 4 optimal - Optimal Solution Found.\n",
      "2022-07-21 10:57:04 [INFO] idaes.init.fs.D101.reboiler.control_volume.properties_in: Initialization Step 5 optimal - Optimal Solution Found.\n",
      "2022-07-21 10:57:04 [INFO] idaes.init.fs.D101.reboiler.control_volume.properties_out: Initialization Step 1 optimal - Optimal Solution Found.\n",
      "2022-07-21 10:57:05 [INFO] idaes.init.fs.D101.reboiler.control_volume.properties_out: Initialization Step 2 optimal - Optimal Solution Found.\n",
      "2022-07-21 10:57:05 [INFO] idaes.init.fs.D101.reboiler.control_volume.properties_out: Initialization Step 3 optimal - Optimal Solution Found.\n",
      "2022-07-21 10:57:05 [INFO] idaes.init.fs.D101.reboiler.control_volume.properties_out: Initialization Step 4 optimal - Optimal Solution Found.\n",
      "2022-07-21 10:57:05 [INFO] idaes.init.fs.D101.reboiler.control_volume.properties_out: Initialization Step 5 optimal - Optimal Solution Found.\n",
      "2022-07-21 10:57:05 [INFO] idaes.init.fs.D101.reboiler.control_volume.properties_out: State Released.\n",
      "2022-07-21 10:57:05 [INFO] idaes.init.fs.D101.reboiler.control_volume.properties_out: Initialization Complete: optimal - Optimal Solution Found\n",
      "2022-07-21 10:57:06 [INFO] idaes.init.fs.D101.reboiler: Initialization Complete, optimal - Optimal Solution Found.\n",
      "2022-07-21 10:57:06 [INFO] idaes.init.fs.D101.reboiler.control_volume.properties_in: State Released.\n",
      "2022-07-21 10:57:06 [INFO] idaes.init.fs.D101.rectification_section[1]: Begin initialization.\n",
      "2022-07-21 10:57:06 [INFO] idaes.init.fs.D101.rectification_section[1].properties_in_liq: Initialization Step 1 optimal - Optimal Solution Found.\n",
      "2022-07-21 10:57:06 [INFO] idaes.init.fs.D101.rectification_section[1].properties_in_liq: Initialization Step 2 optimal - Optimal Solution Found.\n",
      "2022-07-21 10:57:06 [INFO] idaes.init.fs.D101.rectification_section[1].properties_in_liq: Initialization Step 3 optimal - Optimal Solution Found.\n",
      "2022-07-21 10:57:06 [INFO] idaes.init.fs.D101.rectification_section[1].properties_in_liq: Initialization Step 4 optimal - Optimal Solution Found.\n",
      "2022-07-21 10:57:07 [INFO] idaes.init.fs.D101.rectification_section[1].properties_in_liq: Initialization Step 5 optimal - Optimal Solution Found.\n",
      "2022-07-21 10:57:07 [INFO] idaes.init.fs.D101.rectification_section[1].properties_in_vap: Initialization Step 1 optimal - Optimal Solution Found.\n",
      "2022-07-21 10:57:07 [INFO] idaes.init.fs.D101.rectification_section[1].properties_in_vap: Initialization Step 2 optimal - Optimal Solution Found.\n",
      "2022-07-21 10:57:07 [INFO] idaes.init.fs.D101.rectification_section[1].properties_in_vap: Initialization Step 3 optimal - Optimal Solution Found.\n",
      "2022-07-21 10:57:08 [INFO] idaes.init.fs.D101.rectification_section[1].properties_in_vap: Initialization Step 4 optimal - Optimal Solution Found.\n",
      "2022-07-21 10:57:08 [INFO] idaes.init.fs.D101.rectification_section[1].properties_in_vap: Initialization Step 5 optimal - Optimal Solution Found.\n",
      "2022-07-21 10:57:08 [INFO] idaes.init.fs.D101.rectification_section[1].properties_out: Initialization Step 1 optimal - Optimal Solution Found.\n",
      "2022-07-21 10:57:08 [INFO] idaes.init.fs.D101.rectification_section[1].properties_out: Initialization Step 2 optimal - Optimal Solution Found.\n",
      "2022-07-21 10:57:09 [INFO] idaes.init.fs.D101.rectification_section[1].properties_out: Initialization Step 3 optimal - Optimal Solution Found.\n",
      "2022-07-21 10:57:09 [INFO] idaes.init.fs.D101.rectification_section[1].properties_out: Initialization Step 4 optimal - Optimal Solution Found.\n",
      "2022-07-21 10:57:09 [INFO] idaes.init.fs.D101.rectification_section[1].properties_out: Initialization Step 5 optimal - Optimal Solution Found.\n",
      "2022-07-21 10:57:09 [INFO] idaes.init.fs.D101.rectification_section[1].properties_out: State Released.\n",
      "2022-07-21 10:57:09 [INFO] idaes.init.fs.D101.rectification_section[1].properties_out: Initialization Complete: optimal - Optimal Solution Found\n",
      "2022-07-21 10:57:09 [INFO] idaes.init.fs.D101.rectification_section[1]: Mass balance solve optimal - Optimal Solution Found.\n",
      "2022-07-21 10:57:09 [INFO] idaes.init.fs.D101.rectification_section[1]: Mass and energy balance solve optimal - Optimal Solution Found.\n",
      "2022-07-21 10:57:10 [INFO] idaes.init.fs.D101.rectification_section[1]: Mass, energy and pressure balance solve optimal - Optimal Solution Found.\n",
      "2022-07-21 10:57:10 [INFO] idaes.init.fs.D101.rectification_section[1]: Initialization complete, status optimal - Optimal Solution Found.\n",
      "2022-07-21 10:57:10 [INFO] idaes.init.fs.D101.rectification_section[1].properties_in_vap: State Released.\n",
      "2022-07-21 10:57:10 [INFO] idaes.init.fs.D101.rectification_section[2]: Begin initialization.\n",
      "2022-07-21 10:57:10 [INFO] idaes.init.fs.D101.rectification_section[2].properties_in_liq: Initialization Step 1 optimal - Optimal Solution Found.\n",
      "2022-07-21 10:57:10 [INFO] idaes.init.fs.D101.rectification_section[2].properties_in_liq: Initialization Step 2 optimal - Optimal Solution Found.\n",
      "2022-07-21 10:57:10 [INFO] idaes.init.fs.D101.rectification_section[2].properties_in_liq: Initialization Step 3 optimal - Optimal Solution Found.\n",
      "2022-07-21 10:57:11 [INFO] idaes.init.fs.D101.rectification_section[2].properties_in_liq: Initialization Step 4 optimal - Optimal Solution Found.\n",
      "2022-07-21 10:57:11 [INFO] idaes.init.fs.D101.rectification_section[2].properties_in_liq: Initialization Step 5 optimal - Optimal Solution Found.\n",
      "2022-07-21 10:57:11 [INFO] idaes.init.fs.D101.rectification_section[2].properties_in_vap: Initialization Step 1 optimal - Optimal Solution Found.\n",
      "2022-07-21 10:57:11 [INFO] idaes.init.fs.D101.rectification_section[2].properties_in_vap: Initialization Step 2 optimal - Optimal Solution Found.\n",
      "2022-07-21 10:57:12 [INFO] idaes.init.fs.D101.rectification_section[2].properties_in_vap: Initialization Step 3 optimal - Optimal Solution Found.\n",
      "2022-07-21 10:57:12 [INFO] idaes.init.fs.D101.rectification_section[2].properties_in_vap: Initialization Step 4 optimal - Optimal Solution Found.\n"
     ]
    },
    {
     "name": "stdout",
     "output_type": "stream",
     "text": [
      "2022-07-21 10:57:12 [INFO] idaes.init.fs.D101.rectification_section[2].properties_in_vap: Initialization Step 5 optimal - Optimal Solution Found.\n",
      "2022-07-21 10:57:12 [INFO] idaes.init.fs.D101.rectification_section[2].properties_out: Initialization Step 1 optimal - Optimal Solution Found.\n",
      "2022-07-21 10:57:12 [INFO] idaes.init.fs.D101.rectification_section[2].properties_out: Initialization Step 2 optimal - Optimal Solution Found.\n",
      "2022-07-21 10:57:13 [INFO] idaes.init.fs.D101.rectification_section[2].properties_out: Initialization Step 3 optimal - Optimal Solution Found.\n",
      "2022-07-21 10:57:13 [INFO] idaes.init.fs.D101.rectification_section[2].properties_out: Initialization Step 4 optimal - Optimal Solution Found.\n",
      "2022-07-21 10:57:13 [INFO] idaes.init.fs.D101.rectification_section[2].properties_out: Initialization Step 5 optimal - Optimal Solution Found.\n",
      "2022-07-21 10:57:13 [INFO] idaes.init.fs.D101.rectification_section[2].properties_out: State Released.\n",
      "2022-07-21 10:57:13 [INFO] idaes.init.fs.D101.rectification_section[2].properties_out: Initialization Complete: optimal - Optimal Solution Found\n",
      "2022-07-21 10:57:13 [INFO] idaes.init.fs.D101.rectification_section[2]: Mass balance solve optimal - Optimal Solution Found.\n",
      "2022-07-21 10:57:14 [INFO] idaes.init.fs.D101.rectification_section[2]: Mass and energy balance solve optimal - Optimal Solution Found.\n",
      "2022-07-21 10:57:14 [INFO] idaes.init.fs.D101.rectification_section[2]: Mass, energy and pressure balance solve optimal - Optimal Solution Found.\n",
      "2022-07-21 10:57:14 [INFO] idaes.init.fs.D101.rectification_section[2]: Initialization complete, status optimal - Optimal Solution Found.\n",
      "2022-07-21 10:57:14 [INFO] idaes.init.fs.D101.rectification_section[2].properties_in_vap: State Released.\n",
      "2022-07-21 10:57:14 [INFO] idaes.init.fs.D101.rectification_section[2].properties_in_liq: State Released.\n",
      "2022-07-21 10:57:14 [INFO] idaes.init.fs.D101.rectification_section[3]: Begin initialization.\n",
      "2022-07-21 10:57:14 [INFO] idaes.init.fs.D101.rectification_section[3].properties_in_liq: Initialization Step 1 optimal - Optimal Solution Found.\n",
      "2022-07-21 10:57:14 [INFO] idaes.init.fs.D101.rectification_section[3].properties_in_liq: Initialization Step 2 optimal - Optimal Solution Found.\n",
      "2022-07-21 10:57:15 [INFO] idaes.init.fs.D101.rectification_section[3].properties_in_liq: Initialization Step 3 optimal - Optimal Solution Found.\n",
      "2022-07-21 10:57:15 [INFO] idaes.init.fs.D101.rectification_section[3].properties_in_liq: Initialization Step 4 optimal - Optimal Solution Found.\n",
      "2022-07-21 10:57:15 [INFO] idaes.init.fs.D101.rectification_section[3].properties_in_liq: Initialization Step 5 optimal - Optimal Solution Found.\n",
      "2022-07-21 10:57:15 [INFO] idaes.init.fs.D101.rectification_section[3].properties_in_vap: Initialization Step 1 optimal - Optimal Solution Found.\n",
      "2022-07-21 10:57:15 [INFO] idaes.init.fs.D101.rectification_section[3].properties_in_vap: Initialization Step 2 optimal - Optimal Solution Found.\n",
      "2022-07-21 10:57:16 [INFO] idaes.init.fs.D101.rectification_section[3].properties_in_vap: Initialization Step 3 optimal - Optimal Solution Found.\n",
      "2022-07-21 10:57:16 [INFO] idaes.init.fs.D101.rectification_section[3].properties_in_vap: Initialization Step 4 optimal - Optimal Solution Found.\n",
      "2022-07-21 10:57:16 [INFO] idaes.init.fs.D101.rectification_section[3].properties_in_vap: Initialization Step 5 optimal - Optimal Solution Found.\n",
      "2022-07-21 10:57:16 [INFO] idaes.init.fs.D101.rectification_section[3].properties_out: Initialization Step 1 optimal - Optimal Solution Found.\n",
      "2022-07-21 10:57:17 [INFO] idaes.init.fs.D101.rectification_section[3].properties_out: Initialization Step 2 optimal - Optimal Solution Found.\n",
      "2022-07-21 10:57:17 [INFO] idaes.init.fs.D101.rectification_section[3].properties_out: Initialization Step 3 optimal - Optimal Solution Found.\n",
      "2022-07-21 10:57:17 [INFO] idaes.init.fs.D101.rectification_section[3].properties_out: Initialization Step 4 optimal - Optimal Solution Found.\n",
      "2022-07-21 10:57:17 [INFO] idaes.init.fs.D101.rectification_section[3].properties_out: Initialization Step 5 optimal - Optimal Solution Found.\n",
      "2022-07-21 10:57:17 [INFO] idaes.init.fs.D101.rectification_section[3].properties_out: State Released.\n",
      "2022-07-21 10:57:17 [INFO] idaes.init.fs.D101.rectification_section[3].properties_out: Initialization Complete: optimal - Optimal Solution Found\n",
      "2022-07-21 10:57:17 [INFO] idaes.init.fs.D101.rectification_section[3]: Mass balance solve optimal - Optimal Solution Found.\n",
      "2022-07-21 10:57:18 [INFO] idaes.init.fs.D101.rectification_section[3]: Mass and energy balance solve optimal - Optimal Solution Found.\n",
      "2022-07-21 10:57:18 [INFO] idaes.init.fs.D101.rectification_section[3]: Mass, energy and pressure balance solve optimal - Optimal Solution Found.\n",
      "2022-07-21 10:57:18 [INFO] idaes.init.fs.D101.rectification_section[3]: Initialization complete, status optimal - Optimal Solution Found.\n",
      "2022-07-21 10:57:18 [INFO] idaes.init.fs.D101.rectification_section[3].properties_in_vap: State Released.\n",
      "2022-07-21 10:57:18 [INFO] idaes.init.fs.D101.rectification_section[3].properties_in_liq: State Released.\n",
      "2022-07-21 10:57:18 [INFO] idaes.init.fs.D101.rectification_section[4]: Begin initialization.\n",
      "2022-07-21 10:57:18 [INFO] idaes.init.fs.D101.rectification_section[4].properties_in_liq: Initialization Step 1 optimal - Optimal Solution Found.\n",
      "2022-07-21 10:57:18 [INFO] idaes.init.fs.D101.rectification_section[4].properties_in_liq: Initialization Step 2 optimal - Optimal Solution Found.\n",
      "2022-07-21 10:57:19 [INFO] idaes.init.fs.D101.rectification_section[4].properties_in_liq: Initialization Step 3 optimal - Optimal Solution Found.\n",
      "2022-07-21 10:57:19 [INFO] idaes.init.fs.D101.rectification_section[4].properties_in_liq: Initialization Step 4 optimal - Optimal Solution Found.\n",
      "2022-07-21 10:57:19 [INFO] idaes.init.fs.D101.rectification_section[4].properties_in_liq: Initialization Step 5 optimal - Optimal Solution Found.\n",
      "2022-07-21 10:57:19 [INFO] idaes.init.fs.D101.rectification_section[4].properties_in_vap: Initialization Step 1 optimal - Optimal Solution Found.\n",
      "2022-07-21 10:57:20 [INFO] idaes.init.fs.D101.rectification_section[4].properties_in_vap: Initialization Step 2 optimal - Optimal Solution Found.\n",
      "2022-07-21 10:57:20 [INFO] idaes.init.fs.D101.rectification_section[4].properties_in_vap: Initialization Step 3 optimal - Optimal Solution Found.\n",
      "2022-07-21 10:57:20 [INFO] idaes.init.fs.D101.rectification_section[4].properties_in_vap: Initialization Step 4 optimal - Optimal Solution Found.\n",
      "2022-07-21 10:57:20 [INFO] idaes.init.fs.D101.rectification_section[4].properties_in_vap: Initialization Step 5 optimal - Optimal Solution Found.\n",
      "2022-07-21 10:57:21 [INFO] idaes.init.fs.D101.rectification_section[4].properties_out: Initialization Step 1 optimal - Optimal Solution Found.\n",
      "2022-07-21 10:57:21 [INFO] idaes.init.fs.D101.rectification_section[4].properties_out: Initialization Step 2 optimal - Optimal Solution Found.\n",
      "2022-07-21 10:57:21 [INFO] idaes.init.fs.D101.rectification_section[4].properties_out: Initialization Step 3 optimal - Optimal Solution Found.\n",
      "2022-07-21 10:57:21 [INFO] idaes.init.fs.D101.rectification_section[4].properties_out: Initialization Step 4 optimal - Optimal Solution Found.\n",
      "2022-07-21 10:57:21 [INFO] idaes.init.fs.D101.rectification_section[4].properties_out: Initialization Step 5 optimal - Optimal Solution Found.\n",
      "2022-07-21 10:57:21 [INFO] idaes.init.fs.D101.rectification_section[4].properties_out: State Released.\n",
      "2022-07-21 10:57:21 [INFO] idaes.init.fs.D101.rectification_section[4].properties_out: Initialization Complete: optimal - Optimal Solution Found\n",
      "2022-07-21 10:57:22 [INFO] idaes.init.fs.D101.rectification_section[4]: Mass balance solve optimal - Optimal Solution Found.\n",
      "2022-07-21 10:57:22 [INFO] idaes.init.fs.D101.rectification_section[4]: Mass and energy balance solve optimal - Optimal Solution Found.\n",
      "2022-07-21 10:57:22 [INFO] idaes.init.fs.D101.rectification_section[4]: Mass, energy and pressure balance solve optimal - Optimal Solution Found.\n",
      "2022-07-21 10:57:22 [INFO] idaes.init.fs.D101.rectification_section[4]: Initialization complete, status optimal - Optimal Solution Found.\n"
     ]
    },
    {
     "name": "stdout",
     "output_type": "stream",
     "text": [
      "2022-07-21 10:57:22 [INFO] idaes.init.fs.D101.rectification_section[4].properties_in_liq: State Released.\n",
      "2022-07-21 10:57:22 [INFO] idaes.init.fs.D101.stripping_section[6]: Begin initialization.\n",
      "2022-07-21 10:57:22 [INFO] idaes.init.fs.D101.stripping_section[6].properties_in_liq: Initialization Step 1 optimal - Optimal Solution Found.\n",
      "2022-07-21 10:57:23 [INFO] idaes.init.fs.D101.stripping_section[6].properties_in_liq: Initialization Step 2 optimal - Optimal Solution Found.\n",
      "2022-07-21 10:57:23 [INFO] idaes.init.fs.D101.stripping_section[6].properties_in_liq: Initialization Step 3 optimal - Optimal Solution Found.\n",
      "2022-07-21 10:57:23 [INFO] idaes.init.fs.D101.stripping_section[6].properties_in_liq: Initialization Step 4 optimal - Optimal Solution Found.\n",
      "2022-07-21 10:57:23 [INFO] idaes.init.fs.D101.stripping_section[6].properties_in_liq: Initialization Step 5 optimal - Optimal Solution Found.\n",
      "2022-07-21 10:57:24 [INFO] idaes.init.fs.D101.stripping_section[6].properties_in_vap: Initialization Step 1 optimal - Optimal Solution Found.\n",
      "2022-07-21 10:57:24 [INFO] idaes.init.fs.D101.stripping_section[6].properties_in_vap: Initialization Step 2 optimal - Optimal Solution Found.\n",
      "2022-07-21 10:57:24 [INFO] idaes.init.fs.D101.stripping_section[6].properties_in_vap: Initialization Step 3 optimal - Optimal Solution Found.\n",
      "2022-07-21 10:57:24 [INFO] idaes.init.fs.D101.stripping_section[6].properties_in_vap: Initialization Step 4 optimal - Optimal Solution Found.\n",
      "2022-07-21 10:57:25 [INFO] idaes.init.fs.D101.stripping_section[6].properties_in_vap: Initialization Step 5 optimal - Optimal Solution Found.\n",
      "2022-07-21 10:57:25 [INFO] idaes.init.fs.D101.stripping_section[6].properties_out: Initialization Step 1 optimal - Optimal Solution Found.\n",
      "2022-07-21 10:57:25 [INFO] idaes.init.fs.D101.stripping_section[6].properties_out: Initialization Step 2 optimal - Optimal Solution Found.\n",
      "2022-07-21 10:57:25 [INFO] idaes.init.fs.D101.stripping_section[6].properties_out: Initialization Step 3 optimal - Optimal Solution Found.\n",
      "2022-07-21 10:57:26 [INFO] idaes.init.fs.D101.stripping_section[6].properties_out: Initialization Step 4 optimal - Optimal Solution Found.\n",
      "2022-07-21 10:57:26 [INFO] idaes.init.fs.D101.stripping_section[6].properties_out: Initialization Step 5 optimal - Optimal Solution Found.\n",
      "2022-07-21 10:57:26 [INFO] idaes.init.fs.D101.stripping_section[6].properties_out: State Released.\n",
      "2022-07-21 10:57:26 [INFO] idaes.init.fs.D101.stripping_section[6].properties_out: Initialization Complete: optimal - Optimal Solution Found\n",
      "2022-07-21 10:57:26 [INFO] idaes.init.fs.D101.stripping_section[6]: Mass balance solve optimal - Optimal Solution Found.\n",
      "2022-07-21 10:57:26 [INFO] idaes.init.fs.D101.stripping_section[6]: Mass and energy balance solve optimal - Optimal Solution Found.\n",
      "2022-07-21 10:57:27 [INFO] idaes.init.fs.D101.stripping_section[6]: Mass, energy and pressure balance solve optimal - Optimal Solution Found.\n",
      "2022-07-21 10:57:27 [INFO] idaes.init.fs.D101.stripping_section[6]: Initialization complete, status optimal - Optimal Solution Found.\n",
      "2022-07-21 10:57:27 [INFO] idaes.init.fs.D101.stripping_section[6].properties_in_vap: State Released.\n",
      "2022-07-21 10:57:27 [INFO] idaes.init.fs.D101.stripping_section[7]: Begin initialization.\n",
      "2022-07-21 10:57:27 [INFO] idaes.init.fs.D101.stripping_section[7].properties_in_liq: Initialization Step 1 optimal - Optimal Solution Found.\n",
      "2022-07-21 10:57:27 [INFO] idaes.init.fs.D101.stripping_section[7].properties_in_liq: Initialization Step 2 optimal - Optimal Solution Found.\n",
      "2022-07-21 10:57:27 [INFO] idaes.init.fs.D101.stripping_section[7].properties_in_liq: Initialization Step 3 optimal - Optimal Solution Found.\n",
      "2022-07-21 10:57:27 [INFO] idaes.init.fs.D101.stripping_section[7].properties_in_liq: Initialization Step 4 optimal - Optimal Solution Found.\n",
      "2022-07-21 10:57:28 [INFO] idaes.init.fs.D101.stripping_section[7].properties_in_liq: Initialization Step 5 optimal - Optimal Solution Found.\n",
      "2022-07-21 10:57:28 [INFO] idaes.init.fs.D101.stripping_section[7].properties_in_vap: Initialization Step 1 optimal - Optimal Solution Found.\n",
      "2022-07-21 10:57:28 [INFO] idaes.init.fs.D101.stripping_section[7].properties_in_vap: Initialization Step 2 optimal - Optimal Solution Found.\n",
      "2022-07-21 10:57:28 [INFO] idaes.init.fs.D101.stripping_section[7].properties_in_vap: Initialization Step 3 optimal - Optimal Solution Found.\n",
      "2022-07-21 10:57:29 [INFO] idaes.init.fs.D101.stripping_section[7].properties_in_vap: Initialization Step 4 optimal - Optimal Solution Found.\n",
      "2022-07-21 10:57:29 [INFO] idaes.init.fs.D101.stripping_section[7].properties_in_vap: Initialization Step 5 optimal - Optimal Solution Found.\n",
      "2022-07-21 10:57:29 [INFO] idaes.init.fs.D101.stripping_section[7].properties_out: Initialization Step 1 optimal - Optimal Solution Found.\n",
      "2022-07-21 10:57:29 [INFO] idaes.init.fs.D101.stripping_section[7].properties_out: Initialization Step 2 optimal - Optimal Solution Found.\n",
      "2022-07-21 10:57:30 [INFO] idaes.init.fs.D101.stripping_section[7].properties_out: Initialization Step 3 optimal - Optimal Solution Found.\n",
      "2022-07-21 10:57:30 [INFO] idaes.init.fs.D101.stripping_section[7].properties_out: Initialization Step 4 optimal - Optimal Solution Found.\n",
      "2022-07-21 10:57:30 [INFO] idaes.init.fs.D101.stripping_section[7].properties_out: Initialization Step 5 optimal - Optimal Solution Found.\n",
      "2022-07-21 10:57:30 [INFO] idaes.init.fs.D101.stripping_section[7].properties_out: State Released.\n",
      "2022-07-21 10:57:30 [INFO] idaes.init.fs.D101.stripping_section[7].properties_out: Initialization Complete: optimal - Optimal Solution Found\n",
      "2022-07-21 10:57:30 [INFO] idaes.init.fs.D101.stripping_section[7]: Mass balance solve optimal - Optimal Solution Found.\n",
      "2022-07-21 10:57:31 [INFO] idaes.init.fs.D101.stripping_section[7]: Mass and energy balance solve optimal - Optimal Solution Found.\n",
      "2022-07-21 10:57:31 [INFO] idaes.init.fs.D101.stripping_section[7]: Mass, energy and pressure balance solve optimal - Optimal Solution Found.\n",
      "2022-07-21 10:57:31 [INFO] idaes.init.fs.D101.stripping_section[7]: Initialization complete, status optimal - Optimal Solution Found.\n",
      "2022-07-21 10:57:31 [INFO] idaes.init.fs.D101.stripping_section[7].properties_in_vap: State Released.\n",
      "2022-07-21 10:57:31 [INFO] idaes.init.fs.D101.stripping_section[7].properties_in_liq: State Released.\n",
      "2022-07-21 10:57:31 [INFO] idaes.init.fs.D101.stripping_section[8]: Begin initialization.\n",
      "2022-07-21 10:57:31 [INFO] idaes.init.fs.D101.stripping_section[8].properties_in_liq: Initialization Step 1 optimal - Optimal Solution Found.\n",
      "2022-07-21 10:57:31 [INFO] idaes.init.fs.D101.stripping_section[8].properties_in_liq: Initialization Step 2 optimal - Optimal Solution Found.\n",
      "2022-07-21 10:57:32 [INFO] idaes.init.fs.D101.stripping_section[8].properties_in_liq: Initialization Step 3 optimal - Optimal Solution Found.\n",
      "2022-07-21 10:57:32 [INFO] idaes.init.fs.D101.stripping_section[8].properties_in_liq: Initialization Step 4 optimal - Optimal Solution Found.\n",
      "2022-07-21 10:57:32 [INFO] idaes.init.fs.D101.stripping_section[8].properties_in_liq: Initialization Step 5 optimal - Optimal Solution Found.\n",
      "2022-07-21 10:57:32 [INFO] idaes.init.fs.D101.stripping_section[8].properties_in_vap: Initialization Step 1 optimal - Optimal Solution Found.\n",
      "2022-07-21 10:57:33 [INFO] idaes.init.fs.D101.stripping_section[8].properties_in_vap: Initialization Step 2 optimal - Optimal Solution Found.\n",
      "2022-07-21 10:57:33 [INFO] idaes.init.fs.D101.stripping_section[8].properties_in_vap: Initialization Step 3 optimal - Optimal Solution Found.\n",
      "2022-07-21 10:57:33 [INFO] idaes.init.fs.D101.stripping_section[8].properties_in_vap: Initialization Step 4 optimal - Optimal Solution Found.\n",
      "2022-07-21 10:57:33 [INFO] idaes.init.fs.D101.stripping_section[8].properties_in_vap: Initialization Step 5 optimal - Optimal Solution Found.\n",
      "2022-07-21 10:57:34 [INFO] idaes.init.fs.D101.stripping_section[8].properties_out: Initialization Step 1 optimal - Optimal Solution Found.\n",
      "2022-07-21 10:57:34 [INFO] idaes.init.fs.D101.stripping_section[8].properties_out: Initialization Step 2 optimal - Optimal Solution Found.\n",
      "2022-07-21 10:57:34 [INFO] idaes.init.fs.D101.stripping_section[8].properties_out: Initialization Step 3 optimal - Optimal Solution Found.\n"
     ]
    },
    {
     "name": "stdout",
     "output_type": "stream",
     "text": [
      "2022-07-21 10:57:34 [INFO] idaes.init.fs.D101.stripping_section[8].properties_out: Initialization Step 4 optimal - Optimal Solution Found.\n",
      "2022-07-21 10:57:35 [INFO] idaes.init.fs.D101.stripping_section[8].properties_out: Initialization Step 5 optimal - Optimal Solution Found.\n",
      "2022-07-21 10:57:35 [INFO] idaes.init.fs.D101.stripping_section[8].properties_out: State Released.\n",
      "2022-07-21 10:57:35 [INFO] idaes.init.fs.D101.stripping_section[8].properties_out: Initialization Complete: optimal - Optimal Solution Found\n",
      "2022-07-21 10:57:35 [INFO] idaes.init.fs.D101.stripping_section[8]: Mass balance solve optimal - Optimal Solution Found.\n",
      "2022-07-21 10:57:35 [INFO] idaes.init.fs.D101.stripping_section[8]: Mass and energy balance solve optimal - Optimal Solution Found.\n",
      "2022-07-21 10:57:35 [INFO] idaes.init.fs.D101.stripping_section[8]: Mass, energy and pressure balance solve optimal - Optimal Solution Found.\n",
      "2022-07-21 10:57:35 [INFO] idaes.init.fs.D101.stripping_section[8]: Initialization complete, status optimal - Optimal Solution Found.\n",
      "2022-07-21 10:57:35 [INFO] idaes.init.fs.D101.stripping_section[8].properties_in_vap: State Released.\n",
      "2022-07-21 10:57:35 [INFO] idaes.init.fs.D101.stripping_section[8].properties_in_liq: State Released.\n",
      "2022-07-21 10:57:35 [INFO] idaes.init.fs.D101.stripping_section[9]: Begin initialization.\n",
      "2022-07-21 10:57:36 [INFO] idaes.init.fs.D101.stripping_section[9].properties_in_liq: Initialization Step 1 optimal - Optimal Solution Found.\n",
      "2022-07-21 10:57:36 [INFO] idaes.init.fs.D101.stripping_section[9].properties_in_liq: Initialization Step 2 optimal - Optimal Solution Found.\n",
      "2022-07-21 10:57:36 [INFO] idaes.init.fs.D101.stripping_section[9].properties_in_liq: Initialization Step 3 optimal - Optimal Solution Found.\n",
      "2022-07-21 10:57:36 [INFO] idaes.init.fs.D101.stripping_section[9].properties_in_liq: Initialization Step 4 optimal - Optimal Solution Found.\n",
      "2022-07-21 10:57:37 [INFO] idaes.init.fs.D101.stripping_section[9].properties_in_liq: Initialization Step 5 optimal - Optimal Solution Found.\n",
      "2022-07-21 10:57:37 [INFO] idaes.init.fs.D101.stripping_section[9].properties_in_vap: Initialization Step 1 optimal - Optimal Solution Found.\n",
      "2022-07-21 10:57:37 [INFO] idaes.init.fs.D101.stripping_section[9].properties_in_vap: Initialization Step 2 optimal - Optimal Solution Found.\n",
      "2022-07-21 10:57:37 [INFO] idaes.init.fs.D101.stripping_section[9].properties_in_vap: Initialization Step 3 optimal - Optimal Solution Found.\n",
      "2022-07-21 10:57:38 [INFO] idaes.init.fs.D101.stripping_section[9].properties_in_vap: Initialization Step 4 optimal - Optimal Solution Found.\n",
      "2022-07-21 10:57:38 [INFO] idaes.init.fs.D101.stripping_section[9].properties_in_vap: Initialization Step 5 optimal - Optimal Solution Found.\n",
      "2022-07-21 10:57:38 [INFO] idaes.init.fs.D101.stripping_section[9].properties_out: Initialization Step 1 optimal - Optimal Solution Found.\n",
      "2022-07-21 10:57:38 [INFO] idaes.init.fs.D101.stripping_section[9].properties_out: Initialization Step 2 optimal - Optimal Solution Found.\n",
      "2022-07-21 10:57:39 [INFO] idaes.init.fs.D101.stripping_section[9].properties_out: Initialization Step 3 optimal - Optimal Solution Found.\n",
      "2022-07-21 10:57:39 [INFO] idaes.init.fs.D101.stripping_section[9].properties_out: Initialization Step 4 optimal - Optimal Solution Found.\n",
      "2022-07-21 10:57:39 [INFO] idaes.init.fs.D101.stripping_section[9].properties_out: Initialization Step 5 optimal - Optimal Solution Found.\n",
      "2022-07-21 10:57:39 [INFO] idaes.init.fs.D101.stripping_section[9].properties_out: State Released.\n",
      "2022-07-21 10:57:39 [INFO] idaes.init.fs.D101.stripping_section[9].properties_out: Initialization Complete: optimal - Optimal Solution Found\n",
      "2022-07-21 10:57:39 [INFO] idaes.init.fs.D101.stripping_section[9]: Mass balance solve optimal - Optimal Solution Found.\n",
      "2022-07-21 10:57:40 [INFO] idaes.init.fs.D101.stripping_section[9]: Mass and energy balance solve optimal - Optimal Solution Found.\n",
      "2022-07-21 10:57:40 [INFO] idaes.init.fs.D101.stripping_section[9]: Mass, energy and pressure balance solve optimal - Optimal Solution Found.\n",
      "2022-07-21 10:57:40 [INFO] idaes.init.fs.D101.stripping_section[9]: Initialization complete, status optimal - Optimal Solution Found.\n",
      "2022-07-21 10:57:40 [INFO] idaes.init.fs.D101.stripping_section[9].properties_in_vap: State Released.\n",
      "2022-07-21 10:57:40 [INFO] idaes.init.fs.D101.stripping_section[9].properties_in_liq: State Released.\n",
      "2022-07-21 10:57:40 [INFO] idaes.init.fs.D101.stripping_section[10]: Begin initialization.\n",
      "2022-07-21 10:57:40 [INFO] idaes.init.fs.D101.stripping_section[10].properties_in_liq: Initialization Step 1 optimal - Optimal Solution Found.\n",
      "2022-07-21 10:57:40 [INFO] idaes.init.fs.D101.stripping_section[10].properties_in_liq: Initialization Step 2 optimal - Optimal Solution Found.\n",
      "2022-07-21 10:57:41 [INFO] idaes.init.fs.D101.stripping_section[10].properties_in_liq: Initialization Step 3 optimal - Optimal Solution Found.\n",
      "2022-07-21 10:57:41 [INFO] idaes.init.fs.D101.stripping_section[10].properties_in_liq: Initialization Step 4 optimal - Optimal Solution Found.\n",
      "2022-07-21 10:57:41 [INFO] idaes.init.fs.D101.stripping_section[10].properties_in_liq: Initialization Step 5 optimal - Optimal Solution Found.\n",
      "2022-07-21 10:57:41 [INFO] idaes.init.fs.D101.stripping_section[10].properties_in_vap: Initialization Step 1 optimal - Optimal Solution Found.\n",
      "2022-07-21 10:57:42 [INFO] idaes.init.fs.D101.stripping_section[10].properties_in_vap: Initialization Step 2 optimal - Optimal Solution Found.\n",
      "2022-07-21 10:57:42 [INFO] idaes.init.fs.D101.stripping_section[10].properties_in_vap: Initialization Step 3 optimal - Optimal Solution Found.\n",
      "2022-07-21 10:57:42 [INFO] idaes.init.fs.D101.stripping_section[10].properties_in_vap: Initialization Step 4 optimal - Optimal Solution Found.\n",
      "2022-07-21 10:57:42 [INFO] idaes.init.fs.D101.stripping_section[10].properties_in_vap: Initialization Step 5 optimal - Optimal Solution Found.\n",
      "2022-07-21 10:57:42 [INFO] idaes.init.fs.D101.stripping_section[10].properties_out: Initialization Step 1 optimal - Optimal Solution Found.\n",
      "2022-07-21 10:57:43 [INFO] idaes.init.fs.D101.stripping_section[10].properties_out: Initialization Step 2 optimal - Optimal Solution Found.\n",
      "2022-07-21 10:57:43 [INFO] idaes.init.fs.D101.stripping_section[10].properties_out: Initialization Step 3 optimal - Optimal Solution Found.\n",
      "2022-07-21 10:57:43 [INFO] idaes.init.fs.D101.stripping_section[10].properties_out: Initialization Step 4 optimal - Optimal Solution Found.\n",
      "2022-07-21 10:57:43 [INFO] idaes.init.fs.D101.stripping_section[10].properties_out: Initialization Step 5 optimal - Optimal Solution Found.\n",
      "2022-07-21 10:57:43 [INFO] idaes.init.fs.D101.stripping_section[10].properties_out: State Released.\n",
      "2022-07-21 10:57:43 [INFO] idaes.init.fs.D101.stripping_section[10].properties_out: Initialization Complete: optimal - Optimal Solution Found\n",
      "2022-07-21 10:57:44 [INFO] idaes.init.fs.D101.stripping_section[10]: Mass balance solve optimal - Optimal Solution Found.\n",
      "2022-07-21 10:57:44 [INFO] idaes.init.fs.D101.stripping_section[10]: Mass and energy balance solve optimal - Optimal Solution Found.\n",
      "2022-07-21 10:57:44 [INFO] idaes.init.fs.D101.stripping_section[10]: Mass, energy and pressure balance solve optimal - Optimal Solution Found.\n",
      "2022-07-21 10:57:44 [INFO] idaes.init.fs.D101.stripping_section[10]: Initialization complete, status optimal - Optimal Solution Found.\n",
      "2022-07-21 10:57:44 [INFO] idaes.init.fs.D101.stripping_section[10].properties_in_liq: State Released.\n",
      "2022-07-21 10:57:44 [INFO] idaes.init.fs.D101: Rectification section initialization status optimal - Optimal Solution Found.\n",
      "2022-07-21 10:57:45 [INFO] idaes.init.fs.D101: Stripping section initialization status optimal - Optimal Solution Found.\n",
      "2022-07-21 10:57:45 [INFO] idaes.init.fs.D101.rectification_section[4].properties_in_vap: State Released.\n",
      "2022-07-21 10:57:45 [INFO] idaes.init.fs.D101.stripping_section[6].properties_in_liq: State Released.\n",
      "2022-07-21 10:57:45 [INFO] idaes.init.fs.D101: Column section initialization status optimal - Optimal Solution Found.\n",
      "2022-07-21 10:57:45 [INFO] idaes.init.fs.D101.rectification_section[1].properties_in_liq: State Released.\n"
     ]
    },
    {
     "name": "stdout",
     "output_type": "stream",
     "text": [
      "2022-07-21 10:57:46 [INFO] idaes.init.fs.D101: Column section + Condenser initialization status optimal - Optimal Solution Found.\n",
      "2022-07-21 10:57:46 [INFO] idaes.init.fs.D101.stripping_section[10].properties_in_vap: State Released.\n",
      "2022-07-21 10:57:46 [INFO] idaes.init.fs.D101: Column section + Condenser + Reboiler initialization status optimal - Optimal Solution Found.\n",
      "2022-07-21 10:57:46 [INFO] idaes.init.fs.D101.feed_tray.properties_in_feed: State Released.\n"
     ]
    }
   ],
   "source": [
    "# Add distillation column to the flowsheet\n",
    "m.fs.D101 = TrayColumn(default={\n",
    "                        \"number_of_trays\": 10,\n",
    "                        \"feed_tray_location\": 5,\n",
    "                        \"condenser_type\":\n",
    "                            CondenserType.totalCondenser,\n",
    "                        \"condenser_temperature_spec\":\n",
    "                            TemperatureSpec.atBubblePoint,\n",
    "                        \"property_package\": m.fs.BT_params})\n",
    "\n",
    "# Connect the outlet from the heater H102 to the distillation column\n",
    "m.fs.s11 = Arc(source=m.fs.H102.outlet, \n",
    "               destination=m.fs.D101.feed)\n",
    "\n",
    "# Add the necessary equality constraints\n",
    "TransformationFactory(\"network.expand_arcs\").apply_to(m)\n",
    "\n",
    "# Propagate the state\n",
    "propagate_state(m.fs.s11)\n",
    "\n",
    "# Fix the reflux ratio, boilup ratio, and the condenser pressure\n",
    "m.fs.D101.condenser.reflux_ratio.fix(0.5)\n",
    "m.fs.D101.reboiler.boilup_ratio.fix(0.5)\n",
    "m.fs.D101.condenser.condenser_pressure.fix(150000)\n",
    "\n",
    "# set scaling factors\n",
    "# Set scaling factors for heat duty\n",
    "iscale.set_scaling_factor(m.fs.D101.condenser.control_volume.heat, 1e-2)\n",
    "iscale.set_scaling_factor(m.fs.D101.reboiler.control_volume.heat, 1e-2)\n",
    "\n",
    "# Set the scaling factors for the remaining variables and all constraints\n",
    "iscale.calculate_scaling_factors(m.fs.D101)\n",
    "\n",
    "# Initialize the distillation column\n",
    "m.fs.D101.initialize(outlvl=idaeslog.INFO)                        "
   ]
  },
  {
   "cell_type": "markdown",
   "metadata": {},
   "source": [
    "## Adding expressions to compute capital and operating costs\n",
    "\n",
    "In this section, we will add a few Expressions that allow us to evaluate the performance. Expressions provide a convenient way of calculating certain values that are a function of the variables defined in the model. For more details on Expressions, please refer to: https://pyomo.readthedocs.io/en/latest/pyomo_modeling_components/Expressions.html"
   ]
  },
  {
   "cell_type": "code",
   "execution_count": 50,
   "metadata": {},
   "outputs": [],
   "source": [
    "# Expression to compute the total cooling cost\n",
    "m.fs.cooling_cost = Expression(expr=0.25e-7 * (-m.fs.F101.heat_duty[0]) +\n",
    "                                0.2e-7 * (-m.fs.D101.condenser.heat_duty[0]))\n",
    "\n",
    "# Expression to compute the total heating cost\n",
    "m.fs.heating_cost = Expression(expr=2.2e-7 * m.fs.H101.heat_duty[0] +\n",
    "                                1.2e-7 * m.fs.H102.heat_duty[0] +\n",
    "                                1.9e-7 * m.fs.D101.reboiler.heat_duty[0])\n",
    "\n",
    "# Expression to compute the total operating cost\n",
    "m.fs.operating_cost = Expression(expr=(3600 * 24 * 365 *\n",
    "                                (m.fs.heating_cost + m.fs.cooling_cost)))\n",
    "\n",
    "# Expression to compute the total capital cost\n",
    "m.fs.capital_cost = Expression(expr=1e5*m.fs.R101.volume[0])    "
   ]
  },
  {
   "cell_type": "markdown",
   "metadata": {},
   "source": [
    "### Solve the entire flowsheet"
   ]
  },
  {
   "cell_type": "code",
   "execution_count": 51,
   "metadata": {
    "tags": [
     "testing",
     "remove_cell"
    ]
   },
   "outputs": [],
   "source": [
    "# Check that the degrees of freedom is zero\n",
    "assert degrees_of_freedom(m) == 0"
   ]
  },
  {
   "cell_type": "code",
   "execution_count": 52,
   "metadata": {},
   "outputs": [
    {
     "name": "stdout",
     "output_type": "stream",
     "text": [
      "Ipopt 3.13.2: nlp_scaling_method=gradient-based\n",
      "tol=1e-06\n",
      "\n",
      "\n",
      "******************************************************************************\n",
      "This program contains Ipopt, a library for large-scale nonlinear optimization.\n",
      " Ipopt is released as open source code under the Eclipse Public License (EPL).\n",
      "         For more information visit http://projects.coin-or.org/Ipopt\n",
      "\n",
      "This version of Ipopt was compiled from source code available at\n",
      "    https://github.com/IDAES/Ipopt as part of the Institute for the Design of\n",
      "    Advanced Energy Systems Process Systems Engineering Framework (IDAES PSE\n",
      "    Framework) Copyright (c) 2018-2019. See https://github.com/IDAES/idaes-pse.\n",
      "\n",
      "This version of Ipopt was compiled using HSL, a collection of Fortran codes\n",
      "    for large-scale scientific computation.  All technical papers, sales and\n",
      "    publicity material resulting from use of the HSL codes within IPOPT must\n",
      "    contain the following acknowledgement:\n",
      "        HSL, a collection of Fortran codes for large-scale scientific\n",
      "        computation. See http://www.hsl.rl.ac.uk.\n",
      "******************************************************************************\n",
      "\n",
      "This is Ipopt version 3.13.2, running with linear solver ma27.\n",
      "\n",
      "Number of nonzeros in equality constraint Jacobian...:     4040\n",
      "Number of nonzeros in inequality constraint Jacobian.:        0\n",
      "Number of nonzeros in Lagrangian Hessian.............:     2038\n",
      "\n",
      "Total number of variables............................:     1169\n",
      "                     variables with only lower bounds:      112\n",
      "                variables with lower and upper bounds:      365\n",
      "                     variables with only upper bounds:        0\n",
      "Total number of equality constraints.................:     1169\n",
      "Total number of inequality constraints...............:        0\n",
      "        inequality constraints with only lower bounds:        0\n",
      "   inequality constraints with lower and upper bounds:        0\n",
      "        inequality constraints with only upper bounds:        0\n",
      "\n",
      "iter    objective    inf_pr   inf_du lg(mu)  ||d||  lg(rg) alpha_du alpha_pr  ls\n",
      "   0  0.0000000e+00 3.83e+04 1.00e+00  -1.0 0.00e+00    -  0.00e+00 0.00e+00   0\n",
      "   1  0.0000000e+00 8.70e+03 1.50e+03  -1.0 3.69e+04    -  9.71e-01 4.62e-01H  1\n",
      "   2  0.0000000e+00 1.53e+03 1.56e+03  -1.0 6.75e+03    -  9.77e-01 4.89e-01h  1\n",
      "   3  0.0000000e+00 1.37e+03 1.55e+05  -1.0 9.37e+03    -  9.90e-01 4.99e-01h  1\n",
      "   4  0.0000000e+00 6.14e+02 2.31e+09  -1.0 6.09e+03    -  1.00e+00 9.81e-01h  1\n",
      "   5  0.0000000e+00 5.32e+03 3.62e+10  -1.0 5.56e+02    -  1.00e+00 9.90e-01h  1\n",
      "   6  0.0000000e+00 1.16e+03 7.80e+09  -1.0 5.36e+00    -  1.00e+00 1.00e+00h  1\n",
      "   7  0.0000000e+00 5.96e+00 3.64e+07  -1.0 1.47e-03    -  1.00e+00 1.00e+00f  1\n",
      "   8  0.0000000e+00 1.68e-04 8.12e+02  -1.0 6.82e-06    -  1.00e+00 1.00e+00h  1\n",
      "   9  0.0000000e+00 7.45e-09 3.78e-02  -3.8 4.26e-08    -  1.00e+00 1.00e+00h  1\n",
      "Cannot recompute multipliers for feasibility problem.  Error in eq_mult_calculator\n",
      "\n",
      "Number of Iterations....: 9\n",
      "\n",
      "                                   (scaled)                 (unscaled)\n",
      "Objective...............:   0.0000000000000000e+00    0.0000000000000000e+00\n",
      "Dual infeasibility......:   1.5042521255063519e+04    1.5042521255063519e+04\n",
      "Constraint violation....:   2.9103830456733704e-11    7.4505805969238281e-09\n",
      "Complementarity.........:   0.0000000000000000e+00    0.0000000000000000e+00\n",
      "Overall NLP error.......:   2.9103830456733704e-11    1.5042521255063519e+04\n",
      "\n",
      "\n",
      "Number of objective function evaluations             = 11\n",
      "Number of objective gradient evaluations             = 10\n",
      "Number of equality constraint evaluations            = 11\n",
      "Number of inequality constraint evaluations          = 0\n",
      "Number of equality constraint Jacobian evaluations   = 10\n",
      "Number of inequality constraint Jacobian evaluations = 0\n",
      "Number of Lagrangian Hessian evaluations             = 9\n",
      "Total CPU secs in IPOPT (w/o function evaluations)   =      0.042\n",
      "Total CPU secs in NLP function evaluations           =      0.010\n",
      "\n",
      "EXIT: Optimal Solution Found.\n"
     ]
    },
    {
     "data": {
      "text/plain": [
       "{'Problem': [{'Lower bound': -inf, 'Upper bound': inf, 'Number of objectives': 1, 'Number of constraints': 1169, 'Number of variables': 1169, 'Sense': 'unknown'}], 'Solver': [{'Status': 'ok', 'Message': 'Ipopt 3.13.2\\\\x3a Optimal Solution Found', 'Termination condition': 'optimal', 'Id': 0, 'Error rc': 0, 'Time': 0.3292679786682129}], 'Solution': [OrderedDict([('number of solutions', 0), ('number of solutions displayed', 0)])]}"
      ]
     },
     "execution_count": 52,
     "metadata": {},
     "output_type": "execute_result"
    }
   ],
   "source": [
    "solver.solve(m, tee=True)"
   ]
  },
  {
   "cell_type": "code",
   "execution_count": 53,
   "metadata": {
    "tags": [
     "testing",
     "remove_cell"
    ]
   },
   "outputs": [],
   "source": [
    "# Check solver solve status\n",
    "from pyomo.environ import TerminationCondition\n",
    "assert results.solver.termination_condition == TerminationCondition.optimal"
   ]
  },
  {
   "cell_type": "markdown",
   "metadata": {},
   "source": [
    "## Analyze the Results of the Square Problem\n",
    "\n",
    "How much is the total cost (operating cost + capital cost), operating cost, capital cost, benzene purity in the distillate from the distilation column, and conversion of toluene in the reactor?"
   ]
  },
  {
   "cell_type": "code",
   "execution_count": 54,
   "metadata": {},
   "outputs": [
    {
     "name": "stdout",
     "output_type": "stream",
     "text": [
      "total cost = $ 442297.74688181543\n",
      "operating cost = $ 427593.0066973478\n",
      "capital cost = $ 14704.740184467639\n",
      "\n",
      "Distillate flowrate =  0.16202588062179665 mol/s\n",
      "Benzene purity =  89.51393273342488 %\n",
      "Residue flowrate =  0.10509317979151606 mol/s\n",
      "Toluene purity =  43.323757274199856 %\n",
      "\n",
      "Conversion =  75.0 %\n",
      "\n",
      "Overhead benzene loss in F101 =  42.16193848360325 %\n"
     ]
    }
   ],
   "source": [
    "print('total cost = $', value(m.fs.capital_cost) + value(m.fs.operating_cost))\n",
    "print('operating cost = $', value(m.fs.operating_cost))\n",
    "print('capital cost = $', value(m.fs.capital_cost))\n",
    "print()\n",
    "print('Distillate flowrate = ', value(m.fs.D101.condenser.distillate.flow_mol[0]()), 'mol/s')\n",
    "print('Benzene purity = ', 100 * value(m.fs.D101.\\\n",
    "    condenser.distillate.mole_frac_comp[0, \"benzene\"]), '%')\n",
    "print('Residue flowrate = ', value(m.fs.D101.reboiler.bottoms.flow_mol[0]()), 'mol/s')\n",
    "print('Toluene purity = ', 100 * value(m.fs.D101.\\\n",
    "    reboiler.bottoms.mole_frac_comp[0, \"toluene\"]), '%')\n",
    "print()\n",
    "print('Conversion = ', 100 * value(m.fs.R101.conversion), '%')\n",
    "print()\n",
    "print('Overhead benzene loss in F101 = ', \\\n",
    "    100 * value(m.fs.F101.vap_outlet.flow_mol_phase_comp[0, \"Vap\", \"benzene\"]) / \\\n",
    "        value(m.fs.R101.outlet.flow_mol_phase_comp[0, \"Vap\", \"benzene\"]), '%' )"
   ]
  },
  {
   "cell_type": "code",
   "execution_count": 55,
   "metadata": {
    "tags": [
     "testing",
     "remove_cell"
    ]
   },
   "outputs": [],
   "source": [
    "import pytest\n",
    "assert value(m.fs.operating_cost) == pytest.approx(427593.007, abs=100)\n",
    "assert value(m.fs.capital_cost) == pytest.approx(14704.740, abs=100)"
   ]
  },
  {
   "cell_type": "markdown",
   "metadata": {},
   "source": [
    "Get the state of the streams entering and leaving the reactor R101"
   ]
  },
  {
   "cell_type": "code",
   "execution_count": 56,
   "metadata": {},
   "outputs": [
    {
     "name": "stdout",
     "output_type": "stream",
     "text": [
      "\n",
      "====================================================================================\n",
      "Unit : fs.R101                                                             Time: 0.0\n",
      "------------------------------------------------------------------------------------\n",
      "    Unit Performance\n",
      "\n",
      "    Variables: \n",
      "\n",
      "    Key       : Value   : Units      : Fixed : Bounds\n",
      "    Heat Duty :  0.0000 :       watt :  True : (None, None)\n",
      "       Volume : 0.14705 : meter ** 3 : False : (None, None)\n",
      "\n",
      "------------------------------------------------------------------------------------\n",
      "    Stream Table\n",
      "                                                Units         Inlet     Outlet  \n",
      "    flow_mol_phase_comp ('Liq', 'benzene')   mole / second 1.2993e-07 1.2993e-07\n",
      "    flow_mol_phase_comp ('Liq', 'toluene')   mole / second 8.4147e-07 8.4147e-07\n",
      "    flow_mol_phase_comp ('Liq', 'methane')   mole / second 1.0000e-12 1.0000e-12\n",
      "    flow_mol_phase_comp ('Liq', 'hydrogen')  mole / second 1.0000e-12 1.0000e-12\n",
      "    flow_mol_phase_comp ('Vap', 'benzene')   mole / second    0.11936    0.35374\n",
      "    flow_mol_phase_comp ('Vap', 'toluene')   mole / second    0.31252   0.078129\n",
      "    flow_mol_phase_comp ('Vap', 'methane')   mole / second     1.0377     1.2721\n",
      "    flow_mol_phase_comp ('Vap', 'hydrogen')  mole / second    0.56260    0.32821\n",
      "    temperature                                     kelvin     600.00     771.85\n",
      "    pressure                                        pascal 3.5000e+05 3.5000e+05\n",
      "====================================================================================\n"
     ]
    }
   ],
   "source": [
    "m.fs.R101.report()"
   ]
  },
  {
   "cell_type": "markdown",
   "metadata": {},
   "source": [
    "Get the state of the streams entering and leaving the reactor R101"
   ]
  },
  {
   "cell_type": "code",
   "execution_count": 57,
   "metadata": {},
   "outputs": [
    {
     "name": "stdout",
     "output_type": "stream",
     "text": [
      "\n",
      "====================================================================================\n",
      "Unit : fs.F101                                                             Time: 0.0\n",
      "------------------------------------------------------------------------------------\n",
      "    Unit Performance\n",
      "\n",
      "    Variables: \n",
      "\n",
      "    Key             : Value   : Units  : Fixed : Bounds\n",
      "          Heat Duty : -70343. :   watt : False : (None, None)\n",
      "    Pressure Change :  0.0000 : pascal :  True : (None, None)\n",
      "\n",
      "------------------------------------------------------------------------------------\n",
      "    Stream Table\n",
      "                                                Units         Inlet    Vapor Outlet  Liquid Outlet\n",
      "    flow_mol_phase_comp ('Liq', 'benzene')   mole / second 1.2993e-07   1.0000e-08       0.20460  \n",
      "    flow_mol_phase_comp ('Liq', 'toluene')   mole / second 8.4147e-07   1.0000e-08      0.062520  \n",
      "    flow_mol_phase_comp ('Liq', 'methane')   mole / second 1.0000e-12   1.0000e-08    2.6712e-07  \n",
      "    flow_mol_phase_comp ('Liq', 'hydrogen')  mole / second 1.0000e-12   1.0000e-08    2.6712e-07  \n",
      "    flow_mol_phase_comp ('Vap', 'benzene')   mole / second    0.35374      0.14915    1.0000e-08  \n",
      "    flow_mol_phase_comp ('Vap', 'toluene')   mole / second   0.078129     0.015610    1.0000e-08  \n",
      "    flow_mol_phase_comp ('Vap', 'methane')   mole / second     1.2721       1.2721    1.0000e-08  \n",
      "    flow_mol_phase_comp ('Vap', 'hydrogen')  mole / second    0.32821      0.32821    1.0000e-08  \n",
      "    temperature                                     kelvin     771.85       325.00        325.00  \n",
      "    pressure                                        pascal 3.5000e+05   3.5000e+05    3.5000e+05  \n",
      "====================================================================================\n"
     ]
    }
   ],
   "source": [
    "m.fs.F101.report()"
   ]
  },
  {
   "cell_type": "markdown",
   "metadata": {},
   "source": [
    "Next, let's look at how much benzene we are loosing with the light gases out of F101. IDAES has tools for creating stream tables based on the `Arcs` and/or `Ports` in a flowsheet. Let us create and print a simple stream table showing the stream leaving the reactor and the vapor stream from F101.\n",
    "\n",
    "<div class=\"alert alert-block alert-info\">\n",
    "<b>Inline Exercise:</b>\n",
    "How much benzene are we loosing in the F101 vapor outlet stream?\n",
    "</div>"
   ]
  },
  {
   "cell_type": "code",
   "execution_count": 58,
   "metadata": {},
   "outputs": [
    {
     "name": "stdout",
     "output_type": "stream",
     "text": [
      "                                            Units        Reactor   Light Gases\n",
      "flow_mol_phase_comp ('Liq', 'benzene')   mole / second 1.2993e-07  1.0000e-08 \n",
      "flow_mol_phase_comp ('Liq', 'toluene')   mole / second 8.4147e-07  1.0000e-08 \n",
      "flow_mol_phase_comp ('Liq', 'methane')   mole / second 1.0000e-12  1.0000e-08 \n",
      "flow_mol_phase_comp ('Liq', 'hydrogen')  mole / second 1.0000e-12  1.0000e-08 \n",
      "flow_mol_phase_comp ('Vap', 'benzene')   mole / second    0.35374     0.14915 \n",
      "flow_mol_phase_comp ('Vap', 'toluene')   mole / second   0.078129    0.015610 \n",
      "flow_mol_phase_comp ('Vap', 'methane')   mole / second     1.2721      1.2721 \n",
      "flow_mol_phase_comp ('Vap', 'hydrogen')  mole / second    0.32821     0.32821 \n",
      "temperature                                     kelvin     771.85      325.00 \n",
      "pressure                                        pascal 3.5000e+05  3.5000e+05 \n"
     ]
    }
   ],
   "source": [
    "from idaes.core.util.tables import create_stream_table_dataframe, stream_table_dataframe_to_string\n",
    "\n",
    "st = create_stream_table_dataframe({\"Reactor\": m.fs.s05, \"Light Gases\": m.fs.s06})\n",
    "print(stream_table_dataframe_to_string(st))"
   ]
  },
  {
   "cell_type": "markdown",
   "metadata": {},
   "source": [
    "<div class=\"alert alert-block alert-info\">\n",
    "<b>Inline Exercise:</b>\n",
    "You can querry additional variables here if you like. \n",
    "\n",
    "Use Shift+Enter to run the cell once you have typed in your code. \n",
    "</div>"
   ]
  },
  {
   "cell_type": "markdown",
   "metadata": {},
   "source": [
    "# Optimization\n",
    "\n",
    "\n",
    "We saw from the results above that the total operating cost for the base case was $442,297 per year. We are producing 0.162 mol/s of benzene at a purity of 89.5%. However, we are losing around 43.3% of benzene in F101 vapor outlet stream. \n",
    "\n",
    "Let us try to minimize this cost such that:\n",
    "- we are producing at least 0.18 mol/s of benzene as distillate i.e. our product stream\n",
    "- purity of benzene i.e. the mole fraction of benzene in the distillate is at least 99%\n",
    "- restricting the benzene loss in F101 vapor outlet to less than 20%\n",
    "\n",
    "For this problem, our decision variables are as follows:\n",
    "- H101 outlet temperature\n",
    "- R101 outlet temperature\n",
    "- F101 outlet temperature\n",
    "- H102 outlet temperature\n",
    "- Condenser pressure\n",
    "- reflux ratio\n",
    "- boilup ratio\n"
   ]
  },
  {
   "cell_type": "markdown",
   "metadata": {},
   "source": [
    "Let us declare our objective function for this problem. "
   ]
  },
  {
   "cell_type": "code",
   "execution_count": 59,
   "metadata": {},
   "outputs": [],
   "source": [
    "m.fs.objective = Objective(expr=m.fs.operating_cost + m.fs.capital_cost)"
   ]
  },
  {
   "cell_type": "markdown",
   "metadata": {},
   "source": [
    "Now, we need to unfix the decision variables as we had solved a square problem (degrees of freedom = 0) until now. "
   ]
  },
  {
   "cell_type": "code",
   "execution_count": 60,
   "metadata": {},
   "outputs": [],
   "source": [
    "m.fs.H101.outlet.temperature.unfix()\n",
    "m.fs.R101.conversion.unfix()  \n",
    "m.fs.F101.vap_outlet.temperature.unfix()\n",
    "m.fs.D101.condenser.condenser_pressure.unfix()\n",
    "m.fs.D101.condenser.reflux_ratio.unfix()\n",
    "m.fs.D101.reboiler.boilup_ratio.unfix()"
   ]
  },
  {
   "cell_type": "markdown",
   "metadata": {},
   "source": [
    "<div class=\"alert alert-block alert-info\">\n",
    "<b>Inline Exercise:</b>\n",
    "Let us now unfix the remaining variable: the temperature of the outlet from H102\n",
    "\n",
    "Use Shift+Enter to run the cell once you have typed in your code. \n",
    "</div>\n",
    "\n"
   ]
  },
  {
   "cell_type": "code",
   "execution_count": 61,
   "metadata": {
    "tags": [
     "exercise"
    ]
   },
   "outputs": [],
   "source": [
    "# Todo: Unfix the temperature of the outlet from H102\n"
   ]
  },
  {
   "cell_type": "code",
   "execution_count": 62,
   "metadata": {
    "tags": [
     "solution"
    ]
   },
   "outputs": [],
   "source": [
    "# Todo: Unfix the temperature of the outlet from H102\n",
    "m.fs.H102.outlet.temperature.unfix()"
   ]
  },
  {
   "cell_type": "markdown",
   "metadata": {},
   "source": [
    "Next, we need to set bounds on these decision variables to values shown below:\n",
    "\n",
    " - H101 outlet temperature [500, 600] K\n",
    " - R101 outlet temperature [600, 900] K\n",
    " - F101 outlet temperature [298, 450] K\n",
    " - H102 outlet temperature [350, 400] K\n",
    " - D101 condenser pressure [101325, 150000] Pa\n",
    " - D101 reflux ratio [0.1, 5]\n",
    " - D101 boilup ratio [0.1, 5]"
   ]
  },
  {
   "cell_type": "code",
   "execution_count": 63,
   "metadata": {},
   "outputs": [],
   "source": [
    "# Set bounds on the temperature of the outlet from H101\n",
    "m.fs.H101.outlet.temperature[0].setlb(500)\n",
    "m.fs.H101.outlet.temperature[0].setub(600)\n",
    "\n",
    "# Set bounds on the temperature of the outlet from R101\n",
    "m.fs.R101.outlet.temperature[0].setlb(600)\n",
    "m.fs.R101.outlet.temperature[0].setub(900)\n",
    "\n",
    "# Set bounds on the volume of the reactor R101\n",
    "m.fs.R101.volume[0].setlb(0)\n",
    "\n",
    "# Set bounds on the temperature of the vapor outlet from F101\n",
    "m.fs.F101.vap_outlet.temperature[0].setlb(298)\n",
    "m.fs.F101.vap_outlet.temperature[0].setub(450.0)\n",
    "\n",
    "# Set bounds on the temperature of the outlet from H102\n",
    "m.fs.H102.outlet.temperature[0].setlb(350)\n",
    "m.fs.H102.outlet.temperature[0].setub(400)\n",
    "\n",
    "# Set bounds on the pressure inside the condenser \n",
    "m.fs.D101.condenser.condenser_pressure.setlb(101325)\n",
    "m.fs.D101.condenser.condenser_pressure.setub(150000)\n",
    "\n"
   ]
  },
  {
   "cell_type": "markdown",
   "metadata": {},
   "source": [
    "<div class=\"alert alert-block alert-info\">\n",
    "<b>Inline Exercise:</b>\n",
    "Now, set the bounds for the D101 reflux ratio and boilup ratio.\n",
    "\n",
    "Use Shift+Enter to run the cell once you have typed in your code. \n",
    "</div>"
   ]
  },
  {
   "cell_type": "code",
   "execution_count": 64,
   "metadata": {
    "tags": [
     "exercise"
    ]
   },
   "outputs": [],
   "source": [
    "# Todo: Set bounds on the reflux ratio\n",
    "\n",
    "\n",
    "\n",
    "# Todo: Set bounds on the boilup ratio\n",
    "\n"
   ]
  },
  {
   "cell_type": "code",
   "execution_count": 65,
   "metadata": {
    "tags": [
     "solution"
    ]
   },
   "outputs": [],
   "source": [
    "# Todo: Set bounds on the reflux ratio\n",
    "m.fs.D101.condenser.reflux_ratio.setlb(0.1)\n",
    "m.fs.D101.condenser.reflux_ratio.setub(5)\n",
    "\n",
    "# Todo: Set bounds on the boilup ratio\n",
    "m.fs.D101.reboiler.boilup_ratio.setlb(0.1)\n",
    "m.fs.D101.reboiler.boilup_ratio.setub(5)"
   ]
  },
  {
   "cell_type": "markdown",
   "metadata": {},
   "source": [
    "Now, the only things left to define are our constraints on overhead loss in F101, distillate flowrate and its purity. Let us first look at defining a constraint for the overhead loss in F101 where we are restricting the benzene leaving the vapor stream to less than 20 % of the benzene available in the reactor outlet. "
   ]
  },
  {
   "cell_type": "code",
   "execution_count": 66,
   "metadata": {},
   "outputs": [],
   "source": [
    "# Ensure that the overhead loss of benzene from F101 <= 20% \n",
    "m.fs.overhead_loss = Constraint(\n",
    "    expr=m.fs.F101.vap_outlet.flow_mol_phase_comp[0, \"Vap\", \"benzene\"] <=\n",
    "    0.20 * m.fs.R101.outlet.flow_mol_phase_comp[0, \"Vap\", \"benzene\"])"
   ]
  },
  {
   "cell_type": "markdown",
   "metadata": {},
   "source": [
    "<div class=\"alert alert-block alert-info\">\n",
    "<b>Inline Exercise:</b>\n",
    "Now, add the constraint such that we are producing at least 0.18 mol/s of benzene in the product stream which is the distillate of D101. Let us name this constraint as m.fs.product_flow. \n",
    "\n",
    "Use Shift+Enter to run the cell once you have typed in your code. \n",
    "</div>"
   ]
  },
  {
   "cell_type": "code",
   "execution_count": 67,
   "metadata": {
    "tags": [
     "exercise"
    ]
   },
   "outputs": [],
   "source": [
    "# Todo: Add minimum product flow constraint\n"
   ]
  },
  {
   "cell_type": "code",
   "execution_count": 68,
   "metadata": {
    "tags": [
     "solution"
    ]
   },
   "outputs": [],
   "source": [
    "# Todo: Add minimum product flow constraint\n",
    "m.fs.product_flow = Constraint(\n",
    "    expr=m.fs.D101.condenser.distillate.flow_mol[0] >= 0.18)"
   ]
  },
  {
   "cell_type": "markdown",
   "metadata": {},
   "source": [
    "Let us add the final constraint on product purity or the mole fraction of benzene in the distillate such that it is at least greater than 99%. "
   ]
  },
  {
   "cell_type": "code",
   "execution_count": 69,
   "metadata": {},
   "outputs": [],
   "source": [
    "m.fs.product_purity = Constraint(\n",
    "    expr=m.fs.D101.condenser.\n",
    "    distillate.mole_frac_comp[0, \"benzene\"] >= 0.99)"
   ]
  },
  {
   "cell_type": "markdown",
   "metadata": {},
   "source": [
    "\n",
    "We have now defined the optimization problem and we are now ready to solve this problem. \n",
    "\n",
    "\n"
   ]
  },
  {
   "cell_type": "code",
   "execution_count": 70,
   "metadata": {},
   "outputs": [
    {
     "name": "stdout",
     "output_type": "stream",
     "text": [
      "Ipopt 3.13.2: nlp_scaling_method=gradient-based\n",
      "tol=1e-06\n",
      "\n",
      "\n",
      "******************************************************************************\n",
      "This program contains Ipopt, a library for large-scale nonlinear optimization.\n",
      " Ipopt is released as open source code under the Eclipse Public License (EPL).\n",
      "         For more information visit http://projects.coin-or.org/Ipopt\n",
      "\n",
      "This version of Ipopt was compiled from source code available at\n",
      "    https://github.com/IDAES/Ipopt as part of the Institute for the Design of\n",
      "    Advanced Energy Systems Process Systems Engineering Framework (IDAES PSE\n",
      "    Framework) Copyright (c) 2018-2019. See https://github.com/IDAES/idaes-pse.\n",
      "\n",
      "This version of Ipopt was compiled using HSL, a collection of Fortran codes\n",
      "    for large-scale scientific computation.  All technical papers, sales and\n",
      "    publicity material resulting from use of the HSL codes within IPOPT must\n",
      "    contain the following acknowledgement:\n",
      "        HSL, a collection of Fortran codes for large-scale scientific\n",
      "        computation. See http://www.hsl.rl.ac.uk.\n",
      "******************************************************************************\n",
      "\n",
      "This is Ipopt version 3.13.2, running with linear solver ma27.\n",
      "\n",
      "Number of nonzeros in equality constraint Jacobian...:     4071\n",
      "Number of nonzeros in inequality constraint Jacobian.:        5\n",
      "Number of nonzeros in Lagrangian Hessian.............:     2051\n",
      "\n",
      "Total number of variables............................:     1176\n",
      "                     variables with only lower bounds:      113\n",
      "                variables with lower and upper bounds:      372\n",
      "                     variables with only upper bounds:        0\n",
      "Total number of equality constraints.................:     1169\n",
      "Total number of inequality constraints...............:        3\n",
      "        inequality constraints with only lower bounds:        2\n",
      "   inequality constraints with lower and upper bounds:        0\n",
      "        inequality constraints with only upper bounds:        1\n",
      "\n",
      "iter    objective    inf_pr   inf_du lg(mu)  ||d||  lg(rg) alpha_du alpha_pr  ls\n",
      "   0  4.4229775e+05 2.99e+05 9.90e+01  -1.0 0.00e+00    -  0.00e+00 0.00e+00   0\n",
      "   1  4.3753339e+05 2.91e+05 1.28e+02  -1.0 3.09e+06    -  3.58e-01 2.40e-02f  1\n",
      "   2  4.3544422e+05 2.78e+05 1.56e+02  -1.0 1.78e+06    -  3.32e-01 4.74e-02h  1\n",
      "   3  4.2820971e+05 2.20e+05 4.47e+02  -1.0 2.99e+06    -  2.95e-02 1.35e-01h  1\n",
      "   4  4.2246911e+05 1.45e+05 1.42e+03  -1.0 7.01e+06    -  5.14e-01 2.03e-01h  1\n",
      "   5  4.2189229e+05 8.17e+04 1.69e+04  -1.0 6.06e+06    -  5.97e-01 4.28e-01h  1\n",
      "   6  4.2593344e+05 4.55e+04 1.10e+06  -1.0 4.32e+06    -  9.27e-01 5.07e-01h  1\n",
      "   7  4.3752722e+05 2.00e+04 6.43e+09  -1.0 2.42e+06    -  9.90e-01 9.47e-01h  1\n",
      "   8  4.3821298e+05 1.88e+04 6.04e+09  -1.0 4.41e+05    -  5.39e-01 5.75e-02h  1\n",
      "   9  4.3903938e+05 1.65e+04 5.20e+09  -1.0 2.47e+05    -  9.96e-01 1.24e-01h  4\n",
      "iter    objective    inf_pr   inf_du lg(mu)  ||d||  lg(rg) alpha_du alpha_pr  ls\n",
      "  10  4.4693891e+05 3.38e+04 3.81e+10  -1.0 2.22e+05    -  4.34e-01 9.90e-01h  1\n",
      "  11  4.4907099e+05 1.00e+04 1.12e+10  -1.0 5.46e+02  -4.0 5.42e-01 8.01e-01h  1\n",
      "  12  4.4959498e+05 7.93e+02 9.91e+08  -1.0 1.12e+02  -4.5 1.00e+00 1.00e+00h  1\n",
      "  13  4.4950253e+05 1.14e+00 3.17e+06  -1.0 2.84e+01  -5.0 1.00e+00 1.00e+00h  1\n",
      "  14  4.4917556e+05 1.45e+01 3.15e+06  -1.0 5.13e+05    -  2.98e-02 5.69e-03f  5\n",
      "  15  4.4907178e+05 2.10e-01 1.89e+04  -1.0 4.46e+01  -5.4 1.00e+00 1.00e+00h  1\n",
      "  16  4.4477667e+05 3.19e+03 1.12e+06  -1.7 5.08e+05    -  3.34e-02 8.29e-02f  1\n",
      "  17  4.4342042e+05 9.19e+02 2.07e+06  -1.7 7.55e+02  -5.9 1.00e+00 7.18e-01h  1\n",
      "  18  4.4363251e+05 6.18e+02 1.39e+06  -1.7 3.01e+02  -6.4 1.00e+00 3.29e-01h  1\n",
      "  19  4.4170859e+05 1.64e+03 1.06e+06  -1.7 1.98e+04    -  9.05e-01 2.36e-01h  1\n",
      "iter    objective    inf_pr   inf_du lg(mu)  ||d||  lg(rg) alpha_du alpha_pr  ls\n",
      "  20  4.4039329e+05 1.32e+04 1.61e+07  -1.7 6.03e+04    -  1.48e-01 1.00e+00h  1\n",
      "  21  4.3793801e+05 1.08e+04 3.95e+07  -1.7 6.75e+06    -  1.95e-02 2.06e-01f  1\n",
      "  22  4.4011347e+05 1.79e+03 1.15e+08  -1.7 1.15e+06    -  1.00e+00 1.00e+00h  1\n",
      "  23  4.3867708e+05 7.83e+02 1.56e+08  -1.7 9.78e+05    -  1.00e+00 1.00e+00h  1\n",
      "  24  4.3868393e+05 6.28e+00 1.75e+07  -1.7 7.58e+04    -  1.00e+00 1.00e+00h  1\n",
      "  25  4.3867898e+05 3.02e-02 5.58e+04  -1.7 4.27e+03    -  1.00e+00 1.00e+00h  1\n",
      "  26  4.3867910e+05 4.60e-06 3.39e+00  -1.7 7.55e+01    -  1.00e+00 1.00e+00h  1\n",
      "  27  4.3798270e+05 3.77e+03 4.39e+07  -5.7 1.23e+05    -  9.16e-01 9.50e-01f  1\n",
      "  28  4.3817749e+05 1.02e+02 9.64e+03  -5.7 2.14e+02    -  9.96e-01 1.00e+00h  1\n",
      "  29  4.3818080e+05 6.13e-02 2.17e+00  -5.7 5.27e+00    -  1.00e+00 1.00e+00h  1\n",
      "iter    objective    inf_pr   inf_du lg(mu)  ||d||  lg(rg) alpha_du alpha_pr  ls\n",
      "  30  4.3818081e+05 4.47e-08 2.03e-07  -5.7 3.02e-03    -  1.00e+00 1.00e+00h  1\n",
      "  31  4.3818079e+05 5.45e-05 3.64e-01  -8.0 1.01e+01    -  1.00e+00 1.00e+00h  1\n",
      "  32  4.3818079e+05 3.73e-08 1.68e-07  -8.0 5.44e-05    -  1.00e+00 1.00e+00h  1\n",
      "\n",
      "Number of Iterations....: 32\n",
      "\n",
      "                                   (scaled)                 (unscaled)\n",
      "Objective...............:   4.3818078631625752e+02    4.3818078631625749e+05\n",
      "Dual infeasibility......:   1.6758503059847195e-07    1.6758503059847196e-04\n",
      "Constraint violation....:   5.8207660913467407e-11    3.7252902984619147e-08\n",
      "Complementarity.........:   9.0909103302930891e-09    9.0909103302930883e-06\n",
      "Overall NLP error.......:   9.0909103302930891e-09    1.6758503059847196e-04\n",
      "\n",
      "\n",
      "Number of objective function evaluations             = 44\n",
      "Number of objective gradient evaluations             = 33\n",
      "Number of equality constraint evaluations            = 44\n",
      "Number of inequality constraint evaluations          = 44\n",
      "Number of equality constraint Jacobian evaluations   = 33\n",
      "Number of inequality constraint Jacobian evaluations = 33\n",
      "Number of Lagrangian Hessian evaluations             = 32\n",
      "Total CPU secs in IPOPT (w/o function evaluations)   =      0.181\n",
      "Total CPU secs in NLP function evaluations           =      0.034\n",
      "\n",
      "EXIT: Optimal Solution Found.\n"
     ]
    }
   ],
   "source": [
    "results = solver.solve(m, tee=True)"
   ]
  },
  {
   "cell_type": "code",
   "execution_count": 71,
   "metadata": {
    "tags": [
     "testing",
     "remove_cell"
    ]
   },
   "outputs": [],
   "source": [
    "# Check solver solve status\n",
    "from pyomo.environ import TerminationCondition\n",
    "assert results.solver.termination_condition == TerminationCondition.optimal"
   ]
  },
  {
   "cell_type": "markdown",
   "metadata": {},
   "source": [
    "## Optimization Results\n",
    "\n",
    "Display the results and product specifications"
   ]
  },
  {
   "cell_type": "code",
   "execution_count": 72,
   "metadata": {},
   "outputs": [
    {
     "name": "stdout",
     "output_type": "stream",
     "text": [
      "total cost = $ 438180.78631625744\n",
      "operating cost = $ 408261.6274962837\n",
      "capital cost = $ 29919.15881997374\n",
      "\n",
      "Distillate flowrate =  0.17999999002647568 mol/s\n",
      "Benzene purity =  98.99999900051338 %\n",
      "Residue flowrate =  0.10852386101068058 mol/s\n",
      "Toluene purity =  15.834076010806353 %\n",
      "\n",
      "Conversion =  93.29807668113921 %\n",
      "\n",
      "Overhead benzene loss in F101 =  17.339902878550923 %\n"
     ]
    }
   ],
   "source": [
    "print('total cost = $', value(m.fs.capital_cost) + value(m.fs.operating_cost))\n",
    "print('operating cost = $', value(m.fs.operating_cost))\n",
    "print('capital cost = $', value(m.fs.capital_cost))\n",
    "print()\n",
    "print('Distillate flowrate = ', value(m.fs.D101.condenser.distillate.flow_mol[0]()), 'mol/s')\n",
    "print('Benzene purity = ', 100 * value(m.fs.D101.\\\n",
    "    condenser.distillate.mole_frac_comp[0, \"benzene\"]), '%')\n",
    "print('Residue flowrate = ', value(m.fs.D101.reboiler.bottoms.flow_mol[0]()), 'mol/s')\n",
    "print('Toluene purity = ', 100 * value(m.fs.D101.\\\n",
    "    reboiler.bottoms.mole_frac_comp[0, \"toluene\"]), '%')\n",
    "print()\n",
    "print('Conversion = ', 100 * value(m.fs.R101.conversion), '%')\n",
    "print()\n",
    "print('Overhead benzene loss in F101 = ', \\\n",
    "    100 * value(m.fs.F101.vap_outlet.flow_mol_phase_comp[0, \"Vap\", \"benzene\"]) / \\\n",
    "        value(m.fs.R101.outlet.flow_mol_phase_comp[0, \"Vap\", \"benzene\"]), '%' )"
   ]
  },
  {
   "cell_type": "code",
   "execution_count": 73,
   "metadata": {
    "tags": [
     "testing",
     "remove_cell"
    ]
   },
   "outputs": [],
   "source": [
    "import pytest\n",
    "assert value(m.fs.operating_cost) == pytest.approx(408342.352, abs=100)\n",
    "assert value(m.fs.capital_cost) == pytest.approx(29926.759, abs=100)"
   ]
  },
  {
   "cell_type": "markdown",
   "metadata": {},
   "source": [
    "Display optimal values for the decision variables"
   ]
  },
  {
   "cell_type": "code",
   "execution_count": 74,
   "metadata": {},
   "outputs": [
    {
     "name": "stdout",
     "output_type": "stream",
     "text": [
      "Optimal Values\n",
      "\n",
      "H101 outlet temperature =  568.7223224727392 K\n",
      "\n",
      "R101 outlet temperature =  790.0531670806886 K\n",
      "\n",
      "F101 outlet temperature =  298.0 K\n",
      "\n",
      "H102 outlet temperature =  368.78423100672507 K\n"
     ]
    }
   ],
   "source": [
    "print('Optimal Values')\n",
    "print()\n",
    "\n",
    "print('H101 outlet temperature = ', value(m.fs.H101.outlet.temperature[0]), 'K')\n",
    "\n",
    "print()\n",
    "print('R101 outlet temperature = ', value(m.fs.R101.outlet.temperature[0]), 'K')\n",
    "\n",
    "print()\n",
    "print('F101 outlet temperature = ', value(m.fs.F101.vap_outlet.temperature[0]), 'K')\n",
    "\n",
    "print()\n",
    "print('H102 outlet temperature = ', value(m.fs.H102.outlet.temperature[0]), 'K')"
   ]
  },
  {
   "cell_type": "markdown",
   "metadata": {},
   "source": [
    "### Key Takeaways\n",
    "\n",
    "Observe that the optimization was able to reduce the yearly operating cost from \\\\$427,593 to \\\\$408,342 (~4.5%). However, the amortized capital cost more than doubled from \\\\$14,704 to \\\\$29,927 due to the need to increase the conversion in the reactor (from 75% to 93%) to meet the production and purity constraints. \n",
    "\n",
    "Further, observe that the product flow rate and product purity are at their minimum values (0.18 mol/s and 99%, respectively). This is expected as increasing recovery would require more energy and cost to purify the product.\n",
    "\n",
    "\n",
    "Finally, observe that the operating temperature of the flash (F101) is almost at its lower bound. This helps in minimizing the amount of benzene in the vapor stream leaving the flash."
   ]
  },
  {
   "cell_type": "code",
   "execution_count": null,
   "metadata": {},
   "outputs": [],
   "source": []
  }
 ],
 "metadata": {
  "celltoolbar": "Tags",
  "kernelspec": {
   "display_name": "Python 3 (ipykernel)",
   "language": "python",
   "name": "python3"
  },
  "language_info": {
   "codemirror_mode": {
    "name": "ipython",
    "version": 3
   },
   "file_extension": ".py",
   "mimetype": "text/x-python",
   "name": "python",
   "nbconvert_exporter": "python",
   "pygments_lexer": "ipython3",
   "version": "3.8.12"
  }
 },
 "nbformat": 4,
 "nbformat_minor": 4
}
