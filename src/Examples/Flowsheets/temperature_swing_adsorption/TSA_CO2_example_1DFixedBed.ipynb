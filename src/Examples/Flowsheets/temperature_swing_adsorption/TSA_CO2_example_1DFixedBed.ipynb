{
 "cells": [
  {
   "attachments": {
    "TSA_figure_2.png": {
     "image/png": "[encoded data removed]"
    }
   },
   "cell_type": "markdown",
   "id": "f0ab5d90",
   "metadata": {},
   "source": [
    "# TSA cycle of CO2 simulation example with a 1D Fixed Bed model\n",
    "![TSA_figure_2.png](attachment:TSA_figure_2.png)\n",
    "\n",
    "This jupyter notebook shows an example of a temperature swing adsorption and desorption of CO2 with the IDAES 1D FixedBed model. The IDAES 1D FixedBed model is a dynamic and axially varying reactor/adsorption model which is able to model the gas and solid interactions of the modeled species in detail. The sorbent used for this example is the NETL_32D sorbent with its details and parameters obtained from the following reference: \n",
    "- A. Lee, D.C. Miller, A One-Dimensional (1-D) Three-Region Model for a Bubbling Fluidized-Bed Adsorber, Ind. Eng. Chem. Res. 52 (2013) 469–484\n",
    "\n",
    "The notebook demonstrates how to use the IDAES 1DFixedBed model for a TSA application with distinct adsorption and desorption steps, and also shows how to simulate the adsorption and desorption steps using the Petsc integrator."
   ]
  },
  {
   "cell_type": "markdown",
   "id": "491a4e82",
   "metadata": {},
   "source": [
    "## Cycle details\n",
    "- Bed height: 9 m\n",
    "- Bed diameter: 1 m\n",
    "- Adsorption time: 30 hrs\n",
    "- Desorption time: 2 hrs\n",
    "- Adsorption temperature: 303.15 K\n",
    "- Desorption temperature: 470 K\n",
    "- Flue gas inlet conditions (Temperature and mole fractions obtained from NETL baseline report. Exhibit 5-22 B31B case)\n",
    "    - Temperature: 315 K\n",
    "    - Pressure: 106.5 kPa\n",
    "    - Flowrate: 3.544 mol/s\n",
    "    - Mole fractions: \"CO2\": 0.0408, \"H2O\": 0.0875, \"N2\": 0.7517, \"O2\": 0.12"
   ]
  },
  {
   "cell_type": "markdown",
   "id": "0f347a55",
   "metadata": {},
   "source": [
    "# Step 1: Import relevant libraries and packages"
   ]
  },
  {
   "cell_type": "markdown",
   "id": "3128f55d",
   "metadata": {},
   "source": [
    "### Import python libraries\n",
    "\n",
    "- numpy (numerical python library which provides numerical computing tools)\n",
    "- time (time python library which will be used to track the simulation time)"
   ]
  },
  {
   "cell_type": "code",
   "execution_count": null,
   "id": "a3acb12e",
   "metadata": {},
   "outputs": [],
   "source": [
    "import numpy as np\n",
    "import time"
   ]
  },
  {
   "cell_type": "markdown",
   "id": "e92f21fb",
   "metadata": {},
   "source": [
    "\n",
    "### Import Pyomo pakages\n",
    "For the flowsheet, we will need several components from the pyomo libraries.\n",
    "\n",
    "- ConcreteModel (to create the Pyomo model that will contain the IDAES flowsheet)\n",
    "- TransformationFactory (to apply certain transformations)\n",
    "- SolverFactory (to solve the problem)\n",
    "- Var (to create a Pyomo variable)\n",
    "- value (to return the numerical value of an Pyomo objects such as variables, constraints or expressions)\n",
    "- units (to handle units in Pyomo and IDAES)\n",
    "- ContinuousSet (to create continuous sets in Pyomo for supporting the evaluation of integrals and derivatives)\n",
    "- Integral (to calculate the integrals of variables of interest)\n",
    "\n",
    "For further details on these components, please refer to the pyomo documentation: https://pyomo.readthedocs.io/en/latest/"
   ]
  },
  {
   "cell_type": "code",
   "execution_count": null,
   "id": "51105715",
   "metadata": {},
   "outputs": [],
   "source": [
    "from pyomo.environ import (\n",
    "    ConcreteModel,\n",
    "    TransformationFactory,\n",
    "    SolverFactory,\n",
    "    Var,\n",
    "    value,\n",
    "    units as pyunits,\n",
    ")\n",
    "from pyomo.dae import ContinuousSet, Integral"
   ]
  },
  {
   "cell_type": "markdown",
   "id": "d13442b7",
   "metadata": {},
   "source": [
    "### Import IDAES core components\n",
    "\n",
    "To build, initialize, and solve IDAES flowsheets we will need several core components/utilities:\n",
    "\n",
    "- FlowsheetBlock (the flowsheet block contains idaes properties, time, and unit models)\n",
    "- EnergyBalanceType (to specify the energy balance type)\n",
    "- petsc (petsc integrator)\n",
    "- get_solver (IDAES solver utility)\n",
    "- iscale (is used to apply scaling factors in variables and constraints)\n",
    "- propagate_state (is used to initialize models, propagating the state variables from one unit model to another)\n",
    "- degrees_of_freedom (useful for debugging, this method returns the DOF of the model)\n",
    "- idaeslog (is used to set output messages like warnings or errors)\n",
    "\n",
    "For further details on these components, please refer to the IDAES documentation: https://idaes-pse.readthedocs.io/en/latest/"
   ]
  },
  {
   "cell_type": "code",
   "execution_count": null,
   "id": "cbd61748",
   "metadata": {},
   "outputs": [],
   "source": [
    "from idaes.core import FlowsheetBlock, EnergyBalanceType\n",
    "import idaes.core.solvers.petsc as petsc  # petsc utilities module\n",
    "from idaes.core.util import scaling as iscale\n",
    "from idaes.core.solvers import get_solver\n",
    "from idaes.core.util.model_statistics import degrees_of_freedom\n",
    "import idaes.logger as idaeslog"
   ]
  },
  {
   "cell_type": "markdown",
   "id": "c0684f2b",
   "metadata": {},
   "source": [
    "### Import IDAES unit models and NETL 32D property packages\n",
    "\n",
    "To build the IDAES flowsheet for the TSA example, we will need the following: \n",
    "1) the 1D Fixed Bed unit model.\n",
    "2) the NETL 32D property package."
   ]
  },
  {
   "cell_type": "code",
   "execution_count": null,
   "id": "cf802c61",
   "metadata": {},
   "outputs": [],
   "source": [
    "# from idaes.models_extra.gas_solid_contactors.unit_models.fixed_bed_1D import FixedBed1D\n",
    "from fixed_bed_1D import FixedBed1D  # TODO - remove when IDAES FixedBed1D PR is approved\n",
    "from property_packages.gas_phase_thermo import GasPhaseParameterBlock\n",
    "from property_packages.solid_phase_thermo import SolidPhaseParameterBlock\n",
    "from property_packages.adsorption_reactions import HeteroReactionParameterBlock"
   ]
  },
  {
   "cell_type": "markdown",
   "id": "22c54b5a",
   "metadata": {},
   "source": [
    "### Import custom libraries and functions\n",
    "\n",
    "- heat_computation (used to calculate the heat requirements of the TSA cycle)\n",
    "- performance_results (used to evaluate the performance of the TSA cycle)\n",
    "- results_summary (provides summarized results of the TSA cycle)\n",
    "- plot_results_temporal (plots the temporal profiles of the flowsheet simulation)\n",
    "- plot_results_spatial (plots the spatial profiles of the flowsheet simulation)\n",
    "- fb_model_setup (function that builds the 1D FixedBed model)\n",
    "- fb_fixed_conditions (function that fixes the initial and boundary conditions of the 1D FixedBed model)"
   ]
  },
  {
   "cell_type": "code",
   "execution_count": null,
   "id": "fe44b58f",
   "metadata": {},
   "outputs": [],
   "source": [
    "from simulation_utilities import (\n",
    "    heat_computation,\n",
    "    performance_results,\n",
    "    results_summary,\n",
    "    plot_results_temporal,\n",
    "    plot_results_spatial\n",
    ")"
   ]
  },
  {
   "cell_type": "markdown",
   "id": "3807bf09",
   "metadata": {},
   "source": [
    "#### Function \"fb_model_setup\"\n",
    "\n",
    "This function builds instances of the 1D FixedBed model for the adsorption and desorption simulations. As arguments it takes the following:\n",
    "1) The flowsheet block of the simulation i.e. the adsorption flowsheet\n",
    "2) The number of time finite elements\n",
    "3) The number of spatial finite elements\n",
    "\n",
    "It returns a flowsheet object which contains an instance of the 1D FixedBed model"
   ]
  },
  {
   "cell_type": "code",
   "execution_count": null,
   "id": "c9b2e6d5",
   "metadata": {},
   "outputs": [],
   "source": [
    "def fb_model_setup(\n",
    "    fs,\n",
    "    ntfe,  # number of time finite elements\n",
    "    nxfe,  # number of space finite elements\n",
    "):\n",
    "\n",
    "    # Set up thermo props and reaction props\n",
    "    fs.gas_properties = GasPhaseParameterBlock()\n",
    "    fs.solid_properties = SolidPhaseParameterBlock()\n",
    "\n",
    "    fs.hetero_reactions = HeteroReactionParameterBlock(\n",
    "        solid_property_package=fs.solid_properties,\n",
    "        gas_property_package=fs.gas_properties,\n",
    "    )\n",
    "\n",
    "    fs.FB = FixedBed1D(\n",
    "        finite_elements=nxfe,\n",
    "        transformation_method=\"dae.finite_difference\",\n",
    "        energy_balance_type=EnergyBalanceType.none,\n",
    "        pressure_drop_type=\"ergun_correlation\",\n",
    "        gas_phase_config={\"property_package\": fs.gas_properties},\n",
    "        solid_phase_config={\n",
    "            \"property_package\": fs.solid_properties,\n",
    "            \"reaction_package\": fs.hetero_reactions,\n",
    "        },\n",
    "    )\n",
    "\n",
    "    # Discretize time domain\n",
    "    fs.discretizer = TransformationFactory(\"dae.finite_difference\")\n",
    "    fs.discretizer.apply_to(fs, nfe=ntfe, wrt=fs.time, scheme=\"BACKWARD\")\n",
    "\n",
    "    return fs"
   ]
  },
  {
   "cell_type": "markdown",
   "id": "4b138d4b",
   "metadata": {},
   "source": [
    "#### Function \"fb_fix_conditions\"\n",
    "\n",
    "This function fixes the initial and boundary conditions of an instance of the 1D FixedBed model. It also has checks to ensure that the degrees of freedom are zero, and that the velocity into the bed is less than the minimum fluidization velocity of the bed. As arguments it takes the following:\n",
    "1) The flowsheet block of the simulation i.e. the adsorption flowsheet\n",
    "2) The reactor bed diameter\n",
    "3) The reactor bed height\n",
    "4) A dictionary of gas phase state data for which the gas phase state variables of the model should be fixed to\n",
    "5) A dictionary of solid phase state data for which the solid phase state variables of the model should be fixed to. If None, the solid phase state variables are fixed to their current values.\n",
    "\n",
    "No object is returned by this function"
   ]
  },
  {
   "cell_type": "code",
   "execution_count": null,
   "id": "a2df1c70",
   "metadata": {},
   "outputs": [],
   "source": [
    "def fb_fix_conditions(\n",
    "    fs, bed_diameter, bed_height, gas_phase_state_dict, solid_phase_state_dict=None\n",
    "):\n",
    "    # Fix bed geometry variables\n",
    "    fs.FB.bed_diameter.fix(bed_diameter)  # m\n",
    "    fs.FB.bed_height.fix(bed_height)  # m\n",
    "\n",
    "    # Fix boundary values for gas for all time\n",
    "    blk = fs.FB\n",
    "    for t in fs.time:\n",
    "        # Gas values\n",
    "        blk.gas_inlet.flow_mol[t].fix(gas_phase_state_dict[\"flow_mol\"])\n",
    "        blk.gas_inlet.temperature[t].fix(gas_phase_state_dict[\"temperature\"])\n",
    "        blk.gas_inlet.pressure[t].fix(gas_phase_state_dict[\"pressure\"])\n",
    "        for j, val in gas_phase_state_dict[\"mole_frac_comp\"].items():\n",
    "            blk.gas_inlet.mole_frac_comp[t, j].fix(val)\n",
    "\n",
    "    # Specify gas phase and solid phase initial conditions for all space\n",
    "    t0 = fs.time.first()\n",
    "    for x in blk.length_domain:\n",
    "        blk.gas_phase.properties[t0, x].flow_mol.fix(gas_phase_state_dict[\"flow_mol\"])\n",
    "        blk.gas_phase.properties[t0, x].temperature.fix(\n",
    "            gas_phase_state_dict[\"temperature\"]\n",
    "        )  # K\n",
    "        for j, val in gas_phase_state_dict[\"mole_frac_comp\"].items():\n",
    "            blk.gas_phase.properties[t0, x].mole_frac_comp[j].fix(val)\n",
    "\n",
    "        if solid_phase_state_dict is None:\n",
    "            # Fix to existing values if dict is empty\n",
    "            blk.solid_properties[t0, x].dens_mass_particle.fix()\n",
    "            blk.solid_properties[t0, x].temperature.fix()\n",
    "            blk.solid_properties[t0, x].mass_frac_comp[:].fix()\n",
    "        else:\n",
    "            blk.solid_properties[t0, x].dens_mass_particle.fix(\n",
    "                solid_phase_state_dict[\"dens_mass_particle\"]\n",
    "            )\n",
    "            blk.solid_properties[t0, x].temperature.fix(\n",
    "                solid_phase_state_dict[\"temperature\"]\n",
    "            )\n",
    "            for j, val in solid_phase_state_dict[\"mass_frac_comp\"].items():\n",
    "                blk.solid_properties[t0, x].mass_frac_comp[j].fix(val)\n",
    "\n",
    "    dof = degrees_of_freedom(fs)\n",
    "\n",
    "    print(\"degrees of freedom = \", dof)\n",
    "    try:\n",
    "        assert degrees_of_freedom(fs) == 0\n",
    "    except AssertionError:\n",
    "        print('Degrees of freedom is not equal to zero. This is unexpected.')\n",
    "        raise\n",
    "\n",
    "    # Assert that inlet gas velocity is less than v_mf\n",
    "    # Use solid temperature as the thermal mass of solid >> than that of gas\n",
    "    pi = 3.14  # [-]\n",
    "    R = 8.314  # Gas constant [J/mol/K]\n",
    "\n",
    "    @blk.Expression(doc=\"gas inlet velocity, m/s\")\n",
    "    def gas_inlet_velocity(blk):\n",
    "        v_gas_inlet = (\n",
    "            blk.gas_inlet.flow_mol[0] / (pi * value(blk.bed_diameter ** 2) / 4)\n",
    "        ) * (R * blk.solid_properties[0, 0].temperature / blk.gas_inlet.pressure[0])\n",
    "        return v_gas_inlet\n",
    "\n",
    "    v_mf = value(  # minimum fluidization velocity [m/s]\n",
    "        blk.solid_properties[t0, 0]._params.velocity_mf\n",
    "    )\n",
    "    print(\"inlet gas velocity = \", value(blk.gas_inlet_velocity), ' m/s')\n",
    "    print(\"min. fluid velocity = \", v_mf, ' m/s')\n",
    "    try:\n",
    "        assert value(blk.gas_inlet_velocity) <= v_mf\n",
    "    except AssertionError:\n",
    "        print('The inlet gas velocity is greater than the minimum fluidization velocity. '\n",
    "              'This is unexpected for a Fixed Bed.')\n",
    "        raise"
   ]
  },
  {
   "cell_type": "markdown",
   "id": "cd379e4b",
   "metadata": {},
   "source": [
    "# Step 2: Setup and run simulation"
   ]
  },
  {
   "cell_type": "markdown",
   "id": "c82e4377",
   "metadata": {},
   "source": [
    "#### Create concrete model"
   ]
  },
  {
   "cell_type": "code",
   "execution_count": null,
   "id": "b70b98dc",
   "metadata": {},
   "outputs": [],
   "source": [
    "m = ConcreteModel()"
   ]
  },
  {
   "cell_type": "markdown",
   "id": "056e7c99",
   "metadata": {},
   "source": [
    "#### Setup solver for initialization"
   ]
  },
  {
   "cell_type": "code",
   "execution_count": null,
   "id": "4702b57b",
   "metadata": {},
   "outputs": [],
   "source": [
    "# Solver arguments\n",
    "optarg = {\n",
    "    # 'tol': 1e-5,\n",
    "    \"bound_push\": 1e-22,\n",
    "    \"halt_on_ampl_error\": \"yes\",\n",
    "    \"max_iter\": 100,\n",
    "    \"nlp_scaling_method\": \"user-scaling\",\n",
    "    \"linear_solver\": \"ma27\",\n",
    "}\n",
    "\n",
    "# Create a solver\n",
    "solver = get_solver(\"ipopt\")\n",
    "solver.options = optarg"
   ]
  },
  {
   "cell_type": "markdown",
   "id": "d76c2529",
   "metadata": {},
   "source": [
    "#### Set spatial elements and design variables for adsorption and desorption simulations"
   ]
  },
  {
   "cell_type": "code",
   "execution_count": null,
   "id": "95b9008d",
   "metadata": {},
   "outputs": [],
   "source": [
    "# Number of spatial elements\n",
    "nxfe = 50\n",
    "\n",
    "# Design variables for static and dynamic models\n",
    "bed_diameter = 9  # m\n",
    "bed_height = 1  # m"
   ]
  },
  {
   "cell_type": "markdown",
   "id": "e5bbcfe0",
   "metadata": {},
   "source": [
    "## Adsorption simulation"
   ]
  },
  {
   "cell_type": "markdown",
   "id": "2e012506",
   "metadata": {},
   "source": [
    "### Setup simulation horizon and create time set"
   ]
  },
  {
   "cell_type": "code",
   "execution_count": null,
   "id": "559a8d69",
   "metadata": {},
   "outputs": [],
   "source": [
    "# Time horizon\n",
    "horizon = 108000  # s\n",
    "\n",
    "# Create time_set list\n",
    "t_element_size = horizon / 4  # s\n",
    "ntfe = int(horizon / t_element_size)\n",
    "time_set = list(np.linspace(0, horizon, ntfe + 1))"
   ]
  },
  {
   "cell_type": "markdown",
   "id": "931d9095",
   "metadata": {},
   "source": [
    "### Initial and boundary conditions for gas and solid phases"
   ]
  },
  {
   "cell_type": "code",
   "execution_count": null,
   "id": "1c530f25",
   "metadata": {},
   "outputs": [],
   "source": [
    "# Flue gas inlet conditions to adsorption system (flue gas stream) -\n",
    "# Temperature and mole fractions obtained from NETL baseline report.\n",
    "# Exhibit 5-22 B31B case.\n",
    "adsorption_temperature = 303.15  # K\n",
    "\n",
    "# Dictionary of initial and boundary conditions for gas phase\n",
    "gas_phase_state_dict_ads = {\n",
    "    \"flow_mol\": 3.544,  # mol/s\n",
    "    \"temperature\": adsorption_temperature,  # K\n",
    "    \"pressure\": 1.2452e5,  # Pa\n",
    "    \"mole_frac_comp\": {  # [-]\n",
    "        \"CO2\": 0.0408,\n",
    "        \"H2O\": 0.0875,\n",
    "        \"N2\": 0.7517,\n",
    "        \"O2\": 0.12,\n",
    "    },\n",
    "}\n",
    "\n",
    "# Dictionary of initial conditions for solid phase\n",
    "solid_phase_state_dict_ads = {\n",
    "    \"dens_mass_particle\": 442,  # kg/m3\n",
    "    \"temperature\": adsorption_temperature,  # K\n",
    "    \"mass_frac_comp\": {  # [-]\n",
    "        \"H2O_s\": 1e-8,\n",
    "        \"Car\": 1e-8,\n",
    "        \"SiO\": 1,\n",
    "    },\n",
    "}"
   ]
  },
  {
   "cell_type": "markdown",
   "id": "946ddee5",
   "metadata": {},
   "source": [
    "### Setup the adsorption model"
   ]
  },
  {
   "cell_type": "code",
   "execution_count": null,
   "id": "e17062b2",
   "metadata": {},
   "outputs": [],
   "source": [
    "# Create the adsorption flowsheet\n",
    "m.fs_ads = FlowsheetBlock(dynamic=True, time_set=time_set, time_units=pyunits.s)"
   ]
  },
  {
   "cell_type": "code",
   "execution_count": null,
   "id": "25424e2b",
   "metadata": {},
   "outputs": [],
   "source": [
    "# Setup an instance of the 1D FixedBed model for the adsorption simulation\n",
    "m.fs_ads = fb_model_setup(m.fs_ads, ntfe, nxfe)"
   ]
  },
  {
   "cell_type": "code",
   "execution_count": null,
   "id": "f41622ac",
   "metadata": {},
   "outputs": [],
   "source": [
    "# Fix initial and boundary conditions\n",
    "fb_fix_conditions(\n",
    "    m.fs_ads,\n",
    "    bed_diameter,\n",
    "    bed_height,\n",
    "    gas_phase_state_dict_ads,\n",
    "    solid_phase_state_dict_ads,\n",
    ")"
   ]
  },
  {
   "cell_type": "markdown",
   "id": "78e0cc53",
   "metadata": {},
   "source": [
    "###  Adsorption model - initialize and solve"
   ]
  },
  {
   "cell_type": "markdown",
   "id": "0ac775db",
   "metadata": {},
   "source": [
    "#### Apply scaling transformation\n",
    "- Scale the model variables and equations to reduce ill-conditioning and improve its convergence properties"
   ]
  },
  {
   "cell_type": "code",
   "execution_count": null,
   "id": "7c6dfa7a",
   "metadata": {},
   "outputs": [],
   "source": [
    "iscale.calculate_scaling_factors(m.fs_ads)"
   ]
  },
  {
   "cell_type": "markdown",
   "id": "377d28fe",
   "metadata": {},
   "source": [
    "#### Initialize model\n",
    "- The model initialization is done with the block triangularization initialization method in the 1D FixedBed model as this is faster than using the traditional sequential heirarchichal initialization approach. See the 1D FixedBed model and documentation for more details on this method."
   ]
  },
  {
   "cell_type": "code",
   "execution_count": null,
   "id": "60227c40",
   "metadata": {},
   "outputs": [],
   "source": [
    "# Run start time\n",
    "t_start_ads = time.time()\n",
    "\n",
    "# Initialize model\n",
    "calc_var_kwds = {\"eps\": 1e-5}\n",
    "m.fs_ads.FB.block_triangularization_initialize(\n",
    "    gas_phase_state_args=gas_phase_state_dict_ads,\n",
    "    solid_phase_state_args=solid_phase_state_dict_ads,\n",
    "    outlvl=idaeslog.DEBUG,\n",
    "    solver=solver,\n",
    "    calc_var_kwds=calc_var_kwds,\n",
    ")\n",
    "\n",
    "# Run end time\n",
    "t_end_ads = time.time()\n",
    "\n",
    "# Initialization time\n",
    "adsorption_initialization_time = value(t_end_ads - t_start_ads)"
   ]
  },
  {
   "cell_type": "markdown",
   "id": "7715c3b7",
   "metadata": {},
   "source": [
    "#### Petsc integrator\n",
    "- The petsc integrator is used for simulating the time trajectory. See https://idaes-pse.readthedocs.io/en/stable/reference_guides/core/solvers.html#petsc-utilities for more details.\n"
   ]
  },
  {
   "cell_type": "code",
   "execution_count": null,
   "id": "f9e12953",
   "metadata": {},
   "outputs": [],
   "source": [
    "# Run start time\n",
    "t_start_ads = time.time()\n",
    "\n",
    "# Setup petsc integrator and simulate adsorption flowsheet\n",
    "m.fs_ads.time_var = Var(m.fs_ads.time)\n",
    "m.fs_ads.time_var[0].fix(m.fs_ads.time.first())\n",
    "\n",
    "result_ads = petsc.petsc_dae_by_time_element(\n",
    "    m.fs_ads,\n",
    "    time=m.fs_ads.time,\n",
    "    timevar=m.fs_ads.time_var,\n",
    "    keepfiles=True,\n",
    "    symbolic_solver_labels=True,\n",
    "    skip_initial=False,\n",
    "    ts_options={\n",
    "        \"--ts_type\": \"beuler\",  # backward euler integration\n",
    "        \"--ts_dt\": 200,  # set initial step to 200\n",
    "        \"--ts_rtol\": 20,\n",
    "        \"--ts_monitor\": \"\",\n",
    "        \"--ts_save_trajectory\": 1,\n",
    "        \"--ksp_rtol\": 1e-10,\n",
    "        \"--snes_type\": \"newtontr\",  # newton trust region non-linear solver\n",
    "        \"--ts_monitor\": \"\",\n",
    "        \"--ts_save_trajectory\": 1,\n",
    "        \"--ts_max_snes_failures\": 1000,\n",
    "    },\n",
    ")\n",
    "tj_ads = result_ads.trajectory  # trajectory data\n",
    "\n",
    "# Run end time\n",
    "t_end_ads = time.time()\n",
    "\n",
    "# Initialization time\n",
    "adsorption_simulation_time = value(t_end_ads - t_start_ads)"
   ]
  },
  {
   "cell_type": "markdown",
   "id": "eff69b34",
   "metadata": {},
   "source": [
    "###  Plot the adsorption simulation results"
   ]
  },
  {
   "cell_type": "code",
   "execution_count": null,
   "id": "19094b3b",
   "metadata": {},
   "outputs": [],
   "source": [
    "# Plot temporal result profiles\n",
    "plot_results_temporal(m.fs_ads, tj_ads)"
   ]
  },
  {
   "cell_type": "code",
   "execution_count": null,
   "id": "9ba18f9c",
   "metadata": {},
   "outputs": [],
   "source": [
    "# Plot spatial result profiles\n",
    "plot_results_spatial(m.fs_ads, tj_ads)"
   ]
  },
  {
   "cell_type": "markdown",
   "id": "8975e28e",
   "metadata": {},
   "source": [
    "## Desorption simulation\n",
    "The desorption simulation begins when the adsorption simulation ends. It uses the the final state of the sorbent (besides temperature which is set at the desorption temperature) in the adsorption mode as the initial state of the sorbent in the desorption mode."
   ]
  },
  {
   "cell_type": "markdown",
   "id": "1883de27",
   "metadata": {},
   "source": [
    "### Setup simulation horizon and create time set"
   ]
  },
  {
   "cell_type": "code",
   "execution_count": null,
   "id": "2681332c",
   "metadata": {},
   "outputs": [],
   "source": [
    "# Space and time discretization arguments\n",
    "horizon = 7200  # s\n",
    "\n",
    "# Setup for petsc run\n",
    "t_element_size = horizon  # s\n",
    "ntfe = int(horizon / t_element_size)\n",
    "time_set = list(np.linspace(0, horizon, ntfe + 1))"
   ]
  },
  {
   "cell_type": "markdown",
   "id": "894d2b31",
   "metadata": {},
   "source": [
    "### Initial and boundary conditions for gas phase\n",
    "- The initial conditions of the solid phase will be copied from the final conditions of the model in the adsorption simulation."
   ]
  },
  {
   "cell_type": "code",
   "execution_count": null,
   "id": "c5ef2561",
   "metadata": {},
   "outputs": [],
   "source": [
    "# Desorption operating conditions\n",
    "desorption_temperature = 470  # K\n",
    "\n",
    "gas_phase_state_dict_des = {\n",
    "    \"flow_mol\": 10,  # mol/s\n",
    "    \"temperature\": desorption_temperature,  # K\n",
    "    \"pressure\": 1.06525e5,  # Pa\n",
    "    \"mole_frac_comp\": {\"CO2\": 1e-8, \"H2O\": 1, \"N2\": 1e-8, \"O2\": 1e-8},  # [-]\n",
    "}"
   ]
  },
  {
   "cell_type": "markdown",
   "id": "ae422616",
   "metadata": {},
   "source": [
    "### Setup the desorption model"
   ]
  },
  {
   "cell_type": "code",
   "execution_count": null,
   "id": "a5ecd599",
   "metadata": {},
   "outputs": [],
   "source": [
    "# Create the desorption flowsheet\n",
    "m.fs_des = FlowsheetBlock(dynamic=True, time_set=time_set, time_units=pyunits.s)"
   ]
  },
  {
   "cell_type": "code",
   "execution_count": null,
   "id": "50434b44",
   "metadata": {},
   "outputs": [],
   "source": [
    "# Setup an instance of the 1D FixedBed model for the desorption simulation\n",
    "m.fs_des = fb_model_setup(\n",
    "    m.fs_des,\n",
    "    ntfe,\n",
    "    nxfe,\n",
    ")"
   ]
  },
  {
   "cell_type": "markdown",
   "id": "3a950c7a",
   "metadata": {},
   "source": [
    "###  Desorption model - initialize and solve"
   ]
  },
  {
   "cell_type": "markdown",
   "id": "3565cc0e",
   "metadata": {},
   "source": [
    "##### Copy values from adsorption model to desorption model\n",
    "Copy state values of solid phase (besides temperature) from last time point in adsorption model to all time point in desorption model. Also set temperature state variable of desorption model to desorption temperature."
   ]
  },
  {
   "cell_type": "code",
   "execution_count": null,
   "id": "cb52a593",
   "metadata": {},
   "outputs": [],
   "source": [
    "blk_des = m.fs_des.FB\n",
    "tf_ads = tj_ads.time[-1]  # Get final time from adsorption trajectory results\n",
    "tf_ads_index = tj_ads.time.index(tf_ads)  # Get index at final time\n",
    "component_list = blk_des.config.solid_phase_config.property_package.component_list\n",
    "\n",
    "for t in m.fs_des.time:\n",
    "    for x in blk_des.length_domain:\n",
    "        blk_des.solid_properties[t, x].temperature.set_value(desorption_temperature)\n",
    "        blk_des.solid_properties[t, x].dens_mass_particle.set_value(\n",
    "            tj_ads.get_vec(\n",
    "                m.fs_ads.FB.solid_properties[tf_ads, x].dens_mass_particle\n",
    "            )[tf_ads_index]\n",
    "        )\n",
    "        for j in component_list:\n",
    "            blk_des.solid_properties[t, x].mass_frac_comp[j].set_value(\n",
    "                value(\n",
    "                    tj_ads.get_vec(\n",
    "                        m.fs_ads.FB.solid_properties[tf_ads, x].mass_frac_comp[j]\n",
    "                    )[tf_ads_index]\n",
    "                )\n",
    "            )\n"
   ]
  },
  {
   "cell_type": "markdown",
   "id": "a5463939",
   "metadata": {},
   "source": [
    "#### Fix initial and boundary conditions"
   ]
  },
  {
   "cell_type": "code",
   "execution_count": null,
   "id": "52a53d22",
   "metadata": {},
   "outputs": [],
   "source": [
    "fb_fix_conditions(\n",
    "    m.fs_des,\n",
    "    bed_diameter,\n",
    "    bed_height,\n",
    "    gas_phase_state_dict_des,\n",
    ")"
   ]
  },
  {
   "cell_type": "markdown",
   "id": "a4cc7a70",
   "metadata": {},
   "source": [
    "#### Calculate scaling of desorption model\n"
   ]
  },
  {
   "cell_type": "code",
   "execution_count": null,
   "id": "8596c95f",
   "metadata": {},
   "outputs": [],
   "source": [
    "iscale.calculate_scaling_factors(m.fs_des)"
   ]
  },
  {
   "cell_type": "markdown",
   "id": "9a9a1484",
   "metadata": {},
   "source": [
    "#### Initialize desorption model"
   ]
  },
  {
   "cell_type": "code",
   "execution_count": null,
   "id": "59c37531",
   "metadata": {},
   "outputs": [],
   "source": [
    "# Run start time\n",
    "t_start_des = time.time()\n",
    "\n",
    "# Initialize model\n",
    "m.fs_des.FB.block_triangularization_initialize(\n",
    "    gas_phase_state_args=gas_phase_state_dict_des,\n",
    "    outlvl=idaeslog.DEBUG,\n",
    "    solver=solver,\n",
    "    calc_var_kwds=calc_var_kwds,\n",
    ")\n",
    "\n",
    "# Run end time\n",
    "t_end_des = time.time()\n",
    "\n",
    "# Initialization time\n",
    "desorption_initialization_time = value(t_end_des - t_start_des)"
   ]
  },
  {
   "cell_type": "markdown",
   "id": "d366f5f4",
   "metadata": {},
   "source": [
    "#### Setup Petsc integrator and simulate desorption step"
   ]
  },
  {
   "cell_type": "code",
   "execution_count": null,
   "id": "bb540e67",
   "metadata": {},
   "outputs": [],
   "source": [
    "# Run start time\n",
    "t_start_des = time.time()\n",
    "\n",
    "# Setup petsc integrator and simulate desorption flowsheet\n",
    "m.fs_des.time_var = Var(m.fs_des.time)\n",
    "m.fs_des.time_var[0].fix(m.fs_des.time.first())\n",
    "\n",
    "result_des = petsc.petsc_dae_by_time_element(\n",
    "    m.fs_des,\n",
    "    time=m.fs_des.time,\n",
    "    timevar=m.fs_des.time_var,\n",
    "    keepfiles=True,\n",
    "    symbolic_solver_labels=True,\n",
    "    skip_initial=False,\n",
    "    ts_options={\n",
    "        \"--ts_type\": \"beuler\",  # backward euler integration\n",
    "        \"--ts_dt\": 200,  # set initial step to 200\n",
    "        \"--ts_rtol\": 20,\n",
    "        \"--ts_monitor\": \"\",\n",
    "        \"--ts_save_trajectory\": 1,\n",
    "        \"--ksp_rtol\": 1e-10,\n",
    "        \"--snes_type\": \"newtontr\",  # newton trust region non-linear solver\n",
    "        \"--ts_monitor\": \"\",\n",
    "        \"--ts_save_trajectory\": 1,\n",
    "        \"--ts_max_snes_failures\": 1000,\n",
    "    },\n",
    ")\n",
    "tj_des = result_des.trajectory  # trajectory data\n",
    "\n",
    "# Run end time\n",
    "t_end_des = time.time()\n",
    "\n",
    "# Initialization time\n",
    "desorption_simulation_time = value(t_end_des - t_start_des)"
   ]
  },
  {
   "cell_type": "markdown",
   "id": "e2da622d",
   "metadata": {},
   "source": [
    "###  Plot the desorption simulation results"
   ]
  },
  {
   "cell_type": "code",
   "execution_count": null,
   "id": "2effdd51",
   "metadata": {},
   "outputs": [],
   "source": [
    "# Plot temporal result profiles\n",
    "plot_results_temporal(m.fs_des, tj_des)"
   ]
  },
  {
   "cell_type": "code",
   "execution_count": null,
   "id": "f7c7f2d0",
   "metadata": {},
   "outputs": [],
   "source": [
    "# Plot spatial result profiles\n",
    "plot_results_spatial(m.fs_ads, tj_ads)"
   ]
  },
  {
   "cell_type": "markdown",
   "id": "265bcbba",
   "metadata": {},
   "source": [
    "## Step 3: Generate performance results"
   ]
  },
  {
   "cell_type": "code",
   "execution_count": null,
   "id": "c27200ca",
   "metadata": {},
   "outputs": [],
   "source": [
    "###########################################################################\n",
    "#  Heat requirements\n",
    "###########################################################################\n",
    "heat_computation(\n",
    "    m, tj_ads, tj_des, adsorption_temperature, desorption_temperature\n",
    ")"
   ]
  },
  {
   "cell_type": "code",
   "execution_count": null,
   "id": "922411e0",
   "metadata": {},
   "outputs": [],
   "source": [
    "###########################################################################\n",
    "#  Performance results\n",
    "###########################################################################\n",
    "performance_results(m, tj_ads, tj_des)\n",
    "\n",
    "results_summary(m, adsorption_temperature, desorption_temperature)"
   ]
  },
  {
   "cell_type": "markdown",
   "id": "617d5222",
   "metadata": {},
   "source": [
    "## Simulation time results"
   ]
  },
  {
   "cell_type": "code",
   "execution_count": null,
   "id": "d45cf727",
   "metadata": {},
   "outputs": [],
   "source": [
    "print('Adsorption initialization time: ', adsorption_initialization_time, ' s')\n",
    "print('Adsorption simulation time: ', adsorption_simulation_time, ' s')\n",
    "print()\n",
    "print('Desorption initialization time: ', desorption_initialization_time, ' s')\n",
    "print('Desorption simulation time: ', desorption_simulation_time, ' s')\n",
    "print()\n",
    "total_simulation_time = (adsorption_initialization_time + adsorption_simulation_time\n",
    "                         + desorption_initialization_time + desorption_simulation_time)\n",
    "print('Total simulation time: ', total_simulation_time, ' s')"
   ]
  },
  {
   "cell_type": "code",
   "execution_count": null,
   "id": "58581ef3",
   "metadata": {},
   "outputs": [],
   "source": []
  }
 ],
 "metadata": {
  "celltoolbar": "Tags",
  "kernelspec": {
   "display_name": "Python 3 (ipykernel)",
   "language": "python",
   "name": "python3"
  },
  "language_info": {
   "codemirror_mode": {
    "name": "ipython",
    "version": 3
   },
   "file_extension": ".py",
   "mimetype": "text/x-python",
   "name": "python",
   "nbconvert_exporter": "python",
   "pygments_lexer": "ipython3",
   "version": "3.7.9"
  }
 },
 "nbformat": 4,
 "nbformat_minor": 5
}
