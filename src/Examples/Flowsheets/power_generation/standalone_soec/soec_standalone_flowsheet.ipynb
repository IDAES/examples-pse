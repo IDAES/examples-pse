{
 "cells": [
  {
   "cell_type": "code",
   "execution_count": 1,
   "id": "2bca3140",
   "metadata": {},
   "outputs": [
    {
     "ename": "ModuleNotFoundError",
     "evalue": "No module named 'idaes.core.util.unit_costing'",
     "output_type": "error",
     "traceback": [
      "\u001b[1;31m---------------------------------------------------------------------------\u001b[0m",
      "\u001b[1;31mModuleNotFoundError\u001b[0m                       Traceback (most recent call last)",
      "\u001b[1;32m~\\AppData\\Local\\Temp\\ipykernel_27424\\2958667140.py\u001b[0m in \u001b[0;36m<cell line: 12>\u001b[1;34m()\u001b[0m\n\u001b[0;32m     10\u001b[0m \u001b[1;32mimport\u001b[0m \u001b[0midaes\u001b[0m\u001b[1;33m.\u001b[0m\u001b[0mcore\u001b[0m\u001b[1;33m.\u001b[0m\u001b[0mutil\u001b[0m\u001b[1;33m.\u001b[0m\u001b[0mscaling\u001b[0m \u001b[1;32mas\u001b[0m \u001b[0miscale\u001b[0m\u001b[1;33m\u001b[0m\u001b[1;33m\u001b[0m\u001b[0m\n\u001b[0;32m     11\u001b[0m \u001b[1;32mimport\u001b[0m \u001b[0msoec_standalone_flowsheet\u001b[0m\u001b[1;33m\u001b[0m\u001b[1;33m\u001b[0m\u001b[0m\n\u001b[1;32m---> 12\u001b[1;33m from soec_flowsheet_costing import (\n\u001b[0m\u001b[0;32m     13\u001b[0m     \u001b[0mget_solo_soec_capital_costing\u001b[0m\u001b[1;33m,\u001b[0m\u001b[1;33m\u001b[0m\u001b[1;33m\u001b[0m\u001b[0m\n\u001b[0;32m     14\u001b[0m     \u001b[0minitialize_flowsheet_costing\u001b[0m\u001b[1;33m,\u001b[0m\u001b[1;33m\u001b[0m\u001b[1;33m\u001b[0m\u001b[0m\n",
      "\u001b[1;32m~\\Work\\examples-pse\\src\\Examples\\Flowsheets\\power_generation\\standalone_soec\\soec_flowsheet_costing.py\u001b[0m in \u001b[0;36m<module>\u001b[1;34m\u001b[0m\n\u001b[0;32m     18\u001b[0m \u001b[1;32mfrom\u001b[0m \u001b[0mpyomo\u001b[0m\u001b[1;33m.\u001b[0m\u001b[0mcommon\u001b[0m\u001b[1;33m.\u001b[0m\u001b[0mconfig\u001b[0m \u001b[1;32mimport\u001b[0m \u001b[0mConfigValue\u001b[0m\u001b[1;33m\u001b[0m\u001b[1;33m\u001b[0m\u001b[0m\n\u001b[0;32m     19\u001b[0m \u001b[1;32mfrom\u001b[0m \u001b[0midaes\u001b[0m\u001b[1;33m.\u001b[0m\u001b[0mcore\u001b[0m \u001b[1;32mimport\u001b[0m \u001b[0mUnitModelCostingBlock\u001b[0m\u001b[1;33m\u001b[0m\u001b[1;33m\u001b[0m\u001b[0m\n\u001b[1;32m---> 20\u001b[1;33m \u001b[1;32mfrom\u001b[0m \u001b[0midaes\u001b[0m\u001b[1;33m.\u001b[0m\u001b[0mcore\u001b[0m\u001b[1;33m.\u001b[0m\u001b[0mutil\u001b[0m\u001b[1;33m.\u001b[0m\u001b[0munit_costing\u001b[0m \u001b[1;32mimport\u001b[0m \u001b[0minitialize\u001b[0m \u001b[1;32mas\u001b[0m \u001b[0minitialize_costing_block\u001b[0m\u001b[1;33m,\u001b[0m \u001b[0mpressure_changer_costing\u001b[0m\u001b[1;33m\u001b[0m\u001b[1;33m\u001b[0m\u001b[0m\n\u001b[0m\u001b[0;32m     21\u001b[0m \u001b[1;32mfrom\u001b[0m \u001b[0midaes\u001b[0m\u001b[1;33m.\u001b[0m\u001b[0mcore\u001b[0m\u001b[1;33m.\u001b[0m\u001b[0mutil\u001b[0m\u001b[1;33m.\u001b[0m\u001b[0mconstants\u001b[0m \u001b[1;32mimport\u001b[0m \u001b[0mConstants\u001b[0m\u001b[1;33m\u001b[0m\u001b[1;33m\u001b[0m\u001b[0m\n\u001b[0;32m     22\u001b[0m \u001b[1;32mimport\u001b[0m \u001b[0midaes\u001b[0m\u001b[1;33m.\u001b[0m\u001b[0mcore\u001b[0m\u001b[1;33m.\u001b[0m\u001b[0mutil\u001b[0m\u001b[1;33m.\u001b[0m\u001b[0mscaling\u001b[0m \u001b[1;32mas\u001b[0m \u001b[0miscale\u001b[0m\u001b[1;33m\u001b[0m\u001b[1;33m\u001b[0m\u001b[0m\n",
      "\u001b[1;31mModuleNotFoundError\u001b[0m: No module named 'idaes.core.util.unit_costing'"
     ]
    }
   ],
   "source": [
    "import os\n",
    "from scipy.linalg import svd \n",
    "from IPython.core.display import SVG\n",
    "import pyomo.environ as pyo\n",
    "import idaes\n",
    "import idaes.logger as idaeslog\n",
    "from idaes.core.util.model_statistics import degrees_of_freedom as dof\n",
    "import idaes.core.util.exceptions as idaes_except\n",
    "from idaes.core.solvers import use_idaes_solver_configuration_defaults\n",
    "import idaes.core.util.scaling as iscale\n",
    "import soec_standalone_flowsheet\n",
    "from soec_flowsheet_costing import (\n",
    "    get_solo_soec_capital_costing,\n",
    "    initialize_flowsheet_costing,\n",
    "    scale_flowsheet_costing,\n",
    "    get_soec_OM_costing,\n",
    "    display_soec_costing\n",
    ")\n",
    "import idaes.core.util.model_statistics as mstat\n",
    "from idaes.models.properties import iapws95\n",
    "import idaes.core.util.unit_costing as costing\n",
    "from pyomo.util.check_units import assert_units_consistent\n",
    "import idaes.core.util as iutil\n",
    "\n",
    "import numpy as np\n",
    "import pandas as pd"
   ]
  },
  {
   "cell_type": "code",
   "execution_count": null,
   "id": "e107a62f",
   "metadata": {},
   "outputs": [],
   "source": [
    "from pyomo.core.expr.current import identify_variables\n",
    "from pyomo.common.collections import ComponentSet\n",
    "def find_active_constraints_containing_variable(var, blk):\n",
    "    con_set = ComponentSet()\n",
    "    CUID = pyo.ComponentUID(var)\n",
    "    for c in blk.component_data_objects(ctype=pyo.Constraint, active=True, descend_into=True):\n",
    "        for v in identify_variables(c.body):\n",
    "            if CUID.matches(v):\n",
    "                con_set.add(c)\n",
    "    return con_set"
   ]
  },
  {
   "cell_type": "code",
   "execution_count": null,
   "id": "893275ae",
   "metadata": {},
   "outputs": [],
   "source": [
    "use_idaes_solver_configuration_defaults()\n",
    "idaes.cfg.ipopt.options.nlp_scaling_method = \"user-scaling\"\n",
    "idaes.cfg.ipopt.options.OF_ma57_automatic_scaling = \"yes\"\n",
    "idaes.cfg.ipopt[\"options\"][\"linear_solver\"] = \"ma57\"\n",
    "idaes.cfg.ipopt[\"options\"][\"max_iter\"] = 300\n",
    "idaes.cfg.ipopt[\"options\"][\"halt_on_ampl_error\"] = \"no\""
   ]
  },
  {
   "cell_type": "code",
   "execution_count": null,
   "id": "08c3ab53",
   "metadata": {
    "scrolled": true
   },
   "outputs": [],
   "source": [
    "m = pyo.ConcreteModel()\n",
    "m.fs = soec_standalone_flowsheet.SoecStandaloneFlowsheet(default={\"dynamic\":False})\n",
    "iscale.calculate_scaling_factors(m)"
   ]
  },
  {
   "cell_type": "code",
   "execution_count": null,
   "id": "3738c920",
   "metadata": {},
   "outputs": [],
   "source": [
    "m.fs.initialize_build(outlvl=idaeslog.INFO_LOW)#, load_from=\"soec_standalone_init.json.gz\")"
   ]
  },
  {
   "cell_type": "code",
   "execution_count": null,
   "id": "fe704d92",
   "metadata": {},
   "outputs": [],
   "source": [
    "print(dof(m))\n",
    "get_solo_soec_capital_costing(m.fs)\n",
    "get_soec_OM_costing(m.fs)\n",
    "print(dof(m))\n",
    "iscale.calculate_scaling_factors(m)"
   ]
  },
  {
   "cell_type": "code",
   "execution_count": null,
   "id": "8fdc60f0",
   "metadata": {},
   "outputs": [],
   "source": [
    "solver = pyo.SolverFactory(\"ipopt\")"
   ]
  },
  {
   "cell_type": "code",
   "execution_count": null,
   "id": "4ad8495c",
   "metadata": {
    "scrolled": true
   },
   "outputs": [],
   "source": [
    "initialize_flowsheet_costing(m.fs)\n",
    "scale_flowsheet_costing(m.fs)\n",
    "\n",
    "m.fs.tags_output[\"annual_water_cost\"] = iutil.ModelTag(\n",
    "    doc=\"Annual water cost\",\n",
    "    expr=m.fs.costing.annual_water_cost,\n",
    "    format_string=\"{:.2f}\",\n",
    ")"
   ]
  },
  {
   "cell_type": "code",
   "execution_count": null,
   "id": "ab3e31fc",
   "metadata": {},
   "outputs": [],
   "source": [
    "solver.solve(m, tee=True, options={\"tol\": 1e-6, \"max_iter\": 300, \"halt_on_ampl_error\":\"no\"})"
   ]
  },
  {
   "cell_type": "code",
   "execution_count": null,
   "id": "545abb7f",
   "metadata": {},
   "outputs": [],
   "source": [
    "def set_indexed_variable_bounds(var,bounds):\n",
    "    for idx, subvar in var.items():\n",
    "        subvar.bounds = bounds\n",
    "if True:\n",
    "    m.fs.obj = pyo.Objective(\n",
    "        expr = (\n",
    "            m.fs.costing.annual_electricity_cost \n",
    "            + m.fs.costing.annual_water_cost\n",
    "            + m.fs.costing.total_annualized_cost\n",
    "            + m.fs.costing.annual_fixed_operations_and_maintenance_cost\n",
    "            + m.fs.costing.annual_air_cost\n",
    "        )\n",
    "    )\n",
    "    \n",
    "    for hx in [m.fs.feed_hot_exchanger, m.fs.sweep_hot_exchanger, m.fs.sweep_medium_exchanger,\n",
    "              m.fs.water_evaporator01, m.fs.water_evaporator02, m.fs.water_evaporator03,\n",
    "              m.fs.water_evaporator04, m.fs.water_evaporator05, m.fs.water_preheater]:\n",
    "        set_indexed_variable_bounds(hx.delta_temperature_in, (0, None))\n",
    "        set_indexed_variable_bounds(hx.delta_temperature_out, (0, None))\n",
    "        hx.area.unfix()\n",
    "    \n",
    "    for hx in [m.fs.water_evaporator01, m.fs.water_evaporator02]:\n",
    "            try:\n",
    "                tdew = hx.shell.properties_out[0].temperature_dew[\"Liq\", \"Vap\"]\n",
    "            except KeyError:\n",
    "                tdew = hx.shell.properties_out[0].temperature_dew[\"Vap\", \"Liq\"]\n",
    "\n",
    "            @hx.shell.Constraint(m.fs.time)\n",
    "            def no_condensation_eqn(b, t):\n",
    "                return b.properties_out[0].temperature >= tdew\n",
    "            iscale.constraint_scaling_transform(hx.shell.no_condensation_eqn[0], 1e-2)\n",
    "            \n",
    "    for hx in [m.fs.water_evaporator03, m.fs.water_evaporator04, m.fs.water_preheater]:\n",
    "        for t in m.fs.time:\n",
    "            try:\n",
    "                eps = hx.hot_side.properties_in[t].eps_2_Liq_Vap\n",
    "            except (KeyError, idaes_except.PropertyNotSupportedError):\n",
    "                eps = hx.hot_side.properties_in[t].eps_2_Vap_Liq\n",
    "            eps = 1e-3\n",
    "    \n",
    "    m.fs.h2_mass_production.fix(2)\n",
    "    m.fs.water_preheater.tube_inlet.flow_mol.unfix()\n",
    "    m.fs.soec_single_pass_water_conversion.unfix()\n",
    "    m.fs.feed_recycle_split.split_fraction.unfix()\n",
    "    m.fs.sweep_recycle_split.split_fraction.unfix()\n",
    "    m.fs.sweep_blower.inlet.flow_mol.unfix()\n",
    "    #m.fs.sweep_blower.control_volume.properties_out[:].pressure.unfix()\n",
    "    m.fs.feed_heater.outlet.temperature.unfix()\n",
    "    m.fs.sweep_heater.outlet.temperature.unfix()\n",
    "    \n",
    "    \n",
    "    \n",
    "    m.fs.soec_module.potential_cell.unfix()\n",
    "    m.fs.soec_module.number_cells.unfix()\n",
    "    m.fs.costing.electricity_price.fix(71.7)\n",
    "    \n",
    "    set_indexed_variable_bounds(m.fs.soec_module.solid_oxide_cell.potential, (1.1,1.3))\n",
    "    set_indexed_variable_bounds(m.fs.water_split.split_fraction, (0.03,0.98))\n",
    "    set_indexed_variable_bounds(m.fs.feed_heater.heat_duty,(0,None))\n",
    "    set_indexed_variable_bounds(m.fs.sweep_heater.heat_duty,(0,None))\n",
    "    set_indexed_variable_bounds(m.fs.heat_pump_hot_terminus.heat_duty, (0, None))\n",
    "    set_indexed_variable_bounds(m.fs.sweep_blower.inlet.flow_mol,(1000,None))\n",
    "    m.fs.feed_recycle_split.split_fraction[0,\"recycle\"].bounds = (0.03,0.5)\n",
    "    m.fs.sweep_recycle_split.split_fraction[0,\"recycle\"].bounds = (0.03,0.5)\n",
    "    set_indexed_variable_bounds(m.fs.soec_overall_water_conversion, (0.4,0.8))\n",
    "    set_indexed_variable_bounds(m.fs.soec_module.solid_oxide_cell.temperature_z, (625+273.15,750+273.15))\n",
    "    set_indexed_variable_bounds(m.fs.soec_module.solid_oxide_cell.fuel_channel.temperature_inlet, (600+273.15,750+273.15))\n",
    "    set_indexed_variable_bounds(m.fs.soec_module.solid_oxide_cell.oxygen_channel.temperature_inlet, (600+273.15,750+273.15))\n",
    "    #set_indexed_variable_bounds(m.fs.soec_module.solid_oxide_cell.current_density, (-8000,8000))\n",
    "    set_indexed_variable_bounds(m.fs.heat_source.inlet.flow_mol[0], (1, None))\n",
    "    \n",
    "    for cmp in [m.fs.cmp01, m.fs.cmp02, m.fs.cmp03, m.fs.cmp04]:\n",
    "        cmp.ratioP.unfix()\n",
    "        set_indexed_variable_bounds(cmp.ratioP, (1, 3))\n",
    "    \n",
    "    @m.fs.Constraint(m.fs.time)\n",
    "    def thermal_gradient_eqn_1(b, t):\n",
    "        return (b.soec_module.fuel_outlet.temperature[t] - b.soec_module.fuel_inlet.temperature[t]) <= 50\n",
    "\n",
    "    @m.fs.Constraint(m.fs.time)\n",
    "    def thermal_gradient_eqn_2(b, t):\n",
    "        return (b.soec_module.fuel_outlet.temperature[t] - b.soec_module.fuel_inlet.temperature[t]) >= -50\n",
    "\n",
    "    @m.fs.Constraint(m.fs.time)\n",
    "    def thermal_gradient_eqn_3(b, t):\n",
    "        return (b.soec_module.oxygen_outlet.temperature[t] - b.soec_module.oxygen_inlet.temperature[t]) <= 50\n",
    "\n",
    "    @m.fs.Constraint(m.fs.time)\n",
    "    def thermal_gradient_eqn_4(b, t):\n",
    "        return (b.soec_module.oxygen_outlet.temperature[t] - b.soec_module.oxygen_inlet.temperature[t]) >= -50\n",
    "\n",
    "    @m.fs.Constraint(m.fs.time)\n",
    "    def thermal_gradient_eqn_5(b, t):\n",
    "        return (b.soec_module.fuel_outlet.temperature[t] - b.soec_module.oxygen_inlet.temperature[t]) <= 50\n",
    "\n",
    "    @m.fs.Constraint(m.fs.time)\n",
    "    def thermal_gradient_eqn_6(b, t):\n",
    "        return (b.soec_module.fuel_outlet.temperature[t] - b.soec_module.oxygen_inlet.temperature[t]) >= -50\n",
    "\n",
    "    @m.fs.Constraint(m.fs.time)\n",
    "    def thermal_gradient_eqn_7(b, t):\n",
    "        return (b.soec_module.oxygen_outlet.temperature[t] - b.soec_module.fuel_inlet.temperature[t]) <= 50\n",
    "\n",
    "    @m.fs.Constraint(m.fs.time)\n",
    "    def thermal_gradient_eqn_8(b, t):\n",
    "        return (b.soec_module.oxygen_outlet.temperature[t] - b.soec_module.fuel_inlet.temperature[t]) >= -50\n",
    "\n",
    "    iscale.constraint_scaling_transform(m.fs.thermal_gradient_eqn_1[0],1e-2)\n",
    "    iscale.constraint_scaling_transform(m.fs.thermal_gradient_eqn_2[0],1e-2)\n",
    "    iscale.constraint_scaling_transform(m.fs.thermal_gradient_eqn_3[0],1e-2)\n",
    "    iscale.constraint_scaling_transform(m.fs.thermal_gradient_eqn_4[0],1e-2)\n",
    "    iscale.constraint_scaling_transform(m.fs.thermal_gradient_eqn_5[0],1e-2)\n",
    "    iscale.constraint_scaling_transform(m.fs.thermal_gradient_eqn_6[0],1e-2)\n",
    "    iscale.constraint_scaling_transform(m.fs.thermal_gradient_eqn_7[0],1e-2)\n",
    "    iscale.constraint_scaling_transform(m.fs.thermal_gradient_eqn_8[0],1e-2)\n",
    "    \n",
    "    @m.fs.Constraint(m.fs.time)\n",
    "    def average_current_density_constraint(b, t):\n",
    "        return m.fs.soec_module.solid_oxide_cell.average_current_density[0]/1000 >= -8\n",
    "    \n",
    "    @m.fs.Constraint(m.fs.time)\n",
    "    def sweep_min_concentration_eqn(b,t):\n",
    "        return b.sweep_recycle_split.inlet.mole_frac_comp[t,\"O2\"] >= 0.25 \n",
    "    @m.fs.Constraint(m.fs.time)\n",
    "    def sweep_max_concentration_eqn(b,t):\n",
    "        return b.sweep_recycle_split.inlet.mole_frac_comp[t,\"O2\"] <= 0.35 \n",
    "    \n",
    "    @m.fs.Constraint(m.fs.time)\n",
    "    def min_h2_feed_eqn(b,t):\n",
    "        return b.feed_recycle_mix.outlet.mole_frac_comp[t,\"H2\"] >= 0.05\n",
    "    \n",
    "    @m.fs.Constraint(m.fs.time)\n",
    "    def water_utilization(b, t):\n",
    "        return (b.water_demand[0] - b.water_recycle[0]) <= 10475 * pyo.units.mol/pyo.units.s\n",
    "#     @m.fs.Constraint(m.fs.time)\n",
    "#     def equal_pressures_eqn(b,t):\n",
    "#        return b.soec_module.fuel_inlet.pressure[t] == b.soec_module.oxygen_inlet.pressure[t]\n",
    "    \n",
    "#     iscale.constraint_scaling_transform(m.fs.equal_pressures_eqn[0],1e-5)"
   ]
  },
  {
   "cell_type": "code",
   "execution_count": null,
   "id": "290c6960",
   "metadata": {},
   "outputs": [],
   "source": [
    "#set_indexed_variable_bounds(m.fs.soec_module.solid_oxide_cell.current_density, (-8000,8000))\n",
    "#m.fs.average_current_density_constraint.deactivate()\n",
    "m.fs.h2_mass_production.fix(5)\n",
    "solver.solve(m, tee=True, options={\"tol\": 3e-8, \"max_iter\": 300, \"halt_on_ampl_error\":\"no\"})"
   ]
  },
  {
   "cell_type": "code",
   "execution_count": null,
   "id": "2a7e6745",
   "metadata": {},
   "outputs": [],
   "source": [
    "m.fs.soec_module.number_cells.pprint()\n",
    "m.fs.soec_module.solid_oxide_cell.current_density.pprint()\n",
    "pyo.value((m.fs.obj)*1e6/(5*m.fs.costing.plant_uptime))"
   ]
  },
  {
   "cell_type": "code",
   "execution_count": null,
   "id": "2e892221",
   "metadata": {},
   "outputs": [],
   "source": [
    "display_soec_costing(m.fs)"
   ]
  },
  {
   "cell_type": "code",
   "execution_count": null,
   "id": "4d15d181",
   "metadata": {},
   "outputs": [],
   "source": [
    "display(SVG(m.fs.write_pfd()))"
   ]
  },
  {
   "cell_type": "code",
   "execution_count": null,
   "id": "73c3b054",
   "metadata": {},
   "outputs": [],
   "source": [
    "streams_df = m.fs.streams_dataframe()\n",
    "display(streams_df)"
   ]
  },
  {
   "cell_type": "code",
   "execution_count": null,
   "id": "39f25036",
   "metadata": {},
   "outputs": [],
   "source": [
    "m.fs.write_pfd(fname=\"soec_standalone_design_point.svg\")\n",
    "streams_df.to_csv(\"soec_standalone_design_point.csv\")"
   ]
  },
  {
   "cell_type": "code",
   "execution_count": null,
   "id": "783eb7a6",
   "metadata": {
    "scrolled": true
   },
   "outputs": [],
   "source": [
    "water_heaters = [\n",
    "    m.fs.water_evaporator01,\n",
    "    m.fs.water_evaporator02,\n",
    "    m.fs.water_evaporator03,\n",
    "    m.fs.water_evaporator04,\n",
    "    m.fs.water_evaporator05,\n",
    "    m.fs.water_preheater,\n",
    "]\n",
    "cross_flow_exchangers = [\n",
    "    m.fs.feed_hot_exchanger,\n",
    "    m.fs.sweep_hot_exchanger,\n",
    "    m.fs.sweep_medium_exchanger,\n",
    "]\n",
    "heaters = [\n",
    "    m.fs.feed_heater,\n",
    "    m.fs.sweep_heater\n",
    "]\n",
    "flash_vessels = [m.fs.product_flash01,\n",
    "                 #m.fs.product_flash02,\n",
    "                 m.fs.product_flash03, m.fs.product_flash04]\n",
    "\n",
    "\n",
    "\n",
    "compressors = [getattr(m.fs, f\"cmp0{i}\") for i in range(1,5)]\n",
    "print(f\"Total CapEx: ${pyo.value(m.fs.costing.total_TPC):.2f}MM\")\n",
    "print(f\"Contribution from SOEC: ${pyo.value(m.fs.soec_module.ersatz_costing.total_plant_cost):.2f}MM\")\n",
    "print(f\"Contribution from H2 compressors: ${pyo.value(sum([cmp.ersatz_costing.total_plant_cost for cmp in compressors])):.2f}MM\")\n",
    "print(f\"Contribution from H2O compressor: ${pyo.value(m.fs.water_compressor.costing.total_plant_cost):.2f}MM\")\n",
    "print(f\"Contribution from trim heaters: ${pyo.value(sum([heater.ersatz_costing.total_plant_cost for heater in heaters])):.2f}MM\")\n",
    "print(f\"Contribution from gas-gas exchangers: ${pyo.value(sum([hx.ersatz_costing.total_plant_cost for hx in cross_flow_exchangers])):.2f}MM\")\n",
    "print(f\"Contribution from gas-water exchangers: ${pyo.value(sum([hx.costing.total_plant_cost for hx in water_heaters])):.2f}MM\")\n",
    "print(f\"Contribution from flash vessels: ${pyo.value(sum([flash.costing.total_plant_cost for flash in flash_vessels])):.2f}MM\")\n",
    "print(f\"Contribution from heat pump: ${pyo.value(m.fs.heat_pump.ersatz_costing.total_plant_cost):.2f}MM\")\n",
    "print(f\"Contribution from sweep blower: ${pyo.value(m.fs.sweep_blower.costing.total_plant_cost):.2f}MM\")\n",
    "print(f\"Contribution from water feed & treatment systems: ${pyo.value(m.fs.costing.water_systems_cost):.2f}MM\")\n",
    "print(f\"Contribution from accessory electric equipment: ${pyo.value(m.fs.costing.accessory_electric_plant_cost):.2f}MM\")\n",
    "print(f\"Contribution from instrumentation and controls: ${pyo.value(m.fs.costing.instrumentation_and_control_cost):.2f}MM\")\n",
    "print(f\"Contribution from improvements to site: ${pyo.value(m.fs.costing.improvements_to_site_cost):.2f}MM\")\n",
    "print(f\"Contribution from buildings and structures: ${pyo.value(m.fs.costing.buildings_and_structures_cost):.2f}MM\")\n",
    "\n",
    "print(\"\\n\")\n",
    "print(\"------------------------------------------\")\n",
    "print(\"Fixed Costs for Optimized Design\")\n",
    "print(\"------------------------------------------\")\n",
    "\n",
    "# tpc = pyo.value(m.fs.costing.total_TPC)\n",
    "# tasc = tpc*1.21*1.093\n",
    "# ac = tasc*0.0707\n",
    "print(f\"TPC = {pyo.value(m.fs.costing.total_TPC)}\")\n",
    "print(f\"TASC = {pyo.value(m.fs.costing.total_as_spent_cost)}\")\n",
    "print(f\"Annualized TASC (MM$/yr) = {pyo.value(m.fs.costing.total_annualized_cost)}\")\n",
    "\n",
    "# Parameters\n",
    "# n_op = 6.3\n",
    "# hourly_rate = 38.50\n",
    "# labor_burden = 30\n",
    "\n",
    "# Fixed O&M components\n",
    "# annual_op_labor = n_op * hourly_rate * 8760 * (1 - labor_burden/100)/1e6\n",
    "# maint_labor = tpc * 0.4 * 0.019 \n",
    "# maint_material = tpc * 0.6 * 0.019\n",
    "# admin_labor = 0.25*(annual_op_labor + maint_labor)\n",
    "# prop_tax_ins = 0.02*tpc\n",
    "# soec_replace = pyo.value(4.2765*m.fs.soec_module.number_cells)/1e6\n",
    "\n",
    "print(\"Fixed O&M Costs\")\n",
    "print(f\"annual_op_labor (MM$/yr) = {pyo.value(m.fs.costing.annual_operating_labor_cost)}\")\n",
    "print(f\"maint_labor (MM$/yr) = {pyo.value(m.fs.costing.maintenance_labor_cost)}\")\n",
    "print(f\"maint_material (MM$/yr) = {pyo.value(m.fs.costing.maintenance_material_cost)}\")\n",
    "print(f\"admin_labor (MM$/yr) = {pyo.value(m.fs.costing.admin_and_support_labor_cost)}\")\n",
    "print(f\"prop_tax_ins (MM$/yr) = {pyo.value(m.fs.costing.property_tax_and_insurance_cost)}\")\n",
    "print(f\"soec_replace (MM$/yr) = {pyo.value(m.fs.soec_module.ersatz_costing.annual_soec_replacement_cost)}\")\n",
    "# total_fixed = annual_op_labor + maint_labor + maint_material + admin_labor + prop_tax_ins + soec_replace\n",
    "print(f\"Annualized Fixed O&M (MM$/year) = {pyo.value(m.fs.costing.annual_fixed_operations_and_maintenance_cost)}\")\n",
    "fixed_cost_per_h2 = pyo.value(\n",
    "    m.fs.costing.total_annualized_cost\n",
    "    + m.fs.costing.annual_fixed_operations_and_maintenance_cost\n",
    ")/24/365.2425/5/60/60*1e6\n",
    "print(f\"Fixed ($/kg h2) = {fixed_cost_per_h2}\")\n",
    "\n",
    "print(f\"Annual water cost MM$ {pyo.value(m.fs.costing.annual_water_cost)}\")\n",
    "print(f\"water cost $/kg h2 {pyo.value(m.fs.costing.annual_water_cost)/24/365/5/60/60*1e6}\")"
   ]
  },
  {
   "cell_type": "code",
   "execution_count": null,
   "id": "d163d910",
   "metadata": {},
   "outputs": [],
   "source": [
    "for hx in water_heaters + cross_flow_exchangers:\n",
    "    print(hx)\n",
    "    hx.area.display()\n",
    "    hx.area.fix()\n",
    "m.fs.soec_module.number_cells.fix()\n",
    "m.fs.soec_module.number_cells.display()\n",
    "\n",
    "print(m.fs.feed_recycle_split)\n",
    "m.fs.feed_recycle_split.split_fraction.display()\n",
    "print(m.fs.sweep_recycle_split)\n",
    "m.fs.sweep_recycle_split.split_fraction.display()\n",
    "print(m.fs.sweep_blower)\n",
    "m.fs.sweep_blower.inlet.flow_mol.display()\n",
    "m.fs.feed_heater.outlet.temperature.display()\n",
    "m.fs.sweep_heater.outlet.temperature.display()\n",
    "m.fs.soec_module.potential_cell.display()"
   ]
  },
  {
   "cell_type": "code",
   "execution_count": null,
   "id": "9d7b788d",
   "metadata": {},
   "outputs": [],
   "source": [
    "for flash in flash_vessels:\n",
    "    flash.diameter.fix()\n",
    "    flash.length.fix()\n",
    "    flash.length_diameter_heuristic.deactivate()\n",
    "    flash.capacity_heuristic.deactivate()\n",
    "    \n",
    "m.fs.obj.deactivate()\n",
    "m.fs.obj2 = pyo.Objective(\n",
    "        expr = (\n",
    "            m.fs.costing.annual_electricity_cost \n",
    "            + m.fs.costing.annual_water_cost\n",
    "            + m.fs.costing.annual_air_cost\n",
    "        )\n",
    "    )    "
   ]
  },
  {
   "cell_type": "code",
   "execution_count": null,
   "id": "1538ec41",
   "metadata": {},
   "outputs": [],
   "source": [
    "run_samples = True\n",
    "df = None\n",
    "prod_vec = np.linspace(5, 1, 33)\n",
    "\n",
    "if run_samples:\n",
    "    i=1\n",
    "    df = pd.DataFrame(columns=m.fs.tags_output.table_heading())\n",
    "    for prod in prod_vec:\n",
    "        print(prod)\n",
    "        m.fs.h2_mass_production.fix(prod)\n",
    "        res = solver.solve(m, tee=True, options={\"tol\": 1e-6, \"max_iter\": 500, \"halt_on_ampl_error\":\"no\"})\n",
    "        assert res.solver.termination_condition == pyo.TerminationCondition.optimal\n",
    "        assert res.solver.status == pyo.SolverStatus.ok\n",
    "        df.loc[i] = m.fs.tags_output.table_row(numeric=True)\n",
    "        i += 1"
   ]
  },
  {
   "cell_type": "code",
   "execution_count": null,
   "id": "584a9d4c",
   "metadata": {},
   "outputs": [],
   "source": []
  },
  {
   "cell_type": "code",
   "execution_count": null,
   "id": "49f5bead",
   "metadata": {},
   "outputs": [],
   "source": [
    "if df is not None:\n",
    "    df.to_csv(\"soec.csv\")"
   ]
  },
  {
   "cell_type": "code",
   "execution_count": null,
   "id": "e0f8c433",
   "metadata": {},
   "outputs": [],
   "source": [
    "display(SVG(m.fs.write_pfd()))"
   ]
  },
  {
   "cell_type": "code",
   "execution_count": null,
   "id": "a99244d9",
   "metadata": {},
   "outputs": [],
   "source": [
    "for flash in [m.fs.product_flash01, \n",
    "              #m.fs.product_flash02,\n",
    "              m.fs.product_flash03, m.fs.product_flash04]:\n",
    "    print(flash.name)\n",
    "    print(f\"Diameter: {flash.diameter.value}m\")\n",
    "    print(f\"Height: {flash.length.value}m\")\n",
    "    print()"
   ]
  },
  {
   "cell_type": "code",
   "execution_count": null,
   "id": "ece6a5b4",
   "metadata": {},
   "outputs": [],
   "source": [
    "m.fs.soec_module.solid_oxide_cell.temperature_z.pprint()"
   ]
  },
  {
   "cell_type": "code",
   "execution_count": null,
   "id": "8145dd47",
   "metadata": {},
   "outputs": [],
   "source": [
    "print(df)"
   ]
  },
  {
   "cell_type": "code",
   "execution_count": null,
   "id": "5b4a253e",
   "metadata": {},
   "outputs": [],
   "source": [
    "pyo.value(m.fs.product_flash01.liq_outlet.flow_mol[0])"
   ]
  },
  {
   "cell_type": "code",
   "execution_count": null,
   "id": "aaad7ed4",
   "metadata": {},
   "outputs": [],
   "source": []
  }
 ],
 "metadata": {
  "kernelspec": {
   "display_name": "Python 3 (ipykernel)",
   "language": "python",
   "name": "python3"
  },
  "language_info": {
   "codemirror_mode": {
    "name": "ipython",
    "version": 3
   },
   "file_extension": ".py",
   "mimetype": "text/x-python",
   "name": "python",
   "nbconvert_exporter": "python",
   "pygments_lexer": "ipython3",
   "version": "3.10.6"
  }
 },
 "nbformat": 4,
 "nbformat_minor": 5
}
