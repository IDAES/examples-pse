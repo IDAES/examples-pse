{
 "cells": [
  {
   "cell_type": "code",
   "execution_count": 1,
   "id": "2bca3140",
   "metadata": {},
   "outputs": [],
   "source": [
    "import os\n",
    "from scipy.linalg import svd \n",
    "from IPython.core.display import SVG\n",
    "import pyomo.environ as pyo\n",
    "import idaes\n",
    "import idaes.logger as idaeslog\n",
    "from idaes.core.util.model_statistics import degrees_of_freedom as dof\n",
    "import idaes.core.util.exceptions as idaes_except\n",
    "from idaes.core.solvers import use_idaes_solver_configuration_defaults\n",
    "import idaes.core.util.scaling as iscale\n",
    "import soec_standalone_flowsheet\n",
    "from soec_flowsheet_costing import (\n",
    "    get_solo_soec_capital_costing,\n",
    "    initialize_flowsheet_costing,\n",
    "    scale_flowsheet_costing,\n",
    "    get_soec_OM_costing,\n",
    "    display_soec_costing\n",
    ")\n",
    "import idaes.core.util.model_statistics as mstat\n",
    "from idaes.models.properties import iapws95\n",
    "from pyomo.util.check_units import assert_units_consistent\n",
    "import idaes.core.util as iutil\n",
    "\n",
    "import numpy as np\n",
    "import pandas as pd"
   ]
  },
  {
   "cell_type": "code",
   "execution_count": 2,
   "id": "e107a62f",
   "metadata": {},
   "outputs": [],
   "source": [
    "from pyomo.core.expr.current import identify_variables\n",
    "from pyomo.common.collections import ComponentSet\n",
    "def find_active_constraints_containing_variable(var, blk):\n",
    "    con_set = ComponentSet()\n",
    "    CUID = pyo.ComponentUID(var)\n",
    "    for c in blk.component_data_objects(ctype=pyo.Constraint, active=True, descend_into=True):\n",
    "        for v in identify_variables(c.body):\n",
    "            if CUID.matches(v):\n",
    "                con_set.add(c)\n",
    "    return con_set"
   ]
  },
  {
   "cell_type": "code",
   "execution_count": 3,
   "id": "893275ae",
   "metadata": {},
   "outputs": [],
   "source": [
    "use_idaes_solver_configuration_defaults()\n",
    "idaes.cfg.ipopt.options.nlp_scaling_method = \"user-scaling\"\n",
    "idaes.cfg.ipopt.options.OF_ma57_automatic_scaling = \"yes\"\n",
    "idaes.cfg.ipopt[\"options\"][\"linear_solver\"] = \"ma57\"\n",
    "idaes.cfg.ipopt[\"options\"][\"max_iter\"] = 300\n",
    "idaes.cfg.ipopt[\"options\"][\"halt_on_ampl_error\"] = \"no\""
   ]
  },
  {
   "cell_type": "code",
   "execution_count": 4,
   "id": "08c3ab53",
   "metadata": {
    "scrolled": true
   },
   "outputs": [
    {
     "name": "stdout",
     "output_type": "stream",
     "text": [
      "2022-12-06 18:01:24 [WARNING] idaes.core.util.scaling: Missing scaling factor for fs.product_flash01.control_volume.properties_in[0.0].mole_frac_comp\n",
      "2022-12-06 18:01:24 [WARNING] idaes.core.util.scaling: Missing scaling factor for fs.product_flash01.control_volume.properties_out[0.0].mole_frac_comp\n",
      "2022-12-06 18:01:24 [WARNING] idaes.core.util.scaling: Missing scaling factor for fs.product_flash03.control_volume.properties_in[0.0].mole_frac_comp\n",
      "2022-12-06 18:01:24 [WARNING] idaes.core.util.scaling: Missing scaling factor for fs.product_flash03.control_volume.properties_out[0.0].mole_frac_comp\n",
      "2022-12-06 18:01:24 [WARNING] idaes.core.util.scaling: Missing scaling factor for fs.product_flash04.control_volume.properties_in[0.0].mole_frac_comp\n",
      "2022-12-06 18:01:24 [WARNING] idaes.core.util.scaling: Missing scaling factor for fs.product_flash04.control_volume.properties_out[0.0].mole_frac_comp\n",
      "2022-12-06 18:01:24 [WARNING] idaes.core.util.scaling: Missing scaling factor for fs.product_flash05.control_volume.properties_in[0.0].mole_frac_comp\n",
      "2022-12-06 18:01:24 [WARNING] idaes.core.util.scaling: Missing scaling factor for fs.product_flash05.control_volume.properties_out[0.0].mole_frac_comp\n",
      "2022-12-06 18:01:24 [WARNING] idaes.core.util.scaling: Missing scaling factor for fs.product_dryer.properties_in[0.0].mole_frac_comp\n",
      "2022-12-06 18:01:24 [WARNING] idaes.core.util.scaling: Missing scaling factor for fs.cmp04.control_volume.work\n",
      "2022-12-06 18:01:24 [WARNING] idaes.core.util.scaling: Missing scaling factor for fs.water_preheater.hot_side.properties_in[0.0].mole_frac_comp\n",
      "2022-12-06 18:01:24 [WARNING] idaes.core.util.scaling: Missing scaling factor for fs.water_preheater.hot_side.properties_out[0.0].mole_frac_comp\n",
      "2022-12-06 18:01:24 [WARNING] idaes.core.util.scaling: Missing scaling factor for fs.water_evaporator01.hot_side.properties_in[0.0].mole_frac_comp\n",
      "2022-12-06 18:01:24 [WARNING] idaes.core.util.scaling: Missing scaling factor for fs.water_evaporator01.hot_side.properties_out[0.0].mole_frac_comp\n",
      "2022-12-06 18:01:24 [WARNING] idaes.core.util.scaling: Missing scaling factor for fs.water_evaporator02.hot_side.properties_in[0.0].mole_frac_comp\n",
      "2022-12-06 18:01:24 [WARNING] idaes.core.util.scaling: Missing scaling factor for fs.water_evaporator02.hot_side.properties_out[0.0].mole_frac_comp\n",
      "2022-12-06 18:01:24 [WARNING] idaes.core.util.scaling: Missing scaling factor for fs.water_evaporator03.hot_side.properties_in[0.0].mole_frac_comp\n",
      "2022-12-06 18:01:24 [WARNING] idaes.core.util.scaling: Missing scaling factor for fs.water_evaporator03.hot_side.properties_out[0.0].mole_frac_comp\n",
      "2022-12-06 18:01:24 [WARNING] idaes.core.util.scaling: Missing scaling factor for fs.water_evaporator04.hot_side.properties_in[0.0].mole_frac_comp\n",
      "2022-12-06 18:01:24 [WARNING] idaes.core.util.scaling: Missing scaling factor for fs.water_evaporator04.hot_side.properties_out[0.0].mole_frac_comp\n",
      "2022-12-06 18:01:24 [WARNING] idaes.core.util.scaling: Missing scaling factor for fs.water_compressor.control_volume.work\n",
      "2022-12-06 18:01:24 [WARNING] idaes.core.util.scaling: Missing scaling factor for fs.heat_source.control_volume.heat\n",
      "2022-12-06 18:01:24 [WARNING] idaes.core.util.scaling: Missing scaling factor for fs.product_flash01.split._Vap_flow_mol_ref[0.0]\n",
      "2022-12-06 18:01:24 [WARNING] idaes.core.util.scaling: Missing scaling factor for fs.product_flash01.split._Vap_mole_frac_comp_ref[0.0,H2]\n",
      "2022-12-06 18:01:24 [WARNING] idaes.core.util.scaling: Missing scaling factor for fs.product_flash01.split._Vap_mole_frac_comp_ref[0.0,H2O]\n",
      "2022-12-06 18:01:24 [WARNING] idaes.core.util.scaling: Missing scaling factor for fs.product_flash03.split._Vap_flow_mol_ref[0.0]\n",
      "2022-12-06 18:01:24 [WARNING] idaes.core.util.scaling: Missing scaling factor for fs.product_flash03.split._Vap_mole_frac_comp_ref[0.0,H2]\n",
      "2022-12-06 18:01:24 [WARNING] idaes.core.util.scaling: Missing scaling factor for fs.product_flash03.split._Vap_mole_frac_comp_ref[0.0,H2O]\n",
      "2022-12-06 18:01:24 [WARNING] idaes.core.util.scaling: Missing scaling factor for fs.product_flash04.split._Vap_flow_mol_ref[0.0]\n",
      "2022-12-06 18:01:24 [WARNING] idaes.core.util.scaling: Missing scaling factor for fs.product_flash04.split._Vap_mole_frac_comp_ref[0.0,H2]\n",
      "2022-12-06 18:01:24 [WARNING] idaes.core.util.scaling: Missing scaling factor for fs.product_flash04.split._Vap_mole_frac_comp_ref[0.0,H2O]\n",
      "2022-12-06 18:01:24 [WARNING] idaes.core.util.scaling: Missing scaling factor for fs.product_flash05.split._Vap_flow_mol_ref[0.0]\n",
      "2022-12-06 18:01:24 [WARNING] idaes.core.util.scaling: Missing scaling factor for fs.product_flash05.split._Vap_mole_frac_comp_ref[0.0,H2]\n",
      "2022-12-06 18:01:24 [WARNING] idaes.core.util.scaling: Missing scaling factor for fs.product_flash05.split._Vap_mole_frac_comp_ref[0.0,H2O]\n"
     ]
    }
   ],
   "source": [
    "m = pyo.ConcreteModel()\n",
    "m.fs = soec_standalone_flowsheet.SoecStandaloneFlowsheet(dynamic=False)\n",
    "iscale.calculate_scaling_factors(m)"
   ]
  },
  {
   "cell_type": "code",
   "execution_count": null,
   "id": "3738c920",
   "metadata": {},
   "outputs": [
    {
     "name": "stdout",
     "output_type": "stream",
     "text": [
      "2022-12-06 18:01:35 [INFO] idaes.init.fs.sweep_hot_exchanger.hot_side.properties_in: Starting initialization\n",
      "2022-12-06 18:01:35 [INFO] idaes.init.fs.sweep_hot_exchanger.hot_side.properties_in: Property initialization: optimal - Optimal Solution Found.\n",
      "2022-12-06 18:01:35 [INFO] idaes.init.fs.sweep_hot_exchanger.hot_side.properties_out: Starting initialization\n",
      "2022-12-06 18:01:35 [INFO] idaes.init.fs.sweep_hot_exchanger.hot_side.properties_out: Property initialization: optimal - Optimal Solution Found.\n",
      "2022-12-06 18:01:35 [INFO] idaes.init.fs.sweep_hot_exchanger.hot_side: Initialization Complete\n",
      "2022-12-06 18:01:35 [INFO] idaes.init.fs.sweep_hot_exchanger.cold_side.properties_in: Starting initialization\n",
      "2022-12-06 18:01:35 [INFO] idaes.init.fs.sweep_hot_exchanger.cold_side.properties_in: Property initialization: optimal - Optimal Solution Found.\n",
      "2022-12-06 18:01:35 [INFO] idaes.init.fs.sweep_hot_exchanger.cold_side.properties_out: Starting initialization\n",
      "2022-12-06 18:01:35 [INFO] idaes.init.fs.sweep_hot_exchanger.cold_side.properties_out: Property initialization: optimal - Optimal Solution Found.\n",
      "2022-12-06 18:01:35 [INFO] idaes.init.fs.sweep_hot_exchanger.cold_side: Initialization Complete\n",
      "2022-12-06 18:01:37 [INFO] idaes.init.fs.sweep_hot_exchanger: Initialization Completed, optimal - Optimal Solution Found\n",
      "WARNING (W1002): Setting Var 'fs.water_evaporator01.hot_side.properties_in[0.0\n",
      "    ].log_mole_frac_tdew[Liq,Vap,H2O]' to a numeric value\n",
      "    `2.0116297496403633e-09` outside the bounds (None, 0).\n",
      "    See also https://pyomo.readthedocs.io/en/latest/errors.html#w1002\n",
      "WARNING (W1002): Setting Var 'fs.water_evaporator01.hot_side.properties_out[0.\n",
      "    0].log_mole_frac_tdew[Liq,Vap,H2O]' to a numeric value\n",
      "    `2.0116297496403633e-09` outside the bounds (None, 0).\n",
      "    See also https://pyomo.readthedocs.io/en/latest/errors.html#w1002\n",
      "WARNING (W1002): Setting Var 'fs.water_preheater.hot_side.properties_in[0.0].l\n",
      "    og_mole_frac_tdew[Liq,Vap,H2O]' to a numeric value\n",
      "    `2.0116297496403633e-09` outside the bounds (None, 0).\n",
      "    See also https://pyomo.readthedocs.io/en/latest/errors.html#w1002\n",
      "WARNING (W1002): Setting Var 'fs.water_preheater.hot_side.properties_out[0.0].\n",
      "    log_mole_frac_tdew[Liq,Vap,H2O]' to a numeric value\n",
      "    `2.0116297496403633e-09` outside the bounds (None, 0).\n",
      "    See also https://pyomo.readthedocs.io/en/latest/errors.html#w1002\n",
      "WARNING (W1002): Setting Var 'fs.product_flash01.control_volume.properties_in[\n",
      "    0.0].log_mole_frac_tdew[Liq,Vap,H2O]' to a numeric value\n",
      "    `2.0116301937295723e-09` outside the bounds (None, 0).\n",
      "    See also https://pyomo.readthedocs.io/en/latest/errors.html#w1002\n",
      "WARNING (W1002): Setting Var 'fs.product_flash01.control_volume.properties_out\n",
      "    [0.0].log_mole_frac_tdew[Liq,Vap,H2O]' to a numeric value\n",
      "    `2.0116301937295723e-09` outside the bounds (None, 0).\n",
      "    See also https://pyomo.readthedocs.io/en/latest/errors.html#w1002\n",
      "WARNING (W1002): Setting Var 'fs.water_evaporator02.hot_side.properties_in[0.0\n",
      "    ].log_mole_frac_tdew[Liq,Vap,H2O]' to a numeric value\n",
      "    `4.324809261563071e-08` outside the bounds (None, 0).\n",
      "    See also https://pyomo.readthedocs.io/en/latest/errors.html#w1002\n",
      "WARNING (W1002): Setting Var 'fs.water_evaporator02.hot_side.properties_out[0.\n",
      "    0].log_mole_frac_tdew[Liq,Vap,H2O]' to a numeric value\n",
      "    `4.324809261563071e-08` outside the bounds (None, 0).\n",
      "    See also https://pyomo.readthedocs.io/en/latest/errors.html#w1002\n",
      "WARNING (W1002): Setting Var 'fs.water_evaporator03.hot_side.properties_in[0.0\n",
      "    ].log_mole_frac_tdew[Liq,Vap,H2O]' to a numeric value\n",
      "    `6.091037222281262e-08` outside the bounds (None, 0).\n",
      "    See also https://pyomo.readthedocs.io/en/latest/errors.html#w1002\n",
      "WARNING (W1002): Setting Var 'fs.water_evaporator03.hot_side.properties_out[0.\n",
      "    0].log_mole_frac_tdew[Liq,Vap,H2O]' to a numeric value\n",
      "    `6.091037222281262e-08` outside the bounds (None, 0).\n",
      "    See also https://pyomo.readthedocs.io/en/latest/errors.html#w1002\n",
      "WARNING (W1002): Setting Var 'fs.product_flash03.control_volume.properties_in[\n",
      "    0.0].log_mole_frac_tdew[Liq,Vap,H2O]' to a numeric value\n",
      "    `6.091037200076803e-08` outside the bounds (None, 0).\n",
      "    See also https://pyomo.readthedocs.io/en/latest/errors.html#w1002\n",
      "WARNING (W1002): Setting Var 'fs.product_flash03.control_volume.properties_out\n",
      "    [0.0].log_mole_frac_tdew[Liq,Vap,H2O]' to a numeric value\n",
      "    `6.091037200076803e-08` outside the bounds (None, 0).\n",
      "    See also https://pyomo.readthedocs.io/en/latest/errors.html#w1002\n",
      "WARNING (W1002): Setting Var 'fs.water_evaporator04.hot_side.properties_in[0.0\n",
      "    ].log_mole_frac_tdew[Liq,Vap,H2O]' to a numeric value\n",
      "    `1.7421873358469492e-07` outside the bounds (None, 0).\n",
      "    See also https://pyomo.readthedocs.io/en/latest/errors.html#w1002\n",
      "WARNING (W1002): Setting Var 'fs.water_evaporator04.hot_side.properties_out[0.\n",
      "    0].log_mole_frac_tdew[Liq,Vap,H2O]' to a numeric value\n",
      "    `1.7421873358469492e-07` outside the bounds (None, 0).\n",
      "    See also https://pyomo.readthedocs.io/en/latest/errors.html#w1002\n",
      "WARNING (W1002): Setting Var 'fs.product_flash04.control_volume.properties_in[\n",
      "    0.0].log_mole_frac_tdew[Liq,Vap,H2O]' to a numeric value\n",
      "    `1.7421873336265034e-07` outside the bounds (None, 0).\n",
      "    See also https://pyomo.readthedocs.io/en/latest/errors.html#w1002\n",
      "WARNING (W1002): Setting Var 'fs.product_flash04.control_volume.properties_out\n",
      "    [0.0].log_mole_frac_tdew[Liq,Vap,H2O]' to a numeric value\n",
      "    `1.7421873336265034e-07` outside the bounds (None, 0).\n",
      "    See also https://pyomo.readthedocs.io/en/latest/errors.html#w1002\n",
      "WARNING (W1002): Setting Var 'fs.product_flash05.control_volume.properties_in[\n",
      "    0.0].log_mole_frac_tdew[Liq,Vap,H2O]' to a numeric value\n",
      "    `2.7585113260671063e-06` outside the bounds (None, 0).\n",
      "    See also https://pyomo.readthedocs.io/en/latest/errors.html#w1002\n",
      "WARNING (W1002): Setting Var 'fs.product_flash05.control_volume.properties_out\n",
      "    [0.0].log_mole_frac_tdew[Liq,Vap,H2O]' to a numeric value\n",
      "    `2.7585113260671063e-06` outside the bounds (None, 0).\n",
      "    See also https://pyomo.readthedocs.io/en/latest/errors.html#w1002\n",
      "WARNING (W1002): Setting Var\n",
      "    'fs.product_dryer.properties_in[0.0].log_mole_frac_tdew[Liq,Vap,H2O]' to a\n",
      "    numeric value `3.6710545707675134e-10` outside the bounds (None, 0).\n",
      "    See also https://pyomo.readthedocs.io/en/latest/errors.html#w1002\n"
     ]
    }
   ],
   "source": [
    "m.fs.initialize_build(outlvl=idaeslog.INFO_LOW)#, load_from=\"soec_standalone_init.json.gz\")"
   ]
  },
  {
   "cell_type": "code",
   "execution_count": null,
   "id": "fe704d92",
   "metadata": {},
   "outputs": [],
   "source": [
    "print(dof(m))\n",
    "get_solo_soec_capital_costing(m.fs, CE_index_year=\"2018\")\n",
    "get_soec_OM_costing(m.fs)\n",
    "print(dof(m))\n",
    "iscale.calculate_scaling_factors(m)"
   ]
  },
  {
   "cell_type": "code",
   "execution_count": null,
   "id": "8fdc60f0",
   "metadata": {},
   "outputs": [],
   "source": [
    "solver = pyo.SolverFactory(\"ipopt\")"
   ]
  },
  {
   "cell_type": "code",
   "execution_count": null,
   "id": "4ad8495c",
   "metadata": {
    "scrolled": true
   },
   "outputs": [],
   "source": [
    "initialize_flowsheet_costing(m.fs)\n",
    "scale_flowsheet_costing(m.fs)\n",
    "\n",
    "m.fs.tags_output[\"annual_water_cost\"] = iutil.ModelTag(\n",
    "    doc=\"Annual water cost\",\n",
    "    expr=m.fs.costing.annual_water_cost,\n",
    "    format_string=\"{:.2f}\",\n",
    ")"
   ]
  },
  {
   "cell_type": "code",
   "execution_count": null,
   "id": "ab3e31fc",
   "metadata": {},
   "outputs": [],
   "source": [
    "solver.solve(m, tee=True, options={\"tol\": 1e-6, \"max_iter\": 300, \"halt_on_ampl_error\":\"no\"})"
   ]
  },
  {
   "cell_type": "code",
   "execution_count": null,
   "id": "545abb7f",
   "metadata": {},
   "outputs": [],
   "source": [
    "def set_indexed_variable_bounds(var,bounds):\n",
    "    for idx, subvar in var.items():\n",
    "        subvar.bounds = bounds\n",
    "if True:\n",
    "    m.fs.obj = pyo.Objective(\n",
    "        expr = (\n",
    "            m.fs.costing.annual_electricity_cost \n",
    "            + m.fs.costing.annual_water_cost\n",
    "            + m.fs.costing.total_annualized_cost\n",
    "            + m.fs.costing.annual_fixed_operations_and_maintenance_cost\n",
    "            + m.fs.costing.annual_air_cost\n",
    "        )\n",
    "    )\n",
    "    \n",
    "    for hx in [m.fs.feed_hot_exchanger, m.fs.sweep_hot_exchanger, m.fs.sweep_medium_exchanger,\n",
    "              m.fs.water_evaporator01, m.fs.water_evaporator02, m.fs.water_evaporator03,\n",
    "              m.fs.water_evaporator04, m.fs.water_evaporator05, m.fs.water_preheater]:\n",
    "        set_indexed_variable_bounds(hx.delta_temperature_in, (0, None))\n",
    "        set_indexed_variable_bounds(hx.delta_temperature_out, (0, None))\n",
    "        hx.area.bounds = (400, None)\n",
    "        hx.area.unfix()\n",
    "    \n",
    "    for cmp in [m.fs.sweep_blower, m.fs.cmp01, m.fs.cmp02, m.fs.cmp03, m.fs.cmp04]:\n",
    "        set_indexed_variable_bounds(cmp.work_mechanical, (0, None))\n",
    "    set_indexed_variable_bounds(m.fs.water_compressor.control_volume.work, (0, None))\n",
    "    \n",
    "    m.fs.h2_mass_production.fix(2)\n",
    "    m.fs.water_preheater.tube_inlet.flow_mol.unfix()\n",
    "    m.fs.soec_single_pass_water_conversion.unfix()\n",
    "    m.fs.feed_recycle_split.split_fraction.unfix()\n",
    "    m.fs.sweep_recycle_split.split_fraction.unfix()\n",
    "    m.fs.sweep_blower.inlet.flow_mol.unfix()\n",
    "    #m.fs.sweep_blower.control_volume.properties_out[:].pressure.unfix()\n",
    "    m.fs.feed_heater.outlet.temperature.unfix()\n",
    "    m.fs.sweep_heater.outlet.temperature.unfix()\n",
    "    \n",
    "    \n",
    "    \n",
    "    m.fs.soec_module.potential_cell.unfix()\n",
    "    m.fs.soec_module.number_cells.unfix()\n",
    "    m.fs.costing.electricity_price.fix(71.7)\n",
    "    \n",
    "    set_indexed_variable_bounds(m.fs.soec_module.solid_oxide_cell.potential, (1.1,1.6))\n",
    "    set_indexed_variable_bounds(m.fs.water_split.split_fraction, (0.03,0.98))\n",
    "    set_indexed_variable_bounds(m.fs.feed_heater.heat_duty,(0,None))\n",
    "    set_indexed_variable_bounds(m.fs.sweep_heater.heat_duty,(0,None))\n",
    "    set_indexed_variable_bounds(m.fs.heat_pump_hot_terminus.heat_duty, (0, None))\n",
    "    set_indexed_variable_bounds(m.fs.sweep_blower.inlet.flow_mol,(1000,None))\n",
    "    m.fs.feed_recycle_split.split_fraction[0,\"recycle\"].bounds = (0.03,0.5)\n",
    "    m.fs.sweep_recycle_split.split_fraction[0,\"recycle\"].bounds = (0.03,0.5)\n",
    "    set_indexed_variable_bounds(m.fs.soec_overall_water_conversion, (0.4,0.8))\n",
    "    set_indexed_variable_bounds(m.fs.soec_module.solid_oxide_cell.temperature_z, (550+273.15,750+273.15))\n",
    "    set_indexed_variable_bounds(m.fs.soec_module.solid_oxide_cell.fuel_channel.temperature_inlet, (600+273.15,750+273.15))\n",
    "    set_indexed_variable_bounds(m.fs.soec_module.solid_oxide_cell.oxygen_channel.temperature_inlet, (600+273.15,750+273.15))\n",
    "    set_indexed_variable_bounds(m.fs.soec_module.solid_oxide_cell.current_density, (-10400,5200))\n",
    "    set_indexed_variable_bounds(m.fs.heat_source.inlet.flow_mol[0], (1, None))\n",
    "    \n",
    "    m.fs.feed_heater.costing.max_heat_duty.set_value(8e6)\n",
    "    m.fs.sweep_heater.costing.max_heat_duty.set_value(8e6)\n",
    "    m.fs.heat_pump.costing.max_heat_duty.fix(2e7)\n",
    "    m.fs.max_raw_water_withdrawal.fix(3000)\n",
    "    \n",
    "    for cmp in [m.fs.cmp01, m.fs.cmp02, m.fs.cmp03, m.fs.cmp04]:\n",
    "        cmp.ratioP.unfix()\n",
    "        set_indexed_variable_bounds(cmp.ratioP, (1, 3))\n",
    "        set_indexed_variable_bounds(cmp.outlet.temperature, (273.15, 250+273.15))\n",
    "    \n",
    "    m.fs._make_temperature_gradient_terms()\n",
    "    set_indexed_variable_bounds(m.fs.soec_module.solid_oxide_cell.fuel_electrode.dtemperature_dz, (-750, 750))\n",
    "    m.fs.make_performance_constraints()\n",
    "#     @m.fs.Constraint(m.fs.time)\n",
    "#     def equal_pressures_eqn(b,t):\n",
    "#        return b.soec_module.fuel_inlet.pressure[t] == b.soec_module.oxygen_inlet.pressure[t]\n",
    "    \n",
    "#     iscale.constraint_scaling_transform(m.fs.equal_pressures_eqn[0],1e-5)"
   ]
  },
  {
   "cell_type": "code",
   "execution_count": null,
   "id": "290c6960",
   "metadata": {},
   "outputs": [],
   "source": [
    "#set_indexed_variable_bounds(m.fs.soec_module.solid_oxide_cell.current_density, (-8000,8000))\n",
    "#m.fs.average_current_density_constraint.deactivate()\n",
    "m.fs.h2_mass_production.fix(5)\n",
    "jac_unscaled, jac_scaled, nlp = iscale.constraint_autoscale_large_jac(m)\n",
    "solver.solve(m, tee=True, options={\"tol\": 3e-8, \"max_iter\": 500, \"halt_on_ampl_error\":\"yes\"})"
   ]
  },
  {
   "cell_type": "code",
   "execution_count": null,
   "id": "2a7e6745",
   "metadata": {},
   "outputs": [],
   "source": [
    "m.fs.soec_module.number_cells.pprint()\n",
    "m.fs.soec_module.solid_oxide_cell.current_density.pprint()\n",
    "print(pyo.value(m.fs.soec_module.solid_oxide_cell.average_current_density[0]))\n",
    "print(pyo.value((m.fs.obj)*1e6/(5*m.fs.costing.plant_uptime)))"
   ]
  },
  {
   "cell_type": "code",
   "execution_count": null,
   "id": "2e892221",
   "metadata": {},
   "outputs": [],
   "source": [
    "display_soec_costing(m.fs)"
   ]
  },
  {
   "cell_type": "code",
   "execution_count": null,
   "id": "4d15d181",
   "metadata": {
    "scrolled": true
   },
   "outputs": [],
   "source": [
    "display(SVG(m.fs.write_pfd()))"
   ]
  },
  {
   "cell_type": "code",
   "execution_count": null,
   "id": "73c3b054",
   "metadata": {},
   "outputs": [],
   "source": [
    "streams_df = m.fs.streams_dataframe()\n",
    "display(streams_df)"
   ]
  },
  {
   "cell_type": "code",
   "execution_count": null,
   "id": "39f25036",
   "metadata": {},
   "outputs": [],
   "source": [
    "m.fs.write_pfd(fname=\"soec_standalone_design_point.svg\")\n",
    "streams_df.to_csv(\"soec_standalone_design_point.csv\")"
   ]
  },
  {
   "cell_type": "code",
   "execution_count": null,
   "id": "783eb7a6",
   "metadata": {
    "scrolled": false
   },
   "outputs": [],
   "source": [
    "water_heaters = [\n",
    "    m.fs.water_evaporator01,\n",
    "    m.fs.water_evaporator02,\n",
    "    m.fs.water_evaporator03,\n",
    "    m.fs.water_evaporator04,\n",
    "    m.fs.water_evaporator05,\n",
    "    m.fs.water_preheater,\n",
    "]\n",
    "cross_flow_exchangers = [\n",
    "    m.fs.feed_hot_exchanger,\n",
    "    m.fs.sweep_hot_exchanger,\n",
    "    m.fs.sweep_medium_exchanger,\n",
    "]\n",
    "heaters = [\n",
    "    m.fs.feed_heater,\n",
    "    m.fs.sweep_heater\n",
    "]\n",
    "flash_vessels = [m.fs.product_flash01,\n",
    "                 #m.fs.product_flash02,\n",
    "                 m.fs.product_flash03, m.fs.product_flash04]\n",
    "\n",
    "\n",
    "\n",
    "compressors = [getattr(m.fs, f\"cmp0{i}\") for i in range(1,5)]\n",
    "print(f\"Total CapEx: ${pyo.value(m.fs.costing.total_TPC):.2f}MM\")\n",
    "print(f\"Contribution from SOEC: ${pyo.value(m.fs.soec_module.costing.total_plant_cost):.2f}MM\")\n",
    "print(f\"Contribution from H2 compressors: ${pyo.value(sum([cmp.costing.total_plant_cost for cmp in compressors])):.2f}MM\")\n",
    "print(f\"Contribution from H2O compressor: ${pyo.value(m.fs.water_compressor.costing.total_plant_cost):.2f}MM\")\n",
    "print(f\"Contribution from trim heaters: ${pyo.value(sum([heater.costing.total_plant_cost for heater in heaters])):.2f}MM\")\n",
    "print(f\"Contribution from gas-gas exchangers: ${pyo.value(sum([hx.costing.total_plant_cost for hx in cross_flow_exchangers])):.2f}MM\")\n",
    "print(f\"Contribution from gas-water exchangers: ${pyo.value(sum([hx.costing.total_plant_cost for hx in water_heaters])):.2f}MM\")\n",
    "print(f\"Contribution from flash vessels: ${pyo.value(sum([flash.costing.total_plant_cost for flash in flash_vessels])):.2f}MM\")\n",
    "print(f\"Contribution from heat pump: ${pyo.value(m.fs.heat_pump.costing.total_plant_cost):.2f}MM\")\n",
    "print(f\"Contribution from sweep blower: ${pyo.value(m.fs.sweep_blower.costing.total_plant_cost):.2f}MM\")\n",
    "print(f\"Contribution from water feed & treatment systems: ${pyo.value(m.fs.costing.water_systems_cost):.2f}MM\")\n",
    "print(f\"Contribution from accessory electric equipment: ${pyo.value(m.fs.costing.accessory_electric_plant_cost):.2f}MM\")\n",
    "print(f\"Contribution from instrumentation and controls: ${pyo.value(m.fs.costing.instrumentation_and_control_cost):.2f}MM\")\n",
    "print(f\"Contribution from improvements to site: ${pyo.value(m.fs.costing.improvements_to_site_cost):.2f}MM\")\n",
    "print(f\"Contribution from buildings and structures: ${pyo.value(m.fs.costing.buildings_and_structures_cost):.2f}MM\")\n",
    "\n",
    "print(\"\\n\")\n",
    "print(\"------------------------------------------\")\n",
    "print(\"Fixed Costs for Optimized Design\")\n",
    "print(\"------------------------------------------\")\n",
    "\n",
    "# tpc = pyo.value(m.fs.costing.total_TPC)\n",
    "# tasc = tpc*1.21*1.093\n",
    "# ac = tasc*0.0707\n",
    "print(f\"TPC = {pyo.value(m.fs.costing.total_TPC)}\")\n",
    "print(f\"TASC = {pyo.value(m.fs.costing.total_as_spent_cost)}\")\n",
    "print(f\"Annualized TASC (MM$/yr) = {pyo.value(m.fs.costing.total_annualized_cost)}\")\n",
    "\n",
    "# Parameters\n",
    "# n_op = 6.3\n",
    "# hourly_rate = 38.50\n",
    "# labor_burden = 30\n",
    "\n",
    "# Fixed O&M components\n",
    "# annual_op_labor = n_op * hourly_rate * 8760 * (1 - labor_burden/100)/1e6\n",
    "# maint_labor = tpc * 0.4 * 0.019 \n",
    "# maint_material = tpc * 0.6 * 0.019\n",
    "# admin_labor = 0.25*(annual_op_labor + maint_labor)\n",
    "# prop_tax_ins = 0.02*tpc\n",
    "# soec_replace = pyo.value(4.2765*m.fs.soec_module.number_cells)/1e6\n",
    "\n",
    "print(\"Fixed O&M Costs\")\n",
    "print(f\"annual_op_labor (MM$/yr) = {pyo.value(m.fs.costing.annual_operating_labor_cost)}\")\n",
    "print(f\"maint_labor (MM$/yr) = {pyo.value(m.fs.costing.maintenance_labor_cost)}\")\n",
    "print(f\"maint_material (MM$/yr) = {pyo.value(m.fs.costing.maintenance_material_cost)}\")\n",
    "print(f\"admin_labor (MM$/yr) = {pyo.value(m.fs.costing.admin_and_support_labor_cost)}\")\n",
    "print(f\"prop_tax_ins (MM$/yr) = {pyo.value(m.fs.costing.property_tax_and_insurance_cost)}\")\n",
    "print(f\"soec_replace (MM$/yr) = {pyo.value(m.fs.soec_module.costing.annual_soec_replacement_cost)}\")\n",
    "# total_fixed = annual_op_labor + maint_labor + maint_material + admin_labor + prop_tax_ins + soec_replace\n",
    "print(f\"Annualized Fixed O&M (MM$/year) = {pyo.value(m.fs.costing.annual_fixed_operations_and_maintenance_cost)}\")\n",
    "fixed_cost_per_h2 = pyo.value(\n",
    "    m.fs.costing.total_annualized_cost\n",
    "    + m.fs.costing.annual_fixed_operations_and_maintenance_cost\n",
    ")/24/365.2425/5/60/60*1e6\n",
    "print(f\"Fixed ($/kg h2) = {fixed_cost_per_h2}\")\n",
    "\n",
    "print(f\"Annual water cost MM$ {pyo.value(m.fs.costing.annual_water_cost)}\")\n",
    "print(f\"water cost $/kg h2 {pyo.value(m.fs.costing.annual_water_cost)/24/365/5/60/60*1e6}\")"
   ]
  },
  {
   "cell_type": "code",
   "execution_count": null,
   "id": "4140ec12",
   "metadata": {},
   "outputs": [],
   "source": [
    "for hx in water_heaters + cross_flow_exchangers:\n",
    "    print(f\"{hx.name}: {pyo.value(hx.area)}\")"
   ]
  },
  {
   "cell_type": "code",
   "execution_count": null,
   "id": "9d7b788d",
   "metadata": {},
   "outputs": [],
   "source": [
    "for flash in flash_vessels:\n",
    "    flash.diameter.fix()\n",
    "    flash.length.fix()\n",
    "    flash.length_diameter_heuristic.deactivate()\n",
    "    flash.capacity_heuristic.deactivate()\n",
    "\n",
    "for hx in water_heaters + cross_flow_exchangers:\n",
    "    hx.area.fix()\n",
    "\n",
    "for heater in heaters:\n",
    "    heater.costing.max_heat_duty.fix()\n",
    "    \n",
    "m.fs.soec_module.number_cells.fix()\n",
    "m.fs.max_raw_water_withdrawal.fix()\n",
    "m.fs.heat_pump.costing.max_heat_duty.fix()\n",
    "\n",
    "m.fs.obj.deactivate()\n",
    "m.fs.obj2 = pyo.Objective(\n",
    "        expr = (\n",
    "            m.fs.costing.annual_electricity_cost \n",
    "            + m.fs.costing.annual_water_cost\n",
    "            + m.fs.costing.annual_air_cost\n",
    "        )\n",
    "    )    "
   ]
  },
  {
   "cell_type": "code",
   "execution_count": null,
   "id": "1538ec41",
   "metadata": {},
   "outputs": [],
   "source": [
    "run_samples = True\n",
    "df = None\n",
    "prod_vec = np.linspace(5, 1, 33)\n",
    "\n",
    "if run_samples:\n",
    "    i=1\n",
    "    df = pd.DataFrame(columns=m.fs.tags_output.table_heading())\n",
    "    for prod in prod_vec:\n",
    "        print(prod)\n",
    "        m.fs.h2_mass_production.fix(prod)\n",
    "        res = solver.solve(m, tee=True, options={\"tol\": 1e-6, \"max_iter\": 500, \"halt_on_ampl_error\":\"no\"})\n",
    "        assert res.solver.termination_condition == pyo.TerminationCondition.optimal\n",
    "        assert res.solver.status == pyo.SolverStatus.ok\n",
    "        df.loc[i] = m.fs.tags_output.table_row(numeric=True)\n",
    "        i += 1"
   ]
  },
  {
   "cell_type": "code",
   "execution_count": null,
   "id": "584a9d4c",
   "metadata": {},
   "outputs": [],
   "source": [
    "m.fs.sweep_heater.report()"
   ]
  },
  {
   "cell_type": "code",
   "execution_count": null,
   "id": "49f5bead",
   "metadata": {},
   "outputs": [],
   "source": [
    "if df is not None:\n",
    "    df.to_csv(\"soec.csv\")"
   ]
  },
  {
   "cell_type": "code",
   "execution_count": null,
   "id": "e0f8c433",
   "metadata": {},
   "outputs": [],
   "source": [
    "display(SVG(m.fs.write_pfd()))"
   ]
  },
  {
   "cell_type": "code",
   "execution_count": null,
   "id": "a99244d9",
   "metadata": {},
   "outputs": [],
   "source": [
    "for flash in [m.fs.product_flash01, \n",
    "              #m.fs.product_flash02,\n",
    "              m.fs.product_flash03, m.fs.product_flash04]:\n",
    "    print(flash.name)\n",
    "    print(f\"Diameter: {flash.diameter.value}m\")\n",
    "    print(f\"Height: {flash.length.value}m\")\n",
    "    print()"
   ]
  },
  {
   "cell_type": "code",
   "execution_count": null,
   "id": "ece6a5b4",
   "metadata": {},
   "outputs": [],
   "source": [
    "m.fs.soec_module.solid_oxide_cell.temperature_z.pprint()"
   ]
  },
  {
   "cell_type": "code",
   "execution_count": null,
   "id": "8145dd47",
   "metadata": {},
   "outputs": [],
   "source": [
    "print(df)"
   ]
  },
  {
   "cell_type": "code",
   "execution_count": null,
   "id": "5b4a253e",
   "metadata": {},
   "outputs": [],
   "source": [
    "pyo.value(m.fs.product_flash01.liq_outlet.flow_mol[0])"
   ]
  },
  {
   "cell_type": "code",
   "execution_count": null,
   "id": "aaad7ed4",
   "metadata": {},
   "outputs": [],
   "source": [
    "m.fs.sweep_hot_exchanger.report()\n",
    "pyo.value(m.fs.sweep_hot_exchanger.costing.total_plant_cost)"
   ]
  },
  {
   "cell_type": "code",
   "execution_count": null,
   "id": "4b6765f6",
   "metadata": {},
   "outputs": [],
   "source": [
    "m.fs.sweep_hot_exchanger.costing.total_plant_cost.pprint()"
   ]
  },
  {
   "cell_type": "code",
   "execution_count": null,
   "id": "fac6e965",
   "metadata": {},
   "outputs": [],
   "source": [
    "from idaes.core.util.model_diagnostics import DegeneracyHunter\n",
    "def check_scaling(blk):\n",
    "    jac, nlp = iscale.get_jacobian(blk, scaled=True)\n",
    "    # djac = jac.todense()\n",
    "    # print(\"Extreme Jacobian entries:\")\n",
    "    # for i in iscale.extreme_jacobian_entries(jac=jac, nlp=nlp, large=1E3, small=0):\n",
    "    #     print(f\"    {i[0]:.2e}, [{i[1]}, {i[2]}]\")\n",
    "    print(\"Badly scaled variables:\")\n",
    "    for i in iscale.extreme_jacobian_columns(\n",
    "            jac=jac, nlp=nlp, large=1E3, small=5E-3):\n",
    "        print(f\"    {i[0]:.2e}, [{i[1]}]\")\n",
    "    print(\"\\n\\n\" + \"Badly scaled constraints:\")\n",
    "    for i in iscale.extreme_jacobian_rows(\n",
    "            jac=jac, nlp=nlp, large=1E3, small=5E-3):\n",
    "        print(f\"    {i[0]:.2e}, [{i[1]}]\")\n",
    "    print(f\"Jacobian Condition Number: {iscale.jacobian_cond(jac=jac):.2e}\")\n",
    "\n",
    "    if not hasattr(blk, \"obj\"):\n",
    "        blk.obj = pyo.Objective(expr=0)\n",
    "    dh = DegeneracyHunter(blk, solver=pyo.SolverFactory('cbc'))\n",
    "    dh.check_rank_equality_constraints(dense=True)\n",
    "    variables = nlp.get_pyomo_variables()\n",
    "    constraints = nlp.get_pyomo_equality_constraints()\n",
    "    # ds = dh.find_candidate_equations()\n",
    "    for i in np.where(abs(dh.v[:, -1]) > 0.1)[0]:\n",
    "        print(str(i) + \": \" + variables[i].name)\n",
    "    for i in np.where(abs(dh.u[:, -1]) > 0.1)[0]:\n",
    "        print(str(i) + \": \" + constraints[i].name)\n",
    "\n",
    "    return (variables, constraints, jac, dh)"
   ]
  },
  {
   "cell_type": "code",
   "execution_count": null,
   "id": "0382082e",
   "metadata": {},
   "outputs": [],
   "source": [
    "variables, constraints, jac, dh = check_scaling(m.fs)"
   ]
  },
  {
   "cell_type": "code",
   "execution_count": null,
   "id": "f0672507",
   "metadata": {},
   "outputs": [],
   "source": [
    "m.fs.product_flash05.report()"
   ]
  },
  {
   "cell_type": "code",
   "execution_count": null,
   "id": "e4466583",
   "metadata": {},
   "outputs": [],
   "source": [
    "[j for j, var in enumerate(variables) if var.name == \"fs.product_flash01.control_volume.properties_out[0.0].flow_mol_phase[Liq]\"]\n"
   ]
  },
  {
   "cell_type": "code",
   "execution_count": null,
   "id": "dab05165",
   "metadata": {},
   "outputs": [],
   "source": [
    "col = jac.getcol(1178)"
   ]
  },
  {
   "cell_type": "code",
   "execution_count": null,
   "id": "c380f301",
   "metadata": {},
   "outputs": [],
   "source": [
    "print(col)"
   ]
  },
  {
   "cell_type": "code",
   "execution_count": null,
   "id": "00ad3090",
   "metadata": {},
   "outputs": [],
   "source": [
    "constraints[1428].name"
   ]
  },
  {
   "cell_type": "code",
   "execution_count": null,
   "id": "7cd61c58",
   "metadata": {},
   "outputs": [],
   "source": [
    "jac, nlp = iscale.get_jacobian(m.fs, scaled=True, equality_constraints_only=True)"
   ]
  },
  {
   "cell_type": "code",
   "execution_count": null,
   "id": "0a2855b4",
   "metadata": {},
   "outputs": [],
   "source": [
    "jac = jac[0]"
   ]
  },
  {
   "cell_type": "code",
   "execution_count": null,
   "id": "87247a9f",
   "metadata": {},
   "outputs": [],
   "source": [
    "variables = nlp.get_pyomo_variables()\n",
    "constraints = nlp.get_pyomo_equality_constraints()"
   ]
  },
  {
   "cell_type": "code",
   "execution_count": null,
   "id": "4391da43",
   "metadata": {},
   "outputs": [],
   "source": [
    "dh.check_residuals(1e-4)"
   ]
  },
  {
   "cell_type": "code",
   "execution_count": null,
   "id": "f5bb404d",
   "metadata": {
    "scrolled": true
   },
   "outputs": [],
   "source": [
    "m.fs.sweep_hot_exchanger.report()"
   ]
  },
  {
   "cell_type": "code",
   "execution_count": null,
   "id": "df03ad3a",
   "metadata": {},
   "outputs": [],
   "source": [
    "m.fs.sweep_heater.report()"
   ]
  },
  {
   "cell_type": "code",
   "execution_count": null,
   "id": "8ce013ac",
   "metadata": {},
   "outputs": [],
   "source": [
    "m.fs.water_evaporator02.report()"
   ]
  },
  {
   "cell_type": "code",
   "execution_count": null,
   "id": "9e2af889",
   "metadata": {},
   "outputs": [],
   "source": [
    "m.fs.soec_module.number_cells.pprint()"
   ]
  },
  {
   "cell_type": "code",
   "execution_count": null,
   "id": "9f70765f",
   "metadata": {},
   "outputs": [],
   "source": [
    "m.fs.feed_hot_exchanger.heat_transfer_equation[0.0].pprint()"
   ]
  },
  {
   "cell_type": "code",
   "execution_count": null,
   "id": "9f4eeaf4",
   "metadata": {},
   "outputs": [],
   "source": [
    "3683.5*100.00*86.961"
   ]
  },
  {
   "cell_type": "code",
   "execution_count": null,
   "id": "a3b8fbd6",
   "metadata": {},
   "outputs": [],
   "source": [
    "import matplotlib.pyplot as plt\n",
    "soc = m.fs.soec_module.solid_oxide_cell\n",
    "\n",
    "plt.figure()\n",
    "plt.plot(np.array(soc.iznodes), np.array(\n",
    "    [pyo.value(soc.current_density[0, i]) for i in\n",
    "     soc.iznodes]) / 10, label=\"Current Density\")\n",
    "plt.plot(np.array(soc.iznodes), np.ones((10, 1)) * sum(\n",
    "    [pyo.value(soc.current_density[0, i]) for i in\n",
    "     soc.iznodes]) / 100, \"--\", label=\"Average Current Density\")\n",
    "\n",
    "plt.xlabel(\"z node\", fontsize=14)\n",
    "plt.ylabel(r\"Current Density ($mA/cm^2$)\", fontsize=14)\n",
    "plt.title(\"Current Density\", fontsize=16)\n",
    "\n",
    "plt.figure()\n",
    "plt.plot(np.array(soc.iznodes), np.array(\n",
    "    [pyo.value(soc.fuel_triple_phase_boundary.potential_nernst[0, iz]\n",
    "               + soc.oxygen_triple_phase_boundary.potential_nernst[0, iz])\n",
    "     for iz in soc.iznodes]),\n",
    "    label=\"Nernst Potential\"\n",
    " )\n",
    "\n",
    "plt.xlabel(\"z node\", fontsize=14)\n",
    "plt.ylabel(r\"Nernst Potential (V)\", fontsize=14)\n",
    "plt.title(\"Nernst Potential\", fontsize=16)\n",
    "\n",
    "plt.figure()\n",
    "plt.plot(np.array(soc.iznodes), np.array(\n",
    "    [pyo.value(soc.fuel_electrode.temperature[0, 1, i]) for i in\n",
    "     soc.iznodes]), label=\"Temperature\")\n",
    "plt.plot(np.array(soc.iznodes), np.ones((10, 1)) * sum(\n",
    "    [pyo.value(soc.fuel_electrode.temperature[0, 1, i]) for i in\n",
    "     soc.iznodes]) / 10, \"--\", label=\"Average Temperature\")\n",
    "\n",
    "plt.legend()\n",
    "plt.xlabel(\"z node\", fontsize=14)\n",
    "plt.ylabel(\"Temperature (K)\", fontsize=14)\n",
    "plt.title(\"PEN Temperature\", fontsize=16)\n",
    "\n",
    "plt.figure()\n",
    "plt.plot(np.array(soc.iznodes), np.array(\n",
    "    [pyo.value(soc.fuel_electrode.dtemperature_dz[0, 1, i]) for i in\n",
    "     soc.iznodes])/100)\n",
    "plt.xlabel(\"z node\", fontsize=14)\n",
    "plt.ylabel(r\"$\\frac{dT}{dz}$ (K/cm)\", fontsize=14)\n",
    "plt.title(\"PEN Temperature Gradient\", fontsize=16)\n",
    "\n",
    "plt.show()"
   ]
  },
  {
   "cell_type": "code",
   "execution_count": null,
   "id": "fb08899b",
   "metadata": {},
   "outputs": [],
   "source": [
    "m.fs.water_withdrawal_system.costing.pprint()"
   ]
  },
  {
   "cell_type": "code",
   "execution_count": null,
   "id": "663cd0e5",
   "metadata": {},
   "outputs": [],
   "source": [
    "m.fs.cmp01.work_mechanical.pprint()"
   ]
  },
  {
   "cell_type": "code",
   "execution_count": null,
   "id": "265c4de0",
   "metadata": {},
   "outputs": [],
   "source": [
    "m.fs.heat_pump.pprint()"
   ]
  },
  {
   "cell_type": "code",
   "execution_count": null,
   "id": "3ca29a8d",
   "metadata": {},
   "outputs": [],
   "source": []
  }
 ],
 "metadata": {
  "kernelspec": {
   "display_name": "Python 3 (ipykernel)",
   "language": "python",
   "name": "python3"
  },
  "language_info": {
   "codemirror_mode": {
    "name": "ipython",
    "version": 3
   },
   "file_extension": ".py",
   "mimetype": "text/x-python",
   "name": "python",
   "nbconvert_exporter": "python",
   "pygments_lexer": "ipython3",
   "version": "3.10.6"
  }
 },
 "nbformat": 4,
 "nbformat_minor": 5
}
