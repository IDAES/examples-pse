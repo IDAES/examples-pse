{
 "cells": [
  {
   "cell_type": "markdown",
   "metadata": {},
   "source": [
    "# Packed Column Model Simulation in IDAES for Post Combustion Capture\n",
    "\n",
    "This example will demonstrate the use of IDAES Packed Column unit model for carbon capture applications. \n",
    "The Packed Column model can be used for absorption or stripping operation and is based on the enhancement factor approach where Monoethanolamine(MEA) is the solvent. For this example, the packed column is simulated in absorption mode. \n",
    "\n",
    "A brief overview of the Packed Column model is provided in this link:\n",
    "https://idaes-pse--140.org.readthedocs.build/en/140/technical_specs/model_libraries/power_generation/carbon_capture/mea_solvent_system/unit_models/index.html\n",
    "\n",
    "Reference Paper: Akula, Paul; Eslick, John; Bhattacharyya, Debangsu; Miller, David\n",
    "\"Model Development, Validation, and Part-Load Optimization of a\n",
    "MEA-Based Post-Combustion CO2 Capture Process\n",
    "Under Part-Load and Variable Capture Operation,\n",
    "Industrial & Engineering Chemistry Research,2021. (submitted)"
   ]
  },
  {
   "cell_type": "markdown",
   "metadata": {},
   "source": [
    "### Import Pyomo libraries"
   ]
  },
  {
   "cell_type": "code",
   "execution_count": null,
   "metadata": {},
   "outputs": [],
   "source": [
    "import pyomo.environ as pyo"
   ]
  },
  {
   "cell_type": "markdown",
   "metadata": {},
   "source": [
    "### Import the IDAES Model Libraries"
   ]
  },
  {
   "cell_type": "code",
   "execution_count": null,
   "metadata": {},
   "outputs": [],
   "source": [
    "# Import the main FlowsheetBlock from IDAES. The flowsheet block will contain the unit model\n",
    "import idaes\n",
    "from idaes.core import FlowsheetBlock\n",
    "\n",
    "# Liquid and Vapor property package\n",
    "from idaes.power_generation.carbon_capture.mea_solvent_system.properties.liquid_prop import LiquidParameterBlock\n",
    "from idaes.power_generation.carbon_capture.mea_solvent_system.properties.vapor_prop import VaporParameterBlock\n",
    "\n",
    "# Packed column unit model\n",
    "from idaes.power_generation.carbon_capture.mea_solvent_system.unit_models.column import PackedColumn, ProcessType\n",
    "\n",
    "# Solver\n",
    "from idaes.core.util import get_solver"
   ]
  },
  {
   "cell_type": "markdown",
   "metadata": {},
   "source": [
    "### Create a Pyomo concrete model and attach the IDAES flowsheet block to it\n"
   ]
  },
  {
   "cell_type": "code",
   "execution_count": null,
   "metadata": {},
   "outputs": [],
   "source": [
    "m = pyo.ConcreteModel()\n",
    "m.fs = FlowsheetBlock(default={\"dynamic\": False})"
   ]
  },
  {
   "cell_type": "markdown",
   "metadata": {},
   "source": [
    "### Set up the property package for vapor and liquid phase of the column"
   ]
  },
  {
   "cell_type": "code",
   "execution_count": null,
   "metadata": {},
   "outputs": [],
   "source": [
    "m.fs.vapor_properties = VaporParameterBlock(default={'process_type': ProcessType.absorber})\n",
    "m.fs.liquid_properties = LiquidParameterBlock(default={'process_type': ProcessType.absorber})"
   ]
  },
  {
   "cell_type": "markdown",
   "metadata": {},
   "source": [
    "### Set up the packed column unit model"
   ]
  },
  {
   "cell_type": "code",
   "execution_count": null,
   "metadata": {},
   "outputs": [],
   "source": [
    "# Spatial domain of finite elements and finite element list\n",
    "x_nfe = 40\n",
    "x_nfe_list = [i / x_nfe for i in range(x_nfe + 1)]\n",
    "\n",
    "# Create an instance of the packed column in the flowsheet for absorption process (provide specifications)\n",
    "m.fs.abs = PackedColumn(default={\n",
    "            \"process_type\": ProcessType.absorber,\n",
    "            \"finite_elements\": x_nfe,\n",
    "            \"length_domain_set\": x_nfe_list,\n",
    "            \"column_pressure\": 107650, # Pa\n",
    "            \"packing_specific_area\":225, # m^2/m^3\n",
    "            \"packing_void_fraction\":0.97,\n",
    "            \"transformation_method\": \"dae.finite_difference\",\n",
    "            \"vapor_side\": {\n",
    "                \"transformation_scheme\": \"BACKWARD\",\n",
    "                \"property_package\": m.fs.vapor_properties,\n",
    "                \"has_pressure_change\": False,\n",
    "                \"pressure_drop_type\": None},\n",
    "            \"liquid_side\":\n",
    "            {\n",
    "                \"transformation_scheme\": \"FORWARD\",\n",
    "                \"property_package\": m.fs.liquid_properties\n",
    "            }})"
   ]
  },
  {
   "cell_type": "markdown",
   "metadata": {},
   "source": [
    " ### Initialize and solve the  absorber model\n",
    " \n",
    " 1. Fix dimensions of absorber (according to TCM data)\n",
    " 2. Fix the process inputs using data from Faramarzia et. al, 2017.\n",
    " 3. Initialize the model\n",
    " 4. Solve the model(scale up to required diameter)"
   ]
  },
  {
   "cell_type": "code",
   "execution_count": null,
   "metadata": {},
   "outputs": [],
   "source": [
    "# Absorber diameter and length\n",
    "m.fs.abs.diameter_column.fix(0.6) # m\n",
    "m.fs.abs.length_column.fix(24) # m\n",
    "\n",
    "# Vapor inputs (flue gas)\n",
    "m.fs.abs.vapor_inlet.flow_mol[0].fix(698.218) # mol/s\n",
    "m.fs.abs.vapor_inlet.temperature[0].fix(302.95) # K\n",
    "m.fs.abs.vapor_inlet.pressure[0].fix(107625.0) # Pa\n",
    "m.fs.abs.vapor_inlet.mole_frac_comp[0, \"CO2\"].fix(0.037)\n",
    "m.fs.abs.vapor_inlet.mole_frac_comp[0, \"H2O\"].fix(0.037)\n",
    "m.fs.abs.vapor_inlet.mole_frac_comp[0, \"N2\"].fix(0.78)\n",
    "m.fs.abs.vapor_inlet.mole_frac_comp[0, \"O2\"].fix(0.146)\n",
    "\n",
    "# Liquid inputs (solvent)\n",
    "m.fs.abs.liquid_inlet.flow_mol[0].fix(677.774) # mol/s\n",
    "m.fs.abs.liquid_inlet.temperature[0].fix(310.15) # K\n",
    "m.fs.abs.liquid_inlet.mole_frac_comp[0, \"CO2\"].fix(0.0229)\n",
    "m.fs.abs.liquid_inlet.mole_frac_comp[0, \"H2O\"].fix(0.8628)\n",
    "m.fs.abs.liquid_inlet.mole_frac_comp[0, \"MEA\"].fix(0.1143)\n",
    "\n",
    "# Access the solver\n",
    "solver = get_solver()\n",
    "\n",
    "# Initialization \n",
    "m.fs.abs.initialize(homotopy_steps_h=[0.8, 0.9, 1])\n",
    "import numpy as np\n",
    "abs_col_diameter = np.linspace(0.6, 3.007, num=10)\n",
    "for D in abs_col_diameter:\n",
    "  m.fs.abs.diameter_column.fix(D)\n",
    "  print('column diameter = {:6.2f}'.format(D))\n",
    "  solver.solve(m.fs.abs,tee=False)"
   ]
  },
  {
   "cell_type": "markdown",
   "metadata": {},
   "source": [
    "### View model results"
   ]
  },
  {
   "cell_type": "code",
   "execution_count": null,
   "metadata": {},
   "outputs": [],
   "source": [
    "import matplotlib.pyplot as plt\n",
    "%matplotlib inline\n",
    "\n",
    "m.fs.abs.make_steady_state_column_profile()"
   ]
  },
  {
   "cell_type": "markdown",
   "metadata": {},
   "source": [
    "### Model validation with TCM pilot plant data"
   ]
  },
  {
   "cell_type": "code",
   "execution_count": null,
   "metadata": {},
   "outputs": [],
   "source": [
    "# Get the TCM data\n",
    "TCM_abs_Temp_profile= [305.55,305.65,306.35,306.05,306.95,307.25,307.45,309.05,310.25,310.55,314.75,313.75,314.05,\n",
    "                       315.35, 316.25, 317.55, 319.15,  320.35,  322.05,323.05,323.65,324.75,324.85,320.55,310.15]\n",
    "\n",
    "TCM_abs_height=[0.5, 1.5, 2.5, 3.5, 4.5, 5.5, 6.5, 7.5, 8.5, 9.5, 10.5, 11.5, 12.5,\n",
    "                13.5, 14.5, 15.5,16.5, 17.5, 18.5, 19.5, 20.5, 21.5, 22.5, 23.5, 24]\n",
    "\n",
    "# Get model result\n",
    "abs_column_height = [x*24 for x in m.fs.abs.liquid_phase.length_domain]\n",
    "\n",
    "liquid_temperature_profile = []\n",
    "for x in m.fs.abs.liquid_phase.length_domain:\n",
    "    liquid_temperature_profile.append(pyo.value(m.fs.abs.liquid_phase.properties[0, x].temperature))\n",
    "\n",
    "# Validation plot\n",
    "plt.figure(figsize=(11,9))\n",
    "\n",
    "plt.plot(TCM_abs_height, TCM_abs_Temp_profile,\n",
    "         label='TCM data : 2015',color ='black',\n",
    "         marker='o',markersize=9,linestyle='')\n",
    "\n",
    "\n",
    "plt.plot(abs_column_height,liquid_temperature_profile,\n",
    "         color='blue',label='Model prediction')\n",
    "\n",
    "\n",
    "plt.ylim(295,335)\n",
    "plt.ylabel('Temperature (K)',fontsize=19,fontweight='bold')\n",
    "plt.xlabel('Absorber height from bottom',fontsize=19,fontweight='bold')\n",
    "plt.legend(fontsize=19)\n",
    "plt.tick_params(labelsize=19)\n",
    "plt.tight_layout()"
   ]
  },
  {
   "cell_type": "code",
   "execution_count": null,
   "metadata": {},
   "outputs": [],
   "source": []
  }
 ],
 "metadata": {
  "kernelspec": {
   "display_name": "Python 3",
   "language": "python",
   "name": "python3"
  },
  "language_info": {
   "codemirror_mode": {
    "name": "ipython",
    "version": 3
   },
   "file_extension": ".py",
   "mimetype": "text/x-python",
   "name": "python",
   "nbconvert_exporter": "python",
   "pygments_lexer": "ipython3",
   "version": "3.7.4"
  }
 },
 "nbformat": 4,
 "nbformat_minor": 4
}
