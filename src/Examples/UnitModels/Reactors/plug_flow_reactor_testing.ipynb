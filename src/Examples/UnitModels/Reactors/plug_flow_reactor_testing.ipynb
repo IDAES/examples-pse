{
 "cells": [
  {
   "cell_type": "markdown",
   "metadata": {},
   "source": [
    "\n",
    "# Flowsheet Plug Flow Reactor (PFR) Simulation and Optimization of Ethylene Glycol Production\n",
    "\n",
    "\n",
    "## Learning Outcomes\n",
    "\n",
    "\n",
    "- Call and implement the IDAES PFR unit model\n",
    "- Construct a steady-state flowsheet using the IDAES unit model library\n",
    "- Connecting unit models in a flowsheet using Arcs\n",
    "- Fomulate and solve an optimization problem\n",
    "    - Defining an objective function\n",
    "    - Setting variable bounds\n",
    "    - Adding additional constraints \n",
    "\n",
    "\n",
    "## Problem Statement\n",
    "\n",
    "Following the previous example implementing a [Continuous Stirred Tank Reactor (CSTR) unit model](http://localhost:8888/notebooks/GitHub/examples-pse/src/Examples/UnitModels/Reactors/cstr_testing.ipynb), we can alter the flowsheet to use a plug flow reactor (PFR). As before, this example is adapted from Fogler, H.S., Elements of Chemical Reaction Engineering 5th ed., 2016, Prentice Hall,  p. 157-160 with the following chemical reaction, property packages and flowsheet. Unlike a CSTR which assumes well-mixed liquid behavior, the concentration profiles will vary spatially in one dimension. In actuality, following start-up flow reactor exhibit dynamic behavior as they approach a steady-state equilibrium; we will assume our system has already achieved steady-state behavior. The state variables chosen for the property package are **molar flows of each component by phase in each stream, temperature of each stream and pressure of each stream**. The components considered are: **ethylene oxide, water, sulfuric acid and ethylene glycol** and the process occurs in liquid phase only. Therefore, every stream has 4 flow variables, 1 temperature and 1 pressure variable.\n",
    "\n",
    "Chemical reaction:\n",
    "\n",
    "**C<sub>2</sub>H<sub>4</sub>O</sub> + H<sub>2</sub>O</sub> + H<sub>2</sub>S</sub>O<sub>4</sub> → C<sub>2</sub>H<sub>6</sub>O<sub>2</sub> + H<sub>2</sub>S</sub>O<sub>4</sub>**\n",
    "\n",
    "Property Packages:\n",
    "\n",
    "- egprod_ideal.py\n",
    "- egprod_reaction.py\n",
    "\n",
    "Flowsheet:\n",
    "\n",
    "![](egprod_flowsheet.png)\n"
   ]
  },
  {
   "cell_type": "markdown",
   "metadata": {},
   "source": [
    "## Importing Required Pyomo and IDAES components\n",
    "\n",
    "\n",
    "To construct a flowsheet, we will need several components from the Pyomo and IDAES packages. Let us first import the following components from Pyomo:\n",
    "- Constraint (to write constraints)\n",
    "- Var (to declare variables)\n",
    "- ConcreteModel (to create the concrete model object)\n",
    "- Expression (to evaluate values as a function of variables defined in the model)\n",
    "- Objective (to define an objective function for optimization)\n",
    "- TransformationFactory (to apply certain transformations)\n",
    "- Arc (to connect two unit models)\n",
    "\n",
    "For further details on these components, please refer to the pyomo documentation: https://pyomo.readthedocs.io/en/latest/\n",
    "\n",
    "From idaes, we will be needing the `FlowsheetBlock` and the following unit models:\n",
    "- Mixer\n",
    "- Heater\n",
    "- PFR\n",
    "\n",
    "We will also be needing some utility tools to put together the flowsheet and calculate the degrees of freedom, tools for model expressions and calling variable values, and built-in functions to define property packages, add unit containers to objects and define our initialization scheme.\n"
   ]
  },
  {
   "cell_type": "code",
   "execution_count": null,
   "metadata": {},
   "outputs": [],
   "source": [
    "from pyomo.environ import (Constraint,\n",
    "                           Var,\n",
    "                           ConcreteModel,\n",
    "                           Expression,\n",
    "                           Objective,\n",
    "                           TransformationFactory,\n",
    "                           value,\n",
    "                           units as pyunits)\n",
    "from pyomo.network import Arc\n",
    "\n",
    "from idaes.core import FlowsheetBlock\n",
    "from idaes.models.properties.modular_properties import (\n",
    "        GenericParameterBlock,\n",
    "        GenericReactionParameterBlock)\n",
    "from idaes.models.unit_models import (Feed,\n",
    "                                      Mixer,\n",
    "                                      Heater,\n",
    "                                      PFR,\n",
    "                                      Product)\n",
    "\n",
    "from idaes.core.solvers import get_solver\n",
    "from idaes.core.util.model_statistics import degrees_of_freedom\n",
    "from idaes.core.util.initialization import propagate_state"
   ]
  },
  {
   "cell_type": "markdown",
   "metadata": {},
   "source": [
    "## Importing Required Thermophysical and Reaction Packages\n",
    "\n",
    "The final step is to import the thermophysical and reaction packages. We have created a custom thermophysical package that support ideal vapor and liquid behavior for this system, and in this case we will restrict it to ideal liquid behavior only.\n",
    "\n",
    "The reaction package here assumes Arrhenius kinetic behavior for the PFR, for which $k_0$ and $E_a$ are known *a priori* (if unknown, they may be obtained using one of the parameter estimation tools within IDAES).\n",
    "\n",
    "$ r = -kVC_{EO} $, $ k = k_0 e^{(-E_a/RT)}$, with the variables as follows:\n",
    "\n",
    "$r$ - reaction rate extent in moles of ethylene oxide consumed per second; note that the traditional reaction rate would be given by $rate = r/V$ in moles per $m^3$ per second  \n",
    "$k$ - reaction rate constant per second  \n",
    "$V$ - volume of PFR in $m^3$, note that this is *liquid volume* and not the *total volume* of the reactor itself  \n",
    "$C_{EO}$ - bulk concentration of ethylene oxide in moles per $m^3$ (the limiting reagent, since we assume excess catalyst and water)  \n",
    "$k_0$ - pre-exponential Arrhenius factor per second  \n",
    "$E_a$ - reaction activation energy in kJ per mole of ethylene oxide consumed  \n",
    "$R$ - gas constant in J/mol-K  \n",
    "$T$ - reactor temperature in K\n",
    "\n",
    "These calculations are contained within the property, reaction and unit model packages, and do not need to be entered into the flowsheet. More information on property estimation may be found in the IDAES documentation on [Parameter Estimation](https://idaes-pse.readthedocs.io/en/stable/how_to_guides/workflow/data_rec_parmest.html).\n",
    "\n",
    "Let us import the following modules from the same directory as this Jupyter notebook:\n",
    "- egprod_ideal as thermo_props\n",
    "- egprod_reaction as reaction_props"
   ]
  },
  {
   "cell_type": "code",
   "execution_count": null,
   "metadata": {},
   "outputs": [],
   "source": [
    "import egprod_ideal as thermo_props\n",
    "import egprod_reaction as reaction_props"
   ]
  },
  {
   "cell_type": "markdown",
   "metadata": {},
   "source": [
    "## Constructing the Flowsheet\n",
    "\n",
    "We have now imported all the components, unit models, and property modules we need to construct a flowsheet. Let us create a ConcreteModel and add the flowsheet block. "
   ]
  },
  {
   "cell_type": "code",
   "execution_count": null,
   "metadata": {},
   "outputs": [],
   "source": [
    "m = ConcreteModel()\n",
    "m.fs = FlowsheetBlock(dynamic=False)"
   ]
  },
  {
   "cell_type": "markdown",
   "metadata": {},
   "source": [
    "We now need to add the property packages to the flowsheet. Unlike the basic [Flash unit model example](http://localhost:8888/notebooks/GitHub/examples-pse/src/Tutorials/Basics/flash_unit_solution_testing.ipynb), where we only had a thermophysical property package, for this flowsheet we will also need to add a reaction property package. We will use the [Modular Property Framework](https://idaes-pse.readthedocs.io/en/stable/explanations/components/property_package/index.html#generic-property-package-framework) and [Modular Reaction Framework](https://idaes-pse.readthedocs.io/en/stable/explanations/components/property_package/index.html#generic-reaction-package-framework). The get_prop method for the natural gas property module automatically returns the correct dictionary using a component list argument. The GenericParameterBlock and GenericReactionParameterBlock methods build states blocks from passed parameter data; the reaction block unpacks using **reaction_props.config_dict to allow for optional or empty keyword arguments:"
   ]
  },
  {
   "cell_type": "code",
   "execution_count": null,
   "metadata": {
    "scrolled": true
   },
   "outputs": [],
   "source": [
    "m.fs.thermo_params = GenericParameterBlock(**thermo_props.config_dict)\n",
    "m.fs.reaction_params = GenericReactionParameterBlock(property_package=m.fs.thermo_params,\n",
    "                                                     **reaction_props.config_dict)"
   ]
  },
  {
   "cell_type": "markdown",
   "metadata": {},
   "source": [
    "## Adding Unit Models\n",
    "\n",
    "Let us start adding the unit models we have imported to the flowsheet. Here, we are adding a `Mixer`, a `Heater` and a `PFR`. Note that all unit models need to be given a property package argument. In addition to that, there are several arguments depending on the unit model, please refer to the documentation for more details on [IDAES Unit Models](https://idaes-pse.readthedocs.io/en/stable/reference_guides/model_libraries/index.html). For example, the `Mixer` is given a `list` consisting of names to the two inlets."
   ]
  },
  {
   "cell_type": "code",
   "execution_count": null,
   "metadata": {
    "scrolled": true
   },
   "outputs": [],
   "source": [
    "m.fs.OXIDE = Feed(property_package=m.fs.thermo_params)\n",
    "m.fs.ACID = Feed(property_package=m.fs.thermo_params)\n",
    "m.fs.PROD = Product(property_package=m.fs.thermo_params)\n",
    "m.fs.M101 = Mixer(property_package=m.fs.thermo_params,\n",
    "                  inlet_list=[\"reagent_feed\", \"catalyst_feed\"])\n",
    "m.fs.H101 = Heater(property_package=m.fs.thermo_params,\n",
    "                   has_pressure_change=False,\n",
    "                   has_phase_equilibrium=False)"
   ]
  },
  {
   "cell_type": "code",
   "execution_count": null,
   "metadata": {
    "scrolled": false
   },
   "outputs": [],
   "source": [
    "m.fs.R101 = PFR(property_package=m.fs.thermo_params,\n",
    "                reaction_package=m.fs.reaction_params,\n",
    "                has_equilibrium_reactions=False,\n",
    "                has_heat_of_reaction=True,\n",
    "                has_heat_transfer=True,\n",
    "                has_pressure_change=False,\n",
    "                transformation_method=\"dae.finite_difference\",\n",
    "                transformation_scheme=\"BACKWARD\",\n",
    "                finite_elements=20)"
   ]
  },
  {
   "cell_type": "markdown",
   "metadata": {},
   "source": [
    "## Connecting Unit Models Using Arcs\n",
    "\n",
    "We have now added all the unit models we need to the flowsheet. However, we have not yet specifed how the units are to be connected. To do this, we will be using the `Arc` which is a pyomo component that takes in two arguments: `source` and `destination`. Let us connect the outlet of the `Mixer` to the inlet of the `Heater`, and the outlet of the `Heater` to the inlet of the `PFR`. Additionally, we will connect the `Feed` and `Product` blocks to the flowsheet:"
   ]
  },
  {
   "cell_type": "code",
   "execution_count": null,
   "metadata": {},
   "outputs": [],
   "source": [
    "m.fs.s01 = Arc(source=m.fs.OXIDE.outlet, destination=m.fs.M101.reagent_feed)\n",
    "m.fs.s02 = Arc(source=m.fs.ACID.outlet, destination=m.fs.M101.catalyst_feed)\n",
    "m.fs.s03 = Arc(source=m.fs.M101.outlet, destination=m.fs.H101.inlet)\n",
    "m.fs.s04 = Arc(source=m.fs.H101.outlet, destination=m.fs.R101.inlet)\n",
    "m.fs.s05 = Arc(source=m.fs.R101.outlet, destination=m.fs.PROD.inlet)"
   ]
  },
  {
   "cell_type": "markdown",
   "metadata": {},
   "source": [
    "We have now connected the unit model block using the arcs. However, we also need to link the state variables on connected ports. Pyomo provides a convenient method `TransformationFactory` to write these equality constraints for us between two ports:"
   ]
  },
  {
   "cell_type": "code",
   "execution_count": null,
   "metadata": {},
   "outputs": [],
   "source": [
    "TransformationFactory(\"network.expand_arcs\").apply_to(m)"
   ]
  },
  {
   "cell_type": "markdown",
   "metadata": {},
   "source": [
    "## Adding Expressions to Compute Operating Costs\n",
    "\n",
    "In this section, we will add a few Expressions that allows us to evaluate the performance. `Expressions` provide a convenient way of calculating certain values that are a function of the variables defined in the model. For more details on `Expressions`, please refer to the [Pyomo Expression documentaiton]( https://pyomo.readthedocs.io/en/latest/pyomo_modeling_components/Expressions.html).\n",
    "\n",
    "For this flowsheet, we are interested in computing ethylene glycol production in millions of pounds per year, as well as the total costs due to cooling and heating utilities."
   ]
  },
  {
   "cell_type": "markdown",
   "metadata": {},
   "source": [
    "Let us first add an `Expression` to convert the product flow from mol/s to MM lb/year of ethylene glycol. We see that the molecular weight exists in the thermophysical property package, so we may use that value for our calculations."
   ]
  },
  {
   "cell_type": "code",
   "execution_count": null,
   "metadata": {},
   "outputs": [],
   "source": [
    "m.fs.eg_prod = Expression(expr=pyunits.convert(m.fs.PROD.inlet.flow_mol_phase_comp[0, \"Liq\", \"ethylene_glycol\"]\n",
    "                                               *m.fs.thermo_params.ethylene_glycol.mw, # MW defined in properties as kg/mol\n",
    "                                               to_units=pyunits.Mlb/pyunits.yr)) # converting kg/s to MM lb/year"
   ]
  },
  {
   "cell_type": "markdown",
   "metadata": {},
   "source": [
    "Now, let us add expressions to compute the reactor cooling cost (\\\\$/s) assuming a cost of 2.12E-5 \\\\$/kW, and the heating utility cost (\\\\$/s) assuming 2.2E-4 \\\\$/kW. Note that the heat duty is in units of watt (J/s). The total operating cost will be the sum of the two, expressed in \\\\$/year assuming 8000 operating hours per year (~10\\% downtime, which is fairly common for small scale chemical plants):"
   ]
  },
  {
   "cell_type": "code",
   "execution_count": null,
   "metadata": {
    "scrolled": true
   },
   "outputs": [],
   "source": [
    "m.fs.cooling_cost = Expression(expr=2.12e-8 * (-sum(m.fs.R101.heat_duty[0, x]\n",
    "                                                     for x in m.fs.R101.control_volume.length_domain)))  # the reaction is exothermic, so R101 duty is negative\n",
    "m.fs.heating_cost = Expression(expr=2.2e-7 * m.fs.H101.heat_duty[0])  # the stream must be heated to T_rxn, so H101 duty is positive\n",
    "m.fs.operating_cost = Expression(expr=(3600 * 8000 *(m.fs.heating_cost + m.fs.cooling_cost)))"
   ]
  },
  {
   "cell_type": "markdown",
   "metadata": {},
   "source": [
    "## Fixing Feed Conditions\n",
    "\n",
    "Let us first check how many degrees of freedom exist for this flowsheet using the `degrees_of_freedom` tool we imported earlier. We expect each stream to have 6 degrees of freedom, the mixer to have 0 (after both streams are accounted for), the heater to have 1 (just the duty, since the inlet is also the outlet of M101), and the reactor to have 2 unit specifications and 1 specification for each finite element. Therefore, we have 35 degrees of freedom to specify: temperature, pressure and flow of all four components on both streams; outlet heater temperature; a reactor property such as conversion or heat duty at each finite element; reactor volume and reactor length."
   ]
  },
  {
   "cell_type": "code",
   "execution_count": null,
   "metadata": {
    "scrolled": true
   },
   "outputs": [],
   "source": [
    "print(degrees_of_freedom(m))"
   ]
  },
  {
   "cell_type": "code",
   "execution_count": null,
   "metadata": {
    "tags": [
     "testing",
     "remove_cell"
    ]
   },
   "outputs": [],
   "source": [
    "# Check the degrees of freedom\n",
    "assert degrees_of_freedom(m) == 35"
   ]
  },
  {
   "cell_type": "markdown",
   "metadata": {},
   "source": [
    "We will now be fixing the feed stream to the conditions shown in the flowsheet above. As mentioned in other tutorials, the IDAES framework expects a time index value for every referenced internal stream or unit variable, even in steady-state systems with a single time point $ t = 0 $ (`t = [0]` is the default when creating a `FlowsheetBlock` without passing a `time_set` argument). The non-present components in each stream are assigned a very small non-zero value to help with convergence and initializing. Based on stoichiometric ratios for the reaction, 80% conversion and 200 MM lb/year (46.4 mol/s) of ethylene glycol, we will initialize our simulation with the following calculated values:"
   ]
  },
  {
   "cell_type": "code",
   "execution_count": null,
   "metadata": {},
   "outputs": [],
   "source": [
    "m.fs.OXIDE.outlet.flow_mol_phase_comp[0, \"Liq\", \"ethylene_oxide\"].fix(58.0*pyunits.mol/pyunits.s)\n",
    "m.fs.OXIDE.outlet.flow_mol_phase_comp[0, \"Liq\", \"water\"].fix(39.6*pyunits.mol/pyunits.s)  # calculated from 16.1 mol EO / cudm in stream\n",
    "m.fs.OXIDE.outlet.flow_mol_phase_comp[0, \"Liq\", \"sulfuric_acid\"].fix(1e-5*pyunits.mol/pyunits.s)\n",
    "m.fs.OXIDE.outlet.flow_mol_phase_comp[0, \"Liq\", \"ethylene_glycol\"].fix(1e-5*pyunits.mol/pyunits.s)\n",
    "m.fs.OXIDE.outlet.temperature.fix(298.15*pyunits.K)\n",
    "m.fs.OXIDE.outlet.pressure.fix(1e5*pyunits.Pa)\n",
    "\n",
    "m.fs.ACID.outlet.flow_mol_phase_comp[0, \"Liq\", \"ethylene_oxide\"].fix(1e-5*pyunits.mol/pyunits.s)\n",
    "m.fs.ACID.outlet.flow_mol_phase_comp[0, \"Liq\", \"water\"].fix(200*pyunits.mol/pyunits.s)\n",
    "m.fs.ACID.outlet.flow_mol_phase_comp[0, \"Liq\", \"sulfuric_acid\"].fix(0.334*pyunits.mol/pyunits.s)  # calculated from 0.9 wt% SA in stream\n",
    "m.fs.ACID.outlet.flow_mol_phase_comp[0, \"Liq\", \"ethylene_glycol\"].fix(1e-5*pyunits.mol/pyunits.s)\n",
    "m.fs.ACID.outlet.temperature.fix(298.15*pyunits.K)\n",
    "m.fs.ACID.outlet.pressure.fix(1e5*pyunits.Pa)"
   ]
  },
  {
   "cell_type": "markdown",
   "metadata": {},
   "source": [
    "## Fixing Unit Model Specifications\n",
    "\n",
    "Now that we have fixed our inlet feed conditions, we will now be fixing the operating conditions for the unit models in the flowsheet. Let us fix the outlet temperature of H101 to 328.15 K. "
   ]
  },
  {
   "cell_type": "code",
   "execution_count": null,
   "metadata": {},
   "outputs": [],
   "source": [
    "m.fs.H101.outlet.temperature.fix(328.15*pyunits.K)"
   ]
  },
  {
   "cell_type": "markdown",
   "metadata": {},
   "source": [
    "For the `PFR`, we have to define the conversion in terms of ethylene oxide. Note that the `PFR` reaction volume variable (m.fs.R101.volume) does not need to be defined here since it is internally defined by the `PFR` model. We'll estimate 50% conversion for our initial flowsheet:"
   ]
  },
  {
   "cell_type": "code",
   "execution_count": null,
   "metadata": {
    "scrolled": false
   },
   "outputs": [],
   "source": [
    "m.fs.R101.conversion = Var(bounds=(0,1), initialize=0.80, units=pyunits.dimensionless)  # fraction\n",
    "\n",
    "m.fs.R101.conv_constraint = Constraint(\n",
    "    expr=m.fs.R101.conversion*m.fs.R101.inlet.\n",
    "    flow_mol_phase_comp[0, \"Liq\", \"ethylene_oxide\"] ==\n",
    "    (m.fs.R101.inlet.flow_mol_phase_comp[0, \"Liq\", \"ethylene_oxide\"] -\n",
    "     m.fs.R101.outlet.flow_mol_phase_comp[0, \"Liq\", \"ethylene_oxide\"]))\n",
    "\n",
    "for x in m.fs.R101.control_volume.length_domain:\n",
    "    if x == 0:\n",
    "        continue\n",
    "    m.fs.R101.control_volume.properties[0, x].temperature.fix(328.15*pyunits.K) # equal inlet reactor temperature\n",
    "\n",
    "m.fs.R101.conversion.fix(0.5)\n",
    "\n",
    "m.fs.R101.length.fix(1*pyunits.m)"
   ]
  },
  {
   "cell_type": "markdown",
   "metadata": {},
   "source": [
    "As we did not place a specification on reactor duty, the solver may try positive values to increase the reaction temperature and rate. To prevent the optimization from diverging, we need to set an upper bound restricting heat flow to cooling only:"
   ]
  },
  {
   "cell_type": "code",
   "execution_count": null,
   "metadata": {},
   "outputs": [],
   "source": [
    "m.fs.R101.heat_duty.setub(0*pyunits.J/pyunits.s)  # heat duty is only used for cooling"
   ]
  },
  {
   "cell_type": "markdown",
   "metadata": {},
   "source": [
    "For initialization, we solve a square problem (degrees of freedom = 0). Let's check the degrees of freedom below:"
   ]
  },
  {
   "cell_type": "code",
   "execution_count": null,
   "metadata": {},
   "outputs": [],
   "source": [
    "print(degrees_of_freedom(m))"
   ]
  },
  {
   "cell_type": "code",
   "execution_count": null,
   "metadata": {
    "tags": [
     "testing",
     "remove_cell"
    ]
   },
   "outputs": [],
   "source": [
    "# Check the degrees of freedom\n",
    "assert degrees_of_freedom(m) == 0"
   ]
  },
  {
   "cell_type": "markdown",
   "metadata": {},
   "source": [
    "Finally, we need to initialize the each unit operation in sequence to solve the flowsheet. As in best practice, unit operations are initialized or solved, and outlet properties are propagated to connected inlet streams via arc definitions as follows:"
   ]
  },
  {
   "cell_type": "code",
   "execution_count": null,
   "metadata": {},
   "outputs": [],
   "source": [
    "# Initialize and solve each unit operation\n",
    "m.fs.OXIDE.initialize()\n",
    "propagate_state(arc=m.fs.s01)\n",
    "\n",
    "m.fs.ACID.initialize()\n",
    "propagate_state(arc=m.fs.s01)\n",
    "\n",
    "m.fs.M101.initialize()\n",
    "propagate_state(arc=m.fs.s03)\n",
    "\n",
    "m.fs.H101.initialize()\n",
    "propagate_state(arc=m.fs.s04)\n",
    "\n",
    "m.fs.R101.initialize()\n",
    "propagate_state(arc=m.fs.s05)\n",
    "\n",
    "m.fs.PROD.initialize()\n",
    "\n",
    "# set solver\n",
    "solver = get_solver()"
   ]
  },
  {
   "cell_type": "code",
   "execution_count": null,
   "metadata": {
    "scrolled": true
   },
   "outputs": [],
   "source": [
    "# Solve the model\n",
    "results = solver.solve(m, tee=True)"
   ]
  },
  {
   "cell_type": "code",
   "execution_count": null,
   "metadata": {
    "tags": [
     "testing",
     "remove_cell"
    ]
   },
   "outputs": [],
   "source": [
    "# Check solver solve status\n",
    "from pyomo.environ import TerminationCondition\n",
    "assert results.solver.termination_condition == TerminationCondition.optimal"
   ]
  },
  {
   "cell_type": "markdown",
   "metadata": {},
   "source": [
    "## Analyze the Results of the Square Problem\n",
    "\n",
    "\n",
    "What is the total operating cost? "
   ]
  },
  {
   "cell_type": "code",
   "execution_count": null,
   "metadata": {},
   "outputs": [],
   "source": [
    "print(f\"operating cost = ${value(m.fs.operating_cost)/1e6:0.3f} million per year\")"
   ]
  },
  {
   "cell_type": "code",
   "execution_count": null,
   "metadata": {
    "tags": [
     "testing",
     "remove_cell"
    ]
   },
   "outputs": [],
   "source": [
    "import pytest\n",
    "assert value(m.fs.operating_cost)/1E6 == pytest.approx(43.175798, abs=1e-3)"
   ]
  },
  {
   "cell_type": "markdown",
   "metadata": {},
   "source": [
    "For this operating cost, what conversion did we achieve of ethylene oxide to ethylene glycol? "
   ]
  },
  {
   "cell_type": "code",
   "execution_count": null,
   "metadata": {},
   "outputs": [],
   "source": [
    "m.fs.R101.report()\n",
    "\n",
    "print()\n",
    "print(f\"Conversion achieved = {value(m.fs.R101.conversion):.1%}\")\n",
    "print()\n",
    "print(f\"Total heat duty required = \"\n",
    "      f\"{value(sum(m.fs.R101.heat_duty[0, x] for x in m.fs.R101.control_volume.length_domain))/1e6:0.3f}\"\n",
    "      f\" MJ\")\n",
    "print()\n",
    "print(f\"Tube area required = {value(m.fs.R101.area):0.3f} m^2\")\n",
    "print()\n",
    "print(f\"Tube length required = {value(m.fs.R101.length):0.3f} m\")\n",
    "print()\n",
    "print(f\"Tube volume required = {value(m.fs.R101.volume):0.3f} m^3\")"
   ]
  },
  {
   "cell_type": "code",
   "execution_count": null,
   "metadata": {
    "tags": [
     "testing",
     "remove_cell"
    ]
   },
   "outputs": [],
   "source": [
    "assert value(m.fs.R101.conversion) == pytest.approx(0.5000, abs=1e-3)\n",
    "assert value(m.fs.R101.area) == pytest.approx(1.1490, abs=1e-3)\n",
    "assert value(sum(m.fs.R101.heat_duty[0, x] \n",
    "                 for x in m.fs.R101.control_volume.length_domain))/1e6 == pytest.approx(-70.708, abs=1e-3)\n",
    "assert value(m.fs.R101.outlet.temperature[0])/1E2 == pytest.approx(3.2815, abs=1e-3)"
   ]
  },
  {
   "cell_type": "markdown",
   "metadata": {},
   "source": [
    "## Optimizing Ethylene Glycol Production\n",
    "\n",
    "Now that the flowsheet has been squared and solved, we can run a small optimization problem to minimize our production costs. Suppose we require at least 200 million pounds/year of ethylene glycol produced and 90% conversion of ethylene oxide, allowing for variable reactor volume (considering operating/non-capital costs only) and reactor temperature (heater outlet)."
   ]
  },
  {
   "cell_type": "markdown",
   "metadata": {},
   "source": [
    "Let us declare our objective function for this problem. "
   ]
  },
  {
   "cell_type": "code",
   "execution_count": null,
   "metadata": {},
   "outputs": [],
   "source": [
    "m.fs.objective = Objective(expr=m.fs.operating_cost)"
   ]
  },
  {
   "cell_type": "markdown",
   "metadata": {},
   "source": [
    "Now, we need to add the design constraints and unfix the decision variables as we had solved a square problem (degrees of freedom = 0) until now, as well as set bounds for the design variables:"
   ]
  },
  {
   "cell_type": "code",
   "execution_count": null,
   "metadata": {},
   "outputs": [],
   "source": [
    "m.fs.eg_prod_con = Constraint(expr=m.fs.eg_prod >= 200*pyunits.Mlb/pyunits.yr)  # MM lb/year\n",
    "m.fs.R101.conversion.fix(0.90)\n",
    "\n",
    "m.fs.R101.volume.setlb(0*pyunits.m**3)\n",
    "m.fs.R101.volume.setub(pyunits.convert(5000*pyunits.gal, to_units=pyunits.m**3))\n",
    "\n",
    "m.fs.R101.length.unfix()\n",
    "m.fs.R101.length.setlb(0*pyunits.m)\n",
    "m.fs.R101.length.setub(5*pyunits.m)\n",
    "\n",
    "m.fs.H101.outlet.temperature.unfix()\n",
    "m.fs.H101.outlet.temperature[0].setlb(328.15*pyunits.K)\n",
    "m.fs.H101.outlet.temperature[0].setub(470.45*pyunits.K)  # highest component boiling point (ethylene glycol)\n",
    "\n",
    "for x in m.fs.R101.control_volume.length_domain:\n",
    "    if x == 0:\n",
    "        continue\n",
    "    m.fs.R101.control_volume.properties[0, x].temperature.unfix()  # allow for temperature change in each finite element"
   ]
  },
  {
   "cell_type": "code",
   "execution_count": null,
   "metadata": {
    "tags": [
     "testing",
     "remove_cell"
    ]
   },
   "outputs": [],
   "source": [
    "assert degrees_of_freedom(m) == 22  # 2 unit variables and 20 finite element variables"
   ]
  },
  {
   "cell_type": "markdown",
   "metadata": {},
   "source": [
    "\n",
    "We have now defined the optimization problem and we are now ready to solve this problem. \n",
    "\n",
    "\n"
   ]
  },
  {
   "cell_type": "code",
   "execution_count": null,
   "metadata": {
    "scrolled": true
   },
   "outputs": [],
   "source": [
    "results = solver.solve(m, tee=True)"
   ]
  },
  {
   "cell_type": "code",
   "execution_count": null,
   "metadata": {
    "tags": [
     "testing",
     "remove_cell"
    ]
   },
   "outputs": [],
   "source": [
    "# Check for solver solve status\n",
    "from pyomo.environ import TerminationCondition\n",
    "assert results.solver.termination_condition == TerminationCondition.optimal"
   ]
  },
  {
   "cell_type": "code",
   "execution_count": null,
   "metadata": {},
   "outputs": [],
   "source": [
    "print(f\"operating cost = ${value(m.fs.operating_cost)/1e6:0.3f} million per year\")\n",
    "\n",
    "print()\n",
    "print('Heater results')\n",
    "\n",
    "m.fs.H101.report()\n",
    "\n",
    "print()\n",
    "print('PFR reactor results')\n",
    "\n",
    "m.fs.R101.report()"
   ]
  },
  {
   "cell_type": "code",
   "execution_count": null,
   "metadata": {
    "tags": [
     "testing",
     "remove_cell"
    ]
   },
   "outputs": [],
   "source": [
    "assert value(m.fs.operating_cost)/1E6 == pytest.approx(15.538911, abs=1e-3)\n",
    "assert value(m.fs.R101.area) == pytest.approx(2.7874, abs=1e-3)"
   ]
  },
  {
   "cell_type": "markdown",
   "metadata": {},
   "source": [
    "Display optimal values for the decision variables and design variables:"
   ]
  },
  {
   "cell_type": "code",
   "execution_count": null,
   "metadata": {},
   "outputs": [],
   "source": [
    "print('Optimal Values')\n",
    "print()\n",
    "\n",
    "print(f\"H101 outlet temperature = {value(m.fs.H101.outlet.temperature[0]):0.3f} K\")\n",
    "\n",
    "print()\n",
    "print('Total heat duty required = ', value(sum(m.fs.R101.heat_duty[0, x]\n",
    "                                                     for x in m.fs.R101.control_volume.length_domain))/1e6, 'MJ')\n",
    "print()\n",
    "print(f\"Tube area required = {value(m.fs.R101.area):0.3f} m^2\")\n",
    "\n",
    "print()\n",
    "print(f\"Tube length required = {value(m.fs.R101.length):0.3f} m\")\n",
    "\n",
    "print()\n",
    "print(f\"Assuming a 20% design factor for reactor volume,\"\n",
    "      f\"total CSTR volume required = {value(1.2*m.fs.R101.volume):0.3f}\"\n",
    "      f\" m^3 = {value(pyunits.convert(1.2*m.fs.R101.volume, to_units=pyunits.gal)):0.3f} gal\")\n",
    "\n",
    "print()\n",
    "print(f\"Ethylene glycol produced = {value(m.fs.eg_prod):0.3f} MM lb/year\")\n",
    "\n",
    "print()\n",
    "print(f\"Conversion achieved = {value(m.fs.R101.conversion):.1%}\")"
   ]
  },
  {
   "cell_type": "code",
   "execution_count": null,
   "metadata": {
    "tags": [
     "testing",
     "remove_cell"
    ]
   },
   "outputs": [],
   "source": [
    "assert value(m.fs.H101.outlet.temperature[0])/100 == pytest.approx(3.2815, abs=1e-3)\n",
    "assert value(sum(m.fs.R101.heat_duty[0, x] \n",
    "                 for x in m.fs.R101.control_volume.length_domain))/1e6 == pytest.approx(-25.443, abs=1e-3)\n",
    "assert value(m.fs.R101.area) == pytest.approx(2.7874, abs=1e-3)\n",
    "assert value(m.fs.R101.control_volume.length) == pytest.approx(5.000, abs=1e-3)\n",
    "assert value(m.fs.R101.volume*1.2) == pytest.approx(16.725, abs=1e-3)\n",
    "assert value(m.fs.eg_prod) == pytest.approx(225.415, abs=1e-3)\n",
    "assert value(m.fs.R101.conversion)*100 == pytest.approx(90.000, abs=1e-3)"
   ]
  },
  {
   "cell_type": "code",
   "execution_count": null,
   "metadata": {},
   "outputs": [],
   "source": []
  }
 ],
 "metadata": {
  "celltoolbar": "Tags",
  "kernelspec": {
   "display_name": "Python 3 (ipykernel)",
   "language": "python",
   "name": "python3"
  },
  "language_info": {
   "codemirror_mode": {
    "name": "ipython",
    "version": 3
   },
   "file_extension": ".py",
   "mimetype": "text/x-python",
   "name": "python",
   "nbconvert_exporter": "python",
   "pygments_lexer": "ipython3",
   "version": "3.9.12"
  }
 },
 "nbformat": 4,
 "nbformat_minor": 4
}
