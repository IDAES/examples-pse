{
 "cells": [
  {
   "cell_type": "markdown",
   "metadata": {},
   "source": [
    "\n",
    "# Flowsheet Gibbs Reactor Simulation and Optimization of Steam Methane Reforming\n",
    "\n",
    "\n",
    "## Learning outcomes\n",
    "\n",
    "\n",
    "- Call and implement the IDAES GibbsReactor unit model\n",
    "- Construct a steady-state flowsheet using the IDAES unit model library\n",
    "- Connecting unit models in a flowsheet using Arcs\n",
    "- Fomulate and solve an optimization problem\n",
    "    - Defining an objective function\n",
    "    - Setting variable bounds\n",
    "    - Adding additional constraints \n",
    "\n",
    "\n",
    "## Problem Statement\n",
    "\n",
    "Following the previous example of [Steam Methane Reformation in an Equilibrium Reactor](../../../Examples/UnitModels/Reactors/equilibrium_reactor.ipynb), this example solves the flowsheet using a Gibbs Reactor instead. The steam methane reformation example is adapted from S.Z. Abbas, V. Dupont, T. Mahmud, Kinetics study and modelling of steam methane reforming process over a NiO/Al2O3 catalyst in an adiabatic packed bed reactor. Int. J. Hydrogen Energy, 42 (2017), pp. 2889-2903. Typically, the process follows the chemical equations below:\n",
    "\n",
    "**CH<sub>4</sub> + H<sub>2</sub>O → CO + 3H<sub>2</sub>**  \n",
    "**CO + H<sub>2</sub>O → CO<sub>2</sub> + H<sub>2</sub>**\n",
    "\n",
    "However, the GibbsReactor unit model solves the equilibrium by minimizing Gibbs free energy. Conveniently, this eliminates the need for a reaction package although a thermophysical package is still required.\n",
    "\n",
    "The flowsheet that we will be using for this module is shown below with the stream conditions. As in the prior example, we will be processing natural gas and steam feeds of fixed composition to produce hydrogen. The process consists of a mixer M101 for the two inlet streams, a compressor to compress the feed to the reaction pressure, a heater H101 to heat the feed to the reaction temperature, and a GibbsReactor unit R101. We will use thermophysical properties following the Peng-Robinsion cubic equation of state for this flowsheet.\n",
    "\n",
    "The state variables chosen for the property package are **total molar flows of each stream, temperature of each stream and pressure of each stream, and mole fractions of each component in each stream**. The components considered are: **CH<sub>4</sub>, H<sub>2</sub>O, CO, CO<sub>2</sub>, and H<sub>2</sub>** and the process occurs in vapor phase only. Therefore, every stream has 1 flow variable, 5 mole fraction variables, 1 temperature and 1 pressure variable. \n",
    "\n",
    "![](msr_flowsheet.png)\n",
    "\n"
   ]
  },
  {
   "cell_type": "markdown",
   "metadata": {},
   "source": [
    "## Importing required Pyomo and IDAES components\n",
    "\n",
    "\n",
    "To construct a flowsheet, we will need several components from the Pyomo and Idaes packages, as well as some utility tools to build the flowsheet. For further details on these components, please refer to the [Pyomo documentation]( https://pyomo.readthedocs.io/en/latest/).\n",
    "\n",
    "From idaes, we will be needing the FlowsheetBlock and the following unit models:\n",
    "- Feed\n",
    "- Mixer\n",
    "- Compressor\n",
    "- Heater\n",
    "- GibbsReactor\n",
    "- Product"
   ]
  },
  {
   "cell_type": "code",
   "execution_count": 1,
   "metadata": {},
   "outputs": [],
   "source": [
    "from pyomo.environ import (Constraint,\n",
    "                           Var,\n",
    "                           ConcreteModel,\n",
    "                           Expression,\n",
    "                           Objective,\n",
    "                           TransformationFactory,\n",
    "                           value,\n",
    "                           units as pyunits)\n",
    "from pyomo.network import Arc\n",
    "\n",
    "from idaes.core import FlowsheetBlock\n",
    "from idaes.models.properties.modular_properties.base.generic_property import (\n",
    "        GenericParameterBlock)\n",
    "from idaes.models.unit_models import (Feed,\n",
    "                                      Mixer,\n",
    "                                      Compressor,\n",
    "                                      Heater,\n",
    "                                      GibbsReactor,\n",
    "                                      Product)\n",
    "\n",
    "from idaes.core.solvers import get_solver\n",
    "from idaes.core.util.model_statistics import degrees_of_freedom\n",
    "from idaes.core.util.initialization import propagate_state"
   ]
  },
  {
   "cell_type": "markdown",
   "metadata": {},
   "source": [
    "## Importing required thermophysical package\n",
    "\n",
    "As mentioned earlier, the GibbsReactor does not require a reaction package.\n",
    "\n",
    "Let us import the following module from the IDAES library:\n",
    "- natural_gas_PR as get_prop (method to get configuration dictionary)"
   ]
  },
  {
   "cell_type": "code",
   "execution_count": 2,
   "metadata": {},
   "outputs": [],
   "source": [
    "from idaes.models_extra.power_generation.properties.natural_gas_PR import get_prop"
   ]
  },
  {
   "cell_type": "markdown",
   "metadata": {},
   "source": [
    "## Constructing the Flowsheet\n",
    "\n",
    "Let us create a ConcreteModel and add the flowsheet block. "
   ]
  },
  {
   "cell_type": "code",
   "execution_count": 3,
   "metadata": {},
   "outputs": [],
   "source": [
    "m = ConcreteModel()\n",
    "m.fs = FlowsheetBlock(default={\"dynamic\": False})"
   ]
  },
  {
   "cell_type": "markdown",
   "metadata": {},
   "source": [
    "We now need to add the property packages to the flowsheet. Unlike the previous example, we do not need to add a reaction package for the reactor model to calculate results. We will use the [Modular Property Framework](https://idaes-pse.readthedocs.io/en/stable/explanations/components/property_package/index.html#generic-property-package-framework) to build a state block for the parameter dictionary."
   ]
  },
  {
   "cell_type": "code",
   "execution_count": 4,
   "metadata": {
    "scrolled": true
   },
   "outputs": [],
   "source": [
    "thermo_props_config_dict = get_prop(components=[\"CH4\", \"H2O\", \"H2\", \"CO\", \"CO2\"])\n",
    "m.fs.thermo_params = GenericParameterBlock(default=thermo_props_config_dict)"
   ]
  },
  {
   "cell_type": "markdown",
   "metadata": {},
   "source": [
    "## Adding Unit Models\n",
    "\n",
    "Let us start adding the unit models we have imported to the flowsheet:"
   ]
  },
  {
   "cell_type": "code",
   "execution_count": 5,
   "metadata": {
    "scrolled": true
   },
   "outputs": [],
   "source": [
    "m.fs.CH4 = Feed(default={\"property_package\": m.fs.thermo_params})\n",
    "m.fs.H2O = Feed(default={\"property_package\": m.fs.thermo_params})\n",
    "m.fs.PROD = Product(default={\"property_package\": m.fs.thermo_params})\n",
    "m.fs.M101 = Mixer(default={\"property_package\": m.fs.thermo_params,\n",
    "                           \"inlet_list\": [\"methane_feed\", \"steam_feed\"]})\n",
    "m.fs.H101 = Heater(default={\"property_package\": m.fs.thermo_params,\n",
    "                            \"has_pressure_change\": False,\n",
    "                            \"has_phase_equilibrium\": False})\n",
    "m.fs.C101 = Compressor(default={\"property_package\": m.fs.thermo_params})"
   ]
  },
  {
   "cell_type": "code",
   "execution_count": 6,
   "metadata": {
    "scrolled": false
   },
   "outputs": [],
   "source": [
    "m.fs.R101 = GibbsReactor(\n",
    "            default={\"property_package\": m.fs.thermo_params,\n",
    "                     \"has_heat_transfer\": True,\n",
    "                     \"has_pressure_change\": False})"
   ]
  },
  {
   "cell_type": "markdown",
   "metadata": {},
   "source": [
    "## Connecting Unit Models using Arcs\n",
    "\n",
    "We have now added all the unit models we need to the flowsheet. Let us connect the unit models by defining and building the Arcs:"
   ]
  },
  {
   "cell_type": "code",
   "execution_count": 7,
   "metadata": {},
   "outputs": [],
   "source": [
    "m.fs.s01 = Arc(source=m.fs.CH4.outlet, destination=m.fs.M101.methane_feed)\n",
    "m.fs.s02 = Arc(source=m.fs.H2O.outlet, destination=m.fs.M101.steam_feed)\n",
    "m.fs.s03 = Arc(source=m.fs.M101.outlet, destination=m.fs.C101.inlet)\n",
    "m.fs.s04 = Arc(source=m.fs.C101.outlet, destination=m.fs.H101.inlet)\n",
    "m.fs.s05 = Arc(source=m.fs.H101.outlet, destination=m.fs.R101.inlet)\n",
    "m.fs.s06 = Arc(source=m.fs.R101.outlet, destination=m.fs.PROD.inlet)"
   ]
  },
  {
   "cell_type": "markdown",
   "metadata": {},
   "source": [
    "Finally, we can use Pyomo's `TransformationFactory` to write the equality constraints on each Arc:"
   ]
  },
  {
   "cell_type": "code",
   "execution_count": 8,
   "metadata": {},
   "outputs": [],
   "source": [
    "TransformationFactory(\"network.expand_arcs\").apply_to(m)"
   ]
  },
  {
   "cell_type": "markdown",
   "metadata": {},
   "source": [
    "## Adding expressions to compute operating costs\n",
    "\n",
    "For this flowsheet, we are interested in computing hydrogen production in millions of pounds per year, as well as the total costs due to pressurizing, cooling and heating utilities:"
   ]
  },
  {
   "cell_type": "markdown",
   "metadata": {},
   "source": [
    "Let us add Expressions to convert the product flow from mol/s to MM lb/year of hydrogen, and to calculate the cooling, heating and compression operating costs. The total operating cost will be the sum of the costs, expressed in \\\\$/year assuming 8000 operating hours per year (~10\\% downtime, which is fairly common for small scale chemical plants):"
   ]
  },
  {
   "cell_type": "code",
   "execution_count": 9,
   "metadata": {},
   "outputs": [],
   "source": [
    "m.fs.hyd_prod = Expression(expr=pyunits.convert(m.fs.PROD.inlet.flow_mol[0]*m.fs.PROD.inlet.mole_frac_comp[0, \"H2\"]\n",
    "                                                *m.fs.thermo_params.H2.mw, # MW defined in properties as kg/mol\n",
    "                                                to_units=pyunits.Mlb/pyunits.yr)) # converting kg/s to MM lb/year"
   ]
  },
  {
   "cell_type": "code",
   "execution_count": 10,
   "metadata": {},
   "outputs": [],
   "source": [
    "m.fs.cooling_cost = Expression(expr=0.212e-7 * (m.fs.R101.heat_duty[0]))  # the reaction is endothermic, so R101 duty is positive\n",
    "m.fs.heating_cost = Expression(expr=2.2e-7 * m.fs.H101.heat_duty[0])  # the stream must be heated to T_rxn, so H101 duty is positive\n",
    "m.fs.compression_cost = Expression(expr=0.12E-5 * m.fs.C101.work_isentropic[0]) # the stream must be pressurized, so the C101 work is positive\n",
    "m.fs.operating_cost = Expression(expr=(3600 * 8000 *(m.fs.heating_cost + m.fs.cooling_cost + m.fs.compression_cost)))"
   ]
  },
  {
   "cell_type": "markdown",
   "metadata": {},
   "source": [
    "## Fixing feed conditions\n",
    "\n",
    "We expect each stream to have 8 degrees of freedom, the mixer to have 0 (after both streams are accounted for), the compressor to have 2 (the pressure change and efficiency), the heater to have 1 (just the duty, since the inlet is also the outlet of M101), and the reactor to have 1 (conversion). Therefore, we have 20 degrees of freedom to specify: temperature, pressure, flow and mole fractions of all five components on both streams; compressor pressure change and efficiency; outlet heater temperature; and reactor conversion."
   ]
  },
  {
   "cell_type": "code",
   "execution_count": 11,
   "metadata": {
    "scrolled": true
   },
   "outputs": [
    {
     "name": "stdout",
     "output_type": "stream",
     "text": [
      "20\n"
     ]
    }
   ],
   "source": [
    "print(degrees_of_freedom(m))"
   ]
  },
  {
   "cell_type": "code",
   "execution_count": 12,
   "metadata": {
    "tags": [
     "testing",
     "remove_cell"
    ]
   },
   "outputs": [],
   "source": [
    "# Check the degrees of freedom\n",
    "assert degrees_of_freedom(m) == 20"
   ]
  },
  {
   "cell_type": "markdown",
   "metadata": {},
   "source": [
    "Based the literature source, we will initialize our simulation with the following values:"
   ]
  },
  {
   "cell_type": "code",
   "execution_count": 13,
   "metadata": {},
   "outputs": [],
   "source": [
    "m.fs.CH4.outlet.mole_frac_comp[0, \"CH4\"].fix(1)\n",
    "m.fs.CH4.outlet.mole_frac_comp[0, \"H2O\"].fix(1E-5)\n",
    "m.fs.CH4.outlet.mole_frac_comp[0, \"H2\"].fix(1E-5)\n",
    "m.fs.CH4.outlet.mole_frac_comp[0, \"CO\"].fix(1E-5)\n",
    "m.fs.CH4.outlet.mole_frac_comp[0, \"CO2\"].fix(1E-5)\n",
    "m.fs.CH4.outlet.flow_mol.fix(75*pyunits.mol/pyunits.s)\n",
    "m.fs.CH4.outlet.temperature.fix(298.15*pyunits.K)\n",
    "m.fs.CH4.outlet.pressure.fix(1e5*pyunits.Pa)\n",
    "\n",
    "m.fs.H2O.outlet.mole_frac_comp[0, \"CH4\"].fix(1E-5)\n",
    "m.fs.H2O.outlet.mole_frac_comp[0, \"H2O\"].fix(1)\n",
    "m.fs.H2O.outlet.mole_frac_comp[0, \"H2\"].fix(1E-5)\n",
    "m.fs.H2O.outlet.mole_frac_comp[0, \"CO\"].fix(1E-5)\n",
    "m.fs.H2O.outlet.mole_frac_comp[0, \"CO2\"].fix(1E-5)\n",
    "m.fs.H2O.outlet.flow_mol.fix(234*pyunits.mol/pyunits.s)\n",
    "m.fs.H2O.outlet.temperature.fix(373.15*pyunits.K)\n",
    "m.fs.H2O.outlet.pressure.fix(1e5*pyunits.Pa)"
   ]
  },
  {
   "cell_type": "markdown",
   "metadata": {},
   "source": [
    "## Fixing unit model specifications\n",
    "\n",
    "For the initial problem, let us fix the compressor outlet pressure to 2 bar for now, the efficiency to 0.90 (a common assumption for compressor units), and the heater outlet temperature to 500 K. We will unfix these values later to optimize the flowsheet."
   ]
  },
  {
   "cell_type": "code",
   "execution_count": 14,
   "metadata": {},
   "outputs": [],
   "source": [
    "m.fs.C101.outlet.pressure.fix(pyunits.convert(2*pyunits.bar, to_units=pyunits.Pa))\n",
    "m.fs.C101.efficiency_isentropic.fix(0.90)\n",
    "m.fs.H101.outlet.temperature.fix(500*pyunits.K)"
   ]
  },
  {
   "cell_type": "markdown",
   "metadata": {},
   "source": [
    "The GibbsReactor unit model calculates the amount of product and reactant based on the free energy minimization; therefore, we will specify a desired conversion and let the solver determine the reactor duty and heat transfer. For convenience, we will define the reactor conversion as the amount of methane that is converted."
   ]
  },
  {
   "cell_type": "code",
   "execution_count": 15,
   "metadata": {},
   "outputs": [],
   "source": [
    "m.fs.R101.conversion = Var(initialize=0.80, bounds=(0, 1), units=pyunits.dimensionless)  # fraction\n",
    "\n",
    "m.fs.R101.conv_constraint = Constraint(\n",
    "    expr=m.fs.R101.conversion*m.fs.R101.inlet.flow_mol[0]*\n",
    "    m.fs.R101.inlet.mole_frac_comp[0, \"CH4\"] ==\n",
    "    (m.fs.R101.inlet.flow_mol[0]*m.fs.R101.inlet.mole_frac_comp[0, \"CH4\"] -\n",
    "     m.fs.R101.outlet.flow_mol[0]*m.fs.R101.outlet.mole_frac_comp[0, \"CH4\"]))\n",
    "\n",
    "m.fs.R101.conversion.fix(0.80)"
   ]
  },
  {
   "cell_type": "code",
   "execution_count": 16,
   "metadata": {},
   "outputs": [
    {
     "name": "stdout",
     "output_type": "stream",
     "text": [
      "0\n"
     ]
    }
   ],
   "source": [
    "print(degrees_of_freedom(m))"
   ]
  },
  {
   "cell_type": "code",
   "execution_count": 17,
   "metadata": {
    "tags": [
     "testing",
     "remove_cell"
    ]
   },
   "outputs": [],
   "source": [
    "# Check the degrees of freedom\n",
    "assert degrees_of_freedom(m) == 0"
   ]
  },
  {
   "cell_type": "markdown",
   "metadata": {},
   "source": [
    "Finally, we need to initialize the each unit operation and propagate the outlet results in sequence to solve the flowsheet:"
   ]
  },
  {
   "cell_type": "code",
   "execution_count": 18,
   "metadata": {},
   "outputs": [
    {
     "name": "stdout",
     "output_type": "stream",
     "text": [
      "2022-06-01 09:50:44 [INFO] idaes.init.fs.CH4.properties: Starting initialization\n",
      "2022-06-01 09:50:45 [INFO] idaes.init.fs.CH4.properties: Property initialization: optimal - Optimal Solution Found.\n",
      "2022-06-01 09:50:45 [INFO] idaes.init.fs.CH4.properties: Property package initialization: optimal - Optimal Solution Found.\n",
      "2022-06-01 09:50:45 [INFO] idaes.init.fs.CH4: Initialization Complete.\n",
      "2022-06-01 09:50:45 [INFO] idaes.init.fs.H2O.properties: Starting initialization\n",
      "2022-06-01 09:50:45 [INFO] idaes.init.fs.H2O.properties: Property initialization: optimal - Optimal Solution Found.\n",
      "2022-06-01 09:50:45 [INFO] idaes.init.fs.H2O.properties: Property package initialization: optimal - Optimal Solution Found.\n",
      "2022-06-01 09:50:45 [INFO] idaes.init.fs.H2O: Initialization Complete.\n",
      "2022-06-01 09:50:45 [INFO] idaes.init.fs.M101.methane_feed_state: Starting initialization\n",
      "2022-06-01 09:50:45 [INFO] idaes.init.fs.M101.methane_feed_state: Property initialization: optimal - Optimal Solution Found.\n",
      "2022-06-01 09:50:45 [INFO] idaes.init.fs.M101.steam_feed_state: Starting initialization\n",
      "2022-06-01 09:50:45 [INFO] idaes.init.fs.M101.steam_feed_state: Property initialization: optimal - Optimal Solution Found.\n",
      "2022-06-01 09:50:45 [INFO] idaes.init.fs.M101.mixed_state: Starting initialization\n",
      "2022-06-01 09:50:45 [INFO] idaes.init.fs.M101.mixed_state: Property initialization: optimal - Optimal Solution Found.\n",
      "2022-06-01 09:50:45 [INFO] idaes.init.fs.M101.mixed_state: Property package initialization: optimal - Optimal Solution Found.\n",
      "2022-06-01 09:50:47 [INFO] idaes.init.fs.M101: Initialization Complete: optimal - Optimal Solution Found\n",
      "2022-06-01 09:50:47 [INFO] idaes.init.fs.C101.control_volume.properties_in: Starting initialization\n",
      "2022-06-01 09:50:47 [INFO] idaes.init.fs.C101.control_volume.properties_in: Property initialization: optimal - Optimal Solution Found.\n",
      "2022-06-01 09:50:47 [INFO] idaes.init.fs.C101.control_volume.properties_out: Starting initialization\n",
      "2022-06-01 09:50:47 [INFO] idaes.init.fs.C101.control_volume.properties_out: Property initialization: optimal - Optimal Solution Found.\n",
      "2022-06-01 09:50:47 [INFO] idaes.init.fs.C101.control_volume.properties_out: Property package initialization: optimal - Optimal Solution Found.\n",
      "2022-06-01 09:50:47 [INFO] idaes.init.fs.C101.properties_isentropic: Starting initialization\n",
      "2022-06-01 09:50:47 [INFO] idaes.init.fs.C101.properties_isentropic: Property initialization: optimal - Optimal Solution Found.\n",
      "2022-06-01 09:50:47 [INFO] idaes.init.fs.C101.properties_isentropic: Property package initialization: optimal - Optimal Solution Found.\n",
      "2022-06-01 09:50:52 [INFO] idaes.init.fs.C101: Initialization Complete: optimal - Optimal Solution Found\n",
      "2022-06-01 09:50:52 [INFO] idaes.init.fs.H101.control_volume.properties_in: Starting initialization\n",
      "2022-06-01 09:50:52 [INFO] idaes.init.fs.H101.control_volume.properties_in: Property initialization: optimal - Optimal Solution Found.\n",
      "2022-06-01 09:50:52 [INFO] idaes.init.fs.H101.control_volume.properties_out: Starting initialization\n",
      "2022-06-01 09:50:52 [INFO] idaes.init.fs.H101.control_volume.properties_out: Property initialization: optimal - Optimal Solution Found.\n",
      "2022-06-01 09:50:52 [INFO] idaes.init.fs.H101.control_volume: Initialization Complete\n",
      "2022-06-01 09:50:53 [INFO] idaes.init.fs.H101: Initialization Complete: optimal - Optimal Solution Found\n",
      "2022-06-01 09:50:53 [INFO] idaes.init.fs.R101.control_volume.properties_in: Starting initialization\n",
      "2022-06-01 09:50:54 [INFO] idaes.init.fs.R101.control_volume.properties_in: Property initialization: optimal - Optimal Solution Found.\n",
      "2022-06-01 09:50:54 [INFO] idaes.init.fs.R101.control_volume.properties_out: Starting initialization\n",
      "2022-06-01 09:50:54 [INFO] idaes.init.fs.R101.control_volume.properties_out: Property initialization: optimal - Optimal Solution Found.\n",
      "2022-06-01 09:50:54 [INFO] idaes.init.fs.R101.control_volume: Initialization Complete\n",
      "2022-06-01 09:50:57 [INFO] idaes.init.fs.R101: Initialization Complete: optimal - Optimal Solution Found\n",
      "2022-06-01 09:50:57 [INFO] idaes.init.fs.PROD.properties: Starting initialization\n",
      "2022-06-01 09:50:57 [INFO] idaes.init.fs.PROD.properties: Property initialization: optimal - Optimal Solution Found.\n",
      "2022-06-01 09:50:57 [INFO] idaes.init.fs.PROD.properties: Property package initialization: optimal - Optimal Solution Found.\n",
      "2022-06-01 09:50:57 [INFO] idaes.init.fs.PROD: Initialization Complete.\n"
     ]
    }
   ],
   "source": [
    "# Initialize and solve each unit operation\n",
    "m.fs.CH4.initialize()\n",
    "propagate_state(arc=m.fs.s01)\n",
    "\n",
    "m.fs.H2O.initialize()\n",
    "propagate_state(arc=m.fs.s02)\n",
    "\n",
    "m.fs.M101.initialize()\n",
    "propagate_state(arc=m.fs.s03)\n",
    "\n",
    "m.fs.C101.initialize()\n",
    "propagate_state(arc=m.fs.s04)\n",
    "\n",
    "m.fs.H101.initialize()\n",
    "propagate_state(arc=m.fs.s05)\n",
    "\n",
    "m.fs.R101.initialize()\n",
    "propagate_state(arc=m.fs.s06)\n",
    "\n",
    "m.fs.PROD.initialize()\n",
    "\n",
    "# set solver\n",
    "solver = get_solver()"
   ]
  },
  {
   "cell_type": "code",
   "execution_count": 19,
   "metadata": {
    "scrolled": true
   },
   "outputs": [
    {
     "name": "stdout",
     "output_type": "stream",
     "text": [
      "Ipopt 3.13.2: nlp_scaling_method=gradient-based\n",
      "tol=1e-06\n",
      "\n",
      "\n",
      "******************************************************************************\n",
      "This program contains Ipopt, a library for large-scale nonlinear optimization.\n",
      " Ipopt is released as open source code under the Eclipse Public License (EPL).\n",
      "         For more information visit http://projects.coin-or.org/Ipopt\n",
      "\n",
      "This version of Ipopt was compiled from source code available at\n",
      "    https://github.com/IDAES/Ipopt as part of the Institute for the Design of\n",
      "    Advanced Energy Systems Process Systems Engineering Framework (IDAES PSE\n",
      "    Framework) Copyright (c) 2018-2019. See https://github.com/IDAES/idaes-pse.\n",
      "\n",
      "This version of Ipopt was compiled using HSL, a collection of Fortran codes\n",
      "    for large-scale scientific computation.  All technical papers, sales and\n",
      "    publicity material resulting from use of the HSL codes within IPOPT must\n",
      "    contain the following acknowledgement:\n",
      "        HSL, a collection of Fortran codes for large-scale scientific\n",
      "        computation. See http://www.hsl.rl.ac.uk.\n",
      "******************************************************************************\n",
      "\n",
      "This is Ipopt version 3.13.2, running with linear solver ma27.\n",
      "\n",
      "Number of nonzeros in equality constraint Jacobian...:      591\n",
      "Number of nonzeros in inequality constraint Jacobian.:        0\n",
      "Number of nonzeros in Lagrangian Hessian.............:      465\n",
      "\n",
      "Total number of variables............................:      203\n",
      "                     variables with only lower bounds:       13\n",
      "                variables with lower and upper bounds:      179\n",
      "                     variables with only upper bounds:        0\n",
      "Total number of equality constraints.................:      203\n",
      "Total number of inequality constraints...............:        0\n",
      "        inequality constraints with only lower bounds:        0\n",
      "   inequality constraints with lower and upper bounds:        0\n",
      "        inequality constraints with only upper bounds:        0\n",
      "\n",
      "iter    objective    inf_pr   inf_du lg(mu)  ||d||  lg(rg) alpha_du alpha_pr  ls\n",
      "   0  0.0000000e+00 1.49e+06 1.00e+00  -1.0 0.00e+00    -  0.00e+00 0.00e+00   0\n",
      "   1  0.0000000e+00 1.35e+04 2.00e-01  -1.0 3.59e+00    -  9.90e-01 9.91e-01h  1\n",
      "   2  0.0000000e+00 3.59e-04 9.99e+00  -1.0 3.56e+00    -  9.90e-01 1.00e+00h  1\n",
      "   3  0.0000000e+00 1.00e-08 8.98e+01  -1.0 2.91e-04    -  9.90e-01 1.00e+00h  1\n",
      "\n",
      "Number of Iterations....: 3\n",
      "\n",
      "                                   (scaled)                 (unscaled)\n",
      "Objective...............:   0.0000000000000000e+00    0.0000000000000000e+00\n",
      "Dual infeasibility......:   0.0000000000000000e+00    0.0000000000000000e+00\n",
      "Constraint violation....:   1.1641532182693481e-10    1.0011717677116394e-08\n",
      "Complementarity.........:   0.0000000000000000e+00    0.0000000000000000e+00\n",
      "Overall NLP error.......:   1.1641532182693481e-10    1.0011717677116394e-08\n",
      "\n",
      "\n",
      "Number of objective function evaluations             = 4\n",
      "Number of objective gradient evaluations             = 4\n",
      "Number of equality constraint evaluations            = 4\n",
      "Number of inequality constraint evaluations          = 0\n",
      "Number of equality constraint Jacobian evaluations   = 4\n",
      "Number of inequality constraint Jacobian evaluations = 0\n",
      "Number of Lagrangian Hessian evaluations             = 3\n",
      "Total CPU secs in IPOPT (w/o function evaluations)   =      0.083\n",
      "Total CPU secs in NLP function evaluations           =      0.236\n",
      "\n",
      "EXIT: Optimal Solution Found.\n"
     ]
    }
   ],
   "source": [
    "# Solve the model\n",
    "results = solver.solve(m, tee=True)"
   ]
  },
  {
   "cell_type": "code",
   "execution_count": 20,
   "metadata": {
    "tags": [
     "testing",
     "remove_cell"
    ]
   },
   "outputs": [],
   "source": [
    "# Check solver solve status\n",
    "from pyomo.environ import TerminationCondition\n",
    "assert results.solver.termination_condition == TerminationCondition.optimal"
   ]
  },
  {
   "cell_type": "markdown",
   "metadata": {},
   "source": [
    "## Analyze the results of the square problem\n",
    "\n",
    "\n",
    "What is the total operating cost? "
   ]
  },
  {
   "cell_type": "code",
   "execution_count": 21,
   "metadata": {},
   "outputs": [
    {
     "name": "stdout",
     "output_type": "stream",
     "text": [
      "operating cost = $39.958 million per year\n"
     ]
    }
   ],
   "source": [
    "print(f\"operating cost = ${value(m.fs.operating_cost)/1e6:0.3f} million per year\")"
   ]
  },
  {
   "cell_type": "code",
   "execution_count": 22,
   "metadata": {
    "tags": [
     "testing",
     "remove_cell"
    ]
   },
   "outputs": [],
   "source": [
    "import pytest\n",
    "assert value(m.fs.operating_cost)/1E6 == pytest.approx(39.958, rel=1e-3)"
   ]
  },
  {
   "cell_type": "markdown",
   "metadata": {},
   "source": [
    "For this operating cost, what conversion did we achieve of methane to hydrogen?"
   ]
  },
  {
   "cell_type": "code",
   "execution_count": 23,
   "metadata": {},
   "outputs": [
    {
     "name": "stdout",
     "output_type": "stream",
     "text": [
      "\n",
      "====================================================================================\n",
      "Unit : fs.R101                                                             Time: 0.0\n",
      "------------------------------------------------------------------------------------\n",
      "    Unit Performance\n",
      "\n",
      "    Variables: \n",
      "\n",
      "    Key       : Value      : Units : Fixed : Bounds\n",
      "    Heat Duty : 1.7819e+07 :  watt : False : (None, None)\n",
      "\n",
      "------------------------------------------------------------------------------------\n",
      "    Stream Table\n",
      "                                Units         Inlet     Outlet  \n",
      "    Total Molar Flowrate     mole / second     309.01     429.02\n",
      "    Total Mole Fraction CH4  dimensionless    0.24272   0.034965\n",
      "    Total Mole Fraction H2O  dimensionless    0.75725    0.32532\n",
      "    Total Mole Fraction H2   dimensionless 9.9996e-06    0.49984\n",
      "    Total Mole Fraction CO   dimensionless 9.9996e-06   0.059609\n",
      "    Total Mole Fraction CO2  dimensionless 9.9996e-06   0.080265\n",
      "    Temperature                     kelvin     500.00     920.80\n",
      "    Pressure                        pascal 2.0000e+05 2.0000e+05\n",
      "====================================================================================\n",
      "\n",
      "Conversion achieved = 80.0%\n"
     ]
    }
   ],
   "source": [
    "m.fs.R101.report()\n",
    "\n",
    "print()\n",
    "print(f\"Conversion achieved = {value(m.fs.R101.conversion):.1%}\")"
   ]
  },
  {
   "cell_type": "code",
   "execution_count": 24,
   "metadata": {
    "tags": [
     "testing",
     "remove_cell"
    ]
   },
   "outputs": [],
   "source": [
    "assert value(m.fs.R101.conversion) == pytest.approx(0.800, rel=1e-3)\n",
    "assert value(m.fs.R101.heat_duty[0])/1E6 == pytest.approx(17.819, rel=1e-3)\n",
    "assert value(m.fs.R101.outlet.temperature[0])/1E2 == pytest.approx(9.208, rel=1e-3)"
   ]
  },
  {
   "cell_type": "markdown",
   "metadata": {},
   "source": [
    "## Optimizing Hydrogen Production\n",
    "\n",
    "Now that the flowsheet has been squared and solved, we can run a small optimization problem to determine optimal conditions for producing hydrogen. Suppose we wish to find ideal conditions for the competing reactions. The GibbsReactor does not drive equilibrium forward based on temperature, so we will see small amounts of intermediate components present in the product stream. We will allow for variable reactor temperature and pressure by freeing our heater and compressor specifications, and minimize cost to achieve 90% methane conversion. Since we assume an isentopic compressor, allowing compression will heat our feed stream and reduce or eliminate the required heater duty."
   ]
  },
  {
   "cell_type": "markdown",
   "metadata": {},
   "source": [
    "Let us declare our objective function for this problem. "
   ]
  },
  {
   "cell_type": "code",
   "execution_count": 25,
   "metadata": {},
   "outputs": [],
   "source": [
    "m.fs.objective = Objective(expr=m.fs.operating_cost)"
   ]
  },
  {
   "cell_type": "markdown",
   "metadata": {},
   "source": [
    "Now, we need to add the design constraints and unfix the decision variables as we had solved a square problem (degrees of freedom = 0) until now, as well as set bounds for the design variables (reactor outlet temperature is set by state variable bounds in property package):"
   ]
  },
  {
   "cell_type": "code",
   "execution_count": 26,
   "metadata": {},
   "outputs": [],
   "source": [
    "m.fs.R101.conversion.fix(0.90)\n",
    "\n",
    "m.fs.C101.outlet.pressure.unfix()\n",
    "m.fs.C101.outlet.pressure[0].setlb(pyunits.convert(1*pyunits.bar, to_units=pyunits.Pa))  # equals inlet pressure\n",
    "m.fs.C101.outlet.pressure[0].setlb(pyunits.convert(10*pyunits.bar, to_units=pyunits.Pa))  # at most, pressurize to 1 bar\n",
    "\n",
    "m.fs.H101.outlet.temperature.unfix()\n",
    "m.fs.H101.heat_duty[0].setlb(0*pyunits.J/pyunits.s)  # ensures outlet is equal to or greater than inlet temperature\n",
    "m.fs.H101.outlet.temperature[0].setub(1000*pyunits.K)  # at most, heat to 1000 K"
   ]
  },
  {
   "cell_type": "code",
   "execution_count": 27,
   "metadata": {
    "tags": [
     "testing",
     "remove_cell"
    ]
   },
   "outputs": [],
   "source": [
    "assert degrees_of_freedom(m) == 2"
   ]
  },
  {
   "cell_type": "markdown",
   "metadata": {},
   "source": [
    "\n",
    "We have now defined the optimization problem and we are now ready to solve this problem. \n",
    "\n",
    "\n"
   ]
  },
  {
   "cell_type": "code",
   "execution_count": 28,
   "metadata": {
    "scrolled": true
   },
   "outputs": [
    {
     "name": "stdout",
     "output_type": "stream",
     "text": [
      "Ipopt 3.13.2: nlp_scaling_method=gradient-based\n",
      "tol=1e-06\n",
      "\n",
      "\n",
      "******************************************************************************\n",
      "This program contains Ipopt, a library for large-scale nonlinear optimization.\n",
      " Ipopt is released as open source code under the Eclipse Public License (EPL).\n",
      "         For more information visit http://projects.coin-or.org/Ipopt\n",
      "\n",
      "This version of Ipopt was compiled from source code available at\n",
      "    https://github.com/IDAES/Ipopt as part of the Institute for the Design of\n",
      "    Advanced Energy Systems Process Systems Engineering Framework (IDAES PSE\n",
      "    Framework) Copyright (c) 2018-2019. See https://github.com/IDAES/idaes-pse.\n",
      "\n",
      "This version of Ipopt was compiled using HSL, a collection of Fortran codes\n",
      "    for large-scale scientific computation.  All technical papers, sales and\n",
      "    publicity material resulting from use of the HSL codes within IPOPT must\n",
      "    contain the following acknowledgement:\n",
      "        HSL, a collection of Fortran codes for large-scale scientific\n",
      "        computation. See http://www.hsl.rl.ac.uk.\n",
      "******************************************************************************\n",
      "\n",
      "This is Ipopt version 3.13.2, running with linear solver ma27.\n",
      "\n",
      "Number of nonzeros in equality constraint Jacobian...:      598\n",
      "Number of nonzeros in inequality constraint Jacobian.:        0\n",
      "Number of nonzeros in Lagrangian Hessian.............:      481\n",
      "\n",
      "Total number of variables............................:      205\n",
      "                     variables with only lower bounds:       14\n",
      "                variables with lower and upper bounds:      181\n",
      "                     variables with only upper bounds:        0\n",
      "Total number of equality constraints.................:      203\n",
      "Total number of inequality constraints...............:        0\n",
      "        inequality constraints with only lower bounds:        0\n",
      "   inequality constraints with lower and upper bounds:        0\n",
      "        inequality constraints with only upper bounds:        0\n",
      "\n",
      "iter    objective    inf_pr   inf_du lg(mu)  ||d||  lg(rg) alpha_du alpha_pr  ls\n",
      "   0  3.9958388e+07 1.49e+06 3.46e+01  -1.0 0.00e+00    -  0.00e+00 0.00e+00   0\n",
      "   1  3.8920063e+07 1.48e+06 1.52e+03  -1.0 7.19e+06    -  3.91e-01 6.43e-03f  1\n",
      "   2  7.0948609e+07 1.15e+06 1.86e+06  -1.0 4.83e+06    -  1.51e-01 2.26e-01h  1\n",
      "   3  1.0553921e+08 5.23e+05 1.04e+07  -1.0 2.42e+06    -  3.41e-01 5.67e-01h  1\n",
      "   4  1.0874890e+08 1.58e+05 7.64e+06  -1.0 8.45e+05    -  7.09e-01 7.11e-01h  1\n",
      "   5  1.0751027e+08 1.51e+04 1.67e+06  -1.0 2.97e+05    -  9.49e-01 9.09e-01f  1\n",
      "   6  1.0721898e+08 5.95e+00 9.98e+03  -1.0 3.47e+04    -  9.90e-01 1.00e+00f  1\n",
      "   7  1.0721794e+08 3.43e-05 8.84e+01  -1.0 1.59e+02    -  9.90e-01 1.00e+00f  1\n",
      "   8  1.0721794e+08 7.45e-09 7.14e-01  -1.0 1.43e-02    -  9.92e-01 1.00e+00h  1\n",
      "   9  1.0721794e+08 9.31e-09 1.09e-06  -2.5 1.72e-02    -  1.00e+00 1.00e+00f  1\n",
      "iter    objective    inf_pr   inf_du lg(mu)  ||d||  lg(rg) alpha_du alpha_pr  ls\n",
      "  10  1.0721794e+08 7.81e-09 1.12e-06  -3.8 4.73e-04    -  1.00e+00 1.00e+00f  1\n",
      "  11  1.0721794e+08 9.78e-09 8.28e-07  -5.7 2.62e-05    -  1.00e+00 1.00e+00f  1\n",
      "  12  1.0721794e+08 1.35e-08 9.74e-07  -7.0 3.34e-07    -  1.00e+00 1.00e+00h  1\n",
      "\n",
      "Number of Iterations....: 12\n",
      "\n",
      "                                   (scaled)                 (unscaled)\n",
      "Objective...............:   1.0721793780338177e+08    1.0721793780338177e+08\n",
      "Dual infeasibility......:   9.7409523289814015e-07    9.7409523289814015e-07\n",
      "Constraint violation....:   4.6566128730773926e-10    1.3504177331924438e-08\n",
      "Complementarity.........:   9.0909090914354020e-08    9.0909090914354020e-08\n",
      "Overall NLP error.......:   9.0909090914354020e-08    9.7409523289814015e-07\n",
      "\n",
      "\n",
      "Number of objective function evaluations             = 13\n",
      "Number of objective gradient evaluations             = 13\n",
      "Number of equality constraint evaluations            = 13\n",
      "Number of inequality constraint evaluations          = 0\n",
      "Number of equality constraint Jacobian evaluations   = 13\n",
      "Number of inequality constraint Jacobian evaluations = 0\n",
      "Number of Lagrangian Hessian evaluations             = 12\n",
      "Total CPU secs in IPOPT (w/o function evaluations)   =      0.100\n",
      "Total CPU secs in NLP function evaluations           =      0.910\n",
      "\n",
      "EXIT: Optimal Solution Found.\n"
     ]
    }
   ],
   "source": [
    "results = solver.solve(m, tee=True)"
   ]
  },
  {
   "cell_type": "code",
   "execution_count": 29,
   "metadata": {
    "tags": [
     "testing",
     "remove_cell"
    ]
   },
   "outputs": [],
   "source": [
    "# Check for solver solve status\n",
    "from pyomo.environ import TerminationCondition\n",
    "assert results.solver.termination_condition == TerminationCondition.optimal"
   ]
  },
  {
   "cell_type": "code",
   "execution_count": 30,
   "metadata": {},
   "outputs": [
    {
     "name": "stdout",
     "output_type": "stream",
     "text": [
      "operating cost = $107.218 million per year\n",
      "\n",
      "Compressor results\n",
      "\n",
      "====================================================================================\n",
      "Unit : fs.C101                                                             Time: 0.0\n",
      "------------------------------------------------------------------------------------\n",
      "    Unit Performance\n",
      "\n",
      "    Variables: \n",
      "\n",
      "    Key                   : Value      : Units         : Fixed : Bounds\n",
      "    Isentropic Efficiency :    0.90000 : dimensionless :  True : (None, None)\n",
      "          Mechanical Work : 3.0334e+06 :          watt : False : (None, None)\n",
      "          Pressure Change : 9.0000e+05 :        pascal : False : (None, None)\n",
      "           Pressure Ratio :     10.000 : dimensionless : False : (None, None)\n",
      "\n",
      "------------------------------------------------------------------------------------\n",
      "    Stream Table\n",
      "                                Units         Inlet     Outlet  \n",
      "    Total Molar Flowrate     mole / second     309.01     309.01\n",
      "    Total Mole Fraction CH4  dimensionless    0.24272    0.24272\n",
      "    Total Mole Fraction H2O  dimensionless    0.75725    0.75725\n",
      "    Total Mole Fraction H2   dimensionless 9.9996e-06 9.9996e-06\n",
      "    Total Mole Fraction CO   dimensionless 9.9996e-06 9.9996e-06\n",
      "    Total Mole Fraction CO2  dimensionless 9.9996e-06 9.9996e-06\n",
      "    Temperature                     kelvin     353.80     619.25\n",
      "    Pressure                        pascal 1.0000e+05 1.0000e+06\n",
      "====================================================================================\n",
      "\n",
      "Heater results\n",
      "\n",
      "====================================================================================\n",
      "Unit : fs.H101                                                             Time: 0.0\n",
      "------------------------------------------------------------------------------------\n",
      "    Unit Performance\n",
      "\n",
      "    Variables: \n",
      "\n",
      "    Key       : Value      : Units : Fixed : Bounds\n",
      "    Heat Duty : 5.8781e-09 :  watt : False : (0, None)\n",
      "\n",
      "------------------------------------------------------------------------------------\n",
      "    Stream Table\n",
      "                                Units         Inlet     Outlet  \n",
      "    Total Molar Flowrate     mole / second     309.01     309.01\n",
      "    Total Mole Fraction CH4  dimensionless    0.24272    0.24272\n",
      "    Total Mole Fraction H2O  dimensionless    0.75725    0.75725\n",
      "    Total Mole Fraction H2   dimensionless 9.9996e-06 9.9996e-06\n",
      "    Total Mole Fraction CO   dimensionless 9.9996e-06 9.9996e-06\n",
      "    Total Mole Fraction CO2  dimensionless 9.9996e-06 9.9996e-06\n",
      "    Temperature                     kelvin     619.25     619.25\n",
      "    Pressure                        pascal 1.0000e+06 1.0000e+06\n",
      "====================================================================================\n",
      "\n",
      "Gibbs reactor results\n",
      "\n",
      "====================================================================================\n",
      "Unit : fs.R101                                                             Time: 0.0\n",
      "------------------------------------------------------------------------------------\n",
      "    Unit Performance\n",
      "\n",
      "    Variables: \n",
      "\n",
      "    Key       : Value      : Units : Fixed : Bounds\n",
      "    Heat Duty : 2.1076e+07 :  watt : False : (None, None)\n",
      "\n",
      "------------------------------------------------------------------------------------\n",
      "    Stream Table\n",
      "                                Units         Inlet     Outlet  \n",
      "    Total Molar Flowrate     mole / second     309.01     444.02\n",
      "    Total Mole Fraction CH4  dimensionless    0.24272   0.016892\n",
      "    Total Mole Fraction H2O  dimensionless    0.75725    0.31609\n",
      "    Total Mole Fraction H2   dimensionless 9.9996e-06    0.51498\n",
      "    Total Mole Fraction CO   dimensionless 9.9996e-06   0.093140\n",
      "    Total Mole Fraction CO2  dimensionless 9.9996e-06   0.058900\n",
      "    Temperature                     kelvin     619.25     1087.4\n",
      "    Pressure                        pascal 1.0000e+06 1.0000e+06\n",
      "====================================================================================\n"
     ]
    }
   ],
   "source": [
    "print(f\"operating cost = ${value(m.fs.operating_cost)/1e6:0.3f} million per year\")\n",
    "\n",
    "print()\n",
    "print('Compressor results')\n",
    "\n",
    "m.fs.C101.report()\n",
    "\n",
    "print()\n",
    "print('Heater results')\n",
    "\n",
    "m.fs.H101.report()\n",
    "\n",
    "print()\n",
    "print('Gibbs reactor results')\n",
    "\n",
    "m.fs.R101.report()"
   ]
  },
  {
   "cell_type": "code",
   "execution_count": 31,
   "metadata": {
    "tags": [
     "testing",
     "remove_cell"
    ]
   },
   "outputs": [],
   "source": [
    "assert value(m.fs.operating_cost)/1E6 == pytest.approx(107.218, rel=1e-3)"
   ]
  },
  {
   "cell_type": "markdown",
   "metadata": {},
   "source": [
    "Display optimal values for the decision variables and design variables:"
   ]
  },
  {
   "cell_type": "code",
   "execution_count": 32,
   "metadata": {},
   "outputs": [
    {
     "name": "stdout",
     "output_type": "stream",
     "text": [
      "Optimal Values\n",
      "\n",
      "C101 outlet pressure = 1.000 MPa\n",
      "\n",
      "C101 outlet temperature = 619.248 K\n",
      "\n",
      "H101 outlet temperature = 619.248 K\n",
      "\n",
      "R101 outlet temperature = 1087.385 K\n",
      "\n",
      "Hydrogen produced = 32.070 MM lb/year\n",
      "\n",
      "Conversion achieved = 90.0%\n"
     ]
    }
   ],
   "source": [
    "print('Optimal Values')\n",
    "print()\n",
    "\n",
    "print(f\"C101 outlet pressure = {value(m.fs.C101.outlet.pressure[0])/1E6:0.3f} MPa\")\n",
    "print()\n",
    "\n",
    "print(f\"C101 outlet temperature = {value(m.fs.C101.outlet.temperature[0]):0.3f} K\")\n",
    "print()\n",
    "\n",
    "print(f\"H101 outlet temperature = {value(m.fs.H101.outlet.temperature[0]):0.3f} K\")\n",
    "\n",
    "print()\n",
    "print(f\"R101 outlet temperature = {value(m.fs.R101.outlet.temperature[0]):0.3f} K\")\n",
    "\n",
    "print()\n",
    "print(f\"Hydrogen produced = {value(m.fs.hyd_prod):0.3f} MM lb/year\")\n",
    "\n",
    "print()\n",
    "print(f\"Conversion achieved = {value(m.fs.R101.conversion):.1%}\")"
   ]
  },
  {
   "cell_type": "code",
   "execution_count": 33,
   "metadata": {
    "tags": [
     "testing",
     "remove_cell"
    ]
   },
   "outputs": [],
   "source": [
    "assert value(m.fs.C101.outlet.pressure[0])/1E6 == pytest.approx(1.000, rel=1e-3)\n",
    "assert value(m.fs.C101.outlet.temperature[0])/100 == pytest.approx(6.19248, rel=1e-3)\n",
    "assert value(m.fs.H101.outlet.temperature[0])/100 == pytest.approx(6.19248, rel=1e-3)\n",
    "assert value(m.fs.R101.outlet.temperature[0])/100 == pytest.approx(10.8738, rel=1e-3)\n",
    "assert value(m.fs.hyd_prod) == pytest.approx(32.070, rel=1e-3)\n",
    "assert value(m.fs.R101.conversion)*100 == pytest.approx(90.0, rel=1e-3)"
   ]
  },
  {
   "cell_type": "code",
   "execution_count": null,
   "metadata": {},
   "outputs": [],
   "source": []
  }
 ],
 "metadata": {
  "celltoolbar": "Tags",
  "kernelspec": {
   "display_name": "Python 3 (ipykernel)",
   "language": "python",
   "name": "python3"
  },
  "language_info": {
   "codemirror_mode": {
    "name": "ipython",
    "version": 3
   },
   "file_extension": ".py",
   "mimetype": "text/x-python",
   "name": "python",
   "nbconvert_exporter": "python",
   "pygments_lexer": "ipython3",
   "version": "3.8.12"
  }
 },
 "nbformat": 4,
 "nbformat_minor": 4
}
