{
 "cells": [
  {
   "cell_type": "markdown",
   "metadata": {},
   "source": [
    "# Tutorial: Heat Exchanger 0D Unit Model with Ideal & IAPWS Property Package\n",
    "\n",
    "![](heat_exchanger_4.svg)\n",
    "\n",
    "**Problem Statement**: Consider the process of heating a Benzene-Toluene mixture with the following inlet specificatons:\n",
    "\n",
    "**Tube Side Inlet**\n",
    "\n",
    "Flow Rate = 20 kmol/hr\n",
    "\n",
    "Mole fraction (Benzene) = 0.4\n",
    "\n",
    "Mole fraction (Toluene) = 0.6\n",
    "\n",
    "Pressure = 101325 Pa\n",
    "\n",
    "Temperature = 353.15 K\n",
    "\n",
    "**Shell Side Inlet**\n",
    "\n",
    "Flow Rate = 1 kmol/hr\n",
    "\n",
    "Mole fraction (Steam) = 1\n",
    "\n",
    "Pressure = 101325 Pa\n",
    "\n",
    "Temperature = 410.15 K\n",
    "\n",
    "We will study the simulation of the 0D heat exchanger as follows, by fixing the possible degrees of freedom (heat transfer area, overall heat transfer coefficient and minimum approach temperature) two at a time:\n",
    "\n",
    "1. Heat the BT mixture with an overall HTC of 500 W/m^2.K, and heat transfer area of 2 m^2\n",
    "\n",
    "IDAES documentation reference for heat excahnger 0D model: https://idaespse.readthedocs.io/en/latest/models/"
   ]
  },
  {
   "cell_type": "markdown",
   "metadata": {},
   "source": [
    "**Setting up the problem in IDAES**"
   ]
  },
  {
   "cell_type": "code",
   "execution_count": 1,
   "metadata": {
    "scrolled": true
   },
   "outputs": [
    {
     "name": "stdout",
     "output_type": "stream",
     "text": [
      "2020-09-18 10:18:21 [WARNING] idaes.core.property_meta: DEPRECATED: IDAES is moving to using Pyomo Units when defining default units, which are used to automatically determine units of measurement for quantities and convert where necessary. Users are strongly encouraged to convert their property packages to use Pyomo Units objects.\n"
     ]
    }
   ],
   "source": [
    "# Import pyomo package \n",
    "from pyomo.environ import ConcreteModel, SolverFactory, Constraint, value\n",
    "\n",
    "# Import idaes logger to set output levels\n",
    "import idaes.logger as idaeslog\n",
    "\n",
    "# Import the main FlowsheetBlock from IDAES. The flowsheet block will contain the unit model\n",
    "from idaes.core import FlowsheetBlock\n",
    "\n",
    "#Create the ConcreteModel and the FlowsheetBlock, and attach the flowsheet block to it.\n",
    "m = ConcreteModel()\n",
    "m.fs = FlowsheetBlock(default={\"dynamic\": False})\n",
    "# Steady State Model\n",
    "\n",
    "#import the BTX property package to create a properties block for the flowsheet\n",
    "from idaes.generic_models.properties.activity_coeff_models import BTX_activity_coeff_VLE\n",
    "\n",
    "#import the IAPWS property package to create a properties block for the flowsheet\n",
    "from idaes.generic_models.properties import iapws95\n",
    "\n",
    "from idaes.generic_models.properties.iapws95 import htpx\n",
    "\n",
    "# Add properties as parameters to flowsheet directly, and attach the properties block to the flowsheet\n",
    "m.fs.properties_tube = BTX_activity_coeff_VLE.BTXParameterBlock(default={\"valid_phase\":\n",
    "                                                     'Liq',\n",
    "                                                     \"activity_coeff_model\":\n",
    "                                                     \"Ideal\"})\n",
    "m.fs.properties_shell = iapws95.Iapws95ParameterBlock()"
   ]
  },
  {
   "cell_type": "code",
   "execution_count": 2,
   "metadata": {},
   "outputs": [
    {
     "name": "stdout",
     "output_type": "stream",
     "text": [
      "ERROR: Rule failed when generating expression for constraint\n",
      "    fs.heat_exchanger.delta_temperature_in_equation with index 0.0:\n",
      "    InconsistentUnitsError: Error in convert: units not compatible.: kelvin\n",
      "    not compatible with None.\n",
      "ERROR: Constructing component\n",
      "    'fs.heat_exchanger.delta_temperature_in_equation' from data=None failed:\n",
      "    InconsistentUnitsError: Error in convert: units not compatible.: kelvin\n",
      "    not compatible with None.\n",
      "2020-09-18 10:18:22 [ERROR] idaes.core.process_block: Failure in build: fs.heat_exchanger\n",
      "Traceback (most recent call last):\n",
      "  File \"c:\\users\\deshpana\\idaes\\idaes-dev-egs\\idaes-dev\\idaes-dev\\idaes\\core\\process_block.py\", line 37, in _rule_default\n",
      "    b.build()\n",
      "  File \"c:\\users\\deshpana\\idaes\\idaes-dev-egs\\idaes-dev\\idaes-dev\\idaes\\generic_models\\unit_models\\heat_exchanger.py\", line 322, in build\n",
      "    @self.Constraint(self.flowsheet().config.time)\n",
      "  File \"C:\\Users\\deshpana\\AppData\\Local\\Continuum\\anaconda3\\envs\\idaes\\lib\\site-packages\\pyomo\\core\\base\\block.py\", line 72, in __call__\n",
      "    self._component(*self._args, rule=rule, **(self._kwds))\n",
      "  File \"C:\\Users\\deshpana\\AppData\\Local\\Continuum\\anaconda3\\envs\\idaes\\lib\\site-packages\\pyomo\\core\\base\\block.py\", line 543, in __setattr__\n",
      "    self.add_component(name, val)\n",
      "  File \"C:\\Users\\deshpana\\AppData\\Local\\Continuum\\anaconda3\\envs\\idaes\\lib\\site-packages\\pyomo\\core\\base\\block.py\", line 1081, in add_component\n",
      "    val.construct(data)\n",
      "  File \"C:\\Users\\deshpana\\AppData\\Local\\Continuum\\anaconda3\\envs\\idaes\\lib\\site-packages\\pyomo\\core\\base\\constraint.py\", line 837, in construct\n",
      "    index, self.rule(block, index)\n",
      "  File \"C:\\Users\\deshpana\\AppData\\Local\\Continuum\\anaconda3\\envs\\idaes\\lib\\site-packages\\pyomo\\core\\base\\util.py\", line 305, in __call__\n",
      "    return self._fcn(parent, idx)\n",
      "  File \"c:\\users\\deshpana\\idaes\\idaes-dev-egs\\idaes-dev\\idaes-dev\\idaes\\generic_models\\unit_models\\heat_exchanger.py\", line 336, in delta_temperature_in_equation\n",
      "    to_units=t_units)\n",
      "  File \"C:\\Users\\deshpana\\AppData\\Local\\Continuum\\anaconda3\\envs\\idaes\\lib\\site-packages\\pyomo\\core\\base\\units_container.py\", line 1437, in convert\n",
      "    'Error in convert: units not compatible.')\n",
      "pyomo.core.base.units_container.InconsistentUnitsError: Error in convert: units not compatible.: kelvin not compatible with None.\n",
      "ERROR: Constructing component 'fs.heat_exchanger' from data=None failed:\n",
      "    InconsistentUnitsError: Error in convert: units not compatible.: kelvin\n",
      "    not compatible with None.\n"
     ]
    },
    {
     "ename": "InconsistentUnitsError",
     "evalue": "Error in convert: units not compatible.: kelvin not compatible with None.",
     "output_type": "error",
     "traceback": [
      "\u001b[1;31m---------------------------------------------------------------------------\u001b[0m",
      "\u001b[1;31mInconsistentUnitsError\u001b[0m                    Traceback (most recent call last)",
      "\u001b[1;32m<ipython-input-2-676b634214c7>\u001b[0m in \u001b[0;36m<module>\u001b[1;34m\u001b[0m\n\u001b[0;32m      8\u001b[0m         \u001b[1;34m\"delta_temperature_callback\"\u001b[0m\u001b[1;33m:\u001b[0m\u001b[0mdelta_temperature_amtd_callback\u001b[0m\u001b[1;33m,\u001b[0m\u001b[1;33m\u001b[0m\u001b[1;33m\u001b[0m\u001b[0m\n\u001b[0;32m      9\u001b[0m         \u001b[1;34m\"shell\"\u001b[0m\u001b[1;33m:\u001b[0m\u001b[1;33m{\u001b[0m\u001b[1;34m\"property_package\"\u001b[0m\u001b[1;33m:\u001b[0m \u001b[0mm\u001b[0m\u001b[1;33m.\u001b[0m\u001b[0mfs\u001b[0m\u001b[1;33m.\u001b[0m\u001b[0mproperties_shell\u001b[0m\u001b[1;33m}\u001b[0m\u001b[1;33m,\u001b[0m\u001b[1;33m\u001b[0m\u001b[1;33m\u001b[0m\u001b[0m\n\u001b[1;32m---> 10\u001b[1;33m         \"tube\":{\"property_package\": m.fs.properties_tube}})\n\u001b[0m\u001b[0;32m     11\u001b[0m \u001b[1;33m\u001b[0m\u001b[0m\n\u001b[0;32m     12\u001b[0m \u001b[1;31m#Import the degrees_of_freedom function from the idaes.core.util.model_statistics package\u001b[0m\u001b[1;33m\u001b[0m\u001b[1;33m\u001b[0m\u001b[1;33m\u001b[0m\u001b[0m\n",
      "\u001b[1;32m~\\AppData\\Local\\Continuum\\anaconda3\\envs\\idaes\\lib\\site-packages\\pyomo\\core\\base\\block.py\u001b[0m in \u001b[0;36m__setattr__\u001b[1;34m(self, name, val)\u001b[0m\n\u001b[0;32m    541\u001b[0m                 \u001b[1;31m# Pyomo components are added with the add_component method.\u001b[0m\u001b[1;33m\u001b[0m\u001b[1;33m\u001b[0m\u001b[1;33m\u001b[0m\u001b[0m\n\u001b[0;32m    542\u001b[0m                 \u001b[1;31m#\u001b[0m\u001b[1;33m\u001b[0m\u001b[1;33m\u001b[0m\u001b[1;33m\u001b[0m\u001b[0m\n\u001b[1;32m--> 543\u001b[1;33m                 \u001b[0mself\u001b[0m\u001b[1;33m.\u001b[0m\u001b[0madd_component\u001b[0m\u001b[1;33m(\u001b[0m\u001b[0mname\u001b[0m\u001b[1;33m,\u001b[0m \u001b[0mval\u001b[0m\u001b[1;33m)\u001b[0m\u001b[1;33m\u001b[0m\u001b[1;33m\u001b[0m\u001b[0m\n\u001b[0m\u001b[0;32m    544\u001b[0m             \u001b[1;32melse\u001b[0m\u001b[1;33m:\u001b[0m\u001b[1;33m\u001b[0m\u001b[1;33m\u001b[0m\u001b[0m\n\u001b[0;32m    545\u001b[0m                 \u001b[1;31m#\u001b[0m\u001b[1;33m\u001b[0m\u001b[1;33m\u001b[0m\u001b[1;33m\u001b[0m\u001b[0m\n",
      "\u001b[1;32m~\\AppData\\Local\\Continuum\\anaconda3\\envs\\idaes\\lib\\site-packages\\pyomo\\core\\base\\block.py\u001b[0m in \u001b[0;36madd_component\u001b[1;34m(self, name, val)\u001b[0m\n\u001b[0;32m   1079\u001b[0m                              _blockName, str(data))\n\u001b[0;32m   1080\u001b[0m             \u001b[1;32mtry\u001b[0m\u001b[1;33m:\u001b[0m\u001b[1;33m\u001b[0m\u001b[1;33m\u001b[0m\u001b[0m\n\u001b[1;32m-> 1081\u001b[1;33m                 \u001b[0mval\u001b[0m\u001b[1;33m.\u001b[0m\u001b[0mconstruct\u001b[0m\u001b[1;33m(\u001b[0m\u001b[0mdata\u001b[0m\u001b[1;33m)\u001b[0m\u001b[1;33m\u001b[0m\u001b[1;33m\u001b[0m\u001b[0m\n\u001b[0m\u001b[0;32m   1082\u001b[0m             \u001b[1;32mexcept\u001b[0m\u001b[1;33m:\u001b[0m\u001b[1;33m\u001b[0m\u001b[1;33m\u001b[0m\u001b[0m\n\u001b[0;32m   1083\u001b[0m                 \u001b[0merr\u001b[0m \u001b[1;33m=\u001b[0m \u001b[0msys\u001b[0m\u001b[1;33m.\u001b[0m\u001b[0mexc_info\u001b[0m\u001b[1;33m(\u001b[0m\u001b[1;33m)\u001b[0m\u001b[1;33m[\u001b[0m\u001b[1;36m1\u001b[0m\u001b[1;33m]\u001b[0m\u001b[1;33m\u001b[0m\u001b[1;33m\u001b[0m\u001b[0m\n",
      "\u001b[1;32m~\\AppData\\Local\\Continuum\\anaconda3\\envs\\idaes\\lib\\site-packages\\pyomo\\core\\base\\block.py\u001b[0m in \u001b[0;36mconstruct\u001b[1;34m(self, data)\u001b[0m\n\u001b[0;32m   1939\u001b[0m                 \u001b[1;32mif\u001b[0m \u001b[0mself\u001b[0m\u001b[1;33m.\u001b[0m\u001b[0m_rule\u001b[0m \u001b[1;32mis\u001b[0m \u001b[1;32mnot\u001b[0m \u001b[1;32mNone\u001b[0m\u001b[1;33m:\u001b[0m\u001b[1;33m\u001b[0m\u001b[1;33m\u001b[0m\u001b[0m\n\u001b[0;32m   1940\u001b[0m                     obj = apply_indexed_rule(\n\u001b[1;32m-> 1941\u001b[1;33m                         self, self._rule, _block, _idx, self._options)\n\u001b[0m\u001b[0;32m   1942\u001b[0m                     \u001b[1;32mif\u001b[0m \u001b[0mobj\u001b[0m \u001b[1;32mis\u001b[0m \u001b[1;32mnot\u001b[0m \u001b[0m_block\u001b[0m \u001b[1;32mand\u001b[0m \u001b[0misinstance\u001b[0m\u001b[1;33m(\u001b[0m\u001b[0mobj\u001b[0m\u001b[1;33m,\u001b[0m \u001b[0m_BlockData\u001b[0m\u001b[1;33m)\u001b[0m\u001b[1;33m:\u001b[0m\u001b[1;33m\u001b[0m\u001b[1;33m\u001b[0m\u001b[0m\n\u001b[0;32m   1943\u001b[0m                         \u001b[1;31m# If the user returns a block, transfer over\u001b[0m\u001b[1;33m\u001b[0m\u001b[1;33m\u001b[0m\u001b[1;33m\u001b[0m\u001b[0m\n",
      "\u001b[1;32m~\\AppData\\Local\\Continuum\\anaconda3\\envs\\idaes\\lib\\site-packages\\pyomo\\core\\base\\misc.py\u001b[0m in \u001b[0;36mapply_indexed_rule\u001b[1;34m(obj, rule, model, index, options)\u001b[0m\n\u001b[0;32m     57\u001b[0m                 \u001b[1;32mreturn\u001b[0m \u001b[0mrule\u001b[0m\u001b[1;33m(\u001b[0m\u001b[0mmodel\u001b[0m\u001b[1;33m,\u001b[0m \u001b[1;33m*\u001b[0m\u001b[0mindex\u001b[0m\u001b[1;33m)\u001b[0m\u001b[1;33m\u001b[0m\u001b[1;33m\u001b[0m\u001b[0m\n\u001b[0;32m     58\u001b[0m             \u001b[1;32melif\u001b[0m \u001b[0mindex\u001b[0m \u001b[1;32mis\u001b[0m \u001b[1;32mNone\u001b[0m \u001b[1;32mand\u001b[0m \u001b[1;32mnot\u001b[0m \u001b[0mobj\u001b[0m\u001b[1;33m.\u001b[0m\u001b[0mis_indexed\u001b[0m\u001b[1;33m(\u001b[0m\u001b[1;33m)\u001b[0m\u001b[1;33m:\u001b[0m\u001b[1;33m\u001b[0m\u001b[1;33m\u001b[0m\u001b[0m\n\u001b[1;32m---> 59\u001b[1;33m                 \u001b[1;32mreturn\u001b[0m \u001b[0mrule\u001b[0m\u001b[1;33m(\u001b[0m\u001b[0mmodel\u001b[0m\u001b[1;33m)\u001b[0m\u001b[1;33m\u001b[0m\u001b[1;33m\u001b[0m\u001b[0m\n\u001b[0m\u001b[0;32m     60\u001b[0m             \u001b[1;32melse\u001b[0m\u001b[1;33m:\u001b[0m\u001b[1;33m\u001b[0m\u001b[1;33m\u001b[0m\u001b[0m\n\u001b[0;32m     61\u001b[0m                 \u001b[1;32mreturn\u001b[0m \u001b[0mrule\u001b[0m\u001b[1;33m(\u001b[0m\u001b[0mmodel\u001b[0m\u001b[1;33m,\u001b[0m \u001b[0mindex\u001b[0m\u001b[1;33m)\u001b[0m\u001b[1;33m\u001b[0m\u001b[1;33m\u001b[0m\u001b[0m\n",
      "\u001b[1;32mc:\\users\\deshpana\\idaes\\idaes-dev-egs\\idaes-dev\\idaes-dev\\idaes\\core\\process_block.py\u001b[0m in \u001b[0;36m_rule_default\u001b[1;34m(b, *args)\u001b[0m\n\u001b[0;32m     35\u001b[0m     \"\"\"\n\u001b[0;32m     36\u001b[0m     \u001b[1;32mtry\u001b[0m\u001b[1;33m:\u001b[0m\u001b[1;33m\u001b[0m\u001b[1;33m\u001b[0m\u001b[0m\n\u001b[1;32m---> 37\u001b[1;33m         \u001b[0mb\u001b[0m\u001b[1;33m.\u001b[0m\u001b[0mbuild\u001b[0m\u001b[1;33m(\u001b[0m\u001b[1;33m)\u001b[0m\u001b[1;33m\u001b[0m\u001b[1;33m\u001b[0m\u001b[0m\n\u001b[0m\u001b[0;32m     38\u001b[0m     \u001b[1;32mexcept\u001b[0m \u001b[0mException\u001b[0m\u001b[1;33m:\u001b[0m\u001b[1;33m\u001b[0m\u001b[1;33m\u001b[0m\u001b[0m\n\u001b[0;32m     39\u001b[0m         logging.getLogger(__name__).exception(\n",
      "\u001b[1;32mc:\\users\\deshpana\\idaes\\idaes-dev-egs\\idaes-dev\\idaes-dev\\idaes\\generic_models\\unit_models\\heat_exchanger.py\u001b[0m in \u001b[0;36mbuild\u001b[1;34m(self)\u001b[0m\n\u001b[0;32m    320\u001b[0m         \u001b[1;31m# Add end temperature differnece constraints                            #\u001b[0m\u001b[1;33m\u001b[0m\u001b[1;33m\u001b[0m\u001b[1;33m\u001b[0m\u001b[0m\n\u001b[0;32m    321\u001b[0m         \u001b[1;31m########################################################################\u001b[0m\u001b[1;33m\u001b[0m\u001b[1;33m\u001b[0m\u001b[1;33m\u001b[0m\u001b[0m\n\u001b[1;32m--> 322\u001b[1;33m         \u001b[1;33m@\u001b[0m\u001b[0mself\u001b[0m\u001b[1;33m.\u001b[0m\u001b[0mConstraint\u001b[0m\u001b[1;33m(\u001b[0m\u001b[0mself\u001b[0m\u001b[1;33m.\u001b[0m\u001b[0mflowsheet\u001b[0m\u001b[1;33m(\u001b[0m\u001b[1;33m)\u001b[0m\u001b[1;33m.\u001b[0m\u001b[0mconfig\u001b[0m\u001b[1;33m.\u001b[0m\u001b[0mtime\u001b[0m\u001b[1;33m)\u001b[0m\u001b[1;33m\u001b[0m\u001b[1;33m\u001b[0m\u001b[0m\n\u001b[0m\u001b[0;32m    323\u001b[0m         \u001b[1;32mdef\u001b[0m \u001b[0mdelta_temperature_in_equation\u001b[0m\u001b[1;33m(\u001b[0m\u001b[0mb\u001b[0m\u001b[1;33m,\u001b[0m \u001b[0mt\u001b[0m\u001b[1;33m)\u001b[0m\u001b[1;33m:\u001b[0m\u001b[1;33m\u001b[0m\u001b[1;33m\u001b[0m\u001b[0m\n\u001b[0;32m    324\u001b[0m             \u001b[1;32mif\u001b[0m \u001b[0mb\u001b[0m\u001b[1;33m.\u001b[0m\u001b[0mconfig\u001b[0m\u001b[1;33m.\u001b[0m\u001b[0mflow_pattern\u001b[0m \u001b[1;33m==\u001b[0m \u001b[0mHeatExchangerFlowPattern\u001b[0m\u001b[1;33m.\u001b[0m\u001b[0mcocurrent\u001b[0m\u001b[1;33m:\u001b[0m\u001b[1;33m\u001b[0m\u001b[1;33m\u001b[0m\u001b[0m\n",
      "\u001b[1;32m~\\AppData\\Local\\Continuum\\anaconda3\\envs\\idaes\\lib\\site-packages\\pyomo\\core\\base\\block.py\u001b[0m in \u001b[0;36m__call__\u001b[1;34m(self, rule)\u001b[0m\n\u001b[0;32m     70\u001b[0m             \u001b[0mself\u001b[0m\u001b[1;33m.\u001b[0m\u001b[0m_block\u001b[0m\u001b[1;33m,\u001b[0m\u001b[1;33m\u001b[0m\u001b[1;33m\u001b[0m\u001b[0m\n\u001b[0;32m     71\u001b[0m             \u001b[0mrule\u001b[0m\u001b[1;33m.\u001b[0m\u001b[0m__name__\u001b[0m\u001b[1;33m,\u001b[0m\u001b[1;33m\u001b[0m\u001b[1;33m\u001b[0m\u001b[0m\n\u001b[1;32m---> 72\u001b[1;33m             \u001b[0mself\u001b[0m\u001b[1;33m.\u001b[0m\u001b[0m_component\u001b[0m\u001b[1;33m(\u001b[0m\u001b[1;33m*\u001b[0m\u001b[0mself\u001b[0m\u001b[1;33m.\u001b[0m\u001b[0m_args\u001b[0m\u001b[1;33m,\u001b[0m \u001b[0mrule\u001b[0m\u001b[1;33m=\u001b[0m\u001b[0mrule\u001b[0m\u001b[1;33m,\u001b[0m \u001b[1;33m**\u001b[0m\u001b[1;33m(\u001b[0m\u001b[0mself\u001b[0m\u001b[1;33m.\u001b[0m\u001b[0m_kwds\u001b[0m\u001b[1;33m)\u001b[0m\u001b[1;33m)\u001b[0m\u001b[1;33m\u001b[0m\u001b[1;33m\u001b[0m\u001b[0m\n\u001b[0m\u001b[0;32m     73\u001b[0m         )\n\u001b[0;32m     74\u001b[0m         \u001b[1;32mreturn\u001b[0m \u001b[0mrule\u001b[0m\u001b[1;33m\u001b[0m\u001b[1;33m\u001b[0m\u001b[0m\n",
      "\u001b[1;32m~\\AppData\\Local\\Continuum\\anaconda3\\envs\\idaes\\lib\\site-packages\\pyomo\\core\\base\\block.py\u001b[0m in \u001b[0;36m__setattr__\u001b[1;34m(self, name, val)\u001b[0m\n\u001b[0;32m    541\u001b[0m                 \u001b[1;31m# Pyomo components are added with the add_component method.\u001b[0m\u001b[1;33m\u001b[0m\u001b[1;33m\u001b[0m\u001b[1;33m\u001b[0m\u001b[0m\n\u001b[0;32m    542\u001b[0m                 \u001b[1;31m#\u001b[0m\u001b[1;33m\u001b[0m\u001b[1;33m\u001b[0m\u001b[1;33m\u001b[0m\u001b[0m\n\u001b[1;32m--> 543\u001b[1;33m                 \u001b[0mself\u001b[0m\u001b[1;33m.\u001b[0m\u001b[0madd_component\u001b[0m\u001b[1;33m(\u001b[0m\u001b[0mname\u001b[0m\u001b[1;33m,\u001b[0m \u001b[0mval\u001b[0m\u001b[1;33m)\u001b[0m\u001b[1;33m\u001b[0m\u001b[1;33m\u001b[0m\u001b[0m\n\u001b[0m\u001b[0;32m    544\u001b[0m             \u001b[1;32melse\u001b[0m\u001b[1;33m:\u001b[0m\u001b[1;33m\u001b[0m\u001b[1;33m\u001b[0m\u001b[0m\n\u001b[0;32m    545\u001b[0m                 \u001b[1;31m#\u001b[0m\u001b[1;33m\u001b[0m\u001b[1;33m\u001b[0m\u001b[1;33m\u001b[0m\u001b[0m\n",
      "\u001b[1;32m~\\AppData\\Local\\Continuum\\anaconda3\\envs\\idaes\\lib\\site-packages\\pyomo\\core\\base\\block.py\u001b[0m in \u001b[0;36madd_component\u001b[1;34m(self, name, val)\u001b[0m\n\u001b[0;32m   1079\u001b[0m                              _blockName, str(data))\n\u001b[0;32m   1080\u001b[0m             \u001b[1;32mtry\u001b[0m\u001b[1;33m:\u001b[0m\u001b[1;33m\u001b[0m\u001b[1;33m\u001b[0m\u001b[0m\n\u001b[1;32m-> 1081\u001b[1;33m                 \u001b[0mval\u001b[0m\u001b[1;33m.\u001b[0m\u001b[0mconstruct\u001b[0m\u001b[1;33m(\u001b[0m\u001b[0mdata\u001b[0m\u001b[1;33m)\u001b[0m\u001b[1;33m\u001b[0m\u001b[1;33m\u001b[0m\u001b[0m\n\u001b[0m\u001b[0;32m   1082\u001b[0m             \u001b[1;32mexcept\u001b[0m\u001b[1;33m:\u001b[0m\u001b[1;33m\u001b[0m\u001b[1;33m\u001b[0m\u001b[0m\n\u001b[0;32m   1083\u001b[0m                 \u001b[0merr\u001b[0m \u001b[1;33m=\u001b[0m \u001b[0msys\u001b[0m\u001b[1;33m.\u001b[0m\u001b[0mexc_info\u001b[0m\u001b[1;33m(\u001b[0m\u001b[1;33m)\u001b[0m\u001b[1;33m[\u001b[0m\u001b[1;36m1\u001b[0m\u001b[1;33m]\u001b[0m\u001b[1;33m\u001b[0m\u001b[1;33m\u001b[0m\u001b[0m\n",
      "\u001b[1;32m~\\AppData\\Local\\Continuum\\anaconda3\\envs\\idaes\\lib\\site-packages\\pyomo\\core\\base\\constraint.py\u001b[0m in \u001b[0;36mconstruct\u001b[1;34m(self, data)\u001b[0m\n\u001b[0;32m    835\u001b[0m                 \u001b[1;32mfor\u001b[0m \u001b[0mindex\u001b[0m \u001b[1;32min\u001b[0m \u001b[0mself\u001b[0m\u001b[1;33m.\u001b[0m\u001b[0mindex_set\u001b[0m\u001b[1;33m(\u001b[0m\u001b[1;33m)\u001b[0m\u001b[1;33m:\u001b[0m\u001b[1;33m\u001b[0m\u001b[1;33m\u001b[0m\u001b[0m\n\u001b[0;32m    836\u001b[0m                     self._setitem_when_not_present(\n\u001b[1;32m--> 837\u001b[1;33m                         \u001b[0mindex\u001b[0m\u001b[1;33m,\u001b[0m \u001b[0mself\u001b[0m\u001b[1;33m.\u001b[0m\u001b[0mrule\u001b[0m\u001b[1;33m(\u001b[0m\u001b[0mblock\u001b[0m\u001b[1;33m,\u001b[0m \u001b[0mindex\u001b[0m\u001b[1;33m)\u001b[0m\u001b[1;33m\u001b[0m\u001b[1;33m\u001b[0m\u001b[0m\n\u001b[0m\u001b[0;32m    838\u001b[0m                     )\n\u001b[0;32m    839\u001b[0m         \u001b[1;32mexcept\u001b[0m \u001b[0mException\u001b[0m\u001b[1;33m:\u001b[0m\u001b[1;33m\u001b[0m\u001b[1;33m\u001b[0m\u001b[0m\n",
      "\u001b[1;32m~\\AppData\\Local\\Continuum\\anaconda3\\envs\\idaes\\lib\\site-packages\\pyomo\\core\\base\\util.py\u001b[0m in \u001b[0;36m__call__\u001b[1;34m(self, parent, idx)\u001b[0m\n\u001b[0;32m    303\u001b[0m             \u001b[1;32mreturn\u001b[0m \u001b[0mself\u001b[0m\u001b[1;33m.\u001b[0m\u001b[0m_fcn\u001b[0m\u001b[1;33m(\u001b[0m\u001b[0mparent\u001b[0m\u001b[1;33m,\u001b[0m \u001b[1;33m*\u001b[0m\u001b[0midx\u001b[0m\u001b[1;33m)\u001b[0m\u001b[1;33m\u001b[0m\u001b[1;33m\u001b[0m\u001b[0m\n\u001b[0;32m    304\u001b[0m         \u001b[1;32melse\u001b[0m\u001b[1;33m:\u001b[0m\u001b[1;33m\u001b[0m\u001b[1;33m\u001b[0m\u001b[0m\n\u001b[1;32m--> 305\u001b[1;33m             \u001b[1;32mreturn\u001b[0m \u001b[0mself\u001b[0m\u001b[1;33m.\u001b[0m\u001b[0m_fcn\u001b[0m\u001b[1;33m(\u001b[0m\u001b[0mparent\u001b[0m\u001b[1;33m,\u001b[0m \u001b[0midx\u001b[0m\u001b[1;33m)\u001b[0m\u001b[1;33m\u001b[0m\u001b[1;33m\u001b[0m\u001b[0m\n\u001b[0m\u001b[0;32m    306\u001b[0m \u001b[1;33m\u001b[0m\u001b[0m\n\u001b[0;32m    307\u001b[0m \u001b[1;33m\u001b[0m\u001b[0m\n",
      "\u001b[1;32mc:\\users\\deshpana\\idaes\\idaes-dev-egs\\idaes-dev\\idaes-dev\\idaes\\generic_models\\unit_models\\heat_exchanger.py\u001b[0m in \u001b[0;36mdelta_temperature_in_equation\u001b[1;34m(b, t)\u001b[0m\n\u001b[0;32m    334\u001b[0m                     \u001b[1;33m==\u001b[0m \u001b[0mb\u001b[0m\u001b[1;33m.\u001b[0m\u001b[0mside_1\u001b[0m\u001b[1;33m.\u001b[0m\u001b[0mproperties_in\u001b[0m\u001b[1;33m[\u001b[0m\u001b[0mt\u001b[0m\u001b[1;33m]\u001b[0m\u001b[1;33m.\u001b[0m\u001b[0mtemperature\u001b[0m\u001b[1;33m\u001b[0m\u001b[1;33m\u001b[0m\u001b[0m\n\u001b[0;32m    335\u001b[0m                     - pyunits.convert(b.side_2.properties_out[t].temperature,\n\u001b[1;32m--> 336\u001b[1;33m                                       to_units=t_units)\n\u001b[0m\u001b[0;32m    337\u001b[0m                 )\n\u001b[0;32m    338\u001b[0m \u001b[1;33m\u001b[0m\u001b[0m\n",
      "\u001b[1;32m~\\AppData\\Local\\Continuum\\anaconda3\\envs\\idaes\\lib\\site-packages\\pyomo\\core\\base\\units_container.py\u001b[0m in \u001b[0;36mconvert\u001b[1;34m(self, src, to_units)\u001b[0m\n\u001b[0;32m   1435\u001b[0m         \u001b[1;32mif\u001b[0m \u001b[0mbase_units_src\u001b[0m \u001b[1;33m!=\u001b[0m \u001b[0mbase_units_dest\u001b[0m\u001b[1;33m:\u001b[0m\u001b[1;33m\u001b[0m\u001b[1;33m\u001b[0m\u001b[0m\n\u001b[0;32m   1436\u001b[0m             raise InconsistentUnitsError(src_pint_unit, to_pint_unit,\n\u001b[1;32m-> 1437\u001b[1;33m                                          'Error in convert: units not compatible.')\n\u001b[0m\u001b[0;32m   1438\u001b[0m \u001b[1;33m\u001b[0m\u001b[0m\n\u001b[0;32m   1439\u001b[0m         \u001b[1;32mreturn\u001b[0m \u001b[0mfac_b_src\u001b[0m\u001b[1;33m/\u001b[0m\u001b[0mfac_b_dest\u001b[0m\u001b[1;33m*\u001b[0m\u001b[0mto_pyomo_unit\u001b[0m\u001b[1;33m/\u001b[0m\u001b[0msrc_pyomo_unit\u001b[0m\u001b[1;33m*\u001b[0m\u001b[0msrc\u001b[0m\u001b[1;33m\u001b[0m\u001b[1;33m\u001b[0m\u001b[0m\n",
      "\u001b[1;31mInconsistentUnitsError\u001b[0m: Error in convert: units not compatible.: kelvin not compatible with None."
     ]
    }
   ],
   "source": [
    "#Import a heat exchanger unit\n",
    "from idaes.generic_models.unit_models.heat_exchanger import HeatExchanger\n",
    "from idaes.generic_models.unit_models.heat_exchanger import delta_temperature_amtd_callback\n",
    "\n",
    "#Create an instance of the heat exchanger unit, attaching it to the flowsheet\n",
    "#Specify that the property package to be used with the heater is the one we created earlier.\n",
    "m.fs.heat_exchanger = HeatExchanger(default={\n",
    "        \"delta_temperature_callback\":delta_temperature_amtd_callback,\n",
    "        \"shell\":{\"property_package\": m.fs.properties_shell},\n",
    "        \"tube\":{\"property_package\": m.fs.properties_tube}})\n",
    "\n",
    "#Import the degrees_of_freedom function from the idaes.core.util.model_statistics package\n",
    "from idaes.core.util.model_statistics import degrees_of_freedom\n",
    "# DOF = Number of Model Variables - Number of Model Constraints\n",
    "\n",
    "# Call the degrees_of_freedom function, get intitial DOF\n",
    "DOF_initial = degrees_of_freedom(m)\n",
    "print(\"The initial DOF is {0}\".format(DOF_initial))\n",
    "\n"
   ]
  },
  {
   "cell_type": "code",
   "execution_count": null,
   "metadata": {},
   "outputs": [],
   "source": [
    "h = htpx(450, P = 101325)\n",
    "\n",
    "print(h)\n",
    "\n",
    "#Fix the inlet conditions\n",
    "m.fs.heat_exchanger.shell_inlet.flow_mol.fix(1) #mol/s\n",
    "m.fs.heat_exchanger.shell_inlet.pressure.fix(101325)\n",
    "m.fs.heat_exchanger.shell_inlet.enth_mol.fix(h) #J/mol\n",
    "\n",
    "DOF_initial = degrees_of_freedom(m)\n",
    "print(\"The DOF is {0}\".format(DOF_initial))\n"
   ]
  },
  {
   "cell_type": "code",
   "execution_count": null,
   "metadata": {},
   "outputs": [],
   "source": [
    "m.fs.heat_exchanger.tube_inlet.flow_mol.fix(1)\n",
    "m.fs.heat_exchanger.tube_inlet.mole_frac_comp[0, \"benzene\"].fix(0.4)\n",
    "m.fs.heat_exchanger.tube_inlet.mole_frac_comp[0, \"toluene\"].fix(0.6)\n",
    "m.fs.heat_exchanger.tube_inlet.pressure.fix(101325)\n",
    "m.fs.heat_exchanger.tube_inlet.temperature[0].fix(410)\n",
    "\n",
    "#m.fs.heat_exchanger.display()\n",
    "#m.fs.heat_exchanger.tube_inlet.enth_mol[0].fix(8.57872*4184)\n",
    "#m.fs.heat_exchanger.tube_outlet.enth_mol[0].fix(9.01705*4184)\n",
    "\n",
    "#m.fs.heat_exchanger.tube_outlet.temperature[0].fix(363)\n",
    "\n",
    "#m.fs.heat_exchanger.area.fix(0.771)\n",
    "#m.fs.heat_exchanger.overall_heat_transfer_coefficient[0].fix(568)\n",
    "\n",
    "#m.fs.heat_exchanger.delta_temperature_in[0].fix(5) \n",
    "#m.fs.heat_exchanger.delta_temperature_out[0].fix(5) \n",
    "\n",
    "# Call the degrees_of_freedom function, get final DOF\n",
    "DOF_final = degrees_of_freedom(m)\n",
    "print(\"The DOF is {0}\".format(DOF_final))"
   ]
  },
  {
   "cell_type": "code",
   "execution_count": null,
   "metadata": {},
   "outputs": [],
   "source": [
    "m.fs.heat_exchanger.area.fix(2) #m2\n",
    "m.fs.heat_exchanger.overall_heat_transfer_coefficient[0].fix(500) #W/m2/K\n",
    "\n",
    "# Call the degrees_of_freedom function, get final DOF\n",
    "DOF_final = degrees_of_freedom(m)\n",
    "print(\"The DOF is {0}\".format(DOF_final))"
   ]
  },
  {
   "cell_type": "code",
   "execution_count": null,
   "metadata": {},
   "outputs": [],
   "source": [
    "#Initialize the flowsheet, and set the output at WARNING\n",
    "m.fs.heat_exchanger.initialize(outlvl=idaeslog.INFO)\n",
    "\n",
    "#Solve the simulation using ipopt\n",
    "#Note: If the degrees of freedom = 0, we have a square problem\n",
    "opt = SolverFactory('ipopt')\n",
    "result = opt.solve(m)\n",
    "\n",
    "#Display a readable report\n",
    "m.fs.heat_exchanger.report()"
   ]
  },
  {
   "cell_type": "code",
   "execution_count": null,
   "metadata": {},
   "outputs": [],
   "source": []
  }
 ],
 "metadata": {
  "kernelspec": {
   "display_name": "Python 3",
   "language": "python",
   "name": "python3"
  },
  "language_info": {
   "codemirror_mode": {
    "name": "ipython",
    "version": 3
   },
   "file_extension": ".py",
   "mimetype": "text/x-python",
   "name": "python",
   "nbconvert_exporter": "python",
   "pygments_lexer": "ipython3",
   "version": "3.7.4"
  }
 },
 "nbformat": 4,
 "nbformat_minor": 2
}
