{
 "cells": [
  {
   "cell_type": "markdown",
   "metadata": {},
   "source": [
    "# Tutorial: Translator Unit Model with Modular Property Package\n",
    "\n",
    "\n",
    "<img src='translator.PNG' width=\"300\" height=\"300\">\n",
    "\n",
    "## Learning Outcomes\n",
    "\n",
    "- Demonstrate use of the Translator unit model in IDAES\n",
    "\n",
    "\n",
    "## Problem Statement\n",
    "\n",
    "In this tutorial, we will be transforming an inlet stream that uses the Benzene-Toluene Ideal property package to an outlet stream that uses the Benzene-Toluene Peng-Robinson property package. The stream conditions are as follows:\n",
    "\n",
    "**Inlet Inputs(Ideal):**\n",
    "\n",
    "Flow Rate = 100 mol/s\n",
    "\n",
    "Mole Fraction (benzene) = 0.6\n",
    "\n",
    "Mole Fraction (toluene) = 0.4\n",
    "\n",
    "Temperature = 298 K\n",
    "\n",
    "Pressure = 101325 Pa\n",
    "\n",
    "**Outlet Results(Peng-Robinson):**\n",
    "\n",
    "Flow Rate = 100 mol/s\n",
    "\n",
    "Benzene Molar Concentration = mol/m^3\n",
    "\n",
    "Toluene Molar Concentration = mol/m^3\n",
    "\n",
    "Temperature = 298 K\n",
    "\n",
    "Pressure = 101325 Pa\n",
    "\n",
    "\n",
    "For more details, please refer to the IDAES documentation: https://idaes-pse.readthedocs.io/en/stable"
   ]
  },
  {
   "cell_type": "markdown",
   "metadata": {},
   "source": [
    "## Setting up the problem in IDAES"
   ]
  },
  {
   "cell_type": "markdown",
   "metadata": {},
   "source": [
    "In the following cell, we will be importing the necessary components from Pyomo and IDAES."
   ]
  },
  {
   "cell_type": "code",
   "execution_count": null,
   "metadata": {},
   "outputs": [],
   "source": [
    "# Import objects from pyomo package \n",
    "from pyomo.environ import ConcreteModel, Constraint, value, SolverFactory\n",
    "\n",
    "# Import the solver\n",
    "from idaes.core.solvers import get_solver\n",
    "\n",
    "# Import the main FlowsheetBlock from IDAES. The flowsheet block will contain the unit model\n",
    "from idaes.core import FlowsheetBlock\n",
    "\n",
    "# Import the product unit model\n",
    "from idaes.models.unit_models import Translator\n",
    "\n",
    "# Import idaes logger to set output levels\n",
    "import idaes.logger as idaeslog\n",
    "\n",
    "# Import the modular property package to create a property block for the flowsheet\n",
    "from idaes.models.properties.modular_properties.base.generic_property import GenericParameterBlock\n",
    "\n",
    "# Import the BT_ideal property package to create a configuration file for the GenericParameterBlock based on the ideal eos\n",
    "from idaes.models.properties.modular_properties.examples.BT_ideal import configuration as configuration_ideal\n",
    "\n",
    "# Import the BT_PR property package to create a configuration file for the GenericParameterBlock based on the Peng-Robinson eos\n",
    "from idaes.models.properties.modular_properties.examples.BT_PR import configuration as configuration_PR\n",
    "\n",
    "# Import the degrees_of_freedom function from the idaes.core.util.model_statistics package\n",
    "# DOF = Number of Model Variables - Number of Model Constraints\n",
    "from idaes.core.util.model_statistics import degrees_of_freedom\n",
    "\n",
    "# Create the ConcreteModel and the FlowsheetBlock objects, and attach the flowsheet block to it.\n",
    "m = ConcreteModel()\n",
    "\n",
    "m.fs = FlowsheetBlock(dynamic=False) # dynamic or ss flowsheet needs to be specified here\n",
    "\n",
    "# Add properties parameter block to the flowsheet with the BT_ideal configuration file\n",
    "m.fs.properties_ideal = GenericParameterBlock(**configuration_ideal)\n",
    "\n",
    "# Add properties parameter block to the flowsheet with the BT_PR configuration file\n",
    "m.fs.properties_PR = GenericParameterBlock(**configuration_PR)"
   ]
  },
  {
   "cell_type": "markdown",
   "metadata": {},
   "source": [
    "In the following cell, we will be creating the translator unit model, assigning the appropriate property packages to it, and determining the degrees of freedom associated with the translator unit model."
   ]
  },
  {
   "cell_type": "code",
   "execution_count": null,
   "metadata": {},
   "outputs": [],
   "source": [
    "# Create an instance of the translator unit, attaching it to the flowsheet\n",
    "# Specify that the property packages to be used for the inlet and outlet streams are the ones we created earlier\n",
    "\n",
    "m.fs.translator = Translator(\n",
    "    inlet_property_package=m.fs.properties_ideal,\n",
    "    outlet_property_package=m.fs.properties_PR,\n",
    ")\n",
    "\n",
    "\n",
    "# Call the degrees_of_freedom function, get initial DOF\n",
    "DOF_initial = degrees_of_freedom(m)\n",
    "print('The initial degrees of freedom are: {0}'.format(DOF_initial))"
   ]
  },
  {
   "cell_type": "code",
   "execution_count": null,
   "metadata": {
    "tags": [
     "testing",
     "remove_cell"
    ]
   },
   "outputs": [],
   "source": [
    "assert DOF_initial == 10"
   ]
  },
  {
   "cell_type": "markdown",
   "metadata": {},
   "source": [
    "In the following cell, we will be specifying the inlet conditions for the translator block."
   ]
  },
  {
   "cell_type": "code",
   "execution_count": null,
   "metadata": {},
   "outputs": [],
   "source": [
    "# Fix the inlet conditions\n",
    "\n",
    "m.fs.translator.inlet.flow_mol.fix(100) # converting to mol/s as unit basis is mol/s\n",
    "m.fs.translator.inlet.mole_frac_comp[0, \"benzene\"].fix(0.6)\n",
    "m.fs.translator.inlet.mole_frac_comp[0, \"toluene\"].fix(0.4)\n",
    "m.fs.translator.inlet.pressure.fix(101325) # Pa\n",
    "m.fs.translator.inlet.temperature.fix(298) # K"
   ]
  },
  {
   "cell_type": "markdown",
   "metadata": {},
   "source": [
    "In the following cell, we will be adding the translator block constraints to define the relationship between the inlet and outlet property packages and ensuring that there are zero degrees of freedom."
   ]
  },
  {
   "cell_type": "code",
   "execution_count": null,
   "metadata": {},
   "outputs": [],
   "source": [
    "# Define a translator block to make the constraints more readable\n",
    "blk = m.fs.translator\n",
    "\n",
    "# Add translator block constraints\n",
    "blk.eq_flow_mol = Constraint(\n",
    "    expr=blk.properties_in[0].flow_mol == blk.properties_out[0].flow_mol\n",
    ")\n",
    "blk.eq_benzene_balance = Constraint(\n",
    "    expr=blk.properties_in[0].flow_mol * blk.properties_in[0].mole_frac_comp[\"benzene\"]\n",
    "    == blk.properties_out[0].flow_mol_phase_comp[\"Liq\", \"benzene\"]\n",
    ")\n",
    "blk.eq_toluene_balance = Constraint(\n",
    "    expr=blk.properties_in[0].flow_mol * blk.properties_in[0].mole_frac_comp[\"toluene\"]\n",
    "    == blk.properties_out[0].flow_mol_phase_comp[\"Liq\", \"toluene\"]\n",
    ")\n",
    "blk.eq_equal_temperature = Constraint(\n",
    "    expr=blk.properties_in[0].temperature == blk.properties_out[0].temperature\n",
    ")\n",
    "blk.eq_equal_pressure = Constraint(\n",
    "    expr=blk.properties_in[0].pressure == blk.properties_out[0].pressure\n",
    ")\n",
    "\n",
    "\n",
    "# Call the degrees_of_freedom function, get final DOF\n",
    "DOF_final = degrees_of_freedom(m)\n",
    "print('The final degrees of freedom is: {0}'.format(DOF_final))"
   ]
  },
  {
   "cell_type": "code",
   "execution_count": null,
   "metadata": {
    "tags": [
     "testing",
     "remove_cell"
    ]
   },
   "outputs": [],
   "source": [
    "assert DOF_final == 0"
   ]
  },
  {
   "cell_type": "markdown",
   "metadata": {},
   "source": [
    "### Flowsheet Initialization"
   ]
  },
  {
   "cell_type": "code",
   "execution_count": null,
   "metadata": {},
   "outputs": [],
   "source": [
    "# Initialize the flowsheet, and set the output at WARNING\n",
    "m.fs.translator.initialize(outlvl=idaeslog.WARNING)"
   ]
  },
  {
   "cell_type": "markdown",
   "metadata": {},
   "source": [
    "### Obtaining Simulation Results"
   ]
  },
  {
   "cell_type": "code",
   "execution_count": null,
   "metadata": {},
   "outputs": [],
   "source": [
    "# Solve the simulation using the IDAES solver\n",
    "# Note: If the degrees of freedom = 0, we have a square problem\n",
    "solver = get_solver()\n",
    "result = solver.solve(m, tee=True)"
   ]
  },
  {
   "cell_type": "code",
   "execution_count": null,
   "metadata": {
    "tags": [
     "testing",
     "remove_cell"
    ]
   },
   "outputs": [],
   "source": [
    "from pyomo.opt import TerminationCondition, SolverStatus\n",
    "\n",
    "# Check if termination condition is optimal\n",
    "assert result.solver.termination_condition == TerminationCondition.optimal\n",
    "assert result.solver.status == SolverStatus.ok"
   ]
  },
  {
   "cell_type": "markdown",
   "metadata": {},
   "source": [
    "### View Results"
   ]
  },
  {
   "cell_type": "code",
   "execution_count": null,
   "metadata": {},
   "outputs": [],
   "source": [
    "# Display output report\n",
    "m.fs.translator.report()\n",
    "\n",
    "# Display inlet and outlet separately\n",
    "m.fs.translator.inlet.display()\n",
    "m.fs.translator.outlet.display()\n"
   ]
  },
  {
   "cell_type": "code",
   "execution_count": null,
   "metadata": {
    "tags": [
     "testing",
     "remove_cell"
    ]
   },
   "outputs": [],
   "source": [
    "import pytest\n",
    "\n",
    "# Check results\n",
    "assert value(m.fs.translator.inlet.flow_mol[0]) == pytest.approx(100, rel=1e-6)\n",
    "assert value(m.fs.translator.inlet.mole_frac_comp[0, \"benzene\"]) == pytest.approx(0.6, rel=1e-6)\n",
    "assert value(m.fs.translator.inlet.mole_frac_comp[0, \"toluene\"]) == pytest.approx(0.4, rel=1e-6)\n",
    "\n",
    "assert value(m.fs.translator.outlet.flow_mol[0]) == pytest.approx(100, rel=1e-6)\n",
    "# assert value(m.fs.translator.outlet.flow_mol_phase_comp[\"Liq\", \"benzene\"] == pytest.approx(600, rel=1e-6)\n",
    "# assert value(m.fs.translator.outlet.flow_mol_phase_comp[\"Liq\", \"toluene\"] == pytest.approx(400, rel=1e-6)\n"
   ]
  },
  {
   "cell_type": "code",
   "execution_count": null,
   "metadata": {},
   "outputs": [],
   "source": []
  }
 ],
 "metadata": {
  "celltoolbar": "Tags",
  "kernelspec": {
   "display_name": "Python 3 (ipykernel)",
   "language": "python",
   "name": "python3"
  },
  "language_info": {
   "codemirror_mode": {
    "name": "ipython",
    "version": 3
   },
   "file_extension": ".py",
   "mimetype": "text/x-python",
   "name": "python",
   "nbconvert_exporter": "python",
   "pygments_lexer": "ipython3",
   "version": "3.7.13"
  }
 },
 "nbformat": 4,
 "nbformat_minor": 2
}
