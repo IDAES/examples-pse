{
 "cells": [
  {
   "cell_type": "markdown",
   "metadata": {},
   "source": [
    "# Tutorial: Translator Unit Model with Modular Property Package"
   ]
  },
  {
   "cell_type": "code",
   "execution_count": null,
   "metadata": {},
   "outputs": [],
   "source": [
    "from IPython.core.display import SVG\n",
    "SVG(filename='translator.svg')"
   ]
  },
  {
   "cell_type": "markdown",
   "metadata": {},
   "source": [
    "## Learning Outcomes\n",
    "\n",
    "- Demonstrate use of the Translator unit model in IDAES\n",
    "\n",
    "\n",
    "## Problem Statement\n",
    "\n",
    "In this tutorial, we will be transforming an inlet stream that uses the Benzene-Toluene Ideal property package to an outlet stream that uses a user-created configuration file. The state variables for each stream are as follows:\n",
    "\n",
    "**Inlet State Variables(FTPx):**\n",
    "\n",
    "Flow Rate = 100 mol/s\n",
    "\n",
    "Temperature = 298 K\n",
    "\n",
    "Pressure = 101325 Pa\n",
    "\n",
    "Mole Fraction (benzene) = 0.6\n",
    "\n",
    "Mole Fraction (toluene) = 0.4\n",
    "\n",
    "**Outlet State Variables (FcTP):**\n",
    "\n",
    "Benzene Molar Flow = 60 mol/s\n",
    "\n",
    "Toluene Molar Flow = 40 mol/s\n",
    "\n",
    "Temperature = 298 K\n",
    "\n",
    "Pressure = 101325 Pa\n",
    "\n",
    "\n",
    "For more details, please refer to the IDAES documentation: https://idaes-pse.readthedocs.io/en/stable"
   ]
  },
  {
   "cell_type": "markdown",
   "metadata": {},
   "source": [
    "## Setting up the problem in IDAES"
   ]
  },
  {
   "cell_type": "markdown",
   "metadata": {},
   "source": [
    "In the following cell, we will be importing the necessary components from Pyomo and IDAES."
   ]
  },
  {
   "cell_type": "code",
   "execution_count": null,
   "metadata": {},
   "outputs": [],
   "source": [
    "# Import objects from pyomo package \n",
    "from pyomo.environ import ConcreteModel, Constraint, value, SolverFactory\n",
    "\n",
    "# Import the solver\n",
    "from idaes.core.solvers import get_solver\n",
    "\n",
    "# Import the main FlowsheetBlock from IDAES. The flowsheet block will contain the unit model\n",
    "from idaes.core import FlowsheetBlock\n",
    "\n",
    "# Import the product unit model\n",
    "from idaes.models.unit_models import Translator\n",
    "\n",
    "# Import idaes logger to set output levels\n",
    "import idaes.logger as idaeslog\n",
    "\n",
    "# Import the modular property package to create a property block for the flowsheet\n",
    "from idaes.models.properties.modular_properties.base.generic_property import GenericParameterBlock\n",
    "\n",
    "# Import the BT_ideal property package to create a configuration file for the GenericParameterBlock based on the ideal eos\n",
    "from idaes.models.properties.modular_properties.examples.BT_ideal import configuration as configuration_FTPx\n",
    "\n",
    "# Import the degrees_of_freedom function from the idaes.core.util.model_statistics package\n",
    "# DOF = Number of Model Variables - Number of Model Constraints\n",
    "from idaes.core.util.model_statistics import degrees_of_freedom\n",
    "\n",
    "# Create the ConcreteModel and the FlowsheetBlock objects, and attach the flowsheet block to it.\n",
    "m = ConcreteModel()\n",
    "\n",
    "m.fs = FlowsheetBlock(dynamic=False) # dynamic or ss flowsheet needs to be specified here\n"
   ]
  },
  {
   "cell_type": "markdown",
   "metadata": {},
   "source": [
    "In the following cell, we will create a configuration file that is similar to the BT_ideal configuration, except this example will use FcTP state variables rather than FTPx state variables."
   ]
  },
  {
   "cell_type": "code",
   "execution_count": null,
   "metadata": {},
   "outputs": [],
   "source": [
    "# Import Component to create the benzene and toluene variables\n",
    "from idaes.core import Component\n",
    "\n",
    "# Import pyunits to define the units of variables\n",
    "from pyomo.environ import units as pyunits\n",
    "\n",
    "# Import potential phases\n",
    "from idaes.core import LiquidPhase, VaporPhase\n",
    "\n",
    "# Import the state definition\n",
    "from idaes.models.properties.modular_properties.state_definitions import FcTP\n",
    "\n",
    "# Import the ideal equation of state\n",
    "from idaes.models.properties.modular_properties.eos.ideal import Ideal\n",
    "\n",
    "# Import the phase equilibrium state\n",
    "from idaes.models.properties.modular_properties.phase_equil import SmoothVLE\n",
    "\n",
    "# Import the bubble dew method\n",
    "from idaes.models.properties.modular_properties.phase_equil.bubble_dew import (\n",
    "    IdealBubbleDew,\n",
    ")\n",
    "\n",
    "# Import the fugacity term\n",
    "from idaes.models.properties.modular_properties.phase_equil.forms import fugacity\n",
    "\n",
    "# Import the following literature references\n",
    "import idaes.models.properties.modular_properties.pure.Perrys as Perrys\n",
    "import idaes.models.properties.modular_properties.pure.RPP4 as RPP4\n",
    "import idaes.models.properties.modular_properties.pure.NIST as NIST\n",
    "\n",
    "configuration_FcTP = {\n",
    "    \"components\": {\n",
    "        \"benzene\": {\n",
    "            \"type\": Component,\n",
    "            \"dens_mol_liq_comp\": Perrys,\n",
    "            \"enth_mol_liq_comp\": Perrys,\n",
    "            \"enth_mol_ig_comp\": RPP4,\n",
    "            \"pressure_sat_comp\": NIST,\n",
    "            \"phase_equilibrium_form\": {(\"Vap\", \"Liq\"): fugacity},\n",
    "            \"parameter_data\": {\n",
    "                \"mw\": 78.1136e-3,  # [1]\n",
    "                \"pressure_crit\": 48.9e5,  # [1]\n",
    "                \"temperature_crit\": 562.2,  # [1]\n",
    "                \"dens_mol_liq_comp_coeff\": {\n",
    "                    \"eqn_type\": 1,\n",
    "                    \"1\": 1.0162,  # [2] pg. 2-98\n",
    "                    \"2\": 0.2655,\n",
    "                    \"3\": 562.16,\n",
    "                    \"4\": 0.28212,\n",
    "                },\n",
    "                \"cp_mol_ig_comp_coeff\": {\n",
    "                    \"A\": -3.392e1,  # [1]\n",
    "                    \"B\": 4.739e-1,\n",
    "                    \"C\": -3.017e-4,\n",
    "                    \"D\": 7.130e-8,\n",
    "                },\n",
    "                \"cp_mol_liq_comp_coeff\": {\n",
    "                    \"1\": 1.29e2,  # [2]\n",
    "                    \"2\": -1.7e-1,\n",
    "                    \"3\": 6.48e-4,\n",
    "                    \"4\": 0,\n",
    "                    \"5\": 0,\n",
    "                },\n",
    "                \"enth_mol_form_liq_comp_ref\": 49.0e3,  # [3]\n",
    "                \"enth_mol_form_vap_comp_ref\": 82.9e3,  # [3]\n",
    "                \"pressure_sat_comp_coeff\": {\n",
    "                    \"A\": 4.72583,  # [NIST]\n",
    "                    \"B\": 1660.652,\n",
    "                    \"C\": -1.461,\n",
    "                },\n",
    "            },\n",
    "        },\n",
    "        \"toluene\": {\n",
    "            \"type\": Component,\n",
    "            \"dens_mol_liq_comp\": Perrys,\n",
    "            \"enth_mol_liq_comp\": Perrys,\n",
    "            \"enth_mol_ig_comp\": RPP4,\n",
    "            \"pressure_sat_comp\": NIST,\n",
    "            \"phase_equilibrium_form\": {(\"Vap\", \"Liq\"): fugacity},\n",
    "            \"parameter_data\": {\n",
    "                \"mw\": 92.1405e-3,  # [1]\n",
    "                \"pressure_crit\": 41e5,  # [1]\n",
    "                \"temperature_crit\": 591.8,  # [1]\n",
    "                \"dens_mol_liq_comp_coeff\": {\n",
    "                    \"eqn_type\": 1,\n",
    "                    \"1\": 0.8488,  # [2] pg. 2-98\n",
    "                    \"2\": 0.26655,\n",
    "                    \"3\": 591.8,\n",
    "                    \"4\": 0.2878,\n",
    "                },\n",
    "                \"cp_mol_ig_comp_coeff\": {\n",
    "                    \"A\": -2.435e1,\n",
    "                    \"B\": 5.125e-1,\n",
    "                    \"C\": -2.765e-4,\n",
    "                    \"D\": 4.911e-8,\n",
    "                },\n",
    "                \"cp_mol_liq_comp_coeff\": {\n",
    "                    \"1\": 1.40e2,  # [2]\n",
    "                    \"2\": -1.52e-1,\n",
    "                    \"3\": 6.95e-4,\n",
    "                    \"4\": 0,\n",
    "                    \"5\": 0,\n",
    "                },\n",
    "                \"enth_mol_form_liq_comp_ref\": 12.0e3,  # [3]\n",
    "                \"enth_mol_form_vap_comp_ref\": 50.1e3,  # [3]\n",
    "                \"pressure_sat_comp_coeff\": {\n",
    "                    \"A\": 4.07827,  # [NIST]\n",
    "                    \"B\": 1343.943,\n",
    "                    \"C\": -53.773,\n",
    "                },\n",
    "            },\n",
    "        },\n",
    "    },\n",
    "    \"phases\": {\n",
    "        \"Liq\": {\"type\": LiquidPhase, \"equation_of_state\": Ideal},\n",
    "        \"Vap\": {\"type\": VaporPhase, \"equation_of_state\": Ideal},\n",
    "    },\n",
    "    \"base_units\": {\n",
    "        \"time\": pyunits.s,\n",
    "        \"length\": pyunits.m,\n",
    "        \"mass\": pyunits.kg,\n",
    "        \"amount\": pyunits.mol,\n",
    "        \"temperature\": pyunits.K,\n",
    "    },\n",
    "    \"state_definition\": FcTP,\n",
    "    \"state_bounds\": {\n",
    "        \"flow_mol_comp\": (0, 100, 1000, pyunits.mol / pyunits.s),\n",
    "        \"temperature\": (273.15, 300, 450, pyunits.K),\n",
    "        \"pressure\": (5e4, 1e5, 1e6, pyunits.Pa),\n",
    "    },\n",
    "    \"pressure_ref\": 1e5,\n",
    "    \"temperature_ref\": 300,\n",
    "    \"phases_in_equilibrium\": [(\"Vap\", \"Liq\")],\n",
    "    \"phase_equilibrium_state\": {(\"Vap\", \"Liq\"): SmoothVLE},\n",
    "    \"bubble_dew_method\": IdealBubbleDew,\n",
    "}"
   ]
  },
  {
   "cell_type": "markdown",
   "metadata": {},
   "source": [
    "In the following cell, we will be creating the translator unit model, assigning the appropriate property packages to it, and determining the degrees of freedom associated with the translator unit model."
   ]
  },
  {
   "cell_type": "code",
   "execution_count": null,
   "metadata": {},
   "outputs": [],
   "source": [
    "# Add properties parameter block to the flowsheet with the BT_ideal configuration file\n",
    "m.fs.properties_FTPx = GenericParameterBlock(**configuration_FTPx)\n",
    "\n",
    "# Add properties parameter block to the flowsheet with the configuration file created above\n",
    "m.fs.properties_FcTP = GenericParameterBlock(**configuration_FcTP)\n",
    "\n",
    "# Create an instance of the translator unit, attaching it to the flowsheet\n",
    "# Specify that the property packages to be used for the inlet and outlet streams are the ones we created earlier\n",
    "\n",
    "m.fs.translator = Translator(\n",
    "    inlet_property_package=m.fs.properties_FTPx,\n",
    "    outlet_property_package=m.fs.properties_FcTP,\n",
    ")\n",
    "\n",
    "\n",
    "# Call the degrees_of_freedom function, get initial DOF\n",
    "DOF_initial = degrees_of_freedom(m)\n",
    "print('The initial degrees of freedom are: {0}'.format(DOF_initial))"
   ]
  },
  {
   "cell_type": "code",
   "execution_count": null,
   "metadata": {
    "tags": [
     "testing",
     "remove_cell"
    ]
   },
   "outputs": [],
   "source": [
    "assert DOF_initial == 9"
   ]
  },
  {
   "cell_type": "markdown",
   "metadata": {},
   "source": [
    "In the following cell, we will be specifying the inlet conditions for the translator block."
   ]
  },
  {
   "cell_type": "code",
   "execution_count": null,
   "metadata": {},
   "outputs": [],
   "source": [
    "# Fix the inlet conditions\n",
    "\n",
    "m.fs.translator.inlet.flow_mol.fix(100) # converting to mol/s as unit basis is mol/s\n",
    "m.fs.translator.inlet.mole_frac_comp[0, \"benzene\"].fix(0.6)\n",
    "m.fs.translator.inlet.mole_frac_comp[0, \"toluene\"].fix(0.4)\n",
    "m.fs.translator.inlet.pressure.fix(101325) # Pa\n",
    "m.fs.translator.inlet.temperature.fix(298) # K"
   ]
  },
  {
   "cell_type": "markdown",
   "metadata": {},
   "source": [
    "In the following cell, we will be adding the translator block constraints to define the relationship between the inlet and outlet property packages and ensuring that there are zero degrees of freedom."
   ]
  },
  {
   "cell_type": "code",
   "execution_count": null,
   "metadata": {},
   "outputs": [],
   "source": [
    "# Define a translator block to make the constraints more readable\n",
    "blk = m.fs.translator\n",
    "\n",
    "# Add translator block constraints\n",
    "blk.eq_benzene_balance = Constraint(\n",
    "    expr=blk.properties_in[0].flow_mol * blk.properties_in[0].mole_frac_comp[\"benzene\"]\n",
    "    == blk.properties_out[0].flow_mol_comp[\"benzene\"]\n",
    ")\n",
    "blk.eq_toluene_balance = Constraint(\n",
    "    expr=blk.properties_in[0].flow_mol * blk.properties_in[0].mole_frac_comp[\"toluene\"]\n",
    "    == blk.properties_out[0].flow_mol_comp[\"toluene\"]\n",
    ")\n",
    "blk.eq_equal_temperature = Constraint(\n",
    "    expr=blk.properties_in[0].temperature == blk.properties_out[0].temperature\n",
    ")\n",
    "blk.eq_equal_pressure = Constraint(\n",
    "    expr=blk.properties_in[0].pressure == blk.properties_out[0].pressure\n",
    ")\n",
    "\n",
    "\n",
    "# Call the degrees_of_freedom function, get final DOF\n",
    "DOF_final = degrees_of_freedom(m)\n",
    "print('The final degrees of freedom is: {0}'.format(DOF_final))"
   ]
  },
  {
   "cell_type": "code",
   "execution_count": null,
   "metadata": {
    "tags": [
     "testing",
     "remove_cell"
    ]
   },
   "outputs": [],
   "source": [
    "assert DOF_final == 0"
   ]
  },
  {
   "cell_type": "markdown",
   "metadata": {},
   "source": [
    "### Flowsheet Initialization"
   ]
  },
  {
   "cell_type": "code",
   "execution_count": null,
   "metadata": {},
   "outputs": [],
   "source": [
    "# Initialize the flowsheet, and set the output at WARNING\n",
    "m.fs.translator.initialize(outlvl=idaeslog.WARNING)"
   ]
  },
  {
   "cell_type": "markdown",
   "metadata": {},
   "source": [
    "### Obtaining Simulation Results"
   ]
  },
  {
   "cell_type": "code",
   "execution_count": null,
   "metadata": {},
   "outputs": [],
   "source": [
    "# Solve the simulation using the IDAES solver\n",
    "# Note: If the degrees of freedom = 0, we have a square problem\n",
    "solver = get_solver()\n",
    "result = solver.solve(m, tee=True)"
   ]
  },
  {
   "cell_type": "code",
   "execution_count": null,
   "metadata": {
    "tags": [
     "testing",
     "remove_cell"
    ]
   },
   "outputs": [],
   "source": [
    "from pyomo.opt import TerminationCondition, SolverStatus\n",
    "\n",
    "# Check if termination condition is optimal\n",
    "assert result.solver.termination_condition == TerminationCondition.optimal\n",
    "assert result.solver.status == SolverStatus.ok"
   ]
  },
  {
   "cell_type": "markdown",
   "metadata": {},
   "source": [
    "### View Results"
   ]
  },
  {
   "cell_type": "markdown",
   "metadata": {},
   "source": [
    "As the following report will show, the inlet stream is represented with its five state variables (FTPx) while the outlet stream is represented with its four state variables (FcTP)"
   ]
  },
  {
   "cell_type": "code",
   "execution_count": null,
   "metadata": {},
   "outputs": [],
   "source": [
    "# Display output report\n",
    "m.fs.translator.report()\n"
   ]
  },
  {
   "cell_type": "code",
   "execution_count": null,
   "metadata": {
    "tags": [
     "testing",
     "remove_cell"
    ]
   },
   "outputs": [],
   "source": [
    "import pytest\n",
    "\n",
    "# Check inlet results\n",
    "assert value(m.fs.translator.inlet.flow_mol[0]) == pytest.approx(100, rel=1e-6)\n",
    "assert value(m.fs.translator.inlet.mole_frac_comp[0, \"benzene\"]) == pytest.approx(0.6, rel=1e-6)\n",
    "assert value(m.fs.translator.inlet.mole_frac_comp[0, \"toluene\"]) == pytest.approx(0.4, rel=1e-6)\n",
    "\n",
    "# Check outlet results\n",
    "assert value(m.fs.translator.outlet.flow_mol_comp[0, \"benzene\"]) == pytest.approx(60, rel=1e-6)\n",
    "assert value(m.fs.translator.outlet.flow_mol_comp[0, \"toluene\"]) == pytest.approx(40, rel=1e-6)\n"
   ]
  },
  {
   "cell_type": "code",
   "execution_count": null,
   "metadata": {},
   "outputs": [],
   "source": []
  }
 ],
 "metadata": {
  "celltoolbar": "Tags",
  "kernelspec": {
   "display_name": "Python 3 (ipykernel)",
   "language": "python",
   "name": "python3"
  },
  "language_info": {
   "codemirror_mode": {
    "name": "ipython",
    "version": 3
   },
   "file_extension": ".py",
   "mimetype": "text/x-python",
   "name": "python",
   "nbconvert_exporter": "python",
   "pygments_lexer": "ipython3",
   "version": "3.7.13"
  }
 },
 "nbformat": 4,
 "nbformat_minor": 2
}
