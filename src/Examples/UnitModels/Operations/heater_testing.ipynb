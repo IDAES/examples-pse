{
 "cells": [
  {
   "cell_type": "markdown",
   "metadata": {},
   "source": [
    "# Tutorial: Heater Unit Model with Ideal Property Package\n",
    "\n",
    "\n",
    "\n",
    "![](heater_2.svg)\n",
    "\n",
    "In this tutorial, we will heat a liquid mixture of benzene-toluene using a simple heater unit model, and an ideal property package with the phases specified to liquid apriori. The inlet specifications are as follows:\n",
    "\n",
    "* Flow Rate = 1 kmol/hr\n",
    "* Mole fraction (Benzene) = 0.4\n",
    "* Mole fraction (Toluene) = 0.6\n",
    "* Pressure = 101325 Pa\n",
    "* Temperature = 353 K\n",
    "\n",
    "In addition to the inlet specifications, there is one additional unit level specification that needs to be set:\n",
    "* Option 1: Specify the outlet temperature\n",
    "* Option 2: Specify the heat duty\n",
    "\n",
    "Therefore, in this tutorial, we will simulate the following cases:\n",
    "\n",
    "* Case 1: Compute the heat duty (J/s) required to heat the mixture to 363 K.\n",
    "* Case 2: Compute the outlet temperature of the mixture when fixing the heat duty to 2 J/s. \n",
    "\n",
    "IDAES documentation reference for heater model: https://idaes-pse.readthedocs.io/en/latest/technical_specs/model_libraries/generic/unit_models/heater.html"
   ]
  },
  {
   "cell_type": "markdown",
   "metadata": {},
   "source": [
    "## Setting up the problem in IDAES"
   ]
  },
  {
   "cell_type": "code",
   "execution_count": null,
   "metadata": {},
   "outputs": [],
   "source": [
    "# Import objects from pyomo package \n",
    "from pyomo.environ import ConcreteModel, SolverFactory, value\n",
    "from pyomo.opt import TerminationCondition, SolverStatus\n",
    "\n",
    "# Import the main FlowsheetBlock from IDAES. The flowsheet block will contain the unit model\n",
    "from idaes.core import FlowsheetBlock\n",
    "\n",
    "# Import idaes logger to set output levels\n",
    "import idaes.logger as idaeslog\n",
    "\n",
    "# Create the ConcreteModel and the FlowsheetBlock, and attach the flowsheet block to it.\n",
    "m = ConcreteModel()\n",
    "\n",
    "m.fs = FlowsheetBlock(dynamic=False) # dynamic or ss flowsheet needs to be specified here\n",
    "\n",
    "\n",
    "# Import the BTX_ideal property package to create a properties block for the flowsheet\n",
    "from idaes.models.properties.activity_coeff_models import BTX_activity_coeff_VLE\n",
    "\n",
    "# Add properties parameter block to the flowsheet with specifications\n",
    "m.fs.properties = BTX_activity_coeff_VLE.BTXParameterBlock(\n",
    "    valid_phase='Liq',\n",
    "    activity_coeff_model=\"Ideal\")"
   ]
  },
  {
   "cell_type": "code",
   "execution_count": null,
   "metadata": {},
   "outputs": [],
   "source": [
    "# Import heater unit model from the model library\n",
    "from idaes.models.unit_models.heater import Heater\n",
    "\n",
    "# Create an instance of the heater unit, attaching it to the flowsheet\n",
    "# Specify that the property package to be used with the heater is the one we created earlier.\n",
    "m.fs.heater = Heater(property_package=m.fs.properties)\n",
    "\n",
    "# Import the degrees_of_freedom function from the idaes.core.util.model_statistics package\n",
    "# DOF = Number of Model Variables - Number of Model Constraints\n",
    "from idaes.core.util.model_statistics import degrees_of_freedom\n",
    "\n",
    "\n",
    "# Call the degrees_of_freedom function, get intitial DOF\n",
    "DOF_initial = degrees_of_freedom(m)\n",
    "print(\"The initial DOF is {0}\".format(DOF_initial))\n",
    "\n"
   ]
  },
  {
   "cell_type": "code",
   "execution_count": null,
   "metadata": {
    "tags": [
     "remove_cell",
     "testing"
    ]
   },
   "outputs": [],
   "source": [
    "assert DOF_initial == 6"
   ]
  },
  {
   "cell_type": "code",
   "execution_count": null,
   "metadata": {},
   "outputs": [],
   "source": [
    "# Fix the BT stream inlet conditions\n",
    "m.fs.heater.inlet.flow_mol.fix(1*1000/3600) # converting to mol/s as unit basis is mol/s\n",
    "m.fs.heater.inlet.mole_frac_comp[0, \"benzene\"].fix(0.4)\n",
    "m.fs.heater.inlet.mole_frac_comp[0, \"toluene\"].fix(0.6)\n",
    "m.fs.heater.inlet.pressure.fix(101325) # Pa\n",
    "m.fs.heater.inlet.temperature.fix(353) # K"
   ]
  },
  {
   "cell_type": "markdown",
   "metadata": {},
   "source": [
    "## Case 1: Fix Outlet Temperature"
   ]
  },
  {
   "cell_type": "code",
   "execution_count": null,
   "metadata": {},
   "outputs": [],
   "source": [
    "m.fs.heater.outlet.temperature.fix(363)\n",
    "# Call the degrees_of_freedom function, get final DOF\n",
    "DOF_final = degrees_of_freedom(m)\n",
    "print(\"The final DOF is {0}\".format(DOF_final))"
   ]
  },
  {
   "cell_type": "code",
   "execution_count": null,
   "metadata": {
    "tags": [
     "remove_cell",
     "testing"
    ]
   },
   "outputs": [],
   "source": [
    "assert DOF_final == 0"
   ]
  },
  {
   "cell_type": "markdown",
   "metadata": {},
   "source": [
    "### Flowsheet Initialization\n",
    "\n",
    "IDAES includes pre-written initialization routines for all unit models.\n",
    "The output from initialization can be set to 7 different levels depending on the details required by the user.\n",
    "In general, when a particular output level is set, any information at that level and above gets picked up by logger. The default level taken by the logger is INFO. \n",
    "More information on these levels can be found in the IDAES documentation: \n",
    "https://idaes-pse.readthedocs.io/en/latest/user_guide/logging.html"
   ]
  },
  {
   "cell_type": "code",
   "execution_count": null,
   "metadata": {},
   "outputs": [],
   "source": [
    "# Initialize the flowsheet, and set the output at WARNING\n",
    "m.fs.heater.initialize(outlvl=idaeslog.WARNING)\n",
    "# From the output it can be inferred that since there are no errors or warnings encountered during initialization, nothing is displayed  "
   ]
  },
  {
   "cell_type": "code",
   "execution_count": null,
   "metadata": {},
   "outputs": [],
   "source": [
    "# Initialize the flowsheet, and set the output at INFO_HIGH\n",
    "m.fs.heater.initialize(outlvl=idaeslog.INFO_HIGH)\n",
    "# At INFO_HIGH level, details of all the initialization steps are displayed"
   ]
  },
  {
   "cell_type": "markdown",
   "metadata": {},
   "source": [
    "### Obtaining Simulation Results"
   ]
  },
  {
   "cell_type": "code",
   "execution_count": null,
   "metadata": {},
   "outputs": [],
   "source": [
    "# Solve the simulation using ipopt\n",
    "# Note: If the degrees of freedom = 0, we have a square problem\n",
    "opt = SolverFactory('ipopt')\n",
    "solve_status = opt.solve(m, tee=True)\n"
   ]
  },
  {
   "cell_type": "code",
   "execution_count": null,
   "metadata": {
    "tags": [
     "remove_cell",
     "testing"
    ]
   },
   "outputs": [],
   "source": [
    "# Check if termination condition is optimal\n",
    "assert solve_status.solver.termination_condition == TerminationCondition.optimal\n",
    "assert solve_status.solver.status == SolverStatus.ok"
   ]
  },
  {
   "cell_type": "markdown",
   "metadata": {},
   "source": [
    "### View Results"
   ]
  },
  {
   "cell_type": "code",
   "execution_count": null,
   "metadata": {},
   "outputs": [],
   "source": [
    "# Display Heat Duty only\n",
    "m.fs.heater.heat_duty.display()"
   ]
  },
  {
   "cell_type": "code",
   "execution_count": null,
   "metadata": {},
   "outputs": [],
   "source": [
    "# Display a readable report\n",
    "m.fs.heater.report()"
   ]
  },
  {
   "cell_type": "code",
   "execution_count": null,
   "metadata": {
    "tags": [
     "testing",
     "remove_cell"
    ]
   },
   "outputs": [],
   "source": [
    "import pytest\n",
    "\n",
    "# Check results\n",
    "assert m.fs.heater.heat_duty[0].value == pytest.approx(459.10, abs=1e-2)\n",
    "\n",
    "assert m.fs.heater.outlet.flow_mol[0].value == pytest.approx(0.27778, abs=1e-2)\n",
    "assert m.fs.heater.outlet.mole_frac_comp[0, \"benzene\"].value == pytest.approx(0.4, abs=1e-3)\n",
    "assert m.fs.heater.outlet.mole_frac_comp[0, \"toluene\"].value == pytest.approx(0.6, abs=1e-3)\n",
    "assert m.fs.heater.outlet.temperature[0].value == pytest.approx(363, abs=1e-2)\n",
    "assert m.fs.heater.outlet.pressure[0].value == pytest.approx(101325, abs=1)\n"
   ]
  },
  {
   "cell_type": "markdown",
   "metadata": {},
   "source": [
    "## Case 2: Fix Heat Duty"
   ]
  },
  {
   "cell_type": "code",
   "execution_count": null,
   "metadata": {},
   "outputs": [],
   "source": [
    "# Fix heat duty and solve the model \n",
    "m.fs.heater.outlet.temperature.unfix()\n",
    "m.fs.heater.heat_duty.fix(459.10147722222354)\n",
    "solve_status = opt.solve(m, tee=True)"
   ]
  },
  {
   "cell_type": "code",
   "execution_count": null,
   "metadata": {
    "tags": [
     "testing",
     "remove_cell"
    ]
   },
   "outputs": [],
   "source": [
    "# Check if termination condition is optimal\n",
    "assert solve_status.solver.termination_condition == TerminationCondition.optimal\n",
    "assert solve_status.solver.status == SolverStatus.ok"
   ]
  },
  {
   "cell_type": "code",
   "execution_count": null,
   "metadata": {},
   "outputs": [],
   "source": [
    "# Display outlet temperature only\n",
    "m.fs.heater.outlet.temperature.display()"
   ]
  },
  {
   "cell_type": "code",
   "execution_count": null,
   "metadata": {},
   "outputs": [],
   "source": [
    "# Display a readable report\n",
    "m.fs.heater.report()"
   ]
  },
  {
   "cell_type": "code",
   "execution_count": null,
   "metadata": {
    "tags": [
     "testing",
     "remove_cell"
    ]
   },
   "outputs": [],
   "source": [
    "# Check results\n",
    "assert m.fs.heater.heat_duty[0].value == pytest.approx(459.10, abs=1e-2)\n",
    "\n",
    "assert m.fs.heater.outlet.flow_mol[0].value == pytest.approx(0.27778, abs=1e-2)\n",
    "assert m.fs.heater.outlet.mole_frac_comp[0, \"benzene\"].value == pytest.approx(0.4, abs=1e-3)\n",
    "assert m.fs.heater.outlet.mole_frac_comp[0, \"toluene\"].value == pytest.approx(0.6, abs=1e-3)\n",
    "assert m.fs.heater.outlet.temperature[0].value == pytest.approx(363, abs=1e-2)\n",
    "assert m.fs.heater.outlet.pressure[0].value == pytest.approx(101325, abs=1)"
   ]
  },
  {
   "cell_type": "markdown",
   "metadata": {},
   "source": [
    "## Plotting Q vs. Outlet Temperature"
   ]
  },
  {
   "cell_type": "code",
   "execution_count": null,
   "metadata": {},
   "outputs": [],
   "source": [
    "# Heat Duty vs Outlet Temperature\n",
    "import matplotlib.pyplot as plt\n",
    "import numpy as np\n",
    "\n",
    "# Unfix the heat duty from case 2\n",
    "m.fs.heater.heat_duty.unfix()\n",
    "\n",
    "# Create a list of outlet temperatures for which corresponding heat duty values need to be obtained\n",
    "outlet_temp_fixed = [91.256405+273.15,\n",
    "90.828456+273.15,\n",
    "86.535145+273.15,\n",
    "89.383218+273.15,\n",
    "93.973657+273.15,\n",
    "85.377274+273.15,\n",
    "92.399101+273.15,\n",
    "94.151562+273.15,\n",
    "87.564579+273.15,\n",
    "88.767855+273.15]\n",
    "\n",
    "# Fix the outlet temperature values and solve the model to obtain the heat duties\n",
    "heat_duty = []\n",
    "for temp in outlet_temp_fixed:\n",
    "    m.fs.heater.outlet.temperature.fix(temp)\n",
    "    solve_status=opt.solve(m)\n",
    "    if solve_status.solver.termination_condition == TerminationCondition.optimal:\n",
    "        heat_duty.append(m.fs.heater.heat_duty[0].value) \n",
    "\n",
    "\n"
   ]
  },
  {
   "cell_type": "code",
   "execution_count": null,
   "metadata": {},
   "outputs": [],
   "source": [
    "# Plotting the results\n",
    "\n",
    "plt.figure(\"Q vs. Temperature\")\n",
    "plt.plot(outlet_temp_fixed,heat_duty,'bo')\n",
    "plt.xlim(358.15,368.15)\n",
    "plt.ylim(250,700)\n",
    "plt.xlabel('Outlet Temperature (K)')\n",
    "plt.ylabel('Heat Duty (W)')\n",
    "plt.grid()"
   ]
  },
  {
   "cell_type": "code",
   "execution_count": null,
   "metadata": {},
   "outputs": [],
   "source": []
  }
 ],
 "metadata": {
  "celltoolbar": "Tags",
  "kernelspec": {
   "display_name": "Python 3 (ipykernel)",
   "language": "python",
   "name": "python3"
  },
  "language_info": {
   "codemirror_mode": {
    "name": "ipython",
    "version": 3
   },
   "file_extension": ".py",
   "mimetype": "text/x-python",
   "name": "python",
   "nbconvert_exporter": "python",
   "pygments_lexer": "ipython3",
   "version": "3.9.12"
  }
 },
 "nbformat": 4,
 "nbformat_minor": 2
}
