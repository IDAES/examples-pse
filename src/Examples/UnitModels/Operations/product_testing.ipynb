{
 "cells": [
  {
   "attachments": {
    "product.svg": {
     "image/svg+xml": [
      "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"
     ]
    }
   },
   "cell_type": "markdown",
   "metadata": {},
   "source": [
    "# Tutorial: Product Unit Model with Ideal Property Package\n",
    "\n",
    "![product.svg](attachment:product.svg)\n",
    "\n",
    "## Learning Outcomes\n",
    "\n",
    "- Demonstrate use of the Product unit model in IDAES\n",
    "\n",
    "\n",
    "## Problem Statement\n",
    "\n",
    "In this tutorial, we will be feeding a mixed stream of liquid benzene and liquid toluene. This unit model has no outlets and only one inlet. The inlet conditions are as follows:\n",
    "\n",
    "Flow Rate = 100 mol/s\n",
    "\n",
    "Mole Fraction (Benzene) = 0.6\n",
    "\n",
    "Mole Fraction (Toluene) = 0.4\n",
    "\n",
    "Temperature = 298.15 K\n",
    "\n",
    "Pressure = 101325 Pa\n",
    "\n",
    "For more details, please refer to the IDAES documentation: https://idaes-pse.readthedocs.io/en/stable"
   ]
  },
  {
   "cell_type": "markdown",
   "metadata": {},
   "source": [
    "## Setting up the problem in IDAES"
   ]
  },
  {
   "cell_type": "markdown",
   "metadata": {},
   "source": [
    "In the following cell, we will be importing the necessary components from Pyomo and IDAES."
   ]
  },
  {
   "cell_type": "code",
   "execution_count": 71,
   "metadata": {},
   "outputs": [],
   "source": [
    "# Import objects from pyomo package \n",
    "from pyomo.environ import ConcreteModel, SolverFactory, value\n",
    "\n",
    "# Import the main FlowsheetBlock from IDAES. The flowsheet block will contain the unit model\n",
    "from idaes.core import FlowsheetBlock\n",
    "\n",
    "# Import the product unit model\n",
    "from idaes.models.unit_models import Product\n",
    "\n",
    "# Import idaes logger to set output levels\n",
    "import idaes.logger as idaeslog\n",
    "\n",
    "# Import the BTX_ideal property package to create a properties block for the flowsheet\n",
    "from idaes.models.properties.activity_coeff_models import BTX_activity_coeff_VLE\n",
    "\n",
    "# Import the degrees_of_freedom function from the idaes.core.util.model_statistics package\n",
    "# DOF = Number of Model Variables - Number of Model Constraints\n",
    "from idaes.core.util.model_statistics import degrees_of_freedom\n",
    "\n",
    "# Create the ConcreteModel and the FlowsheetBlock objects, and attach the flowsheet block to it.\n",
    "m = ConcreteModel()\n",
    "\n",
    "m.fs = FlowsheetBlock(dynamic=False) # dynamic or ss flowsheet needs to be specified here\n",
    "\n",
    "# Add properties parameter block to the flowsheet with specifications\n",
    "m.fs.properties = BTX_activity_coeff_VLE.BTXParameterBlock(valid_phase='Liq',\n",
    "                                                           activity_coeff_model=\"Ideal\")\n"
   ]
  },
  {
   "cell_type": "code",
   "execution_count": 72,
   "metadata": {},
   "outputs": [
    {
     "name": "stdout",
     "output_type": "stream",
     "text": [
      "The initial degrees of freedom is: 3\n"
     ]
    }
   ],
   "source": [
    "# Create an instance of the product unit, attaching it to the flowsheet\n",
    "# Specify that the property package to be used with the product is the one we created earlier\n",
    "\n",
    "m.fs.product = Product(property_package=m.fs.properties)\n",
    "\n",
    "# Call the degrees_of_freedom function, get initial DOF\n",
    "DOF_initial = degrees_of_freedom(m)\n",
    "print('The initial degrees of freedom is: {0}'.format(DOF_initial))"
   ]
  },
  {
   "cell_type": "code",
   "execution_count": 73,
   "metadata": {
    "tags": [
     "testing",
     "remove_cell"
    ]
   },
   "outputs": [],
   "source": [
    "assert DOF_initial == 3"
   ]
  },
  {
   "cell_type": "code",
   "execution_count": 74,
   "metadata": {},
   "outputs": [
    {
     "name": "stdout",
     "output_type": "stream",
     "text": [
      "The final degrees of freedom is: 0\n"
     ]
    }
   ],
   "source": [
    "# Fix the inlet conditions\n",
    "\n",
    "# Product stream\n",
    "m.fs.product.flow_mol.fix(100) # converting to mol/s as unit basis is mol/s\n",
    "m.fs.product.mole_frac_comp[0, \"benzene\"].fix(0.6)\n",
    "m.fs.product.mole_frac_comp[0, \"toluene\"].fix(0.4)\n",
    "\n",
    "# Call the degrees_of_freedom function, get final DOF\n",
    "DOF_final = degrees_of_freedom(m)\n",
    "print('The final degrees of freedom is: {0}'.format(DOF_final))"
   ]
  },
  {
   "cell_type": "code",
   "execution_count": 75,
   "metadata": {
    "tags": [
     "testing",
     "remove_cell"
    ]
   },
   "outputs": [],
   "source": [
    "assert DOF_final == 0"
   ]
  },
  {
   "cell_type": "markdown",
   "metadata": {},
   "source": [
    "### Flowsheet Initialization"
   ]
  },
  {
   "cell_type": "code",
   "execution_count": 76,
   "metadata": {},
   "outputs": [],
   "source": [
    "# Initialize the flowsheet, and set the output at WARNING\n",
    "m.fs.product.initialize(outlvl=idaeslog.WARNING)"
   ]
  },
  {
   "cell_type": "markdown",
   "metadata": {},
   "source": [
    "### Obtaining Simulation Results"
   ]
  },
  {
   "cell_type": "code",
   "execution_count": 77,
   "metadata": {},
   "outputs": [
    {
     "name": "stdout",
     "output_type": "stream",
     "text": [
      "Ipopt 3.13.2: \n",
      "\n",
      "******************************************************************************\n",
      "This program contains Ipopt, a library for large-scale nonlinear optimization.\n",
      " Ipopt is released as open source code under the Eclipse Public License (EPL).\n",
      "         For more information visit http://projects.coin-or.org/Ipopt\n",
      "\n",
      "This version of Ipopt was compiled from source code available at\n",
      "    https://github.com/IDAES/Ipopt as part of the Institute for the Design of\n",
      "    Advanced Energy Systems Process Systems Engineering Framework (IDAES PSE\n",
      "    Framework) Copyright (c) 2018-2019. See https://github.com/IDAES/idaes-pse.\n",
      "\n",
      "This version of Ipopt was compiled using HSL, a collection of Fortran codes\n",
      "    for large-scale scientific computation.  All technical papers, sales and\n",
      "    publicity material resulting from use of the HSL codes within IPOPT must\n",
      "    contain the following acknowledgement:\n",
      "        HSL, a collection of Fortran codes for large-scale scientific\n",
      "        computation. See http://www.hsl.rl.ac.uk.\n",
      "******************************************************************************\n",
      "\n",
      "This is Ipopt version 3.13.2, running with linear solver ma27.\n",
      "\n",
      "Number of nonzeros in equality constraint Jacobian...:        5\n",
      "Number of nonzeros in inequality constraint Jacobian.:        0\n",
      "Number of nonzeros in Lagrangian Hessian.............:        2\n",
      "\n",
      "Total number of variables............................:        3\n",
      "                     variables with only lower bounds:        0\n",
      "                variables with lower and upper bounds:        2\n",
      "                     variables with only upper bounds:        0\n",
      "Total number of equality constraints.................:        3\n",
      "Total number of inequality constraints...............:        0\n",
      "        inequality constraints with only lower bounds:        0\n",
      "   inequality constraints with lower and upper bounds:        0\n",
      "        inequality constraints with only upper bounds:        0\n",
      "\n",
      "iter    objective    inf_pr   inf_du lg(mu)  ||d||  lg(rg) alpha_du alpha_pr  ls\n",
      "   0  0.0000000e+00 1.42e-14 0.00e+00  -1.0 0.00e+00    -  0.00e+00 0.00e+00   0\n",
      "\n",
      "Number of Iterations....: 0\n",
      "\n",
      "                                   (scaled)                 (unscaled)\n",
      "Objective...............:   0.0000000000000000e+00    0.0000000000000000e+00\n",
      "Dual infeasibility......:   0.0000000000000000e+00    0.0000000000000000e+00\n",
      "Constraint violation....:   1.4210854715202004e-14    1.4210854715202004e-14\n",
      "Complementarity.........:   0.0000000000000000e+00    0.0000000000000000e+00\n",
      "Overall NLP error.......:   1.4210854715202004e-14    1.4210854715202004e-14\n",
      "\n",
      "\n",
      "Number of objective function evaluations             = 1\n",
      "Number of objective gradient evaluations             = 1\n",
      "Number of equality constraint evaluations            = 1\n",
      "Number of inequality constraint evaluations          = 0\n",
      "Number of equality constraint Jacobian evaluations   = 1\n",
      "Number of inequality constraint Jacobian evaluations = 0\n",
      "Number of Lagrangian Hessian evaluations             = 0\n",
      "Total CPU secs in IPOPT (w/o function evaluations)   =      0.002\n",
      "Total CPU secs in NLP function evaluations           =      0.000\n",
      "\n",
      "EXIT: Optimal Solution Found.\n",
      "\b\b\b\b\b\b\b\b\b\b\b\b\b\b"
     ]
    }
   ],
   "source": [
    "# Solve the simulation using ipopt\n",
    "# Note: If the degrees of freedom = 0, we have a square problem\n",
    "opt = SolverFactory('ipopt')\n",
    "result = opt.solve(m, tee=True)"
   ]
  },
  {
   "cell_type": "code",
   "execution_count": 78,
   "metadata": {
    "tags": [
     "testing",
     "remove_cell"
    ]
   },
   "outputs": [],
   "source": [
    "from pyomo.opt import TerminationCondition, SolverStatus\n",
    "\n",
    "# Check if termination condition is optimal\n",
    "assert result.solver.termination_condition == TerminationCondition.optimal\n",
    "assert result.solver.status == SolverStatus.ok"
   ]
  },
  {
   "cell_type": "markdown",
   "metadata": {},
   "source": [
    "### View Results"
   ]
  },
  {
   "cell_type": "code",
   "execution_count": 79,
   "metadata": {},
   "outputs": [
    {
     "name": "stdout",
     "output_type": "stream",
     "text": [
      "\n",
      "====================================================================================\n",
      "Unit : fs.product                                                          Time: 0.0\n",
      "------------------------------------------------------------------------------------\n",
      "    Stream Table\n",
      "                               Units         Inlet  \n",
      "    flow_mol                mole / second     100.00\n",
      "    mole_frac_comp benzene  dimensionless    0.60000\n",
      "    mole_frac_comp toluene  dimensionless    0.40000\n",
      "    temperature                    kelvin     298.15\n",
      "    pressure                       pascal 1.0132e+05\n",
      "====================================================================================\n"
     ]
    }
   ],
   "source": [
    "# Display output report\n",
    "m.fs.product.report()"
   ]
  },
  {
   "cell_type": "code",
   "execution_count": 80,
   "metadata": {
    "tags": [
     "testing",
     "remove_cell"
    ]
   },
   "outputs": [],
   "source": [
    "import pytest\n",
    "\n",
    "# Check results\n",
    "assert value(m.fs.product.inlet.flow_mol[0]) == pytest.approx(100, abs=1e-2)\n",
    "assert value(m.fs.product.mole_frac_comp[0, \"benzene\"]) == pytest.approx(0.6, abs=1e-2)\n",
    "assert value(m.fs.product.mole_frac_comp[0, \"toluene\"]) == pytest.approx(0.4, abs=1e-2)"
   ]
  },
  {
   "cell_type": "code",
   "execution_count": null,
   "metadata": {},
   "outputs": [],
   "source": []
  }
 ],
 "metadata": {
  "celltoolbar": "Tags",
  "kernelspec": {
   "display_name": "Python 3 (ipykernel)",
   "language": "python",
   "name": "python3"
  },
  "language_info": {
   "codemirror_mode": {
    "name": "ipython",
    "version": 3
   },
   "file_extension": ".py",
   "mimetype": "text/x-python",
   "name": "python",
   "nbconvert_exporter": "python",
   "pygments_lexer": "ipython3",
   "version": "3.7.13"
  }
 },
 "nbformat": 4,
 "nbformat_minor": 2
}
