{
 "cells": [
  {
   "cell_type": "markdown",
   "metadata": {},
   "source": [
    "# Tutorial: StateJunction Unit Model with Modular Property Package"
   ]
  },
  {
   "cell_type": "code",
   "execution_count": 107,
   "metadata": {},
   "outputs": [
    {
     "data": {
      "image/svg+xml": [
       "<svg height=\"338\" width=\"611\" xmlns=\"http://www.w3.org/2000/svg\">\n",
       "<path d=\"M0 0L0 338L611 338L611 0L0 0z\" style=\"fill:#ffffff; stroke:none;\"/>\n",
       "<path d=\"M152 7L152 326L471 326L471 172L564 172C573.059 172 591.146 168.529 598 175C608.095 170.289 608.095 161.711 598 157C591.146 163.471 573.059 160 564 160L471 160L471 7L152 7z\" style=\"fill:#020202; stroke:none;\"/>\n",
       "<path d=\"M165 20L165 313L458 313L458 20L165 20z\" style=\"fill:#ffffff; stroke:none;\"/>\n",
       "<path d=\"M142.667 156.333L143.333 156.667L142.667 156.333M598.667 156.333L599.333 156.667L598.667 156.333M140 157L141 158L140 157z\" style=\"fill:#b2b2b2; stroke:none;\"/>\n",
       "<path d=\"M141 157L140 160L141 160L141 157z\" style=\"fill:#585858; stroke:none;\"/>\n",
       "<path d=\"M142 157C135.885 162.773 122.002 160 114 160L39 160C32.3957 160 7.75965 156.258 7.12809 165.019C6.32222 176.196 30.6877 172 38 172L114 172C122.002 172 135.885 169.227 142 175C152.095 170.289 152.095 161.711 142 157z\" style=\"fill:#020202; stroke:none;\"/>\n",
       "<path d=\"M144 157L145 158L144 157z\" style=\"fill:#979797; stroke:none;\"/>\n",
       "<path d=\"M596 157L597 158L596 157z\" style=\"fill:#b2b2b2; stroke:none;\"/>\n",
       "<path d=\"M597 157L598 158L597 157z\" style=\"fill:#585858; stroke:none;\"/>\n",
       "<path d=\"M600 157L601 158L600 157M145 158L146 159L145 158z\" style=\"fill:#979797; stroke:none;\"/>\n",
       "<path d=\"M596.333 158.667L596.667 159.333L596.333 158.667z\" style=\"fill:#585858; stroke:none;\"/>\n",
       "<path d=\"M601 158L602 159L601 158M146 159L147 160L146 159M602 159L603 160L602 159M147 160L148 161L147 160M603 160L604 161L603 160z\" style=\"fill:#979797; stroke:none;\"/>\n",
       "<path d=\"M7 161L8 162L7 161z\" style=\"fill:#585858; stroke:none;\"/>\n",
       "<path d=\"M148 161L149 162L148 161M604 161L605 162L604 161M149 162L150 163L149 162M605 162L606 163L605 162M150 163L151 164L150 163M606 163L607 164L606 163z\" style=\"fill:#979797; stroke:none;\"/>\n",
       "<path d=\"M151 164L152 165L151 164M607 164L608 165L607 164z\" style=\"fill:#b2b2b2; stroke:none;\"/>\n",
       "<path d=\"M151.333 165.667L151.667 166.333L151.333 165.667M607.333 165.667L607.667 166.333L607.333 165.667z\" style=\"fill:#979797; stroke:none;\"/>\n",
       "<path d=\"M151 167L152 168L151 167M607 167L608 168L607 167z\" style=\"fill:#b2b2b2; stroke:none;\"/>\n",
       "<path d=\"M150 168L151 169L150 168M606 168L607 169L606 168M149 169L150 170L149 169M605 169L606 170L605 169z\" style=\"fill:#979797; stroke:none;\"/>\n",
       "<path d=\"M7 170L8 171L7 170z\" style=\"fill:#585858; stroke:none;\"/>\n",
       "<path d=\"M148 170L149 171L148 170M604 170L605 171L604 170z\" style=\"fill:#979797; stroke:none;\"/>\n",
       "<path d=\"M8 171L9 172L8 171z\" style=\"fill:#585858; stroke:none;\"/>\n",
       "<path d=\"M147 171L148 172L147 171M603 171L604 172L603 171z\" style=\"fill:#979797; stroke:none;\"/>\n",
       "<path d=\"M140 172L142 175L140 172z\" style=\"fill:#585858; stroke:none;\"/>\n",
       "<path d=\"M146 172L147 173L146 172z\" style=\"fill:#979797; stroke:none;\"/>\n",
       "<path d=\"M596 172L598 175L596 172z\" style=\"fill:#585858; stroke:none;\"/>\n",
       "<path d=\"M602 172L603 173L602 172M145 173L146 174L145 173M601 173L602 174L601 173z\" style=\"fill:#979797; stroke:none;\"/>\n",
       "<path d=\"M140 174L141 175L140 174z\" style=\"fill:#b2b2b2; stroke:none;\"/>\n",
       "<path d=\"M144 174L145 175L144 174z\" style=\"fill:#979797; stroke:none;\"/>\n",
       "<path d=\"M596 174L597 175L596 174z\" style=\"fill:#b2b2b2; stroke:none;\"/>\n",
       "<path d=\"M600 174L601 175L600 174z\" style=\"fill:#979797; stroke:none;\"/>\n",
       "<path d=\"M142.667 175.333L143.333 175.667L142.667 175.333M598.667 175.333L599.333 175.667L598.667 175.333z\" style=\"fill:#b2b2b2; stroke:none;\"/>\n",
       "</svg>"
      ],
      "text/plain": [
       "<IPython.core.display.SVG object>"
      ]
     },
     "execution_count": 107,
     "metadata": {},
     "output_type": "execute_result"
    }
   ],
   "source": [
    "from IPython.core.display import SVG\n",
    "SVG(filename='statejunction.svg')"
   ]
  },
  {
   "cell_type": "markdown",
   "metadata": {},
   "source": [
    "## Learning Outcomes\n",
    "\n",
    "- Demonstrate use of the StateJunction unit model in IDAES\n",
    "- Demonstrate different options available\n",
    "\n",
    "\n",
    "## Problem Statement\n",
    "\n",
    "In this example, we will be passing two different liquid streams through a statejunction. The IDAES StateJunction unit model is a pass-through unit or simple pipe that is primarily used to link streams to/from different process alternatives in conceptual design applications. The inlet conditions are as follows:\n",
    "\n",
    "**Case 1:**\n",
    "\n",
    "Molar Flow Rate = 100 mol/s\n",
    "\n",
    "Temperature = 298.15 K\n",
    "\n",
    "Pressure = 101325 Pa\n",
    "\n",
    "Mole Fraction (benzene) = 0.6\n",
    "\n",
    "Mole Fraction (toluene) = 0.4\n",
    "\n",
    "**Case 2**\n",
    "\n",
    "Volumetric Flow Rate = 10 m^3/s\n",
    "\n",
    "H2O Concentration = 5000 mol/m^3\n",
    "\n",
    "NaOH Concentration = 25 mol/m^3\n",
    "\n",
    "Temperature = 298.15 K\n",
    "\n",
    "Pressure = 101325 Pa \n",
    "\n",
    "We will look at two cases in this tutorial:\n",
    "\n",
    "* Case 1: Use the statejunction unit model to solve a problem with constraints (requires a solver).\n",
    "\n",
    "* Case 2: Use the statejunction unit model to solve a problem without constraints (does not require a solver).\n",
    "\n",
    "\n",
    "For more details, please refer to the IDAES documentation: https://idaes-pse.readthedocs.io/en/stable"
   ]
  },
  {
   "cell_type": "markdown",
   "metadata": {},
   "source": [
    "## Setting up the problem in IDAES"
   ]
  },
  {
   "cell_type": "markdown",
   "metadata": {},
   "source": [
    "In the following cell, we will be importing the necessary components from Pyomo and IDAES."
   ]
  },
  {
   "cell_type": "code",
   "execution_count": 108,
   "metadata": {},
   "outputs": [],
   "source": [
    "# Import objects from pyomo package \n",
    "from pyomo.environ import ConcreteModel, Constraint, value, SolverFactory\n",
    "\n",
    "# Import the solver\n",
    "from idaes.core.solvers import get_solver\n",
    "\n",
    "# Import the main FlowsheetBlock from IDAES. The flowsheet block will contain the unit model\n",
    "from idaes.core import FlowsheetBlock\n",
    "\n",
    "# Import the StateJunction unit model\n",
    "from idaes.models.unit_models import StateJunction\n",
    "\n",
    "# Import idaes logger to set output levels\n",
    "import idaes.logger as idaeslog\n",
    "\n",
    "# Import the modular property package to create a property block for the case 1 flowsheet\n",
    "from idaes.models.properties.modular_properties.base.generic_property import GenericParameterBlock\n",
    "\n",
    "# Import the BT_ideal property package to create a configuration file for the GenericParameterBlock based on the ideal eos\n",
    "from idaes.models.properties.modular_properties.examples.BT_ideal import configuration as configuration\n",
    "\n",
    "# Import the saponification property package to create a property block for the case 2 flowsheet\n",
    "from idaes.models.properties.examples.saponification_thermo import SaponificationParameterBlock\n",
    "\n",
    "# Import the degrees_of_freedom function from the idaes.core.util.model_statistics package\n",
    "# DOF = Number of Model Variables - Number of Model Constraints\n",
    "from idaes.core.util.model_statistics import degrees_of_freedom\n",
    "\n",
    "# Create the ConcreteModel and the FlowsheetBlock objects, and attach the flowsheet block to it.\n",
    "m = ConcreteModel()\n",
    "\n",
    "m.fs = FlowsheetBlock(dynamic=False) # dynamic or ss flowsheet needs to be specified here\n",
    "\n",
    "# Add properties parameter block to the case 1 flowsheet with the appropriate configuration file\n",
    "m.fs.properties_1 = GenericParameterBlock(**configuration)\n",
    "\n",
    "# Add properties parameter block to the case 2 flowsheet\n",
    "m.fs.properties_2 = SaponificationParameterBlock()"
   ]
  },
  {
   "cell_type": "markdown",
   "metadata": {},
   "source": [
    "## Case 1:\n",
    "\n",
    "In the following cell, we will be creating the StateJunction unit model, assigning the appropriate property packages to it, and determining the degrees of freedom associated with the StateJunction unit model."
   ]
  },
  {
   "cell_type": "code",
   "execution_count": 109,
   "metadata": {},
   "outputs": [
    {
     "name": "stdout",
     "output_type": "stream",
     "text": [
      "The initial degrees of freedom is: 5\n"
     ]
    }
   ],
   "source": [
    "# Create an instance of the StateJunction unit, attaching it to the flowsheet\n",
    "# Specify that the property packages to be used for the inlet and outlet streams are the ones we created earlier\n",
    "\n",
    "m.fs.statejunction_1 = StateJunction(property_package=m.fs.properties_1)\n",
    "\n",
    "# Call the degrees_of_freedom function, get initial DOF\n",
    "DOF_initial = degrees_of_freedom(m)\n",
    "print('The initial degrees of freedom is: {0}'.format(DOF_initial))"
   ]
  },
  {
   "cell_type": "code",
   "execution_count": 110,
   "metadata": {
    "tags": [
     "testing",
     "remove_cell"
    ]
   },
   "outputs": [],
   "source": [
    "assert DOF_initial == 5"
   ]
  },
  {
   "cell_type": "markdown",
   "metadata": {},
   "source": [
    "In the following cell, we will be specifying the inlet conditions for the StateJunction block."
   ]
  },
  {
   "cell_type": "code",
   "execution_count": 111,
   "metadata": {},
   "outputs": [
    {
     "name": "stdout",
     "output_type": "stream",
     "text": [
      "The final degrees of freedom is: 0\n"
     ]
    }
   ],
   "source": [
    "# Fix the inlet conditions\n",
    "\n",
    "m.fs.statejunction_1.inlet.flow_mol.fix(100) # converting to mol/s as unit basis is mol/s\n",
    "m.fs.statejunction_1.inlet.mole_frac_comp[0, \"benzene\"].fix(0.6)\n",
    "m.fs.statejunction_1.inlet.mole_frac_comp[0, \"toluene\"].fix(0.4)\n",
    "m.fs.statejunction_1.inlet.pressure.fix(101325) # Pa\n",
    "m.fs.statejunction_1.inlet.temperature.fix(298.15) # K\n",
    "\n",
    "# Call the degrees_of_freedom function, get final DOF\n",
    "DOF_final = degrees_of_freedom(m)\n",
    "print('The final degrees of freedom is: {0}'.format(DOF_final))"
   ]
  },
  {
   "cell_type": "code",
   "execution_count": 112,
   "metadata": {
    "tags": [
     "testing",
     "remove_cell"
    ]
   },
   "outputs": [],
   "source": [
    "assert DOF_final == 0"
   ]
  },
  {
   "cell_type": "markdown",
   "metadata": {},
   "source": [
    "### Flowsheet Initialization"
   ]
  },
  {
   "cell_type": "code",
   "execution_count": 113,
   "metadata": {},
   "outputs": [],
   "source": [
    "# Initialize the flowsheet, and set the output at WARNING\n",
    "m.fs.statejunction_1.initialize(outlvl=idaeslog.WARNING)"
   ]
  },
  {
   "cell_type": "markdown",
   "metadata": {},
   "source": [
    "### Obtaining Simulation Results"
   ]
  },
  {
   "cell_type": "code",
   "execution_count": null,
   "metadata": {},
   "outputs": [],
   "source": [
    "# Solve the simulation using the IDAES solver\n",
    "# Note: If the degrees of freedom = 0, we have a square problem\n",
    "solver = get_solver()\n",
    "result = solver.solve(m, tee=True)"
   ]
  },
  {
   "cell_type": "code",
   "execution_count": null,
   "metadata": {
    "tags": [
     "testing",
     "remove_cell"
    ]
   },
   "outputs": [],
   "source": [
    "from pyomo.opt import TerminationCondition, SolverStatus\n",
    "\n",
    "# Check if termination condition is optimal\n",
    "assert result.solver.termination_condition == TerminationCondition.optimal\n",
    "assert result.solver.status == SolverStatus.ok"
   ]
  },
  {
   "cell_type": "markdown",
   "metadata": {},
   "source": [
    "### View Results"
   ]
  },
  {
   "cell_type": "markdown",
   "metadata": {},
   "source": [
    "As expected of a pass-through unit model, the stream composition of the inlet is identical to that of the outlet."
   ]
  },
  {
   "cell_type": "code",
   "execution_count": null,
   "metadata": {},
   "outputs": [],
   "source": [
    "# Display output report\n",
    "m.fs.statejunction_1.report()"
   ]
  },
  {
   "cell_type": "code",
   "execution_count": null,
   "metadata": {
    "tags": [
     "testing",
     "remove_cell"
    ]
   },
   "outputs": [],
   "source": [
    "import pytest\n",
    "\n",
    "# Check results\n",
    "assert value(m.fs.statejunction_1.outlet.flow_mol[0]) == pytest.approx(100, rel=1e-6)\n",
    "assert value(m.fs.statejunction_1.outlet.pressure[0]) == pytest.approx(101325, rel=1e-6)\n",
    "assert value(m.fs.statejunction_1.outlet.temperature[0]) == pytest.approx(298.15, rel=1e-6)\n",
    "assert value(m.fs.statejunction_1.outlet.mole_frac_comp[0,\"benzene\"]) == pytest.approx(0.6, rel=1e-6)\n",
    "assert value(m.fs.statejunction_1.outlet.mole_frac_comp[0,\"toluene\"]) == pytest.approx(0.4, rel=1e-6)"
   ]
  },
  {
   "cell_type": "markdown",
   "metadata": {},
   "source": [
    "## Case 2:\n",
    "\n",
    "In the following cell, we will be creating the StateJunction unit model, assigning the appropriate property packages to it, and determining the degrees of freedom associated with the StateJunction unit model."
   ]
  },
  {
   "cell_type": "code",
   "execution_count": null,
   "metadata": {},
   "outputs": [],
   "source": [
    "# Create an instance of the StateJunction unit, attaching it to the flowsheet\n",
    "# Specify that the property packages to be used for the inlet and outlet streams are the ones we created earlier\n",
    "\n",
    "m.fs.statejunction_2 = StateJunction(property_package=m.fs.properties_2)\n",
    "\n",
    "# Call the degrees_of_freedom function, get initial DOF\n",
    "DOF_initial = degrees_of_freedom(m)\n",
    "print('The initial degrees of freedom is: {0}'.format(DOF_initial))"
   ]
  },
  {
   "cell_type": "code",
   "execution_count": null,
   "metadata": {
    "tags": [
     "testing",
     "remove_cell"
    ]
   },
   "outputs": [],
   "source": [
    "assert DOF_initial == 0"
   ]
  },
  {
   "cell_type": "markdown",
   "metadata": {},
   "source": [
    "In the following cell, we will be specifying the inlet conditions for the StateJunction block."
   ]
  },
  {
   "cell_type": "code",
   "execution_count": null,
   "metadata": {},
   "outputs": [],
   "source": [
    "# Fix the inlet conditions\n",
    "\n",
    "m.fs.statejunction_2.inlet.flow_vol.fix(10) # m^3/s\n",
    "\n",
    "m.fs.statejunction_2.inlet.conc_mol_comp[0, \"H2O\"].fix(5000) # mol/m^3\n",
    "m.fs.statejunction_2.inlet.conc_mol_comp[0, \"NaOH\"].fix(25)  # mol/m^3\n",
    "m.fs.statejunction_2.inlet.conc_mol_comp[0, \"EthylAcetate\"].fix(50)  # mol/m^3\n",
    "m.fs.statejunction_2.inlet.conc_mol_comp[0, \"SodiumAcetate\"].fix(100)  # mol/m^3\n",
    "m.fs.statejunction_2.inlet.conc_mol_comp[0, \"Ethanol\"].fix(200)  # mol/m^3\n",
    "\n",
    "m.fs.statejunction_2.inlet.pressure.fix(101325) # Pa\n",
    "m.fs.statejunction_2.inlet.temperature.fix(298.15) # K\n",
    "\n",
    "# Call the degrees_of_freedom function, get final DOF\n",
    "DOF_final = degrees_of_freedom(m)\n",
    "print('The final degrees of freedom is: {0}'.format(DOF_final))"
   ]
  },
  {
   "cell_type": "code",
   "execution_count": null,
   "metadata": {
    "tags": [
     "testing",
     "remove_cell"
    ]
   },
   "outputs": [],
   "source": [
    "assert DOF_final == 0"
   ]
  },
  {
   "cell_type": "markdown",
   "metadata": {},
   "source": [
    "### Flowsheet Initialization"
   ]
  },
  {
   "cell_type": "code",
   "execution_count": null,
   "metadata": {},
   "outputs": [],
   "source": [
    "# Initialize the flowsheet, and set the output at WARNING\n",
    "m.fs.statejunction_2.initialize(outlvl=idaeslog.WARNING)"
   ]
  },
  {
   "cell_type": "markdown",
   "metadata": {},
   "source": [
    "### View Results"
   ]
  },
  {
   "cell_type": "markdown",
   "metadata": {},
   "source": [
    "Since this problem has no constraints, a solver is not required to compute the properties of the outlet stream. As the following report will show, the stream composition of the inlet is identical to that of the outlet."
   ]
  },
  {
   "cell_type": "code",
   "execution_count": null,
   "metadata": {},
   "outputs": [],
   "source": [
    "# Display output report\n",
    "m.fs.statejunction_2.report()"
   ]
  },
  {
   "cell_type": "code",
   "execution_count": null,
   "metadata": {
    "tags": [
     "testing",
     "remove_cell"
    ]
   },
   "outputs": [],
   "source": [
    "import pytest\n",
    "\n",
    "# Check results\n",
    "assert value(m.fs.statejunction_2.outlet.flow_vol[0]) == pytest.approx(100, rel=1e-6)\n",
    "assert value(m.fs.statejunction_2.outlet.pressure[0]) == pytest.approx(101325, rel=1e-6)\n",
    "assert value(m.fs.statejunction_2.outlet.temperature[0]) == pytest.approx(298.15, rel=1e-6)\n",
    "assert value(m.fs.statejunction_2.outlet.conc_mol_comp[0,\"H2O\"]) == pytest.approx(5000, rel=1e-6)\n",
    "assert value(m.fs.statejunction_2.outlet.conc_mol_comp[0,\"NaOH\"]) == pytest.approx(25, rel=1e-6)\n",
    "assert value(m.fs.statejunction_2.outlet.conc_mol_comp[0,\"EthylAcetate\"]) == pytest.approx(50, rel=1e-6)\n",
    "assert value(m.fs.statejunction_2.outlet.conc_mol_comp[0,\"SodiumAcetate\"]) == pytest.approx(100, rel=1e-6)\n",
    "assert value(m.fs.statejunction_2.outlet.conc_mol_comp[0,\"Ethanol\"]) == pytest.approx(200, rel=1e-6)"
   ]
  },
  {
   "cell_type": "code",
   "execution_count": null,
   "metadata": {},
   "outputs": [],
   "source": []
  }
 ],
 "metadata": {
  "celltoolbar": "Tags",
  "kernelspec": {
   "display_name": "Python 3 (ipykernel)",
   "language": "python",
   "name": "python3"
  },
  "language_info": {
   "codemirror_mode": {
    "name": "ipython",
    "version": 3
   },
   "file_extension": ".py",
   "mimetype": "text/x-python",
   "name": "python",
   "nbconvert_exporter": "python",
   "pygments_lexer": "ipython3",
   "version": "3.7.13"
  }
 },
 "nbformat": 4,
 "nbformat_minor": 2
}
