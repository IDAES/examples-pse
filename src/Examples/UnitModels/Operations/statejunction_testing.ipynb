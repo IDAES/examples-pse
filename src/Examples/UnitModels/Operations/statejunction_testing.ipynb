{
 "cells": [
  {
   "cell_type": "markdown",
   "metadata": {},
   "source": [
    "# Tutorial: StateJunction Unit Model with Modular Property Package\n",
    "\n",
    "![](statejunction.svg)\n",
    "\n",
    "## Learning Outcomes\n",
    "\n",
    "- Demonstrate use of the StateJunction unit model in IDAES\n",
    "- Demonstrate different options available\n",
    "\n",
    "\n",
    "## Problem Statement\n",
    "\n",
    "In this example, we will be passing two different liquid streams through a StateJunction. The IDAES StateJunction unit model is a pass-through unit or simple pipe that is primarily used to link streams to/from different process alternatives in conceptual design applications. The inlet conditions are as follows:\n",
    "\n",
    "**Case 1:**\n",
    "\n",
    "Molar Flow Rate = 100 mol/s\n",
    "\n",
    "Temperature = 298.15 K\n",
    "\n",
    "Pressure = 101325 Pa\n",
    "\n",
    "Mole Fraction (benzene) = 0.6\n",
    "\n",
    "Mole Fraction (toluene) = 0.4\n",
    "\n",
    "**Case 2**\n",
    "\n",
    "Volumetric Flow Rate = 10 m^3/s\n",
    "\n",
    "H2O Concentration = 5000 mol/m^3\n",
    "\n",
    "NaOH Concentration = 25 mol/m^3\n",
    "\n",
    "Temperature = 298.15 K\n",
    "\n",
    "Pressure = 101325 Pa \n",
    "\n",
    "We will look at two cases in this tutorial:\n",
    "\n",
    "* Case 1: Use the StateJunction unit model to solve a problem with constraints (requires a flowsheet-level solver).\n",
    "\n",
    "* Case 2: Use the StateJunction unit model to solve a problem without constraints (does not require a flowsheet-level solver).\n",
    "\n",
    "\n",
    "For more details, please refer to the IDAES documentation: https://idaes-pse.readthedocs.io/en/stable"
   ]
  },
  {
   "cell_type": "markdown",
   "metadata": {},
   "source": [
    "## Setting up the problem in IDAES"
   ]
  },
  {
   "cell_type": "markdown",
   "metadata": {},
   "source": [
    "In the following cell, we will be importing the necessary components from Pyomo and IDAES."
   ]
  },
  {
   "cell_type": "code",
   "execution_count": null,
   "metadata": {},
   "outputs": [],
   "source": [
    "# Import objects from pyomo package \n",
    "from pyomo.environ import ConcreteModel, Constraint, value, SolverFactory\n",
    "\n",
    "# Import the solver\n",
    "from idaes.core.solvers import get_solver\n",
    "\n",
    "# Import the main FlowsheetBlock from IDAES. The flowsheet block will contain the unit model\n",
    "from idaes.core import FlowsheetBlock\n",
    "\n",
    "# Import the StateJunction unit model\n",
    "from idaes.models.unit_models import StateJunction\n",
    "\n",
    "# Import idaes logger to set output levels\n",
    "import idaes.logger as idaeslog\n",
    "\n",
    "# Import the modular property package to create a property block for the case 1 flowsheet\n",
    "from idaes.models.properties.modular_properties.base.generic_property import GenericParameterBlock\n",
    "\n",
    "# Import the BT_ideal property package to create a configuration file for the GenericParameterBlock based on the ideal eos\n",
    "from idaes.models.properties.modular_properties.examples.BT_ideal import configuration as configuration\n",
    "\n",
    "# Import the saponification property package to create a property block for the case 2 flowsheet\n",
    "from idaes.models.properties.examples.saponification_thermo import SaponificationParameterBlock\n",
    "\n",
    "# Import the degrees_of_freedom function from the idaes.core.util.model_statistics package\n",
    "# DOF = Number of Model Variables - Number of Model Constraints\n",
    "from idaes.core.util.model_statistics import degrees_of_freedom\n",
    "\n",
    "# Create the ConcreteModel and the FlowsheetBlock objects, and attach the flowsheet block to it.\n",
    "m = ConcreteModel()\n",
    "\n",
    "m.fs = FlowsheetBlock(dynamic=False) # dynamic or ss flowsheet needs to be specified here\n",
    "\n",
    "# Add properties parameter block to the case 1 flowsheet with the appropriate configuration file\n",
    "m.fs.properties_1 = GenericParameterBlock(**configuration)\n",
    "\n",
    "# Add properties parameter block to the case 2 flowsheet\n",
    "m.fs.properties_2 = SaponificationParameterBlock()"
   ]
  },
  {
   "cell_type": "markdown",
   "metadata": {},
   "source": [
    "## Case 1:\n",
    "\n",
    "In the following cell, we will be creating the StateJunction unit model, assigning the appropriate property packages to it, and determining the degrees of freedom associated with the StateJunction unit model."
   ]
  },
  {
   "cell_type": "code",
   "execution_count": null,
   "metadata": {},
   "outputs": [],
   "source": [
    "# Create an instance of the StateJunction unit, attaching it to the flowsheet\n",
    "# Specify that the property package to be used with the StateJunction is the one we created earlier for case 1\n",
    "\n",
    "m.fs.statejunction_1 = StateJunction(property_package=m.fs.properties_1)\n",
    "\n",
    "# Call the degrees_of_freedom function, get initial DOF\n",
    "DOF_initial = degrees_of_freedom(m)\n",
    "print('The initial degrees of freedom is: {0}'.format(DOF_initial))"
   ]
  },
  {
   "cell_type": "code",
   "execution_count": null,
   "metadata": {
    "tags": [
     "testing",
     "remove_cell"
    ]
   },
   "outputs": [],
   "source": [
    "assert DOF_initial == 5"
   ]
  },
  {
   "cell_type": "markdown",
   "metadata": {},
   "source": [
    "### Fixing input specifications\n",
    "In the following cell, we will be specifying the inlet conditions for the StateJunction block."
   ]
  },
  {
   "cell_type": "code",
   "execution_count": null,
   "metadata": {},
   "outputs": [],
   "source": [
    "# Fix the inlet conditions\n",
    "\n",
    "m.fs.statejunction_1.inlet.flow_mol.fix(100) # converting to mol/s as unit basis is mol/s\n",
    "m.fs.statejunction_1.inlet.mole_frac_comp[0, \"benzene\"].fix(0.6)\n",
    "m.fs.statejunction_1.inlet.mole_frac_comp[0, \"toluene\"].fix(0.4)\n",
    "m.fs.statejunction_1.inlet.pressure.fix(101325) # Pa\n",
    "m.fs.statejunction_1.inlet.temperature.fix(298.15) # K\n",
    "\n",
    "# Call the degrees_of_freedom function, get final DOF\n",
    "DOF_final = degrees_of_freedom(m)\n",
    "print('The final degrees of freedom is: {0}'.format(DOF_final))"
   ]
  },
  {
   "cell_type": "code",
   "execution_count": null,
   "metadata": {
    "tags": [
     "testing",
     "remove_cell"
    ]
   },
   "outputs": [],
   "source": [
    "assert DOF_final == 0"
   ]
  },
  {
   "cell_type": "markdown",
   "metadata": {},
   "source": [
    "### Flowsheet Initialization\n",
    "IDAES includes pre-written initialization routines for all unit models. Failing to initialize or having a poor intialization of a flowsheet may result in the problem being unsolvable. The output from initialization can be set to 7 different levels depending on the details required by the user. In general, when a particular output level is set, any information at that level and above gets picked up by logger. The default level taken by the logger is INFO. \n",
    "\n",
    "More information on these levels can be found in the IDAES documentation: \n",
    "https://idaes-pse.readthedocs.io/en/stable/reference_guides/logging.html?highlight=log%20level#idaes-solve-loggers"
   ]
  },
  {
   "cell_type": "code",
   "execution_count": null,
   "metadata": {},
   "outputs": [],
   "source": [
    "# Initialize the flowsheet, and set the output at WARNING\n",
    "m.fs.statejunction_1.initialize(outlvl=idaeslog.WARNING)"
   ]
  },
  {
   "cell_type": "markdown",
   "metadata": {},
   "source": [
    "### Obtaining Simulation Results\n",
    "In the following cell, the flowsheet will be solved using the IDAES `get_solver` tool. Setting `tee=True` will display the solver output."
   ]
  },
  {
   "cell_type": "code",
   "execution_count": null,
   "metadata": {},
   "outputs": [],
   "source": [
    "# Solve the simulation using the IDAES solver\n",
    "# Note: If the degrees of freedom = 0, we have a square problem\n",
    "solver = get_solver()\n",
    "result = solver.solve(m, tee=True)"
   ]
  },
  {
   "cell_type": "code",
   "execution_count": null,
   "metadata": {
    "tags": [
     "testing",
     "remove_cell"
    ]
   },
   "outputs": [],
   "source": [
    "from pyomo.opt import TerminationCondition, SolverStatus\n",
    "\n",
    "# Check if termination condition is optimal\n",
    "assert result.solver.termination_condition == TerminationCondition.optimal\n",
    "assert result.solver.status == SolverStatus.ok"
   ]
  },
  {
   "cell_type": "markdown",
   "metadata": {},
   "source": [
    "### View Results\n",
    "\n",
    "As expected of a pass-through unit model, the stream composition of the outlet is identical to that of the inlet."
   ]
  },
  {
   "cell_type": "code",
   "execution_count": null,
   "metadata": {},
   "outputs": [],
   "source": [
    "# Display output report\n",
    "m.fs.statejunction_1.report()"
   ]
  },
  {
   "cell_type": "code",
   "execution_count": null,
   "metadata": {
    "tags": [
     "testing",
     "remove_cell"
    ]
   },
   "outputs": [],
   "source": [
    "import pytest\n",
    "\n",
    "# Check results\n",
    "assert value(m.fs.statejunction_1.outlet.flow_mol[0]) == pytest.approx(100, rel=1e-6)\n",
    "assert value(m.fs.statejunction_1.outlet.pressure[0]) == pytest.approx(101325, rel=1e-6)\n",
    "assert value(m.fs.statejunction_1.outlet.temperature[0]) == pytest.approx(298.15, rel=1e-6)\n",
    "assert value(m.fs.statejunction_1.outlet.mole_frac_comp[0,\"benzene\"]) == pytest.approx(0.6, rel=1e-6)\n",
    "assert value(m.fs.statejunction_1.outlet.mole_frac_comp[0,\"toluene\"]) == pytest.approx(0.4, rel=1e-6)"
   ]
  },
  {
   "cell_type": "markdown",
   "metadata": {},
   "source": [
    "## Case 2:\n",
    "\n",
    "In the following cell, we will be creating the StateJunction unit model, assigning the appropriate property packages to it, and determining the degrees of freedom associated with the StateJunction unit model."
   ]
  },
  {
   "cell_type": "code",
   "execution_count": null,
   "metadata": {},
   "outputs": [],
   "source": [
    "# Create an instance of the StateJunction unit, attaching it to the flowsheet\n",
    "# Specify that the property package to be used with the StateJunction is the one we created earlier for case 2\n",
    "\n",
    "m.fs.statejunction_2 = StateJunction(property_package=m.fs.properties_2)\n",
    "\n",
    "# Call the degrees_of_freedom function, get initial DOF\n",
    "DOF_initial = degrees_of_freedom(m)\n",
    "print('The initial degrees of freedom is: {0}'.format(DOF_initial))"
   ]
  },
  {
   "cell_type": "code",
   "execution_count": null,
   "metadata": {
    "tags": [
     "testing",
     "remove_cell"
    ]
   },
   "outputs": [],
   "source": [
    "assert DOF_initial == 0"
   ]
  },
  {
   "cell_type": "markdown",
   "metadata": {},
   "source": [
    "### Fixing input specifications\n",
    "In the following cell, we will be specifying the inlet conditions for the StateJunction block."
   ]
  },
  {
   "cell_type": "code",
   "execution_count": null,
   "metadata": {},
   "outputs": [],
   "source": [
    "# Fix the inlet conditions\n",
    "\n",
    "m.fs.statejunction_2.inlet.flow_vol.fix(10) # m^3/s\n",
    "\n",
    "m.fs.statejunction_2.inlet.conc_mol_comp[0, \"H2O\"].fix(5000) # mol/m^3\n",
    "m.fs.statejunction_2.inlet.conc_mol_comp[0, \"NaOH\"].fix(25)  # mol/m^3\n",
    "m.fs.statejunction_2.inlet.conc_mol_comp[0, \"EthylAcetate\"].fix(50)  # mol/m^3\n",
    "m.fs.statejunction_2.inlet.conc_mol_comp[0, \"SodiumAcetate\"].fix(100)  # mol/m^3\n",
    "m.fs.statejunction_2.inlet.conc_mol_comp[0, \"Ethanol\"].fix(200)  # mol/m^3\n",
    "\n",
    "m.fs.statejunction_2.inlet.pressure.fix(101325) # Pa\n",
    "m.fs.statejunction_2.inlet.temperature.fix(298.15) # K\n",
    "\n",
    "# Call the degrees_of_freedom function, get final DOF\n",
    "DOF_final = degrees_of_freedom(m)\n",
    "print('The final degrees of freedom is: {0}'.format(DOF_final))"
   ]
  },
  {
   "cell_type": "code",
   "execution_count": null,
   "metadata": {
    "tags": [
     "testing",
     "remove_cell"
    ]
   },
   "outputs": [],
   "source": [
    "assert DOF_final == 0"
   ]
  },
  {
   "cell_type": "markdown",
   "metadata": {},
   "source": [
    "### Flowsheet Initialization\n",
    "IDAES includes pre-written initialization routines for all unit models. Failing to initialize or having a poor intialization of a flowsheet may result in the problem being unsolvable. The output from initialization can be set to 7 different levels depending on the details required by the user. In general, when a particular output level is set, any information at that level and above gets picked up by logger. The default level taken by the logger is INFO. \n",
    "\n",
    "More information on these levels can be found in the IDAES documentation: \n",
    "https://idaes-pse.readthedocs.io/en/stable/reference_guides/logging.html?highlight=log%20level#idaes-solve-loggers"
   ]
  },
  {
   "cell_type": "code",
   "execution_count": null,
   "metadata": {},
   "outputs": [],
   "source": [
    "# Initialize the flowsheet, and set the output at WARNING\n",
    "m.fs.statejunction_2.initialize(outlvl=idaeslog.WARNING)"
   ]
  },
  {
   "cell_type": "markdown",
   "metadata": {},
   "source": [
    "### View Results\n",
    "\n",
    "Since this problem has no constraints, an additional solver is not required to compute the properties of the outlet stream. As the following report will show, the stream composition of the inlet is identical to that of the outlet."
   ]
  },
  {
   "cell_type": "code",
   "execution_count": null,
   "metadata": {},
   "outputs": [],
   "source": [
    "# Display output report\n",
    "m.fs.statejunction_2.report()"
   ]
  },
  {
   "cell_type": "code",
   "execution_count": null,
   "metadata": {
    "tags": [
     "testing",
     "remove_cell"
    ]
   },
   "outputs": [],
   "source": [
    "import pytest\n",
    "\n",
    "# Check results\n",
    "assert value(m.fs.statejunction_2.outlet.flow_vol[0]) == pytest.approx(10, rel=1e-6)\n",
    "assert value(m.fs.statejunction_2.outlet.pressure[0]) == pytest.approx(101325, rel=1e-6)\n",
    "assert value(m.fs.statejunction_2.outlet.temperature[0]) == pytest.approx(298.15, rel=1e-6)\n",
    "assert value(m.fs.statejunction_2.outlet.conc_mol_comp[0,\"H2O\"]) == pytest.approx(5000, rel=1e-6)\n",
    "assert value(m.fs.statejunction_2.outlet.conc_mol_comp[0,\"NaOH\"]) == pytest.approx(25, rel=1e-6)\n",
    "assert value(m.fs.statejunction_2.outlet.conc_mol_comp[0,\"EthylAcetate\"]) == pytest.approx(50, rel=1e-6)\n",
    "assert value(m.fs.statejunction_2.outlet.conc_mol_comp[0,\"SodiumAcetate\"]) == pytest.approx(100, rel=1e-6)\n",
    "assert value(m.fs.statejunction_2.outlet.conc_mol_comp[0,\"Ethanol\"]) == pytest.approx(200, rel=1e-6)"
   ]
  },
  {
   "cell_type": "code",
   "execution_count": null,
   "metadata": {},
   "outputs": [],
   "source": []
  }
 ],
 "metadata": {
  "celltoolbar": "Tags",
  "kernelspec": {
   "display_name": "Python 3 (ipykernel)",
   "language": "python",
   "name": "python3"
  },
  "language_info": {
   "codemirror_mode": {
    "name": "ipython",
    "version": 3
   },
   "file_extension": ".py",
   "mimetype": "text/x-python",
   "name": "python",
   "nbconvert_exporter": "python",
   "pygments_lexer": "ipython3",
   "version": "3.7.13"
  }
 },
 "nbformat": 4,
 "nbformat_minor": 2
}
