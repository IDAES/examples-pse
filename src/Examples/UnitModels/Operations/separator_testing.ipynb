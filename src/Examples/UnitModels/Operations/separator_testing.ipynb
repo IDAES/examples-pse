{
 "cells": [
  {
   "cell_type": "markdown",
   "metadata": {},
   "source": [
    "# Tutorial: Separator Unit Model with Modular Property Package"
   ]
  },
  {
   "cell_type": "code",
   "execution_count": null,
   "metadata": {},
   "outputs": [],
   "source": [
    "from IPython.core.display import Image\n",
    "Image(filename='separator.PNG')"
   ]
  },
  {
   "cell_type": "markdown",
   "metadata": {},
   "source": [
    "## Learning Outcomes\n",
    "\n",
    "- Demonstrate use of the separator unit model in IDAES\n",
    "- Demonstrate different separation options available\n",
    "\n",
    "\n",
    "## Problem Statement\n",
    "\n",
    "In this example, we will be separating a feed stream of liquid H2O and CO2 vapor. The inlet conditions are as follows:\n",
    "\n",
    "**Inlet:**\n",
    "\n",
    "Flow Rate = 100 mol/s\n",
    "\n",
    "Mole Fraction (H2O) = 0.9\n",
    "\n",
    "Mole Fraction (CO2) = 0.1\n",
    "\n",
    "Temperature = 298 K\n",
    "\n",
    "Pressure = 101325 Pa\n",
    "\n",
    "We will look at three cases in this tutorial:\n",
    "\n",
    "Case 1: Separate on a total flow split basis\n",
    "\n",
    "Case 2: Separate on a phase flow split basis\n",
    "\n",
    "Case 3: Separate on a component flow split basis\n",
    "\n",
    "\n",
    "For more details, please refer to the IDAES documentation: https://idaes-pse.readthedocs.io/en/stable"
   ]
  },
  {
   "cell_type": "markdown",
   "metadata": {},
   "source": [
    "## Setting up the problem in IDAES"
   ]
  },
  {
   "cell_type": "markdown",
   "metadata": {},
   "source": [
    "In the following cell, we will be importing the necessary components from Pyomo and IDAES."
   ]
  },
  {
   "cell_type": "code",
   "execution_count": null,
   "metadata": {},
   "outputs": [],
   "source": [
    "# Import objects from pyomo package \n",
    "from pyomo.environ import ConcreteModel, value\n",
    "\n",
    "# Import the solver\n",
    "from idaes.core.solvers import get_solver\n",
    "\n",
    "# Import the main FlowsheetBlock from IDAES. The flowsheet block will contain the unit model\n",
    "from idaes.core import FlowsheetBlock\n",
    "\n",
    "# Import the option to set the type of material balance \n",
    "from idaes.core import MaterialBalanceType\n",
    "\n",
    "# Import the separator unit model\n",
    "from idaes.models.unit_models import Separator\n",
    "\n",
    "# Import the option to set the basis for splitting\n",
    "from idaes.models.unit_models.separator import SplittingType\n",
    "\n",
    "# Import idaes logger to set output levels\n",
    "import idaes.logger as idaeslog\n",
    "\n",
    "# Import the modular property package to create a property block for the flowsheet\n",
    "from idaes.models.properties.modular_properties.base.generic_property import GenericParameterBlock\n",
    "\n",
    "# Import the BT_Ideal property package to create a configuration file for the GenericParameterBlock\n",
    "from idaes.models.properties.modular_properties.examples.CO2_H2O_Ideal_VLE import configuration\n",
    "\n",
    "# Import the degrees_of_freedom function from the idaes.core.util.model_statistics package\n",
    "# DOF = Number of Model Variables - Number of Model Constraints\n",
    "from idaes.core.util.model_statistics import degrees_of_freedom\n",
    "\n",
    "# Create the ConcreteModel and the FlowsheetBlock objects, and attach the flowsheet block to it.\n",
    "m = ConcreteModel()\n",
    "\n",
    "m.fs = FlowsheetBlock(dynamic=False) # dynamic or ss flowsheet needs to be specified here\n",
    "\n",
    "# Add properties parameter block to the flowsheet with the appropriate configuration file\n",
    "m.fs.properties = GenericParameterBlock(**configuration)\n",
    "\n"
   ]
  },
  {
   "cell_type": "markdown",
   "metadata": {},
   "source": [
    "## Case 1:\n",
    "\n",
    "In the following cell, we will be creating the separator unit model that splits on a *total flow basis* and determining the degrees of freedom associated with this separator unit model."
   ]
  },
  {
   "cell_type": "code",
   "execution_count": null,
   "metadata": {},
   "outputs": [],
   "source": [
    "# Create an instance of the separator unit, attaching it to the flowsheet\n",
    "# Specify that the property package to be used with the separator is the one we created earlier\n",
    "\n",
    "m.fs.sep_1 = Separator(\n",
    "    property_package=m.fs.properties,\n",
    "    split_basis=SplittingType.totalFlow,\n",
    "    outlet_list=[\"a1\", \"b1\", \"c1\"],  # creates three outlet streams\n",
    "    ideal_separation=False,\n",
    "    has_phase_equilibrium=False,\n",
    ")\n",
    "\n",
    "# Call the degrees_of_freedom function, get initial DOF\n",
    "DOF_initial = degrees_of_freedom(m)\n",
    "print('The initial degrees of freedom are: {0}'.format(DOF_initial))"
   ]
  },
  {
   "cell_type": "code",
   "execution_count": null,
   "metadata": {
    "tags": [
     "testing",
     "remove_cell"
    ]
   },
   "outputs": [],
   "source": [
    "assert DOF_initial == 7"
   ]
  },
  {
   "cell_type": "markdown",
   "metadata": {},
   "source": [
    "In the following cell, we will be specifying the inlet conditions for the separator block and ensuring that there are zero degrees of freedom."
   ]
  },
  {
   "cell_type": "code",
   "execution_count": null,
   "metadata": {},
   "outputs": [],
   "source": [
    "# Fix the inlet conditions\n",
    "\n",
    "# Inlet stream\n",
    "m.fs.sep_1.inlet.flow_mol.fix(10) # converting to mol/s as unit basis is mol/s\n",
    "m.fs.sep_1.inlet.mole_frac_comp[0, \"H2O\"].fix(0.9)\n",
    "m.fs.sep_1.inlet.mole_frac_comp[0, \"CO2\"].fix(0.1)\n",
    "m.fs.sep_1.inlet.pressure.fix(101325) # Pa\n",
    "m.fs.sep_1.inlet.temperature.fix(353) # K\n",
    "\n",
    "# Separator unit variables\n",
    "m.fs.sep_1.split_fraction[0, \"a1\"].fix(0.2)\n",
    "m.fs.sep_1.split_fraction[0, \"b1\"].fix(0.5)\n",
    "# Directly setting the split fraction of c will cause the DOF check to fail\n",
    "\n",
    "# Call the degrees_of_freedom function, get final DOF\n",
    "DOF_final = degrees_of_freedom(m)\n",
    "print('The final degrees of freedom is: {0}'.format(DOF_final))"
   ]
  },
  {
   "cell_type": "code",
   "execution_count": null,
   "metadata": {
    "tags": [
     "testing",
     "remove_cell"
    ]
   },
   "outputs": [],
   "source": [
    "assert DOF_final == 0"
   ]
  },
  {
   "cell_type": "markdown",
   "metadata": {},
   "source": [
    "### Flowsheet Initialization"
   ]
  },
  {
   "cell_type": "code",
   "execution_count": null,
   "metadata": {},
   "outputs": [],
   "source": [
    "# Initialize the flowsheet, and set the output at WARNING\n",
    "m.fs.sep_1.initialize(outlvl=idaeslog.WARNING)"
   ]
  },
  {
   "cell_type": "markdown",
   "metadata": {},
   "source": [
    "### Obtaining Simulation Results"
   ]
  },
  {
   "cell_type": "code",
   "execution_count": null,
   "metadata": {},
   "outputs": [],
   "source": [
    "# Solve the simulation using the IDAES solver\n",
    "# Note: If the degrees of freedom = 0, we have a square problem\n",
    "solver = get_solver()\n",
    "result = solver.solve(m, tee=True)"
   ]
  },
  {
   "cell_type": "code",
   "execution_count": null,
   "metadata": {
    "tags": [
     "testing",
     "remove_cell"
    ]
   },
   "outputs": [],
   "source": [
    "from pyomo.opt import TerminationCondition, SolverStatus\n",
    "\n",
    "# Check if termination condition is optimal\n",
    "assert result.solver.termination_condition == TerminationCondition.optimal\n",
    "assert result.solver.status == SolverStatus.ok"
   ]
  },
  {
   "cell_type": "markdown",
   "metadata": {},
   "source": [
    "### View Results"
   ]
  },
  {
   "cell_type": "markdown",
   "metadata": {},
   "source": [
    "As expected the three outlet streams share the same composition as the inlet stream with the only difference being their molar flowrate, which was determined by their respective split fractions."
   ]
  },
  {
   "cell_type": "code",
   "execution_count": null,
   "metadata": {},
   "outputs": [],
   "source": [
    "# Display output report\n",
    "m.fs.sep_1.report()"
   ]
  },
  {
   "cell_type": "code",
   "execution_count": null,
   "metadata": {
    "tags": [
     "testing",
     "remove_cell"
    ]
   },
   "outputs": [],
   "source": [
    "import pytest\n",
    "\n",
    "# Check outlet a results\n",
    "assert value(m.fs.sep_1.a1.flow_mol[0]) == pytest.approx(2, rel=1e-6)\n",
    "assert value(m.fs.sep_1.a1.pressure[0]) == pytest.approx(101325, rel=1e-6)\n",
    "assert value(m.fs.sep_1.a1.temperature[0]) == pytest.approx(353, rel=1e-6)\n",
    "assert value(m.fs.sep_1.a1.mole_frac_comp[0,\"H2O\"]) == pytest.approx(0.9, rel=1e-6)\n",
    "assert value(m.fs.sep_1.a1.mole_frac_comp[0,\"CO2\"]) == pytest.approx(0.1, rel=1e-6)\n",
    "\n",
    "\n",
    "# Check outlet b results\n",
    "assert value(m.fs.sep_1.b1.flow_mol[0]) == pytest.approx(5, rel=1e-6)\n",
    "assert value(m.fs.sep_1.b1.pressure[0]) == pytest.approx(101325, rel=1e-6)\n",
    "assert value(m.fs.sep_1.b1.temperature[0]) == pytest.approx(353, rel=1e-6)\n",
    "assert value(m.fs.sep_1.b1.mole_frac_comp[0,\"H2O\"]) == pytest.approx(0.9, rel=1e-6)\n",
    "assert value(m.fs.sep_1.b1.mole_frac_comp[0,\"CO2\"]) == pytest.approx(0.1, rel=1e-6)\n",
    "\n",
    "# Check outlet c results\n",
    "assert value(m.fs.sep_1.c1.flow_mol[0]) == pytest.approx(3, rel=1e-6)\n",
    "assert value(m.fs.sep_1.c1.pressure[0]) == pytest.approx(101325, rel=1e-6)\n",
    "assert value(m.fs.sep_1.c1.temperature[0]) == pytest.approx(353, rel=1e-6)\n",
    "assert value(m.fs.sep_1.c1.mole_frac_comp[0,\"H2O\"]) == pytest.approx(0.9, rel=1e-6)\n",
    "assert value(m.fs.sep_1.c1.mole_frac_comp[0,\"CO2\"]) == pytest.approx(0.1, rel=1e-6)\n"
   ]
  },
  {
   "cell_type": "markdown",
   "metadata": {},
   "source": [
    "## Case 2:\n",
    "\n",
    "In the following cell, we will be creating the separator unit model that splits on a *phase flow basis* and determining the degrees of freedom associated with this separator unit model."
   ]
  },
  {
   "cell_type": "code",
   "execution_count": null,
   "metadata": {},
   "outputs": [],
   "source": [
    "# Create an instance of the separator unit, attaching it to the flowsheet\n",
    "# Specify that the property package to be used with the separator is the one we created earlier\n",
    "\n",
    "m.fs.sep_2 = Separator(\n",
    "    property_package=m.fs.properties,\n",
    "    split_basis=SplittingType.phaseFlow,\n",
    "    outlet_list=[\"a2\", \"b2\"],\n",
    "    ideal_separation=False,\n",
    "    has_phase_equilibrium=False,\n",
    ")\n",
    "\n",
    "# Call the degrees_of_freedom function, get initial DOF\n",
    "DOF_initial = degrees_of_freedom(m)\n",
    "print('The initial degrees of freedom are: {0}'.format(DOF_initial))"
   ]
  },
  {
   "cell_type": "code",
   "execution_count": null,
   "metadata": {
    "tags": [
     "testing",
     "remove_cell"
    ]
   },
   "outputs": [],
   "source": [
    "assert DOF_initial == 7"
   ]
  },
  {
   "cell_type": "markdown",
   "metadata": {},
   "source": [
    "In the following cell, we will be specifying the inlet conditions for the separator block and ensuring that there are zero degrees of freedom."
   ]
  },
  {
   "cell_type": "code",
   "execution_count": null,
   "metadata": {},
   "outputs": [],
   "source": [
    "# Fix the inlet conditions\n",
    "\n",
    "# Inlet stream\n",
    "m.fs.sep_2.inlet.flow_mol.fix(10) # converting to mol/s as unit basis is mol/s\n",
    "m.fs.sep_2.inlet.mole_frac_comp[0, \"H2O\"].fix(0.9)\n",
    "m.fs.sep_2.inlet.mole_frac_comp[0, \"CO2\"].fix(0.1)\n",
    "m.fs.sep_2.inlet.pressure.fix(101325) # Pa\n",
    "m.fs.sep_2.inlet.temperature.fix(353) # K\n",
    "\n",
    "# Separator unit variables\n",
    "m.fs.sep_2.split_fraction[0, \"a2\", \"Vap\"].fix(0.8)\n",
    "m.fs.sep_2.split_fraction[0, \"b2\", \"Liq\"].fix(0.8)\n",
    "\n",
    "# Call the degrees_of_freedom function, get final DOF\n",
    "DOF_final = degrees_of_freedom(m)\n",
    "print('The final degrees of freedom is: {0}'.format(DOF_final))"
   ]
  },
  {
   "cell_type": "code",
   "execution_count": null,
   "metadata": {
    "tags": [
     "testing",
     "remove_cell"
    ]
   },
   "outputs": [],
   "source": [
    "assert DOF_final == 0"
   ]
  },
  {
   "cell_type": "markdown",
   "metadata": {},
   "source": [
    "### Flowsheet Initialization"
   ]
  },
  {
   "cell_type": "code",
   "execution_count": null,
   "metadata": {},
   "outputs": [],
   "source": [
    "# Initialize the flowsheet, and set the output at WARNING\n",
    "m.fs.sep_2.initialize(outlvl=idaeslog.WARNING)"
   ]
  },
  {
   "cell_type": "markdown",
   "metadata": {},
   "source": [
    "### Obtaining Simulation Results"
   ]
  },
  {
   "cell_type": "code",
   "execution_count": null,
   "metadata": {},
   "outputs": [],
   "source": [
    "# Solve the simulation using the IDAES solver\n",
    "# Note: If the degrees of freedom = 0, we have a square problem\n",
    "solver = get_solver()\n",
    "result = solver.solve(m, tee=True)"
   ]
  },
  {
   "cell_type": "code",
   "execution_count": null,
   "metadata": {
    "tags": [
     "testing",
     "remove_cell"
    ]
   },
   "outputs": [],
   "source": [
    "from pyomo.opt import TerminationCondition, SolverStatus\n",
    "\n",
    "# Check if termination condition is optimal\n",
    "assert result.solver.termination_condition == TerminationCondition.optimal\n",
    "assert result.solver.status == SolverStatus.ok"
   ]
  },
  {
   "cell_type": "markdown",
   "metadata": {},
   "source": [
    "### View Results"
   ]
  },
  {
   "cell_type": "code",
   "execution_count": null,
   "metadata": {},
   "outputs": [],
   "source": [
    "# Display output report\n",
    "m.fs.sep_2.report()"
   ]
  },
  {
   "cell_type": "code",
   "execution_count": null,
   "metadata": {
    "tags": [
     "testing",
     "remove_cell"
    ]
   },
   "outputs": [],
   "source": [
    "import pytest\n",
    "\n",
    "# Check outlet a results\n",
    "assert value(m.fs.sep_2.a2.flow_mol[0]) == pytest.approx(3.1220, rel=1e-3)\n",
    "assert value(m.fs.sep_2.a2.pressure[0]) == pytest.approx(101325, rel=1e-6)\n",
    "assert value(m.fs.sep_2.a2.temperature[0]) == pytest.approx(353, rel=1e-6)\n",
    "assert value(m.fs.sep_2.a2.mole_frac_comp[0,\"H2O\"]) == pytest.approx(0.74375, rel=1e-5)\n",
    "assert value(m.fs.sep_2.a2.mole_frac_comp[0,\"CO2\"]) == pytest.approx(0.25625, rel=1e-5)\n",
    "\n",
    "\n",
    "# Check outlet b results\n",
    "assert value(m.fs.sep_2.b2.flow_mol[0]) == pytest.approx(6.878, rel=1e-3)\n",
    "assert value(m.fs.sep_2.b2.pressure[0]) == pytest.approx(101325, rel=1e-6)\n",
    "assert value(m.fs.sep_2.b2.temperature[0]) == pytest.approx(353, rel=1e-6)\n",
    "assert value(m.fs.sep_2.b2.mole_frac_comp[0,\"H2O\"]) == pytest.approx(0.97092, rel=1e-5)\n",
    "assert value(m.fs.sep_2.b2.mole_frac_comp[0,\"CO2\"]) == pytest.approx(0.029078, rel=1e-5)\n"
   ]
  },
  {
   "cell_type": "markdown",
   "metadata": {},
   "source": [
    "## Case 3:\n",
    "\n",
    "In the following cell, we will be creating the separator unit model that splits on a *component flow basis* and determining the degrees of freedom associated with this separator unit model."
   ]
  },
  {
   "cell_type": "code",
   "execution_count": null,
   "metadata": {},
   "outputs": [],
   "source": [
    "# Create an instance of the separator unit, attaching it to the flowsheet\n",
    "# Specify that the property package to be used with the separator is the one we created earlier\n",
    "\n",
    "m.fs.sep_3 = Separator(\n",
    "    property_package=m.fs.properties,\n",
    "    split_basis=SplittingType.componentFlow,\n",
    "    outlet_list=[\"a3\", \"b3\", \"c3\", \"d3\"],\n",
    "    ideal_separation=False,\n",
    "    has_phase_equilibrium=False,\n",
    ")\n",
    "\n",
    "# Call the degrees_of_freedom function, get initial DOF\n",
    "DOF_initial = degrees_of_freedom(m)\n",
    "print('The initial degrees of freedom are: {0}'.format(DOF_initial))"
   ]
  },
  {
   "cell_type": "code",
   "execution_count": null,
   "metadata": {
    "tags": [
     "testing",
     "remove_cell"
    ]
   },
   "outputs": [],
   "source": [
    "assert DOF_initial == 11"
   ]
  },
  {
   "cell_type": "markdown",
   "metadata": {},
   "source": [
    "In the following cell, we will be specifying the inlet conditions for the separator block and ensuring that there are zero degrees of freedom."
   ]
  },
  {
   "cell_type": "code",
   "execution_count": null,
   "metadata": {},
   "outputs": [],
   "source": [
    "# Fix the inlet conditions\n",
    "\n",
    "# Inlet stream\n",
    "m.fs.sep_3.inlet.flow_mol.fix(10) # converting to mol/s as unit basis is mol/s\n",
    "m.fs.sep_3.inlet.mole_frac_comp[0, \"H2O\"].fix(0.9)\n",
    "m.fs.sep_3.inlet.mole_frac_comp[0, \"CO2\"].fix(0.1)\n",
    "m.fs.sep_3.inlet.pressure.fix(101325) # Pa\n",
    "m.fs.sep_3.inlet.temperature.fix(353) # K\n",
    "\n",
    "# Separator unit variables\n",
    "m.fs.sep_3.split_fraction[0, \"a3\", \"H2O\"].fix(0.25)\n",
    "m.fs.sep_3.split_fraction[0, \"b3\", \"H2O\"].fix(0.5)\n",
    "m.fs.sep_3.split_fraction[0, \"c3\", \"H2O\"].fix(0.1)\n",
    "\n",
    "m.fs.sep_3.split_fraction[0, \"a3\", \"CO2\"].fix(0.1)\n",
    "m.fs.sep_3.split_fraction[0, \"b3\", \"CO2\"].fix(0.2)\n",
    "m.fs.sep_3.split_fraction[0, \"c3\", \"CO2\"].fix(0.3)\n",
    "\n",
    "# Call the degrees_of_freedom function, get final DOF\n",
    "DOF_final = degrees_of_freedom(m)\n",
    "print('The final degrees of freedom is: {0}'.format(DOF_final))"
   ]
  },
  {
   "cell_type": "code",
   "execution_count": null,
   "metadata": {
    "tags": [
     "testing",
     "remove_cell"
    ]
   },
   "outputs": [],
   "source": [
    "assert DOF_final == 0"
   ]
  },
  {
   "cell_type": "markdown",
   "metadata": {},
   "source": [
    "### Flowsheet Initialization"
   ]
  },
  {
   "cell_type": "code",
   "execution_count": null,
   "metadata": {},
   "outputs": [],
   "source": [
    "# Initialize the flowsheet, and set the output at WARNING\n",
    "m.fs.sep_3.initialize(outlvl=idaeslog.WARNING)"
   ]
  },
  {
   "cell_type": "markdown",
   "metadata": {},
   "source": [
    "### Obtaining Simulation Results"
   ]
  },
  {
   "cell_type": "code",
   "execution_count": null,
   "metadata": {},
   "outputs": [],
   "source": [
    "# Solve the simulation using the IDAES solver\n",
    "# Note: If the degrees of freedom = 0, we have a square problem\n",
    "solver = get_solver()\n",
    "result = solver.solve(m, tee=True)"
   ]
  },
  {
   "cell_type": "code",
   "execution_count": null,
   "metadata": {
    "tags": [
     "testing",
     "remove_cell"
    ]
   },
   "outputs": [],
   "source": [
    "from pyomo.opt import TerminationCondition, SolverStatus\n",
    "\n",
    "# Check if termination condition is optimal\n",
    "assert result.solver.termination_condition == TerminationCondition.optimal\n",
    "assert result.solver.status == SolverStatus.ok"
   ]
  },
  {
   "cell_type": "markdown",
   "metadata": {},
   "source": [
    "### View Results"
   ]
  },
  {
   "cell_type": "code",
   "execution_count": null,
   "metadata": {},
   "outputs": [],
   "source": [
    "# Display output report\n",
    "m.fs.sep_3.report()"
   ]
  },
  {
   "cell_type": "code",
   "execution_count": null,
   "metadata": {
    "tags": [
     "testing",
     "remove_cell"
    ]
   },
   "outputs": [],
   "source": [
    "import pytest\n",
    "\n",
    "# Check outlet a results\n",
    "assert value(m.fs.sep_3.a3.flow_mol[0]) == pytest.approx(2.35, rel=1e-3)\n",
    "assert value(m.fs.sep_3.a3.pressure[0]) == pytest.approx(101325, rel=1e-6)\n",
    "assert value(m.fs.sep_3.a3.temperature[0]) == pytest.approx(353, rel=1e-6)\n",
    "assert value(m.fs.sep_3.a3.mole_frac_comp[0,\"H2O\"]) == pytest.approx(0.95745, rel=1e-5)\n",
    "assert value(m.fs.sep_3.a3.mole_frac_comp[0,\"CO2\"]) == pytest.approx(0.042553, rel=1e-5)\n",
    "\n",
    "# Check outlet b results\n",
    "assert value(m.fs.sep_3.b3.flow_mol[0]) == pytest.approx(4.7, rel=1e-3)\n",
    "assert value(m.fs.sep_3.b3.pressure[0]) == pytest.approx(101325, rel=1e-6)\n",
    "assert value(m.fs.sep_3.b3.temperature[0]) == pytest.approx(353, rel=1e-6)\n",
    "assert value(m.fs.sep_3.b3.mole_frac_comp[0,\"H2O\"]) == pytest.approx(0.95745, rel=1e-5)\n",
    "assert value(m.fs.sep_3.b3.mole_frac_comp[0,\"CO2\"]) == pytest.approx(0.042553, rel=1e-5)\n",
    "\n",
    "# Check outlet c results\n",
    "assert value(m.fs.sep_3.c3.flow_mol[0]) == pytest.approx(1.2, rel=1e-3)\n",
    "assert value(m.fs.sep_3.c3.pressure[0]) == pytest.approx(101325, rel=1e-6)\n",
    "assert value(m.fs.sep_3.c3.temperature[0]) == pytest.approx(353, rel=1e-6)\n",
    "assert value(m.fs.sep_3.c3.mole_frac_comp[0,\"H2O\"]) == pytest.approx(0.75, rel=1e-5)\n",
    "assert value(m.fs.sep_3.c3.mole_frac_comp[0,\"CO2\"]) == pytest.approx(0.25, rel=1e-5)\n",
    "\n",
    "# Check outlet d results\n",
    "assert value(m.fs.sep_3.d3.flow_mol[0]) == pytest.approx(1.75, rel=1e-3)\n",
    "assert value(m.fs.sep_3.d3.pressure[0]) == pytest.approx(101325, rel=1e-6)\n",
    "assert value(m.fs.sep_3.d3.temperature[0]) == pytest.approx(353, rel=1e-6)\n",
    "assert value(m.fs.sep_3.d3.mole_frac_comp[0,\"H2O\"]) == pytest.approx(0.77143, rel=1e-5)\n",
    "assert value(m.fs.sep_3.d3.mole_frac_comp[0,\"CO2\"]) == pytest.approx(0.22857, rel=1e-5)"
   ]
  }
 ],
 "metadata": {
  "celltoolbar": "Tags",
  "kernelspec": {
   "display_name": "Python 3 (ipykernel)",
   "language": "python",
   "name": "python3"
  },
  "language_info": {
   "codemirror_mode": {
    "name": "ipython",
    "version": 3
   },
   "file_extension": ".py",
   "mimetype": "text/x-python",
   "name": "python",
   "nbconvert_exporter": "python",
   "pygments_lexer": "ipython3",
   "version": "3.7.13"
  }
 },
 "nbformat": 4,
 "nbformat_minor": 2
}
