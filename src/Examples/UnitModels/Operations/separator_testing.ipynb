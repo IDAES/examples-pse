{
 "cells": [
  {
   "cell_type": "markdown",
   "metadata": {},
   "source": [
    "# Tutorial: Separator Unit Model with Modular Property Package"
   ]
  },
  {
   "cell_type": "code",
   "execution_count": 87,
   "metadata": {},
   "outputs": [
    {
     "data": {
      "image/png": "[encoded data removed]",
      "text/plain": [
       "<IPython.core.display.Image object>"
      ]
     },
     "execution_count": 87,
     "metadata": {},
     "output_type": "execute_result"
    }
   ],
   "source": [
    "from IPython.core.display import Image\n",
    "Image(filename='separator.PNG')"
   ]
  },
  {
   "cell_type": "markdown",
   "metadata": {},
   "source": [
    "## Learning Outcomes\n",
    "\n",
    "- Demonstrate use of the separator unit model in IDAES\n",
    "- Demonstrate different separation options available\n",
    "\n",
    "\n",
    "## Problem Statement\n",
    "\n",
    "In this example, we will be separating a feed stream of liquid H2O and CO2 vapor. The inlet conditions are as follows:\n",
    "\n",
    "**Inlet:**\n",
    "\n",
    "Flow Rate = 100 mol/s\n",
    "\n",
    "Mole Fraction (H2O) = 0.9\n",
    "\n",
    "Mole Fraction (CO2) = 0.1\n",
    "\n",
    "Temperature = 298 K\n",
    "\n",
    "Pressure = 101325 Pa\n",
    "\n",
    "We will look at three cases in this tutorial:\n",
    "\n",
    "Case 1: Separate on a total flow split basis\n",
    "\n",
    "Case 2: Separate on a phase flow split basis\n",
    "\n",
    "Case 3: Separate on a component flow split basis\n",
    "\n",
    "\n",
    "For more details, please refer to the IDAES documentation: https://idaes-pse.readthedocs.io/en/stable"
   ]
  },
  {
   "cell_type": "markdown",
   "metadata": {},
   "source": [
    "## Setting up the problem in IDAES"
   ]
  },
  {
   "cell_type": "markdown",
   "metadata": {},
   "source": [
    "In the following cell, we will be importing the necessary components from Pyomo and IDAES."
   ]
  },
  {
   "cell_type": "code",
   "execution_count": 88,
   "metadata": {},
   "outputs": [],
   "source": [
    "# Import objects from pyomo package \n",
    "from pyomo.environ import ConcreteModel, value\n",
    "\n",
    "# Import the solver\n",
    "from idaes.core.solvers import get_solver\n",
    "\n",
    "# Import the main FlowsheetBlock from IDAES. The flowsheet block will contain the unit model\n",
    "from idaes.core import FlowsheetBlock\n",
    "\n",
    "# Import the option to set the type of material balance \n",
    "from idaes.core import MaterialBalanceType\n",
    "\n",
    "# Import the separator unit model\n",
    "from idaes.models.unit_models import Separator\n",
    "\n",
    "# Import the option to set the basis for splitting\n",
    "from idaes.models.unit_models.separator import SplittingType\n",
    "\n",
    "# Import idaes logger to set output levels\n",
    "import idaes.logger as idaeslog\n",
    "\n",
    "# Import the modular property package to create a property block for the flowsheet\n",
    "from idaes.models.properties.modular_properties.base.generic_property import GenericParameterBlock\n",
    "\n",
    "# Import the BT_Ideal property package to create a configuration file for the GenericParameterBlock\n",
    "from idaes.models.properties.modular_properties.examples.CO2_H2O_Ideal_VLE import configuration\n",
    "\n",
    "# Import the degrees_of_freedom function from the idaes.core.util.model_statistics package\n",
    "# DOF = Number of Model Variables - Number of Model Constraints\n",
    "from idaes.core.util.model_statistics import degrees_of_freedom\n",
    "\n",
    "# Create the ConcreteModel and the FlowsheetBlock objects, and attach the flowsheet block to it.\n",
    "m = ConcreteModel()\n",
    "\n",
    "m.fs = FlowsheetBlock(dynamic=False) # dynamic or ss flowsheet needs to be specified here\n",
    "\n",
    "# Add properties parameter block to the flowsheet with the appropriate configuration file\n",
    "m.fs.properties = GenericParameterBlock(**configuration)\n",
    "\n"
   ]
  },
  {
   "cell_type": "markdown",
   "metadata": {},
   "source": [
    "## Case 1:\n",
    "\n",
    "In the following cell, we will be creating the separator unit model that splits on a *total flow basis* and determining the degrees of freedom associated with this separator unit model."
   ]
  },
  {
   "cell_type": "code",
   "execution_count": 89,
   "metadata": {},
   "outputs": [
    {
     "name": "stdout",
     "output_type": "stream",
     "text": [
      "2022-12-01 08:41:16 [WARNING] idaes.models.properties.modular_properties.state_definitions.FTPx: fs.sep_1.mixed_state[0.0] - found state_bounds argument for mole_frac_comp. Mole fraction bounds are set automatically and this argument will be ignored.\n",
      "2022-12-01 08:41:16 [WARNING] idaes.models.properties.modular_properties.state_definitions.FTPx: fs.sep_1.a1_state[0.0] - found state_bounds argument for mole_frac_comp. Mole fraction bounds are set automatically and this argument will be ignored.\n",
      "2022-12-01 08:41:16 [WARNING] idaes.models.properties.modular_properties.state_definitions.FTPx: fs.sep_1.b1_state[0.0] - found state_bounds argument for mole_frac_comp. Mole fraction bounds are set automatically and this argument will be ignored.\n",
      "2022-12-01 08:41:16 [WARNING] idaes.models.properties.modular_properties.state_definitions.FTPx: fs.sep_1.c1_state[0.0] - found state_bounds argument for mole_frac_comp. Mole fraction bounds are set automatically and this argument will be ignored.\n",
      "The initial degrees of freedom are: 7\n"
     ]
    }
   ],
   "source": [
    "# Create an instance of the separator unit, attaching it to the flowsheet\n",
    "# Specify that the property package to be used with the separator is the one we created earlier\n",
    "\n",
    "m.fs.sep_1 = Separator(\n",
    "    property_package=m.fs.properties,\n",
    "    split_basis=SplittingType.totalFlow,\n",
    "    outlet_list=[\"a1\", \"b1\", \"c1\"],  # creates three outlet streams\n",
    "    ideal_separation=False,\n",
    "    has_phase_equilibrium=False,\n",
    ")\n",
    "\n",
    "# Call the degrees_of_freedom function, get initial DOF\n",
    "DOF_initial = degrees_of_freedom(m)\n",
    "print('The initial degrees of freedom are: {0}'.format(DOF_initial))"
   ]
  },
  {
   "cell_type": "code",
   "execution_count": 90,
   "metadata": {
    "tags": [
     "testing",
     "remove_cell"
    ]
   },
   "outputs": [],
   "source": [
    "assert DOF_initial == 7"
   ]
  },
  {
   "cell_type": "markdown",
   "metadata": {},
   "source": [
    "In the following cell, we will be specifying the inlet conditions for the separator block and ensuring that there are zero degrees of freedom."
   ]
  },
  {
   "cell_type": "code",
   "execution_count": 91,
   "metadata": {},
   "outputs": [
    {
     "name": "stdout",
     "output_type": "stream",
     "text": [
      "The final degrees of freedom is: 0\n"
     ]
    }
   ],
   "source": [
    "# Fix the inlet conditions\n",
    "\n",
    "# Inlet stream\n",
    "m.fs.sep_1.inlet.flow_mol.fix(10) # converting to mol/s as unit basis is mol/s\n",
    "m.fs.sep_1.inlet.mole_frac_comp[0, \"H2O\"].fix(0.9)\n",
    "m.fs.sep_1.inlet.mole_frac_comp[0, \"CO2\"].fix(0.1)\n",
    "m.fs.sep_1.inlet.pressure.fix(101325) # Pa\n",
    "m.fs.sep_1.inlet.temperature.fix(353) # K\n",
    "\n",
    "# Separator unit variables\n",
    "m.fs.sep_1.split_fraction[0, \"a1\"].fix(0.2)\n",
    "m.fs.sep_1.split_fraction[0, \"b1\"].fix(0.5)\n",
    "# Directly setting the split fraction of c will cause the DOF check to fail\n",
    "\n",
    "# Call the degrees_of_freedom function, get final DOF\n",
    "DOF_final = degrees_of_freedom(m)\n",
    "print('The final degrees of freedom is: {0}'.format(DOF_final))"
   ]
  },
  {
   "cell_type": "code",
   "execution_count": 92,
   "metadata": {
    "tags": [
     "testing",
     "remove_cell"
    ]
   },
   "outputs": [],
   "source": [
    "assert DOF_final == 0"
   ]
  },
  {
   "cell_type": "markdown",
   "metadata": {},
   "source": [
    "### Flowsheet Initialization"
   ]
  },
  {
   "cell_type": "code",
   "execution_count": 93,
   "metadata": {},
   "outputs": [],
   "source": [
    "# Initialize the flowsheet, and set the output at WARNING\n",
    "m.fs.sep_1.initialize(outlvl=idaeslog.WARNING)"
   ]
  },
  {
   "cell_type": "markdown",
   "metadata": {},
   "source": [
    "### Obtaining Simulation Results"
   ]
  },
  {
   "cell_type": "code",
   "execution_count": 94,
   "metadata": {},
   "outputs": [
    {
     "name": "stdout",
     "output_type": "stream",
     "text": [
      "Ipopt 3.13.2: nlp_scaling_method=gradient-based\n",
      "tol=1e-06\n",
      "\n",
      "\n",
      "******************************************************************************\n",
      "This program contains Ipopt, a library for large-scale nonlinear optimization.\n",
      " Ipopt is released as open source code under the Eclipse Public License (EPL).\n",
      "         For more information visit http://projects.coin-or.org/Ipopt\n",
      "\n",
      "This version of Ipopt was compiled from source code available at\n",
      "    https://github.com/IDAES/Ipopt as part of the Institute for the Design of\n",
      "    Advanced Energy Systems Process Systems Engineering Framework (IDAES PSE\n",
      "    Framework) Copyright (c) 2018-2019. See https://github.com/IDAES/idaes-pse.\n",
      "\n",
      "This version of Ipopt was compiled using HSL, a collection of Fortran codes\n",
      "    for large-scale scientific computation.  All technical papers, sales and\n",
      "    publicity material resulting from use of the HSL codes within IPOPT must\n",
      "    contain the following acknowledgement:\n",
      "        HSL, a collection of Fortran codes for large-scale scientific\n",
      "        computation. See http://www.hsl.rl.ac.uk.\n",
      "******************************************************************************\n",
      "\n",
      "This is Ipopt version 3.13.2, running with linear solver ma27.\n",
      "\n",
      "Number of nonzeros in equality constraint Jacobian...:      186\n",
      "Number of nonzeros in inequality constraint Jacobian.:        0\n",
      "Number of nonzeros in Lagrangian Hessian.............:       83\n",
      "\n",
      "Total number of variables............................:       60\n",
      "                     variables with only lower bounds:       16\n",
      "                variables with lower and upper bounds:       39\n",
      "                     variables with only upper bounds:        0\n",
      "Total number of equality constraints.................:       60\n",
      "Total number of inequality constraints...............:        0\n",
      "        inequality constraints with only lower bounds:        0\n",
      "   inequality constraints with lower and upper bounds:        0\n",
      "        inequality constraints with only upper bounds:        0\n",
      "\n",
      "iter    objective    inf_pr   inf_du lg(mu)  ||d||  lg(rg) alpha_du alpha_pr  ls\n",
      "   0  0.0000000e+00 4.25e+02 1.00e+00  -1.0 0.00e+00    -  0.00e+00 0.00e+00   0\n",
      "   1  0.0000000e+00 4.25e+00 4.84e-02  -1.0 1.00e-02    -  9.90e-01 9.90e-01h  1\n",
      "   2  0.0000000e+00 4.20e-02 9.79e-02  -1.0 1.00e-04    -  9.90e-01 9.90e-01h  1\n",
      "   3  0.0000000e+00 1.16e-10 9.90e+02  -1.0 9.90e-07    -  9.90e-01 1.00e+00h  1\n",
      "\n",
      "Number of Iterations....: 3\n",
      "\n",
      "                                   (scaled)                 (unscaled)\n",
      "Objective...............:   0.0000000000000000e+00    0.0000000000000000e+00\n",
      "Dual infeasibility......:   0.0000000000000000e+00    0.0000000000000000e+00\n",
      "Constraint violation....:   1.1489298971323445e-13    1.1641532182693481e-10\n",
      "Complementarity.........:   0.0000000000000000e+00    0.0000000000000000e+00\n",
      "Overall NLP error.......:   1.1489298971323445e-13    1.1641532182693481e-10\n",
      "\n",
      "\n",
      "Number of objective function evaluations             = 4\n",
      "Number of objective gradient evaluations             = 4\n",
      "Number of equality constraint evaluations            = 4\n",
      "Number of inequality constraint evaluations          = 0\n",
      "Number of equality constraint Jacobian evaluations   = 4\n",
      "Number of inequality constraint Jacobian evaluations = 0\n",
      "Number of Lagrangian Hessian evaluations             = 3\n",
      "Total CPU secs in IPOPT (w/o function evaluations)   =      0.002\n",
      "Total CPU secs in NLP function evaluations           =      0.000\n",
      "\n",
      "EXIT: Optimal Solution Found.\n"
     ]
    }
   ],
   "source": [
    "# Solve the simulation using the IDAES solver\n",
    "# Note: If the degrees of freedom = 0, we have a square problem\n",
    "solver = get_solver()\n",
    "result = solver.solve(m, tee=True)"
   ]
  },
  {
   "cell_type": "code",
   "execution_count": 95,
   "metadata": {
    "tags": [
     "testing",
     "remove_cell"
    ]
   },
   "outputs": [],
   "source": [
    "from pyomo.opt import TerminationCondition, SolverStatus\n",
    "\n",
    "# Check if termination condition is optimal\n",
    "assert result.solver.termination_condition == TerminationCondition.optimal\n",
    "assert result.solver.status == SolverStatus.ok"
   ]
  },
  {
   "cell_type": "markdown",
   "metadata": {},
   "source": [
    "### View Results"
   ]
  },
  {
   "cell_type": "markdown",
   "metadata": {},
   "source": [
    "As expected the three outlet streams share the same composition as the inlet stream with the only difference being their molar flowrate, which was determined by their respective split fractions."
   ]
  },
  {
   "cell_type": "code",
   "execution_count": 96,
   "metadata": {},
   "outputs": [
    {
     "name": "stdout",
     "output_type": "stream",
     "text": [
      "\n",
      "====================================================================================\n",
      "Unit : fs.sep_1                                                            Time: 0.0\n",
      "------------------------------------------------------------------------------------\n",
      "    Unit Performance\n",
      "\n",
      "    Variables: \n",
      "\n",
      "    Key                      : Value   : Units         : Fixed : Bounds\n",
      "    Split Fraction [('a1',)] : 0.20000 : dimensionless :  True : (None, None)\n",
      "    Split Fraction [('b1',)] : 0.50000 : dimensionless :  True : (None, None)\n",
      "    Split Fraction [('c1',)] : 0.30000 : dimensionless : False : (None, None)\n",
      "\n",
      "------------------------------------------------------------------------------------\n",
      "    Stream Table\n",
      "                                Units         Inlet       a1         b1         c1    \n",
      "    Total Molar Flowrate     mole / second     10.000     2.0000     5.0000     3.0000\n",
      "    Total Mole Fraction H2O  dimensionless    0.90000    0.90000    0.90000    0.90000\n",
      "    Total Mole Fraction CO2  dimensionless    0.10000    0.10000    0.10000    0.10000\n",
      "    Temperature                     kelvin     353.00     353.00     353.00     353.00\n",
      "    Pressure                        pascal 1.0132e+05 1.0132e+05 1.0132e+05 1.0132e+05\n",
      "====================================================================================\n"
     ]
    }
   ],
   "source": [
    "# Display output report\n",
    "m.fs.sep_1.report()"
   ]
  },
  {
   "cell_type": "code",
   "execution_count": 97,
   "metadata": {
    "tags": [
     "testing",
     "remove_cell"
    ]
   },
   "outputs": [],
   "source": [
    "import pytest\n",
    "\n",
    "# Check outlet a results\n",
    "assert value(m.fs.sep_1.a1.flow_mol[0]) == pytest.approx(2, rel=1e-6)\n",
    "assert value(m.fs.sep_1.a1.pressure[0]) == pytest.approx(101325, rel=1e-6)\n",
    "assert value(m.fs.sep_1.a1.temperature[0]) == pytest.approx(353, rel=1e-6)\n",
    "assert value(m.fs.sep_1.a1.mole_frac_comp[0,\"H2O\"]) == pytest.approx(0.9, rel=1e-6)\n",
    "assert value(m.fs.sep_1.a1.mole_frac_comp[0,\"CO2\"]) == pytest.approx(0.1, rel=1e-6)\n",
    "\n",
    "\n",
    "# Check outlet b results\n",
    "assert value(m.fs.sep_1.b1.flow_mol[0]) == pytest.approx(5, rel=1e-6)\n",
    "assert value(m.fs.sep_1.b1.pressure[0]) == pytest.approx(101325, rel=1e-6)\n",
    "assert value(m.fs.sep_1.b1.temperature[0]) == pytest.approx(353, rel=1e-6)\n",
    "assert value(m.fs.sep_1.b1.mole_frac_comp[0,\"H2O\"]) == pytest.approx(0.9, rel=1e-6)\n",
    "assert value(m.fs.sep_1.b1.mole_frac_comp[0,\"CO2\"]) == pytest.approx(0.1, rel=1e-6)\n",
    "\n",
    "# Check outlet c results\n",
    "assert value(m.fs.sep_1.c1.flow_mol[0]) == pytest.approx(3, rel=1e-6)\n",
    "assert value(m.fs.sep_1.c1.pressure[0]) == pytest.approx(101325, rel=1e-6)\n",
    "assert value(m.fs.sep_1.c1.temperature[0]) == pytest.approx(353, rel=1e-6)\n",
    "assert value(m.fs.sep_1.c1.mole_frac_comp[0,\"H2O\"]) == pytest.approx(0.9, rel=1e-6)\n",
    "assert value(m.fs.sep_1.c1.mole_frac_comp[0,\"CO2\"]) == pytest.approx(0.1, rel=1e-6)\n"
   ]
  },
  {
   "cell_type": "markdown",
   "metadata": {},
   "source": [
    "## Case 2:\n",
    "\n",
    "In the following cell, we will be creating the separator unit model that splits on a *phase flow basis* and determining the degrees of freedom associated with this separator unit model."
   ]
  },
  {
   "cell_type": "code",
   "execution_count": 98,
   "metadata": {},
   "outputs": [
    {
     "name": "stdout",
     "output_type": "stream",
     "text": [
      "2022-12-01 08:41:18 [WARNING] idaes.models.properties.modular_properties.state_definitions.FTPx: fs.sep_2.mixed_state[0.0] - found state_bounds argument for mole_frac_comp. Mole fraction bounds are set automatically and this argument will be ignored.\n",
      "2022-12-01 08:41:18 [WARNING] idaes.models.properties.modular_properties.state_definitions.FTPx: fs.sep_2.a2_state[0.0] - found state_bounds argument for mole_frac_comp. Mole fraction bounds are set automatically and this argument will be ignored.\n",
      "2022-12-01 08:41:18 [WARNING] idaes.models.properties.modular_properties.state_definitions.FTPx: fs.sep_2.b2_state[0.0] - found state_bounds argument for mole_frac_comp. Mole fraction bounds are set automatically and this argument will be ignored.\n",
      "The initial degrees of freedom are: 7\n"
     ]
    }
   ],
   "source": [
    "# Create an instance of the separator unit, attaching it to the flowsheet\n",
    "# Specify that the property package to be used with the separator is the one we created earlier\n",
    "\n",
    "m.fs.sep_2 = Separator(\n",
    "    property_package=m.fs.properties,\n",
    "    split_basis=SplittingType.phaseFlow,\n",
    "    outlet_list=[\"a2\", \"b2\"],\n",
    "    ideal_separation=False,\n",
    "    has_phase_equilibrium=False,\n",
    ")\n",
    "\n",
    "# Call the degrees_of_freedom function, get initial DOF\n",
    "DOF_initial = degrees_of_freedom(m)\n",
    "print('The initial degrees of freedom are: {0}'.format(DOF_initial))"
   ]
  },
  {
   "cell_type": "code",
   "execution_count": 99,
   "metadata": {
    "tags": [
     "testing",
     "remove_cell"
    ]
   },
   "outputs": [],
   "source": [
    "assert DOF_initial == 7"
   ]
  },
  {
   "cell_type": "markdown",
   "metadata": {},
   "source": [
    "In the following cell, we will be specifying the inlet conditions for the separator block and ensuring that there are zero degrees of freedom."
   ]
  },
  {
   "cell_type": "code",
   "execution_count": 100,
   "metadata": {},
   "outputs": [
    {
     "name": "stdout",
     "output_type": "stream",
     "text": [
      "The final degrees of freedom is: 0\n"
     ]
    }
   ],
   "source": [
    "# Fix the inlet conditions\n",
    "\n",
    "# Inlet stream\n",
    "m.fs.sep_2.inlet.flow_mol.fix(10) # converting to mol/s as unit basis is mol/s\n",
    "m.fs.sep_2.inlet.mole_frac_comp[0, \"H2O\"].fix(0.9)\n",
    "m.fs.sep_2.inlet.mole_frac_comp[0, \"CO2\"].fix(0.1)\n",
    "m.fs.sep_2.inlet.pressure.fix(101325) # Pa\n",
    "m.fs.sep_2.inlet.temperature.fix(353) # K\n",
    "\n",
    "# Separator unit variables\n",
    "m.fs.sep_2.split_fraction[0, \"a2\", \"Vap\"].fix(0.8)\n",
    "m.fs.sep_2.split_fraction[0, \"b2\", \"Liq\"].fix(0.8)\n",
    "\n",
    "# Call the degrees_of_freedom function, get final DOF\n",
    "DOF_final = degrees_of_freedom(m)\n",
    "print('The final degrees of freedom is: {0}'.format(DOF_final))"
   ]
  },
  {
   "cell_type": "code",
   "execution_count": 101,
   "metadata": {
    "tags": [
     "testing",
     "remove_cell"
    ]
   },
   "outputs": [],
   "source": [
    "assert DOF_final == 0"
   ]
  },
  {
   "cell_type": "markdown",
   "metadata": {},
   "source": [
    "### Flowsheet Initialization"
   ]
  },
  {
   "cell_type": "code",
   "execution_count": 102,
   "metadata": {},
   "outputs": [],
   "source": [
    "# Initialize the flowsheet, and set the output at WARNING\n",
    "m.fs.sep_2.initialize(outlvl=idaeslog.WARNING)"
   ]
  },
  {
   "cell_type": "markdown",
   "metadata": {},
   "source": [
    "### Obtaining Simulation Results"
   ]
  },
  {
   "cell_type": "code",
   "execution_count": 103,
   "metadata": {},
   "outputs": [
    {
     "name": "stdout",
     "output_type": "stream",
     "text": [
      "Ipopt 3.13.2: nlp_scaling_method=gradient-based\n",
      "tol=1e-06\n",
      "\n",
      "\n",
      "******************************************************************************\n",
      "This program contains Ipopt, a library for large-scale nonlinear optimization.\n",
      " Ipopt is released as open source code under the Eclipse Public License (EPL).\n",
      "         For more information visit http://projects.coin-or.org/Ipopt\n",
      "\n",
      "This version of Ipopt was compiled from source code available at\n",
      "    https://github.com/IDAES/Ipopt as part of the Institute for the Design of\n",
      "    Advanced Energy Systems Process Systems Engineering Framework (IDAES PSE\n",
      "    Framework) Copyright (c) 2018-2019. See https://github.com/IDAES/idaes-pse.\n",
      "\n",
      "This version of Ipopt was compiled using HSL, a collection of Fortran codes\n",
      "    for large-scale scientific computation.  All technical papers, sales and\n",
      "    publicity material resulting from use of the HSL codes within IPOPT must\n",
      "    contain the following acknowledgement:\n",
      "        HSL, a collection of Fortran codes for large-scale scientific\n",
      "        computation. See http://www.hsl.rl.ac.uk.\n",
      "******************************************************************************\n",
      "\n",
      "This is Ipopt version 3.13.2, running with linear solver ma27.\n",
      "\n",
      "Number of nonzeros in equality constraint Jacobian...:      321\n",
      "Number of nonzeros in inequality constraint Jacobian.:        0\n",
      "Number of nonzeros in Lagrangian Hessian.............:      144\n",
      "\n",
      "Total number of variables............................:      105\n",
      "                     variables with only lower bounds:       28\n",
      "                variables with lower and upper bounds:       67\n",
      "                     variables with only upper bounds:        0\n",
      "Total number of equality constraints.................:      105\n",
      "Total number of inequality constraints...............:        0\n",
      "        inequality constraints with only lower bounds:        0\n",
      "   inequality constraints with lower and upper bounds:        0\n",
      "        inequality constraints with only upper bounds:        0\n",
      "\n",
      "iter    objective    inf_pr   inf_du lg(mu)  ||d||  lg(rg) alpha_du alpha_pr  ls\n",
      "   0  0.0000000e+00 4.25e+02 1.00e+00  -1.0 0.00e+00    -  0.00e+00 0.00e+00   0\n",
      "   1  0.0000000e+00 4.25e+00 4.84e-02  -1.0 1.00e-02    -  9.90e-01 9.90e-01h  1\n",
      "   2  0.0000000e+00 4.20e-02 9.79e-02  -1.0 1.00e-04    -  9.90e-01 9.90e-01h  1\n",
      "   3  0.0000000e+00 1.38e-10 9.90e+02  -1.0 9.90e-07    -  9.90e-01 1.00e+00h  1\n",
      "\n",
      "Number of Iterations....: 3\n",
      "\n",
      "                                   (scaled)                 (unscaled)\n",
      "Objective...............:   0.0000000000000000e+00    0.0000000000000000e+00\n",
      "Dual infeasibility......:   0.0000000000000000e+00    0.0000000000000000e+00\n",
      "Constraint violation....:   1.3643542528446593e-13    1.3824319466948509e-10\n",
      "Complementarity.........:   0.0000000000000000e+00    0.0000000000000000e+00\n",
      "Overall NLP error.......:   1.3643542528446593e-13    1.3824319466948509e-10\n",
      "\n",
      "\n",
      "Number of objective function evaluations             = 4\n",
      "Number of objective gradient evaluations             = 4\n",
      "Number of equality constraint evaluations            = 4\n",
      "Number of inequality constraint evaluations          = 0\n",
      "Number of equality constraint Jacobian evaluations   = 4\n",
      "Number of inequality constraint Jacobian evaluations = 0\n",
      "Number of Lagrangian Hessian evaluations             = 3\n",
      "Total CPU secs in IPOPT (w/o function evaluations)   =      0.002\n",
      "Total CPU secs in NLP function evaluations           =      0.000\n",
      "\n",
      "EXIT: Optimal Solution Found.\n"
     ]
    }
   ],
   "source": [
    "# Solve the simulation using the IDAES solver\n",
    "# Note: If the degrees of freedom = 0, we have a square problem\n",
    "solver = get_solver()\n",
    "result = solver.solve(m, tee=True)"
   ]
  },
  {
   "cell_type": "code",
   "execution_count": 104,
   "metadata": {
    "tags": [
     "testing",
     "remove_cell"
    ]
   },
   "outputs": [],
   "source": [
    "from pyomo.opt import TerminationCondition, SolverStatus\n",
    "\n",
    "# Check if termination condition is optimal\n",
    "assert result.solver.termination_condition == TerminationCondition.optimal\n",
    "assert result.solver.status == SolverStatus.ok"
   ]
  },
  {
   "cell_type": "markdown",
   "metadata": {},
   "source": [
    "### View Results"
   ]
  },
  {
   "cell_type": "code",
   "execution_count": 105,
   "metadata": {},
   "outputs": [
    {
     "name": "stdout",
     "output_type": "stream",
     "text": [
      "\n",
      "====================================================================================\n",
      "Unit : fs.sep_2                                                            Time: 0.0\n",
      "------------------------------------------------------------------------------------\n",
      "    Unit Performance\n",
      "\n",
      "    Variables: \n",
      "\n",
      "    Key                            : Value   : Units         : Fixed : Bounds\n",
      "    Split Fraction [('a2', 'Liq')] : 0.20000 : dimensionless : False : (None, None)\n",
      "    Split Fraction [('a2', 'Vap')] : 0.80000 : dimensionless :  True : (None, None)\n",
      "    Split Fraction [('b2', 'Liq')] : 0.80000 : dimensionless :  True : (None, None)\n",
      "    Split Fraction [('b2', 'Vap')] : 0.20000 : dimensionless : False : (None, None)\n",
      "\n",
      "------------------------------------------------------------------------------------\n",
      "    Stream Table\n",
      "                                Units         Inlet       a2         b2    \n",
      "    Total Molar Flowrate     mole / second     10.000     3.1220     6.8780\n",
      "    Total Mole Fraction H2O  dimensionless    0.90000    0.74375    0.97092\n",
      "    Total Mole Fraction CO2  dimensionless    0.10000    0.25625   0.029078\n",
      "    Temperature                     kelvin     353.00     353.00     353.00\n",
      "    Pressure                        pascal 1.0132e+05 1.0132e+05 1.0132e+05\n",
      "====================================================================================\n"
     ]
    }
   ],
   "source": [
    "# Display output report\n",
    "m.fs.sep_2.report()"
   ]
  },
  {
   "cell_type": "code",
   "execution_count": 106,
   "metadata": {
    "tags": [
     "testing",
     "remove_cell"
    ]
   },
   "outputs": [],
   "source": [
    "import pytest\n",
    "\n",
    "# Check outlet a results\n",
    "assert value(m.fs.sep_2.a2.flow_mol[0]) == pytest.approx(3.1220, rel=1e-3)\n",
    "assert value(m.fs.sep_2.a2.pressure[0]) == pytest.approx(101325, rel=1e-6)\n",
    "assert value(m.fs.sep_2.a2.temperature[0]) == pytest.approx(353, rel=1e-6)\n",
    "assert value(m.fs.sep_2.a2.mole_frac_comp[0,\"H2O\"]) == pytest.approx(0.74375, rel=1e-5)\n",
    "assert value(m.fs.sep_2.a2.mole_frac_comp[0,\"CO2\"]) == pytest.approx(0.25625, rel=1e-5)\n",
    "\n",
    "\n",
    "# Check outlet b results\n",
    "assert value(m.fs.sep_2.b2.flow_mol[0]) == pytest.approx(6.878, rel=1e-3)\n",
    "assert value(m.fs.sep_2.b2.pressure[0]) == pytest.approx(101325, rel=1e-6)\n",
    "assert value(m.fs.sep_2.b2.temperature[0]) == pytest.approx(353, rel=1e-6)\n",
    "assert value(m.fs.sep_2.b2.mole_frac_comp[0,\"H2O\"]) == pytest.approx(0.97092, rel=1e-5)\n",
    "assert value(m.fs.sep_2.b2.mole_frac_comp[0,\"CO2\"]) == pytest.approx(0.029078, rel=1e-5)\n"
   ]
  },
  {
   "cell_type": "markdown",
   "metadata": {},
   "source": [
    "## Case 3:\n",
    "\n",
    "In the following cell, we will be creating the separator unit model that splits on a *component flow basis* and determining the degrees of freedom associated with this separator unit model."
   ]
  },
  {
   "cell_type": "code",
   "execution_count": 107,
   "metadata": {},
   "outputs": [
    {
     "name": "stdout",
     "output_type": "stream",
     "text": [
      "2022-12-01 08:41:19 [WARNING] idaes.models.properties.modular_properties.state_definitions.FTPx: fs.sep_3.mixed_state[0.0] - found state_bounds argument for mole_frac_comp. Mole fraction bounds are set automatically and this argument will be ignored.\n",
      "2022-12-01 08:41:19 [WARNING] idaes.models.properties.modular_properties.state_definitions.FTPx: fs.sep_3.a3_state[0.0] - found state_bounds argument for mole_frac_comp. Mole fraction bounds are set automatically and this argument will be ignored.\n",
      "2022-12-01 08:41:19 [WARNING] idaes.models.properties.modular_properties.state_definitions.FTPx: fs.sep_3.b3_state[0.0] - found state_bounds argument for mole_frac_comp. Mole fraction bounds are set automatically and this argument will be ignored.\n",
      "2022-12-01 08:41:19 [WARNING] idaes.models.properties.modular_properties.state_definitions.FTPx: fs.sep_3.c3_state[0.0] - found state_bounds argument for mole_frac_comp. Mole fraction bounds are set automatically and this argument will be ignored.\n",
      "2022-12-01 08:41:19 [WARNING] idaes.models.properties.modular_properties.state_definitions.FTPx: fs.sep_3.d3_state[0.0] - found state_bounds argument for mole_frac_comp. Mole fraction bounds are set automatically and this argument will be ignored.\n",
      "The initial degrees of freedom are: 11\n"
     ]
    }
   ],
   "source": [
    "# Create an instance of the separator unit, attaching it to the flowsheet\n",
    "# Specify that the property package to be used with the separator is the one we created earlier\n",
    "\n",
    "m.fs.sep_3 = Separator(\n",
    "    property_package=m.fs.properties,\n",
    "    split_basis=SplittingType.componentFlow,\n",
    "    outlet_list=[\"a3\", \"b3\", \"c3\", \"d3\"],\n",
    "    ideal_separation=False,\n",
    "    has_phase_equilibrium=False,\n",
    ")\n",
    "\n",
    "# Call the degrees_of_freedom function, get initial DOF\n",
    "DOF_initial = degrees_of_freedom(m)\n",
    "print('The initial degrees of freedom are: {0}'.format(DOF_initial))"
   ]
  },
  {
   "cell_type": "code",
   "execution_count": 108,
   "metadata": {
    "tags": [
     "testing",
     "remove_cell"
    ]
   },
   "outputs": [],
   "source": [
    "assert DOF_initial == 11"
   ]
  },
  {
   "cell_type": "markdown",
   "metadata": {},
   "source": [
    "In the following cell, we will be specifying the inlet conditions for the separator block and ensuring that there are zero degrees of freedom."
   ]
  },
  {
   "cell_type": "code",
   "execution_count": 109,
   "metadata": {},
   "outputs": [
    {
     "name": "stdout",
     "output_type": "stream",
     "text": [
      "The final degrees of freedom is: 0\n"
     ]
    }
   ],
   "source": [
    "# Fix the inlet conditions\n",
    "\n",
    "# Inlet stream\n",
    "m.fs.sep_3.inlet.flow_mol.fix(10) # converting to mol/s as unit basis is mol/s\n",
    "m.fs.sep_3.inlet.mole_frac_comp[0, \"H2O\"].fix(0.9)\n",
    "m.fs.sep_3.inlet.mole_frac_comp[0, \"CO2\"].fix(0.1)\n",
    "m.fs.sep_3.inlet.pressure.fix(101325) # Pa\n",
    "m.fs.sep_3.inlet.temperature.fix(353) # K\n",
    "\n",
    "# Separator unit variables\n",
    "m.fs.sep_3.split_fraction[0, \"a3\", \"H2O\"].fix(0.25)\n",
    "m.fs.sep_3.split_fraction[0, \"b3\", \"H2O\"].fix(0.5)\n",
    "m.fs.sep_3.split_fraction[0, \"c3\", \"H2O\"].fix(0.1)\n",
    "\n",
    "m.fs.sep_3.split_fraction[0, \"a3\", \"CO2\"].fix(0.1)\n",
    "m.fs.sep_3.split_fraction[0, \"b3\", \"CO2\"].fix(0.2)\n",
    "m.fs.sep_3.split_fraction[0, \"c3\", \"CO2\"].fix(0.3)\n",
    "\n",
    "# Call the degrees_of_freedom function, get final DOF\n",
    "DOF_final = degrees_of_freedom(m)\n",
    "print('The final degrees of freedom is: {0}'.format(DOF_final))"
   ]
  },
  {
   "cell_type": "code",
   "execution_count": 110,
   "metadata": {
    "tags": [
     "testing",
     "remove_cell"
    ]
   },
   "outputs": [],
   "source": [
    "assert DOF_final == 0"
   ]
  },
  {
   "cell_type": "markdown",
   "metadata": {},
   "source": [
    "### Flowsheet Initialization"
   ]
  },
  {
   "cell_type": "code",
   "execution_count": 111,
   "metadata": {},
   "outputs": [],
   "source": [
    "# Initialize the flowsheet, and set the output at WARNING\n",
    "m.fs.sep_3.initialize(outlvl=idaeslog.WARNING)"
   ]
  },
  {
   "cell_type": "markdown",
   "metadata": {},
   "source": [
    "### Obtaining Simulation Results"
   ]
  },
  {
   "cell_type": "code",
   "execution_count": 112,
   "metadata": {},
   "outputs": [
    {
     "name": "stdout",
     "output_type": "stream",
     "text": [
      "Ipopt 3.13.2: nlp_scaling_method=gradient-based\n",
      "tol=1e-06\n",
      "\n",
      "\n",
      "******************************************************************************\n",
      "This program contains Ipopt, a library for large-scale nonlinear optimization.\n",
      " Ipopt is released as open source code under the Eclipse Public License (EPL).\n",
      "         For more information visit http://projects.coin-or.org/Ipopt\n",
      "\n",
      "This version of Ipopt was compiled from source code available at\n",
      "    https://github.com/IDAES/Ipopt as part of the Institute for the Design of\n",
      "    Advanced Energy Systems Process Systems Engineering Framework (IDAES PSE\n",
      "    Framework) Copyright (c) 2018-2019. See https://github.com/IDAES/idaes-pse.\n",
      "\n",
      "This version of Ipopt was compiled using HSL, a collection of Fortran codes\n",
      "    for large-scale scientific computation.  All technical papers, sales and\n",
      "    publicity material resulting from use of the HSL codes within IPOPT must\n",
      "    contain the following acknowledgement:\n",
      "        HSL, a collection of Fortran codes for large-scale scientific\n",
      "        computation. See http://www.hsl.rl.ac.uk.\n",
      "******************************************************************************\n",
      "\n",
      "This is Ipopt version 3.13.2, running with linear solver ma27.\n",
      "\n",
      "Number of nonzeros in equality constraint Jacobian...:      561\n",
      "Number of nonzeros in inequality constraint Jacobian.:        0\n",
      "Number of nonzeros in Lagrangian Hessian.............:      250\n",
      "\n",
      "Total number of variables............................:      182\n",
      "                     variables with only lower bounds:       48\n",
      "                variables with lower and upper bounds:      117\n",
      "                     variables with only upper bounds:        0\n",
      "Total number of equality constraints.................:      182\n",
      "Total number of inequality constraints...............:        0\n",
      "        inequality constraints with only lower bounds:        0\n",
      "   inequality constraints with lower and upper bounds:        0\n",
      "        inequality constraints with only upper bounds:        0\n",
      "\n",
      "iter    objective    inf_pr   inf_du lg(mu)  ||d||  lg(rg) alpha_du alpha_pr  ls\n",
      "   0  0.0000000e+00 4.25e+02 1.00e+00  -1.0 0.00e+00    -  0.00e+00 0.00e+00   0\n",
      "   1  0.0000000e+00 4.25e+00 8.00e-02  -1.0 1.00e-02    -  9.90e-01 9.90e-01h  1\n",
      "   2  0.0000000e+00 4.20e-02 9.79e-02  -1.0 1.00e-04    -  9.90e-01 9.90e-01h  1\n",
      "   3  0.0000000e+00 8.73e-11 9.90e+02  -1.0 9.90e-07    -  9.90e-01 1.00e+00h  1\n",
      "\n",
      "Number of Iterations....: 3\n",
      "\n",
      "                                   (scaled)                 (unscaled)\n",
      "Objective...............:   0.0000000000000000e+00    0.0000000000000000e+00\n",
      "Dual infeasibility......:   0.0000000000000000e+00    0.0000000000000000e+00\n",
      "Constraint violation....:   9.5744158094362128e-14    8.7311491370201111e-11\n",
      "Complementarity.........:   0.0000000000000000e+00    0.0000000000000000e+00\n",
      "Overall NLP error.......:   9.5744158094362128e-14    8.7311491370201111e-11\n",
      "\n",
      "\n",
      "Number of objective function evaluations             = 4\n",
      "Number of objective gradient evaluations             = 4\n",
      "Number of equality constraint evaluations            = 4\n",
      "Number of inequality constraint evaluations          = 0\n",
      "Number of equality constraint Jacobian evaluations   = 4\n",
      "Number of inequality constraint Jacobian evaluations = 0\n",
      "Number of Lagrangian Hessian evaluations             = 3\n",
      "Total CPU secs in IPOPT (w/o function evaluations)   =      0.002\n",
      "Total CPU secs in NLP function evaluations           =      0.001\n",
      "\n",
      "EXIT: Optimal Solution Found.\n"
     ]
    }
   ],
   "source": [
    "# Solve the simulation using the IDAES solver\n",
    "# Note: If the degrees of freedom = 0, we have a square problem\n",
    "solver = get_solver()\n",
    "result = solver.solve(m, tee=True)"
   ]
  },
  {
   "cell_type": "code",
   "execution_count": 113,
   "metadata": {
    "tags": [
     "testing",
     "remove_cell"
    ]
   },
   "outputs": [],
   "source": [
    "from pyomo.opt import TerminationCondition, SolverStatus\n",
    "\n",
    "# Check if termination condition is optimal\n",
    "assert result.solver.termination_condition == TerminationCondition.optimal\n",
    "assert result.solver.status == SolverStatus.ok"
   ]
  },
  {
   "cell_type": "markdown",
   "metadata": {},
   "source": [
    "### View Results"
   ]
  },
  {
   "cell_type": "code",
   "execution_count": 114,
   "metadata": {},
   "outputs": [
    {
     "name": "stdout",
     "output_type": "stream",
     "text": [
      "\n",
      "====================================================================================\n",
      "Unit : fs.sep_3                                                            Time: 0.0\n",
      "------------------------------------------------------------------------------------\n",
      "    Unit Performance\n",
      "\n",
      "    Variables: \n",
      "\n",
      "    Key                            : Value   : Units         : Fixed : Bounds\n",
      "    Split Fraction [('a3', 'CO2')] : 0.10000 : dimensionless :  True : (None, None)\n",
      "    Split Fraction [('a3', 'H2O')] : 0.25000 : dimensionless :  True : (None, None)\n",
      "    Split Fraction [('b3', 'CO2')] : 0.20000 : dimensionless :  True : (None, None)\n",
      "    Split Fraction [('b3', 'H2O')] : 0.50000 : dimensionless :  True : (None, None)\n",
      "    Split Fraction [('c3', 'CO2')] : 0.30000 : dimensionless :  True : (None, None)\n",
      "    Split Fraction [('c3', 'H2O')] : 0.10000 : dimensionless :  True : (None, None)\n",
      "    Split Fraction [('d3', 'CO2')] : 0.40000 : dimensionless : False : (None, None)\n",
      "    Split Fraction [('d3', 'H2O')] : 0.15000 : dimensionless : False : (None, None)\n",
      "\n",
      "------------------------------------------------------------------------------------\n",
      "    Stream Table\n",
      "                                Units         Inlet       a3         b3         c3         d3    \n",
      "    Total Molar Flowrate     mole / second     10.000     2.3500     4.7000     1.2000     1.7500\n",
      "    Total Mole Fraction H2O  dimensionless    0.90000    0.95745    0.95745    0.75000    0.77143\n",
      "    Total Mole Fraction CO2  dimensionless    0.10000   0.042553   0.042553    0.25000    0.22857\n",
      "    Temperature                     kelvin     353.00     353.00     353.00     353.00     353.00\n",
      "    Pressure                        pascal 1.0132e+05 1.0132e+05 1.0132e+05 1.0132e+05 1.0132e+05\n",
      "====================================================================================\n"
     ]
    }
   ],
   "source": [
    "# Display output report\n",
    "m.fs.sep_3.report()"
   ]
  },
  {
   "cell_type": "code",
   "execution_count": 115,
   "metadata": {
    "tags": [
     "testing",
     "remove_cell"
    ]
   },
   "outputs": [],
   "source": [
    "import pytest\n",
    "\n",
    "# Check outlet a results\n",
    "assert value(m.fs.sep_3.a3.flow_mol[0]) == pytest.approx(2.35, rel=1e-3)\n",
    "assert value(m.fs.sep_3.a3.pressure[0]) == pytest.approx(101325, rel=1e-6)\n",
    "assert value(m.fs.sep_3.a3.temperature[0]) == pytest.approx(353, rel=1e-6)\n",
    "assert value(m.fs.sep_3.a3.mole_frac_comp[0,\"H2O\"]) == pytest.approx(0.95745, rel=1e-5)\n",
    "assert value(m.fs.sep_3.a3.mole_frac_comp[0,\"CO2\"]) == pytest.approx(0.042553, rel=1e-5)\n",
    "\n",
    "# Check outlet b results\n",
    "assert value(m.fs.sep_3.b3.flow_mol[0]) == pytest.approx(4.7, rel=1e-3)\n",
    "assert value(m.fs.sep_3.b3.pressure[0]) == pytest.approx(101325, rel=1e-6)\n",
    "assert value(m.fs.sep_3.b3.temperature[0]) == pytest.approx(353, rel=1e-6)\n",
    "assert value(m.fs.sep_3.b3.mole_frac_comp[0,\"H2O\"]) == pytest.approx(0.95745, rel=1e-5)\n",
    "assert value(m.fs.sep_3.b3.mole_frac_comp[0,\"CO2\"]) == pytest.approx(0.042553, rel=1e-5)\n",
    "\n",
    "# Check outlet c results\n",
    "assert value(m.fs.sep_3.c3.flow_mol[0]) == pytest.approx(1.2, rel=1e-3)\n",
    "assert value(m.fs.sep_3.c3.pressure[0]) == pytest.approx(101325, rel=1e-6)\n",
    "assert value(m.fs.sep_3.c3.temperature[0]) == pytest.approx(353, rel=1e-6)\n",
    "assert value(m.fs.sep_3.c3.mole_frac_comp[0,\"H2O\"]) == pytest.approx(0.75, rel=1e-5)\n",
    "assert value(m.fs.sep_3.c3.mole_frac_comp[0,\"CO2\"]) == pytest.approx(0.25, rel=1e-5)\n",
    "\n",
    "# Check outlet d results\n",
    "assert value(m.fs.sep_3.d3.flow_mol[0]) == pytest.approx(1.75, rel=1e-3)\n",
    "assert value(m.fs.sep_3.d3.pressure[0]) == pytest.approx(101325, rel=1e-6)\n",
    "assert value(m.fs.sep_3.d3.temperature[0]) == pytest.approx(353, rel=1e-6)\n",
    "assert value(m.fs.sep_3.d3.mole_frac_comp[0,\"H2O\"]) == pytest.approx(0.77143, rel=1e-5)\n",
    "assert value(m.fs.sep_3.d3.mole_frac_comp[0,\"CO2\"]) == pytest.approx(0.22857, rel=1e-5)"
   ]
  }
 ],
 "metadata": {
  "celltoolbar": "Tags",
  "kernelspec": {
   "display_name": "Python 3 (ipykernel)",
   "language": "python",
   "name": "python3"
  },
  "language_info": {
   "codemirror_mode": {
    "name": "ipython",
    "version": 3
   },
   "file_extension": ".py",
   "mimetype": "text/x-python",
   "name": "python",
   "nbconvert_exporter": "python",
   "pygments_lexer": "ipython3",
   "version": "3.7.13"
  }
 },
 "nbformat": 4,
 "nbformat_minor": 2
}
