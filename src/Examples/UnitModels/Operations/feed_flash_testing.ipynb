{
 "cells": [
  {
   "cell_type": "markdown",
   "metadata": {},
   "source": [
    "# Tutorial: Feed Flash Unit Model with Modular Property Package\n",
    "\n",
    "![](feed.svg)\n",
    "\n",
    "## Learning Outcomes\n",
    "\n",
    "- Demonstrate use of the Feed Flash unit model in IDAES\n",
    "- Demonstrate different options available\n",
    "\n",
    "\n",
    "## Problem Statement\n",
    "\n",
    "In this tutorial, we will be feeding vapor-liquid streams into the feed flash unit model using two different sets of state variables. Like the traditional feed block, the feed flash unit model has no inlets and only one outlet, so the stream information is fed to the model through a feed port rather than an inlet. Unlike the feed block, this unit model is capable of handling phase equilibrium. The feed conditions are as follows:\n",
    "\n",
    "**Case 1**\n",
    "\n",
    "Flow Rate = 100 mol/s\n",
    "\n",
    "Mole Fraction (Benzene) = 0.6\n",
    "\n",
    "Mole Fraction (Toluene) = 0.4\n",
    "\n",
    "Temperature = 298 K\n",
    "\n",
    "Pressure = 101325 Pa\n",
    "\n",
    "**Case 2**\n",
    "\n",
    "Flow Rate = 100 mol/s\n",
    "\n",
    "Enthalpy = 24000 J/mol\n",
    "\n",
    "Pressure = 101325 Pa\n",
    "\n",
    "For more details, please refer to the IDAES documentation: https://idaes-pse.readthedocs.io/en/stable"
   ]
  },
  {
   "cell_type": "markdown",
   "metadata": {},
   "source": [
    "## Setting up the problem in IDAES"
   ]
  },
  {
   "cell_type": "markdown",
   "metadata": {},
   "source": [
    "In the following cell, we will be importing the necessary components from Pyomo and IDAES."
   ]
  },
  {
   "cell_type": "code",
   "execution_count": null,
   "metadata": {},
   "outputs": [],
   "source": [
    "# Import objects from pyomo package \n",
    "from pyomo.environ import ConcreteModel, value\n",
    "\n",
    "# Import the solver\n",
    "from idaes.core.solvers import get_solver\n",
    "\n",
    "# Import the main FlowsheetBlock from IDAES. The flowsheet block will contain the unit model\n",
    "from idaes.core import FlowsheetBlock\n",
    "\n",
    "# Import the feed unit model and the option to set the flash type\n",
    "from idaes.models.unit_models.feed_flash import FeedFlash, FlashType\n",
    "\n",
    "# Import idaes logger to set output levels\n",
    "import idaes.logger as idaeslog\n",
    "\n",
    "# Import the modular property package to create a property block for the case 1 flowsheet\n",
    "from idaes.models.properties.modular_properties.base.generic_property import GenericParameterBlock\n",
    "\n",
    "# Import the BT_Ideal property package to create a configuration file for the GenericParameterBlock\n",
    "from idaes.models.properties.modular_properties.examples.BT_ideal import configuration\n",
    "\n",
    "# Import the IAPWS property package to create a property block for the case 2 flowsheet\n",
    "from idaes.models.properties import iapws95\n",
    "\n",
    "# Import the degrees_of_freedom function from the idaes.core.util.model_statistics package\n",
    "# DOF = Number of Model Variables - Number of Model Constraints\n",
    "from idaes.core.util.model_statistics import degrees_of_freedom\n",
    "\n",
    "# Create the ConcreteModel and the FlowsheetBlock objects, and attach the flowsheet block to it.\n",
    "m = ConcreteModel()\n",
    "\n",
    "m.fs = FlowsheetBlock(dynamic=False) # dynamic or ss flowsheet needs to be specified here\n",
    "\n",
    "# Add properties parameter block to the case 1 flowsheet with the appropriate configuration file\n",
    "m.fs.properties_1 = GenericParameterBlock(**configuration)\n",
    "\n",
    "# Add properties parameter block to the case 2 flowsheet and set the available phase to liquid and vapor\n",
    "m.fs.properties_2 = iapws95.Iapws95ParameterBlock(phase_presentation=iapws95.PhaseType.LG)"
   ]
  },
  {
   "cell_type": "markdown",
   "metadata": {},
   "source": [
    "## Case 1:\n",
    "In the following cell, we will be creating the feed flash unit model, assigning a property package to it, and determining the degrees of freedom associated with the feed unit model."
   ]
  },
  {
   "cell_type": "code",
   "execution_count": null,
   "metadata": {},
   "outputs": [],
   "source": [
    "# Create an instance of the feed unit, attaching it to the flowsheet\n",
    "# Specify that the property package to be used with the feed is the one we created earlier\n",
    "\n",
    "m.fs.feed_1 = FeedFlash(property_package=m.fs.properties_1)\n",
    "\n",
    "# Call the degrees_of_freedom function, get initial DOF\n",
    "DOF_initial = degrees_of_freedom(m)\n",
    "print('The initial degrees of freedom are: {0}'.format(DOF_initial))"
   ]
  },
  {
   "cell_type": "code",
   "execution_count": null,
   "metadata": {
    "tags": [
     "testing",
     "remove_cell"
    ]
   },
   "outputs": [],
   "source": [
    "assert DOF_initial == 5"
   ]
  },
  {
   "cell_type": "markdown",
   "metadata": {},
   "source": [
    "### Fixing input specifications\n",
    "In the following cell, we will be specifying the conditions for the feed flash block in case 1 using a feed port and ensuring that there are zero degrees of freedom. While most other unit models simply use the inlet port to fix the unit model's operating conditions, the feed flash unit model cannot because there is no inlet stream to the feed block. "
   ]
  },
  {
   "cell_type": "code",
   "execution_count": null,
   "metadata": {},
   "outputs": [],
   "source": [
    "# Fix the feed conditions\n",
    "\n",
    "# Feed stream\n",
    "m.fs.feed_1.flow_mol.fix(100) # converting to mol/s as unit basis is mol/s\n",
    "m.fs.feed_1.mole_frac_comp[0, \"benzene\"].fix(0.6)\n",
    "m.fs.feed_1.mole_frac_comp[0, \"toluene\"].fix(0.4)\n",
    "m.fs.feed_1.pressure.fix(101325) # Pa\n",
    "m.fs.feed_1.temperature.fix(298) # K\n",
    "\n",
    "# Call the degrees_of_freedom function, get final DOF\n",
    "DOF_final = degrees_of_freedom(m)\n",
    "print('The final degrees of freedom is: {0}'.format(DOF_final))"
   ]
  },
  {
   "cell_type": "code",
   "execution_count": null,
   "metadata": {
    "tags": [
     "testing",
     "remove_cell"
    ]
   },
   "outputs": [],
   "source": [
    "assert DOF_final == 0"
   ]
  },
  {
   "cell_type": "markdown",
   "metadata": {},
   "source": [
    "### Flowsheet Initialization\n",
    "\n",
    "IDAES includes pre-written initialization routines for all unit models. Failing to initialize or having a poor intialization of a flowsheet may result in the problem being unsolvable. The output from initialization can be set to 7 different levels depending on the details required by the user. In general, when a particular output level is set, any information at that level and above gets picked up by logger. The default level taken by the logger is INFO.\n",
    "\n",
    "More information on these levels can be found in the IDAES documentation: https://idaes-pse.readthedocs.io/en/stable/reference_guides/logging.html?highlight=log%20level#idaes-solve-loggers."
   ]
  },
  {
   "cell_type": "code",
   "execution_count": null,
   "metadata": {},
   "outputs": [],
   "source": [
    "# Initialize the flowsheet, and set the output at WARNING\n",
    "m.fs.feed_1.initialize(outlvl=idaeslog.WARNING)"
   ]
  },
  {
   "cell_type": "markdown",
   "metadata": {},
   "source": [
    "### Obtaining Simulation Results\n",
    "In the following cell, the flowsheet will be solved using the IDAES get_solver tool. Setting tee=True will display the solver output."
   ]
  },
  {
   "cell_type": "code",
   "execution_count": null,
   "metadata": {},
   "outputs": [],
   "source": [
    "# Solve the simulation using the IDAES solver\n",
    "# Note: If the degrees of freedom = 0, we have a square problem\n",
    "solver = get_solver()\n",
    "result = solver.solve(m, tee=True)"
   ]
  },
  {
   "cell_type": "code",
   "execution_count": null,
   "metadata": {
    "tags": [
     "testing",
     "remove_cell"
    ]
   },
   "outputs": [],
   "source": [
    "from pyomo.opt import TerminationCondition, SolverStatus\n",
    "\n",
    "# Check if termination condition is optimal\n",
    "assert result.solver.termination_condition == TerminationCondition.optimal\n",
    "assert result.solver.status == SolverStatus.ok"
   ]
  },
  {
   "cell_type": "markdown",
   "metadata": {},
   "source": [
    "### View Results\n",
    "\n",
    "As expected, the output conditions shown below match the feed conditions that were set earlier."
   ]
  },
  {
   "cell_type": "code",
   "execution_count": null,
   "metadata": {},
   "outputs": [],
   "source": [
    "# Display output report\n",
    "m.fs.feed_1.report()"
   ]
  },
  {
   "cell_type": "code",
   "execution_count": null,
   "metadata": {
    "tags": [
     "testing",
     "remove_cell"
    ]
   },
   "outputs": [],
   "source": [
    "import pytest\n",
    "\n",
    "# Check results\n",
    "assert value(m.fs.feed_1.outlet.flow_mol[0]) == pytest.approx(100, rel=1e-6)\n",
    "assert value(m.fs.feed_1.mole_frac_comp[0, \"benzene\"]) == pytest.approx(0.6, rel=1e-6)\n",
    "assert value(m.fs.feed_1.mole_frac_comp[0, \"toluene\"]) == pytest.approx(0.4, rel=1e-6)"
   ]
  },
  {
   "cell_type": "markdown",
   "metadata": {},
   "source": [
    "## Case 2:\n",
    "In the following cell, we will be creating the feed flash unit model, assigning a property package to it, and determining the degrees of freedom associated with the feed unit model."
   ]
  },
  {
   "cell_type": "code",
   "execution_count": null,
   "metadata": {},
   "outputs": [],
   "source": [
    "# Create an instance of the feed unit, attaching it to the flowsheet\n",
    "# Specify that the property package to be used with the feed is the one we created earlier\n",
    "# Set the flash type as isothermal or isenthalpic\n",
    "\n",
    "m.fs.feed_2 = FeedFlash(property_package=m.fs.properties_2, flash_type=FlashType.isenthalpic)\n",
    "\n",
    "# Call the degrees_of_freedom function, get initial DOF\n",
    "DOF_initial = degrees_of_freedom(m)\n",
    "print('The initial degrees of freedom are: {0}'.format(DOF_initial))"
   ]
  },
  {
   "cell_type": "code",
   "execution_count": null,
   "metadata": {
    "tags": [
     "testing",
     "remove_cell"
    ]
   },
   "outputs": [],
   "source": [
    "assert DOF_initial == 3"
   ]
  },
  {
   "cell_type": "markdown",
   "metadata": {},
   "source": [
    "### Fixing input specifications\n",
    "In the following cell, we will be specifying the conditions for the feed flash block in case 2 using a feed port and ensuring that there are zero degrees of freedom."
   ]
  },
  {
   "cell_type": "code",
   "execution_count": null,
   "metadata": {},
   "outputs": [],
   "source": [
    "# Fix the feed conditions\n",
    "\n",
    "# Feed stream\n",
    "m.fs.feed_2.flow_mol.fix(100) # converting to mol/s as unit basis is mol/s\n",
    "m.fs.feed_2.enth_mol.fix(24000) # J/mol\n",
    "m.fs.feed_2.pressure.fix(101325) # Pa\n",
    "\n",
    "# Call the degrees_of_freedom function, get final DOF\n",
    "DOF_final = degrees_of_freedom(m)\n",
    "print('The final degrees of freedom is: {0}'.format(DOF_final))"
   ]
  },
  {
   "cell_type": "code",
   "execution_count": null,
   "metadata": {
    "tags": [
     "testing",
     "remove_cell"
    ]
   },
   "outputs": [],
   "source": [
    "assert DOF_final == 0"
   ]
  },
  {
   "cell_type": "markdown",
   "metadata": {},
   "source": [
    "### Flowsheet Initialization\n",
    "IDAES includes pre-written initialization routines for all unit models. Failing to initialize or having a poor intialization of a flowsheet may result in the problem being unsolvable. The output from initialization can be set to 7 different levels depending on the details required by the user. In general, when a particular output level is set, any information at that level and above gets picked up by logger. The default level taken by the logger is INFO.\n",
    "\n",
    "More information on these levels can be found in the IDAES documentation: https://idaes-pse.readthedocs.io/en/stable/reference_guides/logging.html?highlight=log%20level#idaes-solve-loggers."
   ]
  },
  {
   "cell_type": "code",
   "execution_count": null,
   "metadata": {},
   "outputs": [],
   "source": [
    "# Initialize the flowsheet, and set the output at WARNING\n",
    "m.fs.feed_2.initialize(outlvl=idaeslog.WARNING)"
   ]
  },
  {
   "cell_type": "markdown",
   "metadata": {},
   "source": [
    "### Obtaining Simulation Results\n",
    "In the following cell, the flowsheet will be solved using the IDAES get_solver tool. Setting tee=True will display the solver output."
   ]
  },
  {
   "cell_type": "code",
   "execution_count": null,
   "metadata": {},
   "outputs": [],
   "source": [
    "# Solve the simulation using the IDAES solver\n",
    "# Note: If the degrees of freedom = 0, we have a square problem\n",
    "solver = get_solver()\n",
    "result = solver.solve(m, tee=True)"
   ]
  },
  {
   "cell_type": "code",
   "execution_count": null,
   "metadata": {
    "tags": [
     "testing",
     "remove_cell"
    ]
   },
   "outputs": [],
   "source": [
    "from pyomo.opt import TerminationCondition, SolverStatus\n",
    "\n",
    "# Check if termination condition is optimal\n",
    "assert result.solver.termination_condition == TerminationCondition.optimal\n",
    "assert result.solver.status == SolverStatus.ok"
   ]
  },
  {
   "cell_type": "markdown",
   "metadata": {},
   "source": [
    "### View Results"
   ]
  },
  {
   "cell_type": "code",
   "execution_count": null,
   "metadata": {},
   "outputs": [],
   "source": [
    "# Display output report\n",
    "m.fs.feed_2.report()"
   ]
  },
  {
   "cell_type": "code",
   "execution_count": null,
   "metadata": {
    "tags": [
     "testing",
     "remove_cell"
    ]
   },
   "outputs": [],
   "source": [
    "import pytest\n",
    "\n",
    "# Check results\n",
    "assert value(m.fs.feed_2.outlet.flow_mol[0]) == pytest.approx(100, rel=1e-6)\n",
    "assert value(m.fs.feed_2.outlet.enth_mol[0]) == pytest.approx(24000, rel=1e-6)"
   ]
  },
  {
   "cell_type": "code",
   "execution_count": null,
   "metadata": {},
   "outputs": [],
   "source": []
  }
 ],
 "metadata": {
  "celltoolbar": "Tags",
  "kernelspec": {
   "display_name": "Python 3 (ipykernel)",
   "language": "python",
   "name": "python3"
  },
  "language_info": {
   "codemirror_mode": {
    "name": "ipython",
    "version": 3
   },
   "file_extension": ".py",
   "mimetype": "text/x-python",
   "name": "python",
   "nbconvert_exporter": "python",
   "pygments_lexer": "ipython3",
   "version": "3.7.13"
  }
 },
 "nbformat": 4,
 "nbformat_minor": 2
}
