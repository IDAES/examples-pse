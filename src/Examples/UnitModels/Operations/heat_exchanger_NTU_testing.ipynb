{
 "cells": [
  {
   "cell_type": "markdown",
   "metadata": {},
   "source": [
    "# Heat Exchanger NTU Unit Model with Aqueous MEA System\n",
    "\n",
    "![](heat_exchanger_4.svg)\n",
    "\n",
    "**Problem Statement**: In this example, we will be transfering heat from hot to cold streams of MEA (monoethylamine), simulating heat integration of an aqueous MEA system.\n",
    "\n",
    "**Hot Side Inlet**\n",
    "\n",
    "Flow Rate = 60.54879 mol/s\n",
    "\n",
    "Mole fraction (CO2) = 0.0158\n",
    "\n",
    "Mole fraction (H2O) = 0.8747\n",
    "\n",
    "Mole fraction (MEA) = 0.1095\n",
    "\n",
    "Pressure = 202650 Pa\n",
    "\n",
    "Temperature = 392.23 K\n",
    "\n",
    "**Cold Side Inlet**\n",
    "\n",
    "Flow Rate = 63.01910 mol/s\n",
    "\n",
    "Mole fraction (CO2) = 0.0414\n",
    "\n",
    "Mole fraction (H2O) = 0.8509\n",
    "\n",
    "Mole fraction (MEA) = 0.1077\n",
    "\n",
    "Pressure = 202650 Pa\n",
    "\n",
    "Temperature = 326.36 K\n",
    "\n",
    "This example will demonstrate the simulation of the NTU heat exchanger by fixing the following degrees of freedom:\n",
    "- heat transfer area\n",
    "- heat transfer coefficient\n",
    "- effectiveness\n",
    "- hot and cold side pressure changes\n",
    "\n",
    "\n",
    "IDAES documentation reference for heat exchanger NTU model: https://idaes-pse.readthedocs.io/en/latest/reference_guides/model_libraries/generic/unit_models/heat_exchanger_ntu.html\n",
    "\n",
    "This example utilizes the NTU heat exchanger for a shell and tube system."
   ]
  },
  {
   "cell_type": "markdown",
   "metadata": {},
   "source": [
    "## Importing necessary tools\n",
    "\n",
    "First, import the required IDAES and Pyomo modules:"
   ]
  },
  {
   "cell_type": "code",
   "execution_count": null,
   "metadata": {
    "scrolled": true
   },
   "outputs": [],
   "source": [
    "# Import pyomo package \n",
    "from pyomo.environ import ConcreteModel, Constraint, value, units\n",
    "\n",
    "# Import idaes logger to set output levels\n",
    "import idaes.logger as idaeslog\n",
    "\n",
    "# Import the main FlowsheetBlock from IDAES. The flowsheet block will contain the unit model\n",
    "from idaes.core import FlowsheetBlock\n",
    "\n",
    "# Import the MEA property package to create a property block for the flowsheet\n",
    "from idaes.models_extra.column_models.properties.MEA_solvent \\\n",
    "    import configuration as aqueous_mea\n",
    "\n",
    "from idaes.models.properties.modular_properties.base.generic_property import (\n",
    "        GenericParameterBlock)\n",
    "\n",
    "# Import the degrees_of_freedom function from the idaes.core.util.model_statistics package\n",
    "from idaes.core.util.model_statistics import degrees_of_freedom\n",
    "\n",
    "# Import the default IPOPT solver\n",
    "from idaes.core.solvers import get_solver\n",
    "\n",
    "# Import a heat exchanger unit\n",
    "from idaes.models.unit_models.heat_exchanger_ntu import HeatExchangerNTU as HXNTU"
   ]
  },
  {
   "cell_type": "markdown",
   "metadata": {},
   "source": [
    "## Setting up the flowsheet\n",
    "Then, we will create the `ConcreteModel` foundation, attach the steady state flowsheet, and declare the property parameter block that will used for the hot and cold sides.\n",
    "\n",
    "More information on this general workflow can be found here: https://idaes-pse.readthedocs.io/en/stable/how_to_guides/workflow/general.html"
   ]
  },
  {
   "cell_type": "code",
   "execution_count": null,
   "metadata": {},
   "outputs": [],
   "source": [
    "m = ConcreteModel()\n",
    "\n",
    "m.fs = FlowsheetBlock(dynamic=False)\n",
    "\n",
    "m.fs.hotside_properties = GenericParameterBlock(**aqueous_mea)\n",
    "\n",
    "m.fs.coldside_properties = GenericParameterBlock(**aqueous_mea)"
   ]
  },
  {
   "cell_type": "markdown",
   "metadata": {},
   "source": [
    "Next, we specify hot and cold streams; note that heat flow from the hot to the cold stream is calculated using the transfer unit method for the `HXNTU` unit model.\n",
    "\n",
    "The unit is created below:"
   ]
  },
  {
   "cell_type": "code",
   "execution_count": null,
   "metadata": {},
   "outputs": [],
   "source": [
    "# Create an instance of the heat exchanger unit, attaching it to the flowsheet\n",
    "# Specify that the property package to be used with the heat exchanger is the one we created earlier.\n",
    "m.fs.heat_exchanger = HXNTU(\n",
    "    hot_side_name=\"shell\",\n",
    "    cold_side_name=\"tube\",\n",
    "    shell={\"property_package\": m.fs.hotside_properties,\n",
    "           \"has_pressure_change\": True},\n",
    "    tube={\"property_package\": m.fs.coldside_properties,\n",
    "          \"has_pressure_change\": True})\n",
    "\n",
    "# Call the degrees_of_freedom function, get initial DOF\n",
    "DOF_initial = degrees_of_freedom(m)\n",
    "print(\"The initial DOF is {0}\".format(DOF_initial))"
   ]
  },
  {
   "cell_type": "code",
   "execution_count": null,
   "metadata": {
    "tags": [
     "testing"
    ]
   },
   "outputs": [],
   "source": [
    "assert DOF_initial == 15"
   ]
  },
  {
   "cell_type": "markdown",
   "metadata": {},
   "source": [
    "## Fixing input specifications\n",
    "For this problem, we will fix the inlet conditions, re-evaluate the degrees of freedom to ensure the problem is square (i.e. DOF=0), and run two different options for unit specifications:"
   ]
  },
  {
   "cell_type": "code",
   "execution_count": null,
   "metadata": {},
   "outputs": [],
   "source": [
    "m.fs.heat_exchanger.hot_side_inlet.flow_mol[0].fix(60.54879) # mol/s\n",
    "m.fs.heat_exchanger.hot_side_inlet.temperature[0].fix(392.23) # K\n",
    "m.fs.heat_exchanger.hot_side_inlet.pressure[0].fix(202650) # Pa\n",
    "m.fs.heat_exchanger.hot_side_inlet.mole_frac_comp[0, \"CO2\"].fix(0.0158) # dimensionless\n",
    "m.fs.heat_exchanger.hot_side_inlet.mole_frac_comp[0, \"H2O\"].fix(0.8747) # dimensionless\n",
    "m.fs.heat_exchanger.hot_side_inlet.mole_frac_comp[0, \"MEA\"].fix(0.1095) # dimensionless\n",
    "\n",
    "m.fs.heat_exchanger.cold_side_inlet.flow_mol[0].fix(63.01910) # mol/s\n",
    "m.fs.heat_exchanger.cold_side_inlet.temperature[0].fix(326.36) # K\n",
    "m.fs.heat_exchanger.cold_side_inlet.pressure[0].fix(202650) # Pa\n",
    "m.fs.heat_exchanger.cold_side_inlet.mole_frac_comp[0, \"CO2\"].fix(0.0414) # dimensionless\n",
    "m.fs.heat_exchanger.cold_side_inlet.mole_frac_comp[0, \"H2O\"].fix(0.8509) # dimensionless\n",
    "m.fs.heat_exchanger.cold_side_inlet.mole_frac_comp[0, \"MEA\"].fix(0.1077) # dimensionless\n",
    "\n",
    "DOF_initial = degrees_of_freedom(m)\n",
    "print(\"The DOF is {0}\".format(DOF_initial))"
   ]
  },
  {
   "cell_type": "markdown",
   "metadata": {},
   "source": [
    "### Option 1: Fix heat transfer coefficient (HTC) and dimensions of each domain\n",
    "Below, we fix the heat exchanger area, effectiveness factor and heat transfer coefficient, which yields a fully defined problem with zero degrees of freedom that may be initialized and solved:"
   ]
  },
  {
   "cell_type": "code",
   "execution_count": null,
   "metadata": {},
   "outputs": [],
   "source": [
    "# Unit design variables\n",
    "m.fs.heat_exchanger.area.fix(100) # m2\n",
    "m.fs.heat_exchanger.heat_transfer_coefficient.fix(200) # W/m2/K\n",
    "m.fs.heat_exchanger.effectiveness.fix(0.7) # dimensionless\n",
    "\n",
    "m.fs.heat_exchanger.hot_side.deltaP.fix(-2000) # Pa\n",
    "m.fs.heat_exchanger.cold_side.deltaP.fix(-2000) # Pa\n",
    "\n",
    "DOF_final = degrees_of_freedom(m)\n",
    "print(\"The DOF is {0}\".format(DOF_final))"
   ]
  },
  {
   "cell_type": "code",
   "execution_count": null,
   "metadata": {
    "tags": [
     "testing"
    ]
   },
   "outputs": [],
   "source": [
    "assert DOF_final == 0"
   ]
  },
  {
   "cell_type": "markdown",
   "metadata": {},
   "source": [
    "Now that the problem is square (zero degress of freedom), we can initialize and solve the full model:"
   ]
  },
  {
   "cell_type": "code",
   "execution_count": null,
   "metadata": {},
   "outputs": [],
   "source": [
    "# Initialize the flowsheet, and set the output at INFO\n",
    "m.fs.heat_exchanger.initialize(outlvl=idaeslog.INFO)\n",
    "\n",
    "# Solve the simulation using ipopt\n",
    "# Note: If the degrees of freedom = 0, we have a square problem\n",
    "opt = get_solver()\n",
    "solve_status = opt.solve(m, tee = True)\n",
    "\n",
    "# Display a readable report\n",
    "m.fs.heat_exchanger.report()"
   ]
  },
  {
   "cell_type": "code",
   "execution_count": null,
   "metadata": {
    "tags": [
     "testing"
    ]
   },
   "outputs": [],
   "source": [
    "from pyomo.environ import assert_optimal_termination\n",
    "import pytest\n",
    "\n",
    "# Check if termination condition is optimal\n",
    "assert_optimal_termination(solve_status)\n",
    "\n",
    "assert value(m.fs.heat_exchanger.hot_side_outlet.temperature[0]) == pytest.approx(344.00, abs=1e-2)\n",
    "assert value(m.fs.heat_exchanger.cold_side_outlet.temperature[0]) == pytest.approx(374.33, abs=1e-2)"
   ]
  },
  {
   "cell_type": "markdown",
   "metadata": {},
   "source": [
    "### Option 2: Unfix shell length  and fix shell outlet temperatures\n",
    "\n",
    "In the previous case, we fixed the heat exchanger area and overall heat transfer coefficient. However, given that the models in IDAES are equation oriented, we can fix the outlet variables. For example, we can fix the hot outlet temperature and heat exchanger length, and solve for the heat exchanger area and effectiveness factor that will satisfy that condition.\n"
   ]
  },
  {
   "cell_type": "code",
   "execution_count": null,
   "metadata": {},
   "outputs": [],
   "source": [
    "m.fs.heat_exchanger.effectiveness.unfix()\n",
    "m.fs.heat_exchanger.area.unfix()\n",
    "m.fs.heat_exchanger.hot_side_outlet.temperature.fix(344.0)\n",
    "\n",
    "DOF_final = degrees_of_freedom(m)\n",
    "print(\"The DOF is {0}\".format(DOF_final))"
   ]
  },
  {
   "cell_type": "code",
   "execution_count": null,
   "metadata": {},
   "outputs": [],
   "source": [
    "result = opt.solve(m)\n",
    "\n",
    "print(result)\n",
    "\n",
    "# Display a readable report\n",
    "m.fs.heat_exchanger.report()"
   ]
  },
  {
   "cell_type": "code",
   "execution_count": null,
   "metadata": {},
   "outputs": [],
   "source": [
    "# Check if termination condition is optimal\n",
    "assert_optimal_termination(result)\n",
    "\n",
    "assert value(m.fs.heat_exchanger.area) == pytest.approx(100, abs=1e-2)\n",
    "assert value(m.fs.heat_exchanger.effectiveness[0]) == pytest.approx(0.7, abs=1e-2)\n",
    "assert value(m.fs.heat_exchanger.cold_side_outlet.temperature[0]) == pytest.approx(\n",
    "    374.33, rel=1e-3)"
   ]
  },
  {
   "cell_type": "code",
   "execution_count": null,
   "metadata": {},
   "outputs": [],
   "source": []
  }
 ],
 "metadata": {
  "celltoolbar": "Tags",
  "kernelspec": {
   "display_name": "Python 3 (ipykernel)",
   "language": "python",
   "name": "python3"
  },
  "language_info": {
   "codemirror_mode": {
    "name": "ipython",
    "version": 3
   },
   "file_extension": ".py",
   "mimetype": "text/x-python",
   "name": "python",
   "nbconvert_exporter": "python",
   "pygments_lexer": "ipython3",
   "version": "3.7.13"
  }
 },
 "nbformat": 4,
 "nbformat_minor": 2
}
