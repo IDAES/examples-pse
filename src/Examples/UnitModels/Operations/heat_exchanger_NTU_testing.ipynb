{
 "cells": [
  {
   "cell_type": "markdown",
   "metadata": {},
   "source": [
    "# Heat Exchanger NTU Unit Model with Ideal & IAPWS Property Package\n",
    "\n",
    "![](heat_exchanger_4.svg)\n",
    "\n",
    "**Problem Statement**: In this example, we will be transfering heat from hot to cold streams of MEA (monoethylamine), simulating heat integration of an aqueous MEA system.\n",
    "\n",
    "**Hot Side Inlet**\n",
    "\n",
    "Flow Rate = 60.54879 mol/s\n",
    "\n",
    "Mole fraction (CO2) = 0.0158\n",
    "\n",
    "Mole fraction (H2O) = 0.8747\n",
    "\n",
    "Mole fraction (MEA) = 0.1095\n",
    "\n",
    "Pressure = 202650 Pa\n",
    "\n",
    "Temperature = 392.23 K\n",
    "\n",
    "**Cold Side Inlet**\n",
    "\n",
    "Flow Rate = 63.01910 mol/s\n",
    "\n",
    "Mole fraction (CO2) = 0.0414\n",
    "\n",
    "Mole fraction (H2O) = 0.8509\n",
    "\n",
    "Mole fraction (MEA) = 0.1077\n",
    "\n",
    "Pressure = 202650 Pa\n",
    "\n",
    "Temperature = 326.36 K\n",
    "\n",
    "This example will demonstrate the simulation of the NTU heat exchanger by fixing the following degrees of freedom:\n",
    "- heat transfer area\n",
    "- heat transfer coefficient\n",
    "- effectiveness\n",
    "- hot and cold side pressure changes\n",
    "\n",
    "\n",
    "IDAES documentation reference for heat exchanger 1D model: https://idaes-pse.readthedocs.io/en/latest/technical_specs/model_libraries/generic/unit_models/heat_exchanger_NTU.html"
   ]
  },
  {
   "cell_type": "markdown",
   "metadata": {},
   "source": [
    "**Setting up the problem in IDAES**"
   ]
  },
  {
   "cell_type": "code",
   "execution_count": 1,
   "metadata": {
    "scrolled": true
   },
   "outputs": [],
   "source": [
    "# Import pyomo package \n",
    "from pyomo.environ import ConcreteModel, SolverFactory, Constraint, value, units\n",
    "\n",
    "# Import idaes logger to set output levels\n",
    "import idaes.logger as idaeslog\n",
    "\n",
    "# Import the main FlowsheetBlock from IDAES. The flowsheet block will contain the unit model\n",
    "from idaes.core import FlowsheetBlock\n",
    "\n",
    "#import the MEA property package to create a properties block for the flowsheet\n",
    "from idaes.power_generation.carbon_capture.mea_solvent_system.properties.MEA_solvent \\\n",
    "    import configuration as aqueous_mea\n",
    "\n",
    "from idaes.generic_models.properties.iapws95 import htpx\n",
    "\n",
    "from idaes.generic_models.properties.core.generic.generic_property import (\n",
    "        GenericParameterBlock)\n",
    "\n",
    "#Import the degrees_of_freedom function from the idaes.core.util.model_statistics package\n",
    "from idaes.core.util.model_statistics import degrees_of_freedom\n",
    "\n",
    "#Import a heat exchanger unit\n",
    "from idaes.generic_models.unit_models.heat_exchanger_ntu import HeatExchangerNTU as HXNTU\n",
    "\n",
    "#Create the ConcreteModel and the FlowsheetBlock, and attach the flowsheet block to it.\n",
    "m = ConcreteModel()\n",
    "\n",
    "# Steady State Model\n",
    "m.fs = FlowsheetBlock(default={\"dynamic\": False})\n",
    "\n",
    "# Setup property packages for hot and cold side\n",
    "# MEA property package for hotside\n",
    "m.fs.hotside_properties = GenericParameterBlock(default=aqueous_mea)\n",
    "\n",
    "# MEA property package for coldside\n",
    "m.fs.coldside_properties = GenericParameterBlock(default=aqueous_mea)"
   ]
  },
  {
   "cell_type": "markdown",
   "metadata": {},
   "source": [
    "In the [0D Heat Exchanger model example](http://localhost:8888/notebooks/GitHub/examples-pse/src/Examples/UnitModels/Operations/heat_exchanger_0D_testing.ipynb), the inlets are specified exactly and the solver determines heat transfer based on resulting temperatures. Here, we specify hot and cold streams and mandate that heat flow from the hot to the cold stream using the transfer unit method."
   ]
  },
  {
   "cell_type": "code",
   "execution_count": 2,
   "metadata": {},
   "outputs": [
    {
     "name": "stdout",
     "output_type": "stream",
     "text": [
      "The initial DOF is 15\n"
     ]
    }
   ],
   "source": [
    "#Create an instance of the heat exchanger unit, attaching it to the flowsheet\n",
    "#Specify that the property package to be used with the heater is the one we created earlier.\n",
    "m.fs.heat_exchanger = HXNTU(default={\n",
    "            \"hot_side\": {\"property_package\": m.fs.hotside_properties,\n",
    "                         \"has_pressure_change\": True},\n",
    "            \"cold_side\": {\"property_package\": m.fs.coldside_properties,\n",
    "                          \"has_pressure_change\": True}})\n",
    "\n",
    "# Call the degrees_of_freedom function, get initial DOF\n",
    "DOF_initial = degrees_of_freedom(m)\n",
    "print(\"The initial DOF is {0}\".format(DOF_initial))\n",
    "\n"
   ]
  },
  {
   "cell_type": "code",
   "execution_count": 3,
   "metadata": {
    "tags": [
     "testing"
    ]
   },
   "outputs": [],
   "source": [
    "assert DOF_initial == 15"
   ]
  },
  {
   "cell_type": "code",
   "execution_count": 4,
   "metadata": {},
   "outputs": [
    {
     "name": "stdout",
     "output_type": "stream",
     "text": [
      "The DOF is 3\n"
     ]
    }
   ],
   "source": [
    "# Hot fluid\n",
    "m.fs.heat_exchanger.hot_inlet.flow_mol[0].fix(60.54879) # mol/s\n",
    "m.fs.heat_exchanger.hot_inlet.temperature[0].fix(392.23) # K\n",
    "m.fs.heat_exchanger.hot_inlet.pressure[0].fix(202650) # Pa\n",
    "m.fs.heat_exchanger.hot_inlet.mole_frac_comp[0, \"CO2\"].fix(0.0158) # dimensionless\n",
    "m.fs.heat_exchanger.hot_inlet.mole_frac_comp[0, \"H2O\"].fix(0.8747) # dimensionless\n",
    "m.fs.heat_exchanger.hot_inlet.mole_frac_comp[0, \"MEA\"].fix(0.1095) # dimensionless\n",
    "\n",
    "# Cold fluid\n",
    "m.fs.heat_exchanger.cold_inlet.flow_mol[0].fix(63.01910) # mol/s\n",
    "m.fs.heat_exchanger.cold_inlet.temperature[0].fix(326.36) # K\n",
    "m.fs.heat_exchanger.cold_inlet.pressure[0].fix(202650) # Pa\n",
    "m.fs.heat_exchanger.cold_inlet.mole_frac_comp[0, \"CO2\"].fix(0.0414) # dimensionless\n",
    "m.fs.heat_exchanger.cold_inlet.mole_frac_comp[0, \"H2O\"].fix(0.8509) # dimensionless\n",
    "m.fs.heat_exchanger.cold_inlet.mole_frac_comp[0, \"MEA\"].fix(0.1077) # dimensionless\n",
    "\n",
    "DOF_initial = degrees_of_freedom(m)\n",
    "print(\"The DOF is {0}\".format(DOF_initial))\n"
   ]
  },
  {
   "cell_type": "markdown",
   "metadata": {},
   "source": [
    "### Option 1: Fix HTC and dimensions of each domain\n"
   ]
  },
  {
   "cell_type": "code",
   "execution_count": 5,
   "metadata": {},
   "outputs": [
    {
     "name": "stdout",
     "output_type": "stream",
     "text": [
      "The DOF is 0\n"
     ]
    }
   ],
   "source": [
    "# Unit design variables\n",
    "m.fs.heat_exchanger.area.fix(100) # m2\n",
    "m.fs.heat_exchanger.heat_transfer_coefficient.fix(200) # W/m2/K\n",
    "m.fs.heat_exchanger.effectiveness.fix(0.7) # dimensionless\n",
    "\n",
    "m.fs.heat_exchanger.hot_side.deltaP.fix(-2000) # Pa\n",
    "m.fs.heat_exchanger.cold_side.deltaP.fix(-2000) # Pa\n",
    "\n",
    "# Call the degrees_of_freedom function, get final DOF\n",
    "DOF_final = degrees_of_freedom(m)\n",
    "print(\"The DOF is {0}\".format(DOF_final))"
   ]
  },
  {
   "cell_type": "code",
   "execution_count": 6,
   "metadata": {
    "tags": [
     "testing"
    ]
   },
   "outputs": [],
   "source": [
    "assert DOF_final == 0"
   ]
  },
  {
   "cell_type": "code",
   "execution_count": 7,
   "metadata": {},
   "outputs": [
    {
     "name": "stdout",
     "output_type": "stream",
     "text": [
      "2022-03-03 13:47:08 [INFO] idaes.init.fs.heat_exchanger.hot_side.properties_in: Starting initialization\n",
      "2022-03-03 13:47:08 [INFO] idaes.init.fs.heat_exchanger.hot_side.properties_in: Property initialization: optimal - Optimal Solution Found.\n",
      "2022-03-03 13:47:08 [INFO] idaes.init.fs.heat_exchanger.hot_side.properties_out: Starting initialization\n",
      "2022-03-03 13:47:09 [INFO] idaes.init.fs.heat_exchanger.hot_side.properties_out: Property initialization: optimal - Optimal Solution Found.\n",
      "2022-03-03 13:47:09 [INFO] idaes.init.fs.heat_exchanger.hot_side: Initialization Complete\n",
      "2022-03-03 13:47:09 [INFO] idaes.init.fs.heat_exchanger.cold_side.properties_in: Starting initialization\n",
      "2022-03-03 13:47:09 [INFO] idaes.init.fs.heat_exchanger.cold_side.properties_in: Property initialization: optimal - Optimal Solution Found.\n",
      "2022-03-03 13:47:09 [INFO] idaes.init.fs.heat_exchanger.cold_side.properties_out: Starting initialization\n",
      "2022-03-03 13:47:09 [INFO] idaes.init.fs.heat_exchanger.cold_side.properties_out: Property initialization: optimal - Optimal Solution Found.\n",
      "2022-03-03 13:47:09 [INFO] idaes.init.fs.heat_exchanger.cold_side: Initialization Complete\n",
      "2022-03-03 13:47:09 [INFO] idaes.init.fs.heat_exchanger: Initialization Completed, optimal - Optimal Solution Found\n",
      "Ipopt 3.13.2: \n",
      "\n",
      "******************************************************************************\n",
      "This program contains Ipopt, a library for large-scale nonlinear optimization.\n",
      " Ipopt is released as open source code under the Eclipse Public License (EPL).\n",
      "         For more information visit http://projects.coin-or.org/Ipopt\n",
      "\n",
      "This version of Ipopt was compiled from source code available at\n",
      "    https://github.com/IDAES/Ipopt as part of the Institute for the Design of\n",
      "    Advanced Energy Systems Process Systems Engineering Framework (IDAES PSE\n",
      "    Framework) Copyright (c) 2018-2019. See https://github.com/IDAES/idaes-pse.\n",
      "\n",
      "This version of Ipopt was compiled using HSL, a collection of Fortran codes\n",
      "    for large-scale scientific computation.  All technical papers, sales and\n",
      "    publicity material resulting from use of the HSL codes within IPOPT must\n",
      "    contain the following acknowledgement:\n",
      "        HSL, a collection of Fortran codes for large-scale scientific\n",
      "        computation. See http://www.hsl.rl.ac.uk.\n",
      "******************************************************************************\n",
      "\n",
      "This is Ipopt version 3.13.2, running with linear solver ma27.\n",
      "\n",
      "Number of nonzeros in equality constraint Jacobian...:      575\n",
      "Number of nonzeros in inequality constraint Jacobian.:        0\n",
      "Number of nonzeros in Lagrangian Hessian.............:      416\n",
      "\n",
      "Total number of variables............................:      122\n",
      "                     variables with only lower bounds:       28\n",
      "                variables with lower and upper bounds:       76\n",
      "                     variables with only upper bounds:        0\n",
      "Total number of equality constraints.................:      122\n",
      "Total number of inequality constraints...............:        0\n",
      "        inequality constraints with only lower bounds:        0\n",
      "   inequality constraints with lower and upper bounds:        0\n",
      "        inequality constraints with only upper bounds:        0\n",
      "\n",
      "iter    objective    inf_pr   inf_du lg(mu)  ||d||  lg(rg) alpha_du alpha_pr  ls\n",
      "   0  0.0000000e+00 4.33e+02 1.00e+00  -1.0 0.00e+00    -  0.00e+00 0.00e+00   0\n",
      "   1  0.0000000e+00 6.43e+00 2.33e+01  -1.0 1.00e-02    -  9.90e-01 9.85e-01h  1\n",
      "   2  0.0000000e+00 2.70e-02 2.40e+01  -1.0 4.26e-04    -  9.90e-01 9.96e-01h  1\n",
      "   3  0.0000000e+00 4.37e-10 5.83e+02  -1.0 1.84e-06    -  9.91e-01 1.00e+00h  1\n",
      "\n",
      "Number of Iterations....: 3\n",
      "\n",
      "                                   (scaled)                 (unscaled)\n",
      "Objective...............:   0.0000000000000000e+00    0.0000000000000000e+00\n",
      "Dual infeasibility......:   0.0000000000000000e+00    0.0000000000000000e+00\n",
      "Constraint violation....:   6.1709711008473037e-13    4.3655745685100561e-10\n",
      "Complementarity.........:   0.0000000000000000e+00    0.0000000000000000e+00\n",
      "Overall NLP error.......:   6.1709711008473037e-13    4.3655745685100561e-10\n",
      "\n",
      "\n",
      "Number of objective function evaluations             = 4\n",
      "Number of objective gradient evaluations             = 4\n",
      "Number of equality constraint evaluations            = 4\n",
      "Number of inequality constraint evaluations          = 0\n",
      "Number of equality constraint Jacobian evaluations   = 4\n",
      "Number of inequality constraint Jacobian evaluations = 0\n",
      "Number of Lagrangian Hessian evaluations             = 3\n",
      "Total CPU secs in IPOPT (w/o function evaluations)   =      0.003\n",
      "Total CPU secs in NLP function evaluations           =      0.001\n",
      "\n",
      "EXIT: Optimal Solution Found.\n",
      "\n",
      "====================================================================================\n",
      "Unit : fs.heat_exchanger                                                   Time: 0.0\n",
      "------------------------------------------------------------------------------------\n",
      "    Stream Table\n",
      "                             Hot Inlet  Hot Outlet  Cold Inlet  Cold Outlet\n",
      "    Total Molar Flowrate        60.549      60.549      63.019      63.019 \n",
      "    Total Mole Fraction H2O    0.87470     0.87470     0.85090     0.85090 \n",
      "    Total Mole Fraction MEA    0.10950     0.10950     0.10770     0.10770 \n",
      "    Total Mole Fraction CO2   0.015800    0.015800    0.041400    0.041400 \n",
      "    Temperature                 392.23      364.31      326.36      357.93 \n",
      "    Pressure                2.0265e+05  2.0065e+05  2.0265e+05  2.0065e+05 \n",
      "====================================================================================\n"
     ]
    }
   ],
   "source": [
    "#Initialize the flowsheet, and set the output at WARNING\n",
    "m.fs.heat_exchanger.initialize()\n",
    "\n",
    "#Solve the simulation using ipopt\n",
    "#Note: If the degrees of freedom = 0, we have a square problem\n",
    "opt = SolverFactory('ipopt')\n",
    "solve_status = opt.solve(m, tee = True)\n",
    "\n",
    "#Display a readable report\n",
    "m.fs.heat_exchanger.report()"
   ]
  },
  {
   "cell_type": "code",
   "execution_count": 8,
   "metadata": {
    "tags": [
     "testing"
    ]
   },
   "outputs": [],
   "source": [
    "from pyomo.opt import TerminationCondition, SolverStatus\n",
    "import pytest\n",
    "\n",
    "# Check if termination condition is optimal\n",
    "assert solve_status.solver.termination_condition == TerminationCondition.optimal\n",
    "assert solve_status.solver.status == SolverStatus.ok\n",
    "\n",
    "assert value(m.fs.heat_exchanger.hot_outlet.temperature[0]) == pytest.approx(364.31, abs=1e-2)\n",
    "assert value(m.fs.heat_exchanger.cold_outlet.temperature[0]) == pytest.approx(357.93, abs=1e-2)\n"
   ]
  },
  {
   "cell_type": "code",
   "execution_count": null,
   "metadata": {},
   "outputs": [],
   "source": []
  }
 ],
 "metadata": {
  "celltoolbar": "Tags",
  "kernelspec": {
   "display_name": "Python 3 (ipykernel)",
   "language": "python",
   "name": "python3"
  },
  "language_info": {
   "codemirror_mode": {
    "name": "ipython",
    "version": 3
   },
   "file_extension": ".py",
   "mimetype": "text/x-python",
   "name": "python",
   "nbconvert_exporter": "python",
   "pygments_lexer": "ipython3",
   "version": "3.8.5"
  }
 },
 "nbformat": 4,
 "nbformat_minor": 2
}
