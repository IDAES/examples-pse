{
 "cells": [
  {
   "cell_type": "markdown",
   "metadata": {},
   "source": [
    "# Heat Exchanger NTU Unit Model with Aqueous MEA System\n",
    "\n",
    "![](heat_exchanger_4.svg)\n",
    "\n",
    "**Problem Statement**: In this example, we will be transfering heat from hot to cold streams of MEA (monoethylamine), simulating heat integration of an aqueous MEA system.\n",
    "\n",
    "**Hot Side Inlet**\n",
    "\n",
    "Flow Rate = 60.54879 mol/s\n",
    "\n",
    "Mole fraction (CO2) = 0.0158\n",
    "\n",
    "Mole fraction (H2O) = 0.8747\n",
    "\n",
    "Mole fraction (MEA) = 0.1095\n",
    "\n",
    "Pressure = 202650 Pa\n",
    "\n",
    "Temperature = 392.23 K\n",
    "\n",
    "**Cold Side Inlet**\n",
    "\n",
    "Flow Rate = 63.01910 mol/s\n",
    "\n",
    "Mole fraction (CO2) = 0.0414\n",
    "\n",
    "Mole fraction (H2O) = 0.8509\n",
    "\n",
    "Mole fraction (MEA) = 0.1077\n",
    "\n",
    "Pressure = 202650 Pa\n",
    "\n",
    "Temperature = 326.36 K\n",
    "\n",
    "This example will demonstrate the simulation of the NTU heat exchanger by fixing the following degrees of freedom:\n",
    "- heat transfer area\n",
    "- heat transfer coefficient\n",
    "- effectiveness\n",
    "- hot and cold side pressure changes\n",
    "\n",
    "\n",
    "IDAES documentation reference for heat exchanger NTU model: https://idaes-pse.readthedocs.io/en/latest/reference_guides/model_libraries/generic/unit_models/heat_exchanger_ntu.html\n",
    "\n",
    "This example utilizes the NTU heat exchanger for a shell and tube system."
   ]
  },
  {
   "cell_type": "markdown",
   "metadata": {},
   "source": [
    "## Setting up the problem in IDAES\n",
    "\n",
    "First, import the required IDAES and Pyomo modules:"
   ]
  },
  {
   "cell_type": "code",
   "execution_count": 1,
   "metadata": {
    "scrolled": true
   },
   "outputs": [],
   "source": [
    "# Import pyomo package \n",
    "from pyomo.environ import ConcreteModel, Constraint, value, units\n",
    "\n",
    "# Import idaes logger to set output levels\n",
    "import idaes.logger as idaeslog\n",
    "\n",
    "# Import the main FlowsheetBlock from IDAES. The flowsheet block will contain the unit model\n",
    "from idaes.core import FlowsheetBlock\n",
    "\n",
    "#import the MEA property package to create a properties block for the flowsheet\n",
    "from idaes.models_extra.column_models.properties.MEA_solvent \\\n",
    "    import configuration as aqueous_mea\n",
    "\n",
    "from idaes.models.properties.modular_properties.base.generic_property import (\n",
    "        GenericParameterBlock)\n",
    "\n",
    "#Import the degrees_of_freedom function from the idaes.core.util.model_statistics package\n",
    "from idaes.core.util.model_statistics import degrees_of_freedom\n",
    "\n",
    "#Import the default IPOPT solver\n",
    "from idaes.core.solvers import get_solver\n",
    "\n",
    "#Import a heat exchanger unit\n",
    "from idaes.models.unit_models.heat_exchanger_ntu import HeatExchangerNTU as HXNTU"
   ]
  },
  {
   "cell_type": "markdown",
   "metadata": {},
   "source": [
    "Then, build the model and flowsheet components using the imported property packages:"
   ]
  },
  {
   "cell_type": "code",
   "execution_count": 2,
   "metadata": {},
   "outputs": [],
   "source": [
    "#Create the ConcreteModel and the FlowsheetBlock, and attach the flowsheet block to it.\n",
    "m = ConcreteModel()\n",
    "\n",
    "# Steady State Model\n",
    "m.fs = FlowsheetBlock(dynamic=False)\n",
    "\n",
    "# Setup property packages for hot and cold side\n",
    "# MEA property package for hotside\n",
    "m.fs.hotside_properties = GenericParameterBlock(**aqueous_mea)\n",
    "\n",
    "# MEA property package for coldside\n",
    "m.fs.coldside_properties = GenericParameterBlock(**aqueous_mea)"
   ]
  },
  {
   "cell_type": "markdown",
   "metadata": {},
   "source": [
    "Next, we specify hot and cold streams; note that heat flow from the hot to the cold stream is calculated using the transfer unit method for the `HXNTU` unit model.\n",
    "\n",
    "The unit is created below:"
   ]
  },
  {
   "cell_type": "code",
   "execution_count": 3,
   "metadata": {},
   "outputs": [
    {
     "name": "stdout",
     "output_type": "stream",
     "text": [
      "The initial DOF is 15\n"
     ]
    }
   ],
   "source": [
    "#Create an instance of the heat exchanger unit, attaching it to the flowsheet\n",
    "#Specify that the property package to be used with the heater is the one we created earlier.\n",
    "m.fs.heat_exchanger = HXNTU(\n",
    "    hot_side_name=\"shell\",\n",
    "    cold_side_name=\"tube\",\n",
    "    shell={\"property_package\": m.fs.hotside_properties,\n",
    "           \"has_pressure_change\": True},\n",
    "    tube={\"property_package\": m.fs.coldside_properties,\n",
    "          \"has_pressure_change\": True})\n",
    "\n",
    "# Call the degrees_of_freedom function, get initial DOF\n",
    "DOF_initial = degrees_of_freedom(m)\n",
    "print(\"The initial DOF is {0}\".format(DOF_initial))"
   ]
  },
  {
   "cell_type": "code",
   "execution_count": 4,
   "metadata": {
    "tags": [
     "testing"
    ]
   },
   "outputs": [],
   "source": [
    "assert DOF_initial == 15"
   ]
  },
  {
   "cell_type": "markdown",
   "metadata": {},
   "source": [
    "## Fixing input specifications\n",
    "For this problem, we will fix the inlet conditions and run two different options for unit specifications:"
   ]
  },
  {
   "cell_type": "code",
   "execution_count": 5,
   "metadata": {},
   "outputs": [
    {
     "name": "stdout",
     "output_type": "stream",
     "text": [
      "The DOF is 3\n"
     ]
    }
   ],
   "source": [
    "# Hot fluid\n",
    "m.fs.heat_exchanger.hot_side_inlet.flow_mol[0].fix(60.54879) # mol/s\n",
    "m.fs.heat_exchanger.hot_side_inlet.temperature[0].fix(392.23) # K\n",
    "m.fs.heat_exchanger.hot_side_inlet.pressure[0].fix(202650) # Pa\n",
    "m.fs.heat_exchanger.hot_side_inlet.mole_frac_comp[0, \"CO2\"].fix(0.0158) # dimensionless\n",
    "m.fs.heat_exchanger.hot_side_inlet.mole_frac_comp[0, \"H2O\"].fix(0.8747) # dimensionless\n",
    "m.fs.heat_exchanger.hot_side_inlet.mole_frac_comp[0, \"MEA\"].fix(0.1095) # dimensionless\n",
    "\n",
    "# Cold fluid\n",
    "m.fs.heat_exchanger.cold_side_inlet.flow_mol[0].fix(63.01910) # mol/s\n",
    "m.fs.heat_exchanger.cold_side_inlet.temperature[0].fix(326.36) # K\n",
    "m.fs.heat_exchanger.cold_side_inlet.pressure[0].fix(202650) # Pa\n",
    "m.fs.heat_exchanger.cold_side_inlet.mole_frac_comp[0, \"CO2\"].fix(0.0414) # dimensionless\n",
    "m.fs.heat_exchanger.cold_side_inlet.mole_frac_comp[0, \"H2O\"].fix(0.8509) # dimensionless\n",
    "m.fs.heat_exchanger.cold_side_inlet.mole_frac_comp[0, \"MEA\"].fix(0.1077) # dimensionless\n",
    "\n",
    "DOF_initial = degrees_of_freedom(m)\n",
    "print(\"The DOF is {0}\".format(DOF_initial))"
   ]
  },
  {
   "cell_type": "markdown",
   "metadata": {},
   "source": [
    "### Option 1: Fix heat transfer coefficient (HTC) and dimensions of each domain\n",
    "Below, we fix the heat exchanger area, effectiveness factor and heat transfer coefficient, which yields a fully defined problem with zero degrees of freedom that may be initialized and solved:"
   ]
  },
  {
   "cell_type": "code",
   "execution_count": 6,
   "metadata": {},
   "outputs": [
    {
     "name": "stdout",
     "output_type": "stream",
     "text": [
      "The DOF is 0\n"
     ]
    }
   ],
   "source": [
    "# Unit design variables\n",
    "m.fs.heat_exchanger.area.fix(100) # m2\n",
    "m.fs.heat_exchanger.heat_transfer_coefficient.fix(200) # W/m2/K\n",
    "m.fs.heat_exchanger.effectiveness.fix(0.7) # dimensionless\n",
    "\n",
    "m.fs.heat_exchanger.hot_side.deltaP.fix(-2000) # Pa\n",
    "m.fs.heat_exchanger.cold_side.deltaP.fix(-2000) # Pa\n",
    "\n",
    "# Call the degrees_of_freedom function, get final DOF\n",
    "DOF_final = degrees_of_freedom(m)\n",
    "print(\"The DOF is {0}\".format(DOF_final))"
   ]
  },
  {
   "cell_type": "code",
   "execution_count": 7,
   "metadata": {
    "tags": [
     "testing"
    ]
   },
   "outputs": [],
   "source": [
    "assert DOF_final == 0"
   ]
  },
  {
   "cell_type": "markdown",
   "metadata": {},
   "source": [
    "Now that the problem is square (zero degress of freedom), we can initialize and solve the full model:"
   ]
  },
  {
   "cell_type": "code",
   "execution_count": 8,
   "metadata": {},
   "outputs": [
    {
     "name": "stdout",
     "output_type": "stream",
     "text": [
      "2022-11-07 08:51:00 [INFO] idaes.init.fs.heat_exchanger.hot_side.properties_in: Starting initialization\n",
      "2022-11-07 08:51:01 [INFO] idaes.init.fs.heat_exchanger.hot_side.properties_in: Property initialization: optimal - Optimal Solution Found.\n",
      "2022-11-07 08:51:01 [INFO] idaes.init.fs.heat_exchanger.hot_side.properties_out: Starting initialization\n",
      "2022-11-07 08:51:01 [INFO] idaes.init.fs.heat_exchanger.hot_side.properties_out: Property initialization: optimal - Optimal Solution Found.\n",
      "2022-11-07 08:51:01 [INFO] idaes.init.fs.heat_exchanger.hot_side: Initialization Complete\n",
      "2022-11-07 08:51:01 [INFO] idaes.init.fs.heat_exchanger.cold_side.properties_in: Starting initialization\n",
      "2022-11-07 08:51:01 [INFO] idaes.init.fs.heat_exchanger.cold_side.properties_in: Property initialization: optimal - Optimal Solution Found.\n",
      "2022-11-07 08:51:01 [INFO] idaes.init.fs.heat_exchanger.cold_side.properties_out: Starting initialization\n",
      "2022-11-07 08:51:01 [INFO] idaes.init.fs.heat_exchanger.cold_side.properties_out: Property initialization: optimal - Optimal Solution Found.\n",
      "2022-11-07 08:51:01 [INFO] idaes.init.fs.heat_exchanger.cold_side: Initialization Complete\n",
      "2022-11-07 08:51:02 [INFO] idaes.init.fs.heat_exchanger: Initialization Completed, optimal - Optimal Solution Found\n",
      "Ipopt 3.13.2: nlp_scaling_method=gradient-based\n",
      "tol=1e-06\n",
      "\n",
      "\n",
      "******************************************************************************\n",
      "This program contains Ipopt, a library for large-scale nonlinear optimization.\n",
      " Ipopt is released as open source code under the Eclipse Public License (EPL).\n",
      "         For more information visit http://projects.coin-or.org/Ipopt\n",
      "\n",
      "This version of Ipopt was compiled from source code available at\n",
      "    https://github.com/IDAES/Ipopt as part of the Institute for the Design of\n",
      "    Advanced Energy Systems Process Systems Engineering Framework (IDAES PSE\n",
      "    Framework) Copyright (c) 2018-2019. See https://github.com/IDAES/idaes-pse.\n",
      "\n",
      "This version of Ipopt was compiled using HSL, a collection of Fortran codes\n",
      "    for large-scale scientific computation.  All technical papers, sales and\n",
      "    publicity material resulting from use of the HSL codes within IPOPT must\n",
      "    contain the following acknowledgement:\n",
      "        HSL, a collection of Fortran codes for large-scale scientific\n",
      "        computation. See http://www.hsl.rl.ac.uk.\n",
      "******************************************************************************\n",
      "\n",
      "This is Ipopt version 3.13.2, running with linear solver ma27.\n",
      "\n",
      "Number of nonzeros in equality constraint Jacobian...:      575\n",
      "Number of nonzeros in inequality constraint Jacobian.:        0\n",
      "Number of nonzeros in Lagrangian Hessian.............:      416\n",
      "\n",
      "Total number of variables............................:      122\n",
      "                     variables with only lower bounds:       28\n",
      "                variables with lower and upper bounds:       76\n",
      "                     variables with only upper bounds:        0\n",
      "Total number of equality constraints.................:      122\n",
      "Total number of inequality constraints...............:        0\n",
      "        inequality constraints with only lower bounds:        0\n",
      "   inequality constraints with lower and upper bounds:        0\n",
      "        inequality constraints with only upper bounds:        0\n",
      "\n",
      "iter    objective    inf_pr   inf_du lg(mu)  ||d||  lg(rg) alpha_du alpha_pr  ls\n",
      "   0  0.0000000e+00 4.33e+02 1.00e+00  -1.0 0.00e+00    -  0.00e+00 0.00e+00   0\n",
      "   1  0.0000000e+00 8.16e+00 2.63e+01  -1.0 1.01e-02    -  9.90e-01 9.81e-01h  1\n",
      "   2  0.0000000e+00 7.34e-02 3.03e+01  -1.0 4.29e-04    -  9.90e-01 9.91e-01h  1\n",
      "   3  0.0000000e+00 1.23e-09 4.64e+02  -1.0 3.96e-06    -  9.91e-01 1.00e+00h  1\n",
      "\n",
      "Number of Iterations....: 3\n",
      "\n",
      "                                   (scaled)                 (unscaled)\n",
      "Objective...............:   0.0000000000000000e+00    0.0000000000000000e+00\n",
      "Dual infeasibility......:   0.0000000000000000e+00    0.0000000000000000e+00\n",
      "Constraint violation....:   2.8481761900327215e-12    1.2262262316653505e-09\n",
      "Complementarity.........:   0.0000000000000000e+00    0.0000000000000000e+00\n",
      "Overall NLP error.......:   2.8481761900327215e-12    1.2262262316653505e-09\n",
      "\n",
      "\n",
      "Number of objective function evaluations             = 4\n",
      "Number of objective gradient evaluations             = 4\n",
      "Number of equality constraint evaluations            = 4\n",
      "Number of inequality constraint evaluations          = 0\n",
      "Number of equality constraint Jacobian evaluations   = 4\n",
      "Number of inequality constraint Jacobian evaluations = 0\n",
      "Number of Lagrangian Hessian evaluations             = 3\n",
      "Total CPU secs in IPOPT (w/o function evaluations)   =      0.003\n",
      "Total CPU secs in NLP function evaluations           =      0.001\n",
      "\n",
      "EXIT: Optimal Solution Found.\n",
      "\n",
      "====================================================================================\n",
      "Unit : fs.heat_exchanger                                                   Time: 0.0\n",
      "------------------------------------------------------------------------------------\n",
      "    Stream Table\n",
      "                                Units       Hot Inlet  Hot Outlet  Cold Inlet  Cold Outlet\n",
      "    Total Molar Flowrate     mole / second     60.549      60.549      63.019      63.019 \n",
      "    Total Mole Fraction H2O  dimensionless    0.87470     0.87470     0.85090     0.85090 \n",
      "    Total Mole Fraction MEA  dimensionless    0.10950     0.10950     0.10770     0.10770 \n",
      "    Total Mole Fraction CO2  dimensionless   0.015800    0.015800    0.041400    0.041400 \n",
      "    Temperature                     kelvin     392.23      344.00      326.36      374.33 \n",
      "    Pressure                        pascal 2.0265e+05  2.0065e+05  2.0265e+05  2.0065e+05 \n",
      "====================================================================================\n"
     ]
    }
   ],
   "source": [
    "#Initialize the flowsheet, and set the output at WARNING\n",
    "m.fs.heat_exchanger.initialize()\n",
    "\n",
    "#Solve the simulation using ipopt\n",
    "#Note: If the degrees of freedom = 0, we have a square problem\n",
    "opt = get_solver()\n",
    "solve_status = opt.solve(m, tee = True)\n",
    "\n",
    "#Display a readable report\n",
    "m.fs.heat_exchanger.report()"
   ]
  },
  {
   "cell_type": "code",
   "execution_count": 9,
   "metadata": {
    "tags": [
     "testing"
    ]
   },
   "outputs": [],
   "source": [
    "from pyomo.environ import assert_optimal_termination\n",
    "import pytest\n",
    "\n",
    "# Check if termination condition is optimal\n",
    "assert_optimal_termination(solve_status)\n",
    "\n",
    "assert value(m.fs.heat_exchanger.hot_side_outlet.temperature[0]) == pytest.approx(344.00, abs=1e-2)\n",
    "assert value(m.fs.heat_exchanger.cold_side_outlet.temperature[0]) == pytest.approx(374.33, abs=1e-2)"
   ]
  },
  {
   "cell_type": "markdown",
   "metadata": {},
   "source": [
    "### Option 2: Unfix shell length  and fix shell outlet temperatures\n",
    "\n",
    "In the previous case, we fixed the heat exchanger area and overall heat transfer coefficient. However, given that the models in IDAES are equation oriented, we can fix the outlet variables. For example, we can fix the hot outlet temperature and heat exchanger length, and solve for the heat exchanger area and effectiveness factor that will satisfy that condition.\n"
   ]
  },
  {
   "cell_type": "code",
   "execution_count": 10,
   "metadata": {},
   "outputs": [
    {
     "name": "stdout",
     "output_type": "stream",
     "text": [
      "The DOF is 0\n"
     ]
    }
   ],
   "source": [
    "m.fs.heat_exchanger.effectiveness.unfix()\n",
    "m.fs.heat_exchanger.area.unfix()\n",
    "m.fs.heat_exchanger.hot_side_outlet.temperature.fix(344.0)\n",
    "\n",
    "# Call the degrees_of_freedom function, get final DOF\n",
    "DOF_final = degrees_of_freedom(m)\n",
    "print(\"The DOF is {0}\".format(DOF_final))"
   ]
  },
  {
   "cell_type": "code",
   "execution_count": 11,
   "metadata": {},
   "outputs": [
    {
     "name": "stdout",
     "output_type": "stream",
     "text": [
      "\n",
      "Problem: \n",
      "- Lower bound: -inf\n",
      "  Upper bound: inf\n",
      "  Number of objectives: 1\n",
      "  Number of constraints: 122\n",
      "  Number of variables: 122\n",
      "  Sense: unknown\n",
      "Solver: \n",
      "- Status: ok\n",
      "  Message: Ipopt 3.13.2\\x3a Optimal Solution Found\n",
      "  Termination condition: optimal\n",
      "  Id: 0\n",
      "  Error rc: 0\n",
      "  Time: 0.15059661865234375\n",
      "Solution: \n",
      "- number of solutions: 0\n",
      "  number of solutions displayed: 0\n",
      "\n",
      "\n",
      "====================================================================================\n",
      "Unit : fs.heat_exchanger                                                   Time: 0.0\n",
      "------------------------------------------------------------------------------------\n",
      "    Stream Table\n",
      "                                Units       Hot Inlet  Hot Outlet  Cold Inlet  Cold Outlet\n",
      "    Total Molar Flowrate     mole / second     60.549      60.549      63.019      63.019 \n",
      "    Total Mole Fraction H2O  dimensionless    0.87470     0.87470     0.85090     0.85090 \n",
      "    Total Mole Fraction MEA  dimensionless    0.10950     0.10950     0.10770     0.10770 \n",
      "    Total Mole Fraction CO2  dimensionless   0.015800    0.015800    0.041400    0.041400 \n",
      "    Temperature                     kelvin     392.23      344.00      326.36      374.33 \n",
      "    Pressure                        pascal 2.0265e+05  2.0065e+05  2.0265e+05  2.0065e+05 \n",
      "====================================================================================\n"
     ]
    }
   ],
   "source": [
    "result = opt.solve(m)\n",
    "\n",
    "print(result)\n",
    "\n",
    "#Display a readable report\n",
    "m.fs.heat_exchanger.report()"
   ]
  },
  {
   "cell_type": "code",
   "execution_count": 12,
   "metadata": {},
   "outputs": [],
   "source": [
    "# Check if termination condition is optimal\n",
    "assert_optimal_termination(result)\n",
    "\n",
    "assert value(m.fs.heat_exchanger.area) == pytest.approx(100, abs=1e-2)\n",
    "assert value(m.fs.heat_exchanger.effectiveness[0]) == pytest.approx(0.7, abs=1e-2)\n",
    "assert value(m.fs.heat_exchanger.cold_side_outlet.temperature[0]) == pytest.approx(\n",
    "    374.33, rel=1e-3)"
   ]
  },
  {
   "cell_type": "code",
   "execution_count": null,
   "metadata": {},
   "outputs": [],
   "source": []
  }
 ],
 "metadata": {
  "celltoolbar": "Tags",
  "kernelspec": {
   "display_name": "Python 3 (ipykernel)",
   "language": "python",
   "name": "python3"
  },
  "language_info": {
   "codemirror_mode": {
    "name": "ipython",
    "version": 3
   },
   "file_extension": ".py",
   "mimetype": "text/x-python",
   "name": "python",
   "nbconvert_exporter": "python",
   "pygments_lexer": "ipython3",
   "version": "3.8.12"
  }
 },
 "nbformat": 4,
 "nbformat_minor": 2
}
