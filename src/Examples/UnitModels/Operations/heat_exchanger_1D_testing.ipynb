{
 "cells": [
  {
   "cell_type": "markdown",
   "metadata": {},
   "source": [
    "# Heat Exchanger 1D Unit Model with Ideal & IAPWS Property Package\n",
    "\n",
    "![](heat_exchanger_4.svg)\n",
    "\n",
    "**Problem Statement**: In this example, we will be heating a benzene-toluene mixture using steam. \n",
    "\n",
    "**Tube Side Inlet**\n",
    "\n",
    "Flow Rate = 250 mol/s\n",
    "\n",
    "Mole fraction (Benzene) = 0.4\n",
    "\n",
    "Mole fraction (Toluene) = 0.6\n",
    "\n",
    "Pressure = 101325 Pa\n",
    "\n",
    "Temperature = 350 K\n",
    "\n",
    "**Shell Side Inlet**\n",
    "\n",
    "Flow Rate = 100 mol/s\n",
    "\n",
    "Mole fraction (Steam) = 1\n",
    "\n",
    "Pressure = 101325 Pa\n",
    "\n",
    "Temperature = 450 K\n",
    "\n",
    "This example will demonstrate the simulation of the 1D heat exchanger by fixing any 7 of the following degrees of freedom:\n",
    "- two of shell length, diameter, and area\n",
    "- two of tube length, diameter, and area\n",
    "- number of tubes\n",
    "- wall temperature (at all spatial points)\n",
    "- heat transfer coefficient (at all spatial points, for both shell and tube)\n",
    "\n",
    "\n",
    "IDAES documentation reference for heat exchanger 1D model: https://idaes-pse.readthedocs.io/en/latest/technical_specs/model_libraries/generic/unit_models/heat_exchanger_1D.html"
   ]
  },
  {
   "cell_type": "markdown",
   "metadata": {},
   "source": [
    "**Setting up the problem in IDAES**"
   ]
  },
  {
   "cell_type": "code",
   "execution_count": 1,
   "metadata": {
    "scrolled": true
   },
   "outputs": [
    {
     "name": "stdout",
     "output_type": "stream",
     "text": [
      "2022-03-03 13:46:45 [WARNING] idaes.generic_models.properties.core.pure.Perrys: DEPRECATED - fs.properties_tube.benzene dens_mol_liq_comp_coeff index 'eqn_type' should be specified, defaulting to equation form 1.\n",
      "2022-03-03 13:46:45 [WARNING] idaes.generic_models.properties.core.pure.Perrys: DEPRECATED - fs.properties_tube.toluene dens_mol_liq_comp_coeff index 'eqn_type' should be specified, defaulting to equation form 1.\n"
     ]
    }
   ],
   "source": [
    "# Import pyomo package \n",
    "from pyomo.environ import ConcreteModel, SolverFactory, Constraint, value, units\n",
    "\n",
    "# Import idaes logger to set output levels\n",
    "import idaes.logger as idaeslog\n",
    "\n",
    "# Import the main FlowsheetBlock from IDAES. The flowsheet block will contain the unit model\n",
    "from idaes.core import FlowsheetBlock\n",
    "\n",
    "#import the BTX property package to create a properties block for the flowsheet\n",
    "from idaes.generic_models.properties.activity_coeff_models import BTX_activity_coeff_VLE\n",
    "\n",
    "# Import the IAPWS property package to create a properties block for the flowsheet\n",
    "from idaes.generic_models.properties import iapws95\n",
    "\n",
    "from idaes.generic_models.properties.iapws95 import htpx\n",
    "\n",
    "from idaes.generic_models.properties.core.generic.generic_property import (\n",
    "        GenericParameterBlock)\n",
    "\n",
    "from idaes.generic_models.properties.core.examples.BT_ideal \\\n",
    "    import configuration\n",
    "\n",
    "#Import the degrees_of_freedom function from the idaes.core.util.model_statistics package\n",
    "from idaes.core.util.model_statistics import degrees_of_freedom\n",
    "\n",
    "#Import a heat exchanger unit\n",
    "from idaes.generic_models.unit_models.heat_exchanger_1D import (HeatExchanger1D,\n",
    "                                                                HeatExchangerFlowPattern,\n",
    "                                                                WallConductionType)\n",
    "\n",
    "#Create the ConcreteModel and the FlowsheetBlock, and attach the flowsheet block to it.\n",
    "m = ConcreteModel()\n",
    "\n",
    "# Steady State Model\n",
    "m.fs = FlowsheetBlock(default={\"dynamic\": False})\n",
    "\n",
    "# Setup property packages for shell and tube side\n",
    "# Steam property package\n",
    "m.fs.properties_shell = iapws95.Iapws95ParameterBlock()\n",
    "\n",
    "# BT ideal property package\n",
    "m.fs.properties_tube = GenericParameterBlock(default=configuration)"
   ]
  },
  {
   "cell_type": "markdown",
   "metadata": {},
   "source": [
    "In the [0D Heat Exchanger model example](http://localhost:8888/notebooks/GitHub/examples-pse/src/Examples/UnitModels/Operations/heat_exchanger_0D_testing.ipynb), geometry effects are ignored in favor of temperature gradients to calculate heat transfer. Here, we need to specify discretization, a flow configuration and wall conduction assumption. We specify the one-dimensional spatial discretization to use backwards finite difference approximations with 20 finite elements - these are the defaults if none are specified explicitly, and the shell and tube domains may be discretized differently if desired. The domains must use the same number of finite elements, as the exchanger is linear and the elements directly correspond according to the selected flow pattern.\n",
    "\n",
    "The 1D Heat Exchanger supports the following options:\n",
    "\n",
    "- Flow Configuration\n",
    "    - HeatExchangerFlowPattern.cocurrent. Shell and tube flow in parallel, tube inlet transfers with shell inlet and similar with outlets, and temperature difference is greatest at the flow inlets (default).\n",
    "    - HeatExchangerFlowPattern.countercurrent. Sshell and tube flow in anti-parallel, tube inlet transfers with shell outlet and vice versa, and temperature difference changes minimally along the exchanger length.\n",
    "- Wall Conduction Assumption\n",
    "    - WallConductionType.zero_dimensional. 0D wall model (default).\n",
    "    - WallConductionType.one_dimensional. 1D wall model along the thickness of the tube (not currently supported in IDAES)\n",
    "    - WallConductionType.two_dimensional. 2D wall model along the length and thickness of the tube (not currently supported in IDAES)"
   ]
  },
  {
   "cell_type": "code",
   "execution_count": 2,
   "metadata": {},
   "outputs": [
    {
     "name": "stdout",
     "output_type": "stream",
     "text": [
      "The initial DOF is 56\n"
     ]
    }
   ],
   "source": [
    "#Create an instance of the heat exchanger unit, attaching it to the flowsheet\n",
    "#Specify that the property package to be used with the heater is the one we created earlier.\n",
    "m.fs.heat_exchanger = HeatExchanger1D(default={\n",
    "        \"shell_side\":{\"property_package\": m.fs.properties_shell,\n",
    "                      \"transformation_method\": \"dae.finite_difference\",\n",
    "                      \"transformation_scheme\": \"BACKWARD\"},\n",
    "        \"tube_side\":{\"property_package\": m.fs.properties_tube,\n",
    "                     \"transformation_method\": \"dae.finite_difference\",\n",
    "                     \"transformation_scheme\": \"BACKWARD\"},\n",
    "        \"finite_elements\": 20,\n",
    "        \"flow_type\": HeatExchangerFlowPattern.cocurrent,\n",
    "        \"has_wall_conduction\": WallConductionType.zero_dimensional})\n",
    "\n",
    "# Call the degrees_of_freedom function, get initial DOF\n",
    "DOF_initial = degrees_of_freedom(m)\n",
    "print(\"The initial DOF is {0}\".format(DOF_initial))\n",
    "\n"
   ]
  },
  {
   "cell_type": "code",
   "execution_count": 3,
   "metadata": {
    "tags": [
     "testing"
    ]
   },
   "outputs": [],
   "source": [
    "assert DOF_initial == 56"
   ]
  },
  {
   "cell_type": "code",
   "execution_count": 4,
   "metadata": {},
   "outputs": [
    {
     "name": "stdout",
     "output_type": "stream",
     "text": [
      "The DOF is 53\n"
     ]
    }
   ],
   "source": [
    "h = htpx(450*units.K, P = 101325*units.Pa)\n",
    "\n",
    "#Fix the inlet conditions\n",
    "m.fs.heat_exchanger.shell_inlet.flow_mol.fix(100) #mol/s\n",
    "m.fs.heat_exchanger.shell_inlet.pressure.fix(101325)\n",
    "m.fs.heat_exchanger.shell_inlet.enth_mol.fix(h) #J/mol\n",
    "\n",
    "DOF_initial = degrees_of_freedom(m)\n",
    "print(\"The DOF is {0}\".format(DOF_initial))\n"
   ]
  },
  {
   "cell_type": "code",
   "execution_count": 5,
   "metadata": {},
   "outputs": [
    {
     "name": "stdout",
     "output_type": "stream",
     "text": [
      "The DOF is 48\n"
     ]
    }
   ],
   "source": [
    "m.fs.heat_exchanger.tube_inlet.flow_mol.fix(250)# mol/s\n",
    "m.fs.heat_exchanger.tube_inlet.mole_frac_comp[0, \"benzene\"].fix(0.4)\n",
    "m.fs.heat_exchanger.tube_inlet.mole_frac_comp[0, \"toluene\"].fix(0.6)\n",
    "m.fs.heat_exchanger.tube_inlet.pressure.fix(101325) #Pa\n",
    "m.fs.heat_exchanger.tube_inlet.temperature[0].fix(350)#K\n",
    "\n",
    "# Call the degrees_of_freedom function, get final DOF\n",
    "DOF_final = degrees_of_freedom(m)\n",
    "print(\"The DOF is {0}\".format(DOF_final))"
   ]
  },
  {
   "cell_type": "markdown",
   "metadata": {},
   "source": [
    "### Option 1: Fix HTC and dimensions of each domain\n"
   ]
  },
  {
   "cell_type": "code",
   "execution_count": 6,
   "metadata": {},
   "outputs": [
    {
     "name": "stdout",
     "output_type": "stream",
     "text": [
      "The DOF is 0\n"
     ]
    }
   ],
   "source": [
    "m.fs.heat_exchanger.d_shell.fix(1.04) #m\n",
    "m.fs.heat_exchanger.d_tube_outer.fix(0.01167) #m\n",
    "m.fs.heat_exchanger.d_tube_inner.fix(0.01067) #m\n",
    "m.fs.heat_exchanger.N_tubes.fix(10) #dimensionless\n",
    "m.fs.heat_exchanger.shell_length.fix(4.85) #m\n",
    "m.fs.heat_exchanger.tube_length.fix(4.85) #m\n",
    "m.fs.heat_exchanger.shell_heat_transfer_coefficient.fix(2000) #W/m2/K\n",
    "m.fs.heat_exchanger.tube_heat_transfer_coefficient.fix(51000) #W/m2/K\n",
    "\n",
    "# Call the degrees_of_freedom function, get final DOF\n",
    "DOF_final = degrees_of_freedom(m)\n",
    "print(\"The DOF is {0}\".format(DOF_final))"
   ]
  },
  {
   "cell_type": "code",
   "execution_count": 7,
   "metadata": {
    "tags": [
     "testing"
    ]
   },
   "outputs": [],
   "source": [
    "assert DOF_final == 0"
   ]
  },
  {
   "cell_type": "code",
   "execution_count": 8,
   "metadata": {},
   "outputs": [
    {
     "name": "stdout",
     "output_type": "stream",
     "text": [
      "2022-03-03 13:46:46 [INFO] idaes.init.fs.heat_exchanger.shell: Initialization Complete\n",
      "2022-03-03 13:46:46 [INFO] idaes.init.fs.heat_exchanger.tube.properties: Starting initialization\n",
      "2022-03-03 13:46:47 [INFO] idaes.init.fs.heat_exchanger.tube.properties: Dew and bubble point initialization: optimal - Optimal Solution Found.\n",
      "2022-03-03 13:46:47 [INFO] idaes.init.fs.heat_exchanger.tube.properties: Equilibrium temperature initialization completed.\n",
      "2022-03-03 13:46:47 [INFO] idaes.init.fs.heat_exchanger.tube.properties: Phase equilibrium initialization: optimal - Optimal Solution Found.\n",
      "2022-03-03 13:46:47 [INFO] idaes.init.fs.heat_exchanger.tube.properties: Property initialization: optimal - Optimal Solution Found.\n",
      "2022-03-03 13:46:47 [INFO] idaes.init.fs.heat_exchanger.tube: Initialization Complete\n",
      "2022-03-03 13:46:49 [INFO] idaes.init.fs.heat_exchanger: Initialization Complete.\n",
      "Ipopt 3.13.2: \n",
      "\n",
      "******************************************************************************\n",
      "This program contains Ipopt, a library for large-scale nonlinear optimization.\n",
      " Ipopt is released as open source code under the Eclipse Public License (EPL).\n",
      "         For more information visit http://projects.coin-or.org/Ipopt\n",
      "\n",
      "This version of Ipopt was compiled from source code available at\n",
      "    https://github.com/IDAES/Ipopt as part of the Institute for the Design of\n",
      "    Advanced Energy Systems Process Systems Engineering Framework (IDAES PSE\n",
      "    Framework) Copyright (c) 2018-2019. See https://github.com/IDAES/idaes-pse.\n",
      "\n",
      "This version of Ipopt was compiled using HSL, a collection of Fortran codes\n",
      "    for large-scale scientific computation.  All technical papers, sales and\n",
      "    publicity material resulting from use of the HSL codes within IPOPT must\n",
      "    contain the following acknowledgement:\n",
      "        HSL, a collection of Fortran codes for large-scale scientific\n",
      "        computation. See http://www.hsl.rl.ac.uk.\n",
      "******************************************************************************\n",
      "\n",
      "This is Ipopt version 3.13.2, running with linear solver ma27.\n",
      "\n",
      "Number of nonzeros in equality constraint Jacobian...:     2947\n",
      "Number of nonzeros in inequality constraint Jacobian.:        0\n",
      "Number of nonzeros in Lagrangian Hessian.............:      956\n",
      "\n",
      "Total number of variables............................:      929\n",
      "                     variables with only lower bounds:      126\n",
      "                variables with lower and upper bounds:      308\n",
      "                     variables with only upper bounds:        0\n",
      "Total number of equality constraints.................:      929\n",
      "Total number of inequality constraints...............:        0\n",
      "        inequality constraints with only lower bounds:        0\n",
      "   inequality constraints with lower and upper bounds:        0\n",
      "        inequality constraints with only upper bounds:        0\n",
      "\n",
      "iter    objective    inf_pr   inf_du lg(mu)  ||d||  lg(rg) alpha_du alpha_pr  ls\n",
      "   0  0.0000000e+00 7.51e+02 1.00e+00  -1.0 0.00e+00    -  0.00e+00 0.00e+00   0\n",
      "   1  0.0000000e+00 7.50e+00 7.15e-01  -1.0 1.21e-02    -  9.90e-01 9.90e-01h  1\n",
      "   2  0.0000000e+00 6.00e-02 2.00e+00  -1.0 1.22e-04    -  9.90e-01 9.92e-01h  1\n",
      "   3  0.0000000e+00 2.56e-08 9.98e+02  -1.0 9.45e-07    -  9.90e-01 1.00e+00h  1\n",
      "   4  0.0000000e+00 2.74e-08 3.92e+03  -1.0 1.25e-07    -  9.90e-01 1.00e+00h  1\n",
      "   5  0.0000000e+00 2.73e-08 1.60e-03  -1.0 6.77e-08    -  1.00e+00 9.77e-04h 11\n",
      "   6  0.0000000e+00 2.34e-08 1.21e-08  -3.8 6.77e-08    -  1.00e+00 1.00e+00h  1\n",
      "   7  0.0000000e+00 2.48e-08 2.03e-11  -5.7 9.67e-08    -  1.00e+00 1.00e+00h  1\n",
      "   8  0.0000000e+00 2.18e-08 2.39e-13  -8.6 1.34e-07    -  1.00e+00 1.00e+00h  1\n",
      "   9  0.0000000e+00 2.86e-08 9.09e-15  -9.0 1.22e-07    -  1.00e+00 1.00e+00h  1\n",
      "iter    objective    inf_pr   inf_du lg(mu)  ||d||  lg(rg) alpha_du alpha_pr  ls\n",
      "  10  0.0000000e+00 2.86e-08 2.32e-10  -9.0 1.08e-07    -  1.00e+00 1.22e-04h 14\n",
      "  11  0.0000000e+00 2.86e-08 2.32e-10  -9.0 1.08e-07    -  1.00e+00 6.10e-05h 15\n",
      "  12  0.0000000e+00 2.86e-08 2.32e-10  -9.0 1.08e-07    -  1.00e+00 9.54e-07h 21\n",
      "\n",
      "Number of Iterations....: 12\n",
      "\n",
      "                                   (scaled)                 (unscaled)\n",
      "Objective...............:   0.0000000000000000e+00    0.0000000000000000e+00\n",
      "Dual infeasibility......:   0.0000000000000000e+00    0.0000000000000000e+00\n",
      "Constraint violation....:   2.8601789381355047e-08    2.8601789381355047e-08\n",
      "Complementarity.........:   0.0000000000000000e+00    0.0000000000000000e+00\n",
      "Overall NLP error.......:   2.8601789381355047e-08    2.8601789381355047e-08\n",
      "\n",
      "\n",
      "Number of objective function evaluations             = 96\n",
      "Number of objective gradient evaluations             = 14\n",
      "Number of equality constraint evaluations            = 96\n",
      "Number of inequality constraint evaluations          = 0\n",
      "Number of equality constraint Jacobian evaluations   = 14\n",
      "Number of inequality constraint Jacobian evaluations = 0\n",
      "Number of Lagrangian Hessian evaluations             = 13\n",
      "Total CPU secs in IPOPT (w/o function evaluations)   =      0.081\n",
      "Total CPU secs in NLP function evaluations           =      0.286\n",
      "\n",
      "EXIT: Solved To Acceptable Level.\n",
      "\n",
      "====================================================================================\n",
      "Unit : fs.heat_exchanger                                                   Time: 0.0\n",
      "------------------------------------------------------------------------------------\n",
      "    Unit Performance\n",
      "\n",
      "    Variables: \n",
      "\n",
      "    Key                 : Value      : Fixed : Bounds\n",
      "        Number of Tubes :     10.000 :  True : (None, None)\n",
      "             Shell Area :    0.84842 : False : (None, None)\n",
      "         Shell Diameter :     1.0400 :  True : (None, None)\n",
      "           Shell Length :     4.8500 :  True : (None, None)\n",
      "              Tube Area : 8.9417e-05 : False : (None, None)\n",
      "    Tube Inner Diameter :   0.010670 :  True : (None, None)\n",
      "            Tube Length :     4.8500 :  True : (None, None)\n",
      "    Tube Outer Diameter :   0.011670 :  True : (None, None)\n",
      "\n",
      "------------------------------------------------------------------------------------\n",
      "    Stream Table\n",
      "                                Shell Inlet Shell Outlet Tube Inlet Tube Outlet\n",
      "    Molar Flow (mol/s)                100        100.00         -             -\n",
      "    Mass Flow (kg/s)               1.8015        1.8015         -             -\n",
      "    T (K)                          450.00        400.60         -             -\n",
      "    P (Pa)                         101325    1.0132e+05         -             -\n",
      "    Vapor Fraction                 1.0000        1.0000         -             -\n",
      "    Molar Enthalpy (J/mol) Vap     50977.        49209.         -             -\n",
      "    Molar Enthalpy (J/mol) Liq     13489.        9645.6         -             -\n",
      "    Total Molar Flowrate                -             -       250        250.00\n",
      "    Total Mole Fraction benzene         -             -   0.40000       0.40000\n",
      "    Total Mole Fraction toluene         -             -   0.60000       0.60000\n",
      "    Temperature                         -             -       350        368.39\n",
      "    Pressure                            -             -    101325    1.0132e+05\n",
      "====================================================================================\n"
     ]
    }
   ],
   "source": [
    "#Initialize the flowsheet, and set the output at WARNING\n",
    "m.fs.heat_exchanger.initialize()\n",
    "\n",
    "#Solve the simulation using ipopt\n",
    "#Note: If the degrees of freedom = 0, we have a square problem\n",
    "opt = SolverFactory('ipopt')\n",
    "solve_status = opt.solve(m, tee = True)\n",
    "\n",
    "#Display a readable report\n",
    "m.fs.heat_exchanger.report()"
   ]
  },
  {
   "cell_type": "code",
   "execution_count": 9,
   "metadata": {
    "tags": [
     "testing"
    ]
   },
   "outputs": [],
   "source": [
    "from pyomo.opt import TerminationCondition, SolverStatus\n",
    "import pytest\n",
    "\n",
    "# Check if termination condition is optimal\n",
    "assert solve_status.solver.termination_condition == TerminationCondition.optimal\n",
    "assert solve_status.solver.status == SolverStatus.ok\n",
    "\n",
    "assert value(m.fs.heat_exchanger.shell.properties[0.0, 1.0].temperature) == pytest.approx(400.60, abs=1e-2)\n",
    "assert value(m.fs.heat_exchanger.tube_outlet.temperature[0]) == pytest.approx(368.39, abs=1e-2)\n"
   ]
  },
  {
   "cell_type": "markdown",
   "metadata": {},
   "source": [
    "### Option 2: Unfix shell length  and fix shell outlet temperatures\n",
    "\n",
    "In the previous example, we fixed the heat exchanger area and overall heat transfer coefficient. However, given that the models in IDAES are equation oriented, we can fix the outlet variables. For example, we can fix the shell outlet temperature and heat exchanger diameter, and solve for the heat exchanger shell length that will satisfy that condition.\n"
   ]
  },
  {
   "cell_type": "code",
   "execution_count": 10,
   "metadata": {},
   "outputs": [
    {
     "name": "stdout",
     "output_type": "stream",
     "text": [
      "0\n"
     ]
    }
   ],
   "source": [
    "m.fs.heat_exchanger.shell_length.unfix()\n",
    "m.fs.heat_exchanger.shell_outlet.enth_mol.fix(htpx(400*units.K, P = 101325*units.Pa))\n",
    "print(degrees_of_freedom(m))"
   ]
  },
  {
   "cell_type": "code",
   "execution_count": 11,
   "metadata": {},
   "outputs": [
    {
     "name": "stdout",
     "output_type": "stream",
     "text": [
      "\n",
      "Problem: \n",
      "- Lower bound: -inf\n",
      "  Upper bound: inf\n",
      "  Number of objectives: 1\n",
      "  Number of constraints: 929\n",
      "  Number of variables: 929\n",
      "  Sense: unknown\n",
      "Solver: \n",
      "- Status: ok\n",
      "  Message: Ipopt 3.13.2\\x3a Solved To Acceptable Level.\n",
      "  Termination condition: optimal\n",
      "  Id: 1\n",
      "  Error rc: 0\n",
      "  Time: 0.44794678688049316\n",
      "Solution: \n",
      "- number of solutions: 0\n",
      "  number of solutions displayed: 0\n",
      "\n",
      "\n",
      "====================================================================================\n",
      "Unit : fs.heat_exchanger                                                   Time: 0.0\n",
      "------------------------------------------------------------------------------------\n",
      "    Unit Performance\n",
      "\n",
      "    Variables: \n",
      "\n",
      "    Key                 : Value      : Fixed : Bounds\n",
      "        Number of Tubes :     10.000 :  True : (None, None)\n",
      "             Shell Area :    0.84842 : False : (None, None)\n",
      "         Shell Diameter :     1.0400 :  True : (None, None)\n",
      "           Shell Length :     4.9515 : False : (None, None)\n",
      "              Tube Area : 8.9417e-05 : False : (None, None)\n",
      "    Tube Inner Diameter :   0.010670 :  True : (None, None)\n",
      "            Tube Length :     4.8500 :  True : (None, None)\n",
      "    Tube Outer Diameter :   0.011670 :  True : (None, None)\n",
      "\n",
      "------------------------------------------------------------------------------------\n",
      "    Stream Table\n",
      "                                Shell Inlet Shell Outlet Tube Inlet Tube Outlet\n",
      "    Molar Flow (mol/s)                100        100.00         -             -\n",
      "    Mass Flow (kg/s)               1.8015        1.8015         -             -\n",
      "    T (K)                          450.00        400.00         -             -\n",
      "    P (Pa)                         101325    1.0132e+05         -             -\n",
      "    Vapor Fraction                 1.0000        1.0000         -             -\n",
      "    Molar Enthalpy (J/mol) Vap     50977.        49187.         -             -\n",
      "    Molar Enthalpy (J/mol) Liq     13489.        9599.5         -             -\n",
      "    Total Molar Flowrate                -             -       250        250.00\n",
      "    Total Mole Fraction benzene         -             -   0.40000       0.40000\n",
      "    Total Mole Fraction toluene         -             -   0.60000       0.60000\n",
      "    Temperature                         -             -       350        368.39\n",
      "    Pressure                            -             -    101325    1.0132e+05\n",
      "====================================================================================\n"
     ]
    }
   ],
   "source": [
    "result = opt.solve(m)\n",
    "\n",
    "print(result)\n",
    "\n",
    "#Display a readable report\n",
    "m.fs.heat_exchanger.report()"
   ]
  },
  {
   "cell_type": "code",
   "execution_count": 12,
   "metadata": {
    "tags": [
     "testing"
    ]
   },
   "outputs": [],
   "source": [
    "# Check if termination condition is optimal\n",
    "assert solve_status.solver.termination_condition == TerminationCondition.optimal\n",
    "assert solve_status.solver.status == SolverStatus.ok\n",
    "\n",
    "assert value(m.fs.heat_exchanger.shell_length) == pytest.approx(4.95, abs=1e-2)\n",
    "assert value(m.fs.heat_exchanger.tube_outlet.temperature[0]) == pytest.approx(368.39, abs=1e-2)\n"
   ]
  },
  {
   "cell_type": "code",
   "execution_count": null,
   "metadata": {},
   "outputs": [],
   "source": []
  }
 ],
 "metadata": {
  "celltoolbar": "Tags",
  "kernelspec": {
   "display_name": "Python 3 (ipykernel)",
   "language": "python",
   "name": "python3"
  },
  "language_info": {
   "codemirror_mode": {
    "name": "ipython",
    "version": 3
   },
   "file_extension": ".py",
   "mimetype": "text/x-python",
   "name": "python",
   "nbconvert_exporter": "python",
   "pygments_lexer": "ipython3",
   "version": "3.8.5"
  }
 },
 "nbformat": 4,
 "nbformat_minor": 2
}
