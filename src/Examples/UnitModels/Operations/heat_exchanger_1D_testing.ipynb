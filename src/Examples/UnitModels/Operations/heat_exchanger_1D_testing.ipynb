{
 "cells": [
  {
   "cell_type": "markdown",
   "metadata": {},
   "source": [
    "# Heat Exchanger 1D Unit Model with Two Property Packages\n",
    "\n",
    "![](heat_exchanger_4.svg)\n",
    "\n",
    "**Problem Statement**: In this example, we will be heating a benzene-toluene mixture using steam. \n",
    "\n",
    "**Tube Side Inlet**\n",
    "\n",
    "Flow Rate = 250 mol/s\n",
    "\n",
    "Mole fraction (Benzene) = 0.4\n",
    "\n",
    "Mole fraction (Toluene) = 0.6\n",
    "\n",
    "Pressure = 101325 Pa\n",
    "\n",
    "Temperature = 350 K\n",
    "\n",
    "**Shell Side Inlet**\n",
    "\n",
    "Flow Rate = 100 mol/s\n",
    "\n",
    "Mole fraction (Steam) = 1\n",
    "\n",
    "Pressure = 101325 Pa\n",
    "\n",
    "Temperature = 450 K\n",
    "\n",
    "This example will demonstrate the simulation of the 1D heat exchanger by fixing any 7 of the following degrees of freedom:\n",
    "- two of shell length, diameter, and area\n",
    "- two of tube length, diameter, and area\n",
    "- number of tubes\n",
    "- wall temperature (at all spatial points)\n",
    "- heat transfer coefficient (at all spatial points, for both shell and tube)\n",
    "\n",
    "\n",
    "IDAES documentation reference for heat exchanger 1D model: https://idaes-pse.readthedocs.io/en/latest/reference_guides/model_libraries/generic/unit_models/heat_exchanger_1D.html\n",
    "\n",
    "This example utilizes the simple 1D heat exchanger for a shell and tube system. The IDAES library contains a more advanced `ShellAndTube1D` heat exchanger supporting a 0D wall conduction model; more details on the advanced 1D heat exchanger may be found [here](https://idaes-pse.readthedocs.io/en/latest/reference_guides/model_libraries/generic/unit_models/shell_and_tube_1d.html)."
   ]
  },
  {
   "cell_type": "markdown",
   "metadata": {},
   "source": [
    "## Setting up the problem in IDAES\n",
    "\n",
    "First, import the required IDAES and Pyomo modules. Note that the hotside (shell) and coldside (tube) properties leverage separate property packages:"
   ]
  },
  {
   "cell_type": "code",
   "execution_count": null,
   "metadata": {
    "scrolled": true
   },
   "outputs": [],
   "source": [
    "# Import pyomo package \n",
    "from pyomo.environ import ConcreteModel, Constraint, value, units\n",
    "\n",
    "# Import idaes logger to set output levels\n",
    "import idaes.logger as idaeslog\n",
    "\n",
    "# Import the main FlowsheetBlock from IDAES. The flowsheet block will contain the unit model\n",
    "from idaes.core import FlowsheetBlock\n",
    "\n",
    "# Import the IAPWS property package to create a properties block for the flowsheet\n",
    "from idaes.models.properties import iapws95\n",
    "\n",
    "from idaes.models.properties.iapws95 import htpx\n",
    "\n",
    "from idaes.models.properties.modular_properties.base.generic_property import (\n",
    "        GenericParameterBlock)\n",
    "\n",
    "from idaes.models.properties.modular_properties.examples.BT_ideal \\\n",
    "    import configuration\n",
    "\n",
    "# Import the degrees_of_freedom function from the idaes.core.util.model_statistics package\n",
    "from idaes.core.util.model_statistics import degrees_of_freedom\n",
    "\n",
    "# Import the default IPOPT solver\n",
    "from idaes.core.solvers import get_solver\n",
    "\n",
    "# Import a heat exchanger unit\n",
    "from idaes.models.unit_models.heat_exchanger_1D import (HeatExchanger1D,\n",
    "                                                        HeatExchangerFlowPattern)"
   ]
  },
  {
   "cell_type": "markdown",
   "metadata": {},
   "source": [
    "Then, build the model and flowsheet components using the imported property packages:"
   ]
  },
  {
   "cell_type": "code",
   "execution_count": null,
   "metadata": {},
   "outputs": [],
   "source": [
    "# Create the ConcreteModel and the FlowsheetBlock, and attach the flowsheet block to it.\n",
    "m = ConcreteModel()\n",
    "\n",
    "# Steady State Model\n",
    "m.fs = FlowsheetBlock(dynamic=False)\n",
    "\n",
    "# Setup property packages for shell and tube side\n",
    "# Steam property package\n",
    "m.fs.properties_shell = iapws95.Iapws95ParameterBlock()\n",
    "\n",
    "# BT ideal property package\n",
    "m.fs.properties_tube = GenericParameterBlock(**configuration)"
   ]
  },
  {
   "cell_type": "markdown",
   "metadata": {},
   "source": [
    "In the [0D Heat Exchanger model example](http://localhost:8888/notebooks/GitHub/examples-pse/src/Examples/UnitModels/Operations/heat_exchanger_0D_testing.ipynb), geometry effects are ignored in favor of temperature gradients to calculate heat transfer. Here, we need to specify discretization, a flow configuration and wall conduction assumption. We specify the one-dimensional spatial discretization to use backwards finite difference approximations with 20 finite elements - these are the defaults if none are specified explicitly, and the shell and tube domains may be discretized differently if desired. The domains must use the same number of finite elements, as the exchanger is linear and the elements directly correspond according to the selected flow pattern.\n",
    "\n",
    "The 1D Heat Exchanger supports the following flow configuration options:\n",
    "\n",
    "- HeatExchangerFlowPattern.cocurrent. Shell and tube flow in parallel, tube inlet transfers with shell inlet and similar with outlets, and temperature difference is greatest at the flow inlets (default).\n",
    "- HeatExchangerFlowPattern.countercurrent. Shell and tube flow in anti-parallel, tube inlet transfers with shell outlet and vice versa, and temperature difference changes minimally along the exchanger length.\n",
    "\n",
    "The unit is created below:"
   ]
  },
  {
   "cell_type": "code",
   "execution_count": null,
   "metadata": {},
   "outputs": [],
   "source": [
    "# Create an instance of the heat exchanger unit, attaching it to the flowsheet\n",
    "# Specify that the property packages to be used with the heat exchanger are the ones we created earlier.\n",
    "m.fs.heat_exchanger = HeatExchanger1D(\n",
    "    hot_side_name=\"shell\",\n",
    "    cold_side_name=\"tube\",\n",
    "    shell={\"property_package\": m.fs.properties_shell,\n",
    "           \"transformation_method\": \"dae.finite_difference\",\n",
    "           \"transformation_scheme\": \"BACKWARD\"},\n",
    "    tube={\"property_package\": m.fs.properties_tube,\n",
    "          \"transformation_method\": \"dae.finite_difference\",\n",
    "          \"transformation_scheme\": \"BACKWARD\"},\n",
    "    finite_elements=20,\n",
    "    flow_type=HeatExchangerFlowPattern.cocurrent)\n",
    "\n",
    "# Call the degrees_of_freedom function, get initial DOF\n",
    "DOF_initial = degrees_of_freedom(m)\n",
    "print(\"The initial DOF is {0}\".format(DOF_initial))"
   ]
  },
  {
   "cell_type": "code",
   "execution_count": null,
   "metadata": {
    "tags": [
     "testing"
    ]
   },
   "outputs": [],
   "source": [
    "assert DOF_initial == 31"
   ]
  },
  {
   "cell_type": "markdown",
   "metadata": {},
   "source": [
    "## Fixing input specifications\n",
    "For this problem, we will fix the inlet conditions and run two different options for unit specifications:"
   ]
  },
  {
   "cell_type": "code",
   "execution_count": null,
   "metadata": {},
   "outputs": [],
   "source": [
    "h = htpx(450*units.K, P = 101325*units.Pa)  # calculate IAPWS enthalpy\n",
    "\n",
    "# Fix the inlet conditions\n",
    "m.fs.heat_exchanger.hot_side_inlet.flow_mol.fix(100) # mol/s\n",
    "m.fs.heat_exchanger.hot_side_inlet.pressure.fix(101325) # Pa\n",
    "m.fs.heat_exchanger.hot_side_inlet.enth_mol.fix(h) # J/mol\n",
    "\n",
    "DOF_initial = degrees_of_freedom(m)\n",
    "print(\"The DOF is {0}\".format(DOF_initial))"
   ]
  },
  {
   "cell_type": "code",
   "execution_count": null,
   "metadata": {},
   "outputs": [],
   "source": [
    "m.fs.heat_exchanger.cold_side_inlet.flow_mol.fix(250) # mol/s\n",
    "m.fs.heat_exchanger.cold_side_inlet.mole_frac_comp[0, \"benzene\"].fix(0.4)\n",
    "m.fs.heat_exchanger.cold_side_inlet.mole_frac_comp[0, \"toluene\"].fix(0.6)\n",
    "m.fs.heat_exchanger.cold_side_inlet.pressure.fix(101325) # Pa\n",
    "m.fs.heat_exchanger.cold_side_inlet.temperature[0].fix(350) # K\n",
    "\n",
    "# Call the degrees_of_freedom function, get final DOF\n",
    "DOF_final = degrees_of_freedom(m)\n",
    "print(\"The DOF is {0}\".format(DOF_final))"
   ]
  },
  {
   "cell_type": "markdown",
   "metadata": {},
   "source": [
    "### Option 1: Fix heat transfer coefficient (HTC) and dimensions of each domain\n",
    "Below, we fix the heat exchanger area, length and heat transfer coefficient, which yields a fully defined problem for all finite elements with zero degrees of freedom that may be initialized and solved:"
   ]
  },
  {
   "cell_type": "code",
   "execution_count": null,
   "metadata": {},
   "outputs": [],
   "source": [
    "m.fs.heat_exchanger.area.fix(0.5) # m2\n",
    "m.fs.heat_exchanger.length.fix(4.85) # m\n",
    "m.fs.heat_exchanger.heat_transfer_coefficient.fix(500) # W/m2/K\n",
    "\n",
    "# Call the degrees_of_freedom function, get final DOF\n",
    "DOF_final = degrees_of_freedom(m)\n",
    "print(\"The DOF is {0}\".format(DOF_final))"
   ]
  },
  {
   "cell_type": "code",
   "execution_count": null,
   "metadata": {
    "tags": [
     "testing"
    ]
   },
   "outputs": [],
   "source": [
    "assert DOF_final == 0"
   ]
  },
  {
   "cell_type": "markdown",
   "metadata": {},
   "source": [
    "Now that the problem is square (zero degress of freedom), we can initialize and solve the full model:"
   ]
  },
  {
   "cell_type": "code",
   "execution_count": null,
   "metadata": {},
   "outputs": [],
   "source": [
    "# Initialize the flowsheet, and set the output at INFO\n",
    "m.fs.heat_exchanger.initialize(outlvl=idaeslog.INFO)\n",
    "\n",
    "# Solve the simulation using ipopt\n",
    "# Note: If the degrees of freedom = 0, we have a square problem\n",
    "opt = get_solver()\n",
    "solve_status = opt.solve(m, tee = True)\n",
    "\n",
    "# Display a readable report\n",
    "m.fs.heat_exchanger.report()"
   ]
  },
  {
   "cell_type": "code",
   "execution_count": null,
   "metadata": {
    "tags": [
     "testing"
    ]
   },
   "outputs": [],
   "source": [
    "from pyomo.environ import assert_optimal_termination\n",
    "import pytest\n",
    "\n",
    "# Check if termination condition is optimal\n",
    "assert_optimal_termination(solve_status)\n",
    "\n",
    "assert value(m.fs.heat_exchanger.hot_side_outlet.enth_mol[0]) == pytest.approx(\n",
    "    htpx(444.47*units.K, P = 101325*units.Pa), rel=1e-3)\n",
    "assert value(m.fs.heat_exchanger.cold_side_outlet.temperature[0]) == pytest.approx(\n",
    "    368.39, rel=1e-3)"
   ]
  },
  {
   "cell_type": "markdown",
   "metadata": {},
   "source": [
    "### Option 2: Unfix shell length  and fix shell outlet temperatures\n",
    "\n",
    "In the previous case, we fixed the heat exchanger area, length and overall heat transfer coefficient. However, given that the models in IDAES are equation oriented, we can fix the outlet variables. For example, we can fix the hot outlet temperature and heat exchanger length, and solve for the heat exchanger area that will satisfy that condition.\n"
   ]
  },
  {
   "cell_type": "code",
   "execution_count": null,
   "metadata": {},
   "outputs": [],
   "source": [
    "m.fs.heat_exchanger.area.unfix()\n",
    "m.fs.heat_exchanger.hot_side_outlet.enth_mol.fix(htpx(444.47*units.K, P = 101325*units.Pa))\n",
    "\n",
    "# Call the degrees_of_freedom function, get final DOF\n",
    "DOF_final = degrees_of_freedom(m)\n",
    "print(\"The DOF is {0}\".format(DOF_final))"
   ]
  },
  {
   "cell_type": "code",
   "execution_count": null,
   "metadata": {},
   "outputs": [],
   "source": [
    "result = opt.solve(m)\n",
    "\n",
    "print(result)\n",
    "\n",
    "# Display a readable report\n",
    "m.fs.heat_exchanger.report()"
   ]
  },
  {
   "cell_type": "code",
   "execution_count": null,
   "metadata": {
    "tags": [
     "testing"
    ]
   },
   "outputs": [],
   "source": [
    "# Check if termination condition is optimal\n",
    "assert_optimal_termination(result)\n",
    "\n",
    "assert value(m.fs.heat_exchanger.area) == pytest.approx(0.5, abs=1e-2)\n",
    "assert value(m.fs.heat_exchanger.cold_side_outlet.temperature[0]) == pytest.approx(\n",
    "    368.39, rel=1e-3)"
   ]
  }
 ],
 "metadata": {
  "celltoolbar": "Tags",
  "kernelspec": {
   "display_name": "Python 3 (ipykernel)",
   "language": "python",
   "name": "python3"
  },
  "language_info": {
   "codemirror_mode": {
    "name": "ipython",
    "version": 3
   },
   "file_extension": ".py",
   "mimetype": "text/x-python",
   "name": "python",
   "nbconvert_exporter": "python",
   "pygments_lexer": "ipython3",
   "version": "3.7.13"
  }
 },
 "nbformat": 4,
 "nbformat_minor": 2
}
