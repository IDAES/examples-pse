{
 "cells": [
  {
   "cell_type": "markdown",
   "metadata": {},
   "source": [
    "# Tutorial: Mixer Unit Model with Ideal Property Package\n",
    "\n",
    "\n",
    "![](mixer.svg)\n",
    "\n",
    "## Learning Outcomes\n",
    "\n",
    "- Demonstrate use of the Mixer unit model in IDAES\n",
    "- Demonstrate different options available\n",
    "\n",
    "\n",
    "## Problem Statement\n",
    "\n",
    "In this example, we will be mixing liquid benzene and liquid toluene streams to form a mixture. The inlet conditions are as follows:\n",
    "\n",
    "**Stream 1:**\n",
    "\n",
    "Benzene Flow Rate = 100 mol/s\n",
    "\n",
    "Pressure = 101325 Pa \n",
    "\n",
    "Temperature = 353 K\n",
    "\n",
    "**Stream 2**\n",
    "\n",
    "Toluene Flow Rate = 100 mol/s\n",
    "\n",
    "Pressure = 202650 Pa \n",
    "\n",
    "Temperature = 356 K\n",
    "\n",
    "We will look at two cases in this tutorial:\n",
    "\n",
    "* Case 1: Specify the number of inlets to the mixer, and set the `momentum_mixing` type set to \"minimize\"\n",
    "\n",
    "* Case 2: Specify the inlet names, and set `momentum_mixing` type set to \"equality\" (in this case, pressure will be specified for only one inlet stream)\n",
    "\n",
    "**Note: \n",
    "When the momentum mixing type is set to 'minimize', the mixed stream pressure takes the minimum value among all inlet stream pressures.\n",
    "When the momentum mixing type is set to 'equality', the mixed stream, along with all inlet streams have the same value of pressure.**\n",
    "\n",
    "\n",
    "For more details, please refer to the IDAES documentation: https://idaes-pse.readthedocs.io/en/stable"
   ]
  },
  {
   "cell_type": "markdown",
   "metadata": {},
   "source": [
    "## Setting up the problem in IDAES"
   ]
  },
  {
   "cell_type": "markdown",
   "metadata": {},
   "source": [
    "In the following cell, we will be importing the necessary components from Pyomo and IDAES."
   ]
  },
  {
   "cell_type": "code",
   "execution_count": null,
   "metadata": {},
   "outputs": [],
   "source": [
    "# Import objects from pyomo package \n",
    "from pyomo.environ import ConcreteModel, SolverFactory, value\n",
    "\n",
    "# Import the main FlowsheetBlock from IDAES. The flowsheet block will contain the unit model\n",
    "from idaes.core import FlowsheetBlock\n",
    "\n",
    "# Import the mixer unit model\n",
    "from idaes.models.unit_models import Mixer, MomentumMixingType\n",
    "\n",
    "# Import idaes logger to set output levels\n",
    "import idaes.logger as idaeslog\n",
    "\n",
    "# Import the BTX_ideal property package to create a properties block for the flowsheet\n",
    "from idaes.models.properties.activity_coeff_models import BTX_activity_coeff_VLE\n",
    "\n",
    "# Import the degrees_of_freedom function from the idaes.core.util.model_statistics package\n",
    "# DOF = Number of Model Variables - Number of Model Constraints\n",
    "from idaes.core.util.model_statistics import degrees_of_freedom\n",
    "\n",
    "# Create the ConcreteModel and the FlowsheetBlock objects, and attach the flowsheet block to it.\n",
    "m = ConcreteModel()\n",
    "\n",
    "m.fs = FlowsheetBlock(dynamic=False) # dynamic or ss flowsheet needs to be specified here\n",
    "\n",
    "# Add properties parameter block to the flowsheet with specifications\n",
    "m.fs.properties = BTX_activity_coeff_VLE.BTXParameterBlock(valid_phase='Liq',\n",
    "                                                           activity_coeff_model=\"Ideal\")\n"
   ]
  },
  {
   "cell_type": "markdown",
   "metadata": {},
   "source": [
    "## Case 1:\n",
    "\n",
    "Specify the number of inlets to the mixer, and set the `momentum_mixing` type set to \"minimize\". "
   ]
  },
  {
   "cell_type": "code",
   "execution_count": null,
   "metadata": {},
   "outputs": [],
   "source": [
    "# Create an instance of the mixer unit, attaching it to the flowsheet\n",
    "# Specify that the property package to be used with the mixer is the\n",
    "# one we created earlier, the number of mixer inlets is 2, and momentum\n",
    "# mixing type is minimize\n",
    "\n",
    "m.fs.mixer_1 = Mixer(property_package=m.fs.properties,\n",
    "                     num_inlets=2,\n",
    "                     momentum_mixing_type=MomentumMixingType.minimize)\n",
    "\n",
    "# Call the degrees_of_freedom function, get initial DOF\n",
    "DOF_initial = degrees_of_freedom(m)\n",
    "print('The initial degrees of freedom is: {0}'.format(DOF_initial))"
   ]
  },
  {
   "cell_type": "code",
   "execution_count": null,
   "metadata": {
    "tags": [
     "testing",
     "remove_cell"
    ]
   },
   "outputs": [],
   "source": [
    "assert DOF_initial == 10"
   ]
  },
  {
   "cell_type": "markdown",
   "metadata": {},
   "source": [
    "For case 1, we chose to specify only the number of inlets and names were not specified. When this option is selected, the inlets are named as \"inlet_1\", \"inlet_2\" and so on depending on the number of inlets specified. In the following cell, we will use this naming convention to specify the inlet conditions. "
   ]
  },
  {
   "cell_type": "code",
   "execution_count": null,
   "metadata": {},
   "outputs": [],
   "source": [
    "# Fix the inlet conditions\n",
    "\n",
    "# Benzene stream\n",
    "m.fs.mixer_1.inlet_1.flow_mol.fix(100) # converting to mol/s as unit basis is mol/s\n",
    "m.fs.mixer_1.inlet_1.mole_frac_comp[0, \"benzene\"].fix(1)\n",
    "m.fs.mixer_1.inlet_1.mole_frac_comp[0, \"toluene\"].fix(0)\n",
    "m.fs.mixer_1.inlet_1.pressure.fix(101325) # Pa\n",
    "m.fs.mixer_1.inlet_1.temperature.fix(353) # K\n",
    "\n",
    "# Toluene stream\n",
    "m.fs.mixer_1.inlet_2.flow_mol.fix(100) # converting to mol/s as unit basis is mol/s\n",
    "m.fs.mixer_1.inlet_2.mole_frac_comp[0, \"benzene\"].fix(0)\n",
    "m.fs.mixer_1.inlet_2.mole_frac_comp[0, \"toluene\"].fix(1)\n",
    "m.fs.mixer_1.inlet_2.pressure.fix(202650) # Pa\n",
    "m.fs.mixer_1.inlet_2.temperature.fix(356) # K\n",
    "\n",
    "# Call the degrees_of_freedom function, get final DOF\n",
    "DOF_final = degrees_of_freedom(m)\n",
    "print('The final degrees of freedom is: {0}'.format(DOF_final))"
   ]
  },
  {
   "cell_type": "code",
   "execution_count": null,
   "metadata": {
    "tags": [
     "testing",
     "remove_cell"
    ]
   },
   "outputs": [],
   "source": [
    "assert DOF_final == 0"
   ]
  },
  {
   "cell_type": "markdown",
   "metadata": {},
   "source": [
    "### Flowsheet Initialization"
   ]
  },
  {
   "cell_type": "code",
   "execution_count": null,
   "metadata": {},
   "outputs": [],
   "source": [
    "# Initialize the flowsheet, and set the output at WARNING\n",
    "m.fs.mixer_1.initialize(outlvl=idaeslog.WARNING)"
   ]
  },
  {
   "cell_type": "markdown",
   "metadata": {},
   "source": [
    "### Obtaining Simulation Results"
   ]
  },
  {
   "cell_type": "code",
   "execution_count": null,
   "metadata": {},
   "outputs": [],
   "source": [
    "# Solve the simulation using ipopt\n",
    "# Note: If the degrees of freedom = 0, we have a square problem\n",
    "opt = SolverFactory('ipopt')\n",
    "result = opt.solve(m, tee=True)"
   ]
  },
  {
   "cell_type": "code",
   "execution_count": null,
   "metadata": {
    "tags": [
     "testing",
     "remove_cell"
    ]
   },
   "outputs": [],
   "source": [
    "from pyomo.opt import TerminationCondition, SolverStatus\n",
    "\n",
    "# Check if termination condition is optimal\n",
    "assert result.solver.termination_condition == TerminationCondition.optimal\n",
    "assert result.solver.status == SolverStatus.ok"
   ]
  },
  {
   "cell_type": "markdown",
   "metadata": {},
   "source": [
    "### View Results"
   ]
  },
  {
   "cell_type": "code",
   "execution_count": null,
   "metadata": {},
   "outputs": [],
   "source": [
    "# Display output report\n",
    "m.fs.mixer_1.report()"
   ]
  },
  {
   "cell_type": "code",
   "execution_count": null,
   "metadata": {
    "tags": [
     "testing",
     "remove_cell"
    ]
   },
   "outputs": [],
   "source": [
    "#Energy Balance Validation \n",
    "\n",
    "molflow_1 = m.fs.mixer_1.inlet_1.flow_mol[0].value\n",
    "molflow_2 = m.fs.mixer_1.inlet_2.flow_mol[0].value\n",
    "benzene_1 = m.fs.mixer_1.inlet_1.mole_frac_comp[0, \"benzene\"].value\n",
    "toluene_2 = m.fs.mixer_1.inlet_2.mole_frac_comp[0, \"toluene\"].value\n",
    "\n",
    "#total_enthalpy_in = molflow_1*benzene_1*molar_enthalpy_1 + molflow_2*toluene_2*molar_enthalpy_2\n",
    "total_enthalpy_in1 = molflow_1*m.fs.mixer_1.inlet_1_state[0].enth_mol_phase['Liq'].value\n",
    "total_enthalpy_in2 = molflow_2*m.fs.mixer_1.inlet_2_state[0].enth_mol_phase['Liq'].value\n",
    "\n",
    "molar_enthalpy_out = m.fs.mixer_1.mixed_state[0].enth_mol_phase['Liq'].value\n",
    "mole_flow_out = m.fs.mixer_1.outlet.flow_mol[0].value\n",
    "total_enthalpy_out = mole_flow_out*molar_enthalpy_out\n"
   ]
  },
  {
   "cell_type": "code",
   "execution_count": null,
   "metadata": {
    "tags": [
     "testing",
     "remove_cell"
    ]
   },
   "outputs": [],
   "source": [
    "import pytest\n",
    "\n",
    "# Check results\n",
    "assert mole_flow_out == pytest.approx(200, abs=1e-3)\n",
    "assert m.fs.mixer_1.outlet.mole_frac_comp[0, \"benzene\"].value == pytest.approx(0.5, abs=1e-3)\n",
    "assert m.fs.mixer_1.outlet.mole_frac_comp[0, \"toluene\"].value == pytest.approx(0.5, abs=1e-3)\n",
    "assert m.fs.mixer_1.outlet.temperature[0].value == pytest.approx(354.61, abs=1e-2)\n",
    "assert m.fs.mixer_1.outlet.pressure[0].value == pytest.approx(101325, abs=1)\n",
    "assert total_enthalpy_out - total_enthalpy_in1 - total_enthalpy_in2 == pytest.approx(0, abs=1e-2)"
   ]
  },
  {
   "cell_type": "markdown",
   "metadata": {},
   "source": [
    "## Case 2\n",
    "\n",
    "For case 2, we will specify the inlet names for the two inlets, and set `momentum_mixing` type set to \"equality\" (in this case, pressure will be specified for only one inlet stream). We will name the 2 inlets as \"benzene_inlet\" and \"toluene_inlet\". "
   ]
  },
  {
   "cell_type": "code",
   "execution_count": null,
   "metadata": {},
   "outputs": [],
   "source": [
    "# Create an instance of another mixer unit, attaching it to the same flowsheet. \n",
    "# Specify that the property package to be used with the mixer is the one we created earlier,\n",
    "# inlet list is specified but names are specified, and momentum mixing type is equality\n",
    "\n",
    "m.fs.mixer_2 = Mixer(property_package=m.fs.properties,\n",
    "                     inlet_list=[\"benzene_inlet\",\"toluene_inlet\"],\n",
    "                     momentum_mixing_type=MomentumMixingType.equality)"
   ]
  },
  {
   "cell_type": "code",
   "execution_count": null,
   "metadata": {},
   "outputs": [],
   "source": [
    "# Check the required degrees of freedom\n",
    "DOF_init = degrees_of_freedom(m.fs.mixer_2)\n",
    "print('The initial degrees of freedom is: {0}'.format(DOF_init))"
   ]
  },
  {
   "cell_type": "markdown",
   "metadata": {},
   "source": [
    "We see that the degrees of freedom has dropped by 1 to 9 when compared with case 1. This is because we selected the `momentum_mixing_type` as `MomentumMixingType.equality` which basically adds a constraint that equates the pressure between all inlets and the outlet. Therefore, when we specify the inlet confitions in the next cell, we will define the pressure for only the `benzene_inlet` stream. "
   ]
  },
  {
   "cell_type": "code",
   "execution_count": null,
   "metadata": {
    "tags": [
     "testing",
     "remove_cell"
    ]
   },
   "outputs": [],
   "source": [
    "assert DOF_init == 9"
   ]
  },
  {
   "cell_type": "code",
   "execution_count": null,
   "metadata": {},
   "outputs": [],
   "source": [
    "# Fix the stream inlet conditions\n",
    "\n",
    "# Benzene stream\n",
    "m.fs.mixer_2.benzene_inlet.flow_mol.fix(100) # converting to mol/s as unit basis is mol/s\n",
    "m.fs.mixer_2.benzene_inlet.mole_frac_comp[0, \"benzene\"].fix(1)\n",
    "m.fs.mixer_2.benzene_inlet.mole_frac_comp[0, \"toluene\"].fix(0)\n",
    "m.fs.mixer_2.benzene_inlet.pressure.fix(101325) # Pa , Another option is m1.fs.mixer2.inlet2.pressure.fix(202650)\n",
    "m.fs.mixer_2.benzene_inlet.temperature.fix(353) # K\n",
    "\n",
    "# Toluene stream\n",
    "m.fs.mixer_2.toluene_inlet.flow_mol.fix(100) # converting to mol/s as unit basis is mol/s\n",
    "m.fs.mixer_2.toluene_inlet.mole_frac_comp[0, \"benzene\"].fix(0)\n",
    "m.fs.mixer_2.toluene_inlet.mole_frac_comp[0, \"toluene\"].fix(1)\n",
    "m.fs.mixer_2.toluene_inlet.temperature.fix(356) # K\n",
    "\n",
    "DOF_final = degrees_of_freedom(m.fs.mixer_2)\n",
    "print('The final degrees of freedom is: {0}'.format(DOF_final))"
   ]
  },
  {
   "cell_type": "markdown",
   "metadata": {},
   "source": [
    "### Flowsheet Initialization"
   ]
  },
  {
   "cell_type": "code",
   "execution_count": null,
   "metadata": {},
   "outputs": [],
   "source": [
    "#Initialize the flowsheet, and set the output at WARNING\n",
    "\n",
    "m.fs.mixer_2.initialize(outlvl=idaeslog.WARNING)"
   ]
  },
  {
   "cell_type": "markdown",
   "metadata": {},
   "source": [
    "### Obtaining Simulation Results"
   ]
  },
  {
   "cell_type": "code",
   "execution_count": null,
   "metadata": {},
   "outputs": [],
   "source": [
    "# Solve the simulation using ipopt\n",
    "# Note: If the degrees of freedom = 0, we have a square problem\n",
    "opt = SolverFactory('ipopt')\n",
    "result = opt.solve(m.fs.mixer_2, tee=True)"
   ]
  },
  {
   "cell_type": "code",
   "execution_count": null,
   "metadata": {
    "tags": [
     "testing",
     "remove_cell"
    ]
   },
   "outputs": [],
   "source": [
    "from pyomo.opt import TerminationCondition, SolverStatus\n",
    "\n",
    "# Check if termination condition is optimal\n",
    "assert result.solver.termination_condition == TerminationCondition.optimal\n",
    "assert result.solver.status == SolverStatus.ok"
   ]
  },
  {
   "cell_type": "markdown",
   "metadata": {},
   "source": [
    "### View Results"
   ]
  },
  {
   "cell_type": "code",
   "execution_count": null,
   "metadata": {},
   "outputs": [],
   "source": [
    "# Display a readable report\n",
    "m.fs.mixer_2.report()"
   ]
  },
  {
   "cell_type": "code",
   "execution_count": null,
   "metadata": {
    "tags": [
     "testing",
     "remove_cell"
    ]
   },
   "outputs": [],
   "source": [
    "# Check results\n",
    "assert m.fs.mixer_2.outlet.flow_mol[0].value == pytest.approx(200, abs=1e-2)\n",
    "assert m.fs.mixer_2.outlet.mole_frac_comp[0, \"benzene\"].value == pytest.approx(0.5, abs=1e-3)\n",
    "assert m.fs.mixer_2.outlet.mole_frac_comp[0, \"toluene\"].value == pytest.approx(0.5, abs=1e-3)\n",
    "assert m.fs.mixer_2.outlet.temperature[0].value == pytest.approx(354.61, abs=1e-2)\n",
    "assert m.fs.mixer_2.outlet.pressure[0].value == pytest.approx(101325, abs=1)"
   ]
  },
  {
   "cell_type": "code",
   "execution_count": null,
   "metadata": {},
   "outputs": [],
   "source": []
  }
 ],
 "metadata": {
  "celltoolbar": "Tags",
  "kernelspec": {
   "display_name": "Python 3 (ipykernel)",
   "language": "python",
   "name": "python3"
  },
  "language_info": {
   "codemirror_mode": {
    "name": "ipython",
    "version": 3
   },
   "file_extension": ".py",
   "mimetype": "text/x-python",
   "name": "python",
   "nbconvert_exporter": "python",
   "pygments_lexer": "ipython3",
   "version": "3.9.12"
  }
 },
 "nbformat": 4,
 "nbformat_minor": 2
}
