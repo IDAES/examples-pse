{
 "cells": [
  {
   "cell_type": "markdown",
   "metadata": {},
   "source": [
    "# Tutorial: Valve Unit Model with IAPWS Property Package\n",
    "\n",
    "![](valve_1.svg)\n",
    "\n",
    "## Learning Outcomes\n",
    "\n",
    "- Demonstrate use of the valve unit model in IDAES\n",
    "\n",
    "\n",
    "## Problem Statement\n",
    "\n",
    "In this example, we will be passing a liquid stream through a valve.\n",
    "\n",
    "**Stream Inputs:**\n",
    "\n",
    "Flow Rate = 1000 mol/s\n",
    "\n",
    "Temperature = 298 K\n",
    "\n",
    "Inlet Pressure = 202650 Pa\n",
    "\n",
    "Outlet Pressure = 101325 Pa\n",
    "\n",
    "Valve Opening = 0.5 (fraction)\n",
    "\n",
    "For more details, please refer to the IDAES documentation: https://idaes-pse.readthedocs.io/en/stable"
   ]
  },
  {
   "cell_type": "markdown",
   "metadata": {},
   "source": [
    "## Setting up the problem in IDAES"
   ]
  },
  {
   "cell_type": "markdown",
   "metadata": {},
   "source": [
    "In the following cell, we will be importing the necessary components from Pyomo and IDAES."
   ]
  },
  {
   "cell_type": "code",
   "execution_count": 1,
   "metadata": {},
   "outputs": [],
   "source": [
    "# Import math functions\n",
    "import math\n",
    "\n",
    "# Import objects from pyomo package \n",
    "from pyomo.environ import ConcreteModel, Constraint, value, SolverFactory, units\n",
    "\n",
    "# Import the solver\n",
    "from idaes.core.solvers import get_solver\n",
    "\n",
    "# Import the main FlowsheetBlock from IDAES. The flowsheet block will contain the unit model\n",
    "from idaes.core import FlowsheetBlock\n",
    "\n",
    "# Import the Valve unit model\n",
    "from idaes.models.unit_models import Valve\n",
    "\n",
    "# Import the option to set the valve function\n",
    "from idaes.models.unit_models import ValveFunctionType\n",
    "\n",
    "# Import idaes logger to set output levels\n",
    "import idaes.logger as idaeslog\n",
    "\n",
    "# Import the iapws95 property package to create a property block for the flowsheet\n",
    "from idaes.models.properties import iapws95\n",
    "\n",
    "# Import the degrees_of_freedom function from the idaes.core.util.model_statistics package\n",
    "# DOF = Number of Model Variables - Number of Model Constraints\n",
    "from idaes.core.util.model_statistics import degrees_of_freedom\n",
    "\n",
    "# Create the ConcreteModel and the FlowsheetBlock objects, and attach the flowsheet block to it.\n",
    "m = ConcreteModel()\n",
    "\n",
    "m.fs = FlowsheetBlock(dynamic=False) # dynamic or ss flowsheet needs to be specified here\n",
    "\n",
    "# Add properties parameter block to the flowsheet\n",
    "m.fs.properties = iapws95.Iapws95ParameterBlock()"
   ]
  },
  {
   "cell_type": "markdown",
   "metadata": {},
   "source": [
    "In the following cell, we will be creating the valve unit model, assigning the valve function and property package to it, and determining the degrees of freedom associated with the valve unit model."
   ]
  },
  {
   "cell_type": "code",
   "execution_count": 2,
   "metadata": {},
   "outputs": [
    {
     "name": "stdout",
     "output_type": "stream",
     "text": [
      "The initial degrees of freedom is: 3\n"
     ]
    }
   ],
   "source": [
    "# Create an instance of the valve unit, attaching it to the flowsheet\n",
    "# Specify which valve function should be used to describe how the flow coefficient is calculated\n",
    "# Specify that the property package to be used with the valve is the one we created earlier\n",
    "\n",
    "m.fs.valve = Valve(\n",
    "    valve_function_callback=ValveFunctionType.linear,\n",
    "    property_package=m.fs.properties\n",
    ")\n",
    "\n",
    "# Call the degrees_of_freedom function, get initial DOF\n",
    "DOF_initial = degrees_of_freedom(m)\n",
    "print('The initial degrees of freedom is: {0}'.format(DOF_initial))"
   ]
  },
  {
   "cell_type": "code",
   "execution_count": 3,
   "metadata": {
    "tags": [
     "testing",
     "remove_cell"
    ]
   },
   "outputs": [],
   "source": [
    "assert DOF_initial == 3"
   ]
  },
  {
   "cell_type": "markdown",
   "metadata": {},
   "source": [
    "### Fixing input specifications\n",
    "In the following cell, we will be specifying the inlet conditions for the valve block."
   ]
  },
  {
   "cell_type": "code",
   "execution_count": 4,
   "metadata": {},
   "outputs": [
    {
     "name": "stdout",
     "output_type": "stream",
     "text": [
      "The final degrees of freedom is: 0\n"
     ]
    }
   ],
   "source": [
    "# Assign the known inlet conditions to variables\n",
    "fin = 1000  # mol/s\n",
    "pin = 202650  # Pa\n",
    "pout = 101325  # Pa\n",
    "tin = 298  # K\n",
    "\n",
    "# Determine inlet enthalpy\n",
    "hin = iapws95.htpx(T=tin * units.K, P=pin * units.Pa)  # J/mol\n",
    "\n",
    "# Determine flow coefficient - equation depends on the valve function specified earlier\n",
    "cv = 1000 / math.sqrt(pin - pout) / 0.5\n",
    "\n",
    "# Fix the inlet conditions\n",
    "m.fs.valve.inlet.enth_mol[0].fix(hin)\n",
    "m.fs.valve.inlet.flow_mol[0].fix(fin)\n",
    "m.fs.valve.inlet.pressure[0].fix(pin)\n",
    "m.fs.valve.outlet.pressure[0].set_value(pout) # Sets the target value for the outlet pressure, but does not fix it\n",
    "m.fs.valve.Cv.fix(cv)\n",
    "m.fs.valve.valve_opening.fix(0.5)\n",
    "\n",
    "# Call the degrees_of_freedom function, get final DOF\n",
    "DOF_final = degrees_of_freedom(m)\n",
    "print('The final degrees of freedom is: {0}'.format(DOF_final))"
   ]
  },
  {
   "cell_type": "code",
   "execution_count": 5,
   "metadata": {
    "tags": [
     "testing",
     "remove_cell"
    ]
   },
   "outputs": [],
   "source": [
    "assert DOF_final == 0"
   ]
  },
  {
   "cell_type": "markdown",
   "metadata": {},
   "source": [
    "### Flowsheet Initialization"
   ]
  },
  {
   "cell_type": "code",
   "execution_count": 6,
   "metadata": {},
   "outputs": [],
   "source": [
    "# Initialize the flowsheet, and set the output at WARNING\n",
    "m.fs.valve.initialize(outlvl=idaeslog.WARNING)"
   ]
  },
  {
   "cell_type": "markdown",
   "metadata": {},
   "source": [
    "### Obtaining Simulation Results"
   ]
  },
  {
   "cell_type": "code",
   "execution_count": 7,
   "metadata": {},
   "outputs": [
    {
     "name": "stdout",
     "output_type": "stream",
     "text": [
      "Ipopt 3.13.2: nlp_scaling_method=gradient-based\n",
      "tol=1e-06\n",
      "\n",
      "\n",
      "******************************************************************************\n",
      "This program contains Ipopt, a library for large-scale nonlinear optimization.\n",
      " Ipopt is released as open source code under the Eclipse Public License (EPL).\n",
      "         For more information visit http://projects.coin-or.org/Ipopt\n",
      "\n",
      "This version of Ipopt was compiled from source code available at\n",
      "    https://github.com/IDAES/Ipopt as part of the Institute for the Design of\n",
      "    Advanced Energy Systems Process Systems Engineering Framework (IDAES PSE\n",
      "    Framework) Copyright (c) 2018-2019. See https://github.com/IDAES/idaes-pse.\n",
      "\n",
      "This version of Ipopt was compiled using HSL, a collection of Fortran codes\n",
      "    for large-scale scientific computation.  All technical papers, sales and\n",
      "    publicity material resulting from use of the HSL codes within IPOPT must\n",
      "    contain the following acknowledgement:\n",
      "        HSL, a collection of Fortran codes for large-scale scientific\n",
      "        computation. See http://www.hsl.rl.ac.uk.\n",
      "******************************************************************************\n",
      "\n",
      "This is Ipopt version 3.13.2, running with linear solver ma27.\n",
      "\n",
      "Number of nonzeros in equality constraint Jacobian...:       10\n",
      "Number of nonzeros in inequality constraint Jacobian.:        0\n",
      "Number of nonzeros in Lagrangian Hessian.............:        3\n",
      "\n",
      "Total number of variables............................:        6\n",
      "                     variables with only lower bounds:        0\n",
      "                variables with lower and upper bounds:        2\n",
      "                     variables with only upper bounds:        0\n",
      "Total number of equality constraints.................:        6\n",
      "Total number of inequality constraints...............:        0\n",
      "        inequality constraints with only lower bounds:        0\n",
      "   inequality constraints with lower and upper bounds:        0\n",
      "        inequality constraints with only upper bounds:        0\n",
      "\n",
      "iter    objective    inf_pr   inf_du lg(mu)  ||d||  lg(rg) alpha_du alpha_pr  ls\n",
      "   0  0.0000000e+00 0.00e+00 0.00e+00  -1.0 0.00e+00    -  0.00e+00 0.00e+00   0\n",
      "\n",
      "Number of Iterations....: 0\n",
      "\n",
      "                                   (scaled)                 (unscaled)\n",
      "Objective...............:   0.0000000000000000e+00    0.0000000000000000e+00\n",
      "Dual infeasibility......:   0.0000000000000000e+00    0.0000000000000000e+00\n",
      "Constraint violation....:   0.0000000000000000e+00    0.0000000000000000e+00\n",
      "Complementarity.........:   0.0000000000000000e+00    0.0000000000000000e+00\n",
      "Overall NLP error.......:   0.0000000000000000e+00    0.0000000000000000e+00\n",
      "\n",
      "\n",
      "Number of objective function evaluations             = 1\n",
      "Number of objective gradient evaluations             = 1\n",
      "Number of equality constraint evaluations            = 1\n",
      "Number of inequality constraint evaluations          = 0\n",
      "Number of equality constraint Jacobian evaluations   = 1\n",
      "Number of inequality constraint Jacobian evaluations = 0\n",
      "Number of Lagrangian Hessian evaluations             = 0\n",
      "Total CPU secs in IPOPT (w/o function evaluations)   =      0.000\n",
      "Total CPU secs in NLP function evaluations           =      0.000\n",
      "\n",
      "EXIT: Optimal Solution Found.\n"
     ]
    }
   ],
   "source": [
    "# Solve the simulation using the IDAES solver\n",
    "# Note: If the degrees of freedom = 0, we have a square problem\n",
    "solver = get_solver()\n",
    "result = solver.solve(m, tee=True)"
   ]
  },
  {
   "cell_type": "code",
   "execution_count": 8,
   "metadata": {
    "tags": [
     "testing",
     "remove_cell"
    ]
   },
   "outputs": [],
   "source": [
    "from pyomo.opt import TerminationCondition, SolverStatus\n",
    "\n",
    "# Check if termination condition is optimal\n",
    "assert result.solver.termination_condition == TerminationCondition.optimal\n",
    "assert result.solver.status == SolverStatus.ok"
   ]
  },
  {
   "cell_type": "markdown",
   "metadata": {},
   "source": [
    "### View Results\n",
    "\n",
    "As expected, the pressure of the stream will be halved after going through the valve."
   ]
  },
  {
   "cell_type": "code",
   "execution_count": 9,
   "metadata": {},
   "outputs": [
    {
     "name": "stdout",
     "output_type": "stream",
     "text": [
      "\n",
      "====================================================================================\n",
      "Unit : fs.valve                                                            Time: 0.0\n",
      "------------------------------------------------------------------------------------\n",
      "    Unit Performance\n",
      "\n",
      "    Variables: \n",
      "\n",
      "    Key               : Value       : Units                                 : Fixed : Bounds\n",
      "      Mechanical Work :      0.0000 :                                  watt : False : (None, None)\n",
      "              Opening :     0.50000 :                         dimensionless :  True : (None, None)\n",
      "      Pressure Change : -1.0132e+05 :                                pascal : False : (None, None)\n",
      "       Pressure Ratio :     0.50000 :                         dimensionless : False : (None, None)\n",
      "    Valve Coefficient :      6.2831 : meter ** 0.5 * mole / kilogram ** 0.5 :  True : (None, None)\n",
      "\n",
      "------------------------------------------------------------------------------------\n",
      "    Stream Table\n",
      "                                     Units           Inlet     Outlet  \n",
      "    Molar Flow (mol/s)              mole / second     1000.0     1000.0\n",
      "    Mass Flow (kg/s)            kilogram / second     18.015     18.015\n",
      "    T (K)                                  kelvin     298.00     298.02\n",
      "    P (Pa)                                 pascal 2.0265e+05 1.0132e+05\n",
      "    Vapor Fraction                  dimensionless     0.0000     0.0000\n",
      "    Molar Enthalpy (J/mol) Vap       joule / mole     39477.     39500.\n",
      "    Molar Enthalpy (J/mol) Liq       joule / mole     1880.6     1880.6\n",
      "====================================================================================\n"
     ]
    }
   ],
   "source": [
    "# Display output report\n",
    "m.fs.valve.report()"
   ]
  },
  {
   "cell_type": "code",
   "execution_count": 10,
   "metadata": {
    "tags": [
     "testing",
     "remove_cell"
    ]
   },
   "outputs": [],
   "source": [
    "import pytest\n",
    "\n",
    "# Check results\n",
    "assert value(m.fs.valve.outlet.flow_mol[0]) == pytest.approx(1000, rel=1e-6)\n",
    "assert value(m.fs.valve.outlet.pressure[0]) == pytest.approx(101325, rel=1e-6)\n",
    "assert value(m.fs.valve.outlet.enth_mol[0]) == pytest.approx(1880.557, rel=1e-3)"
   ]
  },
  {
   "cell_type": "code",
   "execution_count": null,
   "metadata": {},
   "outputs": [],
   "source": []
  }
 ],
 "metadata": {
  "celltoolbar": "Tags",
  "kernelspec": {
   "display_name": "Python 3 (ipykernel)",
   "language": "python",
   "name": "python3"
  },
  "language_info": {
   "codemirror_mode": {
    "name": "ipython",
    "version": 3
   },
   "file_extension": ".py",
   "mimetype": "text/x-python",
   "name": "python",
   "nbconvert_exporter": "python",
   "pygments_lexer": "ipython3",
   "version": "3.7.13"
  }
 },
 "nbformat": 4,
 "nbformat_minor": 2
}
