{
 "cells": [
  {
   "cell_type": "markdown",
   "metadata": {},
   "source": [
    "# Tutorial: Valve Unit Model with IAPWS Property Package\n",
    "\n",
    "![](valve_1.svg)\n",
    "\n",
    "## Learning Outcomes\n",
    "\n",
    "- Demonstrate use of the valve unit model in IDAES\n",
    "\n",
    "\n",
    "## Problem Statement\n",
    "\n",
    "In this example, we will be passing a liquid stream through a valve.\n",
    "\n",
    "**Stream Inputs:**\n",
    "\n",
    "Flow Rate = 1000 mol/s\n",
    "\n",
    "Temperature = 298 K\n",
    "\n",
    "Inlet Pressure = 202650 Pa\n",
    "\n",
    "Outlet Pressure = 101325 Pa\n",
    "\n",
    "Valve Opening = 0.5 (fraction)\n",
    "\n",
    "For more details, please refer to the IDAES documentation: https://idaes-pse.readthedocs.io/en/stable"
   ]
  },
  {
   "cell_type": "markdown",
   "metadata": {},
   "source": [
    "## Importing necessary tools\n",
    "\n",
    "In the following cell, we will be importing the necessary components from Pyomo and IDAES."
   ]
  },
  {
   "cell_type": "code",
   "execution_count": null,
   "metadata": {},
   "outputs": [],
   "source": [
    "# Import math functions\n",
    "import math\n",
    "\n",
    "# Import objects from pyomo package \n",
    "from pyomo.environ import ConcreteModel, Constraint, value, SolverFactory, units\n",
    "\n",
    "# Import the solver\n",
    "from idaes.core.solvers import get_solver\n",
    "\n",
    "# Import the main FlowsheetBlock from IDAES. The flowsheet block will contain the unit model\n",
    "from idaes.core import FlowsheetBlock\n",
    "\n",
    "# Import the Valve unit model\n",
    "from idaes.models.unit_models import Valve\n",
    "\n",
    "# Import the option to set the valve function\n",
    "from idaes.models.unit_models import ValveFunctionType\n",
    "\n",
    "# Import idaes logger to set output levels\n",
    "import idaes.logger as idaeslog\n",
    "\n",
    "# Import the iapws95 property package to create a property block for the flowsheet\n",
    "from idaes.models.properties import iapws95\n",
    "\n",
    "# Import the degrees_of_freedom function from the idaes.core.util.model_statistics package\n",
    "# DOF = Number of Model Variables - Number of Model Constraints\n",
    "from idaes.core.util.model_statistics import degrees_of_freedom"
   ]
  },
  {
   "cell_type": "markdown",
   "metadata": {},
   "source": [
    "## Setting up the flowsheet\n",
    "In the following cell, we will create the `ConcreteModel` foundation, attach the steady state flowsheet, and declare the property parameter block that will used.\n",
    "\n",
    "More information on this general workflow can be found here: https://idaes-pse.readthedocs.io/en/stable/how_to_guides/workflow/general.html"
   ]
  },
  {
   "cell_type": "code",
   "execution_count": null,
   "metadata": {},
   "outputs": [],
   "source": [
    "m = ConcreteModel()\n",
    "\n",
    "m.fs = FlowsheetBlock(dynamic=False) # dynamic or ss flowsheet needs to be specified here\n",
    "\n",
    "m.fs.properties = iapws95.Iapws95ParameterBlock()"
   ]
  },
  {
   "cell_type": "markdown",
   "metadata": {},
   "source": [
    "In the following cell, we will be creating the valve unit model, assigning the valve function and property package to it, and determining the initial degrees of freedom associated with the valve unit model. The `ValveFunctionType` determines how the flow coefficient will be calculated."
   ]
  },
  {
   "cell_type": "code",
   "execution_count": null,
   "metadata": {},
   "outputs": [],
   "source": [
    "m.fs.valve = Valve(\n",
    "    valve_function_callback=ValveFunctionType.linear,\n",
    "    property_package=m.fs.properties\n",
    ")\n",
    "\n",
    "DOF_initial = degrees_of_freedom(m)\n",
    "print('The initial degrees of freedom is: {0}'.format(DOF_initial))"
   ]
  },
  {
   "cell_type": "code",
   "execution_count": null,
   "metadata": {
    "tags": [
     "testing",
     "remove_cell"
    ]
   },
   "outputs": [],
   "source": [
    "assert DOF_initial == 3"
   ]
  },
  {
   "cell_type": "markdown",
   "metadata": {},
   "source": [
    "### Fixing input specifications\n",
    "In the following cell, we will be calculating and specifying the inlet conditions for the valve block and re-evaluating the degrees of freedom to ensure the problem is square (i.e. DOF=0)."
   ]
  },
  {
   "cell_type": "code",
   "execution_count": null,
   "metadata": {},
   "outputs": [],
   "source": [
    "# Assign the known inlet conditions to variables\n",
    "fin = 1000  # mol/s\n",
    "pin = 202650  # Pa\n",
    "pout = 101325  # Pa\n",
    "tin = 298  # K\n",
    "\n",
    "# Determine inlet enthalpy\n",
    "hin = iapws95.htpx(T=tin * units.K, P=pin * units.Pa)  # J/mol\n",
    "\n",
    "# Determine flow coefficient - equation depends on the valve function specified earlier\n",
    "cv = 1000 / math.sqrt(pin - pout) / 0.5\n",
    "\n",
    "# Fix the inlet conditions\n",
    "m.fs.valve.inlet.enth_mol[0].fix(hin)\n",
    "m.fs.valve.inlet.flow_mol[0].fix(fin)\n",
    "m.fs.valve.inlet.pressure[0].fix(pin)\n",
    "m.fs.valve.outlet.pressure[0].set_value(pout) # Sets the target value for the outlet pressure, but does not fix it\n",
    "m.fs.valve.Cv.fix(cv)\n",
    "m.fs.valve.valve_opening.fix(0.5)\n",
    "\n",
    "# Call the degrees_of_freedom function, get final DOF\n",
    "DOF_final = degrees_of_freedom(m)\n",
    "print('The final degrees of freedom is: {0}'.format(DOF_final))"
   ]
  },
  {
   "cell_type": "code",
   "execution_count": null,
   "metadata": {
    "tags": [
     "testing",
     "remove_cell"
    ]
   },
   "outputs": [],
   "source": [
    "assert DOF_final == 0"
   ]
  },
  {
   "cell_type": "markdown",
   "metadata": {},
   "source": [
    "### Flowsheet Initialization\n",
    "IDAES includes pre-written initialization routines for all unit models. Failing to initialize or having a poor intialization of a flowsheet may result in the problem being unsolvable. The output from initialization can be set to 7 different levels depending on the details required by the user. In general, when a particular output level is set, any information at that level and above gets picked up by logger. The default level taken by the logger is INFO. \n",
    "\n",
    "More information on these levels can be found in the IDAES documentation: \n",
    "https://idaes-pse.readthedocs.io/en/stable/reference_guides/logging.html?highlight=log%20level#idaes-solve-loggers"
   ]
  },
  {
   "cell_type": "code",
   "execution_count": null,
   "metadata": {},
   "outputs": [],
   "source": [
    "m.fs.valve.initialize(outlvl=idaeslog.WARNING)"
   ]
  },
  {
   "cell_type": "markdown",
   "metadata": {},
   "source": [
    "### Obtaining Simulation Results\n",
    "In the following cell, the flowsheet will be solved using the IDAES `get_solver` tool. Setting `tee=True` will display the solver output."
   ]
  },
  {
   "cell_type": "code",
   "execution_count": null,
   "metadata": {},
   "outputs": [],
   "source": [
    "solver = get_solver()\n",
    "result = solver.solve(m, tee=True)"
   ]
  },
  {
   "cell_type": "code",
   "execution_count": null,
   "metadata": {
    "tags": [
     "testing",
     "remove_cell"
    ]
   },
   "outputs": [],
   "source": [
    "from pyomo.opt import TerminationCondition, SolverStatus\n",
    "\n",
    "# Check if termination condition is optimal\n",
    "assert result.solver.termination_condition == TerminationCondition.optimal\n",
    "assert result.solver.status == SolverStatus.ok"
   ]
  },
  {
   "cell_type": "markdown",
   "metadata": {},
   "source": [
    "### View Results\n",
    "\n",
    "As expected, the report will show that pressure of the stream is halved after going through the valve."
   ]
  },
  {
   "cell_type": "code",
   "execution_count": null,
   "metadata": {},
   "outputs": [],
   "source": [
    "m.fs.valve.report()"
   ]
  },
  {
   "cell_type": "code",
   "execution_count": null,
   "metadata": {
    "tags": [
     "testing",
     "remove_cell"
    ]
   },
   "outputs": [],
   "source": [
    "import pytest\n",
    "\n",
    "# Check results\n",
    "assert value(m.fs.valve.outlet.flow_mol[0]) == pytest.approx(1000, rel=1e-6)\n",
    "assert value(m.fs.valve.outlet.pressure[0]) == pytest.approx(101325, rel=1e-6)\n",
    "assert value(m.fs.valve.outlet.enth_mol[0]) == pytest.approx(1880.557, rel=1e-3)"
   ]
  },
  {
   "cell_type": "code",
   "execution_count": null,
   "metadata": {},
   "outputs": [],
   "source": []
  }
 ],
 "metadata": {
  "celltoolbar": "Tags",
  "kernelspec": {
   "display_name": "Python 3 (ipykernel)",
   "language": "python",
   "name": "python3"
  },
  "language_info": {
   "codemirror_mode": {
    "name": "ipython",
    "version": 3
   },
   "file_extension": ".py",
   "mimetype": "text/x-python",
   "name": "python",
   "nbconvert_exporter": "python",
   "pygments_lexer": "ipython3",
   "version": "3.7.13"
  }
 },
 "nbformat": 4,
 "nbformat_minor": 2
}
