{
 "cells": [
  {
   "cell_type": "markdown",
   "metadata": {},
   "source": [
    "# Heat Exchanger Lumped-Capacitance Unit Model with Two Property Packages\n",
    "\n",
    "![](heat_exchanger_4.svg)\n",
    "\n",
    "**Problem Statement**: In this example, we will be heating a benzene-toluene mixture using steam. \n",
    "\n",
    "**Tube Side Inlet**\n",
    "\n",
    "Flow Rate = 250 mol/s\n",
    "\n",
    "Mole fraction (Benzene) = 0.4\n",
    "\n",
    "Mole fraction (Toluene) = 0.6\n",
    "\n",
    "Pressure = 101325 Pa\n",
    "\n",
    "Temperature = 380 K\n",
    "\n",
    "**Shell Side Inlet**\n",
    "\n",
    "Flow Rate = 100 mol/s\n",
    "\n",
    "Mole fraction (Steam) = 1\n",
    "\n",
    "Pressure = 101325 Pa\n",
    "\n",
    "Temperature = 400 K\n",
    "\n",
    "The 0D lumped-capacitance heat exchanger unit model makes the assumption that the temperature difference bewtween discrete \"lumps\" in the heat exchanger is negligible. Likewise, this model can be useful for transient simulations in which temperature gradients within the heat exchanger can be ignored. This example will demonstrate the simulation of the lumped-capacitance heat exchanger by fixing the following degrees of freedom:\n",
    "- heat transfer area\n",
    "- overall heat transfer coefficients (one for cold-side and one for hot-side)\n",
    "\n",
    "The IDAES library's `HeatExchangerLumpedCapacitance` is modelled after the heat exchanger 0D model and has added the capabilities of supporting a wall temperature as well as heat holdup for transient simulations; more details on the lumped capacitance heat exchanger may be found here: https://idaes-pse.readthedocs.io/en/latest/reference_guides/model_libraries/generic/unit_models/heat_exchanger_lc.html.\n",
    "\n",
    "IDAES documentation reference for the simpler heat exchanger 0D model: https://idaes-pse.readthedocs.io/en/latest/reference_guides/model_libraries/generic/unit_models/heat_exchanger.html"
   ]
  },
  {
   "cell_type": "markdown",
   "metadata": {},
   "source": [
    "## Setting up the problem in IDAES\n",
    "\n",
    "First, import the required IDAES and Pyomo modules. Note that the hot-side (shell) and cold-side (tube) properties leverage separate property packages:"
   ]
  },
  {
   "cell_type": "code",
   "execution_count": null,
   "metadata": {
    "scrolled": true
   },
   "outputs": [],
   "source": [
    "# Import pyomo package \n",
    "from pyomo.environ import ConcreteModel, Constraint, value, units\n",
    "\n",
    "# Import idaes logger to set output levels\n",
    "import idaes.logger as idaeslog\n",
    "\n",
    "# Import the main FlowsheetBlock from IDAES. The flowsheet block will contain the unit model\n",
    "from idaes.core import FlowsheetBlock\n",
    "\n",
    "# Import the IAPWS property package to create a properties block for the flowsheet\n",
    "from idaes.models.properties import iapws95\n",
    "\n",
    "from idaes.models.properties.iapws95 import htpx\n",
    "\n",
    "from idaes.models.properties.modular_properties import GenericParameterBlock\n",
    "\n",
    "from idaes.models.properties.modular_properties.examples.BT_ideal \\\n",
    "    import configuration\n",
    "\n",
    "#Import the degrees_of_freedom function from the idaes.core.util.model_statistics package\n",
    "from idaes.core.util.model_statistics import degrees_of_freedom\n",
    "\n",
    "#Import the default IPOPT solver\n",
    "from idaes.core.solvers import get_solver\n",
    "\n",
    "#Import a heat exchanger unit\n",
    "from idaes.models.unit_models import HeatExchangerLumpedCapacitance, HeatExchangerFlowPattern"
   ]
  },
  {
   "cell_type": "markdown",
   "metadata": {},
   "source": [
    "Then, build the model and flowsheet components using the imported property packages:"
   ]
  },
  {
   "cell_type": "code",
   "execution_count": null,
   "metadata": {},
   "outputs": [],
   "source": [
    "# Create the ConcreteModel and the FlowsheetBlock, and attach the flowsheet block to it.\n",
    "m = ConcreteModel()\n",
    "\n",
    "# Steady State Model\n",
    "m.fs = FlowsheetBlock(dynamic=False)\n",
    "\n",
    "# Setup property packages for shell and tube side\n",
    "# Steam property package\n",
    "m.fs.properties_shell = iapws95.Iapws95ParameterBlock()\n",
    "\n",
    "# BT ideal property package\n",
    "m.fs.properties_tube = GenericParameterBlock(**configuration)"
   ]
  },
  {
   "cell_type": "markdown",
   "metadata": {},
   "source": [
    "Then, import and define the `HeatExchanger` unit, and add it to the flowsheet. As mentioned above, we will designate the shell as the hot side and the tube as the cold side. The `dynamic_heat_balance` is set to `False` in this case, meaning heat holdup in the wall material is not considered.\n",
    "\n",
    "The unit is created below:"
   ]
  },
  {
   "cell_type": "code",
   "execution_count": null,
   "metadata": {},
   "outputs": [],
   "source": [
    "# Create an instance of the heat exchanger unit, attaching it to the flowsheet\n",
    "# Specify that the property packages to be used with the heat exchanger are the ones we created earlier.\n",
    "m.fs.heat_exchanger = HeatExchangerLumpedCapacitance(\n",
    "        hot_side_name=\"shell\",\n",
    "        cold_side_name=\"tube\",\n",
    "        shell={\"property_package\": m.fs.properties_shell},\n",
    "        tube={\"property_package\": m.fs.properties_tube},\n",
    "        flow_pattern=HeatExchangerFlowPattern.crossflow,\n",
    "        dynamic_heat_balance=False,)\n",
    "\n",
    "# Call the degrees_of_freedom function, get initial DOF\n",
    "DOF_initial = degrees_of_freedom(m)\n",
    "print(\"The initial DOF is {0}\".format(DOF_initial))"
   ]
  },
  {
   "cell_type": "code",
   "execution_count": null,
   "metadata": {
    "tags": [
     "testing"
    ]
   },
   "outputs": [],
   "source": [
    "assert DOF_initial == 12"
   ]
  },
  {
   "cell_type": "markdown",
   "metadata": {},
   "source": [
    "## Fixing input specifications\n",
    "In the following cell, we will use a function to calculate enthalpy and then specify all of the necessary inputs for the heat exchanger."
   ]
  },
  {
   "cell_type": "code",
   "execution_count": null,
   "metadata": {},
   "outputs": [],
   "source": [
    "h = htpx(400*units.K, P = 101325*units.Pa)  # calculate IAPWS enthalpy\n",
    "\n",
    "# Fix the inlet conditions\n",
    "m.fs.heat_exchanger.shell_inlet.flow_mol.fix(100) # mol/s\n",
    "m.fs.heat_exchanger.shell_inlet.pressure.fix(101325) # Pa\n",
    "m.fs.heat_exchanger.shell_inlet.enth_mol.fix(h) # J/mol\n",
    "\n",
    "DOF_initial = degrees_of_freedom(m)\n",
    "print(\"The DOF is {0}\".format(DOF_initial))"
   ]
  },
  {
   "cell_type": "code",
   "execution_count": null,
   "metadata": {},
   "outputs": [],
   "source": [
    "m.fs.heat_exchanger.tube_inlet.flow_mol.fix(250) # mol/s\n",
    "m.fs.heat_exchanger.tube_inlet.mole_frac_comp[0, \"benzene\"].fix(0.4)\n",
    "m.fs.heat_exchanger.tube_inlet.mole_frac_comp[0, \"toluene\"].fix(0.6)\n",
    "m.fs.heat_exchanger.tube_inlet.pressure.fix(101325) # Pa\n",
    "m.fs.heat_exchanger.tube_inlet.temperature[0].fix(380) # K\n",
    "\n",
    "# Call the degrees_of_freedom function, get final DOF\n",
    "DOF_final = degrees_of_freedom(m)\n",
    "print(\"The DOF is {0}\".format(DOF_final))"
   ]
  },
  {
   "cell_type": "markdown",
   "metadata": {},
   "source": [
    "### Fix overall heat transfer coefficient (HTC) and the heat transfer area\n",
    "Unlike the other heat exchanger unit models which only require one heat transfer coeffcient, the lump-capacitance model requires an overall heat transfer coeffcient to be specified for the hot and cold sides. Below, we fix the heat exchanger area and heat transfer coefficients, which yields a fully defined problem with zero degrees of freedom that may be initialized and solved:"
   ]
  },
  {
   "cell_type": "code",
   "execution_count": null,
   "metadata": {},
   "outputs": [],
   "source": [
    "m.fs.heat_exchanger.area.fix(50) # m2\n",
    "m.fs.heat_exchanger.ua_hot_side.fix(200 * 1000) # W/m2/K\n",
    "m.fs.heat_exchanger.ua_cold_side.fix(200 * 1000) # W/m2/K\n",
    "m.fs.heat_exchanger.crossflow_factor.fix(0.6)\n",
    "\n",
    "# Call the degrees_of_freedom function, get final DOF\n",
    "DOF_final = degrees_of_freedom(m)\n",
    "print(\"The DOF is {0}\".format(DOF_final))"
   ]
  },
  {
   "cell_type": "code",
   "execution_count": null,
   "metadata": {
    "tags": [
     "testing"
    ]
   },
   "outputs": [],
   "source": [
    "assert DOF_final == 0"
   ]
  },
  {
   "cell_type": "markdown",
   "metadata": {},
   "source": [
    "Now that the problem is square (zero degrees of freedom), we can initialize and solve the full model:"
   ]
  },
  {
   "cell_type": "code",
   "execution_count": null,
   "metadata": {},
   "outputs": [],
   "source": [
    "# Initialize the flowsheet, and set the output at INFO\n",
    "m.fs.heat_exchanger.initialize(outlvl=idaeslog.INFO)\n",
    "\n",
    "# Solve the simulation using ipopt\n",
    "# Note: If the degrees of freedom = 0, we have a square problem\n",
    "opt = get_solver()\n",
    "solve_status = opt.solve(m)\n",
    "\n",
    "# Display a readable report\n",
    "m.fs.heat_exchanger.report()"
   ]
  },
  {
   "cell_type": "code",
   "execution_count": null,
   "metadata": {
    "tags": [
     "testing"
    ]
   },
   "outputs": [],
   "source": [
    "from pyomo.environ import assert_optimal_termination\n",
    "import pytest\n",
    "\n",
    "# Check if termination condition is optimal\n",
    "assert_optimal_termination(solve_status)\n",
    "\n",
    "assert value(m.fs.heat_exchanger.shell.properties_out[0].temperature) == pytest.approx(380.0, abs=1e-2)\n",
    "assert value(m.fs.heat_exchanger.tube.properties_out[0].temperature) == pytest.approx(382.38, abs=1e-2)"
   ]
  },
  {
   "cell_type": "code",
   "execution_count": null,
   "metadata": {},
   "outputs": [],
   "source": []
  }
 ],
 "metadata": {
  "celltoolbar": "Tags",
  "kernelspec": {
   "display_name": "Python 3 (ipykernel)",
   "language": "python",
   "name": "python3"
  },
  "language_info": {
   "codemirror_mode": {
    "name": "ipython",
    "version": 3
   },
   "file_extension": ".py",
   "mimetype": "text/x-python",
   "name": "python",
   "nbconvert_exporter": "python",
   "pygments_lexer": "ipython3",
   "version": "3.7.13"
  }
 },
 "nbformat": 4,
 "nbformat_minor": 2
}
