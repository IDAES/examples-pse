{
 "cells": [
  {
   "cell_type": "markdown",
   "metadata": {},
   "source": [
    "# Tutorial: Pump Unit Model with IAPWS Property Package\n",
    "\n",
    "\n",
    "\n",
    "<img src=\"pump.svg\" alt=\"drawing\" width=\"200\"/>\n",
    "\n",
    "\n",
    "\n",
    "## Learning Outcomes\n",
    "\n",
    "- Demonstrate use of the Pump unit model in IDAES\n",
    "- Demonstrate different simulation options available\n",
    "\n",
    "\n",
    "## Problem Statement\n",
    "\n",
    "In this example, we will pump a stream of water at atmospheric pressure to a pressure of 201325 Pa using a simple pump unit model. We will be using the IAPWS property package for the water properties. It is assumed that the pump operates at steady state.\n",
    "\n",
    "The inlet specifications are as follows:\n",
    "\n",
    "* Flow Rate = 100 mol/s\n",
    "* Mole fraction (H2O) = 1\n",
    "* Pressure = 101325 Pa\n",
    "* Temperature = 298.15 K\n",
    "\n",
    "We will simulate 2 different cases, depending on the operating specifications by the user:\n",
    "\n",
    "**Case 1**:In this case, we will specify the pump efficiency and the pressure increase variable on the pump unit model.\n",
    "\n",
    "   * Pressure Increase = 100000 Pa\n",
    "   * Pump Efficiency = 0.8\n",
    "        \n",
    "**Case 2**: In this case, we will specify the pump efficiency but will specify the pressure of the outlet stream directly. \n",
    "   * Outlet Pressure = 201325 Pa\n",
    "   * Pump efficiency = 0.8\n",
    "\n",
    "IDAES documentation reference for pump model: https://idaes-pse.readthedocs.io/en/stable/"
   ]
  },
  {
   "cell_type": "markdown",
   "metadata": {},
   "source": [
    "## Setting up the problem in IDAES\n",
    "\n",
    "In the following cell, we will be importing the necessary components from Pyomo and IDAES."
   ]
  },
  {
   "cell_type": "code",
   "execution_count": null,
   "metadata": {},
   "outputs": [],
   "source": [
    "# Import objects from pyomo package \n",
    "from pyomo.environ import ConcreteModel, SolverFactory, value, units\n",
    "\n",
    "# Import the main FlowsheetBlock from IDAES. The flowsheet block will contain the unit model\n",
    "from idaes.core import FlowsheetBlock\n",
    "\n",
    "# Import idaes logger to set output levels\n",
    "import idaes.logger as idaeslog\n",
    "\n",
    "# Create the ConcreteModel and the FlowsheetBlock, and attach the flowsheet block to it.\n",
    "m = ConcreteModel()\n",
    "\n",
    "m.fs = FlowsheetBlock(dynamic=False) # dynamic or ss flowsheet needs to be specified here\n",
    "\n",
    "\n",
    "# Import the IAPWS property package to create a properties block for the flowsheet\n",
    "from idaes.models.properties import iapws95\n",
    "from idaes.models.properties.helmholtz.helmholtz import (\n",
    "    PhaseType\n",
    ")\n",
    "\n",
    "# Add properties parameter block to the flowsheet with specifications\n",
    "m.fs.properties = iapws95.Iapws95ParameterBlock(phase_presentation=PhaseType.L)"
   ]
  },
  {
   "cell_type": "markdown",
   "metadata": {},
   "source": [
    "## Case 1: Fix pressure change and pump efficiency \n"
   ]
  },
  {
   "cell_type": "markdown",
   "metadata": {},
   "source": [
    "### Add Pump Unit Model"
   ]
  },
  {
   "cell_type": "code",
   "execution_count": null,
   "metadata": {},
   "outputs": [],
   "source": [
    "# Import pump unit model from the model library\n",
    "from idaes.models.unit_models.pressure_changer import Pump\n",
    "\n",
    "# Create an instance of the pump unit, attaching it to the flowsheet\n",
    "# Specify that the property package to be used with the pump is the one we created earlier.\n",
    "m.fs.pump_case_1 = Pump(property_package=m.fs.properties)"
   ]
  },
  {
   "cell_type": "code",
   "execution_count": null,
   "metadata": {},
   "outputs": [],
   "source": [
    "# Import the degrees_of_freedom function from the idaes.core.util.model_statistics package\n",
    "# DOF = Number of Model Variables - Number of Model Constraints\n",
    "from idaes.core.util.model_statistics import degrees_of_freedom\n",
    "\n",
    "# Call the degrees_of_freedom function, get intitial DOF\n",
    "DOF_initial = degrees_of_freedom(m)\n",
    "print(\"The initial DOF is {0}\".format(DOF_initial))"
   ]
  },
  {
   "cell_type": "code",
   "execution_count": null,
   "metadata": {
    "tags": [
     "testing",
     "remove_cell"
    ]
   },
   "outputs": [],
   "source": [
    "assert DOF_initial == 5"
   ]
  },
  {
   "cell_type": "markdown",
   "metadata": {},
   "source": [
    "### Fix Inlet Stream Conditions"
   ]
  },
  {
   "cell_type": "code",
   "execution_count": null,
   "metadata": {},
   "outputs": [],
   "source": [
    "# Fix the stream inlet conditions\n",
    "m.fs.pump_case_1.inlet.flow_mol[0].fix(100) #mol/s\n",
    "\n",
    "# Use the htpx method to obtain the molar enthalpy of inlet stream based on given conditions of temperature and pressure\n",
    "m.fs.pump_case_1.inlet.enth_mol[0].fix(value(iapws95.htpx(T=298.15*units.K, P=101325*units.Pa))) #J/mol\n",
    "m.fs.pump_case_1.inlet.pressure[0].fix(101325) #Pa"
   ]
  },
  {
   "cell_type": "markdown",
   "metadata": {},
   "source": [
    "### Fix Pressure Change and Pump Efficiency"
   ]
  },
  {
   "cell_type": "code",
   "execution_count": null,
   "metadata": {},
   "outputs": [],
   "source": [
    "# Fix pump conditions\n",
    "m.fs.pump_case_1.deltaP.fix(100000)\n",
    "m.fs.pump_case_1.efficiency_pump.fix(0.8)\n",
    "\n",
    "# Call the degrees_of_freedom function, get final DOF\n",
    "DOF_final = degrees_of_freedom(m)\n",
    "print(\"The final DOF is {0}\".format(DOF_final))"
   ]
  },
  {
   "cell_type": "code",
   "execution_count": null,
   "metadata": {
    "tags": [
     "testing",
     "remove_cell"
    ]
   },
   "outputs": [],
   "source": [
    "assert DOF_final == 0"
   ]
  },
  {
   "cell_type": "markdown",
   "metadata": {},
   "source": [
    "### Initialization"
   ]
  },
  {
   "cell_type": "code",
   "execution_count": null,
   "metadata": {},
   "outputs": [],
   "source": [
    "# Initialize the flowsheet, and set the logger level to INFO\n",
    "m.fs.pump_case_1.initialize(outlvl=idaeslog.INFO)\n",
    " "
   ]
  },
  {
   "cell_type": "markdown",
   "metadata": {},
   "source": [
    "### Solve Model"
   ]
  },
  {
   "cell_type": "code",
   "execution_count": null,
   "metadata": {},
   "outputs": [],
   "source": [
    "# Solve the simulation using ipopt\n",
    "# Note: If the degrees of freedom = 0, we have a square problem\n",
    "opt = SolverFactory('ipopt')\n",
    "solve_status = opt.solve(m, tee=True)"
   ]
  },
  {
   "cell_type": "code",
   "execution_count": null,
   "metadata": {},
   "outputs": [],
   "source": []
  },
  {
   "cell_type": "code",
   "execution_count": null,
   "metadata": {
    "tags": [
     "testing",
     "remove_cell"
    ]
   },
   "outputs": [],
   "source": [
    "from pyomo.opt import TerminationCondition, SolverStatus\n",
    "\n",
    "# Check if termination condition is optimal\n",
    "assert solve_status.solver.termination_condition == TerminationCondition.optimal\n",
    "assert solve_status.solver.status == SolverStatus.ok"
   ]
  },
  {
   "cell_type": "markdown",
   "metadata": {},
   "source": [
    "### View Results"
   ]
  },
  {
   "cell_type": "code",
   "execution_count": null,
   "metadata": {},
   "outputs": [],
   "source": [
    "# Display a readable report\n",
    "m.fs.pump_case_1.report()"
   ]
  },
  {
   "cell_type": "code",
   "execution_count": null,
   "metadata": {
    "tags": [
     "testing",
     "remove_cell"
    ]
   },
   "outputs": [],
   "source": [
    "import pytest\n",
    "\n",
    "# Check results\n",
    "assert m.fs.pump_case_1.outlet.pressure[0].value == pytest.approx(201325, abs=1e-2)\n",
    "assert m.fs.pump_case_1.work_mechanical[0].value == pytest.approx(225.85, abs=1e-2)"
   ]
  },
  {
   "cell_type": "markdown",
   "metadata": {},
   "source": [
    "## Case 2: Fix outlet pressure and pump efficiency\n"
   ]
  },
  {
   "cell_type": "markdown",
   "metadata": {},
   "source": [
    "### Add Pump Unit Model"
   ]
  },
  {
   "cell_type": "code",
   "execution_count": null,
   "metadata": {},
   "outputs": [],
   "source": [
    "# Create an instance of another pump unit, attaching it to the same flowsheet\n",
    "# Specify that the property package to be used with the pump is the one we created earlier.\n",
    "m.fs.pump_case_2 = Pump(property_package=m.fs.properties)\n",
    "\n",
    "# Call the degrees_of_freedom function, get intitial DOF\n",
    "DOF_initial = degrees_of_freedom(m.fs.pump_case_2)\n",
    "print(\"The initial DOF is {0}\".format(DOF_initial))"
   ]
  },
  {
   "cell_type": "code",
   "execution_count": null,
   "metadata": {
    "tags": [
     "testing",
     "remove_cell"
    ]
   },
   "outputs": [],
   "source": [
    "assert DOF_initial == 5"
   ]
  },
  {
   "cell_type": "markdown",
   "metadata": {},
   "source": [
    "### Fix Inlet Stream Conditions"
   ]
  },
  {
   "cell_type": "code",
   "execution_count": null,
   "metadata": {},
   "outputs": [],
   "source": [
    "# Fix the stream inlet conditions\n",
    "m.fs.pump_case_2.inlet.flow_mol[0].fix(100) # mol/s\n",
    "\n",
    "# Use the htpx method to obtain the molar enthalpy of inlet stream based on given conditions of temperature and pressure\n",
    "m.fs.pump_case_2.inlet.enth_mol[0].fix(value(iapws95.htpx(T=298.15*units.K, P=101325*units.Pa))) # J/mol\n",
    "m.fs.pump_case_2.inlet.pressure[0].fix(101325) # Pa"
   ]
  },
  {
   "cell_type": "markdown",
   "metadata": {},
   "source": [
    "### Fix Outlet Pressure & Pump Efficiency"
   ]
  },
  {
   "cell_type": "code",
   "execution_count": null,
   "metadata": {},
   "outputs": [],
   "source": [
    "# Fix outlet stream conditions\n",
    "m.fs.pump_case_2.outlet.pressure[0].fix(201325)\n",
    "\n",
    "# Fix pump efficiency\n",
    "m.fs.pump_case_2.efficiency_pump.fix(0.8)"
   ]
  },
  {
   "cell_type": "code",
   "execution_count": null,
   "metadata": {},
   "outputs": [],
   "source": [
    "DOF_final = degrees_of_freedom(m.fs.pump_case_2)\n",
    "print('The final degrees of freedom is: {0}'.format(DOF_final))"
   ]
  },
  {
   "cell_type": "code",
   "execution_count": null,
   "metadata": {
    "tags": [
     "testing",
     "remove_cell"
    ]
   },
   "outputs": [],
   "source": [
    "assert DOF_final == 0"
   ]
  },
  {
   "cell_type": "markdown",
   "metadata": {},
   "source": [
    "### Initialization"
   ]
  },
  {
   "cell_type": "code",
   "execution_count": null,
   "metadata": {},
   "outputs": [],
   "source": [
    "# Initialize the flowsheet, and set the logger level to INFO\n",
    "m.fs.pump_case_2.initialize(outlvl=idaeslog.INFO)\n"
   ]
  },
  {
   "cell_type": "markdown",
   "metadata": {},
   "source": [
    "### Solve Model"
   ]
  },
  {
   "cell_type": "code",
   "execution_count": null,
   "metadata": {},
   "outputs": [],
   "source": [
    "# Solve the simulation using ipopt\n",
    "# Note: If the degrees of freedom = 0, we have a square problem\n",
    "opt = SolverFactory('ipopt')\n",
    "solve_status = opt.solve(m.fs.pump_case_2, tee=True)"
   ]
  },
  {
   "cell_type": "code",
   "execution_count": null,
   "metadata": {
    "tags": [
     "testing",
     "remove_cell"
    ]
   },
   "outputs": [],
   "source": [
    "from pyomo.opt import TerminationCondition, SolverStatus\n",
    "\n",
    "# Check if termination condition is optimal\n",
    "assert solve_status.solver.termination_condition == TerminationCondition.optimal\n",
    "assert solve_status.solver.status == SolverStatus.ok"
   ]
  },
  {
   "cell_type": "markdown",
   "metadata": {},
   "source": [
    "### View Results"
   ]
  },
  {
   "cell_type": "code",
   "execution_count": null,
   "metadata": {},
   "outputs": [],
   "source": [
    "# Display a readable report\n",
    "m.fs.pump_case_2.report()"
   ]
  },
  {
   "cell_type": "code",
   "execution_count": null,
   "metadata": {
    "tags": [
     "testing",
     "remove_cell"
    ]
   },
   "outputs": [],
   "source": [
    "# Check results\n",
    "assert m.fs.pump_case_2.deltaP[0].value == pytest.approx(100000, abs=1e-2)\n",
    "assert m.fs.pump_case_2.work_mechanical[0].value == pytest.approx(225.85, abs=1e-2)"
   ]
  }
 ],
 "metadata": {
  "celltoolbar": "Tags",
  "kernelspec": {
   "display_name": "Python 3 (ipykernel)",
   "language": "python",
   "name": "python3"
  },
  "language_info": {
   "codemirror_mode": {
    "name": "ipython",
    "version": 3
   },
   "file_extension": ".py",
   "mimetype": "text/x-python",
   "name": "python",
   "nbconvert_exporter": "python",
   "pygments_lexer": "ipython3",
   "version": "3.9.12"
  }
 },
 "nbformat": 4,
 "nbformat_minor": 2
}
