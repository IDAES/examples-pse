{
 "cells": [
  {
   "cell_type": "markdown",
   "metadata": {},
   "source": [
    "## Contents\n",
    "* Workshops\n",
    "    * [Flash Unit Model](workshops/Flash_Unit_Model/Flash_Unit_Solution.ipynb)\n",
    "    * [HDA Flowsheet Optimization](workshops/HDA_Flowsheet_Optimization/HDA_Flowsheet_Solution.ipynb)\n",
    "    * [Introduction to Python and Pyomo](workshops/Introduction_to_Python_and_Pyomo/Introduction_Short_solution.ipynb)\n",
    "* Tutorials\n",
    "    * Unit Models\n",
    "        * [Heater Unit Model with Ideal Property Package](tutorials/unit_models/heater_tutorial.ipynb) \n",
    "    *  Advanced\n",
    "        * Custom model development\n",
    "            * [Custom Heater Unit Model](tutorials/advanced/custom_model_development/Custom_Heater_Unit_Model.ipynb)\n",
    "            * [Custom Compressor Unit Model](tutorials/advanced/custom_model_development/Custom_Compressor_Unit_Model.ipynb)\n",
    "        * Data reconciliation and parameter estimation\n",
    "            * [Data Parameter Estimation for a Single Unit - Economizer](tutorials/advanced/data_recon_and_parameter_estimation/econ_parmest.ipynb)\n",
    "            * [Data Reconciliation for a Single Unit - Economizer](tutorials/advanced/data_recon_and_parameter_estimation/econ_recon.ipynb)\n",
    "* Surrogate Modeling\n",
    "    * ALAMO: [Six-hump camel function](surrogate/alamo_python/Six_Hump_Camel.ipynb)\n",
    "    * PySMO: [PySMO Tutorial](surrogate/pysmo/PySMO_Tutorial.ipynb)\n",
    "    * RIPE: [Isothermal CSTR](surrogate/ripe_python/isot_nb.ipynb)\n",
    "* MatOpt\n",
    "    * [Monometallic Nanocluster Design](matopt/1_Monometallic_Nanocluster_Design/Monometallic_Nanocluster_Design.ipynb)\n",
    "    * [Bimetallic Nanocluster Design](matopt/2_Bimetallic_Nanocluster_Design/Bimetallic_Nanocluster_Design.ipynb)\n",
    "    * [Surface Design](matopt/3_Surface_Design/Surface_Design.ipynb)\n",
    "    * [Bifunctional Surface Design](matopt/4_Bifunctional_Surface_Design/Bifunctional_Surface_Design.ipynb)\n",
    "    * [Metal Oxide Bulk Design](matopt/5_Metal_Oxide_Bulk_Design/Metal_Oxide_Bulk_Design.ipynb)"
   ]
  },
  {
   "cell_type": "markdown",
   "metadata": {},
   "source": [
    "## See also\n",
    "* [Examples documentation](https://examples-pse.readthedocs.io/en/stable/)\n",
    "* [IDAES-PSE documentation](https://idaes-pse.readthedocs.io/en/stable/index.html)\n",
    "* [IDAES home page](https://www.idaes.org)\n"
   ]
  }
 ],
 "metadata": {
  "kernelspec": {
   "display_name": "Python 3",
   "language": "python",
   "name": "python3"
  },
  "language_info": {
   "codemirror_mode": {
    "name": "ipython",
    "version": 3
   },
   "file_extension": ".py",
   "mimetype": "text/x-python",
   "name": "python",
   "nbconvert_exporter": "python",
   "pygments_lexer": "ipython3",
   "version": "3.7.7"
  }
 },
 "nbformat": 4,
 "nbformat_minor": 2
}
