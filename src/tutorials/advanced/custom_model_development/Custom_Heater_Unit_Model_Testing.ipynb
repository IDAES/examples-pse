{
 "cells": [
  {
   "cell_type": "markdown",
   "metadata": {},
   "source": [
    "# Custom Heater Unit Model"
   ]
  },
  {
   "cell_type": "code",
   "execution_count": null,
   "metadata": {},
   "outputs": [],
   "source": [
    "import pyomo.environ as pe\n",
    "from pyomo.common.config import ConfigBlock, ConfigValue, In\n",
    "from idaes.core import (ControlVolume0DBlock,\n",
    "                        declare_process_block_class,\n",
    "                        EnergyBalanceType,\n",
    "                        MomentumBalanceType,\n",
    "                        MaterialBalanceType,\n",
    "                        UnitModelBlockData,\n",
    "                        useDefault,\n",
    "                        FlowsheetBlock)\n",
    "from idaes.core.util.config import is_physical_parameter_block\n",
    "from idaes.core.util.misc import add_object_reference\n",
    "from methanol_param_VLE import PhysicalParameterBlock"
   ]
  },
  {
   "cell_type": "code",
   "execution_count": null,
   "metadata": {},
   "outputs": [],
   "source": [
    "def make_control_volume(unit, name, config):\n",
    "    if config.dynamic is not False:\n",
    "        raise ValueError('IdealGasIsentropcCompressor does not support dynamics')\n",
    "    if config.has_holdup is not False:\n",
    "        raise ValueError('IdealGasIsentropcCompressor does not support holdup')\n",
    "\n",
    "    control_volume = ControlVolume0DBlock(default={\"property_package\": config.property_package,\n",
    "                                                   \"property_package_args\": config.property_package_args})\n",
    "\n",
    "    setattr(unit, name, control_volume)\n",
    "\n",
    "    control_volume.add_state_blocks(has_phase_equilibrium=config.has_phase_equilibrium)\n",
    "    control_volume.add_material_balances(balance_type=config.material_balance_type,\n",
    "                                         has_phase_equilibrium=config.has_phase_equilibrium)\n",
    "    control_volume.add_total_enthalpy_balances(has_heat_of_reaction=False, \n",
    "                                               has_heat_transfer=True, \n",
    "                                               has_work_transfer=False)\n",
    "    control_volume.add_total_pressure_balances(has_pressure_change=False)"
   ]
  },
  {
   "cell_type": "code",
   "execution_count": null,
   "metadata": {},
   "outputs": [],
   "source": [
    "def make_config_block(config):\n",
    "    config.declare(\"material_balance_type\",\n",
    "        ConfigValue(default=MaterialBalanceType.componentPhase, domain=In(MaterialBalanceType)))\n",
    "    config.declare(\"energy_balance_type\",\n",
    "        ConfigValue(default=EnergyBalanceType.enthalpyTotal, domain=In([EnergyBalanceType.enthalpyTotal])))\n",
    "    config.declare(\"momentum_balance_type\",\n",
    "        ConfigValue(default=MomentumBalanceType.pressureTotal, domain=In([MomentumBalanceType.pressureTotal])))\n",
    "    config.declare(\"has_phase_equilibrium\",\n",
    "        ConfigValue(default=False, domain=In([False])))\n",
    "    config.declare(\"has_pressure_change\",\n",
    "        ConfigValue(default=False, domain=In([False])))\n",
    "    config.declare(\"property_package\",\n",
    "        ConfigValue(default=useDefault, domain=is_physical_parameter_block))\n",
    "    config.declare(\"property_package_args\",\n",
    "        ConfigBlock(implicit=True))"
   ]
  },
  {
   "cell_type": "code",
   "execution_count": null,
   "metadata": {},
   "outputs": [],
   "source": [
    "@declare_process_block_class(\"Heater\")\n",
    "class HeaterData(UnitModelBlockData):\n",
    "    CONFIG = UnitModelBlockData.CONFIG()\n",
    "    make_config_block(CONFIG)\n",
    "\n",
    "    def build(self):\n",
    "        super(HeaterData, self).build()\n",
    "\n",
    "        make_control_volume(self, \"control_volume\", self.config)\n",
    "\n",
    "        self.add_inlet_port()\n",
    "        self.add_outlet_port()\n",
    "        \n",
    "        add_object_reference(self, 'heat', self.control_volume.heat[0.0])"
   ]
  },
  {
   "cell_type": "code",
   "execution_count": null,
   "metadata": {},
   "outputs": [],
   "source": [
    "m = pe.ConcreteModel()\n",
    "m.fs = fs = FlowsheetBlock(default={\"dynamic\": False})\n",
    "fs.properties = props = PhysicalParameterBlock(default={'Cp': 0.038056, 'valid_phase': 'Vap'})\n",
    "\n",
    "fs.heater = Heater(default={\"property_package\": props, 'has_phase_equilibrium': False})\n",
    "fs.heater.inlet.flow_mol.fix(1)\n",
    "fs.heater.inlet.mole_frac_comp[0, 'CH3OH'].fix(0.25)\n",
    "fs.heater.inlet.mole_frac_comp[0, 'CH4'].fix(0.25)\n",
    "fs.heater.inlet.mole_frac_comp[0, 'H2'].fix(0.25)\n",
    "fs.heater.inlet.mole_frac_comp[0, 'CO'].fix(0.25)\n",
    "fs.heater.inlet.pressure.fix(0.1)\n",
    "fs.heater.inlet.temperature.fix(3)\n",
    "fs.heater.heat.fix(5)\n",
    "\n",
    "opt = pe.SolverFactory('ipopt')\n",
    "res = opt.solve(m, tee=True)\n",
    "print(res.solver.termination_condition)\n",
    "fs.heater.outlet.display()"
   ]
  },
  {
   "cell_type": "code",
   "execution_count": null,
   "metadata": {},
   "outputs": [],
   "source": [
    "# For testing purposes\n",
    "from pyomo.environ import TerminationCondition, value\n",
    "import pytest\n",
    "\n",
    "assert res.solver.termination_condition == TerminationCondition.optimal\n",
    "assert value(fs.heater.outlet.temperature[0]) == pytest.approx(4.3138, abs=1e-3)"
   ]
  },
  {
   "cell_type": "code",
   "execution_count": null,
   "metadata": {},
   "outputs": [],
   "source": []
  },
  {
   "cell_type": "code",
   "execution_count": null,
   "metadata": {
    "tags": [
     "remove_cell",
     "testing"
    ]
   },
   "outputs": [],
   "source": [
    "assert True  # need one testing tag to activate notebook renaming"
   ]
  }
 ],
 "metadata": {
  "celltoolbar": "Tags",
  "kernelspec": {
   "display_name": "Python 3",
   "language": "python",
   "name": "python3"
  },
  "language_info": {
   "codemirror_mode": {
    "name": "ipython",
    "version": 3
   },
   "file_extension": ".py",
   "mimetype": "text/x-python",
   "name": "python",
   "nbconvert_exporter": "python",
   "pygments_lexer": "ipython3",
   "version": "3.8.3"
  }
 },
 "nbformat": 4,
 "nbformat_minor": 4
}
