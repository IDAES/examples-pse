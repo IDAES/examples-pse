{
 "cells": [
  {
   "cell_type": "markdown",
   "metadata": {},
   "source": [
    "# Tutorial: Heat Exchanger 0D Unit Model with Ideal & IAPWS Property Package\n",
    "\n",
    "![](heat_exchanger_4.svg)\n",
    "\n",
    "**Problem Statement**: Consider the process of heating a Benzene-Toluene mixture with the following inlet specificatons:\n",
    "\n",
    "**Tube Side Inlet**\n",
    "\n",
    "Flow Rate = 20 kmol/hr\n",
    "\n",
    "Mole fraction (Benzene) = 0.4\n",
    "\n",
    "Mole fraction (Toluene) = 0.6\n",
    "\n",
    "Pressure = 101325 Pa\n",
    "\n",
    "Temperature = 353 K\n",
    "\n",
    "**Shell Side Inlet**\n",
    "\n",
    "Flow Rate = 1 kmol/hr\n",
    "\n",
    "Mole fraction (Steam) = 1\n",
    "\n",
    "Pressure = 101325 Pa\n",
    "\n",
    "Temperature = 410 K\n",
    "\n",
    "We will study the simulation of the 0D heat exchanger as follows, by fixing the possible degrees of freedom (heat transfer area, overall heat transfer coefficient and minimum approach temperature) two at a time:\n",
    "\n",
    "1. Heat the BT mixture with an overall HTC of 500 W/m^2.K, and heat transfer area of 5 m^2\n",
    "\n",
    "IDAES documentation reference for heat excahnger 0D model: https://idaespse.readthedocs.io/en/stable/models/heat_exchanger.html"
   ]
  },
  {
   "cell_type": "markdown",
   "metadata": {},
   "source": [
    "**Setting up the problem in IDAES**"
   ]
  },
  {
   "cell_type": "code",
   "execution_count": 1,
   "metadata": {
    "scrolled": true
   },
   "outputs": [
    {
     "ename": "ModuleNotFoundError",
     "evalue": "No module named 'pyomo.dae.set_utils'",
     "output_type": "error",
     "traceback": [
      "\u001b[1;31m---------------------------------------------------------------------------\u001b[0m",
      "\u001b[1;31mModuleNotFoundError\u001b[0m                       Traceback (most recent call last)",
      "\u001b[1;32m<ipython-input-1-3b44087b229d>\u001b[0m in \u001b[0;36m<module>\u001b[1;34m\u001b[0m\n\u001b[0;32m     14\u001b[0m \u001b[1;33m\u001b[0m\u001b[0m\n\u001b[0;32m     15\u001b[0m \u001b[1;31m#import the BTX property package to create a properties block for the flowsheet\u001b[0m\u001b[1;33m\u001b[0m\u001b[1;33m\u001b[0m\u001b[1;33m\u001b[0m\u001b[0m\n\u001b[1;32m---> 16\u001b[1;33m \u001b[1;32mfrom\u001b[0m \u001b[0midaes\u001b[0m\u001b[1;33m.\u001b[0m\u001b[0mgeneric_models\u001b[0m\u001b[1;33m.\u001b[0m\u001b[0mproperties\u001b[0m\u001b[1;33m.\u001b[0m\u001b[0mactivity_coeff_models\u001b[0m \u001b[1;32mimport\u001b[0m \u001b[0mBTX_activity_coeff_VLE\u001b[0m\u001b[1;33m\u001b[0m\u001b[1;33m\u001b[0m\u001b[0m\n\u001b[0m\u001b[0;32m     17\u001b[0m \u001b[1;33m\u001b[0m\u001b[0m\n\u001b[0;32m     18\u001b[0m \u001b[1;31m#import the IAPWS property package to create a properties block for the flowsheet\u001b[0m\u001b[1;33m\u001b[0m\u001b[1;33m\u001b[0m\u001b[1;33m\u001b[0m\u001b[0m\n",
      "\u001b[1;32mc:\\users\\deshpana\\idaes\\idaes-dev-egs\\idaes-dev\\idaes-dev\\idaes\\generic_models\\properties\\activity_coeff_models\\BTX_activity_coeff_VLE.py\u001b[0m in \u001b[0;36m<module>\u001b[1;34m\u001b[0m\n\u001b[0;32m     26\u001b[0m \u001b[1;32mfrom\u001b[0m \u001b[0midaes\u001b[0m\u001b[1;33m.\u001b[0m\u001b[0mcore\u001b[0m\u001b[1;33m.\u001b[0m\u001b[0mutil\u001b[0m\u001b[1;33m.\u001b[0m\u001b[0mmisc\u001b[0m \u001b[1;32mimport\u001b[0m \u001b[0mextract_data\u001b[0m\u001b[1;33m\u001b[0m\u001b[1;33m\u001b[0m\u001b[0m\n\u001b[0;32m     27\u001b[0m \u001b[1;33m\u001b[0m\u001b[0m\n\u001b[1;32m---> 28\u001b[1;33m \u001b[1;32mfrom\u001b[0m \u001b[0midaes\u001b[0m\u001b[1;33m.\u001b[0m\u001b[0mgeneric_models\u001b[0m\u001b[1;33m.\u001b[0m\u001b[0mproperties\u001b[0m\u001b[1;33m.\u001b[0m\u001b[0mactivity_coeff_models\u001b[0m\u001b[1;33m.\u001b[0m\u001b[0mactivity_coeff_prop_pack\u001b[0m\u001b[0;31m \u001b[0m\u001b[0;31m\\\u001b[0m\u001b[1;33m\u001b[0m\u001b[1;33m\u001b[0m\u001b[0m\n\u001b[0m\u001b[0;32m     29\u001b[0m     \u001b[1;32mimport\u001b[0m \u001b[0mActivityCoeffParameterData\u001b[0m\u001b[1;33m\u001b[0m\u001b[1;33m\u001b[0m\u001b[0m\n\u001b[0;32m     30\u001b[0m \u001b[1;32mfrom\u001b[0m \u001b[0midaes\u001b[0m\u001b[1;33m.\u001b[0m\u001b[0mlogger\u001b[0m \u001b[1;32mimport\u001b[0m \u001b[0mgetIdaesLogger\u001b[0m\u001b[1;33m\u001b[0m\u001b[1;33m\u001b[0m\u001b[0m\n",
      "\u001b[1;32mc:\\users\\deshpana\\idaes\\idaes-dev-egs\\idaes-dev\\idaes-dev\\idaes\\generic_models\\properties\\activity_coeff_models\\activity_coeff_prop_pack.py\u001b[0m in \u001b[0;36m<module>\u001b[1;34m\u001b[0m\n\u001b[0;32m     57\u001b[0m                         \u001b[0mLiquidPhase\u001b[0m\u001b[1;33m,\u001b[0m\u001b[1;33m\u001b[0m\u001b[1;33m\u001b[0m\u001b[0m\n\u001b[0;32m     58\u001b[0m                         VaporPhase)\n\u001b[1;32m---> 59\u001b[1;33m from idaes.core.util.initialization import (fix_state_vars,\n\u001b[0m\u001b[0;32m     60\u001b[0m                                             \u001b[0mrevert_state_vars\u001b[0m\u001b[1;33m,\u001b[0m\u001b[1;33m\u001b[0m\u001b[1;33m\u001b[0m\u001b[0m\n\u001b[0;32m     61\u001b[0m                                             solve_indexed_blocks)\n",
      "\u001b[1;32mc:\\users\\deshpana\\idaes\\idaes-dev-egs\\idaes-dev\\idaes-dev\\idaes\\core\\util\\initialization.py\u001b[0m in \u001b[0;36m<module>\u001b[1;34m\u001b[0m\n\u001b[0;32m     23\u001b[0m \u001b[1;32mfrom\u001b[0m \u001b[0midaes\u001b[0m\u001b[1;33m.\u001b[0m\u001b[0mcore\u001b[0m\u001b[1;33m.\u001b[0m\u001b[0mutil\u001b[0m\u001b[1;33m.\u001b[0m\u001b[0mexceptions\u001b[0m \u001b[1;32mimport\u001b[0m \u001b[0mConfigurationError\u001b[0m\u001b[1;33m\u001b[0m\u001b[1;33m\u001b[0m\u001b[0m\n\u001b[0;32m     24\u001b[0m \u001b[1;32mfrom\u001b[0m \u001b[0midaes\u001b[0m\u001b[1;33m.\u001b[0m\u001b[0mcore\u001b[0m\u001b[1;33m.\u001b[0m\u001b[0mutil\u001b[0m\u001b[1;33m.\u001b[0m\u001b[0mmodel_statistics\u001b[0m \u001b[1;32mimport\u001b[0m \u001b[0mdegrees_of_freedom\u001b[0m\u001b[1;33m\u001b[0m\u001b[1;33m\u001b[0m\u001b[0m\n\u001b[1;32m---> 25\u001b[1;33m from idaes.core.util.dyn_utils import (get_activity_dict,\n\u001b[0m\u001b[0;32m     26\u001b[0m         \u001b[0mdeactivate_model_at\u001b[0m\u001b[1;33m,\u001b[0m \u001b[0mdeactivate_constraints_unindexed_by\u001b[0m\u001b[1;33m,\u001b[0m\u001b[1;33m\u001b[0m\u001b[1;33m\u001b[0m\u001b[0m\n\u001b[0;32m     27\u001b[0m         fix_vars_unindexed_by, get_derivatives_at, copy_values_at_time)\n",
      "\u001b[1;32mc:\\users\\deshpana\\idaes\\idaes-dev-egs\\idaes-dev\\idaes-dev\\idaes\\core\\util\\dyn_utils.py\u001b[0m in \u001b[0;36m<module>\u001b[1;34m\u001b[0m\n\u001b[0;32m     18\u001b[0m \u001b[1;32mfrom\u001b[0m \u001b[0mpyomo\u001b[0m\u001b[1;33m.\u001b[0m\u001b[0menviron\u001b[0m \u001b[1;32mimport\u001b[0m \u001b[0mBlock\u001b[0m\u001b[1;33m,\u001b[0m \u001b[0mConstraint\u001b[0m\u001b[1;33m,\u001b[0m \u001b[0mVar\u001b[0m\u001b[1;33m\u001b[0m\u001b[1;33m\u001b[0m\u001b[0m\n\u001b[0;32m     19\u001b[0m \u001b[1;32mfrom\u001b[0m \u001b[0mpyomo\u001b[0m\u001b[1;33m.\u001b[0m\u001b[0mdae\u001b[0m \u001b[1;32mimport\u001b[0m \u001b[0mContinuousSet\u001b[0m\u001b[1;33m,\u001b[0m \u001b[0mDerivativeVar\u001b[0m\u001b[1;33m\u001b[0m\u001b[1;33m\u001b[0m\u001b[0m\n\u001b[1;32m---> 20\u001b[1;33m from pyomo.dae.set_utils import (is_explicitly_indexed_by, \n\u001b[0m\u001b[0;32m     21\u001b[0m         is_in_block_indexed_by, get_index_set_except)\n\u001b[0;32m     22\u001b[0m \u001b[1;32mfrom\u001b[0m \u001b[0mpyomo\u001b[0m\u001b[1;33m.\u001b[0m\u001b[0mkernel\u001b[0m \u001b[1;32mimport\u001b[0m \u001b[0mComponentSet\u001b[0m\u001b[1;33m\u001b[0m\u001b[1;33m\u001b[0m\u001b[0m\n",
      "\u001b[1;31mModuleNotFoundError\u001b[0m: No module named 'pyomo.dae.set_utils'"
     ]
    }
   ],
   "source": [
    "# Import pyomo package \n",
    "from pyomo.environ import ConcreteModel, SolverFactory, Constraint, value\n",
    "\n",
    "# Import idaes logger to set output levels\n",
    "import idaes.logger as idaeslog\n",
    "\n",
    "# Import the main FlowsheetBlock from IDAES. The flowsheet block will contain the unit model\n",
    "from idaes.core import FlowsheetBlock\n",
    "\n",
    "#Create the ConcreteModel and the FlowsheetBlock, and attach the flowsheet block to it.\n",
    "m = ConcreteModel()\n",
    "m.fs = FlowsheetBlock(default={\"dynamic\": False})\n",
    "# Steady State Model\n",
    "\n",
    "#import the BTX property package to create a properties block for the flowsheet\n",
    "from idaes.generic_models.properties.activity_coeff_models import BTX_activity_coeff_VLE\n",
    "\n",
    "#import the IAPWS property package to create a properties block for the flowsheet\n",
    "from idaes.generic_models.properties import iapws95\n",
    "\n",
    "from idaes.generic_models.properties.iapws95 import htpx\n",
    "\n",
    "# Add properties as parameters to flowsheet directly, and attach the properties block to the flowsheet\n",
    "m.fs.properties_tube = BTX_activity_coeff_VLE.BTXParameterBlock(default={\"valid_phase\":\n",
    "                                                     'Liq',\n",
    "                                                     \"activity_coeff_model\":\n",
    "                                                     \"Ideal\"})\n",
    "m.fs.properties_shell = iapws95.Iapws95ParameterBlock()"
   ]
  },
  {
   "cell_type": "code",
   "execution_count": null,
   "metadata": {},
   "outputs": [],
   "source": [
    "#Import a heat exchanger unit\n",
    "from idaes.generic_models.unit_models.heat_exchanger import HeatExchanger\n",
    "from idaes.generic_models.unit_models.heat_exchanger import delta_temperature_amtd_callback\n",
    "\n",
    "#Create an instance of the heat exchanger unit, attaching it to the flowsheet\n",
    "#Specify that the property package to be used with the heater is the one we created earlier.\n",
    "m.fs.heat_exchanger = HeatExchanger(default={\n",
    "        \"delta_temperature_callback\":delta_temperature_amtd_callback,\n",
    "        \"shell\":{\"property_package\": m.fs.properties_shell},\n",
    "        \"tube\":{\"property_package\": m.fs.properties_tube}})\n",
    "\n",
    "#Import the degrees_of_freedom function from the idaes.core.util.model_statistics package\n",
    "from idaes.core.util.model_statistics import degrees_of_freedom\n",
    "# DOF = Number of Model Variables - Number of Model Constraints\n",
    "\n",
    "# Call the degrees_of_freedom function, get intitial DOF\n",
    "DOF_initial = degrees_of_freedom(m)\n",
    "print(\"The initial DOF is {0}\".format(DOF_initial))\n",
    "\n"
   ]
  },
  {
   "cell_type": "code",
   "execution_count": null,
   "metadata": {},
   "outputs": [],
   "source": [
    "h = htpx(450, P = 101325)\n",
    "\n",
    "print(h)\n",
    "\n",
    "#Fix the inlet conditions\n",
    "m.fs.heat_exchanger.shell_inlet.flow_mol.fix(1) #mol/s\n",
    "m.fs.heat_exchanger.shell_inlet.pressure.fix(101325)\n",
    "m.fs.heat_exchanger.shell_inlet.enth_mol.fix(h) #J/mol\n",
    "\n",
    "DOF_initial = degrees_of_freedom(m)\n",
    "print(\"The DOF is {0}\".format(DOF_initial))\n"
   ]
  },
  {
   "cell_type": "code",
   "execution_count": null,
   "metadata": {},
   "outputs": [],
   "source": [
    "m.fs.heat_exchanger.tube_inlet.flow_mol.fix(1)\n",
    "m.fs.heat_exchanger.tube_inlet.mole_frac_comp[0, \"benzene\"].fix(0.4)\n",
    "m.fs.heat_exchanger.tube_inlet.mole_frac_comp[0, \"toluene\"].fix(0.6)\n",
    "m.fs.heat_exchanger.tube_inlet.pressure.fix(101325)\n",
    "m.fs.heat_exchanger.tube_inlet.temperature[0].fix(353)\n",
    "\n",
    "#m.fs.heat_exchanger.display()\n",
    "#m.fs.heat_exchanger.tube_inlet.enth_mol[0].fix(8.57872*4184)\n",
    "#m.fs.heat_exchanger.tube_outlet.enth_mol[0].fix(9.01705*4184)\n",
    "\n",
    "#m.fs.heat_exchanger.tube_outlet.temperature[0].fix(363)\n",
    "\n",
    "#m.fs.heat_exchanger.area.fix(0.771)\n",
    "#m.fs.heat_exchanger.overall_heat_transfer_coefficient[0].fix(568)\n",
    "\n",
    "#m.fs.heat_exchanger.delta_temperature_in[0].fix(5) \n",
    "#m.fs.heat_exchanger.delta_temperature_out[0].fix(5) \n",
    "\n",
    "# Call the degrees_of_freedom function, get final DOF\n",
    "DOF_final = degrees_of_freedom(m)\n",
    "print(\"The DOF is {0}\".format(DOF_final))"
   ]
  },
  {
   "cell_type": "code",
   "execution_count": null,
   "metadata": {},
   "outputs": [],
   "source": [
    "m.fs.heat_exchanger.area.fix(5) #m2\n",
    "m.fs.heat_exchanger.overall_heat_transfer_coefficient[0].fix(500) #W/m2/K\n",
    "\n",
    "# Call the degrees_of_freedom function, get final DOF\n",
    "DOF_final = degrees_of_freedom(m)\n",
    "print(\"The DOF is {0}\".format(DOF_final))"
   ]
  },
  {
   "cell_type": "code",
   "execution_count": null,
   "metadata": {},
   "outputs": [],
   "source": [
    "#Initialize the flowsheet, and set the output at WARNING\n",
    "m.fs.heat_exchanger.initialize(outlvl=idaeslog.INFO)\n",
    "\n",
    "#Solve the simulation using ipopt\n",
    "#Note: If the degrees of freedom = 0, we have a square problem\n",
    "opt = SolverFactory('ipopt')\n",
    "result = opt.solve(m)\n",
    "\n",
    "#Display a readable report\n",
    "m.fs.heat_exchanger.report()"
   ]
  },
  {
   "cell_type": "code",
   "execution_count": null,
   "metadata": {},
   "outputs": [],
   "source": []
  }
 ],
 "metadata": {
  "kernelspec": {
   "display_name": "Python 3",
   "language": "python",
   "name": "python3"
  },
  "language_info": {
   "codemirror_mode": {
    "name": "ipython",
    "version": 3
   },
   "file_extension": ".py",
   "mimetype": "text/x-python",
   "name": "python",
   "nbconvert_exporter": "python",
   "pygments_lexer": "ipython3",
   "version": "3.7.4"
  }
 },
 "nbformat": 4,
 "nbformat_minor": 2
}
