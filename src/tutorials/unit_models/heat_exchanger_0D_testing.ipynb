{
 "cells": [
  {
   "cell_type": "markdown",
   "metadata": {},
   "source": [
    "# Tutorial: Heat Exchanger 0D Unit Model with Ideal & IAPWS Property Package\n",
    "\n",
    "![](heat_exchanger_4.svg)\n",
    "\n",
    "**Problem Statement**: Consider the process of heating a Benzene-Toluene mixture with the following inlet specificatons:\n",
    "\n",
    "**Tube Side Inlet**\n",
    "\n",
    "Flow Rate = 20 kmol/hr\n",
    "\n",
    "Mole fraction (Benzene) = 0.4\n",
    "\n",
    "Mole fraction (Toluene) = 0.6\n",
    "\n",
    "Pressure = 101325 Pa\n",
    "\n",
    "Temperature = 353 K\n",
    "\n",
    "**Shell Side Inlet**\n",
    "\n",
    "Flow Rate = 1 kmol/hr\n",
    "\n",
    "Mole fraction (Steam) = 1\n",
    "\n",
    "Pressure = 101325 Pa\n",
    "\n",
    "Temperature = 410 K\n",
    "\n",
    "We will study the simulation of the 0D heat exchanger as follows, by fixing the possible degrees of freedom (heat transfer area, overall heat transfer coefficient and minimum approach temperature) two at a time:\n",
    "\n",
    "1. Heat the BT mixture with an overall HTC of 500 W/m^2.K, and heat transfer area of 5 m^2\n",
    "\n",
    "IDAES documentation reference for heat excahnger 0D model: https://idaespse.readthedocs.io/en/stable/models/heat_exchanger.html"
   ]
  },
  {
   "cell_type": "markdown",
   "metadata": {},
   "source": [
    "**Setting up the problem in IDAES**"
   ]
  },
  {
   "cell_type": "code",
   "execution_count": 1,
   "metadata": {
    "scrolled": true
   },
   "outputs": [],
   "source": [
    "# Import pyomo package \n",
    "from pyomo.environ import ConcreteModel, SolverFactory, Constraint, value\n",
    "\n",
    "# Import idaes logger to set output levels\n",
    "import idaes.logger as idaeslog\n",
    "\n",
    "# Import the main FlowsheetBlock from IDAES. The flowsheet block will contain the unit model\n",
    "from idaes.core import FlowsheetBlock\n",
    "\n",
    "#Create the ConcreteModel and the FlowsheetBlock, and attach the flowsheet block to it.\n",
    "m = ConcreteModel()\n",
    "m.fs = FlowsheetBlock(default={\"dynamic\": False})\n",
    "# Steady State Model\n",
    "\n",
    "#import the BTX property package to create a properties block for the flowsheet\n",
    "from idaes.generic_models.properties.activity_coeff_models import BTX_activity_coeff_VLE\n",
    "\n",
    "#import the IAPWS property package to create a properties block for the flowsheet\n",
    "from idaes.generic_models.properties import iapws95\n",
    "\n",
    "from idaes.generic_models.properties.iapws95 import htpx\n",
    "\n",
    "# Add properties as parameters to flowsheet directly, and attach the properties block to the flowsheet\n",
    "m.fs.properties_tube = BTX_activity_coeff_VLE.BTXParameterBlock(default={\"valid_phase\":\n",
    "                                                     'Liq',\n",
    "                                                     \"activity_coeff_model\":\n",
    "                                                     \"Ideal\"})\n",
    "m.fs.properties_shell = iapws95.Iapws95ParameterBlock()"
   ]
  },
  {
   "cell_type": "code",
   "execution_count": 2,
   "metadata": {},
   "outputs": [
    {
     "name": "stdout",
     "output_type": "stream",
     "text": [
      "The initial DOF is 10\n"
     ]
    }
   ],
   "source": [
    "#Import a heat exchanger unit\n",
    "from idaes.generic_models.unit_models.heat_exchanger import HeatExchanger\n",
    "from idaes.generic_models.unit_models.heat_exchanger import delta_temperature_amtd_callback\n",
    "\n",
    "#Create an instance of the heat exchanger unit, attaching it to the flowsheet\n",
    "#Specify that the property package to be used with the heater is the one we created earlier.\n",
    "m.fs.heat_exchanger = HeatExchanger(default={\n",
    "        \"delta_temperature_callback\":delta_temperature_amtd_callback,\n",
    "        \"shell\":{\"property_package\": m.fs.properties_shell},\n",
    "        \"tube\":{\"property_package\": m.fs.properties_tube}})\n",
    "\n",
    "#Import the degrees_of_freedom function from the idaes.core.util.model_statistics package\n",
    "from idaes.core.util.model_statistics import degrees_of_freedom\n",
    "# DOF = Number of Model Variables - Number of Model Constraints\n",
    "\n",
    "# Call the degrees_of_freedom function, get intitial DOF\n",
    "DOF_initial = degrees_of_freedom(m)\n",
    "print(\"The initial DOF is {0}\".format(DOF_initial))\n",
    "\n"
   ]
  },
  {
   "cell_type": "code",
   "execution_count": 3,
   "metadata": {},
   "outputs": [
    {
     "name": "stdout",
     "output_type": "stream",
     "text": [
      "50977.08886058933\n",
      "The DOF is 7\n"
     ]
    }
   ],
   "source": [
    "h = htpx(450, P = 101325)\n",
    "\n",
    "print(h)\n",
    "\n",
    "#Fix the inlet conditions\n",
    "m.fs.heat_exchanger.shell_inlet.flow_mol.fix(1) #mol/s\n",
    "m.fs.heat_exchanger.shell_inlet.pressure.fix(101325)\n",
    "m.fs.heat_exchanger.shell_inlet.enth_mol.fix(h) #J/mol\n",
    "\n",
    "DOF_initial = degrees_of_freedom(m)\n",
    "print(\"The DOF is {0}\".format(DOF_initial))\n"
   ]
  },
  {
   "cell_type": "code",
   "execution_count": 4,
   "metadata": {},
   "outputs": [
    {
     "name": "stdout",
     "output_type": "stream",
     "text": [
      "The DOF is 2\n"
     ]
    }
   ],
   "source": [
    "m.fs.heat_exchanger.tube_inlet.flow_mol.fix(1)\n",
    "m.fs.heat_exchanger.tube_inlet.mole_frac_comp[0, \"benzene\"].fix(0.4)\n",
    "m.fs.heat_exchanger.tube_inlet.mole_frac_comp[0, \"toluene\"].fix(0.6)\n",
    "m.fs.heat_exchanger.tube_inlet.pressure.fix(101325)\n",
    "m.fs.heat_exchanger.tube_inlet.temperature[0].fix(410)\n",
    "\n",
    "#m.fs.heat_exchanger.display()\n",
    "#m.fs.heat_exchanger.tube_inlet.enth_mol[0].fix(8.57872*4184)\n",
    "#m.fs.heat_exchanger.tube_outlet.enth_mol[0].fix(9.01705*4184)\n",
    "\n",
    "#m.fs.heat_exchanger.tube_outlet.temperature[0].fix(363)\n",
    "\n",
    "#m.fs.heat_exchanger.area.fix(0.771)\n",
    "#m.fs.heat_exchanger.overall_heat_transfer_coefficient[0].fix(568)\n",
    "\n",
    "#m.fs.heat_exchanger.delta_temperature_in[0].fix(5) \n",
    "#m.fs.heat_exchanger.delta_temperature_out[0].fix(5) \n",
    "\n",
    "# Call the degrees_of_freedom function, get final DOF\n",
    "DOF_final = degrees_of_freedom(m)\n",
    "print(\"The DOF is {0}\".format(DOF_final))"
   ]
  },
  {
   "cell_type": "code",
   "execution_count": 5,
   "metadata": {},
   "outputs": [
    {
     "name": "stdout",
     "output_type": "stream",
     "text": [
      "The DOF is 0\n"
     ]
    }
   ],
   "source": [
    "m.fs.heat_exchanger.area.fix(2) #m2\n",
    "m.fs.heat_exchanger.overall_heat_transfer_coefficient[0].fix(500) #W/m2/K\n",
    "\n",
    "# Call the degrees_of_freedom function, get final DOF\n",
    "DOF_final = degrees_of_freedom(m)\n",
    "print(\"The DOF is {0}\".format(DOF_final))"
   ]
  },
  {
   "cell_type": "code",
   "execution_count": 6,
   "metadata": {},
   "outputs": [
    {
     "name": "stdout",
     "output_type": "stream",
     "text": [
      "2020-05-21 18:36:38 [INFO] idaes.init.fs.heat_exchanger.side_1: Initialization Complete\n",
      "2020-05-21 18:36:38 [INFO] idaes.init.fs.heat_exchanger.side_2.properties_in: Initialization Step 1 skipped.\n",
      "2020-05-21 18:36:38 [INFO] idaes.init.fs.heat_exchanger.side_2.properties_in: Initialization Step 2 optimal - Optimal Solution Found.\n",
      "2020-05-21 18:36:38 [INFO] idaes.init.fs.heat_exchanger.side_2.properties_in: Initialization Step 3 optimal - Optimal Solution Found.\n",
      "2020-05-21 18:36:38 [INFO] idaes.init.fs.heat_exchanger.side_2.properties_in: Initialization Step 4 optimal - Optimal Solution Found.\n",
      "2020-05-21 18:36:38 [INFO] idaes.init.fs.heat_exchanger.side_2.properties_in: Initialization Step 5 optimal - Optimal Solution Found.\n",
      "2020-05-21 18:36:38 [INFO] idaes.init.fs.heat_exchanger.side_2.properties_out: Initialization Step 1 skipped.\n",
      "2020-05-21 18:36:38 [INFO] idaes.init.fs.heat_exchanger.side_2.properties_out: Initialization Step 2 optimal - Optimal Solution Found.\n",
      "2020-05-21 18:36:38 [INFO] idaes.init.fs.heat_exchanger.side_2.properties_out: Initialization Step 3 optimal - Optimal Solution Found.\n",
      "2020-05-21 18:36:38 [INFO] idaes.init.fs.heat_exchanger.side_2.properties_out: Initialization Step 4 optimal - Optimal Solution Found.\n",
      "2020-05-21 18:36:38 [INFO] idaes.init.fs.heat_exchanger.side_2.properties_out: Initialization Step 5 optimal - Optimal Solution Found.\n",
      "2020-05-21 18:36:38 [INFO] idaes.init.fs.heat_exchanger.side_2.properties_out: State Released.\n",
      "2020-05-21 18:36:38 [INFO] idaes.init.fs.heat_exchanger.side_2: Initialization Complete\n",
      "2020-05-21 18:36:38 [INFO] idaes.init.fs.heat_exchanger.side_2.properties_in: State Released.\n",
      "2020-05-21 18:36:38 [INFO] idaes.init.fs.heat_exchanger: Initialization Completed, optimal - Optimal Solution Found\n",
      "\n",
      "====================================================================================\n",
      "Unit : fs.heat_exchanger                                                   Time: 0.0\n",
      "------------------------------------------------------------------------------------\n",
      "    Unit Performance\n",
      "\n",
      "    Variables: \n",
      "\n",
      "    Key            : Value  : Fixed : Bounds\n",
      "           HX Area : 2.0000 :  True : (0, None)\n",
      "    HX Coefficient : 500.00 :  True : (0, None)\n",
      "         Heat Duty : 2272.8 : False : (None, None)\n",
      "\n",
      "    Expressions: \n",
      "\n",
      "    Key             : Value\n",
      "    Delta T Driving :  2.2728\n",
      "         Delta T In :  27.809\n",
      "        Delta T Out : -23.264\n",
      "\n",
      "------------------------------------------------------------------------------------\n",
      "    Stream Table\n",
      "                                Hot Inlet  Hot Outlet  Cold Inlet  Cold Outlet\n",
      "    Molar Flow (mol/s)             1.0000      1.0000         nan         nan \n",
      "    Mass Flow (kg/s)             0.018015    0.018015         nan         nan \n",
      "    T (K)                          450.00      386.74         nan         nan \n",
      "    P (Pa)                     1.0132e+05  1.0132e+05         nan         nan \n",
      "    Vapor Fraction                 1.0000      1.0000         nan         nan \n",
      "    Molar Enthalpy (J/mol) Vap     50977.      48704.         nan         nan \n",
      "    Molar Enthalpy (J/mol) Liq     13489.      8585.3         nan         nan \n",
      "    flow_mol                          nan         nan      1.0000      1.0000 \n",
      "    mole_frac_comp benzene            nan         nan     0.40000     0.40000 \n",
      "    mole_frac_comp toluene            nan         nan     0.60000     0.60000 \n",
      "    temperature                       nan         nan      410.00      422.19 \n",
      "    pressure                          nan         nan  1.0132e+05  1.0132e+05 \n",
      "====================================================================================\n"
     ]
    }
   ],
   "source": [
    "#Initialize the flowsheet, and set the output at WARNING\n",
    "m.fs.heat_exchanger.initialize(outlvl=idaeslog.INFO)\n",
    "\n",
    "#Solve the simulation using ipopt\n",
    "#Note: If the degrees of freedom = 0, we have a square problem\n",
    "opt = SolverFactory('ipopt')\n",
    "result = opt.solve(m)\n",
    "\n",
    "#Display a readable report\n",
    "m.fs.heat_exchanger.report()"
   ]
  },
  {
   "cell_type": "code",
   "execution_count": null,
   "metadata": {},
   "outputs": [],
   "source": []
  }
 ],
 "metadata": {
  "kernelspec": {
   "display_name": "Python 3",
   "language": "python",
   "name": "python3"
  },
  "language_info": {
   "codemirror_mode": {
    "name": "ipython",
    "version": 3
   },
   "file_extension": ".py",
   "mimetype": "text/x-python",
   "name": "python",
   "nbconvert_exporter": "python",
   "pygments_lexer": "ipython3",
   "version": "3.7.4"
  }
 },
 "nbformat": 4,
 "nbformat_minor": 2
}
